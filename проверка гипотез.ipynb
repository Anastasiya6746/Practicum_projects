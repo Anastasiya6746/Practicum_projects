{
 "cells": [
  {
   "cell_type": "markdown",
   "metadata": {
    "deletable": false,
    "editable": false,
    "id": "1xwNO7BJsK7k"
   },
   "source": [
    "# Проверка гипотез в бизнесе\n",
    "В этом проекте вы попробуете себя в роли аналитика крупного сервиса проката самокатов GoFast. Компания предоставила три датасета с данными о пользователях сервиса, их поездках за один год, а также стоимости услуг в подписках. Вас просят проанализировать демографию пользователей и особенности использования самокатов, а также определить возможную выгоду от распространения платной подписки на самокаты."
   ]
  },
  {
   "cell_type": "markdown",
   "metadata": {
    "deletable": false,
    "editable": false,
    "id": "gzyXNgprsK7m"
   },
   "source": [
    "# Описание данных\n",
    "\n",
    "Таблица с пользователями `users_go.csv`\n",
    "\n",
    "- `user_id` — уникальный идентификатор пользователя.\n",
    "\n",
    "- `name` — имя пользователя.\n",
    "\n",
    "- `age` — возраст.\n",
    "\n",
    "- `city` — город.\n",
    "\n",
    "- `subscription_type` — тип подписки: `free`, `ultra`.\n",
    "\n",
    "Таблица с поездками `rides_go.csv`\n",
    "\n",
    "- `user_id` — уникальный идентификатор пользователя.\n",
    "\n",
    "- `distance` — расстояние в метрах, которое пользователь проехал в текущей сессии.\n",
    "\n",
    "- `duration` — продолжительность сессии в минутах, то есть время с того момента, как пользователь нажал кнопку «Начать поездку», до того, как он нажал кнопку «Завершить поездку».\n",
    "\n",
    "- `date` — дата совершения поездки.\n",
    "\n",
    "Таблица с подписками `subscriptions_go.csv`\n",
    "\n",
    "- `subscription_type` — тип подписки.\n",
    "\n",
    "- `minute_price` — стоимость одной минуты поездки по этой подписке.\n",
    "\n",
    "- `start_ride_price` — стоимость начала поездки.\n",
    "\n",
    "- `subscription_fee` — стоимость ежемесячного платежа."
   ]
  },
  {
   "cell_type": "markdown",
   "metadata": {
    "deletable": false,
    "editable": false,
    "id": "Gpc3MBZRsK7m"
   },
   "source": [
    "---\n",
    "## Задание 1. Загрузка данных\n",
    "На первом этапе загрузите все необходимые данные и познакомьтесь с содержанием таблиц."
   ]
  },
  {
   "cell_type": "markdown",
   "metadata": {
    "deletable": false,
    "editable": false,
    "id": "vSu11HpOsK7m",
    "tags": [
     "start_task"
    ]
   },
   "source": [
    "### Задача 1.1 Импорт библиотеки pandas\n",
    "Импортируйте библиотеку pandas с сокращением `pd`."
   ]
  },
  {
   "cell_type": "code",
   "execution_count": 1,
   "metadata": {
    "deletable": false,
    "id": "n97uaKsR7LbX"
   },
   "outputs": [],
   "source": [
    "# Импортируем библиотеки\n",
    "import pandas as pd"
   ]
  },
  {
   "cell_type": "markdown",
   "metadata": {
    "deletable": false,
    "editable": false,
    "id": "iiB5hMdMsK7n",
    "tags": [
     "start_task"
    ]
   },
   "source": [
    "### Задача 1.2 Чтение данных\n",
    "Cчитайте и сохраните в отдельные датафреймы три CSV-файла. Датафреймы назовите в соответствии с названиями файлов, добавив префикс `df_`, например `df_users_go`. Для доступа к файлам используйте следующие ссылки:\n",
    "\n",
    "- https://code.s3.yandex.net/datasets/users_go.csv\n",
    "- https://code.s3.yandex.net/datasets/rides_go.csv\n",
    "- https://code.s3.yandex.net/datasets/subscriptions_go.csv"
   ]
  },
  {
   "cell_type": "code",
   "execution_count": 2,
   "metadata": {
    "deletable": false,
    "id": "jvIwXMOz7HaE"
   },
   "outputs": [],
   "source": [
    "df_users_go =pd.read_csv('https://code.s3.yandex.net/datasets/users_go.csv')\n",
    "df_rides_go = pd.read_csv('https://code.s3.yandex.net/datasets/rides_go.csv')\n",
    "df_subscriptions_go =pd.read_csv('https://code.s3.yandex.net/datasets/subscriptions_go.csv')"
   ]
  },
  {
   "cell_type": "markdown",
   "metadata": {
    "deletable": false,
    "editable": false,
    "id": "zw-1DjajsK7o",
    "tags": [
     "start_task"
    ]
   },
   "source": [
    "### Задача 1.3 Печать первых строк\n",
    "Выведите первые пять строк каждого датафрейма. Познакомьтесь с содержанием таблиц."
   ]
  },
  {
   "cell_type": "markdown",
   "metadata": {
    "deletable": false,
    "editable": false,
    "id": "sO6J_nPe7aUd"
   },
   "source": [
    "<details>\n",
    "<summary>Открыть подсказку</summary>\n",
    "Чтобы распечатать несколько датафреймов в одной ячейке, можно воспользоваться функцией <code>display()</code>.\n",
    "</details>"
   ]
  },
  {
   "cell_type": "code",
   "execution_count": 3,
   "metadata": {
    "deletable": false,
    "id": "7aqE6vqSHZE-"
   },
   "outputs": [
    {
     "data": {
      "text/html": [
       "<div>\n",
       "<style scoped>\n",
       "    .dataframe tbody tr th:only-of-type {\n",
       "        vertical-align: middle;\n",
       "    }\n",
       "\n",
       "    .dataframe tbody tr th {\n",
       "        vertical-align: top;\n",
       "    }\n",
       "\n",
       "    .dataframe thead th {\n",
       "        text-align: right;\n",
       "    }\n",
       "</style>\n",
       "<table border=\"1\" class=\"dataframe\">\n",
       "  <thead>\n",
       "    <tr style=\"text-align: right;\">\n",
       "      <th></th>\n",
       "      <th>user_id</th>\n",
       "      <th>name</th>\n",
       "      <th>age</th>\n",
       "      <th>city</th>\n",
       "      <th>subscription_type</th>\n",
       "    </tr>\n",
       "  </thead>\n",
       "  <tbody>\n",
       "    <tr>\n",
       "      <th>0</th>\n",
       "      <td>1</td>\n",
       "      <td>Кира</td>\n",
       "      <td>22</td>\n",
       "      <td>Тюмень</td>\n",
       "      <td>ultra</td>\n",
       "    </tr>\n",
       "    <tr>\n",
       "      <th>1</th>\n",
       "      <td>2</td>\n",
       "      <td>Станислав</td>\n",
       "      <td>31</td>\n",
       "      <td>Омск</td>\n",
       "      <td>ultra</td>\n",
       "    </tr>\n",
       "    <tr>\n",
       "      <th>2</th>\n",
       "      <td>3</td>\n",
       "      <td>Алексей</td>\n",
       "      <td>20</td>\n",
       "      <td>Москва</td>\n",
       "      <td>ultra</td>\n",
       "    </tr>\n",
       "    <tr>\n",
       "      <th>3</th>\n",
       "      <td>4</td>\n",
       "      <td>Константин</td>\n",
       "      <td>26</td>\n",
       "      <td>Ростов-на-Дону</td>\n",
       "      <td>ultra</td>\n",
       "    </tr>\n",
       "    <tr>\n",
       "      <th>4</th>\n",
       "      <td>5</td>\n",
       "      <td>Адель</td>\n",
       "      <td>28</td>\n",
       "      <td>Омск</td>\n",
       "      <td>ultra</td>\n",
       "    </tr>\n",
       "  </tbody>\n",
       "</table>\n",
       "</div>"
      ],
      "text/plain": [
       "   user_id        name  age            city subscription_type\n",
       "0        1        Кира   22          Тюмень             ultra\n",
       "1        2   Станислав   31            Омск             ultra\n",
       "2        3     Алексей   20          Москва             ultra\n",
       "3        4  Константин   26  Ростов-на-Дону             ultra\n",
       "4        5       Адель   28            Омск             ultra"
      ]
     },
     "execution_count": 3,
     "metadata": {},
     "output_type": "execute_result"
    }
   ],
   "source": [
    "df_users_go.head(5)"
   ]
  },
  {
   "cell_type": "code",
   "execution_count": 4,
   "metadata": {},
   "outputs": [
    {
     "data": {
      "text/html": [
       "<div>\n",
       "<style scoped>\n",
       "    .dataframe tbody tr th:only-of-type {\n",
       "        vertical-align: middle;\n",
       "    }\n",
       "\n",
       "    .dataframe tbody tr th {\n",
       "        vertical-align: top;\n",
       "    }\n",
       "\n",
       "    .dataframe thead th {\n",
       "        text-align: right;\n",
       "    }\n",
       "</style>\n",
       "<table border=\"1\" class=\"dataframe\">\n",
       "  <thead>\n",
       "    <tr style=\"text-align: right;\">\n",
       "      <th></th>\n",
       "      <th>user_id</th>\n",
       "      <th>distance</th>\n",
       "      <th>duration</th>\n",
       "      <th>date</th>\n",
       "    </tr>\n",
       "  </thead>\n",
       "  <tbody>\n",
       "    <tr>\n",
       "      <th>0</th>\n",
       "      <td>1</td>\n",
       "      <td>4409.919140</td>\n",
       "      <td>25.599769</td>\n",
       "      <td>2021-01-01</td>\n",
       "    </tr>\n",
       "    <tr>\n",
       "      <th>1</th>\n",
       "      <td>1</td>\n",
       "      <td>2617.592153</td>\n",
       "      <td>15.816871</td>\n",
       "      <td>2021-01-18</td>\n",
       "    </tr>\n",
       "    <tr>\n",
       "      <th>2</th>\n",
       "      <td>1</td>\n",
       "      <td>754.159807</td>\n",
       "      <td>6.232113</td>\n",
       "      <td>2021-04-20</td>\n",
       "    </tr>\n",
       "    <tr>\n",
       "      <th>3</th>\n",
       "      <td>1</td>\n",
       "      <td>2694.783254</td>\n",
       "      <td>18.511000</td>\n",
       "      <td>2021-08-11</td>\n",
       "    </tr>\n",
       "    <tr>\n",
       "      <th>4</th>\n",
       "      <td>1</td>\n",
       "      <td>4028.687306</td>\n",
       "      <td>26.265803</td>\n",
       "      <td>2021-08-28</td>\n",
       "    </tr>\n",
       "  </tbody>\n",
       "</table>\n",
       "</div>"
      ],
      "text/plain": [
       "   user_id     distance   duration        date\n",
       "0        1  4409.919140  25.599769  2021-01-01\n",
       "1        1  2617.592153  15.816871  2021-01-18\n",
       "2        1   754.159807   6.232113  2021-04-20\n",
       "3        1  2694.783254  18.511000  2021-08-11\n",
       "4        1  4028.687306  26.265803  2021-08-28"
      ]
     },
     "execution_count": 4,
     "metadata": {},
     "output_type": "execute_result"
    }
   ],
   "source": [
    "df_rides_go.head(5)"
   ]
  },
  {
   "cell_type": "code",
   "execution_count": 5,
   "metadata": {},
   "outputs": [
    {
     "data": {
      "text/html": [
       "<div>\n",
       "<style scoped>\n",
       "    .dataframe tbody tr th:only-of-type {\n",
       "        vertical-align: middle;\n",
       "    }\n",
       "\n",
       "    .dataframe tbody tr th {\n",
       "        vertical-align: top;\n",
       "    }\n",
       "\n",
       "    .dataframe thead th {\n",
       "        text-align: right;\n",
       "    }\n",
       "</style>\n",
       "<table border=\"1\" class=\"dataframe\">\n",
       "  <thead>\n",
       "    <tr style=\"text-align: right;\">\n",
       "      <th></th>\n",
       "      <th>subscription_type</th>\n",
       "      <th>minute_price</th>\n",
       "      <th>start_ride_price</th>\n",
       "      <th>subscription_fee</th>\n",
       "    </tr>\n",
       "  </thead>\n",
       "  <tbody>\n",
       "    <tr>\n",
       "      <th>0</th>\n",
       "      <td>free</td>\n",
       "      <td>8</td>\n",
       "      <td>50</td>\n",
       "      <td>0</td>\n",
       "    </tr>\n",
       "    <tr>\n",
       "      <th>1</th>\n",
       "      <td>ultra</td>\n",
       "      <td>6</td>\n",
       "      <td>0</td>\n",
       "      <td>199</td>\n",
       "    </tr>\n",
       "  </tbody>\n",
       "</table>\n",
       "</div>"
      ],
      "text/plain": [
       "  subscription_type  minute_price  start_ride_price  subscription_fee\n",
       "0              free             8                50                 0\n",
       "1             ultra             6                 0               199"
      ]
     },
     "execution_count": 5,
     "metadata": {},
     "output_type": "execute_result"
    }
   ],
   "source": [
    "df_subscriptions_go.head(5)"
   ]
  },
  {
   "cell_type": "markdown",
   "metadata": {
    "deletable": false,
    "editable": false,
    "id": "zjZVYVQ3sK7p",
    "tags": [
     "start_task"
    ]
   },
   "source": [
    "### Задача 1.4 Подсчёт строк\n",
    "Определите количество строк в каждом из трёх датафреймов. Это поможет оценить объём данных и выявить аномалии, например слишком малое количество записей. В качестве ответа запишите три целых числа в одну строку через пробел."
   ]
  },
  {
   "cell_type": "code",
   "execution_count": null,
   "metadata": {
    "deletable": false,
    "id": "I-mEFxuHHavX",
    "scrolled": true
   },
   "outputs": [],
   "source": []
  },
  {
   "cell_type": "code",
   "execution_count": 6,
   "metadata": {},
   "outputs": [
    {
     "name": "stdout",
     "output_type": "stream",
     "text": [
      "1565 18068 2\n"
     ]
    }
   ],
   "source": [
    "num_rows_ultra=len(df_users_go)\n",
    "num_rows_free=len(df_rides_go)\n",
    "num_rows_agg=len(df_subscriptions_go)\n",
    "print(f'{num_rows_ultra} {num_rows_free} {num_rows_agg}')"
   ]
  },
  {
   "cell_type": "markdown",
   "metadata": {
    "deletable": false,
    "editable": false,
    "id": "xXmiI6QYsK7q"
   },
   "source": [
    "---\n",
    "## Задание 2. Знакомство с данными и их предварительная подготовка\n",
    "\n",
    "Прежде чем начать анализ, важно убедиться в качестве предоставленных данных. Выполните несколько шагов, чтобы лучше понять структуру и устранить потенциальные проблемы в таблицах."
   ]
  },
  {
   "cell_type": "markdown",
   "metadata": {
    "deletable": false,
    "editable": false,
    "id": "2D6UywOBsK7q",
    "tags": [
     "start_task"
    ]
   },
   "source": [
    "### Задача 2.1 Определение типов данных\n",
    "В датафрейме `df_rides_go` выведите типы данных каждой колонки стандартным атрибутом `dtypes`. Так вы проверите корректность типов и подготовите данные для дальнейшей обработки."
   ]
  },
  {
   "cell_type": "code",
   "execution_count": 7,
   "metadata": {
    "deletable": false,
    "id": "B40wZ2cnHfAM"
   },
   "outputs": [
    {
     "data": {
      "text/plain": [
       "user_id       int64\n",
       "distance    float64\n",
       "duration    float64\n",
       "date         object\n",
       "dtype: object"
      ]
     },
     "execution_count": 7,
     "metadata": {},
     "output_type": "execute_result"
    }
   ],
   "source": [
    "df_rides_go.dtypes"
   ]
  },
  {
   "cell_type": "markdown",
   "metadata": {
    "deletable": false,
    "editable": false,
    "id": "R0EN6gRJsK7r",
    "tags": [
     "start_task"
    ]
   },
   "source": [
    "### Задача 2.2 Преобразование формата даты\n",
    "Приведите столбец `date` в датафрейме `df_rides_go` к типу даты pandas, используя метод `pd.to_datetime()`, изученный вами в одном из прошлых спринтов. Этот шаг упростит работу с временными данными."
   ]
  },
  {
   "cell_type": "code",
   "execution_count": 8,
   "metadata": {
    "deletable": false,
    "id": "flLYZquqHggn"
   },
   "outputs": [],
   "source": [
    "df_rides_go['date']=pd.to_datetime(df_rides_go['date'])"
   ]
  },
  {
   "cell_type": "code",
   "execution_count": 9,
   "metadata": {},
   "outputs": [
    {
     "data": {
      "text/plain": [
       "user_id              int64\n",
       "distance           float64\n",
       "duration           float64\n",
       "date        datetime64[ns]\n",
       "dtype: object"
      ]
     },
     "execution_count": 9,
     "metadata": {},
     "output_type": "execute_result"
    }
   ],
   "source": [
    "df_rides_go.dtypes"
   ]
  },
  {
   "cell_type": "markdown",
   "metadata": {
    "deletable": false,
    "editable": false,
    "id": "RVxOqAqtsK7r",
    "tags": [
     "start_task"
    ]
   },
   "source": [
    "### Задача 2.3 Создание столбца с месяцем\n",
    "На основе столбца `date` создайте новый столбец `month`, содержащий номер месяца. Это нужно для последующей группировки данных и анализа сезонных трендов."
   ]
  },
  {
   "cell_type": "code",
   "execution_count": 10,
   "metadata": {
    "deletable": false,
    "id": "LYkUO3EnHhu5"
   },
   "outputs": [],
   "source": [
    "df_rides_go['month']=df_rides_go['date'].dt.month"
   ]
  },
  {
   "cell_type": "code",
   "execution_count": 11,
   "metadata": {},
   "outputs": [
    {
     "data": {
      "text/html": [
       "<div>\n",
       "<style scoped>\n",
       "    .dataframe tbody tr th:only-of-type {\n",
       "        vertical-align: middle;\n",
       "    }\n",
       "\n",
       "    .dataframe tbody tr th {\n",
       "        vertical-align: top;\n",
       "    }\n",
       "\n",
       "    .dataframe thead th {\n",
       "        text-align: right;\n",
       "    }\n",
       "</style>\n",
       "<table border=\"1\" class=\"dataframe\">\n",
       "  <thead>\n",
       "    <tr style=\"text-align: right;\">\n",
       "      <th></th>\n",
       "      <th>user_id</th>\n",
       "      <th>distance</th>\n",
       "      <th>duration</th>\n",
       "      <th>date</th>\n",
       "      <th>month</th>\n",
       "    </tr>\n",
       "  </thead>\n",
       "  <tbody>\n",
       "    <tr>\n",
       "      <th>0</th>\n",
       "      <td>1</td>\n",
       "      <td>4409.919140</td>\n",
       "      <td>25.599769</td>\n",
       "      <td>2021-01-01</td>\n",
       "      <td>1</td>\n",
       "    </tr>\n",
       "    <tr>\n",
       "      <th>1</th>\n",
       "      <td>1</td>\n",
       "      <td>2617.592153</td>\n",
       "      <td>15.816871</td>\n",
       "      <td>2021-01-18</td>\n",
       "      <td>1</td>\n",
       "    </tr>\n",
       "    <tr>\n",
       "      <th>2</th>\n",
       "      <td>1</td>\n",
       "      <td>754.159807</td>\n",
       "      <td>6.232113</td>\n",
       "      <td>2021-04-20</td>\n",
       "      <td>4</td>\n",
       "    </tr>\n",
       "    <tr>\n",
       "      <th>3</th>\n",
       "      <td>1</td>\n",
       "      <td>2694.783254</td>\n",
       "      <td>18.511000</td>\n",
       "      <td>2021-08-11</td>\n",
       "      <td>8</td>\n",
       "    </tr>\n",
       "    <tr>\n",
       "      <th>4</th>\n",
       "      <td>1</td>\n",
       "      <td>4028.687306</td>\n",
       "      <td>26.265803</td>\n",
       "      <td>2021-08-28</td>\n",
       "      <td>8</td>\n",
       "    </tr>\n",
       "  </tbody>\n",
       "</table>\n",
       "</div>"
      ],
      "text/plain": [
       "   user_id     distance   duration       date  month\n",
       "0        1  4409.919140  25.599769 2021-01-01      1\n",
       "1        1  2617.592153  15.816871 2021-01-18      1\n",
       "2        1   754.159807   6.232113 2021-04-20      4\n",
       "3        1  2694.783254  18.511000 2021-08-11      8\n",
       "4        1  4028.687306  26.265803 2021-08-28      8"
      ]
     },
     "execution_count": 11,
     "metadata": {},
     "output_type": "execute_result"
    }
   ],
   "source": [
    "df_rides_go.head(5)"
   ]
  },
  {
   "cell_type": "markdown",
   "metadata": {
    "deletable": false,
    "editable": false,
    "id": "u69-EsMDsK7w",
    "tags": [
     "start_task"
    ]
   },
   "source": [
    "### Задача 2.4 Поиск дублей и пропусков\n",
    "В датафрейме пользователей `df_users_go` определите количество пропусков и дубликатов. Это необходимо для понимания полноты и уникальности данных пользователей. Ответ выведите в виде двух целых чисел, разделённых пробелом. Например: `10 20`."
   ]
  },
  {
   "cell_type": "code",
   "execution_count": 12,
   "metadata": {},
   "outputs": [
    {
     "name": "stdout",
     "output_type": "stream",
     "text": [
      "0 31\n"
     ]
    }
   ],
   "source": [
    "missing_values_count=df_users_go.isna().sum().sum()\n",
    "duplicate_count = df_users_go.duplicated().sum()\n",
    "print(f\"{missing_values_count} {duplicate_count}\")"
   ]
  },
  {
   "cell_type": "code",
   "execution_count": null,
   "metadata": {
    "deletable": false,
    "id": "Bsfa7IX3Hi7w"
   },
   "outputs": [],
   "source": []
  },
  {
   "cell_type": "markdown",
   "metadata": {
    "deletable": false,
    "editable": false,
    "id": "0n5_KBqtsK7y",
    "tags": [
     "start_task"
    ]
   },
   "source": [
    "### Задача 2.5 Заполнение пропусков и удаление дублей\n",
    "При наличии пропущенных значений заполните их нулями, а все дубликаты удалите. Это шаг необходим для улучшения качества данных, что является ключевым для точного анализа. Все операции проводите с созданными в рамках задачи 1 датафреймами."
   ]
  },
  {
   "cell_type": "markdown",
   "metadata": {
    "deletable": false,
    "editable": false,
    "id": "0pfQQZP7-n_F"
   },
   "source": [
    "<details>\n",
    "<summary>Открыть подсказку</summary>\n",
    "Внимательно изучите результаты предыдущих шагов и определите, какие датасеты вам понадобятся.\n",
    "</details>"
   ]
  },
  {
   "cell_type": "code",
   "execution_count": 13,
   "metadata": {
    "deletable": false,
    "id": "X75yCyl_HkUS"
   },
   "outputs": [
    {
     "data": {
      "text/html": [
       "<div>\n",
       "<style scoped>\n",
       "    .dataframe tbody tr th:only-of-type {\n",
       "        vertical-align: middle;\n",
       "    }\n",
       "\n",
       "    .dataframe tbody tr th {\n",
       "        vertical-align: top;\n",
       "    }\n",
       "\n",
       "    .dataframe thead th {\n",
       "        text-align: right;\n",
       "    }\n",
       "</style>\n",
       "<table border=\"1\" class=\"dataframe\">\n",
       "  <thead>\n",
       "    <tr style=\"text-align: right;\">\n",
       "      <th></th>\n",
       "      <th>user_id</th>\n",
       "      <th>name</th>\n",
       "      <th>age</th>\n",
       "      <th>city</th>\n",
       "      <th>subscription_type</th>\n",
       "    </tr>\n",
       "  </thead>\n",
       "  <tbody>\n",
       "    <tr>\n",
       "      <th>0</th>\n",
       "      <td>1</td>\n",
       "      <td>Кира</td>\n",
       "      <td>22</td>\n",
       "      <td>Тюмень</td>\n",
       "      <td>ultra</td>\n",
       "    </tr>\n",
       "    <tr>\n",
       "      <th>1</th>\n",
       "      <td>2</td>\n",
       "      <td>Станислав</td>\n",
       "      <td>31</td>\n",
       "      <td>Омск</td>\n",
       "      <td>ultra</td>\n",
       "    </tr>\n",
       "    <tr>\n",
       "      <th>2</th>\n",
       "      <td>3</td>\n",
       "      <td>Алексей</td>\n",
       "      <td>20</td>\n",
       "      <td>Москва</td>\n",
       "      <td>ultra</td>\n",
       "    </tr>\n",
       "    <tr>\n",
       "      <th>3</th>\n",
       "      <td>4</td>\n",
       "      <td>Константин</td>\n",
       "      <td>26</td>\n",
       "      <td>Ростов-на-Дону</td>\n",
       "      <td>ultra</td>\n",
       "    </tr>\n",
       "    <tr>\n",
       "      <th>4</th>\n",
       "      <td>5</td>\n",
       "      <td>Адель</td>\n",
       "      <td>28</td>\n",
       "      <td>Омск</td>\n",
       "      <td>ultra</td>\n",
       "    </tr>\n",
       "    <tr>\n",
       "      <th>...</th>\n",
       "      <td>...</td>\n",
       "      <td>...</td>\n",
       "      <td>...</td>\n",
       "      <td>...</td>\n",
       "      <td>...</td>\n",
       "    </tr>\n",
       "    <tr>\n",
       "      <th>1529</th>\n",
       "      <td>1530</td>\n",
       "      <td>Ростислав</td>\n",
       "      <td>29</td>\n",
       "      <td>Сочи</td>\n",
       "      <td>free</td>\n",
       "    </tr>\n",
       "    <tr>\n",
       "      <th>1530</th>\n",
       "      <td>1531</td>\n",
       "      <td>Никита</td>\n",
       "      <td>25</td>\n",
       "      <td>Пятигорск</td>\n",
       "      <td>free</td>\n",
       "    </tr>\n",
       "    <tr>\n",
       "      <th>1531</th>\n",
       "      <td>1532</td>\n",
       "      <td>Алексей</td>\n",
       "      <td>26</td>\n",
       "      <td>Тюмень</td>\n",
       "      <td>free</td>\n",
       "    </tr>\n",
       "    <tr>\n",
       "      <th>1532</th>\n",
       "      <td>1533</td>\n",
       "      <td>Степан</td>\n",
       "      <td>22</td>\n",
       "      <td>Краснодар</td>\n",
       "      <td>free</td>\n",
       "    </tr>\n",
       "    <tr>\n",
       "      <th>1533</th>\n",
       "      <td>1534</td>\n",
       "      <td>Альберт</td>\n",
       "      <td>25</td>\n",
       "      <td>Краснодар</td>\n",
       "      <td>free</td>\n",
       "    </tr>\n",
       "  </tbody>\n",
       "</table>\n",
       "<p>1534 rows × 5 columns</p>\n",
       "</div>"
      ],
      "text/plain": [
       "      user_id        name  age            city subscription_type\n",
       "0           1        Кира   22          Тюмень             ultra\n",
       "1           2   Станислав   31            Омск             ultra\n",
       "2           3     Алексей   20          Москва             ultra\n",
       "3           4  Константин   26  Ростов-на-Дону             ultra\n",
       "4           5       Адель   28            Омск             ultra\n",
       "...       ...         ...  ...             ...               ...\n",
       "1529     1530   Ростислав   29            Сочи              free\n",
       "1530     1531      Никита   25       Пятигорск              free\n",
       "1531     1532     Алексей   26          Тюмень              free\n",
       "1532     1533      Степан   22       Краснодар              free\n",
       "1533     1534     Альберт   25       Краснодар              free\n",
       "\n",
       "[1534 rows x 5 columns]"
      ]
     },
     "execution_count": 13,
     "metadata": {},
     "output_type": "execute_result"
    }
   ],
   "source": [
    "df_users_go = df_users_go.drop_duplicates()\n",
    "df_users_go"
   ]
  },
  {
   "cell_type": "markdown",
   "metadata": {
    "deletable": false,
    "editable": false,
    "id": "kAGj3NxDsK7z",
    "tags": [
     "start_task"
    ]
   },
   "source": [
    "### Задача 2.6 Округление длительности поездки\n",
    "В датафрейме поездок `df_rides_go` округлите время поездки `duration` до целого числа стандартным методом `round()`. Затем приведите эту колонку к целочисленному типу `int`. Этот шаг затем поможет вам правильно рассчитать прибыль, так как плата взимается только за целое число минут."
   ]
  },
  {
   "cell_type": "code",
   "execution_count": 14,
   "metadata": {
    "deletable": false,
    "id": "pm5FYnl_HlSd"
   },
   "outputs": [],
   "source": [
    "df_rides_go['duration']=df_rides_go['duration'].round()"
   ]
  },
  {
   "cell_type": "code",
   "execution_count": 15,
   "metadata": {},
   "outputs": [
    {
     "data": {
      "text/html": [
       "<div>\n",
       "<style scoped>\n",
       "    .dataframe tbody tr th:only-of-type {\n",
       "        vertical-align: middle;\n",
       "    }\n",
       "\n",
       "    .dataframe tbody tr th {\n",
       "        vertical-align: top;\n",
       "    }\n",
       "\n",
       "    .dataframe thead th {\n",
       "        text-align: right;\n",
       "    }\n",
       "</style>\n",
       "<table border=\"1\" class=\"dataframe\">\n",
       "  <thead>\n",
       "    <tr style=\"text-align: right;\">\n",
       "      <th></th>\n",
       "      <th>user_id</th>\n",
       "      <th>distance</th>\n",
       "      <th>duration</th>\n",
       "      <th>date</th>\n",
       "      <th>month</th>\n",
       "    </tr>\n",
       "  </thead>\n",
       "  <tbody>\n",
       "    <tr>\n",
       "      <th>0</th>\n",
       "      <td>1</td>\n",
       "      <td>4409.919140</td>\n",
       "      <td>26.0</td>\n",
       "      <td>2021-01-01</td>\n",
       "      <td>1</td>\n",
       "    </tr>\n",
       "    <tr>\n",
       "      <th>1</th>\n",
       "      <td>1</td>\n",
       "      <td>2617.592153</td>\n",
       "      <td>16.0</td>\n",
       "      <td>2021-01-18</td>\n",
       "      <td>1</td>\n",
       "    </tr>\n",
       "    <tr>\n",
       "      <th>2</th>\n",
       "      <td>1</td>\n",
       "      <td>754.159807</td>\n",
       "      <td>6.0</td>\n",
       "      <td>2021-04-20</td>\n",
       "      <td>4</td>\n",
       "    </tr>\n",
       "    <tr>\n",
       "      <th>3</th>\n",
       "      <td>1</td>\n",
       "      <td>2694.783254</td>\n",
       "      <td>19.0</td>\n",
       "      <td>2021-08-11</td>\n",
       "      <td>8</td>\n",
       "    </tr>\n",
       "    <tr>\n",
       "      <th>4</th>\n",
       "      <td>1</td>\n",
       "      <td>4028.687306</td>\n",
       "      <td>26.0</td>\n",
       "      <td>2021-08-28</td>\n",
       "      <td>8</td>\n",
       "    </tr>\n",
       "  </tbody>\n",
       "</table>\n",
       "</div>"
      ],
      "text/plain": [
       "   user_id     distance  duration       date  month\n",
       "0        1  4409.919140      26.0 2021-01-01      1\n",
       "1        1  2617.592153      16.0 2021-01-18      1\n",
       "2        1   754.159807       6.0 2021-04-20      4\n",
       "3        1  2694.783254      19.0 2021-08-11      8\n",
       "4        1  4028.687306      26.0 2021-08-28      8"
      ]
     },
     "execution_count": 15,
     "metadata": {},
     "output_type": "execute_result"
    }
   ],
   "source": [
    "df_rides_go.head()"
   ]
  },
  {
   "cell_type": "code",
   "execution_count": 16,
   "metadata": {},
   "outputs": [],
   "source": [
    "df_rides_go['duration']=df_rides_go['duration'].astype(int)"
   ]
  },
  {
   "cell_type": "code",
   "execution_count": 17,
   "metadata": {},
   "outputs": [
    {
     "data": {
      "text/plain": [
       "user_id              int64\n",
       "distance           float64\n",
       "duration             int64\n",
       "date        datetime64[ns]\n",
       "month                int64\n",
       "dtype: object"
      ]
     },
     "execution_count": 17,
     "metadata": {},
     "output_type": "execute_result"
    }
   ],
   "source": [
    "df_rides_go.dtypes"
   ]
  },
  {
   "cell_type": "markdown",
   "metadata": {
    "deletable": false,
    "editable": false,
    "id": "r5kzIOGGsK7z"
   },
   "source": [
    "---\n",
    "## Задание 3. Исследовательский анализ данных (EDA)\n",
    "Исследовательский анализ данных — неотъемлемая часть работы аналитика. В этом задании вы внимательнее изучите и визуализируете информацию о географии и демографии сервиса, а также лучше поймёте закономерности в дистанциях и длительности поездок.\n"
   ]
  },
  {
   "cell_type": "markdown",
   "metadata": {
    "deletable": false,
    "editable": false,
    "id": "mnLLcghssK70",
    "tags": [
     "start_task"
    ]
   },
   "source": [
    "### Задача 3.1 Импорт библиотеки matplotlib\n",
    "Импортируйте библиотеку matplotlib.pyplot с сокращением `plt`."
   ]
  },
  {
   "cell_type": "code",
   "execution_count": 18,
   "metadata": {
    "deletable": false,
    "id": "gtf8ylhTHnBO"
   },
   "outputs": [],
   "source": [
    "# Загружаем библиотеки для визуализации данных\n",
    "import matplotlib.pyplot as plt\n",
    "import seaborn as sns\n"
   ]
  },
  {
   "cell_type": "markdown",
   "metadata": {
    "deletable": false,
    "editable": false,
    "id": "v4xEIrk1sK70",
    "tags": [
     "start_task"
    ]
   },
   "source": [
    "### Задача 3.2 Количество пользователей по городам.\n",
    "Пользуясь данными из датафрейма `df_users_go`, изучите количество пользователей в каждом из городов. Создайте и выведите на экран объект `pd.Series`, названный `users_by_city_count`, с одной колонкой `count` — суммарным количеством пользователей в каждом городе `city`, отсортированным по убыванию."
   ]
  },
  {
   "cell_type": "markdown",
   "metadata": {
    "deletable": false,
    "editable": false,
    "id": "UuAD6cGfE1Lp"
   },
   "source": [
    "<details>\n",
    "<summary>Открыть подсказку</summary>\n",
    "В этом задании можно воспользоваться методом <code>value_counts()</code>.\n",
    "</details>"
   ]
  },
  {
   "cell_type": "code",
   "execution_count": 19,
   "metadata": {
    "deletable": false,
    "id": "rkqVGZ9HHoXm"
   },
   "outputs": [
    {
     "name": "stdout",
     "output_type": "stream",
     "text": [
      "Пятигорск         219\n",
      "Екатеринбург      204\n",
      "Ростов-на-Дону    198\n",
      "Краснодар         193\n",
      "Сочи              189\n",
      "Омск              183\n",
      "Тюмень            180\n",
      "Москва            168\n",
      "Name: city, dtype: int64\n"
     ]
    }
   ],
   "source": [
    "users_by_city_count = df_users_go['city'].value_counts().sort_values(ascending=False)\n",
    "print(users_by_city_count)"
   ]
  },
  {
   "cell_type": "markdown",
   "metadata": {
    "deletable": false,
    "editable": false,
    "id": "T4MURCh8sK76",
    "tags": [
     "start_task"
    ]
   },
   "source": [
    "### Задача 3.3 Количество пользователей подписки\n",
    "Создайте и выведите на экран серию `subscription_type_count` с количеством пользователей для каждого типа подписки `subscription_type`."
   ]
  },
  {
   "cell_type": "markdown",
   "metadata": {
    "deletable": false,
    "editable": false,
    "id": "M_6HyiPdFeNH"
   },
   "source": [
    "<details>\n",
    "<summary>Открыть подсказку</summary>\n",
    "В этом задании можно воспользоваться методом <code>value_counts()</code>.\n",
    "</details>"
   ]
  },
  {
   "cell_type": "code",
   "execution_count": 20,
   "metadata": {
    "deletable": false,
    "id": "Fc_B3eFvHpum"
   },
   "outputs": [
    {
     "name": "stdout",
     "output_type": "stream",
     "text": [
      "free     835\n",
      "ultra    699\n",
      "Name: subscription_type, dtype: int64\n"
     ]
    }
   ],
   "source": [
    "subscription_type_count=df_users_go['subscription_type'].value_counts().sort_values(ascending=False)\n",
    "print(subscription_type_count)"
   ]
  },
  {
   "cell_type": "markdown",
   "metadata": {
    "deletable": false,
    "editable": false,
    "id": "O3lz5rR4sK77",
    "tags": [
     "start_task"
    ]
   },
   "source": [
    "### Задача 3.4 Круговая диаграмма\n",
    "Постройте круговую диаграмму, указав процент пользователей с `free` и `ultra` подпиской. Вызовите метод `plot()` для серии `subscription_type_count` с указанием нужного аргумента для построения круговой диаграммы.\n",
    "\n",
    "Затем добавьте следующее:\n",
    "- **Заголовок.** Установите заголовок с помощью параметра `title`, задав его как `'Соотношение пользователей с подпиской и без подписки'`.\n",
    "- **Процентные метки.** Используйте параметр `autopct='%.0f%%'` для отображения процентных значений на диаграмме. Достаточно передать аргумент в указанном виде методу `plot()`. Процентные метки часто хорошо дополняют круговые диаграммы.\n",
    "- **Подпись оси Y.** Установите пустую строку для подписи оси Y `(ylabel='')`, чтобы она не отображалась.\n",
    "- **Цвета секторов.** Используйте параметр `colors`, задав красный цвет `red` для пользователей без подписки и зелёный `green` для подписчиков.\n",
    "\n",
    "Затем вызовите `plt.show()` для отображения диаграммы."
   ]
  },
  {
   "cell_type": "code",
   "execution_count": 21,
   "metadata": {
    "deletable": false,
    "id": "xdIJI_KoHr7b"
   },
   "outputs": [
    {
     "data": {
      "image/png": "[encoded data removed]",
      "text/plain": [
       "<Figure size 432x288 with 1 Axes>"
      ]
     },
     "metadata": {},
     "output_type": "display_data"
    }
   ],
   "source": [
    "subscription_type_count.plot(\n",
    "    kind= 'pie',\n",
    "    title='Соотношение пользователей с подпиской и без подписки',\n",
    "    autopct= '%.0f%%',\n",
    "    ylabel='',\n",
    "    colors=['red', 'green']\n",
    ")\n",
    "\n",
    "plt.show()"
   ]
  },
  {
   "cell_type": "markdown",
   "metadata": {
    "deletable": false,
    "editable": false,
    "id": "AghuPrntsK78",
    "tags": [
     "start_task"
    ]
   },
   "source": [
    "### Задача 3.5 Гистограмма возрастов\n",
    "Постройте гистограмму возрастов `age` пользователей самокатов. Используйте количество бинов, равное разности максимального и минимального значений возраста.\n",
    "\n",
    "Что нужно сделать:\n",
    "\n",
    "1. Определить количество бинов `n_bins` как разницу между максимальным и минимальным значениями в столбце `age`.\n",
    "2. Использовать метод `hist()` для столбца `df_users_go['age']`.\n",
    "3. Установить количество бинов через параметр `bins=n_bins`.\n",
    "4. Назначить заголовок графика как `'Возраст пользователей'` с помощью `plt.title()`.\n",
    "5. Установить подпись оси X как `'Возраст'` с помощью `plt.xlabel()`.\n",
    "6. Вызвать `plt.show()` для визуального отображения гистограммы."
   ]
  },
  {
   "cell_type": "code",
   "execution_count": 22,
   "metadata": {
    "deletable": false,
    "id": "E-0ubIOKmbCR"
   },
   "outputs": [
    {
     "data": {
      "image/png": "[encoded data removed]",
      "text/plain": [
       "<Figure size 432x288 with 1 Axes>"
      ]
     },
     "metadata": {
      "needs_background": "light"
     },
     "output_type": "display_data"
    }
   ],
   "source": [
    "n_bins = df_users_go['age'].max() - df_users_go['age'].min()\n",
    "\n",
    "# 2. Строим гистограмму\n",
    "df_users_go['age'].hist(bins=n_bins)\n",
    "\n",
    "# 3. Назначаем заголовок графика\n",
    "plt.title('Возраст пользователей')\n",
    "\n",
    "# 4. Устанавливаем подпись оси X\n",
    "plt.xlabel('Возраст')\n",
    "\n",
    "# 5. Отображаем гистограмму\n",
    "plt.show()"
   ]
  },
  {
   "cell_type": "markdown",
   "metadata": {
    "deletable": false,
    "editable": false,
    "id": "s0gjcXIasK7-",
    "tags": [
     "start_task"
    ]
   },
   "source": [
    "### Задача 3.6 Несовершеннолетние пользователи\n",
    "Рассчитайте долю несовершеннолетних (возрастом менее 18 лет) пользователей самокатов."
   ]
  },
  {
   "cell_type": "markdown",
   "metadata": {
    "deletable": false,
    "editable": false,
    "id": "7VY_FIj0Ifet"
   },
   "source": [
    "<details>\n",
    "<summary>Открыть подсказку</summary>\n",
    "Для начала необходимо рассчитать количество пользователей младше 18 лет — для этого вспомните принцип использования логических масок в pandas. Затем полученное значение следует разделить на количество строк в таблице. Получить его можно, например, из кортежа, который выдаёт атрибут <code>shape</code>.\n",
    "</details>"
   ]
  },
  {
   "cell_type": "code",
   "execution_count": 23,
   "metadata": {
    "deletable": false,
    "id": "OR-1q5LJI9UK"
   },
   "outputs": [
    {
     "name": "stdout",
     "output_type": "stream",
     "text": [
      "Доля несовершеннолетних пользователей самокатов составляет 5%.\n"
     ]
    }
   ],
   "source": [
    "# Рассчитываем количество пользователей младше 18 лет\n",
    "users_under_18 = df_users_go[df_users_go['age'] < 18]['age'].count()\n",
    "\n",
    "# Рассчитываем общее количество пользователей\n",
    "total_users = df_users_go.shape[0]\n",
    "\n",
    "# Рассчитываем долю несовершеннолетних пользователей\n",
    "users_under_18_ratio =int(users_under_18 / total_users * 100)\n",
    "\n",
    "print(f'Доля несовершеннолетних пользователей самокатов составляет {users_under_18_ratio}%.')"
   ]
  },
  {
   "cell_type": "markdown",
   "metadata": {
    "deletable": false,
    "editable": false,
    "id": "FK3h1H-nP5NW",
    "tags": [
     "start_task"
    ]
   },
   "source": [
    "### Задача 3.7 Характеристики длительности поездки\n",
    "Длительность поездки является важной метрикой в работе сервиса проката самокатов. Если средняя длительность поездок будет слишком высокой, самокаты будут быстрее выходить из строя. Если слишком низкой, значит, клиентам что-то не нравится в сервисе.\n",
    "\n",
    "В этом задании с помощью описательной статистики вы изучите длительность поездок:\n",
    "\n",
    "1. Используйте колонку `duration` из датафрейма `df_rides_go`.\n",
    "2. Расчитайте среднее значение и стандартное отклонение длительности поездки. Для расчёта стандартного отклонения можно воспользоваться методом `std()`.\n",
    "3. Рассчитайте 25-й и 75-й процентили длительности поездки.\n",
    "4. Выведите на экран ответ по предложенному шаблону.\n",
    "\n",
    "Используя шаблон, сформулируйте и выведите текстовый вывод о средней длительности поездки, а также о 25-м и 75-м процентилях длительности.\n"
   ]
  },
  {
   "cell_type": "code",
   "execution_count": 24,
   "metadata": {
    "deletable": false,
    "id": "Gnhi9BqZKr3-"
   },
   "outputs": [
    {
     "name": "stdout",
     "output_type": "stream",
     "text": [
      "Средняя длительность поездки 18 минут со стандартным отклонением 6. Основная часть поездок занимает от 14 до 22 минут.\n"
     ]
    }
   ],
   "source": [
    "duration_mean =round(df_rides_go['duration'].mean())\n",
    "duration_std =round(df_rides_go['duration'].std())\n",
    "\n",
    "duration_pct25 =round(df_rides_go['duration'].quantile(0.25))\n",
    "duration_pct75 =round(df_rides_go['duration'].quantile(0.75))\n",
    "\n",
    "print(f'Средняя длительность поездки {duration_mean} минут со стандартным отклонением {duration_std}. Основная часть поездок занимает от {duration_pct25} до {duration_pct75} минут.')"
   ]
  },
  {
   "cell_type": "markdown",
   "metadata": {
    "deletable": false,
    "editable": false,
    "id": "tyrEdxs0sK8C"
   },
   "source": [
    "---\n",
    "## Задание 4. Объединение данных\n",
    "\n",
    "В самом начале урока вы загрузили три таблицы, настало время объединить все эти данные в один датафрейм."
   ]
  },
  {
   "cell_type": "markdown",
   "metadata": {
    "deletable": false,
    "editable": false,
    "id": "diTj4AtBsK8C",
    "tags": [
     "start_task"
    ]
   },
   "source": [
    "### Задача 4.1 Объединение таблицы пользователей и поездок\n",
    "Объедините датафреймы с информацией о пользователях `df_users_go` и поездках `df_rides_go`. Полученный датафрейм назовите просто `df`. При объединении используйте метод `merge()` по общей для двух таблиц колонке и тип объединения `left`."
   ]
  },
  {
   "cell_type": "code",
   "execution_count": 25,
   "metadata": {
    "deletable": false,
    "id": "WwPCouN0nhPk"
   },
   "outputs": [],
   "source": [
    "df=pd.merge(df_users_go, df_rides_go, on='user_id', how='left')"
   ]
  },
  {
   "cell_type": "markdown",
   "metadata": {
    "deletable": false,
    "editable": false,
    "id": "-RP6pSRQsK8D",
    "tags": [
     "start_task"
    ]
   },
   "source": [
    "### Задача 4.2 Присоединение информации о подписках\n",
    "Присоедините к полученному датафрейму `df` информацию о подписках из `df_subscriptions_go`, используя метод `merge()` по общей колонке и тип объединения `left`.\n"
   ]
  },
  {
   "cell_type": "code",
   "execution_count": 26,
   "metadata": {
    "deletable": false,
    "id": "G2coeCg2n6oe"
   },
   "outputs": [],
   "source": [
    "df = pd.merge(df, df_subscriptions_go, on='subscription_type', how='left')"
   ]
  },
  {
   "cell_type": "markdown",
   "metadata": {
    "deletable": false,
    "editable": false,
    "id": "RGrvW_QIsK8D",
    "tags": [
     "start_task"
    ]
   },
   "source": [
    "### Задача 4.3. Размеры объединённого датафрейма\n",
    "Для финальной проверки выведите на экран первые пять строк датафрейма, а также количество строк и столбцов полученного датафрейма `df`. Этот этап позволит убедиться, что никакие записи не потерялись при объединении."
   ]
  },
  {
   "cell_type": "code",
   "execution_count": 27,
   "metadata": {
    "deletable": false,
    "id": "9isF62fNLWAD"
   },
   "outputs": [
    {
     "data": {
      "text/html": [
       "<div>\n",
       "<style scoped>\n",
       "    .dataframe tbody tr th:only-of-type {\n",
       "        vertical-align: middle;\n",
       "    }\n",
       "\n",
       "    .dataframe tbody tr th {\n",
       "        vertical-align: top;\n",
       "    }\n",
       "\n",
       "    .dataframe thead th {\n",
       "        text-align: right;\n",
       "    }\n",
       "</style>\n",
       "<table border=\"1\" class=\"dataframe\">\n",
       "  <thead>\n",
       "    <tr style=\"text-align: right;\">\n",
       "      <th></th>\n",
       "      <th>user_id</th>\n",
       "      <th>name</th>\n",
       "      <th>age</th>\n",
       "      <th>city</th>\n",
       "      <th>subscription_type</th>\n",
       "      <th>distance</th>\n",
       "      <th>duration</th>\n",
       "      <th>date</th>\n",
       "      <th>month</th>\n",
       "      <th>minute_price</th>\n",
       "      <th>start_ride_price</th>\n",
       "      <th>subscription_fee</th>\n",
       "    </tr>\n",
       "  </thead>\n",
       "  <tbody>\n",
       "    <tr>\n",
       "      <th>0</th>\n",
       "      <td>1</td>\n",
       "      <td>Кира</td>\n",
       "      <td>22</td>\n",
       "      <td>Тюмень</td>\n",
       "      <td>ultra</td>\n",
       "      <td>4409.919140</td>\n",
       "      <td>26</td>\n",
       "      <td>2021-01-01</td>\n",
       "      <td>1</td>\n",
       "      <td>6</td>\n",
       "      <td>0</td>\n",
       "      <td>199</td>\n",
       "    </tr>\n",
       "    <tr>\n",
       "      <th>1</th>\n",
       "      <td>1</td>\n",
       "      <td>Кира</td>\n",
       "      <td>22</td>\n",
       "      <td>Тюмень</td>\n",
       "      <td>ultra</td>\n",
       "      <td>2617.592153</td>\n",
       "      <td>16</td>\n",
       "      <td>2021-01-18</td>\n",
       "      <td>1</td>\n",
       "      <td>6</td>\n",
       "      <td>0</td>\n",
       "      <td>199</td>\n",
       "    </tr>\n",
       "    <tr>\n",
       "      <th>2</th>\n",
       "      <td>1</td>\n",
       "      <td>Кира</td>\n",
       "      <td>22</td>\n",
       "      <td>Тюмень</td>\n",
       "      <td>ultra</td>\n",
       "      <td>754.159807</td>\n",
       "      <td>6</td>\n",
       "      <td>2021-04-20</td>\n",
       "      <td>4</td>\n",
       "      <td>6</td>\n",
       "      <td>0</td>\n",
       "      <td>199</td>\n",
       "    </tr>\n",
       "    <tr>\n",
       "      <th>3</th>\n",
       "      <td>1</td>\n",
       "      <td>Кира</td>\n",
       "      <td>22</td>\n",
       "      <td>Тюмень</td>\n",
       "      <td>ultra</td>\n",
       "      <td>2694.783254</td>\n",
       "      <td>19</td>\n",
       "      <td>2021-08-11</td>\n",
       "      <td>8</td>\n",
       "      <td>6</td>\n",
       "      <td>0</td>\n",
       "      <td>199</td>\n",
       "    </tr>\n",
       "    <tr>\n",
       "      <th>4</th>\n",
       "      <td>1</td>\n",
       "      <td>Кира</td>\n",
       "      <td>22</td>\n",
       "      <td>Тюмень</td>\n",
       "      <td>ultra</td>\n",
       "      <td>4028.687306</td>\n",
       "      <td>26</td>\n",
       "      <td>2021-08-28</td>\n",
       "      <td>8</td>\n",
       "      <td>6</td>\n",
       "      <td>0</td>\n",
       "      <td>199</td>\n",
       "    </tr>\n",
       "  </tbody>\n",
       "</table>\n",
       "</div>"
      ],
      "text/plain": [
       "   user_id  name  age    city subscription_type     distance  duration  \\\n",
       "0        1  Кира   22  Тюмень             ultra  4409.919140        26   \n",
       "1        1  Кира   22  Тюмень             ultra  2617.592153        16   \n",
       "2        1  Кира   22  Тюмень             ultra   754.159807         6   \n",
       "3        1  Кира   22  Тюмень             ultra  2694.783254        19   \n",
       "4        1  Кира   22  Тюмень             ultra  4028.687306        26   \n",
       "\n",
       "        date  month  minute_price  start_ride_price  subscription_fee  \n",
       "0 2021-01-01      1             6                 0               199  \n",
       "1 2021-01-18      1             6                 0               199  \n",
       "2 2021-04-20      4             6                 0               199  \n",
       "3 2021-08-11      8             6                 0               199  \n",
       "4 2021-08-28      8             6                 0               199  "
      ]
     },
     "metadata": {},
     "output_type": "display_data"
    },
    {
     "name": "stdout",
     "output_type": "stream",
     "text": [
      "В полученном датафрейме 18068 строк и 12 столбцов.\n"
     ]
    }
   ],
   "source": [
    "# Выводим первые строки датафрейма\n",
    "display(df.head())\n",
    "\n",
    "# Выводим количество строк и столбцов в объединённом датафрейме\n",
    "n_rows, n_cols = df.shape\n",
    "print(f'В полученном датафрейме {n_rows} строк и {n_cols} столбцов.')"
   ]
  },
  {
   "cell_type": "markdown",
   "metadata": {
    "deletable": false,
    "editable": false,
    "id": "j4fAbR0dsK8E",
    "tags": [
     "start_task"
    ]
   },
   "source": [
    "### Задача 4.4 Отдельные датафреймы для пользователей с подпиской и без\n",
    "Создайте два вспомогательных датафрейма на основе `df`: первый только для пользователей с подпиской `df_ultra` и второй только для пользователей без подписки `df_free`. В следующих заданиях два этих датафрейма пригодятся при изучении поведения пользователей с подпиской и без, а также при проверке продуктовых гипотез."
   ]
  },
  {
   "cell_type": "code",
   "execution_count": 28,
   "metadata": {
    "deletable": false,
    "id": "sKY6MwNNosYg"
   },
   "outputs": [],
   "source": [
    "# Создаем DataFrame для пользователей с подпиской ultra\n",
    "df_ultra = df[df['subscription_type'] == 'ultra']\n",
    "\n",
    "# Создаем DataFrame для пользователей с бесплатной подпиской (или без подписки)\n",
    "df_free = df[df['subscription_type'] == 'free']\n"
   ]
  },
  {
   "cell_type": "markdown",
   "metadata": {
    "deletable": false,
    "editable": false,
    "id": "EsOUpiJ1sK8F",
    "tags": [
     "start_task"
    ]
   },
   "source": [
    "### Задача 4.5 Гистограмма длительности поездок для обоих групп\n",
    "На одном графике постройте гистограмму распределения длительности поездок `duration` для пользователей с подпиской и без.\n",
    "\n",
    "Что нужно сделать:\n",
    "\n",
    "1. Установить размер графика: 15 по горизонтали и 5 по вертикали. Использовать `plt.figure(figsize=(15, 5))`.\n",
    "2. Отобразить данные из столбца `duration` датафрейма `df_free` с помощью метода `hist()`, задав количество бинов `bins=30` и метку `label='free'`.\n",
    "3. Отобразить данные из столбца `duration` датафрейма `df_ultra` с помощью метода `hist()`, также задав количество бинов `bins=30` и метку `label='ultra'`.\n",
    "4. Установить подпись оси X как `'Длительность поездки, мин.'`, используя `plt.xlabel()`.\n",
    "5. Задать заголовок графика как `'Гистограмма распределения длительности поездок'` методом `plt.title()`.\n",
    "6. Добавить легенду для различения категорий на графике с использованием `plt.legend()`.\n",
    "7. Вызвать `plt.show()` для показа графика пользователю.\n",
    "\n",
    "Для удобства воспользуйтесь датафреймами, созданными на прошлом шаге, — `df_ultra` и `df_free`.\n",
    "\n",
    "Дополнительно рассчитайте среднюю длительность поездки для пользователей с подпиской и без, округлив ее до целых стандартной функцией `round` и распечатайте на экран при помощи шаблона."
   ]
  },
  {
   "cell_type": "code",
   "execution_count": 29,
   "metadata": {
    "deletable": false,
    "id": "qw6ZmTHspFbc"
   },
   "outputs": [
    {
     "data": {
      "image/png": "[encoded data removed]",
      "text/plain": [
       "<Figure size 1080x360 with 1 Axes>"
      ]
     },
     "metadata": {
      "needs_background": "light"
     },
     "output_type": "display_data"
    },
    {
     "name": "stdout",
     "output_type": "stream",
     "text": [
      "Средняя длительность поездки для пользователей без подписки 17 мин, а для пользователей с подпиской 19 мин\n"
     ]
    }
   ],
   "source": [
    "# Гистограмма длительности поездки для пользователей с подпиской и без\n",
    "plt.figure(figsize=(15, 5))\n",
    "# 2. Отображаем гистограмму для df_free\n",
    "plt.hist(df_free['duration'], bins=30, label='free', alpha=0.5)  # alpha для прозрачности\n",
    "\n",
    "# 3. Отображаем гистограмму для df_ultra\n",
    "plt.hist(df_ultra['duration'], bins=30, label='ultra', alpha=0.5)  # alpha для прозрачности\n",
    "\n",
    "# 4. Устанавливаем подпись оси X\n",
    "plt.xlabel('Длительность поездки, мин.')\n",
    "\n",
    "# 5. Задаем заголовок графика\n",
    "plt.title('Гистограмма распределения длительности поездок')\n",
    "\n",
    "# 6. Добавляем легенду\n",
    "plt.legend()\n",
    "\n",
    "plt.show()\n",
    "\n",
    "# Расчет и вывод на экран средней длительности поездки для пользователей с подпиской и без\n",
    "mean_duration_free = round(df_free['duration'].mean())\n",
    "mean_duration_ultra = round(df_ultra['duration'].mean())\n",
    "print(f'Средняя длительность поездки для пользователей без подписки {mean_duration_free} мин, а для пользователей с подпиской {mean_duration_ultra} мин')"
   ]
  },
  {
   "cell_type": "markdown",
   "metadata": {
    "deletable": false,
    "editable": false,
    "id": "oasgRJ_osK8G"
   },
   "source": [
    "---\n",
    "## Задание 5. Подсчёт выручки\n",
    "Данные о количестве и длительности поездок объединены с ценами и тарифами, а значит, теперь есть всё необходимое, чтобы рассчитать важный для бизнеса показатель — выручку."
   ]
  },
  {
   "cell_type": "markdown",
   "metadata": {
    "deletable": false,
    "editable": false,
    "id": "LVBMnLV0sK8G",
    "tags": [
     "start_task"
    ]
   },
   "source": [
    "### Задача 5.1 Данные сгруппированные по нужным колонкам\n",
    "Сгруппируйте данные по следующим столбцам: `user_id`, `name`, `subscription_type`, `month`. Группировку призводите в датафрейме `df_gp`. В итоговом датафрейме `df_gp` должен сохраниться порядок агрегации изначальных столбцов и не должны использоваться групповые индексы (опция `as_index=False`).\n"
   ]
  },
  {
   "cell_type": "code",
   "execution_count": 30,
   "metadata": {
    "deletable": false,
    "id": "Ij2VX1plpVQI"
   },
   "outputs": [
    {
     "name": "stdout",
     "output_type": "stream",
     "text": [
      "       user_id     name  age       city subscription_type     distance  \\\n",
      "0            1     Кира   22     Тюмень             ultra  4409.919140   \n",
      "1            1     Кира   22     Тюмень             ultra  2617.592153   \n",
      "2            1     Кира   22     Тюмень             ultra   754.159807   \n",
      "3            1     Кира   22     Тюмень             ultra  2694.783254   \n",
      "4            1     Кира   22     Тюмень             ultra  4028.687306   \n",
      "...        ...      ...  ...        ...               ...          ...   \n",
      "18063     1534  Альберт   25  Краснодар              free  3781.098080   \n",
      "18064     1534  Альберт   25  Краснодар              free  2840.423057   \n",
      "18065     1534  Альберт   25  Краснодар              free  3826.185507   \n",
      "18066     1534  Альберт   25  Краснодар              free  2902.308661   \n",
      "18067     1534  Альберт   25  Краснодар              free  2371.711192   \n",
      "\n",
      "       duration       date  month  minute_price  start_ride_price  \\\n",
      "0            26 2021-01-01      1             6                 0   \n",
      "1            16 2021-01-18      1             6                 0   \n",
      "2             6 2021-04-20      4             6                 0   \n",
      "3            19 2021-08-11      8             6                 0   \n",
      "4            26 2021-08-28      8             6                 0   \n",
      "...         ...        ...    ...           ...               ...   \n",
      "18063        20 2021-11-04     11             8                50   \n",
      "18064        21 2021-11-16     11             8                50   \n",
      "18065        18 2021-11-18     11             8                50   \n",
      "18066        17 2021-11-27     11             8                50   \n",
      "18067        16 2021-12-29     12             8                50   \n",
      "\n",
      "       subscription_fee  \n",
      "0                   199  \n",
      "1                   199  \n",
      "2                   199  \n",
      "3                   199  \n",
      "4                   199  \n",
      "...                 ...  \n",
      "18063                 0  \n",
      "18064                 0  \n",
      "18065                 0  \n",
      "18066                 0  \n",
      "18067                 0  \n",
      "\n",
      "[18056 rows x 12 columns]\n"
     ]
    }
   ],
   "source": [
    "df_gp = df.groupby(['user_id', 'name', 'subscription_type', 'month'], as_index=False)\n",
    "print(df_gp.head()) "
   ]
  },
  {
   "cell_type": "code",
   "execution_count": 31,
   "metadata": {},
   "outputs": [
    {
     "data": {
      "text/html": [
       "<div>\n",
       "<style scoped>\n",
       "    .dataframe tbody tr th:only-of-type {\n",
       "        vertical-align: middle;\n",
       "    }\n",
       "\n",
       "    .dataframe tbody tr th {\n",
       "        vertical-align: top;\n",
       "    }\n",
       "\n",
       "    .dataframe thead th {\n",
       "        text-align: right;\n",
       "    }\n",
       "</style>\n",
       "<table border=\"1\" class=\"dataframe\">\n",
       "  <thead>\n",
       "    <tr style=\"text-align: right;\">\n",
       "      <th></th>\n",
       "      <th>user_id</th>\n",
       "      <th>name</th>\n",
       "      <th>age</th>\n",
       "      <th>city</th>\n",
       "      <th>subscription_type</th>\n",
       "      <th>distance</th>\n",
       "      <th>duration</th>\n",
       "      <th>date</th>\n",
       "      <th>month</th>\n",
       "      <th>minute_price</th>\n",
       "      <th>start_ride_price</th>\n",
       "      <th>subscription_fee</th>\n",
       "    </tr>\n",
       "  </thead>\n",
       "  <tbody>\n",
       "    <tr>\n",
       "      <th>0</th>\n",
       "      <td>1</td>\n",
       "      <td>Кира</td>\n",
       "      <td>22</td>\n",
       "      <td>Тюмень</td>\n",
       "      <td>ultra</td>\n",
       "      <td>4409.919140</td>\n",
       "      <td>26</td>\n",
       "      <td>2021-01-01</td>\n",
       "      <td>1</td>\n",
       "      <td>6</td>\n",
       "      <td>0</td>\n",
       "      <td>199</td>\n",
       "    </tr>\n",
       "    <tr>\n",
       "      <th>1</th>\n",
       "      <td>1</td>\n",
       "      <td>Кира</td>\n",
       "      <td>22</td>\n",
       "      <td>Тюмень</td>\n",
       "      <td>ultra</td>\n",
       "      <td>2617.592153</td>\n",
       "      <td>16</td>\n",
       "      <td>2021-01-18</td>\n",
       "      <td>1</td>\n",
       "      <td>6</td>\n",
       "      <td>0</td>\n",
       "      <td>199</td>\n",
       "    </tr>\n",
       "    <tr>\n",
       "      <th>2</th>\n",
       "      <td>1</td>\n",
       "      <td>Кира</td>\n",
       "      <td>22</td>\n",
       "      <td>Тюмень</td>\n",
       "      <td>ultra</td>\n",
       "      <td>754.159807</td>\n",
       "      <td>6</td>\n",
       "      <td>2021-04-20</td>\n",
       "      <td>4</td>\n",
       "      <td>6</td>\n",
       "      <td>0</td>\n",
       "      <td>199</td>\n",
       "    </tr>\n",
       "    <tr>\n",
       "      <th>3</th>\n",
       "      <td>1</td>\n",
       "      <td>Кира</td>\n",
       "      <td>22</td>\n",
       "      <td>Тюмень</td>\n",
       "      <td>ultra</td>\n",
       "      <td>2694.783254</td>\n",
       "      <td>19</td>\n",
       "      <td>2021-08-11</td>\n",
       "      <td>8</td>\n",
       "      <td>6</td>\n",
       "      <td>0</td>\n",
       "      <td>199</td>\n",
       "    </tr>\n",
       "    <tr>\n",
       "      <th>4</th>\n",
       "      <td>1</td>\n",
       "      <td>Кира</td>\n",
       "      <td>22</td>\n",
       "      <td>Тюмень</td>\n",
       "      <td>ultra</td>\n",
       "      <td>4028.687306</td>\n",
       "      <td>26</td>\n",
       "      <td>2021-08-28</td>\n",
       "      <td>8</td>\n",
       "      <td>6</td>\n",
       "      <td>0</td>\n",
       "      <td>199</td>\n",
       "    </tr>\n",
       "    <tr>\n",
       "      <th>...</th>\n",
       "      <td>...</td>\n",
       "      <td>...</td>\n",
       "      <td>...</td>\n",
       "      <td>...</td>\n",
       "      <td>...</td>\n",
       "      <td>...</td>\n",
       "      <td>...</td>\n",
       "      <td>...</td>\n",
       "      <td>...</td>\n",
       "      <td>...</td>\n",
       "      <td>...</td>\n",
       "      <td>...</td>\n",
       "    </tr>\n",
       "    <tr>\n",
       "      <th>18063</th>\n",
       "      <td>1534</td>\n",
       "      <td>Альберт</td>\n",
       "      <td>25</td>\n",
       "      <td>Краснодар</td>\n",
       "      <td>free</td>\n",
       "      <td>3781.098080</td>\n",
       "      <td>20</td>\n",
       "      <td>2021-11-04</td>\n",
       "      <td>11</td>\n",
       "      <td>8</td>\n",
       "      <td>50</td>\n",
       "      <td>0</td>\n",
       "    </tr>\n",
       "    <tr>\n",
       "      <th>18064</th>\n",
       "      <td>1534</td>\n",
       "      <td>Альберт</td>\n",
       "      <td>25</td>\n",
       "      <td>Краснодар</td>\n",
       "      <td>free</td>\n",
       "      <td>2840.423057</td>\n",
       "      <td>21</td>\n",
       "      <td>2021-11-16</td>\n",
       "      <td>11</td>\n",
       "      <td>8</td>\n",
       "      <td>50</td>\n",
       "      <td>0</td>\n",
       "    </tr>\n",
       "    <tr>\n",
       "      <th>18065</th>\n",
       "      <td>1534</td>\n",
       "      <td>Альберт</td>\n",
       "      <td>25</td>\n",
       "      <td>Краснодар</td>\n",
       "      <td>free</td>\n",
       "      <td>3826.185507</td>\n",
       "      <td>18</td>\n",
       "      <td>2021-11-18</td>\n",
       "      <td>11</td>\n",
       "      <td>8</td>\n",
       "      <td>50</td>\n",
       "      <td>0</td>\n",
       "    </tr>\n",
       "    <tr>\n",
       "      <th>18066</th>\n",
       "      <td>1534</td>\n",
       "      <td>Альберт</td>\n",
       "      <td>25</td>\n",
       "      <td>Краснодар</td>\n",
       "      <td>free</td>\n",
       "      <td>2902.308661</td>\n",
       "      <td>17</td>\n",
       "      <td>2021-11-27</td>\n",
       "      <td>11</td>\n",
       "      <td>8</td>\n",
       "      <td>50</td>\n",
       "      <td>0</td>\n",
       "    </tr>\n",
       "    <tr>\n",
       "      <th>18067</th>\n",
       "      <td>1534</td>\n",
       "      <td>Альберт</td>\n",
       "      <td>25</td>\n",
       "      <td>Краснодар</td>\n",
       "      <td>free</td>\n",
       "      <td>2371.711192</td>\n",
       "      <td>16</td>\n",
       "      <td>2021-12-29</td>\n",
       "      <td>12</td>\n",
       "      <td>8</td>\n",
       "      <td>50</td>\n",
       "      <td>0</td>\n",
       "    </tr>\n",
       "  </tbody>\n",
       "</table>\n",
       "<p>18056 rows × 12 columns</p>\n",
       "</div>"
      ],
      "text/plain": [
       "       user_id     name  age       city subscription_type     distance  \\\n",
       "0            1     Кира   22     Тюмень             ultra  4409.919140   \n",
       "1            1     Кира   22     Тюмень             ultra  2617.592153   \n",
       "2            1     Кира   22     Тюмень             ultra   754.159807   \n",
       "3            1     Кира   22     Тюмень             ultra  2694.783254   \n",
       "4            1     Кира   22     Тюмень             ultra  4028.687306   \n",
       "...        ...      ...  ...        ...               ...          ...   \n",
       "18063     1534  Альберт   25  Краснодар              free  3781.098080   \n",
       "18064     1534  Альберт   25  Краснодар              free  2840.423057   \n",
       "18065     1534  Альберт   25  Краснодар              free  3826.185507   \n",
       "18066     1534  Альберт   25  Краснодар              free  2902.308661   \n",
       "18067     1534  Альберт   25  Краснодар              free  2371.711192   \n",
       "\n",
       "       duration       date  month  minute_price  start_ride_price  \\\n",
       "0            26 2021-01-01      1             6                 0   \n",
       "1            16 2021-01-18      1             6                 0   \n",
       "2             6 2021-04-20      4             6                 0   \n",
       "3            19 2021-08-11      8             6                 0   \n",
       "4            26 2021-08-28      8             6                 0   \n",
       "...         ...        ...    ...           ...               ...   \n",
       "18063        20 2021-11-04     11             8                50   \n",
       "18064        21 2021-11-16     11             8                50   \n",
       "18065        18 2021-11-18     11             8                50   \n",
       "18066        17 2021-11-27     11             8                50   \n",
       "18067        16 2021-12-29     12             8                50   \n",
       "\n",
       "       subscription_fee  \n",
       "0                   199  \n",
       "1                   199  \n",
       "2                   199  \n",
       "3                   199  \n",
       "4                   199  \n",
       "...                 ...  \n",
       "18063                 0  \n",
       "18064                 0  \n",
       "18065                 0  \n",
       "18066                 0  \n",
       "18067                 0  \n",
       "\n",
       "[18056 rows x 12 columns]"
      ]
     },
     "execution_count": 31,
     "metadata": {},
     "output_type": "execute_result"
    }
   ],
   "source": [
    "df_gp.head()"
   ]
  },
  {
   "cell_type": "markdown",
   "metadata": {
    "deletable": false,
    "editable": false,
    "id": "UVBq7IWjsK8H",
    "tags": [
     "start_task"
    ]
   },
   "source": [
    "### Задача 5.2 Подсчёт агрегированных метрик\n",
    "Создайте новый датафрейм `df_agg`. В нём для каждой группы рассчитайте и добавьте в датафрейм следующие агрегированные значения, используя метод `agg()`:\n",
    "- `total_distance` — сумма значений в столбце `distance`.\n",
    "- `total_duration` — сумма значений в столбце `duration`.\n",
    "- `rides_count` — количество элементов в столбце `duration`.\n",
    "- `subscription_type` — первое значение в группе для столбца `subscription_type`.\n",
    "- `minute_price` — первое значение в группе для столбца `minute_price`.\n",
    "- `start_ride_price` — первое значение в группе для столбца `start_ride_price`.\n",
    "- `subscription_fee` — первое значение в группе для столбца `subscription_fee`."
   ]
  },
  {
   "cell_type": "markdown",
   "metadata": {
    "deletable": false,
    "editable": false,
    "id": "p5MR_VMxNHKs"
   },
   "source": [
    "<details>\n",
    "<summary>Открыть подсказку</summary>\n",
    "В этом задании удобнее всего сделать агрегацию с использованием кортежей.\n",
    "</details>"
   ]
  },
  {
   "cell_type": "code",
   "execution_count": 32,
   "metadata": {
    "deletable": false,
    "id": "8NEOkiIONXHF"
   },
   "outputs": [],
   "source": [
    "df_agg = df_gp.agg( # Укажите подходящий инструмент здесь\n",
    "    total_distance=('distance', 'sum'),\n",
    "    total_duration= ('duration','sum'),\n",
    "    rides_count= ('duration','count'),\n",
    "    subscription_type= ('subscription_type','first'),\n",
    "    minute_price= ('minute_price','first'),\n",
    "    start_ride_price= ('start_ride_price','first'),\n",
    "    subscription_fee= ('subscription_fee','first')\n",
    ")"
   ]
  },
  {
   "cell_type": "markdown",
   "metadata": {
    "deletable": false,
    "editable": false,
    "id": "l6uH5vWSsK8H",
    "tags": [
     "start_task"
    ]
   },
   "source": [
    "### Задача 5.3 Функция для подсчёта выручки\n",
    "Создайте функцию `calculate_monthly_revenue(row)` для расчёта месячной выручки по формуле:\n",
    "\n",
    "`monthly_revenue` = `start_ride_price` * `rides_count` + `minute_price` * `total_duration` + `subscription_fee`\n",
    "\n",
    "В качестве входных данных функция будет принимать одну строку `row` датафрейма. Вспомните, как в таком случае обращаться к каждой колонке.\n",
    "\n",
    "Здесь:\n",
    "- `start_ride_price * rides_count` — выручка от начала каждой поездки.\n",
    "- `minute_price * total_duration` — выручка за время использования.\n",
    "- `subscription_fee` — фиксированная выручка от подписок."
   ]
  },
  {
   "cell_type": "code",
   "execution_count": 33,
   "metadata": {
    "deletable": false,
    "id": "4nzdjVb8qDds"
   },
   "outputs": [],
   "source": [
    "import pandas as pd\n",
    "\n",
    "def calculate_monthly_revenue(row):\n",
    "    monthly_revenue = (row['start_ride_price'] * row['rides_count'] +\n",
    "    row['minute_price'] * row['total_duration'] +\n",
    "    row['subscription_fee'])\n",
    "   \n",
    "    return monthly_revenue\n",
    "\n",
    "\n"
   ]
  },
  {
   "cell_type": "markdown",
   "metadata": {
    "deletable": false,
    "editable": false,
    "id": "bH0zftBAsK8I",
    "tags": [
     "start_task"
    ]
   },
   "source": [
    "### Задача 5.4 Создание столбца с месячной выручкой на пользователя\n",
    "Создайте новый столбец с месячной выручкой на пользователя `monthly_revenue`. Для этого примените функцию `calculate_monthly_revenue(row)` к каждой строке агрегированного датафрейма `df_agg`."
   ]
  },
  {
   "cell_type": "code",
   "execution_count": 34,
   "metadata": {
    "deletable": false,
    "id": "iUo_b7nmqVL3"
   },
   "outputs": [
    {
     "data": {
      "text/html": [
       "<div>\n",
       "<style scoped>\n",
       "    .dataframe tbody tr th:only-of-type {\n",
       "        vertical-align: middle;\n",
       "    }\n",
       "\n",
       "    .dataframe tbody tr th {\n",
       "        vertical-align: top;\n",
       "    }\n",
       "\n",
       "    .dataframe thead th {\n",
       "        text-align: right;\n",
       "    }\n",
       "</style>\n",
       "<table border=\"1\" class=\"dataframe\">\n",
       "  <thead>\n",
       "    <tr style=\"text-align: right;\">\n",
       "      <th></th>\n",
       "      <th>user_id</th>\n",
       "      <th>name</th>\n",
       "      <th>month</th>\n",
       "      <th>total_distance</th>\n",
       "      <th>total_duration</th>\n",
       "      <th>rides_count</th>\n",
       "      <th>subscription_type</th>\n",
       "      <th>minute_price</th>\n",
       "      <th>start_ride_price</th>\n",
       "      <th>subscription_fee</th>\n",
       "      <th>monthly_revenue</th>\n",
       "    </tr>\n",
       "  </thead>\n",
       "  <tbody>\n",
       "    <tr>\n",
       "      <th>0</th>\n",
       "      <td>1</td>\n",
       "      <td>Кира</td>\n",
       "      <td>1</td>\n",
       "      <td>7027.511294</td>\n",
       "      <td>42</td>\n",
       "      <td>2</td>\n",
       "      <td>ultra</td>\n",
       "      <td>6</td>\n",
       "      <td>0</td>\n",
       "      <td>199</td>\n",
       "      <td>451</td>\n",
       "    </tr>\n",
       "    <tr>\n",
       "      <th>1</th>\n",
       "      <td>1</td>\n",
       "      <td>Кира</td>\n",
       "      <td>4</td>\n",
       "      <td>754.159807</td>\n",
       "      <td>6</td>\n",
       "      <td>1</td>\n",
       "      <td>ultra</td>\n",
       "      <td>6</td>\n",
       "      <td>0</td>\n",
       "      <td>199</td>\n",
       "      <td>235</td>\n",
       "    </tr>\n",
       "    <tr>\n",
       "      <th>2</th>\n",
       "      <td>1</td>\n",
       "      <td>Кира</td>\n",
       "      <td>8</td>\n",
       "      <td>6723.470560</td>\n",
       "      <td>45</td>\n",
       "      <td>2</td>\n",
       "      <td>ultra</td>\n",
       "      <td>6</td>\n",
       "      <td>0</td>\n",
       "      <td>199</td>\n",
       "      <td>469</td>\n",
       "    </tr>\n",
       "    <tr>\n",
       "      <th>3</th>\n",
       "      <td>1</td>\n",
       "      <td>Кира</td>\n",
       "      <td>10</td>\n",
       "      <td>5809.911100</td>\n",
       "      <td>32</td>\n",
       "      <td>2</td>\n",
       "      <td>ultra</td>\n",
       "      <td>6</td>\n",
       "      <td>0</td>\n",
       "      <td>199</td>\n",
       "      <td>391</td>\n",
       "    </tr>\n",
       "    <tr>\n",
       "      <th>4</th>\n",
       "      <td>1</td>\n",
       "      <td>Кира</td>\n",
       "      <td>11</td>\n",
       "      <td>7003.499363</td>\n",
       "      <td>53</td>\n",
       "      <td>3</td>\n",
       "      <td>ultra</td>\n",
       "      <td>6</td>\n",
       "      <td>0</td>\n",
       "      <td>199</td>\n",
       "      <td>517</td>\n",
       "    </tr>\n",
       "    <tr>\n",
       "      <th>...</th>\n",
       "      <td>...</td>\n",
       "      <td>...</td>\n",
       "      <td>...</td>\n",
       "      <td>...</td>\n",
       "      <td>...</td>\n",
       "      <td>...</td>\n",
       "      <td>...</td>\n",
       "      <td>...</td>\n",
       "      <td>...</td>\n",
       "      <td>...</td>\n",
       "      <td>...</td>\n",
       "    </tr>\n",
       "    <tr>\n",
       "      <th>11326</th>\n",
       "      <td>1534</td>\n",
       "      <td>Альберт</td>\n",
       "      <td>6</td>\n",
       "      <td>3409.468534</td>\n",
       "      <td>24</td>\n",
       "      <td>2</td>\n",
       "      <td>free</td>\n",
       "      <td>8</td>\n",
       "      <td>50</td>\n",
       "      <td>0</td>\n",
       "      <td>292</td>\n",
       "    </tr>\n",
       "    <tr>\n",
       "      <th>11327</th>\n",
       "      <td>1534</td>\n",
       "      <td>Альберт</td>\n",
       "      <td>8</td>\n",
       "      <td>7622.453034</td>\n",
       "      <td>47</td>\n",
       "      <td>2</td>\n",
       "      <td>free</td>\n",
       "      <td>8</td>\n",
       "      <td>50</td>\n",
       "      <td>0</td>\n",
       "      <td>476</td>\n",
       "    </tr>\n",
       "    <tr>\n",
       "      <th>11328</th>\n",
       "      <td>1534</td>\n",
       "      <td>Альберт</td>\n",
       "      <td>9</td>\n",
       "      <td>4928.173852</td>\n",
       "      <td>23</td>\n",
       "      <td>1</td>\n",
       "      <td>free</td>\n",
       "      <td>8</td>\n",
       "      <td>50</td>\n",
       "      <td>0</td>\n",
       "      <td>234</td>\n",
       "    </tr>\n",
       "    <tr>\n",
       "      <th>11329</th>\n",
       "      <td>1534</td>\n",
       "      <td>Альберт</td>\n",
       "      <td>11</td>\n",
       "      <td>13350.015305</td>\n",
       "      <td>76</td>\n",
       "      <td>4</td>\n",
       "      <td>free</td>\n",
       "      <td>8</td>\n",
       "      <td>50</td>\n",
       "      <td>0</td>\n",
       "      <td>808</td>\n",
       "    </tr>\n",
       "    <tr>\n",
       "      <th>11330</th>\n",
       "      <td>1534</td>\n",
       "      <td>Альберт</td>\n",
       "      <td>12</td>\n",
       "      <td>2371.711192</td>\n",
       "      <td>16</td>\n",
       "      <td>1</td>\n",
       "      <td>free</td>\n",
       "      <td>8</td>\n",
       "      <td>50</td>\n",
       "      <td>0</td>\n",
       "      <td>178</td>\n",
       "    </tr>\n",
       "  </tbody>\n",
       "</table>\n",
       "<p>11331 rows × 11 columns</p>\n",
       "</div>"
      ],
      "text/plain": [
       "       user_id     name  month  total_distance  total_duration  rides_count  \\\n",
       "0            1     Кира      1     7027.511294              42            2   \n",
       "1            1     Кира      4      754.159807               6            1   \n",
       "2            1     Кира      8     6723.470560              45            2   \n",
       "3            1     Кира     10     5809.911100              32            2   \n",
       "4            1     Кира     11     7003.499363              53            3   \n",
       "...        ...      ...    ...             ...             ...          ...   \n",
       "11326     1534  Альберт      6     3409.468534              24            2   \n",
       "11327     1534  Альберт      8     7622.453034              47            2   \n",
       "11328     1534  Альберт      9     4928.173852              23            1   \n",
       "11329     1534  Альберт     11    13350.015305              76            4   \n",
       "11330     1534  Альберт     12     2371.711192              16            1   \n",
       "\n",
       "      subscription_type  minute_price  start_ride_price  subscription_fee  \\\n",
       "0                 ultra             6                 0               199   \n",
       "1                 ultra             6                 0               199   \n",
       "2                 ultra             6                 0               199   \n",
       "3                 ultra             6                 0               199   \n",
       "4                 ultra             6                 0               199   \n",
       "...                 ...           ...               ...               ...   \n",
       "11326              free             8                50                 0   \n",
       "11327              free             8                50                 0   \n",
       "11328              free             8                50                 0   \n",
       "11329              free             8                50                 0   \n",
       "11330              free             8                50                 0   \n",
       "\n",
       "       monthly_revenue  \n",
       "0                  451  \n",
       "1                  235  \n",
       "2                  469  \n",
       "3                  391  \n",
       "4                  517  \n",
       "...                ...  \n",
       "11326              292  \n",
       "11327              476  \n",
       "11328              234  \n",
       "11329              808  \n",
       "11330              178  \n",
       "\n",
       "[11331 rows x 11 columns]"
      ]
     },
     "execution_count": 34,
     "metadata": {},
     "output_type": "execute_result"
    }
   ],
   "source": [
    "# Применяем функцию calculate_monthly_revenue к каждой строке df_agg\n",
    "df_agg['monthly_revenue'] = df_agg.apply(calculate_monthly_revenue, axis=1)\n",
    "\n",
    "# Выводим результат\n",
    "df_agg"
   ]
  },
  {
   "cell_type": "markdown",
   "metadata": {
    "deletable": false,
    "editable": false,
    "id": "HTbnNX3msK8I",
    "tags": [
     "start_task"
    ]
   },
   "source": [
    "### Задача 5.5 Поиск пользователя с максимальной выручкой\n",
    "Исследуйте полученные значения выручки. Найдите пользователя с максимальной суммарной выручкой за весь период наблюдения и для него выведите на экран `user_id`, имя, месяц, количество поездок и выручку за каждый из месяцев."
   ]
  },
  {
   "cell_type": "markdown",
   "metadata": {
    "deletable": false,
    "editable": false,
    "id": "ORj5Kf9EPYno"
   },
   "source": [
    "<details>\n",
    "<summary>Открыть подсказку</summary>\n",
    "Для найденного пользователя выведите колонки <code>user_id</code>, <code>name</code>, <code>month</code>, <code>rides_count</code>, <code>monthly_revenue</code>.\n",
    "</details>"
   ]
  },
  {
   "cell_type": "code",
   "execution_count": 35,
   "metadata": {
    "deletable": false,
    "id": "G93dZkJgqozi"
   },
   "outputs": [
    {
     "name": "stdout",
     "output_type": "stream",
     "text": [
      "      user_id       name  month  rides_count  monthly_revenue\n",
      "8877     1236  Александр      1            2              228\n",
      "8878     1236  Александр      2            3              614\n",
      "8879     1236  Александр      3            5              762\n",
      "8880     1236  Александр      4            1              202\n",
      "8881     1236  Александр      5            3              574\n",
      "8882     1236  Александр      6            1              282\n",
      "8883     1236  Александр      7            1              290\n",
      "8884     1236  Александр      8            2              452\n",
      "8885     1236  Александр      9            1              122\n",
      "8886     1236  Александр     10            3              430\n",
      "8887     1236  Александр     11            3              494\n",
      "8888     1236  Александр     12            2              476\n"
     ]
    }
   ],
   "source": [
    "# Группируем данные по user_id и вычисляем суммарную выручку для каждого пользователя\n",
    "user_revenue = df_agg.groupby('user_id')['monthly_revenue'].sum()\n",
    "\n",
    "# Находим user_id пользователя с максимальной выручкой\n",
    "max_revenue_user = user_revenue.idxmax()\n",
    "\n",
    "# Фильтруем df_agg для данного пользователя\n",
    "user_data = df_agg[df_agg['user_id'] == max_revenue_user]\n",
    "\n",
    "# Выводим информацию о пользователе с максимальной выручкой\n",
    "print(user_data[['user_id', 'name', 'month', 'rides_count', 'monthly_revenue']])"
   ]
  },
  {
   "cell_type": "markdown",
   "metadata": {
    "deletable": false,
    "editable": false,
    "id": "pTYLbBZEsK8J"
   },
   "source": [
    "---\n",
    "## Задание 6. Проверка гипотез"
   ]
  },
  {
   "cell_type": "markdown",
   "metadata": {
    "deletable": false,
    "editable": false,
    "id": "W4q8-WRDsK8J",
    "tags": [
     "start_task"
    ]
   },
   "source": [
    "### Задача 6.1 Импорт библиотеки SciPy\n",
    "Импортируйте библиотеку `scipy.stats` с сокращением `st`."
   ]
  },
  {
   "cell_type": "code",
   "execution_count": 36,
   "metadata": {
    "deletable": false,
    "id": "zyNhaTb8q5JY"
   },
   "outputs": [],
   "source": [
    "import scipy.stats as st"
   ]
  },
  {
   "cell_type": "markdown",
   "metadata": {
    "deletable": false,
    "editable": false,
    "id": "kiNRoB5zsK8K",
    "tags": [
     "start_task"
    ]
   },
   "source": [
    "### Задача 6.2 Вспомогательная функция для интерпретации результатов\n",
    "Напишите вспомогательную функцию `print_stattest_results(p_value, alpha)`, которая будет интерпретировать результаты статистического теста на основе p-value и заданного уровня значимости (α-уровня). Функция должна решать, следует ли принять альтернативную гипотезу или сохранить нулевую гипотезу.\n",
    "\n",
    "У функции два параметра:\n",
    "- `p_value` (тип `float`) — значение p-value, полученное в результате выполнения статистического теста.\n",
    "- `alpha` (тип `float`, необязательный, по умолчанию `alpha = 0.05`) — уровень значимости статистического теста, который используется как порог для принятия решения об отклонении нулевой гипотезы.\n",
    "\n",
    "Если вы принимаете альтернативную гипотезу, нужно вывести сообщение:\n",
    "`'Полученное значение p_value=<Введённое значение p_value> меньше критического уровня alpha=0.05. Принимаем альтернативную гипотезу.'`\n",
    "\n",
    "Если вы не можете опровергнуть нулевую гипотезу, нужно вывести сообщение: `'Полученное значение p_value=<Введённое значение p_value> больше критического уровня alpha=0.05. Опровергнуть нулевую гипотезу нельзя.'`\n",
    "\n",
    "Вызовите функцию для `p_value = 0.0001` и `p_value = 0.1`."
   ]
  },
  {
   "cell_type": "markdown",
   "metadata": {
    "deletable": false,
    "editable": false,
    "id": "DuKe7ipRQQoN"
   },
   "source": [
    "<details>\n",
    "<summary>Открыть подсказку</summary>\n",
    "В этом задании вам пригодятся знания f-строк из прошлых спринтов. Например, такой код позволит вам легко и красиво отформатировать и вывести переменную <code>x</code> — <code>print(f'Значение {x=}.')</code>.\n",
    "</details>"
   ]
  },
  {
   "cell_type": "code",
   "execution_count": 37,
   "metadata": {
    "deletable": false,
    "id": "xRuwp-yeQwTD"
   },
   "outputs": [
    {
     "name": "stdout",
     "output_type": "stream",
     "text": [
      "Полученное значение p_value=0.0001 меньше критического уровня alpha=0.05. Принимаем альтернативную гипотезу.\n",
      "Полученное значение p_value=0.1 больше критического уровня alpha=0.05. Опровергнуть нулевую гипотезу нельзя.\n"
     ]
    }
   ],
   "source": [
    "def print_stattest_results(p_value:float, alpha:float = 0.05):\n",
    "    # Напишите код для функции здесь\n",
    "    if p_value < alpha:\n",
    "        print(f'Полученное значение p_value={p_value} меньше критического уровня alpha={alpha}. Принимаем альтернативную гипотезу.')\n",
    "    else:\n",
    "        print(f'Полученное значение p_value={p_value} больше критического уровня alpha={alpha}. Опровергнуть нулевую гипотезу нельзя.')\n",
    "\n",
    "\n",
    "print_stattest_results(p_value=0.0001)\n",
    "print_stattest_results(p_value=0.1)"
   ]
  },
  {
   "cell_type": "markdown",
   "metadata": {
    "deletable": false,
    "editable": false,
    "id": "6sLXAPjjsK8K",
    "tags": [
     "start_task"
    ]
   },
   "source": [
    "### Задача 6.3 Длительность для пользователей с подпиской и без\n",
    "\n",
    "Важно понять, тратят ли пользователи с подпиской больше времени на поездки? Сформулируем нулевую и альтернативную гипотезы:\n",
    "- Нулевая гипотеза (Н0): Среднее время поездки у пользователей с подпиской и без подписки одинаковое.\n",
    "- Альтернативная гипотеза (Н1): Среднее время поездки у пользователей с подпиской больше, чем у пользователей без подписки.\n",
    "\n",
    "Чтобы проверить эту гипотезу:\n",
    "1. Используйте неагрегированные данные из датафреймов `df_ultra` и `df_free`, созданные на одном из прошлых шагов.\n",
    "2. Используйте данные о продолжительности каждой поездки `duration` — отдельно для подписчиков и тех, у кого нет подписки.\n",
    "3. Рассчитайте значение `p_value` для выбранной гипотезы, используя функции модуля `scipy.stats` и односторонний t-тест.\n",
    "4. В качестве результата вызовите написанную функцию `print_stattest_results(p_value, alpha)`, передав ей рассчитанное значение `p_value`.\n",
    "5. В конце дополнительно рассчитайте среднюю длительность поездки для тарифов `ultra` и `free`, округлив её до двух знаков после точки стандартной функцией `round()`."
   ]
  },
  {
   "cell_type": "code",
   "execution_count": 38,
   "metadata": {
    "deletable": false,
    "id": "DJ1nCMZQRfFX"
   },
   "outputs": [
    {
     "name": "stdout",
     "output_type": "stream",
     "text": [
      "Полученное значение p_value=3.1600689435611813e-35 меньше критического уровня alpha=0.05. Принимаем альтернативную гипотезу.\n",
      "Средняя длительность поездки тарифа Ultra 18.55\n",
      "Средняя длительность поездки тарифа Free 17.39\n"
     ]
    }
   ],
   "source": [
    "ultra_duration =df_ultra['duration']\n",
    "free_duration =df_free['duration']\n",
    "\n",
    "results = st.ttest_ind(ultra_duration, free_duration, alternative= 'greater') # Укажите подходящий инструмент здесь\n",
    "p_value =results.pvalue\n",
    "\n",
    "print_stattest_results(p_value)\n",
    "ultra_mean_duration =round(df_ultra['duration'].mean(),2)\n",
    "free_mean_duration =round(df_free['duration'].mean(),2)\n",
    "\n",
    "\n",
    "print(f'Средняя длительность поездки тарифа Ultra {ultra_mean_duration}')\n",
    "print(f'Средняя длительность поездки тарифа Free {free_mean_duration}')"
   ]
  },
  {
   "cell_type": "markdown",
   "metadata": {
    "deletable": false,
    "editable": false,
    "id": "HLlf6BYfsK8L",
    "tags": [
     "start_task"
    ]
   },
   "source": [
    "### Задача 6.4 Длительность поездки: больше или меньше критического значения\n",
    "\n",
    "Проанализируйте ещё одну важную продуктовую гипотезу. Расстояние одной поездки в 3130 метров — оптимальное с точки зрения износа самоката. Можно ли сказать, что расстояние, которое проезжают пользователи с подпиской за одну поездку, меньше 3130 метров?\n",
    "\n",
    "Сформулируем нулевую и альтернативную гипотезы:\n",
    "\n",
    "- Нулевая гипотеза (Н0): Средняя дистанция поездки у пользователей с подпиской равна 3130 м.\n",
    "\n",
    "- Альтернативная гипотеза (Н1): Средняя дистанция поездки у пользователей с подпиской больше 3130 м.\n",
    "\n",
    "Чтобы проверить эту гипотезу:\n",
    "\n",
    "1. Используйте неагрегированные данные о каждой поездке пользователей с подпиской из датафрейма `df_ultra`.\n",
    "\n",
    "2. Используйте данные о дистанции каждой поездки `distance`.\n",
    "\n",
    "3. Рассчитайте значение `p_value` для выбранной гипотезы, используя функции модуля `scipy.stats` и односторонний t-тест. Подумайте, как применить эту функцию, если необходимо проверить равенство с одним значением.\n",
    "\n",
    "4. В качестве результата вызовите написанную функцию `print_stattest_results(p_value, alpha)`, передав ей рассчитанное значение `p_value`."
   ]
  },
  {
   "cell_type": "code",
   "execution_count": 39,
   "metadata": {
    "deletable": false,
    "id": "sXgKlO-bSJI-"
   },
   "outputs": [
    {
     "name": "stdout",
     "output_type": "stream",
     "text": [
      "Полученное значение p_value=0.9195368847849785 больше критического уровня alpha=0.05. Опровергнуть нулевую гипотезу нельзя.\n"
     ]
    }
   ],
   "source": [
    "null_hypothesis =3130\n",
    "alpha = 0.05\n",
    "ultra_distance =df_ultra['distance']\n",
    "results = st.ttest_1samp(ultra_distance, null_hypothesis, alternative='greater' )\n",
    "p_value = results.pvalue\n",
    "print_stattest_results(p_value)\n"
   ]
  },
  {
   "cell_type": "markdown",
   "metadata": {
    "deletable": false,
    "editable": false,
    "id": "5TmnT74FsK8L",
    "tags": [
     "start_task"
    ]
   },
   "source": [
    "### Задача 6.5 Прибыль от пользователей с подпиской и без\n",
    "Проверьте гипотезу о том, что выручка от пользователей с подпиской выше, чем выручка от пользователей без подписки.\n",
    "\n",
    "Сформулируем нулевую и альтернативную гипотезы:\n",
    "\n",
    "- Нулевая гипотеза (Н0): Средняя месячная выручка у пользователей с подпиской и без подписки одинаковая.\n",
    "- Альтернативная гипотеза (Н1): Средняя месячная выручка у пользователей с подпиской выше, чем у пользователей без подписки.\n",
    "\n",
    "Чтобы проверить эту гипотезу:\n",
    "1. Используйте агрегированные данные из датафрейма `df_agg`, подготовленного на шаге 5.\n",
    "2. Используйте исходные данные о месячной выручке от каждого пользователя — `monthly_revenue`.\n",
    "3. Рассчитайте значение `p_value` для выбранной гипотезы, используя функции модуля `scipy.stats` и односторонний t-тест.\n",
    "4. В качестве результата вызовите написанную функцию `print_stattest_results(p_value, alpha)`, передав ей рассчитанное значение `p_value`.\n",
    "5. Дополнительно рассчитайте среднюю выручку для тарифов `ultra` и `free`, округлив её до целого стандартной функцией `round()`."
   ]
  },
  {
   "cell_type": "code",
   "execution_count": 40,
   "metadata": {
    "deletable": false,
    "id": "Gvfo6GlvSrHl"
   },
   "outputs": [
    {
     "name": "stdout",
     "output_type": "stream",
     "text": [
      "Полученное значение p_value=1.7274069878387966e-37 меньше критического уровня alpha=0.05. Принимаем альтернативную гипотезу.\n",
      "Средняя выручка подписчиков Ultra 359 руб\n",
      "Средняя выручка подписчиков Free 322 руб\n"
     ]
    }
   ],
   "source": [
    "revenue_ultra =df_agg.loc[df_agg['subscription_type'] == 'ultra', 'monthly_revenue']\n",
    "revenue_free =df_agg.loc[df_agg['subscription_type'] == 'free', 'monthly_revenue']\n",
    "\n",
    "results = st.ttest_ind(revenue_ultra, revenue_free, alternative= 'greater')\n",
    "p_value =results.pvalue\n",
    "print_stattest_results(p_value)\n",
    "\n",
    "mean_revenue_ultra =round(revenue_ultra.mean())\n",
    "mean_revenue_free =round(revenue_free.mean())\n",
    "\n",
    "print(f'Средняя выручка подписчиков Ultra {mean_revenue_ultra} руб')\n",
    "print(f'Средняя выручка подписчиков Free {mean_revenue_free} руб')"
   ]
  },
  {
   "cell_type": "markdown",
   "metadata": {
    "deletable": false,
    "editable": false,
    "id": "C3EoEcibyzeu"
   },
   "source": [
    "---\n",
    "## Задание 7. Распределения"
   ]
  },
  {
   "cell_type": "markdown",
   "metadata": {
    "deletable": false,
    "editable": false,
    "id": "ibnzyqiCz0i2"
   },
   "source": [
    "В компании возникла идея предлагать дополнительную скидку подписчикам, совершающим длительные поездки продолжительностью более 30 минут. Вас просят оценить долю таких поездок.\n",
    "\n",
    "В одном из предыдущих заданий вы уже построили гистограмму распределения длительности поездок для выборки. Однако эти данные охватывают лишь часть пользователей всех самокатов, а вас интересуют возможные значения для всей генеральной совокупности. Учитывая, что у вас нет доступа ко всем данным о поездках, было решено смоделировать длительность поездки с помощью нормального распределения, используя в качестве параметров выборочное среднее и стандартное отклонение из доступных данных о поездках."
   ]
  },
  {
   "cell_type": "markdown",
   "metadata": {
    "deletable": false,
    "editable": false,
    "id": "C2C1nTJx5Hf_",
    "tags": [
     "start_task"
    ]
   },
   "source": [
    "### Задача 7.1 Расчёт выборочного среднего и стандартного отклонения\n",
    "\n",
    "1. Расчитайте среднюю длительность поездки и сохраните в переменную `mu`.\n",
    "2. Вычислите стандартное отклонение длительности `duration` и сохраните в переменную `sigma`. Для вычисления стандартного отклонения можно применить метод `std()` к столбцу датасета.\n",
    "3. Задайте значение переменной `target_time`, равное `30`. Эта переменная будет использоваться для последующего вычисления вероятности.\n",
    "4. Выведите текстовый вывод по шаблону. При этом округлите оба значения до одного знака после точки стандартной функцией `round()`. Сами значения переменных должны остаться неимзменными для последующих задач."
   ]
  },
  {
   "cell_type": "code",
   "execution_count": 45,
   "metadata": {
    "deletable": false,
    "id": "LNVfLHzUTkAJ"
   },
   "outputs": [
    {
     "name": "stdout",
     "output_type": "stream",
     "text": [
      "Средняя длительность поездки 18.5, стандартное отклонение 6.\n"
     ]
    }
   ],
   "source": [
    "# Вычисляем среднее значение\n",
    "mu = df_ultra['duration'].mean()\n",
    "\n",
    "# Вычисляем стандартное отклонение\n",
    "sigma = df_ultra['duration'].std()\n",
    "\n",
    "# Задаём целевое время\n",
    "target_time =30\n",
    "\n",
    "# Делаем вывод\n",
    "print(f'Средняя длительность поездки {round(mu, 1)}, стандартное отклонение {round(sigma)}.')"
   ]
  },
  {
   "cell_type": "markdown",
   "metadata": {
    "deletable": false,
    "editable": false,
    "id": "M65RN8Ic6ozL",
    "tags": [
     "start_task"
    ]
   },
   "source": [
    "### Задача 7.2 Вычисление значения функции распределения в точке (CDF)\n",
    "Если вычислить значение функции распределения в точке, это позволит узнать вероятность того, что случайная величина примет значение меньше заданного либо равное ему. Соответственно, если вы хотите ответить на вопрос о вероятности поездки более 30 минут, потребуется использовать CDF.\n",
    "\n",
    "1. Используйте функцию `norm()` из библиотеки SciPy для создания нормального распределения с параметрами `mu` и `sigma`.\n",
    "\n",
    "2. Примените метод `cdf()` к целевому времени `target_time` для получения вероятности того, что случайная величина будет меньше этого значения или равна ему. Полученное значение сохраните в переменную `prob`, округлив до трёх знаков после точки стандартной функцией `round()`.\n",
    "3. Выведите на экран текстовый ответ по шаблону."
   ]
  },
  {
   "cell_type": "code",
   "execution_count": 48,
   "metadata": {
    "deletable": false,
    "id": "l3kJCKfvUQMP"
   },
   "outputs": [
    {
     "name": "stdout",
     "output_type": "stream",
     "text": [
      "Вероятность поездки более 30 минут 0.02\n"
     ]
    }
   ],
   "source": [
    "# Вычисляем вероятность того, что случайная величина будет меньше указанного значения или равна ему\n",
    "\n",
    "target_time=30\n",
    "duration_norm_dist = st.norm(loc=mu, scale=sigma)\n",
    "prob_less_than_target = duration_norm_dist.cdf(target_time)\n",
    "prob_greater_than_target = 1 - prob_less_than_target\n",
    "prob = round(prob_greater_than_target, 3) # Используем CDF для нахождения накопленной вероятности\n",
    "\n",
    "\n",
    "print(f'Вероятность поездки более 30 минут {prob}')"
   ]
  },
  {
   "cell_type": "markdown",
   "metadata": {
    "deletable": false,
    "editable": false,
    "id": "G6r8KA03IrNe",
    "tags": [
     "start_task"
    ]
   },
   "source": [
    "### Задача 7.3 Вероятность для интервала (CDF)\n",
    "Коллеги посчитали, что процент пользователей, для которых будет показана скидка, недостаточно большой и вряд ли поможет в увеличении лояльности клиентов. Дополнительно вас просят проверить, какой процент пользователей совершает поездки в интервале от 20 до 30 минут. Возможно, именно для них стоит провести промоакцию?\n",
    "\n",
    "Для этого:\n",
    "\n",
    "1. Создайте переменные `low` и `high`, указывающие на начало и конец интересующего временного интервала. В этом случае они равны 20 и 30 минут.\n",
    "2. Используйте кумулятивную функцию распределения (CDF) для объекта `duration_norm_dist`, чтобы вычислить вероятность достижения верхней границы (`high`) и нижней границы (`low`).\n",
    "3. Вычислите вероятность попадания в интервал, округлите до трёх знаков после точки стандартной функцией `round()` и сохраните в переменную `prob_interval`.\n",
    "4. Выведите ответ, используя шаблон."
   ]
  },
  {
   "cell_type": "code",
   "execution_count": 52,
   "metadata": {
    "deletable": false,
    "id": "aujB5fDhU15e"
   },
   "outputs": [
    {
     "name": "stdout",
     "output_type": "stream",
     "text": [
      "Вероятность того, что пользователь совершит поездку длительностью от 20 до 30 минут: 0.377\n"
     ]
    }
   ],
   "source": [
    "# Определяем границы интервала\n",
    "low =20\n",
    "high =30\n",
    "\n",
    "\n",
    "prob_interval = round(duration_norm_dist.cdf(high) - duration_norm_dist.cdf(low), 3)\n",
    "\n",
    "# Выводим результат\n",
    "print(f'Вероятность того, что пользователь совершит поездку длительностью от {low} до {high} минут: {prob_interval}')"
   ]
  },
  {
   "cell_type": "markdown",
   "metadata": {
    "deletable": false,
    "editable": false,
    "id": "HDjUsAV8VB_t",
    "tags": [
     "start_task"
    ]
   },
   "source": [
    "### Задача 7.4 Определение критической дистанции поездок (PPF)\n",
    "Длительные поездки могут негативно сказываться на сроке службы самоката. В связи с этим принято решение установить критическую дистанцию, превышение которой будет сопровождаться дополнительной платой. Для этого необходимо определить расстояние, которое превышается только в 10% поездок (90-й процентиль).\n",
    "\n",
    "Ваша задача — смоделировать распределение длительности поездок, предполагая, что оно подчиняется нормальному закону, и рассчитать критическую дистанцию, ниже которой находится 90% всех поездок.\n",
    "\n",
    "Для этого:\n",
    "1. Рассчитайте среднюю дистанцию поездки для всех пользователей из датафрейма `df` (с подпиской и без) и сохраните в переменную `mu`.\n",
    "2. Вычислите стандартное отклонение дистанции поездки `distance` и сохраните в переменную `sigma`. Для вычисления стандартного отклонения можно применить метод `std()` к столбцу датасета.\n",
    "3. Задайте значение переменной `target_prob`, равное `0.90`. Эта переменная будет использоваться для последующего вычисления критической дистанции.\n",
    "4. Создайте объект нормального распределения `distance_norm` с заданными значениями `mu` и `sigma`.\n",
    "5. Примените к созданному нормальному распределению `distance_norm` метод `ppf()` и в качестве аргумента передайте целевую вероятность `target_prob`. Полученное значение сохраните в переменную `critical_distance`.\n",
    "6. Выведите ответ, используя шаблон.\n",
    "\n"
   ]
  },
  {
   "cell_type": "code",
   "execution_count": 53,
   "metadata": {
    "deletable": false,
    "id": "uviLDRSKVkho"
   },
   "outputs": [
    {
     "name": "stdout",
     "output_type": "stream",
     "text": [
      "90.0 % поездок имеют дистанцию ниже критического значения 4501.94 М.\n"
     ]
    }
   ],
   "source": [
    "# Вычисляем среднее значение\n",
    "mu =df['distance'].mean()\n",
    "\n",
    "# Вычисляем стандартное отклонение\n",
    "sigma =df['distance'].std()\n",
    "\n",
    "# Вероятность, для которой хотим найти значение (90% случаев)\n",
    "target_prob =0.90\n",
    "\n",
    "# Создаём объект нормального распределения\n",
    "distance_norm = st.norm(loc=mu, scale=sigma)\n",
    "\n",
    "# Рассчитываем критическую дистанцию для заданного процентиля поездок\n",
    "critical_distance = distance_norm.ppf(target_prob)\n",
    "\n",
    "print(f'{100 * target_prob} % поездок имеют дистанцию ниже критического значения {critical_distance:.2f} М.')"
   ]
  },
  {
   "cell_type": "markdown",
   "metadata": {
    "deletable": false,
    "editable": false,
    "id": "17NpJxLAau6M"
   },
   "source": [
    "Поздравляем! Вы продемонстрировали глубокое понимание статистических методов и мастерски справились с задачами, используя CDF и PPF. Ваш анализ помог выявить ключевые характеристики распределения данных и определить критические значения, что очень ценно для принятия эффективных бизнес-решений."
   ]
  }
 ],
 "metadata": {
  "ExecuteTimeLog": [
   {
    "duration": 412,
    "start_time": "2025-04-10T04:39:32.481Z"
   },
   {
    "duration": 238,
    "start_time": "2025-04-10T04:40:45.806Z"
   },
   {
    "duration": 14,
    "start_time": "2025-04-10T04:42:22.907Z"
   },
   {
    "duration": 8,
    "start_time": "2025-04-10T04:42:32.090Z"
   },
   {
    "duration": 8,
    "start_time": "2025-04-10T04:43:03.476Z"
   },
   {
    "duration": 8,
    "start_time": "2025-04-10T04:43:15.421Z"
   },
   {
    "duration": 7,
    "start_time": "2025-04-10T04:43:22.298Z"
   },
   {
    "duration": 15,
    "start_time": "2025-04-10T04:44:44.200Z"
   },
   {
    "duration": 12,
    "start_time": "2025-04-10T04:45:05.961Z"
   },
   {
    "duration": 10,
    "start_time": "2025-04-10T04:45:22.838Z"
   },
   {
    "duration": 70,
    "start_time": "2025-04-10T04:47:21.136Z"
   },
   {
    "duration": 3,
    "start_time": "2025-04-10T04:48:02.789Z"
   },
   {
    "duration": 3,
    "start_time": "2025-04-10T04:48:46.561Z"
   },
   {
    "duration": 3,
    "start_time": "2025-04-10T04:49:09.447Z"
   },
   {
    "duration": 8,
    "start_time": "2025-04-10T04:49:57.920Z"
   },
   {
    "duration": 5,
    "start_time": "2025-04-10T04:50:29.180Z"
   },
   {
    "duration": 6,
    "start_time": "2025-04-10T04:51:07.404Z"
   },
   {
    "duration": 7,
    "start_time": "2025-04-10T04:51:39.796Z"
   },
   {
    "duration": 8,
    "start_time": "2025-04-10T04:52:15.737Z"
   },
   {
    "duration": 9,
    "start_time": "2025-04-10T04:52:22.178Z"
   },
   {
    "duration": 5,
    "start_time": "2025-04-10T04:52:41.683Z"
   },
   {
    "duration": 6,
    "start_time": "2025-04-10T04:53:57.543Z"
   },
   {
    "duration": 9,
    "start_time": "2025-04-10T04:54:18.242Z"
   },
   {
    "duration": 7,
    "start_time": "2025-04-10T04:56:07.769Z"
   },
   {
    "duration": 6,
    "start_time": "2025-04-10T04:56:36.051Z"
   },
   {
    "duration": 5,
    "start_time": "2025-04-10T04:59:35.392Z"
   },
   {
    "duration": 6,
    "start_time": "2025-04-10T05:01:57.936Z"
   },
   {
    "duration": 8,
    "start_time": "2025-04-10T05:02:19.037Z"
   },
   {
    "duration": 5,
    "start_time": "2025-04-10T05:02:51.504Z"
   },
   {
    "duration": 5,
    "start_time": "2025-04-10T05:02:52.921Z"
   },
   {
    "duration": 4,
    "start_time": "2025-04-10T05:04:16.429Z"
   },
   {
    "duration": 10,
    "start_time": "2025-04-10T05:04:30.845Z"
   },
   {
    "duration": 4,
    "start_time": "2025-04-10T05:05:40.465Z"
   },
   {
    "duration": 10,
    "start_time": "2025-04-10T05:05:41.245Z"
   },
   {
    "duration": 3,
    "start_time": "2025-04-10T05:06:07.421Z"
   },
   {
    "duration": 10,
    "start_time": "2025-04-10T05:06:07.947Z"
   },
   {
    "duration": 10,
    "start_time": "2025-04-10T05:06:18.732Z"
   },
   {
    "duration": 7,
    "start_time": "2025-04-10T05:07:26.621Z"
   },
   {
    "duration": 7,
    "start_time": "2025-04-10T05:07:32.497Z"
   },
   {
    "duration": 4,
    "start_time": "2025-04-10T05:09:07.063Z"
   },
   {
    "duration": 4,
    "start_time": "2025-04-10T05:09:29.947Z"
   },
   {
    "duration": 1001,
    "start_time": "2025-04-10T05:10:02.000Z"
   },
   {
    "duration": 2,
    "start_time": "2025-04-10T05:10:17.905Z"
   },
   {
    "duration": 5,
    "start_time": "2025-04-10T05:11:47.281Z"
   },
   {
    "duration": 6,
    "start_time": "2025-04-10T05:12:03.566Z"
   },
   {
    "duration": 8,
    "start_time": "2025-04-10T05:14:03.871Z"
   },
   {
    "duration": 5,
    "start_time": "2025-04-10T05:14:22.252Z"
   },
   {
    "duration": 8,
    "start_time": "2025-04-10T05:14:25.244Z"
   },
   {
    "duration": 3,
    "start_time": "2025-04-10T05:14:42.415Z"
   },
   {
    "duration": 5,
    "start_time": "2025-04-10T05:14:59.566Z"
   },
   {
    "duration": 157,
    "start_time": "2025-04-10T05:17:18.213Z"
   },
   {
    "duration": 81,
    "start_time": "2025-04-10T05:17:50.565Z"
   },
   {
    "duration": 167,
    "start_time": "2025-04-10T05:41:23.971Z"
   },
   {
    "duration": 6,
    "start_time": "2025-04-10T05:42:41.946Z"
   },
   {
    "duration": 390,
    "start_time": "2025-04-10T06:28:15.564Z"
   },
   {
    "duration": 106,
    "start_time": "2025-04-10T06:28:15.956Z"
   },
   {
    "duration": 14,
    "start_time": "2025-04-10T06:28:16.064Z"
   },
   {
    "duration": 17,
    "start_time": "2025-04-10T06:28:16.081Z"
   },
   {
    "duration": 14,
    "start_time": "2025-04-10T06:28:16.100Z"
   },
   {
    "duration": 7,
    "start_time": "2025-04-10T06:28:16.115Z"
   },
   {
    "duration": 6,
    "start_time": "2025-04-10T06:28:16.123Z"
   },
   {
    "duration": 7,
    "start_time": "2025-04-10T06:28:16.131Z"
   },
   {
    "duration": 6,
    "start_time": "2025-04-10T06:28:16.139Z"
   },
   {
    "duration": 7,
    "start_time": "2025-04-10T06:28:16.148Z"
   },
   {
    "duration": 4,
    "start_time": "2025-04-10T06:28:16.156Z"
   },
   {
    "duration": 7,
    "start_time": "2025-04-10T06:28:16.162Z"
   },
   {
    "duration": 10,
    "start_time": "2025-04-10T06:28:16.170Z"
   },
   {
    "duration": 8,
    "start_time": "2025-04-10T06:28:16.181Z"
   },
   {
    "duration": 9,
    "start_time": "2025-04-10T06:28:16.191Z"
   },
   {
    "duration": 35,
    "start_time": "2025-04-10T06:28:16.202Z"
   },
   {
    "duration": 8,
    "start_time": "2025-04-10T06:28:16.239Z"
   },
   {
    "duration": 6,
    "start_time": "2025-04-10T06:28:16.248Z"
   },
   {
    "duration": 9,
    "start_time": "2025-04-10T06:28:16.256Z"
   },
   {
    "duration": 4,
    "start_time": "2025-04-10T06:28:16.267Z"
   },
   {
    "duration": 4,
    "start_time": "2025-04-10T06:28:16.273Z"
   },
   {
    "duration": 10,
    "start_time": "2025-04-10T06:28:16.278Z"
   },
   {
    "duration": 8,
    "start_time": "2025-04-10T06:28:16.290Z"
   },
   {
    "duration": 12,
    "start_time": "2025-04-10T06:28:16.299Z"
   },
   {
    "duration": 700,
    "start_time": "2025-04-10T06:28:16.336Z"
   },
   {
    "duration": 6,
    "start_time": "2025-04-10T06:28:17.037Z"
   },
   {
    "duration": 6,
    "start_time": "2025-04-10T06:28:17.045Z"
   },
   {
    "duration": 149,
    "start_time": "2025-04-10T06:28:17.055Z"
   },
   {
    "duration": 174,
    "start_time": "2025-04-10T06:28:17.206Z"
   },
   {
    "duration": 6,
    "start_time": "2025-04-10T06:28:17.382Z"
   },
   {
    "duration": 77,
    "start_time": "2025-04-10T06:28:17.390Z"
   },
   {
    "duration": 0,
    "start_time": "2025-04-10T06:28:17.469Z"
   },
   {
    "duration": 0,
    "start_time": "2025-04-10T06:28:17.471Z"
   },
   {
    "duration": 0,
    "start_time": "2025-04-10T06:28:17.472Z"
   },
   {
    "duration": 0,
    "start_time": "2025-04-10T06:28:17.474Z"
   },
   {
    "duration": 0,
    "start_time": "2025-04-10T06:28:17.475Z"
   },
   {
    "duration": 0,
    "start_time": "2025-04-10T06:28:17.477Z"
   },
   {
    "duration": 0,
    "start_time": "2025-04-10T06:28:17.478Z"
   },
   {
    "duration": 0,
    "start_time": "2025-04-10T06:28:17.479Z"
   },
   {
    "duration": 0,
    "start_time": "2025-04-10T06:28:17.481Z"
   },
   {
    "duration": 0,
    "start_time": "2025-04-10T06:28:17.482Z"
   },
   {
    "duration": 0,
    "start_time": "2025-04-10T06:28:17.484Z"
   },
   {
    "duration": 9,
    "start_time": "2025-04-10T06:30:32.956Z"
   },
   {
    "duration": 52,
    "start_time": "2025-04-10T10:07:09.833Z"
   },
   {
    "duration": 445,
    "start_time": "2025-04-10T10:07:19.980Z"
   },
   {
    "duration": 169,
    "start_time": "2025-04-10T10:07:20.427Z"
   },
   {
    "duration": 17,
    "start_time": "2025-04-10T10:07:20.598Z"
   },
   {
    "duration": 22,
    "start_time": "2025-04-10T10:07:20.616Z"
   },
   {
    "duration": 14,
    "start_time": "2025-04-10T10:07:20.640Z"
   },
   {
    "duration": 25,
    "start_time": "2025-04-10T10:07:20.655Z"
   },
   {
    "duration": 37,
    "start_time": "2025-04-10T10:07:20.682Z"
   },
   {
    "duration": 117,
    "start_time": "2025-04-10T10:07:20.721Z"
   },
   {
    "duration": 31,
    "start_time": "2025-04-10T10:07:20.841Z"
   },
   {
    "duration": 26,
    "start_time": "2025-04-10T10:07:20.874Z"
   },
   {
    "duration": 26,
    "start_time": "2025-04-10T10:07:20.902Z"
   },
   {
    "duration": 53,
    "start_time": "2025-04-10T10:07:20.929Z"
   },
   {
    "duration": 36,
    "start_time": "2025-04-10T10:07:20.984Z"
   },
   {
    "duration": 61,
    "start_time": "2025-04-10T10:07:21.025Z"
   },
   {
    "duration": 17,
    "start_time": "2025-04-10T10:07:21.088Z"
   },
   {
    "duration": 22,
    "start_time": "2025-04-10T10:07:21.106Z"
   },
   {
    "duration": 27,
    "start_time": "2025-04-10T10:07:21.130Z"
   },
   {
    "duration": 19,
    "start_time": "2025-04-10T10:07:21.159Z"
   },
   {
    "duration": 37,
    "start_time": "2025-04-10T10:07:21.180Z"
   },
   {
    "duration": 19,
    "start_time": "2025-04-10T10:07:21.219Z"
   },
   {
    "duration": 14,
    "start_time": "2025-04-10T10:07:21.240Z"
   },
   {
    "duration": 22,
    "start_time": "2025-04-10T10:07:21.256Z"
   },
   {
    "duration": 33,
    "start_time": "2025-04-10T10:07:21.280Z"
   },
   {
    "duration": 21,
    "start_time": "2025-04-10T10:07:21.315Z"
   },
   {
    "duration": 1015,
    "start_time": "2025-04-10T10:07:21.337Z"
   },
   {
    "duration": 7,
    "start_time": "2025-04-10T10:07:22.353Z"
   },
   {
    "duration": 15,
    "start_time": "2025-04-10T10:07:22.361Z"
   },
   {
    "duration": 117,
    "start_time": "2025-04-10T10:07:22.378Z"
   },
   {
    "duration": 173,
    "start_time": "2025-04-10T10:07:22.497Z"
   },
   {
    "duration": 5,
    "start_time": "2025-04-10T10:07:22.672Z"
   },
   {
    "duration": 28,
    "start_time": "2025-04-10T10:07:22.679Z"
   },
   {
    "duration": 130,
    "start_time": "2025-04-10T10:07:22.709Z"
   },
   {
    "duration": 103,
    "start_time": "2025-04-10T10:07:22.841Z"
   },
   {
    "duration": 0,
    "start_time": "2025-04-10T10:07:22.946Z"
   },
   {
    "duration": 0,
    "start_time": "2025-04-10T10:07:22.948Z"
   },
   {
    "duration": 0,
    "start_time": "2025-04-10T10:07:22.949Z"
   },
   {
    "duration": 0,
    "start_time": "2025-04-10T10:07:22.950Z"
   },
   {
    "duration": 0,
    "start_time": "2025-04-10T10:07:22.951Z"
   },
   {
    "duration": 0,
    "start_time": "2025-04-10T10:07:22.952Z"
   },
   {
    "duration": 0,
    "start_time": "2025-04-10T10:07:22.953Z"
   },
   {
    "duration": 0,
    "start_time": "2025-04-10T10:07:22.954Z"
   },
   {
    "duration": 0,
    "start_time": "2025-04-10T10:07:22.956Z"
   },
   {
    "duration": 0,
    "start_time": "2025-04-10T10:07:22.957Z"
   },
   {
    "duration": 111,
    "start_time": "2025-04-10T10:08:34.389Z"
   },
   {
    "duration": 12,
    "start_time": "2025-04-10T10:09:17.348Z"
   },
   {
    "duration": 13,
    "start_time": "2025-04-10T10:09:37.916Z"
   },
   {
    "duration": 12,
    "start_time": "2025-04-10T10:10:56.441Z"
   },
   {
    "duration": 16,
    "start_time": "2025-04-10T10:11:08.820Z"
   },
   {
    "duration": 14,
    "start_time": "2025-04-10T10:12:17.233Z"
   },
   {
    "duration": 12,
    "start_time": "2025-04-10T10:23:30.511Z"
   },
   {
    "duration": 278,
    "start_time": "2025-04-10T10:30:46.764Z"
   },
   {
    "duration": 3,
    "start_time": "2025-04-10T10:31:55.970Z"
   },
   {
    "duration": 5,
    "start_time": "2025-04-10T10:32:31.103Z"
   },
   {
    "duration": 22,
    "start_time": "2025-04-10T10:34:04.336Z"
   },
   {
    "duration": 81,
    "start_time": "2025-04-10T10:38:56.349Z"
   },
   {
    "duration": 50,
    "start_time": "2025-04-10T10:39:55.124Z"
   },
   {
    "duration": 9,
    "start_time": "2025-04-10T10:41:18.163Z"
   },
   {
    "duration": 88,
    "start_time": "2025-04-10T10:42:15.042Z"
   },
   {
    "duration": 82,
    "start_time": "2025-04-10T10:42:25.842Z"
   },
   {
    "duration": 81,
    "start_time": "2025-04-10T10:42:45.345Z"
   },
   {
    "duration": 84,
    "start_time": "2025-04-10T10:43:53.802Z"
   },
   {
    "duration": 4,
    "start_time": "2025-04-10T10:48:07.540Z"
   },
   {
    "duration": 8,
    "start_time": "2025-04-10T10:50:54.980Z"
   },
   {
    "duration": 7,
    "start_time": "2025-04-10T10:51:07.028Z"
   },
   {
    "duration": 4,
    "start_time": "2025-04-10T10:51:50.433Z"
   },
   {
    "duration": 7,
    "start_time": "2025-04-10T10:52:25.481Z"
   },
   {
    "duration": 6,
    "start_time": "2025-04-10T10:54:24.866Z"
   },
   {
    "duration": 14,
    "start_time": "2025-04-10T10:55:36.054Z"
   },
   {
    "duration": 428,
    "start_time": "2025-04-10T10:56:04.299Z"
   },
   {
    "duration": 154,
    "start_time": "2025-04-10T10:56:04.729Z"
   },
   {
    "duration": 18,
    "start_time": "2025-04-10T10:56:04.885Z"
   },
   {
    "duration": 185,
    "start_time": "2025-04-10T10:56:04.905Z"
   },
   {
    "duration": 33,
    "start_time": "2025-04-10T10:56:05.092Z"
   },
   {
    "duration": 8,
    "start_time": "2025-04-10T10:56:05.127Z"
   },
   {
    "duration": 39,
    "start_time": "2025-04-10T10:56:05.136Z"
   },
   {
    "duration": 36,
    "start_time": "2025-04-10T10:56:05.177Z"
   },
   {
    "duration": 12,
    "start_time": "2025-04-10T10:56:05.214Z"
   },
   {
    "duration": 26,
    "start_time": "2025-04-10T10:56:05.229Z"
   },
   {
    "duration": 37,
    "start_time": "2025-04-10T10:56:05.257Z"
   },
   {
    "duration": 12,
    "start_time": "2025-04-10T10:56:05.296Z"
   },
   {
    "duration": 20,
    "start_time": "2025-04-10T10:56:05.309Z"
   },
   {
    "duration": 3,
    "start_time": "2025-04-10T10:56:05.331Z"
   },
   {
    "duration": 51,
    "start_time": "2025-04-10T10:56:05.336Z"
   },
   {
    "duration": 29,
    "start_time": "2025-04-10T10:56:05.388Z"
   },
   {
    "duration": 24,
    "start_time": "2025-04-10T10:56:05.419Z"
   },
   {
    "duration": 937,
    "start_time": "2025-04-10T10:56:05.445Z"
   },
   {
    "duration": 6,
    "start_time": "2025-04-10T10:56:06.384Z"
   },
   {
    "duration": 29,
    "start_time": "2025-04-10T10:56:06.391Z"
   },
   {
    "duration": 107,
    "start_time": "2025-04-10T10:56:06.421Z"
   },
   {
    "duration": 184,
    "start_time": "2025-04-10T10:56:06.529Z"
   },
   {
    "duration": 6,
    "start_time": "2025-04-10T10:56:06.715Z"
   },
   {
    "duration": 47,
    "start_time": "2025-04-10T10:56:06.723Z"
   },
   {
    "duration": 55,
    "start_time": "2025-04-10T10:56:06.772Z"
   },
   {
    "duration": 72,
    "start_time": "2025-04-10T10:56:06.829Z"
   },
   {
    "duration": 183,
    "start_time": "2025-04-10T10:56:06.903Z"
   },
   {
    "duration": 32,
    "start_time": "2025-04-10T10:56:07.089Z"
   },
   {
    "duration": 266,
    "start_time": "2025-04-10T10:56:07.123Z"
   },
   {
    "duration": 27,
    "start_time": "2025-04-10T10:56:07.391Z"
   },
   {
    "duration": 46,
    "start_time": "2025-04-10T10:56:07.419Z"
   },
   {
    "duration": 189,
    "start_time": "2025-04-10T10:56:07.467Z"
   },
   {
    "duration": 1,
    "start_time": "2025-04-10T10:56:07.657Z"
   },
   {
    "duration": 0,
    "start_time": "2025-04-10T10:56:07.659Z"
   },
   {
    "duration": 0,
    "start_time": "2025-04-10T10:56:07.660Z"
   },
   {
    "duration": 0,
    "start_time": "2025-04-10T10:56:07.662Z"
   },
   {
    "duration": 0,
    "start_time": "2025-04-10T10:56:07.663Z"
   },
   {
    "duration": 0,
    "start_time": "2025-04-10T10:56:07.664Z"
   },
   {
    "duration": 0,
    "start_time": "2025-04-10T10:56:07.665Z"
   },
   {
    "duration": 0,
    "start_time": "2025-04-10T10:56:07.666Z"
   },
   {
    "duration": 418,
    "start_time": "2025-04-10T10:58:46.399Z"
   },
   {
    "duration": 117,
    "start_time": "2025-04-10T10:58:46.818Z"
   },
   {
    "duration": 15,
    "start_time": "2025-04-10T10:58:46.936Z"
   },
   {
    "duration": 154,
    "start_time": "2025-04-10T10:58:46.953Z"
   },
   {
    "duration": 9,
    "start_time": "2025-04-10T10:58:47.108Z"
   },
   {
    "duration": 4,
    "start_time": "2025-04-10T10:58:47.119Z"
   },
   {
    "duration": 6,
    "start_time": "2025-04-10T10:58:47.124Z"
   },
   {
    "duration": 8,
    "start_time": "2025-04-10T10:58:47.131Z"
   },
   {
    "duration": 14,
    "start_time": "2025-04-10T10:58:47.140Z"
   },
   {
    "duration": 8,
    "start_time": "2025-04-10T10:58:47.157Z"
   },
   {
    "duration": 39,
    "start_time": "2025-04-10T10:58:47.166Z"
   },
   {
    "duration": 9,
    "start_time": "2025-04-10T10:58:47.206Z"
   },
   {
    "duration": 28,
    "start_time": "2025-04-10T10:58:47.216Z"
   },
   {
    "duration": 3,
    "start_time": "2025-04-10T10:58:47.246Z"
   },
   {
    "duration": 8,
    "start_time": "2025-04-10T10:58:47.251Z"
   },
   {
    "duration": 7,
    "start_time": "2025-04-10T10:58:47.261Z"
   },
   {
    "duration": 5,
    "start_time": "2025-04-10T10:58:47.269Z"
   },
   {
    "duration": 840,
    "start_time": "2025-04-10T10:58:47.276Z"
   },
   {
    "duration": 5,
    "start_time": "2025-04-10T10:58:48.118Z"
   },
   {
    "duration": 10,
    "start_time": "2025-04-10T10:58:48.125Z"
   },
   {
    "duration": 116,
    "start_time": "2025-04-10T10:58:48.137Z"
   },
   {
    "duration": 189,
    "start_time": "2025-04-10T10:58:48.255Z"
   },
   {
    "duration": 5,
    "start_time": "2025-04-10T10:58:48.446Z"
   },
   {
    "duration": 20,
    "start_time": "2025-04-10T10:58:48.453Z"
   },
   {
    "duration": 19,
    "start_time": "2025-04-10T10:58:48.474Z"
   },
   {
    "duration": 17,
    "start_time": "2025-04-10T10:58:48.494Z"
   },
   {
    "duration": 13,
    "start_time": "2025-04-10T10:58:48.513Z"
   },
   {
    "duration": 10,
    "start_time": "2025-04-10T10:58:48.529Z"
   },
   {
    "duration": 267,
    "start_time": "2025-04-10T10:58:48.541Z"
   },
   {
    "duration": 18,
    "start_time": "2025-04-10T10:58:48.810Z"
   },
   {
    "duration": 42,
    "start_time": "2025-04-10T10:58:48.829Z"
   },
   {
    "duration": 175,
    "start_time": "2025-04-10T10:58:48.873Z"
   },
   {
    "duration": 0,
    "start_time": "2025-04-10T10:58:49.050Z"
   },
   {
    "duration": 0,
    "start_time": "2025-04-10T10:58:49.051Z"
   },
   {
    "duration": 0,
    "start_time": "2025-04-10T10:58:49.052Z"
   },
   {
    "duration": 0,
    "start_time": "2025-04-10T10:58:49.053Z"
   },
   {
    "duration": 0,
    "start_time": "2025-04-10T10:58:49.054Z"
   },
   {
    "duration": 0,
    "start_time": "2025-04-10T10:58:49.055Z"
   },
   {
    "duration": 0,
    "start_time": "2025-04-10T10:58:49.056Z"
   },
   {
    "duration": 0,
    "start_time": "2025-04-10T10:58:49.057Z"
   },
   {
    "duration": 109,
    "start_time": "2025-04-10T11:07:42.478Z"
   },
   {
    "duration": 9,
    "start_time": "2025-04-10T11:08:31.303Z"
   },
   {
    "duration": 8,
    "start_time": "2025-04-10T11:09:42.862Z"
   },
   {
    "duration": 6,
    "start_time": "2025-04-10T11:11:05.949Z"
   },
   {
    "duration": 16,
    "start_time": "2025-04-10T11:11:57.930Z"
   },
   {
    "duration": 15,
    "start_time": "2025-04-10T11:12:19.953Z"
   },
   {
    "duration": 14,
    "start_time": "2025-04-10T12:00:31.205Z"
   },
   {
    "duration": 8,
    "start_time": "2025-04-10T12:57:20.982Z"
   },
   {
    "duration": 21,
    "start_time": "2025-04-10T13:03:51.851Z"
   },
   {
    "duration": 50,
    "start_time": "2025-04-10T19:43:43.346Z"
   },
   {
    "duration": 422,
    "start_time": "2025-04-10T19:44:16.658Z"
   },
   {
    "duration": 129,
    "start_time": "2025-04-10T19:44:17.083Z"
   },
   {
    "duration": 15,
    "start_time": "2025-04-10T19:44:17.214Z"
   },
   {
    "duration": 9,
    "start_time": "2025-04-10T19:44:17.231Z"
   },
   {
    "duration": 131,
    "start_time": "2025-04-10T19:44:17.242Z"
   },
   {
    "duration": 44,
    "start_time": "2025-04-10T19:44:17.374Z"
   },
   {
    "duration": 18,
    "start_time": "2025-04-10T19:44:17.419Z"
   },
   {
    "duration": 12,
    "start_time": "2025-04-10T19:44:17.439Z"
   },
   {
    "duration": 6,
    "start_time": "2025-04-10T19:44:17.453Z"
   },
   {
    "duration": 21,
    "start_time": "2025-04-10T19:44:17.463Z"
   },
   {
    "duration": 17,
    "start_time": "2025-04-10T19:44:17.486Z"
   },
   {
    "duration": 10,
    "start_time": "2025-04-10T19:44:17.505Z"
   },
   {
    "duration": 24,
    "start_time": "2025-04-10T19:44:17.517Z"
   },
   {
    "duration": 4,
    "start_time": "2025-04-10T19:44:17.543Z"
   },
   {
    "duration": 11,
    "start_time": "2025-04-10T19:44:17.549Z"
   },
   {
    "duration": 6,
    "start_time": "2025-04-10T19:44:17.561Z"
   },
   {
    "duration": 20,
    "start_time": "2025-04-10T19:44:17.568Z"
   },
   {
    "duration": 1106,
    "start_time": "2025-04-10T19:44:17.590Z"
   },
   {
    "duration": 7,
    "start_time": "2025-04-10T19:44:18.698Z"
   },
   {
    "duration": 12,
    "start_time": "2025-04-10T19:44:18.707Z"
   },
   {
    "duration": 111,
    "start_time": "2025-04-10T19:44:18.721Z"
   },
   {
    "duration": 200,
    "start_time": "2025-04-10T19:44:18.838Z"
   },
   {
    "duration": 5,
    "start_time": "2025-04-10T19:44:19.040Z"
   },
   {
    "duration": 117,
    "start_time": "2025-04-10T19:44:19.047Z"
   },
   {
    "duration": 12,
    "start_time": "2025-04-10T19:44:19.166Z"
   },
   {
    "duration": 12,
    "start_time": "2025-04-10T19:44:19.179Z"
   },
   {
    "duration": 15,
    "start_time": "2025-04-10T19:44:19.193Z"
   },
   {
    "duration": 10,
    "start_time": "2025-04-10T19:44:19.212Z"
   },
   {
    "duration": 286,
    "start_time": "2025-04-10T19:44:19.224Z"
   },
   {
    "duration": 28,
    "start_time": "2025-04-10T19:44:19.512Z"
   },
   {
    "duration": 21,
    "start_time": "2025-04-10T19:44:19.541Z"
   },
   {
    "duration": 54,
    "start_time": "2025-04-10T19:44:19.564Z"
   },
   {
    "duration": 223,
    "start_time": "2025-04-10T19:44:19.620Z"
   },
   {
    "duration": 207,
    "start_time": "2025-04-10T19:44:19.845Z"
   },
   {
    "duration": 210,
    "start_time": "2025-04-10T19:44:20.054Z"
   },
   {
    "duration": 70,
    "start_time": "2025-04-10T19:44:20.266Z"
   },
   {
    "duration": 0,
    "start_time": "2025-04-10T19:44:20.338Z"
   },
   {
    "duration": 0,
    "start_time": "2025-04-10T19:44:20.339Z"
   },
   {
    "duration": 0,
    "start_time": "2025-04-10T19:44:20.340Z"
   },
   {
    "duration": 0,
    "start_time": "2025-04-10T19:44:20.341Z"
   },
   {
    "duration": 0,
    "start_time": "2025-04-10T19:44:20.343Z"
   },
   {
    "duration": 0,
    "start_time": "2025-04-10T19:44:20.344Z"
   },
   {
    "duration": 0,
    "start_time": "2025-04-10T19:44:20.345Z"
   },
   {
    "duration": 85,
    "start_time": "2025-04-10T19:46:07.442Z"
   },
   {
    "duration": 5,
    "start_time": "2025-04-10T19:48:41.475Z"
   },
   {
    "duration": 9,
    "start_time": "2025-04-10T19:49:28.514Z"
   },
   {
    "duration": 9,
    "start_time": "2025-04-10T19:50:19.077Z"
   },
   {
    "duration": 8,
    "start_time": "2025-04-10T19:50:46.156Z"
   },
   {
    "duration": 8,
    "start_time": "2025-04-10T19:51:18.137Z"
   },
   {
    "duration": 8,
    "start_time": "2025-04-10T19:51:40.026Z"
   },
   {
    "duration": 69,
    "start_time": "2025-04-11T04:02:46.692Z"
   },
   {
    "duration": 388,
    "start_time": "2025-04-11T04:02:52.271Z"
   },
   {
    "duration": 114,
    "start_time": "2025-04-11T04:02:52.661Z"
   },
   {
    "duration": 14,
    "start_time": "2025-04-11T04:02:52.776Z"
   },
   {
    "duration": 11,
    "start_time": "2025-04-11T04:02:52.792Z"
   },
   {
    "duration": 19,
    "start_time": "2025-04-11T04:02:52.804Z"
   },
   {
    "duration": 12,
    "start_time": "2025-04-11T04:02:52.825Z"
   },
   {
    "duration": 14,
    "start_time": "2025-04-11T04:02:52.839Z"
   },
   {
    "duration": 71,
    "start_time": "2025-04-11T04:02:52.855Z"
   },
   {
    "duration": 20,
    "start_time": "2025-04-11T04:02:52.928Z"
   },
   {
    "duration": 39,
    "start_time": "2025-04-11T04:02:52.951Z"
   },
   {
    "duration": 12,
    "start_time": "2025-04-11T04:02:52.991Z"
   },
   {
    "duration": 13,
    "start_time": "2025-04-11T04:02:53.005Z"
   },
   {
    "duration": 13,
    "start_time": "2025-04-11T04:02:53.019Z"
   },
   {
    "duration": 3,
    "start_time": "2025-04-11T04:02:53.033Z"
   },
   {
    "duration": 11,
    "start_time": "2025-04-11T04:02:53.038Z"
   },
   {
    "duration": 4,
    "start_time": "2025-04-11T04:02:53.051Z"
   },
   {
    "duration": 23,
    "start_time": "2025-04-11T04:02:53.056Z"
   },
   {
    "duration": 871,
    "start_time": "2025-04-11T04:02:53.080Z"
   },
   {
    "duration": 6,
    "start_time": "2025-04-11T04:02:53.952Z"
   },
   {
    "duration": 16,
    "start_time": "2025-04-11T04:02:53.960Z"
   },
   {
    "duration": 93,
    "start_time": "2025-04-11T04:02:53.977Z"
   },
   {
    "duration": 180,
    "start_time": "2025-04-11T04:02:54.072Z"
   },
   {
    "duration": 7,
    "start_time": "2025-04-11T04:02:54.254Z"
   },
   {
    "duration": 82,
    "start_time": "2025-04-11T04:02:54.263Z"
   },
   {
    "duration": 0,
    "start_time": "2025-04-11T04:02:54.347Z"
   },
   {
    "duration": 0,
    "start_time": "2025-04-11T04:02:54.349Z"
   },
   {
    "duration": 1,
    "start_time": "2025-04-11T04:02:54.350Z"
   },
   {
    "duration": 0,
    "start_time": "2025-04-11T04:02:54.352Z"
   },
   {
    "duration": 0,
    "start_time": "2025-04-11T04:02:54.353Z"
   },
   {
    "duration": 0,
    "start_time": "2025-04-11T04:02:54.355Z"
   },
   {
    "duration": 0,
    "start_time": "2025-04-11T04:02:54.356Z"
   },
   {
    "duration": 0,
    "start_time": "2025-04-11T04:02:54.358Z"
   },
   {
    "duration": 0,
    "start_time": "2025-04-11T04:02:54.359Z"
   },
   {
    "duration": 0,
    "start_time": "2025-04-11T04:02:54.361Z"
   },
   {
    "duration": 0,
    "start_time": "2025-04-11T04:02:54.363Z"
   },
   {
    "duration": 0,
    "start_time": "2025-04-11T04:02:54.365Z"
   },
   {
    "duration": 0,
    "start_time": "2025-04-11T04:02:54.366Z"
   },
   {
    "duration": 0,
    "start_time": "2025-04-11T04:02:54.368Z"
   },
   {
    "duration": 0,
    "start_time": "2025-04-11T04:02:54.369Z"
   },
   {
    "duration": 0,
    "start_time": "2025-04-11T04:02:54.371Z"
   },
   {
    "duration": 0,
    "start_time": "2025-04-11T04:02:54.373Z"
   },
   {
    "duration": 0,
    "start_time": "2025-04-11T04:02:54.374Z"
   },
   {
    "duration": 0,
    "start_time": "2025-04-11T04:02:54.375Z"
   },
   {
    "duration": 60,
    "start_time": "2025-04-11T04:03:41.674Z"
   },
   {
    "duration": 81,
    "start_time": "2025-04-11T04:04:08.139Z"
   },
   {
    "duration": 73,
    "start_time": "2025-04-11T04:05:17.899Z"
   },
   {
    "duration": 91,
    "start_time": "2025-04-11T04:05:27.347Z"
   },
   {
    "duration": 8,
    "start_time": "2025-04-11T04:05:38.496Z"
   },
   {
    "duration": 8,
    "start_time": "2025-04-11T04:05:57.312Z"
   },
   {
    "duration": 8,
    "start_time": "2025-04-11T04:06:15.265Z"
   },
   {
    "duration": 12,
    "start_time": "2025-04-11T04:07:25.932Z"
   },
   {
    "duration": 9,
    "start_time": "2025-04-11T04:08:04.791Z"
   },
   {
    "duration": 13,
    "start_time": "2025-04-11T04:08:06.789Z"
   },
   {
    "duration": 9,
    "start_time": "2025-04-11T04:08:11.891Z"
   },
   {
    "duration": 271,
    "start_time": "2025-04-11T04:08:36.170Z"
   },
   {
    "duration": 235,
    "start_time": "2025-04-11T04:09:51.950Z"
   },
   {
    "duration": 322,
    "start_time": "2025-04-11T04:10:25.056Z"
   },
   {
    "duration": 253,
    "start_time": "2025-04-11T04:11:26.640Z"
   },
   {
    "duration": 254,
    "start_time": "2025-04-11T04:12:01.495Z"
   },
   {
    "duration": 18,
    "start_time": "2025-04-11T04:38:01.051Z"
   },
   {
    "duration": 18,
    "start_time": "2025-04-11T04:38:01.727Z"
   },
   {
    "duration": 49,
    "start_time": "2025-04-11T04:38:04.737Z"
   },
   {
    "duration": 202,
    "start_time": "2025-04-11T04:38:06.630Z"
   },
   {
    "duration": 189,
    "start_time": "2025-04-11T08:30:46.915Z"
   },
   {
    "duration": 178,
    "start_time": "2025-04-11T08:31:20.906Z"
   },
   {
    "duration": 3,
    "start_time": "2025-04-11T08:35:33.974Z"
   },
   {
    "duration": 172,
    "start_time": "2025-04-11T08:36:26.003Z"
   },
   {
    "duration": 85,
    "start_time": "2025-04-11T09:41:46.764Z"
   },
   {
    "duration": 3,
    "start_time": "2025-04-11T09:42:21.575Z"
   },
   {
    "duration": 3,
    "start_time": "2025-04-11T09:43:58.568Z"
   },
   {
    "duration": 188,
    "start_time": "2025-04-11T09:44:02.546Z"
   },
   {
    "duration": 10,
    "start_time": "2025-04-11T09:46:03.861Z"
   },
   {
    "duration": 9,
    "start_time": "2025-04-11T12:40:06.606Z"
   },
   {
    "duration": 2,
    "start_time": "2025-04-11T12:42:27.669Z"
   },
   {
    "duration": 4,
    "start_time": "2025-04-11T12:43:57.530Z"
   },
   {
    "duration": 410,
    "start_time": "2025-04-11T19:06:10.044Z"
   },
   {
    "duration": 136,
    "start_time": "2025-04-11T19:06:10.456Z"
   },
   {
    "duration": 15,
    "start_time": "2025-04-11T19:06:10.594Z"
   },
   {
    "duration": 13,
    "start_time": "2025-04-11T19:06:10.611Z"
   },
   {
    "duration": 13,
    "start_time": "2025-04-11T19:06:10.625Z"
   },
   {
    "duration": 31,
    "start_time": "2025-04-11T19:06:10.640Z"
   },
   {
    "duration": 53,
    "start_time": "2025-04-11T19:06:10.672Z"
   },
   {
    "duration": 15,
    "start_time": "2025-04-11T19:06:10.727Z"
   },
   {
    "duration": 16,
    "start_time": "2025-04-11T19:06:10.744Z"
   },
   {
    "duration": 14,
    "start_time": "2025-04-11T19:06:10.762Z"
   },
   {
    "duration": 10,
    "start_time": "2025-04-11T19:06:10.777Z"
   },
   {
    "duration": 30,
    "start_time": "2025-04-11T19:06:10.789Z"
   },
   {
    "duration": 135,
    "start_time": "2025-04-11T19:06:10.821Z"
   },
   {
    "duration": 3,
    "start_time": "2025-04-11T19:06:10.958Z"
   },
   {
    "duration": 14,
    "start_time": "2025-04-11T19:06:10.963Z"
   },
   {
    "duration": 10,
    "start_time": "2025-04-11T19:06:10.978Z"
   },
   {
    "duration": 32,
    "start_time": "2025-04-11T19:06:10.989Z"
   },
   {
    "duration": 1049,
    "start_time": "2025-04-11T19:06:11.023Z"
   },
   {
    "duration": 6,
    "start_time": "2025-04-11T19:06:12.074Z"
   },
   {
    "duration": 65,
    "start_time": "2025-04-11T19:06:12.082Z"
   },
   {
    "duration": 106,
    "start_time": "2025-04-11T19:06:12.149Z"
   },
   {
    "duration": 184,
    "start_time": "2025-04-11T19:06:12.256Z"
   },
   {
    "duration": 5,
    "start_time": "2025-04-11T19:06:12.442Z"
   },
   {
    "duration": 31,
    "start_time": "2025-04-11T19:06:12.449Z"
   },
   {
    "duration": 14,
    "start_time": "2025-04-11T19:06:12.482Z"
   },
   {
    "duration": 15,
    "start_time": "2025-04-11T19:06:12.497Z"
   },
   {
    "duration": 22,
    "start_time": "2025-04-11T19:06:12.514Z"
   },
   {
    "duration": 10,
    "start_time": "2025-04-11T19:06:12.540Z"
   },
   {
    "duration": 291,
    "start_time": "2025-04-11T19:06:12.551Z"
   },
   {
    "duration": 18,
    "start_time": "2025-04-11T19:06:12.844Z"
   },
   {
    "duration": 119,
    "start_time": "2025-04-11T19:06:12.865Z"
   },
   {
    "duration": 71,
    "start_time": "2025-04-11T19:06:12.986Z"
   },
   {
    "duration": 4,
    "start_time": "2025-04-11T19:06:13.058Z"
   },
   {
    "duration": 224,
    "start_time": "2025-04-11T19:06:13.063Z"
   },
   {
    "duration": 19,
    "start_time": "2025-04-11T19:06:13.288Z"
   },
   {
    "duration": 3,
    "start_time": "2025-04-11T19:06:13.308Z"
   },
   {
    "duration": 8,
    "start_time": "2025-04-11T19:06:13.312Z"
   },
   {
    "duration": 66,
    "start_time": "2025-04-11T19:06:13.321Z"
   },
   {
    "duration": 0,
    "start_time": "2025-04-11T19:06:13.388Z"
   },
   {
    "duration": 0,
    "start_time": "2025-04-11T19:06:13.390Z"
   },
   {
    "duration": 0,
    "start_time": "2025-04-11T19:06:13.391Z"
   },
   {
    "duration": 0,
    "start_time": "2025-04-11T19:06:13.392Z"
   },
   {
    "duration": 0,
    "start_time": "2025-04-11T19:06:13.393Z"
   },
   {
    "duration": 0,
    "start_time": "2025-04-11T19:06:13.395Z"
   },
   {
    "duration": 70,
    "start_time": "2025-04-11T19:35:48.117Z"
   },
   {
    "duration": 8,
    "start_time": "2025-04-11T19:38:01.073Z"
   },
   {
    "duration": 438,
    "start_time": "2025-04-12T07:49:44.943Z"
   },
   {
    "duration": 109,
    "start_time": "2025-04-12T07:49:45.383Z"
   },
   {
    "duration": 15,
    "start_time": "2025-04-12T07:49:45.493Z"
   },
   {
    "duration": 8,
    "start_time": "2025-04-12T07:49:45.510Z"
   },
   {
    "duration": 8,
    "start_time": "2025-04-12T07:49:45.520Z"
   },
   {
    "duration": 9,
    "start_time": "2025-04-12T07:49:45.530Z"
   },
   {
    "duration": 23,
    "start_time": "2025-04-12T07:49:45.541Z"
   },
   {
    "duration": 24,
    "start_time": "2025-04-12T07:49:45.566Z"
   },
   {
    "duration": 15,
    "start_time": "2025-04-12T07:49:45.592Z"
   },
   {
    "duration": 10,
    "start_time": "2025-04-12T07:49:45.611Z"
   },
   {
    "duration": 15,
    "start_time": "2025-04-12T07:49:45.623Z"
   },
   {
    "duration": 14,
    "start_time": "2025-04-12T07:49:45.640Z"
   },
   {
    "duration": 15,
    "start_time": "2025-04-12T07:49:45.655Z"
   },
   {
    "duration": 20,
    "start_time": "2025-04-12T07:49:45.676Z"
   },
   {
    "duration": 14,
    "start_time": "2025-04-12T07:49:45.698Z"
   },
   {
    "duration": 13,
    "start_time": "2025-04-12T07:49:45.714Z"
   },
   {
    "duration": 12,
    "start_time": "2025-04-12T07:49:45.729Z"
   },
   {
    "duration": 981,
    "start_time": "2025-04-12T07:49:45.743Z"
   },
   {
    "duration": 7,
    "start_time": "2025-04-12T07:49:46.726Z"
   },
   {
    "duration": 9,
    "start_time": "2025-04-12T07:49:46.734Z"
   },
   {
    "duration": 118,
    "start_time": "2025-04-12T07:49:46.744Z"
   },
   {
    "duration": 181,
    "start_time": "2025-04-12T07:49:46.864Z"
   },
   {
    "duration": 6,
    "start_time": "2025-04-12T07:49:47.047Z"
   },
   {
    "duration": 121,
    "start_time": "2025-04-12T07:49:47.054Z"
   },
   {
    "duration": 14,
    "start_time": "2025-04-12T07:49:47.177Z"
   },
   {
    "duration": 9,
    "start_time": "2025-04-12T07:49:47.193Z"
   },
   {
    "duration": 15,
    "start_time": "2025-04-12T07:49:47.204Z"
   },
   {
    "duration": 12,
    "start_time": "2025-04-12T07:49:47.222Z"
   },
   {
    "duration": 275,
    "start_time": "2025-04-12T07:49:47.235Z"
   },
   {
    "duration": 17,
    "start_time": "2025-04-12T07:49:47.512Z"
   },
   {
    "duration": 18,
    "start_time": "2025-04-12T07:49:47.531Z"
   },
   {
    "duration": 61,
    "start_time": "2025-04-12T07:49:47.551Z"
   },
   {
    "duration": 3,
    "start_time": "2025-04-12T07:49:47.614Z"
   },
   {
    "duration": 232,
    "start_time": "2025-04-12T07:49:47.619Z"
   },
   {
    "duration": 9,
    "start_time": "2025-04-12T07:49:47.853Z"
   },
   {
    "duration": 12,
    "start_time": "2025-04-12T07:49:47.864Z"
   },
   {
    "duration": 10,
    "start_time": "2025-04-12T07:49:47.878Z"
   },
   {
    "duration": 37,
    "start_time": "2025-04-12T07:49:47.889Z"
   },
   {
    "duration": 72,
    "start_time": "2025-04-12T07:49:47.928Z"
   },
   {
    "duration": 0,
    "start_time": "2025-04-12T07:49:48.001Z"
   },
   {
    "duration": 0,
    "start_time": "2025-04-12T07:49:48.003Z"
   },
   {
    "duration": 0,
    "start_time": "2025-04-12T07:49:48.004Z"
   },
   {
    "duration": 0,
    "start_time": "2025-04-12T07:49:48.005Z"
   },
   {
    "duration": 0,
    "start_time": "2025-04-12T07:49:48.007Z"
   },
   {
    "duration": 78,
    "start_time": "2025-04-12T07:52:59.913Z"
   },
   {
    "duration": 116,
    "start_time": "2025-04-12T07:54:16.429Z"
   },
   {
    "duration": 65,
    "start_time": "2025-04-12T07:55:55.031Z"
   },
   {
    "duration": 81,
    "start_time": "2025-04-12T07:56:10.239Z"
   },
   {
    "duration": 64,
    "start_time": "2025-04-12T07:56:17.612Z"
   },
   {
    "duration": 60,
    "start_time": "2025-04-12T07:56:35.508Z"
   },
   {
    "duration": 100,
    "start_time": "2025-04-12T07:56:58.378Z"
   },
   {
    "duration": 12,
    "start_time": "2025-04-12T07:57:32.724Z"
   },
   {
    "duration": 5,
    "start_time": "2025-04-12T07:57:43.883Z"
   },
   {
    "duration": 9,
    "start_time": "2025-04-12T08:00:30.834Z"
   },
   {
    "duration": 1716,
    "start_time": "2025-04-12T08:01:06.330Z"
   },
   {
    "duration": 4,
    "start_time": "2025-04-12T08:01:45.701Z"
   },
   {
    "duration": 5,
    "start_time": "2025-04-12T08:02:28.167Z"
   },
   {
    "duration": 10,
    "start_time": "2025-04-12T08:10:10.330Z"
   },
   {
    "duration": 7,
    "start_time": "2025-04-12T08:22:35.046Z"
   },
   {
    "duration": 990,
    "start_time": "2025-04-12T08:23:10.949Z"
   },
   {
    "duration": 7,
    "start_time": "2025-04-12T08:24:25.949Z"
   },
   {
    "duration": 1092,
    "start_time": "2025-04-12T08:25:30.666Z"
   },
   {
    "duration": 1150,
    "start_time": "2025-04-12T08:28:00.428Z"
   },
   {
    "duration": 1013,
    "start_time": "2025-04-12T08:29:29.798Z"
   },
   {
    "duration": 1123,
    "start_time": "2025-04-12T08:30:17.336Z"
   },
   {
    "duration": 6,
    "start_time": "2025-04-12T08:30:58.206Z"
   },
   {
    "duration": 1153,
    "start_time": "2025-04-12T08:31:49.059Z"
   },
   {
    "duration": 6,
    "start_time": "2025-04-12T08:32:05.030Z"
   },
   {
    "duration": 6,
    "start_time": "2025-04-12T08:33:26.370Z"
   },
   {
    "duration": 4,
    "start_time": "2025-04-12T08:33:41.050Z"
   },
   {
    "duration": 443,
    "start_time": "2025-04-12T08:34:06.446Z"
   },
   {
    "duration": 142,
    "start_time": "2025-04-12T08:34:06.891Z"
   },
   {
    "duration": 17,
    "start_time": "2025-04-12T08:34:07.035Z"
   },
   {
    "duration": 26,
    "start_time": "2025-04-12T08:34:07.054Z"
   },
   {
    "duration": 55,
    "start_time": "2025-04-12T08:34:07.081Z"
   },
   {
    "duration": 12,
    "start_time": "2025-04-12T08:34:07.138Z"
   },
   {
    "duration": 8,
    "start_time": "2025-04-12T08:34:07.152Z"
   },
   {
    "duration": 9,
    "start_time": "2025-04-12T08:34:07.161Z"
   },
   {
    "duration": 6,
    "start_time": "2025-04-12T08:34:07.171Z"
   },
   {
    "duration": 6,
    "start_time": "2025-04-12T08:34:07.181Z"
   },
   {
    "duration": 13,
    "start_time": "2025-04-12T08:34:07.188Z"
   },
   {
    "duration": 101,
    "start_time": "2025-04-12T08:34:07.203Z"
   },
   {
    "duration": 296,
    "start_time": "2025-04-12T08:34:07.306Z"
   },
   {
    "duration": 65,
    "start_time": "2025-04-12T08:34:07.604Z"
   },
   {
    "duration": 55,
    "start_time": "2025-04-12T08:34:07.671Z"
   },
   {
    "duration": 28,
    "start_time": "2025-04-12T08:34:07.728Z"
   },
   {
    "duration": 15,
    "start_time": "2025-04-12T08:34:07.758Z"
   },
   {
    "duration": 796,
    "start_time": "2025-04-12T08:34:07.775Z"
   },
   {
    "duration": 6,
    "start_time": "2025-04-12T08:34:08.575Z"
   },
   {
    "duration": 6,
    "start_time": "2025-04-12T08:34:08.583Z"
   },
   {
    "duration": 111,
    "start_time": "2025-04-12T08:34:08.591Z"
   },
   {
    "duration": 174,
    "start_time": "2025-04-12T08:34:08.705Z"
   },
   {
    "duration": 5,
    "start_time": "2025-04-12T08:34:08.881Z"
   },
   {
    "duration": 13,
    "start_time": "2025-04-12T08:34:08.887Z"
   },
   {
    "duration": 10,
    "start_time": "2025-04-12T08:34:08.902Z"
   },
   {
    "duration": 10,
    "start_time": "2025-04-12T08:34:08.914Z"
   },
   {
    "duration": 14,
    "start_time": "2025-04-12T08:34:08.926Z"
   },
   {
    "duration": 10,
    "start_time": "2025-04-12T08:34:08.976Z"
   },
   {
    "duration": 266,
    "start_time": "2025-04-12T08:34:08.988Z"
   },
   {
    "duration": 25,
    "start_time": "2025-04-12T08:34:09.256Z"
   },
   {
    "duration": 33,
    "start_time": "2025-04-12T08:34:09.283Z"
   },
   {
    "duration": 43,
    "start_time": "2025-04-12T08:34:09.317Z"
   },
   {
    "duration": 4,
    "start_time": "2025-04-12T08:34:09.361Z"
   },
   {
    "duration": 289,
    "start_time": "2025-04-12T08:34:09.366Z"
   },
   {
    "duration": 21,
    "start_time": "2025-04-12T08:34:09.656Z"
   },
   {
    "duration": 66,
    "start_time": "2025-04-12T08:34:09.678Z"
   },
   {
    "duration": 13,
    "start_time": "2025-04-12T08:34:09.745Z"
   },
   {
    "duration": 21,
    "start_time": "2025-04-12T08:34:09.760Z"
   },
   {
    "duration": 35,
    "start_time": "2025-04-12T08:34:09.782Z"
   },
   {
    "duration": 8,
    "start_time": "2025-04-12T08:34:09.819Z"
   },
   {
    "duration": 11,
    "start_time": "2025-04-12T08:34:09.828Z"
   },
   {
    "duration": 11,
    "start_time": "2025-04-12T08:34:09.840Z"
   },
   {
    "duration": 65,
    "start_time": "2025-04-12T08:34:09.853Z"
   },
   {
    "duration": 0,
    "start_time": "2025-04-12T08:34:09.919Z"
   },
   {
    "duration": 0,
    "start_time": "2025-04-12T08:34:09.920Z"
   },
   {
    "duration": 5,
    "start_time": "2025-04-12T08:34:33.112Z"
   },
   {
    "duration": 5,
    "start_time": "2025-04-12T08:35:14.671Z"
   },
   {
    "duration": 104,
    "start_time": "2025-04-12T08:50:52.513Z"
   },
   {
    "duration": 6,
    "start_time": "2025-04-12T08:51:17.353Z"
   },
   {
    "duration": 6,
    "start_time": "2025-04-12T08:55:11.855Z"
   },
   {
    "duration": 10,
    "start_time": "2025-04-12T08:59:44.434Z"
   },
   {
    "duration": 6,
    "start_time": "2025-04-12T08:59:53.947Z"
   },
   {
    "duration": 4,
    "start_time": "2025-04-12T09:00:22.117Z"
   },
   {
    "duration": 5,
    "start_time": "2025-04-12T09:01:48.247Z"
   },
   {
    "duration": 6,
    "start_time": "2025-04-12T09:06:51.598Z"
   }
  ],
  "colab": {
   "provenance": [],
   "toc_visible": true
  },
  "kernelspec": {
   "display_name": "Python 3 (ipykernel)",
   "language": "python",
   "name": "python3"
  },
  "language_info": {
   "codemirror_mode": {
    "name": "ipython",
    "version": 3
   },
   "file_extension": ".py",
   "mimetype": "text/x-python",
   "name": "python",
   "nbconvert_exporter": "python",
   "pygments_lexer": "ipython3",
   "version": "3.9.5"
  },
  "toc": {
   "base_numbering": 1,
   "nav_menu": {},
   "number_sections": true,
   "sideBar": true,
   "skip_h1_title": true,
   "title_cell": "Table of Contents",
   "title_sidebar": "Contents",
   "toc_cell": false,
   "toc_position": {},
   "toc_section_display": true,
   "toc_window_display": false
  }
 },
 "nbformat": 4,
 "nbformat_minor": 1
}
