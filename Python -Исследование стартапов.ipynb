{
 "cells": [
  {
   "cell_type": "markdown",
   "metadata": {
    "id": "4mJbK1knrJgz"
   },
   "source": [
    "# Проект: Исследование стартапов"
   ]
  },
  {
   "cell_type": "markdown",
   "metadata": {},
   "source": [
    "- Автор: Макарова Анастасия\n",
    "- Дата: 04.03.2025"
   ]
  },
  {
   "cell_type": "markdown",
   "metadata": {
    "id": "P6j0r3worJg0"
   },
   "source": [
    "## Введение"
   ]
  },
  {
   "cell_type": "markdown",
   "metadata": {
    "id": "8lQtbsIUyFG6"
   },
   "source": [
    "Финансовая компания, которая предоставляет льготные займы стартапам, хочет войти на инвестиционный рынок с прицелом на покупку, развитие и последующую перепродажу перспективных стартапов. Для разработки модели бизнеса нужна информация. Чтобы выработать общее понимание, какие данные могут быть полезны, проводится исследование на исторических данных."
   ]
  },
  {
   "cell_type": "markdown",
   "metadata": {},
   "source": [
    "### Цели и задачи проекта\n",
    "\n",
    "Подготовить датасет и проверить, что данные в нём соответствуют дествительности, а также ответить на вопросы заказчика как о предобработке, так и о значении данных для бизнеса."
   ]
  },
  {
   "cell_type": "markdown",
   "metadata": {},
   "source": [
    "### Содержание проекта\n",
    "\n",
    "1. Введение.\n",
    "2. Знакомство с данными: загрузка и первичная предобработка.\n",
    "3. Предобработка данных, предварительное исследование.\n",
    "4. Исследовательский анализ объединённых таблиц\n",
    "5. Итоговый вывод и рекомендации."
   ]
  },
  {
   "cell_type": "markdown",
   "metadata": {
    "id": "xqr6uttCrJg0"
   },
   "source": [
    "\n",
    "## Шаг 1. Знакомство с данными: загрузка и первичная предобработка\n",
    "\n",
    "Названия файлов:\n",
    "* `acquisition.csv` - Содержит информацию о покупках одними компаниями других компаний;\n",
    "* `company_and_rounds.csv` - Содержит информацию о компаниях и раундах финансирования;\n",
    "* `people.csv` - Содержит информацию о сотрудниках;\n",
    "* `education.csv` - Содержит информацию об образовании сотрудника;\n",
    "* `degrees.csv` - Содержит информацию о типе образования сотрудника.\n",
    "\n",
    "Опциональные датасеты:\n",
    "* `fund.csv` - Содержит информацию о фондах;\n",
    "* `investment.csv` - Содержит информацию о раундах инвестирования.\n",
    "\n",
    "Таблица `acquisition` Содержит информацию о покупках одними компаниями других компаний:\n",
    "- `id` — идентификатор покупки.\n",
    "- `acquiring_company_id` — идентификатор покупающей компании.\n",
    "- `acquired_company_id` — идентификатор покупаемой компании.\n",
    "- `term_code` — варианты расчёта.\n",
    "- `price_amount` — сумма сделки.\n",
    "- `acquired_at` — дата сделки.\n",
    "\n",
    "Таблица `company_and_rounds`Содержит информацию о компаниях и раундах финансирования:\n",
    "- `company ID` — идентификатор компании.\n",
    "- `name` — название компании.\n",
    "- `category code` — категория области деятельности компании.\n",
    "- `status` — статус компании.\n",
    "- `founded at` — дата инвестирования.\n",
    "- `closed at` — дата закрытия компании.\n",
    "- `domain` — официальный сайт компании.\n",
    "- `network username` — ник компании в сети.\n",
    "- `country code` — код страны компании.\n",
    "- `investment rounds` — число инвестиционных раундов.\n",
    "- `funding rounds` — число раундов финансирования.\n",
    "- `funding total` — сумма финансирования.\n",
    "- `milestones` — вехи финансирования.\n",
    "- `funding round id` — идентификатор этапа финансирования.\n",
    "- `company id` — идентификатор компании.\n",
    "- `funded at` — дата финансирования.\n",
    "- `funding round type` — тип финансирования.\n",
    "- `raised amount` — сумма финансирования.\n",
    "- `pre money valuation` — предварительная денежная оценка.\n",
    "- `participants` — число участников.\n",
    "- `is first round` — является ли раунд первым.\n",
    "- `is last round` — является раунд последним.\n",
    "\n",
    "Таблица `education` Содержит информацию об образовании сотрудника:\n",
    "- `id` — идентификатор записи об образовании.\n",
    "- `person_id` — идентификатор работника.\n",
    "- `instituition` — название учебного заведения.\n",
    "- `graduated_at` — дата получения образования.\n",
    "\n",
    "Таблица `people` Содержит информацию о сотрудниках:\n",
    "- `id`— идентификатор сотрудника.\n",
    "- `first_name` — имя сотрудника.\n",
    "- `last_name` — фамилия сотрудника.\n",
    "- `company_id` — идентификатор компании.\n",
    "- `network_username` — ник в социальных сетях.\n",
    "\n",
    "Таблица `degrees` Содержит информацию о типе образования сотрудника:\n",
    "- `id` — идентификатор записи.\n",
    "- `object_id` — идентификатор сотрудника.\n",
    "- `degree_type` — тип образования.\n",
    "- `subject` — специальность.\n",
    "\n",
    "Таблица `fund` Содержит информацию о фондах:\n",
    "- `id` — идентификатор фонда.\n",
    "- `name` — название фонда.\n",
    "- `category_code` — категория области деятельности компании.\n",
    "- `founded_at` — дата создания фонда.\n",
    "- `domain` — сайт фонда.\n",
    "- `network_username` — ник фонда в сети.\n",
    "- `country_code` — код страны фонда.\n",
    "- `investment_rounds` — число инвестиционных раундов.\n",
    "- `invested_companies` — число профинансированных компаний.\n",
    "- `milestones` — вехи финансирования.\n",
    "\n",
    "Таблица `investment` Содержит информацию о раундах инвестирования:\n",
    "- `id` — идентификатор этапа инвестирования.\n",
    "- `funding_round_id` — идентификатор раунда инвестирования.\n",
    "- `company_id` — индентификатор компании.\n",
    "- `funding_round_type` — тип финансирования.\n",
    "- `fund_id` — идентификатор фонда.\n",
    "\n",
    "\n",
    "Они находятся в папке datasets, если вы выполняете работу на платформе. В случае, если вы делаете работу локально, доступ к файлам в папке можно получить по адресу `https://code.s3.yandex.net/datasets/` + имя файла.\n",
    "\n",
    "### 1.1. Вывод общей информации, исправление названия столбцов\n",
    "\n",
    "- Загрузите все данные по проекту.\n",
    "- Проверьте названия столбцов.\n",
    "- Выведите информацию, которая необходима вам для принятия решений о предобработке, для каждого из датасетов."
   ]
  },
  {
   "cell_type": "markdown",
   "metadata": {
    "colab": {
     "base_uri": "https://localhost:8080/"
    },
    "id": "W_W4jRazrJg0",
    "outputId": "d2409aad-233f-4bb4-ec71-7da96594f9df",
    "vscode": {
     "languageId": "plaintext"
    }
   },
   "source": [
    "Начнём с загрузки библиотек и датасетов. Будем использовать pandas и библиотеки визуализации данных matplotlib и seaborn, а также phik для построения матрицы корреляции. Данные датасетов сохраним в двух переменных: info и info_df и price_df."
   ]
  },
  {
   "cell_type": "code",
   "execution_count": 1,
   "metadata": {
    "id": "2Tm4Pk__Felf"
   },
   "outputs": [
    {
     "name": "stdout",
     "output_type": "stream",
     "text": [
      "Requirement already satisfied: phik in /opt/conda/lib/python3.9/site-packages (0.12.4)\n",
      "Requirement already satisfied: scipy>=1.5.2 in /opt/conda/lib/python3.9/site-packages (from phik) (1.9.1)\n",
      "Requirement already satisfied: matplotlib>=2.2.3 in /opt/conda/lib/python3.9/site-packages (from phik) (3.3.4)\n",
      "Requirement already satisfied: numpy>=1.18.0 in /opt/conda/lib/python3.9/site-packages (from phik) (1.21.1)\n",
      "Requirement already satisfied: joblib>=0.14.1 in /opt/conda/lib/python3.9/site-packages (from phik) (1.1.0)\n",
      "Requirement already satisfied: pandas>=0.25.1 in /opt/conda/lib/python3.9/site-packages (from phik) (1.2.4)\n",
      "Requirement already satisfied: pillow>=6.2.0 in /opt/conda/lib/python3.9/site-packages (from matplotlib>=2.2.3->phik) (8.4.0)\n",
      "Requirement already satisfied: python-dateutil>=2.1 in /opt/conda/lib/python3.9/site-packages (from matplotlib>=2.2.3->phik) (2.8.1)\n",
      "Requirement already satisfied: cycler>=0.10 in /opt/conda/lib/python3.9/site-packages (from matplotlib>=2.2.3->phik) (0.11.0)\n",
      "Requirement already satisfied: kiwisolver>=1.0.1 in /opt/conda/lib/python3.9/site-packages (from matplotlib>=2.2.3->phik) (1.4.4)\n",
      "Requirement already satisfied: pyparsing!=2.0.4,!=2.1.2,!=2.1.6,>=2.0.3 in /opt/conda/lib/python3.9/site-packages (from matplotlib>=2.2.3->phik) (2.4.7)\n",
      "Requirement already satisfied: pytz>=2017.3 in /opt/conda/lib/python3.9/site-packages (from pandas>=0.25.1->phik) (2021.1)\n",
      "Requirement already satisfied: six>=1.5 in /opt/conda/lib/python3.9/site-packages (from python-dateutil>=2.1->matplotlib>=2.2.3->phik) (1.16.0)\n"
     ]
    }
   ],
   "source": [
    "!pip install phik"
   ]
  },
  {
   "cell_type": "code",
   "execution_count": 2,
   "metadata": {
    "id": "oNqJ2qpRFebv"
   },
   "outputs": [],
   "source": [
    "# Импортируем библиотеки\n",
    "import pandas as pd\n",
    "\n",
    "# Загружаем библиотеки для визуализации данных\n",
    "import matplotlib.pyplot as plt\n",
    "import seaborn as sns\n",
    "\n",
    "# Загружаем библиотеку для расчёта коэффициента корреляции phi_k\n",
    "from phik import phik_matrix"
   ]
  },
  {
   "cell_type": "code",
   "execution_count": 3,
   "metadata": {},
   "outputs": [],
   "source": [
    "import warnings\n",
    "warnings.filterwarnings('ignore')"
   ]
  },
  {
   "cell_type": "code",
   "execution_count": 4,
   "metadata": {},
   "outputs": [],
   "source": [
    "# Выгружаем данные основных таблиц в переменные\n",
    "acquisition_df = pd.read_csv('https://code.s3.yandex.net/datasets/acquisition.csv')\n",
    "company_df = pd.read_csv('https://code.s3.yandex.net/datasets/company_and_rounds.csv')\n",
    "people_df = pd.read_csv('https://code.s3.yandex.net/datasets/people.csv')\n",
    "education_df = pd.read_csv('https://code.s3.yandex.net/datasets/education.csv')\n",
    "degrees_df = pd.read_csv('https://code.s3.yandex.net/datasets/degrees.csv')"
   ]
  },
  {
   "cell_type": "code",
   "execution_count": 5,
   "metadata": {},
   "outputs": [],
   "source": [
    "# Выгружаем данные дополнительных таблиц в переменные\n",
    "fund_df = pd.read_csv('https://code.s3.yandex.net/datasets/fund.csv')\n",
    "investment_df = pd.read_csv('https://code.s3.yandex.net/datasets/investment.csv')"
   ]
  },
  {
   "cell_type": "markdown",
   "metadata": {},
   "source": [
    "Познакомимся с данными датасета `acquisition.csv` — выведем первые строки методом head(), а информацию о датафрейме методом info():"
   ]
  },
  {
   "cell_type": "code",
   "execution_count": 6,
   "metadata": {},
   "outputs": [
    {
     "data": {
      "text/html": [
       "<div>\n",
       "<style scoped>\n",
       "    .dataframe tbody tr th:only-of-type {\n",
       "        vertical-align: middle;\n",
       "    }\n",
       "\n",
       "    .dataframe tbody tr th {\n",
       "        vertical-align: top;\n",
       "    }\n",
       "\n",
       "    .dataframe thead th {\n",
       "        text-align: right;\n",
       "    }\n",
       "</style>\n",
       "<table border=\"1\" class=\"dataframe\">\n",
       "  <thead>\n",
       "    <tr style=\"text-align: right;\">\n",
       "      <th></th>\n",
       "      <th>id</th>\n",
       "      <th>acquiring_company_id</th>\n",
       "      <th>acquired_company_id</th>\n",
       "      <th>term_code</th>\n",
       "      <th>price_amount</th>\n",
       "      <th>acquired_at</th>\n",
       "    </tr>\n",
       "  </thead>\n",
       "  <tbody>\n",
       "    <tr>\n",
       "      <th>0</th>\n",
       "      <td>1</td>\n",
       "      <td>11</td>\n",
       "      <td>10</td>\n",
       "      <td>NaN</td>\n",
       "      <td>20000000</td>\n",
       "      <td>2007-05-30</td>\n",
       "    </tr>\n",
       "    <tr>\n",
       "      <th>1</th>\n",
       "      <td>7</td>\n",
       "      <td>59</td>\n",
       "      <td>72</td>\n",
       "      <td>cash</td>\n",
       "      <td>60000000</td>\n",
       "      <td>2007-07-01</td>\n",
       "    </tr>\n",
       "    <tr>\n",
       "      <th>2</th>\n",
       "      <td>8</td>\n",
       "      <td>24</td>\n",
       "      <td>132</td>\n",
       "      <td>cash</td>\n",
       "      <td>280000000</td>\n",
       "      <td>2007-05-01</td>\n",
       "    </tr>\n",
       "    <tr>\n",
       "      <th>3</th>\n",
       "      <td>9</td>\n",
       "      <td>59</td>\n",
       "      <td>155</td>\n",
       "      <td>cash</td>\n",
       "      <td>100000000</td>\n",
       "      <td>2007-06-01</td>\n",
       "    </tr>\n",
       "    <tr>\n",
       "      <th>4</th>\n",
       "      <td>10</td>\n",
       "      <td>212</td>\n",
       "      <td>215</td>\n",
       "      <td>cash</td>\n",
       "      <td>25000000</td>\n",
       "      <td>2007-07-01</td>\n",
       "    </tr>\n",
       "  </tbody>\n",
       "</table>\n",
       "</div>"
      ],
      "text/plain": [
       "   id  acquiring_company_id  acquired_company_id term_code  price_amount  \\\n",
       "0   1                    11                   10       NaN      20000000   \n",
       "1   7                    59                   72      cash      60000000   \n",
       "2   8                    24                  132      cash     280000000   \n",
       "3   9                    59                  155      cash     100000000   \n",
       "4  10                   212                  215      cash      25000000   \n",
       "\n",
       "  acquired_at  \n",
       "0  2007-05-30  \n",
       "1  2007-07-01  \n",
       "2  2007-05-01  \n",
       "3  2007-06-01  \n",
       "4  2007-07-01  "
      ]
     },
     "execution_count": 6,
     "metadata": {},
     "output_type": "execute_result"
    }
   ],
   "source": [
    "# Выводим первые строки датафрейма на экран\n",
    "acquisition_df.head()"
   ]
  },
  {
   "cell_type": "code",
   "execution_count": 7,
   "metadata": {},
   "outputs": [
    {
     "name": "stdout",
     "output_type": "stream",
     "text": [
      "<class 'pandas.core.frame.DataFrame'>\n",
      "RangeIndex: 9407 entries, 0 to 9406\n",
      "Data columns (total 6 columns):\n",
      " #   Column                Non-Null Count  Dtype \n",
      "---  ------                --------------  ----- \n",
      " 0   id                    9407 non-null   int64 \n",
      " 1   acquiring_company_id  9407 non-null   int64 \n",
      " 2   acquired_company_id   9407 non-null   int64 \n",
      " 3   term_code             1831 non-null   object\n",
      " 4   price_amount          9407 non-null   int64 \n",
      " 5   acquired_at           9378 non-null   object\n",
      "dtypes: int64(4), object(2)\n",
      "memory usage: 441.1+ KB\n"
     ]
    }
   ],
   "source": [
    "# Выводим информацию о датафрейме\n",
    "acquisition_df.info()"
   ]
  },
  {
   "cell_type": "markdown",
   "metadata": {},
   "source": [
    "Датасет `acquisition.csv` содержит 6 столбцов и 9407 строк, в которых представлена информация о покупках одними компаниями других компаний.\n",
    "\n",
    "После первичного анализа данных можно сделать следующие выводы:\n",
    "- Названия столбцов приведены к одному виду snake case.\n",
    "- Столбцы `id`, `acquiring_company_id`, `acquired_company_id`, `price_amount`содержат числовые значения и хранятся в типах данных int64. Значения в столбцe term_code содержит текстовую информацию и имеет тип данных object, что тоже корректно. В столбце `acquired_at` содержиться дата сделки, формат object нужно поменять на datetime64.\n",
    "- Пропуски содержатся только в двух столбцах `term_code` и `acquired_at`. \n",
    "- Судя по первому знакомству с данными, значения в столбцах соответствуют своему описанию."
   ]
  },
  {
   "cell_type": "markdown",
   "metadata": {},
   "source": [
    "Познакомимся с данными датасета `company_and_rounds.csv` — выведем первые строки методом head(), а информацию о датафрейме методом info():"
   ]
  },
  {
   "cell_type": "code",
   "execution_count": 8,
   "metadata": {},
   "outputs": [
    {
     "data": {
      "text/html": [
       "<div>\n",
       "<style scoped>\n",
       "    .dataframe tbody tr th:only-of-type {\n",
       "        vertical-align: middle;\n",
       "    }\n",
       "\n",
       "    .dataframe tbody tr th {\n",
       "        vertical-align: top;\n",
       "    }\n",
       "\n",
       "    .dataframe thead th {\n",
       "        text-align: right;\n",
       "    }\n",
       "</style>\n",
       "<table border=\"1\" class=\"dataframe\">\n",
       "  <thead>\n",
       "    <tr style=\"text-align: right;\">\n",
       "      <th></th>\n",
       "      <th>company  ID</th>\n",
       "      <th>name</th>\n",
       "      <th>category  code</th>\n",
       "      <th>status</th>\n",
       "      <th>founded  at</th>\n",
       "      <th>closed  at</th>\n",
       "      <th>domain</th>\n",
       "      <th>network  username</th>\n",
       "      <th>country  code</th>\n",
       "      <th>investment  rounds</th>\n",
       "      <th>...</th>\n",
       "      <th>milestones</th>\n",
       "      <th>funding  round  id</th>\n",
       "      <th>company  id</th>\n",
       "      <th>funded  at</th>\n",
       "      <th>funding  round  type</th>\n",
       "      <th>raised  amount</th>\n",
       "      <th>pre  money  valuation</th>\n",
       "      <th>participants</th>\n",
       "      <th>is  first  round</th>\n",
       "      <th>is  last  round</th>\n",
       "    </tr>\n",
       "  </thead>\n",
       "  <tbody>\n",
       "    <tr>\n",
       "      <th>0</th>\n",
       "      <td>1.0</td>\n",
       "      <td>Wetpaint</td>\n",
       "      <td>web</td>\n",
       "      <td>operating</td>\n",
       "      <td>2005-10-17</td>\n",
       "      <td>NaN</td>\n",
       "      <td>wetpaint-inc.com</td>\n",
       "      <td>BachelrWetpaint</td>\n",
       "      <td>USA</td>\n",
       "      <td>0.0</td>\n",
       "      <td>...</td>\n",
       "      <td>5.0</td>\n",
       "      <td>888.0</td>\n",
       "      <td>1.0</td>\n",
       "      <td>2005-10-01</td>\n",
       "      <td>series-a</td>\n",
       "      <td>5250000.0</td>\n",
       "      <td>0.0</td>\n",
       "      <td>2.0</td>\n",
       "      <td>0.0</td>\n",
       "      <td>1.0</td>\n",
       "    </tr>\n",
       "    <tr>\n",
       "      <th>1</th>\n",
       "      <td>1.0</td>\n",
       "      <td>Wetpaint</td>\n",
       "      <td>web</td>\n",
       "      <td>operating</td>\n",
       "      <td>2005-10-17</td>\n",
       "      <td>NaN</td>\n",
       "      <td>wetpaint-inc.com</td>\n",
       "      <td>BachelrWetpaint</td>\n",
       "      <td>USA</td>\n",
       "      <td>0.0</td>\n",
       "      <td>...</td>\n",
       "      <td>5.0</td>\n",
       "      <td>889.0</td>\n",
       "      <td>1.0</td>\n",
       "      <td>2007-01-01</td>\n",
       "      <td>series-b</td>\n",
       "      <td>9500000.0</td>\n",
       "      <td>0.0</td>\n",
       "      <td>3.0</td>\n",
       "      <td>0.0</td>\n",
       "      <td>0.0</td>\n",
       "    </tr>\n",
       "    <tr>\n",
       "      <th>2</th>\n",
       "      <td>1.0</td>\n",
       "      <td>Wetpaint</td>\n",
       "      <td>web</td>\n",
       "      <td>operating</td>\n",
       "      <td>2005-10-17</td>\n",
       "      <td>NaN</td>\n",
       "      <td>wetpaint-inc.com</td>\n",
       "      <td>BachelrWetpaint</td>\n",
       "      <td>USA</td>\n",
       "      <td>0.0</td>\n",
       "      <td>...</td>\n",
       "      <td>5.0</td>\n",
       "      <td>2312.0</td>\n",
       "      <td>1.0</td>\n",
       "      <td>2008-05-19</td>\n",
       "      <td>series-c+</td>\n",
       "      <td>25000000.0</td>\n",
       "      <td>0.0</td>\n",
       "      <td>4.0</td>\n",
       "      <td>1.0</td>\n",
       "      <td>0.0</td>\n",
       "    </tr>\n",
       "    <tr>\n",
       "      <th>3</th>\n",
       "      <td>10.0</td>\n",
       "      <td>Flektor</td>\n",
       "      <td>games_video</td>\n",
       "      <td>acquired</td>\n",
       "      <td>NaN</td>\n",
       "      <td>NaN</td>\n",
       "      <td>flektor.com</td>\n",
       "      <td>NaN</td>\n",
       "      <td>USA</td>\n",
       "      <td>0.0</td>\n",
       "      <td>...</td>\n",
       "      <td>0.0</td>\n",
       "      <td>NaN</td>\n",
       "      <td>NaN</td>\n",
       "      <td>NaN</td>\n",
       "      <td>NaN</td>\n",
       "      <td>NaN</td>\n",
       "      <td>NaN</td>\n",
       "      <td>NaN</td>\n",
       "      <td>NaN</td>\n",
       "      <td>NaN</td>\n",
       "    </tr>\n",
       "    <tr>\n",
       "      <th>4</th>\n",
       "      <td>100.0</td>\n",
       "      <td>There</td>\n",
       "      <td>games_video</td>\n",
       "      <td>acquired</td>\n",
       "      <td>NaN</td>\n",
       "      <td>NaN</td>\n",
       "      <td>there.com</td>\n",
       "      <td>NaN</td>\n",
       "      <td>USA</td>\n",
       "      <td>0.0</td>\n",
       "      <td>...</td>\n",
       "      <td>4.0</td>\n",
       "      <td>NaN</td>\n",
       "      <td>NaN</td>\n",
       "      <td>NaN</td>\n",
       "      <td>NaN</td>\n",
       "      <td>NaN</td>\n",
       "      <td>NaN</td>\n",
       "      <td>NaN</td>\n",
       "      <td>NaN</td>\n",
       "      <td>NaN</td>\n",
       "    </tr>\n",
       "  </tbody>\n",
       "</table>\n",
       "<p>5 rows × 22 columns</p>\n",
       "</div>"
      ],
      "text/plain": [
       "   company  ID      name category  code     status founded  at closed  at  \\\n",
       "0          1.0  Wetpaint            web  operating  2005-10-17        NaN   \n",
       "1          1.0  Wetpaint            web  operating  2005-10-17        NaN   \n",
       "2          1.0  Wetpaint            web  operating  2005-10-17        NaN   \n",
       "3         10.0   Flektor    games_video   acquired         NaN        NaN   \n",
       "4        100.0     There    games_video   acquired         NaN        NaN   \n",
       "\n",
       "             domain network  username country  code  investment  rounds  ...  \\\n",
       "0  wetpaint-inc.com   BachelrWetpaint           USA                 0.0  ...   \n",
       "1  wetpaint-inc.com   BachelrWetpaint           USA                 0.0  ...   \n",
       "2  wetpaint-inc.com   BachelrWetpaint           USA                 0.0  ...   \n",
       "3       flektor.com               NaN           USA                 0.0  ...   \n",
       "4         there.com               NaN           USA                 0.0  ...   \n",
       "\n",
       "   milestones  funding  round  id  company  id  funded  at  \\\n",
       "0         5.0               888.0          1.0  2005-10-01   \n",
       "1         5.0               889.0          1.0  2007-01-01   \n",
       "2         5.0              2312.0          1.0  2008-05-19   \n",
       "3         0.0                 NaN          NaN         NaN   \n",
       "4         4.0                 NaN          NaN         NaN   \n",
       "\n",
       "   funding  round  type raised  amount pre  money  valuation  participants  \\\n",
       "0              series-a      5250000.0                   0.0           2.0   \n",
       "1              series-b      9500000.0                   0.0           3.0   \n",
       "2             series-c+     25000000.0                   0.0           4.0   \n",
       "3                   NaN            NaN                   NaN           NaN   \n",
       "4                   NaN            NaN                   NaN           NaN   \n",
       "\n",
       "   is  first  round  is  last  round  \n",
       "0               0.0              1.0  \n",
       "1               0.0              0.0  \n",
       "2               1.0              0.0  \n",
       "3               NaN              NaN  \n",
       "4               NaN              NaN  \n",
       "\n",
       "[5 rows x 22 columns]"
      ]
     },
     "execution_count": 8,
     "metadata": {},
     "output_type": "execute_result"
    }
   ],
   "source": [
    "# Выводим первые строки датафрейма на экран\n",
    "company_df.head()"
   ]
  },
  {
   "cell_type": "code",
   "execution_count": 9,
   "metadata": {},
   "outputs": [
    {
     "name": "stdout",
     "output_type": "stream",
     "text": [
      "<class 'pandas.core.frame.DataFrame'>\n",
      "RangeIndex: 217774 entries, 0 to 217773\n",
      "Data columns (total 22 columns):\n",
      " #   Column                 Non-Null Count   Dtype  \n",
      "---  ------                 --------------   -----  \n",
      " 0   company  ID            217472 non-null  float64\n",
      " 1   name                   217472 non-null  object \n",
      " 2   category  code         143886 non-null  object \n",
      " 3   status                 217472 non-null  object \n",
      " 4   founded  at            109956 non-null  object \n",
      " 5   closed  at             3449 non-null    object \n",
      " 6   domain                 147159 non-null  object \n",
      " 7   network  username      95534 non-null   object \n",
      " 8   country  code          108607 non-null  object \n",
      " 9   investment  rounds     217472 non-null  float64\n",
      " 10  funding  rounds        217472 non-null  float64\n",
      " 11  funding  total         217472 non-null  float64\n",
      " 12  milestones             217472 non-null  float64\n",
      " 13  funding  round  id     52928 non-null   float64\n",
      " 14  company  id            52928 non-null   float64\n",
      " 15  funded  at             52680 non-null   object \n",
      " 16  funding  round  type   52928 non-null   object \n",
      " 17  raised  amount         52928 non-null   float64\n",
      " 18  pre  money  valuation  52928 non-null   float64\n",
      " 19  participants           52928 non-null   float64\n",
      " 20  is  first  round       52928 non-null   float64\n",
      " 21  is  last  round        52928 non-null   float64\n",
      "dtypes: float64(12), object(10)\n",
      "memory usage: 36.6+ MB\n"
     ]
    }
   ],
   "source": [
    "# Выводим информацию о датафрейме\n",
    "company_df.info()"
   ]
  },
  {
   "cell_type": "markdown",
   "metadata": {},
   "source": [
    "Датасет `company_and_rounds.csv` содержит 22 столбцa и 217 472 строк, в которых представлена информация о компаниях и раундах финансирования.\n",
    "\n",
    "После первичного анализа данных можно сделать следующие выводы:\n",
    "- Названия столбцов нужно привести к одному виду: snake case.\n",
    "- company  ID - содержит целочисленные значения, можно привести к формату int. столбцы `founded  at`(дата инвестирования), `closed  at` (дата закрытия) - привести к типу datetime64. Столбцы `investment  rounds`, `funding  rounds`, `funding  total`, `milestones` содержат целочисленные значения, приведем их к формату int, вместо float64.\n",
    "- Пропуски содержатся в 15 столбцах. \n",
    "- Судя по первому знакомству с данными, значения в столбцах соответствуют своему описанию."
   ]
  },
  {
   "cell_type": "markdown",
   "metadata": {},
   "source": [
    "Приведем названия столбцов к одному виду: snake case. И проверим результат"
   ]
  },
  {
   "cell_type": "code",
   "execution_count": 10,
   "metadata": {},
   "outputs": [],
   "source": [
    "company_df.columns = company_df.columns.str.replace(\"  \", \"_\")"
   ]
  },
  {
   "cell_type": "code",
   "execution_count": 11,
   "metadata": {},
   "outputs": [
    {
     "data": {
      "text/plain": [
       "Index(['company_ID', 'name', 'category_code', 'status', 'founded_at',\n",
       "       'closed_at', 'domain', 'network_username', 'country_code',\n",
       "       'investment_rounds', 'funding_rounds', 'funding_total', 'milestones',\n",
       "       'funding_round_id', 'company_id', 'funded_at', 'funding_round_type',\n",
       "       'raised_amount', 'pre_money_valuation', 'participants',\n",
       "       'is_first_round', 'is_last_round'],\n",
       "      dtype='object')"
      ]
     },
     "execution_count": 11,
     "metadata": {},
     "output_type": "execute_result"
    }
   ],
   "source": [
    "company_df.columns"
   ]
  },
  {
   "cell_type": "markdown",
   "metadata": {},
   "source": [
    "Также видим 2 одинаковых столбца в таблице company_ID и company_id, пока оставим как есть, возможно в них разная информация, поэтмоу пока не будем приводить их к одному виду."
   ]
  },
  {
   "cell_type": "markdown",
   "metadata": {},
   "source": [
    "Познакомимся с данными датасета people.csv — выведем первые строки методом head(), а информацию о датафрейме методом info():"
   ]
  },
  {
   "cell_type": "code",
   "execution_count": 12,
   "metadata": {},
   "outputs": [
    {
     "data": {
      "text/html": [
       "<div>\n",
       "<style scoped>\n",
       "    .dataframe tbody tr th:only-of-type {\n",
       "        vertical-align: middle;\n",
       "    }\n",
       "\n",
       "    .dataframe tbody tr th {\n",
       "        vertical-align: top;\n",
       "    }\n",
       "\n",
       "    .dataframe thead th {\n",
       "        text-align: right;\n",
       "    }\n",
       "</style>\n",
       "<table border=\"1\" class=\"dataframe\">\n",
       "  <thead>\n",
       "    <tr style=\"text-align: right;\">\n",
       "      <th></th>\n",
       "      <th>id</th>\n",
       "      <th>first_name</th>\n",
       "      <th>last_name</th>\n",
       "      <th>company_id</th>\n",
       "      <th>network_username</th>\n",
       "    </tr>\n",
       "  </thead>\n",
       "  <tbody>\n",
       "    <tr>\n",
       "      <th>0</th>\n",
       "      <td>10</td>\n",
       "      <td>Mark</td>\n",
       "      <td>Zuckerberg</td>\n",
       "      <td>5.0</td>\n",
       "      <td>NaN</td>\n",
       "    </tr>\n",
       "    <tr>\n",
       "      <th>1</th>\n",
       "      <td>100</td>\n",
       "      <td>Peter</td>\n",
       "      <td>Lester</td>\n",
       "      <td>27.0</td>\n",
       "      <td>NaN</td>\n",
       "    </tr>\n",
       "    <tr>\n",
       "      <th>2</th>\n",
       "      <td>1000</td>\n",
       "      <td>Dr. Steven</td>\n",
       "      <td>E. Saunders</td>\n",
       "      <td>292.0</td>\n",
       "      <td>NaN</td>\n",
       "    </tr>\n",
       "    <tr>\n",
       "      <th>3</th>\n",
       "      <td>10000</td>\n",
       "      <td>Neil</td>\n",
       "      <td>Capel</td>\n",
       "      <td>2526.0</td>\n",
       "      <td>NaN</td>\n",
       "    </tr>\n",
       "    <tr>\n",
       "      <th>4</th>\n",
       "      <td>100000</td>\n",
       "      <td>Sue</td>\n",
       "      <td>Pilsch</td>\n",
       "      <td>NaN</td>\n",
       "      <td>NaN</td>\n",
       "    </tr>\n",
       "  </tbody>\n",
       "</table>\n",
       "</div>"
      ],
      "text/plain": [
       "       id  first_name    last_name  company_id network_username\n",
       "0      10        Mark   Zuckerberg         5.0              NaN\n",
       "1     100       Peter       Lester        27.0              NaN\n",
       "2    1000  Dr. Steven  E. Saunders       292.0              NaN\n",
       "3   10000        Neil        Capel      2526.0              NaN\n",
       "4  100000         Sue       Pilsch         NaN              NaN"
      ]
     },
     "execution_count": 12,
     "metadata": {},
     "output_type": "execute_result"
    }
   ],
   "source": [
    "# Выводим первые строки датафрейма на экран\n",
    "people_df.head()"
   ]
  },
  {
   "cell_type": "code",
   "execution_count": 13,
   "metadata": {},
   "outputs": [
    {
     "name": "stdout",
     "output_type": "stream",
     "text": [
      "<class 'pandas.core.frame.DataFrame'>\n",
      "RangeIndex: 226709 entries, 0 to 226708\n",
      "Data columns (total 5 columns):\n",
      " #   Column            Non-Null Count   Dtype  \n",
      "---  ------            --------------   -----  \n",
      " 0   id                226709 non-null  int64  \n",
      " 1   first_name        226704 non-null  object \n",
      " 2   last_name         226708 non-null  object \n",
      " 3   company_id        34615 non-null   float64\n",
      " 4   network_username  38867 non-null   object \n",
      "dtypes: float64(1), int64(1), object(3)\n",
      "memory usage: 8.6+ MB\n"
     ]
    }
   ],
   "source": [
    "# Выводим информацию о датафрейме\n",
    "people_df.info()"
   ]
  },
  {
   "cell_type": "markdown",
   "metadata": {},
   "source": [
    "Датасет `people.csv` содержит 5 столбцов и 226709 строк, в которых представлена информация о сотрудниках.\n",
    "\n",
    "После первичного анализа данных можно сделать следующие выводы:\n",
    "\n",
    "- Названия столбцов приведены к одному виду: snake case.\n",
    "- В столбце `id` содержаться целочисленные значения, тип int корректный. Столбец `company_id` содержит целочисленные значения, но так как там содержаться пропуски тип данных - float64 корректный. Столбцы `network_username`, `last_name`, `first_name` содержат текстовую информацию тип данных `object` \n",
    "- Пропуски содержатся в 4 столбцах из 5.\n",
    "- Судя по первому знакомству с данными, значения в столбцах соответствуют своему описанию."
   ]
  },
  {
   "cell_type": "markdown",
   "metadata": {},
   "source": [
    "Познакомимся с данными датасета education.csv — выведем первые строки методом head(), а информацию о датафрейме методом info():"
   ]
  },
  {
   "cell_type": "code",
   "execution_count": 14,
   "metadata": {},
   "outputs": [
    {
     "data": {
      "text/html": [
       "<div>\n",
       "<style scoped>\n",
       "    .dataframe tbody tr th:only-of-type {\n",
       "        vertical-align: middle;\n",
       "    }\n",
       "\n",
       "    .dataframe tbody tr th {\n",
       "        vertical-align: top;\n",
       "    }\n",
       "\n",
       "    .dataframe thead th {\n",
       "        text-align: right;\n",
       "    }\n",
       "</style>\n",
       "<table border=\"1\" class=\"dataframe\">\n",
       "  <thead>\n",
       "    <tr style=\"text-align: right;\">\n",
       "      <th></th>\n",
       "      <th>id</th>\n",
       "      <th>person_id</th>\n",
       "      <th>instituition</th>\n",
       "      <th>graduated_at</th>\n",
       "    </tr>\n",
       "  </thead>\n",
       "  <tbody>\n",
       "    <tr>\n",
       "      <th>0</th>\n",
       "      <td>1</td>\n",
       "      <td>6117</td>\n",
       "      <td>NaN</td>\n",
       "      <td>NaN</td>\n",
       "    </tr>\n",
       "    <tr>\n",
       "      <th>1</th>\n",
       "      <td>2</td>\n",
       "      <td>6136</td>\n",
       "      <td>Washington University, St. Louis</td>\n",
       "      <td>1990-01-01</td>\n",
       "    </tr>\n",
       "    <tr>\n",
       "      <th>2</th>\n",
       "      <td>3</td>\n",
       "      <td>6136</td>\n",
       "      <td>Boston University</td>\n",
       "      <td>1992-01-01</td>\n",
       "    </tr>\n",
       "    <tr>\n",
       "      <th>3</th>\n",
       "      <td>4</td>\n",
       "      <td>6005</td>\n",
       "      <td>University of Greenwich</td>\n",
       "      <td>2006-01-01</td>\n",
       "    </tr>\n",
       "    <tr>\n",
       "      <th>4</th>\n",
       "      <td>5</td>\n",
       "      <td>5832</td>\n",
       "      <td>Rice University</td>\n",
       "      <td>NaN</td>\n",
       "    </tr>\n",
       "  </tbody>\n",
       "</table>\n",
       "</div>"
      ],
      "text/plain": [
       "   id  person_id                      instituition graduated_at\n",
       "0   1       6117                               NaN          NaN\n",
       "1   2       6136  Washington University, St. Louis   1990-01-01\n",
       "2   3       6136                 Boston University   1992-01-01\n",
       "3   4       6005           University of Greenwich   2006-01-01\n",
       "4   5       5832                   Rice University          NaN"
      ]
     },
     "execution_count": 14,
     "metadata": {},
     "output_type": "execute_result"
    }
   ],
   "source": [
    "# Выводим первые строки датафрейма на экран\n",
    "education_df.head()"
   ]
  },
  {
   "cell_type": "code",
   "execution_count": 15,
   "metadata": {},
   "outputs": [
    {
     "name": "stdout",
     "output_type": "stream",
     "text": [
      "<class 'pandas.core.frame.DataFrame'>\n",
      "RangeIndex: 109610 entries, 0 to 109609\n",
      "Data columns (total 4 columns):\n",
      " #   Column        Non-Null Count   Dtype \n",
      "---  ------        --------------   ----- \n",
      " 0   id            109610 non-null  int64 \n",
      " 1   person_id     109610 non-null  int64 \n",
      " 2   instituition  109555 non-null  object\n",
      " 3   graduated_at  58054 non-null   object\n",
      "dtypes: int64(2), object(2)\n",
      "memory usage: 3.3+ MB\n"
     ]
    }
   ],
   "source": [
    "# Выводим информацию о датафрейме\n",
    "education_df.info()"
   ]
  },
  {
   "cell_type": "markdown",
   "metadata": {},
   "source": [
    "Датасет education.csv содержит 4 столбца и 109610 строк, в которых представлена информация об образовании сотрудников.\n",
    "\n",
    "После первичного анализа данных можно сделать следующие выводы:\n",
    "\n",
    "- Названия столбцов приведены к одному виду: snake case.\n",
    "- В столбцах `id` и `person_id`содержатся целочисленные значения, тип int корректный. Столбец `instituition` содержит текстовую информацию тип данных object корректный. Cтолбец `graduated_at` (дата получения образования) - перевести к типу datetime64.\n",
    "- Пропуски содержатся в 2 столбцах из 4. Верояно, у тех сотрудников, столбец с образование не заполнен - либо нет высшего образования или средне-специального образования, либо утеряны документы о получении, и нет возможности воостановить дату образования.\n",
    "- Судя по первому знакомству с данными, значения в столбцах соответствуют своему описанию."
   ]
  },
  {
   "cell_type": "markdown",
   "metadata": {},
   "source": [
    "Познакомимся с данными датасета degrees.csv — выведем первые строки методом head(), а информацию о датафрейме методом info():"
   ]
  },
  {
   "cell_type": "code",
   "execution_count": 16,
   "metadata": {},
   "outputs": [
    {
     "data": {
      "text/html": [
       "<div>\n",
       "<style scoped>\n",
       "    .dataframe tbody tr th:only-of-type {\n",
       "        vertical-align: middle;\n",
       "    }\n",
       "\n",
       "    .dataframe tbody tr th {\n",
       "        vertical-align: top;\n",
       "    }\n",
       "\n",
       "    .dataframe thead th {\n",
       "        text-align: right;\n",
       "    }\n",
       "</style>\n",
       "<table border=\"1\" class=\"dataframe\">\n",
       "  <thead>\n",
       "    <tr style=\"text-align: right;\">\n",
       "      <th></th>\n",
       "      <th>id</th>\n",
       "      <th>object_id</th>\n",
       "      <th>degree_type</th>\n",
       "      <th>subject</th>\n",
       "    </tr>\n",
       "  </thead>\n",
       "  <tbody>\n",
       "    <tr>\n",
       "      <th>0</th>\n",
       "      <td>1</td>\n",
       "      <td>p:6117</td>\n",
       "      <td>MBA</td>\n",
       "      <td>NaN</td>\n",
       "    </tr>\n",
       "    <tr>\n",
       "      <th>1</th>\n",
       "      <td>2</td>\n",
       "      <td>p:6136</td>\n",
       "      <td>BA</td>\n",
       "      <td>English, French</td>\n",
       "    </tr>\n",
       "    <tr>\n",
       "      <th>2</th>\n",
       "      <td>3</td>\n",
       "      <td>p:6136</td>\n",
       "      <td>MS</td>\n",
       "      <td>Mass Communication</td>\n",
       "    </tr>\n",
       "    <tr>\n",
       "      <th>3</th>\n",
       "      <td>4</td>\n",
       "      <td>p:6005</td>\n",
       "      <td>MS</td>\n",
       "      <td>Internet Technology</td>\n",
       "    </tr>\n",
       "    <tr>\n",
       "      <th>4</th>\n",
       "      <td>5</td>\n",
       "      <td>p:5832</td>\n",
       "      <td>BCS</td>\n",
       "      <td>Computer Science, Psychology</td>\n",
       "    </tr>\n",
       "  </tbody>\n",
       "</table>\n",
       "</div>"
      ],
      "text/plain": [
       "   id object_id degree_type                       subject\n",
       "0   1    p:6117         MBA                           NaN\n",
       "1   2    p:6136          BA               English, French\n",
       "2   3    p:6136          MS            Mass Communication\n",
       "3   4    p:6005          MS           Internet Technology\n",
       "4   5    p:5832         BCS  Computer Science, Psychology"
      ]
     },
     "execution_count": 16,
     "metadata": {},
     "output_type": "execute_result"
    }
   ],
   "source": [
    "# Выводим первые строки датафрейма на экран\n",
    "degrees_df.head()"
   ]
  },
  {
   "cell_type": "code",
   "execution_count": 17,
   "metadata": {},
   "outputs": [
    {
     "name": "stdout",
     "output_type": "stream",
     "text": [
      "<class 'pandas.core.frame.DataFrame'>\n",
      "RangeIndex: 109610 entries, 0 to 109609\n",
      "Data columns (total 4 columns):\n",
      " #   Column       Non-Null Count   Dtype \n",
      "---  ------       --------------   ----- \n",
      " 0   id           109610 non-null  int64 \n",
      " 1   object_id    109610 non-null  object\n",
      " 2   degree_type  98392 non-null   object\n",
      " 3   subject      81298 non-null   object\n",
      "dtypes: int64(1), object(3)\n",
      "memory usage: 3.3+ MB\n"
     ]
    }
   ],
   "source": [
    "# Выводим информацию о датафрейме\n",
    "degrees_df.info()"
   ]
  },
  {
   "cell_type": "markdown",
   "metadata": {},
   "source": [
    "Датасет `degrees.csv` содержит 4 столбца и 109610 строк, в которых представлена информация о типе образовании сотрудников.\n",
    "\n",
    "После первичного анализа данных можно сделать следующие выводы:\n",
    "\n",
    "- Названия столбцов приведены к одному виду: snake case.\n",
    "- В столбцах id содержатся целочисленные значения, тип int корректный. Столбец object_id (идентификатор сотрудника) содержит текстовые симводы p: - их следует удалить и оставить только числа, далее привести тип столбца к int.Столбцы degree_type и subject содержат текстовыую информацию, тип object указан корректно.\n",
    "- Пропуски содержатся в 2 столбцах из 4. Верояно, пропуски у тех сотрудников,где либо нет высшего образования, либо утеряны документы о получении, и нет возможности воостановить тип образования.\n",
    "- Судя по первому знакомству с данными, значения в столбцах соответствуют своему описанию."
   ]
  },
  {
   "cell_type": "markdown",
   "metadata": {},
   "source": [
    "Удалим текстовые симводы из столбца object_id. И выведем значения этого столбца."
   ]
  },
  {
   "cell_type": "code",
   "execution_count": 18,
   "metadata": {},
   "outputs": [],
   "source": [
    "degrees_df['object_id'] = degrees_df['object_id'].str.replace(\"p:\", \"\")"
   ]
  },
  {
   "cell_type": "code",
   "execution_count": 19,
   "metadata": {},
   "outputs": [
    {
     "data": {
      "text/plain": [
       "0           6117\n",
       "1           6136\n",
       "2           6136\n",
       "3           6005\n",
       "4           5832\n",
       "           ...  \n",
       "109605    268589\n",
       "109606    268527\n",
       "109607    268527\n",
       "109608    268528\n",
       "109609    268528\n",
       "Name: object_id, Length: 109610, dtype: object"
      ]
     },
     "execution_count": 19,
     "metadata": {},
     "output_type": "execute_result"
    }
   ],
   "source": [
    "degrees_df['object_id']"
   ]
  },
  {
   "cell_type": "markdown",
   "metadata": {},
   "source": [
    "**Вывод:** \n",
    "- Судя по первому знакомству с данными, значения в столбцах соответствуют своему описанию.\n",
    "- Привели названия столбцов к одному виду в таблице `company_df`. Теперь во всех таблицах названия в столбцах в одном стиле.\n",
    "- Удалили лишние симводы в столбце `object_id` таблицы `degrees_df`, оставили только числовую информацию.\n",
    "- Определили, что стоблцы содержащие дату нужно привести к типу datetime64: `acquired_at` в таблице `acquisition_df`, столбцы `founded_at`, `closed_at` в таблице `company_df`, `graduated_at` в таблице `education_df`.\n",
    "- Определили,что столбец `object_id` в таблице `degrees_df`нужно перевести к формату int.\n",
    "- Определили,что в каждой таблице содержатся пропуски.\n",
    "    \n",
    "    "
   ]
  },
  {
   "cell_type": "markdown",
   "metadata": {
    "id": "mg2gEwh0rJg0"
   },
   "source": [
    "### 1.2. Смена типов и анализ пропусков\n",
    "\n",
    "- Обработайте типы данных в столбцах, которые хранят значения даты и времени, если это необходимо.\n",
    "- Оцените полноту данных — сделайте предварительный вывод, достаточно ли данных для решения задач проекта."
   ]
  },
  {
   "cell_type": "markdown",
   "metadata": {},
   "source": [
    "Обработаем типы данных в столбцах. Стоблбцы содержащие дату приведем к типу datetime64: `acquired_at` в таблице `acquisition_df`, столбцы `founded_at`, `closed_at` в таблице `company_df`, `graduated_at` в таблице `education_df`"
   ]
  },
  {
   "cell_type": "code",
   "execution_count": 20,
   "metadata": {
    "id": "DEg1tl8DFeBn"
   },
   "outputs": [],
   "source": [
    "# Меняем тип данных в столбце 'acquired_at'\n",
    "acquisition_df['acquired_at']=acquisition_df['acquired_at'].astype('datetime64')"
   ]
  },
  {
   "cell_type": "code",
   "execution_count": 21,
   "metadata": {},
   "outputs": [
    {
     "data": {
      "text/plain": [
       "id                               int64\n",
       "acquiring_company_id             int64\n",
       "acquired_company_id              int64\n",
       "term_code                       object\n",
       "price_amount                     int64\n",
       "acquired_at             datetime64[ns]\n",
       "dtype: object"
      ]
     },
     "execution_count": 21,
     "metadata": {},
     "output_type": "execute_result"
    }
   ],
   "source": [
    "# проверим результат преобразования\n",
    "acquisition_df.dtypes"
   ]
  },
  {
   "cell_type": "code",
   "execution_count": 22,
   "metadata": {},
   "outputs": [],
   "source": [
    "# Меняем тип данных в столбце founded_at\n",
    "company_df['founded_at']=company_df['founded_at'].astype('datetime64')"
   ]
  },
  {
   "cell_type": "code",
   "execution_count": 23,
   "metadata": {},
   "outputs": [],
   "source": [
    "# Меняем тип данных в столбце closed_at\n",
    "company_df['closed_at']=company_df['closed_at'].astype('datetime64')"
   ]
  },
  {
   "cell_type": "code",
   "execution_count": 24,
   "metadata": {},
   "outputs": [],
   "source": [
    "# Меняем тип данных в столбце closed_at\n",
    "company_df['funded_at']=company_df['funded_at'].astype('datetime64')"
   ]
  },
  {
   "cell_type": "code",
   "execution_count": 26,
   "metadata": {},
   "outputs": [],
   "source": [
    "# Меняем тип данных в столбце graduated_at\n",
    "education_df['graduated_at']=education_df['graduated_at'].astype('datetime64')"
   ]
  },
  {
   "cell_type": "code",
   "execution_count": 27,
   "metadata": {},
   "outputs": [
    {
     "data": {
      "text/plain": [
       "id                               int64\n",
       "acquiring_company_id             int64\n",
       "acquired_company_id              int64\n",
       "term_code                       object\n",
       "price_amount                     int64\n",
       "acquired_at             datetime64[ns]\n",
       "dtype: object"
      ]
     },
     "execution_count": 27,
     "metadata": {},
     "output_type": "execute_result"
    }
   ],
   "source": [
    "# проверим результат преобразования\n",
    "acquisition_df.dtypes"
   ]
  },
  {
   "cell_type": "code",
   "execution_count": 28,
   "metadata": {},
   "outputs": [],
   "source": [
    "# Меняем тип данных в столбце object_id\n",
    "degrees_df['object_id']=degrees_df['object_id'].astype('int')"
   ]
  },
  {
   "cell_type": "code",
   "execution_count": 29,
   "metadata": {},
   "outputs": [
    {
     "data": {
      "text/plain": [
       "id              int64\n",
       "object_id       int64\n",
       "degree_type    object\n",
       "subject        object\n",
       "dtype: object"
      ]
     },
     "execution_count": 29,
     "metadata": {},
     "output_type": "execute_result"
    }
   ],
   "source": [
    "# проверим результат преобразования\n",
    "degrees_df.dtypes"
   ]
  },
  {
   "cell_type": "markdown",
   "metadata": {},
   "source": [
    "acquisition_df = pd.read_csv('https://code.s3.yandex.net/datasets/acquisition.csv')\n",
    "company_df = pd.read_csv('https://code.s3.yandex.net/datasets/company_and_rounds.csv')\n",
    "people_df = pd.read_csv('https://code.s3.yandex.net/datasets/people.csv')\n",
    "education_df = pd.read_csv('https://code.s3.yandex.net/datasets/education.csv')\n",
    "degrees_df = pd.read_csv('https://code.s3.yandex.net/datasets/degrees.csv')"
   ]
  },
  {
   "cell_type": "markdown",
   "metadata": {},
   "source": [
    "Проанализируем пропуски в таблице `acquisition_df`"
   ]
  },
  {
   "cell_type": "code",
   "execution_count": 30,
   "metadata": {},
   "outputs": [
    {
     "data": {
      "text/html": [
       "<style  type=\"text/css\" >\n",
       "#T_6c962_row0_col0,#T_6c962_row0_col1{\n",
       "            background-color:  #b40426;\n",
       "            color:  #f1f1f1;\n",
       "        }#T_6c962_row1_col0,#T_6c962_row1_col1,#T_6c962_row2_col0,#T_6c962_row2_col1,#T_6c962_row3_col0,#T_6c962_row3_col1,#T_6c962_row4_col0,#T_6c962_row4_col1,#T_6c962_row5_col0,#T_6c962_row5_col1{\n",
       "            background-color:  #3b4cc0;\n",
       "            color:  #f1f1f1;\n",
       "        }</style><table id=\"T_6c962_\" ><thead>    <tr>        <th class=\"blank level0\" ></th>        <th class=\"col_heading level0 col0\" >Кол-во пропусков</th>        <th class=\"col_heading level0 col1\" >Доля пропусков</th>    </tr></thead><tbody>\n",
       "                <tr>\n",
       "                        <th id=\"T_6c962_level0_row0\" class=\"row_heading level0 row0\" >term_code</th>\n",
       "                        <td id=\"T_6c962_row0_col0\" class=\"data row0 col0\" >7576</td>\n",
       "                        <td id=\"T_6c962_row0_col1\" class=\"data row0 col1\" >0.805400</td>\n",
       "            </tr>\n",
       "            <tr>\n",
       "                        <th id=\"T_6c962_level0_row1\" class=\"row_heading level0 row1\" >acquired_at</th>\n",
       "                        <td id=\"T_6c962_row1_col0\" class=\"data row1 col0\" >29</td>\n",
       "                        <td id=\"T_6c962_row1_col1\" class=\"data row1 col1\" >0.003100</td>\n",
       "            </tr>\n",
       "            <tr>\n",
       "                        <th id=\"T_6c962_level0_row2\" class=\"row_heading level0 row2\" >id</th>\n",
       "                        <td id=\"T_6c962_row2_col0\" class=\"data row2 col0\" >0</td>\n",
       "                        <td id=\"T_6c962_row2_col1\" class=\"data row2 col1\" >0.000000</td>\n",
       "            </tr>\n",
       "            <tr>\n",
       "                        <th id=\"T_6c962_level0_row3\" class=\"row_heading level0 row3\" >acquiring_company_id</th>\n",
       "                        <td id=\"T_6c962_row3_col0\" class=\"data row3 col0\" >0</td>\n",
       "                        <td id=\"T_6c962_row3_col1\" class=\"data row3 col1\" >0.000000</td>\n",
       "            </tr>\n",
       "            <tr>\n",
       "                        <th id=\"T_6c962_level0_row4\" class=\"row_heading level0 row4\" >acquired_company_id</th>\n",
       "                        <td id=\"T_6c962_row4_col0\" class=\"data row4 col0\" >0</td>\n",
       "                        <td id=\"T_6c962_row4_col1\" class=\"data row4 col1\" >0.000000</td>\n",
       "            </tr>\n",
       "            <tr>\n",
       "                        <th id=\"T_6c962_level0_row5\" class=\"row_heading level0 row5\" >price_amount</th>\n",
       "                        <td id=\"T_6c962_row5_col0\" class=\"data row5 col0\" >0</td>\n",
       "                        <td id=\"T_6c962_row5_col1\" class=\"data row5 col1\" >0.000000</td>\n",
       "            </tr>\n",
       "    </tbody></table>"
      ],
      "text/plain": [
       "<pandas.io.formats.style.Styler at 0x7fc373588820>"
      ]
     },
     "execution_count": 30,
     "metadata": {},
     "output_type": "execute_result"
    }
   ],
   "source": [
    "# Проанализируем пропуски\n",
    "missing = (pd.DataFrame({'Кол-во пропусков': acquisition_df.isnull().sum().sort_values(ascending=False), 'Доля пропусков': acquisition_df.isnull().mean().round(4).sort_values(ascending=False)})\n",
    "           .style.background_gradient(cmap='coolwarm'))\n",
    "missing"
   ]
  },
  {
   "cell_type": "markdown",
   "metadata": {},
   "source": [
    "Пропуски содержаться в столбцах: term_code — варианты расчёта, acquired_at — дата сделки. Видимо при сделке, была потеряна информация о варианте расчета и дате сдлеки. Эта информация не повляет на ход нашего исследования. "
   ]
  },
  {
   "cell_type": "markdown",
   "metadata": {},
   "source": [
    "Проанализируем пропуски в таблице  `company_df`"
   ]
  },
  {
   "cell_type": "code",
   "execution_count": 31,
   "metadata": {},
   "outputs": [
    {
     "data": {
      "text/html": [
       "<style  type=\"text/css\" >\n",
       "#T_baeb8_row0_col0,#T_baeb8_row0_col1{\n",
       "            background-color:  #b40426;\n",
       "            color:  #f1f1f1;\n",
       "        }#T_baeb8_row1_col0,#T_baeb8_row1_col1{\n",
       "            background-color:  #f29072;\n",
       "            color:  #000000;\n",
       "        }#T_baeb8_row2_col0,#T_baeb8_row2_col1,#T_baeb8_row3_col0,#T_baeb8_row3_col1,#T_baeb8_row4_col0,#T_baeb8_row4_col1,#T_baeb8_row5_col0,#T_baeb8_row5_col1,#T_baeb8_row6_col0,#T_baeb8_row6_col1,#T_baeb8_row7_col0,#T_baeb8_row7_col1,#T_baeb8_row8_col0,#T_baeb8_row8_col1,#T_baeb8_row9_col0,#T_baeb8_row9_col1{\n",
       "            background-color:  #f29274;\n",
       "            color:  #000000;\n",
       "        }#T_baeb8_row10_col0,#T_baeb8_row10_col1{\n",
       "            background-color:  #edd2c3;\n",
       "            color:  #000000;\n",
       "        }#T_baeb8_row11_col0,#T_baeb8_row11_col1{\n",
       "            background-color:  #dfdbd9;\n",
       "            color:  #000000;\n",
       "        }#T_baeb8_row12_col0,#T_baeb8_row12_col1{\n",
       "            background-color:  #dddcdc;\n",
       "            color:  #000000;\n",
       "        }#T_baeb8_row13_col0,#T_baeb8_row13_col1{\n",
       "            background-color:  #aec9fc;\n",
       "            color:  #000000;\n",
       "        }#T_baeb8_row14_col0,#T_baeb8_row14_col1{\n",
       "            background-color:  #a9c6fd;\n",
       "            color:  #000000;\n",
       "        }#T_baeb8_row15_col0,#T_baeb8_row15_col1,#T_baeb8_row16_col0,#T_baeb8_row16_col1,#T_baeb8_row17_col0,#T_baeb8_row17_col1,#T_baeb8_row18_col0,#T_baeb8_row18_col1,#T_baeb8_row19_col0,#T_baeb8_row19_col1,#T_baeb8_row20_col0,#T_baeb8_row20_col1,#T_baeb8_row21_col0,#T_baeb8_row21_col1{\n",
       "            background-color:  #3b4cc0;\n",
       "            color:  #f1f1f1;\n",
       "        }</style><table id=\"T_baeb8_\" ><thead>    <tr>        <th class=\"blank level0\" ></th>        <th class=\"col_heading level0 col0\" >Кол-во пропусков</th>        <th class=\"col_heading level0 col1\" >Доля пропусков</th>    </tr></thead><tbody>\n",
       "                <tr>\n",
       "                        <th id=\"T_baeb8_level0_row0\" class=\"row_heading level0 row0\" >closed_at</th>\n",
       "                        <td id=\"T_baeb8_row0_col0\" class=\"data row0 col0\" >214325</td>\n",
       "                        <td id=\"T_baeb8_row0_col1\" class=\"data row0 col1\" >0.984200</td>\n",
       "            </tr>\n",
       "            <tr>\n",
       "                        <th id=\"T_baeb8_level0_row1\" class=\"row_heading level0 row1\" >funded_at</th>\n",
       "                        <td id=\"T_baeb8_row1_col0\" class=\"data row1 col0\" >165094</td>\n",
       "                        <td id=\"T_baeb8_row1_col1\" class=\"data row1 col1\" >0.758100</td>\n",
       "            </tr>\n",
       "            <tr>\n",
       "                        <th id=\"T_baeb8_level0_row2\" class=\"row_heading level0 row2\" >is_last_round</th>\n",
       "                        <td id=\"T_baeb8_row2_col0\" class=\"data row2 col0\" >164846</td>\n",
       "                        <td id=\"T_baeb8_row2_col1\" class=\"data row2 col1\" >0.757000</td>\n",
       "            </tr>\n",
       "            <tr>\n",
       "                        <th id=\"T_baeb8_level0_row3\" class=\"row_heading level0 row3\" >is_first_round</th>\n",
       "                        <td id=\"T_baeb8_row3_col0\" class=\"data row3 col0\" >164846</td>\n",
       "                        <td id=\"T_baeb8_row3_col1\" class=\"data row3 col1\" >0.757000</td>\n",
       "            </tr>\n",
       "            <tr>\n",
       "                        <th id=\"T_baeb8_level0_row4\" class=\"row_heading level0 row4\" >participants</th>\n",
       "                        <td id=\"T_baeb8_row4_col0\" class=\"data row4 col0\" >164846</td>\n",
       "                        <td id=\"T_baeb8_row4_col1\" class=\"data row4 col1\" >0.757000</td>\n",
       "            </tr>\n",
       "            <tr>\n",
       "                        <th id=\"T_baeb8_level0_row5\" class=\"row_heading level0 row5\" >pre_money_valuation</th>\n",
       "                        <td id=\"T_baeb8_row5_col0\" class=\"data row5 col0\" >164846</td>\n",
       "                        <td id=\"T_baeb8_row5_col1\" class=\"data row5 col1\" >0.757000</td>\n",
       "            </tr>\n",
       "            <tr>\n",
       "                        <th id=\"T_baeb8_level0_row6\" class=\"row_heading level0 row6\" >raised_amount</th>\n",
       "                        <td id=\"T_baeb8_row6_col0\" class=\"data row6 col0\" >164846</td>\n",
       "                        <td id=\"T_baeb8_row6_col1\" class=\"data row6 col1\" >0.757000</td>\n",
       "            </tr>\n",
       "            <tr>\n",
       "                        <th id=\"T_baeb8_level0_row7\" class=\"row_heading level0 row7\" >funding_round_type</th>\n",
       "                        <td id=\"T_baeb8_row7_col0\" class=\"data row7 col0\" >164846</td>\n",
       "                        <td id=\"T_baeb8_row7_col1\" class=\"data row7 col1\" >0.757000</td>\n",
       "            </tr>\n",
       "            <tr>\n",
       "                        <th id=\"T_baeb8_level0_row8\" class=\"row_heading level0 row8\" >funding_round_id</th>\n",
       "                        <td id=\"T_baeb8_row8_col0\" class=\"data row8 col0\" >164846</td>\n",
       "                        <td id=\"T_baeb8_row8_col1\" class=\"data row8 col1\" >0.757000</td>\n",
       "            </tr>\n",
       "            <tr>\n",
       "                        <th id=\"T_baeb8_level0_row9\" class=\"row_heading level0 row9\" >company_id</th>\n",
       "                        <td id=\"T_baeb8_row9_col0\" class=\"data row9 col0\" >164846</td>\n",
       "                        <td id=\"T_baeb8_row9_col1\" class=\"data row9 col1\" >0.757000</td>\n",
       "            </tr>\n",
       "            <tr>\n",
       "                        <th id=\"T_baeb8_level0_row10\" class=\"row_heading level0 row10\" >network_username</th>\n",
       "                        <td id=\"T_baeb8_row10_col0\" class=\"data row10 col0\" >122240</td>\n",
       "                        <td id=\"T_baeb8_row10_col1\" class=\"data row10 col1\" >0.561300</td>\n",
       "            </tr>\n",
       "            <tr>\n",
       "                        <th id=\"T_baeb8_level0_row11\" class=\"row_heading level0 row11\" >country_code</th>\n",
       "                        <td id=\"T_baeb8_row11_col0\" class=\"data row11 col0\" >109167</td>\n",
       "                        <td id=\"T_baeb8_row11_col1\" class=\"data row11 col1\" >0.501300</td>\n",
       "            </tr>\n",
       "            <tr>\n",
       "                        <th id=\"T_baeb8_level0_row12\" class=\"row_heading level0 row12\" >founded_at</th>\n",
       "                        <td id=\"T_baeb8_row12_col0\" class=\"data row12 col0\" >107818</td>\n",
       "                        <td id=\"T_baeb8_row12_col1\" class=\"data row12 col1\" >0.495100</td>\n",
       "            </tr>\n",
       "            <tr>\n",
       "                        <th id=\"T_baeb8_level0_row13\" class=\"row_heading level0 row13\" >category_code</th>\n",
       "                        <td id=\"T_baeb8_row13_col0\" class=\"data row13 col0\" >73888</td>\n",
       "                        <td id=\"T_baeb8_row13_col1\" class=\"data row13 col1\" >0.339300</td>\n",
       "            </tr>\n",
       "            <tr>\n",
       "                        <th id=\"T_baeb8_level0_row14\" class=\"row_heading level0 row14\" >domain</th>\n",
       "                        <td id=\"T_baeb8_row14_col0\" class=\"data row14 col0\" >70615</td>\n",
       "                        <td id=\"T_baeb8_row14_col1\" class=\"data row14 col1\" >0.324300</td>\n",
       "            </tr>\n",
       "            <tr>\n",
       "                        <th id=\"T_baeb8_level0_row15\" class=\"row_heading level0 row15\" >company_ID</th>\n",
       "                        <td id=\"T_baeb8_row15_col0\" class=\"data row15 col0\" >302</td>\n",
       "                        <td id=\"T_baeb8_row15_col1\" class=\"data row15 col1\" >0.001400</td>\n",
       "            </tr>\n",
       "            <tr>\n",
       "                        <th id=\"T_baeb8_level0_row16\" class=\"row_heading level0 row16\" >milestones</th>\n",
       "                        <td id=\"T_baeb8_row16_col0\" class=\"data row16 col0\" >302</td>\n",
       "                        <td id=\"T_baeb8_row16_col1\" class=\"data row16 col1\" >0.001400</td>\n",
       "            </tr>\n",
       "            <tr>\n",
       "                        <th id=\"T_baeb8_level0_row17\" class=\"row_heading level0 row17\" >name</th>\n",
       "                        <td id=\"T_baeb8_row17_col0\" class=\"data row17 col0\" >302</td>\n",
       "                        <td id=\"T_baeb8_row17_col1\" class=\"data row17 col1\" >0.001400</td>\n",
       "            </tr>\n",
       "            <tr>\n",
       "                        <th id=\"T_baeb8_level0_row18\" class=\"row_heading level0 row18\" >funding_rounds</th>\n",
       "                        <td id=\"T_baeb8_row18_col0\" class=\"data row18 col0\" >302</td>\n",
       "                        <td id=\"T_baeb8_row18_col1\" class=\"data row18 col1\" >0.001400</td>\n",
       "            </tr>\n",
       "            <tr>\n",
       "                        <th id=\"T_baeb8_level0_row19\" class=\"row_heading level0 row19\" >investment_rounds</th>\n",
       "                        <td id=\"T_baeb8_row19_col0\" class=\"data row19 col0\" >302</td>\n",
       "                        <td id=\"T_baeb8_row19_col1\" class=\"data row19 col1\" >0.001400</td>\n",
       "            </tr>\n",
       "            <tr>\n",
       "                        <th id=\"T_baeb8_level0_row20\" class=\"row_heading level0 row20\" >status</th>\n",
       "                        <td id=\"T_baeb8_row20_col0\" class=\"data row20 col0\" >302</td>\n",
       "                        <td id=\"T_baeb8_row20_col1\" class=\"data row20 col1\" >0.001400</td>\n",
       "            </tr>\n",
       "            <tr>\n",
       "                        <th id=\"T_baeb8_level0_row21\" class=\"row_heading level0 row21\" >funding_total</th>\n",
       "                        <td id=\"T_baeb8_row21_col0\" class=\"data row21 col0\" >302</td>\n",
       "                        <td id=\"T_baeb8_row21_col1\" class=\"data row21 col1\" >0.001400</td>\n",
       "            </tr>\n",
       "    </tbody></table>"
      ],
      "text/plain": [
       "<pandas.io.formats.style.Styler at 0x7fc3752cae80>"
      ]
     },
     "execution_count": 31,
     "metadata": {},
     "output_type": "execute_result"
    }
   ],
   "source": [
    "# Проанализируем пропуски\n",
    "missing = (pd.DataFrame({'Кол-во пропусков': company_df.isnull().sum().sort_values(ascending=False), 'Доля пропусков': company_df.isnull().mean().round(4).sort_values(ascending=False)})\n",
    "           .style.background_gradient(cmap='coolwarm'))\n",
    "missing"
   ]
  },
  {
   "cell_type": "markdown",
   "metadata": {},
   "source": [
    "В каждом столбце таблицы есть пропуски. Даже в столбцах company_id, хотя в этих столбцах поидее не должно быть пропусков или ни должны быть в меньшем колличестве. "
   ]
  },
  {
   "cell_type": "markdown",
   "metadata": {},
   "source": [
    "\n",
    "<div class=\"alert alert-success\">\n",
    "<font size=\"5\"><b>Комментарий ревьюера</b></font>\n",
    "\n",
    "\n",
    "\n",
    "Успех 👍:\n",
    "\n",
    "\n",
    "\n",
    "- Информация о пропусках в абсолютных и относительных значениях выведена, молодец\n",
    "\n",
    " \n",
    "       \n",
    "    \n",
    "<div class=\"alert alert-warning\">\n",
    " \n",
    "\n",
    "Совет 🤔:\n",
    "    \n",
    "    \n",
    "     \n",
    "    \n",
    "- Немножко теории о пропусках и как мы можем с ними работать, можешь почитать [тут](https://loginom.ru/blog/missing)    \n",
    "    \n",
    "\n",
    "    \n",
    "- Можно визуализировать пропуски с помощью библиотеки [missingno](https://www.geeksforgeeks.org/python-visualize-missing-values-nan-values-using-missingno-library/), выглядит красиво\n",
    "    \n",
    "А главное мы поймём структуру пропусков в company_and_rounds, а это важно для последнего раздела первой части. Посоветовал бы использовать  msno.matrix(),  и там бы мы увидели кластеры пропусков.   Это   мощная подсказкой для  последнего раздела первой части    \n",
    "    \n",
    "    \n",
    "Также у missingno есть дополнительный функционал\n",
    "\n",
    "    msno.heatmap(df)\n",
    "\n",
    "Так можно посмотреть на корреляцию между пропусками в разных столбцах, это может подсказать как образовались многие наши пропуски\n",
    "\n",
    " "
   ]
  },
  {
   "cell_type": "markdown",
   "metadata": {},
   "source": [
    "Проанализируем пропуски в таблице  `people_df`"
   ]
  },
  {
   "cell_type": "code",
   "execution_count": 32,
   "metadata": {},
   "outputs": [
    {
     "data": {
      "text/html": [
       "<style  type=\"text/css\" >\n",
       "#T_f7c3b_row0_col0,#T_f7c3b_row0_col1{\n",
       "            background-color:  #b40426;\n",
       "            color:  #f1f1f1;\n",
       "        }#T_f7c3b_row1_col0,#T_f7c3b_row1_col1,#T_f7c3b_row2_col0,#T_f7c3b_row2_col1,#T_f7c3b_row3_col0,#T_f7c3b_row3_col1{\n",
       "            background-color:  #3b4cc0;\n",
       "            color:  #f1f1f1;\n",
       "        }#T_f7c3b_row4_col0,#T_f7c3b_row4_col1{\n",
       "            background-color:  #bb1b2c;\n",
       "            color:  #f1f1f1;\n",
       "        }</style><table id=\"T_f7c3b_\" ><thead>    <tr>        <th class=\"blank level0\" ></th>        <th class=\"col_heading level0 col0\" >Кол-во пропусков</th>        <th class=\"col_heading level0 col1\" >Доля пропусков</th>    </tr></thead><tbody>\n",
       "                <tr>\n",
       "                        <th id=\"T_f7c3b_level0_row0\" class=\"row_heading level0 row0\" >company_id</th>\n",
       "                        <td id=\"T_f7c3b_row0_col0\" class=\"data row0 col0\" >192094</td>\n",
       "                        <td id=\"T_f7c3b_row0_col1\" class=\"data row0 col1\" >0.847300</td>\n",
       "            </tr>\n",
       "            <tr>\n",
       "                        <th id=\"T_f7c3b_level0_row1\" class=\"row_heading level0 row1\" >first_name</th>\n",
       "                        <td id=\"T_f7c3b_row1_col0\" class=\"data row1 col0\" >5</td>\n",
       "                        <td id=\"T_f7c3b_row1_col1\" class=\"data row1 col1\" >0.000000</td>\n",
       "            </tr>\n",
       "            <tr>\n",
       "                        <th id=\"T_f7c3b_level0_row2\" class=\"row_heading level0 row2\" >id</th>\n",
       "                        <td id=\"T_f7c3b_row2_col0\" class=\"data row2 col0\" >0</td>\n",
       "                        <td id=\"T_f7c3b_row2_col1\" class=\"data row2 col1\" >0.000000</td>\n",
       "            </tr>\n",
       "            <tr>\n",
       "                        <th id=\"T_f7c3b_level0_row3\" class=\"row_heading level0 row3\" >last_name</th>\n",
       "                        <td id=\"T_f7c3b_row3_col0\" class=\"data row3 col0\" >1</td>\n",
       "                        <td id=\"T_f7c3b_row3_col1\" class=\"data row3 col1\" >0.000000</td>\n",
       "            </tr>\n",
       "            <tr>\n",
       "                        <th id=\"T_f7c3b_level0_row4\" class=\"row_heading level0 row4\" >network_username</th>\n",
       "                        <td id=\"T_f7c3b_row4_col0\" class=\"data row4 col0\" >187842</td>\n",
       "                        <td id=\"T_f7c3b_row4_col1\" class=\"data row4 col1\" >0.828600</td>\n",
       "            </tr>\n",
       "    </tbody></table>"
      ],
      "text/plain": [
       "<pandas.io.formats.style.Styler at 0x7fc373572fd0>"
      ]
     },
     "execution_count": 32,
     "metadata": {},
     "output_type": "execute_result"
    }
   ],
   "source": [
    "# Проанализируем пропуски\n",
    "missing = (pd.DataFrame({'Кол-во пропусков': people_df.isnull().sum().sort_values(ascending=False), 'Доля пропусков': people_df.isnull().mean().round(4).sort_values(ascending=False)})\n",
    "           .style.background_gradient(cmap='coolwarm'))\n",
    "missing"
   ]
  },
  {
   "cell_type": "markdown",
   "metadata": {},
   "source": [
    "Больше всего пропусков в столбцах:\n",
    "company_id (идентификатор компании) - 84%.\n",
    "network_username (ник в социальных сетях) - 82%, впринципе у нас есть таблица с даными о компании, можно их обьединить и посмотреть информацию о сотрудниках, поэтому эти пропуски можно оставить."
   ]
  },
  {
   "cell_type": "markdown",
   "metadata": {},
   "source": [
    "Проанализируем пропуски в таблице education_df"
   ]
  },
  {
   "cell_type": "code",
   "execution_count": 33,
   "metadata": {},
   "outputs": [
    {
     "data": {
      "text/html": [
       "<style  type=\"text/css\" >\n",
       "#T_aba2b_row0_col0,#T_aba2b_row0_col1{\n",
       "            background-color:  #b40426;\n",
       "            color:  #f1f1f1;\n",
       "        }#T_aba2b_row1_col0,#T_aba2b_row1_col1,#T_aba2b_row2_col0,#T_aba2b_row2_col1,#T_aba2b_row3_col0,#T_aba2b_row3_col1{\n",
       "            background-color:  #3b4cc0;\n",
       "            color:  #f1f1f1;\n",
       "        }</style><table id=\"T_aba2b_\" ><thead>    <tr>        <th class=\"blank level0\" ></th>        <th class=\"col_heading level0 col0\" >Кол-во пропусков</th>        <th class=\"col_heading level0 col1\" >Доля пропусков</th>    </tr></thead><tbody>\n",
       "                <tr>\n",
       "                        <th id=\"T_aba2b_level0_row0\" class=\"row_heading level0 row0\" >graduated_at</th>\n",
       "                        <td id=\"T_aba2b_row0_col0\" class=\"data row0 col0\" >51556</td>\n",
       "                        <td id=\"T_aba2b_row0_col1\" class=\"data row0 col1\" >0.470400</td>\n",
       "            </tr>\n",
       "            <tr>\n",
       "                        <th id=\"T_aba2b_level0_row1\" class=\"row_heading level0 row1\" >instituition</th>\n",
       "                        <td id=\"T_aba2b_row1_col0\" class=\"data row1 col0\" >55</td>\n",
       "                        <td id=\"T_aba2b_row1_col1\" class=\"data row1 col1\" >0.000500</td>\n",
       "            </tr>\n",
       "            <tr>\n",
       "                        <th id=\"T_aba2b_level0_row2\" class=\"row_heading level0 row2\" >id</th>\n",
       "                        <td id=\"T_aba2b_row2_col0\" class=\"data row2 col0\" >0</td>\n",
       "                        <td id=\"T_aba2b_row2_col1\" class=\"data row2 col1\" >0.000000</td>\n",
       "            </tr>\n",
       "            <tr>\n",
       "                        <th id=\"T_aba2b_level0_row3\" class=\"row_heading level0 row3\" >person_id</th>\n",
       "                        <td id=\"T_aba2b_row3_col0\" class=\"data row3 col0\" >0</td>\n",
       "                        <td id=\"T_aba2b_row3_col1\" class=\"data row3 col1\" >0.000000</td>\n",
       "            </tr>\n",
       "    </tbody></table>"
      ],
      "text/plain": [
       "<pandas.io.formats.style.Styler at 0x7fc373572640>"
      ]
     },
     "execution_count": 33,
     "metadata": {},
     "output_type": "execute_result"
    }
   ],
   "source": [
    "# Проанализируем пропуски\n",
    "missing = (pd.DataFrame({'Кол-во пропусков':education_df.isnull().sum().sort_values(ascending=False), 'Доля пропусков': education_df.isnull().mean().round(4).sort_values(ascending=False)})\n",
    "           .style.background_gradient(cmap='coolwarm'))\n",
    "missing"
   ]
  },
  {
   "cell_type": "markdown",
   "metadata": {},
   "source": [
    "Больше всего пропусков в столбце graduated_at (дата получения образования) 47 %— вероятно из за потери данных, а также в столбце instituition (название учебного заведения) - 0,05% - видимо есть сотрудники,у кого нет информации об образовании или нет образования."
   ]
  },
  {
   "cell_type": "markdown",
   "metadata": {},
   "source": [
    "Проанализируем пропуски в таблице degrees_df"
   ]
  },
  {
   "cell_type": "code",
   "execution_count": 34,
   "metadata": {},
   "outputs": [
    {
     "data": {
      "text/html": [
       "<style  type=\"text/css\" >\n",
       "#T_2eb2f_row0_col0,#T_2eb2f_row0_col1{\n",
       "            background-color:  #b40426;\n",
       "            color:  #f1f1f1;\n",
       "        }#T_2eb2f_row1_col0,#T_2eb2f_row1_col1{\n",
       "            background-color:  #bfd3f6;\n",
       "            color:  #000000;\n",
       "        }#T_2eb2f_row2_col0,#T_2eb2f_row2_col1,#T_2eb2f_row3_col0,#T_2eb2f_row3_col1{\n",
       "            background-color:  #3b4cc0;\n",
       "            color:  #f1f1f1;\n",
       "        }</style><table id=\"T_2eb2f_\" ><thead>    <tr>        <th class=\"blank level0\" ></th>        <th class=\"col_heading level0 col0\" >Кол-во пропусков</th>        <th class=\"col_heading level0 col1\" >Доля пропусков</th>    </tr></thead><tbody>\n",
       "                <tr>\n",
       "                        <th id=\"T_2eb2f_level0_row0\" class=\"row_heading level0 row0\" >subject</th>\n",
       "                        <td id=\"T_2eb2f_row0_col0\" class=\"data row0 col0\" >28312</td>\n",
       "                        <td id=\"T_2eb2f_row0_col1\" class=\"data row0 col1\" >0.258300</td>\n",
       "            </tr>\n",
       "            <tr>\n",
       "                        <th id=\"T_2eb2f_level0_row1\" class=\"row_heading level0 row1\" >degree_type</th>\n",
       "                        <td id=\"T_2eb2f_row1_col0\" class=\"data row1 col0\" >11218</td>\n",
       "                        <td id=\"T_2eb2f_row1_col1\" class=\"data row1 col1\" >0.102300</td>\n",
       "            </tr>\n",
       "            <tr>\n",
       "                        <th id=\"T_2eb2f_level0_row2\" class=\"row_heading level0 row2\" >id</th>\n",
       "                        <td id=\"T_2eb2f_row2_col0\" class=\"data row2 col0\" >0</td>\n",
       "                        <td id=\"T_2eb2f_row2_col1\" class=\"data row2 col1\" >0.000000</td>\n",
       "            </tr>\n",
       "            <tr>\n",
       "                        <th id=\"T_2eb2f_level0_row3\" class=\"row_heading level0 row3\" >object_id</th>\n",
       "                        <td id=\"T_2eb2f_row3_col0\" class=\"data row3 col0\" >0</td>\n",
       "                        <td id=\"T_2eb2f_row3_col1\" class=\"data row3 col1\" >0.000000</td>\n",
       "            </tr>\n",
       "    </tbody></table>"
      ],
      "text/plain": [
       "<pandas.io.formats.style.Styler at 0x7fc37530f7c0>"
      ]
     },
     "execution_count": 34,
     "metadata": {},
     "output_type": "execute_result"
    }
   ],
   "source": [
    "# Проанализируем пропуски\n",
    "missing = (pd.DataFrame({'Кол-во пропусков':degrees_df.isnull().sum().sort_values(ascending=False), 'Доля пропусков': degrees_df.isnull().mean().round(4).sort_values(ascending=False)})\n",
    "           .style.background_gradient(cmap='coolwarm'))\n",
    "missing"
   ]
  },
  {
   "cell_type": "markdown",
   "metadata": {},
   "source": [
    "Попуски в столбцах degree_type (тип образования) 10% и subject (специальность) 25%. Можно считать это не критичным, так как в больше половины данных об образовании присутствует."
   ]
  },
  {
   "cell_type": "markdown",
   "metadata": {},
   "source": [
    "**Вывод:**\n",
    "- В столбцах `acquired_at` в таблице `acquisition_df`, столбцы `founded_at`, `closed_at` в таблице `company_df`, `graduated_at` в таблице `education_df` поменяли тип данных с object на datetime64.\n",
    "- Проверили пропуски в таблицах. Больше всего пропусков в таблице  company_df - В каждом столбце есть пропуски. \n",
    "- Проанализировали пропуски, данной информации достаточно для решения задачь."
   ]
  },
  {
   "cell_type": "markdown",
   "metadata": {
    "id": "u60cHsn6rJg1"
   },
   "source": [
    "## Шаг 2. Предобработка данных, предварительное исследование"
   ]
  },
  {
   "cell_type": "markdown",
   "metadata": {
    "id": "g2bHIIjcrJg1"
   },
   "source": [
    "\n",
    "### 2.1. Раунды финансирования по годам\n",
    "\n",
    "Задание необходимо выполнить без объединения и дополнительной предобработки на основе датасета `company_and_rounds.csv`.\n",
    "\n",
    "- Составьте сводную таблицу по годам, в которой на основании столбца `raised_amount` для каждого года указан:\n",
    "    - типичный размер средств, выделяемый в рамках одного раунда;\n",
    "    - общее количество раундов финансирования за этот год.\n",
    "    \n",
    "- Оставьте в таблице информацию только для тех лет, для которых есть информация о более чем 50 раундах финансирования.\n",
    "- На основе получившейся таблицы постройте график, который будет отражать динамику типичного размера средств, которые стартапы получали в рамках одного раунда финансирования.\n",
    "\n"
   ]
  },
  {
   "cell_type": "code",
   "execution_count": 35,
   "metadata": {},
   "outputs": [],
   "source": [
    "# С помощью акцессора `dt` создаём новый столбец вида YYYY\n",
    "company_df['funded_year']=company_df['funded_at'].dt.to_period('Y')"
   ]
  },
  {
   "cell_type": "code",
   "execution_count": 36,
   "metadata": {},
   "outputs": [
    {
     "data": {
      "text/html": [
       "<div>\n",
       "<style scoped>\n",
       "    .dataframe tbody tr th:only-of-type {\n",
       "        vertical-align: middle;\n",
       "    }\n",
       "\n",
       "    .dataframe tbody tr th {\n",
       "        vertical-align: top;\n",
       "    }\n",
       "\n",
       "    .dataframe thead th {\n",
       "        text-align: right;\n",
       "    }\n",
       "</style>\n",
       "<table border=\"1\" class=\"dataframe\">\n",
       "  <thead>\n",
       "    <tr style=\"text-align: right;\">\n",
       "      <th></th>\n",
       "      <th>company_ID</th>\n",
       "      <th>name</th>\n",
       "      <th>category_code</th>\n",
       "      <th>status</th>\n",
       "      <th>founded_at</th>\n",
       "      <th>closed_at</th>\n",
       "      <th>domain</th>\n",
       "      <th>network_username</th>\n",
       "      <th>country_code</th>\n",
       "      <th>investment_rounds</th>\n",
       "      <th>...</th>\n",
       "      <th>funding_round_id</th>\n",
       "      <th>company_id</th>\n",
       "      <th>funded_at</th>\n",
       "      <th>funding_round_type</th>\n",
       "      <th>raised_amount</th>\n",
       "      <th>pre_money_valuation</th>\n",
       "      <th>participants</th>\n",
       "      <th>is_first_round</th>\n",
       "      <th>is_last_round</th>\n",
       "      <th>funded_year</th>\n",
       "    </tr>\n",
       "  </thead>\n",
       "  <tbody>\n",
       "    <tr>\n",
       "      <th>0</th>\n",
       "      <td>1.0</td>\n",
       "      <td>Wetpaint</td>\n",
       "      <td>web</td>\n",
       "      <td>operating</td>\n",
       "      <td>2005-10-17</td>\n",
       "      <td>NaT</td>\n",
       "      <td>wetpaint-inc.com</td>\n",
       "      <td>BachelrWetpaint</td>\n",
       "      <td>USA</td>\n",
       "      <td>0.0</td>\n",
       "      <td>...</td>\n",
       "      <td>888.0</td>\n",
       "      <td>1.0</td>\n",
       "      <td>2005-10-01</td>\n",
       "      <td>series-a</td>\n",
       "      <td>5250000.0</td>\n",
       "      <td>0.0</td>\n",
       "      <td>2.0</td>\n",
       "      <td>0.0</td>\n",
       "      <td>1.0</td>\n",
       "      <td>2005</td>\n",
       "    </tr>\n",
       "    <tr>\n",
       "      <th>1</th>\n",
       "      <td>1.0</td>\n",
       "      <td>Wetpaint</td>\n",
       "      <td>web</td>\n",
       "      <td>operating</td>\n",
       "      <td>2005-10-17</td>\n",
       "      <td>NaT</td>\n",
       "      <td>wetpaint-inc.com</td>\n",
       "      <td>BachelrWetpaint</td>\n",
       "      <td>USA</td>\n",
       "      <td>0.0</td>\n",
       "      <td>...</td>\n",
       "      <td>889.0</td>\n",
       "      <td>1.0</td>\n",
       "      <td>2007-01-01</td>\n",
       "      <td>series-b</td>\n",
       "      <td>9500000.0</td>\n",
       "      <td>0.0</td>\n",
       "      <td>3.0</td>\n",
       "      <td>0.0</td>\n",
       "      <td>0.0</td>\n",
       "      <td>2007</td>\n",
       "    </tr>\n",
       "    <tr>\n",
       "      <th>2</th>\n",
       "      <td>1.0</td>\n",
       "      <td>Wetpaint</td>\n",
       "      <td>web</td>\n",
       "      <td>operating</td>\n",
       "      <td>2005-10-17</td>\n",
       "      <td>NaT</td>\n",
       "      <td>wetpaint-inc.com</td>\n",
       "      <td>BachelrWetpaint</td>\n",
       "      <td>USA</td>\n",
       "      <td>0.0</td>\n",
       "      <td>...</td>\n",
       "      <td>2312.0</td>\n",
       "      <td>1.0</td>\n",
       "      <td>2008-05-19</td>\n",
       "      <td>series-c+</td>\n",
       "      <td>25000000.0</td>\n",
       "      <td>0.0</td>\n",
       "      <td>4.0</td>\n",
       "      <td>1.0</td>\n",
       "      <td>0.0</td>\n",
       "      <td>2008</td>\n",
       "    </tr>\n",
       "    <tr>\n",
       "      <th>3</th>\n",
       "      <td>10.0</td>\n",
       "      <td>Flektor</td>\n",
       "      <td>games_video</td>\n",
       "      <td>acquired</td>\n",
       "      <td>NaT</td>\n",
       "      <td>NaT</td>\n",
       "      <td>flektor.com</td>\n",
       "      <td>NaN</td>\n",
       "      <td>USA</td>\n",
       "      <td>0.0</td>\n",
       "      <td>...</td>\n",
       "      <td>NaN</td>\n",
       "      <td>NaN</td>\n",
       "      <td>NaT</td>\n",
       "      <td>NaN</td>\n",
       "      <td>NaN</td>\n",
       "      <td>NaN</td>\n",
       "      <td>NaN</td>\n",
       "      <td>NaN</td>\n",
       "      <td>NaN</td>\n",
       "      <td>NaT</td>\n",
       "    </tr>\n",
       "    <tr>\n",
       "      <th>4</th>\n",
       "      <td>100.0</td>\n",
       "      <td>There</td>\n",
       "      <td>games_video</td>\n",
       "      <td>acquired</td>\n",
       "      <td>NaT</td>\n",
       "      <td>NaT</td>\n",
       "      <td>there.com</td>\n",
       "      <td>NaN</td>\n",
       "      <td>USA</td>\n",
       "      <td>0.0</td>\n",
       "      <td>...</td>\n",
       "      <td>NaN</td>\n",
       "      <td>NaN</td>\n",
       "      <td>NaT</td>\n",
       "      <td>NaN</td>\n",
       "      <td>NaN</td>\n",
       "      <td>NaN</td>\n",
       "      <td>NaN</td>\n",
       "      <td>NaN</td>\n",
       "      <td>NaN</td>\n",
       "      <td>NaT</td>\n",
       "    </tr>\n",
       "  </tbody>\n",
       "</table>\n",
       "<p>5 rows × 23 columns</p>\n",
       "</div>"
      ],
      "text/plain": [
       "   company_ID      name category_code     status founded_at closed_at  \\\n",
       "0         1.0  Wetpaint           web  operating 2005-10-17       NaT   \n",
       "1         1.0  Wetpaint           web  operating 2005-10-17       NaT   \n",
       "2         1.0  Wetpaint           web  operating 2005-10-17       NaT   \n",
       "3        10.0   Flektor   games_video   acquired        NaT       NaT   \n",
       "4       100.0     There   games_video   acquired        NaT       NaT   \n",
       "\n",
       "             domain network_username country_code  investment_rounds  ...  \\\n",
       "0  wetpaint-inc.com  BachelrWetpaint          USA                0.0  ...   \n",
       "1  wetpaint-inc.com  BachelrWetpaint          USA                0.0  ...   \n",
       "2  wetpaint-inc.com  BachelrWetpaint          USA                0.0  ...   \n",
       "3       flektor.com              NaN          USA                0.0  ...   \n",
       "4         there.com              NaN          USA                0.0  ...   \n",
       "\n",
       "   funding_round_id  company_id  funded_at  funding_round_type  raised_amount  \\\n",
       "0             888.0         1.0 2005-10-01            series-a      5250000.0   \n",
       "1             889.0         1.0 2007-01-01            series-b      9500000.0   \n",
       "2            2312.0         1.0 2008-05-19           series-c+     25000000.0   \n",
       "3               NaN         NaN        NaT                 NaN            NaN   \n",
       "4               NaN         NaN        NaT                 NaN            NaN   \n",
       "\n",
       "  pre_money_valuation participants  is_first_round  is_last_round  funded_year  \n",
       "0                 0.0          2.0             0.0            1.0         2005  \n",
       "1                 0.0          3.0             0.0            0.0         2007  \n",
       "2                 0.0          4.0             1.0            0.0         2008  \n",
       "3                 NaN          NaN             NaN            NaN          NaT  \n",
       "4                 NaN          NaN             NaN            NaN          NaT  \n",
       "\n",
       "[5 rows x 23 columns]"
      ]
     },
     "execution_count": 36,
     "metadata": {},
     "output_type": "execute_result"
    }
   ],
   "source": [
    "# Проверим результат добавления новго столбца\n",
    "company_df.head()"
   ]
  },
  {
   "cell_type": "markdown",
   "metadata": {},
   "source": [
    "Составим сводную таблицу по годам, в которой на основании столбца raised_amount для каждого года указан:\n",
    "\n",
    "- типичный размер средств, выделяемый в рамках одного раунда;\n",
    "- общее количество раундов финансирования за этот год.\n",
    "\n",
    "Оставим в таблице информацию только для тех лет, для которых есть информация о более чем 50 раундах финансирования."
   ]
  },
  {
   "cell_type": "code",
   "execution_count": 37,
   "metadata": {
    "id": "Cf5IjfOQrJg1",
    "vscode": {
     "languageId": "plaintext"
    }
   },
   "outputs": [
    {
     "data": {
      "text/html": [
       "<div>\n",
       "<style scoped>\n",
       "    .dataframe tbody tr th:only-of-type {\n",
       "        vertical-align: middle;\n",
       "    }\n",
       "\n",
       "    .dataframe tbody tr th {\n",
       "        vertical-align: top;\n",
       "    }\n",
       "\n",
       "    .dataframe thead th {\n",
       "        text-align: right;\n",
       "    }\n",
       "</style>\n",
       "<table border=\"1\" class=\"dataframe\">\n",
       "  <thead>\n",
       "    <tr style=\"text-align: right;\">\n",
       "      <th></th>\n",
       "      <th>funding_round_type</th>\n",
       "      <th>raised_amount</th>\n",
       "    </tr>\n",
       "    <tr>\n",
       "      <th>funded_year</th>\n",
       "      <th></th>\n",
       "      <th></th>\n",
       "    </tr>\n",
       "  </thead>\n",
       "  <tbody>\n",
       "    <tr>\n",
       "      <th>1999</th>\n",
       "      <td>76</td>\n",
       "      <td>2000000.0</td>\n",
       "    </tr>\n",
       "    <tr>\n",
       "      <th>2000</th>\n",
       "      <td>125</td>\n",
       "      <td>4200000.0</td>\n",
       "    </tr>\n",
       "    <tr>\n",
       "      <th>2001</th>\n",
       "      <td>96</td>\n",
       "      <td>3000000.0</td>\n",
       "    </tr>\n",
       "    <tr>\n",
       "      <th>2002</th>\n",
       "      <td>116</td>\n",
       "      <td>4200000.0</td>\n",
       "    </tr>\n",
       "    <tr>\n",
       "      <th>2003</th>\n",
       "      <td>159</td>\n",
       "      <td>3000000.0</td>\n",
       "    </tr>\n",
       "    <tr>\n",
       "      <th>2004</th>\n",
       "      <td>291</td>\n",
       "      <td>5000000.0</td>\n",
       "    </tr>\n",
       "    <tr>\n",
       "      <th>2005</th>\n",
       "      <td>1633</td>\n",
       "      <td>5500000.0</td>\n",
       "    </tr>\n",
       "    <tr>\n",
       "      <th>2006</th>\n",
       "      <td>2436</td>\n",
       "      <td>5000000.0</td>\n",
       "    </tr>\n",
       "    <tr>\n",
       "      <th>2007</th>\n",
       "      <td>3279</td>\n",
       "      <td>3973320.0</td>\n",
       "    </tr>\n",
       "    <tr>\n",
       "      <th>2008</th>\n",
       "      <td>3774</td>\n",
       "      <td>3110000.0</td>\n",
       "    </tr>\n",
       "    <tr>\n",
       "      <th>2009</th>\n",
       "      <td>4151</td>\n",
       "      <td>2000000.0</td>\n",
       "    </tr>\n",
       "    <tr>\n",
       "      <th>2010</th>\n",
       "      <td>6221</td>\n",
       "      <td>1602500.0</td>\n",
       "    </tr>\n",
       "    <tr>\n",
       "      <th>2011</th>\n",
       "      <td>9204</td>\n",
       "      <td>1200000.0</td>\n",
       "    </tr>\n",
       "    <tr>\n",
       "      <th>2012</th>\n",
       "      <td>9970</td>\n",
       "      <td>1000000.0</td>\n",
       "    </tr>\n",
       "    <tr>\n",
       "      <th>2013</th>\n",
       "      <td>11072</td>\n",
       "      <td>1200000.0</td>\n",
       "    </tr>\n",
       "  </tbody>\n",
       "</table>\n",
       "</div>"
      ],
      "text/plain": [
       "             funding_round_type  raised_amount\n",
       "funded_year                                   \n",
       "1999                         76      2000000.0\n",
       "2000                        125      4200000.0\n",
       "2001                         96      3000000.0\n",
       "2002                        116      4200000.0\n",
       "2003                        159      3000000.0\n",
       "2004                        291      5000000.0\n",
       "2005                       1633      5500000.0\n",
       "2006                       2436      5000000.0\n",
       "2007                       3279      3973320.0\n",
       "2008                       3774      3110000.0\n",
       "2009                       4151      2000000.0\n",
       "2010                       6221      1602500.0\n",
       "2011                       9204      1200000.0\n",
       "2012                       9970      1000000.0\n",
       "2013                      11072      1200000.0"
      ]
     },
     "metadata": {},
     "output_type": "display_data"
    }
   ],
   "source": [
    "pivot = company_df.pivot_table(\n",
    "    values=['raised_amount', 'funding_round_type'],  # Указываем столбцы\n",
    "    index='funded_year',                             # Группируем по году\n",
    "    aggfunc={'raised_amount': 'median', 'funding_round_type': 'count'}\n",
    ")\n",
    "\n",
    "# Фильтруем таблицу по условию: информация о более чем 50 раундах финансирования\n",
    "filtered_pivot = pivot[pivot['funding_round_type'] > 50]\n",
    "# Выводим результат\n",
    "display(filtered_pivot)"
   ]
  },
  {
   "cell_type": "markdown",
   "metadata": {},
   "source": [
    "На основе получившейся таблицы построим график, который будет отражать динамику типичного размера средств, которые стартапы получали в рамках одного раунда финансирования."
   ]
  },
  {
   "cell_type": "code",
   "execution_count": 38,
   "metadata": {},
   "outputs": [
    {
     "data": {
      "image/png": "[encoded data removed]",
      "text/plain": [
       "<Figure size 432x288 with 2 Axes>"
      ]
     },
     "metadata": {
      "needs_background": "light"
     },
     "output_type": "display_data"
    }
   ],
   "source": [
    "# Строим график\n",
    "filtered_pivot.plot(kind='line',\n",
    "            subplots=True,\n",
    "            sharex=True,\n",
    "            sharey=False,\n",
    "            legend=False,\n",
    "            title=['Количество раундов финансирования', 'Средняя сумма финансирования,$'])\n",
    "\n",
    "# Подписываем оси\n",
    "plt.xlabel('Год')\n",
    "plt.show()"
   ]
  },
  {
   "cell_type": "markdown",
   "metadata": {
    "id": "Z92DzKMMFdKW"
   },
   "source": [
    "**Вывод:** \n",
    "- В 2005 году типичный размер собранных в рамках одного раунда средств был максимальным.\n",
    "- В 2013 году количество раундов растет, а выделяемые в рамках каждого раунда средства снижаются. "
   ]
  },
  {
   "cell_type": "markdown",
   "metadata": {
    "id": "45if1en1rJg2"
   },
   "source": [
    "\n",
    "### 2.2. Люди и их образование\n",
    "\n",
    "Заказчик хочет понять, зависит ли полнота сведений о сотрудниках (например, об их образовании) от размера компаний.\n",
    "\n",
    "- Оцените, насколько информация об образовании сотрудников полна. Используя датасеты `people.csv` и `education.csv`, разделите все компании на несколько групп по количеству сотрудников и оцените среднюю долю сотрудников без информации об образовании в каждой из групп. Обоснуйте выбранные границы групп.\n",
    "- Оцените, возможно ли для выполнения задания присоединить к этим таблицам ещё и таблицу `degrees.csv`."
   ]
  },
  {
   "cell_type": "markdown",
   "metadata": {},
   "source": [
    "Посмотрим, какое количество сотрудников в представленных компаниях"
   ]
  },
  {
   "cell_type": "code",
   "execution_count": 39,
   "metadata": {
    "id": "BThTjpLqFcsm"
   },
   "outputs": [
    {
     "data": {
      "text/plain": [
       "company_id\n",
       "59.0        244\n",
       "29.0        150\n",
       "1242.0      138\n",
       "231067.0     72\n",
       "499.0        63\n",
       "           ... \n",
       "63585.0       1\n",
       "7258.0        1\n",
       "63581.0       1\n",
       "63580.0       1\n",
       "70884.0       1\n",
       "Name: id, Length: 22922, dtype: int64"
      ]
     },
     "execution_count": 39,
     "metadata": {},
     "output_type": "execute_result"
    }
   ],
   "source": [
    "people_df_group=people_df.groupby('company_id')['id'].nunique().sort_values(ascending=False)\n",
    "people_df_group"
   ]
  },
  {
   "cell_type": "markdown",
   "metadata": {},
   "source": [
    "Построим график распределения количества человек в компаниях."
   ]
  },
  {
   "cell_type": "code",
   "execution_count": 40,
   "metadata": {},
   "outputs": [
    {
     "data": {
      "image/png": "[encoded data removed]",
      "text/plain": [
       "<Figure size 720x432 with 1 Axes>"
      ]
     },
     "metadata": {
      "needs_background": "light"
     },
     "output_type": "display_data"
    }
   ],
   "source": [
    "# Группируем данные по company_id и считаем количество уникальных id (сотрудников)\n",
    "people_df_group = people_df.groupby('company_id')['id'].nunique().reset_index()\n",
    "people_df_group.columns = ['company_id', 'employee_count']\n",
    "\n",
    "# Строим countplot\n",
    "plt.figure(figsize=(10, 6))\n",
    "sns.countplot(x='employee_count', data=people_df_group,palette='viridis')\n",
    "plt.title('Распределение компаний по количеству сотрудников')\n",
    "plt.xlabel('Количество сотрудников')\n",
    "plt.ylabel('Количество компаний')\n",
    "plt.xticks(rotation=45)  # Поворот подписей на оси X для удобства\n",
    "plt.show()"
   ]
  },
  {
   "cell_type": "markdown",
   "metadata": {},
   "source": [
    "Таким образом, видно, что большинство компаний с колличеством 1 человек. Поэтому, разделим компании на такие категории, что бы в каждой было примернр одинаковое колличество человек:"
   ]
  },
  {
   "cell_type": "code",
   "execution_count": 41,
   "metadata": {},
   "outputs": [
    {
     "data": {
      "text/html": [
       "<div>\n",
       "<style scoped>\n",
       "    .dataframe tbody tr th:only-of-type {\n",
       "        vertical-align: middle;\n",
       "    }\n",
       "\n",
       "    .dataframe tbody tr th {\n",
       "        vertical-align: top;\n",
       "    }\n",
       "\n",
       "    .dataframe thead th {\n",
       "        text-align: right;\n",
       "    }\n",
       "</style>\n",
       "<table border=\"1\" class=\"dataframe\">\n",
       "  <thead>\n",
       "    <tr style=\"text-align: right;\">\n",
       "      <th></th>\n",
       "      <th>id</th>\n",
       "      <th>first_name</th>\n",
       "      <th>last_name</th>\n",
       "      <th>company_id</th>\n",
       "      <th>network_username</th>\n",
       "      <th>employee_group</th>\n",
       "    </tr>\n",
       "  </thead>\n",
       "  <tbody>\n",
       "    <tr>\n",
       "      <th>0</th>\n",
       "      <td>10</td>\n",
       "      <td>Mark</td>\n",
       "      <td>Zuckerberg</td>\n",
       "      <td>5.0</td>\n",
       "      <td>NaN</td>\n",
       "      <td>26+</td>\n",
       "    </tr>\n",
       "    <tr>\n",
       "      <th>1</th>\n",
       "      <td>100</td>\n",
       "      <td>Peter</td>\n",
       "      <td>Lester</td>\n",
       "      <td>27.0</td>\n",
       "      <td>NaN</td>\n",
       "      <td>6-10</td>\n",
       "    </tr>\n",
       "    <tr>\n",
       "      <th>2</th>\n",
       "      <td>1000</td>\n",
       "      <td>Dr. Steven</td>\n",
       "      <td>E. Saunders</td>\n",
       "      <td>292.0</td>\n",
       "      <td>NaN</td>\n",
       "      <td>3</td>\n",
       "    </tr>\n",
       "    <tr>\n",
       "      <th>3</th>\n",
       "      <td>10000</td>\n",
       "      <td>Neil</td>\n",
       "      <td>Capel</td>\n",
       "      <td>2526.0</td>\n",
       "      <td>NaN</td>\n",
       "      <td>2</td>\n",
       "    </tr>\n",
       "    <tr>\n",
       "      <th>4</th>\n",
       "      <td>100000</td>\n",
       "      <td>Sue</td>\n",
       "      <td>Pilsch</td>\n",
       "      <td>NaN</td>\n",
       "      <td>NaN</td>\n",
       "      <td>NaN</td>\n",
       "    </tr>\n",
       "  </tbody>\n",
       "</table>\n",
       "</div>"
      ],
      "text/plain": [
       "       id  first_name    last_name  company_id network_username employee_group\n",
       "0      10        Mark   Zuckerberg         5.0              NaN            26+\n",
       "1     100       Peter       Lester        27.0              NaN           6-10\n",
       "2    1000  Dr. Steven  E. Saunders       292.0              NaN              3\n",
       "3   10000        Neil        Capel      2526.0              NaN              2\n",
       "4  100000         Sue       Pilsch         NaN              NaN            NaN"
      ]
     },
     "execution_count": 41,
     "metadata": {},
     "output_type": "execute_result"
    }
   ],
   "source": [
    "# Определение интервалов и меток\n",
    "bins = [0, 1, 2, 3, 5, 10, 25, float('inf')]\n",
    "labels = ['1', '2', '3', '4-5', '6-10', '11-25', '26+']\n",
    "\n",
    "# Создание столбца с группами\n",
    "people_df_group['employee_group'] = pd.cut(people_df_group['employee_count'], bins=bins, labels=labels)\n",
    "\n",
    "# Объединяем результат с исходным DataFrame people_df\n",
    "people_df = people_df.merge(people_df_group[['company_id', 'employee_group']], on='company_id', how='left')\n",
    "\n",
    "# Проверка результата\n",
    "people_df.head()"
   ]
  },
  {
   "cell_type": "code",
   "execution_count": 42,
   "metadata": {},
   "outputs": [
    {
     "data": {
      "image/png": "[encoded data removed]",
      "text/plain": [
       "<Figure size 720x432 with 1 Axes>"
      ]
     },
     "metadata": {},
     "output_type": "display_data"
    }
   ],
   "source": [
    "# Настройка стиля\n",
    "sns.set(style=\"whitegrid\")\n",
    "\n",
    "# Построение countplot\n",
    "plt.figure(figsize=(10, 6))\n",
    "sns.countplot(x='employee_group', data=people_df, order=labels)\n",
    "plt.title('Распределение компаний по группам количества сотрудников')\n",
    "plt.xlabel('Группы по количеству сотрудников')\n",
    "plt.ylabel('Количество компаний')\n",
    "plt.show()"
   ]
  },
  {
   "cell_type": "code",
   "execution_count": 43,
   "metadata": {},
   "outputs": [
    {
     "data": {
      "text/plain": [
       "employee_group\n",
       "1        18116\n",
       "2         5418\n",
       "4-5       2985\n",
       "3         2763\n",
       "6-10      2664\n",
       "11-25     1425\n",
       "26+       1243\n",
       "Name: id, dtype: int64"
      ]
     },
     "execution_count": 43,
     "metadata": {},
     "output_type": "execute_result"
    }
   ],
   "source": [
    "people_df.groupby('employee_group')['id'].nunique().sort_values(ascending=False)"
   ]
  },
  {
   "cell_type": "markdown",
   "metadata": {},
   "source": [
    "Таким образом удалось удалось разделить сотрудников на группы, в которых примерно одинаковое колличество сотрудников."
   ]
  },
  {
   "cell_type": "code",
   "execution_count": 44,
   "metadata": {},
   "outputs": [
    {
     "data": {
      "text/html": [
       "<div>\n",
       "<style scoped>\n",
       "    .dataframe tbody tr th:only-of-type {\n",
       "        vertical-align: middle;\n",
       "    }\n",
       "\n",
       "    .dataframe tbody tr th {\n",
       "        vertical-align: top;\n",
       "    }\n",
       "\n",
       "    .dataframe thead th {\n",
       "        text-align: right;\n",
       "    }\n",
       "</style>\n",
       "<table border=\"1\" class=\"dataframe\">\n",
       "  <thead>\n",
       "    <tr style=\"text-align: right;\">\n",
       "      <th></th>\n",
       "      <th>id</th>\n",
       "      <th>first_name</th>\n",
       "      <th>last_name</th>\n",
       "      <th>company_id</th>\n",
       "      <th>network_username</th>\n",
       "      <th>employee_group</th>\n",
       "    </tr>\n",
       "  </thead>\n",
       "  <tbody>\n",
       "    <tr>\n",
       "      <th>0</th>\n",
       "      <td>10</td>\n",
       "      <td>Mark</td>\n",
       "      <td>Zuckerberg</td>\n",
       "      <td>5.0</td>\n",
       "      <td>NaN</td>\n",
       "      <td>26+</td>\n",
       "    </tr>\n",
       "    <tr>\n",
       "      <th>1</th>\n",
       "      <td>100</td>\n",
       "      <td>Peter</td>\n",
       "      <td>Lester</td>\n",
       "      <td>27.0</td>\n",
       "      <td>NaN</td>\n",
       "      <td>6-10</td>\n",
       "    </tr>\n",
       "    <tr>\n",
       "      <th>2</th>\n",
       "      <td>1000</td>\n",
       "      <td>Dr. Steven</td>\n",
       "      <td>E. Saunders</td>\n",
       "      <td>292.0</td>\n",
       "      <td>NaN</td>\n",
       "      <td>3</td>\n",
       "    </tr>\n",
       "    <tr>\n",
       "      <th>3</th>\n",
       "      <td>10000</td>\n",
       "      <td>Neil</td>\n",
       "      <td>Capel</td>\n",
       "      <td>2526.0</td>\n",
       "      <td>NaN</td>\n",
       "      <td>2</td>\n",
       "    </tr>\n",
       "    <tr>\n",
       "      <th>4</th>\n",
       "      <td>100000</td>\n",
       "      <td>Sue</td>\n",
       "      <td>Pilsch</td>\n",
       "      <td>NaN</td>\n",
       "      <td>NaN</td>\n",
       "      <td>NaN</td>\n",
       "    </tr>\n",
       "  </tbody>\n",
       "</table>\n",
       "</div>"
      ],
      "text/plain": [
       "       id  first_name    last_name  company_id network_username employee_group\n",
       "0      10        Mark   Zuckerberg         5.0              NaN            26+\n",
       "1     100       Peter       Lester        27.0              NaN           6-10\n",
       "2    1000  Dr. Steven  E. Saunders       292.0              NaN              3\n",
       "3   10000        Neil        Capel      2526.0              NaN              2\n",
       "4  100000         Sue       Pilsch         NaN              NaN            NaN"
      ]
     },
     "execution_count": 44,
     "metadata": {},
     "output_type": "execute_result"
    }
   ],
   "source": [
    "# выводим результат\n",
    "people_df.head()"
   ]
  },
  {
   "cell_type": "markdown",
   "metadata": {},
   "source": [
    "Объединим данные двух датасетов people_df и education_df в один. Так как нам нужны данные в основном из датасета people_df, так как нам нужна информация о категориях компаний, оставим левое присоединение, что бы все данные по нему сохранились и добавились имеющиеся данные из датасета education_df. Если мы будем использвоать 'inner' - потеряем большое количество данных."
   ]
  },
  {
   "cell_type": "code",
   "execution_count": 45,
   "metadata": {},
   "outputs": [],
   "source": [
    "# Соединяем данные в единый датафрейм df\n",
    "education_people_df = people_df.merge(education_df, left_on='id',right_on= 'person_id', how='left')"
   ]
  },
  {
   "cell_type": "code",
   "execution_count": 46,
   "metadata": {},
   "outputs": [
    {
     "data": {
      "text/html": [
       "<div>\n",
       "<style scoped>\n",
       "    .dataframe tbody tr th:only-of-type {\n",
       "        vertical-align: middle;\n",
       "    }\n",
       "\n",
       "    .dataframe tbody tr th {\n",
       "        vertical-align: top;\n",
       "    }\n",
       "\n",
       "    .dataframe thead th {\n",
       "        text-align: right;\n",
       "    }\n",
       "</style>\n",
       "<table border=\"1\" class=\"dataframe\">\n",
       "  <thead>\n",
       "    <tr style=\"text-align: right;\">\n",
       "      <th></th>\n",
       "      <th>id_x</th>\n",
       "      <th>first_name</th>\n",
       "      <th>last_name</th>\n",
       "      <th>company_id</th>\n",
       "      <th>network_username</th>\n",
       "      <th>employee_group</th>\n",
       "      <th>id_y</th>\n",
       "      <th>person_id</th>\n",
       "      <th>instituition</th>\n",
       "      <th>graduated_at</th>\n",
       "    </tr>\n",
       "  </thead>\n",
       "  <tbody>\n",
       "    <tr>\n",
       "      <th>0</th>\n",
       "      <td>10</td>\n",
       "      <td>Mark</td>\n",
       "      <td>Zuckerberg</td>\n",
       "      <td>5.0</td>\n",
       "      <td>NaN</td>\n",
       "      <td>26+</td>\n",
       "      <td>2415.0</td>\n",
       "      <td>10.0</td>\n",
       "      <td>Harvard University</td>\n",
       "      <td>NaT</td>\n",
       "    </tr>\n",
       "    <tr>\n",
       "      <th>1</th>\n",
       "      <td>100</td>\n",
       "      <td>Peter</td>\n",
       "      <td>Lester</td>\n",
       "      <td>27.0</td>\n",
       "      <td>NaN</td>\n",
       "      <td>6-10</td>\n",
       "      <td>NaN</td>\n",
       "      <td>NaN</td>\n",
       "      <td>NaN</td>\n",
       "      <td>NaT</td>\n",
       "    </tr>\n",
       "    <tr>\n",
       "      <th>2</th>\n",
       "      <td>1000</td>\n",
       "      <td>Dr. Steven</td>\n",
       "      <td>E. Saunders</td>\n",
       "      <td>292.0</td>\n",
       "      <td>NaN</td>\n",
       "      <td>3</td>\n",
       "      <td>NaN</td>\n",
       "      <td>NaN</td>\n",
       "      <td>NaN</td>\n",
       "      <td>NaT</td>\n",
       "    </tr>\n",
       "    <tr>\n",
       "      <th>3</th>\n",
       "      <td>10000</td>\n",
       "      <td>Neil</td>\n",
       "      <td>Capel</td>\n",
       "      <td>2526.0</td>\n",
       "      <td>NaN</td>\n",
       "      <td>2</td>\n",
       "      <td>NaN</td>\n",
       "      <td>NaN</td>\n",
       "      <td>NaN</td>\n",
       "      <td>NaT</td>\n",
       "    </tr>\n",
       "    <tr>\n",
       "      <th>4</th>\n",
       "      <td>100000</td>\n",
       "      <td>Sue</td>\n",
       "      <td>Pilsch</td>\n",
       "      <td>NaN</td>\n",
       "      <td>NaN</td>\n",
       "      <td>NaN</td>\n",
       "      <td>NaN</td>\n",
       "      <td>NaN</td>\n",
       "      <td>NaN</td>\n",
       "      <td>NaT</td>\n",
       "    </tr>\n",
       "  </tbody>\n",
       "</table>\n",
       "</div>"
      ],
      "text/plain": [
       "     id_x  first_name    last_name  company_id network_username  \\\n",
       "0      10        Mark   Zuckerberg         5.0              NaN   \n",
       "1     100       Peter       Lester        27.0              NaN   \n",
       "2    1000  Dr. Steven  E. Saunders       292.0              NaN   \n",
       "3   10000        Neil        Capel      2526.0              NaN   \n",
       "4  100000         Sue       Pilsch         NaN              NaN   \n",
       "\n",
       "  employee_group    id_y  person_id        instituition graduated_at  \n",
       "0            26+  2415.0       10.0  Harvard University          NaT  \n",
       "1           6-10     NaN        NaN                 NaN          NaT  \n",
       "2              3     NaN        NaN                 NaN          NaT  \n",
       "3              2     NaN        NaN                 NaN          NaT  \n",
       "4            NaN     NaN        NaN                 NaN          NaT  "
      ]
     },
     "execution_count": 46,
     "metadata": {},
     "output_type": "execute_result"
    }
   ],
   "source": [
    "education_people_df.head()"
   ]
  },
  {
   "cell_type": "code",
   "execution_count": 47,
   "metadata": {},
   "outputs": [
    {
     "name": "stdout",
     "output_type": "stream",
     "text": [
      "<class 'pandas.core.frame.DataFrame'>\n",
      "Int64Index: 267694 entries, 0 to 267693\n",
      "Data columns (total 10 columns):\n",
      " #   Column            Non-Null Count   Dtype         \n",
      "---  ------            --------------   -----         \n",
      " 0   id_x              267694 non-null  int64         \n",
      " 1   first_name        267689 non-null  object        \n",
      " 2   last_name         267693 non-null  object        \n",
      " 3   company_id        44789 non-null   float64       \n",
      " 4   network_username  50775 non-null   object        \n",
      " 5   employee_group    44789 non-null   category      \n",
      " 6   id_y              109056 non-null  float64       \n",
      " 7   person_id         109056 non-null  float64       \n",
      " 8   instituition      109002 non-null  object        \n",
      " 9   graduated_at      57691 non-null   datetime64[ns]\n",
      "dtypes: category(1), datetime64[ns](1), float64(3), int64(1), object(4)\n",
      "memory usage: 20.7+ MB\n"
     ]
    }
   ],
   "source": [
    "# Выводим информацию о датафрейме\n",
    "education_people_df.info()"
   ]
  },
  {
   "cell_type": "markdown",
   "metadata": {},
   "source": [
    "оценим среднюю долю сотрудников без информации об образовании по группам. \n",
    "\n",
    "Рассмотрим группу \"1\"."
   ]
  },
  {
   "cell_type": "code",
   "execution_count": 48,
   "metadata": {},
   "outputs": [],
   "source": [
    "# отфильтруем данные по группе 1\n",
    "df_1 = education_people_df.loc[(education_people_df['employee_group']=='1')]"
   ]
  },
  {
   "cell_type": "markdown",
   "metadata": {},
   "source": [
    "В столбце `instituition` меньше всего пропусков - 0,05%, а в столбце `graduated_at` - 47%. Поэтому будем считать, что если в столбце `instituition` есть какая-то информация, то у сотрудника есть информация об образовании."
   ]
  },
  {
   "cell_type": "code",
   "execution_count": 49,
   "metadata": {},
   "outputs": [],
   "source": [
    "# оставим строки без пропусков в образовании\n",
    "filtr_1_df=df_1[~df_1 ['instituition'].isna()]"
   ]
  },
  {
   "cell_type": "code",
   "execution_count": 50,
   "metadata": {},
   "outputs": [
    {
     "name": "stdout",
     "output_type": "stream",
     "text": [
      "Изначальное количество строк 23292 \n",
      " Осталось строк в датасете после исключения пропусков 14897 \n",
      " Строк без информации об образовании 8395 \n",
      " Процент строк без информации об образовании 36.04\n"
     ]
    }
   ],
   "source": [
    "# Проверим сколько сотрудников без информации об образовании\n",
    "a, b = len(df_1), len(filtr_1_df)\n",
    "print( \"Изначальное количество строк\", a,\n",
    "      '\\n', \"Осталось строк в датасете после исключения пропусков\", b,\n",
    "      '\\n', \"Строк без информации об образовании\", a-b,\n",
    "      '\\n', \"Процент строк без информации об образовании\", round((a-b)/a*100, 2))"
   ]
  },
  {
   "cell_type": "markdown",
   "metadata": {},
   "source": [
    "Оценим среднюю долю сотрудников без информации об образовании в группе малое предприятие."
   ]
  },
  {
   "cell_type": "code",
   "execution_count": 51,
   "metadata": {},
   "outputs": [],
   "source": [
    "# отфильтруем данные по группе 2 \n",
    "df_2 = education_people_df.loc[(education_people_df['employee_group']=='2')]"
   ]
  },
  {
   "cell_type": "code",
   "execution_count": 52,
   "metadata": {},
   "outputs": [],
   "source": [
    "# оставим строки без пропусков в образовании\n",
    "filtr_2_df=df_2[~df_2['instituition'].isna()]"
   ]
  },
  {
   "cell_type": "code",
   "execution_count": 53,
   "metadata": {},
   "outputs": [
    {
     "name": "stdout",
     "output_type": "stream",
     "text": [
      "Изначальное количество строк 6924 \n",
      " Осталось строк в датасете после исключения пропусков 4394 \n",
      " Строк без информации об образовании 2530 \n",
      " Процент строк без информации об образовании 36.54\n"
     ]
    }
   ],
   "source": [
    "# Проверим сколько сотрудников без информации об образовании\n",
    "a, b = len(df_2), len(filtr_2_df)\n",
    "print( \"Изначальное количество строк\", a,\n",
    "      '\\n', \"Осталось строк в датасете после исключения пропусков\", b,\n",
    "      '\\n', \"Строк без информации об образовании\", a-b,\n",
    "      '\\n', \"Процент строк без информации об образовании\", round((a-b)/a*100, 2))"
   ]
  },
  {
   "cell_type": "markdown",
   "metadata": {},
   "source": [
    "Оценим среднюю долю сотрудников без информации об образовании в группе 3"
   ]
  },
  {
   "cell_type": "code",
   "execution_count": 54,
   "metadata": {},
   "outputs": [],
   "source": [
    "# отфильтруем данные по группе 3\n",
    "df_3=education_people_df.loc[(education_people_df['employee_group']=='3')]"
   ]
  },
  {
   "cell_type": "code",
   "execution_count": 55,
   "metadata": {},
   "outputs": [],
   "source": [
    "# оставим строки без пропусков в образовании\n",
    "filtr_df_3=df_3[~df_3['instituition'].isna()]"
   ]
  },
  {
   "cell_type": "code",
   "execution_count": 56,
   "metadata": {},
   "outputs": [
    {
     "name": "stdout",
     "output_type": "stream",
     "text": [
      "Изначальное количество строк 3588 \n",
      " Осталось строк в датасете после исключения пропусков 2240 \n",
      " Строк без информации об образовании 1348 \n",
      " Процент строк без информации об образовании 37.57\n"
     ]
    }
   ],
   "source": [
    "# Проверим сколько сотрудников без информации об образовании\n",
    "a, b = len(df_3), len(filtr_df_3)\n",
    "print( \"Изначальное количество строк\", a,\n",
    "      '\\n', \"Осталось строк в датасете после исключения пропусков\", b,\n",
    "      '\\n', \"Строк без информации об образовании\", a-b,\n",
    "      '\\n', \"Процент строк без информации об образовании\", round((a-b)/a*100, 2))"
   ]
  },
  {
   "cell_type": "markdown",
   "metadata": {},
   "source": [
    "Оценим среднюю долю сотрудников без информации по группе '4-5'"
   ]
  },
  {
   "cell_type": "code",
   "execution_count": 57,
   "metadata": {},
   "outputs": [],
   "source": [
    "# отфильтруем данные по группе '4-5'\n",
    "df_4_5=education_people_df.loc[(education_people_df['employee_group']=='4-5')]"
   ]
  },
  {
   "cell_type": "code",
   "execution_count": 58,
   "metadata": {},
   "outputs": [],
   "source": [
    "# оставим строки без пропусков в образовании\n",
    "filtr_df_4_5=df_4_5[~df_4_5['instituition'].isna()]"
   ]
  },
  {
   "cell_type": "code",
   "execution_count": 59,
   "metadata": {},
   "outputs": [
    {
     "name": "stdout",
     "output_type": "stream",
     "text": [
      "Изначальное количество строк 3804 \n",
      " Осталось строк в датасете после исключения пропусков 2312 \n",
      " Строк без информации об образовании 1492 \n",
      " Процент строк без информации об образовании 39.22\n"
     ]
    }
   ],
   "source": [
    "# Проверим сколько сотрудников без информации об образовании\n",
    "a, b = len(df_4_5), len(filtr_df_4_5)\n",
    "print( \"Изначальное количество строк\", a,\n",
    "      '\\n', \"Осталось строк в датасете после исключения пропусков\", b,\n",
    "      '\\n', \"Строк без информации об образовании\", a-b,\n",
    "      '\\n', \"Процент строк без информации об образовании\", round((a-b)/a*100, 2))"
   ]
  },
  {
   "cell_type": "markdown",
   "metadata": {},
   "source": [
    "Оценим среднюю долю сотрудников без информации по группе '6-10'"
   ]
  },
  {
   "cell_type": "code",
   "execution_count": 60,
   "metadata": {},
   "outputs": [
    {
     "name": "stdout",
     "output_type": "stream",
     "text": [
      "Изначальное количество строк 3409 \n",
      " Осталось строк в датасете после исключения пропусков 1985 \n",
      " Строк без информации об образовании 1424 \n",
      " Процент строк без информации об образовании 41.77\n"
     ]
    }
   ],
   "source": [
    "# отфильтруем данные по группе '4-5'\n",
    "df_6_10=education_people_df.loc[(education_people_df['employee_group']=='6-10')]\n",
    "# оставим строки без пропусков в образовании\n",
    "filtr_df_6_10=df_6_10[~df_6_10['instituition'].isna()]\n",
    "# Проверим сколько сотрудников без информации об образовании\n",
    "a, b = len(df_6_10), len(filtr_df_6_10)\n",
    "print( \"Изначальное количество строк\", a,\n",
    "      '\\n', \"Осталось строк в датасете после исключения пропусков\", b,\n",
    "      '\\n', \"Строк без информации об образовании\", a-b,\n",
    "      '\\n', \"Процент строк без информации об образовании\", round((a-b)/a*100, 2))"
   ]
  },
  {
   "cell_type": "markdown",
   "metadata": {},
   "source": [
    "Оценим среднюю долю сотрудников без информации по группе '11-25'"
   ]
  },
  {
   "cell_type": "code",
   "execution_count": 61,
   "metadata": {},
   "outputs": [
    {
     "name": "stdout",
     "output_type": "stream",
     "text": [
      "Изначальное количество строк 1950 \n",
      " Осталось строк в датасете после исключения пропусков 1299 \n",
      " Строк без информации об образовании 651 \n",
      " Процент строк без информации об образовании 33.38\n"
     ]
    }
   ],
   "source": [
    "# отфильтруем данные по группе '11-25'\n",
    "df_11_25=education_people_df.loc[(education_people_df['employee_group']=='11-25')]\n",
    "# оставим строки без пропусков в образовании\n",
    "filtr_df_11_25=df_11_25[~df_11_25['instituition'].isna()]\n",
    "# Проверим сколько сотрудников без информации об образовании\n",
    "a, b = len(df_11_25), len(filtr_df_11_25)\n",
    "print( \"Изначальное количество строк\", a,\n",
    "      '\\n', \"Осталось строк в датасете после исключения пропусков\", b,\n",
    "      '\\n', \"Строк без информации об образовании\", a-b,\n",
    "      '\\n', \"Процент строк без информации об образовании\", round((a-b)/a*100, 2))"
   ]
  },
  {
   "cell_type": "markdown",
   "metadata": {},
   "source": [
    "Оценим среднюю долю сотрудников без информации по группе '26+'"
   ]
  },
  {
   "cell_type": "code",
   "execution_count": 62,
   "metadata": {},
   "outputs": [
    {
     "name": "stdout",
     "output_type": "stream",
     "text": [
      "Изначальное количество строк 1822 \n",
      " Осталось строк в датасете после исключения пропусков 1482 \n",
      " Строк без информации об образовании 340 \n",
      " Процент строк без информации об образовании 18.66\n"
     ]
    }
   ],
   "source": [
    "# отфильтруем данные по группе '26+'\n",
    "df_26=education_people_df.loc[(education_people_df['employee_group']=='26+')]\n",
    "# оставим строки без пропусков в образовании\n",
    "filtr_df_26=df_26[~df_26['instituition'].isna()]\n",
    "# Проверим сколько сотрудников без информации об образовании\n",
    "a, b = len(df_26), len(filtr_df_26)\n",
    "print( \"Изначальное количество строк\", a,\n",
    "      '\\n', \"Осталось строк в датасете после исключения пропусков\", b,\n",
    "      '\\n', \"Строк без информации об образовании\", a-b,\n",
    "      '\\n', \"Процент строк без информации об образовании\", round((a-b)/a*100, 2))"
   ]
  },
  {
   "cell_type": "markdown",
   "metadata": {},
   "source": [
    "**Вывод:**\n",
    "- В группе \"1\"- 36,04% сотрудников без информации об образовании. Колличество компаний в группе - 18 116.\n",
    "- В группе \"2\" - 36,54% сотрудников без информации об образовании. Колличество компаний в группе - 5418.\n",
    "- В группе \"3\"- 37,57% сотрудников без информации об образовании. Колличество компаний в группе - 2985.\n",
    "- В группе \"4-5\"- 39,22% сотрудников без информации об образовании. Колличество компаний в группе - 2763.\n",
    "- В группе \"6-10\"- 41,77% сотрудников без информации об образовании. Колличество компаний в группе - 2664.\n",
    "- В группе \"11-25\"-33,38% сотрудников без информации об образовании. Колличество компаний в группе - 1425.\n",
    "- В группе \"26+\"- 18,66% сотрудников без информации об образовании. Колличество компаний в группе - 1243.\n",
    "\n",
    "Поэтому можно сделать вывод,что в группах, по категориям предприятий отсутствует меньше половины информации, это значит,что ее достаточно для анализа. Так же видно, что по каждой группе процент почти одинокоый. Единственное в группе 26+ процент чуть ниже, так как там чуть меньше количество компаний в группе.\n",
    "\n",
    "Также для выполнения задания можно было бы присоединить к этим ещё и таблицу degrees.csv, так как там также содердится информация об образовании. Обьединить таблицы можно было бы по столбцу `object_id`.\n",
    "\n"
   ]
  },
  {
   "cell_type": "markdown",
   "metadata": {
    "id": "Lz7qjM32xglW"
   },
   "source": [
    "### 2.3. Объединять или не объединять — вот в чём вопрос\n",
    "\n",
    "Некоторые названия столбцов встречаются в датасетах чаще других. В результате предварительной проверки датасетов было выяснено, что столбец `company_id` подходит для объединения данных.\n",
    "\n",
    "- Установите, подходит ли для объединения данных столбец `network_username`, который встречается в нескольких датасетах. Нам необходимо понимать, дублируется ли для разных датасетов информация в столбцах с таким названием, и если да — то насколько часто.\n",
    "- Оцените, можно ли использовать столбцы с именем `network_username` для объединения данных."
   ]
  },
  {
   "cell_type": "markdown",
   "metadata": {
    "id": "RxOS5rwmFcNW"
   },
   "source": [
    "Столбец `network_username` встречаеться в таблицах `people`, `company_and_rounds` и дополнительной таблице `fund`."
   ]
  },
  {
   "cell_type": "markdown",
   "metadata": {
    "id": "_7gjdrGOFcB2"
   },
   "source": [
    "Проверим дублируется ли информация с такими названиями в датасетах"
   ]
  },
  {
   "cell_type": "code",
   "execution_count": 63,
   "metadata": {},
   "outputs": [
    {
     "data": {
      "text/plain": [
       "188287"
      ]
     },
     "execution_count": 63,
     "metadata": {},
     "output_type": "execute_result"
    }
   ],
   "source": [
    "people_df.duplicated(subset=['network_username']).sum()"
   ]
  },
  {
   "cell_type": "code",
   "execution_count": 64,
   "metadata": {},
   "outputs": [
    {
     "data": {
      "text/plain": [
       "138202"
      ]
     },
     "execution_count": 64,
     "metadata": {},
     "output_type": "execute_result"
    }
   ],
   "source": [
    "company_df.duplicated(subset=['network_username']).sum()"
   ]
  },
  {
   "cell_type": "code",
   "execution_count": 65,
   "metadata": {},
   "outputs": [
    {
     "data": {
      "text/plain": [
       "9553"
      ]
     },
     "execution_count": 65,
     "metadata": {},
     "output_type": "execute_result"
    }
   ],
   "source": [
    "fund_df.duplicated(subset=['network_username']).sum()"
   ]
  },
  {
   "cell_type": "markdown",
   "metadata": {},
   "source": [
    "Поробуем ответить на вопрос чтобы мы получили если бы попытались объединить people_df и company_rounds. Сколько бы мы получили дополнительной информации от этого обьединения.Создадим визуализацию, для демонстрации пересечения данных. Сделаем это с помощью диаграммы Венна"
   ]
  },
  {
   "cell_type": "code",
   "execution_count": 66,
   "metadata": {},
   "outputs": [],
   "source": [
    "# Уникальные значения в каждом датасете\n",
    "unique_users1 = set(people_df['network_username'].dropna().unique())\n",
    "unique_users2 = set(company_df['network_username'].dropna().unique())\n",
    "unique_users3 = set(fund_df['network_username'].dropna().unique())"
   ]
  },
  {
   "cell_type": "code",
   "execution_count": 67,
   "metadata": {},
   "outputs": [
    {
     "data": {
      "image/png": "[encoded data removed]",
      "text/plain": [
       "<Figure size 432x288 with 1 Axes>"
      ]
     },
     "metadata": {},
     "output_type": "display_data"
    }
   ],
   "source": [
    "from matplotlib_venn import venn3\n",
    "import matplotlib.pyplot as plt\n",
    "\n",
    "# Построение диаграммы Венна для трёх датасетов\n",
    "venn3([unique_users1, unique_users2, unique_users3], set_labels=('people_df', 'company_df', 'fund_df'))\n",
    "plt.title('Пересечение network_username между people_df, company_df и fund_df')\n",
    "plt.show()"
   ]
  },
  {
   "cell_type": "markdown",
   "metadata": {},
   "source": [
    "Визуализация пересечений с помощью диаграмм Венна"
   ]
  },
  {
   "cell_type": "markdown",
   "metadata": {},
   "source": [
    "С помощью диаграмм Венна можно наглядно проанализировать пересечения и уникальные значения в датасетах. Это помогает понять, насколько данные связаны между собой, и сделать выводы о их структуре.Пересечение между датасетом people_df и company_df есть - 2192 пересечение. Связь между датасетом people_df и fund_df очень мальнькая 72 пересечения и связь между company_df и fund_df тоже незгачительная - 63 пересечения. Можно сделать вывод,что даные связаны между собой не сильно, при их соединении будет много пропусков."
   ]
  },
  {
   "cell_type": "markdown",
   "metadata": {
    "id": "EHcODomVrJg1"
   },
   "source": [
    "\n",
    "### 2.4. Проблемный датасет и причина возникновения пропусков\n",
    "\n",
    "Во время собственного анализа данных у заказчика больше всего вопросов возникло к датасету `company_and_rounds.csv`. В нём много пропусков как раз в информации о раундах, которая заказчику важна.\n",
    "\n",
    "- Любым удобным способом приведите данные в вид, который позволит в дальнейшем проводить анализ в разрезе отдельных компаний. Обратите внимание на структуру датасета, порядок и названия столбцов, проанализируйте значения.\n",
    "\n",
    "По гипотезе заказчика данные по компаниям из этой таблицы раньше хранились иначе, более удобным для исследования образом.\n",
    "\n",
    "- Максимальным образом сохраняя данные, сохранив их связность и исключив возможные возникающие при этом ошибки, подготовьте данные так, чтобы удобно было отобрать компании по параметрам и рассчитать показатели из расчёта на одну компанию без промежуточных агрегаций."
   ]
  },
  {
   "cell_type": "markdown",
   "metadata": {},
   "source": [
    "Загрузим данные из файла company_and_rounds.csv и изучим их структуру"
   ]
  },
  {
   "cell_type": "code",
   "execution_count": 68,
   "metadata": {
    "id": "oSk7xqu_FbaN"
   },
   "outputs": [
    {
     "data": {
      "text/html": [
       "<div>\n",
       "<style scoped>\n",
       "    .dataframe tbody tr th:only-of-type {\n",
       "        vertical-align: middle;\n",
       "    }\n",
       "\n",
       "    .dataframe tbody tr th {\n",
       "        vertical-align: top;\n",
       "    }\n",
       "\n",
       "    .dataframe thead th {\n",
       "        text-align: right;\n",
       "    }\n",
       "</style>\n",
       "<table border=\"1\" class=\"dataframe\">\n",
       "  <thead>\n",
       "    <tr style=\"text-align: right;\">\n",
       "      <th></th>\n",
       "      <th>company_ID</th>\n",
       "      <th>name</th>\n",
       "      <th>category_code</th>\n",
       "      <th>status</th>\n",
       "      <th>founded_at</th>\n",
       "      <th>closed_at</th>\n",
       "      <th>domain</th>\n",
       "      <th>network_username</th>\n",
       "      <th>country_code</th>\n",
       "      <th>investment_rounds</th>\n",
       "      <th>...</th>\n",
       "      <th>funding_round_id</th>\n",
       "      <th>company_id</th>\n",
       "      <th>funded_at</th>\n",
       "      <th>funding_round_type</th>\n",
       "      <th>raised_amount</th>\n",
       "      <th>pre_money_valuation</th>\n",
       "      <th>participants</th>\n",
       "      <th>is_first_round</th>\n",
       "      <th>is_last_round</th>\n",
       "      <th>funded_year</th>\n",
       "    </tr>\n",
       "  </thead>\n",
       "  <tbody>\n",
       "    <tr>\n",
       "      <th>0</th>\n",
       "      <td>1.0</td>\n",
       "      <td>Wetpaint</td>\n",
       "      <td>web</td>\n",
       "      <td>operating</td>\n",
       "      <td>2005-10-17</td>\n",
       "      <td>NaT</td>\n",
       "      <td>wetpaint-inc.com</td>\n",
       "      <td>BachelrWetpaint</td>\n",
       "      <td>USA</td>\n",
       "      <td>0.0</td>\n",
       "      <td>...</td>\n",
       "      <td>888.0</td>\n",
       "      <td>1.0</td>\n",
       "      <td>2005-10-01</td>\n",
       "      <td>series-a</td>\n",
       "      <td>5250000.0</td>\n",
       "      <td>0.0</td>\n",
       "      <td>2.0</td>\n",
       "      <td>0.0</td>\n",
       "      <td>1.0</td>\n",
       "      <td>2005</td>\n",
       "    </tr>\n",
       "    <tr>\n",
       "      <th>1</th>\n",
       "      <td>1.0</td>\n",
       "      <td>Wetpaint</td>\n",
       "      <td>web</td>\n",
       "      <td>operating</td>\n",
       "      <td>2005-10-17</td>\n",
       "      <td>NaT</td>\n",
       "      <td>wetpaint-inc.com</td>\n",
       "      <td>BachelrWetpaint</td>\n",
       "      <td>USA</td>\n",
       "      <td>0.0</td>\n",
       "      <td>...</td>\n",
       "      <td>889.0</td>\n",
       "      <td>1.0</td>\n",
       "      <td>2007-01-01</td>\n",
       "      <td>series-b</td>\n",
       "      <td>9500000.0</td>\n",
       "      <td>0.0</td>\n",
       "      <td>3.0</td>\n",
       "      <td>0.0</td>\n",
       "      <td>0.0</td>\n",
       "      <td>2007</td>\n",
       "    </tr>\n",
       "    <tr>\n",
       "      <th>2</th>\n",
       "      <td>1.0</td>\n",
       "      <td>Wetpaint</td>\n",
       "      <td>web</td>\n",
       "      <td>operating</td>\n",
       "      <td>2005-10-17</td>\n",
       "      <td>NaT</td>\n",
       "      <td>wetpaint-inc.com</td>\n",
       "      <td>BachelrWetpaint</td>\n",
       "      <td>USA</td>\n",
       "      <td>0.0</td>\n",
       "      <td>...</td>\n",
       "      <td>2312.0</td>\n",
       "      <td>1.0</td>\n",
       "      <td>2008-05-19</td>\n",
       "      <td>series-c+</td>\n",
       "      <td>25000000.0</td>\n",
       "      <td>0.0</td>\n",
       "      <td>4.0</td>\n",
       "      <td>1.0</td>\n",
       "      <td>0.0</td>\n",
       "      <td>2008</td>\n",
       "    </tr>\n",
       "    <tr>\n",
       "      <th>3</th>\n",
       "      <td>10.0</td>\n",
       "      <td>Flektor</td>\n",
       "      <td>games_video</td>\n",
       "      <td>acquired</td>\n",
       "      <td>NaT</td>\n",
       "      <td>NaT</td>\n",
       "      <td>flektor.com</td>\n",
       "      <td>NaN</td>\n",
       "      <td>USA</td>\n",
       "      <td>0.0</td>\n",
       "      <td>...</td>\n",
       "      <td>NaN</td>\n",
       "      <td>NaN</td>\n",
       "      <td>NaT</td>\n",
       "      <td>NaN</td>\n",
       "      <td>NaN</td>\n",
       "      <td>NaN</td>\n",
       "      <td>NaN</td>\n",
       "      <td>NaN</td>\n",
       "      <td>NaN</td>\n",
       "      <td>NaT</td>\n",
       "    </tr>\n",
       "    <tr>\n",
       "      <th>4</th>\n",
       "      <td>100.0</td>\n",
       "      <td>There</td>\n",
       "      <td>games_video</td>\n",
       "      <td>acquired</td>\n",
       "      <td>NaT</td>\n",
       "      <td>NaT</td>\n",
       "      <td>there.com</td>\n",
       "      <td>NaN</td>\n",
       "      <td>USA</td>\n",
       "      <td>0.0</td>\n",
       "      <td>...</td>\n",
       "      <td>NaN</td>\n",
       "      <td>NaN</td>\n",
       "      <td>NaT</td>\n",
       "      <td>NaN</td>\n",
       "      <td>NaN</td>\n",
       "      <td>NaN</td>\n",
       "      <td>NaN</td>\n",
       "      <td>NaN</td>\n",
       "      <td>NaN</td>\n",
       "      <td>NaT</td>\n",
       "    </tr>\n",
       "  </tbody>\n",
       "</table>\n",
       "<p>5 rows × 23 columns</p>\n",
       "</div>"
      ],
      "text/plain": [
       "   company_ID      name category_code     status founded_at closed_at  \\\n",
       "0         1.0  Wetpaint           web  operating 2005-10-17       NaT   \n",
       "1         1.0  Wetpaint           web  operating 2005-10-17       NaT   \n",
       "2         1.0  Wetpaint           web  operating 2005-10-17       NaT   \n",
       "3        10.0   Flektor   games_video   acquired        NaT       NaT   \n",
       "4       100.0     There   games_video   acquired        NaT       NaT   \n",
       "\n",
       "             domain network_username country_code  investment_rounds  ...  \\\n",
       "0  wetpaint-inc.com  BachelrWetpaint          USA                0.0  ...   \n",
       "1  wetpaint-inc.com  BachelrWetpaint          USA                0.0  ...   \n",
       "2  wetpaint-inc.com  BachelrWetpaint          USA                0.0  ...   \n",
       "3       flektor.com              NaN          USA                0.0  ...   \n",
       "4         there.com              NaN          USA                0.0  ...   \n",
       "\n",
       "   funding_round_id  company_id  funded_at  funding_round_type  raised_amount  \\\n",
       "0             888.0         1.0 2005-10-01            series-a      5250000.0   \n",
       "1             889.0         1.0 2007-01-01            series-b      9500000.0   \n",
       "2            2312.0         1.0 2008-05-19           series-c+     25000000.0   \n",
       "3               NaN         NaN        NaT                 NaN            NaN   \n",
       "4               NaN         NaN        NaT                 NaN            NaN   \n",
       "\n",
       "  pre_money_valuation participants  is_first_round  is_last_round  funded_year  \n",
       "0                 0.0          2.0             0.0            1.0         2005  \n",
       "1                 0.0          3.0             0.0            0.0         2007  \n",
       "2                 0.0          4.0             1.0            0.0         2008  \n",
       "3                 NaN          NaN             NaN            NaN          NaT  \n",
       "4                 NaN          NaN             NaN            NaN          NaT  \n",
       "\n",
       "[5 rows x 23 columns]"
      ]
     },
     "execution_count": 68,
     "metadata": {},
     "output_type": "execute_result"
    }
   ],
   "source": [
    "company_df.head()"
   ]
  },
  {
   "cell_type": "markdown",
   "metadata": {},
   "source": [
    "Из таблицы видно, что она как будто образована из двух таблиц: таблица с данными о компаниях, таблица с данными о раундах инвистирования. Так как вначале идет столбец company_ID, в середине таблицы столбец 'funding_round_id' и далее за ним еще раз повторяеться столбец company_id. \n",
    "\n",
    "Для удобства анализа можно:\n",
    "Создать отдельную таблицу с уникальными компаниями.\n",
    "Создать отдельную таблицу с раундами финансирования, связанную с компаниями по company_id"
   ]
  },
  {
   "cell_type": "code",
   "execution_count": 69,
   "metadata": {
    "id": "9BY9lTUcFbJ-"
   },
   "outputs": [],
   "source": [
    "# Создание таблицы с уникальными компаниями\n",
    "companies = company_df[['company_ID', 'name', 'category_code', 'status', 'founded_at',\n",
    "       'closed_at', 'domain', 'network_username', 'country_code',\n",
    "       'investment_rounds', 'funding_rounds', 'funding_total', 'milestones']].drop_duplicates()\n",
    "\n",
    "# Создание таблицы с раундами финансирования\n",
    "rounds = company_df[['funding_round_id', 'company_id', 'funded_at', 'funding_round_type',\n",
    "       'raised_amount', 'pre_money_valuation', 'participants',\n",
    "       'is_first_round', 'is_last_round']]\n"
   ]
  },
  {
   "cell_type": "code",
   "execution_count": 70,
   "metadata": {},
   "outputs": [
    {
     "data": {
      "text/html": [
       "<div>\n",
       "<style scoped>\n",
       "    .dataframe tbody tr th:only-of-type {\n",
       "        vertical-align: middle;\n",
       "    }\n",
       "\n",
       "    .dataframe tbody tr th {\n",
       "        vertical-align: top;\n",
       "    }\n",
       "\n",
       "    .dataframe thead th {\n",
       "        text-align: right;\n",
       "    }\n",
       "</style>\n",
       "<table border=\"1\" class=\"dataframe\">\n",
       "  <thead>\n",
       "    <tr style=\"text-align: right;\">\n",
       "      <th></th>\n",
       "      <th>company_ID</th>\n",
       "      <th>name</th>\n",
       "      <th>category_code</th>\n",
       "      <th>status</th>\n",
       "      <th>founded_at</th>\n",
       "      <th>closed_at</th>\n",
       "      <th>domain</th>\n",
       "      <th>network_username</th>\n",
       "      <th>country_code</th>\n",
       "      <th>investment_rounds</th>\n",
       "      <th>funding_rounds</th>\n",
       "      <th>funding_total</th>\n",
       "      <th>milestones</th>\n",
       "    </tr>\n",
       "  </thead>\n",
       "  <tbody>\n",
       "    <tr>\n",
       "      <th>0</th>\n",
       "      <td>1.0</td>\n",
       "      <td>Wetpaint</td>\n",
       "      <td>web</td>\n",
       "      <td>operating</td>\n",
       "      <td>2005-10-17</td>\n",
       "      <td>NaT</td>\n",
       "      <td>wetpaint-inc.com</td>\n",
       "      <td>BachelrWetpaint</td>\n",
       "      <td>USA</td>\n",
       "      <td>0.0</td>\n",
       "      <td>3.0</td>\n",
       "      <td>39750000.0</td>\n",
       "      <td>5.0</td>\n",
       "    </tr>\n",
       "    <tr>\n",
       "      <th>3</th>\n",
       "      <td>10.0</td>\n",
       "      <td>Flektor</td>\n",
       "      <td>games_video</td>\n",
       "      <td>acquired</td>\n",
       "      <td>NaT</td>\n",
       "      <td>NaT</td>\n",
       "      <td>flektor.com</td>\n",
       "      <td>NaN</td>\n",
       "      <td>USA</td>\n",
       "      <td>0.0</td>\n",
       "      <td>0.0</td>\n",
       "      <td>0.0</td>\n",
       "      <td>0.0</td>\n",
       "    </tr>\n",
       "    <tr>\n",
       "      <th>4</th>\n",
       "      <td>100.0</td>\n",
       "      <td>There</td>\n",
       "      <td>games_video</td>\n",
       "      <td>acquired</td>\n",
       "      <td>NaT</td>\n",
       "      <td>NaT</td>\n",
       "      <td>there.com</td>\n",
       "      <td>NaN</td>\n",
       "      <td>USA</td>\n",
       "      <td>0.0</td>\n",
       "      <td>0.0</td>\n",
       "      <td>0.0</td>\n",
       "      <td>4.0</td>\n",
       "    </tr>\n",
       "    <tr>\n",
       "      <th>5</th>\n",
       "      <td>10000.0</td>\n",
       "      <td>MYWEBBO</td>\n",
       "      <td>network_hosting</td>\n",
       "      <td>operating</td>\n",
       "      <td>2008-07-26</td>\n",
       "      <td>NaT</td>\n",
       "      <td>mywebbo.com</td>\n",
       "      <td>NaN</td>\n",
       "      <td>NaN</td>\n",
       "      <td>0.0</td>\n",
       "      <td>0.0</td>\n",
       "      <td>0.0</td>\n",
       "      <td>0.0</td>\n",
       "    </tr>\n",
       "    <tr>\n",
       "      <th>6</th>\n",
       "      <td>10001.0</td>\n",
       "      <td>THE Movie Streamer</td>\n",
       "      <td>games_video</td>\n",
       "      <td>operating</td>\n",
       "      <td>2008-07-26</td>\n",
       "      <td>NaT</td>\n",
       "      <td>themoviestreamer.com</td>\n",
       "      <td>NaN</td>\n",
       "      <td>NaN</td>\n",
       "      <td>0.0</td>\n",
       "      <td>0.0</td>\n",
       "      <td>0.0</td>\n",
       "      <td>0.0</td>\n",
       "    </tr>\n",
       "  </tbody>\n",
       "</table>\n",
       "</div>"
      ],
      "text/plain": [
       "   company_ID                name    category_code     status founded_at  \\\n",
       "0         1.0            Wetpaint              web  operating 2005-10-17   \n",
       "3        10.0             Flektor      games_video   acquired        NaT   \n",
       "4       100.0               There      games_video   acquired        NaT   \n",
       "5     10000.0             MYWEBBO  network_hosting  operating 2008-07-26   \n",
       "6     10001.0  THE Movie Streamer      games_video  operating 2008-07-26   \n",
       "\n",
       "  closed_at                domain network_username country_code  \\\n",
       "0       NaT      wetpaint-inc.com  BachelrWetpaint          USA   \n",
       "3       NaT           flektor.com              NaN          USA   \n",
       "4       NaT             there.com              NaN          USA   \n",
       "5       NaT           mywebbo.com              NaN          NaN   \n",
       "6       NaT  themoviestreamer.com              NaN          NaN   \n",
       "\n",
       "   investment_rounds  funding_rounds  funding_total  milestones  \n",
       "0                0.0             3.0     39750000.0         5.0  \n",
       "3                0.0             0.0            0.0         0.0  \n",
       "4                0.0             0.0            0.0         4.0  \n",
       "5                0.0             0.0            0.0         0.0  \n",
       "6                0.0             0.0            0.0         0.0  "
      ]
     },
     "execution_count": 70,
     "metadata": {},
     "output_type": "execute_result"
    }
   ],
   "source": [
    "# выведем данные таблицы по компаниям\n",
    "companies.head()"
   ]
  },
  {
   "cell_type": "code",
   "execution_count": 71,
   "metadata": {},
   "outputs": [
    {
     "name": "stdout",
     "output_type": "stream",
     "text": [
      "<class 'pandas.core.frame.DataFrame'>\n",
      "Int64Index: 196554 entries, 0 to 217472\n",
      "Data columns (total 13 columns):\n",
      " #   Column             Non-Null Count   Dtype         \n",
      "---  ------             --------------   -----         \n",
      " 0   company_ID         196553 non-null  float64       \n",
      " 1   name               196553 non-null  object        \n",
      " 2   category_code      123186 non-null  object        \n",
      " 3   status             196553 non-null  object        \n",
      " 4   founded_at         91227 non-null   datetime64[ns]\n",
      " 5   closed_at          2620 non-null    datetime64[ns]\n",
      " 6   domain             126545 non-null  object        \n",
      " 7   network_username   80591 non-null   object        \n",
      " 8   country_code       87990 non-null   object        \n",
      " 9   investment_rounds  196553 non-null  float64       \n",
      " 10  funding_rounds     196553 non-null  float64       \n",
      " 11  funding_total      196553 non-null  float64       \n",
      " 12  milestones         196553 non-null  float64       \n",
      "dtypes: datetime64[ns](2), float64(5), object(6)\n",
      "memory usage: 21.0+ MB\n"
     ]
    }
   ],
   "source": [
    "# Выводим информацию о датафрейме\n",
    "companies.info()"
   ]
  },
  {
   "cell_type": "code",
   "execution_count": 72,
   "metadata": {},
   "outputs": [],
   "source": [
    "# скопируем датасет\n",
    "companies_info=companies.copy()"
   ]
  },
  {
   "cell_type": "markdown",
   "metadata": {},
   "source": [
    "Произведем обработку данных в данном датасете. Для начала приведем столбец company_ID к нижнему регистру."
   ]
  },
  {
   "cell_type": "code",
   "execution_count": 73,
   "metadata": {},
   "outputs": [],
   "source": [
    "companies_info.columns = companies_info.columns.str.lower()"
   ]
  },
  {
   "cell_type": "code",
   "execution_count": 74,
   "metadata": {},
   "outputs": [
    {
     "data": {
      "text/html": [
       "<style  type=\"text/css\" >\n",
       "#T_72341_row0_col0,#T_72341_row0_col1{\n",
       "            background-color:  #b40426;\n",
       "            color:  #f1f1f1;\n",
       "        }#T_72341_row1_col0,#T_72341_row1_col1{\n",
       "            background-color:  #f2cbb7;\n",
       "            color:  #000000;\n",
       "        }#T_72341_row2_col0,#T_72341_row2_col1{\n",
       "            background-color:  #ebd3c6;\n",
       "            color:  #000000;\n",
       "        }#T_72341_row3_col0,#T_72341_row3_col1{\n",
       "            background-color:  #e8d6cc;\n",
       "            color:  #000000;\n",
       "        }#T_72341_row4_col0,#T_72341_row4_col1{\n",
       "            background-color:  #b9d0f9;\n",
       "            color:  #000000;\n",
       "        }#T_72341_row5_col0,#T_72341_row5_col1{\n",
       "            background-color:  #b3cdfb;\n",
       "            color:  #000000;\n",
       "        }#T_72341_row6_col0,#T_72341_row6_col1,#T_72341_row7_col0,#T_72341_row7_col1,#T_72341_row8_col0,#T_72341_row8_col1,#T_72341_row9_col0,#T_72341_row9_col1,#T_72341_row10_col0,#T_72341_row10_col1,#T_72341_row11_col0,#T_72341_row11_col1,#T_72341_row12_col0,#T_72341_row12_col1{\n",
       "            background-color:  #3b4cc0;\n",
       "            color:  #f1f1f1;\n",
       "        }</style><table id=\"T_72341_\" ><thead>    <tr>        <th class=\"blank level0\" ></th>        <th class=\"col_heading level0 col0\" >Кол-во пропусков</th>        <th class=\"col_heading level0 col1\" >Доля пропусков</th>    </tr></thead><tbody>\n",
       "                <tr>\n",
       "                        <th id=\"T_72341_level0_row0\" class=\"row_heading level0 row0\" >closed_at</th>\n",
       "                        <td id=\"T_72341_row0_col0\" class=\"data row0 col0\" >193934</td>\n",
       "                        <td id=\"T_72341_row0_col1\" class=\"data row0 col1\" >0.986700</td>\n",
       "            </tr>\n",
       "            <tr>\n",
       "                        <th id=\"T_72341_level0_row1\" class=\"row_heading level0 row1\" >network_username</th>\n",
       "                        <td id=\"T_72341_row1_col0\" class=\"data row1 col0\" >115963</td>\n",
       "                        <td id=\"T_72341_row1_col1\" class=\"data row1 col1\" >0.590000</td>\n",
       "            </tr>\n",
       "            <tr>\n",
       "                        <th id=\"T_72341_level0_row2\" class=\"row_heading level0 row2\" >country_code</th>\n",
       "                        <td id=\"T_72341_row2_col0\" class=\"data row2 col0\" >108564</td>\n",
       "                        <td id=\"T_72341_row2_col1\" class=\"data row2 col1\" >0.552300</td>\n",
       "            </tr>\n",
       "            <tr>\n",
       "                        <th id=\"T_72341_level0_row3\" class=\"row_heading level0 row3\" >founded_at</th>\n",
       "                        <td id=\"T_72341_row3_col0\" class=\"data row3 col0\" >105327</td>\n",
       "                        <td id=\"T_72341_row3_col1\" class=\"data row3 col1\" >0.535900</td>\n",
       "            </tr>\n",
       "            <tr>\n",
       "                        <th id=\"T_72341_level0_row4\" class=\"row_heading level0 row4\" >category_code</th>\n",
       "                        <td id=\"T_72341_row4_col0\" class=\"data row4 col0\" >73368</td>\n",
       "                        <td id=\"T_72341_row4_col1\" class=\"data row4 col1\" >0.373300</td>\n",
       "            </tr>\n",
       "            <tr>\n",
       "                        <th id=\"T_72341_level0_row5\" class=\"row_heading level0 row5\" >domain</th>\n",
       "                        <td id=\"T_72341_row5_col0\" class=\"data row5 col0\" >70009</td>\n",
       "                        <td id=\"T_72341_row5_col1\" class=\"data row5 col1\" >0.356200</td>\n",
       "            </tr>\n",
       "            <tr>\n",
       "                        <th id=\"T_72341_level0_row6\" class=\"row_heading level0 row6\" >company_id</th>\n",
       "                        <td id=\"T_72341_row6_col0\" class=\"data row6 col0\" >1</td>\n",
       "                        <td id=\"T_72341_row6_col1\" class=\"data row6 col1\" >0.000000</td>\n",
       "            </tr>\n",
       "            <tr>\n",
       "                        <th id=\"T_72341_level0_row7\" class=\"row_heading level0 row7\" >name</th>\n",
       "                        <td id=\"T_72341_row7_col0\" class=\"data row7 col0\" >1</td>\n",
       "                        <td id=\"T_72341_row7_col1\" class=\"data row7 col1\" >0.000000</td>\n",
       "            </tr>\n",
       "            <tr>\n",
       "                        <th id=\"T_72341_level0_row8\" class=\"row_heading level0 row8\" >status</th>\n",
       "                        <td id=\"T_72341_row8_col0\" class=\"data row8 col0\" >1</td>\n",
       "                        <td id=\"T_72341_row8_col1\" class=\"data row8 col1\" >0.000000</td>\n",
       "            </tr>\n",
       "            <tr>\n",
       "                        <th id=\"T_72341_level0_row9\" class=\"row_heading level0 row9\" >investment_rounds</th>\n",
       "                        <td id=\"T_72341_row9_col0\" class=\"data row9 col0\" >1</td>\n",
       "                        <td id=\"T_72341_row9_col1\" class=\"data row9 col1\" >0.000000</td>\n",
       "            </tr>\n",
       "            <tr>\n",
       "                        <th id=\"T_72341_level0_row10\" class=\"row_heading level0 row10\" >funding_rounds</th>\n",
       "                        <td id=\"T_72341_row10_col0\" class=\"data row10 col0\" >1</td>\n",
       "                        <td id=\"T_72341_row10_col1\" class=\"data row10 col1\" >0.000000</td>\n",
       "            </tr>\n",
       "            <tr>\n",
       "                        <th id=\"T_72341_level0_row11\" class=\"row_heading level0 row11\" >funding_total</th>\n",
       "                        <td id=\"T_72341_row11_col0\" class=\"data row11 col0\" >1</td>\n",
       "                        <td id=\"T_72341_row11_col1\" class=\"data row11 col1\" >0.000000</td>\n",
       "            </tr>\n",
       "            <tr>\n",
       "                        <th id=\"T_72341_level0_row12\" class=\"row_heading level0 row12\" >milestones</th>\n",
       "                        <td id=\"T_72341_row12_col0\" class=\"data row12 col0\" >1</td>\n",
       "                        <td id=\"T_72341_row12_col1\" class=\"data row12 col1\" >0.000000</td>\n",
       "            </tr>\n",
       "    </tbody></table>"
      ],
      "text/plain": [
       "<pandas.io.formats.style.Styler at 0x7fc373402e80>"
      ]
     },
     "execution_count": 74,
     "metadata": {},
     "output_type": "execute_result"
    }
   ],
   "source": [
    "# Проанализируем пропуски\n",
    "missing = (pd.DataFrame({'Кол-во пропусков': companies_info.isnull().sum().sort_values(ascending=False), 'Доля пропусков': companies_info.isnull().mean().round(4).sort_values(ascending=False)})\n",
    "           .style.background_gradient(cmap='coolwarm'))\n",
    "missing"
   ]
  },
  {
   "cell_type": "markdown",
   "metadata": {},
   "source": [
    "Самое большое количество пропусков в столбце `closed_at` (дата закрытия компании) 98% - здесь, вероятно, если информация не указана, компания в статусе действующая. \n",
    "В столбце `network_username` (ник компании в сети) 59% пропусков - пропуски связаны с тем, что у компании может не быть ника в сети (нет сайта, не зарегистрированы в мессенджерах), тоже самое `domain` (официальный сайт компании) -35% пропусков.\n",
    "Также есть 1 пропуск в столбце `company_id` - его мы удалим, так как без названия компании, нельзя провести ее анализ.\n",
    "В остальных столбцах пропуски связаны с тем, что вероятно нет даннных и информайии по компании: `country_code` (код страны компании) 55% пропусков , `founded_at`c(дата инвестирования) - 53%, `category_code` 55% пропусков (категория области деятельности компании). "
   ]
  },
  {
   "cell_type": "markdown",
   "metadata": {},
   "source": [
    "Удалим строку с пропуском данных в столбце 'company_id', так как без информации о компании,мв не сможем провести анализ"
   ]
  },
  {
   "cell_type": "code",
   "execution_count": 75,
   "metadata": {},
   "outputs": [],
   "source": [
    "# Отбираем строки без пропусков в столбце 'company_id'\n",
    "companies_info=companies_info.dropna(subset = ['company_id'])"
   ]
  },
  {
   "cell_type": "code",
   "execution_count": 76,
   "metadata": {},
   "outputs": [
    {
     "data": {
      "text/plain": [
       "0"
      ]
     },
     "execution_count": 76,
     "metadata": {},
     "output_type": "execute_result"
    }
   ],
   "source": [
    "# проверим на явные дубликаты:\n",
    "duplicated_companies_info = companies_info.duplicated().sum()\n",
    "duplicated_companies_info"
   ]
  },
  {
   "cell_type": "markdown",
   "metadata": {},
   "source": [
    "В датафрейме не найдено явных дубликатов. однако проверим дубликаты по названию компании и нику компании в сети."
   ]
  },
  {
   "cell_type": "code",
   "execution_count": 77,
   "metadata": {},
   "outputs": [
    {
     "data": {
      "text/plain": [
       "47"
      ]
     },
     "execution_count": 77,
     "metadata": {},
     "output_type": "execute_result"
    }
   ],
   "source": [
    "companies_info.duplicated(subset=['name']).sum()"
   ]
  },
  {
   "cell_type": "markdown",
   "metadata": {},
   "source": [
    "В датафрейме найдено 43 дубликата по названию компании и ника компании в сети. Их мы удалим, что бы не дублировалась информация о компаниях."
   ]
  },
  {
   "cell_type": "code",
   "execution_count": 78,
   "metadata": {},
   "outputs": [],
   "source": [
    "companies_info=companies_info.drop_duplicates(subset=['name'])"
   ]
  },
  {
   "cell_type": "code",
   "execution_count": 79,
   "metadata": {},
   "outputs": [
    {
     "data": {
      "text/html": [
       "<style  type=\"text/css\" >\n",
       "#T_75ee1_row0_col0,#T_75ee1_row0_col1{\n",
       "            background-color:  #b40426;\n",
       "            color:  #f1f1f1;\n",
       "        }#T_75ee1_row1_col0,#T_75ee1_row1_col1{\n",
       "            background-color:  #f2cbb7;\n",
       "            color:  #000000;\n",
       "        }#T_75ee1_row2_col0,#T_75ee1_row2_col1{\n",
       "            background-color:  #ebd3c6;\n",
       "            color:  #000000;\n",
       "        }#T_75ee1_row3_col0,#T_75ee1_row3_col1{\n",
       "            background-color:  #e8d6cc;\n",
       "            color:  #000000;\n",
       "        }#T_75ee1_row4_col0,#T_75ee1_row4_col1{\n",
       "            background-color:  #b9d0f9;\n",
       "            color:  #000000;\n",
       "        }#T_75ee1_row5_col0,#T_75ee1_row5_col1{\n",
       "            background-color:  #b3cdfb;\n",
       "            color:  #000000;\n",
       "        }#T_75ee1_row6_col0,#T_75ee1_row6_col1,#T_75ee1_row7_col0,#T_75ee1_row7_col1,#T_75ee1_row8_col0,#T_75ee1_row8_col1,#T_75ee1_row9_col0,#T_75ee1_row9_col1,#T_75ee1_row10_col0,#T_75ee1_row10_col1,#T_75ee1_row11_col0,#T_75ee1_row11_col1,#T_75ee1_row12_col0,#T_75ee1_row12_col1{\n",
       "            background-color:  #3b4cc0;\n",
       "            color:  #f1f1f1;\n",
       "        }</style><table id=\"T_75ee1_\" ><thead>    <tr>        <th class=\"blank level0\" ></th>        <th class=\"col_heading level0 col0\" >Кол-во пропусков</th>        <th class=\"col_heading level0 col1\" >Доля пропусков</th>    </tr></thead><tbody>\n",
       "                <tr>\n",
       "                        <th id=\"T_75ee1_level0_row0\" class=\"row_heading level0 row0\" >closed_at</th>\n",
       "                        <td id=\"T_75ee1_row0_col0\" class=\"data row0 col0\" >193886</td>\n",
       "                        <td id=\"T_75ee1_row0_col1\" class=\"data row0 col1\" >0.986700</td>\n",
       "            </tr>\n",
       "            <tr>\n",
       "                        <th id=\"T_75ee1_level0_row1\" class=\"row_heading level0 row1\" >network_username</th>\n",
       "                        <td id=\"T_75ee1_row1_col0\" class=\"data row1 col0\" >115920</td>\n",
       "                        <td id=\"T_75ee1_row1_col1\" class=\"data row1 col1\" >0.589900</td>\n",
       "            </tr>\n",
       "            <tr>\n",
       "                        <th id=\"T_75ee1_level0_row2\" class=\"row_heading level0 row2\" >country_code</th>\n",
       "                        <td id=\"T_75ee1_row2_col0\" class=\"data row2 col0\" >108521</td>\n",
       "                        <td id=\"T_75ee1_row2_col1\" class=\"data row2 col1\" >0.552300</td>\n",
       "            </tr>\n",
       "            <tr>\n",
       "                        <th id=\"T_75ee1_level0_row3\" class=\"row_heading level0 row3\" >founded_at</th>\n",
       "                        <td id=\"T_75ee1_row3_col0\" class=\"data row3 col0\" >105286</td>\n",
       "                        <td id=\"T_75ee1_row3_col1\" class=\"data row3 col1\" >0.535800</td>\n",
       "            </tr>\n",
       "            <tr>\n",
       "                        <th id=\"T_75ee1_level0_row4\" class=\"row_heading level0 row4\" >category_code</th>\n",
       "                        <td id=\"T_75ee1_row4_col0\" class=\"data row4 col0\" >73331</td>\n",
       "                        <td id=\"T_75ee1_row4_col1\" class=\"data row4 col1\" >0.373200</td>\n",
       "            </tr>\n",
       "            <tr>\n",
       "                        <th id=\"T_75ee1_level0_row5\" class=\"row_heading level0 row5\" >domain</th>\n",
       "                        <td id=\"T_75ee1_row5_col0\" class=\"data row5 col0\" >69974</td>\n",
       "                        <td id=\"T_75ee1_row5_col1\" class=\"data row5 col1\" >0.356100</td>\n",
       "            </tr>\n",
       "            <tr>\n",
       "                        <th id=\"T_75ee1_level0_row6\" class=\"row_heading level0 row6\" >company_id</th>\n",
       "                        <td id=\"T_75ee1_row6_col0\" class=\"data row6 col0\" >0</td>\n",
       "                        <td id=\"T_75ee1_row6_col1\" class=\"data row6 col1\" >0.000000</td>\n",
       "            </tr>\n",
       "            <tr>\n",
       "                        <th id=\"T_75ee1_level0_row7\" class=\"row_heading level0 row7\" >name</th>\n",
       "                        <td id=\"T_75ee1_row7_col0\" class=\"data row7 col0\" >0</td>\n",
       "                        <td id=\"T_75ee1_row7_col1\" class=\"data row7 col1\" >0.000000</td>\n",
       "            </tr>\n",
       "            <tr>\n",
       "                        <th id=\"T_75ee1_level0_row8\" class=\"row_heading level0 row8\" >status</th>\n",
       "                        <td id=\"T_75ee1_row8_col0\" class=\"data row8 col0\" >0</td>\n",
       "                        <td id=\"T_75ee1_row8_col1\" class=\"data row8 col1\" >0.000000</td>\n",
       "            </tr>\n",
       "            <tr>\n",
       "                        <th id=\"T_75ee1_level0_row9\" class=\"row_heading level0 row9\" >investment_rounds</th>\n",
       "                        <td id=\"T_75ee1_row9_col0\" class=\"data row9 col0\" >0</td>\n",
       "                        <td id=\"T_75ee1_row9_col1\" class=\"data row9 col1\" >0.000000</td>\n",
       "            </tr>\n",
       "            <tr>\n",
       "                        <th id=\"T_75ee1_level0_row10\" class=\"row_heading level0 row10\" >funding_rounds</th>\n",
       "                        <td id=\"T_75ee1_row10_col0\" class=\"data row10 col0\" >0</td>\n",
       "                        <td id=\"T_75ee1_row10_col1\" class=\"data row10 col1\" >0.000000</td>\n",
       "            </tr>\n",
       "            <tr>\n",
       "                        <th id=\"T_75ee1_level0_row11\" class=\"row_heading level0 row11\" >funding_total</th>\n",
       "                        <td id=\"T_75ee1_row11_col0\" class=\"data row11 col0\" >0</td>\n",
       "                        <td id=\"T_75ee1_row11_col1\" class=\"data row11 col1\" >0.000000</td>\n",
       "            </tr>\n",
       "            <tr>\n",
       "                        <th id=\"T_75ee1_level0_row12\" class=\"row_heading level0 row12\" >milestones</th>\n",
       "                        <td id=\"T_75ee1_row12_col0\" class=\"data row12 col0\" >0</td>\n",
       "                        <td id=\"T_75ee1_row12_col1\" class=\"data row12 col1\" >0.000000</td>\n",
       "            </tr>\n",
       "    </tbody></table>"
      ],
      "text/plain": [
       "<pandas.io.formats.style.Styler at 0x7fc3733e2700>"
      ]
     },
     "execution_count": 79,
     "metadata": {},
     "output_type": "execute_result"
    }
   ],
   "source": [
    "missing = (pd.DataFrame({'Кол-во пропусков': companies_info.isnull().sum().sort_values(ascending=False), 'Доля пропусков': companies_info.isnull().mean().round(4).sort_values(ascending=False)})\n",
    "           .style.background_gradient(cmap='coolwarm'))\n",
    "missing"
   ]
  },
  {
   "cell_type": "code",
   "execution_count": 80,
   "metadata": {},
   "outputs": [
    {
     "name": "stdout",
     "output_type": "stream",
     "text": [
      " Было строк в исходном датасете 196554 \n",
      " Осталось строк в датасете после обработки 196506 \n",
      " Удалено строк в датасете после обработки 48 \n",
      " Процент потерь 0.02\n"
     ]
    }
   ],
   "source": [
    "# Проверим сколько удалено строк датасета\n",
    "a, b = len(companies), len(companies_info)\n",
    "print(\" Было строк в исходном датасете\", a,\n",
    "      '\\n', \"Осталось строк в датасете после обработки\", b,\n",
    "      '\\n', \"Удалено строк в датасете после обработки\", a-b,\n",
    "      '\\n', \"Процент потерь\", round((a-b)/a*100, 2))"
   ]
  },
  {
   "cell_type": "code",
   "execution_count": 81,
   "metadata": {},
   "outputs": [
    {
     "data": {
      "text/html": [
       "<div>\n",
       "<style scoped>\n",
       "    .dataframe tbody tr th:only-of-type {\n",
       "        vertical-align: middle;\n",
       "    }\n",
       "\n",
       "    .dataframe tbody tr th {\n",
       "        vertical-align: top;\n",
       "    }\n",
       "\n",
       "    .dataframe thead th {\n",
       "        text-align: right;\n",
       "    }\n",
       "</style>\n",
       "<table border=\"1\" class=\"dataframe\">\n",
       "  <thead>\n",
       "    <tr style=\"text-align: right;\">\n",
       "      <th></th>\n",
       "      <th>funding_round_id</th>\n",
       "      <th>company_id</th>\n",
       "      <th>funded_at</th>\n",
       "      <th>funding_round_type</th>\n",
       "      <th>raised_amount</th>\n",
       "      <th>pre_money_valuation</th>\n",
       "      <th>participants</th>\n",
       "      <th>is_first_round</th>\n",
       "      <th>is_last_round</th>\n",
       "    </tr>\n",
       "  </thead>\n",
       "  <tbody>\n",
       "    <tr>\n",
       "      <th>0</th>\n",
       "      <td>888.0</td>\n",
       "      <td>1.0</td>\n",
       "      <td>2005-10-01</td>\n",
       "      <td>series-a</td>\n",
       "      <td>5250000.0</td>\n",
       "      <td>0.0</td>\n",
       "      <td>2.0</td>\n",
       "      <td>0.0</td>\n",
       "      <td>1.0</td>\n",
       "    </tr>\n",
       "    <tr>\n",
       "      <th>1</th>\n",
       "      <td>889.0</td>\n",
       "      <td>1.0</td>\n",
       "      <td>2007-01-01</td>\n",
       "      <td>series-b</td>\n",
       "      <td>9500000.0</td>\n",
       "      <td>0.0</td>\n",
       "      <td>3.0</td>\n",
       "      <td>0.0</td>\n",
       "      <td>0.0</td>\n",
       "    </tr>\n",
       "    <tr>\n",
       "      <th>2</th>\n",
       "      <td>2312.0</td>\n",
       "      <td>1.0</td>\n",
       "      <td>2008-05-19</td>\n",
       "      <td>series-c+</td>\n",
       "      <td>25000000.0</td>\n",
       "      <td>0.0</td>\n",
       "      <td>4.0</td>\n",
       "      <td>1.0</td>\n",
       "      <td>0.0</td>\n",
       "    </tr>\n",
       "    <tr>\n",
       "      <th>3</th>\n",
       "      <td>NaN</td>\n",
       "      <td>NaN</td>\n",
       "      <td>NaT</td>\n",
       "      <td>NaN</td>\n",
       "      <td>NaN</td>\n",
       "      <td>NaN</td>\n",
       "      <td>NaN</td>\n",
       "      <td>NaN</td>\n",
       "      <td>NaN</td>\n",
       "    </tr>\n",
       "    <tr>\n",
       "      <th>4</th>\n",
       "      <td>NaN</td>\n",
       "      <td>NaN</td>\n",
       "      <td>NaT</td>\n",
       "      <td>NaN</td>\n",
       "      <td>NaN</td>\n",
       "      <td>NaN</td>\n",
       "      <td>NaN</td>\n",
       "      <td>NaN</td>\n",
       "      <td>NaN</td>\n",
       "    </tr>\n",
       "  </tbody>\n",
       "</table>\n",
       "</div>"
      ],
      "text/plain": [
       "   funding_round_id  company_id  funded_at funding_round_type  raised_amount  \\\n",
       "0             888.0         1.0 2005-10-01           series-a      5250000.0   \n",
       "1             889.0         1.0 2007-01-01           series-b      9500000.0   \n",
       "2            2312.0         1.0 2008-05-19          series-c+     25000000.0   \n",
       "3               NaN         NaN        NaT                NaN            NaN   \n",
       "4               NaN         NaN        NaT                NaN            NaN   \n",
       "\n",
       "   pre_money_valuation  participants  is_first_round  is_last_round  \n",
       "0                  0.0           2.0             0.0            1.0  \n",
       "1                  0.0           3.0             0.0            0.0  \n",
       "2                  0.0           4.0             1.0            0.0  \n",
       "3                  NaN           NaN             NaN            NaN  \n",
       "4                  NaN           NaN             NaN            NaN  "
      ]
     },
     "execution_count": 81,
     "metadata": {},
     "output_type": "execute_result"
    }
   ],
   "source": [
    "# выведем данные таблицы по раундам инвистирования\n",
    "rounds.head()"
   ]
  },
  {
   "cell_type": "code",
   "execution_count": 82,
   "metadata": {},
   "outputs": [
    {
     "name": "stdout",
     "output_type": "stream",
     "text": [
      "<class 'pandas.core.frame.DataFrame'>\n",
      "RangeIndex: 217774 entries, 0 to 217773\n",
      "Data columns (total 9 columns):\n",
      " #   Column               Non-Null Count  Dtype         \n",
      "---  ------               --------------  -----         \n",
      " 0   funding_round_id     52928 non-null  float64       \n",
      " 1   company_id           52928 non-null  float64       \n",
      " 2   funded_at            52680 non-null  datetime64[ns]\n",
      " 3   funding_round_type   52928 non-null  object        \n",
      " 4   raised_amount        52928 non-null  float64       \n",
      " 5   pre_money_valuation  52928 non-null  float64       \n",
      " 6   participants         52928 non-null  float64       \n",
      " 7   is_first_round       52928 non-null  float64       \n",
      " 8   is_last_round        52928 non-null  float64       \n",
      "dtypes: datetime64[ns](1), float64(7), object(1)\n",
      "memory usage: 15.0+ MB\n"
     ]
    }
   ],
   "source": [
    "# Выводим информацию о датафрейме\n",
    "rounds.info()"
   ]
  },
  {
   "cell_type": "code",
   "execution_count": 83,
   "metadata": {},
   "outputs": [
    {
     "data": {
      "text/html": [
       "<style  type=\"text/css\" >\n",
       "#T_cd007_row0_col0,#T_cd007_row0_col1{\n",
       "            background-color:  #b40426;\n",
       "            color:  #f1f1f1;\n",
       "        }#T_cd007_row1_col0,#T_cd007_row1_col1,#T_cd007_row2_col0,#T_cd007_row2_col1,#T_cd007_row3_col0,#T_cd007_row3_col1,#T_cd007_row4_col0,#T_cd007_row4_col1,#T_cd007_row5_col0,#T_cd007_row5_col1,#T_cd007_row6_col0,#T_cd007_row6_col1,#T_cd007_row7_col0,#T_cd007_row7_col1,#T_cd007_row8_col0,#T_cd007_row8_col1{\n",
       "            background-color:  #3b4cc0;\n",
       "            color:  #f1f1f1;\n",
       "        }</style><table id=\"T_cd007_\" ><thead>    <tr>        <th class=\"blank level0\" ></th>        <th class=\"col_heading level0 col0\" >Кол-во пропусков</th>        <th class=\"col_heading level0 col1\" >Доля пропусков</th>    </tr></thead><tbody>\n",
       "                <tr>\n",
       "                        <th id=\"T_cd007_level0_row0\" class=\"row_heading level0 row0\" >funded_at</th>\n",
       "                        <td id=\"T_cd007_row0_col0\" class=\"data row0 col0\" >165094</td>\n",
       "                        <td id=\"T_cd007_row0_col1\" class=\"data row0 col1\" >0.758100</td>\n",
       "            </tr>\n",
       "            <tr>\n",
       "                        <th id=\"T_cd007_level0_row1\" class=\"row_heading level0 row1\" >funding_round_id</th>\n",
       "                        <td id=\"T_cd007_row1_col0\" class=\"data row1 col0\" >164846</td>\n",
       "                        <td id=\"T_cd007_row1_col1\" class=\"data row1 col1\" >0.757000</td>\n",
       "            </tr>\n",
       "            <tr>\n",
       "                        <th id=\"T_cd007_level0_row2\" class=\"row_heading level0 row2\" >company_id</th>\n",
       "                        <td id=\"T_cd007_row2_col0\" class=\"data row2 col0\" >164846</td>\n",
       "                        <td id=\"T_cd007_row2_col1\" class=\"data row2 col1\" >0.757000</td>\n",
       "            </tr>\n",
       "            <tr>\n",
       "                        <th id=\"T_cd007_level0_row3\" class=\"row_heading level0 row3\" >funding_round_type</th>\n",
       "                        <td id=\"T_cd007_row3_col0\" class=\"data row3 col0\" >164846</td>\n",
       "                        <td id=\"T_cd007_row3_col1\" class=\"data row3 col1\" >0.757000</td>\n",
       "            </tr>\n",
       "            <tr>\n",
       "                        <th id=\"T_cd007_level0_row4\" class=\"row_heading level0 row4\" >raised_amount</th>\n",
       "                        <td id=\"T_cd007_row4_col0\" class=\"data row4 col0\" >164846</td>\n",
       "                        <td id=\"T_cd007_row4_col1\" class=\"data row4 col1\" >0.757000</td>\n",
       "            </tr>\n",
       "            <tr>\n",
       "                        <th id=\"T_cd007_level0_row5\" class=\"row_heading level0 row5\" >pre_money_valuation</th>\n",
       "                        <td id=\"T_cd007_row5_col0\" class=\"data row5 col0\" >164846</td>\n",
       "                        <td id=\"T_cd007_row5_col1\" class=\"data row5 col1\" >0.757000</td>\n",
       "            </tr>\n",
       "            <tr>\n",
       "                        <th id=\"T_cd007_level0_row6\" class=\"row_heading level0 row6\" >participants</th>\n",
       "                        <td id=\"T_cd007_row6_col0\" class=\"data row6 col0\" >164846</td>\n",
       "                        <td id=\"T_cd007_row6_col1\" class=\"data row6 col1\" >0.757000</td>\n",
       "            </tr>\n",
       "            <tr>\n",
       "                        <th id=\"T_cd007_level0_row7\" class=\"row_heading level0 row7\" >is_first_round</th>\n",
       "                        <td id=\"T_cd007_row7_col0\" class=\"data row7 col0\" >164846</td>\n",
       "                        <td id=\"T_cd007_row7_col1\" class=\"data row7 col1\" >0.757000</td>\n",
       "            </tr>\n",
       "            <tr>\n",
       "                        <th id=\"T_cd007_level0_row8\" class=\"row_heading level0 row8\" >is_last_round</th>\n",
       "                        <td id=\"T_cd007_row8_col0\" class=\"data row8 col0\" >164846</td>\n",
       "                        <td id=\"T_cd007_row8_col1\" class=\"data row8 col1\" >0.757000</td>\n",
       "            </tr>\n",
       "    </tbody></table>"
      ],
      "text/plain": [
       "<pandas.io.formats.style.Styler at 0x7fc375243af0>"
      ]
     },
     "execution_count": 83,
     "metadata": {},
     "output_type": "execute_result"
    }
   ],
   "source": [
    "missing = (pd.DataFrame({'Кол-во пропусков': rounds.isnull().sum().sort_values(ascending=False), 'Доля пропусков': rounds.isnull().mean().round(4).sort_values(ascending=False)})\n",
    "           .style.background_gradient(cmap='coolwarm'))\n",
    "missing"
   ]
  },
  {
   "cell_type": "code",
   "execution_count": 84,
   "metadata": {},
   "outputs": [],
   "source": [
    "# скопируем датасет\n",
    "rounds_info=rounds.copy()"
   ]
  },
  {
   "cell_type": "markdown",
   "metadata": {},
   "source": [
    "Видим,что в таблице имеються пустые строки, они образовались, при обьединении этой таблицы с данными о компании. Их мы просто удалим, так как они будут мешать при анализе."
   ]
  },
  {
   "cell_type": "code",
   "execution_count": 85,
   "metadata": {},
   "outputs": [],
   "source": [
    "rounds_info=rounds_info.dropna(subset = ['funding_round_id'])"
   ]
  },
  {
   "cell_type": "code",
   "execution_count": 86,
   "metadata": {},
   "outputs": [
    {
     "data": {
      "text/plain": [
       "0"
      ]
     },
     "execution_count": 86,
     "metadata": {},
     "output_type": "execute_result"
    }
   ],
   "source": [
    "# проверим датасет на дубликаты\n",
    "duplicated_rounds_info = rounds_info.duplicated().sum()\n",
    "duplicated_companies_info"
   ]
  },
  {
   "cell_type": "markdown",
   "metadata": {},
   "source": [
    "В таблице не обнаружено явных дубликатов."
   ]
  },
  {
   "cell_type": "code",
   "execution_count": 87,
   "metadata": {},
   "outputs": [
    {
     "name": "stdout",
     "output_type": "stream",
     "text": [
      " Было строк в исходном датасете 217774 \n",
      " Осталось строк в датасете после обработки 52928 \n",
      " Удалено строк в датасете после обработки 164846 \n",
      " Процент потерь 75.7\n"
     ]
    }
   ],
   "source": [
    "# Проверим сколько удалено строк датасета\n",
    "a, b = len(rounds), len(rounds_info)\n",
    "print(\" Было строк в исходном датасете\", a,\n",
    "      '\\n', \"Осталось строк в датасете после обработки\", b,\n",
    "      '\\n', \"Удалено строк в датасете после обработки\", a-b,\n",
    "      '\\n', \"Процент потерь\", round((a-b)/a*100, 2))"
   ]
  },
  {
   "cell_type": "markdown",
   "metadata": {},
   "source": [
    "**Вывод:**\n",
    "\n",
    "- Выяснили,что датасет `company_and_rounds.csv` получен путем слияния двух таблиц с данными о компаниях и с раундами инфистировани. Разделили его на 2 таблицы: `rounds_info` - информация о раундах, `companies_info` - информация о компаниях.\n",
    "- провели обработку таблицы `companies_info`: привели названия стоблбцов к нижнему регистру, удалили 1 строку с пропуском в столбце `company_id`, выявли дубликаты по названию компаний - 47 шт и удалили, что бы не дублировать информацию при анализе. В результате таблице осталось 52928 строк, удалено 48 строк, процент потерь 0,02%.\n",
    "- провели обработку таблицы `rounds_info`: удалили пустые строки (164846 строка), дубликаты были не выявлены. В таблице осталось  52928 строк."
   ]
  },
  {
   "cell_type": "markdown",
   "metadata": {
    "id": "bmVYhphNrJg2"
   },
   "source": [
    "\n",
    "## Шаг 3. Исследовательский анализ объединённых таблиц\n",
    "\n",
    "> Приступите к шагу 3 после проверки ревьюера.\n",
    "\n",
    "<big>Студентам нужно чётко сказать - проверять дальше или не проверять.</big>"
   ]
  },
  {
   "cell_type": "markdown",
   "metadata": {
    "id": "3Di6tCT3rJg2"
   },
   "source": [
    "\n",
    "### 3.1. Объединение данных\n",
    "\n",
    "Объедините данные для ответа на вопросы заказчика, которые касаются интересующих его компаний. Заказчика прежде всего интересуют те компании, которые меняли или готовы менять владельцев. Получение инвестиций или финансирования, по мнению заказчика, означает интерес к покупке или продаже компании.\n",
    "\n",
    "В качестве основы для объединённой таблицы возьмите данные из обработанного датасета `company_and_rounds.csv` — выберите только те компании, у которых указаны значения `funding_rounds` или `investment_rounds` больше нуля, или те, у которых в колонке `status` указано `acquired`. В результирующей таблице должно получиться порядка 40 тысяч компаний.\n",
    "\n",
    "Проверьте полноту и корректность получившейся таблицы. Далее работайте только с этими данными."
   ]
  },
  {
   "cell_type": "markdown",
   "metadata": {},
   "source": [
    "аблица acquisition Содержит информацию о покупках одними компаниями других компаний:\n",
    "\n",
    "id — идентификатор покупки.\n",
    "acquiring_company_id — идентификатор покупающей компании.\n",
    "acquired_company_id — идентификатор покупаемой компании.\n",
    "term_code — варианты расчёта.\n",
    "price_amount — сумма сделки.\n",
    "acquired_at — дата сделки."
   ]
  },
  {
   "cell_type": "markdown",
   "metadata": {},
   "source": [
    "Отфильтруем компании, которые:\n",
    "Имеют значения funding_rounds или investment_rounds больше нуля.\n",
    "Или имеют статус acquired."
   ]
  },
  {
   "cell_type": "code",
   "execution_count": 88,
   "metadata": {},
   "outputs": [
    {
     "name": "stdout",
     "output_type": "stream",
     "text": [
      "Количество отфильтрованных компаний: 40745\n"
     ]
    }
   ],
   "source": [
    "filtered_companies = companies_info[\n",
    "    (companies_info['funding_rounds'] > 0) |\n",
    "    (companies_info['investment_rounds'] > 0) |\n",
    "    (companies_info['status'] == 'acquired')\n",
    "]\n",
    "\n",
    "# Проверка количества строк\n",
    "print(f\"Количество отфильтрованных компаний: {len(filtered_companies)}\")"
   ]
  },
  {
   "cell_type": "markdown",
   "metadata": {},
   "source": [
    "  Заказчика прежде всего интересуют те компании, которые меняли или готовы менять владельцев. Получение инвестиций или финансирования, по мнению заказчика, означает интерес к покупке или продаже компании, т.е. клмпании которые продавались. Эти данные сожержаться в таблице `acquisition` (информация о покупках одними компаниями других компаний). Обьедин эти таблицы по столбцу `acquired_company_id`. Так как нам нужны данные компаний в основном из датасета `filtered_companies`, оставим левое присоединение, что бы все данные по нему сохранились и добавились имеющиеся данные из датасета `acquisition`. "
   ]
  },
  {
   "cell_type": "code",
   "execution_count": 89,
   "metadata": {},
   "outputs": [],
   "source": [
    "acquisition_companies_df = filtered_companies.merge(acquisition_df, left_on='company_id',right_on= 'acquired_company_id', how='left')"
   ]
  },
  {
   "cell_type": "code",
   "execution_count": 90,
   "metadata": {},
   "outputs": [
    {
     "data": {
      "text/html": [
       "<div>\n",
       "<style scoped>\n",
       "    .dataframe tbody tr th:only-of-type {\n",
       "        vertical-align: middle;\n",
       "    }\n",
       "\n",
       "    .dataframe tbody tr th {\n",
       "        vertical-align: top;\n",
       "    }\n",
       "\n",
       "    .dataframe thead th {\n",
       "        text-align: right;\n",
       "    }\n",
       "</style>\n",
       "<table border=\"1\" class=\"dataframe\">\n",
       "  <thead>\n",
       "    <tr style=\"text-align: right;\">\n",
       "      <th></th>\n",
       "      <th>company_id</th>\n",
       "      <th>name</th>\n",
       "      <th>category_code</th>\n",
       "      <th>status</th>\n",
       "      <th>founded_at</th>\n",
       "      <th>closed_at</th>\n",
       "      <th>domain</th>\n",
       "      <th>network_username</th>\n",
       "      <th>country_code</th>\n",
       "      <th>investment_rounds</th>\n",
       "      <th>funding_rounds</th>\n",
       "      <th>funding_total</th>\n",
       "      <th>milestones</th>\n",
       "      <th>id</th>\n",
       "      <th>acquiring_company_id</th>\n",
       "      <th>acquired_company_id</th>\n",
       "      <th>term_code</th>\n",
       "      <th>price_amount</th>\n",
       "      <th>acquired_at</th>\n",
       "    </tr>\n",
       "  </thead>\n",
       "  <tbody>\n",
       "    <tr>\n",
       "      <th>0</th>\n",
       "      <td>1.0</td>\n",
       "      <td>Wetpaint</td>\n",
       "      <td>web</td>\n",
       "      <td>operating</td>\n",
       "      <td>2005-10-17</td>\n",
       "      <td>NaT</td>\n",
       "      <td>wetpaint-inc.com</td>\n",
       "      <td>BachelrWetpaint</td>\n",
       "      <td>USA</td>\n",
       "      <td>0.0</td>\n",
       "      <td>3.0</td>\n",
       "      <td>39750000.0</td>\n",
       "      <td>5.0</td>\n",
       "      <td>NaN</td>\n",
       "      <td>NaN</td>\n",
       "      <td>NaN</td>\n",
       "      <td>NaN</td>\n",
       "      <td>NaN</td>\n",
       "      <td>NaT</td>\n",
       "    </tr>\n",
       "    <tr>\n",
       "      <th>1</th>\n",
       "      <td>10.0</td>\n",
       "      <td>Flektor</td>\n",
       "      <td>games_video</td>\n",
       "      <td>acquired</td>\n",
       "      <td>NaT</td>\n",
       "      <td>NaT</td>\n",
       "      <td>flektor.com</td>\n",
       "      <td>NaN</td>\n",
       "      <td>USA</td>\n",
       "      <td>0.0</td>\n",
       "      <td>0.0</td>\n",
       "      <td>0.0</td>\n",
       "      <td>0.0</td>\n",
       "      <td>1.0</td>\n",
       "      <td>11.0</td>\n",
       "      <td>10.0</td>\n",
       "      <td>NaN</td>\n",
       "      <td>20000000.0</td>\n",
       "      <td>2007-05-30</td>\n",
       "    </tr>\n",
       "    <tr>\n",
       "      <th>2</th>\n",
       "      <td>100.0</td>\n",
       "      <td>There</td>\n",
       "      <td>games_video</td>\n",
       "      <td>acquired</td>\n",
       "      <td>NaT</td>\n",
       "      <td>NaT</td>\n",
       "      <td>there.com</td>\n",
       "      <td>NaN</td>\n",
       "      <td>USA</td>\n",
       "      <td>0.0</td>\n",
       "      <td>0.0</td>\n",
       "      <td>0.0</td>\n",
       "      <td>4.0</td>\n",
       "      <td>20.0</td>\n",
       "      <td>377.0</td>\n",
       "      <td>100.0</td>\n",
       "      <td>cash</td>\n",
       "      <td>0.0</td>\n",
       "      <td>2005-05-29</td>\n",
       "    </tr>\n",
       "    <tr>\n",
       "      <th>3</th>\n",
       "      <td>1001.0</td>\n",
       "      <td>FriendFeed</td>\n",
       "      <td>web</td>\n",
       "      <td>acquired</td>\n",
       "      <td>2007-10-01</td>\n",
       "      <td>NaT</td>\n",
       "      <td>friendfeed.com</td>\n",
       "      <td>friendfeed</td>\n",
       "      <td>USA</td>\n",
       "      <td>0.0</td>\n",
       "      <td>1.0</td>\n",
       "      <td>5000000.0</td>\n",
       "      <td>3.0</td>\n",
       "      <td>1901.0</td>\n",
       "      <td>5.0</td>\n",
       "      <td>1001.0</td>\n",
       "      <td>cash_and_stock</td>\n",
       "      <td>47500000.0</td>\n",
       "      <td>2009-08-10</td>\n",
       "    </tr>\n",
       "    <tr>\n",
       "      <th>4</th>\n",
       "      <td>10014.0</td>\n",
       "      <td>Mobclix</td>\n",
       "      <td>mobile</td>\n",
       "      <td>acquired</td>\n",
       "      <td>2008-03-01</td>\n",
       "      <td>NaT</td>\n",
       "      <td>mobclix.com</td>\n",
       "      <td>mobclix</td>\n",
       "      <td>USA</td>\n",
       "      <td>0.0</td>\n",
       "      <td>1.0</td>\n",
       "      <td>0.0</td>\n",
       "      <td>4.0</td>\n",
       "      <td>3878.0</td>\n",
       "      <td>23054.0</td>\n",
       "      <td>10014.0</td>\n",
       "      <td>NaN</td>\n",
       "      <td>0.0</td>\n",
       "      <td>2010-09-30</td>\n",
       "    </tr>\n",
       "  </tbody>\n",
       "</table>\n",
       "</div>"
      ],
      "text/plain": [
       "   company_id        name category_code     status founded_at closed_at  \\\n",
       "0         1.0    Wetpaint           web  operating 2005-10-17       NaT   \n",
       "1        10.0     Flektor   games_video   acquired        NaT       NaT   \n",
       "2       100.0       There   games_video   acquired        NaT       NaT   \n",
       "3      1001.0  FriendFeed           web   acquired 2007-10-01       NaT   \n",
       "4     10014.0     Mobclix        mobile   acquired 2008-03-01       NaT   \n",
       "\n",
       "             domain network_username country_code  investment_rounds  \\\n",
       "0  wetpaint-inc.com  BachelrWetpaint          USA                0.0   \n",
       "1       flektor.com              NaN          USA                0.0   \n",
       "2         there.com              NaN          USA                0.0   \n",
       "3    friendfeed.com       friendfeed          USA                0.0   \n",
       "4       mobclix.com          mobclix          USA                0.0   \n",
       "\n",
       "   funding_rounds  funding_total  milestones      id  acquiring_company_id  \\\n",
       "0             3.0     39750000.0         5.0     NaN                   NaN   \n",
       "1             0.0            0.0         0.0     1.0                  11.0   \n",
       "2             0.0            0.0         4.0    20.0                 377.0   \n",
       "3             1.0      5000000.0         3.0  1901.0                   5.0   \n",
       "4             1.0            0.0         4.0  3878.0               23054.0   \n",
       "\n",
       "   acquired_company_id       term_code  price_amount acquired_at  \n",
       "0                  NaN             NaN           NaN         NaT  \n",
       "1                 10.0             NaN    20000000.0  2007-05-30  \n",
       "2                100.0            cash           0.0  2005-05-29  \n",
       "3               1001.0  cash_and_stock    47500000.0  2009-08-10  \n",
       "4              10014.0             NaN           0.0  2010-09-30  "
      ]
     },
     "execution_count": 90,
     "metadata": {},
     "output_type": "execute_result"
    }
   ],
   "source": [
    "acquisition_companies_df.head()"
   ]
  },
  {
   "cell_type": "code",
   "execution_count": 91,
   "metadata": {},
   "outputs": [
    {
     "name": "stdout",
     "output_type": "stream",
     "text": [
      "<class 'pandas.core.frame.DataFrame'>\n",
      "Int64Index: 40888 entries, 0 to 40887\n",
      "Data columns (total 19 columns):\n",
      " #   Column                Non-Null Count  Dtype         \n",
      "---  ------                --------------  -----         \n",
      " 0   company_id            40888 non-null  float64       \n",
      " 1   name                  40888 non-null  object        \n",
      " 2   category_code         35435 non-null  object        \n",
      " 3   status                40888 non-null  object        \n",
      " 4   founded_at            27910 non-null  datetime64[ns]\n",
      " 5   closed_at             2128 non-null   datetime64[ns]\n",
      " 6   domain                35882 non-null  object        \n",
      " 7   network_username      20937 non-null  object        \n",
      " 8   country_code          34857 non-null  object        \n",
      " 9   investment_rounds     40888 non-null  float64       \n",
      " 10  funding_rounds        40888 non-null  float64       \n",
      " 11  funding_total         40888 non-null  float64       \n",
      " 12  milestones            40888 non-null  float64       \n",
      " 13  id                    9390 non-null   float64       \n",
      " 14  acquiring_company_id  9390 non-null   float64       \n",
      " 15  acquired_company_id   9390 non-null   float64       \n",
      " 16  term_code             1830 non-null   object        \n",
      " 17  price_amount          9390 non-null   float64       \n",
      " 18  acquired_at           9361 non-null   datetime64[ns]\n",
      "dtypes: datetime64[ns](3), float64(9), object(7)\n",
      "memory usage: 6.2+ MB\n"
     ]
    }
   ],
   "source": [
    "acquisition_companies_df.info()"
   ]
  },
  {
   "cell_type": "markdown",
   "metadata": {},
   "source": [
    "Проверим, что в отфильтрованных данных нет пропусков в ключевых столбцах:"
   ]
  },
  {
   "cell_type": "code",
   "execution_count": 92,
   "metadata": {},
   "outputs": [
    {
     "data": {
      "text/plain": [
       "term_code               39058\n",
       "closed_at               38760\n",
       "acquired_at             31527\n",
       "id                      31498\n",
       "price_amount            31498\n",
       "acquired_company_id     31498\n",
       "acquiring_company_id    31498\n",
       "network_username        19951\n",
       "founded_at              12978\n",
       "country_code             6031\n",
       "category_code            5453\n",
       "domain                   5006\n",
       "company_id                  0\n",
       "milestones                  0\n",
       "funding_total               0\n",
       "funding_rounds              0\n",
       "name                        0\n",
       "status                      0\n",
       "investment_rounds           0\n",
       "dtype: int64"
      ]
     },
     "execution_count": 92,
     "metadata": {},
     "output_type": "execute_result"
    }
   ],
   "source": [
    "acquisition_companies_df.isnull().sum().sort_values(ascending=False)"
   ]
  },
  {
   "cell_type": "markdown",
   "metadata": {},
   "source": [
    "Видим, что в ключевых столбцах, таких как `company_id`, `name`, `investment rounds` (число инвестиционных раундов),`funding rounds` (число раундов финансирования), `funding total` (сумма финансирования)."
   ]
  },
  {
   "cell_type": "code",
   "execution_count": 93,
   "metadata": {},
   "outputs": [
    {
     "data": {
      "text/plain": [
       "0"
      ]
     },
     "execution_count": 93,
     "metadata": {},
     "output_type": "execute_result"
    }
   ],
   "source": [
    "# проверим на явные дубликаты\n",
    "acquisition_companies_df.duplicated().sum()"
   ]
  },
  {
   "cell_type": "markdown",
   "metadata": {},
   "source": [
    "Явных дубликатов нет."
   ]
  },
  {
   "cell_type": "code",
   "execution_count": 94,
   "metadata": {},
   "outputs": [
    {
     "data": {
      "text/plain": [
       "143"
      ]
     },
     "execution_count": 94,
     "metadata": {},
     "output_type": "execute_result"
    }
   ],
   "source": [
    "# проверим на дубликаты по столбцу company_id\n",
    "acquisition_companies_df.duplicated(subset=['company_id']).sum()"
   ]
  },
  {
   "cell_type": "code",
   "execution_count": 95,
   "metadata": {},
   "outputs": [
    {
     "data": {
      "text/plain": [
       "40745"
      ]
     },
     "execution_count": 95,
     "metadata": {},
     "output_type": "execute_result"
    }
   ],
   "source": [
    "# удалим дубликаты \n",
    "acquisition_companies_df=acquisition_companies_df.drop_duplicates(subset=['company_id'])\n",
    "len(acquisition_companies_df)"
   ]
  },
  {
   "cell_type": "code",
   "execution_count": 96,
   "metadata": {},
   "outputs": [
    {
     "name": "stdout",
     "output_type": "stream",
     "text": [
      "Минимальные и максимальные значения:\n",
      "     funding_rounds  investment_rounds  funding_total  price_amount\n",
      "min             0.0                0.0   0.000000e+00  0.000000e+00\n",
      "max            15.0              478.0   5.700000e+09  3.900000e+10\n"
     ]
    }
   ],
   "source": [
    "# Проверка диапазона значений\n",
    "print(\"Минимальные и максимальные значения:\")\n",
    "print(acquisition_companies_df[['funding_rounds', 'investment_rounds','funding_total','price_amount']].agg(['min', 'max']))"
   ]
  },
  {
   "cell_type": "markdown",
   "metadata": {},
   "source": [
    "Значения `funding_rounds`, `investment_rounds`,`funding_total`,`price_amount` неотрицательные и находятся в допустимом диапазоне."
   ]
  },
  {
   "cell_type": "markdown",
   "metadata": {},
   "source": [
    "Построим гистограммы распределения числовых столбцов: `funding_rounds`, `investment_rounds`,`funding_total`,`price_amount`."
   ]
  },
  {
   "cell_type": "code",
   "execution_count": 97,
   "metadata": {},
   "outputs": [
    {
     "data": {
      "image/png": "[encoded data removed]",
      "text/plain": [
       "<Figure size 720x432 with 1 Axes>"
      ]
     },
     "metadata": {},
     "output_type": "display_data"
    },
    {
     "data": {
      "image/png": "[encoded data removed]",
      "text/plain": [
       "<Figure size 720x432 with 1 Axes>"
      ]
     },
     "metadata": {},
     "output_type": "display_data"
    },
    {
     "data": {
      "image/png": "[encoded data removed]",
      "text/plain": [
       "<Figure size 720x432 with 1 Axes>"
      ]
     },
     "metadata": {},
     "output_type": "display_data"
    },
    {
     "data": {
      "image/png": "[encoded data removed]",
      "text/plain": [
       "<Figure size 720x432 with 1 Axes>"
      ]
     },
     "metadata": {},
     "output_type": "display_data"
    }
   ],
   "source": [
    "# Гистограмма для funding_rounds\n",
    "plt.figure(figsize=(10, 6))\n",
    "sns.histplot(acquisition_companies_df['funding_rounds'], bins=50, kde=True)\n",
    "plt.title('Распределение funding_rounds')\n",
    "plt.xlabel('Количество раундов финансирования')\n",
    "plt.ylabel('Частота')\n",
    "plt.show()\n",
    "\n",
    "# Гистограмма для investment_rounds\n",
    "plt.figure(figsize=(10, 6))\n",
    "sns.histplot(acquisition_companies_df['investment_rounds'], bins=20, kde=True)\n",
    "plt.title('Распределение investment_rounds')\n",
    "plt.xlabel('Количество инвестиционных раундов')\n",
    "plt.ylabel('Частота')\n",
    "plt.show()\n",
    "\n",
    "# Гистограмма для funding_total\n",
    "plt.figure(figsize=(10, 6))\n",
    "sns.histplot(acquisition_companies_df['funding_total'], bins=20, kde=True)\n",
    "plt.title('Распределение funding_total')\n",
    "plt.xlabel('Сумма финансирования')\n",
    "plt.ylabel('Частота')\n",
    "plt.show()\n",
    "\n",
    "# Гистограмма для price_amount\n",
    "plt.figure(figsize=(10, 6))\n",
    "sns.histplot(acquisition_companies_df['price_amount'], bins=20, kde=True)\n",
    "plt.title('price_amount')\n",
    "plt.xlabel('Сумма сделки')\n",
    "plt.ylabel('Частота')\n",
    "plt.show()\n",
    "\n"
   ]
  },
  {
   "cell_type": "markdown",
   "metadata": {},
   "source": [
    "- Если посмотерть распределение количества раундов финансирования funding_rounds, больше всех значений в диапазоне от 0 до 5, больше всего значений с количеством 1. Также есть незначителньое распределение от 6 до 15.\n",
    "- Количество инфистиционных раудов investment_rounds:диапазон значений от 0 до 478. Больше всего значений в диапазоне от 0 до 20.\n",
    "- Сумма финансирования funding total: диапазон значений от 0 до 5,7. Больше всего значений в пределах от 0 до 0,25.\n",
    "- Сумма сделки price_amount: диапазон от 0 до 3,9. Больше всего значений в интервале от 0 до 0,2."
   ]
  },
  {
   "cell_type": "markdown",
   "metadata": {},
   "source": [
    "**Вывод:**\n",
    "- Отфильтровали компании:с `unding_rounds` > 0, `investment_rounds` > 0 или статусом acquired. Сохранили результат в таблице `filtered_companies`. Результирующая таблица `filtered_companies` содержит около 40745 компаний.\n",
    "- Обьединили таблицу `filtered_companies`с таблицей `сacquisition` (информация о покупках одними компаниями других компаний.В результате получили таблицу `acquisition_companies_df`.\n",
    "- Проверили таблицу `acquisition_people_df` на явные дубликаты - 0 шт, и на дубликаты по столбцу `company_id` -143 дубликаты, их мы удалили. В результате осталось 40745 строк.\n",
    "- Убедились, что данные полны и корректны.\n",
    "- Пропуски в ключевых столбцах: `company_id`, `name`, `investment_rounds` (число инвестиционных раундов),`funding_rounds` (число раундов финансирования), `funding_total` (сумма финансирования).\n",
    "- Убедились, что значения `funding_rounds`, `investment_rounds`,`funding_total` неотрицательные и находятся в допустимом диапазоне.\n",
    "- Посмотререли распределение числовых столбцов `funding_rounds` основная часть значений в интервале от 0 до 5, `investment_rounds` - основная часть значений в интервале от 0 до 20,`funding_total`- основная часть значенйи в интервале от 0 до 0,25, `price_amount` - основная часть значений в интервале от 0 до 0,2\n"
   ]
  },
  {
   "cell_type": "markdown",
   "metadata": {
    "id": "DFHINkV3rJg2"
   },
   "source": [
    "\n",
    "### 3.2. Анализ выбросов\n",
    "\n",
    "Заказчика интересует обычный для рассматриваемого периода размер средств, который предоставлялся компаниям.\n",
    "\n",
    "- По предобработанному столбцу `funding_total` графическим способом оцените, какой размер общего финансирования для одной компании будет типичным, а какой — выбивающимся.\n",
    "- В процессе расчёта значений обратите внимание, например, на показатели, возвращаемые методом `.describe()`, — объясните их. Применимы ли к таким данным обычные способы нахождения типичных значений?"
   ]
  },
  {
   "cell_type": "markdown",
   "metadata": {
    "id": "8jm75fKXrJg2",
    "vscode": {
     "languageId": "plaintext"
    }
   },
   "source": [
    "Сначала посмотрим на описательную статистику для столбца funding_total"
   ]
  },
  {
   "cell_type": "code",
   "execution_count": 98,
   "metadata": {
    "id": "S1jrfr7rFhcw"
   },
   "outputs": [
    {
     "data": {
      "text/plain": [
       "count    4.074500e+04\n",
       "mean     1.013563e+07\n",
       "std      5.646570e+07\n",
       "min      0.000000e+00\n",
       "25%      0.000000e+00\n",
       "50%      6.000000e+05\n",
       "75%      5.650000e+06\n",
       "max      5.700000e+09\n",
       "Name: funding_total, dtype: float64"
      ]
     },
     "execution_count": 98,
     "metadata": {},
     "output_type": "execute_result"
    }
   ],
   "source": [
    "acquisition_companies_df['funding_total'].describe()"
   ]
  },
  {
   "cell_type": "markdown",
   "metadata": {},
   "source": [
    "- Количество ненулевых значений - 4,075. Это означает, что в вашем датасете 4,075 записей, где значение funding_total не равно нулю.Значит остальные строки имеют нулевые значения.\n",
    "- Среднее значение (может быть искажено выбросами) - 1,014. Это может означать, что большинство значений близки к нулю, но есть несколько очень больших выбросов, которые \"тянут\" среднее вверх.\n",
    "- Стандартное отклонение (насколько данные отклоняются от среднего) - 5,64\n",
    "- Минимальное значение - 0. Это означает, что в данных есть компании, которые не получали финансирования.\n",
    "- Первый квартиль (25% данных меньше этого значения) - 0\n",
    "- Медиана (50% данных меньше этого значения) - 6,0. Это означает, что 50% компаний получили финансирование в размере менее 6,0.\n",
    "- Третий квартиль (75% данных меньше этого значения) - 5,65. Это означает, что 75% компаний получили финансирование в размере менее 5,65.\n",
    "- Максимальное значение - 5,7. Это означает, что самая крупная сумма финансирования, полученная одной компанией, составляет 5,7"
   ]
  },
  {
   "cell_type": "markdown",
   "metadata": {},
   "source": [
    "Построим boxplot для визуализации распределения:"
   ]
  },
  {
   "cell_type": "code",
   "execution_count": 99,
   "metadata": {},
   "outputs": [
    {
     "data": {
      "image/png": "[encoded data removed]",
      "text/plain": [
       "<Figure size 432x288 with 1 Axes>"
      ]
     },
     "metadata": {},
     "output_type": "display_data"
    }
   ],
   "source": [
    "sns.boxplot(data=acquisition_companies_df, x='funding_total',color='skyblue')\n",
    "\n",
    "plt.title('Распределение общего финансирования')\n",
    "plt.xticks(rotation=0)\n",
    "plt.show()"
   ]
  },
  {
   "cell_type": "markdown",
   "metadata": {},
   "source": [
    "Построим диаграмму размаха («ящик с усами»), при этом отключим выбросы (showfliers=False)"
   ]
  },
  {
   "cell_type": "code",
   "execution_count": 100,
   "metadata": {},
   "outputs": [
    {
     "data": {
      "image/png": "[encoded data removed]",
      "text/plain": [
       "<Figure size 432x288 with 1 Axes>"
      ]
     },
     "metadata": {},
     "output_type": "display_data"
    }
   ],
   "source": [
    "sns.boxplot(data=acquisition_companies_df, x='funding_total',showfliers=False,color='skyblue')\n",
    "\n",
    "plt.title('Распределение общего финансирования')\n",
    "plt.xticks(rotation=0)\n",
    "plt.show()"
   ]
  },
  {
   "cell_type": "code",
   "execution_count": 101,
   "metadata": {},
   "outputs": [
    {
     "data": {
      "image/png": "[encoded data removed]",
      "text/plain": [
       "<Figure size 720x432 with 1 Axes>"
      ]
     },
     "metadata": {},
     "output_type": "display_data"
    }
   ],
   "source": [
    "# код ревьюера\n",
    "   \n",
    "plt.figure(figsize=(10, 6))\n",
    "plt.hist(company_df['funding_total'], bins=50, color='skyblue', edgecolor='black', log=True)\n",
    "plt.xscale('log')  # Логарифмическая шкала по оси X\n",
    "plt.xlabel('Общее финансирование (логарифмическая шкала)')\n",
    "plt.ylabel('Количество компаний')\n",
    "plt.title('Распределение общего финансирования (логарифмическая шкала)')\n",
    "plt.show()"
   ]
  },
  {
   "cell_type": "markdown",
   "metadata": {},
   "source": [
    "Видно,что в данных есть выбросы, примерно после отметки 0,59. В среднем основной диапазон значений общего финансирования лежит в диапазоне 0 до 0,59. Медиана 0,05.\n",
    "Распределение характеризуется не очень широким разбросом и «хвостом» в правой части гистограммы. Такие высокие значения можно отнести к выбросам. Однако сами значения, не выглядят ошибкой, и такое количество общего финасирования вполне допустимо. Поэтому при анализе данных их оставим."
   ]
  },
  {
   "cell_type": "markdown",
   "metadata": {},
   "source": [
    "**Вывод:**\n",
    "Обычные способы нахождения типичных значений (например, среднее значение) не всегда применимы к данным о финансировании, и вот почему:\n",
    "- Сильный перекос: Данные о финансировании часто имеют правосторонний перекос: большинство значений сосредоточено в нижнем диапазоне (близко к нулю), но есть несколько очень больших выбросов.В таких случаях среднее значение (mean) может быть сильно искажено выбросами.\n",
    "- Выбросы:Несколько компаний с очень большим финансированием могут \"перетянуть\" среднее значение вверх, делая его нерепрезентативным для большинства компаний.\n",
    "- Медиана как альтернатива:Медиана (50%) менее чувствительна к выбросам и лучше отражает типичное значение. В вашем случае медиана равна 6, что ближе к типичному значению, чем среднее (1,014).\n",
    "- Квартили:Квартили (25%, 50%, 75%) помогают понять распределение данных и выявить выбросы. Например, если 75% данных меньше 5,650, а максимальное значение равно 57,000, это указывает на наличие выбросов."
   ]
  },
  {
   "cell_type": "markdown",
   "metadata": {
    "id": "JqkRAQrIrJg2"
   },
   "source": [
    "\n",
    "### 3.3. Куплены забесплатно?\n",
    "\n",
    "- Исследуйте компании, которые были проданы за ноль или за один доллар, и при этом известно, что у них был ненулевой общий объём финансирования.\n",
    "\n",
    "- Рассчитайте аналитически верхнюю и нижнюю границу выбросов для столбца `funding_total` и укажите, каким процентилям границы соответствуют."
   ]
  },
  {
   "cell_type": "markdown",
   "metadata": {
    "id": "wJHXCBwwrJg2",
    "vscode": {
     "languageId": "plaintext"
    }
   },
   "source": [
    "Чтобы исследовать компании, которые были проданы за ноль или за один доллар, но при этом имели ненулевой общий объём финансирования, выполним следующие шаги:\n",
    "\n",
    "- Фильтрация данных: Отберём компании, у которых funding_total больше нуля.Отберём компании, которые были проданы за ноль или за один доллар.\n",
    "- Расчёт границ выбросов: Используем межквартильный размах (IQR) для определения верхней и нижней границ выбросов. Определим, каким процентилям соответствуют эти границы."
   ]
  },
  {
   "cell_type": "markdown",
   "metadata": {
    "id": "9IDTHfYQFhuX"
   },
   "source": [
    " Фильтрация данных"
   ]
  },
  {
   "cell_type": "code",
   "execution_count": 102,
   "metadata": {},
   "outputs": [
    {
     "data": {
      "text/plain": [
       "1584"
      ]
     },
     "execution_count": 102,
     "metadata": {},
     "output_type": "execute_result"
    }
   ],
   "source": [
    "# Фильтрация компаний с ненулевым финансированием\n",
    "no_zero_companies = acquisition_companies_df[acquisition_companies_df['funding_total'] > 0]\n",
    "\n",
    "# Фильтрация компаний, проданных за ноль или за один доллар\n",
    "zero_or_one = no_zero_companies[\n",
    "    (no_zero_companies['price_amount'] == 0) | (no_zero_companies['price_amount'] == 1)\n",
    "]\n",
    "\n",
    "# Проверка результата\n",
    "len(zero_or_one)"
   ]
  },
  {
   "cell_type": "markdown",
   "metadata": {},
   "source": [
    "Количество компаний, проданных за ноль или за один доллар:1584 компаний"
   ]
  },
  {
   "cell_type": "markdown",
   "metadata": {},
   "source": [
    "Расчёт границ выбросов\n",
    "Используем межквартильный размах (IQR) для определения выбросов:"
   ]
  },
  {
   "cell_type": "code",
   "execution_count": 103,
   "metadata": {},
   "outputs": [
    {
     "name": "stdout",
     "output_type": "stream",
     "text": [
      "Нижняя граница выбросов: -18100000.0\n",
      "Верхняя граница выбросов: 35500000.0\n",
      "Нижняя граница соответствует 0.00% данных\n",
      "Верхняя граница соответствует 91.16% данных\n"
     ]
    }
   ],
   "source": [
    "# Расчёт квартилей и IQR\n",
    "Q1 = zero_or_one['funding_total'].quantile(0.25)\n",
    "Q3 = zero_or_one['funding_total'].quantile(0.75)\n",
    "IQR = Q3 - Q1\n",
    "\n",
    "# Определение границ выбросов\n",
    "lower_bound = Q1 - 1.5 * IQR\n",
    "upper_bound = Q3 + 1.5 * IQR\n",
    "\n",
    "# Определение процентилей для границ\n",
    "lower_percentile = zero_or_one['funding_total'].le(lower_bound).mean() * 100\n",
    "upper_percentile = zero_or_one['funding_total'].ge(upper_bound).mean() * 100\n",
    "\n",
    "# Вывод результатов\n",
    "print(f\"Нижняя граница выбросов: {lower_bound}\")\n",
    "print(f\"Верхняя граница выбросов: {upper_bound}\")\n",
    "print(f\"Нижняя граница соответствует {lower_percentile:.2f}% данных\")\n",
    "print(f\"Верхняя граница соответствует {100 - upper_percentile:.2f}% данных\")"
   ]
  },
  {
   "cell_type": "markdown",
   "metadata": {},
   "source": [
    "- Нижняя граница выбросов:\n",
    "Значения ниже этой границы считаются выбросами.\n",
    "В нашем случае нижняя грвница - -18100000.0, минимальное значение 0, то эта граница не имеет смысла, так как финансировнаие не может быть отрицательным.\n",
    "- Верхняя граница выбросов:\n",
    "Значения выше этой границы считаются выбросами.\n",
    "В нашем случае верхняя граница равно 35500000, компании с финансированием больше 35500000 считаются выбросами.\n",
    "- Процентили:\n",
    "Нижняя граница соответствует процентилю данных 0%.\n",
    "Верхняя граница соответствует определённому процентилю данных - 91%. т.е. 91.16% данных находятся ниже верхней границы, а 8.84% данных — это выбросы."
   ]
  },
  {
   "cell_type": "markdown",
   "metadata": {},
   "source": [
    "Построим boxplot для визуализации выбросов:"
   ]
  },
  {
   "cell_type": "code",
   "execution_count": 104,
   "metadata": {},
   "outputs": [
    {
     "data": {
      "image/png": "[encoded data removed]",
      "text/plain": [
       "<Figure size 432x288 with 1 Axes>"
      ]
     },
     "metadata": {},
     "output_type": "display_data"
    }
   ],
   "source": [
    "sns.boxplot(data=zero_or_one, x='funding_total',showfliers=False,color='skyblue')\n",
    "\n",
    "plt.title('Распределение общего финансирования')\n",
    "plt.xticks(rotation=0)\n",
    "plt.show()"
   ]
  },
  {
   "cell_type": "markdown",
   "metadata": {},
   "source": [
    "Видно,что в данных есть выбросы, примерно после отметки 3,5. В среднем основной диапазон значений общего финансирования лежит в диапазоне 0,1 до 1,5. Медиана 0,6. Распределение характеризуется не очень широким разбросом и «хвостом» в правой и левой части гистограммы. Такие высокие значения можно отнести к выбросам. Однако сами значения, не выглядят ошибкой, и такое количество общего финасирования вполне допустимо. Поэтому при анализе данных их оставим."
   ]
  },
  {
   "cell_type": "markdown",
   "metadata": {},
   "source": [
    "**Вывод:**\n",
    "- Нижняя граница (-18,100,000) не имеет смысла, так как финансирование не может быть отрицательным.\n",
    "- Верхняя граница (35,500,000) полезна для идентификации выбросов.\n",
    "- 91.16% данных находятся ниже верхней границы, а 8.84% данных — это выбросы.    "
   ]
  },
  {
   "cell_type": "markdown",
   "metadata": {
    "id": "mEiWpROjrJg2"
   },
   "source": [
    "\n",
    "### 3.4. Цены стартапов по категориям\n",
    "\n",
    "Категории стартапов с типично высокими ценами покупки стартапов и значительным разбросом цен могут быть привлекательными для крупных инвесторов, которые готовы к высоким рискам ради потенциально больших доходов. Среди категорий стартапов выделите категории стартапов, характеризующиеся:\n",
    "\n",
    "- типично высокими ценами;\n",
    "- и наибольшим разбросом цен за стартап.\n",
    "\n",
    "Объясните, почему решили составить топ именно из такого числа категорий и почему рассчитывали именно так."
   ]
  },
  {
   "cell_type": "markdown",
   "metadata": {
    "id": "jQ09dYUWrJg2",
    "vscode": {
     "languageId": "plaintext"
    }
   },
   "source": [
    "Анализ типично высоких цен:\n",
    "Для каждой категории рассчитаем медиану цены покупки (price_amount). Медиана лучше отражает типичное значение, чем среднее, так как она менее чувствительна к выбросам."
   ]
  },
  {
   "cell_type": "code",
   "execution_count": 105,
   "metadata": {
    "id": "eF1aULm5FjfY"
   },
   "outputs": [
    {
     "data": {
      "text/plain": [
       "category_code\n",
       "nanotech            584000000.0\n",
       "manufacturing        72000000.0\n",
       "real_estate          50000000.0\n",
       "automotive           43000000.0\n",
       "biotech              13200000.0\n",
       "hospitality          12500000.0\n",
       "finance                600000.0\n",
       "news                        0.0\n",
       "nonprofit                   0.0\n",
       "other                       0.0\n",
       "photo_video                 0.0\n",
       "public_relations            0.0\n",
       "advertising                 0.0\n",
       "search                      0.0\n",
       "security                    0.0\n",
       "semiconductor               0.0\n",
       "social                      0.0\n",
       "software                    0.0\n",
       "sports                      0.0\n",
       "transportation              0.0\n",
       "travel                      0.0\n",
       "network_hosting             0.0\n",
       "messaging                   0.0\n",
       "music                       0.0\n",
       "fashion                     0.0\n",
       "cleantech                   0.0\n",
       "consulting                  0.0\n",
       "design                      0.0\n",
       "ecommerce                   0.0\n",
       "education                   0.0\n",
       "enterprise                  0.0\n",
       "games_video                 0.0\n",
       "mobile                      0.0\n",
       "hardware                    0.0\n",
       "health                      0.0\n",
       "legal                       0.0\n",
       "local                       0.0\n",
       "medical                     0.0\n",
       "analytics                   0.0\n",
       "web                         0.0\n",
       "government                  NaN\n",
       "pets                        NaN\n",
       "Name: price_amount, dtype: float64"
      ]
     },
     "execution_count": 105,
     "metadata": {},
     "output_type": "execute_result"
    }
   ],
   "source": [
    "# Медиана цен по категориям\n",
    "median_prices=acquisition_companies_df.groupby('category_code')['price_amount'].median().sort_values(ascending=False)\n",
    "median_prices"
   ]
  },
  {
   "cell_type": "markdown",
   "metadata": {},
   "source": [
    "Так как данных не много, выделим топ-5 компаний с типично высокими ценами покупки."
   ]
  },
  {
   "cell_type": "code",
   "execution_count": 106,
   "metadata": {},
   "outputs": [
    {
     "data": {
      "text/plain": [
       "category_code\n",
       "nanotech         584000000.0\n",
       "manufacturing     72000000.0\n",
       "real_estate       50000000.0\n",
       "automotive        43000000.0\n",
       "biotech           13200000.0\n",
       "Name: price_amount, dtype: float64"
      ]
     },
     "execution_count": 106,
     "metadata": {},
     "output_type": "execute_result"
    }
   ],
   "source": [
    "# выведем топ-5 компаний с высокими ценами покупки\n",
    "top_prices= median_prices.iloc[0:5]\n",
    "top_prices"
   ]
  },
  {
   "cell_type": "code",
   "execution_count": 107,
   "metadata": {},
   "outputs": [
    {
     "data": {
      "image/png": "[encoded data removed]",
      "text/plain": [
       "<Figure size 720x432 with 1 Axes>"
      ]
     },
     "metadata": {},
     "output_type": "display_data"
    }
   ],
   "source": [
    "# График медианных цен\n",
    "plt.figure(figsize=(10, 6))\n",
    "sns.barplot(x=median_prices.index, y=median_prices.values, palette='viridis')\n",
    "plt.title('Медианные цены покупки стартапов по категориям')\n",
    "plt.xlabel('Категория')\n",
    "plt.ylabel('Медианная цена')\n",
    "plt.xticks(rotation=90)\n",
    "plt.show()"
   ]
  },
  {
   "cell_type": "markdown",
   "metadata": {},
   "source": [
    "В топ-5 вошли категории компаний: nanotech, manufacturing, real_estate, automotive,biotech"
   ]
  },
  {
   "cell_type": "markdown",
   "metadata": {},
   "source": [
    "Анализ разброса цен:\n",
    "Для каждой категории рассчитаем разброс цен, используя межквартильный размах (IQR). IQR показывает, насколько данные отклоняются от медианы."
   ]
  },
  {
   "cell_type": "code",
   "execution_count": 108,
   "metadata": {},
   "outputs": [
    {
     "data": {
      "text/plain": [
       "category_code\n",
       "automotive          2.400000e+09\n",
       "real_estate         9.035000e+08\n",
       "manufacturing       6.150000e+08\n",
       "sports              2.600000e+08\n",
       "biotech             2.500000e+08\n",
       "finance             1.707500e+08\n",
       "transportation      1.250000e+08\n",
       "hospitality         1.187500e+08\n",
       "health              9.750000e+07\n",
       "semiconductor       7.500000e+07\n",
       "cleantech           6.300000e+07\n",
       "fashion             4.875000e+07\n",
       "photo_video         4.250000e+07\n",
       "hardware            3.000000e+07\n",
       "news                2.800000e+07\n",
       "network_hosting     2.500000e+07\n",
       "public_relations    1.700000e+07\n",
       "security            9.200000e+06\n",
       "local               8.070100e+06\n",
       "medical             5.375000e+06\n",
       "enterprise          5.240000e+06\n",
       "software            4.947500e+06\n",
       "mobile              4.900000e+06\n",
       "advertising         3.000000e+06\n",
       "search              2.200000e+06\n",
       "web                 1.000000e+06\n",
       "other               3.850000e+05\n",
       "games_video         1.000000e+03\n",
       "nonprofit           0.000000e+00\n",
       "nanotech            0.000000e+00\n",
       "music               0.000000e+00\n",
       "analytics           0.000000e+00\n",
       "legal               0.000000e+00\n",
       "education           0.000000e+00\n",
       "social              0.000000e+00\n",
       "ecommerce           0.000000e+00\n",
       "design              0.000000e+00\n",
       "consulting          0.000000e+00\n",
       "travel              0.000000e+00\n",
       "messaging           0.000000e+00\n",
       "government                   NaN\n",
       "pets                         NaN\n",
       "Name: price_amount, dtype: float64"
      ]
     },
     "execution_count": 108,
     "metadata": {},
     "output_type": "execute_result"
    }
   ],
   "source": [
    "# Расчёт IQR по категориям\n",
    "Q1 = acquisition_companies_df.groupby('category_code')['price_amount'].quantile(0.25)\n",
    "Q3 = acquisition_companies_df.groupby('category_code')['price_amount'].quantile(0.75)\n",
    "IQR = Q3 - Q1\n",
    "# сортируем данные\n",
    "IQR=IQR.sort_values(ascending=False)\n",
    "IQR"
   ]
  },
  {
   "cell_type": "markdown",
   "metadata": {},
   "source": [
    "Так как данных не очень много, топ-5 будет достаточно, что бы не перегружать анализ и предоставить инвесторам более привлекательные компании"
   ]
  },
  {
   "cell_type": "code",
   "execution_count": 109,
   "metadata": {},
   "outputs": [
    {
     "data": {
      "text/plain": [
       "category_code\n",
       "automotive       2.400000e+09\n",
       "real_estate      9.035000e+08\n",
       "manufacturing    6.150000e+08\n",
       "sports           2.600000e+08\n",
       "biotech          2.500000e+08\n",
       "Name: price_amount, dtype: float64"
      ]
     },
     "execution_count": 109,
     "metadata": {},
     "output_type": "execute_result"
    }
   ],
   "source": [
    "# выведем топ-5 компаний с наибольшим разбросом цен\n",
    "top_iqr= IQR.iloc[0:5]\n",
    "top_iqr"
   ]
  },
  {
   "cell_type": "code",
   "execution_count": 110,
   "metadata": {},
   "outputs": [
    {
     "data": {
      "image/png": "[encoded data removed]",
      "text/plain": [
       "<Figure size 720x432 with 1 Axes>"
      ]
     },
     "metadata": {},
     "output_type": "display_data"
    }
   ],
   "source": [
    "# График разброса цен (IQR)\n",
    "plt.figure(figsize=(10, 6))\n",
    "sns.barplot(x=IQR.index, y=IQR.values, palette='viridis')\n",
    "plt.title('Разброс цен покупки стартапов по категориям (IQR)')\n",
    "plt.xlabel('Категория')\n",
    "plt.ylabel('Межквартильный размах (IQR)')\n",
    "plt.xticks(rotation=90)\n",
    "plt.show()"
   ]
  },
  {
   "cell_type": "markdown",
   "metadata": {},
   "source": [
    "В топ-5 вошли категории: automotive,real_estate,manufacturing,sports,biotech."
   ]
  },
  {
   "cell_type": "markdown",
   "metadata": {},
   "source": [
    "**Вывод:**\n",
    "\n",
    "- Решили выделить топ-5 компаний по высоким ценам и большим разбросам цен, так как данных не очен много, что бы не перегружать анализ и предоставить самые привлекательные компании.\n",
    "- Определили топ-5 компаний с типично высокими ценами, в него вощли категории: nanotech, manufacturing, real_estate, automotive,biotech.\n",
    "- Определили топ-5 компаний с большим разбросом цен, в него вощли категории: automotive,real_estate,manufacturing,sports,biotech. \n",
    "- Построили графики для наглядного представления результатов."
   ]
  },
  {
   "cell_type": "markdown",
   "metadata": {
    "id": "ADOfyVY_rJg3"
   },
   "source": [
    "\n",
    "### 3.5. Сколько раундов продержится стартап перед покупкой\n",
    "\n",
    "- Необходимо проанализировать столбец `funding_rounds`. Исследуйте значения столбца. Заказчика интересует типичное значение количества раундов для каждого возможного статуса стартапа.\n",
    "- Постройте график, который отображает, сколько в среднем раундов финансирования проходило для стартапов из каждой группы. Сделайте выводы."
   ]
  },
  {
   "cell_type": "markdown",
   "metadata": {
    "id": "hgXMPC4WrJg3",
    "vscode": {
     "languageId": "plaintext"
    }
   },
   "source": [
    "Для каждого статуса стартапа рассчитаем среднее количество раундов финансирования. Используем метод groupby и mean."
   ]
  },
  {
   "cell_type": "code",
   "execution_count": 111,
   "metadata": {
    "id": "pV3e7kw5Fj1Y"
   },
   "outputs": [
    {
     "name": "stdout",
     "output_type": "stream",
     "text": [
      "Среднее количество раундов по статусам:\n",
      "status\n",
      "ipo          1.934375\n",
      "operating    1.522695\n",
      "closed       1.381453\n",
      "acquired     0.523526\n",
      "Name: funding_rounds, dtype: float64\n"
     ]
    }
   ],
   "source": [
    "# Среднее количество раундов по статусам\n",
    "average_rounds = acquisition_companies_df.groupby('status')['funding_rounds'].mean().sort_values(ascending=False)\n",
    "print(\"Среднее количество раундов по статусам:\")\n",
    "print(average_rounds)"
   ]
  },
  {
   "cell_type": "markdown",
   "metadata": {},
   "source": [
    "Построим столбчатую диаграмму (barplot), чтобы визуализировать среднее количество раундов финансирования для каждого статуса."
   ]
  },
  {
   "cell_type": "code",
   "execution_count": 112,
   "metadata": {},
   "outputs": [
    {
     "data": {
      "image/png": "[encoded data removed]",
      "text/plain": [
       "<Figure size 576x288 with 1 Axes>"
      ]
     },
     "metadata": {},
     "output_type": "display_data"
    }
   ],
   "source": [
    "# График среднего количества раундов по статусам\n",
    "plt.figure(figsize=(8, 4))\n",
    "sns.barplot(x=average_rounds.index, y=average_rounds.values, palette='viridis')\n",
    "plt.title('Среднее количество раундов финансирования по статусам стартапов')\n",
    "plt.xlabel('Статус стартапа')\n",
    "plt.ylabel('Среднее количество раундов')\n",
    "plt.show()"
   ]
  },
  {
   "cell_type": "markdown",
   "metadata": {},
   "source": [
    "- Больше всего рандов проходили компании со статусом \"ipo\" - 1,93.Компании, которые выпустили свои акции на открытом рынке. Это можно сказать вершина развития любой компании.\n",
    "- Раундов в статусе \"operating\" - 1,52. Вероятно  это те стартапы,которые продолжают работать, проходят больше рандов финансирования.\n",
    "- Раундов в статусе \"closed\" - 1,38. Стартапы, которые закрылись, проходят меньше раундов финансирования.\n",
    "- Раундов в статусе \"acquired\" - 0,52. Стартапы, которые были приобретены."
   ]
  },
  {
   "cell_type": "markdown",
   "metadata": {},
   "source": [
    "**Вывод:**\n",
    "\n",
    "Типичное количество раундов:\n",
    "- Для работающих стартапов и приобретённых стартапов типичное количество раундов финансирования выше, чем для закрытых. \n",
    "- Это может быть связано с успешностью стартапов и их способностью привлекать инвестиции.\n",
    "\n",
    "Рекомендации для заказчика: \n",
    "- Стоит обратить внимание на стартапы, которые прошли несколько раундов финансирования, так как они имеют более высокие шансы на успех.\n",
    "- Стартапы с малым количеством раундов могут быть более рискованными.   "
   ]
  },
  {
   "cell_type": "markdown",
   "metadata": {
    "id": "VAFEZ2HBrJg3"
   },
   "source": [
    "\n",
    "## Шаг 4. Итоговый вывод и рекомендации\n"
   ]
  },
  {
   "cell_type": "markdown",
   "metadata": {},
   "source": [
    "В ходе проектной работы было произведено исследование сатрапов, для финансоваой компания, которая хочет войти на инвестиционный рынок с прицелом на покупку, развитие и последующую перепродажу перспективных стартапов.\n",
    "\n",
    "В качестве данных было проанализировано 5 таблицы `acquisition.csv`- информация о покупках одними компаниями других компаний, `company_and_rounds.csv` -информация о компаниях и раундах финансирования; `people.csv` -информация о сотрудниках; `education.csv` - информация об образовании сотрудника; `degrees.csv`- информация о типе образования сотрудника.\n",
    "\n",
    "Исследовательский анализ данных позволил сформировать следующие  выводы:\n",
    "- Исследовав данные раундов финансирования по годам, видна следующая тенденция, что с течением времени количество раундов финансирования растет и сумма финансирования снижается. Так например, самое маленькое количество раундов финансирования было в 1999 – 76 раундов, тогда как в  2013 году их – 11072. По сумме финансирования, самая большая сумма была в 2005 - 5500000, а к 2013 году она снизилась до 1200000. Рост раундов финансирования, может быть связан с тем, что стартапы проходят больше раундов финансирования из за Увеличение числа инвесторов и фондов, готовых вкладывать в стартапы. Средняя  сумма финансирования в кажом раунде снижаеться, это может указывать на то, что инвесторы стали более осторожными или что стартапы стали привлекать меньшие суммы на ранних этапах. Также это может быть связано с конкуренции среди стартапов, что приводит к снижению оценки компаний. \n",
    "- Разделили предприятия по группам, в зависимости от количества человек. Проверили в них процент сотрудников без образования. Получилось следующие группы:  \"1\"- 36,04% сотрудников без информации об образовании. Колличество компаний в группе - 18 116. В группе \"2\" - 36,54% сотрудников без информации об образовании. Колличество компаний в группе - 5418. В группе \"3\"- 37,57% сотрудников без информации об образовании. Колличество компаний в группе - 2985.В группе \"4-5\"- 39,22% сотрудников без информации об образовании. Колличество компаний в группе - 2763. В группе \"6-10\"- 41,77% сотрудников без информации об образовании. Колличество компаний в группе - 2664. В группе \"11-25\"-33,38% сотрудников без информации об образовании. Колличество компаний в группе - 1425. В группе \"26+\"- 18,66% сотрудников без информации об образовании, колличество компаний в группе - 1243. Поэтому можно сделать вывод, что в группах, по категориям предприятий отсутствует меньше половины информации, это значит,что ее достаточно для анализа. \n",
    "- Выяснили,что не стоит обьединять таблицы по столбцу  `network_username` , который встречается в таблицах `people`, `company_and_rounds` . С помощью диаграммы Венна, посмотрели пересеяения между столбцами и выяснили,что данные мало связаны между собой, при их соединении, будет много пропусков. Пересечение между датасетом `people_df` и `company_df`  - 2192 пересечение. Связь между датасетом `people_df` и `fund_df` очень мальнькая 72 пересечения и связь между `company_df` и `fund_df` тоже незгачительная - 63.\n",
    "- Выяснили,что датасет `company_and_rounds.csv` получен путем слияния двух таблиц с данными о компаниях и с раундами инвистирования. Разделили его на 2 таблицы: `rounds_info` - информация о раундах, `companies_info` - информация о компаниях.Провели обработку таблицы `companies_info`: привели названия стоблбцов к нижнему регистру, удалили 1 строку с пропуском в столбце `company_id`, выявли дубликаты по названию компаний - 47 шт и удалили, что бы не дублировать информацию при анализе. В результате таблице осталось 52928 строк, удалено 48 строк, процент потерь 0,02%.\n",
    "- Обьединили таблицу `filtered_companiesс` таблицей `сacquisition` (информация о покупках одними компаниями других компаний.В результате получили таблицу `acquisition_companies_df`. Получили список из 40745 компаний, которые меняли или готовы менять поставщика  (`status` указано `acquired`) и получали инвестиции или финансировании  (`funding_rounds` или `investment_rounds` больше нуля), так как эти компании интересны заказчику.\n",
    "- Провели анализ столбца `funding_total`. Типичный обьем финансирования в диапазоне 0 (25% процентиль)  до 5,6 (75% процентиль). Медиана 6 (50%), это значит, что 50% компаний получили финансирование в размере менее 6,0.\n",
    " - Определили топ-5 компаний с типично высокими ценами, в него вощли категории: `nanotech`, `manufacturing`,`real_estate`,  `automotive`, `biotech`. Определили топ-5 компаний с большим разбросом цен, в него вошли категории: `automotive`, `real_estate`, `manufacturing`, `sports`, `biotech`.\n",
    "\n",
    "В качестве рекомендаций можно сказать:\n",
    "- Рекомендуем обратить внимание на категории `real_estate`,  `automotive`, `biotech` – они входят в оба списка топ компаний с типично высокими ценами и большим разбросом цен.\n",
    "- Больше всего рандов проходили компании со статусом \"ipo\" - 1,93, в статусе \"operating\" - 1,52. (оторые продолжают работать, проходят больше рандов финансирования),  в статусе \"closed\" - 1,38 (которые закрылись, проходят меньше раундов финансирования), в статусе \"acquired\" - 0,52 (которые были приобретены). Рекомендуем обратить внимание на стартапы, которые прошли несколько раундов финансирования, так как они имеют более высокие шансы на успех. Стартапы с малым количеством раундов могут быть более рискованными.\n",
    "- Также рекомендуем ннализировать стартапы более тщательно, чтобы минимизировать риски. Рассмотреть возможность участия в нескольких раундах финансирования для поддержки перспективных стартапов. Также можно диверсифицировать свои вложения, вкладывая меньшие суммы в большее число стартапов. Это может снизить риски, но также уменьшить потенциальную прибыль. Данная тенденция уменьешния суммы и увеличения количества раундов финансирования, как раз это показывает.\n"
   ]
  },
  {
   "cell_type": "code",
   "execution_count": null,
   "metadata": {},
   "outputs": [],
   "source": []
  }
 ],
 "metadata": {
  "ExecuteTimeLog": [
   {
    "duration": 3360,
    "start_time": "2025-03-05T04:46:52.411Z"
   },
   {
    "duration": 1371,
    "start_time": "2025-03-05T04:47:07.546Z"
   },
   {
    "duration": 3,
    "start_time": "2025-03-05T04:47:26.436Z"
   },
   {
    "duration": 1729,
    "start_time": "2025-03-05T04:50:51.409Z"
   },
   {
    "duration": 1541,
    "start_time": "2025-03-05T04:51:01.345Z"
   },
   {
    "duration": 156,
    "start_time": "2025-03-05T04:52:31.367Z"
   },
   {
    "duration": 12,
    "start_time": "2025-03-05T04:56:46.499Z"
   },
   {
    "duration": 11,
    "start_time": "2025-03-05T04:56:52.015Z"
   },
   {
    "duration": 23,
    "start_time": "2025-03-05T05:08:02.731Z"
   },
   {
    "duration": 89,
    "start_time": "2025-03-05T05:08:04.492Z"
   },
   {
    "duration": 9,
    "start_time": "2025-03-05T06:09:17.893Z"
   },
   {
    "duration": 38,
    "start_time": "2025-03-05T06:09:18.817Z"
   },
   {
    "duration": 7,
    "start_time": "2025-03-05T06:10:00.390Z"
   },
   {
    "duration": 20,
    "start_time": "2025-03-05T06:10:01.101Z"
   },
   {
    "duration": 8,
    "start_time": "2025-03-05T06:10:28.148Z"
   },
   {
    "duration": 24,
    "start_time": "2025-03-05T06:10:29.053Z"
   },
   {
    "duration": 4,
    "start_time": "2025-03-05T10:10:21.990Z"
   },
   {
    "duration": 5,
    "start_time": "2025-03-05T10:10:32.379Z"
   },
   {
    "duration": 3,
    "start_time": "2025-03-05T10:10:42.665Z"
   },
   {
    "duration": 4,
    "start_time": "2025-03-05T10:10:43.569Z"
   },
   {
    "duration": 5,
    "start_time": "2025-03-05T11:20:09.499Z"
   },
   {
    "duration": 4,
    "start_time": "2025-03-05T11:20:31.192Z"
   },
   {
    "duration": 103,
    "start_time": "2025-03-05T11:22:23.265Z"
   },
   {
    "duration": 71,
    "start_time": "2025-03-05T11:22:47.640Z"
   },
   {
    "duration": 6,
    "start_time": "2025-03-05T11:22:55.334Z"
   },
   {
    "duration": 21,
    "start_time": "2025-03-05T11:45:15.792Z"
   },
   {
    "duration": 8,
    "start_time": "2025-03-05T11:45:26.004Z"
   },
   {
    "duration": 11,
    "start_time": "2025-03-05T11:45:40.092Z"
   },
   {
    "duration": 4,
    "start_time": "2025-03-05T11:45:59.418Z"
   },
   {
    "duration": 5,
    "start_time": "2025-03-05T11:46:13.727Z"
   },
   {
    "duration": 3,
    "start_time": "2025-03-05T11:46:51.207Z"
   },
   {
    "duration": 6,
    "start_time": "2025-03-05T11:47:00.030Z"
   },
   {
    "duration": 9,
    "start_time": "2025-03-05T11:47:25.148Z"
   },
   {
    "duration": 13,
    "start_time": "2025-03-05T11:49:30.012Z"
   },
   {
    "duration": 21,
    "start_time": "2025-03-05T11:50:41.048Z"
   },
   {
    "duration": 6,
    "start_time": "2025-03-05T11:50:51.039Z"
   },
   {
    "duration": 5,
    "start_time": "2025-03-05T11:56:37.965Z"
   },
   {
    "duration": 1543,
    "start_time": "2025-03-05T11:58:01.224Z"
   },
   {
    "duration": 1343,
    "start_time": "2025-03-05T12:00:06.601Z"
   },
   {
    "duration": 2556,
    "start_time": "2025-03-05T12:00:13.939Z"
   },
   {
    "duration": 1248,
    "start_time": "2025-03-05T12:00:16.497Z"
   },
   {
    "duration": 3,
    "start_time": "2025-03-05T12:00:17.746Z"
   },
   {
    "duration": 2251,
    "start_time": "2025-03-05T12:00:17.751Z"
   },
   {
    "duration": 173,
    "start_time": "2025-03-05T12:00:20.004Z"
   },
   {
    "duration": 12,
    "start_time": "2025-03-05T12:00:20.179Z"
   },
   {
    "duration": 50,
    "start_time": "2025-03-05T12:00:20.192Z"
   },
   {
    "duration": 39,
    "start_time": "2025-03-05T12:00:20.243Z"
   },
   {
    "duration": 103,
    "start_time": "2025-03-05T12:00:20.284Z"
   },
   {
    "duration": 3,
    "start_time": "2025-03-05T12:00:20.390Z"
   },
   {
    "duration": 131,
    "start_time": "2025-03-05T12:00:20.394Z"
   },
   {
    "duration": 56,
    "start_time": "2025-03-05T12:00:20.526Z"
   },
   {
    "duration": 18,
    "start_time": "2025-03-05T12:00:20.583Z"
   },
   {
    "duration": 51,
    "start_time": "2025-03-05T12:00:20.603Z"
   },
   {
    "duration": 7,
    "start_time": "2025-03-05T12:00:20.656Z"
   },
   {
    "duration": 42,
    "start_time": "2025-03-05T12:00:20.665Z"
   },
   {
    "duration": 40,
    "start_time": "2025-03-05T12:00:20.709Z"
   },
   {
    "duration": 62,
    "start_time": "2025-03-05T12:00:20.751Z"
   },
   {
    "duration": 77,
    "start_time": "2025-03-05T12:00:20.815Z"
   },
   {
    "duration": 6,
    "start_time": "2025-03-05T12:00:20.894Z"
   },
   {
    "duration": 14,
    "start_time": "2025-03-05T12:00:20.902Z"
   },
   {
    "duration": 19,
    "start_time": "2025-03-05T12:00:20.918Z"
   },
   {
    "duration": 1295,
    "start_time": "2025-03-05T12:00:20.939Z"
   },
   {
    "duration": 0,
    "start_time": "2025-03-05T12:00:22.236Z"
   },
   {
    "duration": 0,
    "start_time": "2025-03-05T12:00:22.238Z"
   },
   {
    "duration": 0,
    "start_time": "2025-03-05T12:00:22.239Z"
   },
   {
    "duration": 2421,
    "start_time": "2025-03-05T12:01:43.517Z"
   },
   {
    "duration": 1277,
    "start_time": "2025-03-05T12:01:45.940Z"
   },
   {
    "duration": 3,
    "start_time": "2025-03-05T12:01:47.218Z"
   },
   {
    "duration": 2174,
    "start_time": "2025-03-05T12:01:47.223Z"
   },
   {
    "duration": 159,
    "start_time": "2025-03-05T12:01:49.399Z"
   },
   {
    "duration": 14,
    "start_time": "2025-03-05T12:01:49.560Z"
   },
   {
    "duration": 13,
    "start_time": "2025-03-05T12:01:49.576Z"
   },
   {
    "duration": 26,
    "start_time": "2025-03-05T12:01:49.590Z"
   },
   {
    "duration": 109,
    "start_time": "2025-03-05T12:01:49.618Z"
   },
   {
    "duration": 3,
    "start_time": "2025-03-05T12:01:49.730Z"
   },
   {
    "duration": 14,
    "start_time": "2025-03-05T12:01:49.734Z"
   },
   {
    "duration": 3,
    "start_time": "2025-03-05T12:01:49.750Z"
   },
   {
    "duration": 13,
    "start_time": "2025-03-05T12:01:49.755Z"
   },
   {
    "duration": 76,
    "start_time": "2025-03-05T12:01:49.770Z"
   },
   {
    "duration": 7,
    "start_time": "2025-03-05T12:01:49.848Z"
   },
   {
    "duration": 29,
    "start_time": "2025-03-05T12:01:49.857Z"
   },
   {
    "duration": 38,
    "start_time": "2025-03-05T12:01:49.888Z"
   },
   {
    "duration": 51,
    "start_time": "2025-03-05T12:01:49.928Z"
   },
   {
    "duration": 104,
    "start_time": "2025-03-05T12:01:49.981Z"
   },
   {
    "duration": 5,
    "start_time": "2025-03-05T12:01:50.087Z"
   },
   {
    "duration": 14,
    "start_time": "2025-03-05T12:01:50.094Z"
   },
   {
    "duration": 15,
    "start_time": "2025-03-05T12:01:50.110Z"
   },
   {
    "duration": 1372,
    "start_time": "2025-03-05T12:01:50.127Z"
   },
   {
    "duration": 0,
    "start_time": "2025-03-05T12:01:51.500Z"
   },
   {
    "duration": 0,
    "start_time": "2025-03-05T12:01:51.501Z"
   },
   {
    "duration": 0,
    "start_time": "2025-03-05T12:01:51.502Z"
   },
   {
    "duration": 4,
    "start_time": "2025-03-05T12:02:08.264Z"
   },
   {
    "duration": 4,
    "start_time": "2025-03-05T12:02:09.960Z"
   },
   {
    "duration": 4,
    "start_time": "2025-03-05T12:02:22.901Z"
   },
   {
    "duration": 3,
    "start_time": "2025-03-05T12:02:43.974Z"
   },
   {
    "duration": 4,
    "start_time": "2025-03-05T12:02:44.500Z"
   },
   {
    "duration": 4,
    "start_time": "2025-03-05T12:03:20.444Z"
   },
   {
    "duration": 5,
    "start_time": "2025-03-05T12:03:28.639Z"
   },
   {
    "duration": 10,
    "start_time": "2025-03-05T12:03:33.159Z"
   },
   {
    "duration": 40,
    "start_time": "2025-03-05T12:03:33.548Z"
   },
   {
    "duration": 8,
    "start_time": "2025-03-05T12:03:34.981Z"
   },
   {
    "duration": 18,
    "start_time": "2025-03-05T12:03:35.383Z"
   },
   {
    "duration": 8,
    "start_time": "2025-03-05T12:03:36.463Z"
   },
   {
    "duration": 24,
    "start_time": "2025-03-05T12:03:36.648Z"
   },
   {
    "duration": 58,
    "start_time": "2025-03-05T12:03:37.405Z"
   },
   {
    "duration": 6,
    "start_time": "2025-03-05T12:03:37.607Z"
   },
   {
    "duration": 4,
    "start_time": "2025-03-05T12:03:38.685Z"
   },
   {
    "duration": 5,
    "start_time": "2025-03-05T12:03:39.065Z"
   },
   {
    "duration": 56,
    "start_time": "2025-03-05T12:03:39.476Z"
   },
   {
    "duration": 65,
    "start_time": "2025-03-05T12:03:40.095Z"
   },
   {
    "duration": 6,
    "start_time": "2025-03-05T12:04:02.203Z"
   },
   {
    "duration": 27,
    "start_time": "2025-03-05T12:04:15.812Z"
   },
   {
    "duration": 5,
    "start_time": "2025-03-05T12:04:16.412Z"
   },
   {
    "duration": 1321,
    "start_time": "2025-03-05T12:05:55.263Z"
   },
   {
    "duration": 1509,
    "start_time": "2025-03-05T12:06:06.493Z"
   },
   {
    "duration": 18,
    "start_time": "2025-03-05T12:07:25.884Z"
   },
   {
    "duration": 13,
    "start_time": "2025-03-05T12:08:51.154Z"
   },
   {
    "duration": 14,
    "start_time": "2025-03-05T12:09:04.324Z"
   },
   {
    "duration": 6,
    "start_time": "2025-03-05T12:10:19.904Z"
   },
   {
    "duration": 6,
    "start_time": "2025-03-05T12:13:11.024Z"
   },
   {
    "duration": 2002,
    "start_time": "2025-03-05T12:14:47.143Z"
   },
   {
    "duration": 15,
    "start_time": "2025-03-05T12:14:54.127Z"
   },
   {
    "duration": 5,
    "start_time": "2025-03-05T12:15:13.504Z"
   },
   {
    "duration": 4,
    "start_time": "2025-03-05T14:17:46.033Z"
   },
   {
    "duration": 4,
    "start_time": "2025-03-05T14:17:46.773Z"
   },
   {
    "duration": 5,
    "start_time": "2025-03-05T14:17:48.692Z"
   },
   {
    "duration": 5,
    "start_time": "2025-03-05T14:19:33.523Z"
   },
   {
    "duration": 45,
    "start_time": "2025-03-05T18:25:07.724Z"
   },
   {
    "duration": 3659,
    "start_time": "2025-03-05T18:25:14.001Z"
   },
   {
    "duration": 1349,
    "start_time": "2025-03-05T18:25:17.662Z"
   },
   {
    "duration": 3,
    "start_time": "2025-03-05T18:25:19.012Z"
   },
   {
    "duration": 1630,
    "start_time": "2025-03-05T18:25:19.016Z"
   },
   {
    "duration": 130,
    "start_time": "2025-03-05T18:25:20.649Z"
   },
   {
    "duration": 13,
    "start_time": "2025-03-05T18:25:20.780Z"
   },
   {
    "duration": 32,
    "start_time": "2025-03-05T18:25:20.795Z"
   },
   {
    "duration": 33,
    "start_time": "2025-03-05T18:25:20.828Z"
   },
   {
    "duration": 94,
    "start_time": "2025-03-05T18:25:20.862Z"
   },
   {
    "duration": 3,
    "start_time": "2025-03-05T18:25:20.958Z"
   },
   {
    "duration": 18,
    "start_time": "2025-03-05T18:25:20.962Z"
   },
   {
    "duration": 20,
    "start_time": "2025-03-05T18:25:20.982Z"
   },
   {
    "duration": 15,
    "start_time": "2025-03-05T18:25:21.004Z"
   },
   {
    "duration": 40,
    "start_time": "2025-03-05T18:25:21.022Z"
   },
   {
    "duration": 7,
    "start_time": "2025-03-05T18:25:21.064Z"
   },
   {
    "duration": 31,
    "start_time": "2025-03-05T18:25:21.073Z"
   },
   {
    "duration": 84,
    "start_time": "2025-03-05T18:25:21.105Z"
   },
   {
    "duration": 190,
    "start_time": "2025-03-05T18:25:21.190Z"
   },
   {
    "duration": 67,
    "start_time": "2025-03-05T18:25:21.382Z"
   },
   {
    "duration": 7,
    "start_time": "2025-03-05T18:25:21.451Z"
   },
   {
    "duration": 9,
    "start_time": "2025-03-05T18:25:21.459Z"
   },
   {
    "duration": 8,
    "start_time": "2025-03-05T18:25:21.469Z"
   },
   {
    "duration": 56,
    "start_time": "2025-03-05T18:25:21.479Z"
   },
   {
    "duration": 68,
    "start_time": "2025-03-05T18:25:21.536Z"
   },
   {
    "duration": 6,
    "start_time": "2025-03-05T18:25:21.605Z"
   },
   {
    "duration": 37,
    "start_time": "2025-03-05T18:25:21.613Z"
   },
   {
    "duration": 5,
    "start_time": "2025-03-05T18:25:21.652Z"
   },
   {
    "duration": 16,
    "start_time": "2025-03-05T18:25:21.658Z"
   },
   {
    "duration": 15,
    "start_time": "2025-03-05T18:25:21.675Z"
   },
   {
    "duration": 118,
    "start_time": "2025-03-05T18:25:21.691Z"
   },
   {
    "duration": 23,
    "start_time": "2025-03-05T18:25:39.260Z"
   },
   {
    "duration": 14,
    "start_time": "2025-03-05T18:31:38.561Z"
   },
   {
    "duration": 11,
    "start_time": "2025-03-05T18:37:27.730Z"
   },
   {
    "duration": 5,
    "start_time": "2025-03-05T18:38:13.903Z"
   },
   {
    "duration": 9,
    "start_time": "2025-03-05T18:39:01.388Z"
   },
   {
    "duration": 12,
    "start_time": "2025-03-05T18:41:07.071Z"
   },
   {
    "duration": 11,
    "start_time": "2025-03-05T18:41:13.636Z"
   },
   {
    "duration": 11,
    "start_time": "2025-03-05T18:41:19.492Z"
   },
   {
    "duration": 22,
    "start_time": "2025-03-05T18:50:04.795Z"
   },
   {
    "duration": 11,
    "start_time": "2025-03-05T18:50:20.074Z"
   },
   {
    "duration": 53,
    "start_time": "2025-03-05T18:52:34.521Z"
   },
   {
    "duration": 10,
    "start_time": "2025-03-05T18:52:36.203Z"
   },
   {
    "duration": 11,
    "start_time": "2025-03-05T18:53:43.946Z"
   },
   {
    "duration": 9,
    "start_time": "2025-03-05T18:54:11.110Z"
   },
   {
    "duration": 2313,
    "start_time": "2025-03-05T18:54:17.996Z"
   },
   {
    "duration": 1143,
    "start_time": "2025-03-05T18:54:20.312Z"
   },
   {
    "duration": 3,
    "start_time": "2025-03-05T18:54:21.456Z"
   },
   {
    "duration": 2812,
    "start_time": "2025-03-05T18:54:21.460Z"
   },
   {
    "duration": 162,
    "start_time": "2025-03-05T18:54:24.274Z"
   },
   {
    "duration": 40,
    "start_time": "2025-03-05T18:54:24.437Z"
   },
   {
    "duration": 11,
    "start_time": "2025-03-05T18:54:24.478Z"
   },
   {
    "duration": 24,
    "start_time": "2025-03-05T18:54:24.491Z"
   },
   {
    "duration": 99,
    "start_time": "2025-03-05T18:54:24.517Z"
   },
   {
    "duration": 3,
    "start_time": "2025-03-05T18:54:24.618Z"
   },
   {
    "duration": 53,
    "start_time": "2025-03-05T18:54:24.622Z"
   },
   {
    "duration": 10,
    "start_time": "2025-03-05T18:54:24.676Z"
   },
   {
    "duration": 12,
    "start_time": "2025-03-05T18:54:24.688Z"
   },
   {
    "duration": 36,
    "start_time": "2025-03-05T18:54:24.703Z"
   },
   {
    "duration": 7,
    "start_time": "2025-03-05T18:54:24.741Z"
   },
   {
    "duration": 27,
    "start_time": "2025-03-05T18:54:24.749Z"
   },
   {
    "duration": 7,
    "start_time": "2025-03-05T18:54:24.778Z"
   },
   {
    "duration": 139,
    "start_time": "2025-03-05T18:54:24.786Z"
   },
   {
    "duration": 73,
    "start_time": "2025-03-05T18:54:24.926Z"
   },
   {
    "duration": 6,
    "start_time": "2025-03-05T18:54:25.001Z"
   },
   {
    "duration": 8,
    "start_time": "2025-03-05T18:54:25.008Z"
   },
   {
    "duration": 15,
    "start_time": "2025-03-05T18:54:25.018Z"
   },
   {
    "duration": 65,
    "start_time": "2025-03-05T18:54:25.034Z"
   },
   {
    "duration": 77,
    "start_time": "2025-03-05T18:54:25.101Z"
   },
   {
    "duration": 6,
    "start_time": "2025-03-05T18:54:25.180Z"
   },
   {
    "duration": 38,
    "start_time": "2025-03-05T18:54:25.187Z"
   },
   {
    "duration": 20,
    "start_time": "2025-03-05T18:54:25.227Z"
   },
   {
    "duration": 116,
    "start_time": "2025-03-05T18:54:25.249Z"
   },
   {
    "duration": 8,
    "start_time": "2025-03-05T18:54:25.367Z"
   },
   {
    "duration": 34,
    "start_time": "2025-03-05T18:54:25.377Z"
   },
   {
    "duration": 206,
    "start_time": "2025-03-05T18:54:25.412Z"
   },
   {
    "duration": 0,
    "start_time": "2025-03-05T18:54:25.619Z"
   },
   {
    "duration": 43,
    "start_time": "2025-03-05T18:59:45.346Z"
   },
   {
    "duration": 5,
    "start_time": "2025-03-05T18:59:46.920Z"
   },
   {
    "duration": 10,
    "start_time": "2025-03-05T18:59:54.944Z"
   },
   {
    "duration": 14,
    "start_time": "2025-03-05T19:10:40.855Z"
   },
   {
    "duration": 43,
    "start_time": "2025-03-05T19:12:08.140Z"
   },
   {
    "duration": 18,
    "start_time": "2025-03-05T19:12:25.402Z"
   },
   {
    "duration": 33,
    "start_time": "2025-03-05T19:12:48.699Z"
   },
   {
    "duration": 30,
    "start_time": "2025-03-05T19:14:28.592Z"
   },
   {
    "duration": 31,
    "start_time": "2025-03-05T19:20:10.449Z"
   },
   {
    "duration": 10,
    "start_time": "2025-03-05T19:21:57.191Z"
   },
   {
    "duration": 15,
    "start_time": "2025-03-05T19:22:13.124Z"
   },
   {
    "duration": 130,
    "start_time": "2025-03-05T19:22:23.410Z"
   },
   {
    "duration": 22,
    "start_time": "2025-03-05T19:22:51.705Z"
   },
   {
    "duration": 159,
    "start_time": "2025-03-05T19:22:54.506Z"
   },
   {
    "duration": 15,
    "start_time": "2025-03-05T19:23:07.908Z"
   },
   {
    "duration": 169,
    "start_time": "2025-03-05T19:23:08.573Z"
   },
   {
    "duration": 34,
    "start_time": "2025-03-05T19:24:22.204Z"
   },
   {
    "duration": 32,
    "start_time": "2025-03-05T19:32:07.954Z"
   },
   {
    "duration": 48,
    "start_time": "2025-03-06T05:33:56.325Z"
   },
   {
    "duration": 3319,
    "start_time": "2025-03-06T05:34:01.061Z"
   },
   {
    "duration": 1339,
    "start_time": "2025-03-06T05:34:04.382Z"
   },
   {
    "duration": 3,
    "start_time": "2025-03-06T05:34:05.723Z"
   },
   {
    "duration": 2201,
    "start_time": "2025-03-06T05:34:05.727Z"
   },
   {
    "duration": 135,
    "start_time": "2025-03-06T05:34:07.930Z"
   },
   {
    "duration": 12,
    "start_time": "2025-03-06T05:34:08.067Z"
   },
   {
    "duration": 45,
    "start_time": "2025-03-06T05:34:08.080Z"
   },
   {
    "duration": 27,
    "start_time": "2025-03-06T05:34:08.127Z"
   },
   {
    "duration": 113,
    "start_time": "2025-03-06T05:34:08.155Z"
   },
   {
    "duration": 3,
    "start_time": "2025-03-06T05:34:08.270Z"
   },
   {
    "duration": 15,
    "start_time": "2025-03-06T05:34:08.274Z"
   },
   {
    "duration": 7,
    "start_time": "2025-03-06T05:34:08.291Z"
   },
   {
    "duration": 8,
    "start_time": "2025-03-06T05:34:08.300Z"
   },
   {
    "duration": 56,
    "start_time": "2025-03-06T05:34:08.310Z"
   },
   {
    "duration": 7,
    "start_time": "2025-03-06T05:34:08.368Z"
   },
   {
    "duration": 26,
    "start_time": "2025-03-06T05:34:08.377Z"
   },
   {
    "duration": 8,
    "start_time": "2025-03-06T05:34:08.404Z"
   },
   {
    "duration": 44,
    "start_time": "2025-03-06T05:34:08.414Z"
   },
   {
    "duration": 74,
    "start_time": "2025-03-06T05:34:08.459Z"
   },
   {
    "duration": 5,
    "start_time": "2025-03-06T05:34:08.535Z"
   },
   {
    "duration": 66,
    "start_time": "2025-03-06T05:34:08.542Z"
   },
   {
    "duration": 5,
    "start_time": "2025-03-06T05:34:08.610Z"
   },
   {
    "duration": 49,
    "start_time": "2025-03-06T05:34:08.617Z"
   },
   {
    "duration": 62,
    "start_time": "2025-03-06T05:34:08.668Z"
   },
   {
    "duration": 61,
    "start_time": "2025-03-06T05:34:08.731Z"
   },
   {
    "duration": 5,
    "start_time": "2025-03-06T05:34:08.794Z"
   },
   {
    "duration": 21,
    "start_time": "2025-03-06T05:34:08.801Z"
   },
   {
    "duration": 5,
    "start_time": "2025-03-06T05:34:08.823Z"
   },
   {
    "duration": 37,
    "start_time": "2025-03-06T05:34:08.830Z"
   },
   {
    "duration": 6,
    "start_time": "2025-03-06T05:34:08.869Z"
   },
   {
    "duration": 93,
    "start_time": "2025-03-06T05:34:08.877Z"
   },
   {
    "duration": 23,
    "start_time": "2025-03-06T05:34:08.973Z"
   },
   {
    "duration": 171,
    "start_time": "2025-03-06T05:34:08.998Z"
   },
   {
    "duration": 38,
    "start_time": "2025-03-06T05:34:09.171Z"
   },
   {
    "duration": 116,
    "start_time": "2025-03-06T05:34:09.211Z"
   },
   {
    "duration": 166,
    "start_time": "2025-03-06T05:34:35.271Z"
   },
   {
    "duration": 194,
    "start_time": "2025-03-06T05:55:57.739Z"
   },
   {
    "duration": 303,
    "start_time": "2025-03-06T06:01:46.125Z"
   },
   {
    "duration": 279,
    "start_time": "2025-03-06T06:03:34.090Z"
   },
   {
    "duration": 366,
    "start_time": "2025-03-06T06:04:24.031Z"
   },
   {
    "duration": 39,
    "start_time": "2025-03-06T06:06:40.739Z"
   },
   {
    "duration": 25,
    "start_time": "2025-03-06T06:06:58.267Z"
   },
   {
    "duration": 293,
    "start_time": "2025-03-06T06:11:07.974Z"
   },
   {
    "duration": 13,
    "start_time": "2025-03-06T06:28:10.068Z"
   },
   {
    "duration": 19,
    "start_time": "2025-03-06T06:28:52.906Z"
   },
   {
    "duration": 22,
    "start_time": "2025-03-06T06:29:01.765Z"
   },
   {
    "duration": 53,
    "start_time": "2025-03-06T06:32:04.659Z"
   },
   {
    "duration": 80,
    "start_time": "2025-03-06T06:33:50.751Z"
   },
   {
    "duration": 353,
    "start_time": "2025-03-06T06:41:36.169Z"
   },
   {
    "duration": 59,
    "start_time": "2025-03-06T06:42:08.913Z"
   },
   {
    "duration": 16,
    "start_time": "2025-03-06T06:42:21.612Z"
   },
   {
    "duration": 322,
    "start_time": "2025-03-06T06:44:16.894Z"
   },
   {
    "duration": 54,
    "start_time": "2025-03-06T06:49:02.761Z"
   },
   {
    "duration": 175,
    "start_time": "2025-03-06T06:58:30.195Z"
   },
   {
    "duration": 17,
    "start_time": "2025-03-06T06:58:40.626Z"
   },
   {
    "duration": 1368,
    "start_time": "2025-03-06T07:00:05.845Z"
   },
   {
    "duration": 19,
    "start_time": "2025-03-06T07:00:07.668Z"
   },
   {
    "duration": 157,
    "start_time": "2025-03-06T07:00:36.544Z"
   },
   {
    "duration": 19,
    "start_time": "2025-03-06T07:00:38.535Z"
   },
   {
    "duration": 160,
    "start_time": "2025-03-06T07:04:48.411Z"
   },
   {
    "duration": 20,
    "start_time": "2025-03-06T07:04:50.802Z"
   },
   {
    "duration": 15,
    "start_time": "2025-03-06T07:05:57.595Z"
   },
   {
    "duration": 14,
    "start_time": "2025-03-06T07:06:02.770Z"
   },
   {
    "duration": 13,
    "start_time": "2025-03-06T07:06:09.312Z"
   },
   {
    "duration": 20,
    "start_time": "2025-03-06T07:06:15.094Z"
   },
   {
    "duration": 20,
    "start_time": "2025-03-06T07:06:19.447Z"
   },
   {
    "duration": 12,
    "start_time": "2025-03-06T07:06:38.274Z"
   },
   {
    "duration": 2476,
    "start_time": "2025-03-06T07:07:10.205Z"
   },
   {
    "duration": 1236,
    "start_time": "2025-03-06T07:07:12.684Z"
   },
   {
    "duration": 3,
    "start_time": "2025-03-06T07:07:13.922Z"
   },
   {
    "duration": 2094,
    "start_time": "2025-03-06T07:07:13.927Z"
   },
   {
    "duration": 152,
    "start_time": "2025-03-06T07:07:16.023Z"
   },
   {
    "duration": 12,
    "start_time": "2025-03-06T07:07:16.176Z"
   },
   {
    "duration": 98,
    "start_time": "2025-03-06T07:07:16.189Z"
   },
   {
    "duration": 27,
    "start_time": "2025-03-06T07:07:16.289Z"
   },
   {
    "duration": 199,
    "start_time": "2025-03-06T07:07:16.317Z"
   },
   {
    "duration": 4,
    "start_time": "2025-03-06T07:07:16.518Z"
   },
   {
    "duration": 4,
    "start_time": "2025-03-06T07:07:16.523Z"
   },
   {
    "duration": 6,
    "start_time": "2025-03-06T07:07:16.529Z"
   },
   {
    "duration": 10,
    "start_time": "2025-03-06T07:07:16.557Z"
   },
   {
    "duration": 60,
    "start_time": "2025-03-06T07:07:16.569Z"
   },
   {
    "duration": 7,
    "start_time": "2025-03-06T07:07:16.631Z"
   },
   {
    "duration": 34,
    "start_time": "2025-03-06T07:07:16.640Z"
   },
   {
    "duration": 7,
    "start_time": "2025-03-06T07:07:16.675Z"
   },
   {
    "duration": 26,
    "start_time": "2025-03-06T07:07:16.683Z"
   },
   {
    "duration": 108,
    "start_time": "2025-03-06T07:07:16.711Z"
   },
   {
    "duration": 7,
    "start_time": "2025-03-06T07:07:16.821Z"
   },
   {
    "duration": 88,
    "start_time": "2025-03-06T07:07:16.830Z"
   },
   {
    "duration": 8,
    "start_time": "2025-03-06T07:07:16.920Z"
   },
   {
    "duration": 59,
    "start_time": "2025-03-06T07:07:16.930Z"
   },
   {
    "duration": 69,
    "start_time": "2025-03-06T07:07:16.990Z"
   },
   {
    "duration": 50,
    "start_time": "2025-03-06T07:07:17.060Z"
   },
   {
    "duration": 6,
    "start_time": "2025-03-06T07:07:17.111Z"
   },
   {
    "duration": 45,
    "start_time": "2025-03-06T07:07:17.118Z"
   },
   {
    "duration": 12,
    "start_time": "2025-03-06T07:07:17.167Z"
   },
   {
    "duration": 69,
    "start_time": "2025-03-06T07:07:17.180Z"
   },
   {
    "duration": 7,
    "start_time": "2025-03-06T07:07:17.251Z"
   },
   {
    "duration": 16,
    "start_time": "2025-03-06T07:07:17.260Z"
   },
   {
    "duration": 39,
    "start_time": "2025-03-06T07:07:17.277Z"
   },
   {
    "duration": 45,
    "start_time": "2025-03-06T07:07:17.318Z"
   },
   {
    "duration": 325,
    "start_time": "2025-03-06T07:07:17.364Z"
   },
   {
    "duration": 13,
    "start_time": "2025-03-06T07:07:17.690Z"
   },
   {
    "duration": 22,
    "start_time": "2025-03-06T07:07:17.705Z"
   },
   {
    "duration": 54,
    "start_time": "2025-03-06T07:07:17.728Z"
   },
   {
    "duration": 523,
    "start_time": "2025-03-06T07:07:17.784Z"
   },
   {
    "duration": 0,
    "start_time": "2025-03-06T07:07:18.309Z"
   },
   {
    "duration": 0,
    "start_time": "2025-03-06T07:07:18.310Z"
   },
   {
    "duration": 0,
    "start_time": "2025-03-06T07:07:18.311Z"
   },
   {
    "duration": 14,
    "start_time": "2025-03-06T07:07:54.164Z"
   },
   {
    "duration": 154,
    "start_time": "2025-03-06T07:07:56.711Z"
   },
   {
    "duration": 19,
    "start_time": "2025-03-06T07:07:58.541Z"
   },
   {
    "duration": 1340,
    "start_time": "2025-03-06T07:09:00.087Z"
   },
   {
    "duration": 20,
    "start_time": "2025-03-06T07:09:03.574Z"
   },
   {
    "duration": 2422,
    "start_time": "2025-03-06T07:09:17.343Z"
   },
   {
    "duration": 1256,
    "start_time": "2025-03-06T07:09:19.767Z"
   },
   {
    "duration": 3,
    "start_time": "2025-03-06T07:09:21.025Z"
   },
   {
    "duration": 1802,
    "start_time": "2025-03-06T07:09:21.030Z"
   },
   {
    "duration": 140,
    "start_time": "2025-03-06T07:09:22.834Z"
   },
   {
    "duration": 12,
    "start_time": "2025-03-06T07:09:22.975Z"
   },
   {
    "duration": 11,
    "start_time": "2025-03-06T07:09:22.988Z"
   },
   {
    "duration": 23,
    "start_time": "2025-03-06T07:09:23.000Z"
   },
   {
    "duration": 136,
    "start_time": "2025-03-06T07:09:23.025Z"
   },
   {
    "duration": 3,
    "start_time": "2025-03-06T07:09:23.164Z"
   },
   {
    "duration": 76,
    "start_time": "2025-03-06T07:09:23.168Z"
   },
   {
    "duration": 7,
    "start_time": "2025-03-06T07:09:23.246Z"
   },
   {
    "duration": 10,
    "start_time": "2025-03-06T07:09:23.255Z"
   },
   {
    "duration": 40,
    "start_time": "2025-03-06T07:09:23.266Z"
   },
   {
    "duration": 8,
    "start_time": "2025-03-06T07:09:23.308Z"
   },
   {
    "duration": 44,
    "start_time": "2025-03-06T07:09:23.317Z"
   },
   {
    "duration": 7,
    "start_time": "2025-03-06T07:09:23.363Z"
   },
   {
    "duration": 90,
    "start_time": "2025-03-06T07:09:23.372Z"
   },
   {
    "duration": 74,
    "start_time": "2025-03-06T07:09:23.464Z"
   },
   {
    "duration": 18,
    "start_time": "2025-03-06T07:09:23.540Z"
   },
   {
    "duration": 9,
    "start_time": "2025-03-06T07:09:23.559Z"
   },
   {
    "duration": 20,
    "start_time": "2025-03-06T07:09:23.570Z"
   },
   {
    "duration": 66,
    "start_time": "2025-03-06T07:09:23.592Z"
   },
   {
    "duration": 63,
    "start_time": "2025-03-06T07:09:23.660Z"
   },
   {
    "duration": 62,
    "start_time": "2025-03-06T07:09:23.725Z"
   },
   {
    "duration": 6,
    "start_time": "2025-03-06T07:09:23.788Z"
   },
   {
    "duration": 33,
    "start_time": "2025-03-06T07:09:23.795Z"
   },
   {
    "duration": 4,
    "start_time": "2025-03-06T07:09:23.832Z"
   },
   {
    "duration": 33,
    "start_time": "2025-03-06T07:09:23.838Z"
   },
   {
    "duration": 9,
    "start_time": "2025-03-06T07:09:23.873Z"
   },
   {
    "duration": 18,
    "start_time": "2025-03-06T07:09:23.883Z"
   },
   {
    "duration": 27,
    "start_time": "2025-03-06T07:09:23.903Z"
   },
   {
    "duration": 61,
    "start_time": "2025-03-06T07:09:23.931Z"
   },
   {
    "duration": 305,
    "start_time": "2025-03-06T07:09:23.994Z"
   },
   {
    "duration": 14,
    "start_time": "2025-03-06T07:09:24.300Z"
   },
   {
    "duration": 43,
    "start_time": "2025-03-06T07:09:24.315Z"
   },
   {
    "duration": 111,
    "start_time": "2025-03-06T07:09:24.360Z"
   },
   {
    "duration": 13,
    "start_time": "2025-03-06T07:09:24.472Z"
   },
   {
    "duration": 155,
    "start_time": "2025-03-06T07:09:24.487Z"
   },
   {
    "duration": 22,
    "start_time": "2025-03-06T07:09:24.643Z"
   },
   {
    "duration": 2447,
    "start_time": "2025-03-06T07:13:52.216Z"
   },
   {
    "duration": 1268,
    "start_time": "2025-03-06T07:13:54.666Z"
   },
   {
    "duration": 3,
    "start_time": "2025-03-06T07:13:55.935Z"
   },
   {
    "duration": 1887,
    "start_time": "2025-03-06T07:13:55.940Z"
   },
   {
    "duration": 655,
    "start_time": "2025-03-06T07:13:57.829Z"
   },
   {
    "duration": 12,
    "start_time": "2025-03-06T07:13:58.486Z"
   },
   {
    "duration": 11,
    "start_time": "2025-03-06T07:13:58.500Z"
   },
   {
    "duration": 25,
    "start_time": "2025-03-06T07:13:58.512Z"
   },
   {
    "duration": 113,
    "start_time": "2025-03-06T07:13:58.538Z"
   },
   {
    "duration": 3,
    "start_time": "2025-03-06T07:13:58.658Z"
   },
   {
    "duration": 4,
    "start_time": "2025-03-06T07:13:58.663Z"
   },
   {
    "duration": 6,
    "start_time": "2025-03-06T07:13:58.669Z"
   },
   {
    "duration": 9,
    "start_time": "2025-03-06T07:13:58.677Z"
   },
   {
    "duration": 77,
    "start_time": "2025-03-06T07:13:58.688Z"
   },
   {
    "duration": 8,
    "start_time": "2025-03-06T07:13:58.766Z"
   },
   {
    "duration": 21,
    "start_time": "2025-03-06T07:13:58.776Z"
   },
   {
    "duration": 8,
    "start_time": "2025-03-06T07:13:58.799Z"
   },
   {
    "duration": 59,
    "start_time": "2025-03-06T07:13:58.809Z"
   },
   {
    "duration": 88,
    "start_time": "2025-03-06T07:13:58.870Z"
   },
   {
    "duration": 7,
    "start_time": "2025-03-06T07:13:58.959Z"
   },
   {
    "duration": 8,
    "start_time": "2025-03-06T07:13:58.967Z"
   },
   {
    "duration": 7,
    "start_time": "2025-03-06T07:13:58.977Z"
   },
   {
    "duration": 73,
    "start_time": "2025-03-06T07:13:58.985Z"
   },
   {
    "duration": 59,
    "start_time": "2025-03-06T07:13:59.060Z"
   },
   {
    "duration": 62,
    "start_time": "2025-03-06T07:13:59.120Z"
   },
   {
    "duration": 6,
    "start_time": "2025-03-06T07:13:59.185Z"
   },
   {
    "duration": 93,
    "start_time": "2025-03-06T07:13:59.193Z"
   },
   {
    "duration": 6,
    "start_time": "2025-03-06T07:13:59.290Z"
   },
   {
    "duration": 16,
    "start_time": "2025-03-06T07:13:59.298Z"
   },
   {
    "duration": 5,
    "start_time": "2025-03-06T07:13:59.316Z"
   },
   {
    "duration": 38,
    "start_time": "2025-03-06T07:13:59.323Z"
   },
   {
    "duration": 27,
    "start_time": "2025-03-06T07:13:59.363Z"
   },
   {
    "duration": 100,
    "start_time": "2025-03-06T07:13:59.392Z"
   },
   {
    "duration": 307,
    "start_time": "2025-03-06T07:13:59.494Z"
   },
   {
    "duration": 13,
    "start_time": "2025-03-06T07:13:59.803Z"
   },
   {
    "duration": 51,
    "start_time": "2025-03-06T07:13:59.818Z"
   },
   {
    "duration": 12,
    "start_time": "2025-03-06T07:13:59.871Z"
   },
   {
    "duration": 176,
    "start_time": "2025-03-06T07:13:59.885Z"
   },
   {
    "duration": 17,
    "start_time": "2025-03-06T07:14:00.062Z"
   },
   {
    "duration": 11,
    "start_time": "2025-03-06T07:20:57.058Z"
   },
   {
    "duration": 142,
    "start_time": "2025-03-06T07:22:10.756Z"
   },
   {
    "duration": 97,
    "start_time": "2025-03-06T07:24:24.897Z"
   },
   {
    "duration": 26,
    "start_time": "2025-03-06T07:24:34.524Z"
   },
   {
    "duration": 72,
    "start_time": "2025-03-06T07:30:00.531Z"
   },
   {
    "duration": 35,
    "start_time": "2025-03-06T07:30:12.267Z"
   },
   {
    "duration": 35,
    "start_time": "2025-03-06T07:39:10.799Z"
   },
   {
    "duration": 35,
    "start_time": "2025-03-06T07:39:17.753Z"
   },
   {
    "duration": 16,
    "start_time": "2025-03-06T07:50:43.450Z"
   },
   {
    "duration": 175,
    "start_time": "2025-03-06T07:50:59.441Z"
   },
   {
    "duration": 71,
    "start_time": "2025-03-06T11:11:15.557Z"
   },
   {
    "duration": 1119,
    "start_time": "2025-03-06T11:16:37.198Z"
   },
   {
    "duration": 25,
    "start_time": "2025-03-06T11:16:47.601Z"
   },
   {
    "duration": 8,
    "start_time": "2025-03-06T11:17:30.824Z"
   },
   {
    "duration": 5,
    "start_time": "2025-03-06T11:22:20.086Z"
   },
   {
    "duration": 5,
    "start_time": "2025-03-06T11:24:18.909Z"
   },
   {
    "duration": 4,
    "start_time": "2025-03-06T11:24:32.083Z"
   },
   {
    "duration": 20,
    "start_time": "2025-03-06T11:45:21.304Z"
   },
   {
    "duration": 19,
    "start_time": "2025-03-06T11:45:56.710Z"
   },
   {
    "duration": 4,
    "start_time": "2025-03-06T11:46:25.749Z"
   },
   {
    "duration": 4,
    "start_time": "2025-03-06T11:46:44.109Z"
   },
   {
    "duration": 5,
    "start_time": "2025-03-06T11:46:44.613Z"
   },
   {
    "duration": 19,
    "start_time": "2025-03-06T11:46:46.285Z"
   },
   {
    "duration": 5,
    "start_time": "2025-03-06T11:46:46.709Z"
   },
   {
    "duration": 5,
    "start_time": "2025-03-06T11:47:38.648Z"
   },
   {
    "duration": 20,
    "start_time": "2025-03-06T11:49:48.410Z"
   },
   {
    "duration": 20,
    "start_time": "2025-03-06T11:50:13.859Z"
   },
   {
    "duration": 9,
    "start_time": "2025-03-06T11:51:05.088Z"
   },
   {
    "duration": 5,
    "start_time": "2025-03-06T11:51:15.839Z"
   },
   {
    "duration": 7,
    "start_time": "2025-03-06T11:51:16.747Z"
   },
   {
    "duration": 34,
    "start_time": "2025-03-06T11:52:51.288Z"
   },
   {
    "duration": 53,
    "start_time": "2025-03-06T11:53:53.181Z"
   },
   {
    "duration": 13,
    "start_time": "2025-03-06T11:54:11.094Z"
   },
   {
    "duration": 5,
    "start_time": "2025-03-06T11:54:32.445Z"
   },
   {
    "duration": 19,
    "start_time": "2025-03-06T11:59:59.280Z"
   },
   {
    "duration": 8,
    "start_time": "2025-03-06T12:56:57.697Z"
   },
   {
    "duration": 29,
    "start_time": "2025-03-06T12:57:08.214Z"
   },
   {
    "duration": 9,
    "start_time": "2025-03-06T12:57:37.223Z"
   },
   {
    "duration": 9,
    "start_time": "2025-03-06T12:58:00.865Z"
   },
   {
    "duration": 42,
    "start_time": "2025-03-06T12:58:24.021Z"
   },
   {
    "duration": 7,
    "start_time": "2025-03-06T12:58:41.734Z"
   },
   {
    "duration": 3278,
    "start_time": "2025-03-06T18:48:26.080Z"
   },
   {
    "duration": 1365,
    "start_time": "2025-03-06T18:48:29.361Z"
   },
   {
    "duration": 3,
    "start_time": "2025-03-06T18:48:30.728Z"
   },
   {
    "duration": 2268,
    "start_time": "2025-03-06T18:48:30.732Z"
   },
   {
    "duration": 183,
    "start_time": "2025-03-06T18:48:33.002Z"
   },
   {
    "duration": 13,
    "start_time": "2025-03-06T18:48:33.186Z"
   },
   {
    "duration": 26,
    "start_time": "2025-03-06T18:48:33.200Z"
   },
   {
    "duration": 51,
    "start_time": "2025-03-06T18:48:33.228Z"
   },
   {
    "duration": 147,
    "start_time": "2025-03-06T18:48:33.282Z"
   },
   {
    "duration": 3,
    "start_time": "2025-03-06T18:48:33.431Z"
   },
   {
    "duration": 39,
    "start_time": "2025-03-06T18:48:33.435Z"
   },
   {
    "duration": 131,
    "start_time": "2025-03-06T18:48:33.475Z"
   },
   {
    "duration": 0,
    "start_time": "2025-03-06T18:48:33.609Z"
   },
   {
    "duration": 0,
    "start_time": "2025-03-06T18:48:33.611Z"
   },
   {
    "duration": 0,
    "start_time": "2025-03-06T18:48:33.612Z"
   },
   {
    "duration": 0,
    "start_time": "2025-03-06T18:48:33.614Z"
   },
   {
    "duration": 0,
    "start_time": "2025-03-06T18:48:33.615Z"
   },
   {
    "duration": 0,
    "start_time": "2025-03-06T18:48:33.616Z"
   },
   {
    "duration": 0,
    "start_time": "2025-03-06T18:48:33.618Z"
   },
   {
    "duration": 0,
    "start_time": "2025-03-06T18:48:33.619Z"
   },
   {
    "duration": 0,
    "start_time": "2025-03-06T18:48:33.621Z"
   },
   {
    "duration": 0,
    "start_time": "2025-03-06T18:48:33.622Z"
   },
   {
    "duration": 0,
    "start_time": "2025-03-06T18:48:33.624Z"
   },
   {
    "duration": 0,
    "start_time": "2025-03-06T18:48:33.625Z"
   },
   {
    "duration": 0,
    "start_time": "2025-03-06T18:48:33.626Z"
   },
   {
    "duration": 0,
    "start_time": "2025-03-06T18:48:33.628Z"
   },
   {
    "duration": 0,
    "start_time": "2025-03-06T18:48:33.671Z"
   },
   {
    "duration": 0,
    "start_time": "2025-03-06T18:48:33.673Z"
   },
   {
    "duration": 0,
    "start_time": "2025-03-06T18:48:33.674Z"
   },
   {
    "duration": 0,
    "start_time": "2025-03-06T18:48:33.676Z"
   },
   {
    "duration": 0,
    "start_time": "2025-03-06T18:48:33.677Z"
   },
   {
    "duration": 0,
    "start_time": "2025-03-06T18:48:33.679Z"
   },
   {
    "duration": 0,
    "start_time": "2025-03-06T18:48:33.680Z"
   },
   {
    "duration": 0,
    "start_time": "2025-03-06T18:48:33.681Z"
   },
   {
    "duration": 0,
    "start_time": "2025-03-06T18:48:33.683Z"
   },
   {
    "duration": 0,
    "start_time": "2025-03-06T18:48:33.685Z"
   },
   {
    "duration": 0,
    "start_time": "2025-03-06T18:48:33.687Z"
   },
   {
    "duration": 0,
    "start_time": "2025-03-06T18:48:33.688Z"
   },
   {
    "duration": 0,
    "start_time": "2025-03-06T18:48:33.690Z"
   },
   {
    "duration": 0,
    "start_time": "2025-03-06T18:48:33.692Z"
   },
   {
    "duration": 0,
    "start_time": "2025-03-06T18:48:33.694Z"
   },
   {
    "duration": 0,
    "start_time": "2025-03-06T18:48:33.696Z"
   },
   {
    "duration": 0,
    "start_time": "2025-03-06T18:48:33.698Z"
   },
   {
    "duration": 0,
    "start_time": "2025-03-06T18:48:33.699Z"
   },
   {
    "duration": 0,
    "start_time": "2025-03-06T18:48:33.702Z"
   },
   {
    "duration": 1,
    "start_time": "2025-03-06T18:48:33.703Z"
   },
   {
    "duration": 0,
    "start_time": "2025-03-06T18:48:33.705Z"
   },
   {
    "duration": 0,
    "start_time": "2025-03-06T18:48:33.706Z"
   },
   {
    "duration": 0,
    "start_time": "2025-03-06T18:48:33.708Z"
   },
   {
    "duration": 0,
    "start_time": "2025-03-06T18:48:33.762Z"
   },
   {
    "duration": 0,
    "start_time": "2025-03-06T18:48:33.764Z"
   },
   {
    "duration": 0,
    "start_time": "2025-03-06T18:48:33.766Z"
   },
   {
    "duration": 0,
    "start_time": "2025-03-06T18:48:33.767Z"
   },
   {
    "duration": 0,
    "start_time": "2025-03-06T18:48:33.769Z"
   },
   {
    "duration": 10,
    "start_time": "2025-03-06T18:49:22.925Z"
   },
   {
    "duration": 10,
    "start_time": "2025-03-06T18:49:58.878Z"
   },
   {
    "duration": 4,
    "start_time": "2025-03-06T18:50:00.158Z"
   },
   {
    "duration": 10,
    "start_time": "2025-03-06T18:50:01.421Z"
   },
   {
    "duration": 9,
    "start_time": "2025-03-06T18:50:22.723Z"
   },
   {
    "duration": 2426,
    "start_time": "2025-03-06T18:50:29.437Z"
   },
   {
    "duration": 1263,
    "start_time": "2025-03-06T18:50:31.866Z"
   },
   {
    "duration": 3,
    "start_time": "2025-03-06T18:50:33.131Z"
   },
   {
    "duration": 1865,
    "start_time": "2025-03-06T18:50:33.136Z"
   },
   {
    "duration": 141,
    "start_time": "2025-03-06T18:50:35.003Z"
   },
   {
    "duration": 11,
    "start_time": "2025-03-06T18:50:35.146Z"
   },
   {
    "duration": 22,
    "start_time": "2025-03-06T18:50:35.159Z"
   },
   {
    "duration": 48,
    "start_time": "2025-03-06T18:50:35.182Z"
   },
   {
    "duration": 112,
    "start_time": "2025-03-06T18:50:35.232Z"
   },
   {
    "duration": 110,
    "start_time": "2025-03-06T18:50:35.346Z"
   },
   {
    "duration": 0,
    "start_time": "2025-03-06T18:50:35.458Z"
   },
   {
    "duration": 0,
    "start_time": "2025-03-06T18:50:35.462Z"
   },
   {
    "duration": 0,
    "start_time": "2025-03-06T18:50:35.463Z"
   },
   {
    "duration": 0,
    "start_time": "2025-03-06T18:50:35.464Z"
   },
   {
    "duration": 0,
    "start_time": "2025-03-06T18:50:35.466Z"
   },
   {
    "duration": 0,
    "start_time": "2025-03-06T18:50:35.467Z"
   },
   {
    "duration": 0,
    "start_time": "2025-03-06T18:50:35.468Z"
   },
   {
    "duration": 0,
    "start_time": "2025-03-06T18:50:35.469Z"
   },
   {
    "duration": 0,
    "start_time": "2025-03-06T18:50:35.470Z"
   },
   {
    "duration": 0,
    "start_time": "2025-03-06T18:50:35.471Z"
   },
   {
    "duration": 0,
    "start_time": "2025-03-06T18:50:35.473Z"
   },
   {
    "duration": 0,
    "start_time": "2025-03-06T18:50:35.475Z"
   },
   {
    "duration": 0,
    "start_time": "2025-03-06T18:50:35.477Z"
   },
   {
    "duration": 0,
    "start_time": "2025-03-06T18:50:35.478Z"
   },
   {
    "duration": 0,
    "start_time": "2025-03-06T18:50:35.479Z"
   },
   {
    "duration": 0,
    "start_time": "2025-03-06T18:50:35.481Z"
   },
   {
    "duration": 0,
    "start_time": "2025-03-06T18:50:35.484Z"
   },
   {
    "duration": 0,
    "start_time": "2025-03-06T18:50:35.486Z"
   },
   {
    "duration": 0,
    "start_time": "2025-03-06T18:50:35.487Z"
   },
   {
    "duration": 0,
    "start_time": "2025-03-06T18:50:35.489Z"
   },
   {
    "duration": 0,
    "start_time": "2025-03-06T18:50:35.491Z"
   },
   {
    "duration": 0,
    "start_time": "2025-03-06T18:50:35.493Z"
   },
   {
    "duration": 0,
    "start_time": "2025-03-06T18:50:35.495Z"
   },
   {
    "duration": 0,
    "start_time": "2025-03-06T18:50:35.497Z"
   },
   {
    "duration": 0,
    "start_time": "2025-03-06T18:50:35.499Z"
   },
   {
    "duration": 0,
    "start_time": "2025-03-06T18:50:35.501Z"
   },
   {
    "duration": 0,
    "start_time": "2025-03-06T18:50:35.563Z"
   },
   {
    "duration": 0,
    "start_time": "2025-03-06T18:50:35.565Z"
   },
   {
    "duration": 0,
    "start_time": "2025-03-06T18:50:35.566Z"
   },
   {
    "duration": 0,
    "start_time": "2025-03-06T18:50:35.567Z"
   },
   {
    "duration": 0,
    "start_time": "2025-03-06T18:50:35.568Z"
   },
   {
    "duration": 0,
    "start_time": "2025-03-06T18:50:35.569Z"
   },
   {
    "duration": 0,
    "start_time": "2025-03-06T18:50:35.570Z"
   },
   {
    "duration": 0,
    "start_time": "2025-03-06T18:50:35.571Z"
   },
   {
    "duration": 0,
    "start_time": "2025-03-06T18:50:35.573Z"
   },
   {
    "duration": 0,
    "start_time": "2025-03-06T18:50:35.574Z"
   },
   {
    "duration": 0,
    "start_time": "2025-03-06T18:50:35.575Z"
   },
   {
    "duration": 0,
    "start_time": "2025-03-06T18:50:35.576Z"
   },
   {
    "duration": 0,
    "start_time": "2025-03-06T18:50:35.577Z"
   },
   {
    "duration": 0,
    "start_time": "2025-03-06T18:50:35.578Z"
   },
   {
    "duration": 0,
    "start_time": "2025-03-06T18:50:35.580Z"
   },
   {
    "duration": 0,
    "start_time": "2025-03-06T18:50:35.580Z"
   },
   {
    "duration": 0,
    "start_time": "2025-03-06T18:50:35.581Z"
   },
   {
    "duration": 0,
    "start_time": "2025-03-06T18:50:35.582Z"
   },
   {
    "duration": 3,
    "start_time": "2025-03-06T18:51:23.057Z"
   },
   {
    "duration": 4,
    "start_time": "2025-03-06T18:51:24.234Z"
   },
   {
    "duration": 9,
    "start_time": "2025-03-06T18:51:49.379Z"
   },
   {
    "duration": 4,
    "start_time": "2025-03-06T18:52:07.693Z"
   },
   {
    "duration": 5,
    "start_time": "2025-03-06T18:52:09.431Z"
   },
   {
    "duration": 4,
    "start_time": "2025-03-06T18:52:24.268Z"
   },
   {
    "duration": 11,
    "start_time": "2025-03-06T18:52:25.771Z"
   },
   {
    "duration": 2520,
    "start_time": "2025-03-06T18:52:32.752Z"
   },
   {
    "duration": 1349,
    "start_time": "2025-03-06T18:52:35.275Z"
   },
   {
    "duration": 2,
    "start_time": "2025-03-06T18:52:36.626Z"
   },
   {
    "duration": 1856,
    "start_time": "2025-03-06T18:52:36.630Z"
   },
   {
    "duration": 177,
    "start_time": "2025-03-06T18:52:38.488Z"
   },
   {
    "duration": 13,
    "start_time": "2025-03-06T18:52:38.667Z"
   },
   {
    "duration": 44,
    "start_time": "2025-03-06T18:52:38.682Z"
   },
   {
    "duration": 25,
    "start_time": "2025-03-06T18:52:38.728Z"
   },
   {
    "duration": 119,
    "start_time": "2025-03-06T18:52:38.755Z"
   },
   {
    "duration": 4,
    "start_time": "2025-03-06T18:52:38.875Z"
   },
   {
    "duration": 20,
    "start_time": "2025-03-06T18:52:38.881Z"
   },
   {
    "duration": 90,
    "start_time": "2025-03-06T18:52:38.903Z"
   },
   {
    "duration": 94,
    "start_time": "2025-03-06T18:52:38.995Z"
   },
   {
    "duration": 8,
    "start_time": "2025-03-06T18:52:39.092Z"
   },
   {
    "duration": 91,
    "start_time": "2025-03-06T18:52:39.101Z"
   },
   {
    "duration": 40,
    "start_time": "2025-03-06T18:52:39.194Z"
   },
   {
    "duration": 52,
    "start_time": "2025-03-06T18:52:39.236Z"
   },
   {
    "duration": 117,
    "start_time": "2025-03-06T18:52:39.290Z"
   },
   {
    "duration": 6,
    "start_time": "2025-03-06T18:52:39.409Z"
   },
   {
    "duration": 47,
    "start_time": "2025-03-06T18:52:39.417Z"
   },
   {
    "duration": 19,
    "start_time": "2025-03-06T18:52:39.466Z"
   },
   {
    "duration": 95,
    "start_time": "2025-03-06T18:52:39.487Z"
   },
   {
    "duration": 89,
    "start_time": "2025-03-06T18:52:39.583Z"
   },
   {
    "duration": 217,
    "start_time": "2025-03-06T18:52:39.674Z"
   },
   {
    "duration": 6,
    "start_time": "2025-03-06T18:52:39.893Z"
   },
   {
    "duration": 131,
    "start_time": "2025-03-06T18:52:39.901Z"
   },
   {
    "duration": 95,
    "start_time": "2025-03-06T18:52:40.034Z"
   },
   {
    "duration": 161,
    "start_time": "2025-03-06T18:52:40.130Z"
   },
   {
    "duration": 54,
    "start_time": "2025-03-06T18:52:40.293Z"
   },
   {
    "duration": 32,
    "start_time": "2025-03-06T18:52:40.350Z"
   },
   {
    "duration": 33,
    "start_time": "2025-03-06T18:52:40.384Z"
   },
   {
    "duration": 79,
    "start_time": "2025-03-06T18:52:40.421Z"
   },
   {
    "duration": 342,
    "start_time": "2025-03-06T18:52:40.503Z"
   },
   {
    "duration": 51,
    "start_time": "2025-03-06T18:52:40.847Z"
   },
   {
    "duration": 189,
    "start_time": "2025-03-06T18:52:40.900Z"
   },
   {
    "duration": 18,
    "start_time": "2025-03-06T18:52:41.091Z"
   },
   {
    "duration": 130,
    "start_time": "2025-03-06T18:52:41.111Z"
   },
   {
    "duration": 208,
    "start_time": "2025-03-06T18:52:41.243Z"
   },
   {
    "duration": 98,
    "start_time": "2025-03-06T18:52:41.453Z"
   },
   {
    "duration": 14,
    "start_time": "2025-03-06T18:52:41.553Z"
   },
   {
    "duration": 5,
    "start_time": "2025-03-06T18:52:41.571Z"
   },
   {
    "duration": 20,
    "start_time": "2025-03-06T18:52:41.578Z"
   },
   {
    "duration": 7,
    "start_time": "2025-03-06T18:52:41.600Z"
   },
   {
    "duration": 7,
    "start_time": "2025-03-06T18:52:41.609Z"
   },
   {
    "duration": 136,
    "start_time": "2025-03-06T18:52:41.618Z"
   },
   {
    "duration": 121,
    "start_time": "2025-03-06T18:52:41.756Z"
   },
   {
    "duration": 141,
    "start_time": "2025-03-06T18:52:41.880Z"
   },
   {
    "duration": 48,
    "start_time": "2025-03-06T18:52:42.023Z"
   },
   {
    "duration": 15,
    "start_time": "2025-03-06T18:52:42.073Z"
   },
   {
    "duration": 9,
    "start_time": "2025-03-06T18:52:42.090Z"
   },
   {
    "duration": 89,
    "start_time": "2025-03-06T18:52:42.101Z"
   },
   {
    "duration": 48,
    "start_time": "2025-03-06T18:52:42.191Z"
   },
   {
    "duration": 21,
    "start_time": "2025-03-06T18:52:42.241Z"
   },
   {
    "duration": 178,
    "start_time": "2025-03-06T18:55:57.061Z"
   },
   {
    "duration": 26,
    "start_time": "2025-03-06T19:10:37.057Z"
   },
   {
    "duration": 3,
    "start_time": "2025-03-06T19:21:51.267Z"
   },
   {
    "duration": 5,
    "start_time": "2025-03-06T19:21:51.888Z"
   },
   {
    "duration": 2427,
    "start_time": "2025-03-06T19:21:59.343Z"
   },
   {
    "duration": 1244,
    "start_time": "2025-03-06T19:22:01.773Z"
   },
   {
    "duration": 3,
    "start_time": "2025-03-06T19:22:03.019Z"
   },
   {
    "duration": 2441,
    "start_time": "2025-03-06T19:22:03.024Z"
   },
   {
    "duration": 178,
    "start_time": "2025-03-06T19:22:05.467Z"
   },
   {
    "duration": 38,
    "start_time": "2025-03-06T19:22:05.646Z"
   },
   {
    "duration": 69,
    "start_time": "2025-03-06T19:22:05.686Z"
   },
   {
    "duration": 395,
    "start_time": "2025-03-06T19:22:05.757Z"
   },
   {
    "duration": 135,
    "start_time": "2025-03-06T19:22:06.154Z"
   },
   {
    "duration": 4,
    "start_time": "2025-03-06T19:22:06.290Z"
   },
   {
    "duration": 17,
    "start_time": "2025-03-06T19:22:06.296Z"
   },
   {
    "duration": 21,
    "start_time": "2025-03-06T19:22:06.314Z"
   },
   {
    "duration": 62,
    "start_time": "2025-03-06T19:22:06.336Z"
   },
   {
    "duration": 7,
    "start_time": "2025-03-06T19:22:06.402Z"
   },
   {
    "duration": 47,
    "start_time": "2025-03-06T19:22:06.411Z"
   },
   {
    "duration": 15,
    "start_time": "2025-03-06T19:22:06.460Z"
   },
   {
    "duration": 26,
    "start_time": "2025-03-06T19:22:06.477Z"
   },
   {
    "duration": 81,
    "start_time": "2025-03-06T19:22:06.506Z"
   },
   {
    "duration": 7,
    "start_time": "2025-03-06T19:22:06.589Z"
   },
   {
    "duration": 26,
    "start_time": "2025-03-06T19:22:06.597Z"
   },
   {
    "duration": 59,
    "start_time": "2025-03-06T19:22:06.625Z"
   },
   {
    "duration": 66,
    "start_time": "2025-03-06T19:22:06.686Z"
   },
   {
    "duration": 122,
    "start_time": "2025-03-06T19:22:06.754Z"
   },
   {
    "duration": 51,
    "start_time": "2025-03-06T19:22:06.878Z"
   },
   {
    "duration": 40,
    "start_time": "2025-03-06T19:22:06.930Z"
   },
   {
    "duration": 25,
    "start_time": "2025-03-06T19:22:06.971Z"
   },
   {
    "duration": 66,
    "start_time": "2025-03-06T19:22:06.998Z"
   },
   {
    "duration": 50,
    "start_time": "2025-03-06T19:22:07.066Z"
   },
   {
    "duration": 49,
    "start_time": "2025-03-06T19:22:07.118Z"
   },
   {
    "duration": 27,
    "start_time": "2025-03-06T19:22:07.168Z"
   },
   {
    "duration": 42,
    "start_time": "2025-03-06T19:22:07.197Z"
   },
   {
    "duration": 46,
    "start_time": "2025-03-06T19:22:07.241Z"
   },
   {
    "duration": 520,
    "start_time": "2025-03-06T19:22:07.288Z"
   },
   {
    "duration": 35,
    "start_time": "2025-03-06T19:22:07.810Z"
   },
   {
    "duration": 319,
    "start_time": "2025-03-06T19:22:07.861Z"
   },
   {
    "duration": 17,
    "start_time": "2025-03-06T19:22:08.183Z"
   },
   {
    "duration": 124,
    "start_time": "2025-03-06T19:22:08.202Z"
   },
   {
    "duration": 75,
    "start_time": "2025-03-06T19:22:08.329Z"
   },
   {
    "duration": 97,
    "start_time": "2025-03-06T19:22:08.406Z"
   },
   {
    "duration": 9,
    "start_time": "2025-03-06T19:22:08.504Z"
   },
   {
    "duration": 45,
    "start_time": "2025-03-06T19:22:08.518Z"
   },
   {
    "duration": 93,
    "start_time": "2025-03-06T19:22:08.564Z"
   },
   {
    "duration": 34,
    "start_time": "2025-03-06T19:22:08.659Z"
   },
   {
    "duration": 105,
    "start_time": "2025-03-06T19:22:08.695Z"
   },
   {
    "duration": 46,
    "start_time": "2025-03-06T19:22:08.802Z"
   },
   {
    "duration": 44,
    "start_time": "2025-03-06T19:22:08.849Z"
   },
   {
    "duration": 42,
    "start_time": "2025-03-06T19:22:08.894Z"
   },
   {
    "duration": 77,
    "start_time": "2025-03-06T19:22:08.938Z"
   },
   {
    "duration": 25,
    "start_time": "2025-03-06T19:22:09.017Z"
   },
   {
    "duration": 18,
    "start_time": "2025-03-06T19:22:09.044Z"
   },
   {
    "duration": 54,
    "start_time": "2025-03-06T19:22:09.064Z"
   },
   {
    "duration": 45,
    "start_time": "2025-03-06T19:22:09.120Z"
   },
   {
    "duration": 16,
    "start_time": "2025-03-06T19:22:09.167Z"
   },
   {
    "duration": 53,
    "start_time": "2025-03-06T19:22:09.185Z"
   },
   {
    "duration": 107,
    "start_time": "2025-03-06T19:22:46.469Z"
   },
   {
    "duration": 46,
    "start_time": "2025-03-06T19:23:15.462Z"
   },
   {
    "duration": 12,
    "start_time": "2025-03-06T19:27:22.420Z"
   },
   {
    "duration": 322,
    "start_time": "2025-03-06T19:28:40.806Z"
   },
   {
    "duration": 327,
    "start_time": "2025-03-06T19:31:58.976Z"
   },
   {
    "duration": 18,
    "start_time": "2025-03-06T19:32:20.649Z"
   },
   {
    "duration": 14,
    "start_time": "2025-03-06T19:33:34.495Z"
   },
   {
    "duration": 59,
    "start_time": "2025-03-06T19:37:12.116Z"
   },
   {
    "duration": 47,
    "start_time": "2025-03-07T06:08:18.742Z"
   },
   {
    "duration": 3352,
    "start_time": "2025-03-07T06:08:27.945Z"
   },
   {
    "duration": 1357,
    "start_time": "2025-03-07T06:08:31.299Z"
   },
   {
    "duration": 3,
    "start_time": "2025-03-07T06:08:32.658Z"
   },
   {
    "duration": 1872,
    "start_time": "2025-03-07T06:08:32.663Z"
   },
   {
    "duration": 161,
    "start_time": "2025-03-07T06:08:34.536Z"
   },
   {
    "duration": 11,
    "start_time": "2025-03-07T06:08:34.699Z"
   },
   {
    "duration": 28,
    "start_time": "2025-03-07T06:08:34.712Z"
   },
   {
    "duration": 121,
    "start_time": "2025-03-07T06:08:34.742Z"
   },
   {
    "duration": 116,
    "start_time": "2025-03-07T06:08:34.864Z"
   },
   {
    "duration": 3,
    "start_time": "2025-03-07T06:08:34.983Z"
   },
   {
    "duration": 93,
    "start_time": "2025-03-07T06:08:34.988Z"
   },
   {
    "duration": 61,
    "start_time": "2025-03-07T06:08:35.083Z"
   },
   {
    "duration": 67,
    "start_time": "2025-03-07T06:08:35.145Z"
   },
   {
    "duration": 9,
    "start_time": "2025-03-07T06:08:35.213Z"
   },
   {
    "duration": 65,
    "start_time": "2025-03-07T06:08:35.224Z"
   },
   {
    "duration": 31,
    "start_time": "2025-03-07T06:08:35.291Z"
   },
   {
    "duration": 49,
    "start_time": "2025-03-07T06:08:35.324Z"
   },
   {
    "duration": 95,
    "start_time": "2025-03-07T06:08:35.374Z"
   },
   {
    "duration": 6,
    "start_time": "2025-03-07T06:08:35.471Z"
   },
   {
    "duration": 131,
    "start_time": "2025-03-07T06:08:35.479Z"
   },
   {
    "duration": 34,
    "start_time": "2025-03-07T06:08:35.612Z"
   },
   {
    "duration": 129,
    "start_time": "2025-03-07T06:08:35.648Z"
   },
   {
    "duration": 64,
    "start_time": "2025-03-07T06:08:35.779Z"
   },
   {
    "duration": 64,
    "start_time": "2025-03-07T06:08:35.844Z"
   },
   {
    "duration": 21,
    "start_time": "2025-03-07T06:08:35.910Z"
   },
   {
    "duration": 64,
    "start_time": "2025-03-07T06:08:35.933Z"
   },
   {
    "duration": 24,
    "start_time": "2025-03-07T06:08:35.999Z"
   },
   {
    "duration": 22,
    "start_time": "2025-03-07T06:08:36.027Z"
   },
   {
    "duration": 36,
    "start_time": "2025-03-07T06:08:36.051Z"
   },
   {
    "duration": 70,
    "start_time": "2025-03-07T06:08:36.089Z"
   },
   {
    "duration": 72,
    "start_time": "2025-03-07T06:08:36.161Z"
   },
   {
    "duration": 242,
    "start_time": "2025-03-07T06:08:36.235Z"
   },
   {
    "duration": 339,
    "start_time": "2025-03-07T06:08:36.479Z"
   },
   {
    "duration": 43,
    "start_time": "2025-03-07T06:08:36.820Z"
   },
   {
    "duration": 164,
    "start_time": "2025-03-07T06:08:36.865Z"
   },
   {
    "duration": 19,
    "start_time": "2025-03-07T06:08:37.030Z"
   },
   {
    "duration": 186,
    "start_time": "2025-03-07T06:08:37.050Z"
   },
   {
    "duration": 70,
    "start_time": "2025-03-07T06:08:37.238Z"
   },
   {
    "duration": 88,
    "start_time": "2025-03-07T06:08:37.310Z"
   },
   {
    "duration": 6,
    "start_time": "2025-03-07T06:08:37.400Z"
   },
   {
    "duration": 38,
    "start_time": "2025-03-07T06:08:37.408Z"
   },
   {
    "duration": 223,
    "start_time": "2025-03-07T06:08:37.448Z"
   },
   {
    "duration": 20,
    "start_time": "2025-03-07T06:08:37.673Z"
   },
   {
    "duration": 43,
    "start_time": "2025-03-07T06:08:37.694Z"
   },
   {
    "duration": 46,
    "start_time": "2025-03-07T06:08:37.738Z"
   },
   {
    "duration": 39,
    "start_time": "2025-03-07T06:08:37.785Z"
   },
   {
    "duration": 56,
    "start_time": "2025-03-07T06:08:37.826Z"
   },
   {
    "duration": 83,
    "start_time": "2025-03-07T06:08:37.884Z"
   },
   {
    "duration": 18,
    "start_time": "2025-03-07T06:08:37.968Z"
   },
   {
    "duration": 5,
    "start_time": "2025-03-07T06:08:37.988Z"
   },
   {
    "duration": 52,
    "start_time": "2025-03-07T06:08:37.994Z"
   },
   {
    "duration": 42,
    "start_time": "2025-03-07T06:08:38.048Z"
   },
   {
    "duration": 19,
    "start_time": "2025-03-07T06:08:38.091Z"
   },
   {
    "duration": 52,
    "start_time": "2025-03-07T06:08:38.112Z"
   },
   {
    "duration": 352,
    "start_time": "2025-03-07T06:08:38.166Z"
   },
   {
    "duration": 15,
    "start_time": "2025-03-07T06:08:38.520Z"
   },
   {
    "duration": 101,
    "start_time": "2025-03-07T06:08:38.537Z"
   },
   {
    "duration": 54,
    "start_time": "2025-03-07T06:08:38.640Z"
   },
   {
    "duration": 153,
    "start_time": "2025-03-07T06:08:38.696Z"
   },
   {
    "duration": 94,
    "start_time": "2025-03-07T06:08:38.850Z"
   },
   {
    "duration": 388,
    "start_time": "2025-03-07T08:28:54.099Z"
   },
   {
    "duration": 5,
    "start_time": "2025-03-07T08:29:05.864Z"
   },
   {
    "duration": 9,
    "start_time": "2025-03-07T08:43:27.061Z"
   },
   {
    "duration": 58,
    "start_time": "2025-03-07T08:43:38.142Z"
   },
   {
    "duration": 181,
    "start_time": "2025-03-07T08:44:19.034Z"
   },
   {
    "duration": 46,
    "start_time": "2025-03-07T08:45:28.121Z"
   },
   {
    "duration": 31,
    "start_time": "2025-03-07T08:45:42.412Z"
   },
   {
    "duration": 198,
    "start_time": "2025-03-07T08:46:40.766Z"
   },
   {
    "duration": 48,
    "start_time": "2025-03-07T08:49:24.302Z"
   },
   {
    "duration": 15,
    "start_time": "2025-03-07T08:50:35.895Z"
   },
   {
    "duration": 72,
    "start_time": "2025-03-07T08:50:44.551Z"
   },
   {
    "duration": 47,
    "start_time": "2025-03-07T08:51:02.084Z"
   },
   {
    "duration": 75,
    "start_time": "2025-03-07T08:51:09.571Z"
   },
   {
    "duration": 79,
    "start_time": "2025-03-07T08:55:20.218Z"
   },
   {
    "duration": 147,
    "start_time": "2025-03-07T08:55:35.561Z"
   },
   {
    "duration": 6,
    "start_time": "2025-03-07T08:58:34.739Z"
   },
   {
    "duration": 22,
    "start_time": "2025-03-07T09:09:50.029Z"
   },
   {
    "duration": 6,
    "start_time": "2025-03-07T09:10:07.933Z"
   },
   {
    "duration": 140,
    "start_time": "2025-03-07T09:10:32.955Z"
   },
   {
    "duration": 5,
    "start_time": "2025-03-07T09:11:06.851Z"
   },
   {
    "duration": 76,
    "start_time": "2025-03-07T09:14:18.541Z"
   },
   {
    "duration": 133,
    "start_time": "2025-03-07T09:22:45.297Z"
   },
   {
    "duration": 131,
    "start_time": "2025-03-07T09:26:33.661Z"
   },
   {
    "duration": 121,
    "start_time": "2025-03-07T09:27:03.174Z"
   },
   {
    "duration": 115,
    "start_time": "2025-03-07T10:29:18.942Z"
   },
   {
    "duration": 2601,
    "start_time": "2025-03-07T10:29:26.147Z"
   },
   {
    "duration": 1283,
    "start_time": "2025-03-07T10:29:28.751Z"
   },
   {
    "duration": 3,
    "start_time": "2025-03-07T10:29:30.036Z"
   },
   {
    "duration": 2381,
    "start_time": "2025-03-07T10:29:30.041Z"
   },
   {
    "duration": 153,
    "start_time": "2025-03-07T10:29:32.424Z"
   },
   {
    "duration": 13,
    "start_time": "2025-03-07T10:29:32.579Z"
   },
   {
    "duration": 28,
    "start_time": "2025-03-07T10:29:32.593Z"
   },
   {
    "duration": 25,
    "start_time": "2025-03-07T10:29:32.622Z"
   },
   {
    "duration": 117,
    "start_time": "2025-03-07T10:29:32.649Z"
   },
   {
    "duration": 4,
    "start_time": "2025-03-07T10:29:32.768Z"
   },
   {
    "duration": 35,
    "start_time": "2025-03-07T10:29:32.774Z"
   },
   {
    "duration": 17,
    "start_time": "2025-03-07T10:29:32.811Z"
   },
   {
    "duration": 223,
    "start_time": "2025-03-07T10:29:32.830Z"
   },
   {
    "duration": 159,
    "start_time": "2025-03-07T10:29:33.054Z"
   },
   {
    "duration": 32,
    "start_time": "2025-03-07T10:29:33.215Z"
   },
   {
    "duration": 33,
    "start_time": "2025-03-07T10:29:33.249Z"
   },
   {
    "duration": 61,
    "start_time": "2025-03-07T10:29:33.284Z"
   },
   {
    "duration": 111,
    "start_time": "2025-03-07T10:29:33.347Z"
   },
   {
    "duration": 7,
    "start_time": "2025-03-07T10:29:33.459Z"
   },
   {
    "duration": 35,
    "start_time": "2025-03-07T10:29:33.467Z"
   },
   {
    "duration": 233,
    "start_time": "2025-03-07T10:29:33.504Z"
   },
   {
    "duration": 93,
    "start_time": "2025-03-07T10:29:33.740Z"
   },
   {
    "duration": 110,
    "start_time": "2025-03-07T10:29:33.834Z"
   },
   {
    "duration": 102,
    "start_time": "2025-03-07T10:29:33.946Z"
   },
   {
    "duration": 18,
    "start_time": "2025-03-07T10:29:34.049Z"
   },
   {
    "duration": 66,
    "start_time": "2025-03-07T10:29:34.069Z"
   },
   {
    "duration": 33,
    "start_time": "2025-03-07T10:29:34.136Z"
   },
   {
    "duration": 210,
    "start_time": "2025-03-07T10:29:34.173Z"
   },
   {
    "duration": 92,
    "start_time": "2025-03-07T10:29:34.385Z"
   },
   {
    "duration": 82,
    "start_time": "2025-03-07T10:29:34.478Z"
   },
   {
    "duration": 90,
    "start_time": "2025-03-07T10:29:34.562Z"
   },
   {
    "duration": 54,
    "start_time": "2025-03-07T10:29:34.654Z"
   },
   {
    "duration": 327,
    "start_time": "2025-03-07T10:29:34.710Z"
   },
   {
    "duration": 44,
    "start_time": "2025-03-07T10:29:35.038Z"
   },
   {
    "duration": 172,
    "start_time": "2025-03-07T10:29:35.083Z"
   },
   {
    "duration": 125,
    "start_time": "2025-03-07T10:29:35.256Z"
   },
   {
    "duration": 146,
    "start_time": "2025-03-07T10:29:35.383Z"
   },
   {
    "duration": 76,
    "start_time": "2025-03-07T10:29:35.531Z"
   },
   {
    "duration": 314,
    "start_time": "2025-03-07T10:29:35.608Z"
   },
   {
    "duration": 99,
    "start_time": "2025-03-07T10:29:35.924Z"
   },
   {
    "duration": 50,
    "start_time": "2025-03-07T10:29:36.025Z"
   },
   {
    "duration": 76,
    "start_time": "2025-03-07T10:29:36.077Z"
   },
   {
    "duration": 104,
    "start_time": "2025-03-07T10:29:36.155Z"
   },
   {
    "duration": 66,
    "start_time": "2025-03-07T10:29:36.261Z"
   },
   {
    "duration": 45,
    "start_time": "2025-03-07T10:29:36.328Z"
   },
   {
    "duration": 45,
    "start_time": "2025-03-07T10:29:36.375Z"
   },
   {
    "duration": 28,
    "start_time": "2025-03-07T10:29:36.422Z"
   },
   {
    "duration": 99,
    "start_time": "2025-03-07T10:29:36.452Z"
   },
   {
    "duration": 62,
    "start_time": "2025-03-07T10:29:36.553Z"
   },
   {
    "duration": 48,
    "start_time": "2025-03-07T10:29:36.617Z"
   },
   {
    "duration": 82,
    "start_time": "2025-03-07T10:29:36.667Z"
   },
   {
    "duration": 55,
    "start_time": "2025-03-07T10:29:36.751Z"
   },
   {
    "duration": 10,
    "start_time": "2025-03-07T10:29:36.808Z"
   },
   {
    "duration": 26,
    "start_time": "2025-03-07T10:29:36.820Z"
   },
   {
    "duration": 350,
    "start_time": "2025-03-07T10:29:36.849Z"
   },
   {
    "duration": 16,
    "start_time": "2025-03-07T10:29:37.200Z"
   },
   {
    "duration": 75,
    "start_time": "2025-03-07T10:29:37.218Z"
   },
   {
    "duration": 23,
    "start_time": "2025-03-07T10:29:37.295Z"
   },
   {
    "duration": 3,
    "start_time": "2025-03-07T10:29:37.320Z"
   },
   {
    "duration": 212,
    "start_time": "2025-03-07T10:29:37.324Z"
   },
   {
    "duration": 44,
    "start_time": "2025-03-07T10:29:37.538Z"
   },
   {
    "duration": 313,
    "start_time": "2025-03-07T10:29:37.584Z"
   },
   {
    "duration": 87,
    "start_time": "2025-03-07T10:29:37.899Z"
   },
   {
    "duration": 128,
    "start_time": "2025-03-07T10:29:37.988Z"
   },
   {
    "duration": 121,
    "start_time": "2025-03-07T10:29:38.118Z"
   },
   {
    "duration": 5,
    "start_time": "2025-03-07T10:29:38.240Z"
   },
   {
    "duration": 71,
    "start_time": "2025-03-07T10:29:38.246Z"
   },
   {
    "duration": 58,
    "start_time": "2025-03-07T10:29:38.318Z"
   },
   {
    "duration": 13,
    "start_time": "2025-03-07T10:29:38.378Z"
   },
   {
    "duration": 76,
    "start_time": "2025-03-07T10:29:38.392Z"
   },
   {
    "duration": 52,
    "start_time": "2025-03-07T10:41:30.302Z"
   },
   {
    "duration": 66,
    "start_time": "2025-03-07T10:41:39.306Z"
   },
   {
    "duration": 113,
    "start_time": "2025-03-07T10:41:40.326Z"
   },
   {
    "duration": 5,
    "start_time": "2025-03-07T10:41:44.060Z"
   },
   {
    "duration": 37,
    "start_time": "2025-03-07T10:42:37.733Z"
   },
   {
    "duration": 7,
    "start_time": "2025-03-07T10:42:48.547Z"
   },
   {
    "duration": 2538,
    "start_time": "2025-03-07T10:43:09.977Z"
   },
   {
    "duration": 1269,
    "start_time": "2025-03-07T10:43:12.518Z"
   },
   {
    "duration": 3,
    "start_time": "2025-03-07T10:43:13.789Z"
   },
   {
    "duration": 2096,
    "start_time": "2025-03-07T10:43:13.794Z"
   },
   {
    "duration": 174,
    "start_time": "2025-03-07T10:43:15.892Z"
   },
   {
    "duration": 12,
    "start_time": "2025-03-07T10:43:16.068Z"
   },
   {
    "duration": 11,
    "start_time": "2025-03-07T10:43:16.082Z"
   },
   {
    "duration": 25,
    "start_time": "2025-03-07T10:43:16.095Z"
   },
   {
    "duration": 134,
    "start_time": "2025-03-07T10:43:16.122Z"
   },
   {
    "duration": 4,
    "start_time": "2025-03-07T10:43:16.261Z"
   },
   {
    "duration": 39,
    "start_time": "2025-03-07T10:43:16.266Z"
   },
   {
    "duration": 77,
    "start_time": "2025-03-07T10:43:16.306Z"
   },
   {
    "duration": 40,
    "start_time": "2025-03-07T10:43:16.385Z"
   },
   {
    "duration": 8,
    "start_time": "2025-03-07T10:43:16.427Z"
   },
   {
    "duration": 28,
    "start_time": "2025-03-07T10:43:16.436Z"
   },
   {
    "duration": 15,
    "start_time": "2025-03-07T10:43:16.465Z"
   },
   {
    "duration": 54,
    "start_time": "2025-03-07T10:43:16.482Z"
   },
   {
    "duration": 74,
    "start_time": "2025-03-07T10:43:16.538Z"
   },
   {
    "duration": 5,
    "start_time": "2025-03-07T10:43:16.614Z"
   },
   {
    "duration": 22,
    "start_time": "2025-03-07T10:43:16.621Z"
   },
   {
    "duration": 14,
    "start_time": "2025-03-07T10:43:16.645Z"
   },
   {
    "duration": 59,
    "start_time": "2025-03-07T10:43:16.661Z"
   },
   {
    "duration": 69,
    "start_time": "2025-03-07T10:43:16.721Z"
   },
   {
    "duration": 49,
    "start_time": "2025-03-07T10:43:16.792Z"
   },
   {
    "duration": 5,
    "start_time": "2025-03-07T10:43:16.843Z"
   },
   {
    "duration": 30,
    "start_time": "2025-03-07T10:43:16.850Z"
   },
   {
    "duration": 9,
    "start_time": "2025-03-07T10:43:16.882Z"
   },
   {
    "duration": 15,
    "start_time": "2025-03-07T10:43:16.895Z"
   },
   {
    "duration": 8,
    "start_time": "2025-03-07T10:43:16.912Z"
   },
   {
    "duration": 40,
    "start_time": "2025-03-07T10:43:16.922Z"
   },
   {
    "duration": 41,
    "start_time": "2025-03-07T10:43:16.964Z"
   },
   {
    "duration": 49,
    "start_time": "2025-03-07T10:43:17.007Z"
   },
   {
    "duration": 295,
    "start_time": "2025-03-07T10:43:17.058Z"
   },
   {
    "duration": 41,
    "start_time": "2025-03-07T10:43:17.355Z"
   },
   {
    "duration": 205,
    "start_time": "2025-03-07T10:43:17.398Z"
   },
   {
    "duration": 19,
    "start_time": "2025-03-07T10:43:17.605Z"
   },
   {
    "duration": 249,
    "start_time": "2025-03-07T10:43:17.626Z"
   },
   {
    "duration": 72,
    "start_time": "2025-03-07T10:43:17.877Z"
   },
   {
    "duration": 82,
    "start_time": "2025-03-07T10:43:17.961Z"
   },
   {
    "duration": 53,
    "start_time": "2025-03-07T10:43:18.045Z"
   },
   {
    "duration": 33,
    "start_time": "2025-03-07T10:43:18.100Z"
   },
   {
    "duration": 52,
    "start_time": "2025-03-07T10:43:18.135Z"
   },
   {
    "duration": 14,
    "start_time": "2025-03-07T10:43:18.188Z"
   },
   {
    "duration": 9,
    "start_time": "2025-03-07T10:43:18.204Z"
   },
   {
    "duration": 22,
    "start_time": "2025-03-07T10:43:18.214Z"
   },
   {
    "duration": 13,
    "start_time": "2025-03-07T10:43:18.238Z"
   },
   {
    "duration": 5,
    "start_time": "2025-03-07T10:43:18.253Z"
   },
   {
    "duration": 41,
    "start_time": "2025-03-07T10:43:18.262Z"
   },
   {
    "duration": 100,
    "start_time": "2025-03-07T10:43:18.304Z"
   },
   {
    "duration": 18,
    "start_time": "2025-03-07T10:43:18.406Z"
   },
   {
    "duration": 53,
    "start_time": "2025-03-07T10:43:18.425Z"
   },
   {
    "duration": 43,
    "start_time": "2025-03-07T10:43:18.480Z"
   },
   {
    "duration": 8,
    "start_time": "2025-03-07T10:43:18.525Z"
   },
   {
    "duration": 46,
    "start_time": "2025-03-07T10:43:18.534Z"
   },
   {
    "duration": 341,
    "start_time": "2025-03-07T10:43:18.582Z"
   },
   {
    "duration": 17,
    "start_time": "2025-03-07T10:43:18.925Z"
   },
   {
    "duration": 74,
    "start_time": "2025-03-07T10:43:18.944Z"
   },
   {
    "duration": 25,
    "start_time": "2025-03-07T10:43:19.019Z"
   },
   {
    "duration": 16,
    "start_time": "2025-03-07T10:43:19.046Z"
   },
   {
    "duration": 268,
    "start_time": "2025-03-07T10:43:19.064Z"
   },
   {
    "duration": 31,
    "start_time": "2025-03-07T10:43:19.334Z"
   },
   {
    "duration": 296,
    "start_time": "2025-03-07T10:43:19.367Z"
   },
   {
    "duration": 98,
    "start_time": "2025-03-07T10:43:19.665Z"
   },
   {
    "duration": 183,
    "start_time": "2025-03-07T10:43:19.764Z"
   },
   {
    "duration": 116,
    "start_time": "2025-03-07T10:43:19.949Z"
   },
   {
    "duration": 5,
    "start_time": "2025-03-07T10:43:20.067Z"
   },
   {
    "duration": 34,
    "start_time": "2025-03-07T10:43:20.073Z"
   },
   {
    "duration": 47,
    "start_time": "2025-03-07T10:43:20.109Z"
   },
   {
    "duration": 101,
    "start_time": "2025-03-07T10:43:20.157Z"
   },
   {
    "duration": 7,
    "start_time": "2025-03-07T10:43:20.260Z"
   },
   {
    "duration": 182,
    "start_time": "2025-03-07T10:43:20.268Z"
   },
   {
    "duration": 108,
    "start_time": "2025-03-07T10:46:22.992Z"
   },
   {
    "duration": 12,
    "start_time": "2025-03-07T10:46:39.685Z"
   },
   {
    "duration": 70,
    "start_time": "2025-03-07T10:47:37.295Z"
   },
   {
    "duration": 6,
    "start_time": "2025-03-07T10:48:23.206Z"
   },
   {
    "duration": 15,
    "start_time": "2025-03-07T11:27:01.079Z"
   },
   {
    "duration": 148,
    "start_time": "2025-03-07T12:16:57.542Z"
   },
   {
    "duration": 18,
    "start_time": "2025-03-07T12:28:42.865Z"
   },
   {
    "duration": 17,
    "start_time": "2025-03-07T12:28:58.866Z"
   },
   {
    "duration": 150,
    "start_time": "2025-03-07T12:29:15.210Z"
   },
   {
    "duration": 179,
    "start_time": "2025-03-07T12:29:33.777Z"
   },
   {
    "duration": 123,
    "start_time": "2025-03-07T12:29:44.159Z"
   },
   {
    "duration": 95,
    "start_time": "2025-03-07T12:31:53.295Z"
   },
   {
    "duration": 2600,
    "start_time": "2025-03-07T12:37:33.995Z"
   },
   {
    "duration": 1266,
    "start_time": "2025-03-07T12:37:36.599Z"
   },
   {
    "duration": 3,
    "start_time": "2025-03-07T12:37:37.867Z"
   },
   {
    "duration": 2180,
    "start_time": "2025-03-07T12:37:37.872Z"
   },
   {
    "duration": 250,
    "start_time": "2025-03-07T12:37:40.054Z"
   },
   {
    "duration": 15,
    "start_time": "2025-03-07T12:37:40.306Z"
   },
   {
    "duration": 22,
    "start_time": "2025-03-07T12:37:40.323Z"
   },
   {
    "duration": 32,
    "start_time": "2025-03-07T12:37:40.347Z"
   },
   {
    "duration": 111,
    "start_time": "2025-03-07T12:37:40.381Z"
   },
   {
    "duration": 3,
    "start_time": "2025-03-07T12:37:40.494Z"
   },
   {
    "duration": 14,
    "start_time": "2025-03-07T12:37:40.498Z"
   },
   {
    "duration": 27,
    "start_time": "2025-03-07T12:37:40.513Z"
   },
   {
    "duration": 48,
    "start_time": "2025-03-07T12:37:40.541Z"
   },
   {
    "duration": 8,
    "start_time": "2025-03-07T12:37:40.592Z"
   },
   {
    "duration": 136,
    "start_time": "2025-03-07T12:37:40.601Z"
   },
   {
    "duration": 104,
    "start_time": "2025-03-07T12:37:40.739Z"
   },
   {
    "duration": 40,
    "start_time": "2025-03-07T12:37:40.845Z"
   },
   {
    "duration": 85,
    "start_time": "2025-03-07T12:37:40.887Z"
   },
   {
    "duration": 5,
    "start_time": "2025-03-07T12:37:40.974Z"
   },
   {
    "duration": 10,
    "start_time": "2025-03-07T12:37:40.981Z"
   },
   {
    "duration": 20,
    "start_time": "2025-03-07T12:37:40.993Z"
   },
   {
    "duration": 70,
    "start_time": "2025-03-07T12:37:41.015Z"
   },
   {
    "duration": 78,
    "start_time": "2025-03-07T12:37:41.087Z"
   },
   {
    "duration": 51,
    "start_time": "2025-03-07T12:37:41.167Z"
   },
   {
    "duration": 5,
    "start_time": "2025-03-07T12:37:41.220Z"
   },
   {
    "duration": 43,
    "start_time": "2025-03-07T12:37:41.227Z"
   },
   {
    "duration": 7,
    "start_time": "2025-03-07T12:37:41.272Z"
   },
   {
    "duration": 18,
    "start_time": "2025-03-07T12:37:41.280Z"
   },
   {
    "duration": 88,
    "start_time": "2025-03-07T12:37:41.300Z"
   },
   {
    "duration": 62,
    "start_time": "2025-03-07T12:37:41.390Z"
   },
   {
    "duration": 152,
    "start_time": "2025-03-07T12:37:41.454Z"
   },
   {
    "duration": 89,
    "start_time": "2025-03-07T12:37:41.608Z"
   },
   {
    "duration": 17,
    "start_time": "2025-03-07T12:37:41.700Z"
   },
   {
    "duration": 48,
    "start_time": "2025-03-07T12:37:41.719Z"
   },
   {
    "duration": 54,
    "start_time": "2025-03-07T12:37:41.769Z"
   },
   {
    "duration": 313,
    "start_time": "2025-03-07T12:37:41.824Z"
   },
   {
    "duration": 45,
    "start_time": "2025-03-07T12:37:42.139Z"
   },
   {
    "duration": 177,
    "start_time": "2025-03-07T12:37:42.186Z"
   },
   {
    "duration": 24,
    "start_time": "2025-03-07T12:37:42.365Z"
   },
   {
    "duration": 118,
    "start_time": "2025-03-07T12:37:42.392Z"
   },
   {
    "duration": 77,
    "start_time": "2025-03-07T12:37:42.515Z"
   },
   {
    "duration": 92,
    "start_time": "2025-03-07T12:37:42.594Z"
   },
   {
    "duration": 165,
    "start_time": "2025-03-07T12:37:42.688Z"
   },
   {
    "duration": 24,
    "start_time": "2025-03-07T12:37:42.855Z"
   },
   {
    "duration": 53,
    "start_time": "2025-03-07T12:37:42.881Z"
   },
   {
    "duration": 11,
    "start_time": "2025-03-07T12:37:42.936Z"
   },
   {
    "duration": 19,
    "start_time": "2025-03-07T12:37:42.949Z"
   },
   {
    "duration": 36,
    "start_time": "2025-03-07T12:37:42.970Z"
   },
   {
    "duration": 13,
    "start_time": "2025-03-07T12:37:43.008Z"
   },
   {
    "duration": 15,
    "start_time": "2025-03-07T12:37:43.023Z"
   },
   {
    "duration": 37,
    "start_time": "2025-03-07T12:37:43.040Z"
   },
   {
    "duration": 19,
    "start_time": "2025-03-07T12:37:43.079Z"
   },
   {
    "duration": 6,
    "start_time": "2025-03-07T12:37:43.099Z"
   },
   {
    "duration": 39,
    "start_time": "2025-03-07T12:37:43.107Z"
   },
   {
    "duration": 53,
    "start_time": "2025-03-07T12:37:43.147Z"
   },
   {
    "duration": 7,
    "start_time": "2025-03-07T12:37:43.201Z"
   },
   {
    "duration": 69,
    "start_time": "2025-03-07T12:37:43.211Z"
   },
   {
    "duration": 398,
    "start_time": "2025-03-07T12:37:43.282Z"
   },
   {
    "duration": 19,
    "start_time": "2025-03-07T12:37:43.682Z"
   },
   {
    "duration": 80,
    "start_time": "2025-03-07T12:37:43.703Z"
   },
   {
    "duration": 25,
    "start_time": "2025-03-07T12:37:43.785Z"
   },
   {
    "duration": 5,
    "start_time": "2025-03-07T12:37:43.812Z"
   },
   {
    "duration": 151,
    "start_time": "2025-03-07T12:37:43.819Z"
   },
   {
    "duration": 33,
    "start_time": "2025-03-07T12:37:43.972Z"
   },
   {
    "duration": 255,
    "start_time": "2025-03-07T12:37:44.007Z"
   },
   {
    "duration": 51,
    "start_time": "2025-03-07T12:37:44.264Z"
   },
   {
    "duration": 117,
    "start_time": "2025-03-07T12:37:44.316Z"
   },
   {
    "duration": 139,
    "start_time": "2025-03-07T12:37:44.436Z"
   },
   {
    "duration": 6,
    "start_time": "2025-03-07T12:37:44.576Z"
   },
   {
    "duration": 205,
    "start_time": "2025-03-07T12:37:44.583Z"
   },
   {
    "duration": 96,
    "start_time": "2025-03-07T12:37:44.790Z"
   },
   {
    "duration": 50,
    "start_time": "2025-03-07T12:37:44.887Z"
   },
   {
    "duration": 23,
    "start_time": "2025-03-07T12:37:44.939Z"
   },
   {
    "duration": 23,
    "start_time": "2025-03-07T12:37:44.964Z"
   },
   {
    "duration": 52,
    "start_time": "2025-03-07T12:37:44.988Z"
   },
   {
    "duration": 65,
    "start_time": "2025-03-07T12:37:45.042Z"
   },
   {
    "duration": 25,
    "start_time": "2025-03-07T13:35:53.215Z"
   },
   {
    "duration": 34,
    "start_time": "2025-03-07T13:37:35.227Z"
   },
   {
    "duration": 14,
    "start_time": "2025-03-07T14:16:33.522Z"
   },
   {
    "duration": 10,
    "start_time": "2025-03-07T14:20:09.810Z"
   },
   {
    "duration": 5,
    "start_time": "2025-03-07T14:20:11.143Z"
   },
   {
    "duration": 5,
    "start_time": "2025-03-07T14:20:25.494Z"
   },
   {
    "duration": 5,
    "start_time": "2025-03-07T14:20:26.528Z"
   },
   {
    "duration": 5,
    "start_time": "2025-03-07T14:20:34.134Z"
   },
   {
    "duration": 6,
    "start_time": "2025-03-07T14:20:34.718Z"
   },
   {
    "duration": 25,
    "start_time": "2025-03-07T14:20:43.228Z"
   },
   {
    "duration": 6,
    "start_time": "2025-03-07T14:20:44.223Z"
   },
   {
    "duration": 3454,
    "start_time": "2025-03-07T16:06:47.584Z"
   },
   {
    "duration": 1335,
    "start_time": "2025-03-07T16:06:51.040Z"
   },
   {
    "duration": 2,
    "start_time": "2025-03-07T16:06:52.377Z"
   },
   {
    "duration": 2619,
    "start_time": "2025-03-07T16:06:52.381Z"
   },
   {
    "duration": 168,
    "start_time": "2025-03-07T16:06:55.002Z"
   },
   {
    "duration": 17,
    "start_time": "2025-03-07T16:06:55.172Z"
   },
   {
    "duration": 13,
    "start_time": "2025-03-07T16:06:55.191Z"
   },
   {
    "duration": 32,
    "start_time": "2025-03-07T16:06:55.206Z"
   },
   {
    "duration": 171,
    "start_time": "2025-03-07T16:06:55.240Z"
   },
   {
    "duration": 4,
    "start_time": "2025-03-07T16:06:55.412Z"
   },
   {
    "duration": 9,
    "start_time": "2025-03-07T16:06:55.417Z"
   },
   {
    "duration": 30,
    "start_time": "2025-03-07T16:06:55.427Z"
   },
   {
    "duration": 50,
    "start_time": "2025-03-07T16:06:55.459Z"
   },
   {
    "duration": 7,
    "start_time": "2025-03-07T16:06:55.512Z"
   },
   {
    "duration": 22,
    "start_time": "2025-03-07T16:06:55.521Z"
   },
   {
    "duration": 19,
    "start_time": "2025-03-07T16:06:55.545Z"
   },
   {
    "duration": 25,
    "start_time": "2025-03-07T16:06:55.565Z"
   },
   {
    "duration": 82,
    "start_time": "2025-03-07T16:06:55.592Z"
   },
   {
    "duration": 6,
    "start_time": "2025-03-07T16:06:55.676Z"
   },
   {
    "duration": 27,
    "start_time": "2025-03-07T16:06:55.683Z"
   },
   {
    "duration": 7,
    "start_time": "2025-03-07T16:06:55.712Z"
   },
   {
    "duration": 55,
    "start_time": "2025-03-07T16:06:55.720Z"
   },
   {
    "duration": 72,
    "start_time": "2025-03-07T16:06:55.777Z"
   },
   {
    "duration": 59,
    "start_time": "2025-03-07T16:06:55.850Z"
   },
   {
    "duration": 5,
    "start_time": "2025-03-07T16:06:55.911Z"
   },
   {
    "duration": 21,
    "start_time": "2025-03-07T16:06:55.918Z"
   },
   {
    "duration": 15,
    "start_time": "2025-03-07T16:06:55.941Z"
   },
   {
    "duration": 15,
    "start_time": "2025-03-07T16:06:55.957Z"
   },
   {
    "duration": 11,
    "start_time": "2025-03-07T16:06:55.974Z"
   },
   {
    "duration": 67,
    "start_time": "2025-03-07T16:06:55.986Z"
   },
   {
    "duration": 158,
    "start_time": "2025-03-07T16:06:56.055Z"
   },
   {
    "duration": 74,
    "start_time": "2025-03-07T16:06:56.215Z"
   },
   {
    "duration": 63,
    "start_time": "2025-03-07T16:06:56.291Z"
   },
   {
    "duration": 38,
    "start_time": "2025-03-07T16:06:56.356Z"
   },
   {
    "duration": 65,
    "start_time": "2025-03-07T16:06:56.396Z"
   },
   {
    "duration": 33,
    "start_time": "2025-03-07T16:06:56.462Z"
   },
   {
    "duration": 39,
    "start_time": "2025-03-07T16:06:56.497Z"
   },
   {
    "duration": 284,
    "start_time": "2025-03-07T16:06:56.537Z"
   },
   {
    "duration": 36,
    "start_time": "2025-03-07T16:06:56.823Z"
   },
   {
    "duration": 170,
    "start_time": "2025-03-07T16:06:56.861Z"
   },
   {
    "duration": 18,
    "start_time": "2025-03-07T16:06:57.035Z"
   },
   {
    "duration": 122,
    "start_time": "2025-03-07T16:06:57.054Z"
   },
   {
    "duration": 14,
    "start_time": "2025-03-07T16:06:57.178Z"
   },
   {
    "duration": 82,
    "start_time": "2025-03-07T16:06:57.193Z"
   },
   {
    "duration": 117,
    "start_time": "2025-03-07T16:06:57.277Z"
   },
   {
    "duration": 15,
    "start_time": "2025-03-07T16:06:57.395Z"
   },
   {
    "duration": 19,
    "start_time": "2025-03-07T16:06:57.411Z"
   },
   {
    "duration": 32,
    "start_time": "2025-03-07T16:06:57.432Z"
   },
   {
    "duration": 5,
    "start_time": "2025-03-07T16:06:57.466Z"
   },
   {
    "duration": 5,
    "start_time": "2025-03-07T16:06:57.473Z"
   },
   {
    "duration": 27,
    "start_time": "2025-03-07T16:06:57.480Z"
   },
   {
    "duration": 4,
    "start_time": "2025-03-07T16:06:57.508Z"
   },
   {
    "duration": 20,
    "start_time": "2025-03-07T16:06:57.514Z"
   },
   {
    "duration": 58,
    "start_time": "2025-03-07T16:06:57.536Z"
   },
   {
    "duration": 25,
    "start_time": "2025-03-07T16:06:57.595Z"
   },
   {
    "duration": 5,
    "start_time": "2025-03-07T16:06:57.622Z"
   },
   {
    "duration": 33,
    "start_time": "2025-03-07T16:06:57.628Z"
   },
   {
    "duration": 46,
    "start_time": "2025-03-07T16:06:57.662Z"
   },
   {
    "duration": 7,
    "start_time": "2025-03-07T16:06:57.709Z"
   },
   {
    "duration": 25,
    "start_time": "2025-03-07T16:06:57.717Z"
   },
   {
    "duration": 341,
    "start_time": "2025-03-07T16:06:57.743Z"
   },
   {
    "duration": 21,
    "start_time": "2025-03-07T16:06:58.086Z"
   },
   {
    "duration": 70,
    "start_time": "2025-03-07T16:06:58.109Z"
   },
   {
    "duration": 33,
    "start_time": "2025-03-07T16:06:58.180Z"
   },
   {
    "duration": 3,
    "start_time": "2025-03-07T16:06:58.215Z"
   },
   {
    "duration": 125,
    "start_time": "2025-03-07T16:06:58.220Z"
   },
   {
    "duration": 34,
    "start_time": "2025-03-07T16:06:58.347Z"
   },
   {
    "duration": 216,
    "start_time": "2025-03-07T16:06:58.382Z"
   },
   {
    "duration": 51,
    "start_time": "2025-03-07T16:06:58.600Z"
   },
   {
    "duration": 76,
    "start_time": "2025-03-07T16:06:58.652Z"
   },
   {
    "duration": 120,
    "start_time": "2025-03-07T16:06:58.729Z"
   },
   {
    "duration": 5,
    "start_time": "2025-03-07T16:06:58.851Z"
   },
   {
    "duration": 98,
    "start_time": "2025-03-07T16:06:58.858Z"
   },
   {
    "duration": 34,
    "start_time": "2025-03-07T16:06:58.958Z"
   },
   {
    "duration": 39,
    "start_time": "2025-03-07T16:06:58.993Z"
   },
   {
    "duration": 6,
    "start_time": "2025-03-07T16:06:59.033Z"
   },
   {
    "duration": 16,
    "start_time": "2025-03-07T16:06:59.041Z"
   },
   {
    "duration": 28,
    "start_time": "2025-03-07T16:06:59.059Z"
   },
   {
    "duration": 22,
    "start_time": "2025-03-07T16:06:59.089Z"
   },
   {
    "duration": 93,
    "start_time": "2025-03-07T16:07:40.440Z"
   },
   {
    "duration": 91,
    "start_time": "2025-03-07T16:07:47.032Z"
   },
   {
    "duration": 109,
    "start_time": "2025-03-07T16:08:07.406Z"
   },
   {
    "duration": 74,
    "start_time": "2025-03-07T16:08:12.865Z"
   },
   {
    "duration": 108,
    "start_time": "2025-03-07T16:08:19.753Z"
   },
   {
    "duration": 36,
    "start_time": "2025-03-07T16:08:48.817Z"
   },
   {
    "duration": 58,
    "start_time": "2025-03-07T16:08:55.571Z"
   },
   {
    "duration": 93,
    "start_time": "2025-03-07T16:09:23.651Z"
   },
   {
    "duration": 72,
    "start_time": "2025-03-07T16:09:49.844Z"
   },
   {
    "duration": 92,
    "start_time": "2025-03-07T16:09:54.392Z"
   },
   {
    "duration": 3415,
    "start_time": "2025-03-07T17:04:18.179Z"
   },
   {
    "duration": 7384,
    "start_time": "2025-03-07T17:04:21.597Z"
   },
   {
    "duration": 3,
    "start_time": "2025-03-07T17:04:28.982Z"
   },
   {
    "duration": 1952,
    "start_time": "2025-03-07T17:04:28.987Z"
   },
   {
    "duration": 146,
    "start_time": "2025-03-07T17:04:30.941Z"
   },
   {
    "duration": 12,
    "start_time": "2025-03-07T17:04:31.089Z"
   },
   {
    "duration": 33,
    "start_time": "2025-03-07T17:04:31.102Z"
   },
   {
    "duration": 47,
    "start_time": "2025-03-07T17:04:31.137Z"
   },
   {
    "duration": 103,
    "start_time": "2025-03-07T17:04:31.185Z"
   },
   {
    "duration": 3,
    "start_time": "2025-03-07T17:04:31.291Z"
   },
   {
    "duration": 28,
    "start_time": "2025-03-07T17:04:31.296Z"
   },
   {
    "duration": 19,
    "start_time": "2025-03-07T17:04:31.325Z"
   },
   {
    "duration": 57,
    "start_time": "2025-03-07T17:04:31.346Z"
   },
   {
    "duration": 7,
    "start_time": "2025-03-07T17:04:31.404Z"
   },
   {
    "duration": 90,
    "start_time": "2025-03-07T17:04:31.413Z"
   },
   {
    "duration": 204,
    "start_time": "2025-03-07T17:04:31.504Z"
   },
   {
    "duration": 35,
    "start_time": "2025-03-07T17:04:31.710Z"
   },
   {
    "duration": 102,
    "start_time": "2025-03-07T17:04:31.746Z"
   },
   {
    "duration": 6,
    "start_time": "2025-03-07T17:04:31.849Z"
   },
   {
    "duration": 15,
    "start_time": "2025-03-07T17:04:31.856Z"
   },
   {
    "duration": 22,
    "start_time": "2025-03-07T17:04:31.873Z"
   },
   {
    "duration": 58,
    "start_time": "2025-03-07T17:04:31.896Z"
   },
   {
    "duration": 67,
    "start_time": "2025-03-07T17:04:31.956Z"
   },
   {
    "duration": 47,
    "start_time": "2025-03-07T17:04:32.025Z"
   },
   {
    "duration": 24,
    "start_time": "2025-03-07T17:04:32.074Z"
   },
   {
    "duration": 142,
    "start_time": "2025-03-07T17:04:32.100Z"
   },
   {
    "duration": 28,
    "start_time": "2025-03-07T17:04:32.244Z"
   },
   {
    "duration": 31,
    "start_time": "2025-03-07T17:04:32.275Z"
   },
   {
    "duration": 5,
    "start_time": "2025-03-07T17:04:32.307Z"
   },
   {
    "duration": 60,
    "start_time": "2025-03-07T17:04:32.314Z"
   },
   {
    "duration": 145,
    "start_time": "2025-03-07T17:04:32.376Z"
   },
   {
    "duration": 78,
    "start_time": "2025-03-07T17:04:32.523Z"
   },
   {
    "duration": 23,
    "start_time": "2025-03-07T17:04:32.603Z"
   },
   {
    "duration": 50,
    "start_time": "2025-03-07T17:04:32.628Z"
   },
   {
    "duration": 17,
    "start_time": "2025-03-07T17:04:32.679Z"
   },
   {
    "duration": 27,
    "start_time": "2025-03-07T17:04:32.698Z"
   },
   {
    "duration": 35,
    "start_time": "2025-03-07T17:04:32.748Z"
   },
   {
    "duration": 303,
    "start_time": "2025-03-07T17:04:32.784Z"
   },
   {
    "duration": 37,
    "start_time": "2025-03-07T17:04:33.088Z"
   },
   {
    "duration": 181,
    "start_time": "2025-03-07T17:04:33.127Z"
   },
   {
    "duration": 18,
    "start_time": "2025-03-07T17:04:33.310Z"
   },
   {
    "duration": 108,
    "start_time": "2025-03-07T17:04:33.330Z"
   },
   {
    "duration": 2361,
    "start_time": "2025-03-07T17:11:25.993Z"
   },
   {
    "duration": 3,
    "start_time": "2025-03-07T17:11:28.356Z"
   },
   {
    "duration": 9,
    "start_time": "2025-03-07T17:11:28.361Z"
   },
   {
    "duration": 1752,
    "start_time": "2025-03-07T17:11:28.372Z"
   },
   {
    "duration": 364,
    "start_time": "2025-03-07T17:11:30.126Z"
   },
   {
    "duration": 9,
    "start_time": "2025-03-07T17:11:30.492Z"
   },
   {
    "duration": 16,
    "start_time": "2025-03-07T17:11:30.503Z"
   },
   {
    "duration": 29,
    "start_time": "2025-03-07T17:11:30.521Z"
   },
   {
    "duration": 107,
    "start_time": "2025-03-07T17:11:30.552Z"
   },
   {
    "duration": 3,
    "start_time": "2025-03-07T17:11:30.662Z"
   },
   {
    "duration": 8,
    "start_time": "2025-03-07T17:11:30.667Z"
   },
   {
    "duration": 16,
    "start_time": "2025-03-07T17:11:30.677Z"
   },
   {
    "duration": 41,
    "start_time": "2025-03-07T17:11:30.695Z"
   },
   {
    "duration": 11,
    "start_time": "2025-03-07T17:11:30.737Z"
   },
   {
    "duration": 29,
    "start_time": "2025-03-07T17:11:30.749Z"
   },
   {
    "duration": 29,
    "start_time": "2025-03-07T17:11:30.780Z"
   },
   {
    "duration": 37,
    "start_time": "2025-03-07T17:11:30.811Z"
   },
   {
    "duration": 146,
    "start_time": "2025-03-07T17:11:30.850Z"
   },
   {
    "duration": 12,
    "start_time": "2025-03-07T17:11:30.997Z"
   },
   {
    "duration": 23,
    "start_time": "2025-03-07T17:11:31.011Z"
   },
   {
    "duration": 31,
    "start_time": "2025-03-07T17:11:31.035Z"
   },
   {
    "duration": 55,
    "start_time": "2025-03-07T17:11:31.068Z"
   },
   {
    "duration": 53,
    "start_time": "2025-03-07T17:11:31.125Z"
   },
   {
    "duration": 48,
    "start_time": "2025-03-07T17:11:31.179Z"
   },
   {
    "duration": 6,
    "start_time": "2025-03-07T17:11:31.228Z"
   },
   {
    "duration": 20,
    "start_time": "2025-03-07T17:11:31.247Z"
   },
   {
    "duration": 11,
    "start_time": "2025-03-07T17:11:31.268Z"
   },
   {
    "duration": 18,
    "start_time": "2025-03-07T17:11:31.282Z"
   },
   {
    "duration": 18,
    "start_time": "2025-03-07T17:11:31.301Z"
   },
   {
    "duration": 22,
    "start_time": "2025-03-07T17:11:31.321Z"
   },
   {
    "duration": 142,
    "start_time": "2025-03-07T17:11:31.347Z"
   },
   {
    "duration": 77,
    "start_time": "2025-03-07T17:11:31.491Z"
   },
   {
    "duration": 180,
    "start_time": "2025-03-07T17:11:31.569Z"
   },
   {
    "duration": 52,
    "start_time": "2025-03-07T17:11:31.751Z"
   },
   {
    "duration": 15,
    "start_time": "2025-03-07T17:11:31.804Z"
   },
   {
    "duration": 37,
    "start_time": "2025-03-07T17:11:31.820Z"
   },
   {
    "duration": 37,
    "start_time": "2025-03-07T17:11:31.859Z"
   },
   {
    "duration": 281,
    "start_time": "2025-03-07T17:11:31.897Z"
   },
   {
    "duration": 33,
    "start_time": "2025-03-07T17:11:32.180Z"
   },
   {
    "duration": 222,
    "start_time": "2025-03-07T17:11:32.214Z"
   },
   {
    "duration": 16,
    "start_time": "2025-03-07T17:11:32.438Z"
   },
   {
    "duration": 114,
    "start_time": "2025-03-07T17:11:32.455Z"
   },
   {
    "duration": 13,
    "start_time": "2025-03-07T17:11:32.570Z"
   },
   {
    "duration": 83,
    "start_time": "2025-03-07T17:11:32.585Z"
   },
   {
    "duration": 88,
    "start_time": "2025-03-07T17:11:32.670Z"
   },
   {
    "duration": 9,
    "start_time": "2025-03-07T17:11:32.760Z"
   },
   {
    "duration": 20,
    "start_time": "2025-03-07T17:11:32.771Z"
   },
   {
    "duration": 27,
    "start_time": "2025-03-07T17:11:32.792Z"
   },
   {
    "duration": 18,
    "start_time": "2025-03-07T17:11:32.821Z"
   },
   {
    "duration": 22,
    "start_time": "2025-03-07T17:11:32.840Z"
   },
   {
    "duration": 30,
    "start_time": "2025-03-07T17:11:32.864Z"
   },
   {
    "duration": 122,
    "start_time": "2025-03-07T17:11:32.896Z"
   },
   {
    "duration": 37,
    "start_time": "2025-03-07T17:11:33.020Z"
   },
   {
    "duration": 43,
    "start_time": "2025-03-07T17:11:33.059Z"
   },
   {
    "duration": 22,
    "start_time": "2025-03-07T17:11:33.104Z"
   },
   {
    "duration": 6,
    "start_time": "2025-03-07T17:11:33.127Z"
   },
   {
    "duration": 11,
    "start_time": "2025-03-07T17:11:35.208Z"
   },
   {
    "duration": 49,
    "start_time": "2025-03-07T19:02:25.992Z"
   },
   {
    "duration": 4082,
    "start_time": "2025-03-07T19:02:33.943Z"
   },
   {
    "duration": 1435,
    "start_time": "2025-03-07T19:02:38.028Z"
   },
   {
    "duration": 3,
    "start_time": "2025-03-07T19:02:39.465Z"
   },
   {
    "duration": 2255,
    "start_time": "2025-03-07T19:02:39.470Z"
   },
   {
    "duration": 186,
    "start_time": "2025-03-07T19:02:41.728Z"
   },
   {
    "duration": 12,
    "start_time": "2025-03-07T19:02:41.915Z"
   },
   {
    "duration": 105,
    "start_time": "2025-03-07T19:02:41.929Z"
   },
   {
    "duration": 36,
    "start_time": "2025-03-07T19:02:42.037Z"
   },
   {
    "duration": 212,
    "start_time": "2025-03-07T19:02:42.075Z"
   },
   {
    "duration": 6,
    "start_time": "2025-03-07T19:02:42.292Z"
   },
   {
    "duration": 24,
    "start_time": "2025-03-07T19:02:42.302Z"
   },
   {
    "duration": 302,
    "start_time": "2025-03-07T19:02:42.328Z"
   },
   {
    "duration": 0,
    "start_time": "2025-03-07T19:02:42.634Z"
   },
   {
    "duration": 0,
    "start_time": "2025-03-07T19:02:42.635Z"
   },
   {
    "duration": 0,
    "start_time": "2025-03-07T19:02:42.636Z"
   },
   {
    "duration": 0,
    "start_time": "2025-03-07T19:02:42.638Z"
   },
   {
    "duration": 0,
    "start_time": "2025-03-07T19:02:42.639Z"
   },
   {
    "duration": 0,
    "start_time": "2025-03-07T19:02:42.639Z"
   },
   {
    "duration": 0,
    "start_time": "2025-03-07T19:02:42.640Z"
   },
   {
    "duration": 0,
    "start_time": "2025-03-07T19:02:42.641Z"
   },
   {
    "duration": 0,
    "start_time": "2025-03-07T19:02:42.642Z"
   },
   {
    "duration": 0,
    "start_time": "2025-03-07T19:02:42.643Z"
   },
   {
    "duration": 0,
    "start_time": "2025-03-07T19:02:42.645Z"
   },
   {
    "duration": 0,
    "start_time": "2025-03-07T19:02:42.662Z"
   },
   {
    "duration": 0,
    "start_time": "2025-03-07T19:02:42.663Z"
   },
   {
    "duration": 0,
    "start_time": "2025-03-07T19:02:42.664Z"
   },
   {
    "duration": 0,
    "start_time": "2025-03-07T19:02:42.665Z"
   },
   {
    "duration": 0,
    "start_time": "2025-03-07T19:02:42.666Z"
   },
   {
    "duration": 0,
    "start_time": "2025-03-07T19:02:42.667Z"
   },
   {
    "duration": 0,
    "start_time": "2025-03-07T19:02:42.668Z"
   },
   {
    "duration": 0,
    "start_time": "2025-03-07T19:02:42.670Z"
   },
   {
    "duration": 0,
    "start_time": "2025-03-07T19:02:42.671Z"
   },
   {
    "duration": 0,
    "start_time": "2025-03-07T19:02:42.672Z"
   },
   {
    "duration": 0,
    "start_time": "2025-03-07T19:02:42.674Z"
   },
   {
    "duration": 0,
    "start_time": "2025-03-07T19:02:42.676Z"
   },
   {
    "duration": 0,
    "start_time": "2025-03-07T19:02:42.677Z"
   },
   {
    "duration": 0,
    "start_time": "2025-03-07T19:02:42.678Z"
   },
   {
    "duration": 0,
    "start_time": "2025-03-07T19:02:42.680Z"
   },
   {
    "duration": 0,
    "start_time": "2025-03-07T19:02:42.682Z"
   },
   {
    "duration": 0,
    "start_time": "2025-03-07T19:02:42.683Z"
   },
   {
    "duration": 0,
    "start_time": "2025-03-07T19:02:42.684Z"
   },
   {
    "duration": 0,
    "start_time": "2025-03-07T19:02:42.685Z"
   },
   {
    "duration": 0,
    "start_time": "2025-03-07T19:02:42.687Z"
   },
   {
    "duration": 0,
    "start_time": "2025-03-07T19:02:42.688Z"
   },
   {
    "duration": 0,
    "start_time": "2025-03-07T19:02:42.690Z"
   },
   {
    "duration": 0,
    "start_time": "2025-03-07T19:02:42.691Z"
   },
   {
    "duration": 1,
    "start_time": "2025-03-07T19:02:42.692Z"
   },
   {
    "duration": 0,
    "start_time": "2025-03-07T19:02:42.694Z"
   },
   {
    "duration": 0,
    "start_time": "2025-03-07T19:02:42.695Z"
   },
   {
    "duration": 0,
    "start_time": "2025-03-07T19:02:42.697Z"
   },
   {
    "duration": 0,
    "start_time": "2025-03-07T19:02:42.698Z"
   },
   {
    "duration": 0,
    "start_time": "2025-03-07T19:02:42.762Z"
   },
   {
    "duration": 0,
    "start_time": "2025-03-07T19:02:42.764Z"
   },
   {
    "duration": 0,
    "start_time": "2025-03-07T19:02:42.766Z"
   },
   {
    "duration": 0,
    "start_time": "2025-03-07T19:02:42.767Z"
   },
   {
    "duration": 0,
    "start_time": "2025-03-07T19:02:42.768Z"
   },
   {
    "duration": 0,
    "start_time": "2025-03-07T19:02:42.770Z"
   },
   {
    "duration": 0,
    "start_time": "2025-03-07T19:02:42.771Z"
   },
   {
    "duration": 0,
    "start_time": "2025-03-07T19:02:42.773Z"
   },
   {
    "duration": 0,
    "start_time": "2025-03-07T19:02:42.775Z"
   },
   {
    "duration": 0,
    "start_time": "2025-03-07T19:02:42.776Z"
   },
   {
    "duration": 0,
    "start_time": "2025-03-07T19:02:42.777Z"
   },
   {
    "duration": 0,
    "start_time": "2025-03-07T19:02:42.779Z"
   },
   {
    "duration": 0,
    "start_time": "2025-03-07T19:02:42.780Z"
   },
   {
    "duration": 0,
    "start_time": "2025-03-07T19:02:42.784Z"
   },
   {
    "duration": 0,
    "start_time": "2025-03-07T19:02:42.786Z"
   },
   {
    "duration": 0,
    "start_time": "2025-03-07T19:02:42.787Z"
   },
   {
    "duration": 0,
    "start_time": "2025-03-07T19:02:42.788Z"
   },
   {
    "duration": 0,
    "start_time": "2025-03-07T19:02:42.790Z"
   },
   {
    "duration": 0,
    "start_time": "2025-03-07T19:02:42.791Z"
   },
   {
    "duration": 0,
    "start_time": "2025-03-07T19:02:42.792Z"
   },
   {
    "duration": 0,
    "start_time": "2025-03-07T19:02:42.793Z"
   },
   {
    "duration": 0,
    "start_time": "2025-03-07T19:02:42.795Z"
   },
   {
    "duration": 0,
    "start_time": "2025-03-07T19:02:42.795Z"
   },
   {
    "duration": 0,
    "start_time": "2025-03-07T19:02:42.796Z"
   },
   {
    "duration": 0,
    "start_time": "2025-03-07T19:02:42.798Z"
   },
   {
    "duration": 0,
    "start_time": "2025-03-07T19:02:42.799Z"
   },
   {
    "duration": 0,
    "start_time": "2025-03-07T19:02:42.863Z"
   },
   {
    "duration": 0,
    "start_time": "2025-03-07T19:02:42.865Z"
   },
   {
    "duration": 0,
    "start_time": "2025-03-07T19:02:42.867Z"
   },
   {
    "duration": 51,
    "start_time": "2025-03-07T19:03:28.741Z"
   },
   {
    "duration": 2529,
    "start_time": "2025-03-07T19:04:04.406Z"
   },
   {
    "duration": 1560,
    "start_time": "2025-03-07T19:04:06.939Z"
   },
   {
    "duration": 3,
    "start_time": "2025-03-07T19:04:08.501Z"
   },
   {
    "duration": 2075,
    "start_time": "2025-03-07T19:04:08.506Z"
   },
   {
    "duration": 154,
    "start_time": "2025-03-07T19:04:10.583Z"
   },
   {
    "duration": 72,
    "start_time": "2025-03-07T19:04:10.739Z"
   },
   {
    "duration": 15,
    "start_time": "2025-03-07T19:04:10.813Z"
   },
   {
    "duration": 43,
    "start_time": "2025-03-07T19:04:10.830Z"
   },
   {
    "duration": 132,
    "start_time": "2025-03-07T19:04:10.875Z"
   },
   {
    "duration": 4,
    "start_time": "2025-03-07T19:04:11.011Z"
   },
   {
    "duration": 21,
    "start_time": "2025-03-07T19:04:11.016Z"
   },
   {
    "duration": 21,
    "start_time": "2025-03-07T19:04:11.038Z"
   },
   {
    "duration": 65,
    "start_time": "2025-03-07T19:04:11.061Z"
   },
   {
    "duration": 41,
    "start_time": "2025-03-07T19:04:11.128Z"
   },
   {
    "duration": 54,
    "start_time": "2025-03-07T19:04:11.171Z"
   },
   {
    "duration": 19,
    "start_time": "2025-03-07T19:04:11.227Z"
   },
   {
    "duration": 50,
    "start_time": "2025-03-07T19:04:11.247Z"
   },
   {
    "duration": 130,
    "start_time": "2025-03-07T19:04:11.300Z"
   },
   {
    "duration": 6,
    "start_time": "2025-03-07T19:04:11.432Z"
   },
   {
    "duration": 9,
    "start_time": "2025-03-07T19:04:11.439Z"
   },
   {
    "duration": 16,
    "start_time": "2025-03-07T19:04:11.449Z"
   },
   {
    "duration": 79,
    "start_time": "2025-03-07T19:04:11.467Z"
   },
   {
    "duration": 69,
    "start_time": "2025-03-07T19:04:11.548Z"
   },
   {
    "duration": 67,
    "start_time": "2025-03-07T19:04:11.619Z"
   },
   {
    "duration": 6,
    "start_time": "2025-03-07T19:04:11.688Z"
   },
   {
    "duration": 36,
    "start_time": "2025-03-07T19:04:11.696Z"
   },
   {
    "duration": 21,
    "start_time": "2025-03-07T19:04:11.734Z"
   },
   {
    "duration": 32,
    "start_time": "2025-03-07T19:04:11.765Z"
   },
   {
    "duration": 12,
    "start_time": "2025-03-07T19:04:11.800Z"
   },
   {
    "duration": 64,
    "start_time": "2025-03-07T19:04:11.814Z"
   },
   {
    "duration": 157,
    "start_time": "2025-03-07T19:04:11.879Z"
   },
   {
    "duration": 92,
    "start_time": "2025-03-07T19:04:12.037Z"
   },
   {
    "duration": 94,
    "start_time": "2025-03-07T19:04:12.131Z"
   },
   {
    "duration": 33,
    "start_time": "2025-03-07T19:04:12.227Z"
   },
   {
    "duration": 15,
    "start_time": "2025-03-07T19:04:12.262Z"
   },
   {
    "duration": 30,
    "start_time": "2025-03-07T19:04:12.279Z"
   },
   {
    "duration": 35,
    "start_time": "2025-03-07T19:04:12.311Z"
   },
   {
    "duration": 444,
    "start_time": "2025-03-07T19:04:12.363Z"
   },
   {
    "duration": 36,
    "start_time": "2025-03-07T19:04:12.809Z"
   },
   {
    "duration": 196,
    "start_time": "2025-03-07T19:04:12.846Z"
   },
   {
    "duration": 23,
    "start_time": "2025-03-07T19:04:13.043Z"
   },
   {
    "duration": 115,
    "start_time": "2025-03-07T19:04:13.068Z"
   },
   {
    "duration": 15,
    "start_time": "2025-03-07T19:04:13.184Z"
   },
   {
    "duration": 95,
    "start_time": "2025-03-07T19:04:13.200Z"
   },
   {
    "duration": 103,
    "start_time": "2025-03-07T19:04:13.296Z"
   },
   {
    "duration": 10,
    "start_time": "2025-03-07T19:04:13.401Z"
   },
   {
    "duration": 6,
    "start_time": "2025-03-07T19:04:13.412Z"
   },
   {
    "duration": 33,
    "start_time": "2025-03-07T19:04:13.420Z"
   },
   {
    "duration": 7,
    "start_time": "2025-03-07T19:04:13.455Z"
   },
   {
    "duration": 13,
    "start_time": "2025-03-07T19:04:13.464Z"
   },
   {
    "duration": 27,
    "start_time": "2025-03-07T19:04:13.479Z"
   },
   {
    "duration": 6,
    "start_time": "2025-03-07T19:04:13.508Z"
   },
   {
    "duration": 10,
    "start_time": "2025-03-07T19:04:13.516Z"
   },
   {
    "duration": 51,
    "start_time": "2025-03-07T19:04:13.528Z"
   },
   {
    "duration": 24,
    "start_time": "2025-03-07T19:04:13.581Z"
   },
   {
    "duration": 6,
    "start_time": "2025-03-07T19:04:13.607Z"
   },
   {
    "duration": 54,
    "start_time": "2025-03-07T19:04:13.615Z"
   },
   {
    "duration": 49,
    "start_time": "2025-03-07T19:04:13.672Z"
   },
   {
    "duration": 9,
    "start_time": "2025-03-07T19:04:13.723Z"
   },
   {
    "duration": 51,
    "start_time": "2025-03-07T19:04:13.734Z"
   },
   {
    "duration": 339,
    "start_time": "2025-03-07T19:04:13.786Z"
   },
   {
    "duration": 17,
    "start_time": "2025-03-07T19:04:14.126Z"
   },
   {
    "duration": 109,
    "start_time": "2025-03-07T19:04:14.145Z"
   },
   {
    "duration": 26,
    "start_time": "2025-03-07T19:04:14.255Z"
   },
   {
    "duration": 3,
    "start_time": "2025-03-07T19:04:14.282Z"
   },
   {
    "duration": 136,
    "start_time": "2025-03-07T19:04:14.287Z"
   },
   {
    "duration": 119,
    "start_time": "2025-03-07T19:04:14.425Z"
   },
   {
    "duration": 197,
    "start_time": "2025-03-07T19:04:14.546Z"
   },
   {
    "duration": 57,
    "start_time": "2025-03-07T19:04:14.745Z"
   },
   {
    "duration": 78,
    "start_time": "2025-03-07T19:04:14.804Z"
   },
   {
    "duration": 127,
    "start_time": "2025-03-07T19:04:14.884Z"
   },
   {
    "duration": 4,
    "start_time": "2025-03-07T19:04:15.014Z"
   },
   {
    "duration": 74,
    "start_time": "2025-03-07T19:04:15.020Z"
   },
   {
    "duration": 46,
    "start_time": "2025-03-07T19:04:15.096Z"
   },
   {
    "duration": 63,
    "start_time": "2025-03-07T19:04:15.144Z"
   },
   {
    "duration": 6,
    "start_time": "2025-03-07T19:04:15.209Z"
   },
   {
    "duration": 94,
    "start_time": "2025-03-07T19:04:15.217Z"
   },
   {
    "duration": 73,
    "start_time": "2025-03-07T19:04:15.313Z"
   },
   {
    "duration": 5,
    "start_time": "2025-03-07T19:04:15.388Z"
   },
   {
    "duration": 10,
    "start_time": "2025-03-07T19:05:07.656Z"
   },
   {
    "duration": 26,
    "start_time": "2025-03-07T19:05:09.665Z"
   },
   {
    "duration": 30,
    "start_time": "2025-03-07T19:05:20.388Z"
   },
   {
    "duration": 33,
    "start_time": "2025-03-07T19:05:48.732Z"
   },
   {
    "duration": 240,
    "start_time": "2025-03-07T19:06:00.622Z"
   },
   {
    "duration": 221,
    "start_time": "2025-03-07T19:08:12.248Z"
   },
   {
    "duration": 91,
    "start_time": "2025-03-07T19:12:06.341Z"
   },
   {
    "duration": 2514,
    "start_time": "2025-03-07T19:14:19.793Z"
   },
   {
    "duration": 1272,
    "start_time": "2025-03-07T19:14:22.310Z"
   },
   {
    "duration": 3,
    "start_time": "2025-03-07T19:14:23.583Z"
   },
   {
    "duration": 2143,
    "start_time": "2025-03-07T19:14:23.587Z"
   },
   {
    "duration": 201,
    "start_time": "2025-03-07T19:14:25.733Z"
   },
   {
    "duration": 13,
    "start_time": "2025-03-07T19:14:25.936Z"
   },
   {
    "duration": 13,
    "start_time": "2025-03-07T19:14:25.951Z"
   },
   {
    "duration": 124,
    "start_time": "2025-03-07T19:14:25.965Z"
   },
   {
    "duration": 113,
    "start_time": "2025-03-07T19:14:26.091Z"
   },
   {
    "duration": 3,
    "start_time": "2025-03-07T19:14:26.206Z"
   },
   {
    "duration": 74,
    "start_time": "2025-03-07T19:14:26.211Z"
   },
   {
    "duration": 14,
    "start_time": "2025-03-07T19:14:26.287Z"
   },
   {
    "duration": 50,
    "start_time": "2025-03-07T19:14:26.303Z"
   },
   {
    "duration": 7,
    "start_time": "2025-03-07T19:14:26.356Z"
   },
   {
    "duration": 121,
    "start_time": "2025-03-07T19:14:26.365Z"
   },
   {
    "duration": 251,
    "start_time": "2025-03-07T19:14:26.487Z"
   },
   {
    "duration": 38,
    "start_time": "2025-03-07T19:14:26.739Z"
   },
   {
    "duration": 97,
    "start_time": "2025-03-07T19:14:26.778Z"
   },
   {
    "duration": 6,
    "start_time": "2025-03-07T19:14:26.877Z"
   },
   {
    "duration": 28,
    "start_time": "2025-03-07T19:14:26.885Z"
   },
   {
    "duration": 32,
    "start_time": "2025-03-07T19:14:26.915Z"
   },
   {
    "duration": 75,
    "start_time": "2025-03-07T19:14:26.949Z"
   },
   {
    "duration": 79,
    "start_time": "2025-03-07T19:14:27.027Z"
   },
   {
    "duration": 67,
    "start_time": "2025-03-07T19:14:27.108Z"
   },
   {
    "duration": 7,
    "start_time": "2025-03-07T19:14:27.177Z"
   },
   {
    "duration": 24,
    "start_time": "2025-03-07T19:14:27.186Z"
   },
   {
    "duration": 7,
    "start_time": "2025-03-07T19:14:27.212Z"
   },
   {
    "duration": 44,
    "start_time": "2025-03-07T19:14:27.221Z"
   },
   {
    "duration": 6,
    "start_time": "2025-03-07T19:14:27.268Z"
   },
   {
    "duration": 88,
    "start_time": "2025-03-07T19:14:27.276Z"
   },
   {
    "duration": 196,
    "start_time": "2025-03-07T19:14:27.367Z"
   },
   {
    "duration": 79,
    "start_time": "2025-03-07T19:14:27.565Z"
   },
   {
    "duration": 52,
    "start_time": "2025-03-07T19:14:27.646Z"
   },
   {
    "duration": 63,
    "start_time": "2025-03-07T19:14:27.700Z"
   },
   {
    "duration": 14,
    "start_time": "2025-03-07T19:14:27.765Z"
   },
   {
    "duration": 47,
    "start_time": "2025-03-07T19:14:27.781Z"
   },
   {
    "duration": 76,
    "start_time": "2025-03-07T19:14:27.829Z"
   },
   {
    "duration": 250,
    "start_time": "2025-03-07T19:14:27.907Z"
   },
   {
    "duration": 38,
    "start_time": "2025-03-07T19:14:28.161Z"
   },
   {
    "duration": 314966,
    "start_time": "2025-03-07T19:14:28.201Z"
   },
   {
    "duration": 197,
    "start_time": "2025-03-07T19:19:43.172Z"
   },
   {
    "duration": 22,
    "start_time": "2025-03-07T19:19:43.371Z"
   },
   {
    "duration": 121,
    "start_time": "2025-03-07T19:19:43.395Z"
   },
   {
    "duration": 15,
    "start_time": "2025-03-07T19:19:43.518Z"
   },
   {
    "duration": 134,
    "start_time": "2025-03-07T19:19:43.535Z"
   },
   {
    "duration": 103,
    "start_time": "2025-03-07T19:19:43.672Z"
   },
   {
    "duration": 18,
    "start_time": "2025-03-07T19:19:43.777Z"
   },
   {
    "duration": 10,
    "start_time": "2025-03-07T19:19:43.797Z"
   },
   {
    "duration": 34,
    "start_time": "2025-03-07T19:19:43.809Z"
   },
   {
    "duration": 19,
    "start_time": "2025-03-07T19:19:43.844Z"
   },
   {
    "duration": 17,
    "start_time": "2025-03-07T19:19:43.865Z"
   },
   {
    "duration": 33,
    "start_time": "2025-03-07T19:19:43.884Z"
   },
   {
    "duration": 18,
    "start_time": "2025-03-07T19:19:43.918Z"
   },
   {
    "duration": 6,
    "start_time": "2025-03-07T19:19:43.937Z"
   },
   {
    "duration": 69,
    "start_time": "2025-03-07T19:19:43.944Z"
   },
   {
    "duration": 35,
    "start_time": "2025-03-07T19:19:44.015Z"
   },
   {
    "duration": 44,
    "start_time": "2025-03-07T19:19:44.052Z"
   },
   {
    "duration": 50,
    "start_time": "2025-03-07T19:19:44.099Z"
   },
   {
    "duration": 92,
    "start_time": "2025-03-07T19:19:44.151Z"
   },
   {
    "duration": 70,
    "start_time": "2025-03-07T19:19:44.245Z"
   },
   {
    "duration": 60,
    "start_time": "2025-03-07T19:19:44.317Z"
   },
   {
    "duration": 596,
    "start_time": "2025-03-07T19:19:44.379Z"
   },
   {
    "duration": 16,
    "start_time": "2025-03-07T19:19:44.977Z"
   },
   {
    "duration": 151,
    "start_time": "2025-03-07T19:19:44.995Z"
   },
   {
    "duration": 30,
    "start_time": "2025-03-07T19:19:45.148Z"
   },
   {
    "duration": 12,
    "start_time": "2025-03-07T19:19:45.181Z"
   },
   {
    "duration": 231,
    "start_time": "2025-03-07T19:19:45.195Z"
   },
   {
    "duration": 50,
    "start_time": "2025-03-07T19:19:45.428Z"
   },
   {
    "duration": 233,
    "start_time": "2025-03-07T19:19:45.481Z"
   },
   {
    "duration": 76,
    "start_time": "2025-03-07T19:19:45.717Z"
   },
   {
    "duration": 77,
    "start_time": "2025-03-07T19:19:45.795Z"
   },
   {
    "duration": 167,
    "start_time": "2025-03-07T19:19:45.874Z"
   },
   {
    "duration": 6,
    "start_time": "2025-03-07T19:19:46.043Z"
   },
   {
    "duration": 52,
    "start_time": "2025-03-07T19:19:46.061Z"
   },
   {
    "duration": 27,
    "start_time": "2025-03-07T19:19:46.115Z"
   },
   {
    "duration": 129,
    "start_time": "2025-03-07T19:19:46.143Z"
   },
   {
    "duration": 17,
    "start_time": "2025-03-07T19:19:46.275Z"
   },
   {
    "duration": 10,
    "start_time": "2025-03-07T19:19:46.294Z"
   },
   {
    "duration": 31,
    "start_time": "2025-03-07T19:19:46.306Z"
   },
   {
    "duration": 6,
    "start_time": "2025-03-07T19:19:46.338Z"
   },
   {
    "duration": 114,
    "start_time": "2025-03-07T19:21:12.033Z"
   },
   {
    "duration": 108,
    "start_time": "2025-03-07T19:21:32.294Z"
   },
   {
    "duration": 502,
    "start_time": "2025-03-07T19:24:51.180Z"
   },
   {
    "duration": 31,
    "start_time": "2025-03-07T19:29:04.410Z"
   },
   {
    "duration": 35,
    "start_time": "2025-03-07T19:29:14.849Z"
   },
   {
    "duration": 484,
    "start_time": "2025-03-07T19:29:39.878Z"
   },
   {
    "duration": 317169,
    "start_time": "2025-03-07T19:30:28.119Z"
   },
   {
    "duration": 18,
    "start_time": "2025-03-07T19:35:45.290Z"
   },
   {
    "duration": 13,
    "start_time": "2025-03-07T19:36:23.092Z"
   },
   {
    "duration": 1130,
    "start_time": "2025-03-07T19:37:01.986Z"
   },
   {
    "duration": 590,
    "start_time": "2025-03-07T19:38:32.761Z"
   },
   {
    "duration": 587,
    "start_time": "2025-03-07T19:40:02.875Z"
   },
   {
    "duration": 580,
    "start_time": "2025-03-07T19:40:28.582Z"
   },
   {
    "duration": 15,
    "start_time": "2025-03-07T19:45:27.255Z"
   },
   {
    "duration": 11,
    "start_time": "2025-03-07T19:45:54.005Z"
   },
   {
    "duration": 16,
    "start_time": "2025-03-07T19:46:42.211Z"
   },
   {
    "duration": 21,
    "start_time": "2025-03-07T19:46:57.122Z"
   },
   {
    "duration": 190,
    "start_time": "2025-03-07T19:47:59.719Z"
   },
   {
    "duration": 216,
    "start_time": "2025-03-07T19:48:17.416Z"
   },
   {
    "duration": 57,
    "start_time": "2025-03-07T19:48:37.021Z"
   },
   {
    "duration": 88,
    "start_time": "2025-03-07T19:49:17.448Z"
   },
   {
    "duration": 73,
    "start_time": "2025-03-07T19:49:22.747Z"
   },
   {
    "duration": 38,
    "start_time": "2025-03-07T19:49:30.173Z"
   },
   {
    "duration": 212,
    "start_time": "2025-03-07T19:49:57.386Z"
   },
   {
    "duration": 4973,
    "start_time": "2025-03-08T16:12:35.892Z"
   },
   {
    "duration": 1636,
    "start_time": "2025-03-08T16:12:40.869Z"
   },
   {
    "duration": 3,
    "start_time": "2025-03-08T16:12:42.507Z"
   },
   {
    "duration": 2590,
    "start_time": "2025-03-08T16:12:42.513Z"
   },
   {
    "duration": 253,
    "start_time": "2025-03-08T16:12:45.105Z"
   },
   {
    "duration": 14,
    "start_time": "2025-03-08T16:12:45.360Z"
   },
   {
    "duration": 19,
    "start_time": "2025-03-08T16:12:45.376Z"
   },
   {
    "duration": 29,
    "start_time": "2025-03-08T16:12:45.397Z"
   },
   {
    "duration": 126,
    "start_time": "2025-03-08T16:12:45.427Z"
   },
   {
    "duration": 4,
    "start_time": "2025-03-08T16:12:45.556Z"
   },
   {
    "duration": 16,
    "start_time": "2025-03-08T16:12:45.562Z"
   },
   {
    "duration": 35,
    "start_time": "2025-03-08T16:12:45.581Z"
   },
   {
    "duration": 49,
    "start_time": "2025-03-08T16:12:45.618Z"
   },
   {
    "duration": 8,
    "start_time": "2025-03-08T16:12:45.669Z"
   },
   {
    "duration": 29,
    "start_time": "2025-03-08T16:12:45.680Z"
   },
   {
    "duration": 9,
    "start_time": "2025-03-08T16:12:45.711Z"
   },
   {
    "duration": 73,
    "start_time": "2025-03-08T16:12:45.722Z"
   },
   {
    "duration": 114,
    "start_time": "2025-03-08T16:12:45.797Z"
   },
   {
    "duration": 7,
    "start_time": "2025-03-08T16:12:45.914Z"
   },
   {
    "duration": 10,
    "start_time": "2025-03-08T16:12:45.923Z"
   },
   {
    "duration": 6,
    "start_time": "2025-03-08T16:12:45.934Z"
   },
   {
    "duration": 87,
    "start_time": "2025-03-08T16:12:45.942Z"
   },
   {
    "duration": 78,
    "start_time": "2025-03-08T16:12:46.031Z"
   },
   {
    "duration": 61,
    "start_time": "2025-03-08T16:12:46.111Z"
   },
   {
    "duration": 7,
    "start_time": "2025-03-08T16:12:46.174Z"
   },
   {
    "duration": 35,
    "start_time": "2025-03-08T16:12:46.183Z"
   },
   {
    "duration": 7,
    "start_time": "2025-03-08T16:12:46.219Z"
   },
   {
    "duration": 18,
    "start_time": "2025-03-08T16:12:46.231Z"
   },
   {
    "duration": 27,
    "start_time": "2025-03-08T16:12:46.250Z"
   },
   {
    "duration": 61,
    "start_time": "2025-03-08T16:12:46.279Z"
   },
   {
    "duration": 185,
    "start_time": "2025-03-08T16:12:46.343Z"
   },
   {
    "duration": 90,
    "start_time": "2025-03-08T16:12:46.530Z"
   },
   {
    "duration": 29,
    "start_time": "2025-03-08T16:12:46.622Z"
   },
   {
    "duration": 36,
    "start_time": "2025-03-08T16:12:46.673Z"
   },
   {
    "duration": 12,
    "start_time": "2025-03-08T16:12:46.711Z"
   },
   {
    "duration": 48,
    "start_time": "2025-03-08T16:12:46.725Z"
   },
   {
    "duration": 40,
    "start_time": "2025-03-08T16:12:46.775Z"
   },
   {
    "duration": 275,
    "start_time": "2025-03-08T16:12:46.817Z"
   },
   {
    "duration": 40,
    "start_time": "2025-03-08T16:12:47.095Z"
   },
   {
    "duration": 535,
    "start_time": "2025-03-08T16:12:47.137Z"
   },
   {
    "duration": 1084,
    "start_time": "2025-03-08T16:12:47.674Z"
   },
   {
    "duration": 0,
    "start_time": "2025-03-08T16:12:48.761Z"
   },
   {
    "duration": 0,
    "start_time": "2025-03-08T16:12:48.762Z"
   },
   {
    "duration": 0,
    "start_time": "2025-03-08T16:12:48.764Z"
   },
   {
    "duration": 0,
    "start_time": "2025-03-08T16:12:48.766Z"
   },
   {
    "duration": 0,
    "start_time": "2025-03-08T16:12:48.768Z"
   },
   {
    "duration": 0,
    "start_time": "2025-03-08T16:12:48.769Z"
   },
   {
    "duration": 0,
    "start_time": "2025-03-08T16:12:48.771Z"
   },
   {
    "duration": 0,
    "start_time": "2025-03-08T16:12:48.773Z"
   },
   {
    "duration": 0,
    "start_time": "2025-03-08T16:12:48.775Z"
   },
   {
    "duration": 0,
    "start_time": "2025-03-08T16:12:48.777Z"
   },
   {
    "duration": 0,
    "start_time": "2025-03-08T16:12:48.779Z"
   },
   {
    "duration": 0,
    "start_time": "2025-03-08T16:12:48.781Z"
   },
   {
    "duration": 0,
    "start_time": "2025-03-08T16:12:48.784Z"
   },
   {
    "duration": 0,
    "start_time": "2025-03-08T16:12:48.785Z"
   },
   {
    "duration": 0,
    "start_time": "2025-03-08T16:12:48.787Z"
   },
   {
    "duration": 0,
    "start_time": "2025-03-08T16:12:48.789Z"
   },
   {
    "duration": 0,
    "start_time": "2025-03-08T16:12:48.790Z"
   },
   {
    "duration": 0,
    "start_time": "2025-03-08T16:12:48.792Z"
   },
   {
    "duration": 0,
    "start_time": "2025-03-08T16:12:48.794Z"
   },
   {
    "duration": 0,
    "start_time": "2025-03-08T16:12:48.796Z"
   },
   {
    "duration": 0,
    "start_time": "2025-03-08T16:12:48.798Z"
   },
   {
    "duration": 0,
    "start_time": "2025-03-08T16:12:48.799Z"
   },
   {
    "duration": 0,
    "start_time": "2025-03-08T16:12:48.800Z"
   },
   {
    "duration": 0,
    "start_time": "2025-03-08T16:12:48.801Z"
   },
   {
    "duration": 0,
    "start_time": "2025-03-08T16:12:48.803Z"
   },
   {
    "duration": 0,
    "start_time": "2025-03-08T16:12:48.804Z"
   },
   {
    "duration": 0,
    "start_time": "2025-03-08T16:12:48.805Z"
   },
   {
    "duration": 0,
    "start_time": "2025-03-08T16:12:48.807Z"
   },
   {
    "duration": 0,
    "start_time": "2025-03-08T16:12:48.809Z"
   },
   {
    "duration": 0,
    "start_time": "2025-03-08T16:12:48.810Z"
   },
   {
    "duration": 0,
    "start_time": "2025-03-08T16:12:48.811Z"
   },
   {
    "duration": 0,
    "start_time": "2025-03-08T16:12:48.871Z"
   },
   {
    "duration": 0,
    "start_time": "2025-03-08T16:12:48.874Z"
   },
   {
    "duration": 0,
    "start_time": "2025-03-08T16:12:48.875Z"
   },
   {
    "duration": 0,
    "start_time": "2025-03-08T16:12:48.877Z"
   },
   {
    "duration": 0,
    "start_time": "2025-03-08T16:12:48.880Z"
   },
   {
    "duration": 0,
    "start_time": "2025-03-08T16:12:48.881Z"
   },
   {
    "duration": 0,
    "start_time": "2025-03-08T16:12:48.883Z"
   },
   {
    "duration": 0,
    "start_time": "2025-03-08T16:12:48.885Z"
   },
   {
    "duration": 0,
    "start_time": "2025-03-08T16:12:48.886Z"
   },
   {
    "duration": 0,
    "start_time": "2025-03-08T16:12:48.888Z"
   },
   {
    "duration": 17,
    "start_time": "2025-03-08T16:13:33.363Z"
   },
   {
    "duration": 190,
    "start_time": "2025-03-08T16:13:38.074Z"
   },
   {
    "duration": 1039,
    "start_time": "2025-03-08T16:14:05.788Z"
   },
   {
    "duration": 72,
    "start_time": "2025-03-08T16:15:29.169Z"
   },
   {
    "duration": 121,
    "start_time": "2025-03-08T16:16:43.161Z"
   },
   {
    "duration": 21,
    "start_time": "2025-03-08T16:17:17.972Z"
   },
   {
    "duration": 79,
    "start_time": "2025-03-08T16:18:13.000Z"
   },
   {
    "duration": 315,
    "start_time": "2025-03-08T16:18:15.465Z"
   },
   {
    "duration": 2824,
    "start_time": "2025-03-08T16:18:37.634Z"
   },
   {
    "duration": 1337,
    "start_time": "2025-03-08T16:18:40.461Z"
   },
   {
    "duration": 2,
    "start_time": "2025-03-08T16:18:41.800Z"
   },
   {
    "duration": 2361,
    "start_time": "2025-03-08T16:18:41.804Z"
   },
   {
    "duration": 211,
    "start_time": "2025-03-08T16:18:44.167Z"
   },
   {
    "duration": 14,
    "start_time": "2025-03-08T16:18:44.379Z"
   },
   {
    "duration": 25,
    "start_time": "2025-03-08T16:18:44.394Z"
   },
   {
    "duration": 29,
    "start_time": "2025-03-08T16:18:44.421Z"
   },
   {
    "duration": 118,
    "start_time": "2025-03-08T16:18:44.451Z"
   },
   {
    "duration": 3,
    "start_time": "2025-03-08T16:18:44.574Z"
   },
   {
    "duration": 14,
    "start_time": "2025-03-08T16:18:44.579Z"
   },
   {
    "duration": 18,
    "start_time": "2025-03-08T16:18:44.595Z"
   },
   {
    "duration": 45,
    "start_time": "2025-03-08T16:18:44.615Z"
   },
   {
    "duration": 17,
    "start_time": "2025-03-08T16:18:44.661Z"
   },
   {
    "duration": 43,
    "start_time": "2025-03-08T16:18:44.679Z"
   },
   {
    "duration": 9,
    "start_time": "2025-03-08T16:18:44.723Z"
   },
   {
    "duration": 33,
    "start_time": "2025-03-08T16:18:44.733Z"
   },
   {
    "duration": 82,
    "start_time": "2025-03-08T16:18:44.768Z"
   },
   {
    "duration": 6,
    "start_time": "2025-03-08T16:18:44.852Z"
   },
   {
    "duration": 9,
    "start_time": "2025-03-08T16:18:44.871Z"
   },
   {
    "duration": 6,
    "start_time": "2025-03-08T16:18:44.882Z"
   },
   {
    "duration": 58,
    "start_time": "2025-03-08T16:18:44.889Z"
   },
   {
    "duration": 88,
    "start_time": "2025-03-08T16:18:44.949Z"
   },
   {
    "duration": 60,
    "start_time": "2025-03-08T16:18:45.039Z"
   },
   {
    "duration": 27,
    "start_time": "2025-03-08T16:18:45.101Z"
   },
   {
    "duration": 34,
    "start_time": "2025-03-08T16:18:45.130Z"
   },
   {
    "duration": 43,
    "start_time": "2025-03-08T16:18:45.165Z"
   },
   {
    "duration": 36,
    "start_time": "2025-03-08T16:18:45.213Z"
   },
   {
    "duration": 36,
    "start_time": "2025-03-08T16:18:45.251Z"
   },
   {
    "duration": 91,
    "start_time": "2025-03-08T16:18:45.289Z"
   },
   {
    "duration": 170,
    "start_time": "2025-03-08T16:18:45.382Z"
   },
   {
    "duration": 85,
    "start_time": "2025-03-08T16:18:45.554Z"
   },
   {
    "duration": 47,
    "start_time": "2025-03-08T16:18:45.641Z"
   },
   {
    "duration": 36,
    "start_time": "2025-03-08T16:18:45.690Z"
   },
   {
    "duration": 11,
    "start_time": "2025-03-08T16:18:45.728Z"
   },
   {
    "duration": 74,
    "start_time": "2025-03-08T16:18:45.741Z"
   },
   {
    "duration": 49,
    "start_time": "2025-03-08T16:18:45.817Z"
   },
   {
    "duration": 257,
    "start_time": "2025-03-08T16:18:45.867Z"
   },
   {
    "duration": 47,
    "start_time": "2025-03-08T16:18:46.126Z"
   },
   {
    "duration": 512,
    "start_time": "2025-03-08T16:18:46.174Z"
   },
   {
    "duration": 92,
    "start_time": "2025-03-08T16:18:46.688Z"
   },
   {
    "duration": 211,
    "start_time": "2025-03-08T16:18:46.782Z"
   },
   {
    "duration": 178,
    "start_time": "2025-03-08T16:18:46.994Z"
   },
   {
    "duration": 22,
    "start_time": "2025-03-08T16:18:47.174Z"
   },
   {
    "duration": 107,
    "start_time": "2025-03-08T16:18:47.198Z"
   },
   {
    "duration": 16,
    "start_time": "2025-03-08T16:18:47.307Z"
   },
   {
    "duration": 90,
    "start_time": "2025-03-08T16:18:47.324Z"
   },
   {
    "duration": 89,
    "start_time": "2025-03-08T16:18:47.416Z"
   },
   {
    "duration": 11,
    "start_time": "2025-03-08T16:18:47.507Z"
   },
   {
    "duration": 6,
    "start_time": "2025-03-08T16:18:47.520Z"
   },
   {
    "duration": 22,
    "start_time": "2025-03-08T16:18:47.528Z"
   },
   {
    "duration": 22,
    "start_time": "2025-03-08T16:18:47.552Z"
   },
   {
    "duration": 5,
    "start_time": "2025-03-08T16:18:47.576Z"
   },
   {
    "duration": 22,
    "start_time": "2025-03-08T16:18:47.583Z"
   },
   {
    "duration": 131,
    "start_time": "2025-03-08T16:18:47.607Z"
   },
   {
    "duration": 53,
    "start_time": "2025-03-08T16:18:47.740Z"
   },
   {
    "duration": 43,
    "start_time": "2025-03-08T16:18:47.795Z"
   },
   {
    "duration": 24,
    "start_time": "2025-03-08T16:18:47.840Z"
   },
   {
    "duration": 6,
    "start_time": "2025-03-08T16:18:47.866Z"
   },
   {
    "duration": 35,
    "start_time": "2025-03-08T16:18:47.874Z"
   },
   {
    "duration": 39,
    "start_time": "2025-03-08T16:18:47.911Z"
   },
   {
    "duration": 25,
    "start_time": "2025-03-08T16:18:47.952Z"
   },
   {
    "duration": 27,
    "start_time": "2025-03-08T16:18:47.978Z"
   },
   {
    "duration": 365,
    "start_time": "2025-03-08T16:18:48.007Z"
   },
   {
    "duration": 17,
    "start_time": "2025-03-08T16:18:48.373Z"
   },
   {
    "duration": 67,
    "start_time": "2025-03-08T16:18:48.392Z"
   },
   {
    "duration": 25,
    "start_time": "2025-03-08T16:18:48.472Z"
   },
   {
    "duration": 3,
    "start_time": "2025-03-08T16:18:48.499Z"
   },
   {
    "duration": 143,
    "start_time": "2025-03-08T16:18:48.504Z"
   },
   {
    "duration": 42,
    "start_time": "2025-03-08T16:18:48.648Z"
   },
   {
    "duration": 222,
    "start_time": "2025-03-08T16:18:48.691Z"
   },
   {
    "duration": 65,
    "start_time": "2025-03-08T16:18:48.915Z"
   },
   {
    "duration": 69,
    "start_time": "2025-03-08T16:18:48.982Z"
   },
   {
    "duration": 169,
    "start_time": "2025-03-08T16:18:49.053Z"
   },
   {
    "duration": 5,
    "start_time": "2025-03-08T16:18:49.224Z"
   },
   {
    "duration": 19,
    "start_time": "2025-03-08T16:18:49.231Z"
   },
   {
    "duration": 37,
    "start_time": "2025-03-08T16:18:49.252Z"
   },
   {
    "duration": 40,
    "start_time": "2025-03-08T16:18:49.291Z"
   },
   {
    "duration": 7,
    "start_time": "2025-03-08T16:18:49.332Z"
   },
   {
    "duration": 36,
    "start_time": "2025-03-08T16:18:49.340Z"
   },
   {
    "duration": 30,
    "start_time": "2025-03-08T16:18:49.378Z"
   },
   {
    "duration": 5,
    "start_time": "2025-03-08T16:18:49.413Z"
   },
   {
    "duration": 78,
    "start_time": "2025-03-08T16:19:28.216Z"
   },
   {
    "duration": 136,
    "start_time": "2025-03-08T16:19:50.097Z"
   },
   {
    "duration": 2859,
    "start_time": "2025-03-08T16:20:00.391Z"
   },
   {
    "duration": 1455,
    "start_time": "2025-03-08T16:20:03.253Z"
   },
   {
    "duration": 2,
    "start_time": "2025-03-08T16:20:04.710Z"
   },
   {
    "duration": 2083,
    "start_time": "2025-03-08T16:20:04.714Z"
   },
   {
    "duration": 129,
    "start_time": "2025-03-08T16:20:06.799Z"
   },
   {
    "duration": 14,
    "start_time": "2025-03-08T16:20:06.929Z"
   },
   {
    "duration": 13,
    "start_time": "2025-03-08T16:20:06.944Z"
   },
   {
    "duration": 29,
    "start_time": "2025-03-08T16:20:06.958Z"
   },
   {
    "duration": 110,
    "start_time": "2025-03-08T16:20:06.989Z"
   },
   {
    "duration": 3,
    "start_time": "2025-03-08T16:20:07.102Z"
   },
   {
    "duration": 6,
    "start_time": "2025-03-08T16:20:07.106Z"
   },
   {
    "duration": 19,
    "start_time": "2025-03-08T16:20:07.114Z"
   },
   {
    "duration": 57,
    "start_time": "2025-03-08T16:20:07.134Z"
   },
   {
    "duration": 8,
    "start_time": "2025-03-08T16:20:07.193Z"
   },
   {
    "duration": 28,
    "start_time": "2025-03-08T16:20:07.203Z"
   },
   {
    "duration": 9,
    "start_time": "2025-03-08T16:20:07.233Z"
   },
   {
    "duration": 45,
    "start_time": "2025-03-08T16:20:07.244Z"
   },
   {
    "duration": 91,
    "start_time": "2025-03-08T16:20:07.291Z"
   },
   {
    "duration": 6,
    "start_time": "2025-03-08T16:20:07.384Z"
   },
   {
    "duration": 15,
    "start_time": "2025-03-08T16:20:07.391Z"
   },
   {
    "duration": 10,
    "start_time": "2025-03-08T16:20:07.408Z"
   },
   {
    "duration": 67,
    "start_time": "2025-03-08T16:20:07.420Z"
   },
   {
    "duration": 68,
    "start_time": "2025-03-08T16:20:07.489Z"
   },
   {
    "duration": 63,
    "start_time": "2025-03-08T16:20:07.559Z"
   },
   {
    "duration": 6,
    "start_time": "2025-03-08T16:20:07.624Z"
   },
   {
    "duration": 46,
    "start_time": "2025-03-08T16:20:07.632Z"
   },
   {
    "duration": 14,
    "start_time": "2025-03-08T16:20:07.680Z"
   },
   {
    "duration": 25,
    "start_time": "2025-03-08T16:20:07.700Z"
   },
   {
    "duration": 12,
    "start_time": "2025-03-08T16:20:07.726Z"
   },
   {
    "duration": 105,
    "start_time": "2025-03-08T16:20:07.740Z"
   },
   {
    "duration": 158,
    "start_time": "2025-03-08T16:20:07.848Z"
   },
   {
    "duration": 89,
    "start_time": "2025-03-08T16:20:08.008Z"
   },
   {
    "duration": 26,
    "start_time": "2025-03-08T16:20:08.098Z"
   },
   {
    "duration": 50,
    "start_time": "2025-03-08T16:20:08.126Z"
   },
   {
    "duration": 11,
    "start_time": "2025-03-08T16:20:08.178Z"
   },
   {
    "duration": 29,
    "start_time": "2025-03-08T16:20:08.191Z"
   },
   {
    "duration": 63,
    "start_time": "2025-03-08T16:20:08.221Z"
   },
   {
    "duration": 266,
    "start_time": "2025-03-08T16:20:08.285Z"
   },
   {
    "duration": 48,
    "start_time": "2025-03-08T16:20:08.553Z"
   },
   {
    "duration": 559,
    "start_time": "2025-03-08T16:20:08.603Z"
   },
   {
    "duration": 93,
    "start_time": "2025-03-08T16:20:09.172Z"
   },
   {
    "duration": 211,
    "start_time": "2025-03-08T16:20:09.272Z"
   },
   {
    "duration": 180,
    "start_time": "2025-03-08T16:20:09.485Z"
   },
   {
    "duration": 27,
    "start_time": "2025-03-08T16:20:09.667Z"
   },
   {
    "duration": 197,
    "start_time": "2025-03-08T16:20:09.696Z"
   },
   {
    "duration": 18,
    "start_time": "2025-03-08T16:20:09.896Z"
   },
   {
    "duration": 98,
    "start_time": "2025-03-08T16:20:09.915Z"
   },
   {
    "duration": 100,
    "start_time": "2025-03-08T16:20:10.015Z"
   },
   {
    "duration": 11,
    "start_time": "2025-03-08T16:20:10.117Z"
   },
   {
    "duration": 9,
    "start_time": "2025-03-08T16:20:10.130Z"
   },
   {
    "duration": 39,
    "start_time": "2025-03-08T16:20:10.141Z"
   },
   {
    "duration": 23,
    "start_time": "2025-03-08T16:20:10.182Z"
   },
   {
    "duration": 9,
    "start_time": "2025-03-08T16:20:10.207Z"
   },
   {
    "duration": 26,
    "start_time": "2025-03-08T16:20:10.217Z"
   },
   {
    "duration": 5,
    "start_time": "2025-03-08T16:20:10.245Z"
   },
   {
    "duration": 5,
    "start_time": "2025-03-08T16:20:10.252Z"
   },
   {
    "duration": 53,
    "start_time": "2025-03-08T16:20:10.259Z"
   },
   {
    "duration": 26,
    "start_time": "2025-03-08T16:20:10.313Z"
   },
   {
    "duration": 5,
    "start_time": "2025-03-08T16:20:10.341Z"
   },
   {
    "duration": 53,
    "start_time": "2025-03-08T16:20:10.347Z"
   },
   {
    "duration": 42,
    "start_time": "2025-03-08T16:20:10.402Z"
   },
   {
    "duration": 27,
    "start_time": "2025-03-08T16:20:10.445Z"
   },
   {
    "duration": 30,
    "start_time": "2025-03-08T16:20:10.474Z"
   },
   {
    "duration": 412,
    "start_time": "2025-03-08T16:20:10.507Z"
   },
   {
    "duration": 18,
    "start_time": "2025-03-08T16:20:10.921Z"
   },
   {
    "duration": 84,
    "start_time": "2025-03-08T16:20:10.941Z"
   },
   {
    "duration": 28,
    "start_time": "2025-03-08T16:20:11.027Z"
   },
   {
    "duration": 16,
    "start_time": "2025-03-08T16:20:11.057Z"
   },
   {
    "duration": 168,
    "start_time": "2025-03-08T16:20:11.075Z"
   },
   {
    "duration": 51,
    "start_time": "2025-03-08T16:20:11.245Z"
   },
   {
    "duration": 230,
    "start_time": "2025-03-08T16:20:11.298Z"
   },
   {
    "duration": 67,
    "start_time": "2025-03-08T16:20:11.529Z"
   },
   {
    "duration": 83,
    "start_time": "2025-03-08T16:20:11.598Z"
   },
   {
    "duration": 188,
    "start_time": "2025-03-08T16:20:11.683Z"
   },
   {
    "duration": 6,
    "start_time": "2025-03-08T16:20:11.872Z"
   },
   {
    "duration": 25,
    "start_time": "2025-03-08T16:20:11.879Z"
   },
   {
    "duration": 25,
    "start_time": "2025-03-08T16:20:11.906Z"
   },
   {
    "duration": 57,
    "start_time": "2025-03-08T16:20:11.933Z"
   },
   {
    "duration": 7,
    "start_time": "2025-03-08T16:20:11.991Z"
   },
   {
    "duration": 11,
    "start_time": "2025-03-08T16:20:11.999Z"
   },
   {
    "duration": 31,
    "start_time": "2025-03-08T16:20:12.012Z"
   },
   {
    "duration": 6,
    "start_time": "2025-03-08T16:20:12.071Z"
   },
   {
    "duration": 92,
    "start_time": "2025-03-08T16:22:45.050Z"
   },
   {
    "duration": 153,
    "start_time": "2025-03-08T16:22:48.919Z"
   },
   {
    "duration": 271,
    "start_time": "2025-03-08T16:23:07.443Z"
   },
   {
    "duration": 2723,
    "start_time": "2025-03-08T16:23:16.782Z"
   },
   {
    "duration": 1273,
    "start_time": "2025-03-08T16:23:19.508Z"
   },
   {
    "duration": 3,
    "start_time": "2025-03-08T16:23:20.783Z"
   },
   {
    "duration": 1866,
    "start_time": "2025-03-08T16:23:20.788Z"
   },
   {
    "duration": 149,
    "start_time": "2025-03-08T16:23:22.655Z"
   },
   {
    "duration": 13,
    "start_time": "2025-03-08T16:23:22.806Z"
   },
   {
    "duration": 12,
    "start_time": "2025-03-08T16:23:22.821Z"
   },
   {
    "duration": 26,
    "start_time": "2025-03-08T16:23:22.835Z"
   },
   {
    "duration": 113,
    "start_time": "2025-03-08T16:23:22.872Z"
   },
   {
    "duration": 3,
    "start_time": "2025-03-08T16:23:22.988Z"
   },
   {
    "duration": 7,
    "start_time": "2025-03-08T16:23:22.993Z"
   },
   {
    "duration": 11,
    "start_time": "2025-03-08T16:23:23.001Z"
   },
   {
    "duration": 65,
    "start_time": "2025-03-08T16:23:23.013Z"
   },
   {
    "duration": 8,
    "start_time": "2025-03-08T16:23:23.080Z"
   },
   {
    "duration": 22,
    "start_time": "2025-03-08T16:23:23.090Z"
   },
   {
    "duration": 8,
    "start_time": "2025-03-08T16:23:23.114Z"
   },
   {
    "duration": 52,
    "start_time": "2025-03-08T16:23:23.123Z"
   },
   {
    "duration": 80,
    "start_time": "2025-03-08T16:23:23.177Z"
   },
   {
    "duration": 17,
    "start_time": "2025-03-08T16:23:23.259Z"
   },
   {
    "duration": 9,
    "start_time": "2025-03-08T16:23:23.278Z"
   },
   {
    "duration": 24,
    "start_time": "2025-03-08T16:23:23.288Z"
   },
   {
    "duration": 74,
    "start_time": "2025-03-08T16:23:23.314Z"
   },
   {
    "duration": 67,
    "start_time": "2025-03-08T16:23:23.390Z"
   },
   {
    "duration": 62,
    "start_time": "2025-03-08T16:23:23.459Z"
   },
   {
    "duration": 6,
    "start_time": "2025-03-08T16:23:23.523Z"
   },
   {
    "duration": 44,
    "start_time": "2025-03-08T16:23:23.531Z"
   },
   {
    "duration": 6,
    "start_time": "2025-03-08T16:23:23.577Z"
   },
   {
    "duration": 15,
    "start_time": "2025-03-08T16:23:23.588Z"
   },
   {
    "duration": 36,
    "start_time": "2025-03-08T16:23:23.605Z"
   },
   {
    "duration": 72,
    "start_time": "2025-03-08T16:23:23.643Z"
   },
   {
    "duration": 170,
    "start_time": "2025-03-08T16:23:23.717Z"
   },
   {
    "duration": 100,
    "start_time": "2025-03-08T16:23:23.889Z"
   },
   {
    "duration": 31,
    "start_time": "2025-03-08T16:23:23.991Z"
   },
   {
    "duration": 49,
    "start_time": "2025-03-08T16:23:24.024Z"
   },
   {
    "duration": 11,
    "start_time": "2025-03-08T16:23:24.075Z"
   },
   {
    "duration": 30,
    "start_time": "2025-03-08T16:23:24.088Z"
   },
   {
    "duration": 59,
    "start_time": "2025-03-08T16:23:24.120Z"
   },
   {
    "duration": 265,
    "start_time": "2025-03-08T16:23:24.181Z"
   },
   {
    "duration": 48,
    "start_time": "2025-03-08T16:23:24.448Z"
   },
   {
    "duration": 547,
    "start_time": "2025-03-08T16:23:24.498Z"
   },
   {
    "duration": 115,
    "start_time": "2025-03-08T16:23:25.047Z"
   },
   {
    "duration": 145,
    "start_time": "2025-03-08T16:23:25.163Z"
   },
   {
    "duration": 0,
    "start_time": "2025-03-08T16:23:25.310Z"
   },
   {
    "duration": 0,
    "start_time": "2025-03-08T16:23:25.311Z"
   },
   {
    "duration": 0,
    "start_time": "2025-03-08T16:23:25.313Z"
   },
   {
    "duration": 0,
    "start_time": "2025-03-08T16:23:25.314Z"
   },
   {
    "duration": 0,
    "start_time": "2025-03-08T16:23:25.316Z"
   },
   {
    "duration": 0,
    "start_time": "2025-03-08T16:23:25.317Z"
   },
   {
    "duration": 0,
    "start_time": "2025-03-08T16:23:25.319Z"
   },
   {
    "duration": 0,
    "start_time": "2025-03-08T16:23:25.320Z"
   },
   {
    "duration": 0,
    "start_time": "2025-03-08T16:23:25.321Z"
   },
   {
    "duration": 0,
    "start_time": "2025-03-08T16:23:25.322Z"
   },
   {
    "duration": 0,
    "start_time": "2025-03-08T16:23:25.324Z"
   },
   {
    "duration": 0,
    "start_time": "2025-03-08T16:23:25.325Z"
   },
   {
    "duration": 0,
    "start_time": "2025-03-08T16:23:25.326Z"
   },
   {
    "duration": 0,
    "start_time": "2025-03-08T16:23:25.327Z"
   },
   {
    "duration": 0,
    "start_time": "2025-03-08T16:23:25.329Z"
   },
   {
    "duration": 0,
    "start_time": "2025-03-08T16:23:25.329Z"
   },
   {
    "duration": 0,
    "start_time": "2025-03-08T16:23:25.330Z"
   },
   {
    "duration": 0,
    "start_time": "2025-03-08T16:23:25.332Z"
   },
   {
    "duration": 0,
    "start_time": "2025-03-08T16:23:25.372Z"
   },
   {
    "duration": 0,
    "start_time": "2025-03-08T16:23:25.373Z"
   },
   {
    "duration": 0,
    "start_time": "2025-03-08T16:23:25.374Z"
   },
   {
    "duration": 0,
    "start_time": "2025-03-08T16:23:25.375Z"
   },
   {
    "duration": 0,
    "start_time": "2025-03-08T16:23:25.376Z"
   },
   {
    "duration": 0,
    "start_time": "2025-03-08T16:23:25.377Z"
   },
   {
    "duration": 0,
    "start_time": "2025-03-08T16:23:25.378Z"
   },
   {
    "duration": 0,
    "start_time": "2025-03-08T16:23:25.379Z"
   },
   {
    "duration": 0,
    "start_time": "2025-03-08T16:23:25.380Z"
   },
   {
    "duration": 0,
    "start_time": "2025-03-08T16:23:25.381Z"
   },
   {
    "duration": 0,
    "start_time": "2025-03-08T16:23:25.382Z"
   },
   {
    "duration": 0,
    "start_time": "2025-03-08T16:23:25.383Z"
   },
   {
    "duration": 0,
    "start_time": "2025-03-08T16:23:25.384Z"
   },
   {
    "duration": 0,
    "start_time": "2025-03-08T16:23:25.385Z"
   },
   {
    "duration": 0,
    "start_time": "2025-03-08T16:23:25.386Z"
   },
   {
    "duration": 0,
    "start_time": "2025-03-08T16:23:25.387Z"
   },
   {
    "duration": 0,
    "start_time": "2025-03-08T16:23:25.388Z"
   },
   {
    "duration": 0,
    "start_time": "2025-03-08T16:23:25.390Z"
   },
   {
    "duration": 0,
    "start_time": "2025-03-08T16:23:25.390Z"
   },
   {
    "duration": 0,
    "start_time": "2025-03-08T16:23:25.391Z"
   },
   {
    "duration": 0,
    "start_time": "2025-03-08T16:23:25.392Z"
   },
   {
    "duration": 0,
    "start_time": "2025-03-08T16:23:25.393Z"
   },
   {
    "duration": 213,
    "start_time": "2025-03-08T16:23:41.659Z"
   },
   {
    "duration": 68,
    "start_time": "2025-03-08T16:25:49.780Z"
   },
   {
    "duration": 29,
    "start_time": "2025-03-08T16:25:57.090Z"
   },
   {
    "duration": 271,
    "start_time": "2025-03-08T16:26:12.377Z"
   },
   {
    "duration": 17,
    "start_time": "2025-03-08T16:27:31.937Z"
   },
   {
    "duration": 12,
    "start_time": "2025-03-08T16:27:41.790Z"
   },
   {
    "duration": 113,
    "start_time": "2025-03-08T16:27:50.470Z"
   },
   {
    "duration": 15,
    "start_time": "2025-03-08T16:27:52.942Z"
   },
   {
    "duration": 69,
    "start_time": "2025-03-08T16:28:01.602Z"
   },
   {
    "duration": 1066,
    "start_time": "2025-03-08T16:28:05.090Z"
   },
   {
    "duration": 53,
    "start_time": "2025-03-08T16:28:38.001Z"
   },
   {
    "duration": 5,
    "start_time": "2025-03-08T16:28:40.190Z"
   },
   {
    "duration": 11,
    "start_time": "2025-03-08T16:28:50.901Z"
   },
   {
    "duration": 10,
    "start_time": "2025-03-08T16:29:11.546Z"
   },
   {
    "duration": 10,
    "start_time": "2025-03-08T16:29:12.587Z"
   },
   {
    "duration": 10,
    "start_time": "2025-03-08T16:29:13.779Z"
   },
   {
    "duration": 34,
    "start_time": "2025-03-08T16:31:10.125Z"
   },
   {
    "duration": 39,
    "start_time": "2025-03-08T16:31:10.605Z"
   },
   {
    "duration": 7,
    "start_time": "2025-03-08T16:31:11.101Z"
   },
   {
    "duration": 13847,
    "start_time": "2025-03-08T16:32:15.516Z"
   },
   {
    "duration": 39,
    "start_time": "2025-03-08T16:38:05.543Z"
   },
   {
    "duration": 1100,
    "start_time": "2025-03-08T16:38:42.950Z"
   },
   {
    "duration": 87,
    "start_time": "2025-03-08T16:39:27.750Z"
   },
   {
    "duration": 36,
    "start_time": "2025-03-08T16:43:45.647Z"
   },
   {
    "duration": 369,
    "start_time": "2025-03-08T16:43:46.702Z"
   },
   {
    "duration": 16,
    "start_time": "2025-03-08T16:43:47.073Z"
   },
   {
    "duration": 68,
    "start_time": "2025-03-08T16:43:47.727Z"
   },
   {
    "duration": 26,
    "start_time": "2025-03-08T16:43:48.204Z"
   },
   {
    "duration": 3,
    "start_time": "2025-03-08T16:43:48.855Z"
   },
   {
    "duration": 126,
    "start_time": "2025-03-08T16:43:49.051Z"
   },
   {
    "duration": 35,
    "start_time": "2025-03-08T16:43:49.818Z"
   },
   {
    "duration": 226,
    "start_time": "2025-03-08T16:43:50.047Z"
   },
   {
    "duration": 56,
    "start_time": "2025-03-08T16:43:50.492Z"
   },
   {
    "duration": 72,
    "start_time": "2025-03-08T16:43:50.966Z"
   },
   {
    "duration": 131,
    "start_time": "2025-03-08T16:43:51.210Z"
   },
   {
    "duration": 5,
    "start_time": "2025-03-08T16:43:51.472Z"
   },
   {
    "duration": 15,
    "start_time": "2025-03-08T16:43:51.694Z"
   },
   {
    "duration": 24,
    "start_time": "2025-03-08T16:43:51.932Z"
   },
   {
    "duration": 39,
    "start_time": "2025-03-08T16:43:52.298Z"
   },
   {
    "duration": 7,
    "start_time": "2025-03-08T16:43:52.544Z"
   },
   {
    "duration": 11,
    "start_time": "2025-03-08T16:43:52.975Z"
   },
   {
    "duration": 30,
    "start_time": "2025-03-08T16:43:53.180Z"
   },
   {
    "duration": 6,
    "start_time": "2025-03-08T16:43:53.598Z"
   },
   {
    "duration": 76,
    "start_time": "2025-03-08T16:50:08.407Z"
   },
   {
    "duration": 200,
    "start_time": "2025-03-08T16:50:10.374Z"
   },
   {
    "duration": 29,
    "start_time": "2025-03-08T16:51:20.713Z"
   },
   {
    "duration": 7,
    "start_time": "2025-03-08T17:07:45.242Z"
   },
   {
    "duration": 5,
    "start_time": "2025-03-08T17:07:56.209Z"
   },
   {
    "duration": 9,
    "start_time": "2025-03-08T17:08:10.395Z"
   },
   {
    "duration": 11,
    "start_time": "2025-03-08T17:08:18.160Z"
   },
   {
    "duration": 2828,
    "start_time": "2025-03-08T17:08:32.234Z"
   },
   {
    "duration": 1367,
    "start_time": "2025-03-08T17:08:35.064Z"
   },
   {
    "duration": 3,
    "start_time": "2025-03-08T17:08:36.433Z"
   },
   {
    "duration": 2488,
    "start_time": "2025-03-08T17:08:36.438Z"
   },
   {
    "duration": 234,
    "start_time": "2025-03-08T17:08:38.928Z"
   },
   {
    "duration": 16,
    "start_time": "2025-03-08T17:08:39.164Z"
   },
   {
    "duration": 15,
    "start_time": "2025-03-08T17:08:39.182Z"
   },
   {
    "duration": 36,
    "start_time": "2025-03-08T17:08:39.199Z"
   },
   {
    "duration": 139,
    "start_time": "2025-03-08T17:08:39.238Z"
   },
   {
    "duration": 4,
    "start_time": "2025-03-08T17:08:39.381Z"
   },
   {
    "duration": 13,
    "start_time": "2025-03-08T17:08:39.387Z"
   },
   {
    "duration": 12,
    "start_time": "2025-03-08T17:08:39.402Z"
   },
   {
    "duration": 90,
    "start_time": "2025-03-08T17:08:39.417Z"
   },
   {
    "duration": 10,
    "start_time": "2025-03-08T17:08:39.509Z"
   },
   {
    "duration": 31,
    "start_time": "2025-03-08T17:08:39.520Z"
   },
   {
    "duration": 27,
    "start_time": "2025-03-08T17:08:39.553Z"
   },
   {
    "duration": 43,
    "start_time": "2025-03-08T17:08:39.583Z"
   },
   {
    "duration": 92,
    "start_time": "2025-03-08T17:08:39.628Z"
   },
   {
    "duration": 8,
    "start_time": "2025-03-08T17:08:39.722Z"
   },
   {
    "duration": 10,
    "start_time": "2025-03-08T17:08:39.731Z"
   },
   {
    "duration": 60,
    "start_time": "2025-03-08T17:08:39.744Z"
   },
   {
    "duration": 58,
    "start_time": "2025-03-08T17:08:39.806Z"
   },
   {
    "duration": 70,
    "start_time": "2025-03-08T17:08:39.866Z"
   },
   {
    "duration": 64,
    "start_time": "2025-03-08T17:08:39.938Z"
   },
   {
    "duration": 6,
    "start_time": "2025-03-08T17:08:40.004Z"
   },
   {
    "duration": 24,
    "start_time": "2025-03-08T17:08:40.012Z"
   },
   {
    "duration": 11,
    "start_time": "2025-03-08T17:08:40.038Z"
   },
   {
    "duration": 31,
    "start_time": "2025-03-08T17:08:40.054Z"
   },
   {
    "duration": 7,
    "start_time": "2025-03-08T17:08:40.087Z"
   },
   {
    "duration": 69,
    "start_time": "2025-03-08T17:08:40.096Z"
   },
   {
    "duration": 191,
    "start_time": "2025-03-08T17:08:40.166Z"
   },
   {
    "duration": 95,
    "start_time": "2025-03-08T17:08:40.359Z"
   },
   {
    "duration": 41,
    "start_time": "2025-03-08T17:08:40.456Z"
   },
   {
    "duration": 48,
    "start_time": "2025-03-08T17:08:40.499Z"
   },
   {
    "duration": 28,
    "start_time": "2025-03-08T17:08:40.549Z"
   },
   {
    "duration": 31,
    "start_time": "2025-03-08T17:08:40.579Z"
   },
   {
    "duration": 62,
    "start_time": "2025-03-08T17:08:40.612Z"
   },
   {
    "duration": 305,
    "start_time": "2025-03-08T17:08:40.676Z"
   },
   {
    "duration": 39,
    "start_time": "2025-03-08T17:08:40.983Z"
   },
   {
    "duration": 551,
    "start_time": "2025-03-08T17:08:41.024Z"
   },
   {
    "duration": 104,
    "start_time": "2025-03-08T17:08:41.577Z"
   },
   {
    "duration": 218,
    "start_time": "2025-03-08T17:08:41.683Z"
   },
   {
    "duration": 39,
    "start_time": "2025-03-08T17:08:41.903Z"
   },
   {
    "duration": 33,
    "start_time": "2025-03-08T17:08:41.945Z"
   },
   {
    "duration": 104,
    "start_time": "2025-03-08T17:08:41.981Z"
   },
   {
    "duration": 15,
    "start_time": "2025-03-08T17:08:42.087Z"
   },
   {
    "duration": 82,
    "start_time": "2025-03-08T17:08:42.104Z"
   },
   {
    "duration": 57,
    "start_time": "2025-03-08T17:08:42.188Z"
   },
   {
    "duration": 25,
    "start_time": "2025-03-08T17:08:42.247Z"
   },
   {
    "duration": 5,
    "start_time": "2025-03-08T17:08:42.274Z"
   },
   {
    "duration": 1126,
    "start_time": "2025-03-08T17:08:42.281Z"
   },
   {
    "duration": 0,
    "start_time": "2025-03-08T17:08:43.409Z"
   },
   {
    "duration": 0,
    "start_time": "2025-03-08T17:08:43.410Z"
   },
   {
    "duration": 0,
    "start_time": "2025-03-08T17:08:43.412Z"
   },
   {
    "duration": 0,
    "start_time": "2025-03-08T17:08:43.413Z"
   },
   {
    "duration": 0,
    "start_time": "2025-03-08T17:08:43.414Z"
   },
   {
    "duration": 0,
    "start_time": "2025-03-08T17:08:43.415Z"
   },
   {
    "duration": 0,
    "start_time": "2025-03-08T17:08:43.417Z"
   },
   {
    "duration": 0,
    "start_time": "2025-03-08T17:08:43.418Z"
   },
   {
    "duration": 0,
    "start_time": "2025-03-08T17:08:43.420Z"
   },
   {
    "duration": 0,
    "start_time": "2025-03-08T17:08:43.421Z"
   },
   {
    "duration": 1,
    "start_time": "2025-03-08T17:08:43.423Z"
   },
   {
    "duration": 0,
    "start_time": "2025-03-08T17:08:43.425Z"
   },
   {
    "duration": 0,
    "start_time": "2025-03-08T17:08:43.426Z"
   },
   {
    "duration": 0,
    "start_time": "2025-03-08T17:08:43.427Z"
   },
   {
    "duration": 0,
    "start_time": "2025-03-08T17:08:43.428Z"
   },
   {
    "duration": 0,
    "start_time": "2025-03-08T17:08:43.429Z"
   },
   {
    "duration": 0,
    "start_time": "2025-03-08T17:08:43.430Z"
   },
   {
    "duration": 0,
    "start_time": "2025-03-08T17:08:43.431Z"
   },
   {
    "duration": 0,
    "start_time": "2025-03-08T17:08:43.433Z"
   },
   {
    "duration": 0,
    "start_time": "2025-03-08T17:08:43.434Z"
   },
   {
    "duration": 0,
    "start_time": "2025-03-08T17:08:43.434Z"
   },
   {
    "duration": 0,
    "start_time": "2025-03-08T17:08:43.436Z"
   },
   {
    "duration": 0,
    "start_time": "2025-03-08T17:08:43.437Z"
   },
   {
    "duration": 0,
    "start_time": "2025-03-08T17:08:43.438Z"
   },
   {
    "duration": 0,
    "start_time": "2025-03-08T17:08:43.440Z"
   },
   {
    "duration": 0,
    "start_time": "2025-03-08T17:08:43.441Z"
   },
   {
    "duration": 0,
    "start_time": "2025-03-08T17:08:43.443Z"
   },
   {
    "duration": 0,
    "start_time": "2025-03-08T17:08:43.472Z"
   },
   {
    "duration": 0,
    "start_time": "2025-03-08T17:08:43.474Z"
   },
   {
    "duration": 0,
    "start_time": "2025-03-08T17:08:43.475Z"
   },
   {
    "duration": 0,
    "start_time": "2025-03-08T17:08:43.476Z"
   },
   {
    "duration": 0,
    "start_time": "2025-03-08T17:08:43.477Z"
   },
   {
    "duration": 0,
    "start_time": "2025-03-08T17:08:43.479Z"
   },
   {
    "duration": 8,
    "start_time": "2025-03-08T17:10:01.628Z"
   },
   {
    "duration": 7,
    "start_time": "2025-03-08T17:10:08.516Z"
   },
   {
    "duration": 11,
    "start_time": "2025-03-08T17:10:31.818Z"
   },
   {
    "duration": 7,
    "start_time": "2025-03-08T17:10:43.715Z"
   },
   {
    "duration": 6,
    "start_time": "2025-03-08T17:10:44.563Z"
   },
   {
    "duration": 4,
    "start_time": "2025-03-08T17:11:07.405Z"
   },
   {
    "duration": 10,
    "start_time": "2025-03-08T17:12:12.840Z"
   },
   {
    "duration": 5,
    "start_time": "2025-03-08T17:12:26.989Z"
   },
   {
    "duration": 7,
    "start_time": "2025-03-08T17:12:34.267Z"
   },
   {
    "duration": 6,
    "start_time": "2025-03-08T17:12:46.898Z"
   },
   {
    "duration": 999,
    "start_time": "2025-03-08T17:13:19.761Z"
   },
   {
    "duration": 8,
    "start_time": "2025-03-08T17:14:36.676Z"
   },
   {
    "duration": 10,
    "start_time": "2025-03-08T17:14:48.009Z"
   },
   {
    "duration": 5,
    "start_time": "2025-03-08T17:15:05.007Z"
   },
   {
    "duration": 7,
    "start_time": "2025-03-08T17:15:22.855Z"
   },
   {
    "duration": 10,
    "start_time": "2025-03-08T17:15:43.503Z"
   },
   {
    "duration": 65,
    "start_time": "2025-03-08T17:16:11.361Z"
   },
   {
    "duration": 104,
    "start_time": "2025-03-08T17:17:38.700Z"
   },
   {
    "duration": 74,
    "start_time": "2025-03-08T17:18:35.260Z"
   },
   {
    "duration": 10,
    "start_time": "2025-03-08T17:18:41.450Z"
   },
   {
    "duration": 7,
    "start_time": "2025-03-08T17:18:59.794Z"
   },
   {
    "duration": 6,
    "start_time": "2025-03-08T17:19:00.378Z"
   },
   {
    "duration": 123,
    "start_time": "2025-03-08T17:19:01.342Z"
   },
   {
    "duration": 2708,
    "start_time": "2025-03-08T17:19:20.856Z"
   },
   {
    "duration": 1305,
    "start_time": "2025-03-08T17:19:23.567Z"
   },
   {
    "duration": 3,
    "start_time": "2025-03-08T17:19:24.873Z"
   },
   {
    "duration": 2952,
    "start_time": "2025-03-08T17:19:24.878Z"
   },
   {
    "duration": 288,
    "start_time": "2025-03-08T17:19:27.832Z"
   },
   {
    "duration": 13,
    "start_time": "2025-03-08T17:19:28.122Z"
   },
   {
    "duration": 13,
    "start_time": "2025-03-08T17:19:28.137Z"
   },
   {
    "duration": 27,
    "start_time": "2025-03-08T17:19:28.152Z"
   },
   {
    "duration": 110,
    "start_time": "2025-03-08T17:19:28.181Z"
   },
   {
    "duration": 4,
    "start_time": "2025-03-08T17:19:28.292Z"
   },
   {
    "duration": 12,
    "start_time": "2025-03-08T17:19:28.298Z"
   },
   {
    "duration": 16,
    "start_time": "2025-03-08T17:19:28.311Z"
   },
   {
    "duration": 72,
    "start_time": "2025-03-08T17:19:28.329Z"
   },
   {
    "duration": 8,
    "start_time": "2025-03-08T17:19:28.406Z"
   },
   {
    "duration": 26,
    "start_time": "2025-03-08T17:19:28.417Z"
   },
   {
    "duration": 28,
    "start_time": "2025-03-08T17:19:28.445Z"
   },
   {
    "duration": 28,
    "start_time": "2025-03-08T17:19:28.475Z"
   },
   {
    "duration": 98,
    "start_time": "2025-03-08T17:19:28.506Z"
   },
   {
    "duration": 6,
    "start_time": "2025-03-08T17:19:28.606Z"
   },
   {
    "duration": 10,
    "start_time": "2025-03-08T17:19:28.614Z"
   },
   {
    "duration": 9,
    "start_time": "2025-03-08T17:19:28.626Z"
   },
   {
    "duration": 79,
    "start_time": "2025-03-08T17:19:28.637Z"
   },
   {
    "duration": 77,
    "start_time": "2025-03-08T17:19:28.718Z"
   },
   {
    "duration": 55,
    "start_time": "2025-03-08T17:19:28.797Z"
   },
   {
    "duration": 19,
    "start_time": "2025-03-08T17:19:28.854Z"
   },
   {
    "duration": 20,
    "start_time": "2025-03-08T17:19:28.875Z"
   },
   {
    "duration": 5,
    "start_time": "2025-03-08T17:19:28.897Z"
   },
   {
    "duration": 23,
    "start_time": "2025-03-08T17:19:28.904Z"
   },
   {
    "duration": 5,
    "start_time": "2025-03-08T17:19:28.929Z"
   },
   {
    "duration": 107,
    "start_time": "2025-03-08T17:19:28.935Z"
   },
   {
    "duration": 177,
    "start_time": "2025-03-08T17:19:29.044Z"
   },
   {
    "duration": 88,
    "start_time": "2025-03-08T17:19:29.222Z"
   },
   {
    "duration": 28,
    "start_time": "2025-03-08T17:19:29.312Z"
   },
   {
    "duration": 49,
    "start_time": "2025-03-08T17:19:29.342Z"
   },
   {
    "duration": 11,
    "start_time": "2025-03-08T17:19:29.393Z"
   },
   {
    "duration": 32,
    "start_time": "2025-03-08T17:19:29.406Z"
   },
   {
    "duration": 60,
    "start_time": "2025-03-08T17:19:29.440Z"
   },
   {
    "duration": 279,
    "start_time": "2025-03-08T17:19:29.502Z"
   },
   {
    "duration": 41,
    "start_time": "2025-03-08T17:19:29.783Z"
   },
   {
    "duration": 540,
    "start_time": "2025-03-08T17:19:29.826Z"
   },
   {
    "duration": 103,
    "start_time": "2025-03-08T17:19:30.371Z"
   },
   {
    "duration": 219,
    "start_time": "2025-03-08T17:19:30.476Z"
   },
   {
    "duration": 38,
    "start_time": "2025-03-08T17:19:30.696Z"
   },
   {
    "duration": 11,
    "start_time": "2025-03-08T17:19:30.736Z"
   },
   {
    "duration": 120,
    "start_time": "2025-03-08T17:19:30.749Z"
   },
   {
    "duration": 15,
    "start_time": "2025-03-08T17:19:30.871Z"
   },
   {
    "duration": 76,
    "start_time": "2025-03-08T17:19:30.888Z"
   },
   {
    "duration": 58,
    "start_time": "2025-03-08T17:19:30.966Z"
   },
   {
    "duration": 9,
    "start_time": "2025-03-08T17:19:31.025Z"
   },
   {
    "duration": 17,
    "start_time": "2025-03-08T17:19:31.036Z"
   },
   {
    "duration": 22,
    "start_time": "2025-03-08T17:19:31.055Z"
   },
   {
    "duration": 9,
    "start_time": "2025-03-08T17:19:31.078Z"
   },
   {
    "duration": 24,
    "start_time": "2025-03-08T17:19:31.089Z"
   },
   {
    "duration": 21,
    "start_time": "2025-03-08T17:19:31.115Z"
   },
   {
    "duration": 20,
    "start_time": "2025-03-08T17:19:31.138Z"
   },
   {
    "duration": 78,
    "start_time": "2025-03-08T17:19:31.161Z"
   },
   {
    "duration": 0,
    "start_time": "2025-03-08T17:19:31.241Z"
   },
   {
    "duration": 0,
    "start_time": "2025-03-08T17:19:31.244Z"
   },
   {
    "duration": 0,
    "start_time": "2025-03-08T17:19:31.245Z"
   },
   {
    "duration": 0,
    "start_time": "2025-03-08T17:19:31.246Z"
   },
   {
    "duration": 0,
    "start_time": "2025-03-08T17:19:31.248Z"
   },
   {
    "duration": 0,
    "start_time": "2025-03-08T17:19:31.250Z"
   },
   {
    "duration": 0,
    "start_time": "2025-03-08T17:19:31.252Z"
   },
   {
    "duration": 0,
    "start_time": "2025-03-08T17:19:31.254Z"
   },
   {
    "duration": 0,
    "start_time": "2025-03-08T17:19:31.257Z"
   },
   {
    "duration": 0,
    "start_time": "2025-03-08T17:19:31.258Z"
   },
   {
    "duration": 0,
    "start_time": "2025-03-08T17:19:31.260Z"
   },
   {
    "duration": 0,
    "start_time": "2025-03-08T17:19:31.261Z"
   },
   {
    "duration": 0,
    "start_time": "2025-03-08T17:19:31.262Z"
   },
   {
    "duration": 0,
    "start_time": "2025-03-08T17:19:31.266Z"
   },
   {
    "duration": 0,
    "start_time": "2025-03-08T17:19:31.267Z"
   },
   {
    "duration": 0,
    "start_time": "2025-03-08T17:19:31.269Z"
   },
   {
    "duration": 0,
    "start_time": "2025-03-08T17:19:31.271Z"
   },
   {
    "duration": 0,
    "start_time": "2025-03-08T17:19:31.272Z"
   },
   {
    "duration": 0,
    "start_time": "2025-03-08T17:19:31.274Z"
   },
   {
    "duration": 0,
    "start_time": "2025-03-08T17:19:31.275Z"
   },
   {
    "duration": 0,
    "start_time": "2025-03-08T17:19:31.276Z"
   },
   {
    "duration": 0,
    "start_time": "2025-03-08T17:19:31.277Z"
   },
   {
    "duration": 0,
    "start_time": "2025-03-08T17:19:31.278Z"
   },
   {
    "duration": 0,
    "start_time": "2025-03-08T17:19:31.279Z"
   },
   {
    "duration": 0,
    "start_time": "2025-03-08T17:19:31.281Z"
   },
   {
    "duration": 0,
    "start_time": "2025-03-08T17:19:31.282Z"
   },
   {
    "duration": 0,
    "start_time": "2025-03-08T17:19:31.283Z"
   },
   {
    "duration": 0,
    "start_time": "2025-03-08T17:19:31.284Z"
   },
   {
    "duration": 5,
    "start_time": "2025-03-08T17:20:25.115Z"
   },
   {
    "duration": 7,
    "start_time": "2025-03-08T17:21:44.329Z"
   },
   {
    "duration": 6,
    "start_time": "2025-03-08T17:22:02.696Z"
   },
   {
    "duration": 5,
    "start_time": "2025-03-08T17:22:15.518Z"
   },
   {
    "duration": 12,
    "start_time": "2025-03-08T17:23:50.432Z"
   },
   {
    "duration": 119,
    "start_time": "2025-03-08T17:24:43.042Z"
   },
   {
    "duration": 10,
    "start_time": "2025-03-08T17:24:57.403Z"
   },
   {
    "duration": 10,
    "start_time": "2025-03-08T17:26:01.360Z"
   },
   {
    "duration": 2671,
    "start_time": "2025-03-08T17:32:21.035Z"
   },
   {
    "duration": 1339,
    "start_time": "2025-03-08T17:32:23.708Z"
   },
   {
    "duration": 3,
    "start_time": "2025-03-08T17:32:25.049Z"
   },
   {
    "duration": 2245,
    "start_time": "2025-03-08T17:32:25.054Z"
   },
   {
    "duration": 210,
    "start_time": "2025-03-08T17:32:27.301Z"
   },
   {
    "duration": 12,
    "start_time": "2025-03-08T17:32:27.513Z"
   },
   {
    "duration": 12,
    "start_time": "2025-03-08T17:32:27.527Z"
   },
   {
    "duration": 31,
    "start_time": "2025-03-08T17:32:27.541Z"
   },
   {
    "duration": 105,
    "start_time": "2025-03-08T17:32:27.574Z"
   },
   {
    "duration": 3,
    "start_time": "2025-03-08T17:32:27.682Z"
   },
   {
    "duration": 6,
    "start_time": "2025-03-08T17:32:27.687Z"
   },
   {
    "duration": 11,
    "start_time": "2025-03-08T17:32:27.694Z"
   },
   {
    "duration": 65,
    "start_time": "2025-03-08T17:32:27.707Z"
   },
   {
    "duration": 7,
    "start_time": "2025-03-08T17:32:27.774Z"
   },
   {
    "duration": 24,
    "start_time": "2025-03-08T17:32:27.783Z"
   },
   {
    "duration": 18,
    "start_time": "2025-03-08T17:32:27.808Z"
   },
   {
    "duration": 45,
    "start_time": "2025-03-08T17:32:27.827Z"
   },
   {
    "duration": 84,
    "start_time": "2025-03-08T17:32:27.874Z"
   },
   {
    "duration": 17,
    "start_time": "2025-03-08T17:32:27.959Z"
   },
   {
    "duration": 42,
    "start_time": "2025-03-08T17:32:27.977Z"
   },
   {
    "duration": 6,
    "start_time": "2025-03-08T17:32:28.021Z"
   },
   {
    "duration": 59,
    "start_time": "2025-03-08T17:32:28.029Z"
   },
   {
    "duration": 74,
    "start_time": "2025-03-08T17:32:28.089Z"
   },
   {
    "duration": 54,
    "start_time": "2025-03-08T17:32:28.171Z"
   },
   {
    "duration": 5,
    "start_time": "2025-03-08T17:32:28.227Z"
   },
   {
    "duration": 40,
    "start_time": "2025-03-08T17:32:28.233Z"
   },
   {
    "duration": 5,
    "start_time": "2025-03-08T17:32:28.275Z"
   },
   {
    "duration": 16,
    "start_time": "2025-03-08T17:32:28.285Z"
   },
   {
    "duration": 8,
    "start_time": "2025-03-08T17:32:28.303Z"
   },
   {
    "duration": 79,
    "start_time": "2025-03-08T17:32:28.313Z"
   },
   {
    "duration": 169,
    "start_time": "2025-03-08T17:32:28.394Z"
   },
   {
    "duration": 84,
    "start_time": "2025-03-08T17:32:28.564Z"
   },
   {
    "duration": 42,
    "start_time": "2025-03-08T17:32:28.650Z"
   },
   {
    "duration": 38,
    "start_time": "2025-03-08T17:32:28.693Z"
   },
   {
    "duration": 12,
    "start_time": "2025-03-08T17:32:28.733Z"
   },
   {
    "duration": 51,
    "start_time": "2025-03-08T17:32:28.746Z"
   },
   {
    "duration": 38,
    "start_time": "2025-03-08T17:32:28.799Z"
   },
   {
    "duration": 297,
    "start_time": "2025-03-08T17:32:28.838Z"
   },
   {
    "duration": 47,
    "start_time": "2025-03-08T17:32:29.136Z"
   },
   {
    "duration": 503,
    "start_time": "2025-03-08T17:32:29.184Z"
   },
   {
    "duration": 102,
    "start_time": "2025-03-08T17:32:29.688Z"
   },
   {
    "duration": 213,
    "start_time": "2025-03-08T17:32:29.792Z"
   },
   {
    "duration": 39,
    "start_time": "2025-03-08T17:32:30.007Z"
   },
   {
    "duration": 27,
    "start_time": "2025-03-08T17:32:30.048Z"
   },
   {
    "duration": 159,
    "start_time": "2025-03-08T17:32:30.077Z"
   },
   {
    "duration": 18,
    "start_time": "2025-03-08T17:32:30.238Z"
   },
   {
    "duration": 109,
    "start_time": "2025-03-08T17:32:30.258Z"
   },
   {
    "duration": 63,
    "start_time": "2025-03-08T17:32:30.369Z"
   },
   {
    "duration": 9,
    "start_time": "2025-03-08T17:32:30.434Z"
   },
   {
    "duration": 12,
    "start_time": "2025-03-08T17:32:30.444Z"
   },
   {
    "duration": 32,
    "start_time": "2025-03-08T17:32:30.458Z"
   },
   {
    "duration": 6,
    "start_time": "2025-03-08T17:32:30.491Z"
   },
   {
    "duration": 5,
    "start_time": "2025-03-08T17:32:30.499Z"
   },
   {
    "duration": 7,
    "start_time": "2025-03-08T17:32:30.506Z"
   },
   {
    "duration": 6,
    "start_time": "2025-03-08T17:32:30.515Z"
   },
   {
    "duration": 6,
    "start_time": "2025-03-08T17:32:30.523Z"
   },
   {
    "duration": 10,
    "start_time": "2025-03-08T17:32:30.531Z"
   },
   {
    "duration": 33,
    "start_time": "2025-03-08T17:32:30.543Z"
   },
   {
    "duration": 9,
    "start_time": "2025-03-08T17:32:30.578Z"
   },
   {
    "duration": 23,
    "start_time": "2025-03-08T17:32:30.589Z"
   },
   {
    "duration": 78,
    "start_time": "2025-03-08T17:32:30.613Z"
   },
   {
    "duration": 0,
    "start_time": "2025-03-08T17:32:30.693Z"
   },
   {
    "duration": 0,
    "start_time": "2025-03-08T17:32:30.694Z"
   },
   {
    "duration": 0,
    "start_time": "2025-03-08T17:32:30.696Z"
   },
   {
    "duration": 0,
    "start_time": "2025-03-08T17:32:30.697Z"
   },
   {
    "duration": 0,
    "start_time": "2025-03-08T17:32:30.699Z"
   },
   {
    "duration": 0,
    "start_time": "2025-03-08T17:32:30.700Z"
   },
   {
    "duration": 0,
    "start_time": "2025-03-08T17:32:30.701Z"
   },
   {
    "duration": 0,
    "start_time": "2025-03-08T17:32:30.702Z"
   },
   {
    "duration": 0,
    "start_time": "2025-03-08T17:32:30.703Z"
   },
   {
    "duration": 1,
    "start_time": "2025-03-08T17:32:30.704Z"
   },
   {
    "duration": 0,
    "start_time": "2025-03-08T17:32:30.705Z"
   },
   {
    "duration": 0,
    "start_time": "2025-03-08T17:32:30.707Z"
   },
   {
    "duration": 0,
    "start_time": "2025-03-08T17:32:30.708Z"
   },
   {
    "duration": 0,
    "start_time": "2025-03-08T17:32:30.709Z"
   },
   {
    "duration": 0,
    "start_time": "2025-03-08T17:32:30.710Z"
   },
   {
    "duration": 0,
    "start_time": "2025-03-08T17:32:30.711Z"
   },
   {
    "duration": 0,
    "start_time": "2025-03-08T17:32:30.713Z"
   },
   {
    "duration": 0,
    "start_time": "2025-03-08T17:32:30.714Z"
   },
   {
    "duration": 0,
    "start_time": "2025-03-08T17:32:30.715Z"
   },
   {
    "duration": 0,
    "start_time": "2025-03-08T17:32:30.716Z"
   },
   {
    "duration": 0,
    "start_time": "2025-03-08T17:32:30.717Z"
   },
   {
    "duration": 0,
    "start_time": "2025-03-08T17:32:30.718Z"
   },
   {
    "duration": 0,
    "start_time": "2025-03-08T17:32:30.719Z"
   },
   {
    "duration": 0,
    "start_time": "2025-03-08T17:32:30.721Z"
   },
   {
    "duration": 0,
    "start_time": "2025-03-08T17:32:30.722Z"
   },
   {
    "duration": 0,
    "start_time": "2025-03-08T17:32:30.723Z"
   },
   {
    "duration": 0,
    "start_time": "2025-03-08T17:32:30.724Z"
   },
   {
    "duration": 2714,
    "start_time": "2025-03-08T17:33:28.724Z"
   },
   {
    "duration": 1338,
    "start_time": "2025-03-08T17:33:31.441Z"
   },
   {
    "duration": 3,
    "start_time": "2025-03-08T17:33:32.781Z"
   },
   {
    "duration": 3587,
    "start_time": "2025-03-08T17:33:32.786Z"
   },
   {
    "duration": 147,
    "start_time": "2025-03-08T17:33:36.374Z"
   },
   {
    "duration": 14,
    "start_time": "2025-03-08T17:33:36.523Z"
   },
   {
    "duration": 14,
    "start_time": "2025-03-08T17:33:36.539Z"
   },
   {
    "duration": 44,
    "start_time": "2025-03-08T17:33:36.555Z"
   },
   {
    "duration": 120,
    "start_time": "2025-03-08T17:33:36.600Z"
   },
   {
    "duration": 4,
    "start_time": "2025-03-08T17:33:36.724Z"
   },
   {
    "duration": 7,
    "start_time": "2025-03-08T17:33:36.730Z"
   },
   {
    "duration": 14,
    "start_time": "2025-03-08T17:33:36.738Z"
   },
   {
    "duration": 45,
    "start_time": "2025-03-08T17:33:36.773Z"
   },
   {
    "duration": 9,
    "start_time": "2025-03-08T17:33:36.820Z"
   },
   {
    "duration": 47,
    "start_time": "2025-03-08T17:33:36.830Z"
   },
   {
    "duration": 10,
    "start_time": "2025-03-08T17:33:36.879Z"
   },
   {
    "duration": 26,
    "start_time": "2025-03-08T17:33:36.891Z"
   },
   {
    "duration": 108,
    "start_time": "2025-03-08T17:33:36.919Z"
   },
   {
    "duration": 6,
    "start_time": "2025-03-08T17:33:37.029Z"
   },
   {
    "duration": 9,
    "start_time": "2025-03-08T17:33:37.037Z"
   },
   {
    "duration": 19,
    "start_time": "2025-03-08T17:33:37.047Z"
   },
   {
    "duration": 61,
    "start_time": "2025-03-08T17:33:37.072Z"
   },
   {
    "duration": 84,
    "start_time": "2025-03-08T17:33:37.135Z"
   },
   {
    "duration": 67,
    "start_time": "2025-03-08T17:33:37.221Z"
   },
   {
    "duration": 7,
    "start_time": "2025-03-08T17:33:37.290Z"
   },
   {
    "duration": 24,
    "start_time": "2025-03-08T17:33:37.298Z"
   },
   {
    "duration": 11,
    "start_time": "2025-03-08T17:33:37.324Z"
   },
   {
    "duration": 34,
    "start_time": "2025-03-08T17:33:37.340Z"
   },
   {
    "duration": 6,
    "start_time": "2025-03-08T17:33:37.376Z"
   },
   {
    "duration": 62,
    "start_time": "2025-03-08T17:33:37.383Z"
   },
   {
    "duration": 186,
    "start_time": "2025-03-08T17:33:37.447Z"
   },
   {
    "duration": 87,
    "start_time": "2025-03-08T17:33:37.635Z"
   },
   {
    "duration": 28,
    "start_time": "2025-03-08T17:33:37.723Z"
   },
   {
    "duration": 54,
    "start_time": "2025-03-08T17:33:37.753Z"
   },
   {
    "duration": 12,
    "start_time": "2025-03-08T17:33:37.808Z"
   },
   {
    "duration": 66,
    "start_time": "2025-03-08T17:33:37.821Z"
   },
   {
    "duration": 40,
    "start_time": "2025-03-08T17:33:37.889Z"
   },
   {
    "duration": 289,
    "start_time": "2025-03-08T17:33:37.931Z"
   },
   {
    "duration": 57,
    "start_time": "2025-03-08T17:33:38.222Z"
   },
   {
    "duration": 527,
    "start_time": "2025-03-08T17:33:38.281Z"
   },
   {
    "duration": 103,
    "start_time": "2025-03-08T17:33:38.810Z"
   },
   {
    "duration": 236,
    "start_time": "2025-03-08T17:33:38.915Z"
   },
   {
    "duration": 48,
    "start_time": "2025-03-08T17:33:39.153Z"
   },
   {
    "duration": 12,
    "start_time": "2025-03-08T17:33:39.202Z"
   },
   {
    "duration": 114,
    "start_time": "2025-03-08T17:33:39.215Z"
   },
   {
    "duration": 15,
    "start_time": "2025-03-08T17:33:39.331Z"
   },
   {
    "duration": 79,
    "start_time": "2025-03-08T17:33:39.347Z"
   },
   {
    "duration": 67,
    "start_time": "2025-03-08T17:33:39.428Z"
   },
   {
    "duration": 8,
    "start_time": "2025-03-08T17:33:39.496Z"
   },
   {
    "duration": 5,
    "start_time": "2025-03-08T17:33:39.506Z"
   },
   {
    "duration": 11,
    "start_time": "2025-03-08T17:33:39.513Z"
   },
   {
    "duration": 7,
    "start_time": "2025-03-08T17:33:39.526Z"
   },
   {
    "duration": 5,
    "start_time": "2025-03-08T17:33:39.535Z"
   },
   {
    "duration": 33,
    "start_time": "2025-03-08T17:33:39.543Z"
   },
   {
    "duration": 8,
    "start_time": "2025-03-08T17:33:39.578Z"
   },
   {
    "duration": 8,
    "start_time": "2025-03-08T17:33:39.587Z"
   },
   {
    "duration": 29,
    "start_time": "2025-03-08T17:33:39.596Z"
   },
   {
    "duration": 6,
    "start_time": "2025-03-08T17:33:39.627Z"
   },
   {
    "duration": 13,
    "start_time": "2025-03-08T17:33:39.635Z"
   },
   {
    "duration": 30,
    "start_time": "2025-03-08T17:33:39.650Z"
   },
   {
    "duration": 11,
    "start_time": "2025-03-08T17:33:39.682Z"
   },
   {
    "duration": 11,
    "start_time": "2025-03-08T17:33:39.695Z"
   },
   {
    "duration": 35,
    "start_time": "2025-03-08T17:33:39.707Z"
   },
   {
    "duration": 41,
    "start_time": "2025-03-08T17:33:39.771Z"
   },
   {
    "duration": 54,
    "start_time": "2025-03-08T17:33:39.813Z"
   },
   {
    "duration": 2802,
    "start_time": "2025-03-08T17:33:39.869Z"
   },
   {
    "duration": 33,
    "start_time": "2025-03-08T17:33:42.673Z"
   },
   {
    "duration": 385,
    "start_time": "2025-03-08T17:33:42.708Z"
   },
   {
    "duration": 24,
    "start_time": "2025-03-08T17:33:43.095Z"
   },
   {
    "duration": 86,
    "start_time": "2025-03-08T17:33:43.121Z"
   },
   {
    "duration": 12,
    "start_time": "2025-03-08T17:33:43.210Z"
   },
   {
    "duration": 4,
    "start_time": "2025-03-08T17:33:43.224Z"
   },
   {
    "duration": 259,
    "start_time": "2025-03-08T17:33:43.230Z"
   },
   {
    "duration": 27,
    "start_time": "2025-03-08T17:33:43.491Z"
   },
   {
    "duration": 242,
    "start_time": "2025-03-08T17:33:43.520Z"
   },
   {
    "duration": 61,
    "start_time": "2025-03-08T17:33:43.763Z"
   },
   {
    "duration": 87,
    "start_time": "2025-03-08T17:33:43.826Z"
   },
   {
    "duration": 138,
    "start_time": "2025-03-08T17:33:43.914Z"
   },
   {
    "duration": 5,
    "start_time": "2025-03-08T17:33:44.054Z"
   },
   {
    "duration": 15,
    "start_time": "2025-03-08T17:33:44.072Z"
   },
   {
    "duration": 22,
    "start_time": "2025-03-08T17:33:44.089Z"
   },
   {
    "duration": 61,
    "start_time": "2025-03-08T17:33:44.116Z"
   },
   {
    "duration": 6,
    "start_time": "2025-03-08T17:33:44.179Z"
   },
   {
    "duration": 14,
    "start_time": "2025-03-08T17:33:44.187Z"
   },
   {
    "duration": 31,
    "start_time": "2025-03-08T17:33:44.203Z"
   },
   {
    "duration": 6,
    "start_time": "2025-03-08T17:33:44.235Z"
   },
   {
    "duration": 196,
    "start_time": "2025-03-08T17:33:44.242Z"
   },
   {
    "duration": 3460,
    "start_time": "2025-03-09T06:12:52.960Z"
   },
   {
    "duration": 1419,
    "start_time": "2025-03-09T06:12:56.422Z"
   },
   {
    "duration": 4,
    "start_time": "2025-03-09T06:12:57.843Z"
   },
   {
    "duration": 2869,
    "start_time": "2025-03-09T06:12:57.849Z"
   },
   {
    "duration": 211,
    "start_time": "2025-03-09T06:13:00.720Z"
   },
   {
    "duration": 11,
    "start_time": "2025-03-09T06:13:00.933Z"
   },
   {
    "duration": 46,
    "start_time": "2025-03-09T06:13:00.946Z"
   },
   {
    "duration": 99,
    "start_time": "2025-03-09T06:13:00.994Z"
   },
   {
    "duration": 138,
    "start_time": "2025-03-09T06:13:01.094Z"
   },
   {
    "duration": 16,
    "start_time": "2025-03-09T06:13:01.235Z"
   },
   {
    "duration": 25,
    "start_time": "2025-03-09T06:13:01.253Z"
   },
   {
    "duration": 9,
    "start_time": "2025-03-09T06:13:01.280Z"
   },
   {
    "duration": 69,
    "start_time": "2025-03-09T06:13:01.291Z"
   },
   {
    "duration": 7,
    "start_time": "2025-03-09T06:13:01.361Z"
   },
   {
    "duration": 23,
    "start_time": "2025-03-09T06:13:01.370Z"
   },
   {
    "duration": 60,
    "start_time": "2025-03-09T06:13:01.395Z"
   },
   {
    "duration": 151,
    "start_time": "2025-03-09T06:13:01.457Z"
   },
   {
    "duration": 121,
    "start_time": "2025-03-09T06:13:01.610Z"
   },
   {
    "duration": 124,
    "start_time": "2025-03-09T06:13:01.733Z"
   },
   {
    "duration": 23,
    "start_time": "2025-03-09T06:13:01.858Z"
   },
   {
    "duration": 11,
    "start_time": "2025-03-09T06:13:01.883Z"
   },
   {
    "duration": 90,
    "start_time": "2025-03-09T06:13:01.895Z"
   },
   {
    "duration": 77,
    "start_time": "2025-03-09T06:13:01.987Z"
   },
   {
    "duration": 49,
    "start_time": "2025-03-09T06:13:02.066Z"
   },
   {
    "duration": 13,
    "start_time": "2025-03-09T06:13:02.117Z"
   },
   {
    "duration": 36,
    "start_time": "2025-03-09T06:13:02.132Z"
   },
   {
    "duration": 37,
    "start_time": "2025-03-09T06:13:02.170Z"
   },
   {
    "duration": 64,
    "start_time": "2025-03-09T06:13:02.211Z"
   },
   {
    "duration": 5,
    "start_time": "2025-03-09T06:13:02.276Z"
   },
   {
    "duration": 63,
    "start_time": "2025-03-09T06:13:02.282Z"
   },
   {
    "duration": 161,
    "start_time": "2025-03-09T06:13:02.347Z"
   },
   {
    "duration": 83,
    "start_time": "2025-03-09T06:13:02.510Z"
   },
   {
    "duration": 94,
    "start_time": "2025-03-09T06:13:02.595Z"
   },
   {
    "duration": 116,
    "start_time": "2025-03-09T06:13:02.691Z"
   },
   {
    "duration": 38,
    "start_time": "2025-03-09T06:13:02.809Z"
   },
   {
    "duration": 28,
    "start_time": "2025-03-09T06:13:02.849Z"
   },
   {
    "duration": 86,
    "start_time": "2025-03-09T06:13:02.879Z"
   },
   {
    "duration": 239,
    "start_time": "2025-03-09T06:13:02.968Z"
   },
   {
    "duration": 34,
    "start_time": "2025-03-09T06:13:03.209Z"
   },
   {
    "duration": 511,
    "start_time": "2025-03-09T06:13:03.245Z"
   },
   {
    "duration": 92,
    "start_time": "2025-03-09T06:13:03.763Z"
   },
   {
    "duration": 191,
    "start_time": "2025-03-09T06:13:03.863Z"
   },
   {
    "duration": 86,
    "start_time": "2025-03-09T06:13:04.056Z"
   },
   {
    "duration": 11,
    "start_time": "2025-03-09T06:13:04.144Z"
   },
   {
    "duration": 99,
    "start_time": "2025-03-09T06:13:04.156Z"
   },
   {
    "duration": 14,
    "start_time": "2025-03-09T06:13:04.256Z"
   },
   {
    "duration": 98,
    "start_time": "2025-03-09T06:13:04.271Z"
   },
   {
    "duration": 59,
    "start_time": "2025-03-09T06:13:04.370Z"
   },
   {
    "duration": 7,
    "start_time": "2025-03-09T06:13:04.431Z"
   },
   {
    "duration": 121,
    "start_time": "2025-03-09T06:13:04.439Z"
   },
   {
    "duration": 120,
    "start_time": "2025-03-09T06:13:04.561Z"
   },
   {
    "duration": 21,
    "start_time": "2025-03-09T06:13:04.683Z"
   },
   {
    "duration": 73,
    "start_time": "2025-03-09T06:13:04.706Z"
   },
   {
    "duration": 9,
    "start_time": "2025-03-09T06:13:04.780Z"
   },
   {
    "duration": 41,
    "start_time": "2025-03-09T06:13:04.791Z"
   },
   {
    "duration": 13,
    "start_time": "2025-03-09T06:13:04.833Z"
   },
   {
    "duration": 38,
    "start_time": "2025-03-09T06:13:04.848Z"
   },
   {
    "duration": 30,
    "start_time": "2025-03-09T06:13:04.888Z"
   },
   {
    "duration": 18,
    "start_time": "2025-03-09T06:13:04.920Z"
   },
   {
    "duration": 26,
    "start_time": "2025-03-09T06:13:04.940Z"
   },
   {
    "duration": 50,
    "start_time": "2025-03-09T06:13:04.968Z"
   },
   {
    "duration": 36,
    "start_time": "2025-03-09T06:13:05.019Z"
   },
   {
    "duration": 27,
    "start_time": "2025-03-09T06:13:05.056Z"
   },
   {
    "duration": 60,
    "start_time": "2025-03-09T06:13:05.085Z"
   },
   {
    "duration": 121,
    "start_time": "2025-03-09T06:13:05.147Z"
   },
   {
    "duration": 8127,
    "start_time": "2025-03-09T06:13:05.270Z"
   },
   {
    "duration": 27,
    "start_time": "2025-03-09T06:13:13.399Z"
   },
   {
    "duration": 372,
    "start_time": "2025-03-09T06:13:13.428Z"
   },
   {
    "duration": 16,
    "start_time": "2025-03-09T06:13:13.802Z"
   },
   {
    "duration": 91,
    "start_time": "2025-03-09T06:13:13.820Z"
   },
   {
    "duration": 12,
    "start_time": "2025-03-09T06:13:13.913Z"
   },
   {
    "duration": 4,
    "start_time": "2025-03-09T06:13:13.926Z"
   },
   {
    "duration": 133,
    "start_time": "2025-03-09T06:13:13.931Z"
   },
   {
    "duration": 24,
    "start_time": "2025-03-09T06:13:14.066Z"
   },
   {
    "duration": 205,
    "start_time": "2025-03-09T06:13:14.092Z"
   },
   {
    "duration": 47,
    "start_time": "2025-03-09T06:13:14.298Z"
   },
   {
    "duration": 76,
    "start_time": "2025-03-09T06:13:14.347Z"
   },
   {
    "duration": 124,
    "start_time": "2025-03-09T06:13:14.425Z"
   },
   {
    "duration": 11,
    "start_time": "2025-03-09T06:13:14.551Z"
   },
   {
    "duration": 65,
    "start_time": "2025-03-09T06:13:14.563Z"
   },
   {
    "duration": 30,
    "start_time": "2025-03-09T06:13:14.630Z"
   },
   {
    "duration": 36,
    "start_time": "2025-03-09T06:13:14.666Z"
   },
   {
    "duration": 7,
    "start_time": "2025-03-09T06:13:14.703Z"
   },
   {
    "duration": 11,
    "start_time": "2025-03-09T06:13:14.711Z"
   },
   {
    "duration": 52,
    "start_time": "2025-03-09T06:13:14.723Z"
   },
   {
    "duration": 4,
    "start_time": "2025-03-09T06:13:14.776Z"
   },
   {
    "duration": 191,
    "start_time": "2025-03-09T06:13:14.782Z"
   },
   {
    "duration": 23,
    "start_time": "2025-03-09T06:26:54.428Z"
   },
   {
    "duration": 110,
    "start_time": "2025-03-09T06:30:02.845Z"
   },
   {
    "duration": 21,
    "start_time": "2025-03-09T06:30:14.693Z"
   },
   {
    "duration": 21,
    "start_time": "2025-03-09T06:30:41.473Z"
   },
   {
    "duration": 53,
    "start_time": "2025-03-09T07:10:23.816Z"
   },
   {
    "duration": 11,
    "start_time": "2025-03-09T07:11:42.105Z"
   },
   {
    "duration": 13,
    "start_time": "2025-03-09T07:12:29.525Z"
   },
   {
    "duration": 23,
    "start_time": "2025-03-09T07:15:08.283Z"
   },
   {
    "duration": 27,
    "start_time": "2025-03-09T07:15:29.799Z"
   },
   {
    "duration": 1171,
    "start_time": "2025-03-09T07:21:22.418Z"
   },
   {
    "duration": 11,
    "start_time": "2025-03-09T07:22:34.739Z"
   },
   {
    "duration": 1694,
    "start_time": "2025-03-09T07:23:36.703Z"
   },
   {
    "duration": 1664,
    "start_time": "2025-03-09T07:24:00.783Z"
   },
   {
    "duration": 1589,
    "start_time": "2025-03-09T07:25:01.261Z"
   },
   {
    "duration": 496,
    "start_time": "2025-03-09T07:26:48.162Z"
   },
   {
    "duration": 1678,
    "start_time": "2025-03-09T07:27:10.077Z"
   },
   {
    "duration": 3558,
    "start_time": "2025-03-09T17:12:10.567Z"
   },
   {
    "duration": 1313,
    "start_time": "2025-03-09T17:12:14.127Z"
   },
   {
    "duration": 3,
    "start_time": "2025-03-09T17:12:15.441Z"
   },
   {
    "duration": 1941,
    "start_time": "2025-03-09T17:12:15.446Z"
   },
   {
    "duration": 200,
    "start_time": "2025-03-09T17:12:17.389Z"
   },
   {
    "duration": 11,
    "start_time": "2025-03-09T17:12:17.591Z"
   },
   {
    "duration": 66,
    "start_time": "2025-03-09T17:12:17.604Z"
   },
   {
    "duration": 22,
    "start_time": "2025-03-09T17:12:17.671Z"
   },
   {
    "duration": 106,
    "start_time": "2025-03-09T17:12:17.695Z"
   },
   {
    "duration": 3,
    "start_time": "2025-03-09T17:12:17.804Z"
   },
   {
    "duration": 20,
    "start_time": "2025-03-09T17:12:17.808Z"
   },
   {
    "duration": 16,
    "start_time": "2025-03-09T17:12:17.829Z"
   },
   {
    "duration": 50,
    "start_time": "2025-03-09T17:12:17.847Z"
   },
   {
    "duration": 7,
    "start_time": "2025-03-09T17:12:17.898Z"
   },
   {
    "duration": 24,
    "start_time": "2025-03-09T17:12:17.906Z"
   },
   {
    "duration": 7,
    "start_time": "2025-03-09T17:12:17.932Z"
   },
   {
    "duration": 32,
    "start_time": "2025-03-09T17:12:17.940Z"
   },
   {
    "duration": 76,
    "start_time": "2025-03-09T17:12:17.973Z"
   },
   {
    "duration": 5,
    "start_time": "2025-03-09T17:12:18.056Z"
   },
   {
    "duration": 16,
    "start_time": "2025-03-09T17:12:18.063Z"
   },
   {
    "duration": 9,
    "start_time": "2025-03-09T17:12:18.081Z"
   },
   {
    "duration": 48,
    "start_time": "2025-03-09T17:12:18.092Z"
   },
   {
    "duration": 56,
    "start_time": "2025-03-09T17:12:18.142Z"
   },
   {
    "duration": 60,
    "start_time": "2025-03-09T17:12:18.199Z"
   },
   {
    "duration": 5,
    "start_time": "2025-03-09T17:12:18.260Z"
   },
   {
    "duration": 84,
    "start_time": "2025-03-09T17:12:18.267Z"
   },
   {
    "duration": 16,
    "start_time": "2025-03-09T17:12:18.353Z"
   },
   {
    "duration": 18,
    "start_time": "2025-03-09T17:12:18.372Z"
   },
   {
    "duration": 43,
    "start_time": "2025-03-09T17:12:18.392Z"
   },
   {
    "duration": 53,
    "start_time": "2025-03-09T17:12:18.436Z"
   },
   {
    "duration": 142,
    "start_time": "2025-03-09T17:12:18.490Z"
   },
   {
    "duration": 73,
    "start_time": "2025-03-09T17:12:18.634Z"
   },
   {
    "duration": 55,
    "start_time": "2025-03-09T17:12:18.709Z"
   },
   {
    "duration": 31,
    "start_time": "2025-03-09T17:12:18.765Z"
   },
   {
    "duration": 13,
    "start_time": "2025-03-09T17:12:18.798Z"
   },
   {
    "duration": 52,
    "start_time": "2025-03-09T17:12:18.813Z"
   },
   {
    "duration": 38,
    "start_time": "2025-03-09T17:12:18.867Z"
   },
   {
    "duration": 222,
    "start_time": "2025-03-09T17:12:18.907Z"
   },
   {
    "duration": 39,
    "start_time": "2025-03-09T17:12:19.131Z"
   },
   {
    "duration": 423,
    "start_time": "2025-03-09T17:12:19.172Z"
   },
   {
    "duration": 82,
    "start_time": "2025-03-09T17:12:19.597Z"
   },
   {
    "duration": 202,
    "start_time": "2025-03-09T17:12:19.680Z"
   },
   {
    "duration": 33,
    "start_time": "2025-03-09T17:12:19.884Z"
   },
   {
    "duration": 71,
    "start_time": "2025-03-09T17:12:19.918Z"
   },
   {
    "duration": 86,
    "start_time": "2025-03-09T17:12:19.991Z"
   },
   {
    "duration": 12,
    "start_time": "2025-03-09T17:12:20.079Z"
   },
   {
    "duration": 100,
    "start_time": "2025-03-09T17:12:20.092Z"
   },
   {
    "duration": 51,
    "start_time": "2025-03-09T17:12:20.193Z"
   },
   {
    "duration": 14,
    "start_time": "2025-03-09T17:12:20.246Z"
   },
   {
    "duration": 76,
    "start_time": "2025-03-09T17:12:20.261Z"
   },
   {
    "duration": 20,
    "start_time": "2025-03-09T17:12:20.339Z"
   },
   {
    "duration": 23,
    "start_time": "2025-03-09T17:12:20.361Z"
   },
   {
    "duration": 29,
    "start_time": "2025-03-09T17:12:20.385Z"
   },
   {
    "duration": 10,
    "start_time": "2025-03-09T17:12:20.416Z"
   },
   {
    "duration": 4,
    "start_time": "2025-03-09T17:12:20.427Z"
   },
   {
    "duration": 21,
    "start_time": "2025-03-09T17:12:20.433Z"
   },
   {
    "duration": 19,
    "start_time": "2025-03-09T17:12:20.455Z"
   },
   {
    "duration": 21,
    "start_time": "2025-03-09T17:12:20.476Z"
   },
   {
    "duration": 55,
    "start_time": "2025-03-09T17:12:20.499Z"
   },
   {
    "duration": 55,
    "start_time": "2025-03-09T17:12:20.555Z"
   },
   {
    "duration": 24,
    "start_time": "2025-03-09T17:12:20.612Z"
   },
   {
    "duration": 9,
    "start_time": "2025-03-09T17:12:20.638Z"
   },
   {
    "duration": 111,
    "start_time": "2025-03-09T17:12:20.648Z"
   },
   {
    "duration": 32,
    "start_time": "2025-03-09T17:12:20.761Z"
   },
   {
    "duration": 29,
    "start_time": "2025-03-09T17:12:20.795Z"
   },
   {
    "duration": 8353,
    "start_time": "2025-03-09T17:12:20.825Z"
   },
   {
    "duration": 27,
    "start_time": "2025-03-09T17:12:29.180Z"
   },
   {
    "duration": 305,
    "start_time": "2025-03-09T17:12:29.208Z"
   },
   {
    "duration": 15,
    "start_time": "2025-03-09T17:12:29.514Z"
   },
   {
    "duration": 65,
    "start_time": "2025-03-09T17:12:29.531Z"
   },
   {
    "duration": 10,
    "start_time": "2025-03-09T17:12:29.598Z"
   },
   {
    "duration": 71,
    "start_time": "2025-03-09T17:12:29.609Z"
   },
   {
    "duration": 199,
    "start_time": "2025-03-09T17:12:29.682Z"
   },
   {
    "duration": 25,
    "start_time": "2025-03-09T17:12:29.882Z"
   },
   {
    "duration": 202,
    "start_time": "2025-03-09T17:12:29.909Z"
   },
   {
    "duration": 54,
    "start_time": "2025-03-09T17:12:30.113Z"
   },
   {
    "duration": 62,
    "start_time": "2025-03-09T17:12:30.168Z"
   },
   {
    "duration": 127,
    "start_time": "2025-03-09T17:12:30.231Z"
   },
   {
    "duration": 5,
    "start_time": "2025-03-09T17:12:30.359Z"
   },
   {
    "duration": 52,
    "start_time": "2025-03-09T17:12:30.365Z"
   },
   {
    "duration": 39,
    "start_time": "2025-03-09T17:12:30.418Z"
   },
   {
    "duration": 41,
    "start_time": "2025-03-09T17:12:30.463Z"
   },
   {
    "duration": 6,
    "start_time": "2025-03-09T17:12:30.506Z"
   },
   {
    "duration": 22,
    "start_time": "2025-03-09T17:12:30.513Z"
   },
   {
    "duration": 32,
    "start_time": "2025-03-09T17:12:30.537Z"
   },
   {
    "duration": 5,
    "start_time": "2025-03-09T17:12:30.571Z"
   },
   {
    "duration": 40,
    "start_time": "2025-03-09T17:12:30.578Z"
   },
   {
    "duration": 19,
    "start_time": "2025-03-09T17:12:30.620Z"
   },
   {
    "duration": 154,
    "start_time": "2025-03-09T17:12:30.640Z"
   },
   {
    "duration": 10,
    "start_time": "2025-03-09T17:12:30.795Z"
   },
   {
    "duration": 1635,
    "start_time": "2025-03-09T17:12:30.807Z"
   },
   {
    "duration": 19,
    "start_time": "2025-03-09T17:12:32.444Z"
   },
   {
    "duration": 36,
    "start_time": "2025-03-09T17:12:32.465Z"
   },
   {
    "duration": 109,
    "start_time": "2025-03-09T17:28:09.168Z"
   },
   {
    "duration": 34,
    "start_time": "2025-03-09T17:28:21.984Z"
   },
   {
    "duration": 19,
    "start_time": "2025-03-09T17:31:01.560Z"
   },
   {
    "duration": 23,
    "start_time": "2025-03-09T17:31:22.788Z"
   },
   {
    "duration": 26,
    "start_time": "2025-03-09T17:32:29.693Z"
   },
   {
    "duration": 53,
    "start_time": "2025-03-09T17:33:05.411Z"
   },
   {
    "duration": 13,
    "start_time": "2025-03-09T17:33:50.869Z"
   },
   {
    "duration": 19,
    "start_time": "2025-03-09T17:34:28.558Z"
   },
   {
    "duration": 1770,
    "start_time": "2025-03-09T17:36:16.387Z"
   },
   {
    "duration": 8,
    "start_time": "2025-03-09T17:37:50.012Z"
   },
   {
    "duration": 58,
    "start_time": "2025-03-09T17:39:19.654Z"
   },
   {
    "duration": 15,
    "start_time": "2025-03-09T18:21:54.131Z"
   },
   {
    "duration": 11,
    "start_time": "2025-03-09T18:21:57.840Z"
   },
   {
    "duration": 1957,
    "start_time": "2025-03-09T18:22:00.150Z"
   },
   {
    "duration": 1954,
    "start_time": "2025-03-09T18:22:45.729Z"
   },
   {
    "duration": 2106,
    "start_time": "2025-03-09T18:31:35.073Z"
   },
   {
    "duration": 9,
    "start_time": "2025-03-09T18:35:24.601Z"
   },
   {
    "duration": 519,
    "start_time": "2025-03-09T18:46:16.296Z"
   },
   {
    "duration": 677,
    "start_time": "2025-03-09T18:46:52.237Z"
   },
   {
    "duration": 462,
    "start_time": "2025-03-09T18:47:52.925Z"
   },
   {
    "duration": 507,
    "start_time": "2025-03-09T18:48:16.183Z"
   },
   {
    "duration": 144,
    "start_time": "2025-03-09T18:49:13.259Z"
   },
   {
    "duration": 213,
    "start_time": "2025-03-09T18:50:31.698Z"
   },
   {
    "duration": 129,
    "start_time": "2025-03-09T18:51:22.239Z"
   },
   {
    "duration": 130,
    "start_time": "2025-03-09T18:51:38.684Z"
   },
   {
    "duration": 134,
    "start_time": "2025-03-09T18:52:13.627Z"
   },
   {
    "duration": 131,
    "start_time": "2025-03-09T18:52:51.267Z"
   },
   {
    "duration": 11,
    "start_time": "2025-03-09T19:06:54.635Z"
   },
   {
    "duration": 15,
    "start_time": "2025-03-09T19:08:34.156Z"
   },
   {
    "duration": 16,
    "start_time": "2025-03-09T19:08:47.077Z"
   },
   {
    "duration": 16,
    "start_time": "2025-03-09T19:08:51.284Z"
   },
   {
    "duration": 16,
    "start_time": "2025-03-09T19:09:26.295Z"
   },
   {
    "duration": 13,
    "start_time": "2025-03-09T19:09:56.484Z"
   },
   {
    "duration": 13,
    "start_time": "2025-03-09T19:10:04.594Z"
   },
   {
    "duration": 10,
    "start_time": "2025-03-09T19:11:53.615Z"
   },
   {
    "duration": 8,
    "start_time": "2025-03-09T19:13:10.219Z"
   },
   {
    "duration": 7,
    "start_time": "2025-03-09T19:13:33.569Z"
   },
   {
    "duration": 135,
    "start_time": "2025-03-09T19:19:25.754Z"
   },
   {
    "duration": 3376,
    "start_time": "2025-03-10T04:44:10.540Z"
   },
   {
    "duration": 1309,
    "start_time": "2025-03-10T04:44:13.918Z"
   },
   {
    "duration": 3,
    "start_time": "2025-03-10T04:44:15.229Z"
   },
   {
    "duration": 2343,
    "start_time": "2025-03-10T04:44:15.234Z"
   },
   {
    "duration": 234,
    "start_time": "2025-03-10T04:44:17.578Z"
   },
   {
    "duration": 11,
    "start_time": "2025-03-10T04:44:17.814Z"
   },
   {
    "duration": 15,
    "start_time": "2025-03-10T04:44:17.827Z"
   },
   {
    "duration": 96,
    "start_time": "2025-03-10T04:44:17.844Z"
   },
   {
    "duration": 98,
    "start_time": "2025-03-10T04:44:17.942Z"
   },
   {
    "duration": 4,
    "start_time": "2025-03-10T04:44:18.043Z"
   },
   {
    "duration": 14,
    "start_time": "2025-03-10T04:44:18.049Z"
   },
   {
    "duration": 13,
    "start_time": "2025-03-10T04:44:18.064Z"
   },
   {
    "duration": 40,
    "start_time": "2025-03-10T04:44:18.079Z"
   },
   {
    "duration": 8,
    "start_time": "2025-03-10T04:44:18.121Z"
   },
   {
    "duration": 46,
    "start_time": "2025-03-10T04:44:18.131Z"
   },
   {
    "duration": 8,
    "start_time": "2025-03-10T04:44:18.179Z"
   },
   {
    "duration": 45,
    "start_time": "2025-03-10T04:44:18.188Z"
   },
   {
    "duration": 77,
    "start_time": "2025-03-10T04:44:18.235Z"
   },
   {
    "duration": 5,
    "start_time": "2025-03-10T04:44:18.314Z"
   },
   {
    "duration": 21,
    "start_time": "2025-03-10T04:44:18.320Z"
   },
   {
    "duration": 6,
    "start_time": "2025-03-10T04:44:18.343Z"
   },
   {
    "duration": 62,
    "start_time": "2025-03-10T04:44:18.350Z"
   },
   {
    "duration": 78,
    "start_time": "2025-03-10T04:44:18.414Z"
   },
   {
    "duration": 51,
    "start_time": "2025-03-10T04:44:18.494Z"
   },
   {
    "duration": 16,
    "start_time": "2025-03-10T04:44:18.547Z"
   },
   {
    "duration": 19,
    "start_time": "2025-03-10T04:44:18.565Z"
   },
   {
    "duration": 17,
    "start_time": "2025-03-10T04:44:18.585Z"
   },
   {
    "duration": 14,
    "start_time": "2025-03-10T04:44:18.606Z"
   },
   {
    "duration": 12,
    "start_time": "2025-03-10T04:44:18.622Z"
   },
   {
    "duration": 63,
    "start_time": "2025-03-10T04:44:18.636Z"
   },
   {
    "duration": 157,
    "start_time": "2025-03-10T04:44:18.701Z"
   },
   {
    "duration": 71,
    "start_time": "2025-03-10T04:44:18.860Z"
   },
   {
    "duration": 157,
    "start_time": "2025-03-10T04:44:18.932Z"
   },
   {
    "duration": 33,
    "start_time": "2025-03-10T04:44:19.090Z"
   },
   {
    "duration": 10,
    "start_time": "2025-03-10T04:44:19.125Z"
   },
   {
    "duration": 39,
    "start_time": "2025-03-10T04:44:19.136Z"
   },
   {
    "duration": 41,
    "start_time": "2025-03-10T04:44:19.177Z"
   },
   {
    "duration": 238,
    "start_time": "2025-03-10T04:44:19.220Z"
   },
   {
    "duration": 36,
    "start_time": "2025-03-10T04:44:19.462Z"
   },
   {
    "duration": 477,
    "start_time": "2025-03-10T04:44:19.500Z"
   },
   {
    "duration": 93,
    "start_time": "2025-03-10T04:44:19.979Z"
   },
   {
    "duration": 191,
    "start_time": "2025-03-10T04:44:20.074Z"
   },
   {
    "duration": 36,
    "start_time": "2025-03-10T04:44:20.267Z"
   },
   {
    "duration": 10,
    "start_time": "2025-03-10T04:44:20.305Z"
   },
   {
    "duration": 110,
    "start_time": "2025-03-10T04:44:20.316Z"
   },
   {
    "duration": 13,
    "start_time": "2025-03-10T04:44:20.428Z"
   },
   {
    "duration": 79,
    "start_time": "2025-03-10T04:44:20.443Z"
   },
   {
    "duration": 59,
    "start_time": "2025-03-10T04:44:20.524Z"
   },
   {
    "duration": 360,
    "start_time": "2025-03-10T04:44:20.585Z"
   },
   {
    "duration": 202,
    "start_time": "2025-03-10T04:44:20.946Z"
   },
   {
    "duration": 30,
    "start_time": "2025-03-10T04:44:21.150Z"
   },
   {
    "duration": 11,
    "start_time": "2025-03-10T04:44:21.182Z"
   },
   {
    "duration": 28,
    "start_time": "2025-03-10T04:44:21.195Z"
   },
   {
    "duration": 11,
    "start_time": "2025-03-10T04:44:21.224Z"
   },
   {
    "duration": 25,
    "start_time": "2025-03-10T04:44:21.237Z"
   },
   {
    "duration": 18,
    "start_time": "2025-03-10T04:44:21.264Z"
   },
   {
    "duration": 16,
    "start_time": "2025-03-10T04:44:21.284Z"
   },
   {
    "duration": 31,
    "start_time": "2025-03-10T04:44:21.302Z"
   },
   {
    "duration": 16,
    "start_time": "2025-03-10T04:44:21.335Z"
   },
   {
    "duration": 19,
    "start_time": "2025-03-10T04:44:21.353Z"
   },
   {
    "duration": 11,
    "start_time": "2025-03-10T04:44:21.373Z"
   },
   {
    "duration": 9,
    "start_time": "2025-03-10T04:44:21.386Z"
   },
   {
    "duration": 58,
    "start_time": "2025-03-10T04:44:21.396Z"
   },
   {
    "duration": 39,
    "start_time": "2025-03-10T04:44:21.456Z"
   },
   {
    "duration": 12,
    "start_time": "2025-03-10T04:44:21.497Z"
   },
   {
    "duration": 8262,
    "start_time": "2025-03-10T04:44:21.510Z"
   },
   {
    "duration": 27,
    "start_time": "2025-03-10T04:44:29.774Z"
   },
   {
    "duration": 339,
    "start_time": "2025-03-10T04:44:29.803Z"
   },
   {
    "duration": 19,
    "start_time": "2025-03-10T04:44:30.144Z"
   },
   {
    "duration": 136,
    "start_time": "2025-03-10T04:44:30.165Z"
   },
   {
    "duration": 13,
    "start_time": "2025-03-10T04:44:30.303Z"
   },
   {
    "duration": 27,
    "start_time": "2025-03-10T04:44:30.318Z"
   },
   {
    "duration": 148,
    "start_time": "2025-03-10T04:44:30.347Z"
   },
   {
    "duration": 24,
    "start_time": "2025-03-10T04:44:30.497Z"
   },
   {
    "duration": 296,
    "start_time": "2025-03-10T04:44:30.523Z"
   },
   {
    "duration": 106,
    "start_time": "2025-03-10T04:44:30.821Z"
   },
   {
    "duration": 273,
    "start_time": "2025-03-10T04:44:30.929Z"
   },
   {
    "duration": 130,
    "start_time": "2025-03-10T04:44:31.203Z"
   },
   {
    "duration": 5,
    "start_time": "2025-03-10T04:44:31.334Z"
   },
   {
    "duration": 27,
    "start_time": "2025-03-10T04:44:31.340Z"
   },
   {
    "duration": 78,
    "start_time": "2025-03-10T04:44:31.369Z"
   },
   {
    "duration": 38,
    "start_time": "2025-03-10T04:44:31.452Z"
   },
   {
    "duration": 7,
    "start_time": "2025-03-10T04:44:31.491Z"
   },
   {
    "duration": 55,
    "start_time": "2025-03-10T04:44:31.499Z"
   },
   {
    "duration": 43,
    "start_time": "2025-03-10T04:44:31.555Z"
   },
   {
    "duration": 6,
    "start_time": "2025-03-10T04:44:31.600Z"
   },
   {
    "duration": 37,
    "start_time": "2025-03-10T04:44:31.607Z"
   },
   {
    "duration": 37,
    "start_time": "2025-03-10T04:44:31.646Z"
   },
   {
    "duration": 21,
    "start_time": "2025-03-10T04:44:31.684Z"
   },
   {
    "duration": 54,
    "start_time": "2025-03-10T04:44:31.707Z"
   },
   {
    "duration": 25,
    "start_time": "2025-03-10T04:44:31.762Z"
   },
   {
    "duration": 97,
    "start_time": "2025-03-10T04:44:31.789Z"
   },
   {
    "duration": 100,
    "start_time": "2025-03-10T04:44:31.888Z"
   },
   {
    "duration": 236,
    "start_time": "2025-03-10T04:44:31.989Z"
   },
   {
    "duration": 18,
    "start_time": "2025-03-10T04:44:32.227Z"
   },
   {
    "duration": 1856,
    "start_time": "2025-03-10T04:44:32.247Z"
   },
   {
    "duration": 9,
    "start_time": "2025-03-10T04:44:34.105Z"
   },
   {
    "duration": 146,
    "start_time": "2025-03-10T04:44:34.116Z"
   },
   {
    "duration": 142,
    "start_time": "2025-03-10T04:44:34.263Z"
   },
   {
    "duration": 12,
    "start_time": "2025-03-10T04:44:34.406Z"
   },
   {
    "duration": 36,
    "start_time": "2025-03-10T04:44:34.420Z"
   },
   {
    "duration": 155,
    "start_time": "2025-03-10T04:44:34.457Z"
   },
   {
    "duration": 108,
    "start_time": "2025-03-10T04:51:58.534Z"
   },
   {
    "duration": 10,
    "start_time": "2025-03-10T04:53:29.638Z"
   },
   {
    "duration": 9,
    "start_time": "2025-03-10T04:53:38.999Z"
   },
   {
    "duration": 22,
    "start_time": "2025-03-10T04:54:04.175Z"
   },
   {
    "duration": 32,
    "start_time": "2025-03-10T04:54:14.342Z"
   },
   {
    "duration": 10,
    "start_time": "2025-03-10T04:54:42.478Z"
   },
   {
    "duration": 31,
    "start_time": "2025-03-10T04:56:07.563Z"
   },
   {
    "duration": 25,
    "start_time": "2025-03-10T04:59:30.505Z"
   },
   {
    "duration": 24,
    "start_time": "2025-03-10T04:59:36.710Z"
   },
   {
    "duration": 21,
    "start_time": "2025-03-10T05:00:08.225Z"
   },
   {
    "duration": 5,
    "start_time": "2025-03-10T05:00:55.654Z"
   },
   {
    "duration": 6,
    "start_time": "2025-03-10T05:01:48.461Z"
   },
   {
    "duration": 21,
    "start_time": "2025-03-10T05:03:40.245Z"
   },
   {
    "duration": 6,
    "start_time": "2025-03-10T05:04:04.635Z"
   },
   {
    "duration": 3,
    "start_time": "2025-03-10T05:04:44.862Z"
   },
   {
    "duration": 18,
    "start_time": "2025-03-10T05:04:49.228Z"
   },
   {
    "duration": 23,
    "start_time": "2025-03-10T05:04:58.418Z"
   },
   {
    "duration": 6,
    "start_time": "2025-03-10T05:05:04.081Z"
   },
   {
    "duration": 22,
    "start_time": "2025-03-10T05:05:30.449Z"
   },
   {
    "duration": 605,
    "start_time": "2025-03-10T05:07:08.189Z"
   },
   {
    "duration": 282,
    "start_time": "2025-03-10T05:07:35.778Z"
   },
   {
    "duration": 167,
    "start_time": "2025-03-10T05:08:25.873Z"
   },
   {
    "duration": 602,
    "start_time": "2025-03-10T05:08:44.128Z"
   },
   {
    "duration": 159,
    "start_time": "2025-03-10T05:09:51.376Z"
   },
   {
    "duration": 170,
    "start_time": "2025-03-10T05:10:40.733Z"
   },
   {
    "duration": 616,
    "start_time": "2025-03-10T05:10:44.760Z"
   },
   {
    "duration": 13,
    "start_time": "2025-03-10T05:10:49.870Z"
   },
   {
    "duration": 13,
    "start_time": "2025-03-10T05:11:22.293Z"
   },
   {
    "duration": 13,
    "start_time": "2025-03-10T05:11:28.286Z"
   },
   {
    "duration": 13,
    "start_time": "2025-03-10T05:11:45.209Z"
   },
   {
    "duration": 2379,
    "start_time": "2025-03-10T05:11:50.623Z"
   },
   {
    "duration": 1117,
    "start_time": "2025-03-10T05:11:53.004Z"
   },
   {
    "duration": 2,
    "start_time": "2025-03-10T05:11:54.123Z"
   },
   {
    "duration": 2229,
    "start_time": "2025-03-10T05:11:54.127Z"
   },
   {
    "duration": 151,
    "start_time": "2025-03-10T05:11:56.358Z"
   },
   {
    "duration": 12,
    "start_time": "2025-03-10T05:11:56.510Z"
   },
   {
    "duration": 12,
    "start_time": "2025-03-10T05:11:56.523Z"
   },
   {
    "duration": 36,
    "start_time": "2025-03-10T05:11:56.536Z"
   },
   {
    "duration": 108,
    "start_time": "2025-03-10T05:11:56.573Z"
   },
   {
    "duration": 3,
    "start_time": "2025-03-10T05:11:56.684Z"
   },
   {
    "duration": 220,
    "start_time": "2025-03-10T05:11:56.689Z"
   },
   {
    "duration": 51,
    "start_time": "2025-03-10T05:11:56.911Z"
   },
   {
    "duration": 44,
    "start_time": "2025-03-10T05:11:56.963Z"
   },
   {
    "duration": 7,
    "start_time": "2025-03-10T05:11:57.009Z"
   },
   {
    "duration": 211,
    "start_time": "2025-03-10T05:11:57.017Z"
   },
   {
    "duration": 11,
    "start_time": "2025-03-10T05:11:57.230Z"
   },
   {
    "duration": 34,
    "start_time": "2025-03-10T05:11:57.243Z"
   },
   {
    "duration": 79,
    "start_time": "2025-03-10T05:11:57.279Z"
   },
   {
    "duration": 5,
    "start_time": "2025-03-10T05:11:57.360Z"
   },
   {
    "duration": 21,
    "start_time": "2025-03-10T05:11:57.367Z"
   },
   {
    "duration": 18,
    "start_time": "2025-03-10T05:11:57.390Z"
   },
   {
    "duration": 68,
    "start_time": "2025-03-10T05:11:57.409Z"
   },
   {
    "duration": 72,
    "start_time": "2025-03-10T05:11:57.480Z"
   },
   {
    "duration": 55,
    "start_time": "2025-03-10T05:11:57.554Z"
   },
   {
    "duration": 6,
    "start_time": "2025-03-10T05:11:57.610Z"
   },
   {
    "duration": 47,
    "start_time": "2025-03-10T05:11:57.617Z"
   },
   {
    "duration": 43,
    "start_time": "2025-03-10T05:11:57.666Z"
   },
   {
    "duration": 54,
    "start_time": "2025-03-10T05:11:57.713Z"
   },
   {
    "duration": 15,
    "start_time": "2025-03-10T05:11:57.769Z"
   },
   {
    "duration": 73,
    "start_time": "2025-03-10T05:11:57.785Z"
   },
   {
    "duration": 147,
    "start_time": "2025-03-10T05:11:57.859Z"
   },
   {
    "duration": 81,
    "start_time": "2025-03-10T05:11:58.007Z"
   },
   {
    "duration": 49,
    "start_time": "2025-03-10T05:11:58.090Z"
   },
   {
    "duration": 33,
    "start_time": "2025-03-10T05:11:58.141Z"
   },
   {
    "duration": 10,
    "start_time": "2025-03-10T05:11:58.175Z"
   },
   {
    "duration": 37,
    "start_time": "2025-03-10T05:11:58.187Z"
   },
   {
    "duration": 37,
    "start_time": "2025-03-10T05:11:58.226Z"
   },
   {
    "duration": 233,
    "start_time": "2025-03-10T05:11:58.265Z"
   },
   {
    "duration": 37,
    "start_time": "2025-03-10T05:11:58.499Z"
   },
   {
    "duration": 460,
    "start_time": "2025-03-10T05:11:58.538Z"
   },
   {
    "duration": 88,
    "start_time": "2025-03-10T05:11:58.999Z"
   },
   {
    "duration": 264,
    "start_time": "2025-03-10T05:11:59.089Z"
   },
   {
    "duration": 37,
    "start_time": "2025-03-10T05:11:59.356Z"
   },
   {
    "duration": 9,
    "start_time": "2025-03-10T05:11:59.395Z"
   },
   {
    "duration": 98,
    "start_time": "2025-03-10T05:11:59.406Z"
   },
   {
    "duration": 13,
    "start_time": "2025-03-10T05:11:59.506Z"
   },
   {
    "duration": 103,
    "start_time": "2025-03-10T05:11:59.521Z"
   },
   {
    "duration": 54,
    "start_time": "2025-03-10T05:11:59.626Z"
   },
   {
    "duration": 7,
    "start_time": "2025-03-10T05:11:59.682Z"
   },
   {
    "duration": 54,
    "start_time": "2025-03-10T05:11:59.690Z"
   },
   {
    "duration": 44,
    "start_time": "2025-03-10T05:11:59.746Z"
   },
   {
    "duration": 15,
    "start_time": "2025-03-10T05:11:59.792Z"
   },
   {
    "duration": 5,
    "start_time": "2025-03-10T05:11:59.808Z"
   },
   {
    "duration": 7,
    "start_time": "2025-03-10T05:11:59.815Z"
   },
   {
    "duration": 5,
    "start_time": "2025-03-10T05:11:59.823Z"
   },
   {
    "duration": 8,
    "start_time": "2025-03-10T05:11:59.830Z"
   },
   {
    "duration": 14,
    "start_time": "2025-03-10T05:11:59.839Z"
   },
   {
    "duration": 5,
    "start_time": "2025-03-10T05:11:59.855Z"
   },
   {
    "duration": 15,
    "start_time": "2025-03-10T05:11:59.861Z"
   },
   {
    "duration": 23,
    "start_time": "2025-03-10T05:11:59.878Z"
   },
   {
    "duration": 11,
    "start_time": "2025-03-10T05:11:59.903Z"
   },
   {
    "duration": 9,
    "start_time": "2025-03-10T05:11:59.915Z"
   },
   {
    "duration": 26,
    "start_time": "2025-03-10T05:11:59.926Z"
   },
   {
    "duration": 143,
    "start_time": "2025-03-10T05:11:59.954Z"
   },
   {
    "duration": 34,
    "start_time": "2025-03-10T05:12:00.098Z"
   },
   {
    "duration": 2450,
    "start_time": "2025-03-10T05:12:00.134Z"
   },
   {
    "duration": 28,
    "start_time": "2025-03-10T05:12:02.585Z"
   },
   {
    "duration": 324,
    "start_time": "2025-03-10T05:12:02.615Z"
   },
   {
    "duration": 21,
    "start_time": "2025-03-10T05:12:02.941Z"
   },
   {
    "duration": 78,
    "start_time": "2025-03-10T05:12:02.964Z"
   },
   {
    "duration": 141,
    "start_time": "2025-03-10T05:12:03.044Z"
   },
   {
    "duration": 52,
    "start_time": "2025-03-10T05:12:03.187Z"
   },
   {
    "duration": 205,
    "start_time": "2025-03-10T05:12:03.241Z"
   },
   {
    "duration": 33,
    "start_time": "2025-03-10T05:12:03.447Z"
   },
   {
    "duration": 192,
    "start_time": "2025-03-10T05:12:03.482Z"
   },
   {
    "duration": 58,
    "start_time": "2025-03-10T05:12:03.676Z"
   },
   {
    "duration": 76,
    "start_time": "2025-03-10T05:12:03.736Z"
   },
   {
    "duration": 127,
    "start_time": "2025-03-10T05:12:03.814Z"
   },
   {
    "duration": 6,
    "start_time": "2025-03-10T05:12:03.942Z"
   },
   {
    "duration": 122,
    "start_time": "2025-03-10T05:12:03.949Z"
   },
   {
    "duration": 49,
    "start_time": "2025-03-10T05:12:04.072Z"
   },
   {
    "duration": 34,
    "start_time": "2025-03-10T05:12:04.127Z"
   },
   {
    "duration": 5,
    "start_time": "2025-03-10T05:12:04.163Z"
   },
   {
    "duration": 24,
    "start_time": "2025-03-10T05:12:04.170Z"
   },
   {
    "duration": 40,
    "start_time": "2025-03-10T05:12:04.196Z"
   },
   {
    "duration": 4,
    "start_time": "2025-03-10T05:12:04.238Z"
   },
   {
    "duration": 29,
    "start_time": "2025-03-10T05:12:04.244Z"
   },
   {
    "duration": 37,
    "start_time": "2025-03-10T05:12:04.274Z"
   },
   {
    "duration": 20,
    "start_time": "2025-03-10T05:12:04.313Z"
   },
   {
    "duration": 50,
    "start_time": "2025-03-10T05:12:04.334Z"
   },
   {
    "duration": 24,
    "start_time": "2025-03-10T05:12:04.386Z"
   },
   {
    "duration": 68,
    "start_time": "2025-03-10T05:12:04.412Z"
   },
   {
    "duration": 9,
    "start_time": "2025-03-10T05:12:04.482Z"
   },
   {
    "duration": 39,
    "start_time": "2025-03-10T05:12:04.492Z"
   },
   {
    "duration": 13,
    "start_time": "2025-03-10T05:12:04.533Z"
   },
   {
    "duration": 1859,
    "start_time": "2025-03-10T05:12:04.548Z"
   },
   {
    "duration": 12,
    "start_time": "2025-03-10T05:12:06.409Z"
   },
   {
    "duration": 163,
    "start_time": "2025-03-10T05:12:06.424Z"
   },
   {
    "duration": 139,
    "start_time": "2025-03-10T05:12:06.588Z"
   },
   {
    "duration": 12,
    "start_time": "2025-03-10T05:12:06.729Z"
   },
   {
    "duration": 32,
    "start_time": "2025-03-10T05:12:06.743Z"
   },
   {
    "duration": 170,
    "start_time": "2025-03-10T05:12:06.776Z"
   },
   {
    "duration": 16,
    "start_time": "2025-03-10T05:12:06.948Z"
   },
   {
    "duration": 20,
    "start_time": "2025-03-10T05:12:06.965Z"
   },
   {
    "duration": 662,
    "start_time": "2025-03-10T05:12:06.987Z"
   },
   {
    "duration": 27,
    "start_time": "2025-03-10T05:12:07.650Z"
   },
   {
    "duration": 29,
    "start_time": "2025-03-10T05:12:07.679Z"
   },
   {
    "duration": 716,
    "start_time": "2025-03-10T05:13:22.625Z"
   },
   {
    "duration": 6,
    "start_time": "2025-03-10T05:50:26.790Z"
   },
   {
    "duration": 606,
    "start_time": "2025-03-10T05:50:38.312Z"
   },
   {
    "duration": 625,
    "start_time": "2025-03-10T05:50:54.985Z"
   },
   {
    "duration": 10,
    "start_time": "2025-03-10T08:00:45.358Z"
   },
   {
    "duration": 159,
    "start_time": "2025-03-10T08:06:27.586Z"
   },
   {
    "duration": 156,
    "start_time": "2025-03-10T08:06:42.340Z"
   },
   {
    "duration": 153,
    "start_time": "2025-03-10T08:09:03.475Z"
   },
   {
    "duration": 2632,
    "start_time": "2025-03-10T09:00:27.025Z"
   },
   {
    "duration": 1250,
    "start_time": "2025-03-10T09:00:29.660Z"
   },
   {
    "duration": 2,
    "start_time": "2025-03-10T09:00:30.911Z"
   },
   {
    "duration": 2260,
    "start_time": "2025-03-10T09:00:30.915Z"
   },
   {
    "duration": 275,
    "start_time": "2025-03-10T09:00:33.176Z"
   },
   {
    "duration": 13,
    "start_time": "2025-03-10T09:00:33.452Z"
   },
   {
    "duration": 23,
    "start_time": "2025-03-10T09:00:33.466Z"
   },
   {
    "duration": 31,
    "start_time": "2025-03-10T09:00:33.491Z"
   },
   {
    "duration": 98,
    "start_time": "2025-03-10T09:00:33.524Z"
   },
   {
    "duration": 3,
    "start_time": "2025-03-10T09:00:33.626Z"
   },
   {
    "duration": 31,
    "start_time": "2025-03-10T09:00:33.630Z"
   },
   {
    "duration": 24,
    "start_time": "2025-03-10T09:00:33.663Z"
   },
   {
    "duration": 65,
    "start_time": "2025-03-10T09:00:33.689Z"
   },
   {
    "duration": 8,
    "start_time": "2025-03-10T09:00:33.755Z"
   },
   {
    "duration": 88,
    "start_time": "2025-03-10T09:00:33.764Z"
   },
   {
    "duration": 76,
    "start_time": "2025-03-10T09:00:33.855Z"
   },
   {
    "duration": 58,
    "start_time": "2025-03-10T09:00:33.932Z"
   },
   {
    "duration": 197,
    "start_time": "2025-03-10T09:00:33.992Z"
   },
   {
    "duration": 6,
    "start_time": "2025-03-10T09:00:34.190Z"
   },
   {
    "duration": 20,
    "start_time": "2025-03-10T09:00:34.197Z"
   },
   {
    "duration": 16,
    "start_time": "2025-03-10T09:00:34.219Z"
   },
   {
    "duration": 59,
    "start_time": "2025-03-10T09:00:34.236Z"
   },
   {
    "duration": 71,
    "start_time": "2025-03-10T09:00:34.297Z"
   },
   {
    "duration": 149,
    "start_time": "2025-03-10T09:00:34.369Z"
   },
   {
    "duration": 31,
    "start_time": "2025-03-10T09:00:34.520Z"
   },
   {
    "duration": 44,
    "start_time": "2025-03-10T09:00:34.553Z"
   },
   {
    "duration": 34,
    "start_time": "2025-03-10T09:00:34.599Z"
   },
   {
    "duration": 36,
    "start_time": "2025-03-10T09:00:34.637Z"
   },
   {
    "duration": 38,
    "start_time": "2025-03-10T09:00:34.675Z"
   },
   {
    "duration": 70,
    "start_time": "2025-03-10T09:00:34.715Z"
   },
   {
    "duration": 153,
    "start_time": "2025-03-10T09:00:34.787Z"
   },
   {
    "duration": 76,
    "start_time": "2025-03-10T09:00:34.942Z"
   },
   {
    "duration": 137,
    "start_time": "2025-03-10T09:00:35.020Z"
   },
   {
    "duration": 36,
    "start_time": "2025-03-10T09:00:35.159Z"
   },
   {
    "duration": 29,
    "start_time": "2025-03-10T09:00:35.197Z"
   },
   {
    "duration": 48,
    "start_time": "2025-03-10T09:00:35.228Z"
   },
   {
    "duration": 77,
    "start_time": "2025-03-10T09:00:35.277Z"
   },
   {
    "duration": 261,
    "start_time": "2025-03-10T09:00:35.355Z"
   },
   {
    "duration": 33,
    "start_time": "2025-03-10T09:00:35.617Z"
   },
   {
    "duration": 491,
    "start_time": "2025-03-10T09:00:35.662Z"
   },
   {
    "duration": 88,
    "start_time": "2025-03-10T09:00:36.155Z"
   },
   {
    "duration": 195,
    "start_time": "2025-03-10T09:00:36.245Z"
   },
   {
    "duration": 43,
    "start_time": "2025-03-10T09:00:36.442Z"
   },
   {
    "duration": 11,
    "start_time": "2025-03-10T09:00:36.487Z"
   },
   {
    "duration": 182,
    "start_time": "2025-03-10T09:00:36.500Z"
   },
   {
    "duration": 15,
    "start_time": "2025-03-10T09:00:36.683Z"
   },
   {
    "duration": 108,
    "start_time": "2025-03-10T09:00:36.699Z"
   },
   {
    "duration": 73,
    "start_time": "2025-03-10T09:00:36.808Z"
   },
   {
    "duration": 8,
    "start_time": "2025-03-10T09:00:36.883Z"
   },
   {
    "duration": 53,
    "start_time": "2025-03-10T09:00:36.892Z"
   },
   {
    "duration": 175,
    "start_time": "2025-03-10T09:00:36.947Z"
   },
   {
    "duration": 28,
    "start_time": "2025-03-10T09:00:37.124Z"
   },
   {
    "duration": 31,
    "start_time": "2025-03-10T09:00:37.153Z"
   },
   {
    "duration": 38,
    "start_time": "2025-03-10T09:00:37.186Z"
   },
   {
    "duration": 34,
    "start_time": "2025-03-10T09:00:37.226Z"
   },
   {
    "duration": 60,
    "start_time": "2025-03-10T09:00:37.261Z"
   },
   {
    "duration": 111,
    "start_time": "2025-03-10T09:00:37.323Z"
   },
   {
    "duration": 58,
    "start_time": "2025-03-10T09:00:37.437Z"
   },
   {
    "duration": 96,
    "start_time": "2025-03-10T09:00:37.498Z"
   },
   {
    "duration": 49,
    "start_time": "2025-03-10T09:00:37.596Z"
   },
   {
    "duration": 51,
    "start_time": "2025-03-10T09:00:37.647Z"
   },
   {
    "duration": 50,
    "start_time": "2025-03-10T09:00:37.700Z"
   },
   {
    "duration": 54,
    "start_time": "2025-03-10T09:00:37.752Z"
   },
   {
    "duration": 348,
    "start_time": "2025-03-10T09:00:37.808Z"
   },
   {
    "duration": 28,
    "start_time": "2025-03-10T09:00:38.157Z"
   },
   {
    "duration": 2509,
    "start_time": "2025-03-10T09:00:38.187Z"
   },
   {
    "duration": 28,
    "start_time": "2025-03-10T09:00:40.698Z"
   },
   {
    "duration": 356,
    "start_time": "2025-03-10T09:00:40.727Z"
   },
   {
    "duration": 14,
    "start_time": "2025-03-10T09:00:41.085Z"
   },
   {
    "duration": 97,
    "start_time": "2025-03-10T09:00:41.101Z"
   },
   {
    "duration": 11,
    "start_time": "2025-03-10T09:00:41.199Z"
   },
   {
    "duration": 4,
    "start_time": "2025-03-10T09:00:41.211Z"
   },
   {
    "duration": 222,
    "start_time": "2025-03-10T09:00:41.216Z"
   },
   {
    "duration": 33,
    "start_time": "2025-03-10T09:00:41.440Z"
   },
   {
    "duration": 201,
    "start_time": "2025-03-10T09:00:41.474Z"
   },
   {
    "duration": 48,
    "start_time": "2025-03-10T09:00:41.677Z"
   },
   {
    "duration": 80,
    "start_time": "2025-03-10T09:00:41.727Z"
   },
   {
    "duration": 121,
    "start_time": "2025-03-10T09:00:41.809Z"
   },
   {
    "duration": 26,
    "start_time": "2025-03-10T09:00:41.932Z"
   },
   {
    "duration": 80,
    "start_time": "2025-03-10T09:00:41.959Z"
   },
   {
    "duration": 63,
    "start_time": "2025-03-10T09:00:42.041Z"
   },
   {
    "duration": 37,
    "start_time": "2025-03-10T09:00:42.111Z"
   },
   {
    "duration": 7,
    "start_time": "2025-03-10T09:00:42.150Z"
   },
   {
    "duration": 12,
    "start_time": "2025-03-10T09:00:42.158Z"
   },
   {
    "duration": 38,
    "start_time": "2025-03-10T09:00:42.172Z"
   },
   {
    "duration": 6,
    "start_time": "2025-03-10T09:00:42.212Z"
   },
   {
    "duration": 61,
    "start_time": "2025-03-10T09:00:42.220Z"
   },
   {
    "duration": 34,
    "start_time": "2025-03-10T09:00:42.283Z"
   },
   {
    "duration": 39,
    "start_time": "2025-03-10T09:00:42.318Z"
   },
   {
    "duration": 93,
    "start_time": "2025-03-10T09:00:42.358Z"
   },
   {
    "duration": 24,
    "start_time": "2025-03-10T09:00:42.453Z"
   },
   {
    "duration": 74,
    "start_time": "2025-03-10T09:00:42.479Z"
   },
   {
    "duration": 8,
    "start_time": "2025-03-10T09:00:42.554Z"
   },
   {
    "duration": 31,
    "start_time": "2025-03-10T09:00:42.564Z"
   },
   {
    "duration": 14,
    "start_time": "2025-03-10T09:00:42.597Z"
   },
   {
    "duration": 1890,
    "start_time": "2025-03-10T09:00:42.613Z"
   },
   {
    "duration": 10,
    "start_time": "2025-03-10T09:00:44.505Z"
   },
   {
    "duration": 201,
    "start_time": "2025-03-10T09:00:44.516Z"
   },
   {
    "duration": 143,
    "start_time": "2025-03-10T09:00:44.719Z"
   },
   {
    "duration": 110,
    "start_time": "2025-03-10T09:00:44.863Z"
   },
   {
    "duration": 0,
    "start_time": "2025-03-10T09:00:44.975Z"
   },
   {
    "duration": 0,
    "start_time": "2025-03-10T09:00:44.976Z"
   },
   {
    "duration": 0,
    "start_time": "2025-03-10T09:00:44.977Z"
   },
   {
    "duration": 0,
    "start_time": "2025-03-10T09:00:44.978Z"
   },
   {
    "duration": 0,
    "start_time": "2025-03-10T09:00:44.980Z"
   },
   {
    "duration": 0,
    "start_time": "2025-03-10T09:00:44.981Z"
   },
   {
    "duration": 0,
    "start_time": "2025-03-10T09:00:44.982Z"
   },
   {
    "duration": 0,
    "start_time": "2025-03-10T09:00:44.983Z"
   },
   {
    "duration": 0,
    "start_time": "2025-03-10T09:00:44.984Z"
   },
   {
    "duration": 0,
    "start_time": "2025-03-10T09:00:44.986Z"
   },
   {
    "duration": 11,
    "start_time": "2025-03-10T09:01:44.949Z"
   },
   {
    "duration": 10,
    "start_time": "2025-03-10T09:01:48.827Z"
   },
   {
    "duration": 148,
    "start_time": "2025-03-10T09:01:50.416Z"
   },
   {
    "duration": 11,
    "start_time": "2025-03-10T09:01:52.289Z"
   },
   {
    "duration": 6,
    "start_time": "2025-03-10T09:01:52.752Z"
   },
   {
    "duration": 634,
    "start_time": "2025-03-10T09:01:53.028Z"
   },
   {
    "duration": 23,
    "start_time": "2025-03-10T09:01:53.819Z"
   },
   {
    "duration": 6,
    "start_time": "2025-03-10T09:01:54.418Z"
   },
   {
    "duration": 728,
    "start_time": "2025-03-10T09:01:54.658Z"
   },
   {
    "duration": 9,
    "start_time": "2025-03-10T09:01:55.931Z"
   },
   {
    "duration": 148,
    "start_time": "2025-03-10T09:01:56.435Z"
   },
   {
    "duration": 2519,
    "start_time": "2025-03-10T10:36:59.912Z"
   },
   {
    "duration": 1289,
    "start_time": "2025-03-10T10:37:02.434Z"
   },
   {
    "duration": 3,
    "start_time": "2025-03-10T10:37:03.725Z"
   },
   {
    "duration": 3034,
    "start_time": "2025-03-10T10:37:03.730Z"
   },
   {
    "duration": 182,
    "start_time": "2025-03-10T10:37:06.766Z"
   },
   {
    "duration": 13,
    "start_time": "2025-03-10T10:37:06.950Z"
   },
   {
    "duration": 139,
    "start_time": "2025-03-10T10:37:06.965Z"
   },
   {
    "duration": 85,
    "start_time": "2025-03-10T10:37:07.106Z"
   },
   {
    "duration": 135,
    "start_time": "2025-03-10T10:37:07.193Z"
   },
   {
    "duration": 3,
    "start_time": "2025-03-10T10:37:07.331Z"
   },
   {
    "duration": 29,
    "start_time": "2025-03-10T10:37:07.336Z"
   },
   {
    "duration": 23,
    "start_time": "2025-03-10T10:37:07.366Z"
   },
   {
    "duration": 70,
    "start_time": "2025-03-10T10:37:07.390Z"
   },
   {
    "duration": 115,
    "start_time": "2025-03-10T10:37:07.462Z"
   },
   {
    "duration": 51,
    "start_time": "2025-03-10T10:37:07.579Z"
   },
   {
    "duration": 32,
    "start_time": "2025-03-10T10:37:07.631Z"
   },
   {
    "duration": 132,
    "start_time": "2025-03-10T10:37:07.664Z"
   },
   {
    "duration": 95,
    "start_time": "2025-03-10T10:37:07.797Z"
   },
   {
    "duration": 5,
    "start_time": "2025-03-10T10:37:07.894Z"
   },
   {
    "duration": 36,
    "start_time": "2025-03-10T10:37:07.901Z"
   },
   {
    "duration": 7,
    "start_time": "2025-03-10T10:37:07.939Z"
   },
   {
    "duration": 110,
    "start_time": "2025-03-10T10:37:07.948Z"
   },
   {
    "duration": 68,
    "start_time": "2025-03-10T10:37:08.060Z"
   },
   {
    "duration": 80,
    "start_time": "2025-03-10T10:37:08.131Z"
   },
   {
    "duration": 18,
    "start_time": "2025-03-10T10:37:08.213Z"
   },
   {
    "duration": 306,
    "start_time": "2025-03-10T10:37:08.233Z"
   },
   {
    "duration": 71,
    "start_time": "2025-03-10T10:37:08.541Z"
   },
   {
    "duration": 33,
    "start_time": "2025-03-10T10:37:08.616Z"
   },
   {
    "duration": 18,
    "start_time": "2025-03-10T10:37:08.651Z"
   },
   {
    "duration": 95,
    "start_time": "2025-03-10T10:37:08.671Z"
   },
   {
    "duration": 158,
    "start_time": "2025-03-10T10:37:08.767Z"
   },
   {
    "duration": 83,
    "start_time": "2025-03-10T10:37:08.927Z"
   },
   {
    "duration": 114,
    "start_time": "2025-03-10T10:37:09.011Z"
   },
   {
    "duration": 34,
    "start_time": "2025-03-10T10:37:09.127Z"
   },
   {
    "duration": 34,
    "start_time": "2025-03-10T10:37:09.162Z"
   },
   {
    "duration": 48,
    "start_time": "2025-03-10T10:37:09.198Z"
   },
   {
    "duration": 39,
    "start_time": "2025-03-10T10:37:09.248Z"
   },
   {
    "duration": 264,
    "start_time": "2025-03-10T10:37:09.288Z"
   },
   {
    "duration": 43,
    "start_time": "2025-03-10T10:37:09.554Z"
   },
   {
    "duration": 485,
    "start_time": "2025-03-10T10:37:09.599Z"
   },
   {
    "duration": 94,
    "start_time": "2025-03-10T10:37:10.086Z"
   },
   {
    "duration": 193,
    "start_time": "2025-03-10T10:37:10.181Z"
   },
   {
    "duration": 36,
    "start_time": "2025-03-10T10:37:10.376Z"
   },
   {
    "duration": 132,
    "start_time": "2025-03-10T10:37:10.414Z"
   },
   {
    "duration": 92,
    "start_time": "2025-03-10T10:37:10.548Z"
   },
   {
    "duration": 14,
    "start_time": "2025-03-10T10:37:10.641Z"
   },
   {
    "duration": 59,
    "start_time": "2025-03-10T10:37:10.663Z"
   },
   {
    "duration": 70,
    "start_time": "2025-03-10T10:37:10.724Z"
   },
   {
    "duration": 8,
    "start_time": "2025-03-10T10:37:10.795Z"
   },
   {
    "duration": 8,
    "start_time": "2025-03-10T10:37:10.805Z"
   },
   {
    "duration": 18,
    "start_time": "2025-03-10T10:37:10.814Z"
   },
   {
    "duration": 22,
    "start_time": "2025-03-10T10:37:10.833Z"
   },
   {
    "duration": 29,
    "start_time": "2025-03-10T10:37:10.856Z"
   },
   {
    "duration": 10,
    "start_time": "2025-03-10T10:37:10.887Z"
   },
   {
    "duration": 18,
    "start_time": "2025-03-10T10:37:10.899Z"
   },
   {
    "duration": 11,
    "start_time": "2025-03-10T10:37:10.919Z"
   },
   {
    "duration": 17,
    "start_time": "2025-03-10T10:37:10.932Z"
   },
   {
    "duration": 15,
    "start_time": "2025-03-10T10:37:10.950Z"
   },
   {
    "duration": 123,
    "start_time": "2025-03-10T10:37:10.967Z"
   },
   {
    "duration": 36,
    "start_time": "2025-03-10T10:37:11.091Z"
   },
   {
    "duration": 18,
    "start_time": "2025-03-10T10:37:11.128Z"
   },
   {
    "duration": 18,
    "start_time": "2025-03-10T10:37:11.147Z"
   },
   {
    "duration": 39,
    "start_time": "2025-03-10T10:37:11.167Z"
   },
   {
    "duration": 46,
    "start_time": "2025-03-10T10:37:11.207Z"
   },
   {
    "duration": 36,
    "start_time": "2025-03-10T10:37:11.255Z"
   },
   {
    "duration": 2568,
    "start_time": "2025-03-10T10:37:11.292Z"
   },
   {
    "duration": 29,
    "start_time": "2025-03-10T10:37:13.862Z"
   },
   {
    "duration": 358,
    "start_time": "2025-03-10T10:37:13.893Z"
   },
   {
    "duration": 22,
    "start_time": "2025-03-10T10:37:14.253Z"
   },
   {
    "duration": 322,
    "start_time": "2025-03-10T10:37:14.277Z"
   },
   {
    "duration": 25,
    "start_time": "2025-03-10T10:37:14.600Z"
   },
   {
    "duration": 3,
    "start_time": "2025-03-10T10:37:14.627Z"
   },
   {
    "duration": 236,
    "start_time": "2025-03-10T10:37:14.632Z"
   },
   {
    "duration": 32,
    "start_time": "2025-03-10T10:37:14.870Z"
   },
   {
    "duration": 223,
    "start_time": "2025-03-10T10:37:14.904Z"
   },
   {
    "duration": 61,
    "start_time": "2025-03-10T10:37:15.129Z"
   },
   {
    "duration": 83,
    "start_time": "2025-03-10T10:37:15.191Z"
   },
   {
    "duration": 126,
    "start_time": "2025-03-10T10:37:15.276Z"
   },
   {
    "duration": 5,
    "start_time": "2025-03-10T10:37:15.404Z"
   },
   {
    "duration": 49,
    "start_time": "2025-03-10T10:37:15.411Z"
   },
   {
    "duration": 134,
    "start_time": "2025-03-10T10:37:15.462Z"
   },
   {
    "duration": 37,
    "start_time": "2025-03-10T10:37:15.601Z"
   },
   {
    "duration": 6,
    "start_time": "2025-03-10T10:37:15.640Z"
   },
   {
    "duration": 14,
    "start_time": "2025-03-10T10:37:15.648Z"
   },
   {
    "duration": 31,
    "start_time": "2025-03-10T10:37:15.664Z"
   },
   {
    "duration": 9,
    "start_time": "2025-03-10T10:37:15.697Z"
   },
   {
    "duration": 57,
    "start_time": "2025-03-10T10:37:15.707Z"
   },
   {
    "duration": 46,
    "start_time": "2025-03-10T10:37:15.766Z"
   },
   {
    "duration": 21,
    "start_time": "2025-03-10T10:37:15.814Z"
   },
   {
    "duration": 49,
    "start_time": "2025-03-10T10:37:15.837Z"
   },
   {
    "duration": 25,
    "start_time": "2025-03-10T10:37:15.887Z"
   },
   {
    "duration": 80,
    "start_time": "2025-03-10T10:37:15.914Z"
   },
   {
    "duration": 7,
    "start_time": "2025-03-10T10:37:15.996Z"
   },
   {
    "duration": 38,
    "start_time": "2025-03-10T10:37:16.005Z"
   },
   {
    "duration": 23,
    "start_time": "2025-03-10T10:37:16.045Z"
   },
   {
    "duration": 1863,
    "start_time": "2025-03-10T10:37:16.069Z"
   },
   {
    "duration": 11,
    "start_time": "2025-03-10T10:37:17.934Z"
   },
   {
    "duration": 148,
    "start_time": "2025-03-10T10:37:17.964Z"
   },
   {
    "duration": 150,
    "start_time": "2025-03-10T10:37:18.114Z"
   },
   {
    "duration": 13,
    "start_time": "2025-03-10T10:37:18.265Z"
   },
   {
    "duration": 281,
    "start_time": "2025-03-10T10:37:18.280Z"
   },
   {
    "duration": 146,
    "start_time": "2025-03-10T10:37:18.562Z"
   },
   {
    "duration": 12,
    "start_time": "2025-03-10T10:37:18.711Z"
   },
   {
    "duration": 5,
    "start_time": "2025-03-10T10:37:18.725Z"
   },
   {
    "duration": 684,
    "start_time": "2025-03-10T10:37:18.733Z"
   },
   {
    "duration": 26,
    "start_time": "2025-03-10T10:37:19.419Z"
   },
   {
    "duration": 7,
    "start_time": "2025-03-10T10:37:19.463Z"
   },
   {
    "duration": 850,
    "start_time": "2025-03-10T10:37:19.472Z"
   },
   {
    "duration": 8,
    "start_time": "2025-03-10T10:37:20.324Z"
   },
   {
    "duration": 363,
    "start_time": "2025-03-10T10:37:20.334Z"
   },
   {
    "duration": 49,
    "start_time": "2025-03-10T18:44:09.293Z"
   },
   {
    "duration": 3452,
    "start_time": "2025-03-10T18:44:17.465Z"
   },
   {
    "duration": 1300,
    "start_time": "2025-03-10T18:44:20.920Z"
   },
   {
    "duration": 4,
    "start_time": "2025-03-10T18:44:22.222Z"
   },
   {
    "duration": 2100,
    "start_time": "2025-03-10T18:44:22.229Z"
   },
   {
    "duration": 163,
    "start_time": "2025-03-10T18:44:24.331Z"
   },
   {
    "duration": 11,
    "start_time": "2025-03-10T18:44:24.495Z"
   },
   {
    "duration": 54,
    "start_time": "2025-03-10T18:44:24.507Z"
   },
   {
    "duration": 103,
    "start_time": "2025-03-10T18:44:24.563Z"
   },
   {
    "duration": 92,
    "start_time": "2025-03-10T18:44:24.667Z"
   },
   {
    "duration": 3,
    "start_time": "2025-03-10T18:44:24.761Z"
   },
   {
    "duration": 13,
    "start_time": "2025-03-10T18:44:24.766Z"
   },
   {
    "duration": 9,
    "start_time": "2025-03-10T18:44:24.781Z"
   },
   {
    "duration": 62,
    "start_time": "2025-03-10T18:44:24.791Z"
   },
   {
    "duration": 8,
    "start_time": "2025-03-10T18:44:24.854Z"
   },
   {
    "duration": 28,
    "start_time": "2025-03-10T18:44:24.864Z"
   },
   {
    "duration": 8,
    "start_time": "2025-03-10T18:44:24.893Z"
   },
   {
    "duration": 29,
    "start_time": "2025-03-10T18:44:24.903Z"
   },
   {
    "duration": 86,
    "start_time": "2025-03-10T18:44:24.933Z"
   },
   {
    "duration": 6,
    "start_time": "2025-03-10T18:44:25.020Z"
   },
   {
    "duration": 42,
    "start_time": "2025-03-10T18:44:25.027Z"
   },
   {
    "duration": 35,
    "start_time": "2025-03-10T18:44:25.070Z"
   },
   {
    "duration": 72,
    "start_time": "2025-03-10T18:44:25.107Z"
   },
   {
    "duration": 73,
    "start_time": "2025-03-10T18:44:25.180Z"
   },
   {
    "duration": 45,
    "start_time": "2025-03-10T18:44:25.255Z"
   },
   {
    "duration": 5,
    "start_time": "2025-03-10T18:44:25.301Z"
   },
   {
    "duration": 20,
    "start_time": "2025-03-10T18:44:25.307Z"
   },
   {
    "duration": 4,
    "start_time": "2025-03-10T18:44:25.328Z"
   },
   {
    "duration": 14,
    "start_time": "2025-03-10T18:44:25.356Z"
   },
   {
    "duration": 8,
    "start_time": "2025-03-10T18:44:25.371Z"
   },
   {
    "duration": 64,
    "start_time": "2025-03-10T18:44:25.380Z"
   },
   {
    "duration": 156,
    "start_time": "2025-03-10T18:44:25.446Z"
   },
   {
    "duration": 76,
    "start_time": "2025-03-10T18:44:25.603Z"
   },
   {
    "duration": 23,
    "start_time": "2025-03-10T18:44:25.681Z"
   },
   {
    "duration": 51,
    "start_time": "2025-03-10T18:44:25.706Z"
   },
   {
    "duration": 11,
    "start_time": "2025-03-10T18:44:25.759Z"
   },
   {
    "duration": 64,
    "start_time": "2025-03-10T18:44:25.771Z"
   },
   {
    "duration": 37,
    "start_time": "2025-03-10T18:44:25.838Z"
   },
   {
    "duration": 299,
    "start_time": "2025-03-10T18:44:25.876Z"
   },
   {
    "duration": 31,
    "start_time": "2025-03-10T18:44:26.177Z"
   },
   {
    "duration": 439,
    "start_time": "2025-03-10T18:44:26.210Z"
   },
   {
    "duration": 75,
    "start_time": "2025-03-10T18:44:26.651Z"
   },
   {
    "duration": 183,
    "start_time": "2025-03-10T18:44:26.728Z"
   },
   {
    "duration": 32,
    "start_time": "2025-03-10T18:44:26.913Z"
   },
   {
    "duration": 9,
    "start_time": "2025-03-10T18:44:26.957Z"
   },
   {
    "duration": 169,
    "start_time": "2025-03-10T18:44:26.968Z"
   },
   {
    "duration": 13,
    "start_time": "2025-03-10T18:44:27.139Z"
   },
   {
    "duration": 64,
    "start_time": "2025-03-10T18:44:27.157Z"
   },
   {
    "duration": 68,
    "start_time": "2025-03-10T18:44:27.223Z"
   },
   {
    "duration": 6,
    "start_time": "2025-03-10T18:44:27.293Z"
   },
   {
    "duration": 4,
    "start_time": "2025-03-10T18:44:27.301Z"
   },
   {
    "duration": 16,
    "start_time": "2025-03-10T18:44:27.306Z"
   },
   {
    "duration": 11,
    "start_time": "2025-03-10T18:44:27.323Z"
   },
   {
    "duration": 21,
    "start_time": "2025-03-10T18:44:27.335Z"
   },
   {
    "duration": 10,
    "start_time": "2025-03-10T18:44:27.358Z"
   },
   {
    "duration": 5,
    "start_time": "2025-03-10T18:44:27.369Z"
   },
   {
    "duration": 7,
    "start_time": "2025-03-10T18:44:27.375Z"
   },
   {
    "duration": 8,
    "start_time": "2025-03-10T18:44:27.384Z"
   },
   {
    "duration": 10,
    "start_time": "2025-03-10T18:44:27.393Z"
   },
   {
    "duration": 27,
    "start_time": "2025-03-10T18:44:27.404Z"
   },
   {
    "duration": 30,
    "start_time": "2025-03-10T18:44:27.432Z"
   },
   {
    "duration": 8,
    "start_time": "2025-03-10T18:44:27.463Z"
   },
   {
    "duration": 9,
    "start_time": "2025-03-10T18:44:27.472Z"
   },
   {
    "duration": 24,
    "start_time": "2025-03-10T18:44:27.482Z"
   },
   {
    "duration": 56,
    "start_time": "2025-03-10T18:44:27.508Z"
   },
   {
    "duration": 6,
    "start_time": "2025-03-10T18:44:27.565Z"
   },
   {
    "duration": 55,
    "start_time": "2025-03-10T18:44:27.572Z"
   },
   {
    "duration": 8074,
    "start_time": "2025-03-10T18:44:27.629Z"
   },
   {
    "duration": 28,
    "start_time": "2025-03-10T18:44:35.704Z"
   },
   {
    "duration": 383,
    "start_time": "2025-03-10T18:44:35.733Z"
   },
   {
    "duration": 16,
    "start_time": "2025-03-10T18:44:36.118Z"
   },
   {
    "duration": 102,
    "start_time": "2025-03-10T18:44:36.135Z"
   },
   {
    "duration": 27,
    "start_time": "2025-03-10T18:44:36.238Z"
   },
   {
    "duration": 4,
    "start_time": "2025-03-10T18:44:36.266Z"
   },
   {
    "duration": 234,
    "start_time": "2025-03-10T18:44:36.271Z"
   },
   {
    "duration": 29,
    "start_time": "2025-03-10T18:44:36.507Z"
   },
   {
    "duration": 269,
    "start_time": "2025-03-10T18:44:36.538Z"
   },
   {
    "duration": 51,
    "start_time": "2025-03-10T18:44:36.809Z"
   },
   {
    "duration": 62,
    "start_time": "2025-03-10T18:44:36.861Z"
   },
   {
    "duration": 128,
    "start_time": "2025-03-10T18:44:36.924Z"
   },
   {
    "duration": 4,
    "start_time": "2025-03-10T18:44:37.056Z"
   },
   {
    "duration": 31,
    "start_time": "2025-03-10T18:44:37.062Z"
   },
   {
    "duration": 29,
    "start_time": "2025-03-10T18:44:37.099Z"
   },
   {
    "duration": 43,
    "start_time": "2025-03-10T18:44:37.129Z"
   },
   {
    "duration": 7,
    "start_time": "2025-03-10T18:44:37.173Z"
   },
   {
    "duration": 26,
    "start_time": "2025-03-10T18:44:37.181Z"
   },
   {
    "duration": 26,
    "start_time": "2025-03-10T18:44:37.208Z"
   },
   {
    "duration": 5,
    "start_time": "2025-03-10T18:44:37.235Z"
   },
   {
    "duration": 21,
    "start_time": "2025-03-10T18:44:37.258Z"
   },
   {
    "duration": 32,
    "start_time": "2025-03-10T18:44:37.281Z"
   },
   {
    "duration": 19,
    "start_time": "2025-03-10T18:44:37.314Z"
   },
   {
    "duration": 27,
    "start_time": "2025-03-10T18:44:37.357Z"
   },
   {
    "duration": 46,
    "start_time": "2025-03-10T18:44:37.386Z"
   },
   {
    "duration": 57,
    "start_time": "2025-03-10T18:44:37.434Z"
   },
   {
    "duration": 7,
    "start_time": "2025-03-10T18:44:37.493Z"
   },
   {
    "duration": 32,
    "start_time": "2025-03-10T18:44:37.501Z"
   },
   {
    "duration": 29,
    "start_time": "2025-03-10T18:44:37.534Z"
   },
   {
    "duration": 1800,
    "start_time": "2025-03-10T18:44:37.565Z"
   },
   {
    "duration": 10,
    "start_time": "2025-03-10T18:44:39.366Z"
   },
   {
    "duration": 140,
    "start_time": "2025-03-10T18:44:39.377Z"
   },
   {
    "duration": 134,
    "start_time": "2025-03-10T18:44:39.519Z"
   },
   {
    "duration": 12,
    "start_time": "2025-03-10T18:44:39.657Z"
   },
   {
    "duration": 16,
    "start_time": "2025-03-10T18:44:39.670Z"
   },
   {
    "duration": 145,
    "start_time": "2025-03-10T18:44:39.688Z"
   },
   {
    "duration": 24,
    "start_time": "2025-03-10T18:44:39.835Z"
   },
   {
    "duration": 101,
    "start_time": "2025-03-10T18:44:39.860Z"
   },
   {
    "duration": 613,
    "start_time": "2025-03-10T18:44:39.962Z"
   },
   {
    "duration": 22,
    "start_time": "2025-03-10T18:44:40.577Z"
   },
   {
    "duration": 35,
    "start_time": "2025-03-10T18:44:40.600Z"
   },
   {
    "duration": 687,
    "start_time": "2025-03-10T18:44:40.637Z"
   },
   {
    "duration": 8,
    "start_time": "2025-03-10T18:44:41.326Z"
   },
   {
    "duration": 160,
    "start_time": "2025-03-10T18:44:41.335Z"
   },
   {
    "duration": 132,
    "start_time": "2025-03-10T18:46:18.374Z"
   },
   {
    "duration": 120,
    "start_time": "2025-03-10T18:48:45.623Z"
   },
   {
    "duration": 742,
    "start_time": "2025-03-10T18:59:46.900Z"
   },
   {
    "duration": 2343,
    "start_time": "2025-03-10T19:08:29.481Z"
   },
   {
    "duration": 1182,
    "start_time": "2025-03-10T19:08:31.826Z"
   },
   {
    "duration": 3,
    "start_time": "2025-03-10T19:08:33.009Z"
   },
   {
    "duration": 1998,
    "start_time": "2025-03-10T19:08:33.014Z"
   },
   {
    "duration": 161,
    "start_time": "2025-03-10T19:08:35.014Z"
   },
   {
    "duration": 10,
    "start_time": "2025-03-10T19:08:35.177Z"
   },
   {
    "duration": 40,
    "start_time": "2025-03-10T19:08:35.189Z"
   },
   {
    "duration": 31,
    "start_time": "2025-03-10T19:08:35.231Z"
   },
   {
    "duration": 110,
    "start_time": "2025-03-10T19:08:35.263Z"
   },
   {
    "duration": 2,
    "start_time": "2025-03-10T19:08:35.376Z"
   },
   {
    "duration": 17,
    "start_time": "2025-03-10T19:08:35.380Z"
   },
   {
    "duration": 21,
    "start_time": "2025-03-10T19:08:35.399Z"
   },
   {
    "duration": 50,
    "start_time": "2025-03-10T19:08:35.422Z"
   },
   {
    "duration": 7,
    "start_time": "2025-03-10T19:08:35.474Z"
   },
   {
    "duration": 79,
    "start_time": "2025-03-10T19:08:35.483Z"
   },
   {
    "duration": 65,
    "start_time": "2025-03-10T19:08:35.564Z"
   },
   {
    "duration": 36,
    "start_time": "2025-03-10T19:08:35.630Z"
   },
   {
    "duration": 112,
    "start_time": "2025-03-10T19:08:35.668Z"
   },
   {
    "duration": 6,
    "start_time": "2025-03-10T19:08:35.782Z"
   },
   {
    "duration": 30,
    "start_time": "2025-03-10T19:08:35.790Z"
   },
   {
    "duration": 64,
    "start_time": "2025-03-10T19:08:35.822Z"
   },
   {
    "duration": 70,
    "start_time": "2025-03-10T19:08:35.887Z"
   },
   {
    "duration": 189,
    "start_time": "2025-03-10T19:08:35.958Z"
   },
   {
    "duration": 46,
    "start_time": "2025-03-10T19:08:36.148Z"
   },
   {
    "duration": 77,
    "start_time": "2025-03-10T19:08:36.196Z"
   },
   {
    "duration": 35,
    "start_time": "2025-03-10T19:08:36.275Z"
   },
   {
    "duration": 28,
    "start_time": "2025-03-10T19:08:36.312Z"
   },
   {
    "duration": 81,
    "start_time": "2025-03-10T19:08:36.347Z"
   },
   {
    "duration": 33,
    "start_time": "2025-03-10T19:08:36.430Z"
   },
   {
    "duration": 80,
    "start_time": "2025-03-10T19:08:36.465Z"
   },
   {
    "duration": 155,
    "start_time": "2025-03-10T19:08:36.547Z"
   },
   {
    "duration": 81,
    "start_time": "2025-03-10T19:08:36.703Z"
   },
   {
    "duration": 23,
    "start_time": "2025-03-10T19:08:36.786Z"
   },
   {
    "duration": 48,
    "start_time": "2025-03-10T19:08:36.810Z"
   },
   {
    "duration": 13,
    "start_time": "2025-03-10T19:08:36.860Z"
   },
   {
    "duration": 56,
    "start_time": "2025-03-10T19:08:36.875Z"
   },
   {
    "duration": 51,
    "start_time": "2025-03-10T19:08:36.933Z"
   },
   {
    "duration": 220,
    "start_time": "2025-03-10T19:08:36.986Z"
   },
   {
    "duration": 33,
    "start_time": "2025-03-10T19:08:37.208Z"
   },
   {
    "duration": 459,
    "start_time": "2025-03-10T19:08:37.243Z"
   },
   {
    "duration": 90,
    "start_time": "2025-03-10T19:08:37.704Z"
   },
   {
    "duration": 181,
    "start_time": "2025-03-10T19:08:37.795Z"
   },
   {
    "duration": 38,
    "start_time": "2025-03-10T19:08:37.978Z"
   },
   {
    "duration": 64,
    "start_time": "2025-03-10T19:08:38.017Z"
   },
   {
    "duration": 80,
    "start_time": "2025-03-10T19:08:38.083Z"
   },
   {
    "duration": 13,
    "start_time": "2025-03-10T19:08:38.164Z"
   },
   {
    "duration": 143,
    "start_time": "2025-03-10T19:08:38.179Z"
   },
   {
    "duration": 52,
    "start_time": "2025-03-10T19:08:38.324Z"
   },
   {
    "duration": 6,
    "start_time": "2025-03-10T19:08:38.378Z"
   },
   {
    "duration": 6,
    "start_time": "2025-03-10T19:08:38.386Z"
   },
   {
    "duration": 8,
    "start_time": "2025-03-10T19:08:38.393Z"
   },
   {
    "duration": 9,
    "start_time": "2025-03-10T19:08:38.402Z"
   },
   {
    "duration": 22,
    "start_time": "2025-03-10T19:08:38.413Z"
   },
   {
    "duration": 11,
    "start_time": "2025-03-10T19:08:38.436Z"
   },
   {
    "duration": 6,
    "start_time": "2025-03-10T19:08:38.456Z"
   },
   {
    "duration": 17,
    "start_time": "2025-03-10T19:08:38.464Z"
   },
   {
    "duration": 15,
    "start_time": "2025-03-10T19:08:38.483Z"
   },
   {
    "duration": 6,
    "start_time": "2025-03-10T19:08:38.500Z"
   },
   {
    "duration": 183,
    "start_time": "2025-03-10T19:08:38.507Z"
   },
   {
    "duration": 45,
    "start_time": "2025-03-10T19:08:38.691Z"
   },
   {
    "duration": 13,
    "start_time": "2025-03-10T19:08:38.738Z"
   },
   {
    "duration": 9,
    "start_time": "2025-03-10T19:08:38.752Z"
   },
   {
    "duration": 28,
    "start_time": "2025-03-10T19:08:38.763Z"
   },
   {
    "duration": 42,
    "start_time": "2025-03-10T19:08:38.793Z"
   },
   {
    "duration": 21,
    "start_time": "2025-03-10T19:08:38.837Z"
   },
   {
    "duration": 56,
    "start_time": "2025-03-10T19:08:38.859Z"
   },
   {
    "duration": 124,
    "start_time": "2025-03-10T19:08:38.917Z"
   },
   {
    "duration": 0,
    "start_time": "2025-03-10T19:08:39.044Z"
   },
   {
    "duration": 0,
    "start_time": "2025-03-10T19:08:39.045Z"
   },
   {
    "duration": 0,
    "start_time": "2025-03-10T19:08:39.046Z"
   },
   {
    "duration": 0,
    "start_time": "2025-03-10T19:08:39.047Z"
   },
   {
    "duration": 0,
    "start_time": "2025-03-10T19:08:39.048Z"
   },
   {
    "duration": 0,
    "start_time": "2025-03-10T19:08:39.056Z"
   },
   {
    "duration": 0,
    "start_time": "2025-03-10T19:08:39.057Z"
   },
   {
    "duration": 0,
    "start_time": "2025-03-10T19:08:39.058Z"
   },
   {
    "duration": 0,
    "start_time": "2025-03-10T19:08:39.068Z"
   },
   {
    "duration": 0,
    "start_time": "2025-03-10T19:08:39.069Z"
   },
   {
    "duration": 0,
    "start_time": "2025-03-10T19:08:39.070Z"
   },
   {
    "duration": 0,
    "start_time": "2025-03-10T19:08:39.072Z"
   },
   {
    "duration": 0,
    "start_time": "2025-03-10T19:08:39.073Z"
   },
   {
    "duration": 0,
    "start_time": "2025-03-10T19:08:39.074Z"
   },
   {
    "duration": 0,
    "start_time": "2025-03-10T19:08:39.075Z"
   },
   {
    "duration": 0,
    "start_time": "2025-03-10T19:08:39.076Z"
   },
   {
    "duration": 0,
    "start_time": "2025-03-10T19:08:39.077Z"
   },
   {
    "duration": 0,
    "start_time": "2025-03-10T19:08:39.078Z"
   },
   {
    "duration": 0,
    "start_time": "2025-03-10T19:08:39.079Z"
   },
   {
    "duration": 0,
    "start_time": "2025-03-10T19:08:39.080Z"
   },
   {
    "duration": 0,
    "start_time": "2025-03-10T19:08:39.081Z"
   },
   {
    "duration": 0,
    "start_time": "2025-03-10T19:08:39.082Z"
   },
   {
    "duration": 0,
    "start_time": "2025-03-10T19:08:39.083Z"
   },
   {
    "duration": 0,
    "start_time": "2025-03-10T19:08:39.085Z"
   },
   {
    "duration": 0,
    "start_time": "2025-03-10T19:08:39.086Z"
   },
   {
    "duration": 0,
    "start_time": "2025-03-10T19:08:39.087Z"
   },
   {
    "duration": 0,
    "start_time": "2025-03-10T19:08:39.088Z"
   },
   {
    "duration": 0,
    "start_time": "2025-03-10T19:08:39.089Z"
   },
   {
    "duration": 0,
    "start_time": "2025-03-10T19:08:39.090Z"
   },
   {
    "duration": 1,
    "start_time": "2025-03-10T19:08:39.091Z"
   },
   {
    "duration": 0,
    "start_time": "2025-03-10T19:08:39.093Z"
   },
   {
    "duration": 0,
    "start_time": "2025-03-10T19:08:39.094Z"
   },
   {
    "duration": 0,
    "start_time": "2025-03-10T19:08:39.095Z"
   },
   {
    "duration": 0,
    "start_time": "2025-03-10T19:08:39.096Z"
   },
   {
    "duration": 0,
    "start_time": "2025-03-10T19:08:39.157Z"
   },
   {
    "duration": 0,
    "start_time": "2025-03-10T19:08:39.159Z"
   },
   {
    "duration": 0,
    "start_time": "2025-03-10T19:08:39.160Z"
   },
   {
    "duration": 0,
    "start_time": "2025-03-10T19:08:39.161Z"
   },
   {
    "duration": 0,
    "start_time": "2025-03-10T19:08:39.162Z"
   },
   {
    "duration": 0,
    "start_time": "2025-03-10T19:08:39.163Z"
   },
   {
    "duration": 0,
    "start_time": "2025-03-10T19:08:39.164Z"
   },
   {
    "duration": 0,
    "start_time": "2025-03-10T19:08:39.165Z"
   },
   {
    "duration": 0,
    "start_time": "2025-03-10T19:08:39.166Z"
   },
   {
    "duration": 0,
    "start_time": "2025-03-10T19:08:39.167Z"
   },
   {
    "duration": 0,
    "start_time": "2025-03-10T19:08:39.168Z"
   },
   {
    "duration": 9,
    "start_time": "2025-03-10T19:11:54.485Z"
   },
   {
    "duration": 9,
    "start_time": "2025-03-10T19:12:02.100Z"
   },
   {
    "duration": 18,
    "start_time": "2025-03-10T19:14:29.451Z"
   },
   {
    "duration": 9,
    "start_time": "2025-03-10T19:16:00.376Z"
   },
   {
    "duration": 10,
    "start_time": "2025-03-10T19:16:09.156Z"
   },
   {
    "duration": 19,
    "start_time": "2025-03-10T19:16:23.051Z"
   },
   {
    "duration": 2307,
    "start_time": "2025-03-10T19:16:59.556Z"
   },
   {
    "duration": 152,
    "start_time": "2025-03-10T19:17:55.841Z"
   },
   {
    "duration": 240,
    "start_time": "2025-03-10T19:18:11.943Z"
   },
   {
    "duration": 2362,
    "start_time": "2025-03-10T19:18:31.796Z"
   },
   {
    "duration": 1226,
    "start_time": "2025-03-10T19:18:34.161Z"
   },
   {
    "duration": 3,
    "start_time": "2025-03-10T19:18:35.388Z"
   },
   {
    "duration": 1949,
    "start_time": "2025-03-10T19:18:35.392Z"
   },
   {
    "duration": 146,
    "start_time": "2025-03-10T19:18:37.343Z"
   },
   {
    "duration": 12,
    "start_time": "2025-03-10T19:18:37.491Z"
   },
   {
    "duration": 18,
    "start_time": "2025-03-10T19:18:37.504Z"
   },
   {
    "duration": 33,
    "start_time": "2025-03-10T19:18:37.524Z"
   },
   {
    "duration": 100,
    "start_time": "2025-03-10T19:18:37.559Z"
   },
   {
    "duration": 3,
    "start_time": "2025-03-10T19:18:37.662Z"
   },
   {
    "duration": 20,
    "start_time": "2025-03-10T19:18:37.666Z"
   },
   {
    "duration": 24,
    "start_time": "2025-03-10T19:18:37.687Z"
   },
   {
    "duration": 50,
    "start_time": "2025-03-10T19:18:37.713Z"
   },
   {
    "duration": 39,
    "start_time": "2025-03-10T19:18:37.765Z"
   },
   {
    "duration": 72,
    "start_time": "2025-03-10T19:18:37.805Z"
   },
   {
    "duration": 25,
    "start_time": "2025-03-10T19:18:37.879Z"
   },
   {
    "duration": 34,
    "start_time": "2025-03-10T19:18:37.905Z"
   },
   {
    "duration": 69,
    "start_time": "2025-03-10T19:18:37.941Z"
   },
   {
    "duration": 60,
    "start_time": "2025-03-10T19:18:38.012Z"
   },
   {
    "duration": 206,
    "start_time": "2025-03-10T19:18:38.074Z"
   },
   {
    "duration": 7,
    "start_time": "2025-03-10T19:18:38.282Z"
   },
   {
    "duration": 51,
    "start_time": "2025-03-10T19:18:38.291Z"
   },
   {
    "duration": 64,
    "start_time": "2025-03-10T19:18:38.344Z"
   },
   {
    "duration": 54,
    "start_time": "2025-03-10T19:18:38.409Z"
   },
   {
    "duration": 5,
    "start_time": "2025-03-10T19:18:38.464Z"
   },
   {
    "duration": 21,
    "start_time": "2025-03-10T19:18:38.470Z"
   },
   {
    "duration": 5,
    "start_time": "2025-03-10T19:18:38.492Z"
   },
   {
    "duration": 35,
    "start_time": "2025-03-10T19:18:38.501Z"
   },
   {
    "duration": 10,
    "start_time": "2025-03-10T19:18:38.538Z"
   },
   {
    "duration": 48,
    "start_time": "2025-03-10T19:18:38.549Z"
   },
   {
    "duration": 144,
    "start_time": "2025-03-10T19:18:38.599Z"
   },
   {
    "duration": 77,
    "start_time": "2025-03-10T19:18:38.744Z"
   },
   {
    "duration": 22,
    "start_time": "2025-03-10T19:18:38.823Z"
   },
   {
    "duration": 31,
    "start_time": "2025-03-10T19:18:38.857Z"
   },
   {
    "duration": 10,
    "start_time": "2025-03-10T19:18:38.889Z"
   },
   {
    "duration": 25,
    "start_time": "2025-03-10T19:18:38.901Z"
   },
   {
    "duration": 58,
    "start_time": "2025-03-10T19:18:38.928Z"
   },
   {
    "duration": 219,
    "start_time": "2025-03-10T19:18:38.988Z"
   },
   {
    "duration": 32,
    "start_time": "2025-03-10T19:18:39.209Z"
   },
   {
    "duration": 442,
    "start_time": "2025-03-10T19:18:39.243Z"
   },
   {
    "duration": 82,
    "start_time": "2025-03-10T19:18:39.687Z"
   },
   {
    "duration": 171,
    "start_time": "2025-03-10T19:18:39.770Z"
   },
   {
    "duration": 35,
    "start_time": "2025-03-10T19:18:39.942Z"
   },
   {
    "duration": 9,
    "start_time": "2025-03-10T19:18:39.979Z"
   },
   {
    "duration": 190,
    "start_time": "2025-03-10T19:18:39.989Z"
   },
   {
    "duration": 13,
    "start_time": "2025-03-10T19:18:40.180Z"
   },
   {
    "duration": 112,
    "start_time": "2025-03-10T19:18:40.194Z"
   },
   {
    "duration": 60,
    "start_time": "2025-03-10T19:18:40.308Z"
   },
   {
    "duration": 7,
    "start_time": "2025-03-10T19:18:40.370Z"
   },
   {
    "duration": 4,
    "start_time": "2025-03-10T19:18:40.378Z"
   },
   {
    "duration": 12,
    "start_time": "2025-03-10T19:18:40.383Z"
   },
   {
    "duration": 4,
    "start_time": "2025-03-10T19:18:40.397Z"
   },
   {
    "duration": 4,
    "start_time": "2025-03-10T19:18:40.403Z"
   },
   {
    "duration": 6,
    "start_time": "2025-03-10T19:18:40.408Z"
   },
   {
    "duration": 5,
    "start_time": "2025-03-10T19:18:40.415Z"
   },
   {
    "duration": 37,
    "start_time": "2025-03-10T19:18:40.421Z"
   },
   {
    "duration": 16,
    "start_time": "2025-03-10T19:18:40.459Z"
   },
   {
    "duration": 5,
    "start_time": "2025-03-10T19:18:40.476Z"
   },
   {
    "duration": 6,
    "start_time": "2025-03-10T19:18:40.482Z"
   },
   {
    "duration": 9,
    "start_time": "2025-03-10T19:18:40.489Z"
   },
   {
    "duration": 9,
    "start_time": "2025-03-10T19:18:40.499Z"
   },
   {
    "duration": 8,
    "start_time": "2025-03-10T19:18:40.510Z"
   },
   {
    "duration": 51,
    "start_time": "2025-03-10T19:18:40.519Z"
   },
   {
    "duration": 31,
    "start_time": "2025-03-10T19:18:40.571Z"
   },
   {
    "duration": 135,
    "start_time": "2025-03-10T19:18:40.603Z"
   },
   {
    "duration": 49,
    "start_time": "2025-03-10T19:18:40.740Z"
   },
   {
    "duration": 158,
    "start_time": "2025-03-10T19:18:40.791Z"
   },
   {
    "duration": 30,
    "start_time": "2025-03-10T19:18:40.950Z"
   },
   {
    "duration": 315,
    "start_time": "2025-03-10T19:18:40.982Z"
   },
   {
    "duration": 15,
    "start_time": "2025-03-10T19:18:41.298Z"
   },
   {
    "duration": 67,
    "start_time": "2025-03-10T19:18:41.314Z"
   },
   {
    "duration": 23,
    "start_time": "2025-03-10T19:18:41.382Z"
   },
   {
    "duration": 3,
    "start_time": "2025-03-10T19:18:41.407Z"
   },
   {
    "duration": 208,
    "start_time": "2025-03-10T19:18:41.411Z"
   },
   {
    "duration": 38,
    "start_time": "2025-03-10T19:18:41.621Z"
   },
   {
    "duration": 189,
    "start_time": "2025-03-10T19:18:41.661Z"
   },
   {
    "duration": 48,
    "start_time": "2025-03-10T19:18:41.852Z"
   },
   {
    "duration": 76,
    "start_time": "2025-03-10T19:18:41.901Z"
   },
   {
    "duration": 120,
    "start_time": "2025-03-10T19:18:41.978Z"
   },
   {
    "duration": 5,
    "start_time": "2025-03-10T19:18:42.099Z"
   },
   {
    "duration": 151,
    "start_time": "2025-03-10T19:18:42.105Z"
   },
   {
    "duration": 20,
    "start_time": "2025-03-10T19:18:42.262Z"
   },
   {
    "duration": 35,
    "start_time": "2025-03-10T19:18:42.283Z"
   },
   {
    "duration": 6,
    "start_time": "2025-03-10T19:18:42.319Z"
   },
   {
    "duration": 34,
    "start_time": "2025-03-10T19:18:42.327Z"
   },
   {
    "duration": 27,
    "start_time": "2025-03-10T19:18:42.363Z"
   },
   {
    "duration": 6,
    "start_time": "2025-03-10T19:18:42.392Z"
   },
   {
    "duration": 23,
    "start_time": "2025-03-10T19:18:42.399Z"
   },
   {
    "duration": 63,
    "start_time": "2025-03-10T19:18:42.424Z"
   },
   {
    "duration": 20,
    "start_time": "2025-03-10T19:18:42.489Z"
   },
   {
    "duration": 29,
    "start_time": "2025-03-10T19:18:42.511Z"
   },
   {
    "duration": 23,
    "start_time": "2025-03-10T19:18:42.556Z"
   },
   {
    "duration": 53,
    "start_time": "2025-03-10T19:18:42.581Z"
   },
   {
    "duration": 96,
    "start_time": "2025-03-10T19:18:42.636Z"
   },
   {
    "duration": 44,
    "start_time": "2025-03-10T19:18:42.734Z"
   },
   {
    "duration": 12,
    "start_time": "2025-03-10T19:18:42.780Z"
   },
   {
    "duration": 1882,
    "start_time": "2025-03-10T19:18:42.794Z"
   },
   {
    "duration": 10,
    "start_time": "2025-03-10T19:18:44.678Z"
   },
   {
    "duration": 173,
    "start_time": "2025-03-10T19:18:44.690Z"
   },
   {
    "duration": 142,
    "start_time": "2025-03-10T19:18:44.865Z"
   },
   {
    "duration": 882,
    "start_time": "2025-03-10T19:18:45.009Z"
   },
   {
    "duration": 11,
    "start_time": "2025-03-10T19:18:45.893Z"
   },
   {
    "duration": 15,
    "start_time": "2025-03-10T19:18:45.906Z"
   },
   {
    "duration": 155,
    "start_time": "2025-03-10T19:18:45.923Z"
   },
   {
    "duration": 11,
    "start_time": "2025-03-10T19:18:46.079Z"
   },
   {
    "duration": 29,
    "start_time": "2025-03-10T19:18:46.091Z"
   },
   {
    "duration": 591,
    "start_time": "2025-03-10T19:18:46.122Z"
   },
   {
    "duration": 21,
    "start_time": "2025-03-10T19:18:46.714Z"
   },
   {
    "duration": 9,
    "start_time": "2025-03-10T19:18:46.736Z"
   },
   {
    "duration": 587,
    "start_time": "2025-03-10T19:18:46.756Z"
   },
   {
    "duration": 16,
    "start_time": "2025-03-10T19:18:47.344Z"
   },
   {
    "duration": 147,
    "start_time": "2025-03-10T19:18:47.361Z"
   }
  ],
  "colab": {
   "provenance": []
  },
  "kernelspec": {
   "display_name": "Python 3 (ipykernel)",
   "language": "python",
   "name": "python3"
  },
  "language_info": {
   "codemirror_mode": {
    "name": "ipython",
    "version": 3
   },
   "file_extension": ".py",
   "mimetype": "text/x-python",
   "name": "python",
   "nbconvert_exporter": "python",
   "pygments_lexer": "ipython3",
   "version": "3.12.7"
  },
  "toc": {
   "base_numbering": 1,
   "nav_menu": {},
   "number_sections": true,
   "sideBar": true,
   "skip_h1_title": true,
   "title_cell": "Table of Contents",
   "title_sidebar": "Contents",
   "toc_cell": false,
   "toc_position": {},
   "toc_section_display": true,
   "toc_window_display": false
  }
 },
 "nbformat": 4,
 "nbformat_minor": 4
}
