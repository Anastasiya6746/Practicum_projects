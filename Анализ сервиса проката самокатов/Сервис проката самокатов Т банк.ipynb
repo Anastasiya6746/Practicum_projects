{
 "cells": [
  {
   "cell_type": "markdown",
   "metadata": {
    "id": "4mJbK1knrJgz"
   },
   "source": [
    "# Т-Банк: поездки на самокатах"
   ]
  },
  {
   "cell_type": "markdown",
   "metadata": {},
   "source": [
    "###### - Автор: Макарова Анастасия\n",
    "- Дата: 26.06.2025"
   ]
  },
  {
   "cell_type": "markdown",
   "metadata": {
    "id": "P6j0r3worJg0"
   },
   "source": [
    "## Введение"
   ]
  },
  {
   "cell_type": "markdown",
   "metadata": {
    "id": "8lQtbsIUyFG6"
   },
   "source": [
    "Т-Город — это группа сервисов, которые помогают пользователям решать ежедневные задачи. Например, есть сервисы, которые позволяют купить билеты в кино или заказать продукты и так далее. В частности, существует сервис для аренды электросамокатов «Самокаты» — именно ему посвящена данная база.\n",
    "\n",
    "Сервис позволяет воспользоваться самокатом от Юрента через приложение Т-Банка. Чтобы арендовать самокат, клиенту необходимо зайти в приложение, открыть сервис «Самокаты» и отсканировать QR-код на руле самоката. В этот момент у клиента со счета списывается фиксированная сумма в качестве взноса. В конце поездки также списывается итоговая сумма за поездку. Данные охватывают сезон аренды самокатов 2024 года (с апреля по октябрь 2024).\n",
    "Стоимость минуты и стоимость поездки измеряется в условных денежных единицах"
   ]
  },
  {
   "cell_type": "markdown",
   "metadata": {},
   "source": [
    "### Цели и задачи проекта\n",
    "\n",
    "- Провести разведочный анализ данных.\n",
    "- Сформировать 2-3 продуктовые гипотезы, которые можно было бы проверить на данных из датасета.\n",
    "- Выбрать одну из гипотезу и объяснить, почему она является самой перспективной.\n",
    "- Попробовать определить долю сервиса Т-Банка в индустрии (области), к которой относится датасет."
   ]
  },
  {
   "cell_type": "markdown",
   "metadata": {},
   "source": [
    "### Содержание проекта\n",
    "\n",
    "1. Введение.\n",
    "2. Знакомство с данными: загрузка и первичная предобработка.\n",
    "3. Предобработка данных, предварительное исследование.\n",
    "4. Исследовательский анализ объединённых таблиц\n",
    "5. Итоговый вывод и рекомендации."
   ]
  },
  {
   "cell_type": "markdown",
   "metadata": {
    "id": "xqr6uttCrJg0"
   },
   "source": [
    "\n",
    "## Шаг 1. Знакомство с данными: загрузка и первичная предобработка\n",
    "\n",
    "Описание данных:\n",
    "- `order_rk` - Идентификатор заказа (поездки)\n",
    "- `party_rk_id` Идентификатор клиента\n",
    "- `minute_cost` Стоимость минуты\n",
    "- `hold_amount` Размер суммы, которая замораживается на счете в момент\n",
    "взятия самоката\n",
    "- `transport_model` Название модели самоката\n",
    "- `distance_km` Километраж поездки\n",
    "- `created_dttm` Дата и время создания заказа\n",
    "- `book_start_dttm` Дата и время начала поездки\n",
    "- `book_time_zone_cd` Часовой пояс\n",
    "- `local_book_start_dttm` Дата и время начала поездки в часовом поясе человека,\n",
    "который брал самокат\n",
    "- `nominal_price_rub_amt` Стоимость поездки\n",
    "- `loyalty_accrual_rub_amt` Размер выплаченного кэшбэка в рублях\n",
    "- `loyalty_accrual_bns_am't` Размер выплаченного кэшбэка в бонусах (если оплата\n",
    "происходила с помощью кредитной карты)\n",
    "- `Gender_cd` Пол клиента \n",
    "- `Age` Возраст клиента\n",
    "- `Education_level` Уровень образования клиента:\n",
    "`SCH` — начальное, среднее\n",
    "`GRD` — высшее\n",
    "`UGR` — неполное высшее\n",
    "`PGR` — два высших\n",
    "`ACD` — ученая степень\n",
    "- `lvn_state_nm` Регион проживания человека\n",
    "\n",
    "- `marital_status_cd` Семейный статус человека:\n",
    "`IMR` — состоит в незарегистрированном браке\n",
    "`MAR` —женат/замужем\n",
    "`DLW` — не проживает с супругом(ой)\n",
    "`OMR` — состоит в зарегистрированном браке\n",
    "`CIV` — гражданский брак\n",
    "`UNM` — холост/не замужем \n",
    "`DIV` — разведен(а)\n",
    "`FAL` — никогда не состоял(а) в браке\n",
    "`WID` — вдовец/вдова\n",
    "\n"
   ]
  },
  {
   "cell_type": "code",
   "execution_count": 1,
   "metadata": {
    "id": "2Tm4Pk__Felf"
   },
   "outputs": [
    {
     "name": "stdout",
     "output_type": "stream",
     "text": [
      "Requirement already satisfied: phik in c:\\programdata\\anaconda3\\lib\\site-packages (0.12.4)\n",
      "Requirement already satisfied: numpy>=1.18.0 in c:\\programdata\\anaconda3\\lib\\site-packages (from phik) (1.26.4)\n",
      "Requirement already satisfied: scipy>=1.5.2 in c:\\programdata\\anaconda3\\lib\\site-packages (from phik) (1.13.1)\n",
      "Requirement already satisfied: pandas>=0.25.1 in c:\\programdata\\anaconda3\\lib\\site-packages (from phik) (2.2.2)\n",
      "Requirement already satisfied: matplotlib>=2.2.3 in c:\\programdata\\anaconda3\\lib\\site-packages (from phik) (3.9.2)\n",
      "Requirement already satisfied: joblib>=0.14.1 in c:\\programdata\\anaconda3\\lib\\site-packages (from phik) (1.4.2)\n",
      "Requirement already satisfied: contourpy>=1.0.1 in c:\\programdata\\anaconda3\\lib\\site-packages (from matplotlib>=2.2.3->phik) (1.2.0)\n",
      "Requirement already satisfied: cycler>=0.10 in c:\\programdata\\anaconda3\\lib\\site-packages (from matplotlib>=2.2.3->phik) (0.11.0)\n",
      "Requirement already satisfied: fonttools>=4.22.0 in c:\\programdata\\anaconda3\\lib\\site-packages (from matplotlib>=2.2.3->phik) (4.51.0)\n",
      "Requirement already satisfied: kiwisolver>=1.3.1 in c:\\programdata\\anaconda3\\lib\\site-packages (from matplotlib>=2.2.3->phik) (1.4.4)\n",
      "Requirement already satisfied: packaging>=20.0 in c:\\programdata\\anaconda3\\lib\\site-packages (from matplotlib>=2.2.3->phik) (24.1)\n",
      "Requirement already satisfied: pillow>=8 in c:\\programdata\\anaconda3\\lib\\site-packages (from matplotlib>=2.2.3->phik) (10.4.0)\n",
      "Requirement already satisfied: pyparsing>=2.3.1 in c:\\programdata\\anaconda3\\lib\\site-packages (from matplotlib>=2.2.3->phik) (3.1.2)\n",
      "Requirement already satisfied: python-dateutil>=2.7 in c:\\programdata\\anaconda3\\lib\\site-packages (from matplotlib>=2.2.3->phik) (2.9.0.post0)\n",
      "Requirement already satisfied: pytz>=2020.1 in c:\\programdata\\anaconda3\\lib\\site-packages (from pandas>=0.25.1->phik) (2024.1)\n",
      "Requirement already satisfied: tzdata>=2022.7 in c:\\programdata\\anaconda3\\lib\\site-packages (from pandas>=0.25.1->phik) (2023.3)\n",
      "Requirement already satisfied: six>=1.5 in c:\\programdata\\anaconda3\\lib\\site-packages (from python-dateutil>=2.7->matplotlib>=2.2.3->phik) (1.16.0)\n"
     ]
    }
   ],
   "source": [
    "!pip install phik"
   ]
  },
  {
   "cell_type": "code",
   "execution_count": 2,
   "metadata": {
    "id": "oNqJ2qpRFebv"
   },
   "outputs": [],
   "source": [
    "# Импортируем библиотеки\n",
    "import pandas as pd\n",
    "\n",
    "# Загружаем библиотеки для визуализации данных\n",
    "import matplotlib.pyplot as plt\n",
    "import seaborn as sns\n",
    "\n",
    "# Загружаем библиотеку для расчёта коэффициента корреляции phi_k\n",
    "from phik import phik_matrix"
   ]
  },
  {
   "cell_type": "code",
   "execution_count": 3,
   "metadata": {},
   "outputs": [],
   "source": [
    "import warnings\n",
    "warnings.filterwarnings('ignore')"
   ]
  },
  {
   "cell_type": "code",
   "execution_count": 4,
   "metadata": {},
   "outputs": [],
   "source": [
    "# Выгружаем данные основных таблиц в переменные\n",
    "df = pd.read_csv('kicksharing.csv')"
   ]
  },
  {
   "cell_type": "code",
   "execution_count": 5,
   "metadata": {},
   "outputs": [
    {
     "data": {
      "text/html": [
       "<div>\n",
       "<style scoped>\n",
       "    .dataframe tbody tr th:only-of-type {\n",
       "        vertical-align: middle;\n",
       "    }\n",
       "\n",
       "    .dataframe tbody tr th {\n",
       "        vertical-align: top;\n",
       "    }\n",
       "\n",
       "    .dataframe thead th {\n",
       "        text-align: right;\n",
       "    }\n",
       "</style>\n",
       "<table border=\"1\" class=\"dataframe\">\n",
       "  <thead>\n",
       "    <tr style=\"text-align: right;\">\n",
       "      <th></th>\n",
       "      <th>order_rk</th>\n",
       "      <th>party_rk</th>\n",
       "      <th>gender_cd</th>\n",
       "      <th>age</th>\n",
       "      <th>education_level_cd</th>\n",
       "      <th>marital_status_cd</th>\n",
       "      <th>lvn_state_nm</th>\n",
       "      <th>minute_cost</th>\n",
       "      <th>activation_cost</th>\n",
       "      <th>hold_amount</th>\n",
       "      <th>transport_model</th>\n",
       "      <th>distance_km</th>\n",
       "      <th>created_dttm</th>\n",
       "      <th>book_start_dttm</th>\n",
       "      <th>book_end_dttm</th>\n",
       "      <th>book_time_zone_cd</th>\n",
       "      <th>local_book_start_dttm</th>\n",
       "      <th>nominal_price_rub_amt</th>\n",
       "      <th>loyalty_accrual_rub_amt</th>\n",
       "      <th>loyalty_accrual_bns_amt</th>\n",
       "    </tr>\n",
       "  </thead>\n",
       "  <tbody>\n",
       "    <tr>\n",
       "      <th>0</th>\n",
       "      <td>266071307</td>\n",
       "      <td>761067705</td>\n",
       "      <td>M</td>\n",
       "      <td>40</td>\n",
       "      <td>UGR</td>\n",
       "      <td>DIV</td>\n",
       "      <td>ТЮМЕНСКАЯ ОБЛ</td>\n",
       "      <td>4.99</td>\n",
       "      <td>30.0</td>\n",
       "      <td>300.0</td>\n",
       "      <td>SL</td>\n",
       "      <td>3.690479</td>\n",
       "      <td>2024-08-07 09:47:25.000000</td>\n",
       "      <td>2024-08-07 09:47:29.325252</td>\n",
       "      <td>2024-08-07 10:07:59.339524</td>\n",
       "      <td>5</td>\n",
       "      <td>2024-08-07 11:47:29.325252</td>\n",
       "      <td>134.79</td>\n",
       "      <td>19.48</td>\n",
       "      <td>NaN</td>\n",
       "    </tr>\n",
       "    <tr>\n",
       "      <th>1</th>\n",
       "      <td>355113920</td>\n",
       "      <td>614049469</td>\n",
       "      <td>F</td>\n",
       "      <td>30</td>\n",
       "      <td>GRD</td>\n",
       "      <td>MAR</td>\n",
       "      <td>РОСТОВСКАЯ ОБЛ</td>\n",
       "      <td>8.49</td>\n",
       "      <td>50.0</td>\n",
       "      <td>300.0</td>\n",
       "      <td>SL</td>\n",
       "      <td>1.114912</td>\n",
       "      <td>2024-10-17 14:57:20.000000</td>\n",
       "      <td>2024-10-17 14:57:24.586000</td>\n",
       "      <td>2024-10-17 15:04:19.419607</td>\n",
       "      <td>3</td>\n",
       "      <td>2024-10-17 14:57:24.586000</td>\n",
       "      <td>109.43</td>\n",
       "      <td>40.30</td>\n",
       "      <td>NaN</td>\n",
       "    </tr>\n",
       "    <tr>\n",
       "      <th>2</th>\n",
       "      <td>347424551</td>\n",
       "      <td>757583701</td>\n",
       "      <td>M</td>\n",
       "      <td>28</td>\n",
       "      <td>UGR</td>\n",
       "      <td>UNM</td>\n",
       "      <td>СВЕРДЛОВСКАЯ ОБЛ</td>\n",
       "      <td>5.99</td>\n",
       "      <td>30.0</td>\n",
       "      <td>300.0</td>\n",
       "      <td>E</td>\n",
       "      <td>1.515612</td>\n",
       "      <td>2024-09-19 05:31:41.000000</td>\n",
       "      <td>2024-09-19 05:34:59.476000</td>\n",
       "      <td>2024-09-19 05:41:50.164372</td>\n",
       "      <td>5</td>\n",
       "      <td>2024-09-19 07:34:59.476000</td>\n",
       "      <td>71.93</td>\n",
       "      <td>10.79</td>\n",
       "      <td>NaN</td>\n",
       "    </tr>\n",
       "    <tr>\n",
       "      <th>3</th>\n",
       "      <td>351562959</td>\n",
       "      <td>541367366</td>\n",
       "      <td>M</td>\n",
       "      <td>24</td>\n",
       "      <td>GRD</td>\n",
       "      <td>UNM</td>\n",
       "      <td>Г МОСКВА</td>\n",
       "      <td>8.99</td>\n",
       "      <td>50.0</td>\n",
       "      <td>300.0</td>\n",
       "      <td>SL</td>\n",
       "      <td>0.499411</td>\n",
       "      <td>2024-10-04 16:05:09.000000</td>\n",
       "      <td>2024-10-04 16:05:13.162000</td>\n",
       "      <td>2024-10-04 16:07:31.724918</td>\n",
       "      <td>3</td>\n",
       "      <td>2024-10-04 16:05:13.162000</td>\n",
       "      <td>76.97</td>\n",
       "      <td>7.70</td>\n",
       "      <td>NaN</td>\n",
       "    </tr>\n",
       "    <tr>\n",
       "      <th>4</th>\n",
       "      <td>258647149</td>\n",
       "      <td>238473615</td>\n",
       "      <td>M</td>\n",
       "      <td>34</td>\n",
       "      <td>NaN</td>\n",
       "      <td>NaN</td>\n",
       "      <td>Г МОСКВА</td>\n",
       "      <td>6.99</td>\n",
       "      <td>50.0</td>\n",
       "      <td>300.0</td>\n",
       "      <td>SL</td>\n",
       "      <td>2.602028</td>\n",
       "      <td>2024-07-10 06:57:40.000000</td>\n",
       "      <td>2024-07-10 06:57:43.017125</td>\n",
       "      <td>2024-07-10 07:07:48.446462</td>\n",
       "      <td>3</td>\n",
       "      <td>2024-07-10 06:57:43.017125</td>\n",
       "      <td>126.89</td>\n",
       "      <td>25.38</td>\n",
       "      <td>NaN</td>\n",
       "    </tr>\n",
       "    <tr>\n",
       "      <th>5</th>\n",
       "      <td>277397094</td>\n",
       "      <td>5247768</td>\n",
       "      <td>M</td>\n",
       "      <td>42</td>\n",
       "      <td>NaN</td>\n",
       "      <td>NaN</td>\n",
       "      <td>МОСКВА</td>\n",
       "      <td>7.49</td>\n",
       "      <td>50.0</td>\n",
       "      <td>300.0</td>\n",
       "      <td>SL</td>\n",
       "      <td>0.016090</td>\n",
       "      <td>2024-09-10 09:40:18.000000</td>\n",
       "      <td>2024-09-10 09:40:24.036000</td>\n",
       "      <td>2024-09-10 09:41:03.644495</td>\n",
       "      <td>3</td>\n",
       "      <td>2024-09-10 09:40:24.036000</td>\n",
       "      <td>0.00</td>\n",
       "      <td>NaN</td>\n",
       "      <td>NaN</td>\n",
       "    </tr>\n",
       "    <tr>\n",
       "      <th>6</th>\n",
       "      <td>273528957</td>\n",
       "      <td>801272780</td>\n",
       "      <td>F</td>\n",
       "      <td>19</td>\n",
       "      <td>NaN</td>\n",
       "      <td>NaN</td>\n",
       "      <td>РЕСП ТАТАРСТАН</td>\n",
       "      <td>7.49</td>\n",
       "      <td>30.0</td>\n",
       "      <td>300.0</td>\n",
       "      <td>SL</td>\n",
       "      <td>4.086853</td>\n",
       "      <td>2024-09-03 14:10:29.000000</td>\n",
       "      <td>2024-09-03 14:10:34.524349</td>\n",
       "      <td>2024-09-03 14:21:25.119585</td>\n",
       "      <td>3</td>\n",
       "      <td>2024-09-03 14:10:34.524349</td>\n",
       "      <td>112.39</td>\n",
       "      <td>28.00</td>\n",
       "      <td>NaN</td>\n",
       "    </tr>\n",
       "    <tr>\n",
       "      <th>7</th>\n",
       "      <td>265062394</td>\n",
       "      <td>866880584</td>\n",
       "      <td>M</td>\n",
       "      <td>38</td>\n",
       "      <td>NaN</td>\n",
       "      <td>NaN</td>\n",
       "      <td>СВЕРДЛОВСКАЯ ОБЛ</td>\n",
       "      <td>5.99</td>\n",
       "      <td>30.0</td>\n",
       "      <td>300.0</td>\n",
       "      <td>E</td>\n",
       "      <td>2.370597</td>\n",
       "      <td>2024-08-03 03:09:35.000000</td>\n",
       "      <td>2024-08-03 03:09:38.493851</td>\n",
       "      <td>2024-08-03 03:18:47.841493</td>\n",
       "      <td>5</td>\n",
       "      <td>2024-08-03 05:09:38.493851</td>\n",
       "      <td>89.90</td>\n",
       "      <td>12.99</td>\n",
       "      <td>NaN</td>\n",
       "    </tr>\n",
       "    <tr>\n",
       "      <th>8</th>\n",
       "      <td>351562880</td>\n",
       "      <td>762053500</td>\n",
       "      <td>M</td>\n",
       "      <td>19</td>\n",
       "      <td>NaN</td>\n",
       "      <td>NaN</td>\n",
       "      <td>НОВОСИБИРСКАЯ ОБЛ</td>\n",
       "      <td>5.99</td>\n",
       "      <td>30.0</td>\n",
       "      <td>300.0</td>\n",
       "      <td>E</td>\n",
       "      <td>0.101272</td>\n",
       "      <td>2024-10-04 10:45:16.000000</td>\n",
       "      <td>2024-10-04 10:45:20.457000</td>\n",
       "      <td>2024-10-04 10:47:39.863967</td>\n",
       "      <td>7</td>\n",
       "      <td>2024-10-04 14:45:20.457000</td>\n",
       "      <td>47.97</td>\n",
       "      <td>4.80</td>\n",
       "      <td>NaN</td>\n",
       "    </tr>\n",
       "    <tr>\n",
       "      <th>9</th>\n",
       "      <td>269365210</td>\n",
       "      <td>161703813</td>\n",
       "      <td>M</td>\n",
       "      <td>31</td>\n",
       "      <td>UGR</td>\n",
       "      <td>MAR</td>\n",
       "      <td>ЧЕЛЯБИНСКАЯ ОБЛ</td>\n",
       "      <td>6.49</td>\n",
       "      <td>30.0</td>\n",
       "      <td>300.0</td>\n",
       "      <td>E</td>\n",
       "      <td>1.487792</td>\n",
       "      <td>2024-08-19 14:35:17.000000</td>\n",
       "      <td>2024-08-19 14:35:20.199325</td>\n",
       "      <td>2024-08-19 14:42:53.835731</td>\n",
       "      <td>5</td>\n",
       "      <td>2024-08-19 16:35:20.199325</td>\n",
       "      <td>81.92</td>\n",
       "      <td>81.92</td>\n",
       "      <td>NaN</td>\n",
       "    </tr>\n",
       "  </tbody>\n",
       "</table>\n",
       "</div>"
      ],
      "text/plain": [
       "    order_rk   party_rk gender_cd  age education_level_cd marital_status_cd  \\\n",
       "0  266071307  761067705         M   40                UGR               DIV   \n",
       "1  355113920  614049469         F   30                GRD               MAR   \n",
       "2  347424551  757583701         M   28                UGR               UNM   \n",
       "3  351562959  541367366         M   24                GRD               UNM   \n",
       "4  258647149  238473615         M   34                NaN               NaN   \n",
       "5  277397094    5247768         M   42                NaN               NaN   \n",
       "6  273528957  801272780         F   19                NaN               NaN   \n",
       "7  265062394  866880584         M   38                NaN               NaN   \n",
       "8  351562880  762053500         M   19                NaN               NaN   \n",
       "9  269365210  161703813         M   31                UGR               MAR   \n",
       "\n",
       "        lvn_state_nm  minute_cost  activation_cost  hold_amount  \\\n",
       "0      ТЮМЕНСКАЯ ОБЛ         4.99             30.0        300.0   \n",
       "1     РОСТОВСКАЯ ОБЛ         8.49             50.0        300.0   \n",
       "2   СВЕРДЛОВСКАЯ ОБЛ         5.99             30.0        300.0   \n",
       "3           Г МОСКВА         8.99             50.0        300.0   \n",
       "4           Г МОСКВА         6.99             50.0        300.0   \n",
       "5             МОСКВА         7.49             50.0        300.0   \n",
       "6     РЕСП ТАТАРСТАН         7.49             30.0        300.0   \n",
       "7   СВЕРДЛОВСКАЯ ОБЛ         5.99             30.0        300.0   \n",
       "8  НОВОСИБИРСКАЯ ОБЛ         5.99             30.0        300.0   \n",
       "9    ЧЕЛЯБИНСКАЯ ОБЛ         6.49             30.0        300.0   \n",
       "\n",
       "  transport_model  distance_km                created_dttm  \\\n",
       "0              SL     3.690479  2024-08-07 09:47:25.000000   \n",
       "1              SL     1.114912  2024-10-17 14:57:20.000000   \n",
       "2               E     1.515612  2024-09-19 05:31:41.000000   \n",
       "3              SL     0.499411  2024-10-04 16:05:09.000000   \n",
       "4              SL     2.602028  2024-07-10 06:57:40.000000   \n",
       "5              SL     0.016090  2024-09-10 09:40:18.000000   \n",
       "6              SL     4.086853  2024-09-03 14:10:29.000000   \n",
       "7               E     2.370597  2024-08-03 03:09:35.000000   \n",
       "8               E     0.101272  2024-10-04 10:45:16.000000   \n",
       "9               E     1.487792  2024-08-19 14:35:17.000000   \n",
       "\n",
       "              book_start_dttm               book_end_dttm  book_time_zone_cd  \\\n",
       "0  2024-08-07 09:47:29.325252  2024-08-07 10:07:59.339524                  5   \n",
       "1  2024-10-17 14:57:24.586000  2024-10-17 15:04:19.419607                  3   \n",
       "2  2024-09-19 05:34:59.476000  2024-09-19 05:41:50.164372                  5   \n",
       "3  2024-10-04 16:05:13.162000  2024-10-04 16:07:31.724918                  3   \n",
       "4  2024-07-10 06:57:43.017125  2024-07-10 07:07:48.446462                  3   \n",
       "5  2024-09-10 09:40:24.036000  2024-09-10 09:41:03.644495                  3   \n",
       "6  2024-09-03 14:10:34.524349  2024-09-03 14:21:25.119585                  3   \n",
       "7  2024-08-03 03:09:38.493851  2024-08-03 03:18:47.841493                  5   \n",
       "8  2024-10-04 10:45:20.457000  2024-10-04 10:47:39.863967                  7   \n",
       "9  2024-08-19 14:35:20.199325  2024-08-19 14:42:53.835731                  5   \n",
       "\n",
       "        local_book_start_dttm  nominal_price_rub_amt  loyalty_accrual_rub_amt  \\\n",
       "0  2024-08-07 11:47:29.325252                 134.79                    19.48   \n",
       "1  2024-10-17 14:57:24.586000                 109.43                    40.30   \n",
       "2  2024-09-19 07:34:59.476000                  71.93                    10.79   \n",
       "3  2024-10-04 16:05:13.162000                  76.97                     7.70   \n",
       "4  2024-07-10 06:57:43.017125                 126.89                    25.38   \n",
       "5  2024-09-10 09:40:24.036000                   0.00                      NaN   \n",
       "6  2024-09-03 14:10:34.524349                 112.39                    28.00   \n",
       "7  2024-08-03 05:09:38.493851                  89.90                    12.99   \n",
       "8  2024-10-04 14:45:20.457000                  47.97                     4.80   \n",
       "9  2024-08-19 16:35:20.199325                  81.92                    81.92   \n",
       "\n",
       "   loyalty_accrual_bns_amt  \n",
       "0                      NaN  \n",
       "1                      NaN  \n",
       "2                      NaN  \n",
       "3                      NaN  \n",
       "4                      NaN  \n",
       "5                      NaN  \n",
       "6                      NaN  \n",
       "7                      NaN  \n",
       "8                      NaN  \n",
       "9                      NaN  "
      ]
     },
     "execution_count": 5,
     "metadata": {},
     "output_type": "execute_result"
    }
   ],
   "source": [
    "# выводим первые строки\n",
    "df.head(10)"
   ]
  },
  {
   "cell_type": "code",
   "execution_count": 6,
   "metadata": {},
   "outputs": [
    {
     "name": "stdout",
     "output_type": "stream",
     "text": [
      "<class 'pandas.core.frame.DataFrame'>\n",
      "RangeIndex: 396749 entries, 0 to 396748\n",
      "Data columns (total 20 columns):\n",
      " #   Column                   Non-Null Count   Dtype  \n",
      "---  ------                   --------------   -----  \n",
      " 0   order_rk                 396749 non-null  int64  \n",
      " 1   party_rk                 396749 non-null  int64  \n",
      " 2   gender_cd                393828 non-null  object \n",
      " 3   age                      396749 non-null  int64  \n",
      " 4   education_level_cd       190059 non-null  object \n",
      " 5   marital_status_cd        217729 non-null  object \n",
      " 6   lvn_state_nm             362572 non-null  object \n",
      " 7   minute_cost              396749 non-null  float64\n",
      " 8   activation_cost          396749 non-null  float64\n",
      " 9   hold_amount              396749 non-null  float64\n",
      " 10  transport_model          396749 non-null  object \n",
      " 11  distance_km              396749 non-null  float64\n",
      " 12  created_dttm             396749 non-null  object \n",
      " 13  book_start_dttm          396749 non-null  object \n",
      " 14  book_end_dttm            396749 non-null  object \n",
      " 15  book_time_zone_cd        396749 non-null  int64  \n",
      " 16  local_book_start_dttm    396749 non-null  object \n",
      " 17  nominal_price_rub_amt    396749 non-null  float64\n",
      " 18  loyalty_accrual_rub_amt  366992 non-null  float64\n",
      " 19  loyalty_accrual_bns_amt  21948 non-null   float64\n",
      "dtypes: float64(7), int64(4), object(9)\n",
      "memory usage: 60.5+ MB\n"
     ]
    }
   ],
   "source": [
    "# Выводим информацию о датафрейме\n",
    "df.info()"
   ]
  },
  {
   "cell_type": "markdown",
   "metadata": {},
   "source": [
    "Датасет `city_clients.csv` содержит 20 столбцов и 396749 строк.\n",
    "\n",
    "После первичного анализа данных можно сделать следующие выводы:\n",
    "- Названия столбцов приведены к одному виду snake case.\n",
    "- Столбцы `created_dttm`, `book_start_dttm`, `local_book_start_dttm `имеют формат object нужно поменять на datetime64.\n",
    "- Пропуски содержатся в  столбцах `education_level_cd`, `marital_status_cd`,  `lvn_state_nm`, `loyalty_accrual_rub_amt`, `loyalty_accrual_bns_amt`. Эта информация касаеться семейного статуса, образования и региона, а также информация о кэшбеке.\n",
    "- Судя по первому знакомству с данными, значения в столбцах соответствуют своему описанию."
   ]
  },
  {
   "cell_type": "code",
   "execution_count": 7,
   "metadata": {},
   "outputs": [],
   "source": [
    "# Преобразуем столбцы в формат даты\n",
    "df['created_dttm']=pd.to_datetime(df['created_dttm'])\n",
    "df['book_start_dttm']=pd.to_datetime(df['book_start_dttm'])\n",
    "df['local_book_start_dttm']=pd.to_datetime(df['local_book_start_dttm'])"
   ]
  },
  {
   "cell_type": "code",
   "execution_count": 8,
   "metadata": {},
   "outputs": [
    {
     "data": {
      "text/plain": [
       "order_rk                            int64\n",
       "party_rk                            int64\n",
       "gender_cd                          object\n",
       "age                                 int64\n",
       "education_level_cd                 object\n",
       "marital_status_cd                  object\n",
       "lvn_state_nm                       object\n",
       "minute_cost                       float64\n",
       "activation_cost                   float64\n",
       "hold_amount                       float64\n",
       "transport_model                    object\n",
       "distance_km                       float64\n",
       "created_dttm               datetime64[ns]\n",
       "book_start_dttm            datetime64[ns]\n",
       "book_end_dttm                      object\n",
       "book_time_zone_cd                   int64\n",
       "local_book_start_dttm      datetime64[ns]\n",
       "nominal_price_rub_amt             float64\n",
       "loyalty_accrual_rub_amt           float64\n",
       "loyalty_accrual_bns_amt           float64\n",
       "dtype: object"
      ]
     },
     "execution_count": 8,
     "metadata": {},
     "output_type": "execute_result"
    }
   ],
   "source": [
    "# Проверим результат преобразования\n",
    "df.dtypes"
   ]
  },
  {
   "cell_type": "markdown",
   "metadata": {},
   "source": [
    "## 2. Исследовательский анализ"
   ]
  },
  {
   "cell_type": "markdown",
   "metadata": {},
   "source": [
    "Рассмотрим топ-20 городв по колличеству уникальных клиентов."
   ]
  },
  {
   "cell_type": "code",
   "execution_count": 53,
   "metadata": {},
   "outputs": [
    {
     "data": {
      "text/html": [
       "<div>\n",
       "<style scoped>\n",
       "    .dataframe tbody tr th:only-of-type {\n",
       "        vertical-align: middle;\n",
       "    }\n",
       "\n",
       "    .dataframe tbody tr th {\n",
       "        vertical-align: top;\n",
       "    }\n",
       "\n",
       "    .dataframe thead th {\n",
       "        text-align: right;\n",
       "    }\n",
       "</style>\n",
       "<table border=\"1\" class=\"dataframe\">\n",
       "  <thead>\n",
       "    <tr style=\"text-align: right;\">\n",
       "      <th></th>\n",
       "      <th>lvn_state_nm</th>\n",
       "      <th>party_rk</th>\n",
       "    </tr>\n",
       "  </thead>\n",
       "  <tbody>\n",
       "    <tr>\n",
       "      <th>0</th>\n",
       "      <td>Г МОСКВА</td>\n",
       "      <td>11708</td>\n",
       "    </tr>\n",
       "    <tr>\n",
       "      <th>1</th>\n",
       "      <td>МОСКОВСКАЯ ОБЛ</td>\n",
       "      <td>6044</td>\n",
       "    </tr>\n",
       "    <tr>\n",
       "      <th>2</th>\n",
       "      <td>Г САНКТ-ПЕТЕРБУРГ</td>\n",
       "      <td>5490</td>\n",
       "    </tr>\n",
       "    <tr>\n",
       "      <th>3</th>\n",
       "      <td>СВЕРДЛОВСКАЯ ОБЛ</td>\n",
       "      <td>3275</td>\n",
       "    </tr>\n",
       "    <tr>\n",
       "      <th>4</th>\n",
       "      <td>КРАСНОДАРСКИЙ КРАЙ</td>\n",
       "      <td>2233</td>\n",
       "    </tr>\n",
       "    <tr>\n",
       "      <th>5</th>\n",
       "      <td>РЕСП ТАТАРСТАН</td>\n",
       "      <td>1813</td>\n",
       "    </tr>\n",
       "    <tr>\n",
       "      <th>6</th>\n",
       "      <td>РЕСП БАШКОРТОСТАН</td>\n",
       "      <td>1582</td>\n",
       "    </tr>\n",
       "    <tr>\n",
       "      <th>7</th>\n",
       "      <td>НИЖЕГОРОДСКАЯ ОБЛ</td>\n",
       "      <td>1495</td>\n",
       "    </tr>\n",
       "    <tr>\n",
       "      <th>8</th>\n",
       "      <td>НОВОСИБИРСКАЯ ОБЛ</td>\n",
       "      <td>1148</td>\n",
       "    </tr>\n",
       "    <tr>\n",
       "      <th>9</th>\n",
       "      <td>ЧЕЛЯБИНСКАЯ ОБЛ</td>\n",
       "      <td>1044</td>\n",
       "    </tr>\n",
       "    <tr>\n",
       "      <th>10</th>\n",
       "      <td>КРАСНОЯРСКИЙ КРАЙ</td>\n",
       "      <td>1032</td>\n",
       "    </tr>\n",
       "    <tr>\n",
       "      <th>11</th>\n",
       "      <td>РОСТОВСКАЯ ОБЛ</td>\n",
       "      <td>976</td>\n",
       "    </tr>\n",
       "    <tr>\n",
       "      <th>12</th>\n",
       "      <td>ТЮМЕНСКАЯ ОБЛ</td>\n",
       "      <td>973</td>\n",
       "    </tr>\n",
       "    <tr>\n",
       "      <th>13</th>\n",
       "      <td>РЕСП УДМУРТСКАЯ</td>\n",
       "      <td>957</td>\n",
       "    </tr>\n",
       "    <tr>\n",
       "      <th>14</th>\n",
       "      <td>ЛЕНИНГРАДСКАЯ ОБЛ</td>\n",
       "      <td>926</td>\n",
       "    </tr>\n",
       "    <tr>\n",
       "      <th>15</th>\n",
       "      <td>ИРКУТСКАЯ ОБЛ</td>\n",
       "      <td>904</td>\n",
       "    </tr>\n",
       "    <tr>\n",
       "      <th>16</th>\n",
       "      <td>САМАРСКАЯ ОБЛ</td>\n",
       "      <td>900</td>\n",
       "    </tr>\n",
       "    <tr>\n",
       "      <th>17</th>\n",
       "      <td>КАЛИНИНГРАДСКАЯ ОБЛ</td>\n",
       "      <td>838</td>\n",
       "    </tr>\n",
       "    <tr>\n",
       "      <th>18</th>\n",
       "      <td>ВОЛГОГРАДСКАЯ ОБЛ</td>\n",
       "      <td>832</td>\n",
       "    </tr>\n",
       "    <tr>\n",
       "      <th>19</th>\n",
       "      <td>САРАТОВСКАЯ ОБЛ</td>\n",
       "      <td>829</td>\n",
       "    </tr>\n",
       "  </tbody>\n",
       "</table>\n",
       "</div>"
      ],
      "text/plain": [
       "           lvn_state_nm  party_rk\n",
       "0              Г МОСКВА     11708\n",
       "1        МОСКОВСКАЯ ОБЛ      6044\n",
       "2     Г САНКТ-ПЕТЕРБУРГ      5490\n",
       "3      СВЕРДЛОВСКАЯ ОБЛ      3275\n",
       "4    КРАСНОДАРСКИЙ КРАЙ      2233\n",
       "5        РЕСП ТАТАРСТАН      1813\n",
       "6     РЕСП БАШКОРТОСТАН      1582\n",
       "7     НИЖЕГОРОДСКАЯ ОБЛ      1495\n",
       "8     НОВОСИБИРСКАЯ ОБЛ      1148\n",
       "9       ЧЕЛЯБИНСКАЯ ОБЛ      1044\n",
       "10    КРАСНОЯРСКИЙ КРАЙ      1032\n",
       "11       РОСТОВСКАЯ ОБЛ       976\n",
       "12        ТЮМЕНСКАЯ ОБЛ       973\n",
       "13      РЕСП УДМУРТСКАЯ       957\n",
       "14    ЛЕНИНГРАДСКАЯ ОБЛ       926\n",
       "15        ИРКУТСКАЯ ОБЛ       904\n",
       "16        САМАРСКАЯ ОБЛ       900\n",
       "17  КАЛИНИНГРАДСКАЯ ОБЛ       838\n",
       "18    ВОЛГОГРАДСКАЯ ОБЛ       832\n",
       "19      САРАТОВСКАЯ ОБЛ       829"
      ]
     },
     "execution_count": 53,
     "metadata": {},
     "output_type": "execute_result"
    }
   ],
   "source": [
    "user_df=df.groupby('lvn_state_nm')['party_rk'].nunique().sort_values(ascending=False).reset_index()\n",
    "user_df.head(20)"
   ]
  },
  {
   "cell_type": "markdown",
   "metadata": {},
   "source": [
    "Видно, что большинство клиентов в городах: Москва, Московская область, Санкт-Петербург, Краснодарский край."
   ]
  },
  {
   "cell_type": "code",
   "execution_count": 54,
   "metadata": {},
   "outputs": [
    {
     "data": {
      "text/plain": [
       "64052"
      ]
     },
     "execution_count": 54,
     "metadata": {},
     "output_type": "execute_result"
    }
   ],
   "source": [
    "user_df_count=df['party_rk'].nunique()\n",
    "user_df_count"
   ]
  },
  {
   "cell_type": "markdown",
   "metadata": {},
   "source": [
    "64052 уникальных поьльзователя оформляли поездки с апреля по ноябрь 2024 года"
   ]
  },
  {
   "cell_type": "code",
   "execution_count": 56,
   "metadata": {},
   "outputs": [
    {
     "data": {
      "text/plain": [
       "50644095.02"
      ]
     },
     "execution_count": 56,
     "metadata": {},
     "output_type": "execute_result"
    }
   ],
   "source": [
    "price_sum=round(df['nominal_price_rub_amt'].sum(),2)\n",
    "price_sum"
   ]
  },
  {
   "cell_type": "markdown",
   "metadata": {},
   "source": [
    "Выручка составила 50611095 руб с апреля по ноябрь 2024 года"
   ]
  },
  {
   "cell_type": "code",
   "execution_count": 10,
   "metadata": {},
   "outputs": [
    {
     "data": {
      "text/html": [
       "<div>\n",
       "<style scoped>\n",
       "    .dataframe tbody tr th:only-of-type {\n",
       "        vertical-align: middle;\n",
       "    }\n",
       "\n",
       "    .dataframe tbody tr th {\n",
       "        vertical-align: top;\n",
       "    }\n",
       "\n",
       "    .dataframe thead th {\n",
       "        text-align: right;\n",
       "    }\n",
       "</style>\n",
       "<table border=\"1\" class=\"dataframe\">\n",
       "  <thead>\n",
       "    <tr style=\"text-align: right;\">\n",
       "      <th></th>\n",
       "      <th>lvn_state_nm</th>\n",
       "      <th>order_rk</th>\n",
       "    </tr>\n",
       "  </thead>\n",
       "  <tbody>\n",
       "    <tr>\n",
       "      <th>0</th>\n",
       "      <td>Г МОСКВА</td>\n",
       "      <td>90897</td>\n",
       "    </tr>\n",
       "    <tr>\n",
       "      <th>1</th>\n",
       "      <td>МОСКОВСКАЯ ОБЛ</td>\n",
       "      <td>40440</td>\n",
       "    </tr>\n",
       "    <tr>\n",
       "      <th>2</th>\n",
       "      <td>Г САНКТ-ПЕТЕРБУРГ</td>\n",
       "      <td>36867</td>\n",
       "    </tr>\n",
       "    <tr>\n",
       "      <th>3</th>\n",
       "      <td>СВЕРДЛОВСКАЯ ОБЛ</td>\n",
       "      <td>28952</td>\n",
       "    </tr>\n",
       "    <tr>\n",
       "      <th>4</th>\n",
       "      <td>КРАСНОДАРСКИЙ КРАЙ</td>\n",
       "      <td>16533</td>\n",
       "    </tr>\n",
       "    <tr>\n",
       "      <th>5</th>\n",
       "      <td>РЕСП ТАТАРСТАН</td>\n",
       "      <td>9499</td>\n",
       "    </tr>\n",
       "    <tr>\n",
       "      <th>6</th>\n",
       "      <td>РЕСП БАШКОРТОСТАН</td>\n",
       "      <td>8377</td>\n",
       "    </tr>\n",
       "    <tr>\n",
       "      <th>7</th>\n",
       "      <td>НИЖЕГОРОДСКАЯ ОБЛ</td>\n",
       "      <td>7758</td>\n",
       "    </tr>\n",
       "    <tr>\n",
       "      <th>8</th>\n",
       "      <td>НОВОСИБИРСКАЯ ОБЛ</td>\n",
       "      <td>7158</td>\n",
       "    </tr>\n",
       "    <tr>\n",
       "      <th>9</th>\n",
       "      <td>КРАСНОЯРСКИЙ КРАЙ</td>\n",
       "      <td>5671</td>\n",
       "    </tr>\n",
       "    <tr>\n",
       "      <th>10</th>\n",
       "      <td>РОСТОВСКАЯ ОБЛ</td>\n",
       "      <td>5637</td>\n",
       "    </tr>\n",
       "    <tr>\n",
       "      <th>11</th>\n",
       "      <td>РЕСП УДМУРТСКАЯ</td>\n",
       "      <td>5564</td>\n",
       "    </tr>\n",
       "    <tr>\n",
       "      <th>12</th>\n",
       "      <td>ЛЕНИНГРАДСКАЯ ОБЛ</td>\n",
       "      <td>5519</td>\n",
       "    </tr>\n",
       "    <tr>\n",
       "      <th>13</th>\n",
       "      <td>ТЮМЕНСКАЯ ОБЛ</td>\n",
       "      <td>5222</td>\n",
       "    </tr>\n",
       "    <tr>\n",
       "      <th>14</th>\n",
       "      <td>САМАРСКАЯ ОБЛ</td>\n",
       "      <td>5085</td>\n",
       "    </tr>\n",
       "    <tr>\n",
       "      <th>15</th>\n",
       "      <td>КАЛИНИНГРАДСКАЯ ОБЛ</td>\n",
       "      <td>4585</td>\n",
       "    </tr>\n",
       "    <tr>\n",
       "      <th>16</th>\n",
       "      <td>САРАТОВСКАЯ ОБЛ</td>\n",
       "      <td>4507</td>\n",
       "    </tr>\n",
       "    <tr>\n",
       "      <th>17</th>\n",
       "      <td>ЧЕЛЯБИНСКАЯ ОБЛ</td>\n",
       "      <td>4379</td>\n",
       "    </tr>\n",
       "    <tr>\n",
       "      <th>18</th>\n",
       "      <td>ИРКУТСКАЯ ОБЛ</td>\n",
       "      <td>4096</td>\n",
       "    </tr>\n",
       "    <tr>\n",
       "      <th>19</th>\n",
       "      <td>ВОЛГОГРАДСКАЯ ОБЛ</td>\n",
       "      <td>3896</td>\n",
       "    </tr>\n",
       "  </tbody>\n",
       "</table>\n",
       "</div>"
      ],
      "text/plain": [
       "           lvn_state_nm  order_rk\n",
       "0              Г МОСКВА     90897\n",
       "1        МОСКОВСКАЯ ОБЛ     40440\n",
       "2     Г САНКТ-ПЕТЕРБУРГ     36867\n",
       "3      СВЕРДЛОВСКАЯ ОБЛ     28952\n",
       "4    КРАСНОДАРСКИЙ КРАЙ     16533\n",
       "5        РЕСП ТАТАРСТАН      9499\n",
       "6     РЕСП БАШКОРТОСТАН      8377\n",
       "7     НИЖЕГОРОДСКАЯ ОБЛ      7758\n",
       "8     НОВОСИБИРСКАЯ ОБЛ      7158\n",
       "9     КРАСНОЯРСКИЙ КРАЙ      5671\n",
       "10       РОСТОВСКАЯ ОБЛ      5637\n",
       "11      РЕСП УДМУРТСКАЯ      5564\n",
       "12    ЛЕНИНГРАДСКАЯ ОБЛ      5519\n",
       "13        ТЮМЕНСКАЯ ОБЛ      5222\n",
       "14        САМАРСКАЯ ОБЛ      5085\n",
       "15  КАЛИНИНГРАДСКАЯ ОБЛ      4585\n",
       "16      САРАТОВСКАЯ ОБЛ      4507\n",
       "17      ЧЕЛЯБИНСКАЯ ОБЛ      4379\n",
       "18        ИРКУТСКАЯ ОБЛ      4096\n",
       "19    ВОЛГОГРАДСКАЯ ОБЛ      3896"
      ]
     },
     "execution_count": 10,
     "metadata": {},
     "output_type": "execute_result"
    }
   ],
   "source": [
    "user_df=df.groupby('lvn_state_nm')['order_rk'].nunique().sort_values(ascending=False).reset_index()\n",
    "user_df.head(20)"
   ]
  },
  {
   "cell_type": "code",
   "execution_count": null,
   "metadata": {},
   "outputs": [],
   "source": []
  },
  {
   "cell_type": "markdown",
   "metadata": {},
   "source": [
    "посмотрим распределение клиентов по возрастам"
   ]
  },
  {
   "cell_type": "code",
   "execution_count": 11,
   "metadata": {},
   "outputs": [
    {
     "data": {
      "image/png": "[encoded data removed]",
      "text/plain": [
       "<Figure size 640x480 with 1 Axes>"
      ]
     },
     "metadata": {},
     "output_type": "display_data"
    }
   ],
   "source": [
    "n_bins = df['age'].max() - df['age'].min()\n",
    "\n",
    "# 2. Строим гистограмму\n",
    "df['age'].hist(bins=n_bins)\n",
    "\n",
    "# 3. Назначаем заголовок графика\n",
    "plt.title('Возраст пользователей')\n",
    "\n",
    "# 4. Устанавливаем подпись оси X\n",
    "plt.xlabel('Возраст')\n",
    "\n",
    "# 5. Отображаем гистограмму\n",
    "plt.show()"
   ]
  },
  {
   "cell_type": "markdown",
   "metadata": {},
   "source": [
    "Пользователи ,которые пользуються сервисом - от 18 до 90 лет. Основная часть пользователей находиться в возрастной категории от 18 до 40\n",
    "лет. "
   ]
  },
  {
   "cell_type": "markdown",
   "metadata": {},
   "source": [
    "Длительность и расстояние поездки является важной метрикой в работе сервиса проката самокатов. Если средняя длительность или расстояние поездок будет слишком высокой, самокаты будут быстрее выходить из строя. Если слишком низкой, значит, клиентам что-то не нравится в сервисе."
   ]
  },
  {
   "cell_type": "code",
   "execution_count": 12,
   "metadata": {},
   "outputs": [
    {
     "name": "stdout",
     "output_type": "stream",
     "text": [
      "gender_cd\n",
      "M    335458\n",
      "F     58370\n",
      "Name: count, dtype: int64\n"
     ]
    }
   ],
   "source": [
    "gender_type_count=df['gender_cd'].value_counts().sort_values(ascending=False)\n",
    "print(gender_type_count)"
   ]
  },
  {
   "cell_type": "code",
   "execution_count": 13,
   "metadata": {},
   "outputs": [
    {
     "data": {
      "image/png": "[encoded data removed]",
      "text/plain": [
       "<Figure size 640x480 with 1 Axes>"
      ]
     },
     "metadata": {},
     "output_type": "display_data"
    }
   ],
   "source": [
    "gender_type_count.plot(\n",
    "    kind= 'pie',\n",
    "    title='Соотношение пользователей мужчин/женщин',\n",
    "    autopct= '%.0f%%',\n",
    "    ylabel='',\n",
    "    colors=['lightblue', 'pink']\n",
    ")\n",
    "\n",
    "plt.show()"
   ]
  },
  {
   "cell_type": "markdown",
   "metadata": {},
   "source": [
    "Мужчины чаще оформляют заказы ,чем женщины"
   ]
  },
  {
   "cell_type": "code",
   "execution_count": 14,
   "metadata": {},
   "outputs": [
    {
     "name": "stdout",
     "output_type": "stream",
     "text": [
      "Средний километраж поездки 4 км со стандартным отклонением 142. Основная часть поездок  от 1 до 3 км.\n"
     ]
    }
   ],
   "source": [
    "distance_df_mean =round(df['distance_km'].mean())\n",
    "distance_df_std =round(df['distance_km'].std())\n",
    "\n",
    "distance_pct25 =round(df['distance_km'].quantile(0.25))\n",
    "distance_pct75 =round(df['distance_km'].quantile(0.75))\n",
    "\n",
    "print(f'Средний километраж поездки {distance_df_mean} км со стандартным отклонением {distance_df_std}. Основная часть поездок  от {distance_pct25} до {distance_pct75} км.')"
   ]
  },
  {
   "cell_type": "markdown",
   "metadata": {},
   "source": [
    "Изучим поведение пользователей с программой лояльности и без. Создадим 2 датафрейма"
   ]
  },
  {
   "cell_type": "code",
   "execution_count": 15,
   "metadata": {},
   "outputs": [],
   "source": [
    "# Создаем DataFrame для пользователей с программой лояльности \n",
    "df_loyalty = df[df['loyalty_accrual_rub_amt'].notna() | df['loyalty_accrual_bns_amt'].notna()]\n",
    "\n",
    "# Создаем DataFrame для пользователей без программы лояльности\n",
    "df_no_loyalty = df[df['loyalty_accrual_rub_amt'].isnull() & df['loyalty_accrual_bns_amt'].isnull()]"
   ]
  },
  {
   "cell_type": "markdown",
   "metadata": {},
   "source": [
    "Рассчитаем колличество поездок с начислением кэшбека и без"
   ]
  },
  {
   "cell_type": "code",
   "execution_count": 16,
   "metadata": {},
   "outputs": [
    {
     "data": {
      "text/plain": [
       "388936"
      ]
     },
     "execution_count": 16,
     "metadata": {},
     "output_type": "execute_result"
    }
   ],
   "source": [
    "order_loyalty=df_loyalty['order_rk'].nunique()\n",
    "order_loyalty"
   ]
  },
  {
   "cell_type": "code",
   "execution_count": 17,
   "metadata": {},
   "outputs": [
    {
     "data": {
      "text/plain": [
       "7813"
      ]
     },
     "execution_count": 17,
     "metadata": {},
     "output_type": "execute_result"
    }
   ],
   "source": [
    "order_no_loyalty=df_no_loyalty['order_rk'].nunique()\n",
    "order_no_loyalty"
   ]
  },
  {
   "cell_type": "markdown",
   "metadata": {},
   "source": [
    "В большинстве случаев заказы происходят с начислением кэшбека."
   ]
  },
  {
   "cell_type": "code",
   "execution_count": 18,
   "metadata": {},
   "outputs": [
    {
     "name": "stdout",
     "output_type": "stream",
     "text": [
      "Средняя длительность поездки для пользователей с кэшбеком 4 км, а для пользователей без кэшбека1 км\n"
     ]
    }
   ],
   "source": [
    "# Расчет среднего расстояния поездки для пользователей с кешбеком и без\n",
    "mean_duration_free = round(df_loyalty['distance_km'].mean())\n",
    "mean_duration_ultra = round(df_no_loyalty['distance_km'].mean())\n",
    "print(f'Средняя длительность поездки для пользователей с кэшбеком {mean_duration_free} км, а для пользователей без кэшбека{mean_duration_ultra} км')"
   ]
  },
  {
   "cell_type": "markdown",
   "metadata": {},
   "source": [
    "Важно понять, тратят ли пользователи с кэшбеком больше времени на поездки? \n",
    "Сформулируем нулевую и альтернативную гипотезы:\n",
    "Нулевая гипотеза (Н0): Средняя длинна поездки у пользователей с кэшбеком и без одинаковое.\n",
    "Альтернативная гипотеза (Н1): Средняя длинна поездки  у пользователей с кешбеком больше, чем у пользователей без подписки."
   ]
  },
  {
   "cell_type": "markdown",
   "metadata": {},
   "source": [
    "Рассчитаем среднюю выручку от поездок с начислением кэшбека и без"
   ]
  },
  {
   "cell_type": "code",
   "execution_count": 19,
   "metadata": {},
   "outputs": [
    {
     "name": "stdout",
     "output_type": "stream",
     "text": [
      "Средняя стоимость поездки для пользователей с кэшбеком 129.96 руб, а для пользователей без кэшбека 12.53 руб\n"
     ]
    }
   ],
   "source": [
    "price_loyalty=round(df_loyalty['nominal_price_rub_amt'].sum()/order_loyalty,2)\n",
    "price_no_loyalty=round(df_no_loyalty['nominal_price_rub_amt'].sum()/order_no_loyalty,2)\n",
    "print(f'Средняя стоимость поездки для пользователей с кэшбеком {price_loyalty} руб, а для пользователей без кэшбека {price_no_loyalty} руб')"
   ]
  },
  {
   "cell_type": "markdown",
   "metadata": {},
   "source": [
    "Сформулируем нулевую и альтернативную гипотезы: \n",
    "\n",
    "Нулевая гипотеза (Н0): Средняя стоимость поездки у пользователей с кэшбеком и без одинаковое. \n",
    "Альтернативная гипотеза (Н1): Средняя стоимость поездки у пользователей с кешбеком больше, чем у пользователей без подписки."
   ]
  },
  {
   "cell_type": "code",
   "execution_count": 20,
   "metadata": {},
   "outputs": [
    {
     "name": "stdout",
     "output_type": "stream",
     "text": [
      "Распределение заказов в зависимости от семейного статуса:\n"
     ]
    },
    {
     "data": {
      "text/plain": [
       "marital_status_cd\n",
       "UNM    116094\n",
       "MAR     74061\n",
       "CIV     15036\n",
       "DIV     11820\n",
       "WID       718\n",
       "Name: order_rk, dtype: int64"
      ]
     },
     "execution_count": 20,
     "metadata": {},
     "output_type": "execute_result"
    }
   ],
   "source": [
    "# Посчитаем количество заказов для покупателей с разным семейным положением\n",
    "print('Распределение заказов в зависимости от семейного статуса:')\n",
    "status_user=df.groupby('marital_status_cd')['order_rk'].nunique().sort_values(ascending=False)\n",
    "status_user"
   ]
  },
  {
   "cell_type": "code",
   "execution_count": 21,
   "metadata": {},
   "outputs": [
    {
     "data": {
      "image/png": "[encoded data removed]",
      "text/plain": [
       "<Figure size 700x300 with 1 Axes>"
      ]
     },
     "metadata": {},
     "output_type": "display_data"
    }
   ],
   "source": [
    "# Создаём контейнер графика matplotlib и задаём его размер\n",
    "plt.figure(figsize=(7, 3))\n",
    "\n",
    "# Строим столбчатую диаграмму с помощью pandas через plot(kind='bar')\n",
    "status_user.plot(\n",
    "               kind='bar', # Тип графика - столбчатая диаграмма\n",
    "               rot=90, # Градус вращения подписи по оси Х\n",
    "               legend=False, # Выключаем легенду\n",
    "               title=f'Распределение заказов в зависимости от семейного положения'\n",
    ")\n",
    "\n",
    "# Настраиваем оформление графика\n",
    "plt.xlabel('Семейное положение')\n",
    "plt.ylabel('Количество заказов')\n",
    "plt.grid()\n",
    "\n",
    "# Выводим график\n",
    "plt.show()\n"
   ]
  },
  {
   "cell_type": "markdown",
   "metadata": {},
   "source": [
    "Большинство заказов совершают люди с полодение - \n",
    "- `UNM` не замужен/холост - 116094 заказов\n",
    "- `MAR` —женат/замужем - 74061,\n",
    "- `CIV` — гражданский брак -15036,\n",
    "- `DIV` — разведен(а) - 11820\n",
    "- `WID` — вдовец/вдова - 718 заказов."
   ]
  },
  {
   "cell_type": "markdown",
   "metadata": {},
   "source": [
    "Нулевая гипотеза (Н0): Люди пользуються сервисом независомо от семейного положения. \n",
    "Альтернативная гипотеза (Н1): Колличество заказов у людей холостых больше чем у семейных. Это может быть связано с тем,что юди в браке (MAR, CIV) и разведенные (DIV) могут реже делать отдельные заказы для себя, так как обычно заказывают товары для всей семьи оптом."
   ]
  },
  {
   "cell_type": "code",
   "execution_count": 22,
   "metadata": {},
   "outputs": [
    {
     "name": "stdout",
     "output_type": "stream",
     "text": [
      "Распределение заказов в зависимости от уровня образования:\n"
     ]
    },
    {
     "data": {
      "text/plain": [
       "education_level_cd\n",
       "GRD    94341\n",
       "SCH    51273\n",
       "UGR    38896\n",
       "PGR     4224\n",
       "ACD     1325\n",
       "Name: order_rk, dtype: int64"
      ]
     },
     "execution_count": 22,
     "metadata": {},
     "output_type": "execute_result"
    }
   ],
   "source": [
    "# Посчитаем количество заказов для покупателей в зависимости от уровня образования\n",
    "print('Распределение заказов в зависимости от уровня образования:')\n",
    "education_user=df.groupby('education_level_cd')['order_rk'].nunique().sort_values(ascending=False)\n",
    "education_user"
   ]
  },
  {
   "cell_type": "code",
   "execution_count": 23,
   "metadata": {},
   "outputs": [
    {
     "data": {
      "image/png": "[encoded data removed]",
      "text/plain": [
       "<Figure size 700x300 with 1 Axes>"
      ]
     },
     "metadata": {},
     "output_type": "display_data"
    }
   ],
   "source": [
    "# Создаём контейнер графика matplotlib и задаём его размер\n",
    "plt.figure(figsize=(7, 3))\n",
    "\n",
    "# Строим столбчатую диаграмму с помощью pandas через plot(kind='bar')\n",
    "education_user.plot(\n",
    "               kind='bar', # Тип графика - столбчатая диаграмма\n",
    "               rot=90, # Градус вращения подписи по оси Х\n",
    "               legend=False, # Выключаем легенду\n",
    "               title=f'Распределение заказов в зависимости от уровня образования'\n",
    ")\n",
    "\n",
    "# Настраиваем оформление графика\n",
    "plt.xlabel('Образование')\n",
    "plt.ylabel('Количество заказов')\n",
    "plt.grid()\n",
    "\n",
    "# Выводим график\n",
    "plt.show()"
   ]
  },
  {
   "cell_type": "markdown",
   "metadata": {},
   "source": [
    "Больше всего заказов у людей с \n",
    "- `GRD` — высшим образованием - 94341\n",
    "- `SCH` — начальное, среднее - 51273\n",
    "- `UGR` — неполное высшее - 38896\n",
    "- `PGR` — два высших -4224\n",
    "- `ACD` — ученая степень -1325"
   ]
  },
  {
   "cell_type": "markdown",
   "metadata": {},
   "source": [
    "посмотрим в какое время чаще всего оформляют заказы по локальному времени клиента."
   ]
  },
  {
   "cell_type": "code",
   "execution_count": 25,
   "metadata": {},
   "outputs": [],
   "source": [
    "# округлим дату заказа по локальному времени клиента до часов\n",
    "df['rounded_hour'] = df['local_book_start_dttm'].dt.hour"
   ]
  },
  {
   "cell_type": "code",
   "execution_count": 26,
   "metadata": {},
   "outputs": [
    {
     "data": {
      "image/png": "[encoded data removed]",
      "text/plain": [
       "<Figure size 640x480 with 1 Axes>"
      ]
     },
     "metadata": {},
     "output_type": "display_data"
    }
   ],
   "source": [
    "df['rounded_hour'].hist(bins=n_bins)\n",
    "\n",
    "# 3. Назначаем заголовок графика\n",
    "plt.title('Распределение заказов в течении дня')\n",
    "\n",
    "# 4. Устанавливаем подпись оси X\n",
    "plt.xlabel('время,часы')\n",
    "\n",
    "# 5. Отображаем гистограмму\n",
    "plt.show()\n"
   ]
  },
  {
   "cell_type": "markdown",
   "metadata": {},
   "source": [
    "Большинство заказов совершается в дневные часы с 14 до 16 часов. Также есть небольше уведечение заказов в утренние часы."
   ]
  },
  {
   "cell_type": "code",
   "execution_count": 33,
   "metadata": {},
   "outputs": [],
   "source": [
    "df['activity_month'] = (pd.to_datetime(df['local_book_start_dttm'])).dt.to_period('M')\n",
    "df['activity_month'] = df['activity_month'].dt.to_timestamp()"
   ]
  },
  {
   "cell_type": "code",
   "execution_count": 34,
   "metadata": {},
   "outputs": [
    {
     "data": {
      "image/png": "[encoded data removed]",
      "text/plain": [
       "<Figure size 640x480 with 1 Axes>"
      ]
     },
     "metadata": {},
     "output_type": "display_data"
    }
   ],
   "source": [
    "df['activity_month'].hist(bins=n_bins)\n",
    "\n",
    "# 3. Назначаем заголовок графика\n",
    "plt.title('Распределение заказов по месяцам')\n",
    "\n",
    "# 4. Устанавливаем подпись оси X\n",
    "plt.xlabel('месяц')\n",
    "\n",
    "# 5. Отображаем гистограмму\n",
    "plt.show()"
   ]
  },
  {
   "cell_type": "code",
   "execution_count": 42,
   "metadata": {},
   "outputs": [
    {
     "name": "stdout",
     "output_type": "stream",
     "text": [
      "Распределение стоимости минуты в зависимости от часов дня:\n"
     ]
    }
   ],
   "source": [
    "# Посчитаем количество заказов для покупателей в зависимости от уровня образования\n",
    "print('Распределение стоимости минуты в зависимости от часов дня:')\n",
    "minute=df.groupby('rounded_hour')['minute_cost'].mean()"
   ]
  },
  {
   "cell_type": "code",
   "execution_count": 41,
   "metadata": {},
   "outputs": [
    {
     "data": {
      "image/png": "[encoded data removed]",
      "text/plain": [
       "<Figure size 640x480 with 1 Axes>"
      ]
     },
     "metadata": {},
     "output_type": "display_data"
    }
   ],
   "source": [
    "\n",
    "plt.plot(minute, marker='o')\n",
    "\n",
    "# Добавим заголовок и подписи осей\n",
    "plt.title('Средняя стоимость минуты')\n",
    "plt.xlabel('часы')\n",
    "plt.ylabel('стоимость минуты')\n",
    "plt.legend()\n",
    "plt.grid(True)\n",
    "plt.show()"
   ]
  },
  {
   "cell_type": "code",
   "execution_count": 46,
   "metadata": {},
   "outputs": [],
   "source": [
    "df['created_col'] = pd.to_datetime(df['created_dttm']).dt.round('H')\n",
    "df['book_start_col'] = pd.to_datetime(df['book_start_dttm']).dt.round('H')\n",
    "\n",
    "    # Вычисляем разницу во времени в секундах\n",
    "df['result_col'] = (df['book_start_col'] - df['created_col']).dt.total_seconds() / 3600"
   ]
  },
  {
   "cell_type": "code",
   "execution_count": 50,
   "metadata": {},
   "outputs": [
    {
     "data": {
      "image/png": "[encoded data removed]",
      "text/plain": [
       "<Figure size 640x480 with 1 Axes>"
      ]
     },
     "metadata": {},
     "output_type": "display_data"
    }
   ],
   "source": [
    "# Посчитаем количество среднее время ожидание с момента оформления заказа до начала поездки\n",
    "minute=df.groupby('rounded_hour')['result_col'].mean()\n",
    "plt.plot(minute, marker='o')\n",
    "\n",
    "# Добавим заголовок и подписи осей\n",
    "plt.title('Среднее время с момента оформления до начала поездки')\n",
    "plt.xlabel('часы')\n",
    "plt.ylabel('стоимость минуты')\n",
    "plt.legend()\n",
    "plt.grid(True)\n",
    "plt.show()"
   ]
  },
  {
   "cell_type": "markdown",
   "metadata": {},
   "source": [
    "Здесь все хорошо, время ожидания минимальное, распределено равномерно в течении дня, за исключением раннего утра."
   ]
  },
  {
   "cell_type": "code",
   "execution_count": null,
   "metadata": {},
   "outputs": [],
   "source": []
  },
  {
   "cell_type": "code",
   "execution_count": null,
   "metadata": {},
   "outputs": [],
   "source": []
  },
  {
   "cell_type": "code",
   "execution_count": null,
   "metadata": {},
   "outputs": [],
   "source": []
  },
  {
   "cell_type": "code",
   "execution_count": null,
   "metadata": {},
   "outputs": [],
   "source": []
  }
 ],
 "metadata": {
  "ExecuteTimeLog": [
   {
    "duration": 3360,
    "start_time": "2025-03-05T04:46:52.411Z"
   },
   {
    "duration": 1371,
    "start_time": "2025-03-05T04:47:07.546Z"
   },
   {
    "duration": 3,
    "start_time": "2025-03-05T04:47:26.436Z"
   },
   {
    "duration": 1729,
    "start_time": "2025-03-05T04:50:51.409Z"
   },
   {
    "duration": 1541,
    "start_time": "2025-03-05T04:51:01.345Z"
   },
   {
    "duration": 156,
    "start_time": "2025-03-05T04:52:31.367Z"
   },
   {
    "duration": 12,
    "start_time": "2025-03-05T04:56:46.499Z"
   },
   {
    "duration": 11,
    "start_time": "2025-03-05T04:56:52.015Z"
   },
   {
    "duration": 23,
    "start_time": "2025-03-05T05:08:02.731Z"
   },
   {
    "duration": 89,
    "start_time": "2025-03-05T05:08:04.492Z"
   },
   {
    "duration": 9,
    "start_time": "2025-03-05T06:09:17.893Z"
   },
   {
    "duration": 38,
    "start_time": "2025-03-05T06:09:18.817Z"
   },
   {
    "duration": 7,
    "start_time": "2025-03-05T06:10:00.390Z"
   },
   {
    "duration": 20,
    "start_time": "2025-03-05T06:10:01.101Z"
   },
   {
    "duration": 8,
    "start_time": "2025-03-05T06:10:28.148Z"
   },
   {
    "duration": 24,
    "start_time": "2025-03-05T06:10:29.053Z"
   },
   {
    "duration": 4,
    "start_time": "2025-03-05T10:10:21.990Z"
   },
   {
    "duration": 5,
    "start_time": "2025-03-05T10:10:32.379Z"
   },
   {
    "duration": 3,
    "start_time": "2025-03-05T10:10:42.665Z"
   },
   {
    "duration": 4,
    "start_time": "2025-03-05T10:10:43.569Z"
   },
   {
    "duration": 5,
    "start_time": "2025-03-05T11:20:09.499Z"
   },
   {
    "duration": 4,
    "start_time": "2025-03-05T11:20:31.192Z"
   },
   {
    "duration": 103,
    "start_time": "2025-03-05T11:22:23.265Z"
   },
   {
    "duration": 71,
    "start_time": "2025-03-05T11:22:47.640Z"
   },
   {
    "duration": 6,
    "start_time": "2025-03-05T11:22:55.334Z"
   },
   {
    "duration": 21,
    "start_time": "2025-03-05T11:45:15.792Z"
   },
   {
    "duration": 8,
    "start_time": "2025-03-05T11:45:26.004Z"
   },
   {
    "duration": 11,
    "start_time": "2025-03-05T11:45:40.092Z"
   },
   {
    "duration": 4,
    "start_time": "2025-03-05T11:45:59.418Z"
   },
   {
    "duration": 5,
    "start_time": "2025-03-05T11:46:13.727Z"
   },
   {
    "duration": 3,
    "start_time": "2025-03-05T11:46:51.207Z"
   },
   {
    "duration": 6,
    "start_time": "2025-03-05T11:47:00.030Z"
   },
   {
    "duration": 9,
    "start_time": "2025-03-05T11:47:25.148Z"
   },
   {
    "duration": 13,
    "start_time": "2025-03-05T11:49:30.012Z"
   },
   {
    "duration": 21,
    "start_time": "2025-03-05T11:50:41.048Z"
   },
   {
    "duration": 6,
    "start_time": "2025-03-05T11:50:51.039Z"
   },
   {
    "duration": 5,
    "start_time": "2025-03-05T11:56:37.965Z"
   },
   {
    "duration": 1543,
    "start_time": "2025-03-05T11:58:01.224Z"
   },
   {
    "duration": 1343,
    "start_time": "2025-03-05T12:00:06.601Z"
   },
   {
    "duration": 2556,
    "start_time": "2025-03-05T12:00:13.939Z"
   },
   {
    "duration": 1248,
    "start_time": "2025-03-05T12:00:16.497Z"
   },
   {
    "duration": 3,
    "start_time": "2025-03-05T12:00:17.746Z"
   },
   {
    "duration": 2251,
    "start_time": "2025-03-05T12:00:17.751Z"
   },
   {
    "duration": 173,
    "start_time": "2025-03-05T12:00:20.004Z"
   },
   {
    "duration": 12,
    "start_time": "2025-03-05T12:00:20.179Z"
   },
   {
    "duration": 50,
    "start_time": "2025-03-05T12:00:20.192Z"
   },
   {
    "duration": 39,
    "start_time": "2025-03-05T12:00:20.243Z"
   },
   {
    "duration": 103,
    "start_time": "2025-03-05T12:00:20.284Z"
   },
   {
    "duration": 3,
    "start_time": "2025-03-05T12:00:20.390Z"
   },
   {
    "duration": 131,
    "start_time": "2025-03-05T12:00:20.394Z"
   },
   {
    "duration": 56,
    "start_time": "2025-03-05T12:00:20.526Z"
   },
   {
    "duration": 18,
    "start_time": "2025-03-05T12:00:20.583Z"
   },
   {
    "duration": 51,
    "start_time": "2025-03-05T12:00:20.603Z"
   },
   {
    "duration": 7,
    "start_time": "2025-03-05T12:00:20.656Z"
   },
   {
    "duration": 42,
    "start_time": "2025-03-05T12:00:20.665Z"
   },
   {
    "duration": 40,
    "start_time": "2025-03-05T12:00:20.709Z"
   },
   {
    "duration": 62,
    "start_time": "2025-03-05T12:00:20.751Z"
   },
   {
    "duration": 77,
    "start_time": "2025-03-05T12:00:20.815Z"
   },
   {
    "duration": 6,
    "start_time": "2025-03-05T12:00:20.894Z"
   },
   {
    "duration": 14,
    "start_time": "2025-03-05T12:00:20.902Z"
   },
   {
    "duration": 19,
    "start_time": "2025-03-05T12:00:20.918Z"
   },
   {
    "duration": 1295,
    "start_time": "2025-03-05T12:00:20.939Z"
   },
   {
    "duration": 0,
    "start_time": "2025-03-05T12:00:22.236Z"
   },
   {
    "duration": 0,
    "start_time": "2025-03-05T12:00:22.238Z"
   },
   {
    "duration": 0,
    "start_time": "2025-03-05T12:00:22.239Z"
   },
   {
    "duration": 2421,
    "start_time": "2025-03-05T12:01:43.517Z"
   },
   {
    "duration": 1277,
    "start_time": "2025-03-05T12:01:45.940Z"
   },
   {
    "duration": 3,
    "start_time": "2025-03-05T12:01:47.218Z"
   },
   {
    "duration": 2174,
    "start_time": "2025-03-05T12:01:47.223Z"
   },
   {
    "duration": 159,
    "start_time": "2025-03-05T12:01:49.399Z"
   },
   {
    "duration": 14,
    "start_time": "2025-03-05T12:01:49.560Z"
   },
   {
    "duration": 13,
    "start_time": "2025-03-05T12:01:49.576Z"
   },
   {
    "duration": 26,
    "start_time": "2025-03-05T12:01:49.590Z"
   },
   {
    "duration": 109,
    "start_time": "2025-03-05T12:01:49.618Z"
   },
   {
    "duration": 3,
    "start_time": "2025-03-05T12:01:49.730Z"
   },
   {
    "duration": 14,
    "start_time": "2025-03-05T12:01:49.734Z"
   },
   {
    "duration": 3,
    "start_time": "2025-03-05T12:01:49.750Z"
   },
   {
    "duration": 13,
    "start_time": "2025-03-05T12:01:49.755Z"
   },
   {
    "duration": 76,
    "start_time": "2025-03-05T12:01:49.770Z"
   },
   {
    "duration": 7,
    "start_time": "2025-03-05T12:01:49.848Z"
   },
   {
    "duration": 29,
    "start_time": "2025-03-05T12:01:49.857Z"
   },
   {
    "duration": 38,
    "start_time": "2025-03-05T12:01:49.888Z"
   },
   {
    "duration": 51,
    "start_time": "2025-03-05T12:01:49.928Z"
   },
   {
    "duration": 104,
    "start_time": "2025-03-05T12:01:49.981Z"
   },
   {
    "duration": 5,
    "start_time": "2025-03-05T12:01:50.087Z"
   },
   {
    "duration": 14,
    "start_time": "2025-03-05T12:01:50.094Z"
   },
   {
    "duration": 15,
    "start_time": "2025-03-05T12:01:50.110Z"
   },
   {
    "duration": 1372,
    "start_time": "2025-03-05T12:01:50.127Z"
   },
   {
    "duration": 0,
    "start_time": "2025-03-05T12:01:51.500Z"
   },
   {
    "duration": 0,
    "start_time": "2025-03-05T12:01:51.501Z"
   },
   {
    "duration": 0,
    "start_time": "2025-03-05T12:01:51.502Z"
   },
   {
    "duration": 4,
    "start_time": "2025-03-05T12:02:08.264Z"
   },
   {
    "duration": 4,
    "start_time": "2025-03-05T12:02:09.960Z"
   },
   {
    "duration": 4,
    "start_time": "2025-03-05T12:02:22.901Z"
   },
   {
    "duration": 3,
    "start_time": "2025-03-05T12:02:43.974Z"
   },
   {
    "duration": 4,
    "start_time": "2025-03-05T12:02:44.500Z"
   },
   {
    "duration": 4,
    "start_time": "2025-03-05T12:03:20.444Z"
   },
   {
    "duration": 5,
    "start_time": "2025-03-05T12:03:28.639Z"
   },
   {
    "duration": 10,
    "start_time": "2025-03-05T12:03:33.159Z"
   },
   {
    "duration": 40,
    "start_time": "2025-03-05T12:03:33.548Z"
   },
   {
    "duration": 8,
    "start_time": "2025-03-05T12:03:34.981Z"
   },
   {
    "duration": 18,
    "start_time": "2025-03-05T12:03:35.383Z"
   },
   {
    "duration": 8,
    "start_time": "2025-03-05T12:03:36.463Z"
   },
   {
    "duration": 24,
    "start_time": "2025-03-05T12:03:36.648Z"
   },
   {
    "duration": 58,
    "start_time": "2025-03-05T12:03:37.405Z"
   },
   {
    "duration": 6,
    "start_time": "2025-03-05T12:03:37.607Z"
   },
   {
    "duration": 4,
    "start_time": "2025-03-05T12:03:38.685Z"
   },
   {
    "duration": 5,
    "start_time": "2025-03-05T12:03:39.065Z"
   },
   {
    "duration": 56,
    "start_time": "2025-03-05T12:03:39.476Z"
   },
   {
    "duration": 65,
    "start_time": "2025-03-05T12:03:40.095Z"
   },
   {
    "duration": 6,
    "start_time": "2025-03-05T12:04:02.203Z"
   },
   {
    "duration": 27,
    "start_time": "2025-03-05T12:04:15.812Z"
   },
   {
    "duration": 5,
    "start_time": "2025-03-05T12:04:16.412Z"
   },
   {
    "duration": 1321,
    "start_time": "2025-03-05T12:05:55.263Z"
   },
   {
    "duration": 1509,
    "start_time": "2025-03-05T12:06:06.493Z"
   },
   {
    "duration": 18,
    "start_time": "2025-03-05T12:07:25.884Z"
   },
   {
    "duration": 13,
    "start_time": "2025-03-05T12:08:51.154Z"
   },
   {
    "duration": 14,
    "start_time": "2025-03-05T12:09:04.324Z"
   },
   {
    "duration": 6,
    "start_time": "2025-03-05T12:10:19.904Z"
   },
   {
    "duration": 6,
    "start_time": "2025-03-05T12:13:11.024Z"
   },
   {
    "duration": 2002,
    "start_time": "2025-03-05T12:14:47.143Z"
   },
   {
    "duration": 15,
    "start_time": "2025-03-05T12:14:54.127Z"
   },
   {
    "duration": 5,
    "start_time": "2025-03-05T12:15:13.504Z"
   },
   {
    "duration": 4,
    "start_time": "2025-03-05T14:17:46.033Z"
   },
   {
    "duration": 4,
    "start_time": "2025-03-05T14:17:46.773Z"
   },
   {
    "duration": 5,
    "start_time": "2025-03-05T14:17:48.692Z"
   },
   {
    "duration": 5,
    "start_time": "2025-03-05T14:19:33.523Z"
   },
   {
    "duration": 45,
    "start_time": "2025-03-05T18:25:07.724Z"
   },
   {
    "duration": 3659,
    "start_time": "2025-03-05T18:25:14.001Z"
   },
   {
    "duration": 1349,
    "start_time": "2025-03-05T18:25:17.662Z"
   },
   {
    "duration": 3,
    "start_time": "2025-03-05T18:25:19.012Z"
   },
   {
    "duration": 1630,
    "start_time": "2025-03-05T18:25:19.016Z"
   },
   {
    "duration": 130,
    "start_time": "2025-03-05T18:25:20.649Z"
   },
   {
    "duration": 13,
    "start_time": "2025-03-05T18:25:20.780Z"
   },
   {
    "duration": 32,
    "start_time": "2025-03-05T18:25:20.795Z"
   },
   {
    "duration": 33,
    "start_time": "2025-03-05T18:25:20.828Z"
   },
   {
    "duration": 94,
    "start_time": "2025-03-05T18:25:20.862Z"
   },
   {
    "duration": 3,
    "start_time": "2025-03-05T18:25:20.958Z"
   },
   {
    "duration": 18,
    "start_time": "2025-03-05T18:25:20.962Z"
   },
   {
    "duration": 20,
    "start_time": "2025-03-05T18:25:20.982Z"
   },
   {
    "duration": 15,
    "start_time": "2025-03-05T18:25:21.004Z"
   },
   {
    "duration": 40,
    "start_time": "2025-03-05T18:25:21.022Z"
   },
   {
    "duration": 7,
    "start_time": "2025-03-05T18:25:21.064Z"
   },
   {
    "duration": 31,
    "start_time": "2025-03-05T18:25:21.073Z"
   },
   {
    "duration": 84,
    "start_time": "2025-03-05T18:25:21.105Z"
   },
   {
    "duration": 190,
    "start_time": "2025-03-05T18:25:21.190Z"
   },
   {
    "duration": 67,
    "start_time": "2025-03-05T18:25:21.382Z"
   },
   {
    "duration": 7,
    "start_time": "2025-03-05T18:25:21.451Z"
   },
   {
    "duration": 9,
    "start_time": "2025-03-05T18:25:21.459Z"
   },
   {
    "duration": 8,
    "start_time": "2025-03-05T18:25:21.469Z"
   },
   {
    "duration": 56,
    "start_time": "2025-03-05T18:25:21.479Z"
   },
   {
    "duration": 68,
    "start_time": "2025-03-05T18:25:21.536Z"
   },
   {
    "duration": 6,
    "start_time": "2025-03-05T18:25:21.605Z"
   },
   {
    "duration": 37,
    "start_time": "2025-03-05T18:25:21.613Z"
   },
   {
    "duration": 5,
    "start_time": "2025-03-05T18:25:21.652Z"
   },
   {
    "duration": 16,
    "start_time": "2025-03-05T18:25:21.658Z"
   },
   {
    "duration": 15,
    "start_time": "2025-03-05T18:25:21.675Z"
   },
   {
    "duration": 118,
    "start_time": "2025-03-05T18:25:21.691Z"
   },
   {
    "duration": 23,
    "start_time": "2025-03-05T18:25:39.260Z"
   },
   {
    "duration": 14,
    "start_time": "2025-03-05T18:31:38.561Z"
   },
   {
    "duration": 11,
    "start_time": "2025-03-05T18:37:27.730Z"
   },
   {
    "duration": 5,
    "start_time": "2025-03-05T18:38:13.903Z"
   },
   {
    "duration": 9,
    "start_time": "2025-03-05T18:39:01.388Z"
   },
   {
    "duration": 12,
    "start_time": "2025-03-05T18:41:07.071Z"
   },
   {
    "duration": 11,
    "start_time": "2025-03-05T18:41:13.636Z"
   },
   {
    "duration": 11,
    "start_time": "2025-03-05T18:41:19.492Z"
   },
   {
    "duration": 22,
    "start_time": "2025-03-05T18:50:04.795Z"
   },
   {
    "duration": 11,
    "start_time": "2025-03-05T18:50:20.074Z"
   },
   {
    "duration": 53,
    "start_time": "2025-03-05T18:52:34.521Z"
   },
   {
    "duration": 10,
    "start_time": "2025-03-05T18:52:36.203Z"
   },
   {
    "duration": 11,
    "start_time": "2025-03-05T18:53:43.946Z"
   },
   {
    "duration": 9,
    "start_time": "2025-03-05T18:54:11.110Z"
   },
   {
    "duration": 2313,
    "start_time": "2025-03-05T18:54:17.996Z"
   },
   {
    "duration": 1143,
    "start_time": "2025-03-05T18:54:20.312Z"
   },
   {
    "duration": 3,
    "start_time": "2025-03-05T18:54:21.456Z"
   },
   {
    "duration": 2812,
    "start_time": "2025-03-05T18:54:21.460Z"
   },
   {
    "duration": 162,
    "start_time": "2025-03-05T18:54:24.274Z"
   },
   {
    "duration": 40,
    "start_time": "2025-03-05T18:54:24.437Z"
   },
   {
    "duration": 11,
    "start_time": "2025-03-05T18:54:24.478Z"
   },
   {
    "duration": 24,
    "start_time": "2025-03-05T18:54:24.491Z"
   },
   {
    "duration": 99,
    "start_time": "2025-03-05T18:54:24.517Z"
   },
   {
    "duration": 3,
    "start_time": "2025-03-05T18:54:24.618Z"
   },
   {
    "duration": 53,
    "start_time": "2025-03-05T18:54:24.622Z"
   },
   {
    "duration": 10,
    "start_time": "2025-03-05T18:54:24.676Z"
   },
   {
    "duration": 12,
    "start_time": "2025-03-05T18:54:24.688Z"
   },
   {
    "duration": 36,
    "start_time": "2025-03-05T18:54:24.703Z"
   },
   {
    "duration": 7,
    "start_time": "2025-03-05T18:54:24.741Z"
   },
   {
    "duration": 27,
    "start_time": "2025-03-05T18:54:24.749Z"
   },
   {
    "duration": 7,
    "start_time": "2025-03-05T18:54:24.778Z"
   },
   {
    "duration": 139,
    "start_time": "2025-03-05T18:54:24.786Z"
   },
   {
    "duration": 73,
    "start_time": "2025-03-05T18:54:24.926Z"
   },
   {
    "duration": 6,
    "start_time": "2025-03-05T18:54:25.001Z"
   },
   {
    "duration": 8,
    "start_time": "2025-03-05T18:54:25.008Z"
   },
   {
    "duration": 15,
    "start_time": "2025-03-05T18:54:25.018Z"
   },
   {
    "duration": 65,
    "start_time": "2025-03-05T18:54:25.034Z"
   },
   {
    "duration": 77,
    "start_time": "2025-03-05T18:54:25.101Z"
   },
   {
    "duration": 6,
    "start_time": "2025-03-05T18:54:25.180Z"
   },
   {
    "duration": 38,
    "start_time": "2025-03-05T18:54:25.187Z"
   },
   {
    "duration": 20,
    "start_time": "2025-03-05T18:54:25.227Z"
   },
   {
    "duration": 116,
    "start_time": "2025-03-05T18:54:25.249Z"
   },
   {
    "duration": 8,
    "start_time": "2025-03-05T18:54:25.367Z"
   },
   {
    "duration": 34,
    "start_time": "2025-03-05T18:54:25.377Z"
   },
   {
    "duration": 206,
    "start_time": "2025-03-05T18:54:25.412Z"
   },
   {
    "duration": 0,
    "start_time": "2025-03-05T18:54:25.619Z"
   },
   {
    "duration": 43,
    "start_time": "2025-03-05T18:59:45.346Z"
   },
   {
    "duration": 5,
    "start_time": "2025-03-05T18:59:46.920Z"
   },
   {
    "duration": 10,
    "start_time": "2025-03-05T18:59:54.944Z"
   },
   {
    "duration": 14,
    "start_time": "2025-03-05T19:10:40.855Z"
   },
   {
    "duration": 43,
    "start_time": "2025-03-05T19:12:08.140Z"
   },
   {
    "duration": 18,
    "start_time": "2025-03-05T19:12:25.402Z"
   },
   {
    "duration": 33,
    "start_time": "2025-03-05T19:12:48.699Z"
   },
   {
    "duration": 30,
    "start_time": "2025-03-05T19:14:28.592Z"
   },
   {
    "duration": 31,
    "start_time": "2025-03-05T19:20:10.449Z"
   },
   {
    "duration": 10,
    "start_time": "2025-03-05T19:21:57.191Z"
   },
   {
    "duration": 15,
    "start_time": "2025-03-05T19:22:13.124Z"
   },
   {
    "duration": 130,
    "start_time": "2025-03-05T19:22:23.410Z"
   },
   {
    "duration": 22,
    "start_time": "2025-03-05T19:22:51.705Z"
   },
   {
    "duration": 159,
    "start_time": "2025-03-05T19:22:54.506Z"
   },
   {
    "duration": 15,
    "start_time": "2025-03-05T19:23:07.908Z"
   },
   {
    "duration": 169,
    "start_time": "2025-03-05T19:23:08.573Z"
   },
   {
    "duration": 34,
    "start_time": "2025-03-05T19:24:22.204Z"
   },
   {
    "duration": 32,
    "start_time": "2025-03-05T19:32:07.954Z"
   },
   {
    "duration": 48,
    "start_time": "2025-03-06T05:33:56.325Z"
   },
   {
    "duration": 3319,
    "start_time": "2025-03-06T05:34:01.061Z"
   },
   {
    "duration": 1339,
    "start_time": "2025-03-06T05:34:04.382Z"
   },
   {
    "duration": 3,
    "start_time": "2025-03-06T05:34:05.723Z"
   },
   {
    "duration": 2201,
    "start_time": "2025-03-06T05:34:05.727Z"
   },
   {
    "duration": 135,
    "start_time": "2025-03-06T05:34:07.930Z"
   },
   {
    "duration": 12,
    "start_time": "2025-03-06T05:34:08.067Z"
   },
   {
    "duration": 45,
    "start_time": "2025-03-06T05:34:08.080Z"
   },
   {
    "duration": 27,
    "start_time": "2025-03-06T05:34:08.127Z"
   },
   {
    "duration": 113,
    "start_time": "2025-03-06T05:34:08.155Z"
   },
   {
    "duration": 3,
    "start_time": "2025-03-06T05:34:08.270Z"
   },
   {
    "duration": 15,
    "start_time": "2025-03-06T05:34:08.274Z"
   },
   {
    "duration": 7,
    "start_time": "2025-03-06T05:34:08.291Z"
   },
   {
    "duration": 8,
    "start_time": "2025-03-06T05:34:08.300Z"
   },
   {
    "duration": 56,
    "start_time": "2025-03-06T05:34:08.310Z"
   },
   {
    "duration": 7,
    "start_time": "2025-03-06T05:34:08.368Z"
   },
   {
    "duration": 26,
    "start_time": "2025-03-06T05:34:08.377Z"
   },
   {
    "duration": 8,
    "start_time": "2025-03-06T05:34:08.404Z"
   },
   {
    "duration": 44,
    "start_time": "2025-03-06T05:34:08.414Z"
   },
   {
    "duration": 74,
    "start_time": "2025-03-06T05:34:08.459Z"
   },
   {
    "duration": 5,
    "start_time": "2025-03-06T05:34:08.535Z"
   },
   {
    "duration": 66,
    "start_time": "2025-03-06T05:34:08.542Z"
   },
   {
    "duration": 5,
    "start_time": "2025-03-06T05:34:08.610Z"
   },
   {
    "duration": 49,
    "start_time": "2025-03-06T05:34:08.617Z"
   },
   {
    "duration": 62,
    "start_time": "2025-03-06T05:34:08.668Z"
   },
   {
    "duration": 61,
    "start_time": "2025-03-06T05:34:08.731Z"
   },
   {
    "duration": 5,
    "start_time": "2025-03-06T05:34:08.794Z"
   },
   {
    "duration": 21,
    "start_time": "2025-03-06T05:34:08.801Z"
   },
   {
    "duration": 5,
    "start_time": "2025-03-06T05:34:08.823Z"
   },
   {
    "duration": 37,
    "start_time": "2025-03-06T05:34:08.830Z"
   },
   {
    "duration": 6,
    "start_time": "2025-03-06T05:34:08.869Z"
   },
   {
    "duration": 93,
    "start_time": "2025-03-06T05:34:08.877Z"
   },
   {
    "duration": 23,
    "start_time": "2025-03-06T05:34:08.973Z"
   },
   {
    "duration": 171,
    "start_time": "2025-03-06T05:34:08.998Z"
   },
   {
    "duration": 38,
    "start_time": "2025-03-06T05:34:09.171Z"
   },
   {
    "duration": 116,
    "start_time": "2025-03-06T05:34:09.211Z"
   },
   {
    "duration": 166,
    "start_time": "2025-03-06T05:34:35.271Z"
   },
   {
    "duration": 194,
    "start_time": "2025-03-06T05:55:57.739Z"
   },
   {
    "duration": 303,
    "start_time": "2025-03-06T06:01:46.125Z"
   },
   {
    "duration": 279,
    "start_time": "2025-03-06T06:03:34.090Z"
   },
   {
    "duration": 366,
    "start_time": "2025-03-06T06:04:24.031Z"
   },
   {
    "duration": 39,
    "start_time": "2025-03-06T06:06:40.739Z"
   },
   {
    "duration": 25,
    "start_time": "2025-03-06T06:06:58.267Z"
   },
   {
    "duration": 293,
    "start_time": "2025-03-06T06:11:07.974Z"
   },
   {
    "duration": 13,
    "start_time": "2025-03-06T06:28:10.068Z"
   },
   {
    "duration": 19,
    "start_time": "2025-03-06T06:28:52.906Z"
   },
   {
    "duration": 22,
    "start_time": "2025-03-06T06:29:01.765Z"
   },
   {
    "duration": 53,
    "start_time": "2025-03-06T06:32:04.659Z"
   },
   {
    "duration": 80,
    "start_time": "2025-03-06T06:33:50.751Z"
   },
   {
    "duration": 353,
    "start_time": "2025-03-06T06:41:36.169Z"
   },
   {
    "duration": 59,
    "start_time": "2025-03-06T06:42:08.913Z"
   },
   {
    "duration": 16,
    "start_time": "2025-03-06T06:42:21.612Z"
   },
   {
    "duration": 322,
    "start_time": "2025-03-06T06:44:16.894Z"
   },
   {
    "duration": 54,
    "start_time": "2025-03-06T06:49:02.761Z"
   },
   {
    "duration": 175,
    "start_time": "2025-03-06T06:58:30.195Z"
   },
   {
    "duration": 17,
    "start_time": "2025-03-06T06:58:40.626Z"
   },
   {
    "duration": 1368,
    "start_time": "2025-03-06T07:00:05.845Z"
   },
   {
    "duration": 19,
    "start_time": "2025-03-06T07:00:07.668Z"
   },
   {
    "duration": 157,
    "start_time": "2025-03-06T07:00:36.544Z"
   },
   {
    "duration": 19,
    "start_time": "2025-03-06T07:00:38.535Z"
   },
   {
    "duration": 160,
    "start_time": "2025-03-06T07:04:48.411Z"
   },
   {
    "duration": 20,
    "start_time": "2025-03-06T07:04:50.802Z"
   },
   {
    "duration": 15,
    "start_time": "2025-03-06T07:05:57.595Z"
   },
   {
    "duration": 14,
    "start_time": "2025-03-06T07:06:02.770Z"
   },
   {
    "duration": 13,
    "start_time": "2025-03-06T07:06:09.312Z"
   },
   {
    "duration": 20,
    "start_time": "2025-03-06T07:06:15.094Z"
   },
   {
    "duration": 20,
    "start_time": "2025-03-06T07:06:19.447Z"
   },
   {
    "duration": 12,
    "start_time": "2025-03-06T07:06:38.274Z"
   },
   {
    "duration": 2476,
    "start_time": "2025-03-06T07:07:10.205Z"
   },
   {
    "duration": 1236,
    "start_time": "2025-03-06T07:07:12.684Z"
   },
   {
    "duration": 3,
    "start_time": "2025-03-06T07:07:13.922Z"
   },
   {
    "duration": 2094,
    "start_time": "2025-03-06T07:07:13.927Z"
   },
   {
    "duration": 152,
    "start_time": "2025-03-06T07:07:16.023Z"
   },
   {
    "duration": 12,
    "start_time": "2025-03-06T07:07:16.176Z"
   },
   {
    "duration": 98,
    "start_time": "2025-03-06T07:07:16.189Z"
   },
   {
    "duration": 27,
    "start_time": "2025-03-06T07:07:16.289Z"
   },
   {
    "duration": 199,
    "start_time": "2025-03-06T07:07:16.317Z"
   },
   {
    "duration": 4,
    "start_time": "2025-03-06T07:07:16.518Z"
   },
   {
    "duration": 4,
    "start_time": "2025-03-06T07:07:16.523Z"
   },
   {
    "duration": 6,
    "start_time": "2025-03-06T07:07:16.529Z"
   },
   {
    "duration": 10,
    "start_time": "2025-03-06T07:07:16.557Z"
   },
   {
    "duration": 60,
    "start_time": "2025-03-06T07:07:16.569Z"
   },
   {
    "duration": 7,
    "start_time": "2025-03-06T07:07:16.631Z"
   },
   {
    "duration": 34,
    "start_time": "2025-03-06T07:07:16.640Z"
   },
   {
    "duration": 7,
    "start_time": "2025-03-06T07:07:16.675Z"
   },
   {
    "duration": 26,
    "start_time": "2025-03-06T07:07:16.683Z"
   },
   {
    "duration": 108,
    "start_time": "2025-03-06T07:07:16.711Z"
   },
   {
    "duration": 7,
    "start_time": "2025-03-06T07:07:16.821Z"
   },
   {
    "duration": 88,
    "start_time": "2025-03-06T07:07:16.830Z"
   },
   {
    "duration": 8,
    "start_time": "2025-03-06T07:07:16.920Z"
   },
   {
    "duration": 59,
    "start_time": "2025-03-06T07:07:16.930Z"
   },
   {
    "duration": 69,
    "start_time": "2025-03-06T07:07:16.990Z"
   },
   {
    "duration": 50,
    "start_time": "2025-03-06T07:07:17.060Z"
   },
   {
    "duration": 6,
    "start_time": "2025-03-06T07:07:17.111Z"
   },
   {
    "duration": 45,
    "start_time": "2025-03-06T07:07:17.118Z"
   },
   {
    "duration": 12,
    "start_time": "2025-03-06T07:07:17.167Z"
   },
   {
    "duration": 69,
    "start_time": "2025-03-06T07:07:17.180Z"
   },
   {
    "duration": 7,
    "start_time": "2025-03-06T07:07:17.251Z"
   },
   {
    "duration": 16,
    "start_time": "2025-03-06T07:07:17.260Z"
   },
   {
    "duration": 39,
    "start_time": "2025-03-06T07:07:17.277Z"
   },
   {
    "duration": 45,
    "start_time": "2025-03-06T07:07:17.318Z"
   },
   {
    "duration": 325,
    "start_time": "2025-03-06T07:07:17.364Z"
   },
   {
    "duration": 13,
    "start_time": "2025-03-06T07:07:17.690Z"
   },
   {
    "duration": 22,
    "start_time": "2025-03-06T07:07:17.705Z"
   },
   {
    "duration": 54,
    "start_time": "2025-03-06T07:07:17.728Z"
   },
   {
    "duration": 523,
    "start_time": "2025-03-06T07:07:17.784Z"
   },
   {
    "duration": 0,
    "start_time": "2025-03-06T07:07:18.309Z"
   },
   {
    "duration": 0,
    "start_time": "2025-03-06T07:07:18.310Z"
   },
   {
    "duration": 0,
    "start_time": "2025-03-06T07:07:18.311Z"
   },
   {
    "duration": 14,
    "start_time": "2025-03-06T07:07:54.164Z"
   },
   {
    "duration": 154,
    "start_time": "2025-03-06T07:07:56.711Z"
   },
   {
    "duration": 19,
    "start_time": "2025-03-06T07:07:58.541Z"
   },
   {
    "duration": 1340,
    "start_time": "2025-03-06T07:09:00.087Z"
   },
   {
    "duration": 20,
    "start_time": "2025-03-06T07:09:03.574Z"
   },
   {
    "duration": 2422,
    "start_time": "2025-03-06T07:09:17.343Z"
   },
   {
    "duration": 1256,
    "start_time": "2025-03-06T07:09:19.767Z"
   },
   {
    "duration": 3,
    "start_time": "2025-03-06T07:09:21.025Z"
   },
   {
    "duration": 1802,
    "start_time": "2025-03-06T07:09:21.030Z"
   },
   {
    "duration": 140,
    "start_time": "2025-03-06T07:09:22.834Z"
   },
   {
    "duration": 12,
    "start_time": "2025-03-06T07:09:22.975Z"
   },
   {
    "duration": 11,
    "start_time": "2025-03-06T07:09:22.988Z"
   },
   {
    "duration": 23,
    "start_time": "2025-03-06T07:09:23.000Z"
   },
   {
    "duration": 136,
    "start_time": "2025-03-06T07:09:23.025Z"
   },
   {
    "duration": 3,
    "start_time": "2025-03-06T07:09:23.164Z"
   },
   {
    "duration": 76,
    "start_time": "2025-03-06T07:09:23.168Z"
   },
   {
    "duration": 7,
    "start_time": "2025-03-06T07:09:23.246Z"
   },
   {
    "duration": 10,
    "start_time": "2025-03-06T07:09:23.255Z"
   },
   {
    "duration": 40,
    "start_time": "2025-03-06T07:09:23.266Z"
   },
   {
    "duration": 8,
    "start_time": "2025-03-06T07:09:23.308Z"
   },
   {
    "duration": 44,
    "start_time": "2025-03-06T07:09:23.317Z"
   },
   {
    "duration": 7,
    "start_time": "2025-03-06T07:09:23.363Z"
   },
   {
    "duration": 90,
    "start_time": "2025-03-06T07:09:23.372Z"
   },
   {
    "duration": 74,
    "start_time": "2025-03-06T07:09:23.464Z"
   },
   {
    "duration": 18,
    "start_time": "2025-03-06T07:09:23.540Z"
   },
   {
    "duration": 9,
    "start_time": "2025-03-06T07:09:23.559Z"
   },
   {
    "duration": 20,
    "start_time": "2025-03-06T07:09:23.570Z"
   },
   {
    "duration": 66,
    "start_time": "2025-03-06T07:09:23.592Z"
   },
   {
    "duration": 63,
    "start_time": "2025-03-06T07:09:23.660Z"
   },
   {
    "duration": 62,
    "start_time": "2025-03-06T07:09:23.725Z"
   },
   {
    "duration": 6,
    "start_time": "2025-03-06T07:09:23.788Z"
   },
   {
    "duration": 33,
    "start_time": "2025-03-06T07:09:23.795Z"
   },
   {
    "duration": 4,
    "start_time": "2025-03-06T07:09:23.832Z"
   },
   {
    "duration": 33,
    "start_time": "2025-03-06T07:09:23.838Z"
   },
   {
    "duration": 9,
    "start_time": "2025-03-06T07:09:23.873Z"
   },
   {
    "duration": 18,
    "start_time": "2025-03-06T07:09:23.883Z"
   },
   {
    "duration": 27,
    "start_time": "2025-03-06T07:09:23.903Z"
   },
   {
    "duration": 61,
    "start_time": "2025-03-06T07:09:23.931Z"
   },
   {
    "duration": 305,
    "start_time": "2025-03-06T07:09:23.994Z"
   },
   {
    "duration": 14,
    "start_time": "2025-03-06T07:09:24.300Z"
   },
   {
    "duration": 43,
    "start_time": "2025-03-06T07:09:24.315Z"
   },
   {
    "duration": 111,
    "start_time": "2025-03-06T07:09:24.360Z"
   },
   {
    "duration": 13,
    "start_time": "2025-03-06T07:09:24.472Z"
   },
   {
    "duration": 155,
    "start_time": "2025-03-06T07:09:24.487Z"
   },
   {
    "duration": 22,
    "start_time": "2025-03-06T07:09:24.643Z"
   },
   {
    "duration": 2447,
    "start_time": "2025-03-06T07:13:52.216Z"
   },
   {
    "duration": 1268,
    "start_time": "2025-03-06T07:13:54.666Z"
   },
   {
    "duration": 3,
    "start_time": "2025-03-06T07:13:55.935Z"
   },
   {
    "duration": 1887,
    "start_time": "2025-03-06T07:13:55.940Z"
   },
   {
    "duration": 655,
    "start_time": "2025-03-06T07:13:57.829Z"
   },
   {
    "duration": 12,
    "start_time": "2025-03-06T07:13:58.486Z"
   },
   {
    "duration": 11,
    "start_time": "2025-03-06T07:13:58.500Z"
   },
   {
    "duration": 25,
    "start_time": "2025-03-06T07:13:58.512Z"
   },
   {
    "duration": 113,
    "start_time": "2025-03-06T07:13:58.538Z"
   },
   {
    "duration": 3,
    "start_time": "2025-03-06T07:13:58.658Z"
   },
   {
    "duration": 4,
    "start_time": "2025-03-06T07:13:58.663Z"
   },
   {
    "duration": 6,
    "start_time": "2025-03-06T07:13:58.669Z"
   },
   {
    "duration": 9,
    "start_time": "2025-03-06T07:13:58.677Z"
   },
   {
    "duration": 77,
    "start_time": "2025-03-06T07:13:58.688Z"
   },
   {
    "duration": 8,
    "start_time": "2025-03-06T07:13:58.766Z"
   },
   {
    "duration": 21,
    "start_time": "2025-03-06T07:13:58.776Z"
   },
   {
    "duration": 8,
    "start_time": "2025-03-06T07:13:58.799Z"
   },
   {
    "duration": 59,
    "start_time": "2025-03-06T07:13:58.809Z"
   },
   {
    "duration": 88,
    "start_time": "2025-03-06T07:13:58.870Z"
   },
   {
    "duration": 7,
    "start_time": "2025-03-06T07:13:58.959Z"
   },
   {
    "duration": 8,
    "start_time": "2025-03-06T07:13:58.967Z"
   },
   {
    "duration": 7,
    "start_time": "2025-03-06T07:13:58.977Z"
   },
   {
    "duration": 73,
    "start_time": "2025-03-06T07:13:58.985Z"
   },
   {
    "duration": 59,
    "start_time": "2025-03-06T07:13:59.060Z"
   },
   {
    "duration": 62,
    "start_time": "2025-03-06T07:13:59.120Z"
   },
   {
    "duration": 6,
    "start_time": "2025-03-06T07:13:59.185Z"
   },
   {
    "duration": 93,
    "start_time": "2025-03-06T07:13:59.193Z"
   },
   {
    "duration": 6,
    "start_time": "2025-03-06T07:13:59.290Z"
   },
   {
    "duration": 16,
    "start_time": "2025-03-06T07:13:59.298Z"
   },
   {
    "duration": 5,
    "start_time": "2025-03-06T07:13:59.316Z"
   },
   {
    "duration": 38,
    "start_time": "2025-03-06T07:13:59.323Z"
   },
   {
    "duration": 27,
    "start_time": "2025-03-06T07:13:59.363Z"
   },
   {
    "duration": 100,
    "start_time": "2025-03-06T07:13:59.392Z"
   },
   {
    "duration": 307,
    "start_time": "2025-03-06T07:13:59.494Z"
   },
   {
    "duration": 13,
    "start_time": "2025-03-06T07:13:59.803Z"
   },
   {
    "duration": 51,
    "start_time": "2025-03-06T07:13:59.818Z"
   },
   {
    "duration": 12,
    "start_time": "2025-03-06T07:13:59.871Z"
   },
   {
    "duration": 176,
    "start_time": "2025-03-06T07:13:59.885Z"
   },
   {
    "duration": 17,
    "start_time": "2025-03-06T07:14:00.062Z"
   },
   {
    "duration": 11,
    "start_time": "2025-03-06T07:20:57.058Z"
   },
   {
    "duration": 142,
    "start_time": "2025-03-06T07:22:10.756Z"
   },
   {
    "duration": 97,
    "start_time": "2025-03-06T07:24:24.897Z"
   },
   {
    "duration": 26,
    "start_time": "2025-03-06T07:24:34.524Z"
   },
   {
    "duration": 72,
    "start_time": "2025-03-06T07:30:00.531Z"
   },
   {
    "duration": 35,
    "start_time": "2025-03-06T07:30:12.267Z"
   },
   {
    "duration": 35,
    "start_time": "2025-03-06T07:39:10.799Z"
   },
   {
    "duration": 35,
    "start_time": "2025-03-06T07:39:17.753Z"
   },
   {
    "duration": 16,
    "start_time": "2025-03-06T07:50:43.450Z"
   },
   {
    "duration": 175,
    "start_time": "2025-03-06T07:50:59.441Z"
   },
   {
    "duration": 71,
    "start_time": "2025-03-06T11:11:15.557Z"
   },
   {
    "duration": 1119,
    "start_time": "2025-03-06T11:16:37.198Z"
   },
   {
    "duration": 25,
    "start_time": "2025-03-06T11:16:47.601Z"
   },
   {
    "duration": 8,
    "start_time": "2025-03-06T11:17:30.824Z"
   },
   {
    "duration": 5,
    "start_time": "2025-03-06T11:22:20.086Z"
   },
   {
    "duration": 5,
    "start_time": "2025-03-06T11:24:18.909Z"
   },
   {
    "duration": 4,
    "start_time": "2025-03-06T11:24:32.083Z"
   },
   {
    "duration": 20,
    "start_time": "2025-03-06T11:45:21.304Z"
   },
   {
    "duration": 19,
    "start_time": "2025-03-06T11:45:56.710Z"
   },
   {
    "duration": 4,
    "start_time": "2025-03-06T11:46:25.749Z"
   },
   {
    "duration": 4,
    "start_time": "2025-03-06T11:46:44.109Z"
   },
   {
    "duration": 5,
    "start_time": "2025-03-06T11:46:44.613Z"
   },
   {
    "duration": 19,
    "start_time": "2025-03-06T11:46:46.285Z"
   },
   {
    "duration": 5,
    "start_time": "2025-03-06T11:46:46.709Z"
   },
   {
    "duration": 5,
    "start_time": "2025-03-06T11:47:38.648Z"
   },
   {
    "duration": 20,
    "start_time": "2025-03-06T11:49:48.410Z"
   },
   {
    "duration": 20,
    "start_time": "2025-03-06T11:50:13.859Z"
   },
   {
    "duration": 9,
    "start_time": "2025-03-06T11:51:05.088Z"
   },
   {
    "duration": 5,
    "start_time": "2025-03-06T11:51:15.839Z"
   },
   {
    "duration": 7,
    "start_time": "2025-03-06T11:51:16.747Z"
   },
   {
    "duration": 34,
    "start_time": "2025-03-06T11:52:51.288Z"
   },
   {
    "duration": 53,
    "start_time": "2025-03-06T11:53:53.181Z"
   },
   {
    "duration": 13,
    "start_time": "2025-03-06T11:54:11.094Z"
   },
   {
    "duration": 5,
    "start_time": "2025-03-06T11:54:32.445Z"
   },
   {
    "duration": 19,
    "start_time": "2025-03-06T11:59:59.280Z"
   },
   {
    "duration": 8,
    "start_time": "2025-03-06T12:56:57.697Z"
   },
   {
    "duration": 29,
    "start_time": "2025-03-06T12:57:08.214Z"
   },
   {
    "duration": 9,
    "start_time": "2025-03-06T12:57:37.223Z"
   },
   {
    "duration": 9,
    "start_time": "2025-03-06T12:58:00.865Z"
   },
   {
    "duration": 42,
    "start_time": "2025-03-06T12:58:24.021Z"
   },
   {
    "duration": 7,
    "start_time": "2025-03-06T12:58:41.734Z"
   },
   {
    "duration": 3278,
    "start_time": "2025-03-06T18:48:26.080Z"
   },
   {
    "duration": 1365,
    "start_time": "2025-03-06T18:48:29.361Z"
   },
   {
    "duration": 3,
    "start_time": "2025-03-06T18:48:30.728Z"
   },
   {
    "duration": 2268,
    "start_time": "2025-03-06T18:48:30.732Z"
   },
   {
    "duration": 183,
    "start_time": "2025-03-06T18:48:33.002Z"
   },
   {
    "duration": 13,
    "start_time": "2025-03-06T18:48:33.186Z"
   },
   {
    "duration": 26,
    "start_time": "2025-03-06T18:48:33.200Z"
   },
   {
    "duration": 51,
    "start_time": "2025-03-06T18:48:33.228Z"
   },
   {
    "duration": 147,
    "start_time": "2025-03-06T18:48:33.282Z"
   },
   {
    "duration": 3,
    "start_time": "2025-03-06T18:48:33.431Z"
   },
   {
    "duration": 39,
    "start_time": "2025-03-06T18:48:33.435Z"
   },
   {
    "duration": 131,
    "start_time": "2025-03-06T18:48:33.475Z"
   },
   {
    "duration": 0,
    "start_time": "2025-03-06T18:48:33.609Z"
   },
   {
    "duration": 0,
    "start_time": "2025-03-06T18:48:33.611Z"
   },
   {
    "duration": 0,
    "start_time": "2025-03-06T18:48:33.612Z"
   },
   {
    "duration": 0,
    "start_time": "2025-03-06T18:48:33.614Z"
   },
   {
    "duration": 0,
    "start_time": "2025-03-06T18:48:33.615Z"
   },
   {
    "duration": 0,
    "start_time": "2025-03-06T18:48:33.616Z"
   },
   {
    "duration": 0,
    "start_time": "2025-03-06T18:48:33.618Z"
   },
   {
    "duration": 0,
    "start_time": "2025-03-06T18:48:33.619Z"
   },
   {
    "duration": 0,
    "start_time": "2025-03-06T18:48:33.621Z"
   },
   {
    "duration": 0,
    "start_time": "2025-03-06T18:48:33.622Z"
   },
   {
    "duration": 0,
    "start_time": "2025-03-06T18:48:33.624Z"
   },
   {
    "duration": 0,
    "start_time": "2025-03-06T18:48:33.625Z"
   },
   {
    "duration": 0,
    "start_time": "2025-03-06T18:48:33.626Z"
   },
   {
    "duration": 0,
    "start_time": "2025-03-06T18:48:33.628Z"
   },
   {
    "duration": 0,
    "start_time": "2025-03-06T18:48:33.671Z"
   },
   {
    "duration": 0,
    "start_time": "2025-03-06T18:48:33.673Z"
   },
   {
    "duration": 0,
    "start_time": "2025-03-06T18:48:33.674Z"
   },
   {
    "duration": 0,
    "start_time": "2025-03-06T18:48:33.676Z"
   },
   {
    "duration": 0,
    "start_time": "2025-03-06T18:48:33.677Z"
   },
   {
    "duration": 0,
    "start_time": "2025-03-06T18:48:33.679Z"
   },
   {
    "duration": 0,
    "start_time": "2025-03-06T18:48:33.680Z"
   },
   {
    "duration": 0,
    "start_time": "2025-03-06T18:48:33.681Z"
   },
   {
    "duration": 0,
    "start_time": "2025-03-06T18:48:33.683Z"
   },
   {
    "duration": 0,
    "start_time": "2025-03-06T18:48:33.685Z"
   },
   {
    "duration": 0,
    "start_time": "2025-03-06T18:48:33.687Z"
   },
   {
    "duration": 0,
    "start_time": "2025-03-06T18:48:33.688Z"
   },
   {
    "duration": 0,
    "start_time": "2025-03-06T18:48:33.690Z"
   },
   {
    "duration": 0,
    "start_time": "2025-03-06T18:48:33.692Z"
   },
   {
    "duration": 0,
    "start_time": "2025-03-06T18:48:33.694Z"
   },
   {
    "duration": 0,
    "start_time": "2025-03-06T18:48:33.696Z"
   },
   {
    "duration": 0,
    "start_time": "2025-03-06T18:48:33.698Z"
   },
   {
    "duration": 0,
    "start_time": "2025-03-06T18:48:33.699Z"
   },
   {
    "duration": 0,
    "start_time": "2025-03-06T18:48:33.702Z"
   },
   {
    "duration": 1,
    "start_time": "2025-03-06T18:48:33.703Z"
   },
   {
    "duration": 0,
    "start_time": "2025-03-06T18:48:33.705Z"
   },
   {
    "duration": 0,
    "start_time": "2025-03-06T18:48:33.706Z"
   },
   {
    "duration": 0,
    "start_time": "2025-03-06T18:48:33.708Z"
   },
   {
    "duration": 0,
    "start_time": "2025-03-06T18:48:33.762Z"
   },
   {
    "duration": 0,
    "start_time": "2025-03-06T18:48:33.764Z"
   },
   {
    "duration": 0,
    "start_time": "2025-03-06T18:48:33.766Z"
   },
   {
    "duration": 0,
    "start_time": "2025-03-06T18:48:33.767Z"
   },
   {
    "duration": 0,
    "start_time": "2025-03-06T18:48:33.769Z"
   },
   {
    "duration": 10,
    "start_time": "2025-03-06T18:49:22.925Z"
   },
   {
    "duration": 10,
    "start_time": "2025-03-06T18:49:58.878Z"
   },
   {
    "duration": 4,
    "start_time": "2025-03-06T18:50:00.158Z"
   },
   {
    "duration": 10,
    "start_time": "2025-03-06T18:50:01.421Z"
   },
   {
    "duration": 9,
    "start_time": "2025-03-06T18:50:22.723Z"
   },
   {
    "duration": 2426,
    "start_time": "2025-03-06T18:50:29.437Z"
   },
   {
    "duration": 1263,
    "start_time": "2025-03-06T18:50:31.866Z"
   },
   {
    "duration": 3,
    "start_time": "2025-03-06T18:50:33.131Z"
   },
   {
    "duration": 1865,
    "start_time": "2025-03-06T18:50:33.136Z"
   },
   {
    "duration": 141,
    "start_time": "2025-03-06T18:50:35.003Z"
   },
   {
    "duration": 11,
    "start_time": "2025-03-06T18:50:35.146Z"
   },
   {
    "duration": 22,
    "start_time": "2025-03-06T18:50:35.159Z"
   },
   {
    "duration": 48,
    "start_time": "2025-03-06T18:50:35.182Z"
   },
   {
    "duration": 112,
    "start_time": "2025-03-06T18:50:35.232Z"
   },
   {
    "duration": 110,
    "start_time": "2025-03-06T18:50:35.346Z"
   },
   {
    "duration": 0,
    "start_time": "2025-03-06T18:50:35.458Z"
   },
   {
    "duration": 0,
    "start_time": "2025-03-06T18:50:35.462Z"
   },
   {
    "duration": 0,
    "start_time": "2025-03-06T18:50:35.463Z"
   },
   {
    "duration": 0,
    "start_time": "2025-03-06T18:50:35.464Z"
   },
   {
    "duration": 0,
    "start_time": "2025-03-06T18:50:35.466Z"
   },
   {
    "duration": 0,
    "start_time": "2025-03-06T18:50:35.467Z"
   },
   {
    "duration": 0,
    "start_time": "2025-03-06T18:50:35.468Z"
   },
   {
    "duration": 0,
    "start_time": "2025-03-06T18:50:35.469Z"
   },
   {
    "duration": 0,
    "start_time": "2025-03-06T18:50:35.470Z"
   },
   {
    "duration": 0,
    "start_time": "2025-03-06T18:50:35.471Z"
   },
   {
    "duration": 0,
    "start_time": "2025-03-06T18:50:35.473Z"
   },
   {
    "duration": 0,
    "start_time": "2025-03-06T18:50:35.475Z"
   },
   {
    "duration": 0,
    "start_time": "2025-03-06T18:50:35.477Z"
   },
   {
    "duration": 0,
    "start_time": "2025-03-06T18:50:35.478Z"
   },
   {
    "duration": 0,
    "start_time": "2025-03-06T18:50:35.479Z"
   },
   {
    "duration": 0,
    "start_time": "2025-03-06T18:50:35.481Z"
   },
   {
    "duration": 0,
    "start_time": "2025-03-06T18:50:35.484Z"
   },
   {
    "duration": 0,
    "start_time": "2025-03-06T18:50:35.486Z"
   },
   {
    "duration": 0,
    "start_time": "2025-03-06T18:50:35.487Z"
   },
   {
    "duration": 0,
    "start_time": "2025-03-06T18:50:35.489Z"
   },
   {
    "duration": 0,
    "start_time": "2025-03-06T18:50:35.491Z"
   },
   {
    "duration": 0,
    "start_time": "2025-03-06T18:50:35.493Z"
   },
   {
    "duration": 0,
    "start_time": "2025-03-06T18:50:35.495Z"
   },
   {
    "duration": 0,
    "start_time": "2025-03-06T18:50:35.497Z"
   },
   {
    "duration": 0,
    "start_time": "2025-03-06T18:50:35.499Z"
   },
   {
    "duration": 0,
    "start_time": "2025-03-06T18:50:35.501Z"
   },
   {
    "duration": 0,
    "start_time": "2025-03-06T18:50:35.563Z"
   },
   {
    "duration": 0,
    "start_time": "2025-03-06T18:50:35.565Z"
   },
   {
    "duration": 0,
    "start_time": "2025-03-06T18:50:35.566Z"
   },
   {
    "duration": 0,
    "start_time": "2025-03-06T18:50:35.567Z"
   },
   {
    "duration": 0,
    "start_time": "2025-03-06T18:50:35.568Z"
   },
   {
    "duration": 0,
    "start_time": "2025-03-06T18:50:35.569Z"
   },
   {
    "duration": 0,
    "start_time": "2025-03-06T18:50:35.570Z"
   },
   {
    "duration": 0,
    "start_time": "2025-03-06T18:50:35.571Z"
   },
   {
    "duration": 0,
    "start_time": "2025-03-06T18:50:35.573Z"
   },
   {
    "duration": 0,
    "start_time": "2025-03-06T18:50:35.574Z"
   },
   {
    "duration": 0,
    "start_time": "2025-03-06T18:50:35.575Z"
   },
   {
    "duration": 0,
    "start_time": "2025-03-06T18:50:35.576Z"
   },
   {
    "duration": 0,
    "start_time": "2025-03-06T18:50:35.577Z"
   },
   {
    "duration": 0,
    "start_time": "2025-03-06T18:50:35.578Z"
   },
   {
    "duration": 0,
    "start_time": "2025-03-06T18:50:35.580Z"
   },
   {
    "duration": 0,
    "start_time": "2025-03-06T18:50:35.580Z"
   },
   {
    "duration": 0,
    "start_time": "2025-03-06T18:50:35.581Z"
   },
   {
    "duration": 0,
    "start_time": "2025-03-06T18:50:35.582Z"
   },
   {
    "duration": 3,
    "start_time": "2025-03-06T18:51:23.057Z"
   },
   {
    "duration": 4,
    "start_time": "2025-03-06T18:51:24.234Z"
   },
   {
    "duration": 9,
    "start_time": "2025-03-06T18:51:49.379Z"
   },
   {
    "duration": 4,
    "start_time": "2025-03-06T18:52:07.693Z"
   },
   {
    "duration": 5,
    "start_time": "2025-03-06T18:52:09.431Z"
   },
   {
    "duration": 4,
    "start_time": "2025-03-06T18:52:24.268Z"
   },
   {
    "duration": 11,
    "start_time": "2025-03-06T18:52:25.771Z"
   },
   {
    "duration": 2520,
    "start_time": "2025-03-06T18:52:32.752Z"
   },
   {
    "duration": 1349,
    "start_time": "2025-03-06T18:52:35.275Z"
   },
   {
    "duration": 2,
    "start_time": "2025-03-06T18:52:36.626Z"
   },
   {
    "duration": 1856,
    "start_time": "2025-03-06T18:52:36.630Z"
   },
   {
    "duration": 177,
    "start_time": "2025-03-06T18:52:38.488Z"
   },
   {
    "duration": 13,
    "start_time": "2025-03-06T18:52:38.667Z"
   },
   {
    "duration": 44,
    "start_time": "2025-03-06T18:52:38.682Z"
   },
   {
    "duration": 25,
    "start_time": "2025-03-06T18:52:38.728Z"
   },
   {
    "duration": 119,
    "start_time": "2025-03-06T18:52:38.755Z"
   },
   {
    "duration": 4,
    "start_time": "2025-03-06T18:52:38.875Z"
   },
   {
    "duration": 20,
    "start_time": "2025-03-06T18:52:38.881Z"
   },
   {
    "duration": 90,
    "start_time": "2025-03-06T18:52:38.903Z"
   },
   {
    "duration": 94,
    "start_time": "2025-03-06T18:52:38.995Z"
   },
   {
    "duration": 8,
    "start_time": "2025-03-06T18:52:39.092Z"
   },
   {
    "duration": 91,
    "start_time": "2025-03-06T18:52:39.101Z"
   },
   {
    "duration": 40,
    "start_time": "2025-03-06T18:52:39.194Z"
   },
   {
    "duration": 52,
    "start_time": "2025-03-06T18:52:39.236Z"
   },
   {
    "duration": 117,
    "start_time": "2025-03-06T18:52:39.290Z"
   },
   {
    "duration": 6,
    "start_time": "2025-03-06T18:52:39.409Z"
   },
   {
    "duration": 47,
    "start_time": "2025-03-06T18:52:39.417Z"
   },
   {
    "duration": 19,
    "start_time": "2025-03-06T18:52:39.466Z"
   },
   {
    "duration": 95,
    "start_time": "2025-03-06T18:52:39.487Z"
   },
   {
    "duration": 89,
    "start_time": "2025-03-06T18:52:39.583Z"
   },
   {
    "duration": 217,
    "start_time": "2025-03-06T18:52:39.674Z"
   },
   {
    "duration": 6,
    "start_time": "2025-03-06T18:52:39.893Z"
   },
   {
    "duration": 131,
    "start_time": "2025-03-06T18:52:39.901Z"
   },
   {
    "duration": 95,
    "start_time": "2025-03-06T18:52:40.034Z"
   },
   {
    "duration": 161,
    "start_time": "2025-03-06T18:52:40.130Z"
   },
   {
    "duration": 54,
    "start_time": "2025-03-06T18:52:40.293Z"
   },
   {
    "duration": 32,
    "start_time": "2025-03-06T18:52:40.350Z"
   },
   {
    "duration": 33,
    "start_time": "2025-03-06T18:52:40.384Z"
   },
   {
    "duration": 79,
    "start_time": "2025-03-06T18:52:40.421Z"
   },
   {
    "duration": 342,
    "start_time": "2025-03-06T18:52:40.503Z"
   },
   {
    "duration": 51,
    "start_time": "2025-03-06T18:52:40.847Z"
   },
   {
    "duration": 189,
    "start_time": "2025-03-06T18:52:40.900Z"
   },
   {
    "duration": 18,
    "start_time": "2025-03-06T18:52:41.091Z"
   },
   {
    "duration": 130,
    "start_time": "2025-03-06T18:52:41.111Z"
   },
   {
    "duration": 208,
    "start_time": "2025-03-06T18:52:41.243Z"
   },
   {
    "duration": 98,
    "start_time": "2025-03-06T18:52:41.453Z"
   },
   {
    "duration": 14,
    "start_time": "2025-03-06T18:52:41.553Z"
   },
   {
    "duration": 5,
    "start_time": "2025-03-06T18:52:41.571Z"
   },
   {
    "duration": 20,
    "start_time": "2025-03-06T18:52:41.578Z"
   },
   {
    "duration": 7,
    "start_time": "2025-03-06T18:52:41.600Z"
   },
   {
    "duration": 7,
    "start_time": "2025-03-06T18:52:41.609Z"
   },
   {
    "duration": 136,
    "start_time": "2025-03-06T18:52:41.618Z"
   },
   {
    "duration": 121,
    "start_time": "2025-03-06T18:52:41.756Z"
   },
   {
    "duration": 141,
    "start_time": "2025-03-06T18:52:41.880Z"
   },
   {
    "duration": 48,
    "start_time": "2025-03-06T18:52:42.023Z"
   },
   {
    "duration": 15,
    "start_time": "2025-03-06T18:52:42.073Z"
   },
   {
    "duration": 9,
    "start_time": "2025-03-06T18:52:42.090Z"
   },
   {
    "duration": 89,
    "start_time": "2025-03-06T18:52:42.101Z"
   },
   {
    "duration": 48,
    "start_time": "2025-03-06T18:52:42.191Z"
   },
   {
    "duration": 21,
    "start_time": "2025-03-06T18:52:42.241Z"
   },
   {
    "duration": 178,
    "start_time": "2025-03-06T18:55:57.061Z"
   },
   {
    "duration": 26,
    "start_time": "2025-03-06T19:10:37.057Z"
   },
   {
    "duration": 3,
    "start_time": "2025-03-06T19:21:51.267Z"
   },
   {
    "duration": 5,
    "start_time": "2025-03-06T19:21:51.888Z"
   },
   {
    "duration": 2427,
    "start_time": "2025-03-06T19:21:59.343Z"
   },
   {
    "duration": 1244,
    "start_time": "2025-03-06T19:22:01.773Z"
   },
   {
    "duration": 3,
    "start_time": "2025-03-06T19:22:03.019Z"
   },
   {
    "duration": 2441,
    "start_time": "2025-03-06T19:22:03.024Z"
   },
   {
    "duration": 178,
    "start_time": "2025-03-06T19:22:05.467Z"
   },
   {
    "duration": 38,
    "start_time": "2025-03-06T19:22:05.646Z"
   },
   {
    "duration": 69,
    "start_time": "2025-03-06T19:22:05.686Z"
   },
   {
    "duration": 395,
    "start_time": "2025-03-06T19:22:05.757Z"
   },
   {
    "duration": 135,
    "start_time": "2025-03-06T19:22:06.154Z"
   },
   {
    "duration": 4,
    "start_time": "2025-03-06T19:22:06.290Z"
   },
   {
    "duration": 17,
    "start_time": "2025-03-06T19:22:06.296Z"
   },
   {
    "duration": 21,
    "start_time": "2025-03-06T19:22:06.314Z"
   },
   {
    "duration": 62,
    "start_time": "2025-03-06T19:22:06.336Z"
   },
   {
    "duration": 7,
    "start_time": "2025-03-06T19:22:06.402Z"
   },
   {
    "duration": 47,
    "start_time": "2025-03-06T19:22:06.411Z"
   },
   {
    "duration": 15,
    "start_time": "2025-03-06T19:22:06.460Z"
   },
   {
    "duration": 26,
    "start_time": "2025-03-06T19:22:06.477Z"
   },
   {
    "duration": 81,
    "start_time": "2025-03-06T19:22:06.506Z"
   },
   {
    "duration": 7,
    "start_time": "2025-03-06T19:22:06.589Z"
   },
   {
    "duration": 26,
    "start_time": "2025-03-06T19:22:06.597Z"
   },
   {
    "duration": 59,
    "start_time": "2025-03-06T19:22:06.625Z"
   },
   {
    "duration": 66,
    "start_time": "2025-03-06T19:22:06.686Z"
   },
   {
    "duration": 122,
    "start_time": "2025-03-06T19:22:06.754Z"
   },
   {
    "duration": 51,
    "start_time": "2025-03-06T19:22:06.878Z"
   },
   {
    "duration": 40,
    "start_time": "2025-03-06T19:22:06.930Z"
   },
   {
    "duration": 25,
    "start_time": "2025-03-06T19:22:06.971Z"
   },
   {
    "duration": 66,
    "start_time": "2025-03-06T19:22:06.998Z"
   },
   {
    "duration": 50,
    "start_time": "2025-03-06T19:22:07.066Z"
   },
   {
    "duration": 49,
    "start_time": "2025-03-06T19:22:07.118Z"
   },
   {
    "duration": 27,
    "start_time": "2025-03-06T19:22:07.168Z"
   },
   {
    "duration": 42,
    "start_time": "2025-03-06T19:22:07.197Z"
   },
   {
    "duration": 46,
    "start_time": "2025-03-06T19:22:07.241Z"
   },
   {
    "duration": 520,
    "start_time": "2025-03-06T19:22:07.288Z"
   },
   {
    "duration": 35,
    "start_time": "2025-03-06T19:22:07.810Z"
   },
   {
    "duration": 319,
    "start_time": "2025-03-06T19:22:07.861Z"
   },
   {
    "duration": 17,
    "start_time": "2025-03-06T19:22:08.183Z"
   },
   {
    "duration": 124,
    "start_time": "2025-03-06T19:22:08.202Z"
   },
   {
    "duration": 75,
    "start_time": "2025-03-06T19:22:08.329Z"
   },
   {
    "duration": 97,
    "start_time": "2025-03-06T19:22:08.406Z"
   },
   {
    "duration": 9,
    "start_time": "2025-03-06T19:22:08.504Z"
   },
   {
    "duration": 45,
    "start_time": "2025-03-06T19:22:08.518Z"
   },
   {
    "duration": 93,
    "start_time": "2025-03-06T19:22:08.564Z"
   },
   {
    "duration": 34,
    "start_time": "2025-03-06T19:22:08.659Z"
   },
   {
    "duration": 105,
    "start_time": "2025-03-06T19:22:08.695Z"
   },
   {
    "duration": 46,
    "start_time": "2025-03-06T19:22:08.802Z"
   },
   {
    "duration": 44,
    "start_time": "2025-03-06T19:22:08.849Z"
   },
   {
    "duration": 42,
    "start_time": "2025-03-06T19:22:08.894Z"
   },
   {
    "duration": 77,
    "start_time": "2025-03-06T19:22:08.938Z"
   },
   {
    "duration": 25,
    "start_time": "2025-03-06T19:22:09.017Z"
   },
   {
    "duration": 18,
    "start_time": "2025-03-06T19:22:09.044Z"
   },
   {
    "duration": 54,
    "start_time": "2025-03-06T19:22:09.064Z"
   },
   {
    "duration": 45,
    "start_time": "2025-03-06T19:22:09.120Z"
   },
   {
    "duration": 16,
    "start_time": "2025-03-06T19:22:09.167Z"
   },
   {
    "duration": 53,
    "start_time": "2025-03-06T19:22:09.185Z"
   },
   {
    "duration": 107,
    "start_time": "2025-03-06T19:22:46.469Z"
   },
   {
    "duration": 46,
    "start_time": "2025-03-06T19:23:15.462Z"
   },
   {
    "duration": 12,
    "start_time": "2025-03-06T19:27:22.420Z"
   },
   {
    "duration": 322,
    "start_time": "2025-03-06T19:28:40.806Z"
   },
   {
    "duration": 327,
    "start_time": "2025-03-06T19:31:58.976Z"
   },
   {
    "duration": 18,
    "start_time": "2025-03-06T19:32:20.649Z"
   },
   {
    "duration": 14,
    "start_time": "2025-03-06T19:33:34.495Z"
   },
   {
    "duration": 59,
    "start_time": "2025-03-06T19:37:12.116Z"
   },
   {
    "duration": 47,
    "start_time": "2025-03-07T06:08:18.742Z"
   },
   {
    "duration": 3352,
    "start_time": "2025-03-07T06:08:27.945Z"
   },
   {
    "duration": 1357,
    "start_time": "2025-03-07T06:08:31.299Z"
   },
   {
    "duration": 3,
    "start_time": "2025-03-07T06:08:32.658Z"
   },
   {
    "duration": 1872,
    "start_time": "2025-03-07T06:08:32.663Z"
   },
   {
    "duration": 161,
    "start_time": "2025-03-07T06:08:34.536Z"
   },
   {
    "duration": 11,
    "start_time": "2025-03-07T06:08:34.699Z"
   },
   {
    "duration": 28,
    "start_time": "2025-03-07T06:08:34.712Z"
   },
   {
    "duration": 121,
    "start_time": "2025-03-07T06:08:34.742Z"
   },
   {
    "duration": 116,
    "start_time": "2025-03-07T06:08:34.864Z"
   },
   {
    "duration": 3,
    "start_time": "2025-03-07T06:08:34.983Z"
   },
   {
    "duration": 93,
    "start_time": "2025-03-07T06:08:34.988Z"
   },
   {
    "duration": 61,
    "start_time": "2025-03-07T06:08:35.083Z"
   },
   {
    "duration": 67,
    "start_time": "2025-03-07T06:08:35.145Z"
   },
   {
    "duration": 9,
    "start_time": "2025-03-07T06:08:35.213Z"
   },
   {
    "duration": 65,
    "start_time": "2025-03-07T06:08:35.224Z"
   },
   {
    "duration": 31,
    "start_time": "2025-03-07T06:08:35.291Z"
   },
   {
    "duration": 49,
    "start_time": "2025-03-07T06:08:35.324Z"
   },
   {
    "duration": 95,
    "start_time": "2025-03-07T06:08:35.374Z"
   },
   {
    "duration": 6,
    "start_time": "2025-03-07T06:08:35.471Z"
   },
   {
    "duration": 131,
    "start_time": "2025-03-07T06:08:35.479Z"
   },
   {
    "duration": 34,
    "start_time": "2025-03-07T06:08:35.612Z"
   },
   {
    "duration": 129,
    "start_time": "2025-03-07T06:08:35.648Z"
   },
   {
    "duration": 64,
    "start_time": "2025-03-07T06:08:35.779Z"
   },
   {
    "duration": 64,
    "start_time": "2025-03-07T06:08:35.844Z"
   },
   {
    "duration": 21,
    "start_time": "2025-03-07T06:08:35.910Z"
   },
   {
    "duration": 64,
    "start_time": "2025-03-07T06:08:35.933Z"
   },
   {
    "duration": 24,
    "start_time": "2025-03-07T06:08:35.999Z"
   },
   {
    "duration": 22,
    "start_time": "2025-03-07T06:08:36.027Z"
   },
   {
    "duration": 36,
    "start_time": "2025-03-07T06:08:36.051Z"
   },
   {
    "duration": 70,
    "start_time": "2025-03-07T06:08:36.089Z"
   },
   {
    "duration": 72,
    "start_time": "2025-03-07T06:08:36.161Z"
   },
   {
    "duration": 242,
    "start_time": "2025-03-07T06:08:36.235Z"
   },
   {
    "duration": 339,
    "start_time": "2025-03-07T06:08:36.479Z"
   },
   {
    "duration": 43,
    "start_time": "2025-03-07T06:08:36.820Z"
   },
   {
    "duration": 164,
    "start_time": "2025-03-07T06:08:36.865Z"
   },
   {
    "duration": 19,
    "start_time": "2025-03-07T06:08:37.030Z"
   },
   {
    "duration": 186,
    "start_time": "2025-03-07T06:08:37.050Z"
   },
   {
    "duration": 70,
    "start_time": "2025-03-07T06:08:37.238Z"
   },
   {
    "duration": 88,
    "start_time": "2025-03-07T06:08:37.310Z"
   },
   {
    "duration": 6,
    "start_time": "2025-03-07T06:08:37.400Z"
   },
   {
    "duration": 38,
    "start_time": "2025-03-07T06:08:37.408Z"
   },
   {
    "duration": 223,
    "start_time": "2025-03-07T06:08:37.448Z"
   },
   {
    "duration": 20,
    "start_time": "2025-03-07T06:08:37.673Z"
   },
   {
    "duration": 43,
    "start_time": "2025-03-07T06:08:37.694Z"
   },
   {
    "duration": 46,
    "start_time": "2025-03-07T06:08:37.738Z"
   },
   {
    "duration": 39,
    "start_time": "2025-03-07T06:08:37.785Z"
   },
   {
    "duration": 56,
    "start_time": "2025-03-07T06:08:37.826Z"
   },
   {
    "duration": 83,
    "start_time": "2025-03-07T06:08:37.884Z"
   },
   {
    "duration": 18,
    "start_time": "2025-03-07T06:08:37.968Z"
   },
   {
    "duration": 5,
    "start_time": "2025-03-07T06:08:37.988Z"
   },
   {
    "duration": 52,
    "start_time": "2025-03-07T06:08:37.994Z"
   },
   {
    "duration": 42,
    "start_time": "2025-03-07T06:08:38.048Z"
   },
   {
    "duration": 19,
    "start_time": "2025-03-07T06:08:38.091Z"
   },
   {
    "duration": 52,
    "start_time": "2025-03-07T06:08:38.112Z"
   },
   {
    "duration": 352,
    "start_time": "2025-03-07T06:08:38.166Z"
   },
   {
    "duration": 15,
    "start_time": "2025-03-07T06:08:38.520Z"
   },
   {
    "duration": 101,
    "start_time": "2025-03-07T06:08:38.537Z"
   },
   {
    "duration": 54,
    "start_time": "2025-03-07T06:08:38.640Z"
   },
   {
    "duration": 153,
    "start_time": "2025-03-07T06:08:38.696Z"
   },
   {
    "duration": 94,
    "start_time": "2025-03-07T06:08:38.850Z"
   },
   {
    "duration": 388,
    "start_time": "2025-03-07T08:28:54.099Z"
   },
   {
    "duration": 5,
    "start_time": "2025-03-07T08:29:05.864Z"
   },
   {
    "duration": 9,
    "start_time": "2025-03-07T08:43:27.061Z"
   },
   {
    "duration": 58,
    "start_time": "2025-03-07T08:43:38.142Z"
   },
   {
    "duration": 181,
    "start_time": "2025-03-07T08:44:19.034Z"
   },
   {
    "duration": 46,
    "start_time": "2025-03-07T08:45:28.121Z"
   },
   {
    "duration": 31,
    "start_time": "2025-03-07T08:45:42.412Z"
   },
   {
    "duration": 198,
    "start_time": "2025-03-07T08:46:40.766Z"
   },
   {
    "duration": 48,
    "start_time": "2025-03-07T08:49:24.302Z"
   },
   {
    "duration": 15,
    "start_time": "2025-03-07T08:50:35.895Z"
   },
   {
    "duration": 72,
    "start_time": "2025-03-07T08:50:44.551Z"
   },
   {
    "duration": 47,
    "start_time": "2025-03-07T08:51:02.084Z"
   },
   {
    "duration": 75,
    "start_time": "2025-03-07T08:51:09.571Z"
   },
   {
    "duration": 79,
    "start_time": "2025-03-07T08:55:20.218Z"
   },
   {
    "duration": 147,
    "start_time": "2025-03-07T08:55:35.561Z"
   },
   {
    "duration": 6,
    "start_time": "2025-03-07T08:58:34.739Z"
   },
   {
    "duration": 22,
    "start_time": "2025-03-07T09:09:50.029Z"
   },
   {
    "duration": 6,
    "start_time": "2025-03-07T09:10:07.933Z"
   },
   {
    "duration": 140,
    "start_time": "2025-03-07T09:10:32.955Z"
   },
   {
    "duration": 5,
    "start_time": "2025-03-07T09:11:06.851Z"
   },
   {
    "duration": 76,
    "start_time": "2025-03-07T09:14:18.541Z"
   },
   {
    "duration": 133,
    "start_time": "2025-03-07T09:22:45.297Z"
   },
   {
    "duration": 131,
    "start_time": "2025-03-07T09:26:33.661Z"
   },
   {
    "duration": 121,
    "start_time": "2025-03-07T09:27:03.174Z"
   },
   {
    "duration": 115,
    "start_time": "2025-03-07T10:29:18.942Z"
   },
   {
    "duration": 2601,
    "start_time": "2025-03-07T10:29:26.147Z"
   },
   {
    "duration": 1283,
    "start_time": "2025-03-07T10:29:28.751Z"
   },
   {
    "duration": 3,
    "start_time": "2025-03-07T10:29:30.036Z"
   },
   {
    "duration": 2381,
    "start_time": "2025-03-07T10:29:30.041Z"
   },
   {
    "duration": 153,
    "start_time": "2025-03-07T10:29:32.424Z"
   },
   {
    "duration": 13,
    "start_time": "2025-03-07T10:29:32.579Z"
   },
   {
    "duration": 28,
    "start_time": "2025-03-07T10:29:32.593Z"
   },
   {
    "duration": 25,
    "start_time": "2025-03-07T10:29:32.622Z"
   },
   {
    "duration": 117,
    "start_time": "2025-03-07T10:29:32.649Z"
   },
   {
    "duration": 4,
    "start_time": "2025-03-07T10:29:32.768Z"
   },
   {
    "duration": 35,
    "start_time": "2025-03-07T10:29:32.774Z"
   },
   {
    "duration": 17,
    "start_time": "2025-03-07T10:29:32.811Z"
   },
   {
    "duration": 223,
    "start_time": "2025-03-07T10:29:32.830Z"
   },
   {
    "duration": 159,
    "start_time": "2025-03-07T10:29:33.054Z"
   },
   {
    "duration": 32,
    "start_time": "2025-03-07T10:29:33.215Z"
   },
   {
    "duration": 33,
    "start_time": "2025-03-07T10:29:33.249Z"
   },
   {
    "duration": 61,
    "start_time": "2025-03-07T10:29:33.284Z"
   },
   {
    "duration": 111,
    "start_time": "2025-03-07T10:29:33.347Z"
   },
   {
    "duration": 7,
    "start_time": "2025-03-07T10:29:33.459Z"
   },
   {
    "duration": 35,
    "start_time": "2025-03-07T10:29:33.467Z"
   },
   {
    "duration": 233,
    "start_time": "2025-03-07T10:29:33.504Z"
   },
   {
    "duration": 93,
    "start_time": "2025-03-07T10:29:33.740Z"
   },
   {
    "duration": 110,
    "start_time": "2025-03-07T10:29:33.834Z"
   },
   {
    "duration": 102,
    "start_time": "2025-03-07T10:29:33.946Z"
   },
   {
    "duration": 18,
    "start_time": "2025-03-07T10:29:34.049Z"
   },
   {
    "duration": 66,
    "start_time": "2025-03-07T10:29:34.069Z"
   },
   {
    "duration": 33,
    "start_time": "2025-03-07T10:29:34.136Z"
   },
   {
    "duration": 210,
    "start_time": "2025-03-07T10:29:34.173Z"
   },
   {
    "duration": 92,
    "start_time": "2025-03-07T10:29:34.385Z"
   },
   {
    "duration": 82,
    "start_time": "2025-03-07T10:29:34.478Z"
   },
   {
    "duration": 90,
    "start_time": "2025-03-07T10:29:34.562Z"
   },
   {
    "duration": 54,
    "start_time": "2025-03-07T10:29:34.654Z"
   },
   {
    "duration": 327,
    "start_time": "2025-03-07T10:29:34.710Z"
   },
   {
    "duration": 44,
    "start_time": "2025-03-07T10:29:35.038Z"
   },
   {
    "duration": 172,
    "start_time": "2025-03-07T10:29:35.083Z"
   },
   {
    "duration": 125,
    "start_time": "2025-03-07T10:29:35.256Z"
   },
   {
    "duration": 146,
    "start_time": "2025-03-07T10:29:35.383Z"
   },
   {
    "duration": 76,
    "start_time": "2025-03-07T10:29:35.531Z"
   },
   {
    "duration": 314,
    "start_time": "2025-03-07T10:29:35.608Z"
   },
   {
    "duration": 99,
    "start_time": "2025-03-07T10:29:35.924Z"
   },
   {
    "duration": 50,
    "start_time": "2025-03-07T10:29:36.025Z"
   },
   {
    "duration": 76,
    "start_time": "2025-03-07T10:29:36.077Z"
   },
   {
    "duration": 104,
    "start_time": "2025-03-07T10:29:36.155Z"
   },
   {
    "duration": 66,
    "start_time": "2025-03-07T10:29:36.261Z"
   },
   {
    "duration": 45,
    "start_time": "2025-03-07T10:29:36.328Z"
   },
   {
    "duration": 45,
    "start_time": "2025-03-07T10:29:36.375Z"
   },
   {
    "duration": 28,
    "start_time": "2025-03-07T10:29:36.422Z"
   },
   {
    "duration": 99,
    "start_time": "2025-03-07T10:29:36.452Z"
   },
   {
    "duration": 62,
    "start_time": "2025-03-07T10:29:36.553Z"
   },
   {
    "duration": 48,
    "start_time": "2025-03-07T10:29:36.617Z"
   },
   {
    "duration": 82,
    "start_time": "2025-03-07T10:29:36.667Z"
   },
   {
    "duration": 55,
    "start_time": "2025-03-07T10:29:36.751Z"
   },
   {
    "duration": 10,
    "start_time": "2025-03-07T10:29:36.808Z"
   },
   {
    "duration": 26,
    "start_time": "2025-03-07T10:29:36.820Z"
   },
   {
    "duration": 350,
    "start_time": "2025-03-07T10:29:36.849Z"
   },
   {
    "duration": 16,
    "start_time": "2025-03-07T10:29:37.200Z"
   },
   {
    "duration": 75,
    "start_time": "2025-03-07T10:29:37.218Z"
   },
   {
    "duration": 23,
    "start_time": "2025-03-07T10:29:37.295Z"
   },
   {
    "duration": 3,
    "start_time": "2025-03-07T10:29:37.320Z"
   },
   {
    "duration": 212,
    "start_time": "2025-03-07T10:29:37.324Z"
   },
   {
    "duration": 44,
    "start_time": "2025-03-07T10:29:37.538Z"
   },
   {
    "duration": 313,
    "start_time": "2025-03-07T10:29:37.584Z"
   },
   {
    "duration": 87,
    "start_time": "2025-03-07T10:29:37.899Z"
   },
   {
    "duration": 128,
    "start_time": "2025-03-07T10:29:37.988Z"
   },
   {
    "duration": 121,
    "start_time": "2025-03-07T10:29:38.118Z"
   },
   {
    "duration": 5,
    "start_time": "2025-03-07T10:29:38.240Z"
   },
   {
    "duration": 71,
    "start_time": "2025-03-07T10:29:38.246Z"
   },
   {
    "duration": 58,
    "start_time": "2025-03-07T10:29:38.318Z"
   },
   {
    "duration": 13,
    "start_time": "2025-03-07T10:29:38.378Z"
   },
   {
    "duration": 76,
    "start_time": "2025-03-07T10:29:38.392Z"
   },
   {
    "duration": 52,
    "start_time": "2025-03-07T10:41:30.302Z"
   },
   {
    "duration": 66,
    "start_time": "2025-03-07T10:41:39.306Z"
   },
   {
    "duration": 113,
    "start_time": "2025-03-07T10:41:40.326Z"
   },
   {
    "duration": 5,
    "start_time": "2025-03-07T10:41:44.060Z"
   },
   {
    "duration": 37,
    "start_time": "2025-03-07T10:42:37.733Z"
   },
   {
    "duration": 7,
    "start_time": "2025-03-07T10:42:48.547Z"
   },
   {
    "duration": 2538,
    "start_time": "2025-03-07T10:43:09.977Z"
   },
   {
    "duration": 1269,
    "start_time": "2025-03-07T10:43:12.518Z"
   },
   {
    "duration": 3,
    "start_time": "2025-03-07T10:43:13.789Z"
   },
   {
    "duration": 2096,
    "start_time": "2025-03-07T10:43:13.794Z"
   },
   {
    "duration": 174,
    "start_time": "2025-03-07T10:43:15.892Z"
   },
   {
    "duration": 12,
    "start_time": "2025-03-07T10:43:16.068Z"
   },
   {
    "duration": 11,
    "start_time": "2025-03-07T10:43:16.082Z"
   },
   {
    "duration": 25,
    "start_time": "2025-03-07T10:43:16.095Z"
   },
   {
    "duration": 134,
    "start_time": "2025-03-07T10:43:16.122Z"
   },
   {
    "duration": 4,
    "start_time": "2025-03-07T10:43:16.261Z"
   },
   {
    "duration": 39,
    "start_time": "2025-03-07T10:43:16.266Z"
   },
   {
    "duration": 77,
    "start_time": "2025-03-07T10:43:16.306Z"
   },
   {
    "duration": 40,
    "start_time": "2025-03-07T10:43:16.385Z"
   },
   {
    "duration": 8,
    "start_time": "2025-03-07T10:43:16.427Z"
   },
   {
    "duration": 28,
    "start_time": "2025-03-07T10:43:16.436Z"
   },
   {
    "duration": 15,
    "start_time": "2025-03-07T10:43:16.465Z"
   },
   {
    "duration": 54,
    "start_time": "2025-03-07T10:43:16.482Z"
   },
   {
    "duration": 74,
    "start_time": "2025-03-07T10:43:16.538Z"
   },
   {
    "duration": 5,
    "start_time": "2025-03-07T10:43:16.614Z"
   },
   {
    "duration": 22,
    "start_time": "2025-03-07T10:43:16.621Z"
   },
   {
    "duration": 14,
    "start_time": "2025-03-07T10:43:16.645Z"
   },
   {
    "duration": 59,
    "start_time": "2025-03-07T10:43:16.661Z"
   },
   {
    "duration": 69,
    "start_time": "2025-03-07T10:43:16.721Z"
   },
   {
    "duration": 49,
    "start_time": "2025-03-07T10:43:16.792Z"
   },
   {
    "duration": 5,
    "start_time": "2025-03-07T10:43:16.843Z"
   },
   {
    "duration": 30,
    "start_time": "2025-03-07T10:43:16.850Z"
   },
   {
    "duration": 9,
    "start_time": "2025-03-07T10:43:16.882Z"
   },
   {
    "duration": 15,
    "start_time": "2025-03-07T10:43:16.895Z"
   },
   {
    "duration": 8,
    "start_time": "2025-03-07T10:43:16.912Z"
   },
   {
    "duration": 40,
    "start_time": "2025-03-07T10:43:16.922Z"
   },
   {
    "duration": 41,
    "start_time": "2025-03-07T10:43:16.964Z"
   },
   {
    "duration": 49,
    "start_time": "2025-03-07T10:43:17.007Z"
   },
   {
    "duration": 295,
    "start_time": "2025-03-07T10:43:17.058Z"
   },
   {
    "duration": 41,
    "start_time": "2025-03-07T10:43:17.355Z"
   },
   {
    "duration": 205,
    "start_time": "2025-03-07T10:43:17.398Z"
   },
   {
    "duration": 19,
    "start_time": "2025-03-07T10:43:17.605Z"
   },
   {
    "duration": 249,
    "start_time": "2025-03-07T10:43:17.626Z"
   },
   {
    "duration": 72,
    "start_time": "2025-03-07T10:43:17.877Z"
   },
   {
    "duration": 82,
    "start_time": "2025-03-07T10:43:17.961Z"
   },
   {
    "duration": 53,
    "start_time": "2025-03-07T10:43:18.045Z"
   },
   {
    "duration": 33,
    "start_time": "2025-03-07T10:43:18.100Z"
   },
   {
    "duration": 52,
    "start_time": "2025-03-07T10:43:18.135Z"
   },
   {
    "duration": 14,
    "start_time": "2025-03-07T10:43:18.188Z"
   },
   {
    "duration": 9,
    "start_time": "2025-03-07T10:43:18.204Z"
   },
   {
    "duration": 22,
    "start_time": "2025-03-07T10:43:18.214Z"
   },
   {
    "duration": 13,
    "start_time": "2025-03-07T10:43:18.238Z"
   },
   {
    "duration": 5,
    "start_time": "2025-03-07T10:43:18.253Z"
   },
   {
    "duration": 41,
    "start_time": "2025-03-07T10:43:18.262Z"
   },
   {
    "duration": 100,
    "start_time": "2025-03-07T10:43:18.304Z"
   },
   {
    "duration": 18,
    "start_time": "2025-03-07T10:43:18.406Z"
   },
   {
    "duration": 53,
    "start_time": "2025-03-07T10:43:18.425Z"
   },
   {
    "duration": 43,
    "start_time": "2025-03-07T10:43:18.480Z"
   },
   {
    "duration": 8,
    "start_time": "2025-03-07T10:43:18.525Z"
   },
   {
    "duration": 46,
    "start_time": "2025-03-07T10:43:18.534Z"
   },
   {
    "duration": 341,
    "start_time": "2025-03-07T10:43:18.582Z"
   },
   {
    "duration": 17,
    "start_time": "2025-03-07T10:43:18.925Z"
   },
   {
    "duration": 74,
    "start_time": "2025-03-07T10:43:18.944Z"
   },
   {
    "duration": 25,
    "start_time": "2025-03-07T10:43:19.019Z"
   },
   {
    "duration": 16,
    "start_time": "2025-03-07T10:43:19.046Z"
   },
   {
    "duration": 268,
    "start_time": "2025-03-07T10:43:19.064Z"
   },
   {
    "duration": 31,
    "start_time": "2025-03-07T10:43:19.334Z"
   },
   {
    "duration": 296,
    "start_time": "2025-03-07T10:43:19.367Z"
   },
   {
    "duration": 98,
    "start_time": "2025-03-07T10:43:19.665Z"
   },
   {
    "duration": 183,
    "start_time": "2025-03-07T10:43:19.764Z"
   },
   {
    "duration": 116,
    "start_time": "2025-03-07T10:43:19.949Z"
   },
   {
    "duration": 5,
    "start_time": "2025-03-07T10:43:20.067Z"
   },
   {
    "duration": 34,
    "start_time": "2025-03-07T10:43:20.073Z"
   },
   {
    "duration": 47,
    "start_time": "2025-03-07T10:43:20.109Z"
   },
   {
    "duration": 101,
    "start_time": "2025-03-07T10:43:20.157Z"
   },
   {
    "duration": 7,
    "start_time": "2025-03-07T10:43:20.260Z"
   },
   {
    "duration": 182,
    "start_time": "2025-03-07T10:43:20.268Z"
   },
   {
    "duration": 108,
    "start_time": "2025-03-07T10:46:22.992Z"
   },
   {
    "duration": 12,
    "start_time": "2025-03-07T10:46:39.685Z"
   },
   {
    "duration": 70,
    "start_time": "2025-03-07T10:47:37.295Z"
   },
   {
    "duration": 6,
    "start_time": "2025-03-07T10:48:23.206Z"
   },
   {
    "duration": 15,
    "start_time": "2025-03-07T11:27:01.079Z"
   },
   {
    "duration": 148,
    "start_time": "2025-03-07T12:16:57.542Z"
   },
   {
    "duration": 18,
    "start_time": "2025-03-07T12:28:42.865Z"
   },
   {
    "duration": 17,
    "start_time": "2025-03-07T12:28:58.866Z"
   },
   {
    "duration": 150,
    "start_time": "2025-03-07T12:29:15.210Z"
   },
   {
    "duration": 179,
    "start_time": "2025-03-07T12:29:33.777Z"
   },
   {
    "duration": 123,
    "start_time": "2025-03-07T12:29:44.159Z"
   },
   {
    "duration": 95,
    "start_time": "2025-03-07T12:31:53.295Z"
   },
   {
    "duration": 2600,
    "start_time": "2025-03-07T12:37:33.995Z"
   },
   {
    "duration": 1266,
    "start_time": "2025-03-07T12:37:36.599Z"
   },
   {
    "duration": 3,
    "start_time": "2025-03-07T12:37:37.867Z"
   },
   {
    "duration": 2180,
    "start_time": "2025-03-07T12:37:37.872Z"
   },
   {
    "duration": 250,
    "start_time": "2025-03-07T12:37:40.054Z"
   },
   {
    "duration": 15,
    "start_time": "2025-03-07T12:37:40.306Z"
   },
   {
    "duration": 22,
    "start_time": "2025-03-07T12:37:40.323Z"
   },
   {
    "duration": 32,
    "start_time": "2025-03-07T12:37:40.347Z"
   },
   {
    "duration": 111,
    "start_time": "2025-03-07T12:37:40.381Z"
   },
   {
    "duration": 3,
    "start_time": "2025-03-07T12:37:40.494Z"
   },
   {
    "duration": 14,
    "start_time": "2025-03-07T12:37:40.498Z"
   },
   {
    "duration": 27,
    "start_time": "2025-03-07T12:37:40.513Z"
   },
   {
    "duration": 48,
    "start_time": "2025-03-07T12:37:40.541Z"
   },
   {
    "duration": 8,
    "start_time": "2025-03-07T12:37:40.592Z"
   },
   {
    "duration": 136,
    "start_time": "2025-03-07T12:37:40.601Z"
   },
   {
    "duration": 104,
    "start_time": "2025-03-07T12:37:40.739Z"
   },
   {
    "duration": 40,
    "start_time": "2025-03-07T12:37:40.845Z"
   },
   {
    "duration": 85,
    "start_time": "2025-03-07T12:37:40.887Z"
   },
   {
    "duration": 5,
    "start_time": "2025-03-07T12:37:40.974Z"
   },
   {
    "duration": 10,
    "start_time": "2025-03-07T12:37:40.981Z"
   },
   {
    "duration": 20,
    "start_time": "2025-03-07T12:37:40.993Z"
   },
   {
    "duration": 70,
    "start_time": "2025-03-07T12:37:41.015Z"
   },
   {
    "duration": 78,
    "start_time": "2025-03-07T12:37:41.087Z"
   },
   {
    "duration": 51,
    "start_time": "2025-03-07T12:37:41.167Z"
   },
   {
    "duration": 5,
    "start_time": "2025-03-07T12:37:41.220Z"
   },
   {
    "duration": 43,
    "start_time": "2025-03-07T12:37:41.227Z"
   },
   {
    "duration": 7,
    "start_time": "2025-03-07T12:37:41.272Z"
   },
   {
    "duration": 18,
    "start_time": "2025-03-07T12:37:41.280Z"
   },
   {
    "duration": 88,
    "start_time": "2025-03-07T12:37:41.300Z"
   },
   {
    "duration": 62,
    "start_time": "2025-03-07T12:37:41.390Z"
   },
   {
    "duration": 152,
    "start_time": "2025-03-07T12:37:41.454Z"
   },
   {
    "duration": 89,
    "start_time": "2025-03-07T12:37:41.608Z"
   },
   {
    "duration": 17,
    "start_time": "2025-03-07T12:37:41.700Z"
   },
   {
    "duration": 48,
    "start_time": "2025-03-07T12:37:41.719Z"
   },
   {
    "duration": 54,
    "start_time": "2025-03-07T12:37:41.769Z"
   },
   {
    "duration": 313,
    "start_time": "2025-03-07T12:37:41.824Z"
   },
   {
    "duration": 45,
    "start_time": "2025-03-07T12:37:42.139Z"
   },
   {
    "duration": 177,
    "start_time": "2025-03-07T12:37:42.186Z"
   },
   {
    "duration": 24,
    "start_time": "2025-03-07T12:37:42.365Z"
   },
   {
    "duration": 118,
    "start_time": "2025-03-07T12:37:42.392Z"
   },
   {
    "duration": 77,
    "start_time": "2025-03-07T12:37:42.515Z"
   },
   {
    "duration": 92,
    "start_time": "2025-03-07T12:37:42.594Z"
   },
   {
    "duration": 165,
    "start_time": "2025-03-07T12:37:42.688Z"
   },
   {
    "duration": 24,
    "start_time": "2025-03-07T12:37:42.855Z"
   },
   {
    "duration": 53,
    "start_time": "2025-03-07T12:37:42.881Z"
   },
   {
    "duration": 11,
    "start_time": "2025-03-07T12:37:42.936Z"
   },
   {
    "duration": 19,
    "start_time": "2025-03-07T12:37:42.949Z"
   },
   {
    "duration": 36,
    "start_time": "2025-03-07T12:37:42.970Z"
   },
   {
    "duration": 13,
    "start_time": "2025-03-07T12:37:43.008Z"
   },
   {
    "duration": 15,
    "start_time": "2025-03-07T12:37:43.023Z"
   },
   {
    "duration": 37,
    "start_time": "2025-03-07T12:37:43.040Z"
   },
   {
    "duration": 19,
    "start_time": "2025-03-07T12:37:43.079Z"
   },
   {
    "duration": 6,
    "start_time": "2025-03-07T12:37:43.099Z"
   },
   {
    "duration": 39,
    "start_time": "2025-03-07T12:37:43.107Z"
   },
   {
    "duration": 53,
    "start_time": "2025-03-07T12:37:43.147Z"
   },
   {
    "duration": 7,
    "start_time": "2025-03-07T12:37:43.201Z"
   },
   {
    "duration": 69,
    "start_time": "2025-03-07T12:37:43.211Z"
   },
   {
    "duration": 398,
    "start_time": "2025-03-07T12:37:43.282Z"
   },
   {
    "duration": 19,
    "start_time": "2025-03-07T12:37:43.682Z"
   },
   {
    "duration": 80,
    "start_time": "2025-03-07T12:37:43.703Z"
   },
   {
    "duration": 25,
    "start_time": "2025-03-07T12:37:43.785Z"
   },
   {
    "duration": 5,
    "start_time": "2025-03-07T12:37:43.812Z"
   },
   {
    "duration": 151,
    "start_time": "2025-03-07T12:37:43.819Z"
   },
   {
    "duration": 33,
    "start_time": "2025-03-07T12:37:43.972Z"
   },
   {
    "duration": 255,
    "start_time": "2025-03-07T12:37:44.007Z"
   },
   {
    "duration": 51,
    "start_time": "2025-03-07T12:37:44.264Z"
   },
   {
    "duration": 117,
    "start_time": "2025-03-07T12:37:44.316Z"
   },
   {
    "duration": 139,
    "start_time": "2025-03-07T12:37:44.436Z"
   },
   {
    "duration": 6,
    "start_time": "2025-03-07T12:37:44.576Z"
   },
   {
    "duration": 205,
    "start_time": "2025-03-07T12:37:44.583Z"
   },
   {
    "duration": 96,
    "start_time": "2025-03-07T12:37:44.790Z"
   },
   {
    "duration": 50,
    "start_time": "2025-03-07T12:37:44.887Z"
   },
   {
    "duration": 23,
    "start_time": "2025-03-07T12:37:44.939Z"
   },
   {
    "duration": 23,
    "start_time": "2025-03-07T12:37:44.964Z"
   },
   {
    "duration": 52,
    "start_time": "2025-03-07T12:37:44.988Z"
   },
   {
    "duration": 65,
    "start_time": "2025-03-07T12:37:45.042Z"
   },
   {
    "duration": 25,
    "start_time": "2025-03-07T13:35:53.215Z"
   },
   {
    "duration": 34,
    "start_time": "2025-03-07T13:37:35.227Z"
   },
   {
    "duration": 14,
    "start_time": "2025-03-07T14:16:33.522Z"
   },
   {
    "duration": 10,
    "start_time": "2025-03-07T14:20:09.810Z"
   },
   {
    "duration": 5,
    "start_time": "2025-03-07T14:20:11.143Z"
   },
   {
    "duration": 5,
    "start_time": "2025-03-07T14:20:25.494Z"
   },
   {
    "duration": 5,
    "start_time": "2025-03-07T14:20:26.528Z"
   },
   {
    "duration": 5,
    "start_time": "2025-03-07T14:20:34.134Z"
   },
   {
    "duration": 6,
    "start_time": "2025-03-07T14:20:34.718Z"
   },
   {
    "duration": 25,
    "start_time": "2025-03-07T14:20:43.228Z"
   },
   {
    "duration": 6,
    "start_time": "2025-03-07T14:20:44.223Z"
   },
   {
    "duration": 3454,
    "start_time": "2025-03-07T16:06:47.584Z"
   },
   {
    "duration": 1335,
    "start_time": "2025-03-07T16:06:51.040Z"
   },
   {
    "duration": 2,
    "start_time": "2025-03-07T16:06:52.377Z"
   },
   {
    "duration": 2619,
    "start_time": "2025-03-07T16:06:52.381Z"
   },
   {
    "duration": 168,
    "start_time": "2025-03-07T16:06:55.002Z"
   },
   {
    "duration": 17,
    "start_time": "2025-03-07T16:06:55.172Z"
   },
   {
    "duration": 13,
    "start_time": "2025-03-07T16:06:55.191Z"
   },
   {
    "duration": 32,
    "start_time": "2025-03-07T16:06:55.206Z"
   },
   {
    "duration": 171,
    "start_time": "2025-03-07T16:06:55.240Z"
   },
   {
    "duration": 4,
    "start_time": "2025-03-07T16:06:55.412Z"
   },
   {
    "duration": 9,
    "start_time": "2025-03-07T16:06:55.417Z"
   },
   {
    "duration": 30,
    "start_time": "2025-03-07T16:06:55.427Z"
   },
   {
    "duration": 50,
    "start_time": "2025-03-07T16:06:55.459Z"
   },
   {
    "duration": 7,
    "start_time": "2025-03-07T16:06:55.512Z"
   },
   {
    "duration": 22,
    "start_time": "2025-03-07T16:06:55.521Z"
   },
   {
    "duration": 19,
    "start_time": "2025-03-07T16:06:55.545Z"
   },
   {
    "duration": 25,
    "start_time": "2025-03-07T16:06:55.565Z"
   },
   {
    "duration": 82,
    "start_time": "2025-03-07T16:06:55.592Z"
   },
   {
    "duration": 6,
    "start_time": "2025-03-07T16:06:55.676Z"
   },
   {
    "duration": 27,
    "start_time": "2025-03-07T16:06:55.683Z"
   },
   {
    "duration": 7,
    "start_time": "2025-03-07T16:06:55.712Z"
   },
   {
    "duration": 55,
    "start_time": "2025-03-07T16:06:55.720Z"
   },
   {
    "duration": 72,
    "start_time": "2025-03-07T16:06:55.777Z"
   },
   {
    "duration": 59,
    "start_time": "2025-03-07T16:06:55.850Z"
   },
   {
    "duration": 5,
    "start_time": "2025-03-07T16:06:55.911Z"
   },
   {
    "duration": 21,
    "start_time": "2025-03-07T16:06:55.918Z"
   },
   {
    "duration": 15,
    "start_time": "2025-03-07T16:06:55.941Z"
   },
   {
    "duration": 15,
    "start_time": "2025-03-07T16:06:55.957Z"
   },
   {
    "duration": 11,
    "start_time": "2025-03-07T16:06:55.974Z"
   },
   {
    "duration": 67,
    "start_time": "2025-03-07T16:06:55.986Z"
   },
   {
    "duration": 158,
    "start_time": "2025-03-07T16:06:56.055Z"
   },
   {
    "duration": 74,
    "start_time": "2025-03-07T16:06:56.215Z"
   },
   {
    "duration": 63,
    "start_time": "2025-03-07T16:06:56.291Z"
   },
   {
    "duration": 38,
    "start_time": "2025-03-07T16:06:56.356Z"
   },
   {
    "duration": 65,
    "start_time": "2025-03-07T16:06:56.396Z"
   },
   {
    "duration": 33,
    "start_time": "2025-03-07T16:06:56.462Z"
   },
   {
    "duration": 39,
    "start_time": "2025-03-07T16:06:56.497Z"
   },
   {
    "duration": 284,
    "start_time": "2025-03-07T16:06:56.537Z"
   },
   {
    "duration": 36,
    "start_time": "2025-03-07T16:06:56.823Z"
   },
   {
    "duration": 170,
    "start_time": "2025-03-07T16:06:56.861Z"
   },
   {
    "duration": 18,
    "start_time": "2025-03-07T16:06:57.035Z"
   },
   {
    "duration": 122,
    "start_time": "2025-03-07T16:06:57.054Z"
   },
   {
    "duration": 14,
    "start_time": "2025-03-07T16:06:57.178Z"
   },
   {
    "duration": 82,
    "start_time": "2025-03-07T16:06:57.193Z"
   },
   {
    "duration": 117,
    "start_time": "2025-03-07T16:06:57.277Z"
   },
   {
    "duration": 15,
    "start_time": "2025-03-07T16:06:57.395Z"
   },
   {
    "duration": 19,
    "start_time": "2025-03-07T16:06:57.411Z"
   },
   {
    "duration": 32,
    "start_time": "2025-03-07T16:06:57.432Z"
   },
   {
    "duration": 5,
    "start_time": "2025-03-07T16:06:57.466Z"
   },
   {
    "duration": 5,
    "start_time": "2025-03-07T16:06:57.473Z"
   },
   {
    "duration": 27,
    "start_time": "2025-03-07T16:06:57.480Z"
   },
   {
    "duration": 4,
    "start_time": "2025-03-07T16:06:57.508Z"
   },
   {
    "duration": 20,
    "start_time": "2025-03-07T16:06:57.514Z"
   },
   {
    "duration": 58,
    "start_time": "2025-03-07T16:06:57.536Z"
   },
   {
    "duration": 25,
    "start_time": "2025-03-07T16:06:57.595Z"
   },
   {
    "duration": 5,
    "start_time": "2025-03-07T16:06:57.622Z"
   },
   {
    "duration": 33,
    "start_time": "2025-03-07T16:06:57.628Z"
   },
   {
    "duration": 46,
    "start_time": "2025-03-07T16:06:57.662Z"
   },
   {
    "duration": 7,
    "start_time": "2025-03-07T16:06:57.709Z"
   },
   {
    "duration": 25,
    "start_time": "2025-03-07T16:06:57.717Z"
   },
   {
    "duration": 341,
    "start_time": "2025-03-07T16:06:57.743Z"
   },
   {
    "duration": 21,
    "start_time": "2025-03-07T16:06:58.086Z"
   },
   {
    "duration": 70,
    "start_time": "2025-03-07T16:06:58.109Z"
   },
   {
    "duration": 33,
    "start_time": "2025-03-07T16:06:58.180Z"
   },
   {
    "duration": 3,
    "start_time": "2025-03-07T16:06:58.215Z"
   },
   {
    "duration": 125,
    "start_time": "2025-03-07T16:06:58.220Z"
   },
   {
    "duration": 34,
    "start_time": "2025-03-07T16:06:58.347Z"
   },
   {
    "duration": 216,
    "start_time": "2025-03-07T16:06:58.382Z"
   },
   {
    "duration": 51,
    "start_time": "2025-03-07T16:06:58.600Z"
   },
   {
    "duration": 76,
    "start_time": "2025-03-07T16:06:58.652Z"
   },
   {
    "duration": 120,
    "start_time": "2025-03-07T16:06:58.729Z"
   },
   {
    "duration": 5,
    "start_time": "2025-03-07T16:06:58.851Z"
   },
   {
    "duration": 98,
    "start_time": "2025-03-07T16:06:58.858Z"
   },
   {
    "duration": 34,
    "start_time": "2025-03-07T16:06:58.958Z"
   },
   {
    "duration": 39,
    "start_time": "2025-03-07T16:06:58.993Z"
   },
   {
    "duration": 6,
    "start_time": "2025-03-07T16:06:59.033Z"
   },
   {
    "duration": 16,
    "start_time": "2025-03-07T16:06:59.041Z"
   },
   {
    "duration": 28,
    "start_time": "2025-03-07T16:06:59.059Z"
   },
   {
    "duration": 22,
    "start_time": "2025-03-07T16:06:59.089Z"
   },
   {
    "duration": 93,
    "start_time": "2025-03-07T16:07:40.440Z"
   },
   {
    "duration": 91,
    "start_time": "2025-03-07T16:07:47.032Z"
   },
   {
    "duration": 109,
    "start_time": "2025-03-07T16:08:07.406Z"
   },
   {
    "duration": 74,
    "start_time": "2025-03-07T16:08:12.865Z"
   },
   {
    "duration": 108,
    "start_time": "2025-03-07T16:08:19.753Z"
   },
   {
    "duration": 36,
    "start_time": "2025-03-07T16:08:48.817Z"
   },
   {
    "duration": 58,
    "start_time": "2025-03-07T16:08:55.571Z"
   },
   {
    "duration": 93,
    "start_time": "2025-03-07T16:09:23.651Z"
   },
   {
    "duration": 72,
    "start_time": "2025-03-07T16:09:49.844Z"
   },
   {
    "duration": 92,
    "start_time": "2025-03-07T16:09:54.392Z"
   },
   {
    "duration": 3415,
    "start_time": "2025-03-07T17:04:18.179Z"
   },
   {
    "duration": 7384,
    "start_time": "2025-03-07T17:04:21.597Z"
   },
   {
    "duration": 3,
    "start_time": "2025-03-07T17:04:28.982Z"
   },
   {
    "duration": 1952,
    "start_time": "2025-03-07T17:04:28.987Z"
   },
   {
    "duration": 146,
    "start_time": "2025-03-07T17:04:30.941Z"
   },
   {
    "duration": 12,
    "start_time": "2025-03-07T17:04:31.089Z"
   },
   {
    "duration": 33,
    "start_time": "2025-03-07T17:04:31.102Z"
   },
   {
    "duration": 47,
    "start_time": "2025-03-07T17:04:31.137Z"
   },
   {
    "duration": 103,
    "start_time": "2025-03-07T17:04:31.185Z"
   },
   {
    "duration": 3,
    "start_time": "2025-03-07T17:04:31.291Z"
   },
   {
    "duration": 28,
    "start_time": "2025-03-07T17:04:31.296Z"
   },
   {
    "duration": 19,
    "start_time": "2025-03-07T17:04:31.325Z"
   },
   {
    "duration": 57,
    "start_time": "2025-03-07T17:04:31.346Z"
   },
   {
    "duration": 7,
    "start_time": "2025-03-07T17:04:31.404Z"
   },
   {
    "duration": 90,
    "start_time": "2025-03-07T17:04:31.413Z"
   },
   {
    "duration": 204,
    "start_time": "2025-03-07T17:04:31.504Z"
   },
   {
    "duration": 35,
    "start_time": "2025-03-07T17:04:31.710Z"
   },
   {
    "duration": 102,
    "start_time": "2025-03-07T17:04:31.746Z"
   },
   {
    "duration": 6,
    "start_time": "2025-03-07T17:04:31.849Z"
   },
   {
    "duration": 15,
    "start_time": "2025-03-07T17:04:31.856Z"
   },
   {
    "duration": 22,
    "start_time": "2025-03-07T17:04:31.873Z"
   },
   {
    "duration": 58,
    "start_time": "2025-03-07T17:04:31.896Z"
   },
   {
    "duration": 67,
    "start_time": "2025-03-07T17:04:31.956Z"
   },
   {
    "duration": 47,
    "start_time": "2025-03-07T17:04:32.025Z"
   },
   {
    "duration": 24,
    "start_time": "2025-03-07T17:04:32.074Z"
   },
   {
    "duration": 142,
    "start_time": "2025-03-07T17:04:32.100Z"
   },
   {
    "duration": 28,
    "start_time": "2025-03-07T17:04:32.244Z"
   },
   {
    "duration": 31,
    "start_time": "2025-03-07T17:04:32.275Z"
   },
   {
    "duration": 5,
    "start_time": "2025-03-07T17:04:32.307Z"
   },
   {
    "duration": 60,
    "start_time": "2025-03-07T17:04:32.314Z"
   },
   {
    "duration": 145,
    "start_time": "2025-03-07T17:04:32.376Z"
   },
   {
    "duration": 78,
    "start_time": "2025-03-07T17:04:32.523Z"
   },
   {
    "duration": 23,
    "start_time": "2025-03-07T17:04:32.603Z"
   },
   {
    "duration": 50,
    "start_time": "2025-03-07T17:04:32.628Z"
   },
   {
    "duration": 17,
    "start_time": "2025-03-07T17:04:32.679Z"
   },
   {
    "duration": 27,
    "start_time": "2025-03-07T17:04:32.698Z"
   },
   {
    "duration": 35,
    "start_time": "2025-03-07T17:04:32.748Z"
   },
   {
    "duration": 303,
    "start_time": "2025-03-07T17:04:32.784Z"
   },
   {
    "duration": 37,
    "start_time": "2025-03-07T17:04:33.088Z"
   },
   {
    "duration": 181,
    "start_time": "2025-03-07T17:04:33.127Z"
   },
   {
    "duration": 18,
    "start_time": "2025-03-07T17:04:33.310Z"
   },
   {
    "duration": 108,
    "start_time": "2025-03-07T17:04:33.330Z"
   },
   {
    "duration": 2361,
    "start_time": "2025-03-07T17:11:25.993Z"
   },
   {
    "duration": 3,
    "start_time": "2025-03-07T17:11:28.356Z"
   },
   {
    "duration": 9,
    "start_time": "2025-03-07T17:11:28.361Z"
   },
   {
    "duration": 1752,
    "start_time": "2025-03-07T17:11:28.372Z"
   },
   {
    "duration": 364,
    "start_time": "2025-03-07T17:11:30.126Z"
   },
   {
    "duration": 9,
    "start_time": "2025-03-07T17:11:30.492Z"
   },
   {
    "duration": 16,
    "start_time": "2025-03-07T17:11:30.503Z"
   },
   {
    "duration": 29,
    "start_time": "2025-03-07T17:11:30.521Z"
   },
   {
    "duration": 107,
    "start_time": "2025-03-07T17:11:30.552Z"
   },
   {
    "duration": 3,
    "start_time": "2025-03-07T17:11:30.662Z"
   },
   {
    "duration": 8,
    "start_time": "2025-03-07T17:11:30.667Z"
   },
   {
    "duration": 16,
    "start_time": "2025-03-07T17:11:30.677Z"
   },
   {
    "duration": 41,
    "start_time": "2025-03-07T17:11:30.695Z"
   },
   {
    "duration": 11,
    "start_time": "2025-03-07T17:11:30.737Z"
   },
   {
    "duration": 29,
    "start_time": "2025-03-07T17:11:30.749Z"
   },
   {
    "duration": 29,
    "start_time": "2025-03-07T17:11:30.780Z"
   },
   {
    "duration": 37,
    "start_time": "2025-03-07T17:11:30.811Z"
   },
   {
    "duration": 146,
    "start_time": "2025-03-07T17:11:30.850Z"
   },
   {
    "duration": 12,
    "start_time": "2025-03-07T17:11:30.997Z"
   },
   {
    "duration": 23,
    "start_time": "2025-03-07T17:11:31.011Z"
   },
   {
    "duration": 31,
    "start_time": "2025-03-07T17:11:31.035Z"
   },
   {
    "duration": 55,
    "start_time": "2025-03-07T17:11:31.068Z"
   },
   {
    "duration": 53,
    "start_time": "2025-03-07T17:11:31.125Z"
   },
   {
    "duration": 48,
    "start_time": "2025-03-07T17:11:31.179Z"
   },
   {
    "duration": 6,
    "start_time": "2025-03-07T17:11:31.228Z"
   },
   {
    "duration": 20,
    "start_time": "2025-03-07T17:11:31.247Z"
   },
   {
    "duration": 11,
    "start_time": "2025-03-07T17:11:31.268Z"
   },
   {
    "duration": 18,
    "start_time": "2025-03-07T17:11:31.282Z"
   },
   {
    "duration": 18,
    "start_time": "2025-03-07T17:11:31.301Z"
   },
   {
    "duration": 22,
    "start_time": "2025-03-07T17:11:31.321Z"
   },
   {
    "duration": 142,
    "start_time": "2025-03-07T17:11:31.347Z"
   },
   {
    "duration": 77,
    "start_time": "2025-03-07T17:11:31.491Z"
   },
   {
    "duration": 180,
    "start_time": "2025-03-07T17:11:31.569Z"
   },
   {
    "duration": 52,
    "start_time": "2025-03-07T17:11:31.751Z"
   },
   {
    "duration": 15,
    "start_time": "2025-03-07T17:11:31.804Z"
   },
   {
    "duration": 37,
    "start_time": "2025-03-07T17:11:31.820Z"
   },
   {
    "duration": 37,
    "start_time": "2025-03-07T17:11:31.859Z"
   },
   {
    "duration": 281,
    "start_time": "2025-03-07T17:11:31.897Z"
   },
   {
    "duration": 33,
    "start_time": "2025-03-07T17:11:32.180Z"
   },
   {
    "duration": 222,
    "start_time": "2025-03-07T17:11:32.214Z"
   },
   {
    "duration": 16,
    "start_time": "2025-03-07T17:11:32.438Z"
   },
   {
    "duration": 114,
    "start_time": "2025-03-07T17:11:32.455Z"
   },
   {
    "duration": 13,
    "start_time": "2025-03-07T17:11:32.570Z"
   },
   {
    "duration": 83,
    "start_time": "2025-03-07T17:11:32.585Z"
   },
   {
    "duration": 88,
    "start_time": "2025-03-07T17:11:32.670Z"
   },
   {
    "duration": 9,
    "start_time": "2025-03-07T17:11:32.760Z"
   },
   {
    "duration": 20,
    "start_time": "2025-03-07T17:11:32.771Z"
   },
   {
    "duration": 27,
    "start_time": "2025-03-07T17:11:32.792Z"
   },
   {
    "duration": 18,
    "start_time": "2025-03-07T17:11:32.821Z"
   },
   {
    "duration": 22,
    "start_time": "2025-03-07T17:11:32.840Z"
   },
   {
    "duration": 30,
    "start_time": "2025-03-07T17:11:32.864Z"
   },
   {
    "duration": 122,
    "start_time": "2025-03-07T17:11:32.896Z"
   },
   {
    "duration": 37,
    "start_time": "2025-03-07T17:11:33.020Z"
   },
   {
    "duration": 43,
    "start_time": "2025-03-07T17:11:33.059Z"
   },
   {
    "duration": 22,
    "start_time": "2025-03-07T17:11:33.104Z"
   },
   {
    "duration": 6,
    "start_time": "2025-03-07T17:11:33.127Z"
   },
   {
    "duration": 11,
    "start_time": "2025-03-07T17:11:35.208Z"
   },
   {
    "duration": 49,
    "start_time": "2025-03-07T19:02:25.992Z"
   },
   {
    "duration": 4082,
    "start_time": "2025-03-07T19:02:33.943Z"
   },
   {
    "duration": 1435,
    "start_time": "2025-03-07T19:02:38.028Z"
   },
   {
    "duration": 3,
    "start_time": "2025-03-07T19:02:39.465Z"
   },
   {
    "duration": 2255,
    "start_time": "2025-03-07T19:02:39.470Z"
   },
   {
    "duration": 186,
    "start_time": "2025-03-07T19:02:41.728Z"
   },
   {
    "duration": 12,
    "start_time": "2025-03-07T19:02:41.915Z"
   },
   {
    "duration": 105,
    "start_time": "2025-03-07T19:02:41.929Z"
   },
   {
    "duration": 36,
    "start_time": "2025-03-07T19:02:42.037Z"
   },
   {
    "duration": 212,
    "start_time": "2025-03-07T19:02:42.075Z"
   },
   {
    "duration": 6,
    "start_time": "2025-03-07T19:02:42.292Z"
   },
   {
    "duration": 24,
    "start_time": "2025-03-07T19:02:42.302Z"
   },
   {
    "duration": 302,
    "start_time": "2025-03-07T19:02:42.328Z"
   },
   {
    "duration": 0,
    "start_time": "2025-03-07T19:02:42.634Z"
   },
   {
    "duration": 0,
    "start_time": "2025-03-07T19:02:42.635Z"
   },
   {
    "duration": 0,
    "start_time": "2025-03-07T19:02:42.636Z"
   },
   {
    "duration": 0,
    "start_time": "2025-03-07T19:02:42.638Z"
   },
   {
    "duration": 0,
    "start_time": "2025-03-07T19:02:42.639Z"
   },
   {
    "duration": 0,
    "start_time": "2025-03-07T19:02:42.639Z"
   },
   {
    "duration": 0,
    "start_time": "2025-03-07T19:02:42.640Z"
   },
   {
    "duration": 0,
    "start_time": "2025-03-07T19:02:42.641Z"
   },
   {
    "duration": 0,
    "start_time": "2025-03-07T19:02:42.642Z"
   },
   {
    "duration": 0,
    "start_time": "2025-03-07T19:02:42.643Z"
   },
   {
    "duration": 0,
    "start_time": "2025-03-07T19:02:42.645Z"
   },
   {
    "duration": 0,
    "start_time": "2025-03-07T19:02:42.662Z"
   },
   {
    "duration": 0,
    "start_time": "2025-03-07T19:02:42.663Z"
   },
   {
    "duration": 0,
    "start_time": "2025-03-07T19:02:42.664Z"
   },
   {
    "duration": 0,
    "start_time": "2025-03-07T19:02:42.665Z"
   },
   {
    "duration": 0,
    "start_time": "2025-03-07T19:02:42.666Z"
   },
   {
    "duration": 0,
    "start_time": "2025-03-07T19:02:42.667Z"
   },
   {
    "duration": 0,
    "start_time": "2025-03-07T19:02:42.668Z"
   },
   {
    "duration": 0,
    "start_time": "2025-03-07T19:02:42.670Z"
   },
   {
    "duration": 0,
    "start_time": "2025-03-07T19:02:42.671Z"
   },
   {
    "duration": 0,
    "start_time": "2025-03-07T19:02:42.672Z"
   },
   {
    "duration": 0,
    "start_time": "2025-03-07T19:02:42.674Z"
   },
   {
    "duration": 0,
    "start_time": "2025-03-07T19:02:42.676Z"
   },
   {
    "duration": 0,
    "start_time": "2025-03-07T19:02:42.677Z"
   },
   {
    "duration": 0,
    "start_time": "2025-03-07T19:02:42.678Z"
   },
   {
    "duration": 0,
    "start_time": "2025-03-07T19:02:42.680Z"
   },
   {
    "duration": 0,
    "start_time": "2025-03-07T19:02:42.682Z"
   },
   {
    "duration": 0,
    "start_time": "2025-03-07T19:02:42.683Z"
   },
   {
    "duration": 0,
    "start_time": "2025-03-07T19:02:42.684Z"
   },
   {
    "duration": 0,
    "start_time": "2025-03-07T19:02:42.685Z"
   },
   {
    "duration": 0,
    "start_time": "2025-03-07T19:02:42.687Z"
   },
   {
    "duration": 0,
    "start_time": "2025-03-07T19:02:42.688Z"
   },
   {
    "duration": 0,
    "start_time": "2025-03-07T19:02:42.690Z"
   },
   {
    "duration": 0,
    "start_time": "2025-03-07T19:02:42.691Z"
   },
   {
    "duration": 1,
    "start_time": "2025-03-07T19:02:42.692Z"
   },
   {
    "duration": 0,
    "start_time": "2025-03-07T19:02:42.694Z"
   },
   {
    "duration": 0,
    "start_time": "2025-03-07T19:02:42.695Z"
   },
   {
    "duration": 0,
    "start_time": "2025-03-07T19:02:42.697Z"
   },
   {
    "duration": 0,
    "start_time": "2025-03-07T19:02:42.698Z"
   },
   {
    "duration": 0,
    "start_time": "2025-03-07T19:02:42.762Z"
   },
   {
    "duration": 0,
    "start_time": "2025-03-07T19:02:42.764Z"
   },
   {
    "duration": 0,
    "start_time": "2025-03-07T19:02:42.766Z"
   },
   {
    "duration": 0,
    "start_time": "2025-03-07T19:02:42.767Z"
   },
   {
    "duration": 0,
    "start_time": "2025-03-07T19:02:42.768Z"
   },
   {
    "duration": 0,
    "start_time": "2025-03-07T19:02:42.770Z"
   },
   {
    "duration": 0,
    "start_time": "2025-03-07T19:02:42.771Z"
   },
   {
    "duration": 0,
    "start_time": "2025-03-07T19:02:42.773Z"
   },
   {
    "duration": 0,
    "start_time": "2025-03-07T19:02:42.775Z"
   },
   {
    "duration": 0,
    "start_time": "2025-03-07T19:02:42.776Z"
   },
   {
    "duration": 0,
    "start_time": "2025-03-07T19:02:42.777Z"
   },
   {
    "duration": 0,
    "start_time": "2025-03-07T19:02:42.779Z"
   },
   {
    "duration": 0,
    "start_time": "2025-03-07T19:02:42.780Z"
   },
   {
    "duration": 0,
    "start_time": "2025-03-07T19:02:42.784Z"
   },
   {
    "duration": 0,
    "start_time": "2025-03-07T19:02:42.786Z"
   },
   {
    "duration": 0,
    "start_time": "2025-03-07T19:02:42.787Z"
   },
   {
    "duration": 0,
    "start_time": "2025-03-07T19:02:42.788Z"
   },
   {
    "duration": 0,
    "start_time": "2025-03-07T19:02:42.790Z"
   },
   {
    "duration": 0,
    "start_time": "2025-03-07T19:02:42.791Z"
   },
   {
    "duration": 0,
    "start_time": "2025-03-07T19:02:42.792Z"
   },
   {
    "duration": 0,
    "start_time": "2025-03-07T19:02:42.793Z"
   },
   {
    "duration": 0,
    "start_time": "2025-03-07T19:02:42.795Z"
   },
   {
    "duration": 0,
    "start_time": "2025-03-07T19:02:42.795Z"
   },
   {
    "duration": 0,
    "start_time": "2025-03-07T19:02:42.796Z"
   },
   {
    "duration": 0,
    "start_time": "2025-03-07T19:02:42.798Z"
   },
   {
    "duration": 0,
    "start_time": "2025-03-07T19:02:42.799Z"
   },
   {
    "duration": 0,
    "start_time": "2025-03-07T19:02:42.863Z"
   },
   {
    "duration": 0,
    "start_time": "2025-03-07T19:02:42.865Z"
   },
   {
    "duration": 0,
    "start_time": "2025-03-07T19:02:42.867Z"
   },
   {
    "duration": 51,
    "start_time": "2025-03-07T19:03:28.741Z"
   },
   {
    "duration": 2529,
    "start_time": "2025-03-07T19:04:04.406Z"
   },
   {
    "duration": 1560,
    "start_time": "2025-03-07T19:04:06.939Z"
   },
   {
    "duration": 3,
    "start_time": "2025-03-07T19:04:08.501Z"
   },
   {
    "duration": 2075,
    "start_time": "2025-03-07T19:04:08.506Z"
   },
   {
    "duration": 154,
    "start_time": "2025-03-07T19:04:10.583Z"
   },
   {
    "duration": 72,
    "start_time": "2025-03-07T19:04:10.739Z"
   },
   {
    "duration": 15,
    "start_time": "2025-03-07T19:04:10.813Z"
   },
   {
    "duration": 43,
    "start_time": "2025-03-07T19:04:10.830Z"
   },
   {
    "duration": 132,
    "start_time": "2025-03-07T19:04:10.875Z"
   },
   {
    "duration": 4,
    "start_time": "2025-03-07T19:04:11.011Z"
   },
   {
    "duration": 21,
    "start_time": "2025-03-07T19:04:11.016Z"
   },
   {
    "duration": 21,
    "start_time": "2025-03-07T19:04:11.038Z"
   },
   {
    "duration": 65,
    "start_time": "2025-03-07T19:04:11.061Z"
   },
   {
    "duration": 41,
    "start_time": "2025-03-07T19:04:11.128Z"
   },
   {
    "duration": 54,
    "start_time": "2025-03-07T19:04:11.171Z"
   },
   {
    "duration": 19,
    "start_time": "2025-03-07T19:04:11.227Z"
   },
   {
    "duration": 50,
    "start_time": "2025-03-07T19:04:11.247Z"
   },
   {
    "duration": 130,
    "start_time": "2025-03-07T19:04:11.300Z"
   },
   {
    "duration": 6,
    "start_time": "2025-03-07T19:04:11.432Z"
   },
   {
    "duration": 9,
    "start_time": "2025-03-07T19:04:11.439Z"
   },
   {
    "duration": 16,
    "start_time": "2025-03-07T19:04:11.449Z"
   },
   {
    "duration": 79,
    "start_time": "2025-03-07T19:04:11.467Z"
   },
   {
    "duration": 69,
    "start_time": "2025-03-07T19:04:11.548Z"
   },
   {
    "duration": 67,
    "start_time": "2025-03-07T19:04:11.619Z"
   },
   {
    "duration": 6,
    "start_time": "2025-03-07T19:04:11.688Z"
   },
   {
    "duration": 36,
    "start_time": "2025-03-07T19:04:11.696Z"
   },
   {
    "duration": 21,
    "start_time": "2025-03-07T19:04:11.734Z"
   },
   {
    "duration": 32,
    "start_time": "2025-03-07T19:04:11.765Z"
   },
   {
    "duration": 12,
    "start_time": "2025-03-07T19:04:11.800Z"
   },
   {
    "duration": 64,
    "start_time": "2025-03-07T19:04:11.814Z"
   },
   {
    "duration": 157,
    "start_time": "2025-03-07T19:04:11.879Z"
   },
   {
    "duration": 92,
    "start_time": "2025-03-07T19:04:12.037Z"
   },
   {
    "duration": 94,
    "start_time": "2025-03-07T19:04:12.131Z"
   },
   {
    "duration": 33,
    "start_time": "2025-03-07T19:04:12.227Z"
   },
   {
    "duration": 15,
    "start_time": "2025-03-07T19:04:12.262Z"
   },
   {
    "duration": 30,
    "start_time": "2025-03-07T19:04:12.279Z"
   },
   {
    "duration": 35,
    "start_time": "2025-03-07T19:04:12.311Z"
   },
   {
    "duration": 444,
    "start_time": "2025-03-07T19:04:12.363Z"
   },
   {
    "duration": 36,
    "start_time": "2025-03-07T19:04:12.809Z"
   },
   {
    "duration": 196,
    "start_time": "2025-03-07T19:04:12.846Z"
   },
   {
    "duration": 23,
    "start_time": "2025-03-07T19:04:13.043Z"
   },
   {
    "duration": 115,
    "start_time": "2025-03-07T19:04:13.068Z"
   },
   {
    "duration": 15,
    "start_time": "2025-03-07T19:04:13.184Z"
   },
   {
    "duration": 95,
    "start_time": "2025-03-07T19:04:13.200Z"
   },
   {
    "duration": 103,
    "start_time": "2025-03-07T19:04:13.296Z"
   },
   {
    "duration": 10,
    "start_time": "2025-03-07T19:04:13.401Z"
   },
   {
    "duration": 6,
    "start_time": "2025-03-07T19:04:13.412Z"
   },
   {
    "duration": 33,
    "start_time": "2025-03-07T19:04:13.420Z"
   },
   {
    "duration": 7,
    "start_time": "2025-03-07T19:04:13.455Z"
   },
   {
    "duration": 13,
    "start_time": "2025-03-07T19:04:13.464Z"
   },
   {
    "duration": 27,
    "start_time": "2025-03-07T19:04:13.479Z"
   },
   {
    "duration": 6,
    "start_time": "2025-03-07T19:04:13.508Z"
   },
   {
    "duration": 10,
    "start_time": "2025-03-07T19:04:13.516Z"
   },
   {
    "duration": 51,
    "start_time": "2025-03-07T19:04:13.528Z"
   },
   {
    "duration": 24,
    "start_time": "2025-03-07T19:04:13.581Z"
   },
   {
    "duration": 6,
    "start_time": "2025-03-07T19:04:13.607Z"
   },
   {
    "duration": 54,
    "start_time": "2025-03-07T19:04:13.615Z"
   },
   {
    "duration": 49,
    "start_time": "2025-03-07T19:04:13.672Z"
   },
   {
    "duration": 9,
    "start_time": "2025-03-07T19:04:13.723Z"
   },
   {
    "duration": 51,
    "start_time": "2025-03-07T19:04:13.734Z"
   },
   {
    "duration": 339,
    "start_time": "2025-03-07T19:04:13.786Z"
   },
   {
    "duration": 17,
    "start_time": "2025-03-07T19:04:14.126Z"
   },
   {
    "duration": 109,
    "start_time": "2025-03-07T19:04:14.145Z"
   },
   {
    "duration": 26,
    "start_time": "2025-03-07T19:04:14.255Z"
   },
   {
    "duration": 3,
    "start_time": "2025-03-07T19:04:14.282Z"
   },
   {
    "duration": 136,
    "start_time": "2025-03-07T19:04:14.287Z"
   },
   {
    "duration": 119,
    "start_time": "2025-03-07T19:04:14.425Z"
   },
   {
    "duration": 197,
    "start_time": "2025-03-07T19:04:14.546Z"
   },
   {
    "duration": 57,
    "start_time": "2025-03-07T19:04:14.745Z"
   },
   {
    "duration": 78,
    "start_time": "2025-03-07T19:04:14.804Z"
   },
   {
    "duration": 127,
    "start_time": "2025-03-07T19:04:14.884Z"
   },
   {
    "duration": 4,
    "start_time": "2025-03-07T19:04:15.014Z"
   },
   {
    "duration": 74,
    "start_time": "2025-03-07T19:04:15.020Z"
   },
   {
    "duration": 46,
    "start_time": "2025-03-07T19:04:15.096Z"
   },
   {
    "duration": 63,
    "start_time": "2025-03-07T19:04:15.144Z"
   },
   {
    "duration": 6,
    "start_time": "2025-03-07T19:04:15.209Z"
   },
   {
    "duration": 94,
    "start_time": "2025-03-07T19:04:15.217Z"
   },
   {
    "duration": 73,
    "start_time": "2025-03-07T19:04:15.313Z"
   },
   {
    "duration": 5,
    "start_time": "2025-03-07T19:04:15.388Z"
   },
   {
    "duration": 10,
    "start_time": "2025-03-07T19:05:07.656Z"
   },
   {
    "duration": 26,
    "start_time": "2025-03-07T19:05:09.665Z"
   },
   {
    "duration": 30,
    "start_time": "2025-03-07T19:05:20.388Z"
   },
   {
    "duration": 33,
    "start_time": "2025-03-07T19:05:48.732Z"
   },
   {
    "duration": 240,
    "start_time": "2025-03-07T19:06:00.622Z"
   },
   {
    "duration": 221,
    "start_time": "2025-03-07T19:08:12.248Z"
   },
   {
    "duration": 91,
    "start_time": "2025-03-07T19:12:06.341Z"
   },
   {
    "duration": 2514,
    "start_time": "2025-03-07T19:14:19.793Z"
   },
   {
    "duration": 1272,
    "start_time": "2025-03-07T19:14:22.310Z"
   },
   {
    "duration": 3,
    "start_time": "2025-03-07T19:14:23.583Z"
   },
   {
    "duration": 2143,
    "start_time": "2025-03-07T19:14:23.587Z"
   },
   {
    "duration": 201,
    "start_time": "2025-03-07T19:14:25.733Z"
   },
   {
    "duration": 13,
    "start_time": "2025-03-07T19:14:25.936Z"
   },
   {
    "duration": 13,
    "start_time": "2025-03-07T19:14:25.951Z"
   },
   {
    "duration": 124,
    "start_time": "2025-03-07T19:14:25.965Z"
   },
   {
    "duration": 113,
    "start_time": "2025-03-07T19:14:26.091Z"
   },
   {
    "duration": 3,
    "start_time": "2025-03-07T19:14:26.206Z"
   },
   {
    "duration": 74,
    "start_time": "2025-03-07T19:14:26.211Z"
   },
   {
    "duration": 14,
    "start_time": "2025-03-07T19:14:26.287Z"
   },
   {
    "duration": 50,
    "start_time": "2025-03-07T19:14:26.303Z"
   },
   {
    "duration": 7,
    "start_time": "2025-03-07T19:14:26.356Z"
   },
   {
    "duration": 121,
    "start_time": "2025-03-07T19:14:26.365Z"
   },
   {
    "duration": 251,
    "start_time": "2025-03-07T19:14:26.487Z"
   },
   {
    "duration": 38,
    "start_time": "2025-03-07T19:14:26.739Z"
   },
   {
    "duration": 97,
    "start_time": "2025-03-07T19:14:26.778Z"
   },
   {
    "duration": 6,
    "start_time": "2025-03-07T19:14:26.877Z"
   },
   {
    "duration": 28,
    "start_time": "2025-03-07T19:14:26.885Z"
   },
   {
    "duration": 32,
    "start_time": "2025-03-07T19:14:26.915Z"
   },
   {
    "duration": 75,
    "start_time": "2025-03-07T19:14:26.949Z"
   },
   {
    "duration": 79,
    "start_time": "2025-03-07T19:14:27.027Z"
   },
   {
    "duration": 67,
    "start_time": "2025-03-07T19:14:27.108Z"
   },
   {
    "duration": 7,
    "start_time": "2025-03-07T19:14:27.177Z"
   },
   {
    "duration": 24,
    "start_time": "2025-03-07T19:14:27.186Z"
   },
   {
    "duration": 7,
    "start_time": "2025-03-07T19:14:27.212Z"
   },
   {
    "duration": 44,
    "start_time": "2025-03-07T19:14:27.221Z"
   },
   {
    "duration": 6,
    "start_time": "2025-03-07T19:14:27.268Z"
   },
   {
    "duration": 88,
    "start_time": "2025-03-07T19:14:27.276Z"
   },
   {
    "duration": 196,
    "start_time": "2025-03-07T19:14:27.367Z"
   },
   {
    "duration": 79,
    "start_time": "2025-03-07T19:14:27.565Z"
   },
   {
    "duration": 52,
    "start_time": "2025-03-07T19:14:27.646Z"
   },
   {
    "duration": 63,
    "start_time": "2025-03-07T19:14:27.700Z"
   },
   {
    "duration": 14,
    "start_time": "2025-03-07T19:14:27.765Z"
   },
   {
    "duration": 47,
    "start_time": "2025-03-07T19:14:27.781Z"
   },
   {
    "duration": 76,
    "start_time": "2025-03-07T19:14:27.829Z"
   },
   {
    "duration": 250,
    "start_time": "2025-03-07T19:14:27.907Z"
   },
   {
    "duration": 38,
    "start_time": "2025-03-07T19:14:28.161Z"
   },
   {
    "duration": 314966,
    "start_time": "2025-03-07T19:14:28.201Z"
   },
   {
    "duration": 197,
    "start_time": "2025-03-07T19:19:43.172Z"
   },
   {
    "duration": 22,
    "start_time": "2025-03-07T19:19:43.371Z"
   },
   {
    "duration": 121,
    "start_time": "2025-03-07T19:19:43.395Z"
   },
   {
    "duration": 15,
    "start_time": "2025-03-07T19:19:43.518Z"
   },
   {
    "duration": 134,
    "start_time": "2025-03-07T19:19:43.535Z"
   },
   {
    "duration": 103,
    "start_time": "2025-03-07T19:19:43.672Z"
   },
   {
    "duration": 18,
    "start_time": "2025-03-07T19:19:43.777Z"
   },
   {
    "duration": 10,
    "start_time": "2025-03-07T19:19:43.797Z"
   },
   {
    "duration": 34,
    "start_time": "2025-03-07T19:19:43.809Z"
   },
   {
    "duration": 19,
    "start_time": "2025-03-07T19:19:43.844Z"
   },
   {
    "duration": 17,
    "start_time": "2025-03-07T19:19:43.865Z"
   },
   {
    "duration": 33,
    "start_time": "2025-03-07T19:19:43.884Z"
   },
   {
    "duration": 18,
    "start_time": "2025-03-07T19:19:43.918Z"
   },
   {
    "duration": 6,
    "start_time": "2025-03-07T19:19:43.937Z"
   },
   {
    "duration": 69,
    "start_time": "2025-03-07T19:19:43.944Z"
   },
   {
    "duration": 35,
    "start_time": "2025-03-07T19:19:44.015Z"
   },
   {
    "duration": 44,
    "start_time": "2025-03-07T19:19:44.052Z"
   },
   {
    "duration": 50,
    "start_time": "2025-03-07T19:19:44.099Z"
   },
   {
    "duration": 92,
    "start_time": "2025-03-07T19:19:44.151Z"
   },
   {
    "duration": 70,
    "start_time": "2025-03-07T19:19:44.245Z"
   },
   {
    "duration": 60,
    "start_time": "2025-03-07T19:19:44.317Z"
   },
   {
    "duration": 596,
    "start_time": "2025-03-07T19:19:44.379Z"
   },
   {
    "duration": 16,
    "start_time": "2025-03-07T19:19:44.977Z"
   },
   {
    "duration": 151,
    "start_time": "2025-03-07T19:19:44.995Z"
   },
   {
    "duration": 30,
    "start_time": "2025-03-07T19:19:45.148Z"
   },
   {
    "duration": 12,
    "start_time": "2025-03-07T19:19:45.181Z"
   },
   {
    "duration": 231,
    "start_time": "2025-03-07T19:19:45.195Z"
   },
   {
    "duration": 50,
    "start_time": "2025-03-07T19:19:45.428Z"
   },
   {
    "duration": 233,
    "start_time": "2025-03-07T19:19:45.481Z"
   },
   {
    "duration": 76,
    "start_time": "2025-03-07T19:19:45.717Z"
   },
   {
    "duration": 77,
    "start_time": "2025-03-07T19:19:45.795Z"
   },
   {
    "duration": 167,
    "start_time": "2025-03-07T19:19:45.874Z"
   },
   {
    "duration": 6,
    "start_time": "2025-03-07T19:19:46.043Z"
   },
   {
    "duration": 52,
    "start_time": "2025-03-07T19:19:46.061Z"
   },
   {
    "duration": 27,
    "start_time": "2025-03-07T19:19:46.115Z"
   },
   {
    "duration": 129,
    "start_time": "2025-03-07T19:19:46.143Z"
   },
   {
    "duration": 17,
    "start_time": "2025-03-07T19:19:46.275Z"
   },
   {
    "duration": 10,
    "start_time": "2025-03-07T19:19:46.294Z"
   },
   {
    "duration": 31,
    "start_time": "2025-03-07T19:19:46.306Z"
   },
   {
    "duration": 6,
    "start_time": "2025-03-07T19:19:46.338Z"
   },
   {
    "duration": 114,
    "start_time": "2025-03-07T19:21:12.033Z"
   },
   {
    "duration": 108,
    "start_time": "2025-03-07T19:21:32.294Z"
   },
   {
    "duration": 502,
    "start_time": "2025-03-07T19:24:51.180Z"
   },
   {
    "duration": 31,
    "start_time": "2025-03-07T19:29:04.410Z"
   },
   {
    "duration": 35,
    "start_time": "2025-03-07T19:29:14.849Z"
   },
   {
    "duration": 484,
    "start_time": "2025-03-07T19:29:39.878Z"
   },
   {
    "duration": 317169,
    "start_time": "2025-03-07T19:30:28.119Z"
   },
   {
    "duration": 18,
    "start_time": "2025-03-07T19:35:45.290Z"
   },
   {
    "duration": 13,
    "start_time": "2025-03-07T19:36:23.092Z"
   },
   {
    "duration": 1130,
    "start_time": "2025-03-07T19:37:01.986Z"
   },
   {
    "duration": 590,
    "start_time": "2025-03-07T19:38:32.761Z"
   },
   {
    "duration": 587,
    "start_time": "2025-03-07T19:40:02.875Z"
   },
   {
    "duration": 580,
    "start_time": "2025-03-07T19:40:28.582Z"
   },
   {
    "duration": 15,
    "start_time": "2025-03-07T19:45:27.255Z"
   },
   {
    "duration": 11,
    "start_time": "2025-03-07T19:45:54.005Z"
   },
   {
    "duration": 16,
    "start_time": "2025-03-07T19:46:42.211Z"
   },
   {
    "duration": 21,
    "start_time": "2025-03-07T19:46:57.122Z"
   },
   {
    "duration": 190,
    "start_time": "2025-03-07T19:47:59.719Z"
   },
   {
    "duration": 216,
    "start_time": "2025-03-07T19:48:17.416Z"
   },
   {
    "duration": 57,
    "start_time": "2025-03-07T19:48:37.021Z"
   },
   {
    "duration": 88,
    "start_time": "2025-03-07T19:49:17.448Z"
   },
   {
    "duration": 73,
    "start_time": "2025-03-07T19:49:22.747Z"
   },
   {
    "duration": 38,
    "start_time": "2025-03-07T19:49:30.173Z"
   },
   {
    "duration": 212,
    "start_time": "2025-03-07T19:49:57.386Z"
   },
   {
    "duration": 4973,
    "start_time": "2025-03-08T16:12:35.892Z"
   },
   {
    "duration": 1636,
    "start_time": "2025-03-08T16:12:40.869Z"
   },
   {
    "duration": 3,
    "start_time": "2025-03-08T16:12:42.507Z"
   },
   {
    "duration": 2590,
    "start_time": "2025-03-08T16:12:42.513Z"
   },
   {
    "duration": 253,
    "start_time": "2025-03-08T16:12:45.105Z"
   },
   {
    "duration": 14,
    "start_time": "2025-03-08T16:12:45.360Z"
   },
   {
    "duration": 19,
    "start_time": "2025-03-08T16:12:45.376Z"
   },
   {
    "duration": 29,
    "start_time": "2025-03-08T16:12:45.397Z"
   },
   {
    "duration": 126,
    "start_time": "2025-03-08T16:12:45.427Z"
   },
   {
    "duration": 4,
    "start_time": "2025-03-08T16:12:45.556Z"
   },
   {
    "duration": 16,
    "start_time": "2025-03-08T16:12:45.562Z"
   },
   {
    "duration": 35,
    "start_time": "2025-03-08T16:12:45.581Z"
   },
   {
    "duration": 49,
    "start_time": "2025-03-08T16:12:45.618Z"
   },
   {
    "duration": 8,
    "start_time": "2025-03-08T16:12:45.669Z"
   },
   {
    "duration": 29,
    "start_time": "2025-03-08T16:12:45.680Z"
   },
   {
    "duration": 9,
    "start_time": "2025-03-08T16:12:45.711Z"
   },
   {
    "duration": 73,
    "start_time": "2025-03-08T16:12:45.722Z"
   },
   {
    "duration": 114,
    "start_time": "2025-03-08T16:12:45.797Z"
   },
   {
    "duration": 7,
    "start_time": "2025-03-08T16:12:45.914Z"
   },
   {
    "duration": 10,
    "start_time": "2025-03-08T16:12:45.923Z"
   },
   {
    "duration": 6,
    "start_time": "2025-03-08T16:12:45.934Z"
   },
   {
    "duration": 87,
    "start_time": "2025-03-08T16:12:45.942Z"
   },
   {
    "duration": 78,
    "start_time": "2025-03-08T16:12:46.031Z"
   },
   {
    "duration": 61,
    "start_time": "2025-03-08T16:12:46.111Z"
   },
   {
    "duration": 7,
    "start_time": "2025-03-08T16:12:46.174Z"
   },
   {
    "duration": 35,
    "start_time": "2025-03-08T16:12:46.183Z"
   },
   {
    "duration": 7,
    "start_time": "2025-03-08T16:12:46.219Z"
   },
   {
    "duration": 18,
    "start_time": "2025-03-08T16:12:46.231Z"
   },
   {
    "duration": 27,
    "start_time": "2025-03-08T16:12:46.250Z"
   },
   {
    "duration": 61,
    "start_time": "2025-03-08T16:12:46.279Z"
   },
   {
    "duration": 185,
    "start_time": "2025-03-08T16:12:46.343Z"
   },
   {
    "duration": 90,
    "start_time": "2025-03-08T16:12:46.530Z"
   },
   {
    "duration": 29,
    "start_time": "2025-03-08T16:12:46.622Z"
   },
   {
    "duration": 36,
    "start_time": "2025-03-08T16:12:46.673Z"
   },
   {
    "duration": 12,
    "start_time": "2025-03-08T16:12:46.711Z"
   },
   {
    "duration": 48,
    "start_time": "2025-03-08T16:12:46.725Z"
   },
   {
    "duration": 40,
    "start_time": "2025-03-08T16:12:46.775Z"
   },
   {
    "duration": 275,
    "start_time": "2025-03-08T16:12:46.817Z"
   },
   {
    "duration": 40,
    "start_time": "2025-03-08T16:12:47.095Z"
   },
   {
    "duration": 535,
    "start_time": "2025-03-08T16:12:47.137Z"
   },
   {
    "duration": 1084,
    "start_time": "2025-03-08T16:12:47.674Z"
   },
   {
    "duration": 0,
    "start_time": "2025-03-08T16:12:48.761Z"
   },
   {
    "duration": 0,
    "start_time": "2025-03-08T16:12:48.762Z"
   },
   {
    "duration": 0,
    "start_time": "2025-03-08T16:12:48.764Z"
   },
   {
    "duration": 0,
    "start_time": "2025-03-08T16:12:48.766Z"
   },
   {
    "duration": 0,
    "start_time": "2025-03-08T16:12:48.768Z"
   },
   {
    "duration": 0,
    "start_time": "2025-03-08T16:12:48.769Z"
   },
   {
    "duration": 0,
    "start_time": "2025-03-08T16:12:48.771Z"
   },
   {
    "duration": 0,
    "start_time": "2025-03-08T16:12:48.773Z"
   },
   {
    "duration": 0,
    "start_time": "2025-03-08T16:12:48.775Z"
   },
   {
    "duration": 0,
    "start_time": "2025-03-08T16:12:48.777Z"
   },
   {
    "duration": 0,
    "start_time": "2025-03-08T16:12:48.779Z"
   },
   {
    "duration": 0,
    "start_time": "2025-03-08T16:12:48.781Z"
   },
   {
    "duration": 0,
    "start_time": "2025-03-08T16:12:48.784Z"
   },
   {
    "duration": 0,
    "start_time": "2025-03-08T16:12:48.785Z"
   },
   {
    "duration": 0,
    "start_time": "2025-03-08T16:12:48.787Z"
   },
   {
    "duration": 0,
    "start_time": "2025-03-08T16:12:48.789Z"
   },
   {
    "duration": 0,
    "start_time": "2025-03-08T16:12:48.790Z"
   },
   {
    "duration": 0,
    "start_time": "2025-03-08T16:12:48.792Z"
   },
   {
    "duration": 0,
    "start_time": "2025-03-08T16:12:48.794Z"
   },
   {
    "duration": 0,
    "start_time": "2025-03-08T16:12:48.796Z"
   },
   {
    "duration": 0,
    "start_time": "2025-03-08T16:12:48.798Z"
   },
   {
    "duration": 0,
    "start_time": "2025-03-08T16:12:48.799Z"
   },
   {
    "duration": 0,
    "start_time": "2025-03-08T16:12:48.800Z"
   },
   {
    "duration": 0,
    "start_time": "2025-03-08T16:12:48.801Z"
   },
   {
    "duration": 0,
    "start_time": "2025-03-08T16:12:48.803Z"
   },
   {
    "duration": 0,
    "start_time": "2025-03-08T16:12:48.804Z"
   },
   {
    "duration": 0,
    "start_time": "2025-03-08T16:12:48.805Z"
   },
   {
    "duration": 0,
    "start_time": "2025-03-08T16:12:48.807Z"
   },
   {
    "duration": 0,
    "start_time": "2025-03-08T16:12:48.809Z"
   },
   {
    "duration": 0,
    "start_time": "2025-03-08T16:12:48.810Z"
   },
   {
    "duration": 0,
    "start_time": "2025-03-08T16:12:48.811Z"
   },
   {
    "duration": 0,
    "start_time": "2025-03-08T16:12:48.871Z"
   },
   {
    "duration": 0,
    "start_time": "2025-03-08T16:12:48.874Z"
   },
   {
    "duration": 0,
    "start_time": "2025-03-08T16:12:48.875Z"
   },
   {
    "duration": 0,
    "start_time": "2025-03-08T16:12:48.877Z"
   },
   {
    "duration": 0,
    "start_time": "2025-03-08T16:12:48.880Z"
   },
   {
    "duration": 0,
    "start_time": "2025-03-08T16:12:48.881Z"
   },
   {
    "duration": 0,
    "start_time": "2025-03-08T16:12:48.883Z"
   },
   {
    "duration": 0,
    "start_time": "2025-03-08T16:12:48.885Z"
   },
   {
    "duration": 0,
    "start_time": "2025-03-08T16:12:48.886Z"
   },
   {
    "duration": 0,
    "start_time": "2025-03-08T16:12:48.888Z"
   },
   {
    "duration": 17,
    "start_time": "2025-03-08T16:13:33.363Z"
   },
   {
    "duration": 190,
    "start_time": "2025-03-08T16:13:38.074Z"
   },
   {
    "duration": 1039,
    "start_time": "2025-03-08T16:14:05.788Z"
   },
   {
    "duration": 72,
    "start_time": "2025-03-08T16:15:29.169Z"
   },
   {
    "duration": 121,
    "start_time": "2025-03-08T16:16:43.161Z"
   },
   {
    "duration": 21,
    "start_time": "2025-03-08T16:17:17.972Z"
   },
   {
    "duration": 79,
    "start_time": "2025-03-08T16:18:13.000Z"
   },
   {
    "duration": 315,
    "start_time": "2025-03-08T16:18:15.465Z"
   },
   {
    "duration": 2824,
    "start_time": "2025-03-08T16:18:37.634Z"
   },
   {
    "duration": 1337,
    "start_time": "2025-03-08T16:18:40.461Z"
   },
   {
    "duration": 2,
    "start_time": "2025-03-08T16:18:41.800Z"
   },
   {
    "duration": 2361,
    "start_time": "2025-03-08T16:18:41.804Z"
   },
   {
    "duration": 211,
    "start_time": "2025-03-08T16:18:44.167Z"
   },
   {
    "duration": 14,
    "start_time": "2025-03-08T16:18:44.379Z"
   },
   {
    "duration": 25,
    "start_time": "2025-03-08T16:18:44.394Z"
   },
   {
    "duration": 29,
    "start_time": "2025-03-08T16:18:44.421Z"
   },
   {
    "duration": 118,
    "start_time": "2025-03-08T16:18:44.451Z"
   },
   {
    "duration": 3,
    "start_time": "2025-03-08T16:18:44.574Z"
   },
   {
    "duration": 14,
    "start_time": "2025-03-08T16:18:44.579Z"
   },
   {
    "duration": 18,
    "start_time": "2025-03-08T16:18:44.595Z"
   },
   {
    "duration": 45,
    "start_time": "2025-03-08T16:18:44.615Z"
   },
   {
    "duration": 17,
    "start_time": "2025-03-08T16:18:44.661Z"
   },
   {
    "duration": 43,
    "start_time": "2025-03-08T16:18:44.679Z"
   },
   {
    "duration": 9,
    "start_time": "2025-03-08T16:18:44.723Z"
   },
   {
    "duration": 33,
    "start_time": "2025-03-08T16:18:44.733Z"
   },
   {
    "duration": 82,
    "start_time": "2025-03-08T16:18:44.768Z"
   },
   {
    "duration": 6,
    "start_time": "2025-03-08T16:18:44.852Z"
   },
   {
    "duration": 9,
    "start_time": "2025-03-08T16:18:44.871Z"
   },
   {
    "duration": 6,
    "start_time": "2025-03-08T16:18:44.882Z"
   },
   {
    "duration": 58,
    "start_time": "2025-03-08T16:18:44.889Z"
   },
   {
    "duration": 88,
    "start_time": "2025-03-08T16:18:44.949Z"
   },
   {
    "duration": 60,
    "start_time": "2025-03-08T16:18:45.039Z"
   },
   {
    "duration": 27,
    "start_time": "2025-03-08T16:18:45.101Z"
   },
   {
    "duration": 34,
    "start_time": "2025-03-08T16:18:45.130Z"
   },
   {
    "duration": 43,
    "start_time": "2025-03-08T16:18:45.165Z"
   },
   {
    "duration": 36,
    "start_time": "2025-03-08T16:18:45.213Z"
   },
   {
    "duration": 36,
    "start_time": "2025-03-08T16:18:45.251Z"
   },
   {
    "duration": 91,
    "start_time": "2025-03-08T16:18:45.289Z"
   },
   {
    "duration": 170,
    "start_time": "2025-03-08T16:18:45.382Z"
   },
   {
    "duration": 85,
    "start_time": "2025-03-08T16:18:45.554Z"
   },
   {
    "duration": 47,
    "start_time": "2025-03-08T16:18:45.641Z"
   },
   {
    "duration": 36,
    "start_time": "2025-03-08T16:18:45.690Z"
   },
   {
    "duration": 11,
    "start_time": "2025-03-08T16:18:45.728Z"
   },
   {
    "duration": 74,
    "start_time": "2025-03-08T16:18:45.741Z"
   },
   {
    "duration": 49,
    "start_time": "2025-03-08T16:18:45.817Z"
   },
   {
    "duration": 257,
    "start_time": "2025-03-08T16:18:45.867Z"
   },
   {
    "duration": 47,
    "start_time": "2025-03-08T16:18:46.126Z"
   },
   {
    "duration": 512,
    "start_time": "2025-03-08T16:18:46.174Z"
   },
   {
    "duration": 92,
    "start_time": "2025-03-08T16:18:46.688Z"
   },
   {
    "duration": 211,
    "start_time": "2025-03-08T16:18:46.782Z"
   },
   {
    "duration": 178,
    "start_time": "2025-03-08T16:18:46.994Z"
   },
   {
    "duration": 22,
    "start_time": "2025-03-08T16:18:47.174Z"
   },
   {
    "duration": 107,
    "start_time": "2025-03-08T16:18:47.198Z"
   },
   {
    "duration": 16,
    "start_time": "2025-03-08T16:18:47.307Z"
   },
   {
    "duration": 90,
    "start_time": "2025-03-08T16:18:47.324Z"
   },
   {
    "duration": 89,
    "start_time": "2025-03-08T16:18:47.416Z"
   },
   {
    "duration": 11,
    "start_time": "2025-03-08T16:18:47.507Z"
   },
   {
    "duration": 6,
    "start_time": "2025-03-08T16:18:47.520Z"
   },
   {
    "duration": 22,
    "start_time": "2025-03-08T16:18:47.528Z"
   },
   {
    "duration": 22,
    "start_time": "2025-03-08T16:18:47.552Z"
   },
   {
    "duration": 5,
    "start_time": "2025-03-08T16:18:47.576Z"
   },
   {
    "duration": 22,
    "start_time": "2025-03-08T16:18:47.583Z"
   },
   {
    "duration": 131,
    "start_time": "2025-03-08T16:18:47.607Z"
   },
   {
    "duration": 53,
    "start_time": "2025-03-08T16:18:47.740Z"
   },
   {
    "duration": 43,
    "start_time": "2025-03-08T16:18:47.795Z"
   },
   {
    "duration": 24,
    "start_time": "2025-03-08T16:18:47.840Z"
   },
   {
    "duration": 6,
    "start_time": "2025-03-08T16:18:47.866Z"
   },
   {
    "duration": 35,
    "start_time": "2025-03-08T16:18:47.874Z"
   },
   {
    "duration": 39,
    "start_time": "2025-03-08T16:18:47.911Z"
   },
   {
    "duration": 25,
    "start_time": "2025-03-08T16:18:47.952Z"
   },
   {
    "duration": 27,
    "start_time": "2025-03-08T16:18:47.978Z"
   },
   {
    "duration": 365,
    "start_time": "2025-03-08T16:18:48.007Z"
   },
   {
    "duration": 17,
    "start_time": "2025-03-08T16:18:48.373Z"
   },
   {
    "duration": 67,
    "start_time": "2025-03-08T16:18:48.392Z"
   },
   {
    "duration": 25,
    "start_time": "2025-03-08T16:18:48.472Z"
   },
   {
    "duration": 3,
    "start_time": "2025-03-08T16:18:48.499Z"
   },
   {
    "duration": 143,
    "start_time": "2025-03-08T16:18:48.504Z"
   },
   {
    "duration": 42,
    "start_time": "2025-03-08T16:18:48.648Z"
   },
   {
    "duration": 222,
    "start_time": "2025-03-08T16:18:48.691Z"
   },
   {
    "duration": 65,
    "start_time": "2025-03-08T16:18:48.915Z"
   },
   {
    "duration": 69,
    "start_time": "2025-03-08T16:18:48.982Z"
   },
   {
    "duration": 169,
    "start_time": "2025-03-08T16:18:49.053Z"
   },
   {
    "duration": 5,
    "start_time": "2025-03-08T16:18:49.224Z"
   },
   {
    "duration": 19,
    "start_time": "2025-03-08T16:18:49.231Z"
   },
   {
    "duration": 37,
    "start_time": "2025-03-08T16:18:49.252Z"
   },
   {
    "duration": 40,
    "start_time": "2025-03-08T16:18:49.291Z"
   },
   {
    "duration": 7,
    "start_time": "2025-03-08T16:18:49.332Z"
   },
   {
    "duration": 36,
    "start_time": "2025-03-08T16:18:49.340Z"
   },
   {
    "duration": 30,
    "start_time": "2025-03-08T16:18:49.378Z"
   },
   {
    "duration": 5,
    "start_time": "2025-03-08T16:18:49.413Z"
   },
   {
    "duration": 78,
    "start_time": "2025-03-08T16:19:28.216Z"
   },
   {
    "duration": 136,
    "start_time": "2025-03-08T16:19:50.097Z"
   },
   {
    "duration": 2859,
    "start_time": "2025-03-08T16:20:00.391Z"
   },
   {
    "duration": 1455,
    "start_time": "2025-03-08T16:20:03.253Z"
   },
   {
    "duration": 2,
    "start_time": "2025-03-08T16:20:04.710Z"
   },
   {
    "duration": 2083,
    "start_time": "2025-03-08T16:20:04.714Z"
   },
   {
    "duration": 129,
    "start_time": "2025-03-08T16:20:06.799Z"
   },
   {
    "duration": 14,
    "start_time": "2025-03-08T16:20:06.929Z"
   },
   {
    "duration": 13,
    "start_time": "2025-03-08T16:20:06.944Z"
   },
   {
    "duration": 29,
    "start_time": "2025-03-08T16:20:06.958Z"
   },
   {
    "duration": 110,
    "start_time": "2025-03-08T16:20:06.989Z"
   },
   {
    "duration": 3,
    "start_time": "2025-03-08T16:20:07.102Z"
   },
   {
    "duration": 6,
    "start_time": "2025-03-08T16:20:07.106Z"
   },
   {
    "duration": 19,
    "start_time": "2025-03-08T16:20:07.114Z"
   },
   {
    "duration": 57,
    "start_time": "2025-03-08T16:20:07.134Z"
   },
   {
    "duration": 8,
    "start_time": "2025-03-08T16:20:07.193Z"
   },
   {
    "duration": 28,
    "start_time": "2025-03-08T16:20:07.203Z"
   },
   {
    "duration": 9,
    "start_time": "2025-03-08T16:20:07.233Z"
   },
   {
    "duration": 45,
    "start_time": "2025-03-08T16:20:07.244Z"
   },
   {
    "duration": 91,
    "start_time": "2025-03-08T16:20:07.291Z"
   },
   {
    "duration": 6,
    "start_time": "2025-03-08T16:20:07.384Z"
   },
   {
    "duration": 15,
    "start_time": "2025-03-08T16:20:07.391Z"
   },
   {
    "duration": 10,
    "start_time": "2025-03-08T16:20:07.408Z"
   },
   {
    "duration": 67,
    "start_time": "2025-03-08T16:20:07.420Z"
   },
   {
    "duration": 68,
    "start_time": "2025-03-08T16:20:07.489Z"
   },
   {
    "duration": 63,
    "start_time": "2025-03-08T16:20:07.559Z"
   },
   {
    "duration": 6,
    "start_time": "2025-03-08T16:20:07.624Z"
   },
   {
    "duration": 46,
    "start_time": "2025-03-08T16:20:07.632Z"
   },
   {
    "duration": 14,
    "start_time": "2025-03-08T16:20:07.680Z"
   },
   {
    "duration": 25,
    "start_time": "2025-03-08T16:20:07.700Z"
   },
   {
    "duration": 12,
    "start_time": "2025-03-08T16:20:07.726Z"
   },
   {
    "duration": 105,
    "start_time": "2025-03-08T16:20:07.740Z"
   },
   {
    "duration": 158,
    "start_time": "2025-03-08T16:20:07.848Z"
   },
   {
    "duration": 89,
    "start_time": "2025-03-08T16:20:08.008Z"
   },
   {
    "duration": 26,
    "start_time": "2025-03-08T16:20:08.098Z"
   },
   {
    "duration": 50,
    "start_time": "2025-03-08T16:20:08.126Z"
   },
   {
    "duration": 11,
    "start_time": "2025-03-08T16:20:08.178Z"
   },
   {
    "duration": 29,
    "start_time": "2025-03-08T16:20:08.191Z"
   },
   {
    "duration": 63,
    "start_time": "2025-03-08T16:20:08.221Z"
   },
   {
    "duration": 266,
    "start_time": "2025-03-08T16:20:08.285Z"
   },
   {
    "duration": 48,
    "start_time": "2025-03-08T16:20:08.553Z"
   },
   {
    "duration": 559,
    "start_time": "2025-03-08T16:20:08.603Z"
   },
   {
    "duration": 93,
    "start_time": "2025-03-08T16:20:09.172Z"
   },
   {
    "duration": 211,
    "start_time": "2025-03-08T16:20:09.272Z"
   },
   {
    "duration": 180,
    "start_time": "2025-03-08T16:20:09.485Z"
   },
   {
    "duration": 27,
    "start_time": "2025-03-08T16:20:09.667Z"
   },
   {
    "duration": 197,
    "start_time": "2025-03-08T16:20:09.696Z"
   },
   {
    "duration": 18,
    "start_time": "2025-03-08T16:20:09.896Z"
   },
   {
    "duration": 98,
    "start_time": "2025-03-08T16:20:09.915Z"
   },
   {
    "duration": 100,
    "start_time": "2025-03-08T16:20:10.015Z"
   },
   {
    "duration": 11,
    "start_time": "2025-03-08T16:20:10.117Z"
   },
   {
    "duration": 9,
    "start_time": "2025-03-08T16:20:10.130Z"
   },
   {
    "duration": 39,
    "start_time": "2025-03-08T16:20:10.141Z"
   },
   {
    "duration": 23,
    "start_time": "2025-03-08T16:20:10.182Z"
   },
   {
    "duration": 9,
    "start_time": "2025-03-08T16:20:10.207Z"
   },
   {
    "duration": 26,
    "start_time": "2025-03-08T16:20:10.217Z"
   },
   {
    "duration": 5,
    "start_time": "2025-03-08T16:20:10.245Z"
   },
   {
    "duration": 5,
    "start_time": "2025-03-08T16:20:10.252Z"
   },
   {
    "duration": 53,
    "start_time": "2025-03-08T16:20:10.259Z"
   },
   {
    "duration": 26,
    "start_time": "2025-03-08T16:20:10.313Z"
   },
   {
    "duration": 5,
    "start_time": "2025-03-08T16:20:10.341Z"
   },
   {
    "duration": 53,
    "start_time": "2025-03-08T16:20:10.347Z"
   },
   {
    "duration": 42,
    "start_time": "2025-03-08T16:20:10.402Z"
   },
   {
    "duration": 27,
    "start_time": "2025-03-08T16:20:10.445Z"
   },
   {
    "duration": 30,
    "start_time": "2025-03-08T16:20:10.474Z"
   },
   {
    "duration": 412,
    "start_time": "2025-03-08T16:20:10.507Z"
   },
   {
    "duration": 18,
    "start_time": "2025-03-08T16:20:10.921Z"
   },
   {
    "duration": 84,
    "start_time": "2025-03-08T16:20:10.941Z"
   },
   {
    "duration": 28,
    "start_time": "2025-03-08T16:20:11.027Z"
   },
   {
    "duration": 16,
    "start_time": "2025-03-08T16:20:11.057Z"
   },
   {
    "duration": 168,
    "start_time": "2025-03-08T16:20:11.075Z"
   },
   {
    "duration": 51,
    "start_time": "2025-03-08T16:20:11.245Z"
   },
   {
    "duration": 230,
    "start_time": "2025-03-08T16:20:11.298Z"
   },
   {
    "duration": 67,
    "start_time": "2025-03-08T16:20:11.529Z"
   },
   {
    "duration": 83,
    "start_time": "2025-03-08T16:20:11.598Z"
   },
   {
    "duration": 188,
    "start_time": "2025-03-08T16:20:11.683Z"
   },
   {
    "duration": 6,
    "start_time": "2025-03-08T16:20:11.872Z"
   },
   {
    "duration": 25,
    "start_time": "2025-03-08T16:20:11.879Z"
   },
   {
    "duration": 25,
    "start_time": "2025-03-08T16:20:11.906Z"
   },
   {
    "duration": 57,
    "start_time": "2025-03-08T16:20:11.933Z"
   },
   {
    "duration": 7,
    "start_time": "2025-03-08T16:20:11.991Z"
   },
   {
    "duration": 11,
    "start_time": "2025-03-08T16:20:11.999Z"
   },
   {
    "duration": 31,
    "start_time": "2025-03-08T16:20:12.012Z"
   },
   {
    "duration": 6,
    "start_time": "2025-03-08T16:20:12.071Z"
   },
   {
    "duration": 92,
    "start_time": "2025-03-08T16:22:45.050Z"
   },
   {
    "duration": 153,
    "start_time": "2025-03-08T16:22:48.919Z"
   },
   {
    "duration": 271,
    "start_time": "2025-03-08T16:23:07.443Z"
   },
   {
    "duration": 2723,
    "start_time": "2025-03-08T16:23:16.782Z"
   },
   {
    "duration": 1273,
    "start_time": "2025-03-08T16:23:19.508Z"
   },
   {
    "duration": 3,
    "start_time": "2025-03-08T16:23:20.783Z"
   },
   {
    "duration": 1866,
    "start_time": "2025-03-08T16:23:20.788Z"
   },
   {
    "duration": 149,
    "start_time": "2025-03-08T16:23:22.655Z"
   },
   {
    "duration": 13,
    "start_time": "2025-03-08T16:23:22.806Z"
   },
   {
    "duration": 12,
    "start_time": "2025-03-08T16:23:22.821Z"
   },
   {
    "duration": 26,
    "start_time": "2025-03-08T16:23:22.835Z"
   },
   {
    "duration": 113,
    "start_time": "2025-03-08T16:23:22.872Z"
   },
   {
    "duration": 3,
    "start_time": "2025-03-08T16:23:22.988Z"
   },
   {
    "duration": 7,
    "start_time": "2025-03-08T16:23:22.993Z"
   },
   {
    "duration": 11,
    "start_time": "2025-03-08T16:23:23.001Z"
   },
   {
    "duration": 65,
    "start_time": "2025-03-08T16:23:23.013Z"
   },
   {
    "duration": 8,
    "start_time": "2025-03-08T16:23:23.080Z"
   },
   {
    "duration": 22,
    "start_time": "2025-03-08T16:23:23.090Z"
   },
   {
    "duration": 8,
    "start_time": "2025-03-08T16:23:23.114Z"
   },
   {
    "duration": 52,
    "start_time": "2025-03-08T16:23:23.123Z"
   },
   {
    "duration": 80,
    "start_time": "2025-03-08T16:23:23.177Z"
   },
   {
    "duration": 17,
    "start_time": "2025-03-08T16:23:23.259Z"
   },
   {
    "duration": 9,
    "start_time": "2025-03-08T16:23:23.278Z"
   },
   {
    "duration": 24,
    "start_time": "2025-03-08T16:23:23.288Z"
   },
   {
    "duration": 74,
    "start_time": "2025-03-08T16:23:23.314Z"
   },
   {
    "duration": 67,
    "start_time": "2025-03-08T16:23:23.390Z"
   },
   {
    "duration": 62,
    "start_time": "2025-03-08T16:23:23.459Z"
   },
   {
    "duration": 6,
    "start_time": "2025-03-08T16:23:23.523Z"
   },
   {
    "duration": 44,
    "start_time": "2025-03-08T16:23:23.531Z"
   },
   {
    "duration": 6,
    "start_time": "2025-03-08T16:23:23.577Z"
   },
   {
    "duration": 15,
    "start_time": "2025-03-08T16:23:23.588Z"
   },
   {
    "duration": 36,
    "start_time": "2025-03-08T16:23:23.605Z"
   },
   {
    "duration": 72,
    "start_time": "2025-03-08T16:23:23.643Z"
   },
   {
    "duration": 170,
    "start_time": "2025-03-08T16:23:23.717Z"
   },
   {
    "duration": 100,
    "start_time": "2025-03-08T16:23:23.889Z"
   },
   {
    "duration": 31,
    "start_time": "2025-03-08T16:23:23.991Z"
   },
   {
    "duration": 49,
    "start_time": "2025-03-08T16:23:24.024Z"
   },
   {
    "duration": 11,
    "start_time": "2025-03-08T16:23:24.075Z"
   },
   {
    "duration": 30,
    "start_time": "2025-03-08T16:23:24.088Z"
   },
   {
    "duration": 59,
    "start_time": "2025-03-08T16:23:24.120Z"
   },
   {
    "duration": 265,
    "start_time": "2025-03-08T16:23:24.181Z"
   },
   {
    "duration": 48,
    "start_time": "2025-03-08T16:23:24.448Z"
   },
   {
    "duration": 547,
    "start_time": "2025-03-08T16:23:24.498Z"
   },
   {
    "duration": 115,
    "start_time": "2025-03-08T16:23:25.047Z"
   },
   {
    "duration": 145,
    "start_time": "2025-03-08T16:23:25.163Z"
   },
   {
    "duration": 0,
    "start_time": "2025-03-08T16:23:25.310Z"
   },
   {
    "duration": 0,
    "start_time": "2025-03-08T16:23:25.311Z"
   },
   {
    "duration": 0,
    "start_time": "2025-03-08T16:23:25.313Z"
   },
   {
    "duration": 0,
    "start_time": "2025-03-08T16:23:25.314Z"
   },
   {
    "duration": 0,
    "start_time": "2025-03-08T16:23:25.316Z"
   },
   {
    "duration": 0,
    "start_time": "2025-03-08T16:23:25.317Z"
   },
   {
    "duration": 0,
    "start_time": "2025-03-08T16:23:25.319Z"
   },
   {
    "duration": 0,
    "start_time": "2025-03-08T16:23:25.320Z"
   },
   {
    "duration": 0,
    "start_time": "2025-03-08T16:23:25.321Z"
   },
   {
    "duration": 0,
    "start_time": "2025-03-08T16:23:25.322Z"
   },
   {
    "duration": 0,
    "start_time": "2025-03-08T16:23:25.324Z"
   },
   {
    "duration": 0,
    "start_time": "2025-03-08T16:23:25.325Z"
   },
   {
    "duration": 0,
    "start_time": "2025-03-08T16:23:25.326Z"
   },
   {
    "duration": 0,
    "start_time": "2025-03-08T16:23:25.327Z"
   },
   {
    "duration": 0,
    "start_time": "2025-03-08T16:23:25.329Z"
   },
   {
    "duration": 0,
    "start_time": "2025-03-08T16:23:25.329Z"
   },
   {
    "duration": 0,
    "start_time": "2025-03-08T16:23:25.330Z"
   },
   {
    "duration": 0,
    "start_time": "2025-03-08T16:23:25.332Z"
   },
   {
    "duration": 0,
    "start_time": "2025-03-08T16:23:25.372Z"
   },
   {
    "duration": 0,
    "start_time": "2025-03-08T16:23:25.373Z"
   },
   {
    "duration": 0,
    "start_time": "2025-03-08T16:23:25.374Z"
   },
   {
    "duration": 0,
    "start_time": "2025-03-08T16:23:25.375Z"
   },
   {
    "duration": 0,
    "start_time": "2025-03-08T16:23:25.376Z"
   },
   {
    "duration": 0,
    "start_time": "2025-03-08T16:23:25.377Z"
   },
   {
    "duration": 0,
    "start_time": "2025-03-08T16:23:25.378Z"
   },
   {
    "duration": 0,
    "start_time": "2025-03-08T16:23:25.379Z"
   },
   {
    "duration": 0,
    "start_time": "2025-03-08T16:23:25.380Z"
   },
   {
    "duration": 0,
    "start_time": "2025-03-08T16:23:25.381Z"
   },
   {
    "duration": 0,
    "start_time": "2025-03-08T16:23:25.382Z"
   },
   {
    "duration": 0,
    "start_time": "2025-03-08T16:23:25.383Z"
   },
   {
    "duration": 0,
    "start_time": "2025-03-08T16:23:25.384Z"
   },
   {
    "duration": 0,
    "start_time": "2025-03-08T16:23:25.385Z"
   },
   {
    "duration": 0,
    "start_time": "2025-03-08T16:23:25.386Z"
   },
   {
    "duration": 0,
    "start_time": "2025-03-08T16:23:25.387Z"
   },
   {
    "duration": 0,
    "start_time": "2025-03-08T16:23:25.388Z"
   },
   {
    "duration": 0,
    "start_time": "2025-03-08T16:23:25.390Z"
   },
   {
    "duration": 0,
    "start_time": "2025-03-08T16:23:25.390Z"
   },
   {
    "duration": 0,
    "start_time": "2025-03-08T16:23:25.391Z"
   },
   {
    "duration": 0,
    "start_time": "2025-03-08T16:23:25.392Z"
   },
   {
    "duration": 0,
    "start_time": "2025-03-08T16:23:25.393Z"
   },
   {
    "duration": 213,
    "start_time": "2025-03-08T16:23:41.659Z"
   },
   {
    "duration": 68,
    "start_time": "2025-03-08T16:25:49.780Z"
   },
   {
    "duration": 29,
    "start_time": "2025-03-08T16:25:57.090Z"
   },
   {
    "duration": 271,
    "start_time": "2025-03-08T16:26:12.377Z"
   },
   {
    "duration": 17,
    "start_time": "2025-03-08T16:27:31.937Z"
   },
   {
    "duration": 12,
    "start_time": "2025-03-08T16:27:41.790Z"
   },
   {
    "duration": 113,
    "start_time": "2025-03-08T16:27:50.470Z"
   },
   {
    "duration": 15,
    "start_time": "2025-03-08T16:27:52.942Z"
   },
   {
    "duration": 69,
    "start_time": "2025-03-08T16:28:01.602Z"
   },
   {
    "duration": 1066,
    "start_time": "2025-03-08T16:28:05.090Z"
   },
   {
    "duration": 53,
    "start_time": "2025-03-08T16:28:38.001Z"
   },
   {
    "duration": 5,
    "start_time": "2025-03-08T16:28:40.190Z"
   },
   {
    "duration": 11,
    "start_time": "2025-03-08T16:28:50.901Z"
   },
   {
    "duration": 10,
    "start_time": "2025-03-08T16:29:11.546Z"
   },
   {
    "duration": 10,
    "start_time": "2025-03-08T16:29:12.587Z"
   },
   {
    "duration": 10,
    "start_time": "2025-03-08T16:29:13.779Z"
   },
   {
    "duration": 34,
    "start_time": "2025-03-08T16:31:10.125Z"
   },
   {
    "duration": 39,
    "start_time": "2025-03-08T16:31:10.605Z"
   },
   {
    "duration": 7,
    "start_time": "2025-03-08T16:31:11.101Z"
   },
   {
    "duration": 13847,
    "start_time": "2025-03-08T16:32:15.516Z"
   },
   {
    "duration": 39,
    "start_time": "2025-03-08T16:38:05.543Z"
   },
   {
    "duration": 1100,
    "start_time": "2025-03-08T16:38:42.950Z"
   },
   {
    "duration": 87,
    "start_time": "2025-03-08T16:39:27.750Z"
   },
   {
    "duration": 36,
    "start_time": "2025-03-08T16:43:45.647Z"
   },
   {
    "duration": 369,
    "start_time": "2025-03-08T16:43:46.702Z"
   },
   {
    "duration": 16,
    "start_time": "2025-03-08T16:43:47.073Z"
   },
   {
    "duration": 68,
    "start_time": "2025-03-08T16:43:47.727Z"
   },
   {
    "duration": 26,
    "start_time": "2025-03-08T16:43:48.204Z"
   },
   {
    "duration": 3,
    "start_time": "2025-03-08T16:43:48.855Z"
   },
   {
    "duration": 126,
    "start_time": "2025-03-08T16:43:49.051Z"
   },
   {
    "duration": 35,
    "start_time": "2025-03-08T16:43:49.818Z"
   },
   {
    "duration": 226,
    "start_time": "2025-03-08T16:43:50.047Z"
   },
   {
    "duration": 56,
    "start_time": "2025-03-08T16:43:50.492Z"
   },
   {
    "duration": 72,
    "start_time": "2025-03-08T16:43:50.966Z"
   },
   {
    "duration": 131,
    "start_time": "2025-03-08T16:43:51.210Z"
   },
   {
    "duration": 5,
    "start_time": "2025-03-08T16:43:51.472Z"
   },
   {
    "duration": 15,
    "start_time": "2025-03-08T16:43:51.694Z"
   },
   {
    "duration": 24,
    "start_time": "2025-03-08T16:43:51.932Z"
   },
   {
    "duration": 39,
    "start_time": "2025-03-08T16:43:52.298Z"
   },
   {
    "duration": 7,
    "start_time": "2025-03-08T16:43:52.544Z"
   },
   {
    "duration": 11,
    "start_time": "2025-03-08T16:43:52.975Z"
   },
   {
    "duration": 30,
    "start_time": "2025-03-08T16:43:53.180Z"
   },
   {
    "duration": 6,
    "start_time": "2025-03-08T16:43:53.598Z"
   },
   {
    "duration": 76,
    "start_time": "2025-03-08T16:50:08.407Z"
   },
   {
    "duration": 200,
    "start_time": "2025-03-08T16:50:10.374Z"
   },
   {
    "duration": 29,
    "start_time": "2025-03-08T16:51:20.713Z"
   },
   {
    "duration": 7,
    "start_time": "2025-03-08T17:07:45.242Z"
   },
   {
    "duration": 5,
    "start_time": "2025-03-08T17:07:56.209Z"
   },
   {
    "duration": 9,
    "start_time": "2025-03-08T17:08:10.395Z"
   },
   {
    "duration": 11,
    "start_time": "2025-03-08T17:08:18.160Z"
   },
   {
    "duration": 2828,
    "start_time": "2025-03-08T17:08:32.234Z"
   },
   {
    "duration": 1367,
    "start_time": "2025-03-08T17:08:35.064Z"
   },
   {
    "duration": 3,
    "start_time": "2025-03-08T17:08:36.433Z"
   },
   {
    "duration": 2488,
    "start_time": "2025-03-08T17:08:36.438Z"
   },
   {
    "duration": 234,
    "start_time": "2025-03-08T17:08:38.928Z"
   },
   {
    "duration": 16,
    "start_time": "2025-03-08T17:08:39.164Z"
   },
   {
    "duration": 15,
    "start_time": "2025-03-08T17:08:39.182Z"
   },
   {
    "duration": 36,
    "start_time": "2025-03-08T17:08:39.199Z"
   },
   {
    "duration": 139,
    "start_time": "2025-03-08T17:08:39.238Z"
   },
   {
    "duration": 4,
    "start_time": "2025-03-08T17:08:39.381Z"
   },
   {
    "duration": 13,
    "start_time": "2025-03-08T17:08:39.387Z"
   },
   {
    "duration": 12,
    "start_time": "2025-03-08T17:08:39.402Z"
   },
   {
    "duration": 90,
    "start_time": "2025-03-08T17:08:39.417Z"
   },
   {
    "duration": 10,
    "start_time": "2025-03-08T17:08:39.509Z"
   },
   {
    "duration": 31,
    "start_time": "2025-03-08T17:08:39.520Z"
   },
   {
    "duration": 27,
    "start_time": "2025-03-08T17:08:39.553Z"
   },
   {
    "duration": 43,
    "start_time": "2025-03-08T17:08:39.583Z"
   },
   {
    "duration": 92,
    "start_time": "2025-03-08T17:08:39.628Z"
   },
   {
    "duration": 8,
    "start_time": "2025-03-08T17:08:39.722Z"
   },
   {
    "duration": 10,
    "start_time": "2025-03-08T17:08:39.731Z"
   },
   {
    "duration": 60,
    "start_time": "2025-03-08T17:08:39.744Z"
   },
   {
    "duration": 58,
    "start_time": "2025-03-08T17:08:39.806Z"
   },
   {
    "duration": 70,
    "start_time": "2025-03-08T17:08:39.866Z"
   },
   {
    "duration": 64,
    "start_time": "2025-03-08T17:08:39.938Z"
   },
   {
    "duration": 6,
    "start_time": "2025-03-08T17:08:40.004Z"
   },
   {
    "duration": 24,
    "start_time": "2025-03-08T17:08:40.012Z"
   },
   {
    "duration": 11,
    "start_time": "2025-03-08T17:08:40.038Z"
   },
   {
    "duration": 31,
    "start_time": "2025-03-08T17:08:40.054Z"
   },
   {
    "duration": 7,
    "start_time": "2025-03-08T17:08:40.087Z"
   },
   {
    "duration": 69,
    "start_time": "2025-03-08T17:08:40.096Z"
   },
   {
    "duration": 191,
    "start_time": "2025-03-08T17:08:40.166Z"
   },
   {
    "duration": 95,
    "start_time": "2025-03-08T17:08:40.359Z"
   },
   {
    "duration": 41,
    "start_time": "2025-03-08T17:08:40.456Z"
   },
   {
    "duration": 48,
    "start_time": "2025-03-08T17:08:40.499Z"
   },
   {
    "duration": 28,
    "start_time": "2025-03-08T17:08:40.549Z"
   },
   {
    "duration": 31,
    "start_time": "2025-03-08T17:08:40.579Z"
   },
   {
    "duration": 62,
    "start_time": "2025-03-08T17:08:40.612Z"
   },
   {
    "duration": 305,
    "start_time": "2025-03-08T17:08:40.676Z"
   },
   {
    "duration": 39,
    "start_time": "2025-03-08T17:08:40.983Z"
   },
   {
    "duration": 551,
    "start_time": "2025-03-08T17:08:41.024Z"
   },
   {
    "duration": 104,
    "start_time": "2025-03-08T17:08:41.577Z"
   },
   {
    "duration": 218,
    "start_time": "2025-03-08T17:08:41.683Z"
   },
   {
    "duration": 39,
    "start_time": "2025-03-08T17:08:41.903Z"
   },
   {
    "duration": 33,
    "start_time": "2025-03-08T17:08:41.945Z"
   },
   {
    "duration": 104,
    "start_time": "2025-03-08T17:08:41.981Z"
   },
   {
    "duration": 15,
    "start_time": "2025-03-08T17:08:42.087Z"
   },
   {
    "duration": 82,
    "start_time": "2025-03-08T17:08:42.104Z"
   },
   {
    "duration": 57,
    "start_time": "2025-03-08T17:08:42.188Z"
   },
   {
    "duration": 25,
    "start_time": "2025-03-08T17:08:42.247Z"
   },
   {
    "duration": 5,
    "start_time": "2025-03-08T17:08:42.274Z"
   },
   {
    "duration": 1126,
    "start_time": "2025-03-08T17:08:42.281Z"
   },
   {
    "duration": 0,
    "start_time": "2025-03-08T17:08:43.409Z"
   },
   {
    "duration": 0,
    "start_time": "2025-03-08T17:08:43.410Z"
   },
   {
    "duration": 0,
    "start_time": "2025-03-08T17:08:43.412Z"
   },
   {
    "duration": 0,
    "start_time": "2025-03-08T17:08:43.413Z"
   },
   {
    "duration": 0,
    "start_time": "2025-03-08T17:08:43.414Z"
   },
   {
    "duration": 0,
    "start_time": "2025-03-08T17:08:43.415Z"
   },
   {
    "duration": 0,
    "start_time": "2025-03-08T17:08:43.417Z"
   },
   {
    "duration": 0,
    "start_time": "2025-03-08T17:08:43.418Z"
   },
   {
    "duration": 0,
    "start_time": "2025-03-08T17:08:43.420Z"
   },
   {
    "duration": 0,
    "start_time": "2025-03-08T17:08:43.421Z"
   },
   {
    "duration": 1,
    "start_time": "2025-03-08T17:08:43.423Z"
   },
   {
    "duration": 0,
    "start_time": "2025-03-08T17:08:43.425Z"
   },
   {
    "duration": 0,
    "start_time": "2025-03-08T17:08:43.426Z"
   },
   {
    "duration": 0,
    "start_time": "2025-03-08T17:08:43.427Z"
   },
   {
    "duration": 0,
    "start_time": "2025-03-08T17:08:43.428Z"
   },
   {
    "duration": 0,
    "start_time": "2025-03-08T17:08:43.429Z"
   },
   {
    "duration": 0,
    "start_time": "2025-03-08T17:08:43.430Z"
   },
   {
    "duration": 0,
    "start_time": "2025-03-08T17:08:43.431Z"
   },
   {
    "duration": 0,
    "start_time": "2025-03-08T17:08:43.433Z"
   },
   {
    "duration": 0,
    "start_time": "2025-03-08T17:08:43.434Z"
   },
   {
    "duration": 0,
    "start_time": "2025-03-08T17:08:43.434Z"
   },
   {
    "duration": 0,
    "start_time": "2025-03-08T17:08:43.436Z"
   },
   {
    "duration": 0,
    "start_time": "2025-03-08T17:08:43.437Z"
   },
   {
    "duration": 0,
    "start_time": "2025-03-08T17:08:43.438Z"
   },
   {
    "duration": 0,
    "start_time": "2025-03-08T17:08:43.440Z"
   },
   {
    "duration": 0,
    "start_time": "2025-03-08T17:08:43.441Z"
   },
   {
    "duration": 0,
    "start_time": "2025-03-08T17:08:43.443Z"
   },
   {
    "duration": 0,
    "start_time": "2025-03-08T17:08:43.472Z"
   },
   {
    "duration": 0,
    "start_time": "2025-03-08T17:08:43.474Z"
   },
   {
    "duration": 0,
    "start_time": "2025-03-08T17:08:43.475Z"
   },
   {
    "duration": 0,
    "start_time": "2025-03-08T17:08:43.476Z"
   },
   {
    "duration": 0,
    "start_time": "2025-03-08T17:08:43.477Z"
   },
   {
    "duration": 0,
    "start_time": "2025-03-08T17:08:43.479Z"
   },
   {
    "duration": 8,
    "start_time": "2025-03-08T17:10:01.628Z"
   },
   {
    "duration": 7,
    "start_time": "2025-03-08T17:10:08.516Z"
   },
   {
    "duration": 11,
    "start_time": "2025-03-08T17:10:31.818Z"
   },
   {
    "duration": 7,
    "start_time": "2025-03-08T17:10:43.715Z"
   },
   {
    "duration": 6,
    "start_time": "2025-03-08T17:10:44.563Z"
   },
   {
    "duration": 4,
    "start_time": "2025-03-08T17:11:07.405Z"
   },
   {
    "duration": 10,
    "start_time": "2025-03-08T17:12:12.840Z"
   },
   {
    "duration": 5,
    "start_time": "2025-03-08T17:12:26.989Z"
   },
   {
    "duration": 7,
    "start_time": "2025-03-08T17:12:34.267Z"
   },
   {
    "duration": 6,
    "start_time": "2025-03-08T17:12:46.898Z"
   },
   {
    "duration": 999,
    "start_time": "2025-03-08T17:13:19.761Z"
   },
   {
    "duration": 8,
    "start_time": "2025-03-08T17:14:36.676Z"
   },
   {
    "duration": 10,
    "start_time": "2025-03-08T17:14:48.009Z"
   },
   {
    "duration": 5,
    "start_time": "2025-03-08T17:15:05.007Z"
   },
   {
    "duration": 7,
    "start_time": "2025-03-08T17:15:22.855Z"
   },
   {
    "duration": 10,
    "start_time": "2025-03-08T17:15:43.503Z"
   },
   {
    "duration": 65,
    "start_time": "2025-03-08T17:16:11.361Z"
   },
   {
    "duration": 104,
    "start_time": "2025-03-08T17:17:38.700Z"
   },
   {
    "duration": 74,
    "start_time": "2025-03-08T17:18:35.260Z"
   },
   {
    "duration": 10,
    "start_time": "2025-03-08T17:18:41.450Z"
   },
   {
    "duration": 7,
    "start_time": "2025-03-08T17:18:59.794Z"
   },
   {
    "duration": 6,
    "start_time": "2025-03-08T17:19:00.378Z"
   },
   {
    "duration": 123,
    "start_time": "2025-03-08T17:19:01.342Z"
   },
   {
    "duration": 2708,
    "start_time": "2025-03-08T17:19:20.856Z"
   },
   {
    "duration": 1305,
    "start_time": "2025-03-08T17:19:23.567Z"
   },
   {
    "duration": 3,
    "start_time": "2025-03-08T17:19:24.873Z"
   },
   {
    "duration": 2952,
    "start_time": "2025-03-08T17:19:24.878Z"
   },
   {
    "duration": 288,
    "start_time": "2025-03-08T17:19:27.832Z"
   },
   {
    "duration": 13,
    "start_time": "2025-03-08T17:19:28.122Z"
   },
   {
    "duration": 13,
    "start_time": "2025-03-08T17:19:28.137Z"
   },
   {
    "duration": 27,
    "start_time": "2025-03-08T17:19:28.152Z"
   },
   {
    "duration": 110,
    "start_time": "2025-03-08T17:19:28.181Z"
   },
   {
    "duration": 4,
    "start_time": "2025-03-08T17:19:28.292Z"
   },
   {
    "duration": 12,
    "start_time": "2025-03-08T17:19:28.298Z"
   },
   {
    "duration": 16,
    "start_time": "2025-03-08T17:19:28.311Z"
   },
   {
    "duration": 72,
    "start_time": "2025-03-08T17:19:28.329Z"
   },
   {
    "duration": 8,
    "start_time": "2025-03-08T17:19:28.406Z"
   },
   {
    "duration": 26,
    "start_time": "2025-03-08T17:19:28.417Z"
   },
   {
    "duration": 28,
    "start_time": "2025-03-08T17:19:28.445Z"
   },
   {
    "duration": 28,
    "start_time": "2025-03-08T17:19:28.475Z"
   },
   {
    "duration": 98,
    "start_time": "2025-03-08T17:19:28.506Z"
   },
   {
    "duration": 6,
    "start_time": "2025-03-08T17:19:28.606Z"
   },
   {
    "duration": 10,
    "start_time": "2025-03-08T17:19:28.614Z"
   },
   {
    "duration": 9,
    "start_time": "2025-03-08T17:19:28.626Z"
   },
   {
    "duration": 79,
    "start_time": "2025-03-08T17:19:28.637Z"
   },
   {
    "duration": 77,
    "start_time": "2025-03-08T17:19:28.718Z"
   },
   {
    "duration": 55,
    "start_time": "2025-03-08T17:19:28.797Z"
   },
   {
    "duration": 19,
    "start_time": "2025-03-08T17:19:28.854Z"
   },
   {
    "duration": 20,
    "start_time": "2025-03-08T17:19:28.875Z"
   },
   {
    "duration": 5,
    "start_time": "2025-03-08T17:19:28.897Z"
   },
   {
    "duration": 23,
    "start_time": "2025-03-08T17:19:28.904Z"
   },
   {
    "duration": 5,
    "start_time": "2025-03-08T17:19:28.929Z"
   },
   {
    "duration": 107,
    "start_time": "2025-03-08T17:19:28.935Z"
   },
   {
    "duration": 177,
    "start_time": "2025-03-08T17:19:29.044Z"
   },
   {
    "duration": 88,
    "start_time": "2025-03-08T17:19:29.222Z"
   },
   {
    "duration": 28,
    "start_time": "2025-03-08T17:19:29.312Z"
   },
   {
    "duration": 49,
    "start_time": "2025-03-08T17:19:29.342Z"
   },
   {
    "duration": 11,
    "start_time": "2025-03-08T17:19:29.393Z"
   },
   {
    "duration": 32,
    "start_time": "2025-03-08T17:19:29.406Z"
   },
   {
    "duration": 60,
    "start_time": "2025-03-08T17:19:29.440Z"
   },
   {
    "duration": 279,
    "start_time": "2025-03-08T17:19:29.502Z"
   },
   {
    "duration": 41,
    "start_time": "2025-03-08T17:19:29.783Z"
   },
   {
    "duration": 540,
    "start_time": "2025-03-08T17:19:29.826Z"
   },
   {
    "duration": 103,
    "start_time": "2025-03-08T17:19:30.371Z"
   },
   {
    "duration": 219,
    "start_time": "2025-03-08T17:19:30.476Z"
   },
   {
    "duration": 38,
    "start_time": "2025-03-08T17:19:30.696Z"
   },
   {
    "duration": 11,
    "start_time": "2025-03-08T17:19:30.736Z"
   },
   {
    "duration": 120,
    "start_time": "2025-03-08T17:19:30.749Z"
   },
   {
    "duration": 15,
    "start_time": "2025-03-08T17:19:30.871Z"
   },
   {
    "duration": 76,
    "start_time": "2025-03-08T17:19:30.888Z"
   },
   {
    "duration": 58,
    "start_time": "2025-03-08T17:19:30.966Z"
   },
   {
    "duration": 9,
    "start_time": "2025-03-08T17:19:31.025Z"
   },
   {
    "duration": 17,
    "start_time": "2025-03-08T17:19:31.036Z"
   },
   {
    "duration": 22,
    "start_time": "2025-03-08T17:19:31.055Z"
   },
   {
    "duration": 9,
    "start_time": "2025-03-08T17:19:31.078Z"
   },
   {
    "duration": 24,
    "start_time": "2025-03-08T17:19:31.089Z"
   },
   {
    "duration": 21,
    "start_time": "2025-03-08T17:19:31.115Z"
   },
   {
    "duration": 20,
    "start_time": "2025-03-08T17:19:31.138Z"
   },
   {
    "duration": 78,
    "start_time": "2025-03-08T17:19:31.161Z"
   },
   {
    "duration": 0,
    "start_time": "2025-03-08T17:19:31.241Z"
   },
   {
    "duration": 0,
    "start_time": "2025-03-08T17:19:31.244Z"
   },
   {
    "duration": 0,
    "start_time": "2025-03-08T17:19:31.245Z"
   },
   {
    "duration": 0,
    "start_time": "2025-03-08T17:19:31.246Z"
   },
   {
    "duration": 0,
    "start_time": "2025-03-08T17:19:31.248Z"
   },
   {
    "duration": 0,
    "start_time": "2025-03-08T17:19:31.250Z"
   },
   {
    "duration": 0,
    "start_time": "2025-03-08T17:19:31.252Z"
   },
   {
    "duration": 0,
    "start_time": "2025-03-08T17:19:31.254Z"
   },
   {
    "duration": 0,
    "start_time": "2025-03-08T17:19:31.257Z"
   },
   {
    "duration": 0,
    "start_time": "2025-03-08T17:19:31.258Z"
   },
   {
    "duration": 0,
    "start_time": "2025-03-08T17:19:31.260Z"
   },
   {
    "duration": 0,
    "start_time": "2025-03-08T17:19:31.261Z"
   },
   {
    "duration": 0,
    "start_time": "2025-03-08T17:19:31.262Z"
   },
   {
    "duration": 0,
    "start_time": "2025-03-08T17:19:31.266Z"
   },
   {
    "duration": 0,
    "start_time": "2025-03-08T17:19:31.267Z"
   },
   {
    "duration": 0,
    "start_time": "2025-03-08T17:19:31.269Z"
   },
   {
    "duration": 0,
    "start_time": "2025-03-08T17:19:31.271Z"
   },
   {
    "duration": 0,
    "start_time": "2025-03-08T17:19:31.272Z"
   },
   {
    "duration": 0,
    "start_time": "2025-03-08T17:19:31.274Z"
   },
   {
    "duration": 0,
    "start_time": "2025-03-08T17:19:31.275Z"
   },
   {
    "duration": 0,
    "start_time": "2025-03-08T17:19:31.276Z"
   },
   {
    "duration": 0,
    "start_time": "2025-03-08T17:19:31.277Z"
   },
   {
    "duration": 0,
    "start_time": "2025-03-08T17:19:31.278Z"
   },
   {
    "duration": 0,
    "start_time": "2025-03-08T17:19:31.279Z"
   },
   {
    "duration": 0,
    "start_time": "2025-03-08T17:19:31.281Z"
   },
   {
    "duration": 0,
    "start_time": "2025-03-08T17:19:31.282Z"
   },
   {
    "duration": 0,
    "start_time": "2025-03-08T17:19:31.283Z"
   },
   {
    "duration": 0,
    "start_time": "2025-03-08T17:19:31.284Z"
   },
   {
    "duration": 5,
    "start_time": "2025-03-08T17:20:25.115Z"
   },
   {
    "duration": 7,
    "start_time": "2025-03-08T17:21:44.329Z"
   },
   {
    "duration": 6,
    "start_time": "2025-03-08T17:22:02.696Z"
   },
   {
    "duration": 5,
    "start_time": "2025-03-08T17:22:15.518Z"
   },
   {
    "duration": 12,
    "start_time": "2025-03-08T17:23:50.432Z"
   },
   {
    "duration": 119,
    "start_time": "2025-03-08T17:24:43.042Z"
   },
   {
    "duration": 10,
    "start_time": "2025-03-08T17:24:57.403Z"
   },
   {
    "duration": 10,
    "start_time": "2025-03-08T17:26:01.360Z"
   },
   {
    "duration": 2671,
    "start_time": "2025-03-08T17:32:21.035Z"
   },
   {
    "duration": 1339,
    "start_time": "2025-03-08T17:32:23.708Z"
   },
   {
    "duration": 3,
    "start_time": "2025-03-08T17:32:25.049Z"
   },
   {
    "duration": 2245,
    "start_time": "2025-03-08T17:32:25.054Z"
   },
   {
    "duration": 210,
    "start_time": "2025-03-08T17:32:27.301Z"
   },
   {
    "duration": 12,
    "start_time": "2025-03-08T17:32:27.513Z"
   },
   {
    "duration": 12,
    "start_time": "2025-03-08T17:32:27.527Z"
   },
   {
    "duration": 31,
    "start_time": "2025-03-08T17:32:27.541Z"
   },
   {
    "duration": 105,
    "start_time": "2025-03-08T17:32:27.574Z"
   },
   {
    "duration": 3,
    "start_time": "2025-03-08T17:32:27.682Z"
   },
   {
    "duration": 6,
    "start_time": "2025-03-08T17:32:27.687Z"
   },
   {
    "duration": 11,
    "start_time": "2025-03-08T17:32:27.694Z"
   },
   {
    "duration": 65,
    "start_time": "2025-03-08T17:32:27.707Z"
   },
   {
    "duration": 7,
    "start_time": "2025-03-08T17:32:27.774Z"
   },
   {
    "duration": 24,
    "start_time": "2025-03-08T17:32:27.783Z"
   },
   {
    "duration": 18,
    "start_time": "2025-03-08T17:32:27.808Z"
   },
   {
    "duration": 45,
    "start_time": "2025-03-08T17:32:27.827Z"
   },
   {
    "duration": 84,
    "start_time": "2025-03-08T17:32:27.874Z"
   },
   {
    "duration": 17,
    "start_time": "2025-03-08T17:32:27.959Z"
   },
   {
    "duration": 42,
    "start_time": "2025-03-08T17:32:27.977Z"
   },
   {
    "duration": 6,
    "start_time": "2025-03-08T17:32:28.021Z"
   },
   {
    "duration": 59,
    "start_time": "2025-03-08T17:32:28.029Z"
   },
   {
    "duration": 74,
    "start_time": "2025-03-08T17:32:28.089Z"
   },
   {
    "duration": 54,
    "start_time": "2025-03-08T17:32:28.171Z"
   },
   {
    "duration": 5,
    "start_time": "2025-03-08T17:32:28.227Z"
   },
   {
    "duration": 40,
    "start_time": "2025-03-08T17:32:28.233Z"
   },
   {
    "duration": 5,
    "start_time": "2025-03-08T17:32:28.275Z"
   },
   {
    "duration": 16,
    "start_time": "2025-03-08T17:32:28.285Z"
   },
   {
    "duration": 8,
    "start_time": "2025-03-08T17:32:28.303Z"
   },
   {
    "duration": 79,
    "start_time": "2025-03-08T17:32:28.313Z"
   },
   {
    "duration": 169,
    "start_time": "2025-03-08T17:32:28.394Z"
   },
   {
    "duration": 84,
    "start_time": "2025-03-08T17:32:28.564Z"
   },
   {
    "duration": 42,
    "start_time": "2025-03-08T17:32:28.650Z"
   },
   {
    "duration": 38,
    "start_time": "2025-03-08T17:32:28.693Z"
   },
   {
    "duration": 12,
    "start_time": "2025-03-08T17:32:28.733Z"
   },
   {
    "duration": 51,
    "start_time": "2025-03-08T17:32:28.746Z"
   },
   {
    "duration": 38,
    "start_time": "2025-03-08T17:32:28.799Z"
   },
   {
    "duration": 297,
    "start_time": "2025-03-08T17:32:28.838Z"
   },
   {
    "duration": 47,
    "start_time": "2025-03-08T17:32:29.136Z"
   },
   {
    "duration": 503,
    "start_time": "2025-03-08T17:32:29.184Z"
   },
   {
    "duration": 102,
    "start_time": "2025-03-08T17:32:29.688Z"
   },
   {
    "duration": 213,
    "start_time": "2025-03-08T17:32:29.792Z"
   },
   {
    "duration": 39,
    "start_time": "2025-03-08T17:32:30.007Z"
   },
   {
    "duration": 27,
    "start_time": "2025-03-08T17:32:30.048Z"
   },
   {
    "duration": 159,
    "start_time": "2025-03-08T17:32:30.077Z"
   },
   {
    "duration": 18,
    "start_time": "2025-03-08T17:32:30.238Z"
   },
   {
    "duration": 109,
    "start_time": "2025-03-08T17:32:30.258Z"
   },
   {
    "duration": 63,
    "start_time": "2025-03-08T17:32:30.369Z"
   },
   {
    "duration": 9,
    "start_time": "2025-03-08T17:32:30.434Z"
   },
   {
    "duration": 12,
    "start_time": "2025-03-08T17:32:30.444Z"
   },
   {
    "duration": 32,
    "start_time": "2025-03-08T17:32:30.458Z"
   },
   {
    "duration": 6,
    "start_time": "2025-03-08T17:32:30.491Z"
   },
   {
    "duration": 5,
    "start_time": "2025-03-08T17:32:30.499Z"
   },
   {
    "duration": 7,
    "start_time": "2025-03-08T17:32:30.506Z"
   },
   {
    "duration": 6,
    "start_time": "2025-03-08T17:32:30.515Z"
   },
   {
    "duration": 6,
    "start_time": "2025-03-08T17:32:30.523Z"
   },
   {
    "duration": 10,
    "start_time": "2025-03-08T17:32:30.531Z"
   },
   {
    "duration": 33,
    "start_time": "2025-03-08T17:32:30.543Z"
   },
   {
    "duration": 9,
    "start_time": "2025-03-08T17:32:30.578Z"
   },
   {
    "duration": 23,
    "start_time": "2025-03-08T17:32:30.589Z"
   },
   {
    "duration": 78,
    "start_time": "2025-03-08T17:32:30.613Z"
   },
   {
    "duration": 0,
    "start_time": "2025-03-08T17:32:30.693Z"
   },
   {
    "duration": 0,
    "start_time": "2025-03-08T17:32:30.694Z"
   },
   {
    "duration": 0,
    "start_time": "2025-03-08T17:32:30.696Z"
   },
   {
    "duration": 0,
    "start_time": "2025-03-08T17:32:30.697Z"
   },
   {
    "duration": 0,
    "start_time": "2025-03-08T17:32:30.699Z"
   },
   {
    "duration": 0,
    "start_time": "2025-03-08T17:32:30.700Z"
   },
   {
    "duration": 0,
    "start_time": "2025-03-08T17:32:30.701Z"
   },
   {
    "duration": 0,
    "start_time": "2025-03-08T17:32:30.702Z"
   },
   {
    "duration": 0,
    "start_time": "2025-03-08T17:32:30.703Z"
   },
   {
    "duration": 1,
    "start_time": "2025-03-08T17:32:30.704Z"
   },
   {
    "duration": 0,
    "start_time": "2025-03-08T17:32:30.705Z"
   },
   {
    "duration": 0,
    "start_time": "2025-03-08T17:32:30.707Z"
   },
   {
    "duration": 0,
    "start_time": "2025-03-08T17:32:30.708Z"
   },
   {
    "duration": 0,
    "start_time": "2025-03-08T17:32:30.709Z"
   },
   {
    "duration": 0,
    "start_time": "2025-03-08T17:32:30.710Z"
   },
   {
    "duration": 0,
    "start_time": "2025-03-08T17:32:30.711Z"
   },
   {
    "duration": 0,
    "start_time": "2025-03-08T17:32:30.713Z"
   },
   {
    "duration": 0,
    "start_time": "2025-03-08T17:32:30.714Z"
   },
   {
    "duration": 0,
    "start_time": "2025-03-08T17:32:30.715Z"
   },
   {
    "duration": 0,
    "start_time": "2025-03-08T17:32:30.716Z"
   },
   {
    "duration": 0,
    "start_time": "2025-03-08T17:32:30.717Z"
   },
   {
    "duration": 0,
    "start_time": "2025-03-08T17:32:30.718Z"
   },
   {
    "duration": 0,
    "start_time": "2025-03-08T17:32:30.719Z"
   },
   {
    "duration": 0,
    "start_time": "2025-03-08T17:32:30.721Z"
   },
   {
    "duration": 0,
    "start_time": "2025-03-08T17:32:30.722Z"
   },
   {
    "duration": 0,
    "start_time": "2025-03-08T17:32:30.723Z"
   },
   {
    "duration": 0,
    "start_time": "2025-03-08T17:32:30.724Z"
   },
   {
    "duration": 2714,
    "start_time": "2025-03-08T17:33:28.724Z"
   },
   {
    "duration": 1338,
    "start_time": "2025-03-08T17:33:31.441Z"
   },
   {
    "duration": 3,
    "start_time": "2025-03-08T17:33:32.781Z"
   },
   {
    "duration": 3587,
    "start_time": "2025-03-08T17:33:32.786Z"
   },
   {
    "duration": 147,
    "start_time": "2025-03-08T17:33:36.374Z"
   },
   {
    "duration": 14,
    "start_time": "2025-03-08T17:33:36.523Z"
   },
   {
    "duration": 14,
    "start_time": "2025-03-08T17:33:36.539Z"
   },
   {
    "duration": 44,
    "start_time": "2025-03-08T17:33:36.555Z"
   },
   {
    "duration": 120,
    "start_time": "2025-03-08T17:33:36.600Z"
   },
   {
    "duration": 4,
    "start_time": "2025-03-08T17:33:36.724Z"
   },
   {
    "duration": 7,
    "start_time": "2025-03-08T17:33:36.730Z"
   },
   {
    "duration": 14,
    "start_time": "2025-03-08T17:33:36.738Z"
   },
   {
    "duration": 45,
    "start_time": "2025-03-08T17:33:36.773Z"
   },
   {
    "duration": 9,
    "start_time": "2025-03-08T17:33:36.820Z"
   },
   {
    "duration": 47,
    "start_time": "2025-03-08T17:33:36.830Z"
   },
   {
    "duration": 10,
    "start_time": "2025-03-08T17:33:36.879Z"
   },
   {
    "duration": 26,
    "start_time": "2025-03-08T17:33:36.891Z"
   },
   {
    "duration": 108,
    "start_time": "2025-03-08T17:33:36.919Z"
   },
   {
    "duration": 6,
    "start_time": "2025-03-08T17:33:37.029Z"
   },
   {
    "duration": 9,
    "start_time": "2025-03-08T17:33:37.037Z"
   },
   {
    "duration": 19,
    "start_time": "2025-03-08T17:33:37.047Z"
   },
   {
    "duration": 61,
    "start_time": "2025-03-08T17:33:37.072Z"
   },
   {
    "duration": 84,
    "start_time": "2025-03-08T17:33:37.135Z"
   },
   {
    "duration": 67,
    "start_time": "2025-03-08T17:33:37.221Z"
   },
   {
    "duration": 7,
    "start_time": "2025-03-08T17:33:37.290Z"
   },
   {
    "duration": 24,
    "start_time": "2025-03-08T17:33:37.298Z"
   },
   {
    "duration": 11,
    "start_time": "2025-03-08T17:33:37.324Z"
   },
   {
    "duration": 34,
    "start_time": "2025-03-08T17:33:37.340Z"
   },
   {
    "duration": 6,
    "start_time": "2025-03-08T17:33:37.376Z"
   },
   {
    "duration": 62,
    "start_time": "2025-03-08T17:33:37.383Z"
   },
   {
    "duration": 186,
    "start_time": "2025-03-08T17:33:37.447Z"
   },
   {
    "duration": 87,
    "start_time": "2025-03-08T17:33:37.635Z"
   },
   {
    "duration": 28,
    "start_time": "2025-03-08T17:33:37.723Z"
   },
   {
    "duration": 54,
    "start_time": "2025-03-08T17:33:37.753Z"
   },
   {
    "duration": 12,
    "start_time": "2025-03-08T17:33:37.808Z"
   },
   {
    "duration": 66,
    "start_time": "2025-03-08T17:33:37.821Z"
   },
   {
    "duration": 40,
    "start_time": "2025-03-08T17:33:37.889Z"
   },
   {
    "duration": 289,
    "start_time": "2025-03-08T17:33:37.931Z"
   },
   {
    "duration": 57,
    "start_time": "2025-03-08T17:33:38.222Z"
   },
   {
    "duration": 527,
    "start_time": "2025-03-08T17:33:38.281Z"
   },
   {
    "duration": 103,
    "start_time": "2025-03-08T17:33:38.810Z"
   },
   {
    "duration": 236,
    "start_time": "2025-03-08T17:33:38.915Z"
   },
   {
    "duration": 48,
    "start_time": "2025-03-08T17:33:39.153Z"
   },
   {
    "duration": 12,
    "start_time": "2025-03-08T17:33:39.202Z"
   },
   {
    "duration": 114,
    "start_time": "2025-03-08T17:33:39.215Z"
   },
   {
    "duration": 15,
    "start_time": "2025-03-08T17:33:39.331Z"
   },
   {
    "duration": 79,
    "start_time": "2025-03-08T17:33:39.347Z"
   },
   {
    "duration": 67,
    "start_time": "2025-03-08T17:33:39.428Z"
   },
   {
    "duration": 8,
    "start_time": "2025-03-08T17:33:39.496Z"
   },
   {
    "duration": 5,
    "start_time": "2025-03-08T17:33:39.506Z"
   },
   {
    "duration": 11,
    "start_time": "2025-03-08T17:33:39.513Z"
   },
   {
    "duration": 7,
    "start_time": "2025-03-08T17:33:39.526Z"
   },
   {
    "duration": 5,
    "start_time": "2025-03-08T17:33:39.535Z"
   },
   {
    "duration": 33,
    "start_time": "2025-03-08T17:33:39.543Z"
   },
   {
    "duration": 8,
    "start_time": "2025-03-08T17:33:39.578Z"
   },
   {
    "duration": 8,
    "start_time": "2025-03-08T17:33:39.587Z"
   },
   {
    "duration": 29,
    "start_time": "2025-03-08T17:33:39.596Z"
   },
   {
    "duration": 6,
    "start_time": "2025-03-08T17:33:39.627Z"
   },
   {
    "duration": 13,
    "start_time": "2025-03-08T17:33:39.635Z"
   },
   {
    "duration": 30,
    "start_time": "2025-03-08T17:33:39.650Z"
   },
   {
    "duration": 11,
    "start_time": "2025-03-08T17:33:39.682Z"
   },
   {
    "duration": 11,
    "start_time": "2025-03-08T17:33:39.695Z"
   },
   {
    "duration": 35,
    "start_time": "2025-03-08T17:33:39.707Z"
   },
   {
    "duration": 41,
    "start_time": "2025-03-08T17:33:39.771Z"
   },
   {
    "duration": 54,
    "start_time": "2025-03-08T17:33:39.813Z"
   },
   {
    "duration": 2802,
    "start_time": "2025-03-08T17:33:39.869Z"
   },
   {
    "duration": 33,
    "start_time": "2025-03-08T17:33:42.673Z"
   },
   {
    "duration": 385,
    "start_time": "2025-03-08T17:33:42.708Z"
   },
   {
    "duration": 24,
    "start_time": "2025-03-08T17:33:43.095Z"
   },
   {
    "duration": 86,
    "start_time": "2025-03-08T17:33:43.121Z"
   },
   {
    "duration": 12,
    "start_time": "2025-03-08T17:33:43.210Z"
   },
   {
    "duration": 4,
    "start_time": "2025-03-08T17:33:43.224Z"
   },
   {
    "duration": 259,
    "start_time": "2025-03-08T17:33:43.230Z"
   },
   {
    "duration": 27,
    "start_time": "2025-03-08T17:33:43.491Z"
   },
   {
    "duration": 242,
    "start_time": "2025-03-08T17:33:43.520Z"
   },
   {
    "duration": 61,
    "start_time": "2025-03-08T17:33:43.763Z"
   },
   {
    "duration": 87,
    "start_time": "2025-03-08T17:33:43.826Z"
   },
   {
    "duration": 138,
    "start_time": "2025-03-08T17:33:43.914Z"
   },
   {
    "duration": 5,
    "start_time": "2025-03-08T17:33:44.054Z"
   },
   {
    "duration": 15,
    "start_time": "2025-03-08T17:33:44.072Z"
   },
   {
    "duration": 22,
    "start_time": "2025-03-08T17:33:44.089Z"
   },
   {
    "duration": 61,
    "start_time": "2025-03-08T17:33:44.116Z"
   },
   {
    "duration": 6,
    "start_time": "2025-03-08T17:33:44.179Z"
   },
   {
    "duration": 14,
    "start_time": "2025-03-08T17:33:44.187Z"
   },
   {
    "duration": 31,
    "start_time": "2025-03-08T17:33:44.203Z"
   },
   {
    "duration": 6,
    "start_time": "2025-03-08T17:33:44.235Z"
   },
   {
    "duration": 196,
    "start_time": "2025-03-08T17:33:44.242Z"
   },
   {
    "duration": 3460,
    "start_time": "2025-03-09T06:12:52.960Z"
   },
   {
    "duration": 1419,
    "start_time": "2025-03-09T06:12:56.422Z"
   },
   {
    "duration": 4,
    "start_time": "2025-03-09T06:12:57.843Z"
   },
   {
    "duration": 2869,
    "start_time": "2025-03-09T06:12:57.849Z"
   },
   {
    "duration": 211,
    "start_time": "2025-03-09T06:13:00.720Z"
   },
   {
    "duration": 11,
    "start_time": "2025-03-09T06:13:00.933Z"
   },
   {
    "duration": 46,
    "start_time": "2025-03-09T06:13:00.946Z"
   },
   {
    "duration": 99,
    "start_time": "2025-03-09T06:13:00.994Z"
   },
   {
    "duration": 138,
    "start_time": "2025-03-09T06:13:01.094Z"
   },
   {
    "duration": 16,
    "start_time": "2025-03-09T06:13:01.235Z"
   },
   {
    "duration": 25,
    "start_time": "2025-03-09T06:13:01.253Z"
   },
   {
    "duration": 9,
    "start_time": "2025-03-09T06:13:01.280Z"
   },
   {
    "duration": 69,
    "start_time": "2025-03-09T06:13:01.291Z"
   },
   {
    "duration": 7,
    "start_time": "2025-03-09T06:13:01.361Z"
   },
   {
    "duration": 23,
    "start_time": "2025-03-09T06:13:01.370Z"
   },
   {
    "duration": 60,
    "start_time": "2025-03-09T06:13:01.395Z"
   },
   {
    "duration": 151,
    "start_time": "2025-03-09T06:13:01.457Z"
   },
   {
    "duration": 121,
    "start_time": "2025-03-09T06:13:01.610Z"
   },
   {
    "duration": 124,
    "start_time": "2025-03-09T06:13:01.733Z"
   },
   {
    "duration": 23,
    "start_time": "2025-03-09T06:13:01.858Z"
   },
   {
    "duration": 11,
    "start_time": "2025-03-09T06:13:01.883Z"
   },
   {
    "duration": 90,
    "start_time": "2025-03-09T06:13:01.895Z"
   },
   {
    "duration": 77,
    "start_time": "2025-03-09T06:13:01.987Z"
   },
   {
    "duration": 49,
    "start_time": "2025-03-09T06:13:02.066Z"
   },
   {
    "duration": 13,
    "start_time": "2025-03-09T06:13:02.117Z"
   },
   {
    "duration": 36,
    "start_time": "2025-03-09T06:13:02.132Z"
   },
   {
    "duration": 37,
    "start_time": "2025-03-09T06:13:02.170Z"
   },
   {
    "duration": 64,
    "start_time": "2025-03-09T06:13:02.211Z"
   },
   {
    "duration": 5,
    "start_time": "2025-03-09T06:13:02.276Z"
   },
   {
    "duration": 63,
    "start_time": "2025-03-09T06:13:02.282Z"
   },
   {
    "duration": 161,
    "start_time": "2025-03-09T06:13:02.347Z"
   },
   {
    "duration": 83,
    "start_time": "2025-03-09T06:13:02.510Z"
   },
   {
    "duration": 94,
    "start_time": "2025-03-09T06:13:02.595Z"
   },
   {
    "duration": 116,
    "start_time": "2025-03-09T06:13:02.691Z"
   },
   {
    "duration": 38,
    "start_time": "2025-03-09T06:13:02.809Z"
   },
   {
    "duration": 28,
    "start_time": "2025-03-09T06:13:02.849Z"
   },
   {
    "duration": 86,
    "start_time": "2025-03-09T06:13:02.879Z"
   },
   {
    "duration": 239,
    "start_time": "2025-03-09T06:13:02.968Z"
   },
   {
    "duration": 34,
    "start_time": "2025-03-09T06:13:03.209Z"
   },
   {
    "duration": 511,
    "start_time": "2025-03-09T06:13:03.245Z"
   },
   {
    "duration": 92,
    "start_time": "2025-03-09T06:13:03.763Z"
   },
   {
    "duration": 191,
    "start_time": "2025-03-09T06:13:03.863Z"
   },
   {
    "duration": 86,
    "start_time": "2025-03-09T06:13:04.056Z"
   },
   {
    "duration": 11,
    "start_time": "2025-03-09T06:13:04.144Z"
   },
   {
    "duration": 99,
    "start_time": "2025-03-09T06:13:04.156Z"
   },
   {
    "duration": 14,
    "start_time": "2025-03-09T06:13:04.256Z"
   },
   {
    "duration": 98,
    "start_time": "2025-03-09T06:13:04.271Z"
   },
   {
    "duration": 59,
    "start_time": "2025-03-09T06:13:04.370Z"
   },
   {
    "duration": 7,
    "start_time": "2025-03-09T06:13:04.431Z"
   },
   {
    "duration": 121,
    "start_time": "2025-03-09T06:13:04.439Z"
   },
   {
    "duration": 120,
    "start_time": "2025-03-09T06:13:04.561Z"
   },
   {
    "duration": 21,
    "start_time": "2025-03-09T06:13:04.683Z"
   },
   {
    "duration": 73,
    "start_time": "2025-03-09T06:13:04.706Z"
   },
   {
    "duration": 9,
    "start_time": "2025-03-09T06:13:04.780Z"
   },
   {
    "duration": 41,
    "start_time": "2025-03-09T06:13:04.791Z"
   },
   {
    "duration": 13,
    "start_time": "2025-03-09T06:13:04.833Z"
   },
   {
    "duration": 38,
    "start_time": "2025-03-09T06:13:04.848Z"
   },
   {
    "duration": 30,
    "start_time": "2025-03-09T06:13:04.888Z"
   },
   {
    "duration": 18,
    "start_time": "2025-03-09T06:13:04.920Z"
   },
   {
    "duration": 26,
    "start_time": "2025-03-09T06:13:04.940Z"
   },
   {
    "duration": 50,
    "start_time": "2025-03-09T06:13:04.968Z"
   },
   {
    "duration": 36,
    "start_time": "2025-03-09T06:13:05.019Z"
   },
   {
    "duration": 27,
    "start_time": "2025-03-09T06:13:05.056Z"
   },
   {
    "duration": 60,
    "start_time": "2025-03-09T06:13:05.085Z"
   },
   {
    "duration": 121,
    "start_time": "2025-03-09T06:13:05.147Z"
   },
   {
    "duration": 8127,
    "start_time": "2025-03-09T06:13:05.270Z"
   },
   {
    "duration": 27,
    "start_time": "2025-03-09T06:13:13.399Z"
   },
   {
    "duration": 372,
    "start_time": "2025-03-09T06:13:13.428Z"
   },
   {
    "duration": 16,
    "start_time": "2025-03-09T06:13:13.802Z"
   },
   {
    "duration": 91,
    "start_time": "2025-03-09T06:13:13.820Z"
   },
   {
    "duration": 12,
    "start_time": "2025-03-09T06:13:13.913Z"
   },
   {
    "duration": 4,
    "start_time": "2025-03-09T06:13:13.926Z"
   },
   {
    "duration": 133,
    "start_time": "2025-03-09T06:13:13.931Z"
   },
   {
    "duration": 24,
    "start_time": "2025-03-09T06:13:14.066Z"
   },
   {
    "duration": 205,
    "start_time": "2025-03-09T06:13:14.092Z"
   },
   {
    "duration": 47,
    "start_time": "2025-03-09T06:13:14.298Z"
   },
   {
    "duration": 76,
    "start_time": "2025-03-09T06:13:14.347Z"
   },
   {
    "duration": 124,
    "start_time": "2025-03-09T06:13:14.425Z"
   },
   {
    "duration": 11,
    "start_time": "2025-03-09T06:13:14.551Z"
   },
   {
    "duration": 65,
    "start_time": "2025-03-09T06:13:14.563Z"
   },
   {
    "duration": 30,
    "start_time": "2025-03-09T06:13:14.630Z"
   },
   {
    "duration": 36,
    "start_time": "2025-03-09T06:13:14.666Z"
   },
   {
    "duration": 7,
    "start_time": "2025-03-09T06:13:14.703Z"
   },
   {
    "duration": 11,
    "start_time": "2025-03-09T06:13:14.711Z"
   },
   {
    "duration": 52,
    "start_time": "2025-03-09T06:13:14.723Z"
   },
   {
    "duration": 4,
    "start_time": "2025-03-09T06:13:14.776Z"
   },
   {
    "duration": 191,
    "start_time": "2025-03-09T06:13:14.782Z"
   },
   {
    "duration": 23,
    "start_time": "2025-03-09T06:26:54.428Z"
   },
   {
    "duration": 110,
    "start_time": "2025-03-09T06:30:02.845Z"
   },
   {
    "duration": 21,
    "start_time": "2025-03-09T06:30:14.693Z"
   },
   {
    "duration": 21,
    "start_time": "2025-03-09T06:30:41.473Z"
   },
   {
    "duration": 53,
    "start_time": "2025-03-09T07:10:23.816Z"
   },
   {
    "duration": 11,
    "start_time": "2025-03-09T07:11:42.105Z"
   },
   {
    "duration": 13,
    "start_time": "2025-03-09T07:12:29.525Z"
   },
   {
    "duration": 23,
    "start_time": "2025-03-09T07:15:08.283Z"
   },
   {
    "duration": 27,
    "start_time": "2025-03-09T07:15:29.799Z"
   },
   {
    "duration": 1171,
    "start_time": "2025-03-09T07:21:22.418Z"
   },
   {
    "duration": 11,
    "start_time": "2025-03-09T07:22:34.739Z"
   },
   {
    "duration": 1694,
    "start_time": "2025-03-09T07:23:36.703Z"
   },
   {
    "duration": 1664,
    "start_time": "2025-03-09T07:24:00.783Z"
   },
   {
    "duration": 1589,
    "start_time": "2025-03-09T07:25:01.261Z"
   },
   {
    "duration": 496,
    "start_time": "2025-03-09T07:26:48.162Z"
   },
   {
    "duration": 1678,
    "start_time": "2025-03-09T07:27:10.077Z"
   },
   {
    "duration": 3558,
    "start_time": "2025-03-09T17:12:10.567Z"
   },
   {
    "duration": 1313,
    "start_time": "2025-03-09T17:12:14.127Z"
   },
   {
    "duration": 3,
    "start_time": "2025-03-09T17:12:15.441Z"
   },
   {
    "duration": 1941,
    "start_time": "2025-03-09T17:12:15.446Z"
   },
   {
    "duration": 200,
    "start_time": "2025-03-09T17:12:17.389Z"
   },
   {
    "duration": 11,
    "start_time": "2025-03-09T17:12:17.591Z"
   },
   {
    "duration": 66,
    "start_time": "2025-03-09T17:12:17.604Z"
   },
   {
    "duration": 22,
    "start_time": "2025-03-09T17:12:17.671Z"
   },
   {
    "duration": 106,
    "start_time": "2025-03-09T17:12:17.695Z"
   },
   {
    "duration": 3,
    "start_time": "2025-03-09T17:12:17.804Z"
   },
   {
    "duration": 20,
    "start_time": "2025-03-09T17:12:17.808Z"
   },
   {
    "duration": 16,
    "start_time": "2025-03-09T17:12:17.829Z"
   },
   {
    "duration": 50,
    "start_time": "2025-03-09T17:12:17.847Z"
   },
   {
    "duration": 7,
    "start_time": "2025-03-09T17:12:17.898Z"
   },
   {
    "duration": 24,
    "start_time": "2025-03-09T17:12:17.906Z"
   },
   {
    "duration": 7,
    "start_time": "2025-03-09T17:12:17.932Z"
   },
   {
    "duration": 32,
    "start_time": "2025-03-09T17:12:17.940Z"
   },
   {
    "duration": 76,
    "start_time": "2025-03-09T17:12:17.973Z"
   },
   {
    "duration": 5,
    "start_time": "2025-03-09T17:12:18.056Z"
   },
   {
    "duration": 16,
    "start_time": "2025-03-09T17:12:18.063Z"
   },
   {
    "duration": 9,
    "start_time": "2025-03-09T17:12:18.081Z"
   },
   {
    "duration": 48,
    "start_time": "2025-03-09T17:12:18.092Z"
   },
   {
    "duration": 56,
    "start_time": "2025-03-09T17:12:18.142Z"
   },
   {
    "duration": 60,
    "start_time": "2025-03-09T17:12:18.199Z"
   },
   {
    "duration": 5,
    "start_time": "2025-03-09T17:12:18.260Z"
   },
   {
    "duration": 84,
    "start_time": "2025-03-09T17:12:18.267Z"
   },
   {
    "duration": 16,
    "start_time": "2025-03-09T17:12:18.353Z"
   },
   {
    "duration": 18,
    "start_time": "2025-03-09T17:12:18.372Z"
   },
   {
    "duration": 43,
    "start_time": "2025-03-09T17:12:18.392Z"
   },
   {
    "duration": 53,
    "start_time": "2025-03-09T17:12:18.436Z"
   },
   {
    "duration": 142,
    "start_time": "2025-03-09T17:12:18.490Z"
   },
   {
    "duration": 73,
    "start_time": "2025-03-09T17:12:18.634Z"
   },
   {
    "duration": 55,
    "start_time": "2025-03-09T17:12:18.709Z"
   },
   {
    "duration": 31,
    "start_time": "2025-03-09T17:12:18.765Z"
   },
   {
    "duration": 13,
    "start_time": "2025-03-09T17:12:18.798Z"
   },
   {
    "duration": 52,
    "start_time": "2025-03-09T17:12:18.813Z"
   },
   {
    "duration": 38,
    "start_time": "2025-03-09T17:12:18.867Z"
   },
   {
    "duration": 222,
    "start_time": "2025-03-09T17:12:18.907Z"
   },
   {
    "duration": 39,
    "start_time": "2025-03-09T17:12:19.131Z"
   },
   {
    "duration": 423,
    "start_time": "2025-03-09T17:12:19.172Z"
   },
   {
    "duration": 82,
    "start_time": "2025-03-09T17:12:19.597Z"
   },
   {
    "duration": 202,
    "start_time": "2025-03-09T17:12:19.680Z"
   },
   {
    "duration": 33,
    "start_time": "2025-03-09T17:12:19.884Z"
   },
   {
    "duration": 71,
    "start_time": "2025-03-09T17:12:19.918Z"
   },
   {
    "duration": 86,
    "start_time": "2025-03-09T17:12:19.991Z"
   },
   {
    "duration": 12,
    "start_time": "2025-03-09T17:12:20.079Z"
   },
   {
    "duration": 100,
    "start_time": "2025-03-09T17:12:20.092Z"
   },
   {
    "duration": 51,
    "start_time": "2025-03-09T17:12:20.193Z"
   },
   {
    "duration": 14,
    "start_time": "2025-03-09T17:12:20.246Z"
   },
   {
    "duration": 76,
    "start_time": "2025-03-09T17:12:20.261Z"
   },
   {
    "duration": 20,
    "start_time": "2025-03-09T17:12:20.339Z"
   },
   {
    "duration": 23,
    "start_time": "2025-03-09T17:12:20.361Z"
   },
   {
    "duration": 29,
    "start_time": "2025-03-09T17:12:20.385Z"
   },
   {
    "duration": 10,
    "start_time": "2025-03-09T17:12:20.416Z"
   },
   {
    "duration": 4,
    "start_time": "2025-03-09T17:12:20.427Z"
   },
   {
    "duration": 21,
    "start_time": "2025-03-09T17:12:20.433Z"
   },
   {
    "duration": 19,
    "start_time": "2025-03-09T17:12:20.455Z"
   },
   {
    "duration": 21,
    "start_time": "2025-03-09T17:12:20.476Z"
   },
   {
    "duration": 55,
    "start_time": "2025-03-09T17:12:20.499Z"
   },
   {
    "duration": 55,
    "start_time": "2025-03-09T17:12:20.555Z"
   },
   {
    "duration": 24,
    "start_time": "2025-03-09T17:12:20.612Z"
   },
   {
    "duration": 9,
    "start_time": "2025-03-09T17:12:20.638Z"
   },
   {
    "duration": 111,
    "start_time": "2025-03-09T17:12:20.648Z"
   },
   {
    "duration": 32,
    "start_time": "2025-03-09T17:12:20.761Z"
   },
   {
    "duration": 29,
    "start_time": "2025-03-09T17:12:20.795Z"
   },
   {
    "duration": 8353,
    "start_time": "2025-03-09T17:12:20.825Z"
   },
   {
    "duration": 27,
    "start_time": "2025-03-09T17:12:29.180Z"
   },
   {
    "duration": 305,
    "start_time": "2025-03-09T17:12:29.208Z"
   },
   {
    "duration": 15,
    "start_time": "2025-03-09T17:12:29.514Z"
   },
   {
    "duration": 65,
    "start_time": "2025-03-09T17:12:29.531Z"
   },
   {
    "duration": 10,
    "start_time": "2025-03-09T17:12:29.598Z"
   },
   {
    "duration": 71,
    "start_time": "2025-03-09T17:12:29.609Z"
   },
   {
    "duration": 199,
    "start_time": "2025-03-09T17:12:29.682Z"
   },
   {
    "duration": 25,
    "start_time": "2025-03-09T17:12:29.882Z"
   },
   {
    "duration": 202,
    "start_time": "2025-03-09T17:12:29.909Z"
   },
   {
    "duration": 54,
    "start_time": "2025-03-09T17:12:30.113Z"
   },
   {
    "duration": 62,
    "start_time": "2025-03-09T17:12:30.168Z"
   },
   {
    "duration": 127,
    "start_time": "2025-03-09T17:12:30.231Z"
   },
   {
    "duration": 5,
    "start_time": "2025-03-09T17:12:30.359Z"
   },
   {
    "duration": 52,
    "start_time": "2025-03-09T17:12:30.365Z"
   },
   {
    "duration": 39,
    "start_time": "2025-03-09T17:12:30.418Z"
   },
   {
    "duration": 41,
    "start_time": "2025-03-09T17:12:30.463Z"
   },
   {
    "duration": 6,
    "start_time": "2025-03-09T17:12:30.506Z"
   },
   {
    "duration": 22,
    "start_time": "2025-03-09T17:12:30.513Z"
   },
   {
    "duration": 32,
    "start_time": "2025-03-09T17:12:30.537Z"
   },
   {
    "duration": 5,
    "start_time": "2025-03-09T17:12:30.571Z"
   },
   {
    "duration": 40,
    "start_time": "2025-03-09T17:12:30.578Z"
   },
   {
    "duration": 19,
    "start_time": "2025-03-09T17:12:30.620Z"
   },
   {
    "duration": 154,
    "start_time": "2025-03-09T17:12:30.640Z"
   },
   {
    "duration": 10,
    "start_time": "2025-03-09T17:12:30.795Z"
   },
   {
    "duration": 1635,
    "start_time": "2025-03-09T17:12:30.807Z"
   },
   {
    "duration": 19,
    "start_time": "2025-03-09T17:12:32.444Z"
   },
   {
    "duration": 36,
    "start_time": "2025-03-09T17:12:32.465Z"
   },
   {
    "duration": 109,
    "start_time": "2025-03-09T17:28:09.168Z"
   },
   {
    "duration": 34,
    "start_time": "2025-03-09T17:28:21.984Z"
   },
   {
    "duration": 19,
    "start_time": "2025-03-09T17:31:01.560Z"
   },
   {
    "duration": 23,
    "start_time": "2025-03-09T17:31:22.788Z"
   },
   {
    "duration": 26,
    "start_time": "2025-03-09T17:32:29.693Z"
   },
   {
    "duration": 53,
    "start_time": "2025-03-09T17:33:05.411Z"
   },
   {
    "duration": 13,
    "start_time": "2025-03-09T17:33:50.869Z"
   },
   {
    "duration": 19,
    "start_time": "2025-03-09T17:34:28.558Z"
   },
   {
    "duration": 1770,
    "start_time": "2025-03-09T17:36:16.387Z"
   },
   {
    "duration": 8,
    "start_time": "2025-03-09T17:37:50.012Z"
   },
   {
    "duration": 58,
    "start_time": "2025-03-09T17:39:19.654Z"
   },
   {
    "duration": 15,
    "start_time": "2025-03-09T18:21:54.131Z"
   },
   {
    "duration": 11,
    "start_time": "2025-03-09T18:21:57.840Z"
   },
   {
    "duration": 1957,
    "start_time": "2025-03-09T18:22:00.150Z"
   },
   {
    "duration": 1954,
    "start_time": "2025-03-09T18:22:45.729Z"
   },
   {
    "duration": 2106,
    "start_time": "2025-03-09T18:31:35.073Z"
   },
   {
    "duration": 9,
    "start_time": "2025-03-09T18:35:24.601Z"
   },
   {
    "duration": 519,
    "start_time": "2025-03-09T18:46:16.296Z"
   },
   {
    "duration": 677,
    "start_time": "2025-03-09T18:46:52.237Z"
   },
   {
    "duration": 462,
    "start_time": "2025-03-09T18:47:52.925Z"
   },
   {
    "duration": 507,
    "start_time": "2025-03-09T18:48:16.183Z"
   },
   {
    "duration": 144,
    "start_time": "2025-03-09T18:49:13.259Z"
   },
   {
    "duration": 213,
    "start_time": "2025-03-09T18:50:31.698Z"
   },
   {
    "duration": 129,
    "start_time": "2025-03-09T18:51:22.239Z"
   },
   {
    "duration": 130,
    "start_time": "2025-03-09T18:51:38.684Z"
   },
   {
    "duration": 134,
    "start_time": "2025-03-09T18:52:13.627Z"
   },
   {
    "duration": 131,
    "start_time": "2025-03-09T18:52:51.267Z"
   },
   {
    "duration": 11,
    "start_time": "2025-03-09T19:06:54.635Z"
   },
   {
    "duration": 15,
    "start_time": "2025-03-09T19:08:34.156Z"
   },
   {
    "duration": 16,
    "start_time": "2025-03-09T19:08:47.077Z"
   },
   {
    "duration": 16,
    "start_time": "2025-03-09T19:08:51.284Z"
   },
   {
    "duration": 16,
    "start_time": "2025-03-09T19:09:26.295Z"
   },
   {
    "duration": 13,
    "start_time": "2025-03-09T19:09:56.484Z"
   },
   {
    "duration": 13,
    "start_time": "2025-03-09T19:10:04.594Z"
   },
   {
    "duration": 10,
    "start_time": "2025-03-09T19:11:53.615Z"
   },
   {
    "duration": 8,
    "start_time": "2025-03-09T19:13:10.219Z"
   },
   {
    "duration": 7,
    "start_time": "2025-03-09T19:13:33.569Z"
   },
   {
    "duration": 135,
    "start_time": "2025-03-09T19:19:25.754Z"
   },
   {
    "duration": 3376,
    "start_time": "2025-03-10T04:44:10.540Z"
   },
   {
    "duration": 1309,
    "start_time": "2025-03-10T04:44:13.918Z"
   },
   {
    "duration": 3,
    "start_time": "2025-03-10T04:44:15.229Z"
   },
   {
    "duration": 2343,
    "start_time": "2025-03-10T04:44:15.234Z"
   },
   {
    "duration": 234,
    "start_time": "2025-03-10T04:44:17.578Z"
   },
   {
    "duration": 11,
    "start_time": "2025-03-10T04:44:17.814Z"
   },
   {
    "duration": 15,
    "start_time": "2025-03-10T04:44:17.827Z"
   },
   {
    "duration": 96,
    "start_time": "2025-03-10T04:44:17.844Z"
   },
   {
    "duration": 98,
    "start_time": "2025-03-10T04:44:17.942Z"
   },
   {
    "duration": 4,
    "start_time": "2025-03-10T04:44:18.043Z"
   },
   {
    "duration": 14,
    "start_time": "2025-03-10T04:44:18.049Z"
   },
   {
    "duration": 13,
    "start_time": "2025-03-10T04:44:18.064Z"
   },
   {
    "duration": 40,
    "start_time": "2025-03-10T04:44:18.079Z"
   },
   {
    "duration": 8,
    "start_time": "2025-03-10T04:44:18.121Z"
   },
   {
    "duration": 46,
    "start_time": "2025-03-10T04:44:18.131Z"
   },
   {
    "duration": 8,
    "start_time": "2025-03-10T04:44:18.179Z"
   },
   {
    "duration": 45,
    "start_time": "2025-03-10T04:44:18.188Z"
   },
   {
    "duration": 77,
    "start_time": "2025-03-10T04:44:18.235Z"
   },
   {
    "duration": 5,
    "start_time": "2025-03-10T04:44:18.314Z"
   },
   {
    "duration": 21,
    "start_time": "2025-03-10T04:44:18.320Z"
   },
   {
    "duration": 6,
    "start_time": "2025-03-10T04:44:18.343Z"
   },
   {
    "duration": 62,
    "start_time": "2025-03-10T04:44:18.350Z"
   },
   {
    "duration": 78,
    "start_time": "2025-03-10T04:44:18.414Z"
   },
   {
    "duration": 51,
    "start_time": "2025-03-10T04:44:18.494Z"
   },
   {
    "duration": 16,
    "start_time": "2025-03-10T04:44:18.547Z"
   },
   {
    "duration": 19,
    "start_time": "2025-03-10T04:44:18.565Z"
   },
   {
    "duration": 17,
    "start_time": "2025-03-10T04:44:18.585Z"
   },
   {
    "duration": 14,
    "start_time": "2025-03-10T04:44:18.606Z"
   },
   {
    "duration": 12,
    "start_time": "2025-03-10T04:44:18.622Z"
   },
   {
    "duration": 63,
    "start_time": "2025-03-10T04:44:18.636Z"
   },
   {
    "duration": 157,
    "start_time": "2025-03-10T04:44:18.701Z"
   },
   {
    "duration": 71,
    "start_time": "2025-03-10T04:44:18.860Z"
   },
   {
    "duration": 157,
    "start_time": "2025-03-10T04:44:18.932Z"
   },
   {
    "duration": 33,
    "start_time": "2025-03-10T04:44:19.090Z"
   },
   {
    "duration": 10,
    "start_time": "2025-03-10T04:44:19.125Z"
   },
   {
    "duration": 39,
    "start_time": "2025-03-10T04:44:19.136Z"
   },
   {
    "duration": 41,
    "start_time": "2025-03-10T04:44:19.177Z"
   },
   {
    "duration": 238,
    "start_time": "2025-03-10T04:44:19.220Z"
   },
   {
    "duration": 36,
    "start_time": "2025-03-10T04:44:19.462Z"
   },
   {
    "duration": 477,
    "start_time": "2025-03-10T04:44:19.500Z"
   },
   {
    "duration": 93,
    "start_time": "2025-03-10T04:44:19.979Z"
   },
   {
    "duration": 191,
    "start_time": "2025-03-10T04:44:20.074Z"
   },
   {
    "duration": 36,
    "start_time": "2025-03-10T04:44:20.267Z"
   },
   {
    "duration": 10,
    "start_time": "2025-03-10T04:44:20.305Z"
   },
   {
    "duration": 110,
    "start_time": "2025-03-10T04:44:20.316Z"
   },
   {
    "duration": 13,
    "start_time": "2025-03-10T04:44:20.428Z"
   },
   {
    "duration": 79,
    "start_time": "2025-03-10T04:44:20.443Z"
   },
   {
    "duration": 59,
    "start_time": "2025-03-10T04:44:20.524Z"
   },
   {
    "duration": 360,
    "start_time": "2025-03-10T04:44:20.585Z"
   },
   {
    "duration": 202,
    "start_time": "2025-03-10T04:44:20.946Z"
   },
   {
    "duration": 30,
    "start_time": "2025-03-10T04:44:21.150Z"
   },
   {
    "duration": 11,
    "start_time": "2025-03-10T04:44:21.182Z"
   },
   {
    "duration": 28,
    "start_time": "2025-03-10T04:44:21.195Z"
   },
   {
    "duration": 11,
    "start_time": "2025-03-10T04:44:21.224Z"
   },
   {
    "duration": 25,
    "start_time": "2025-03-10T04:44:21.237Z"
   },
   {
    "duration": 18,
    "start_time": "2025-03-10T04:44:21.264Z"
   },
   {
    "duration": 16,
    "start_time": "2025-03-10T04:44:21.284Z"
   },
   {
    "duration": 31,
    "start_time": "2025-03-10T04:44:21.302Z"
   },
   {
    "duration": 16,
    "start_time": "2025-03-10T04:44:21.335Z"
   },
   {
    "duration": 19,
    "start_time": "2025-03-10T04:44:21.353Z"
   },
   {
    "duration": 11,
    "start_time": "2025-03-10T04:44:21.373Z"
   },
   {
    "duration": 9,
    "start_time": "2025-03-10T04:44:21.386Z"
   },
   {
    "duration": 58,
    "start_time": "2025-03-10T04:44:21.396Z"
   },
   {
    "duration": 39,
    "start_time": "2025-03-10T04:44:21.456Z"
   },
   {
    "duration": 12,
    "start_time": "2025-03-10T04:44:21.497Z"
   },
   {
    "duration": 8262,
    "start_time": "2025-03-10T04:44:21.510Z"
   },
   {
    "duration": 27,
    "start_time": "2025-03-10T04:44:29.774Z"
   },
   {
    "duration": 339,
    "start_time": "2025-03-10T04:44:29.803Z"
   },
   {
    "duration": 19,
    "start_time": "2025-03-10T04:44:30.144Z"
   },
   {
    "duration": 136,
    "start_time": "2025-03-10T04:44:30.165Z"
   },
   {
    "duration": 13,
    "start_time": "2025-03-10T04:44:30.303Z"
   },
   {
    "duration": 27,
    "start_time": "2025-03-10T04:44:30.318Z"
   },
   {
    "duration": 148,
    "start_time": "2025-03-10T04:44:30.347Z"
   },
   {
    "duration": 24,
    "start_time": "2025-03-10T04:44:30.497Z"
   },
   {
    "duration": 296,
    "start_time": "2025-03-10T04:44:30.523Z"
   },
   {
    "duration": 106,
    "start_time": "2025-03-10T04:44:30.821Z"
   },
   {
    "duration": 273,
    "start_time": "2025-03-10T04:44:30.929Z"
   },
   {
    "duration": 130,
    "start_time": "2025-03-10T04:44:31.203Z"
   },
   {
    "duration": 5,
    "start_time": "2025-03-10T04:44:31.334Z"
   },
   {
    "duration": 27,
    "start_time": "2025-03-10T04:44:31.340Z"
   },
   {
    "duration": 78,
    "start_time": "2025-03-10T04:44:31.369Z"
   },
   {
    "duration": 38,
    "start_time": "2025-03-10T04:44:31.452Z"
   },
   {
    "duration": 7,
    "start_time": "2025-03-10T04:44:31.491Z"
   },
   {
    "duration": 55,
    "start_time": "2025-03-10T04:44:31.499Z"
   },
   {
    "duration": 43,
    "start_time": "2025-03-10T04:44:31.555Z"
   },
   {
    "duration": 6,
    "start_time": "2025-03-10T04:44:31.600Z"
   },
   {
    "duration": 37,
    "start_time": "2025-03-10T04:44:31.607Z"
   },
   {
    "duration": 37,
    "start_time": "2025-03-10T04:44:31.646Z"
   },
   {
    "duration": 21,
    "start_time": "2025-03-10T04:44:31.684Z"
   },
   {
    "duration": 54,
    "start_time": "2025-03-10T04:44:31.707Z"
   },
   {
    "duration": 25,
    "start_time": "2025-03-10T04:44:31.762Z"
   },
   {
    "duration": 97,
    "start_time": "2025-03-10T04:44:31.789Z"
   },
   {
    "duration": 100,
    "start_time": "2025-03-10T04:44:31.888Z"
   },
   {
    "duration": 236,
    "start_time": "2025-03-10T04:44:31.989Z"
   },
   {
    "duration": 18,
    "start_time": "2025-03-10T04:44:32.227Z"
   },
   {
    "duration": 1856,
    "start_time": "2025-03-10T04:44:32.247Z"
   },
   {
    "duration": 9,
    "start_time": "2025-03-10T04:44:34.105Z"
   },
   {
    "duration": 146,
    "start_time": "2025-03-10T04:44:34.116Z"
   },
   {
    "duration": 142,
    "start_time": "2025-03-10T04:44:34.263Z"
   },
   {
    "duration": 12,
    "start_time": "2025-03-10T04:44:34.406Z"
   },
   {
    "duration": 36,
    "start_time": "2025-03-10T04:44:34.420Z"
   },
   {
    "duration": 155,
    "start_time": "2025-03-10T04:44:34.457Z"
   },
   {
    "duration": 108,
    "start_time": "2025-03-10T04:51:58.534Z"
   },
   {
    "duration": 10,
    "start_time": "2025-03-10T04:53:29.638Z"
   },
   {
    "duration": 9,
    "start_time": "2025-03-10T04:53:38.999Z"
   },
   {
    "duration": 22,
    "start_time": "2025-03-10T04:54:04.175Z"
   },
   {
    "duration": 32,
    "start_time": "2025-03-10T04:54:14.342Z"
   },
   {
    "duration": 10,
    "start_time": "2025-03-10T04:54:42.478Z"
   },
   {
    "duration": 31,
    "start_time": "2025-03-10T04:56:07.563Z"
   },
   {
    "duration": 25,
    "start_time": "2025-03-10T04:59:30.505Z"
   },
   {
    "duration": 24,
    "start_time": "2025-03-10T04:59:36.710Z"
   },
   {
    "duration": 21,
    "start_time": "2025-03-10T05:00:08.225Z"
   },
   {
    "duration": 5,
    "start_time": "2025-03-10T05:00:55.654Z"
   },
   {
    "duration": 6,
    "start_time": "2025-03-10T05:01:48.461Z"
   },
   {
    "duration": 21,
    "start_time": "2025-03-10T05:03:40.245Z"
   },
   {
    "duration": 6,
    "start_time": "2025-03-10T05:04:04.635Z"
   },
   {
    "duration": 3,
    "start_time": "2025-03-10T05:04:44.862Z"
   },
   {
    "duration": 18,
    "start_time": "2025-03-10T05:04:49.228Z"
   },
   {
    "duration": 23,
    "start_time": "2025-03-10T05:04:58.418Z"
   },
   {
    "duration": 6,
    "start_time": "2025-03-10T05:05:04.081Z"
   },
   {
    "duration": 22,
    "start_time": "2025-03-10T05:05:30.449Z"
   },
   {
    "duration": 605,
    "start_time": "2025-03-10T05:07:08.189Z"
   },
   {
    "duration": 282,
    "start_time": "2025-03-10T05:07:35.778Z"
   },
   {
    "duration": 167,
    "start_time": "2025-03-10T05:08:25.873Z"
   },
   {
    "duration": 602,
    "start_time": "2025-03-10T05:08:44.128Z"
   },
   {
    "duration": 159,
    "start_time": "2025-03-10T05:09:51.376Z"
   },
   {
    "duration": 170,
    "start_time": "2025-03-10T05:10:40.733Z"
   },
   {
    "duration": 616,
    "start_time": "2025-03-10T05:10:44.760Z"
   },
   {
    "duration": 13,
    "start_time": "2025-03-10T05:10:49.870Z"
   },
   {
    "duration": 13,
    "start_time": "2025-03-10T05:11:22.293Z"
   },
   {
    "duration": 13,
    "start_time": "2025-03-10T05:11:28.286Z"
   },
   {
    "duration": 13,
    "start_time": "2025-03-10T05:11:45.209Z"
   },
   {
    "duration": 2379,
    "start_time": "2025-03-10T05:11:50.623Z"
   },
   {
    "duration": 1117,
    "start_time": "2025-03-10T05:11:53.004Z"
   },
   {
    "duration": 2,
    "start_time": "2025-03-10T05:11:54.123Z"
   },
   {
    "duration": 2229,
    "start_time": "2025-03-10T05:11:54.127Z"
   },
   {
    "duration": 151,
    "start_time": "2025-03-10T05:11:56.358Z"
   },
   {
    "duration": 12,
    "start_time": "2025-03-10T05:11:56.510Z"
   },
   {
    "duration": 12,
    "start_time": "2025-03-10T05:11:56.523Z"
   },
   {
    "duration": 36,
    "start_time": "2025-03-10T05:11:56.536Z"
   },
   {
    "duration": 108,
    "start_time": "2025-03-10T05:11:56.573Z"
   },
   {
    "duration": 3,
    "start_time": "2025-03-10T05:11:56.684Z"
   },
   {
    "duration": 220,
    "start_time": "2025-03-10T05:11:56.689Z"
   },
   {
    "duration": 51,
    "start_time": "2025-03-10T05:11:56.911Z"
   },
   {
    "duration": 44,
    "start_time": "2025-03-10T05:11:56.963Z"
   },
   {
    "duration": 7,
    "start_time": "2025-03-10T05:11:57.009Z"
   },
   {
    "duration": 211,
    "start_time": "2025-03-10T05:11:57.017Z"
   },
   {
    "duration": 11,
    "start_time": "2025-03-10T05:11:57.230Z"
   },
   {
    "duration": 34,
    "start_time": "2025-03-10T05:11:57.243Z"
   },
   {
    "duration": 79,
    "start_time": "2025-03-10T05:11:57.279Z"
   },
   {
    "duration": 5,
    "start_time": "2025-03-10T05:11:57.360Z"
   },
   {
    "duration": 21,
    "start_time": "2025-03-10T05:11:57.367Z"
   },
   {
    "duration": 18,
    "start_time": "2025-03-10T05:11:57.390Z"
   },
   {
    "duration": 68,
    "start_time": "2025-03-10T05:11:57.409Z"
   },
   {
    "duration": 72,
    "start_time": "2025-03-10T05:11:57.480Z"
   },
   {
    "duration": 55,
    "start_time": "2025-03-10T05:11:57.554Z"
   },
   {
    "duration": 6,
    "start_time": "2025-03-10T05:11:57.610Z"
   },
   {
    "duration": 47,
    "start_time": "2025-03-10T05:11:57.617Z"
   },
   {
    "duration": 43,
    "start_time": "2025-03-10T05:11:57.666Z"
   },
   {
    "duration": 54,
    "start_time": "2025-03-10T05:11:57.713Z"
   },
   {
    "duration": 15,
    "start_time": "2025-03-10T05:11:57.769Z"
   },
   {
    "duration": 73,
    "start_time": "2025-03-10T05:11:57.785Z"
   },
   {
    "duration": 147,
    "start_time": "2025-03-10T05:11:57.859Z"
   },
   {
    "duration": 81,
    "start_time": "2025-03-10T05:11:58.007Z"
   },
   {
    "duration": 49,
    "start_time": "2025-03-10T05:11:58.090Z"
   },
   {
    "duration": 33,
    "start_time": "2025-03-10T05:11:58.141Z"
   },
   {
    "duration": 10,
    "start_time": "2025-03-10T05:11:58.175Z"
   },
   {
    "duration": 37,
    "start_time": "2025-03-10T05:11:58.187Z"
   },
   {
    "duration": 37,
    "start_time": "2025-03-10T05:11:58.226Z"
   },
   {
    "duration": 233,
    "start_time": "2025-03-10T05:11:58.265Z"
   },
   {
    "duration": 37,
    "start_time": "2025-03-10T05:11:58.499Z"
   },
   {
    "duration": 460,
    "start_time": "2025-03-10T05:11:58.538Z"
   },
   {
    "duration": 88,
    "start_time": "2025-03-10T05:11:58.999Z"
   },
   {
    "duration": 264,
    "start_time": "2025-03-10T05:11:59.089Z"
   },
   {
    "duration": 37,
    "start_time": "2025-03-10T05:11:59.356Z"
   },
   {
    "duration": 9,
    "start_time": "2025-03-10T05:11:59.395Z"
   },
   {
    "duration": 98,
    "start_time": "2025-03-10T05:11:59.406Z"
   },
   {
    "duration": 13,
    "start_time": "2025-03-10T05:11:59.506Z"
   },
   {
    "duration": 103,
    "start_time": "2025-03-10T05:11:59.521Z"
   },
   {
    "duration": 54,
    "start_time": "2025-03-10T05:11:59.626Z"
   },
   {
    "duration": 7,
    "start_time": "2025-03-10T05:11:59.682Z"
   },
   {
    "duration": 54,
    "start_time": "2025-03-10T05:11:59.690Z"
   },
   {
    "duration": 44,
    "start_time": "2025-03-10T05:11:59.746Z"
   },
   {
    "duration": 15,
    "start_time": "2025-03-10T05:11:59.792Z"
   },
   {
    "duration": 5,
    "start_time": "2025-03-10T05:11:59.808Z"
   },
   {
    "duration": 7,
    "start_time": "2025-03-10T05:11:59.815Z"
   },
   {
    "duration": 5,
    "start_time": "2025-03-10T05:11:59.823Z"
   },
   {
    "duration": 8,
    "start_time": "2025-03-10T05:11:59.830Z"
   },
   {
    "duration": 14,
    "start_time": "2025-03-10T05:11:59.839Z"
   },
   {
    "duration": 5,
    "start_time": "2025-03-10T05:11:59.855Z"
   },
   {
    "duration": 15,
    "start_time": "2025-03-10T05:11:59.861Z"
   },
   {
    "duration": 23,
    "start_time": "2025-03-10T05:11:59.878Z"
   },
   {
    "duration": 11,
    "start_time": "2025-03-10T05:11:59.903Z"
   },
   {
    "duration": 9,
    "start_time": "2025-03-10T05:11:59.915Z"
   },
   {
    "duration": 26,
    "start_time": "2025-03-10T05:11:59.926Z"
   },
   {
    "duration": 143,
    "start_time": "2025-03-10T05:11:59.954Z"
   },
   {
    "duration": 34,
    "start_time": "2025-03-10T05:12:00.098Z"
   },
   {
    "duration": 2450,
    "start_time": "2025-03-10T05:12:00.134Z"
   },
   {
    "duration": 28,
    "start_time": "2025-03-10T05:12:02.585Z"
   },
   {
    "duration": 324,
    "start_time": "2025-03-10T05:12:02.615Z"
   },
   {
    "duration": 21,
    "start_time": "2025-03-10T05:12:02.941Z"
   },
   {
    "duration": 78,
    "start_time": "2025-03-10T05:12:02.964Z"
   },
   {
    "duration": 141,
    "start_time": "2025-03-10T05:12:03.044Z"
   },
   {
    "duration": 52,
    "start_time": "2025-03-10T05:12:03.187Z"
   },
   {
    "duration": 205,
    "start_time": "2025-03-10T05:12:03.241Z"
   },
   {
    "duration": 33,
    "start_time": "2025-03-10T05:12:03.447Z"
   },
   {
    "duration": 192,
    "start_time": "2025-03-10T05:12:03.482Z"
   },
   {
    "duration": 58,
    "start_time": "2025-03-10T05:12:03.676Z"
   },
   {
    "duration": 76,
    "start_time": "2025-03-10T05:12:03.736Z"
   },
   {
    "duration": 127,
    "start_time": "2025-03-10T05:12:03.814Z"
   },
   {
    "duration": 6,
    "start_time": "2025-03-10T05:12:03.942Z"
   },
   {
    "duration": 122,
    "start_time": "2025-03-10T05:12:03.949Z"
   },
   {
    "duration": 49,
    "start_time": "2025-03-10T05:12:04.072Z"
   },
   {
    "duration": 34,
    "start_time": "2025-03-10T05:12:04.127Z"
   },
   {
    "duration": 5,
    "start_time": "2025-03-10T05:12:04.163Z"
   },
   {
    "duration": 24,
    "start_time": "2025-03-10T05:12:04.170Z"
   },
   {
    "duration": 40,
    "start_time": "2025-03-10T05:12:04.196Z"
   },
   {
    "duration": 4,
    "start_time": "2025-03-10T05:12:04.238Z"
   },
   {
    "duration": 29,
    "start_time": "2025-03-10T05:12:04.244Z"
   },
   {
    "duration": 37,
    "start_time": "2025-03-10T05:12:04.274Z"
   },
   {
    "duration": 20,
    "start_time": "2025-03-10T05:12:04.313Z"
   },
   {
    "duration": 50,
    "start_time": "2025-03-10T05:12:04.334Z"
   },
   {
    "duration": 24,
    "start_time": "2025-03-10T05:12:04.386Z"
   },
   {
    "duration": 68,
    "start_time": "2025-03-10T05:12:04.412Z"
   },
   {
    "duration": 9,
    "start_time": "2025-03-10T05:12:04.482Z"
   },
   {
    "duration": 39,
    "start_time": "2025-03-10T05:12:04.492Z"
   },
   {
    "duration": 13,
    "start_time": "2025-03-10T05:12:04.533Z"
   },
   {
    "duration": 1859,
    "start_time": "2025-03-10T05:12:04.548Z"
   },
   {
    "duration": 12,
    "start_time": "2025-03-10T05:12:06.409Z"
   },
   {
    "duration": 163,
    "start_time": "2025-03-10T05:12:06.424Z"
   },
   {
    "duration": 139,
    "start_time": "2025-03-10T05:12:06.588Z"
   },
   {
    "duration": 12,
    "start_time": "2025-03-10T05:12:06.729Z"
   },
   {
    "duration": 32,
    "start_time": "2025-03-10T05:12:06.743Z"
   },
   {
    "duration": 170,
    "start_time": "2025-03-10T05:12:06.776Z"
   },
   {
    "duration": 16,
    "start_time": "2025-03-10T05:12:06.948Z"
   },
   {
    "duration": 20,
    "start_time": "2025-03-10T05:12:06.965Z"
   },
   {
    "duration": 662,
    "start_time": "2025-03-10T05:12:06.987Z"
   },
   {
    "duration": 27,
    "start_time": "2025-03-10T05:12:07.650Z"
   },
   {
    "duration": 29,
    "start_time": "2025-03-10T05:12:07.679Z"
   },
   {
    "duration": 716,
    "start_time": "2025-03-10T05:13:22.625Z"
   },
   {
    "duration": 6,
    "start_time": "2025-03-10T05:50:26.790Z"
   },
   {
    "duration": 606,
    "start_time": "2025-03-10T05:50:38.312Z"
   },
   {
    "duration": 625,
    "start_time": "2025-03-10T05:50:54.985Z"
   },
   {
    "duration": 10,
    "start_time": "2025-03-10T08:00:45.358Z"
   },
   {
    "duration": 159,
    "start_time": "2025-03-10T08:06:27.586Z"
   },
   {
    "duration": 156,
    "start_time": "2025-03-10T08:06:42.340Z"
   },
   {
    "duration": 153,
    "start_time": "2025-03-10T08:09:03.475Z"
   },
   {
    "duration": 2632,
    "start_time": "2025-03-10T09:00:27.025Z"
   },
   {
    "duration": 1250,
    "start_time": "2025-03-10T09:00:29.660Z"
   },
   {
    "duration": 2,
    "start_time": "2025-03-10T09:00:30.911Z"
   },
   {
    "duration": 2260,
    "start_time": "2025-03-10T09:00:30.915Z"
   },
   {
    "duration": 275,
    "start_time": "2025-03-10T09:00:33.176Z"
   },
   {
    "duration": 13,
    "start_time": "2025-03-10T09:00:33.452Z"
   },
   {
    "duration": 23,
    "start_time": "2025-03-10T09:00:33.466Z"
   },
   {
    "duration": 31,
    "start_time": "2025-03-10T09:00:33.491Z"
   },
   {
    "duration": 98,
    "start_time": "2025-03-10T09:00:33.524Z"
   },
   {
    "duration": 3,
    "start_time": "2025-03-10T09:00:33.626Z"
   },
   {
    "duration": 31,
    "start_time": "2025-03-10T09:00:33.630Z"
   },
   {
    "duration": 24,
    "start_time": "2025-03-10T09:00:33.663Z"
   },
   {
    "duration": 65,
    "start_time": "2025-03-10T09:00:33.689Z"
   },
   {
    "duration": 8,
    "start_time": "2025-03-10T09:00:33.755Z"
   },
   {
    "duration": 88,
    "start_time": "2025-03-10T09:00:33.764Z"
   },
   {
    "duration": 76,
    "start_time": "2025-03-10T09:00:33.855Z"
   },
   {
    "duration": 58,
    "start_time": "2025-03-10T09:00:33.932Z"
   },
   {
    "duration": 197,
    "start_time": "2025-03-10T09:00:33.992Z"
   },
   {
    "duration": 6,
    "start_time": "2025-03-10T09:00:34.190Z"
   },
   {
    "duration": 20,
    "start_time": "2025-03-10T09:00:34.197Z"
   },
   {
    "duration": 16,
    "start_time": "2025-03-10T09:00:34.219Z"
   },
   {
    "duration": 59,
    "start_time": "2025-03-10T09:00:34.236Z"
   },
   {
    "duration": 71,
    "start_time": "2025-03-10T09:00:34.297Z"
   },
   {
    "duration": 149,
    "start_time": "2025-03-10T09:00:34.369Z"
   },
   {
    "duration": 31,
    "start_time": "2025-03-10T09:00:34.520Z"
   },
   {
    "duration": 44,
    "start_time": "2025-03-10T09:00:34.553Z"
   },
   {
    "duration": 34,
    "start_time": "2025-03-10T09:00:34.599Z"
   },
   {
    "duration": 36,
    "start_time": "2025-03-10T09:00:34.637Z"
   },
   {
    "duration": 38,
    "start_time": "2025-03-10T09:00:34.675Z"
   },
   {
    "duration": 70,
    "start_time": "2025-03-10T09:00:34.715Z"
   },
   {
    "duration": 153,
    "start_time": "2025-03-10T09:00:34.787Z"
   },
   {
    "duration": 76,
    "start_time": "2025-03-10T09:00:34.942Z"
   },
   {
    "duration": 137,
    "start_time": "2025-03-10T09:00:35.020Z"
   },
   {
    "duration": 36,
    "start_time": "2025-03-10T09:00:35.159Z"
   },
   {
    "duration": 29,
    "start_time": "2025-03-10T09:00:35.197Z"
   },
   {
    "duration": 48,
    "start_time": "2025-03-10T09:00:35.228Z"
   },
   {
    "duration": 77,
    "start_time": "2025-03-10T09:00:35.277Z"
   },
   {
    "duration": 261,
    "start_time": "2025-03-10T09:00:35.355Z"
   },
   {
    "duration": 33,
    "start_time": "2025-03-10T09:00:35.617Z"
   },
   {
    "duration": 491,
    "start_time": "2025-03-10T09:00:35.662Z"
   },
   {
    "duration": 88,
    "start_time": "2025-03-10T09:00:36.155Z"
   },
   {
    "duration": 195,
    "start_time": "2025-03-10T09:00:36.245Z"
   },
   {
    "duration": 43,
    "start_time": "2025-03-10T09:00:36.442Z"
   },
   {
    "duration": 11,
    "start_time": "2025-03-10T09:00:36.487Z"
   },
   {
    "duration": 182,
    "start_time": "2025-03-10T09:00:36.500Z"
   },
   {
    "duration": 15,
    "start_time": "2025-03-10T09:00:36.683Z"
   },
   {
    "duration": 108,
    "start_time": "2025-03-10T09:00:36.699Z"
   },
   {
    "duration": 73,
    "start_time": "2025-03-10T09:00:36.808Z"
   },
   {
    "duration": 8,
    "start_time": "2025-03-10T09:00:36.883Z"
   },
   {
    "duration": 53,
    "start_time": "2025-03-10T09:00:36.892Z"
   },
   {
    "duration": 175,
    "start_time": "2025-03-10T09:00:36.947Z"
   },
   {
    "duration": 28,
    "start_time": "2025-03-10T09:00:37.124Z"
   },
   {
    "duration": 31,
    "start_time": "2025-03-10T09:00:37.153Z"
   },
   {
    "duration": 38,
    "start_time": "2025-03-10T09:00:37.186Z"
   },
   {
    "duration": 34,
    "start_time": "2025-03-10T09:00:37.226Z"
   },
   {
    "duration": 60,
    "start_time": "2025-03-10T09:00:37.261Z"
   },
   {
    "duration": 111,
    "start_time": "2025-03-10T09:00:37.323Z"
   },
   {
    "duration": 58,
    "start_time": "2025-03-10T09:00:37.437Z"
   },
   {
    "duration": 96,
    "start_time": "2025-03-10T09:00:37.498Z"
   },
   {
    "duration": 49,
    "start_time": "2025-03-10T09:00:37.596Z"
   },
   {
    "duration": 51,
    "start_time": "2025-03-10T09:00:37.647Z"
   },
   {
    "duration": 50,
    "start_time": "2025-03-10T09:00:37.700Z"
   },
   {
    "duration": 54,
    "start_time": "2025-03-10T09:00:37.752Z"
   },
   {
    "duration": 348,
    "start_time": "2025-03-10T09:00:37.808Z"
   },
   {
    "duration": 28,
    "start_time": "2025-03-10T09:00:38.157Z"
   },
   {
    "duration": 2509,
    "start_time": "2025-03-10T09:00:38.187Z"
   },
   {
    "duration": 28,
    "start_time": "2025-03-10T09:00:40.698Z"
   },
   {
    "duration": 356,
    "start_time": "2025-03-10T09:00:40.727Z"
   },
   {
    "duration": 14,
    "start_time": "2025-03-10T09:00:41.085Z"
   },
   {
    "duration": 97,
    "start_time": "2025-03-10T09:00:41.101Z"
   },
   {
    "duration": 11,
    "start_time": "2025-03-10T09:00:41.199Z"
   },
   {
    "duration": 4,
    "start_time": "2025-03-10T09:00:41.211Z"
   },
   {
    "duration": 222,
    "start_time": "2025-03-10T09:00:41.216Z"
   },
   {
    "duration": 33,
    "start_time": "2025-03-10T09:00:41.440Z"
   },
   {
    "duration": 201,
    "start_time": "2025-03-10T09:00:41.474Z"
   },
   {
    "duration": 48,
    "start_time": "2025-03-10T09:00:41.677Z"
   },
   {
    "duration": 80,
    "start_time": "2025-03-10T09:00:41.727Z"
   },
   {
    "duration": 121,
    "start_time": "2025-03-10T09:00:41.809Z"
   },
   {
    "duration": 26,
    "start_time": "2025-03-10T09:00:41.932Z"
   },
   {
    "duration": 80,
    "start_time": "2025-03-10T09:00:41.959Z"
   },
   {
    "duration": 63,
    "start_time": "2025-03-10T09:00:42.041Z"
   },
   {
    "duration": 37,
    "start_time": "2025-03-10T09:00:42.111Z"
   },
   {
    "duration": 7,
    "start_time": "2025-03-10T09:00:42.150Z"
   },
   {
    "duration": 12,
    "start_time": "2025-03-10T09:00:42.158Z"
   },
   {
    "duration": 38,
    "start_time": "2025-03-10T09:00:42.172Z"
   },
   {
    "duration": 6,
    "start_time": "2025-03-10T09:00:42.212Z"
   },
   {
    "duration": 61,
    "start_time": "2025-03-10T09:00:42.220Z"
   },
   {
    "duration": 34,
    "start_time": "2025-03-10T09:00:42.283Z"
   },
   {
    "duration": 39,
    "start_time": "2025-03-10T09:00:42.318Z"
   },
   {
    "duration": 93,
    "start_time": "2025-03-10T09:00:42.358Z"
   },
   {
    "duration": 24,
    "start_time": "2025-03-10T09:00:42.453Z"
   },
   {
    "duration": 74,
    "start_time": "2025-03-10T09:00:42.479Z"
   },
   {
    "duration": 8,
    "start_time": "2025-03-10T09:00:42.554Z"
   },
   {
    "duration": 31,
    "start_time": "2025-03-10T09:00:42.564Z"
   },
   {
    "duration": 14,
    "start_time": "2025-03-10T09:00:42.597Z"
   },
   {
    "duration": 1890,
    "start_time": "2025-03-10T09:00:42.613Z"
   },
   {
    "duration": 10,
    "start_time": "2025-03-10T09:00:44.505Z"
   },
   {
    "duration": 201,
    "start_time": "2025-03-10T09:00:44.516Z"
   },
   {
    "duration": 143,
    "start_time": "2025-03-10T09:00:44.719Z"
   },
   {
    "duration": 110,
    "start_time": "2025-03-10T09:00:44.863Z"
   },
   {
    "duration": 0,
    "start_time": "2025-03-10T09:00:44.975Z"
   },
   {
    "duration": 0,
    "start_time": "2025-03-10T09:00:44.976Z"
   },
   {
    "duration": 0,
    "start_time": "2025-03-10T09:00:44.977Z"
   },
   {
    "duration": 0,
    "start_time": "2025-03-10T09:00:44.978Z"
   },
   {
    "duration": 0,
    "start_time": "2025-03-10T09:00:44.980Z"
   },
   {
    "duration": 0,
    "start_time": "2025-03-10T09:00:44.981Z"
   },
   {
    "duration": 0,
    "start_time": "2025-03-10T09:00:44.982Z"
   },
   {
    "duration": 0,
    "start_time": "2025-03-10T09:00:44.983Z"
   },
   {
    "duration": 0,
    "start_time": "2025-03-10T09:00:44.984Z"
   },
   {
    "duration": 0,
    "start_time": "2025-03-10T09:00:44.986Z"
   },
   {
    "duration": 11,
    "start_time": "2025-03-10T09:01:44.949Z"
   },
   {
    "duration": 10,
    "start_time": "2025-03-10T09:01:48.827Z"
   },
   {
    "duration": 148,
    "start_time": "2025-03-10T09:01:50.416Z"
   },
   {
    "duration": 11,
    "start_time": "2025-03-10T09:01:52.289Z"
   },
   {
    "duration": 6,
    "start_time": "2025-03-10T09:01:52.752Z"
   },
   {
    "duration": 634,
    "start_time": "2025-03-10T09:01:53.028Z"
   },
   {
    "duration": 23,
    "start_time": "2025-03-10T09:01:53.819Z"
   },
   {
    "duration": 6,
    "start_time": "2025-03-10T09:01:54.418Z"
   },
   {
    "duration": 728,
    "start_time": "2025-03-10T09:01:54.658Z"
   },
   {
    "duration": 9,
    "start_time": "2025-03-10T09:01:55.931Z"
   },
   {
    "duration": 148,
    "start_time": "2025-03-10T09:01:56.435Z"
   },
   {
    "duration": 2519,
    "start_time": "2025-03-10T10:36:59.912Z"
   },
   {
    "duration": 1289,
    "start_time": "2025-03-10T10:37:02.434Z"
   },
   {
    "duration": 3,
    "start_time": "2025-03-10T10:37:03.725Z"
   },
   {
    "duration": 3034,
    "start_time": "2025-03-10T10:37:03.730Z"
   },
   {
    "duration": 182,
    "start_time": "2025-03-10T10:37:06.766Z"
   },
   {
    "duration": 13,
    "start_time": "2025-03-10T10:37:06.950Z"
   },
   {
    "duration": 139,
    "start_time": "2025-03-10T10:37:06.965Z"
   },
   {
    "duration": 85,
    "start_time": "2025-03-10T10:37:07.106Z"
   },
   {
    "duration": 135,
    "start_time": "2025-03-10T10:37:07.193Z"
   },
   {
    "duration": 3,
    "start_time": "2025-03-10T10:37:07.331Z"
   },
   {
    "duration": 29,
    "start_time": "2025-03-10T10:37:07.336Z"
   },
   {
    "duration": 23,
    "start_time": "2025-03-10T10:37:07.366Z"
   },
   {
    "duration": 70,
    "start_time": "2025-03-10T10:37:07.390Z"
   },
   {
    "duration": 115,
    "start_time": "2025-03-10T10:37:07.462Z"
   },
   {
    "duration": 51,
    "start_time": "2025-03-10T10:37:07.579Z"
   },
   {
    "duration": 32,
    "start_time": "2025-03-10T10:37:07.631Z"
   },
   {
    "duration": 132,
    "start_time": "2025-03-10T10:37:07.664Z"
   },
   {
    "duration": 95,
    "start_time": "2025-03-10T10:37:07.797Z"
   },
   {
    "duration": 5,
    "start_time": "2025-03-10T10:37:07.894Z"
   },
   {
    "duration": 36,
    "start_time": "2025-03-10T10:37:07.901Z"
   },
   {
    "duration": 7,
    "start_time": "2025-03-10T10:37:07.939Z"
   },
   {
    "duration": 110,
    "start_time": "2025-03-10T10:37:07.948Z"
   },
   {
    "duration": 68,
    "start_time": "2025-03-10T10:37:08.060Z"
   },
   {
    "duration": 80,
    "start_time": "2025-03-10T10:37:08.131Z"
   },
   {
    "duration": 18,
    "start_time": "2025-03-10T10:37:08.213Z"
   },
   {
    "duration": 306,
    "start_time": "2025-03-10T10:37:08.233Z"
   },
   {
    "duration": 71,
    "start_time": "2025-03-10T10:37:08.541Z"
   },
   {
    "duration": 33,
    "start_time": "2025-03-10T10:37:08.616Z"
   },
   {
    "duration": 18,
    "start_time": "2025-03-10T10:37:08.651Z"
   },
   {
    "duration": 95,
    "start_time": "2025-03-10T10:37:08.671Z"
   },
   {
    "duration": 158,
    "start_time": "2025-03-10T10:37:08.767Z"
   },
   {
    "duration": 83,
    "start_time": "2025-03-10T10:37:08.927Z"
   },
   {
    "duration": 114,
    "start_time": "2025-03-10T10:37:09.011Z"
   },
   {
    "duration": 34,
    "start_time": "2025-03-10T10:37:09.127Z"
   },
   {
    "duration": 34,
    "start_time": "2025-03-10T10:37:09.162Z"
   },
   {
    "duration": 48,
    "start_time": "2025-03-10T10:37:09.198Z"
   },
   {
    "duration": 39,
    "start_time": "2025-03-10T10:37:09.248Z"
   },
   {
    "duration": 264,
    "start_time": "2025-03-10T10:37:09.288Z"
   },
   {
    "duration": 43,
    "start_time": "2025-03-10T10:37:09.554Z"
   },
   {
    "duration": 485,
    "start_time": "2025-03-10T10:37:09.599Z"
   },
   {
    "duration": 94,
    "start_time": "2025-03-10T10:37:10.086Z"
   },
   {
    "duration": 193,
    "start_time": "2025-03-10T10:37:10.181Z"
   },
   {
    "duration": 36,
    "start_time": "2025-03-10T10:37:10.376Z"
   },
   {
    "duration": 132,
    "start_time": "2025-03-10T10:37:10.414Z"
   },
   {
    "duration": 92,
    "start_time": "2025-03-10T10:37:10.548Z"
   },
   {
    "duration": 14,
    "start_time": "2025-03-10T10:37:10.641Z"
   },
   {
    "duration": 59,
    "start_time": "2025-03-10T10:37:10.663Z"
   },
   {
    "duration": 70,
    "start_time": "2025-03-10T10:37:10.724Z"
   },
   {
    "duration": 8,
    "start_time": "2025-03-10T10:37:10.795Z"
   },
   {
    "duration": 8,
    "start_time": "2025-03-10T10:37:10.805Z"
   },
   {
    "duration": 18,
    "start_time": "2025-03-10T10:37:10.814Z"
   },
   {
    "duration": 22,
    "start_time": "2025-03-10T10:37:10.833Z"
   },
   {
    "duration": 29,
    "start_time": "2025-03-10T10:37:10.856Z"
   },
   {
    "duration": 10,
    "start_time": "2025-03-10T10:37:10.887Z"
   },
   {
    "duration": 18,
    "start_time": "2025-03-10T10:37:10.899Z"
   },
   {
    "duration": 11,
    "start_time": "2025-03-10T10:37:10.919Z"
   },
   {
    "duration": 17,
    "start_time": "2025-03-10T10:37:10.932Z"
   },
   {
    "duration": 15,
    "start_time": "2025-03-10T10:37:10.950Z"
   },
   {
    "duration": 123,
    "start_time": "2025-03-10T10:37:10.967Z"
   },
   {
    "duration": 36,
    "start_time": "2025-03-10T10:37:11.091Z"
   },
   {
    "duration": 18,
    "start_time": "2025-03-10T10:37:11.128Z"
   },
   {
    "duration": 18,
    "start_time": "2025-03-10T10:37:11.147Z"
   },
   {
    "duration": 39,
    "start_time": "2025-03-10T10:37:11.167Z"
   },
   {
    "duration": 46,
    "start_time": "2025-03-10T10:37:11.207Z"
   },
   {
    "duration": 36,
    "start_time": "2025-03-10T10:37:11.255Z"
   },
   {
    "duration": 2568,
    "start_time": "2025-03-10T10:37:11.292Z"
   },
   {
    "duration": 29,
    "start_time": "2025-03-10T10:37:13.862Z"
   },
   {
    "duration": 358,
    "start_time": "2025-03-10T10:37:13.893Z"
   },
   {
    "duration": 22,
    "start_time": "2025-03-10T10:37:14.253Z"
   },
   {
    "duration": 322,
    "start_time": "2025-03-10T10:37:14.277Z"
   },
   {
    "duration": 25,
    "start_time": "2025-03-10T10:37:14.600Z"
   },
   {
    "duration": 3,
    "start_time": "2025-03-10T10:37:14.627Z"
   },
   {
    "duration": 236,
    "start_time": "2025-03-10T10:37:14.632Z"
   },
   {
    "duration": 32,
    "start_time": "2025-03-10T10:37:14.870Z"
   },
   {
    "duration": 223,
    "start_time": "2025-03-10T10:37:14.904Z"
   },
   {
    "duration": 61,
    "start_time": "2025-03-10T10:37:15.129Z"
   },
   {
    "duration": 83,
    "start_time": "2025-03-10T10:37:15.191Z"
   },
   {
    "duration": 126,
    "start_time": "2025-03-10T10:37:15.276Z"
   },
   {
    "duration": 5,
    "start_time": "2025-03-10T10:37:15.404Z"
   },
   {
    "duration": 49,
    "start_time": "2025-03-10T10:37:15.411Z"
   },
   {
    "duration": 134,
    "start_time": "2025-03-10T10:37:15.462Z"
   },
   {
    "duration": 37,
    "start_time": "2025-03-10T10:37:15.601Z"
   },
   {
    "duration": 6,
    "start_time": "2025-03-10T10:37:15.640Z"
   },
   {
    "duration": 14,
    "start_time": "2025-03-10T10:37:15.648Z"
   },
   {
    "duration": 31,
    "start_time": "2025-03-10T10:37:15.664Z"
   },
   {
    "duration": 9,
    "start_time": "2025-03-10T10:37:15.697Z"
   },
   {
    "duration": 57,
    "start_time": "2025-03-10T10:37:15.707Z"
   },
   {
    "duration": 46,
    "start_time": "2025-03-10T10:37:15.766Z"
   },
   {
    "duration": 21,
    "start_time": "2025-03-10T10:37:15.814Z"
   },
   {
    "duration": 49,
    "start_time": "2025-03-10T10:37:15.837Z"
   },
   {
    "duration": 25,
    "start_time": "2025-03-10T10:37:15.887Z"
   },
   {
    "duration": 80,
    "start_time": "2025-03-10T10:37:15.914Z"
   },
   {
    "duration": 7,
    "start_time": "2025-03-10T10:37:15.996Z"
   },
   {
    "duration": 38,
    "start_time": "2025-03-10T10:37:16.005Z"
   },
   {
    "duration": 23,
    "start_time": "2025-03-10T10:37:16.045Z"
   },
   {
    "duration": 1863,
    "start_time": "2025-03-10T10:37:16.069Z"
   },
   {
    "duration": 11,
    "start_time": "2025-03-10T10:37:17.934Z"
   },
   {
    "duration": 148,
    "start_time": "2025-03-10T10:37:17.964Z"
   },
   {
    "duration": 150,
    "start_time": "2025-03-10T10:37:18.114Z"
   },
   {
    "duration": 13,
    "start_time": "2025-03-10T10:37:18.265Z"
   },
   {
    "duration": 281,
    "start_time": "2025-03-10T10:37:18.280Z"
   },
   {
    "duration": 146,
    "start_time": "2025-03-10T10:37:18.562Z"
   },
   {
    "duration": 12,
    "start_time": "2025-03-10T10:37:18.711Z"
   },
   {
    "duration": 5,
    "start_time": "2025-03-10T10:37:18.725Z"
   },
   {
    "duration": 684,
    "start_time": "2025-03-10T10:37:18.733Z"
   },
   {
    "duration": 26,
    "start_time": "2025-03-10T10:37:19.419Z"
   },
   {
    "duration": 7,
    "start_time": "2025-03-10T10:37:19.463Z"
   },
   {
    "duration": 850,
    "start_time": "2025-03-10T10:37:19.472Z"
   },
   {
    "duration": 8,
    "start_time": "2025-03-10T10:37:20.324Z"
   },
   {
    "duration": 363,
    "start_time": "2025-03-10T10:37:20.334Z"
   },
   {
    "duration": 49,
    "start_time": "2025-03-10T18:44:09.293Z"
   },
   {
    "duration": 3452,
    "start_time": "2025-03-10T18:44:17.465Z"
   },
   {
    "duration": 1300,
    "start_time": "2025-03-10T18:44:20.920Z"
   },
   {
    "duration": 4,
    "start_time": "2025-03-10T18:44:22.222Z"
   },
   {
    "duration": 2100,
    "start_time": "2025-03-10T18:44:22.229Z"
   },
   {
    "duration": 163,
    "start_time": "2025-03-10T18:44:24.331Z"
   },
   {
    "duration": 11,
    "start_time": "2025-03-10T18:44:24.495Z"
   },
   {
    "duration": 54,
    "start_time": "2025-03-10T18:44:24.507Z"
   },
   {
    "duration": 103,
    "start_time": "2025-03-10T18:44:24.563Z"
   },
   {
    "duration": 92,
    "start_time": "2025-03-10T18:44:24.667Z"
   },
   {
    "duration": 3,
    "start_time": "2025-03-10T18:44:24.761Z"
   },
   {
    "duration": 13,
    "start_time": "2025-03-10T18:44:24.766Z"
   },
   {
    "duration": 9,
    "start_time": "2025-03-10T18:44:24.781Z"
   },
   {
    "duration": 62,
    "start_time": "2025-03-10T18:44:24.791Z"
   },
   {
    "duration": 8,
    "start_time": "2025-03-10T18:44:24.854Z"
   },
   {
    "duration": 28,
    "start_time": "2025-03-10T18:44:24.864Z"
   },
   {
    "duration": 8,
    "start_time": "2025-03-10T18:44:24.893Z"
   },
   {
    "duration": 29,
    "start_time": "2025-03-10T18:44:24.903Z"
   },
   {
    "duration": 86,
    "start_time": "2025-03-10T18:44:24.933Z"
   },
   {
    "duration": 6,
    "start_time": "2025-03-10T18:44:25.020Z"
   },
   {
    "duration": 42,
    "start_time": "2025-03-10T18:44:25.027Z"
   },
   {
    "duration": 35,
    "start_time": "2025-03-10T18:44:25.070Z"
   },
   {
    "duration": 72,
    "start_time": "2025-03-10T18:44:25.107Z"
   },
   {
    "duration": 73,
    "start_time": "2025-03-10T18:44:25.180Z"
   },
   {
    "duration": 45,
    "start_time": "2025-03-10T18:44:25.255Z"
   },
   {
    "duration": 5,
    "start_time": "2025-03-10T18:44:25.301Z"
   },
   {
    "duration": 20,
    "start_time": "2025-03-10T18:44:25.307Z"
   },
   {
    "duration": 4,
    "start_time": "2025-03-10T18:44:25.328Z"
   },
   {
    "duration": 14,
    "start_time": "2025-03-10T18:44:25.356Z"
   },
   {
    "duration": 8,
    "start_time": "2025-03-10T18:44:25.371Z"
   },
   {
    "duration": 64,
    "start_time": "2025-03-10T18:44:25.380Z"
   },
   {
    "duration": 156,
    "start_time": "2025-03-10T18:44:25.446Z"
   },
   {
    "duration": 76,
    "start_time": "2025-03-10T18:44:25.603Z"
   },
   {
    "duration": 23,
    "start_time": "2025-03-10T18:44:25.681Z"
   },
   {
    "duration": 51,
    "start_time": "2025-03-10T18:44:25.706Z"
   },
   {
    "duration": 11,
    "start_time": "2025-03-10T18:44:25.759Z"
   },
   {
    "duration": 64,
    "start_time": "2025-03-10T18:44:25.771Z"
   },
   {
    "duration": 37,
    "start_time": "2025-03-10T18:44:25.838Z"
   },
   {
    "duration": 299,
    "start_time": "2025-03-10T18:44:25.876Z"
   },
   {
    "duration": 31,
    "start_time": "2025-03-10T18:44:26.177Z"
   },
   {
    "duration": 439,
    "start_time": "2025-03-10T18:44:26.210Z"
   },
   {
    "duration": 75,
    "start_time": "2025-03-10T18:44:26.651Z"
   },
   {
    "duration": 183,
    "start_time": "2025-03-10T18:44:26.728Z"
   },
   {
    "duration": 32,
    "start_time": "2025-03-10T18:44:26.913Z"
   },
   {
    "duration": 9,
    "start_time": "2025-03-10T18:44:26.957Z"
   },
   {
    "duration": 169,
    "start_time": "2025-03-10T18:44:26.968Z"
   },
   {
    "duration": 13,
    "start_time": "2025-03-10T18:44:27.139Z"
   },
   {
    "duration": 64,
    "start_time": "2025-03-10T18:44:27.157Z"
   },
   {
    "duration": 68,
    "start_time": "2025-03-10T18:44:27.223Z"
   },
   {
    "duration": 6,
    "start_time": "2025-03-10T18:44:27.293Z"
   },
   {
    "duration": 4,
    "start_time": "2025-03-10T18:44:27.301Z"
   },
   {
    "duration": 16,
    "start_time": "2025-03-10T18:44:27.306Z"
   },
   {
    "duration": 11,
    "start_time": "2025-03-10T18:44:27.323Z"
   },
   {
    "duration": 21,
    "start_time": "2025-03-10T18:44:27.335Z"
   },
   {
    "duration": 10,
    "start_time": "2025-03-10T18:44:27.358Z"
   },
   {
    "duration": 5,
    "start_time": "2025-03-10T18:44:27.369Z"
   },
   {
    "duration": 7,
    "start_time": "2025-03-10T18:44:27.375Z"
   },
   {
    "duration": 8,
    "start_time": "2025-03-10T18:44:27.384Z"
   },
   {
    "duration": 10,
    "start_time": "2025-03-10T18:44:27.393Z"
   },
   {
    "duration": 27,
    "start_time": "2025-03-10T18:44:27.404Z"
   },
   {
    "duration": 30,
    "start_time": "2025-03-10T18:44:27.432Z"
   },
   {
    "duration": 8,
    "start_time": "2025-03-10T18:44:27.463Z"
   },
   {
    "duration": 9,
    "start_time": "2025-03-10T18:44:27.472Z"
   },
   {
    "duration": 24,
    "start_time": "2025-03-10T18:44:27.482Z"
   },
   {
    "duration": 56,
    "start_time": "2025-03-10T18:44:27.508Z"
   },
   {
    "duration": 6,
    "start_time": "2025-03-10T18:44:27.565Z"
   },
   {
    "duration": 55,
    "start_time": "2025-03-10T18:44:27.572Z"
   },
   {
    "duration": 8074,
    "start_time": "2025-03-10T18:44:27.629Z"
   },
   {
    "duration": 28,
    "start_time": "2025-03-10T18:44:35.704Z"
   },
   {
    "duration": 383,
    "start_time": "2025-03-10T18:44:35.733Z"
   },
   {
    "duration": 16,
    "start_time": "2025-03-10T18:44:36.118Z"
   },
   {
    "duration": 102,
    "start_time": "2025-03-10T18:44:36.135Z"
   },
   {
    "duration": 27,
    "start_time": "2025-03-10T18:44:36.238Z"
   },
   {
    "duration": 4,
    "start_time": "2025-03-10T18:44:36.266Z"
   },
   {
    "duration": 234,
    "start_time": "2025-03-10T18:44:36.271Z"
   },
   {
    "duration": 29,
    "start_time": "2025-03-10T18:44:36.507Z"
   },
   {
    "duration": 269,
    "start_time": "2025-03-10T18:44:36.538Z"
   },
   {
    "duration": 51,
    "start_time": "2025-03-10T18:44:36.809Z"
   },
   {
    "duration": 62,
    "start_time": "2025-03-10T18:44:36.861Z"
   },
   {
    "duration": 128,
    "start_time": "2025-03-10T18:44:36.924Z"
   },
   {
    "duration": 4,
    "start_time": "2025-03-10T18:44:37.056Z"
   },
   {
    "duration": 31,
    "start_time": "2025-03-10T18:44:37.062Z"
   },
   {
    "duration": 29,
    "start_time": "2025-03-10T18:44:37.099Z"
   },
   {
    "duration": 43,
    "start_time": "2025-03-10T18:44:37.129Z"
   },
   {
    "duration": 7,
    "start_time": "2025-03-10T18:44:37.173Z"
   },
   {
    "duration": 26,
    "start_time": "2025-03-10T18:44:37.181Z"
   },
   {
    "duration": 26,
    "start_time": "2025-03-10T18:44:37.208Z"
   },
   {
    "duration": 5,
    "start_time": "2025-03-10T18:44:37.235Z"
   },
   {
    "duration": 21,
    "start_time": "2025-03-10T18:44:37.258Z"
   },
   {
    "duration": 32,
    "start_time": "2025-03-10T18:44:37.281Z"
   },
   {
    "duration": 19,
    "start_time": "2025-03-10T18:44:37.314Z"
   },
   {
    "duration": 27,
    "start_time": "2025-03-10T18:44:37.357Z"
   },
   {
    "duration": 46,
    "start_time": "2025-03-10T18:44:37.386Z"
   },
   {
    "duration": 57,
    "start_time": "2025-03-10T18:44:37.434Z"
   },
   {
    "duration": 7,
    "start_time": "2025-03-10T18:44:37.493Z"
   },
   {
    "duration": 32,
    "start_time": "2025-03-10T18:44:37.501Z"
   },
   {
    "duration": 29,
    "start_time": "2025-03-10T18:44:37.534Z"
   },
   {
    "duration": 1800,
    "start_time": "2025-03-10T18:44:37.565Z"
   },
   {
    "duration": 10,
    "start_time": "2025-03-10T18:44:39.366Z"
   },
   {
    "duration": 140,
    "start_time": "2025-03-10T18:44:39.377Z"
   },
   {
    "duration": 134,
    "start_time": "2025-03-10T18:44:39.519Z"
   },
   {
    "duration": 12,
    "start_time": "2025-03-10T18:44:39.657Z"
   },
   {
    "duration": 16,
    "start_time": "2025-03-10T18:44:39.670Z"
   },
   {
    "duration": 145,
    "start_time": "2025-03-10T18:44:39.688Z"
   },
   {
    "duration": 24,
    "start_time": "2025-03-10T18:44:39.835Z"
   },
   {
    "duration": 101,
    "start_time": "2025-03-10T18:44:39.860Z"
   },
   {
    "duration": 613,
    "start_time": "2025-03-10T18:44:39.962Z"
   },
   {
    "duration": 22,
    "start_time": "2025-03-10T18:44:40.577Z"
   },
   {
    "duration": 35,
    "start_time": "2025-03-10T18:44:40.600Z"
   },
   {
    "duration": 687,
    "start_time": "2025-03-10T18:44:40.637Z"
   },
   {
    "duration": 8,
    "start_time": "2025-03-10T18:44:41.326Z"
   },
   {
    "duration": 160,
    "start_time": "2025-03-10T18:44:41.335Z"
   },
   {
    "duration": 132,
    "start_time": "2025-03-10T18:46:18.374Z"
   },
   {
    "duration": 120,
    "start_time": "2025-03-10T18:48:45.623Z"
   },
   {
    "duration": 742,
    "start_time": "2025-03-10T18:59:46.900Z"
   },
   {
    "duration": 2343,
    "start_time": "2025-03-10T19:08:29.481Z"
   },
   {
    "duration": 1182,
    "start_time": "2025-03-10T19:08:31.826Z"
   },
   {
    "duration": 3,
    "start_time": "2025-03-10T19:08:33.009Z"
   },
   {
    "duration": 1998,
    "start_time": "2025-03-10T19:08:33.014Z"
   },
   {
    "duration": 161,
    "start_time": "2025-03-10T19:08:35.014Z"
   },
   {
    "duration": 10,
    "start_time": "2025-03-10T19:08:35.177Z"
   },
   {
    "duration": 40,
    "start_time": "2025-03-10T19:08:35.189Z"
   },
   {
    "duration": 31,
    "start_time": "2025-03-10T19:08:35.231Z"
   },
   {
    "duration": 110,
    "start_time": "2025-03-10T19:08:35.263Z"
   },
   {
    "duration": 2,
    "start_time": "2025-03-10T19:08:35.376Z"
   },
   {
    "duration": 17,
    "start_time": "2025-03-10T19:08:35.380Z"
   },
   {
    "duration": 21,
    "start_time": "2025-03-10T19:08:35.399Z"
   },
   {
    "duration": 50,
    "start_time": "2025-03-10T19:08:35.422Z"
   },
   {
    "duration": 7,
    "start_time": "2025-03-10T19:08:35.474Z"
   },
   {
    "duration": 79,
    "start_time": "2025-03-10T19:08:35.483Z"
   },
   {
    "duration": 65,
    "start_time": "2025-03-10T19:08:35.564Z"
   },
   {
    "duration": 36,
    "start_time": "2025-03-10T19:08:35.630Z"
   },
   {
    "duration": 112,
    "start_time": "2025-03-10T19:08:35.668Z"
   },
   {
    "duration": 6,
    "start_time": "2025-03-10T19:08:35.782Z"
   },
   {
    "duration": 30,
    "start_time": "2025-03-10T19:08:35.790Z"
   },
   {
    "duration": 64,
    "start_time": "2025-03-10T19:08:35.822Z"
   },
   {
    "duration": 70,
    "start_time": "2025-03-10T19:08:35.887Z"
   },
   {
    "duration": 189,
    "start_time": "2025-03-10T19:08:35.958Z"
   },
   {
    "duration": 46,
    "start_time": "2025-03-10T19:08:36.148Z"
   },
   {
    "duration": 77,
    "start_time": "2025-03-10T19:08:36.196Z"
   },
   {
    "duration": 35,
    "start_time": "2025-03-10T19:08:36.275Z"
   },
   {
    "duration": 28,
    "start_time": "2025-03-10T19:08:36.312Z"
   },
   {
    "duration": 81,
    "start_time": "2025-03-10T19:08:36.347Z"
   },
   {
    "duration": 33,
    "start_time": "2025-03-10T19:08:36.430Z"
   },
   {
    "duration": 80,
    "start_time": "2025-03-10T19:08:36.465Z"
   },
   {
    "duration": 155,
    "start_time": "2025-03-10T19:08:36.547Z"
   },
   {
    "duration": 81,
    "start_time": "2025-03-10T19:08:36.703Z"
   },
   {
    "duration": 23,
    "start_time": "2025-03-10T19:08:36.786Z"
   },
   {
    "duration": 48,
    "start_time": "2025-03-10T19:08:36.810Z"
   },
   {
    "duration": 13,
    "start_time": "2025-03-10T19:08:36.860Z"
   },
   {
    "duration": 56,
    "start_time": "2025-03-10T19:08:36.875Z"
   },
   {
    "duration": 51,
    "start_time": "2025-03-10T19:08:36.933Z"
   },
   {
    "duration": 220,
    "start_time": "2025-03-10T19:08:36.986Z"
   },
   {
    "duration": 33,
    "start_time": "2025-03-10T19:08:37.208Z"
   },
   {
    "duration": 459,
    "start_time": "2025-03-10T19:08:37.243Z"
   },
   {
    "duration": 90,
    "start_time": "2025-03-10T19:08:37.704Z"
   },
   {
    "duration": 181,
    "start_time": "2025-03-10T19:08:37.795Z"
   },
   {
    "duration": 38,
    "start_time": "2025-03-10T19:08:37.978Z"
   },
   {
    "duration": 64,
    "start_time": "2025-03-10T19:08:38.017Z"
   },
   {
    "duration": 80,
    "start_time": "2025-03-10T19:08:38.083Z"
   },
   {
    "duration": 13,
    "start_time": "2025-03-10T19:08:38.164Z"
   },
   {
    "duration": 143,
    "start_time": "2025-03-10T19:08:38.179Z"
   },
   {
    "duration": 52,
    "start_time": "2025-03-10T19:08:38.324Z"
   },
   {
    "duration": 6,
    "start_time": "2025-03-10T19:08:38.378Z"
   },
   {
    "duration": 6,
    "start_time": "2025-03-10T19:08:38.386Z"
   },
   {
    "duration": 8,
    "start_time": "2025-03-10T19:08:38.393Z"
   },
   {
    "duration": 9,
    "start_time": "2025-03-10T19:08:38.402Z"
   },
   {
    "duration": 22,
    "start_time": "2025-03-10T19:08:38.413Z"
   },
   {
    "duration": 11,
    "start_time": "2025-03-10T19:08:38.436Z"
   },
   {
    "duration": 6,
    "start_time": "2025-03-10T19:08:38.456Z"
   },
   {
    "duration": 17,
    "start_time": "2025-03-10T19:08:38.464Z"
   },
   {
    "duration": 15,
    "start_time": "2025-03-10T19:08:38.483Z"
   },
   {
    "duration": 6,
    "start_time": "2025-03-10T19:08:38.500Z"
   },
   {
    "duration": 183,
    "start_time": "2025-03-10T19:08:38.507Z"
   },
   {
    "duration": 45,
    "start_time": "2025-03-10T19:08:38.691Z"
   },
   {
    "duration": 13,
    "start_time": "2025-03-10T19:08:38.738Z"
   },
   {
    "duration": 9,
    "start_time": "2025-03-10T19:08:38.752Z"
   },
   {
    "duration": 28,
    "start_time": "2025-03-10T19:08:38.763Z"
   },
   {
    "duration": 42,
    "start_time": "2025-03-10T19:08:38.793Z"
   },
   {
    "duration": 21,
    "start_time": "2025-03-10T19:08:38.837Z"
   },
   {
    "duration": 56,
    "start_time": "2025-03-10T19:08:38.859Z"
   },
   {
    "duration": 124,
    "start_time": "2025-03-10T19:08:38.917Z"
   },
   {
    "duration": 0,
    "start_time": "2025-03-10T19:08:39.044Z"
   },
   {
    "duration": 0,
    "start_time": "2025-03-10T19:08:39.045Z"
   },
   {
    "duration": 0,
    "start_time": "2025-03-10T19:08:39.046Z"
   },
   {
    "duration": 0,
    "start_time": "2025-03-10T19:08:39.047Z"
   },
   {
    "duration": 0,
    "start_time": "2025-03-10T19:08:39.048Z"
   },
   {
    "duration": 0,
    "start_time": "2025-03-10T19:08:39.056Z"
   },
   {
    "duration": 0,
    "start_time": "2025-03-10T19:08:39.057Z"
   },
   {
    "duration": 0,
    "start_time": "2025-03-10T19:08:39.058Z"
   },
   {
    "duration": 0,
    "start_time": "2025-03-10T19:08:39.068Z"
   },
   {
    "duration": 0,
    "start_time": "2025-03-10T19:08:39.069Z"
   },
   {
    "duration": 0,
    "start_time": "2025-03-10T19:08:39.070Z"
   },
   {
    "duration": 0,
    "start_time": "2025-03-10T19:08:39.072Z"
   },
   {
    "duration": 0,
    "start_time": "2025-03-10T19:08:39.073Z"
   },
   {
    "duration": 0,
    "start_time": "2025-03-10T19:08:39.074Z"
   },
   {
    "duration": 0,
    "start_time": "2025-03-10T19:08:39.075Z"
   },
   {
    "duration": 0,
    "start_time": "2025-03-10T19:08:39.076Z"
   },
   {
    "duration": 0,
    "start_time": "2025-03-10T19:08:39.077Z"
   },
   {
    "duration": 0,
    "start_time": "2025-03-10T19:08:39.078Z"
   },
   {
    "duration": 0,
    "start_time": "2025-03-10T19:08:39.079Z"
   },
   {
    "duration": 0,
    "start_time": "2025-03-10T19:08:39.080Z"
   },
   {
    "duration": 0,
    "start_time": "2025-03-10T19:08:39.081Z"
   },
   {
    "duration": 0,
    "start_time": "2025-03-10T19:08:39.082Z"
   },
   {
    "duration": 0,
    "start_time": "2025-03-10T19:08:39.083Z"
   },
   {
    "duration": 0,
    "start_time": "2025-03-10T19:08:39.085Z"
   },
   {
    "duration": 0,
    "start_time": "2025-03-10T19:08:39.086Z"
   },
   {
    "duration": 0,
    "start_time": "2025-03-10T19:08:39.087Z"
   },
   {
    "duration": 0,
    "start_time": "2025-03-10T19:08:39.088Z"
   },
   {
    "duration": 0,
    "start_time": "2025-03-10T19:08:39.089Z"
   },
   {
    "duration": 0,
    "start_time": "2025-03-10T19:08:39.090Z"
   },
   {
    "duration": 1,
    "start_time": "2025-03-10T19:08:39.091Z"
   },
   {
    "duration": 0,
    "start_time": "2025-03-10T19:08:39.093Z"
   },
   {
    "duration": 0,
    "start_time": "2025-03-10T19:08:39.094Z"
   },
   {
    "duration": 0,
    "start_time": "2025-03-10T19:08:39.095Z"
   },
   {
    "duration": 0,
    "start_time": "2025-03-10T19:08:39.096Z"
   },
   {
    "duration": 0,
    "start_time": "2025-03-10T19:08:39.157Z"
   },
   {
    "duration": 0,
    "start_time": "2025-03-10T19:08:39.159Z"
   },
   {
    "duration": 0,
    "start_time": "2025-03-10T19:08:39.160Z"
   },
   {
    "duration": 0,
    "start_time": "2025-03-10T19:08:39.161Z"
   },
   {
    "duration": 0,
    "start_time": "2025-03-10T19:08:39.162Z"
   },
   {
    "duration": 0,
    "start_time": "2025-03-10T19:08:39.163Z"
   },
   {
    "duration": 0,
    "start_time": "2025-03-10T19:08:39.164Z"
   },
   {
    "duration": 0,
    "start_time": "2025-03-10T19:08:39.165Z"
   },
   {
    "duration": 0,
    "start_time": "2025-03-10T19:08:39.166Z"
   },
   {
    "duration": 0,
    "start_time": "2025-03-10T19:08:39.167Z"
   },
   {
    "duration": 0,
    "start_time": "2025-03-10T19:08:39.168Z"
   },
   {
    "duration": 9,
    "start_time": "2025-03-10T19:11:54.485Z"
   },
   {
    "duration": 9,
    "start_time": "2025-03-10T19:12:02.100Z"
   },
   {
    "duration": 18,
    "start_time": "2025-03-10T19:14:29.451Z"
   },
   {
    "duration": 9,
    "start_time": "2025-03-10T19:16:00.376Z"
   },
   {
    "duration": 10,
    "start_time": "2025-03-10T19:16:09.156Z"
   },
   {
    "duration": 19,
    "start_time": "2025-03-10T19:16:23.051Z"
   },
   {
    "duration": 2307,
    "start_time": "2025-03-10T19:16:59.556Z"
   },
   {
    "duration": 152,
    "start_time": "2025-03-10T19:17:55.841Z"
   },
   {
    "duration": 240,
    "start_time": "2025-03-10T19:18:11.943Z"
   },
   {
    "duration": 2362,
    "start_time": "2025-03-10T19:18:31.796Z"
   },
   {
    "duration": 1226,
    "start_time": "2025-03-10T19:18:34.161Z"
   },
   {
    "duration": 3,
    "start_time": "2025-03-10T19:18:35.388Z"
   },
   {
    "duration": 1949,
    "start_time": "2025-03-10T19:18:35.392Z"
   },
   {
    "duration": 146,
    "start_time": "2025-03-10T19:18:37.343Z"
   },
   {
    "duration": 12,
    "start_time": "2025-03-10T19:18:37.491Z"
   },
   {
    "duration": 18,
    "start_time": "2025-03-10T19:18:37.504Z"
   },
   {
    "duration": 33,
    "start_time": "2025-03-10T19:18:37.524Z"
   },
   {
    "duration": 100,
    "start_time": "2025-03-10T19:18:37.559Z"
   },
   {
    "duration": 3,
    "start_time": "2025-03-10T19:18:37.662Z"
   },
   {
    "duration": 20,
    "start_time": "2025-03-10T19:18:37.666Z"
   },
   {
    "duration": 24,
    "start_time": "2025-03-10T19:18:37.687Z"
   },
   {
    "duration": 50,
    "start_time": "2025-03-10T19:18:37.713Z"
   },
   {
    "duration": 39,
    "start_time": "2025-03-10T19:18:37.765Z"
   },
   {
    "duration": 72,
    "start_time": "2025-03-10T19:18:37.805Z"
   },
   {
    "duration": 25,
    "start_time": "2025-03-10T19:18:37.879Z"
   },
   {
    "duration": 34,
    "start_time": "2025-03-10T19:18:37.905Z"
   },
   {
    "duration": 69,
    "start_time": "2025-03-10T19:18:37.941Z"
   },
   {
    "duration": 60,
    "start_time": "2025-03-10T19:18:38.012Z"
   },
   {
    "duration": 206,
    "start_time": "2025-03-10T19:18:38.074Z"
   },
   {
    "duration": 7,
    "start_time": "2025-03-10T19:18:38.282Z"
   },
   {
    "duration": 51,
    "start_time": "2025-03-10T19:18:38.291Z"
   },
   {
    "duration": 64,
    "start_time": "2025-03-10T19:18:38.344Z"
   },
   {
    "duration": 54,
    "start_time": "2025-03-10T19:18:38.409Z"
   },
   {
    "duration": 5,
    "start_time": "2025-03-10T19:18:38.464Z"
   },
   {
    "duration": 21,
    "start_time": "2025-03-10T19:18:38.470Z"
   },
   {
    "duration": 5,
    "start_time": "2025-03-10T19:18:38.492Z"
   },
   {
    "duration": 35,
    "start_time": "2025-03-10T19:18:38.501Z"
   },
   {
    "duration": 10,
    "start_time": "2025-03-10T19:18:38.538Z"
   },
   {
    "duration": 48,
    "start_time": "2025-03-10T19:18:38.549Z"
   },
   {
    "duration": 144,
    "start_time": "2025-03-10T19:18:38.599Z"
   },
   {
    "duration": 77,
    "start_time": "2025-03-10T19:18:38.744Z"
   },
   {
    "duration": 22,
    "start_time": "2025-03-10T19:18:38.823Z"
   },
   {
    "duration": 31,
    "start_time": "2025-03-10T19:18:38.857Z"
   },
   {
    "duration": 10,
    "start_time": "2025-03-10T19:18:38.889Z"
   },
   {
    "duration": 25,
    "start_time": "2025-03-10T19:18:38.901Z"
   },
   {
    "duration": 58,
    "start_time": "2025-03-10T19:18:38.928Z"
   },
   {
    "duration": 219,
    "start_time": "2025-03-10T19:18:38.988Z"
   },
   {
    "duration": 32,
    "start_time": "2025-03-10T19:18:39.209Z"
   },
   {
    "duration": 442,
    "start_time": "2025-03-10T19:18:39.243Z"
   },
   {
    "duration": 82,
    "start_time": "2025-03-10T19:18:39.687Z"
   },
   {
    "duration": 171,
    "start_time": "2025-03-10T19:18:39.770Z"
   },
   {
    "duration": 35,
    "start_time": "2025-03-10T19:18:39.942Z"
   },
   {
    "duration": 9,
    "start_time": "2025-03-10T19:18:39.979Z"
   },
   {
    "duration": 190,
    "start_time": "2025-03-10T19:18:39.989Z"
   },
   {
    "duration": 13,
    "start_time": "2025-03-10T19:18:40.180Z"
   },
   {
    "duration": 112,
    "start_time": "2025-03-10T19:18:40.194Z"
   },
   {
    "duration": 60,
    "start_time": "2025-03-10T19:18:40.308Z"
   },
   {
    "duration": 7,
    "start_time": "2025-03-10T19:18:40.370Z"
   },
   {
    "duration": 4,
    "start_time": "2025-03-10T19:18:40.378Z"
   },
   {
    "duration": 12,
    "start_time": "2025-03-10T19:18:40.383Z"
   },
   {
    "duration": 4,
    "start_time": "2025-03-10T19:18:40.397Z"
   },
   {
    "duration": 4,
    "start_time": "2025-03-10T19:18:40.403Z"
   },
   {
    "duration": 6,
    "start_time": "2025-03-10T19:18:40.408Z"
   },
   {
    "duration": 5,
    "start_time": "2025-03-10T19:18:40.415Z"
   },
   {
    "duration": 37,
    "start_time": "2025-03-10T19:18:40.421Z"
   },
   {
    "duration": 16,
    "start_time": "2025-03-10T19:18:40.459Z"
   },
   {
    "duration": 5,
    "start_time": "2025-03-10T19:18:40.476Z"
   },
   {
    "duration": 6,
    "start_time": "2025-03-10T19:18:40.482Z"
   },
   {
    "duration": 9,
    "start_time": "2025-03-10T19:18:40.489Z"
   },
   {
    "duration": 9,
    "start_time": "2025-03-10T19:18:40.499Z"
   },
   {
    "duration": 8,
    "start_time": "2025-03-10T19:18:40.510Z"
   },
   {
    "duration": 51,
    "start_time": "2025-03-10T19:18:40.519Z"
   },
   {
    "duration": 31,
    "start_time": "2025-03-10T19:18:40.571Z"
   },
   {
    "duration": 135,
    "start_time": "2025-03-10T19:18:40.603Z"
   },
   {
    "duration": 49,
    "start_time": "2025-03-10T19:18:40.740Z"
   },
   {
    "duration": 158,
    "start_time": "2025-03-10T19:18:40.791Z"
   },
   {
    "duration": 30,
    "start_time": "2025-03-10T19:18:40.950Z"
   },
   {
    "duration": 315,
    "start_time": "2025-03-10T19:18:40.982Z"
   },
   {
    "duration": 15,
    "start_time": "2025-03-10T19:18:41.298Z"
   },
   {
    "duration": 67,
    "start_time": "2025-03-10T19:18:41.314Z"
   },
   {
    "duration": 23,
    "start_time": "2025-03-10T19:18:41.382Z"
   },
   {
    "duration": 3,
    "start_time": "2025-03-10T19:18:41.407Z"
   },
   {
    "duration": 208,
    "start_time": "2025-03-10T19:18:41.411Z"
   },
   {
    "duration": 38,
    "start_time": "2025-03-10T19:18:41.621Z"
   },
   {
    "duration": 189,
    "start_time": "2025-03-10T19:18:41.661Z"
   },
   {
    "duration": 48,
    "start_time": "2025-03-10T19:18:41.852Z"
   },
   {
    "duration": 76,
    "start_time": "2025-03-10T19:18:41.901Z"
   },
   {
    "duration": 120,
    "start_time": "2025-03-10T19:18:41.978Z"
   },
   {
    "duration": 5,
    "start_time": "2025-03-10T19:18:42.099Z"
   },
   {
    "duration": 151,
    "start_time": "2025-03-10T19:18:42.105Z"
   },
   {
    "duration": 20,
    "start_time": "2025-03-10T19:18:42.262Z"
   },
   {
    "duration": 35,
    "start_time": "2025-03-10T19:18:42.283Z"
   },
   {
    "duration": 6,
    "start_time": "2025-03-10T19:18:42.319Z"
   },
   {
    "duration": 34,
    "start_time": "2025-03-10T19:18:42.327Z"
   },
   {
    "duration": 27,
    "start_time": "2025-03-10T19:18:42.363Z"
   },
   {
    "duration": 6,
    "start_time": "2025-03-10T19:18:42.392Z"
   },
   {
    "duration": 23,
    "start_time": "2025-03-10T19:18:42.399Z"
   },
   {
    "duration": 63,
    "start_time": "2025-03-10T19:18:42.424Z"
   },
   {
    "duration": 20,
    "start_time": "2025-03-10T19:18:42.489Z"
   },
   {
    "duration": 29,
    "start_time": "2025-03-10T19:18:42.511Z"
   },
   {
    "duration": 23,
    "start_time": "2025-03-10T19:18:42.556Z"
   },
   {
    "duration": 53,
    "start_time": "2025-03-10T19:18:42.581Z"
   },
   {
    "duration": 96,
    "start_time": "2025-03-10T19:18:42.636Z"
   },
   {
    "duration": 44,
    "start_time": "2025-03-10T19:18:42.734Z"
   },
   {
    "duration": 12,
    "start_time": "2025-03-10T19:18:42.780Z"
   },
   {
    "duration": 1882,
    "start_time": "2025-03-10T19:18:42.794Z"
   },
   {
    "duration": 10,
    "start_time": "2025-03-10T19:18:44.678Z"
   },
   {
    "duration": 173,
    "start_time": "2025-03-10T19:18:44.690Z"
   },
   {
    "duration": 142,
    "start_time": "2025-03-10T19:18:44.865Z"
   },
   {
    "duration": 882,
    "start_time": "2025-03-10T19:18:45.009Z"
   },
   {
    "duration": 11,
    "start_time": "2025-03-10T19:18:45.893Z"
   },
   {
    "duration": 15,
    "start_time": "2025-03-10T19:18:45.906Z"
   },
   {
    "duration": 155,
    "start_time": "2025-03-10T19:18:45.923Z"
   },
   {
    "duration": 11,
    "start_time": "2025-03-10T19:18:46.079Z"
   },
   {
    "duration": 29,
    "start_time": "2025-03-10T19:18:46.091Z"
   },
   {
    "duration": 591,
    "start_time": "2025-03-10T19:18:46.122Z"
   },
   {
    "duration": 21,
    "start_time": "2025-03-10T19:18:46.714Z"
   },
   {
    "duration": 9,
    "start_time": "2025-03-10T19:18:46.736Z"
   },
   {
    "duration": 587,
    "start_time": "2025-03-10T19:18:46.756Z"
   },
   {
    "duration": 16,
    "start_time": "2025-03-10T19:18:47.344Z"
   },
   {
    "duration": 147,
    "start_time": "2025-03-10T19:18:47.361Z"
   }
  ],
  "colab": {
   "provenance": []
  },
  "kernelspec": {
   "display_name": "Python 3 (ipykernel)",
   "language": "python",
   "name": "python3"
  },
  "language_info": {
   "codemirror_mode": {
    "name": "ipython",
    "version": 3
   },
   "file_extension": ".py",
   "mimetype": "text/x-python",
   "name": "python",
   "nbconvert_exporter": "python",
   "pygments_lexer": "ipython3",
   "version": "3.12.7"
  },
  "toc": {
   "base_numbering": 1,
   "nav_menu": {},
   "number_sections": true,
   "sideBar": true,
   "skip_h1_title": true,
   "title_cell": "Table of Contents",
   "title_sidebar": "Contents",
   "toc_cell": false,
   "toc_position": {},
   "toc_section_display": true,
   "toc_window_display": false
  }
 },
 "nbformat": 4,
 "nbformat_minor": 4
}
