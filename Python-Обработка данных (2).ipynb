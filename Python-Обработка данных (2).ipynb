{
 "cells": [
  {
   "cell_type": "markdown",
   "id": "e06910dd",
   "metadata": {
    "id": "e06910dd"
   },
   "source": [
    "## Анализ данных игры \"Секреты темнолесья\""
   ]
  },
  {
   "cell_type": "markdown",
   "id": "48869744",
   "metadata": {},
   "source": [
    "- Автор: Макарова Анастасия\n",
    "- Дата: 08.02.2025"
   ]
  },
  {
   "cell_type": "markdown",
   "id": "4149134c",
   "metadata": {
    "id": "4149134c"
   },
   "source": [
    "### Цели и задачи проекта\n",
    "\n",
    "Данные /datasets/new_games.csv содержат информацию о продажах игр разных жанров и платформ, а также пользовательские и экспертные оценки игр. Задача познакомиться с данными, проверить их корректность и провести предобработку, получив необходимый срез данных."
   ]
  },
  {
   "cell_type": "markdown",
   "id": "728986ea",
   "metadata": {
    "id": "728986ea"
   },
   "source": [
    "### Описание данных\n",
    "\n",
    "Данные /datasets/new_games.csv содержат информацию:\n",
    "\n",
    "- `Name` — название игры;\n",
    "- `Platform` — название платформы;\n",
    "- `Year of Release` — год выпуска игры;\n",
    "- `Genre` — жанр игры;\n",
    "- `NA sales` — продажи в Северной Америке (в миллионах проданных копий);\n",
    "- `EU sales` — продажи в Европе (в миллионах проданных копий);\n",
    "- `JP sales` — продажи в Японии (в миллионах проданных копий);\n",
    "- `Other sales` — продажи в других странах (в миллионах проданных копий);\n",
    "- `Critic Score` — оценка критиков (от 0 до 100);\n",
    "- `User Score` — оценка пользователей (от 0 до 10);\n",
    "- `Rating` — рейтинг организации ESRB (англ. Entertainment Software Rating Board). Эта ассоциация определяет рейтинг компьютерных игр и присваивает им подходящую возрастную категорию."
   ]
  },
  {
   "cell_type": "markdown",
   "id": "4fecaf95",
   "metadata": {
    "id": "4fecaf95"
   },
   "source": [
    "### Содержимое проекта\n",
    "\n",
    "- 1. Введение\n",
    "- 2. Загрузка данных и знакомство с ними\n",
    "- 3. Проверка ошибок в данных и их предобработка\n",
    "- 3.1. Названия, или метки, столбцов датафрейма\n",
    "- 3.2. Типы данных\n",
    "- 3.3. Наличие пропусков в данных\n",
    "- 3.4. Явные и неявные дубликаты в данных\n",
    "- 4. Фильтрация данных\n",
    "- 5. Категоризация данных\n",
    "- 6. Итоговый вывод\n",
    "---"
   ]
  },
  {
   "cell_type": "markdown",
   "id": "6f7d21d6",
   "metadata": {
    "id": "6f7d21d6"
   },
   "source": [
    "## Загрузка данных и знакомство с ними\n",
    "\n",
    "- Загрузите необходимые библиотеки Python и данные датасета `/datasets/new_games.csv`.\n"
   ]
  },
  {
   "cell_type": "code",
   "execution_count": 1,
   "id": "ebb66dc5",
   "metadata": {
    "id": "ebb66dc5"
   },
   "outputs": [],
   "source": [
    "# Импортируем библиотеку pandas\n",
    "import pandas as pd"
   ]
  },
  {
   "cell_type": "code",
   "execution_count": 2,
   "id": "ce87c1db",
   "metadata": {
    "id": "ce87c1db"
   },
   "outputs": [],
   "source": [
    "# Выгружаем данные из датасета /datasets/new_games.csv в датафрейм new_games\n",
    "new_games = pd.read_csv('https://code.s3.yandex.net//datasets/new_games.csv')"
   ]
  },
  {
   "cell_type": "code",
   "execution_count": 3,
   "id": "65a16c32",
   "metadata": {},
   "outputs": [],
   "source": [
    "import warnings\n",
    "warnings.filterwarnings('ignore')"
   ]
  },
  {
   "cell_type": "code",
   "execution_count": 4,
   "id": "90fee493",
   "metadata": {
    "id": "90fee493"
   },
   "outputs": [
    {
     "name": "stdout",
     "output_type": "stream",
     "text": [
      "<class 'pandas.core.frame.DataFrame'>\n",
      "RangeIndex: 16956 entries, 0 to 16955\n",
      "Data columns (total 11 columns):\n",
      " #   Column           Non-Null Count  Dtype  \n",
      "---  ------           --------------  -----  \n",
      " 0   Name             16954 non-null  object \n",
      " 1   Platform         16956 non-null  object \n",
      " 2   Year of Release  16681 non-null  float64\n",
      " 3   Genre            16954 non-null  object \n",
      " 4   NA sales         16956 non-null  float64\n",
      " 5   EU sales         16956 non-null  object \n",
      " 6   JP sales         16956 non-null  object \n",
      " 7   Other sales      16956 non-null  float64\n",
      " 8   Critic Score     8242 non-null   float64\n",
      " 9   User Score       10152 non-null  object \n",
      " 10  Rating           10085 non-null  object \n",
      "dtypes: float64(4), object(7)\n",
      "memory usage: 1.4+ MB\n"
     ]
    }
   ],
   "source": [
    "# Выводим информацию о датафрейме\n",
    "new_games.info()"
   ]
  },
  {
   "cell_type": "markdown",
   "id": "e0a8705f",
   "metadata": {
    "id": "e0a8705f"
   },
   "source": [
    "Познакомимся с данными и выведем первые строки с помощью метода `info()`\n"
   ]
  },
  {
   "cell_type": "code",
   "execution_count": 5,
   "id": "3937acf7",
   "metadata": {
    "id": "3937acf7"
   },
   "outputs": [
    {
     "data": {
      "text/html": [
       "<div>\n",
       "<style scoped>\n",
       "    .dataframe tbody tr th:only-of-type {\n",
       "        vertical-align: middle;\n",
       "    }\n",
       "\n",
       "    .dataframe tbody tr th {\n",
       "        vertical-align: top;\n",
       "    }\n",
       "\n",
       "    .dataframe thead th {\n",
       "        text-align: right;\n",
       "    }\n",
       "</style>\n",
       "<table border=\"1\" class=\"dataframe\">\n",
       "  <thead>\n",
       "    <tr style=\"text-align: right;\">\n",
       "      <th></th>\n",
       "      <th>Name</th>\n",
       "      <th>Platform</th>\n",
       "      <th>Year of Release</th>\n",
       "      <th>Genre</th>\n",
       "      <th>NA sales</th>\n",
       "      <th>EU sales</th>\n",
       "      <th>JP sales</th>\n",
       "      <th>Other sales</th>\n",
       "      <th>Critic Score</th>\n",
       "      <th>User Score</th>\n",
       "      <th>Rating</th>\n",
       "    </tr>\n",
       "  </thead>\n",
       "  <tbody>\n",
       "    <tr>\n",
       "      <th>0</th>\n",
       "      <td>Wii Sports</td>\n",
       "      <td>Wii</td>\n",
       "      <td>2006.0</td>\n",
       "      <td>Sports</td>\n",
       "      <td>41.36</td>\n",
       "      <td>28.96</td>\n",
       "      <td>3.77</td>\n",
       "      <td>8.45</td>\n",
       "      <td>76.0</td>\n",
       "      <td>8</td>\n",
       "      <td>E</td>\n",
       "    </tr>\n",
       "    <tr>\n",
       "      <th>1</th>\n",
       "      <td>Super Mario Bros.</td>\n",
       "      <td>NES</td>\n",
       "      <td>1985.0</td>\n",
       "      <td>Platform</td>\n",
       "      <td>29.08</td>\n",
       "      <td>3.58</td>\n",
       "      <td>6.81</td>\n",
       "      <td>0.77</td>\n",
       "      <td>NaN</td>\n",
       "      <td>NaN</td>\n",
       "      <td>NaN</td>\n",
       "    </tr>\n",
       "    <tr>\n",
       "      <th>2</th>\n",
       "      <td>Mario Kart Wii</td>\n",
       "      <td>Wii</td>\n",
       "      <td>2008.0</td>\n",
       "      <td>Racing</td>\n",
       "      <td>15.68</td>\n",
       "      <td>12.76</td>\n",
       "      <td>3.79</td>\n",
       "      <td>3.29</td>\n",
       "      <td>82.0</td>\n",
       "      <td>8.3</td>\n",
       "      <td>E</td>\n",
       "    </tr>\n",
       "    <tr>\n",
       "      <th>3</th>\n",
       "      <td>Wii Sports Resort</td>\n",
       "      <td>Wii</td>\n",
       "      <td>2009.0</td>\n",
       "      <td>Sports</td>\n",
       "      <td>15.61</td>\n",
       "      <td>10.93</td>\n",
       "      <td>3.28</td>\n",
       "      <td>2.95</td>\n",
       "      <td>80.0</td>\n",
       "      <td>8</td>\n",
       "      <td>E</td>\n",
       "    </tr>\n",
       "    <tr>\n",
       "      <th>4</th>\n",
       "      <td>Pokemon Red/Pokemon Blue</td>\n",
       "      <td>GB</td>\n",
       "      <td>1996.0</td>\n",
       "      <td>Role-Playing</td>\n",
       "      <td>11.27</td>\n",
       "      <td>8.89</td>\n",
       "      <td>10.22</td>\n",
       "      <td>1.00</td>\n",
       "      <td>NaN</td>\n",
       "      <td>NaN</td>\n",
       "      <td>NaN</td>\n",
       "    </tr>\n",
       "  </tbody>\n",
       "</table>\n",
       "</div>"
      ],
      "text/plain": [
       "                       Name Platform  Year of Release         Genre  NA sales  \\\n",
       "0                Wii Sports      Wii           2006.0        Sports     41.36   \n",
       "1         Super Mario Bros.      NES           1985.0      Platform     29.08   \n",
       "2            Mario Kart Wii      Wii           2008.0        Racing     15.68   \n",
       "3         Wii Sports Resort      Wii           2009.0        Sports     15.61   \n",
       "4  Pokemon Red/Pokemon Blue       GB           1996.0  Role-Playing     11.27   \n",
       "\n",
       "  EU sales JP sales  Other sales  Critic Score User Score Rating  \n",
       "0    28.96     3.77         8.45          76.0          8      E  \n",
       "1     3.58     6.81         0.77           NaN        NaN    NaN  \n",
       "2    12.76     3.79         3.29          82.0        8.3      E  \n",
       "3    10.93     3.28         2.95          80.0          8      E  \n",
       "4     8.89    10.22         1.00           NaN        NaN    NaN  "
      ]
     },
     "execution_count": 5,
     "metadata": {},
     "output_type": "execute_result"
    }
   ],
   "source": [
    "# Выводим первые строки датафрейма на экран\n",
    "new_games.head()"
   ]
  },
  {
   "cell_type": "code",
   "execution_count": 6,
   "id": "b68d4169",
   "metadata": {},
   "outputs": [
    {
     "data": {
      "text/html": [
       "<div>\n",
       "<style scoped>\n",
       "    .dataframe tbody tr th:only-of-type {\n",
       "        vertical-align: middle;\n",
       "    }\n",
       "\n",
       "    .dataframe tbody tr th {\n",
       "        vertical-align: top;\n",
       "    }\n",
       "\n",
       "    .dataframe thead th {\n",
       "        text-align: right;\n",
       "    }\n",
       "</style>\n",
       "<table border=\"1\" class=\"dataframe\">\n",
       "  <thead>\n",
       "    <tr style=\"text-align: right;\">\n",
       "      <th></th>\n",
       "      <th>Year of Release</th>\n",
       "      <th>NA sales</th>\n",
       "      <th>Other sales</th>\n",
       "      <th>Critic Score</th>\n",
       "    </tr>\n",
       "  </thead>\n",
       "  <tbody>\n",
       "    <tr>\n",
       "      <th>count</th>\n",
       "      <td>16681.000000</td>\n",
       "      <td>16956.000000</td>\n",
       "      <td>16956.000000</td>\n",
       "      <td>8242.000000</td>\n",
       "    </tr>\n",
       "    <tr>\n",
       "      <th>mean</th>\n",
       "      <td>2006.485522</td>\n",
       "      <td>0.262023</td>\n",
       "      <td>0.047087</td>\n",
       "      <td>68.926717</td>\n",
       "    </tr>\n",
       "    <tr>\n",
       "      <th>std</th>\n",
       "      <td>5.873102</td>\n",
       "      <td>0.808654</td>\n",
       "      <td>0.185577</td>\n",
       "      <td>13.944565</td>\n",
       "    </tr>\n",
       "    <tr>\n",
       "      <th>min</th>\n",
       "      <td>1980.000000</td>\n",
       "      <td>0.000000</td>\n",
       "      <td>0.000000</td>\n",
       "      <td>13.000000</td>\n",
       "    </tr>\n",
       "    <tr>\n",
       "      <th>25%</th>\n",
       "      <td>2003.000000</td>\n",
       "      <td>0.000000</td>\n",
       "      <td>0.000000</td>\n",
       "      <td>60.000000</td>\n",
       "    </tr>\n",
       "    <tr>\n",
       "      <th>50%</th>\n",
       "      <td>2007.000000</td>\n",
       "      <td>0.080000</td>\n",
       "      <td>0.010000</td>\n",
       "      <td>71.000000</td>\n",
       "    </tr>\n",
       "    <tr>\n",
       "      <th>75%</th>\n",
       "      <td>2010.000000</td>\n",
       "      <td>0.240000</td>\n",
       "      <td>0.030000</td>\n",
       "      <td>79.000000</td>\n",
       "    </tr>\n",
       "    <tr>\n",
       "      <th>max</th>\n",
       "      <td>2016.000000</td>\n",
       "      <td>41.360000</td>\n",
       "      <td>10.570000</td>\n",
       "      <td>98.000000</td>\n",
       "    </tr>\n",
       "  </tbody>\n",
       "</table>\n",
       "</div>"
      ],
      "text/plain": [
       "       Year of Release      NA sales   Other sales  Critic Score\n",
       "count     16681.000000  16956.000000  16956.000000   8242.000000\n",
       "mean       2006.485522      0.262023      0.047087     68.926717\n",
       "std           5.873102      0.808654      0.185577     13.944565\n",
       "min        1980.000000      0.000000      0.000000     13.000000\n",
       "25%        2003.000000      0.000000      0.000000     60.000000\n",
       "50%        2007.000000      0.080000      0.010000     71.000000\n",
       "75%        2010.000000      0.240000      0.030000     79.000000\n",
       "max        2016.000000     41.360000     10.570000     98.000000"
      ]
     },
     "execution_count": 6,
     "metadata": {},
     "output_type": "execute_result"
    }
   ],
   "source": [
    "# С помощью метода describe() посмотрим сводную статистику датафрейма\n",
    "new_games.describe()"
   ]
  },
  {
   "cell_type": "markdown",
   "id": "83504fde",
   "metadata": {
    "id": "d7c8eb4b"
   },
   "source": [
    "Датасет `new_games.csv` содержит 11 столбцов и 16 956 строк, в которых представлена информация  о продажах игр разных жанров и платформ, а также пользовательские и экспертные оценки игр."
   ]
  },
  {
   "cell_type": "markdown",
   "id": "b8cce991",
   "metadata": {
    "id": "fc561cac"
   },
   "source": [
    "Изучим типы данных и их корректность. Данные представлены только в двух типах float64 и object:\n",
    "\n",
    "**Числовые значения с плавающей запятой (float64).**\n",
    "\n",
    "Такой тип содержат четыре столбца:\n",
    "- `Year of Release` - год выпуска игры.\n",
    "- `NA sales` - продажи в Северной Америке (в миллионах проданных копий), тип данных указан корректно,так как в столбце указаны числа.\n",
    "- `Other sales` -продажи в других странах (в миллионах проданных копий),так как тут подразумеваются штуки, тип данных указан корректно,так как в столбце указаны числа.Так как в данных содержаться пропуски, такие столбцы нельзя преобразовывать в формат int64, только в float64.\n",
    "- `Critic Score` - оценка критиков (от 0 до 100) -тип данных указан корректно,так как в столбце указаны числа.\n",
    "Так как в данных содержаться пропуски, такие столбцы нельзя преобразовывать в формат int64, только в float64.\n",
    "\n",
    "**Строковые данные (object).**\n",
    "\n",
    "Такой тип содержат семь столбцов:\n",
    "- `Name` — название игры -выбранный тип данных является корректным, так как эти столбец содержит текстовую информацию.\n",
    "- `Platform` — название платформы- выбранный тип данных является корректным, так как эти столбец содержит текстовую информацию.\n",
    "- `Genre` — жанр игры- выбранный тип данных является корректным, так как эти столбец содержит текстовую информацию.\n",
    "- `EU sales` — продажи в Европе (в миллионах проданных копий) - в этом столбце содержиться числовая информация в количестве копий, требуется преобразовать в числовой формат.\n",
    "- `JP sales` — продажи в Японии (в миллионах проданных копий)-в этом столбце содержиться числовая информация, требуется преобразовать в числовой формат.\n",
    "- `User Score` — оценка пользователей (от 0 до 10)в этом столбце содержиться числовая информация в количестве копий, требуется преобразовать в числовой формат.\n",
    "- `Rating` — рейтинг организации ESRB - рейтинг отображен буквой, поэтому тут тип допустим.\n"
   ]
  },
  {
   "cell_type": "markdown",
   "id": "a6913837",
   "metadata": {},
   "source": [
    "**Вывод:** данные соответсвуют описанию.Однако в данных есть пропуски и некоторые типы данных приведены неккоректно. Поэтому требуется предобработка данных.Все столбцы отражают содержимое данных. "
   ]
  },
  {
   "cell_type": "markdown",
   "id": "774bf76e",
   "metadata": {
    "id": "774bf76e"
   },
   "source": [
    "---\n",
    "\n",
    "## Проверка ошибок в данных и их предобработка\n",
    "\n",
    "\n",
    "### Названия, или метки, столбцов датафрейма\n",
    "\n",
    "Посмотрим названия всех столбцов датафрейма и проверьте их стиль написания."
   ]
  },
  {
   "cell_type": "code",
   "execution_count": 7,
   "id": "b9276a2b",
   "metadata": {
    "id": "b9276a2b"
   },
   "outputs": [
    {
     "data": {
      "text/plain": [
       "Index(['Name', 'Platform', 'Year of Release', 'Genre', 'NA sales', 'EU sales',\n",
       "       'JP sales', 'Other sales', 'Critic Score', 'User Score', 'Rating'],\n",
       "      dtype='object')"
      ]
     },
     "execution_count": 7,
     "metadata": {},
     "output_type": "execute_result"
    }
   ],
   "source": [
    "# Выводим названия столбцов датафрейма\n",
    "new_games.columns"
   ]
  },
  {
   "cell_type": "markdown",
   "id": "19086dea",
   "metadata": {},
   "source": [
    "Видим, что у стобцов разный стиль написания, приведем их к единому стилю snake case, т.е названия в нижнем регистре, а вместо пробелов — подчёркивания."
   ]
  },
  {
   "cell_type": "code",
   "execution_count": 8,
   "id": "d554563c",
   "metadata": {
    "id": "d554563c"
   },
   "outputs": [],
   "source": [
    "# Приведем все столбцы в нижний регистр, а вместо пробелов добавим подчёркивания \n",
    "columns_snake_case = ['name','platform','year_of_release','genre','na_sales','eu_sales','jp_sales','other_sales','critic_score','user_score','rating']\n",
    "new_games.columns = columns_snake_case  "
   ]
  },
  {
   "cell_type": "code",
   "execution_count": 9,
   "id": "87b573dd",
   "metadata": {
    "id": "87b573dd"
   },
   "outputs": [
    {
     "data": {
      "text/plain": [
       "Index(['name', 'platform', 'year_of_release', 'genre', 'na_sales', 'eu_sales',\n",
       "       'jp_sales', 'other_sales', 'critic_score', 'user_score', 'rating'],\n",
       "      dtype='object')"
      ]
     },
     "execution_count": 9,
     "metadata": {},
     "output_type": "execute_result"
    }
   ],
   "source": [
    "# Выводим названия столбцов датафрейма\n",
    "new_games.columns"
   ]
  },
  {
   "cell_type": "markdown",
   "id": "8bf9b72f",
   "metadata": {},
   "source": [
    "**Вывод:** Названия столбцов было приведено в неудобносм формате. Привели все столбцы к единому формату для удобства использования в дальнейшем."
   ]
  },
  {
   "cell_type": "markdown",
   "id": "41bc6bf8",
   "metadata": {
    "id": "41bc6bf8"
   },
   "source": [
    "### Типы данных\n",
    "\n",
    "Проведем преобразование типов данных"
   ]
  },
  {
   "cell_type": "markdown",
   "id": "75bc32c0",
   "metadata": {},
   "source": [
    "Я поняла, в сл раз так и сделаю,спасибо! Просто уже нет времени все переделывать("
   ]
  },
  {
   "cell_type": "code",
   "execution_count": 10,
   "id": "ee92378a",
   "metadata": {},
   "outputs": [
    {
     "data": {
      "text/plain": [
       "16956"
      ]
     },
     "execution_count": 10,
     "metadata": {},
     "output_type": "execute_result"
    }
   ],
   "source": [
    "# Комментарий ревьюера\n",
    "tmp = new_games.copy() # создаем копию датасета до преобразования\n",
    "len(tmp)"
   ]
  },
  {
   "cell_type": "raw",
   "id": "61958029",
   "metadata": {
    "id": "8adaac81"
   },
   "source": [
    "Столбец  `year_of_release`(год выпуска игры) содержит год. Год - это целое число, но так как в этом столбце содержатся пропуски мы не можем его приобразовать к типу int, только к типу float."
   ]
  },
  {
   "cell_type": "markdown",
   "id": "eaea8791",
   "metadata": {},
   "source": [
    "Столбец `eu_sales` (продажи в Европе (в миллионах проданных копий)) содержит числовой формат. Преобразуем этот столбец из типа object  к типу float. "
   ]
  },
  {
   "cell_type": "markdown",
   "id": "46e8362d",
   "metadata": {},
   "source": [
    "Проведем анализ, почему числовые данные имеют не числовой формат."
   ]
  },
  {
   "cell_type": "code",
   "execution_count": 11,
   "id": "9472d05f",
   "metadata": {},
   "outputs": [
    {
     "data": {
      "text/plain": [
       "array(['28.96', '3.58', '12.76', '10.93', '8.89', '2.26', '9.14', '9.18',\n",
       "       '6.94', '0.63', '10.95', '7.47', '6.18', '8.03', '4.89', '8.49',\n",
       "       '9.09', '0.4', '3.75', '9.2', '4.46', '2.71', '3.44', '5.14',\n",
       "       '5.49', '3.9', '5.35', '3.17', '5.09', '4.24', '5.04', '5.86',\n",
       "       '3.68', '4.19', '5.73', '3.59', '4.51', '2.55', '4.02', '4.37',\n",
       "       '6.31', '3.45', '2.81', '2.85', '3.49', '0.01', '3.35', '2.04',\n",
       "       '3.07', '3.87', '3.0', '4.82', '3.64', '2.15', '3.69', '2.65',\n",
       "       '2.56', '3.11', '3.14', '1.94', '1.95', '2.47', '2.28', '3.42',\n",
       "       '3.63', '2.36', '1.71', '1.85', '2.79', '1.24', '6.12', '1.53',\n",
       "       '3.47', '2.24', '5.01', '2.01', '1.72', '2.07', '6.42', '3.86',\n",
       "       '0.45', '3.48', '1.89', '5.75', '2.17', '1.37', '2.35', '1.18',\n",
       "       '2.11', '1.88', '2.83', '2.99', '2.89', '3.27', '2.22', '2.14',\n",
       "       '1.45', '1.75', '1.04', '1.77', '3.02', '2.75', '2.16', '1.9',\n",
       "       '2.59', '2.2', '4.3', '0.93', '2.53', '2.52', '1.79', '1.3', '2.6',\n",
       "       '1.58', '1.2', '1.56', '1.34', '1.26', '0.83', '6.21', '2.8',\n",
       "       '1.59', '1.73', '4.33', '1.83', '0.0', '2.18', '1.98', '1.47',\n",
       "       '0.67', '1.55', '1.91', '0.69', '0.6', '1.93', '1.64', '0.55',\n",
       "       '2.19', '1.11', '2.29', '2.5', '0.96', '1.21', '1.12', '0.77',\n",
       "       '1.69', '1.08', '0.79', '2.37', '2.46', '0.26', '0.75', '1.25',\n",
       "       '2.43', '0.98', '0.74', '2.23', '0.61', '2.45', '1.41', '1.8',\n",
       "       '3.28', '1.16', '1.99', '1.38', '1.36', '1.17', '1.19', '0.99',\n",
       "       '1.68', '2.0', '1.33', '1.57', '1.48', '2.1', '1.27', '1.97',\n",
       "       '0.91', '1.39', '1.96', '0.24', '1.51', '0.14', '1.29', '2.39',\n",
       "       '1.03', '0.5', '0.58', '1.31', '2.02', '1.32', '1.01', '2.27',\n",
       "       '2.3', '1.82', '2.78', '0.44', '0.48', '0.27', '0.21', '2.48',\n",
       "       '0.51', '1.52', '0.04', '0.28', '1.35', '0.87', '2.13', '1.13',\n",
       "       '1.76', '0.76', '2.12', '0.66', '1.6', '1.44', '1.43', '1.7',\n",
       "       '0.47', '1.87', '0.86', '0.73', '1.28', '0.81', '1.09', '0.68',\n",
       "       '1.22', '1.4', '1.02', '1.49', '1.14', '0.49', '0.9', '0.38',\n",
       "       '1.42', '0.95', '1.62', '0.71', '1.05', '0.92', '0.33', '0.3',\n",
       "       '1.67', '1.0', '0.89', '0.1', '0.72', '0.59', '0.56', '0.16',\n",
       "       '0.97', '0.62', 'unknown', '0.85', '0.94', '0.88', '0.84', '1.06',\n",
       "       '0.2', '1.15', '0.8', '1.1', '0.7', '1.92', '0.32', '0.15', '0.53',\n",
       "       '0.09', '1.46', '0.29', '0.22', '1.23', '0.07', '0.17', '0.54',\n",
       "       '0.36', '0.31', '1.84', '0.52', '0.11', '0.64', '0.12', '2.05',\n",
       "       '1.63', '0.82', '0.08', '0.57', '1.65', '0.19', '0.02', '0.43',\n",
       "       '0.25', '1.5', '0.18', '0.39', '0.13', '1.07', '0.46', '0.41',\n",
       "       '0.06', '0.03', '0.37', '0.05', '0.23', '0.65', '0.42', '0.34',\n",
       "       '0.35', '0.78'], dtype=object)"
      ]
     },
     "execution_count": 11,
     "metadata": {},
     "output_type": "execute_result"
    }
   ],
   "source": [
    "# Применяем метод unique() к столбцу eu_sales\n",
    "unique_eu_sales = new_games['eu_sales'].unique()\n",
    "unique_eu_sales"
   ]
  },
  {
   "cell_type": "markdown",
   "id": "7a1e8e8f",
   "metadata": {},
   "source": [
    "Видим,что данные содержат значение 'unknown'. Его нужно будет заменить на пропуск"
   ]
  },
  {
   "cell_type": "code",
   "execution_count": 12,
   "id": "e8412c01",
   "metadata": {
    "id": "e8412c01"
   },
   "outputs": [],
   "source": [
    "# Переведем данные в столбце eu_sales к формату float64\n",
    "# используем аргумент 'coerce', который заменит на NaN все данные, которые не удалось преобразовать в числа.\n",
    "new_games['eu_sales']=pd.to_numeric(new_games['eu_sales'], errors='coerce')"
   ]
  },
  {
   "cell_type": "markdown",
   "id": "78d4f056",
   "metadata": {},
   "source": [
    "Проверим столбец jp_sales почему данные в нем имеют не числовой формат"
   ]
  },
  {
   "cell_type": "code",
   "execution_count": 13,
   "id": "3d8a9857",
   "metadata": {
    "scrolled": true
   },
   "outputs": [
    {
     "data": {
      "text/plain": [
       "array(['3.77', '6.81', '3.79', '3.28', '10.22', '4.22', '6.5', '2.93',\n",
       "       '4.7', '0.28', '1.93', '4.13', '7.2', '3.6', '0.24', '2.53',\n",
       "       '0.98', '0.41', '3.54', '4.16', '6.04', '4.18', '3.84', '0.06',\n",
       "       '0.47', '5.38', '5.32', '5.65', '1.87', '0.13', '3.12', '0.36',\n",
       "       '0.11', '4.35', '0.65', '0.07', '0.08', '0.49', '0.3', '2.66',\n",
       "       '2.69', '0.48', '0.38', '5.33', '1.91', '3.96', '3.1', '1.1',\n",
       "       '1.2', '0.14', '2.54', '2.14', '0.81', '2.12', '0.44', '3.15',\n",
       "       '1.25', '0.04', '0.0', '2.47', '2.23', '1.69', '0.01', '3.0',\n",
       "       '0.02', '4.39', '1.98', '0.1', '3.81', '0.05', '2.49', '1.58',\n",
       "       '3.14', '2.73', '0.66', '0.22', '3.63', '1.45', '1.31', '2.43',\n",
       "       '0.7', '0.35', '1.4', '0.6', '2.26', '1.42', '1.28', '1.39',\n",
       "       '0.87', '0.17', '0.94', '0.19', '0.21', '1.6', '0.16', '1.03',\n",
       "       '0.25', '2.06', '1.49', '1.29', '0.09', '2.87', '0.03', '0.78',\n",
       "       '0.83', '2.33', '2.02', '1.36', '1.81', '1.97', '0.91', '0.99',\n",
       "       '0.95', '2.0', '1.01', '2.78', '2.11', '1.09', '0.2', '1.9',\n",
       "       '1.27', '3.61', '1.57', '2.2', '1.7', '1.08', '0.15', '1.11',\n",
       "       '0.29', '1.54', '0.12', '0.89', '4.87', '1.52', '1.32', '1.15',\n",
       "       '4.1', '1.46', '0.46', '1.05', '1.61', '0.26', '1.38', '0.62',\n",
       "       '0.73', '0.57', '0.31', '0.58', '1.76', '2.1', '0.9', '0.51',\n",
       "       '0.64', '2.46', '0.23', '0.37', '0.92', '1.07', '2.62', '1.12',\n",
       "       '0.54', '0.27', '0.59', '3.67', '0.55', '1.75', '3.44', '0.33',\n",
       "       '2.55', '2.32', '2.79', '0.74', '3.18', '0.82', '0.77', '0.4',\n",
       "       '2.35', '3.19', '0.8', '0.76', '3.03', '0.88', 'unknown', '0.45',\n",
       "       '1.16', '0.34', '1.19', '1.13', '2.13', '1.96', '0.71', '1.04',\n",
       "       '2.68', '0.68', '2.65', '0.96', '2.41', '0.52', '0.18', '1.34',\n",
       "       '1.48', '2.34', '1.06', '1.21', '2.29', '1.63', '2.05', '2.17',\n",
       "       '1.56', '1.35', '1.33', '0.63', '0.79', '0.75', '0.53', '1.53',\n",
       "       '1.3', '0.39', '0.69', '0.42', '0.93', '0.56', '0.84', '0.72',\n",
       "       '0.32', '1.71', '1.65', '0.61', '1.51', '1.5', '1.44', '1.24',\n",
       "       '1.18', '1.37', '1.0', '1.26', '0.85', '0.43', '0.67', '1.14',\n",
       "       '0.86', '1.17', '0.5', '1.02', '0.97'], dtype=object)"
      ]
     },
     "execution_count": 13,
     "metadata": {},
     "output_type": "execute_result"
    }
   ],
   "source": [
    "# Применяем метод unique() к столбцу jp_sales\n",
    "unique_jp_sales = new_games['jp_sales'].unique()\n",
    "unique_jp_sales"
   ]
  },
  {
   "cell_type": "markdown",
   "id": "89d17f2d",
   "metadata": {
    "id": "5033ee32"
   },
   "source": [
    "Столбец `jp_sales` также содержит значения 'unknown', заменим их на пропуски.\n"
   ]
  },
  {
   "cell_type": "code",
   "execution_count": 14,
   "id": "3a26fb26",
   "metadata": {
    "id": "3a26fb26"
   },
   "outputs": [],
   "source": [
    "# Переведем данные в столбце jp_sales к формату float64\n",
    "# используем аргумент 'coerce', который заменит на NaN все данные, которые не удалось преобразовать в числа.\n",
    "new_games['jp_sales']=pd.to_numeric(new_games['jp_sales'], errors='coerce')"
   ]
  },
  {
   "cell_type": "markdown",
   "id": "5236e29d",
   "metadata": {},
   "source": [
    "Проверим столбец `user_score` почему данные в нем имеют не числовой формат"
   ]
  },
  {
   "cell_type": "code",
   "execution_count": 15,
   "id": "6c7530f8",
   "metadata": {},
   "outputs": [
    {
     "data": {
      "text/plain": [
       "array(['8', nan, '8.3', '8.5', '6.6', '8.4', '8.6', '7.7', '6.3', '7.4',\n",
       "       '8.2', '9', '7.9', '8.1', '8.7', '7.1', '3.4', '5.3', '4.8', '3.2',\n",
       "       '8.9', '6.4', '7.8', '7.5', '2.6', '7.2', '9.2', '7', '7.3', '4.3',\n",
       "       '7.6', '5.7', '5', '9.1', '6.5', 'tbd', '8.8', '6.9', '9.4', '6.8',\n",
       "       '6.1', '6.7', '5.4', '4', '4.9', '4.5', '9.3', '6.2', '4.2', '6',\n",
       "       '3.7', '4.1', '5.8', '5.6', '5.5', '4.4', '4.6', '5.9', '3.9',\n",
       "       '3.1', '2.9', '5.2', '3.3', '4.7', '5.1', '3.5', '2.5', '1.9', '3',\n",
       "       '2.7', '2.2', '2', '9.5', '2.1', '3.6', '2.8', '1.8', '3.8', '0',\n",
       "       '1.6', '9.6', '2.4', '1.7', '1.1', '0.3', '1.5', '0.7', '1.2',\n",
       "       '2.3', '0.5', '1.3', '0.2', '0.6', '1.4', '0.9', '1', '9.7'],\n",
       "      dtype=object)"
      ]
     },
     "execution_count": 15,
     "metadata": {},
     "output_type": "execute_result"
    }
   ],
   "source": [
    "# Применяем метод unique() к столбцу jp_sales\n",
    "unique_user_score = new_games['user_score'].unique()\n",
    "unique_user_score"
   ]
  },
  {
   "cell_type": "markdown",
   "id": "f99214ac",
   "metadata": {},
   "source": [
    "Столбец `user_score` содержит строковые значения 'tbd'. Зменим 'tbd' на пропуски и приведм столбец в числовому типу."
   ]
  },
  {
   "cell_type": "code",
   "execution_count": 16,
   "id": "f887309c",
   "metadata": {},
   "outputs": [],
   "source": [
    "# Переведем данные в столбце user_score к формату float64\n",
    "# используем аргумент 'coerce', который заменит на NaN все данные, которые не удалось преобразовать в числа.\n",
    "new_games['user_score']=pd.to_numeric(new_games['user_score'], errors='coerce')"
   ]
  },
  {
   "cell_type": "code",
   "execution_count": 17,
   "id": "ac551953",
   "metadata": {},
   "outputs": [
    {
     "name": "stdout",
     "output_type": "stream",
     "text": [
      "<class 'pandas.core.frame.DataFrame'>\n",
      "RangeIndex: 16956 entries, 0 to 16955\n",
      "Data columns (total 11 columns):\n",
      " #   Column           Non-Null Count  Dtype  \n",
      "---  ------           --------------  -----  \n",
      " 0   name             16954 non-null  object \n",
      " 1   platform         16956 non-null  object \n",
      " 2   year_of_release  16681 non-null  float64\n",
      " 3   genre            16954 non-null  object \n",
      " 4   na_sales         16956 non-null  float64\n",
      " 5   eu_sales         16950 non-null  float64\n",
      " 6   jp_sales         16952 non-null  float64\n",
      " 7   other_sales      16956 non-null  float64\n",
      " 8   critic_score     8242 non-null   float64\n",
      " 9   user_score       7688 non-null   float64\n",
      " 10  rating           10085 non-null  object \n",
      "dtypes: float64(7), object(4)\n",
      "memory usage: 1.4+ MB\n"
     ]
    }
   ],
   "source": [
    "# проверим результат преобразований\n",
    "new_games.info()"
   ]
  },
  {
   "cell_type": "markdown",
   "id": "5574b22c",
   "metadata": {},
   "source": [
    "**Вывод:** \n",
    "Провели анализ столбцов, вяснили,что столбцы `jp_sales`, `eu_sales` содержат текстовые данные `unknown`, а столбец `user_score` -`tbd`, поэтому столбцы имели неккоректный тип данных. После замены этих данных пропусками удалось привести данные столбцы к числовому формату.\n",
    "В результате преобразований были изменены следующие типы столбцов, для удобной работы.\n",
    "- jp_sales с  object  к типу float64,\n",
    "- user_score с  object  к типу float64,\n",
    "- eu_sales с  object  к типу float64."
   ]
  },
  {
   "cell_type": "markdown",
   "id": "b39893cb",
   "metadata": {
    "id": "b39893cb"
   },
   "source": [
    "### Наличие пропусков в данных\n",
    "\n",
    "Посчитаем количество пропусков в каждом столбце в абсолютных и относительных значениях.\n"
   ]
  },
  {
   "cell_type": "code",
   "execution_count": 18,
   "id": "0f1c91a8",
   "metadata": {
    "id": "0f1c91a8"
   },
   "outputs": [
    {
     "data": {
      "text/plain": [
       "user_score         9268\n",
       "critic_score       8714\n",
       "rating             6871\n",
       "year_of_release     275\n",
       "eu_sales              6\n",
       "jp_sales              4\n",
       "name                  2\n",
       "genre                 2\n",
       "platform              0\n",
       "na_sales              0\n",
       "other_sales           0\n",
       "dtype: int64"
      ]
     },
     "execution_count": 18,
     "metadata": {},
     "output_type": "execute_result"
    }
   ],
   "source": [
    "# Выводим количество пропущенных строк в датафрейме и сортируем их\n",
    "new_games.isna().sum().sort_values(ascending=False)"
   ]
  },
  {
   "cell_type": "code",
   "execution_count": 19,
   "id": "86cd1cc1",
   "metadata": {
    "id": "86cd1cc1"
   },
   "outputs": [
    {
     "data": {
      "text/plain": [
       "user_score         54.659118\n",
       "critic_score       51.391838\n",
       "rating             40.522529\n",
       "year_of_release     1.621845\n",
       "eu_sales            0.035386\n",
       "jp_sales            0.023590\n",
       "name                0.011795\n",
       "genre               0.011795\n",
       "platform            0.000000\n",
       "na_sales            0.000000\n",
       "other_sales         0.000000\n",
       "dtype: float64"
      ]
     },
     "execution_count": 19,
     "metadata": {},
     "output_type": "execute_result"
    }
   ],
   "source": [
    "# Выводим количество пропусков в относительном значении\n",
    "new_games.isna().mean().sort_values(ascending=False)*100"
   ]
  },
  {
   "cell_type": "markdown",
   "id": "ac13a737",
   "metadata": {
    "id": "247a6cf7"
   },
   "source": [
    "**Изучим пропуски:** \n",
    "Самое большое количество пропусков содержиться в столбце `critic_score` (оценка критиков (от 0 до 100)) - 51%,\n",
    "`user_score` (оценка пользователей (от 0 до 10)) -47%,\n",
    "`rating` (рейтинг организации ESRB)-40%.\n",
    "Эти пропуски могли возникнуть,так как не всем играм могли поставить оценку и не каждой игре мог быть рейтинг ESRB,\n",
    "\n",
    "Чуть меньше пропусков в столбце `year_of_release` (год выпуска) - 1,6%,\n",
    "И в незначительно количестве присутствуют пропуски в столбцах `genr`e (жанр) -0,01%, `name` (название игры) - 0,01%, `eu_sales` -0.035%, `jp_sales` -0.023%.\n",
    "Эти пропуски могли ввозникнуть случайным образом."
   ]
  },
  {
   "cell_type": "markdown",
   "id": "6ed63d7a",
   "metadata": {
    "id": "bd69e642"
   },
   "source": [
    "В столбцах `critic_score`, `user_score` пропусков большое количество, поэтому удалить мы эти строки не можем, иначе потеряем большую часть данных. Так как в них содержатся числовые значения, заменим их на индикаторы, которые показывают,что здесь бы пропуск. Например на значение -1, так как оценка не может быть отрицательной."
   ]
  },
  {
   "cell_type": "code",
   "execution_count": 21,
   "id": "b6965b19",
   "metadata": {
    "id": "b6965b19"
   },
   "outputs": [],
   "source": [
    "# Выводим все строки с пропусками в столбце critic_score\n",
    "new_games[new_games['critic_score'].isna()]\n",
    "# Заполняем пропуски средним значением\n",
    "new_games['critic_score']=new_games['critic_score'].fillna(-1)"
   ]
  },
  {
   "cell_type": "code",
   "execution_count": 22,
   "id": "99f2f9b5",
   "metadata": {},
   "outputs": [
    {
     "data": {
      "text/html": [
       "<div>\n",
       "<style scoped>\n",
       "    .dataframe tbody tr th:only-of-type {\n",
       "        vertical-align: middle;\n",
       "    }\n",
       "\n",
       "    .dataframe tbody tr th {\n",
       "        vertical-align: top;\n",
       "    }\n",
       "\n",
       "    .dataframe thead th {\n",
       "        text-align: right;\n",
       "    }\n",
       "</style>\n",
       "<table border=\"1\" class=\"dataframe\">\n",
       "  <thead>\n",
       "    <tr style=\"text-align: right;\">\n",
       "      <th></th>\n",
       "      <th>name</th>\n",
       "      <th>platform</th>\n",
       "      <th>year_of_release</th>\n",
       "      <th>genre</th>\n",
       "      <th>na_sales</th>\n",
       "      <th>eu_sales</th>\n",
       "      <th>jp_sales</th>\n",
       "      <th>other_sales</th>\n",
       "      <th>critic_score</th>\n",
       "      <th>user_score</th>\n",
       "      <th>rating</th>\n",
       "    </tr>\n",
       "  </thead>\n",
       "  <tbody>\n",
       "  </tbody>\n",
       "</table>\n",
       "</div>"
      ],
      "text/plain": [
       "Empty DataFrame\n",
       "Columns: [name, platform, year_of_release, genre, na_sales, eu_sales, jp_sales, other_sales, critic_score, user_score, rating]\n",
       "Index: []"
      ]
     },
     "execution_count": 22,
     "metadata": {},
     "output_type": "execute_result"
    }
   ],
   "source": [
    "# Проверяем наличие пропусков в столбце critic_score\n",
    "new_games[new_games['critic_score'].isna()]"
   ]
  },
  {
   "cell_type": "code",
   "execution_count": 23,
   "id": "62e1bb7d",
   "metadata": {},
   "outputs": [],
   "source": [
    "# Выводим все строки с пропусками в столбце user_score\n",
    "new_games[new_games['user_score'].isna()]\n",
    "# Заполняем индикаторным значением -1\n",
    "new_games['user_score']=new_games['user_score'].fillna(-1)"
   ]
  },
  {
   "cell_type": "code",
   "execution_count": 24,
   "id": "5d35a81c",
   "metadata": {},
   "outputs": [
    {
     "data": {
      "text/html": [
       "<div>\n",
       "<style scoped>\n",
       "    .dataframe tbody tr th:only-of-type {\n",
       "        vertical-align: middle;\n",
       "    }\n",
       "\n",
       "    .dataframe tbody tr th {\n",
       "        vertical-align: top;\n",
       "    }\n",
       "\n",
       "    .dataframe thead th {\n",
       "        text-align: right;\n",
       "    }\n",
       "</style>\n",
       "<table border=\"1\" class=\"dataframe\">\n",
       "  <thead>\n",
       "    <tr style=\"text-align: right;\">\n",
       "      <th></th>\n",
       "      <th>name</th>\n",
       "      <th>platform</th>\n",
       "      <th>year_of_release</th>\n",
       "      <th>genre</th>\n",
       "      <th>na_sales</th>\n",
       "      <th>eu_sales</th>\n",
       "      <th>jp_sales</th>\n",
       "      <th>other_sales</th>\n",
       "      <th>critic_score</th>\n",
       "      <th>user_score</th>\n",
       "      <th>rating</th>\n",
       "    </tr>\n",
       "  </thead>\n",
       "  <tbody>\n",
       "  </tbody>\n",
       "</table>\n",
       "</div>"
      ],
      "text/plain": [
       "Empty DataFrame\n",
       "Columns: [name, platform, year_of_release, genre, na_sales, eu_sales, jp_sales, other_sales, critic_score, user_score, rating]\n",
       "Index: []"
      ]
     },
     "execution_count": 24,
     "metadata": {},
     "output_type": "execute_result"
    }
   ],
   "source": [
    "# Проверяем наличие пропусков в столбце critic_score\n",
    "new_games[new_games['user_score'].isna()]"
   ]
  },
  {
   "cell_type": "markdown",
   "id": "21e9aceb",
   "metadata": {},
   "source": [
    "Проверим столбец rating на уникальные значения"
   ]
  },
  {
   "cell_type": "code",
   "execution_count": 25,
   "id": "8f6aaf20",
   "metadata": {},
   "outputs": [
    {
     "data": {
      "text/plain": [
       "array(['E', nan, 'M', 'T', 'E10+', 'K-A', 'AO', 'EC', 'RP'], dtype=object)"
      ]
     },
     "execution_count": 25,
     "metadata": {},
     "output_type": "execute_result"
    }
   ],
   "source": [
    "unique_rating = new_games['rating'].unique()\n",
    "unique_rating"
   ]
  },
  {
   "cell_type": "markdown",
   "id": "dda02f94",
   "metadata": {},
   "source": [
    "В столбце `rating` содержатся строковые значения и пропуски nan. Заменим пропуски на индикаторное значение 'unknown', которое не совпадает с данными столбца."
   ]
  },
  {
   "cell_type": "code",
   "execution_count": 26,
   "id": "5d652da6",
   "metadata": {},
   "outputs": [],
   "source": [
    "# Выводим все строки с пропусками в столбце user_score\n",
    "new_games[new_games['rating'].isna()]\n",
    "# Заполняем пропуски средним значением\n",
    "new_games['rating']=new_games['rating'].fillna('unknown')"
   ]
  },
  {
   "cell_type": "markdown",
   "id": "f09d4c5e",
   "metadata": {},
   "source": [
    "В столбцах `eu_sales` -0.035%, `jp_sales` -0.023% количество пропусков незначительное (менее 1%), но данные в этих столбцах потребуются при дальнейших расчетах, поэтому заполним эти пропуски средним значением в зависимости от группу по году выпуска и платформы.\n",
    "\n",
    "Мы создаём функцию, которая принимает один аргумент sale — это строка из датафрейма `new_games`.\n",
    "Мы пишем функцию для работы со строками, чтобы затем передать методу apply() аргумент axis=1,тогда функция применится к строкам, как нам и нужно."
   ]
  },
  {
   "cell_type": "code",
   "execution_count": 1,
   "id": "8f03afee",
   "metadata": {},
   "outputs": [
    {
     "ename": "NameError",
     "evalue": "name 'new_games' is not defined",
     "output_type": "error",
     "traceback": [
      "\u001b[0;31m---------------------------------------------------------------------------\u001b[0m",
      "\u001b[0;31mNameError\u001b[0m                                 Traceback (most recent call last)",
      "\u001b[0;32m/tmp/ipykernel_82/2415407546.py\u001b[0m in \u001b[0;36m<module>\u001b[0;34m\u001b[0m\n\u001b[1;32m      8\u001b[0m         \u001b[0;32mreturn\u001b[0m \u001b[0msale\u001b[0m\u001b[0;34m[\u001b[0m\u001b[0;34m'eu_sales'\u001b[0m\u001b[0;34m]\u001b[0m\u001b[0;34m\u001b[0m\u001b[0;34m\u001b[0m\u001b[0m\n\u001b[1;32m      9\u001b[0m \u001b[0;34m\u001b[0m\u001b[0m\n\u001b[0;32m---> 10\u001b[0;31m \u001b[0mnew_games\u001b[0m\u001b[0;34m[\u001b[0m\u001b[0;34m'eu_sales'\u001b[0m\u001b[0;34m]\u001b[0m \u001b[0;34m=\u001b[0m \u001b[0mnew_games\u001b[0m\u001b[0;34m.\u001b[0m\u001b[0mapply\u001b[0m\u001b[0;34m(\u001b[0m\u001b[0mmean_eu_sales\u001b[0m\u001b[0;34m,\u001b[0m \u001b[0maxis\u001b[0m\u001b[0;34m=\u001b[0m\u001b[0;36m1\u001b[0m\u001b[0;34m)\u001b[0m\u001b[0;34m\u001b[0m\u001b[0;34m\u001b[0m\u001b[0m\n\u001b[0m",
      "\u001b[0;31mNameError\u001b[0m: name 'new_games' is not defined"
     ]
    }
   ],
   "source": [
    "# Создадим функцию mean_eu_sales() для заполнения пропусков в столбце eu_sales и сохраним значения в этом столбце\n",
    "def mean_eu_sales(sale):\n",
    "    if pd.isna(sale['eu_sales']):\n",
    "        group = new_games[(new_games['platform'] == sale['platform']) & \n",
    "                          (new_games['year_of_release'] == sale['year_of_release'])]\n",
    "        return group['eu_sales'].mean()\n",
    "    else:\n",
    "        return sale['eu_sales']\n",
    "\n",
    "new_games['eu_sales'] = new_games.apply(mean_eu_sales, axis=1)"
   ]
  },
  {
   "cell_type": "code",
   "execution_count": 28,
   "id": "37af4933",
   "metadata": {},
   "outputs": [],
   "source": [
    "# Создадим функцию mean_jp_sales() для заполнения пропусков в столбце jp_sales и сохраним значения в этом столбце\n",
    "def mean_jp_sales(sale):\n",
    "    if pd.isna(sale['jp_sales']):\n",
    "        group = new_games[(new_games['platform'] == sale['platform']) & \n",
    "                          (new_games['year_of_release'] == sale['year_of_release'])]\n",
    "        return group['jp_sales'].mean()\n",
    "    else:\n",
    "        return sale['jp_sales']\n",
    "\n",
    "new_games['jp_sales'] = new_games.apply(mean_jp_sales, axis=1)"
   ]
  },
  {
   "cell_type": "markdown",
   "id": "83e6d679",
   "metadata": {},
   "source": [
    "В столбце `year_of_Release`  275 пропусков (1,6%), считаем эти данные незначительными и удалим данные строки. Так как в дальнейшем мы будем аналилировать данные по годам, а без доставерных данных, результаты могут быть скажены и мы все равно не сможем использовать эти данные при анализе."
   ]
  },
  {
   "cell_type": "code",
   "execution_count": 29,
   "id": "db6cd829",
   "metadata": {},
   "outputs": [],
   "source": [
    "# Отбираем строки без пропусков в столбце 'year_of_release'\n",
    "new_games_drop = new_games.dropna(subset = ['year_of_release'])"
   ]
  },
  {
   "cell_type": "code",
   "execution_count": 30,
   "id": "70bdade2",
   "metadata": {},
   "outputs": [
    {
     "data": {
      "text/plain": [
       "array([2006., 1985., 2008., 2009., 1996., 1989., 1984., 2005., 1999.,\n",
       "       2007., 2010., 2013., 2004., 1990., 1988., 2002., 2001., 2011.,\n",
       "       1998., 2015., 2012., 2014., 1992., 1997., 1993., 1994., 1982.,\n",
       "       2016., 2003., 1986., 2000., 1995., 1991., 1981., 1987., 1980.,\n",
       "       1983.])"
      ]
     },
     "execution_count": 30,
     "metadata": {},
     "output_type": "execute_result"
    }
   ],
   "source": [
    "unique_eu_sales = new_games_drop['year_of_release'].unique()\n",
    "unique_eu_sales"
   ]
  },
  {
   "cell_type": "markdown",
   "id": "d1af1fae",
   "metadata": {},
   "source": [
    "После обработки пропусков ,переведем данные с толбце `year_of_release` в тип int"
   ]
  },
  {
   "cell_type": "code",
   "execution_count": 31,
   "id": "b71d8e52",
   "metadata": {},
   "outputs": [],
   "source": [
    "# Меняем тип данных в столбце year_of_release на числовой\n",
    "new_games_drop['year_of_release']=new_games_drop['year_of_release'].astype('int')"
   ]
  },
  {
   "cell_type": "code",
   "execution_count": 32,
   "id": "a0b87e6c",
   "metadata": {},
   "outputs": [
    {
     "data": {
      "text/plain": [
       "name                object\n",
       "platform            object\n",
       "year_of_release      int64\n",
       "genre               object\n",
       "na_sales           float64\n",
       "eu_sales           float64\n",
       "jp_sales           float64\n",
       "other_sales        float64\n",
       "critic_score       float64\n",
       "user_score         float64\n",
       "rating              object\n",
       "dtype: object"
      ]
     },
     "execution_count": 32,
     "metadata": {},
     "output_type": "execute_result"
    }
   ],
   "source": [
    "# проверим типы столбцов\n",
    "new_games_drop.dtypes"
   ]
  },
  {
   "cell_type": "markdown",
   "id": "7015b52c",
   "metadata": {},
   "source": [
    "В столбцах `genre` и `name` по 2 пропуска, их мы просто удалим, так как они не требуются при дальнейших расчетах и их количество незначительно."
   ]
  },
  {
   "cell_type": "code",
   "execution_count": 33,
   "id": "a88aa8ea",
   "metadata": {},
   "outputs": [],
   "source": [
    "# Отбираем строки без пропусков в столбце genre и name \n",
    "new_games_drop = new_games_drop.dropna(subset = ['genre', 'name'])"
   ]
  },
  {
   "cell_type": "code",
   "execution_count": 34,
   "id": "023dc58b",
   "metadata": {},
   "outputs": [
    {
     "data": {
      "text/plain": [
       "name               0\n",
       "platform           0\n",
       "year_of_release    0\n",
       "genre              0\n",
       "na_sales           0\n",
       "eu_sales           0\n",
       "jp_sales           0\n",
       "other_sales        0\n",
       "critic_score       0\n",
       "user_score         0\n",
       "rating             0\n",
       "dtype: int64"
      ]
     },
     "execution_count": 34,
     "metadata": {},
     "output_type": "execute_result"
    }
   ],
   "source": [
    "# Проверим количество пропусков в датафрейме\n",
    "new_games_drop.isna().sum().sort_values(ascending=False)"
   ]
  },
  {
   "cell_type": "markdown",
   "id": "26a6bef6",
   "metadata": {},
   "source": [
    "**Вывод:**\n",
    "- в столбце `critic_score` было заменено 8714 пропусков (51%) на индикаторное значение -1. Так как оценка не может быть отрицательной.\n",
    "- в столбце `user_score` было заменено 8080 пропусков (47%)  на индикаторное значение -1. Так как оценка не может быть отрицательной.\n",
    "- встолбце `rating` было заменено 6871 пропусков (40,5%) на значение 'unknown', так как в столбце содержаться не числовые ,а строковые данные.\n",
    "- В столбце `year_of_Release` было заменено 275 пропусков (1,6%). так как их колличество незначительное, приняли решение их удалить, так как заменить их было бы нецелесообразно, так как данные по годам будут использоваться в дальнейших расчетах и это может исказить картину вцелом. Также привели преобразование типа данных в столбце `year_of_Release` с `float` на `int`.\n",
    "- В столбцах `name'и'genre` было удалено по 2 строки с пропусками, так как это меньше одного процента, считаем потерю таких данных некритичным.\n",
    "- В столбцах `jp_sales`- 4 пропусков и `eu_sales`- 6 пропуска, пропуски были заменены на среднее значение, в зависимости от года выпуска и платформы."
   ]
  },
  {
   "cell_type": "markdown",
   "id": "a63363fd",
   "metadata": {
    "id": "a63363fd"
   },
   "source": [
    "### Явные и неявные дубликаты в данных\n"
   ]
  },
  {
   "cell_type": "markdown",
   "id": "4990f6a9",
   "metadata": {},
   "source": [
    "Проверим уникальные значения в категориальных данных с названиями жанра игры, платформы, рейтинга. Посмотрим, встречаются ли среди данных неявные дубликаты, связанные с опечатками или разным способом написания."
   ]
  },
  {
   "cell_type": "code",
   "execution_count": 35,
   "id": "491c9c39",
   "metadata": {
    "id": "491c9c39"
   },
   "outputs": [
    {
     "data": {
      "text/plain": [
       "array(['Sports', 'Platform', 'Racing', 'Role-Playing', 'Puzzle', 'Misc',\n",
       "       'Shooter', 'Simulation', 'Action', 'Fighting', 'Adventure',\n",
       "       'Strategy', 'MISC', 'ROLE-PLAYING', 'RACING', 'ACTION', 'SHOOTER',\n",
       "       'FIGHTING', 'SPORTS', 'PLATFORM', 'ADVENTURE', 'SIMULATION',\n",
       "       'PUZZLE', 'STRATEGY'], dtype=object)"
      ]
     },
     "execution_count": 35,
     "metadata": {},
     "output_type": "execute_result"
    }
   ],
   "source": [
    "# Применяем метод unique() к столбцу genre\n",
    "unique_genre = new_games_drop['genre'].unique()\n",
    "unique_genre"
   ]
  },
  {
   "cell_type": "markdown",
   "id": "8bbb7ec8",
   "metadata": {
    "id": "f1627198"
   },
   "source": [
    "Видим, что есть неявные одинаковые названия, но они написаны в разных регистрах, привем все к единому формату."
   ]
  },
  {
   "cell_type": "code",
   "execution_count": 36,
   "id": "a0cac80c",
   "metadata": {
    "id": "a0cac80c"
   },
   "outputs": [],
   "source": [
    "# приведем все жанры к нижнему регистру с момощью метода lower()\n",
    "new_games_drop['genre']=new_games_drop['genre'].str.lower()"
   ]
  },
  {
   "cell_type": "code",
   "execution_count": 37,
   "id": "fa9725e6",
   "metadata": {},
   "outputs": [
    {
     "data": {
      "text/plain": [
       "array(['sports', 'platform', 'racing', 'role-playing', 'puzzle', 'misc',\n",
       "       'shooter', 'simulation', 'action', 'fighting', 'adventure',\n",
       "       'strategy'], dtype=object)"
      ]
     },
     "execution_count": 37,
     "metadata": {},
     "output_type": "execute_result"
    }
   ],
   "source": [
    "# проверим результат преобразований\n",
    "unique_hotel_names = new_games_drop['genre'].unique()\n",
    "unique_hotel_names"
   ]
  },
  {
   "cell_type": "code",
   "execution_count": 38,
   "id": "9e6c7151",
   "metadata": {},
   "outputs": [
    {
     "data": {
      "text/plain": [
       "array(['Wii', 'NES', 'GB', 'DS', 'X360', 'PS3', 'PS2', 'SNES', 'GBA',\n",
       "       'PS4', '3DS', 'N64', 'PS', 'XB', 'PC', '2600', 'PSP', 'XOne',\n",
       "       'WiiU', 'GC', 'GEN', 'DC', 'PSV', 'SAT', 'SCD', 'WS', 'NG', 'TG16',\n",
       "       '3DO', 'GG', 'PCFX'], dtype=object)"
      ]
     },
     "execution_count": 38,
     "metadata": {},
     "output_type": "execute_result"
    }
   ],
   "source": [
    "# Применяем метод unique() к столбцу platform\n",
    "unique_platform = new_games_drop['platform'].unique()\n",
    "unique_platform\n"
   ]
  },
  {
   "cell_type": "code",
   "execution_count": 39,
   "id": "74d0bc7e",
   "metadata": {},
   "outputs": [],
   "source": [
    "# приведем все жанры к нижнему регистру с момощью метода upper()\n",
    "new_games_drop['platform']=new_games_drop['platform'].str.upper()\n"
   ]
  },
  {
   "cell_type": "code",
   "execution_count": 40,
   "id": "2f5aef3f",
   "metadata": {},
   "outputs": [
    {
     "data": {
      "text/plain": [
       "array(['WII', 'NES', 'GB', 'DS', 'X360', 'PS3', 'PS2', 'SNES', 'GBA',\n",
       "       'PS4', '3DS', 'N64', 'PS', 'XB', 'PC', '2600', 'PSP', 'XONE',\n",
       "       'WIIU', 'GC', 'GEN', 'DC', 'PSV', 'SAT', 'SCD', 'WS', 'NG', 'TG16',\n",
       "       '3DO', 'GG', 'PCFX'], dtype=object)"
      ]
     },
     "execution_count": 40,
     "metadata": {},
     "output_type": "execute_result"
    }
   ],
   "source": [
    "# Проверим результат преобразований в верхнему регистру в столбце platform\n",
    "unique_platform = new_games_drop['platform'].unique()\n",
    "unique_platform"
   ]
  },
  {
   "cell_type": "code",
   "execution_count": 41,
   "id": "2f61e076",
   "metadata": {
    "id": "2f61e076"
   },
   "outputs": [
    {
     "data": {
      "text/plain": [
       "array(['E', 'unknown', 'M', 'T', 'E10+', 'K-A', 'AO', 'EC', 'RP'],\n",
       "      dtype=object)"
      ]
     },
     "execution_count": 41,
     "metadata": {},
     "output_type": "execute_result"
    }
   ],
   "source": [
    "# Применяем метод unique() к столбцу rating\n",
    "unique_platform = new_games_drop['rating'].unique()\n",
    "unique_platform"
   ]
  },
  {
   "cell_type": "code",
   "execution_count": 42,
   "id": "ac87e2ee",
   "metadata": {},
   "outputs": [
    {
     "data": {
      "text/plain": [
       "array(['Wii Sports', 'Super Mario Bros.', 'Mario Kart Wii', ...,\n",
       "       'Woody Woodpecker in Crazy Castle 5', 'LMA Manager 2007',\n",
       "       'Haitaka no Psychedelica'], dtype=object)"
      ]
     },
     "execution_count": 42,
     "metadata": {},
     "output_type": "execute_result"
    }
   ],
   "source": [
    "# Применяем метод unique() к столбцу name\n",
    "unique_platform = new_games_drop['name'].unique()\n",
    "unique_platform"
   ]
  },
  {
   "cell_type": "code",
   "execution_count": 43,
   "id": "7a747cc1",
   "metadata": {},
   "outputs": [],
   "source": [
    "# приведем все названия игр к нижнему регистру с момощью метода lower()\n",
    "new_games_drop['name']=new_games_drop['name'].str.lower()"
   ]
  },
  {
   "cell_type": "code",
   "execution_count": 44,
   "id": "9c039866",
   "metadata": {},
   "outputs": [
    {
     "data": {
      "text/plain": [
       "array(['wii sports', 'super mario bros.', 'mario kart wii', ...,\n",
       "       'woody woodpecker in crazy castle 5', 'lma manager 2007',\n",
       "       'haitaka no psychedelica'], dtype=object)"
      ]
     },
     "execution_count": 44,
     "metadata": {},
     "output_type": "execute_result"
    }
   ],
   "source": [
    "# проверим результат преобразований\n",
    "unique_platform = new_games_drop['name'].unique()\n",
    "unique_platform"
   ]
  },
  {
   "cell_type": "markdown",
   "id": "f01df392",
   "metadata": {
    "id": "29e57705"
   },
   "source": [
    "**Вывод:**\n",
    "В результате проверки на уникальные значения в столбцах были найдены неявные дубликаты.\n",
    "- в столбце `genre` все значения были приведены к нижнему регистру, что бы они были в едином формате.\n",
    "- в столбце `latform` все значения были приведены к верхнему регистру, что бы они были в едином формате.\n",
    "- в столбце `rating` все значения уникальны, оставили в исходном формате.\n",
    "- в столбце `name` все названия игр были приведены к нижнему регистру."
   ]
  },
  {
   "cell_type": "markdown",
   "id": "c29a22ca",
   "metadata": {
    "id": "8548f894"
   },
   "source": [
    "Проверим датафрейм на явные дубликаты."
   ]
  },
  {
   "cell_type": "code",
   "execution_count": 45,
   "id": "327e55bb",
   "metadata": {
    "id": "327e55bb"
   },
   "outputs": [
    {
     "data": {
      "text/plain": [
       "235"
      ]
     },
     "execution_count": 45,
     "metadata": {},
     "output_type": "execute_result"
    }
   ],
   "source": [
    "# используем метод duplicated() в pandas, который используется для обнаружения дубликатов в датафреймах или Series\n",
    "# применим функцию sum() — она будет считать количество True, что будет количеством дубликатов\n",
    "duplicated_new_games = new_games_drop.duplicated().sum()\n",
    "duplicated_new_games"
   ]
  },
  {
   "cell_type": "markdown",
   "id": "86ffa00a",
   "metadata": {
    "id": "0814c721"
   },
   "source": [
    "В датафрейме найдено 235 дубликат, так как это дублирующие строки, их мы удалим."
   ]
  },
  {
   "cell_type": "code",
   "execution_count": 46,
   "id": "7e7c8201",
   "metadata": {},
   "outputs": [],
   "source": [
    "# Сортируем датафрейм по всем столбцам\n",
    "new_games_sorted = new_games_drop.sort_values(by=new_games.columns.tolist())"
   ]
  },
  {
   "cell_type": "code",
   "execution_count": 47,
   "id": "1e297a1a",
   "metadata": {},
   "outputs": [
    {
     "data": {
      "text/html": [
       "<div>\n",
       "<style scoped>\n",
       "    .dataframe tbody tr th:only-of-type {\n",
       "        vertical-align: middle;\n",
       "    }\n",
       "\n",
       "    .dataframe tbody tr th {\n",
       "        vertical-align: top;\n",
       "    }\n",
       "\n",
       "    .dataframe thead th {\n",
       "        text-align: right;\n",
       "    }\n",
       "</style>\n",
       "<table border=\"1\" class=\"dataframe\">\n",
       "  <thead>\n",
       "    <tr style=\"text-align: right;\">\n",
       "      <th></th>\n",
       "      <th>name</th>\n",
       "      <th>platform</th>\n",
       "      <th>year_of_release</th>\n",
       "      <th>genre</th>\n",
       "      <th>na_sales</th>\n",
       "      <th>eu_sales</th>\n",
       "      <th>jp_sales</th>\n",
       "      <th>other_sales</th>\n",
       "      <th>critic_score</th>\n",
       "      <th>user_score</th>\n",
       "      <th>rating</th>\n",
       "    </tr>\n",
       "  </thead>\n",
       "  <tbody>\n",
       "    <tr>\n",
       "      <th>15191</th>\n",
       "      <td>beyblade burst</td>\n",
       "      <td>3DS</td>\n",
       "      <td>2016</td>\n",
       "      <td>role-playing</td>\n",
       "      <td>0.00</td>\n",
       "      <td>0.00</td>\n",
       "      <td>0.03</td>\n",
       "      <td>0.00</td>\n",
       "      <td>-1.0</td>\n",
       "      <td>-1.0</td>\n",
       "      <td>unknown</td>\n",
       "    </tr>\n",
       "    <tr>\n",
       "      <th>15192</th>\n",
       "      <td>beyblade burst</td>\n",
       "      <td>3DS</td>\n",
       "      <td>2016</td>\n",
       "      <td>role-playing</td>\n",
       "      <td>0.00</td>\n",
       "      <td>0.00</td>\n",
       "      <td>0.03</td>\n",
       "      <td>0.00</td>\n",
       "      <td>-1.0</td>\n",
       "      <td>-1.0</td>\n",
       "      <td>unknown</td>\n",
       "    </tr>\n",
       "    <tr>\n",
       "      <th>15301</th>\n",
       "      <td>11eyes: crossover</td>\n",
       "      <td>X360</td>\n",
       "      <td>2009</td>\n",
       "      <td>adventure</td>\n",
       "      <td>0.00</td>\n",
       "      <td>0.00</td>\n",
       "      <td>0.02</td>\n",
       "      <td>0.00</td>\n",
       "      <td>-1.0</td>\n",
       "      <td>-1.0</td>\n",
       "      <td>unknown</td>\n",
       "    </tr>\n",
       "    <tr>\n",
       "      <th>15302</th>\n",
       "      <td>11eyes: crossover</td>\n",
       "      <td>X360</td>\n",
       "      <td>2009</td>\n",
       "      <td>adventure</td>\n",
       "      <td>0.00</td>\n",
       "      <td>0.00</td>\n",
       "      <td>0.02</td>\n",
       "      <td>0.00</td>\n",
       "      <td>-1.0</td>\n",
       "      <td>-1.0</td>\n",
       "      <td>unknown</td>\n",
       "    </tr>\n",
       "    <tr>\n",
       "      <th>4860</th>\n",
       "      <td>18 wheeler: american pro trucker</td>\n",
       "      <td>PS2</td>\n",
       "      <td>2001</td>\n",
       "      <td>racing</td>\n",
       "      <td>0.20</td>\n",
       "      <td>0.15</td>\n",
       "      <td>0.00</td>\n",
       "      <td>0.05</td>\n",
       "      <td>61.0</td>\n",
       "      <td>5.7</td>\n",
       "      <td>E</td>\n",
       "    </tr>\n",
       "    <tr>\n",
       "      <th>...</th>\n",
       "      <td>...</td>\n",
       "      <td>...</td>\n",
       "      <td>...</td>\n",
       "      <td>...</td>\n",
       "      <td>...</td>\n",
       "      <td>...</td>\n",
       "      <td>...</td>\n",
       "      <td>...</td>\n",
       "      <td>...</td>\n",
       "      <td>...</td>\n",
       "      <td>...</td>\n",
       "    </tr>\n",
       "    <tr>\n",
       "      <th>2909</th>\n",
       "      <td>yu-gi-oh! the falsebound kingdom</td>\n",
       "      <td>GC</td>\n",
       "      <td>2002</td>\n",
       "      <td>strategy</td>\n",
       "      <td>0.49</td>\n",
       "      <td>0.13</td>\n",
       "      <td>0.07</td>\n",
       "      <td>0.02</td>\n",
       "      <td>-1.0</td>\n",
       "      <td>-1.0</td>\n",
       "      <td>unknown</td>\n",
       "    </tr>\n",
       "    <tr>\n",
       "      <th>6695</th>\n",
       "      <td>zoo resort 3d</td>\n",
       "      <td>3DS</td>\n",
       "      <td>2011</td>\n",
       "      <td>simulation</td>\n",
       "      <td>0.11</td>\n",
       "      <td>0.09</td>\n",
       "      <td>0.03</td>\n",
       "      <td>0.02</td>\n",
       "      <td>-1.0</td>\n",
       "      <td>-1.0</td>\n",
       "      <td>E</td>\n",
       "    </tr>\n",
       "    <tr>\n",
       "      <th>6696</th>\n",
       "      <td>zoo resort 3d</td>\n",
       "      <td>3DS</td>\n",
       "      <td>2011</td>\n",
       "      <td>simulation</td>\n",
       "      <td>0.11</td>\n",
       "      <td>0.09</td>\n",
       "      <td>0.03</td>\n",
       "      <td>0.02</td>\n",
       "      <td>-1.0</td>\n",
       "      <td>-1.0</td>\n",
       "      <td>E</td>\n",
       "    </tr>\n",
       "    <tr>\n",
       "      <th>8156</th>\n",
       "      <td>zumba fitness rush</td>\n",
       "      <td>X360</td>\n",
       "      <td>2012</td>\n",
       "      <td>sports</td>\n",
       "      <td>0.00</td>\n",
       "      <td>0.16</td>\n",
       "      <td>0.00</td>\n",
       "      <td>0.02</td>\n",
       "      <td>73.0</td>\n",
       "      <td>6.2</td>\n",
       "      <td>E10+</td>\n",
       "    </tr>\n",
       "    <tr>\n",
       "      <th>8157</th>\n",
       "      <td>zumba fitness rush</td>\n",
       "      <td>X360</td>\n",
       "      <td>2012</td>\n",
       "      <td>sports</td>\n",
       "      <td>0.00</td>\n",
       "      <td>0.16</td>\n",
       "      <td>0.00</td>\n",
       "      <td>0.02</td>\n",
       "      <td>73.0</td>\n",
       "      <td>6.2</td>\n",
       "      <td>E10+</td>\n",
       "    </tr>\n",
       "  </tbody>\n",
       "</table>\n",
       "<p>470 rows × 11 columns</p>\n",
       "</div>"
      ],
      "text/plain": [
       "                                   name platform  year_of_release  \\\n",
       "15191                    beyblade burst      3DS             2016   \n",
       "15192                    beyblade burst      3DS             2016   \n",
       "15301                 11eyes: crossover     X360             2009   \n",
       "15302                 11eyes: crossover     X360             2009   \n",
       "4860   18 wheeler: american pro trucker      PS2             2001   \n",
       "...                                 ...      ...              ...   \n",
       "2909   yu-gi-oh! the falsebound kingdom       GC             2002   \n",
       "6695                      zoo resort 3d      3DS             2011   \n",
       "6696                      zoo resort 3d      3DS             2011   \n",
       "8156                 zumba fitness rush     X360             2012   \n",
       "8157                 zumba fitness rush     X360             2012   \n",
       "\n",
       "              genre  na_sales  eu_sales  jp_sales  other_sales  critic_score  \\\n",
       "15191  role-playing      0.00      0.00      0.03         0.00          -1.0   \n",
       "15192  role-playing      0.00      0.00      0.03         0.00          -1.0   \n",
       "15301     adventure      0.00      0.00      0.02         0.00          -1.0   \n",
       "15302     adventure      0.00      0.00      0.02         0.00          -1.0   \n",
       "4860         racing      0.20      0.15      0.00         0.05          61.0   \n",
       "...             ...       ...       ...       ...          ...           ...   \n",
       "2909       strategy      0.49      0.13      0.07         0.02          -1.0   \n",
       "6695     simulation      0.11      0.09      0.03         0.02          -1.0   \n",
       "6696     simulation      0.11      0.09      0.03         0.02          -1.0   \n",
       "8156         sports      0.00      0.16      0.00         0.02          73.0   \n",
       "8157         sports      0.00      0.16      0.00         0.02          73.0   \n",
       "\n",
       "       user_score   rating  \n",
       "15191        -1.0  unknown  \n",
       "15192        -1.0  unknown  \n",
       "15301        -1.0  unknown  \n",
       "15302        -1.0  unknown  \n",
       "4860          5.7        E  \n",
       "...           ...      ...  \n",
       "2909         -1.0  unknown  \n",
       "6695         -1.0        E  \n",
       "6696         -1.0        E  \n",
       "8156          6.2     E10+  \n",
       "8157          6.2     E10+  \n",
       "\n",
       "[470 rows x 11 columns]"
      ]
     },
     "execution_count": 47,
     "metadata": {},
     "output_type": "execute_result"
    }
   ],
   "source": [
    "# Находим дубликаты\n",
    "duplicates = new_games_sorted[new_games_sorted.duplicated(keep=False)]\n",
    "duplicates"
   ]
  },
  {
   "cell_type": "code",
   "execution_count": 48,
   "id": "d8d15635",
   "metadata": {},
   "outputs": [],
   "source": [
    "# Удаляем дубликаты\n",
    "new_games_no_duplicates =  new_games_sorted.drop_duplicates()"
   ]
  },
  {
   "cell_type": "code",
   "execution_count": 49,
   "id": "24a756d8",
   "metadata": {},
   "outputs": [],
   "source": [
    "# Сохраняем количество строк после удаления дубликатов\n",
    "final_new_games = new_games_no_duplicates"
   ]
  },
  {
   "cell_type": "markdown",
   "id": "c2bd12d5",
   "metadata": {},
   "source": [
    "В результате проверки на дубликаты в столбцах было найдено 235 дубликат.\n",
    "Данные дубликаты удалены из датафрейма, что бы не исказить последующие вычисления. "
   ]
  },
  {
   "cell_type": "markdown",
   "id": "1e5bd8e1",
   "metadata": {},
   "source": [
    "В процессе подготовки данных мы удаляли строки с пропусками и дубликаты. Посчитаем количество удалённых строк в абсолютном и относительном значениях."
   ]
  },
  {
   "cell_type": "code",
   "execution_count": 50,
   "id": "bab283b2",
   "metadata": {},
   "outputs": [
    {
     "data": {
      "text/plain": [
       "16956"
      ]
     },
     "execution_count": 50,
     "metadata": {},
     "output_type": "execute_result"
    }
   ],
   "source": [
    "# Количество строк в исходном датафрейме\n",
    "new_games.shape[0]"
   ]
  },
  {
   "cell_type": "code",
   "execution_count": 51,
   "id": "e9459cf4",
   "metadata": {},
   "outputs": [
    {
     "data": {
      "text/plain": [
       "16444"
      ]
     },
     "execution_count": 51,
     "metadata": {},
     "output_type": "execute_result"
    }
   ],
   "source": [
    "# Количество строк в финальном датафрейме\n",
    "final_new_games.shape[0]"
   ]
  },
  {
   "cell_type": "code",
   "execution_count": 52,
   "id": "eba36308",
   "metadata": {},
   "outputs": [
    {
     "data": {
      "text/plain": [
       "3.02"
      ]
     },
     "execution_count": 52,
     "metadata": {},
     "output_type": "execute_result"
    }
   ],
   "source": [
    "# Рассчитаем количество удаленных строк в процентном отношении\n",
    "result=round(100-(final_new_games.shape[0]/new_games.shape[0]*100),2)\n",
    "result"
   ]
  },
  {
   "cell_type": "code",
   "execution_count": 53,
   "id": "bba50764",
   "metadata": {},
   "outputs": [
    {
     "name": "stdout",
     "output_type": "stream",
     "text": [
      " Было строк в исходном датасете 16956 \n",
      " Осталось строк в датасете после обработки 16444 \n",
      " Удалено строк в датасете после обработки 512 \n",
      " Процент потерь 3.02\n"
     ]
    }
   ],
   "source": [
    "# Комментарий ревьюера\n",
    "# Проверим сколько удалено строк датасета\n",
    "a, b = len(tmp), len(final_new_games)\n",
    "print(\" Было строк в исходном датасете\", a,\n",
    "      '\\n', \"Осталось строк в датасете после обработки\", b,\n",
    "      '\\n', \"Удалено строк в датасете после обработки\", a-b,\n",
    "      '\\n', \"Процент потерь\", round((a-b)/a*100, 2))"
   ]
  },
  {
   "cell_type": "markdown",
   "id": "f8fe383d",
   "metadata": {},
   "source": [
    "**Вывод:** \n",
    "- Для удобства были преобразованы к нижнему регистру названия всех столбцов.\n",
    "- В трех столбцах `jp_sales`,`user_score`,`eu_sales` были изменены типы данных с object к типу float64.\n",
    "- В восьми стоблбцах были обнаружены пропуски.Пропуски были устранены на 100%. Также была проведена работа по их устранению:\n",
    "`critic_score`,`user_score`,`year_of_Release` в этих столбцах пропуски были заменены на индикаторное значение,\n",
    "`name`, `genre` здесь пропуски были удалены,\n",
    "`jp_sales`, `eu_sales` здесь пропуски были заменены на среднее значение, в зависимости от года выпуска и платформы.\n",
    "- Столбцы `genre`,`platform`,`rating`,`name` были проверены на уникальные значения. Была проведена работа по устранению неявных дубликатов- стоблбцы были преобразованы к единому регистру.\n",
    "- В датафрейме найдено 235  явных дубликатов,эти строки мы удалили.\n",
    "\n",
    "В итоге всех преобразований осталось 16444 строк из 16956 строк. Было удалено 3,02% строк. Что является незначительным и не помешает дальнейшему анализу. Сохранили очищенные данные в датафрейме `final_new_games`."
   ]
  },
  {
   "cell_type": "markdown",
   "id": "613f0eb0",
   "metadata": {
    "id": "613f0eb0"
   },
   "source": [
    "---\n",
    "\n",
    "## Фильтрация данных\n",
    "\n",
    "В задании сказано, что требуется изучить историю продаж игр в начале XXI века, в период с 2000 по 2013 год включительно. Отберем данные по этому показателю. Сохраним новый срез данных в отдельном датафрейме `df_actual`."
   ]
  },
  {
   "cell_type": "code",
   "execution_count": 54,
   "id": "2344916d",
   "metadata": {
    "id": "2344916d"
   },
   "outputs": [
    {
     "data": {
      "text/html": [
       "<div>\n",
       "<style scoped>\n",
       "    .dataframe tbody tr th:only-of-type {\n",
       "        vertical-align: middle;\n",
       "    }\n",
       "\n",
       "    .dataframe tbody tr th {\n",
       "        vertical-align: top;\n",
       "    }\n",
       "\n",
       "    .dataframe thead th {\n",
       "        text-align: right;\n",
       "    }\n",
       "</style>\n",
       "<table border=\"1\" class=\"dataframe\">\n",
       "  <thead>\n",
       "    <tr style=\"text-align: right;\">\n",
       "      <th></th>\n",
       "      <th>name</th>\n",
       "      <th>platform</th>\n",
       "      <th>year_of_release</th>\n",
       "      <th>genre</th>\n",
       "      <th>na_sales</th>\n",
       "      <th>eu_sales</th>\n",
       "      <th>jp_sales</th>\n",
       "      <th>other_sales</th>\n",
       "      <th>critic_score</th>\n",
       "      <th>user_score</th>\n",
       "      <th>rating</th>\n",
       "    </tr>\n",
       "  </thead>\n",
       "  <tbody>\n",
       "    <tr>\n",
       "      <th>3394</th>\n",
       "      <td>frozen: olaf's quest</td>\n",
       "      <td>3DS</td>\n",
       "      <td>2013</td>\n",
       "      <td>platform</td>\n",
       "      <td>0.27</td>\n",
       "      <td>0.27</td>\n",
       "      <td>0.00</td>\n",
       "      <td>0.05</td>\n",
       "      <td>-1.0</td>\n",
       "      <td>-1.0</td>\n",
       "      <td>unknown</td>\n",
       "    </tr>\n",
       "    <tr>\n",
       "      <th>3906</th>\n",
       "      <td>frozen: olaf's quest</td>\n",
       "      <td>DS</td>\n",
       "      <td>2013</td>\n",
       "      <td>platform</td>\n",
       "      <td>0.21</td>\n",
       "      <td>0.26</td>\n",
       "      <td>0.00</td>\n",
       "      <td>0.04</td>\n",
       "      <td>-1.0</td>\n",
       "      <td>-1.0</td>\n",
       "      <td>unknown</td>\n",
       "    </tr>\n",
       "    <tr>\n",
       "      <th>2478</th>\n",
       "      <td>tales of xillia 2</td>\n",
       "      <td>PS3</td>\n",
       "      <td>2012</td>\n",
       "      <td>role-playing</td>\n",
       "      <td>0.20</td>\n",
       "      <td>0.12</td>\n",
       "      <td>0.45</td>\n",
       "      <td>0.07</td>\n",
       "      <td>71.0</td>\n",
       "      <td>7.9</td>\n",
       "      <td>T</td>\n",
       "    </tr>\n",
       "    <tr>\n",
       "      <th>8460</th>\n",
       "      <td>.hack//g.u. vol.1//rebirth</td>\n",
       "      <td>PS2</td>\n",
       "      <td>2006</td>\n",
       "      <td>role-playing</td>\n",
       "      <td>0.00</td>\n",
       "      <td>0.00</td>\n",
       "      <td>0.17</td>\n",
       "      <td>0.00</td>\n",
       "      <td>-1.0</td>\n",
       "      <td>-1.0</td>\n",
       "      <td>unknown</td>\n",
       "    </tr>\n",
       "    <tr>\n",
       "      <th>7182</th>\n",
       "      <td>.hack//g.u. vol.2//reminisce</td>\n",
       "      <td>PS2</td>\n",
       "      <td>2006</td>\n",
       "      <td>role-playing</td>\n",
       "      <td>0.11</td>\n",
       "      <td>0.09</td>\n",
       "      <td>0.00</td>\n",
       "      <td>0.03</td>\n",
       "      <td>-1.0</td>\n",
       "      <td>-1.0</td>\n",
       "      <td>unknown</td>\n",
       "    </tr>\n",
       "  </tbody>\n",
       "</table>\n",
       "</div>"
      ],
      "text/plain": [
       "                              name platform  year_of_release         genre  \\\n",
       "3394          frozen: olaf's quest      3DS             2013      platform   \n",
       "3906          frozen: olaf's quest       DS             2013      platform   \n",
       "2478             tales of xillia 2      PS3             2012  role-playing   \n",
       "8460    .hack//g.u. vol.1//rebirth      PS2             2006  role-playing   \n",
       "7182  .hack//g.u. vol.2//reminisce      PS2             2006  role-playing   \n",
       "\n",
       "      na_sales  eu_sales  jp_sales  other_sales  critic_score  user_score  \\\n",
       "3394      0.27      0.27      0.00         0.05          -1.0        -1.0   \n",
       "3906      0.21      0.26      0.00         0.04          -1.0        -1.0   \n",
       "2478      0.20      0.12      0.45         0.07          71.0         7.9   \n",
       "8460      0.00      0.00      0.17         0.00          -1.0        -1.0   \n",
       "7182      0.11      0.09      0.00         0.03          -1.0        -1.0   \n",
       "\n",
       "       rating  \n",
       "3394  unknown  \n",
       "3906  unknown  \n",
       "2478        T  \n",
       "8460  unknown  \n",
       "7182  unknown  "
      ]
     },
     "execution_count": 54,
     "metadata": {},
     "output_type": "execute_result"
    }
   ],
   "source": [
    "# Отберём строки, которые относяться к периоду с 2000 по 2013 включительно c помощью логического оператора\n",
    "# Выведем первые строки\n",
    "df_actual = final_new_games[(final_new_games['year_of_release'] >= 2000) & (final_new_games['year_of_release'] <= 2013)]\n",
    "df_actual.head()"
   ]
  },
  {
   "cell_type": "code",
   "execution_count": 55,
   "id": "2c3c0589",
   "metadata": {},
   "outputs": [
    {
     "name": "stdout",
     "output_type": "stream",
     "text": [
      "<class 'pandas.core.frame.DataFrame'>\n",
      "Int64Index: 12781 entries, 3394 to 9260\n",
      "Data columns (total 11 columns):\n",
      " #   Column           Non-Null Count  Dtype  \n",
      "---  ------           --------------  -----  \n",
      " 0   name             12781 non-null  object \n",
      " 1   platform         12781 non-null  object \n",
      " 2   year_of_release  12781 non-null  int64  \n",
      " 3   genre            12781 non-null  object \n",
      " 4   na_sales         12781 non-null  float64\n",
      " 5   eu_sales         12781 non-null  float64\n",
      " 6   jp_sales         12781 non-null  float64\n",
      " 7   other_sales      12781 non-null  float64\n",
      " 8   critic_score     12781 non-null  float64\n",
      " 9   user_score       12781 non-null  float64\n",
      " 10  rating           12781 non-null  object \n",
      "dtypes: float64(6), int64(1), object(4)\n",
      "memory usage: 1.2+ MB\n"
     ]
    }
   ],
   "source": [
    "# Выведем информацию о датафрейме df_actual\n",
    "df_actual.info()"
   ]
  },
  {
   "cell_type": "markdown",
   "id": "526991bc",
   "metadata": {
    "id": "44d7529f"
   },
   "source": [
    "**Вывод:** Сформировали срез данных для дальнейшего исследования и сохранили его в отдельном датафрейме df_actual. Он содержит 12781 строку, 11 стобцов."
   ]
  },
  {
   "cell_type": "code",
   "execution_count": 56,
   "id": "627d4d0d",
   "metadata": {},
   "outputs": [
    {
     "data": {
      "text/plain": [
       "array([2000, 2001, 2002, 2003, 2004, 2005, 2006, 2007, 2008, 2009, 2010,\n",
       "       2011, 2012, 2013])"
      ]
     },
     "execution_count": 56,
     "metadata": {},
     "output_type": "execute_result"
    }
   ],
   "source": [
    "# Комментарий ревьюера\n",
    "df_actual.year_of_release.sort_values().unique()"
   ]
  },
  {
   "cell_type": "markdown",
   "id": "a6f10b01",
   "metadata": {
    "id": "a6f10b01"
   },
   "source": [
    "---\n",
    "\n",
    "## Категоризация данных\n",
    "    \n",
    "Проведем категоризацию данных:\n",
    "Разделим все игры по оценкам пользователей и выделим такие категории: высокая оценка (от 8 до 10 включительно), средняя оценка (от 3 до 8, не включая правую границу интервала) и низкая оценка (от 0 до 3, не включая правую границу интервала)."
   ]
  },
  {
   "cell_type": "code",
   "execution_count": 57,
   "id": "3db87229",
   "metadata": {
    "id": "3db87229"
   },
   "outputs": [],
   "source": [
    "# Создем функцию для категоризации пользоватеьских оценок:\n",
    "def categorize_score(evaluation):\n",
    "    if evaluation <0:\n",
    "        return \"нет оценки\"\n",
    "    if evaluation < 3: \n",
    "        return \"низкая\"\n",
    "    if evaluation <8:\n",
    "        return \"средняя\"\n",
    "    if evaluation <=10:\n",
    "        return \"высокая\"\n",
    "    \n",
    "df_actual[\"user_score_categories\"] = df_actual[\"user_score\"].apply(categorize_score)"
   ]
  },
  {
   "cell_type": "code",
   "execution_count": 58,
   "id": "9b0ca0f2",
   "metadata": {
    "id": "9b0ca0f2"
   },
   "outputs": [
    {
     "data": {
      "text/html": [
       "<div>\n",
       "<style scoped>\n",
       "    .dataframe tbody tr th:only-of-type {\n",
       "        vertical-align: middle;\n",
       "    }\n",
       "\n",
       "    .dataframe tbody tr th {\n",
       "        vertical-align: top;\n",
       "    }\n",
       "\n",
       "    .dataframe thead th {\n",
       "        text-align: right;\n",
       "    }\n",
       "</style>\n",
       "<table border=\"1\" class=\"dataframe\">\n",
       "  <thead>\n",
       "    <tr style=\"text-align: right;\">\n",
       "      <th></th>\n",
       "      <th>name</th>\n",
       "      <th>platform</th>\n",
       "      <th>year_of_release</th>\n",
       "      <th>genre</th>\n",
       "      <th>na_sales</th>\n",
       "      <th>eu_sales</th>\n",
       "      <th>jp_sales</th>\n",
       "      <th>other_sales</th>\n",
       "      <th>critic_score</th>\n",
       "      <th>user_score</th>\n",
       "      <th>rating</th>\n",
       "      <th>user_score_categories</th>\n",
       "    </tr>\n",
       "  </thead>\n",
       "  <tbody>\n",
       "    <tr>\n",
       "      <th>3394</th>\n",
       "      <td>frozen: olaf's quest</td>\n",
       "      <td>3DS</td>\n",
       "      <td>2013</td>\n",
       "      <td>platform</td>\n",
       "      <td>0.27</td>\n",
       "      <td>0.27</td>\n",
       "      <td>0.00</td>\n",
       "      <td>0.05</td>\n",
       "      <td>-1.0</td>\n",
       "      <td>-1.0</td>\n",
       "      <td>unknown</td>\n",
       "      <td>нет оценки</td>\n",
       "    </tr>\n",
       "    <tr>\n",
       "      <th>3906</th>\n",
       "      <td>frozen: olaf's quest</td>\n",
       "      <td>DS</td>\n",
       "      <td>2013</td>\n",
       "      <td>platform</td>\n",
       "      <td>0.21</td>\n",
       "      <td>0.26</td>\n",
       "      <td>0.00</td>\n",
       "      <td>0.04</td>\n",
       "      <td>-1.0</td>\n",
       "      <td>-1.0</td>\n",
       "      <td>unknown</td>\n",
       "      <td>нет оценки</td>\n",
       "    </tr>\n",
       "    <tr>\n",
       "      <th>2478</th>\n",
       "      <td>tales of xillia 2</td>\n",
       "      <td>PS3</td>\n",
       "      <td>2012</td>\n",
       "      <td>role-playing</td>\n",
       "      <td>0.20</td>\n",
       "      <td>0.12</td>\n",
       "      <td>0.45</td>\n",
       "      <td>0.07</td>\n",
       "      <td>71.0</td>\n",
       "      <td>7.9</td>\n",
       "      <td>T</td>\n",
       "      <td>средняя</td>\n",
       "    </tr>\n",
       "    <tr>\n",
       "      <th>8460</th>\n",
       "      <td>.hack//g.u. vol.1//rebirth</td>\n",
       "      <td>PS2</td>\n",
       "      <td>2006</td>\n",
       "      <td>role-playing</td>\n",
       "      <td>0.00</td>\n",
       "      <td>0.00</td>\n",
       "      <td>0.17</td>\n",
       "      <td>0.00</td>\n",
       "      <td>-1.0</td>\n",
       "      <td>-1.0</td>\n",
       "      <td>unknown</td>\n",
       "      <td>нет оценки</td>\n",
       "    </tr>\n",
       "    <tr>\n",
       "      <th>7182</th>\n",
       "      <td>.hack//g.u. vol.2//reminisce</td>\n",
       "      <td>PS2</td>\n",
       "      <td>2006</td>\n",
       "      <td>role-playing</td>\n",
       "      <td>0.11</td>\n",
       "      <td>0.09</td>\n",
       "      <td>0.00</td>\n",
       "      <td>0.03</td>\n",
       "      <td>-1.0</td>\n",
       "      <td>-1.0</td>\n",
       "      <td>unknown</td>\n",
       "      <td>нет оценки</td>\n",
       "    </tr>\n",
       "  </tbody>\n",
       "</table>\n",
       "</div>"
      ],
      "text/plain": [
       "                              name platform  year_of_release         genre  \\\n",
       "3394          frozen: olaf's quest      3DS             2013      platform   \n",
       "3906          frozen: olaf's quest       DS             2013      platform   \n",
       "2478             tales of xillia 2      PS3             2012  role-playing   \n",
       "8460    .hack//g.u. vol.1//rebirth      PS2             2006  role-playing   \n",
       "7182  .hack//g.u. vol.2//reminisce      PS2             2006  role-playing   \n",
       "\n",
       "      na_sales  eu_sales  jp_sales  other_sales  critic_score  user_score  \\\n",
       "3394      0.27      0.27      0.00         0.05          -1.0        -1.0   \n",
       "3906      0.21      0.26      0.00         0.04          -1.0        -1.0   \n",
       "2478      0.20      0.12      0.45         0.07          71.0         7.9   \n",
       "8460      0.00      0.00      0.17         0.00          -1.0        -1.0   \n",
       "7182      0.11      0.09      0.00         0.03          -1.0        -1.0   \n",
       "\n",
       "       rating user_score_categories  \n",
       "3394  unknown            нет оценки  \n",
       "3906  unknown            нет оценки  \n",
       "2478        T               средняя  \n",
       "8460  unknown            нет оценки  \n",
       "7182  unknown            нет оценки  "
      ]
     },
     "execution_count": 58,
     "metadata": {},
     "output_type": "execute_result"
    }
   ],
   "source": [
    "# выводим несколько строк датафрейма, что бы посмотреть результат\n",
    "df_actual.head()"
   ]
  },
  {
   "cell_type": "markdown",
   "id": "3131337c",
   "metadata": {},
   "source": [
    "Разделим все игры по оценкам пользователей и выделим такие категории: : высокая оценка (от 80 до 100 включительно), средняя оценка (от 30 до 80, не включая правую границу интервала) и низкая оценка (от 0 до 30, не включая правую границу интервала)."
   ]
  },
  {
   "cell_type": "code",
   "execution_count": 59,
   "id": "35438bd6",
   "metadata": {
    "id": "35438bd6"
   },
   "outputs": [],
   "source": [
    "# Создем функцию для категоризации оценок критиков:\n",
    "def categorize_score_critic(evaluation):\n",
    "    if evaluation <0:\n",
    "        return \"нет оценки\"\n",
    "    if evaluation < 30: \n",
    "        return \"низкая\"\n",
    "    if evaluation <80:\n",
    "        return \"средняя\"\n",
    "    if evaluation <=100:\n",
    "        return \"высокая\"\n",
    "\n",
    "df_actual[\"critic_score_categories\"] = df_actual[\"critic_score\"].apply(categorize_score_critic)"
   ]
  },
  {
   "cell_type": "code",
   "execution_count": 60,
   "id": "6481b48e",
   "metadata": {},
   "outputs": [
    {
     "name": "stdout",
     "output_type": "stream",
     "text": [
      "Оценка 8 должна относиться категории 'высокая оценка' здесь это ['высокая']\n",
      "Оценка 3 должна относиться категории 'средняя оценка' здесь это ['средняя']\n",
      "Оценка 0 должна относиться категории 'низкая оценка' здесь это ['низкая']\n",
      "=================================\n",
      "Оценка 80 должна относиться категории 'высокая оценка' здесь это ['высокая']\n",
      "Оценка 30 должна относиться категории 'средняя оценка' здесь это ['средняя']\n",
      "Оценка 0 должна относиться категории 'низкая оценка' здесь это []\n"
     ]
    }
   ],
   "source": [
    "# Комментарий ревьюера\n",
    "# Проверяем границы категорий по заданию брифа и созданные в проекте\n",
    "tmp0, u_s, c_s = df_actual.copy(), 'user_score', 'critic_score'\n",
    "cat_u, cat_c = 'user_score_categories', 'critic_score_categories'\n",
    "print(\"Оценка 8 должна относиться категории 'высокая оценка'\", \"здесь это\",\n",
    "      tmp0[tmp0[u_s] == 8][cat_u].unique())\n",
    "print(\"Оценка 3 должна относиться категории 'средняя оценка'\", \"здесь это\",\n",
    "      tmp0[tmp0[u_s] == 3][cat_u].unique())\n",
    "print(\"Оценка 0 должна относиться категории 'низкая оценка'\", \"здесь это\",\n",
    "      tmp0[tmp0[u_s] == 0][cat_u].unique())\n",
    "print(\"=================================\")\n",
    "print(\"Оценка 80 должна относиться категории 'высокая оценка'\", \"здесь это\",\n",
    "      tmp0[tmp0[c_s] == 80][cat_c].unique())\n",
    "print(\"Оценка 30 должна относиться категории 'средняя оценка'\", \"здесь это\",\n",
    "      tmp0[tmp0[c_s] == 30][cat_c].unique())\n",
    "print(\"Оценка 0 должна относиться категории 'низкая оценка'\", \"здесь это\",\n",
    "      tmp0[tmp0[c_s] == 0][cat_c].unique())"
   ]
  },
  {
   "cell_type": "code",
   "execution_count": 61,
   "id": "227555bd",
   "metadata": {},
   "outputs": [
    {
     "data": {
      "text/html": [
       "<div>\n",
       "<style scoped>\n",
       "    .dataframe tbody tr th:only-of-type {\n",
       "        vertical-align: middle;\n",
       "    }\n",
       "\n",
       "    .dataframe tbody tr th {\n",
       "        vertical-align: top;\n",
       "    }\n",
       "\n",
       "    .dataframe thead th {\n",
       "        text-align: right;\n",
       "    }\n",
       "</style>\n",
       "<table border=\"1\" class=\"dataframe\">\n",
       "  <thead>\n",
       "    <tr style=\"text-align: right;\">\n",
       "      <th></th>\n",
       "      <th>name</th>\n",
       "      <th>platform</th>\n",
       "      <th>year_of_release</th>\n",
       "      <th>genre</th>\n",
       "      <th>na_sales</th>\n",
       "      <th>eu_sales</th>\n",
       "      <th>jp_sales</th>\n",
       "      <th>other_sales</th>\n",
       "      <th>critic_score</th>\n",
       "      <th>user_score</th>\n",
       "      <th>rating</th>\n",
       "      <th>user_score_categories</th>\n",
       "      <th>critic_score_categories</th>\n",
       "    </tr>\n",
       "  </thead>\n",
       "  <tbody>\n",
       "    <tr>\n",
       "      <th>3394</th>\n",
       "      <td>frozen: olaf's quest</td>\n",
       "      <td>3DS</td>\n",
       "      <td>2013</td>\n",
       "      <td>platform</td>\n",
       "      <td>0.27</td>\n",
       "      <td>0.27</td>\n",
       "      <td>0.00</td>\n",
       "      <td>0.05</td>\n",
       "      <td>-1.0</td>\n",
       "      <td>-1.0</td>\n",
       "      <td>unknown</td>\n",
       "      <td>нет оценки</td>\n",
       "      <td>нет оценки</td>\n",
       "    </tr>\n",
       "    <tr>\n",
       "      <th>3906</th>\n",
       "      <td>frozen: olaf's quest</td>\n",
       "      <td>DS</td>\n",
       "      <td>2013</td>\n",
       "      <td>platform</td>\n",
       "      <td>0.21</td>\n",
       "      <td>0.26</td>\n",
       "      <td>0.00</td>\n",
       "      <td>0.04</td>\n",
       "      <td>-1.0</td>\n",
       "      <td>-1.0</td>\n",
       "      <td>unknown</td>\n",
       "      <td>нет оценки</td>\n",
       "      <td>нет оценки</td>\n",
       "    </tr>\n",
       "    <tr>\n",
       "      <th>2478</th>\n",
       "      <td>tales of xillia 2</td>\n",
       "      <td>PS3</td>\n",
       "      <td>2012</td>\n",
       "      <td>role-playing</td>\n",
       "      <td>0.20</td>\n",
       "      <td>0.12</td>\n",
       "      <td>0.45</td>\n",
       "      <td>0.07</td>\n",
       "      <td>71.0</td>\n",
       "      <td>7.9</td>\n",
       "      <td>T</td>\n",
       "      <td>средняя</td>\n",
       "      <td>средняя</td>\n",
       "    </tr>\n",
       "    <tr>\n",
       "      <th>8460</th>\n",
       "      <td>.hack//g.u. vol.1//rebirth</td>\n",
       "      <td>PS2</td>\n",
       "      <td>2006</td>\n",
       "      <td>role-playing</td>\n",
       "      <td>0.00</td>\n",
       "      <td>0.00</td>\n",
       "      <td>0.17</td>\n",
       "      <td>0.00</td>\n",
       "      <td>-1.0</td>\n",
       "      <td>-1.0</td>\n",
       "      <td>unknown</td>\n",
       "      <td>нет оценки</td>\n",
       "      <td>нет оценки</td>\n",
       "    </tr>\n",
       "    <tr>\n",
       "      <th>7182</th>\n",
       "      <td>.hack//g.u. vol.2//reminisce</td>\n",
       "      <td>PS2</td>\n",
       "      <td>2006</td>\n",
       "      <td>role-playing</td>\n",
       "      <td>0.11</td>\n",
       "      <td>0.09</td>\n",
       "      <td>0.00</td>\n",
       "      <td>0.03</td>\n",
       "      <td>-1.0</td>\n",
       "      <td>-1.0</td>\n",
       "      <td>unknown</td>\n",
       "      <td>нет оценки</td>\n",
       "      <td>нет оценки</td>\n",
       "    </tr>\n",
       "  </tbody>\n",
       "</table>\n",
       "</div>"
      ],
      "text/plain": [
       "                              name platform  year_of_release         genre  \\\n",
       "3394          frozen: olaf's quest      3DS             2013      platform   \n",
       "3906          frozen: olaf's quest       DS             2013      platform   \n",
       "2478             tales of xillia 2      PS3             2012  role-playing   \n",
       "8460    .hack//g.u. vol.1//rebirth      PS2             2006  role-playing   \n",
       "7182  .hack//g.u. vol.2//reminisce      PS2             2006  role-playing   \n",
       "\n",
       "      na_sales  eu_sales  jp_sales  other_sales  critic_score  user_score  \\\n",
       "3394      0.27      0.27      0.00         0.05          -1.0        -1.0   \n",
       "3906      0.21      0.26      0.00         0.04          -1.0        -1.0   \n",
       "2478      0.20      0.12      0.45         0.07          71.0         7.9   \n",
       "8460      0.00      0.00      0.17         0.00          -1.0        -1.0   \n",
       "7182      0.11      0.09      0.00         0.03          -1.0        -1.0   \n",
       "\n",
       "       rating user_score_categories critic_score_categories  \n",
       "3394  unknown            нет оценки              нет оценки  \n",
       "3906  unknown            нет оценки              нет оценки  \n",
       "2478        T               средняя                 средняя  \n",
       "8460  unknown            нет оценки              нет оценки  \n",
       "7182  unknown            нет оценки              нет оценки  "
      ]
     },
     "execution_count": 61,
     "metadata": {},
     "output_type": "execute_result"
    }
   ],
   "source": [
    "# выводим несколько строк датафрейма, что бы посмотреть результат\n",
    "df_actual.head()"
   ]
  },
  {
   "cell_type": "markdown",
   "id": "olkTlTlAUDR9",
   "metadata": {
    "id": "olkTlTlAUDR9"
   },
   "source": [
    "Проверим результат после категоризации данных: сгруппируем данные по выделенным категориям и посчитайте количество игр в каждой категории."
   ]
  },
  {
   "cell_type": "code",
   "execution_count": 62,
   "id": "HW0Nsp-4UMSL",
   "metadata": {
    "id": "HW0Nsp-4UMSL"
   },
   "outputs": [
    {
     "data": {
      "text/plain": [
       "user_score_categories\n",
       "высокая       2286\n",
       "нет оценки    6298\n",
       "низкая         116\n",
       "средняя       4081\n",
       "Name: name, dtype: int64"
      ]
     },
     "execution_count": 62,
     "metadata": {},
     "output_type": "execute_result"
    }
   ],
   "source": [
    "# Сгрупируем данные по пользовательским оценкам и посчитаем количество игр\n",
    "grouped_df_actual = df_actual.groupby('user_score_categories')['name'].count()\n",
    "grouped_df_actual"
   ]
  },
  {
   "cell_type": "code",
   "execution_count": 63,
   "id": "x2ne0HIpUMMD",
   "metadata": {
    "id": "x2ne0HIpUMMD"
   },
   "outputs": [
    {
     "data": {
      "text/plain": [
       "critic_score_categories\n",
       "высокая       1692\n",
       "нет оценки    5612\n",
       "низкая          55\n",
       "средняя       5422\n",
       "Name: name, dtype: int64"
      ]
     },
     "execution_count": 63,
     "metadata": {},
     "output_type": "execute_result"
    }
   ],
   "source": [
    "# Сгрупируем данные по оценкам критиков и посчитаем количество игр\n",
    "grouped_df_actual = df_actual.groupby('critic_score_categories')['name'].count()\n",
    "grouped_df_actual"
   ]
  },
  {
   "cell_type": "markdown",
   "id": "6a98444c",
   "metadata": {
    "id": "6a98444c"
   },
   "source": [
    "Выделим топ-7 платформ по количеству игр, выпущенных за весь актуальный период."
   ]
  },
  {
   "cell_type": "code",
   "execution_count": 64,
   "id": "003caa2c",
   "metadata": {
    "id": "003caa2c"
   },
   "outputs": [
    {
     "data": {
      "text/plain": [
       "platform\n",
       "PS2     2127\n",
       "DS      2120\n",
       "WII     1275\n",
       "PSP     1180\n",
       "X360    1121\n",
       "PS3     1087\n",
       "GBA      811\n",
       "Name: name, dtype: int64"
      ]
     },
     "execution_count": 64,
     "metadata": {},
     "output_type": "execute_result"
    }
   ],
   "source": [
    "grouped_platform = df_actual.groupby('platform')['name'].count()\n",
    "sort_grouped_platform = grouped_platform.sort_values(ascending=False)\n",
    "sort_grouped_platform.head(7)\n"
   ]
  },
  {
   "cell_type": "markdown",
   "id": "dd19870f",
   "metadata": {
    "id": "e8d8a1d0"
   },
   "source": [
    "**Вывод:**\n",
    "Разделили все игры по оценкам пользователей и оценкам критиков и выделили такие категории: низкая оценка,средняя оценка,высокая оценка, без оценки (сюда попали игры,где были пропуски по оценкам). Для критериев пользовательсвкой оценки был создан столбц `user_score_categories`, для критериев оуенок критиков - `critic_score_categories`.\n",
    "\n",
    "Сгруппировкали данные по оценкам критиков и пользователей и посчитали количество игр в каждой категории.\n",
    "По оценкам пользователей: большинству игр была присвоена средняя оценка- 4081 играм, высокая оценка - 2286 играм, низкая оценка была присвоена 116 играм. Без оценок большее количество игр -6298.\n",
    "\n",
    "По оценкам критиков: большинству игр была присвоена средняя оценка -  5422, высокая оценка - 1692, низкая - 55. Без оценок также большая часть игр - 5612. \n",
    "\n",
    "Выделили топ-7 платформ по количеству игр,выпущенных за весь актуальный период: PS2, DS,WII ,PSP,X360 ,PS3,GBA.\n"
   ]
  },
  {
   "cell_type": "markdown",
   "id": "c0158881",
   "metadata": {
    "id": "c0158881"
   },
   "source": [
    "---\n",
    "\n",
    "## Итоговый вывод\n"
   ]
  },
  {
   "cell_type": "markdown",
   "id": "3ef8bd7c",
   "metadata": {
    "id": "0c1afc40"
   },
   "source": [
    "- Были загружены данные datasets/new_games.csv. Данные содержат 11 столбцов и 16 956 строк, в которых представлена информация о продажах игр разных жанров и платформ, а также пользовательские и экспертные оценки игр. При первичном знакомстве с данными и их предобработкой получили такие результаты:\n",
    "\n",
    "- В восьми столбцах были обнаружены пропуски (`critic_score`,`user_score`,`year_of_Release`,`name`,`genre`,`jp_sales`,`eu_sales`). Максимальное количество пропущенных значений в столбцах `critic_score` (51%), `user_score`(47%) и `rating` (40,5%). Скорре всего это связано с тем,что пользователи ставят оценки не всем играм и критики такэе обращают внимание не на все игры и ставят им оценки. В столбцах с незначительной долей пропусков, удалили строки, которые их содержат: в столбцах `year_of_Release`,`name`,`genre`. В столбцах `jp_sales`,`eu_sales` - заменили пропущенные значения средним по платформе и жанру.\n",
    "\n",
    "- Провели анализ столбцов, вяснили, что столбцы `jp_sales`, `eu_sales` содержат текстовые данные `unknown`, а столбец `user_score` -`tbd`, поэтому столбцы имели неккоректный тип данных. После замены этих данных пропусками удалось привести данные столбцы к числовому формату. В результате преобразований были изменены следующие типы столбцов, для удобной работы.\n",
    "В  столбцах `jp_sales`,`user_score`,`eu_sales` - изменили тип данных с object к типу float64, а столбце `year_of_Release`- с float64 на int64.\n",
    "\n",
    "- Столбцы `genre`,`platform`,`rating`,`name` были проверены на уникальные значения. Была проведена работа по устранению неявных дубликатов- стоблбцы были преобразованы к единому регистру. Была проведена работа по проверке на явные дубликаты. В датафрейме найдено 235 явных дубликатов,эти строки мы удалили. Сохранили рузультат в новом датафрейме `final_new_games`. В итоге всех преобразований осталось 16444 строк из 16956 строк. Было удалено 512 строк или 3,02%. Что является незначительным и не помешает дальнейшему анализу.\n",
    "\n",
    "- Сформировали срез, в который вошли данные за в период с 2000 по 2013 год включительно. Новый срез данных сохранили в отдельном датафрейме `df_actual`. Он содержит 12781 строку, 11 стобцов. \n",
    "\n",
    "- Разделили все игры по категориям пользовательских оценок и оценок критиков. Для критериев пользовательсвкой оценки был создан столбц `user_score_categories`, для критериев оуенок критиков - `critic_score_categories`. Можно сделать вывод,что в основном люди и критики ставят средние оценки, это значит что есть и минусы и плюсы у игр. Большая часть игр без оценок, это значит,что не все люди ставят оценки, возможно можно им  нужно подсветить, что бы они больше оставляли обратную связь, это позволит внедрять улучшения и увеличить спрос на игры, а критики возможно оценивают только популярные игры, а не все. В целом больше высоких и средних оценок ,чем низких, это говорит о том, что в целом игры вызвают положительную реакцию у критиков и пользовтелей.\n",
    "\n",
    "- Самое большое количество игр, в период с 2000-2013 г, вышло на платформе: PS2 - 2127 шт, DS - 2120 шт, WII - 1275 шт, PSP - 1180 шт, X360- 1121 шт, PS3 - 1087 шт, GBA - 811 шт.\n",
    "\n",
    "\n",
    "\n"
   ]
  }
 ],
 "metadata": {
  "ExecuteTimeLog": [
   {
    "duration": 125,
    "start_time": "2025-02-08T16:03:22.165Z"
   },
   {
    "duration": 438,
    "start_time": "2025-02-08T16:03:27.362Z"
   },
   {
    "duration": 165,
    "start_time": "2025-02-08T16:03:52.923Z"
   },
   {
    "duration": 86,
    "start_time": "2025-02-08T16:04:31.403Z"
   },
   {
    "duration": 18,
    "start_time": "2025-02-08T16:05:00.338Z"
   },
   {
    "duration": 87,
    "start_time": "2025-02-08T16:05:39.081Z"
   },
   {
    "duration": 22,
    "start_time": "2025-02-08T16:05:57.759Z"
   },
   {
    "duration": 4,
    "start_time": "2025-02-08T16:11:03.973Z"
   },
   {
    "duration": 4,
    "start_time": "2025-02-08T16:12:13.535Z"
   },
   {
    "duration": 4,
    "start_time": "2025-02-08T16:12:30.670Z"
   },
   {
    "duration": 67,
    "start_time": "2025-02-08T16:17:07.912Z"
   },
   {
    "duration": 24,
    "start_time": "2025-02-08T16:23:02.919Z"
   },
   {
    "duration": 31,
    "start_time": "2025-02-08T16:24:48.505Z"
   },
   {
    "duration": 4,
    "start_time": "2025-02-08T16:28:31.220Z"
   },
   {
    "duration": 93,
    "start_time": "2025-02-08T16:31:16.754Z"
   },
   {
    "duration": 9,
    "start_time": "2025-02-08T16:32:35.697Z"
   },
   {
    "duration": 13,
    "start_time": "2025-02-08T16:34:43.775Z"
   },
   {
    "duration": 12,
    "start_time": "2025-02-08T16:40:43.486Z"
   },
   {
    "duration": 13,
    "start_time": "2025-02-08T16:42:06.263Z"
   },
   {
    "duration": 9,
    "start_time": "2025-02-08T16:44:47.405Z"
   },
   {
    "duration": 8,
    "start_time": "2025-02-08T16:45:00.034Z"
   },
   {
    "duration": 9,
    "start_time": "2025-02-08T16:45:46.326Z"
   },
   {
    "duration": 70,
    "start_time": "2025-02-08T16:48:41.304Z"
   },
   {
    "duration": 13,
    "start_time": "2025-02-08T16:50:56.136Z"
   },
   {
    "duration": 12,
    "start_time": "2025-02-08T16:52:09.162Z"
   },
   {
    "duration": 13,
    "start_time": "2025-02-08T16:54:02.223Z"
   },
   {
    "duration": 11,
    "start_time": "2025-02-08T16:54:32.228Z"
   },
   {
    "duration": 9,
    "start_time": "2025-02-08T16:57:58.029Z"
   },
   {
    "duration": 9,
    "start_time": "2025-02-08T16:59:15.101Z"
   },
   {
    "duration": 12,
    "start_time": "2025-02-08T17:04:30.119Z"
   },
   {
    "duration": 17,
    "start_time": "2025-02-08T17:06:46.359Z"
   },
   {
    "duration": 16,
    "start_time": "2025-02-08T17:06:58.616Z"
   },
   {
    "duration": 16,
    "start_time": "2025-02-08T17:07:21.028Z"
   },
   {
    "duration": 17,
    "start_time": "2025-02-08T17:07:44.420Z"
   },
   {
    "duration": 17,
    "start_time": "2025-02-08T17:11:32.189Z"
   },
   {
    "duration": 14,
    "start_time": "2025-02-08T17:11:47.293Z"
   },
   {
    "duration": 115,
    "start_time": "2025-02-08T17:24:46.635Z"
   },
   {
    "duration": 51,
    "start_time": "2025-02-09T06:40:05.811Z"
   },
   {
    "duration": 400,
    "start_time": "2025-02-09T06:40:12.672Z"
   },
   {
    "duration": 143,
    "start_time": "2025-02-09T06:40:14.333Z"
   },
   {
    "duration": 18,
    "start_time": "2025-02-09T06:40:15.847Z"
   },
   {
    "duration": 22,
    "start_time": "2025-02-09T06:40:20.694Z"
   },
   {
    "duration": 24,
    "start_time": "2025-02-09T06:40:29.466Z"
   },
   {
    "duration": 29,
    "start_time": "2025-02-09T06:41:18.600Z"
   },
   {
    "duration": 9,
    "start_time": "2025-02-09T06:41:24.120Z"
   },
   {
    "duration": 8,
    "start_time": "2025-02-09T06:41:58.650Z"
   },
   {
    "duration": 4,
    "start_time": "2025-02-09T06:42:35.263Z"
   },
   {
    "duration": 4,
    "start_time": "2025-02-09T06:42:36.812Z"
   },
   {
    "duration": 4,
    "start_time": "2025-02-09T06:42:37.508Z"
   },
   {
    "duration": 16,
    "start_time": "2025-02-09T06:42:41.986Z"
   },
   {
    "duration": 10,
    "start_time": "2025-02-09T06:42:42.181Z"
   },
   {
    "duration": 12,
    "start_time": "2025-02-09T06:42:42.998Z"
   },
   {
    "duration": 10,
    "start_time": "2025-02-09T06:42:43.186Z"
   },
   {
    "duration": 13,
    "start_time": "2025-02-09T06:42:43.748Z"
   },
   {
    "duration": 12,
    "start_time": "2025-02-09T06:42:43.950Z"
   },
   {
    "duration": 14,
    "start_time": "2025-02-09T06:42:44.574Z"
   },
   {
    "duration": 15,
    "start_time": "2025-02-09T06:42:47.002Z"
   },
   {
    "duration": 9,
    "start_time": "2025-02-09T06:42:49.752Z"
   },
   {
    "duration": 13,
    "start_time": "2025-02-09T06:43:03.867Z"
   },
   {
    "duration": 10,
    "start_time": "2025-02-09T06:43:15.318Z"
   },
   {
    "duration": 32,
    "start_time": "2025-02-09T06:45:58.114Z"
   },
   {
    "duration": 24,
    "start_time": "2025-02-09T06:46:17.802Z"
   },
   {
    "duration": 22,
    "start_time": "2025-02-09T06:50:45.918Z"
   },
   {
    "duration": 16,
    "start_time": "2025-02-09T06:52:35.219Z"
   },
   {
    "duration": 7,
    "start_time": "2025-02-09T06:52:50.125Z"
   },
   {
    "duration": 7,
    "start_time": "2025-02-09T06:52:55.939Z"
   },
   {
    "duration": 10,
    "start_time": "2025-02-09T06:53:29.885Z"
   },
   {
    "duration": 5,
    "start_time": "2025-02-09T06:54:36.066Z"
   },
   {
    "duration": 21,
    "start_time": "2025-02-09T06:55:48.394Z"
   },
   {
    "duration": 13,
    "start_time": "2025-02-09T06:56:31.946Z"
   },
   {
    "duration": 20,
    "start_time": "2025-02-09T06:56:41.955Z"
   },
   {
    "duration": 8,
    "start_time": "2025-02-09T06:59:26.761Z"
   },
   {
    "duration": 13,
    "start_time": "2025-02-09T06:59:38.249Z"
   },
   {
    "duration": 28,
    "start_time": "2025-02-09T06:59:44.174Z"
   },
   {
    "duration": 54,
    "start_time": "2025-02-09T07:01:27.634Z"
   },
   {
    "duration": 8,
    "start_time": "2025-02-09T07:01:39.032Z"
   },
   {
    "duration": 8,
    "start_time": "2025-02-09T07:01:46.211Z"
   },
   {
    "duration": 444,
    "start_time": "2025-02-09T07:03:07.688Z"
   },
   {
    "duration": 118,
    "start_time": "2025-02-09T07:03:08.135Z"
   },
   {
    "duration": 21,
    "start_time": "2025-02-09T07:03:08.255Z"
   },
   {
    "duration": 36,
    "start_time": "2025-02-09T07:03:08.278Z"
   },
   {
    "duration": 31,
    "start_time": "2025-02-09T07:03:08.317Z"
   },
   {
    "duration": 5,
    "start_time": "2025-02-09T07:03:08.350Z"
   },
   {
    "duration": 12,
    "start_time": "2025-02-09T07:03:08.357Z"
   },
   {
    "duration": 15,
    "start_time": "2025-02-09T07:03:08.371Z"
   },
   {
    "duration": 97,
    "start_time": "2025-02-09T07:03:08.389Z"
   },
   {
    "duration": 0,
    "start_time": "2025-02-09T07:03:08.489Z"
   },
   {
    "duration": 0,
    "start_time": "2025-02-09T07:03:08.490Z"
   },
   {
    "duration": 0,
    "start_time": "2025-02-09T07:03:08.491Z"
   },
   {
    "duration": 0,
    "start_time": "2025-02-09T07:03:08.492Z"
   },
   {
    "duration": 0,
    "start_time": "2025-02-09T07:03:08.494Z"
   },
   {
    "duration": 0,
    "start_time": "2025-02-09T07:03:08.495Z"
   },
   {
    "duration": 0,
    "start_time": "2025-02-09T07:03:08.496Z"
   },
   {
    "duration": 0,
    "start_time": "2025-02-09T07:03:08.497Z"
   },
   {
    "duration": 0,
    "start_time": "2025-02-09T07:03:08.498Z"
   },
   {
    "duration": 0,
    "start_time": "2025-02-09T07:03:08.499Z"
   },
   {
    "duration": 393,
    "start_time": "2025-02-09T07:03:43.365Z"
   },
   {
    "duration": 129,
    "start_time": "2025-02-09T07:03:43.760Z"
   },
   {
    "duration": 17,
    "start_time": "2025-02-09T07:03:43.891Z"
   },
   {
    "duration": 21,
    "start_time": "2025-02-09T07:03:43.910Z"
   },
   {
    "duration": 38,
    "start_time": "2025-02-09T07:03:43.933Z"
   },
   {
    "duration": 4,
    "start_time": "2025-02-09T07:03:43.973Z"
   },
   {
    "duration": 6,
    "start_time": "2025-02-09T07:03:43.979Z"
   },
   {
    "duration": 9,
    "start_time": "2025-02-09T07:03:43.986Z"
   },
   {
    "duration": 95,
    "start_time": "2025-02-09T07:03:43.996Z"
   },
   {
    "duration": 0,
    "start_time": "2025-02-09T07:03:44.093Z"
   },
   {
    "duration": 0,
    "start_time": "2025-02-09T07:03:44.094Z"
   },
   {
    "duration": 0,
    "start_time": "2025-02-09T07:03:44.095Z"
   },
   {
    "duration": 0,
    "start_time": "2025-02-09T07:03:44.096Z"
   },
   {
    "duration": 0,
    "start_time": "2025-02-09T07:03:44.097Z"
   },
   {
    "duration": 0,
    "start_time": "2025-02-09T07:03:44.098Z"
   },
   {
    "duration": 0,
    "start_time": "2025-02-09T07:03:44.099Z"
   },
   {
    "duration": 0,
    "start_time": "2025-02-09T07:03:44.100Z"
   },
   {
    "duration": 0,
    "start_time": "2025-02-09T07:03:44.101Z"
   },
   {
    "duration": 0,
    "start_time": "2025-02-09T07:03:44.102Z"
   },
   {
    "duration": 15,
    "start_time": "2025-02-09T07:03:52.762Z"
   },
   {
    "duration": 20,
    "start_time": "2025-02-09T07:04:03.132Z"
   },
   {
    "duration": 10,
    "start_time": "2025-02-09T07:04:06.483Z"
   },
   {
    "duration": 13,
    "start_time": "2025-02-09T07:04:10.522Z"
   },
   {
    "duration": 17,
    "start_time": "2025-02-09T07:04:15.138Z"
   },
   {
    "duration": 20,
    "start_time": "2025-02-09T07:04:28.153Z"
   },
   {
    "duration": 23,
    "start_time": "2025-02-09T07:04:31.624Z"
   },
   {
    "duration": 9,
    "start_time": "2025-02-09T07:04:36.075Z"
   },
   {
    "duration": 12,
    "start_time": "2025-02-09T07:04:39.184Z"
   },
   {
    "duration": 21,
    "start_time": "2025-02-09T07:04:41.777Z"
   },
   {
    "duration": 13,
    "start_time": "2025-02-09T07:20:20.518Z"
   },
   {
    "duration": 13,
    "start_time": "2025-02-09T07:20:47.019Z"
   },
   {
    "duration": 5,
    "start_time": "2025-02-09T07:25:55.592Z"
   },
   {
    "duration": 8,
    "start_time": "2025-02-09T07:25:57.208Z"
   },
   {
    "duration": 8,
    "start_time": "2025-02-09T07:26:15.949Z"
   },
   {
    "duration": 6,
    "start_time": "2025-02-09T07:26:20.702Z"
   },
   {
    "duration": 10,
    "start_time": "2025-02-09T07:26:53.087Z"
   },
   {
    "duration": 14,
    "start_time": "2025-02-09T07:26:58.787Z"
   },
   {
    "duration": 12,
    "start_time": "2025-02-09T07:27:02.901Z"
   },
   {
    "duration": 98,
    "start_time": "2025-02-09T07:29:12.191Z"
   },
   {
    "duration": 10,
    "start_time": "2025-02-09T07:29:59.821Z"
   },
   {
    "duration": 12,
    "start_time": "2025-02-09T07:30:16.604Z"
   },
   {
    "duration": 8,
    "start_time": "2025-02-09T07:31:57.910Z"
   },
   {
    "duration": 11,
    "start_time": "2025-02-09T07:32:05.251Z"
   },
   {
    "duration": 9,
    "start_time": "2025-02-09T07:33:06.329Z"
   },
   {
    "duration": 66,
    "start_time": "2025-02-09T07:36:22.619Z"
   },
   {
    "duration": 5,
    "start_time": "2025-02-09T07:37:41.681Z"
   },
   {
    "duration": 12,
    "start_time": "2025-02-09T07:37:44.341Z"
   },
   {
    "duration": 18,
    "start_time": "2025-02-09T07:38:09.990Z"
   },
   {
    "duration": 13,
    "start_time": "2025-02-09T07:40:12.460Z"
   },
   {
    "duration": 398,
    "start_time": "2025-02-09T07:41:11.474Z"
   },
   {
    "duration": 117,
    "start_time": "2025-02-09T07:41:11.874Z"
   },
   {
    "duration": 18,
    "start_time": "2025-02-09T07:41:11.993Z"
   },
   {
    "duration": 36,
    "start_time": "2025-02-09T07:41:12.013Z"
   },
   {
    "duration": 26,
    "start_time": "2025-02-09T07:41:12.051Z"
   },
   {
    "duration": 5,
    "start_time": "2025-02-09T07:41:12.078Z"
   },
   {
    "duration": 4,
    "start_time": "2025-02-09T07:41:12.085Z"
   },
   {
    "duration": 11,
    "start_time": "2025-02-09T07:41:12.091Z"
   },
   {
    "duration": 102,
    "start_time": "2025-02-09T07:41:12.104Z"
   },
   {
    "duration": 0,
    "start_time": "2025-02-09T07:41:12.209Z"
   },
   {
    "duration": 0,
    "start_time": "2025-02-09T07:41:12.211Z"
   },
   {
    "duration": 0,
    "start_time": "2025-02-09T07:41:12.213Z"
   },
   {
    "duration": 0,
    "start_time": "2025-02-09T07:41:12.215Z"
   },
   {
    "duration": 0,
    "start_time": "2025-02-09T07:41:12.216Z"
   },
   {
    "duration": 0,
    "start_time": "2025-02-09T07:41:12.233Z"
   },
   {
    "duration": 0,
    "start_time": "2025-02-09T07:41:12.234Z"
   },
   {
    "duration": 0,
    "start_time": "2025-02-09T07:41:12.236Z"
   },
   {
    "duration": 0,
    "start_time": "2025-02-09T07:41:12.237Z"
   },
   {
    "duration": 0,
    "start_time": "2025-02-09T07:41:12.240Z"
   },
   {
    "duration": 0,
    "start_time": "2025-02-09T07:41:12.241Z"
   },
   {
    "duration": 0,
    "start_time": "2025-02-09T07:41:12.242Z"
   },
   {
    "duration": 0,
    "start_time": "2025-02-09T07:41:12.243Z"
   },
   {
    "duration": 0,
    "start_time": "2025-02-09T07:41:12.244Z"
   },
   {
    "duration": 0,
    "start_time": "2025-02-09T07:41:12.245Z"
   },
   {
    "duration": 0,
    "start_time": "2025-02-09T07:41:12.246Z"
   },
   {
    "duration": 11,
    "start_time": "2025-02-09T07:41:41.470Z"
   },
   {
    "duration": 12,
    "start_time": "2025-02-09T07:41:50.520Z"
   },
   {
    "duration": 10,
    "start_time": "2025-02-09T07:41:53.598Z"
   },
   {
    "duration": 16,
    "start_time": "2025-02-09T07:41:58.735Z"
   },
   {
    "duration": 9,
    "start_time": "2025-02-09T07:42:04.266Z"
   },
   {
    "duration": 12,
    "start_time": "2025-02-09T07:42:14.910Z"
   },
   {
    "duration": 48,
    "start_time": "2025-02-09T12:16:08.350Z"
   },
   {
    "duration": 428,
    "start_time": "2025-02-09T12:17:00.469Z"
   },
   {
    "duration": 119,
    "start_time": "2025-02-09T12:17:00.902Z"
   },
   {
    "duration": 15,
    "start_time": "2025-02-09T12:17:01.023Z"
   },
   {
    "duration": 27,
    "start_time": "2025-02-09T12:17:01.040Z"
   },
   {
    "duration": 34,
    "start_time": "2025-02-09T12:17:01.069Z"
   },
   {
    "duration": 4,
    "start_time": "2025-02-09T12:17:01.105Z"
   },
   {
    "duration": 33,
    "start_time": "2025-02-09T12:17:01.111Z"
   },
   {
    "duration": 40,
    "start_time": "2025-02-09T12:17:01.145Z"
   },
   {
    "duration": 76,
    "start_time": "2025-02-09T12:17:01.186Z"
   },
   {
    "duration": 0,
    "start_time": "2025-02-09T12:17:01.264Z"
   },
   {
    "duration": 0,
    "start_time": "2025-02-09T12:17:01.266Z"
   },
   {
    "duration": 0,
    "start_time": "2025-02-09T12:17:01.267Z"
   },
   {
    "duration": 0,
    "start_time": "2025-02-09T12:17:01.268Z"
   },
   {
    "duration": 0,
    "start_time": "2025-02-09T12:17:01.270Z"
   },
   {
    "duration": 0,
    "start_time": "2025-02-09T12:17:01.270Z"
   },
   {
    "duration": 0,
    "start_time": "2025-02-09T12:17:01.271Z"
   },
   {
    "duration": 0,
    "start_time": "2025-02-09T12:17:01.272Z"
   },
   {
    "duration": 0,
    "start_time": "2025-02-09T12:17:01.274Z"
   },
   {
    "duration": 0,
    "start_time": "2025-02-09T12:17:01.275Z"
   },
   {
    "duration": 0,
    "start_time": "2025-02-09T12:17:01.277Z"
   },
   {
    "duration": 0,
    "start_time": "2025-02-09T12:17:01.302Z"
   },
   {
    "duration": 0,
    "start_time": "2025-02-09T12:17:01.303Z"
   },
   {
    "duration": 0,
    "start_time": "2025-02-09T12:17:01.305Z"
   },
   {
    "duration": 0,
    "start_time": "2025-02-09T12:17:01.306Z"
   },
   {
    "duration": 0,
    "start_time": "2025-02-09T12:17:01.308Z"
   },
   {
    "duration": 7,
    "start_time": "2025-02-09T12:17:20.366Z"
   },
   {
    "duration": 11,
    "start_time": "2025-02-09T12:19:41.517Z"
   },
   {
    "duration": 7,
    "start_time": "2025-02-09T12:28:31.593Z"
   },
   {
    "duration": 11,
    "start_time": "2025-02-09T12:28:53.319Z"
   },
   {
    "duration": 12,
    "start_time": "2025-02-09T12:28:56.669Z"
   },
   {
    "duration": 9,
    "start_time": "2025-02-09T12:28:58.984Z"
   },
   {
    "duration": 12,
    "start_time": "2025-02-09T12:29:19.927Z"
   },
   {
    "duration": 10,
    "start_time": "2025-02-09T12:29:26.908Z"
   },
   {
    "duration": 12,
    "start_time": "2025-02-09T12:31:05.420Z"
   },
   {
    "duration": 14,
    "start_time": "2025-02-09T12:31:06.889Z"
   },
   {
    "duration": 449,
    "start_time": "2025-02-09T12:46:27.578Z"
   },
   {
    "duration": 138,
    "start_time": "2025-02-09T12:46:28.029Z"
   },
   {
    "duration": 17,
    "start_time": "2025-02-09T12:46:28.169Z"
   },
   {
    "duration": 20,
    "start_time": "2025-02-09T12:46:28.188Z"
   },
   {
    "duration": 24,
    "start_time": "2025-02-09T12:46:28.210Z"
   },
   {
    "duration": 4,
    "start_time": "2025-02-09T12:46:28.236Z"
   },
   {
    "duration": 4,
    "start_time": "2025-02-09T12:46:28.241Z"
   },
   {
    "duration": 7,
    "start_time": "2025-02-09T12:46:28.246Z"
   },
   {
    "duration": 101,
    "start_time": "2025-02-09T12:46:28.254Z"
   },
   {
    "duration": 0,
    "start_time": "2025-02-09T12:46:28.358Z"
   },
   {
    "duration": 0,
    "start_time": "2025-02-09T12:46:28.359Z"
   },
   {
    "duration": 0,
    "start_time": "2025-02-09T12:46:28.360Z"
   },
   {
    "duration": 0,
    "start_time": "2025-02-09T12:46:28.361Z"
   },
   {
    "duration": 0,
    "start_time": "2025-02-09T12:46:28.362Z"
   },
   {
    "duration": 0,
    "start_time": "2025-02-09T12:46:28.363Z"
   },
   {
    "duration": 0,
    "start_time": "2025-02-09T12:46:28.364Z"
   },
   {
    "duration": 0,
    "start_time": "2025-02-09T12:46:28.366Z"
   },
   {
    "duration": 0,
    "start_time": "2025-02-09T12:46:28.366Z"
   },
   {
    "duration": 0,
    "start_time": "2025-02-09T12:46:28.367Z"
   },
   {
    "duration": 0,
    "start_time": "2025-02-09T12:46:28.368Z"
   },
   {
    "duration": 0,
    "start_time": "2025-02-09T12:46:28.370Z"
   },
   {
    "duration": 0,
    "start_time": "2025-02-09T12:46:28.370Z"
   },
   {
    "duration": 0,
    "start_time": "2025-02-09T12:46:28.402Z"
   },
   {
    "duration": 0,
    "start_time": "2025-02-09T12:46:28.403Z"
   },
   {
    "duration": 0,
    "start_time": "2025-02-09T12:46:28.404Z"
   },
   {
    "duration": 10,
    "start_time": "2025-02-09T12:47:25.769Z"
   },
   {
    "duration": 11,
    "start_time": "2025-02-09T12:47:53.450Z"
   },
   {
    "duration": 18,
    "start_time": "2025-02-09T12:49:59.626Z"
   },
   {
    "duration": 11,
    "start_time": "2025-02-09T12:50:29.071Z"
   },
   {
    "duration": 19,
    "start_time": "2025-02-09T12:51:36.200Z"
   },
   {
    "duration": 12,
    "start_time": "2025-02-09T12:52:52.272Z"
   },
   {
    "duration": 385,
    "start_time": "2025-02-09T12:56:24.444Z"
   },
   {
    "duration": 134,
    "start_time": "2025-02-09T12:56:24.831Z"
   },
   {
    "duration": 16,
    "start_time": "2025-02-09T12:56:24.967Z"
   },
   {
    "duration": 21,
    "start_time": "2025-02-09T12:56:24.984Z"
   },
   {
    "duration": 25,
    "start_time": "2025-02-09T12:56:25.008Z"
   },
   {
    "duration": 4,
    "start_time": "2025-02-09T12:56:25.035Z"
   },
   {
    "duration": 22,
    "start_time": "2025-02-09T12:56:25.040Z"
   },
   {
    "duration": 11,
    "start_time": "2025-02-09T12:56:25.063Z"
   },
   {
    "duration": 11,
    "start_time": "2025-02-09T12:56:25.076Z"
   },
   {
    "duration": 17,
    "start_time": "2025-02-09T12:56:25.088Z"
   },
   {
    "duration": 16,
    "start_time": "2025-02-09T12:56:25.108Z"
   },
   {
    "duration": 10,
    "start_time": "2025-02-09T12:56:25.125Z"
   },
   {
    "duration": 13,
    "start_time": "2025-02-09T12:56:25.137Z"
   },
   {
    "duration": 5,
    "start_time": "2025-02-09T12:56:25.152Z"
   },
   {
    "duration": 10,
    "start_time": "2025-02-09T12:56:25.158Z"
   },
   {
    "duration": 33,
    "start_time": "2025-02-09T12:56:25.169Z"
   },
   {
    "duration": 13,
    "start_time": "2025-02-09T12:56:25.205Z"
   },
   {
    "duration": 14,
    "start_time": "2025-02-09T12:56:25.219Z"
   },
   {
    "duration": 18,
    "start_time": "2025-02-09T12:56:25.234Z"
   },
   {
    "duration": 18,
    "start_time": "2025-02-09T12:56:25.253Z"
   },
   {
    "duration": 15,
    "start_time": "2025-02-09T12:56:25.273Z"
   },
   {
    "duration": 18,
    "start_time": "2025-02-09T12:56:25.289Z"
   },
   {
    "duration": 4,
    "start_time": "2025-02-09T13:12:58.477Z"
   },
   {
    "duration": 5,
    "start_time": "2025-02-09T13:16:21.021Z"
   },
   {
    "duration": 7,
    "start_time": "2025-02-09T13:16:35.846Z"
   },
   {
    "duration": 9,
    "start_time": "2025-02-09T13:19:30.455Z"
   },
   {
    "duration": 8,
    "start_time": "2025-02-09T13:19:43.456Z"
   },
   {
    "duration": 72,
    "start_time": "2025-02-09T13:19:53.356Z"
   },
   {
    "duration": 9,
    "start_time": "2025-02-09T13:20:05.252Z"
   },
   {
    "duration": 10,
    "start_time": "2025-02-09T13:20:08.520Z"
   },
   {
    "duration": 444,
    "start_time": "2025-02-09T13:20:38.474Z"
   },
   {
    "duration": 95,
    "start_time": "2025-02-09T13:20:38.920Z"
   },
   {
    "duration": 17,
    "start_time": "2025-02-09T13:20:39.017Z"
   },
   {
    "duration": 21,
    "start_time": "2025-02-09T13:20:39.035Z"
   },
   {
    "duration": 23,
    "start_time": "2025-02-09T13:20:39.058Z"
   },
   {
    "duration": 3,
    "start_time": "2025-02-09T13:20:39.103Z"
   },
   {
    "duration": 6,
    "start_time": "2025-02-09T13:20:39.108Z"
   },
   {
    "duration": 34,
    "start_time": "2025-02-09T13:20:39.116Z"
   },
   {
    "duration": 9,
    "start_time": "2025-02-09T13:20:39.151Z"
   },
   {
    "duration": 7,
    "start_time": "2025-02-09T13:20:39.162Z"
   },
   {
    "duration": 10,
    "start_time": "2025-02-09T13:20:39.171Z"
   },
   {
    "duration": 10,
    "start_time": "2025-02-09T13:20:39.183Z"
   },
   {
    "duration": 15,
    "start_time": "2025-02-09T13:20:39.194Z"
   },
   {
    "duration": 5,
    "start_time": "2025-02-09T13:20:39.212Z"
   },
   {
    "duration": 8,
    "start_time": "2025-02-09T13:20:39.219Z"
   },
   {
    "duration": 11,
    "start_time": "2025-02-09T13:20:39.228Z"
   },
   {
    "duration": 10,
    "start_time": "2025-02-09T13:20:39.241Z"
   },
   {
    "duration": 9,
    "start_time": "2025-02-09T13:20:39.253Z"
   },
   {
    "duration": 40,
    "start_time": "2025-02-09T13:20:39.264Z"
   },
   {
    "duration": 10,
    "start_time": "2025-02-09T13:20:39.306Z"
   },
   {
    "duration": 6,
    "start_time": "2025-02-09T13:20:39.318Z"
   },
   {
    "duration": 16,
    "start_time": "2025-02-09T13:20:39.325Z"
   },
   {
    "duration": 7,
    "start_time": "2025-02-09T13:20:39.343Z"
   },
   {
    "duration": 10,
    "start_time": "2025-02-09T13:23:35.891Z"
   },
   {
    "duration": 1204,
    "start_time": "2025-02-09T13:34:06.090Z"
   },
   {
    "duration": 34426,
    "start_time": "2025-02-09T13:35:01.166Z"
   },
   {
    "duration": 15,
    "start_time": "2025-02-09T13:35:35.611Z"
   },
   {
    "duration": 427,
    "start_time": "2025-02-09T13:37:36.967Z"
   },
   {
    "duration": 149,
    "start_time": "2025-02-09T13:37:37.396Z"
   },
   {
    "duration": 16,
    "start_time": "2025-02-09T13:37:37.547Z"
   },
   {
    "duration": 33,
    "start_time": "2025-02-09T13:37:37.565Z"
   },
   {
    "duration": 25,
    "start_time": "2025-02-09T13:37:37.600Z"
   },
   {
    "duration": 6,
    "start_time": "2025-02-09T13:37:37.627Z"
   },
   {
    "duration": 32,
    "start_time": "2025-02-09T13:37:37.634Z"
   },
   {
    "duration": 27,
    "start_time": "2025-02-09T13:37:37.667Z"
   },
   {
    "duration": 8,
    "start_time": "2025-02-09T13:37:37.695Z"
   },
   {
    "duration": 26,
    "start_time": "2025-02-09T13:37:37.705Z"
   },
   {
    "duration": 12,
    "start_time": "2025-02-09T13:37:37.733Z"
   },
   {
    "duration": 12,
    "start_time": "2025-02-09T13:37:37.746Z"
   },
   {
    "duration": 17,
    "start_time": "2025-02-09T13:37:37.760Z"
   },
   {
    "duration": 11,
    "start_time": "2025-02-09T13:37:37.779Z"
   },
   {
    "duration": 14,
    "start_time": "2025-02-09T13:37:37.792Z"
   },
   {
    "duration": 6,
    "start_time": "2025-02-09T13:37:37.807Z"
   },
   {
    "duration": 10,
    "start_time": "2025-02-09T13:37:37.814Z"
   },
   {
    "duration": 9,
    "start_time": "2025-02-09T13:37:37.826Z"
   },
   {
    "duration": 17,
    "start_time": "2025-02-09T13:37:37.836Z"
   },
   {
    "duration": 8,
    "start_time": "2025-02-09T13:37:37.855Z"
   },
   {
    "duration": 10,
    "start_time": "2025-02-09T13:37:37.864Z"
   },
   {
    "duration": 27,
    "start_time": "2025-02-09T13:37:37.876Z"
   },
   {
    "duration": 7,
    "start_time": "2025-02-09T13:38:13.603Z"
   },
   {
    "duration": 34006,
    "start_time": "2025-02-09T13:38:13.613Z"
   },
   {
    "duration": 10,
    "start_time": "2025-02-09T13:38:47.620Z"
   },
   {
    "duration": 19,
    "start_time": "2025-02-09T13:38:47.632Z"
   },
   {
    "duration": 12,
    "start_time": "2025-02-09T13:38:47.653Z"
   },
   {
    "duration": 12,
    "start_time": "2025-02-09T13:38:47.666Z"
   },
   {
    "duration": 5,
    "start_time": "2025-02-09T13:38:47.679Z"
   },
   {
    "duration": 50,
    "start_time": "2025-02-09T13:38:47.685Z"
   },
   {
    "duration": 17,
    "start_time": "2025-02-09T13:38:47.740Z"
   },
   {
    "duration": 11,
    "start_time": "2025-02-09T13:38:47.759Z"
   },
   {
    "duration": 5,
    "start_time": "2025-02-09T13:38:47.773Z"
   },
   {
    "duration": 8,
    "start_time": "2025-02-09T13:38:47.780Z"
   },
   {
    "duration": 6,
    "start_time": "2025-02-09T13:38:47.789Z"
   },
   {
    "duration": 12,
    "start_time": "2025-02-09T13:38:47.797Z"
   },
   {
    "duration": 23,
    "start_time": "2025-02-09T13:38:47.810Z"
   },
   {
    "duration": 10,
    "start_time": "2025-02-09T13:38:55.472Z"
   },
   {
    "duration": 5,
    "start_time": "2025-02-09T13:39:05.483Z"
   },
   {
    "duration": 10,
    "start_time": "2025-02-09T13:39:09.031Z"
   },
   {
    "duration": 1227,
    "start_time": "2025-02-09T13:39:10.994Z"
   },
   {
    "duration": 374,
    "start_time": "2025-02-09T13:39:51.961Z"
   },
   {
    "duration": 110,
    "start_time": "2025-02-09T13:39:52.338Z"
   },
   {
    "duration": 16,
    "start_time": "2025-02-09T13:39:52.450Z"
   },
   {
    "duration": 55,
    "start_time": "2025-02-09T13:39:52.468Z"
   },
   {
    "duration": 37,
    "start_time": "2025-02-09T13:39:52.525Z"
   },
   {
    "duration": 19,
    "start_time": "2025-02-09T13:39:52.563Z"
   },
   {
    "duration": 59,
    "start_time": "2025-02-09T13:39:52.584Z"
   },
   {
    "duration": 42,
    "start_time": "2025-02-09T13:39:52.644Z"
   },
   {
    "duration": 20,
    "start_time": "2025-02-09T13:39:52.687Z"
   },
   {
    "duration": 15,
    "start_time": "2025-02-09T13:39:52.708Z"
   },
   {
    "duration": 17,
    "start_time": "2025-02-09T13:39:52.725Z"
   },
   {
    "duration": 12,
    "start_time": "2025-02-09T13:39:52.744Z"
   },
   {
    "duration": 19,
    "start_time": "2025-02-09T13:39:52.758Z"
   },
   {
    "duration": 8,
    "start_time": "2025-02-09T13:39:52.779Z"
   },
   {
    "duration": 16,
    "start_time": "2025-02-09T13:39:52.788Z"
   },
   {
    "duration": 6,
    "start_time": "2025-02-09T13:39:52.805Z"
   },
   {
    "duration": 13,
    "start_time": "2025-02-09T13:39:52.812Z"
   },
   {
    "duration": 41,
    "start_time": "2025-02-09T13:39:52.827Z"
   },
   {
    "duration": 21,
    "start_time": "2025-02-09T13:39:52.870Z"
   },
   {
    "duration": 26,
    "start_time": "2025-02-09T13:39:52.893Z"
   },
   {
    "duration": 20,
    "start_time": "2025-02-09T13:39:52.920Z"
   },
   {
    "duration": 46,
    "start_time": "2025-02-09T13:39:52.942Z"
   },
   {
    "duration": 33866,
    "start_time": "2025-02-09T13:39:52.990Z"
   },
   {
    "duration": 8,
    "start_time": "2025-02-09T13:40:26.858Z"
   },
   {
    "duration": 7,
    "start_time": "2025-02-09T13:40:26.867Z"
   },
   {
    "duration": 31278,
    "start_time": "2025-02-09T13:41:42.460Z"
   },
   {
    "duration": 9,
    "start_time": "2025-02-09T13:42:13.740Z"
   },
   {
    "duration": 31849,
    "start_time": "2025-02-09T13:46:49.243Z"
   },
   {
    "duration": 14,
    "start_time": "2025-02-09T13:47:21.094Z"
   },
   {
    "duration": 29609,
    "start_time": "2025-02-09T13:50:25.353Z"
   },
   {
    "duration": 8,
    "start_time": "2025-02-09T13:50:54.974Z"
   },
   {
    "duration": 29519,
    "start_time": "2025-02-09T13:51:54.087Z"
   },
   {
    "duration": 10,
    "start_time": "2025-02-09T13:52:43.290Z"
   },
   {
    "duration": 30167,
    "start_time": "2025-02-09T13:56:11.812Z"
   },
   {
    "duration": 8,
    "start_time": "2025-02-09T13:56:41.981Z"
   },
   {
    "duration": 9,
    "start_time": "2025-02-09T13:59:57.357Z"
   },
   {
    "duration": 456,
    "start_time": "2025-02-09T14:00:04.776Z"
   },
   {
    "duration": 310,
    "start_time": "2025-02-09T14:00:05.234Z"
   },
   {
    "duration": 18,
    "start_time": "2025-02-09T14:00:05.545Z"
   },
   {
    "duration": 25,
    "start_time": "2025-02-09T14:00:05.565Z"
   },
   {
    "duration": 32,
    "start_time": "2025-02-09T14:00:05.592Z"
   },
   {
    "duration": 4,
    "start_time": "2025-02-09T14:00:05.626Z"
   },
   {
    "duration": 15,
    "start_time": "2025-02-09T14:00:05.631Z"
   },
   {
    "duration": 15,
    "start_time": "2025-02-09T14:00:05.647Z"
   },
   {
    "duration": 12,
    "start_time": "2025-02-09T14:00:05.663Z"
   },
   {
    "duration": 22,
    "start_time": "2025-02-09T14:00:05.676Z"
   },
   {
    "duration": 13,
    "start_time": "2025-02-09T14:00:05.699Z"
   },
   {
    "duration": 40,
    "start_time": "2025-02-09T14:00:05.714Z"
   },
   {
    "duration": 16,
    "start_time": "2025-02-09T14:00:05.756Z"
   },
   {
    "duration": 26,
    "start_time": "2025-02-09T14:00:05.776Z"
   },
   {
    "duration": 19,
    "start_time": "2025-02-09T14:00:05.804Z"
   },
   {
    "duration": 27,
    "start_time": "2025-02-09T14:00:05.825Z"
   },
   {
    "duration": 9,
    "start_time": "2025-02-09T14:00:05.853Z"
   },
   {
    "duration": 36,
    "start_time": "2025-02-09T14:00:05.863Z"
   },
   {
    "duration": 9,
    "start_time": "2025-02-09T14:00:05.901Z"
   },
   {
    "duration": 38,
    "start_time": "2025-02-09T14:00:05.911Z"
   },
   {
    "duration": 16,
    "start_time": "2025-02-09T14:00:05.950Z"
   },
   {
    "duration": 30,
    "start_time": "2025-02-09T14:00:05.968Z"
   },
   {
    "duration": 239,
    "start_time": "2025-02-09T14:00:05.999Z"
   },
   {
    "duration": 176,
    "start_time": "2025-02-09T14:00:06.240Z"
   },
   {
    "duration": 10,
    "start_time": "2025-02-09T14:00:06.418Z"
   },
   {
    "duration": 32,
    "start_time": "2025-02-09T14:00:06.429Z"
   },
   {
    "duration": 9,
    "start_time": "2025-02-09T14:05:28.622Z"
   },
   {
    "duration": 5,
    "start_time": "2025-02-09T14:05:40.150Z"
   },
   {
    "duration": 5,
    "start_time": "2025-02-09T14:07:08.833Z"
   },
   {
    "duration": 6,
    "start_time": "2025-02-09T14:09:22.762Z"
   },
   {
    "duration": 9,
    "start_time": "2025-02-09T14:09:28.284Z"
   },
   {
    "duration": 5,
    "start_time": "2025-02-09T14:09:54.569Z"
   },
   {
    "duration": 4,
    "start_time": "2025-02-09T14:09:55.458Z"
   },
   {
    "duration": 6,
    "start_time": "2025-02-09T14:10:06.811Z"
   },
   {
    "duration": 9,
    "start_time": "2025-02-09T14:11:19.127Z"
   },
   {
    "duration": 5,
    "start_time": "2025-02-09T14:11:27.475Z"
   },
   {
    "duration": 5,
    "start_time": "2025-02-09T14:12:22.659Z"
   },
   {
    "duration": 6,
    "start_time": "2025-02-09T14:13:03.984Z"
   },
   {
    "duration": 7,
    "start_time": "2025-02-09T14:14:44.421Z"
   },
   {
    "duration": 7,
    "start_time": "2025-02-09T14:19:05.305Z"
   },
   {
    "duration": 7,
    "start_time": "2025-02-09T14:20:52.963Z"
   },
   {
    "duration": 10,
    "start_time": "2025-02-09T14:22:13.844Z"
   },
   {
    "duration": 6,
    "start_time": "2025-02-09T14:22:23.875Z"
   },
   {
    "duration": 6,
    "start_time": "2025-02-09T14:22:51.977Z"
   },
   {
    "duration": 14,
    "start_time": "2025-02-09T14:28:58.677Z"
   },
   {
    "duration": 15,
    "start_time": "2025-02-09T14:29:11.829Z"
   },
   {
    "duration": 16,
    "start_time": "2025-02-09T14:29:48.941Z"
   },
   {
    "duration": 15,
    "start_time": "2025-02-09T14:30:07.168Z"
   },
   {
    "duration": 67,
    "start_time": "2025-02-09T14:31:55.558Z"
   },
   {
    "duration": 31,
    "start_time": "2025-02-09T14:32:08.314Z"
   },
   {
    "duration": 19,
    "start_time": "2025-02-09T14:32:36.676Z"
   },
   {
    "duration": 33,
    "start_time": "2025-02-09T14:33:10.167Z"
   },
   {
    "duration": 19,
    "start_time": "2025-02-09T14:34:38.979Z"
   },
   {
    "duration": 2,
    "start_time": "2025-02-09T14:35:10.190Z"
   },
   {
    "duration": 6,
    "start_time": "2025-02-09T14:36:26.280Z"
   },
   {
    "duration": 4,
    "start_time": "2025-02-09T14:36:38.909Z"
   },
   {
    "duration": 6,
    "start_time": "2025-02-09T14:36:44.471Z"
   },
   {
    "duration": 3,
    "start_time": "2025-02-09T14:37:37.886Z"
   },
   {
    "duration": 427,
    "start_time": "2025-02-09T14:37:58.798Z"
   },
   {
    "duration": 94,
    "start_time": "2025-02-09T14:37:59.227Z"
   },
   {
    "duration": 18,
    "start_time": "2025-02-09T14:37:59.322Z"
   },
   {
    "duration": 21,
    "start_time": "2025-02-09T14:37:59.341Z"
   },
   {
    "duration": 53,
    "start_time": "2025-02-09T14:37:59.365Z"
   },
   {
    "duration": 6,
    "start_time": "2025-02-09T14:37:59.421Z"
   },
   {
    "duration": 5,
    "start_time": "2025-02-09T14:37:59.429Z"
   },
   {
    "duration": 6,
    "start_time": "2025-02-09T14:37:59.435Z"
   },
   {
    "duration": 10,
    "start_time": "2025-02-09T14:37:59.442Z"
   },
   {
    "duration": 19,
    "start_time": "2025-02-09T14:37:59.454Z"
   },
   {
    "duration": 36,
    "start_time": "2025-02-09T14:37:59.475Z"
   },
   {
    "duration": 20,
    "start_time": "2025-02-09T14:37:59.513Z"
   },
   {
    "duration": 19,
    "start_time": "2025-02-09T14:37:59.535Z"
   },
   {
    "duration": 8,
    "start_time": "2025-02-09T14:37:59.557Z"
   },
   {
    "duration": 8,
    "start_time": "2025-02-09T14:37:59.567Z"
   },
   {
    "duration": 7,
    "start_time": "2025-02-09T14:37:59.576Z"
   },
   {
    "duration": 26,
    "start_time": "2025-02-09T14:37:59.584Z"
   },
   {
    "duration": 13,
    "start_time": "2025-02-09T14:37:59.624Z"
   },
   {
    "duration": 10,
    "start_time": "2025-02-09T14:37:59.639Z"
   },
   {
    "duration": 16,
    "start_time": "2025-02-09T14:37:59.650Z"
   },
   {
    "duration": 4,
    "start_time": "2025-02-09T14:37:59.667Z"
   },
   {
    "duration": 9,
    "start_time": "2025-02-09T14:37:59.673Z"
   },
   {
    "duration": 177,
    "start_time": "2025-02-09T14:37:59.683Z"
   },
   {
    "duration": 177,
    "start_time": "2025-02-09T14:37:59.862Z"
   },
   {
    "duration": 10,
    "start_time": "2025-02-09T14:38:00.041Z"
   },
   {
    "duration": 38,
    "start_time": "2025-02-09T14:38:00.053Z"
   },
   {
    "duration": 61,
    "start_time": "2025-02-09T14:38:00.093Z"
   },
   {
    "duration": 36,
    "start_time": "2025-02-09T14:38:00.156Z"
   },
   {
    "duration": 46,
    "start_time": "2025-02-09T14:38:00.194Z"
   },
   {
    "duration": 34,
    "start_time": "2025-02-09T14:38:00.242Z"
   },
   {
    "duration": 57,
    "start_time": "2025-02-09T14:38:00.278Z"
   },
   {
    "duration": 22,
    "start_time": "2025-02-09T14:38:00.337Z"
   },
   {
    "duration": 72,
    "start_time": "2025-02-09T14:38:00.361Z"
   },
   {
    "duration": 13,
    "start_time": "2025-02-09T14:38:00.435Z"
   },
   {
    "duration": 61,
    "start_time": "2025-02-09T14:38:00.450Z"
   },
   {
    "duration": 27,
    "start_time": "2025-02-09T14:38:00.513Z"
   },
   {
    "duration": 33,
    "start_time": "2025-02-09T14:38:00.541Z"
   },
   {
    "duration": 55,
    "start_time": "2025-02-09T14:38:00.576Z"
   },
   {
    "duration": 20,
    "start_time": "2025-02-09T14:38:00.632Z"
   },
   {
    "duration": 3,
    "start_time": "2025-02-09T14:38:00.653Z"
   },
   {
    "duration": 5,
    "start_time": "2025-02-09T14:38:00.659Z"
   },
   {
    "duration": 94,
    "start_time": "2025-02-09T14:38:00.665Z"
   },
   {
    "duration": 3,
    "start_time": "2025-02-09T14:38:36.355Z"
   },
   {
    "duration": 4,
    "start_time": "2025-02-09T14:38:37.794Z"
   },
   {
    "duration": 5,
    "start_time": "2025-02-09T14:38:38.526Z"
   },
   {
    "duration": 49,
    "start_time": "2025-02-10T04:51:39.113Z"
   },
   {
    "duration": 8,
    "start_time": "2025-02-10T04:52:17.411Z"
   },
   {
    "duration": 7,
    "start_time": "2025-02-10T04:52:48.731Z"
   },
   {
    "duration": 6,
    "start_time": "2025-02-10T04:53:55.587Z"
   },
   {
    "duration": 7,
    "start_time": "2025-02-10T04:54:33.442Z"
   },
   {
    "duration": 441,
    "start_time": "2025-02-10T04:54:48.569Z"
   },
   {
    "duration": 132,
    "start_time": "2025-02-10T04:54:49.013Z"
   },
   {
    "duration": 18,
    "start_time": "2025-02-10T04:54:49.147Z"
   },
   {
    "duration": 23,
    "start_time": "2025-02-10T04:54:49.168Z"
   },
   {
    "duration": 27,
    "start_time": "2025-02-10T04:54:49.193Z"
   },
   {
    "duration": 5,
    "start_time": "2025-02-10T04:54:49.222Z"
   },
   {
    "duration": 4,
    "start_time": "2025-02-10T04:54:49.260Z"
   },
   {
    "duration": 33,
    "start_time": "2025-02-10T04:54:49.266Z"
   },
   {
    "duration": 25,
    "start_time": "2025-02-10T04:54:49.301Z"
   },
   {
    "duration": 8,
    "start_time": "2025-02-10T04:54:49.331Z"
   },
   {
    "duration": 12,
    "start_time": "2025-02-10T04:54:49.341Z"
   },
   {
    "duration": 11,
    "start_time": "2025-02-10T04:54:49.355Z"
   },
   {
    "duration": 13,
    "start_time": "2025-02-10T04:54:49.368Z"
   },
   {
    "duration": 8,
    "start_time": "2025-02-10T04:54:49.383Z"
   },
   {
    "duration": 9,
    "start_time": "2025-02-10T04:54:49.393Z"
   },
   {
    "duration": 7,
    "start_time": "2025-02-10T04:54:49.404Z"
   },
   {
    "duration": 8,
    "start_time": "2025-02-10T04:54:49.413Z"
   },
   {
    "duration": 42,
    "start_time": "2025-02-10T04:54:49.423Z"
   },
   {
    "duration": 9,
    "start_time": "2025-02-10T04:54:49.466Z"
   },
   {
    "duration": 5,
    "start_time": "2025-02-10T04:54:49.477Z"
   },
   {
    "duration": 12,
    "start_time": "2025-02-10T04:54:49.483Z"
   },
   {
    "duration": 232,
    "start_time": "2025-02-10T04:54:49.497Z"
   },
   {
    "duration": 190,
    "start_time": "2025-02-10T04:54:49.731Z"
   },
   {
    "duration": 8,
    "start_time": "2025-02-10T04:54:49.923Z"
   },
   {
    "duration": 10,
    "start_time": "2025-02-10T04:54:49.932Z"
   },
   {
    "duration": 18,
    "start_time": "2025-02-10T04:54:49.944Z"
   },
   {
    "duration": 8,
    "start_time": "2025-02-10T04:54:49.964Z"
   },
   {
    "duration": 6,
    "start_time": "2025-02-10T04:54:49.975Z"
   },
   {
    "duration": 5,
    "start_time": "2025-02-10T04:54:49.982Z"
   },
   {
    "duration": 12,
    "start_time": "2025-02-10T04:54:49.989Z"
   },
   {
    "duration": 9,
    "start_time": "2025-02-10T04:54:50.003Z"
   },
   {
    "duration": 51,
    "start_time": "2025-02-10T04:54:50.014Z"
   },
   {
    "duration": 10,
    "start_time": "2025-02-10T04:54:50.067Z"
   },
   {
    "duration": 10,
    "start_time": "2025-02-10T04:54:50.079Z"
   },
   {
    "duration": 9,
    "start_time": "2025-02-10T04:54:50.090Z"
   },
   {
    "duration": 23,
    "start_time": "2025-02-10T04:54:50.100Z"
   },
   {
    "duration": 66,
    "start_time": "2025-02-10T04:54:50.124Z"
   },
   {
    "duration": 35,
    "start_time": "2025-02-10T04:54:50.192Z"
   },
   {
    "duration": 40,
    "start_time": "2025-02-10T04:54:50.228Z"
   },
   {
    "duration": 2,
    "start_time": "2025-02-10T04:54:50.270Z"
   },
   {
    "duration": 4,
    "start_time": "2025-02-10T04:54:50.274Z"
   },
   {
    "duration": 4,
    "start_time": "2025-02-10T04:54:50.280Z"
   },
   {
    "duration": 9,
    "start_time": "2025-02-10T04:55:31.428Z"
   },
   {
    "duration": 6,
    "start_time": "2025-02-10T04:56:27.317Z"
   },
   {
    "duration": 10,
    "start_time": "2025-02-10T04:56:39.348Z"
   },
   {
    "duration": 6,
    "start_time": "2025-02-10T04:57:47.361Z"
   },
   {
    "duration": 5,
    "start_time": "2025-02-10T04:57:49.204Z"
   },
   {
    "duration": 10,
    "start_time": "2025-02-10T04:57:59.063Z"
   },
   {
    "duration": 5,
    "start_time": "2025-02-10T04:58:26.402Z"
   },
   {
    "duration": 4,
    "start_time": "2025-02-10T04:58:34.548Z"
   },
   {
    "duration": 6,
    "start_time": "2025-02-10T04:58:39.419Z"
   },
   {
    "duration": 10,
    "start_time": "2025-02-10T04:58:49.961Z"
   },
   {
    "duration": 7,
    "start_time": "2025-02-10T04:58:57.274Z"
   },
   {
    "duration": 18,
    "start_time": "2025-02-10T04:59:06.378Z"
   },
   {
    "duration": 35,
    "start_time": "2025-02-10T04:59:17.579Z"
   },
   {
    "duration": 23,
    "start_time": "2025-02-10T04:59:39.133Z"
   },
   {
    "duration": 3,
    "start_time": "2025-02-10T04:59:39.938Z"
   },
   {
    "duration": 4,
    "start_time": "2025-02-10T04:59:41.235Z"
   },
   {
    "duration": 4,
    "start_time": "2025-02-10T04:59:42.354Z"
   },
   {
    "duration": 406,
    "start_time": "2025-02-10T04:59:56.685Z"
   },
   {
    "duration": 166,
    "start_time": "2025-02-10T04:59:57.093Z"
   },
   {
    "duration": 18,
    "start_time": "2025-02-10T04:59:57.261Z"
   },
   {
    "duration": 22,
    "start_time": "2025-02-10T04:59:57.281Z"
   },
   {
    "duration": 24,
    "start_time": "2025-02-10T04:59:57.305Z"
   },
   {
    "duration": 32,
    "start_time": "2025-02-10T04:59:57.331Z"
   },
   {
    "duration": 5,
    "start_time": "2025-02-10T04:59:57.364Z"
   },
   {
    "duration": 8,
    "start_time": "2025-02-10T04:59:57.370Z"
   },
   {
    "duration": 11,
    "start_time": "2025-02-10T04:59:57.380Z"
   },
   {
    "duration": 8,
    "start_time": "2025-02-10T04:59:57.395Z"
   },
   {
    "duration": 9,
    "start_time": "2025-02-10T04:59:57.405Z"
   },
   {
    "duration": 50,
    "start_time": "2025-02-10T04:59:57.416Z"
   },
   {
    "duration": 30,
    "start_time": "2025-02-10T04:59:57.467Z"
   },
   {
    "duration": 6,
    "start_time": "2025-02-10T04:59:57.499Z"
   },
   {
    "duration": 9,
    "start_time": "2025-02-10T04:59:57.506Z"
   },
   {
    "duration": 7,
    "start_time": "2025-02-10T04:59:57.516Z"
   },
   {
    "duration": 13,
    "start_time": "2025-02-10T04:59:57.525Z"
   },
   {
    "duration": 33,
    "start_time": "2025-02-10T04:59:57.539Z"
   },
   {
    "duration": 23,
    "start_time": "2025-02-10T04:59:57.573Z"
   },
   {
    "duration": 6,
    "start_time": "2025-02-10T04:59:57.598Z"
   },
   {
    "duration": 194,
    "start_time": "2025-02-10T04:59:57.606Z"
   },
   {
    "duration": 187,
    "start_time": "2025-02-10T04:59:57.802Z"
   },
   {
    "duration": 10,
    "start_time": "2025-02-10T04:59:57.991Z"
   },
   {
    "duration": 37,
    "start_time": "2025-02-10T04:59:58.003Z"
   },
   {
    "duration": 6,
    "start_time": "2025-02-10T04:59:58.042Z"
   },
   {
    "duration": 16,
    "start_time": "2025-02-10T04:59:58.051Z"
   },
   {
    "duration": 6,
    "start_time": "2025-02-10T04:59:58.069Z"
   },
   {
    "duration": 5,
    "start_time": "2025-02-10T04:59:58.081Z"
   },
   {
    "duration": 12,
    "start_time": "2025-02-10T04:59:58.088Z"
   },
   {
    "duration": 6,
    "start_time": "2025-02-10T04:59:58.102Z"
   },
   {
    "duration": 54,
    "start_time": "2025-02-10T04:59:58.110Z"
   },
   {
    "duration": 10,
    "start_time": "2025-02-10T04:59:58.165Z"
   },
   {
    "duration": 16,
    "start_time": "2025-02-10T04:59:58.177Z"
   },
   {
    "duration": 8,
    "start_time": "2025-02-10T04:59:58.195Z"
   },
   {
    "duration": 29,
    "start_time": "2025-02-10T04:59:58.204Z"
   },
   {
    "duration": 59,
    "start_time": "2025-02-10T04:59:58.235Z"
   },
   {
    "duration": 40,
    "start_time": "2025-02-10T04:59:58.296Z"
   },
   {
    "duration": 36,
    "start_time": "2025-02-10T04:59:58.338Z"
   },
   {
    "duration": 3,
    "start_time": "2025-02-10T04:59:58.376Z"
   },
   {
    "duration": 4,
    "start_time": "2025-02-10T04:59:58.380Z"
   },
   {
    "duration": 3,
    "start_time": "2025-02-10T04:59:58.386Z"
   },
   {
    "duration": 6,
    "start_time": "2025-02-10T05:05:08.538Z"
   },
   {
    "duration": 5,
    "start_time": "2025-02-10T05:06:36.379Z"
   },
   {
    "duration": 4,
    "start_time": "2025-02-10T05:10:57.825Z"
   },
   {
    "duration": 6,
    "start_time": "2025-02-10T05:11:31.011Z"
   },
   {
    "duration": 5,
    "start_time": "2025-02-10T05:11:53.273Z"
   },
   {
    "duration": 4,
    "start_time": "2025-02-10T05:11:56.557Z"
   },
   {
    "duration": 3,
    "start_time": "2025-02-10T05:13:11.832Z"
   },
   {
    "duration": 6,
    "start_time": "2025-02-10T05:13:20.022Z"
   },
   {
    "duration": 4,
    "start_time": "2025-02-10T05:14:53.324Z"
   },
   {
    "duration": 5,
    "start_time": "2025-02-10T05:15:15.126Z"
   },
   {
    "duration": 63,
    "start_time": "2025-02-10T05:19:52.986Z"
   },
   {
    "duration": 82,
    "start_time": "2025-02-10T08:16:48.788Z"
   },
   {
    "duration": 1264,
    "start_time": "2025-02-10T09:13:38.554Z"
   },
   {
    "duration": 7,
    "start_time": "2025-02-10T09:14:06.926Z"
   },
   {
    "duration": 18,
    "start_time": "2025-02-10T09:14:39.047Z"
   },
   {
    "duration": 17,
    "start_time": "2025-02-10T09:25:15.552Z"
   },
   {
    "duration": 17,
    "start_time": "2025-02-10T09:27:11.141Z"
   },
   {
    "duration": 15,
    "start_time": "2025-02-10T09:28:19.338Z"
   },
   {
    "duration": 308,
    "start_time": "2025-02-10T10:02:13.431Z"
   },
   {
    "duration": 297,
    "start_time": "2025-02-10T10:03:59.872Z"
   },
   {
    "duration": 8,
    "start_time": "2025-02-10T10:09:22.890Z"
   },
   {
    "duration": 7,
    "start_time": "2025-02-10T10:09:37.855Z"
   },
   {
    "duration": 15,
    "start_time": "2025-02-10T10:10:08.630Z"
   },
   {
    "duration": 59,
    "start_time": "2025-02-10T10:12:38.671Z"
   },
   {
    "duration": 16,
    "start_time": "2025-02-10T10:12:47.034Z"
   },
   {
    "duration": 67,
    "start_time": "2025-02-10T10:13:13.613Z"
   },
   {
    "duration": 84,
    "start_time": "2025-02-10T10:13:29.457Z"
   },
   {
    "duration": 9,
    "start_time": "2025-02-10T10:13:57.036Z"
   },
   {
    "duration": 17,
    "start_time": "2025-02-10T10:13:59.430Z"
   },
   {
    "duration": 58,
    "start_time": "2025-02-10T10:15:27.085Z"
   },
   {
    "duration": 60,
    "start_time": "2025-02-10T10:16:12.076Z"
   },
   {
    "duration": 8,
    "start_time": "2025-02-10T10:16:25.229Z"
   },
   {
    "duration": 16,
    "start_time": "2025-02-10T10:16:27.314Z"
   },
   {
    "duration": 9,
    "start_time": "2025-02-10T10:19:45.941Z"
   },
   {
    "duration": 16,
    "start_time": "2025-02-10T10:20:00.901Z"
   },
   {
    "duration": 15,
    "start_time": "2025-02-10T10:23:40.541Z"
   },
   {
    "duration": 16,
    "start_time": "2025-02-10T10:23:48.028Z"
   },
   {
    "duration": 3,
    "start_time": "2025-02-10T10:24:01.209Z"
   },
   {
    "duration": 16,
    "start_time": "2025-02-10T10:24:06.125Z"
   },
   {
    "duration": 8,
    "start_time": "2025-02-10T10:24:23.963Z"
   },
   {
    "duration": 3,
    "start_time": "2025-02-10T10:25:06.346Z"
   },
   {
    "duration": 3,
    "start_time": "2025-02-10T10:25:53.058Z"
   },
   {
    "duration": 3,
    "start_time": "2025-02-10T10:26:01.858Z"
   },
   {
    "duration": 3,
    "start_time": "2025-02-10T10:26:10.914Z"
   },
   {
    "duration": 8,
    "start_time": "2025-02-10T10:26:38.709Z"
   },
   {
    "duration": 6,
    "start_time": "2025-02-10T12:03:45.043Z"
   },
   {
    "duration": 8,
    "start_time": "2025-02-10T12:04:05.051Z"
   },
   {
    "duration": 8,
    "start_time": "2025-02-10T12:05:18.004Z"
   },
   {
    "duration": 8,
    "start_time": "2025-02-10T12:05:47.671Z"
   },
   {
    "duration": 61,
    "start_time": "2025-02-10T14:44:25.879Z"
   },
   {
    "duration": 16,
    "start_time": "2025-02-10T14:44:54.745Z"
   },
   {
    "duration": 20,
    "start_time": "2025-02-10T14:45:03.087Z"
   },
   {
    "duration": 48,
    "start_time": "2025-02-10T17:34:02.857Z"
   },
   {
    "duration": 6,
    "start_time": "2025-02-10T17:34:57.289Z"
   },
   {
    "duration": 6,
    "start_time": "2025-02-10T17:35:41.124Z"
   },
   {
    "duration": 7,
    "start_time": "2025-02-10T17:35:50.388Z"
   },
   {
    "duration": 391,
    "start_time": "2025-02-10T17:36:01.795Z"
   },
   {
    "duration": 112,
    "start_time": "2025-02-10T17:36:02.188Z"
   },
   {
    "duration": 16,
    "start_time": "2025-02-10T17:36:02.302Z"
   },
   {
    "duration": 35,
    "start_time": "2025-02-10T17:36:02.321Z"
   },
   {
    "duration": 41,
    "start_time": "2025-02-10T17:36:02.359Z"
   },
   {
    "duration": 21,
    "start_time": "2025-02-10T17:36:02.402Z"
   },
   {
    "duration": 66,
    "start_time": "2025-02-10T17:36:02.425Z"
   },
   {
    "duration": 94,
    "start_time": "2025-02-10T17:36:02.492Z"
   },
   {
    "duration": 22,
    "start_time": "2025-02-10T17:36:02.587Z"
   },
   {
    "duration": 34,
    "start_time": "2025-02-10T17:36:02.611Z"
   },
   {
    "duration": 33,
    "start_time": "2025-02-10T17:36:02.646Z"
   },
   {
    "duration": 59,
    "start_time": "2025-02-10T17:36:02.681Z"
   },
   {
    "duration": 58,
    "start_time": "2025-02-10T17:36:02.742Z"
   },
   {
    "duration": 7,
    "start_time": "2025-02-10T17:36:02.802Z"
   },
   {
    "duration": 26,
    "start_time": "2025-02-10T17:36:02.811Z"
   },
   {
    "duration": 38,
    "start_time": "2025-02-10T17:36:02.838Z"
   },
   {
    "duration": 67,
    "start_time": "2025-02-10T17:36:02.877Z"
   },
   {
    "duration": 41,
    "start_time": "2025-02-10T17:36:02.946Z"
   },
   {
    "duration": 52,
    "start_time": "2025-02-10T17:36:02.988Z"
   },
   {
    "duration": 6,
    "start_time": "2025-02-10T17:36:03.041Z"
   },
   {
    "duration": 217,
    "start_time": "2025-02-10T17:36:03.048Z"
   },
   {
    "duration": 165,
    "start_time": "2025-02-10T17:36:03.266Z"
   },
   {
    "duration": 15,
    "start_time": "2025-02-10T17:36:03.433Z"
   },
   {
    "duration": 38,
    "start_time": "2025-02-10T17:36:03.449Z"
   },
   {
    "duration": 18,
    "start_time": "2025-02-10T17:36:03.489Z"
   },
   {
    "duration": 10,
    "start_time": "2025-02-10T17:36:03.509Z"
   },
   {
    "duration": 6,
    "start_time": "2025-02-10T17:36:03.521Z"
   },
   {
    "duration": 37,
    "start_time": "2025-02-10T17:36:03.530Z"
   },
   {
    "duration": 37,
    "start_time": "2025-02-10T17:36:03.569Z"
   },
   {
    "duration": 125,
    "start_time": "2025-02-10T17:36:03.607Z"
   },
   {
    "duration": 22,
    "start_time": "2025-02-10T17:36:03.735Z"
   },
   {
    "duration": 69,
    "start_time": "2025-02-10T17:36:03.759Z"
   },
   {
    "duration": 38,
    "start_time": "2025-02-10T17:36:03.830Z"
   },
   {
    "duration": 15,
    "start_time": "2025-02-10T17:36:03.870Z"
   },
   {
    "duration": 21,
    "start_time": "2025-02-10T17:36:03.886Z"
   },
   {
    "duration": 35,
    "start_time": "2025-02-10T17:36:03.909Z"
   },
   {
    "duration": 36,
    "start_time": "2025-02-10T17:36:03.947Z"
   },
   {
    "duration": 19,
    "start_time": "2025-02-10T17:36:03.985Z"
   },
   {
    "duration": 93,
    "start_time": "2025-02-10T17:36:04.005Z"
   },
   {
    "duration": 29,
    "start_time": "2025-02-10T17:36:04.099Z"
   },
   {
    "duration": 40,
    "start_time": "2025-02-10T17:36:04.130Z"
   },
   {
    "duration": 38,
    "start_time": "2025-02-10T17:36:04.171Z"
   },
   {
    "duration": 38,
    "start_time": "2025-02-10T17:36:04.210Z"
   },
   {
    "duration": 37,
    "start_time": "2025-02-10T17:36:04.249Z"
   },
   {
    "duration": 26,
    "start_time": "2025-02-10T17:36:04.288Z"
   },
   {
    "duration": 24,
    "start_time": "2025-02-10T17:36:04.315Z"
   },
   {
    "duration": 24,
    "start_time": "2025-02-10T17:36:04.341Z"
   },
   {
    "duration": 17,
    "start_time": "2025-02-10T17:36:04.366Z"
   },
   {
    "duration": 16,
    "start_time": "2025-02-10T17:36:04.384Z"
   },
   {
    "duration": 7,
    "start_time": "2025-02-10T17:36:04.401Z"
   },
   {
    "duration": 19,
    "start_time": "2025-02-10T17:36:04.409Z"
   },
   {
    "duration": 8,
    "start_time": "2025-02-10T17:36:10.898Z"
   },
   {
    "duration": 8,
    "start_time": "2025-02-10T17:36:11.933Z"
   },
   {
    "duration": 10,
    "start_time": "2025-02-10T17:36:40.776Z"
   },
   {
    "duration": 10,
    "start_time": "2025-02-10T17:37:35.810Z"
   },
   {
    "duration": 10,
    "start_time": "2025-02-10T17:37:40.191Z"
   },
   {
    "duration": 9,
    "start_time": "2025-02-10T17:38:03.235Z"
   },
   {
    "duration": 75,
    "start_time": "2025-02-10T17:38:56.208Z"
   },
   {
    "duration": 10,
    "start_time": "2025-02-10T17:39:47.181Z"
   },
   {
    "duration": 21,
    "start_time": "2025-02-10T17:40:08.342Z"
   },
   {
    "duration": 11,
    "start_time": "2025-02-10T17:56:21.310Z"
   },
   {
    "duration": 8,
    "start_time": "2025-02-10T17:57:01.091Z"
   },
   {
    "duration": 9,
    "start_time": "2025-02-10T17:57:07.253Z"
   },
   {
    "duration": 11,
    "start_time": "2025-02-10T19:15:35.942Z"
   },
   {
    "duration": 8,
    "start_time": "2025-02-10T19:15:38.117Z"
   },
   {
    "duration": 10,
    "start_time": "2025-02-10T19:16:09.579Z"
   },
   {
    "duration": 10,
    "start_time": "2025-02-10T19:16:41.340Z"
   },
   {
    "duration": 10,
    "start_time": "2025-02-10T19:17:16.321Z"
   },
   {
    "duration": 11,
    "start_time": "2025-02-10T19:17:25.994Z"
   },
   {
    "duration": 9,
    "start_time": "2025-02-10T19:19:24.650Z"
   },
   {
    "duration": 1103,
    "start_time": "2025-02-10T19:21:16.232Z"
   },
   {
    "duration": 981,
    "start_time": "2025-02-10T19:21:26.688Z"
   },
   {
    "duration": 63,
    "start_time": "2025-02-10T19:21:44.621Z"
   },
   {
    "duration": 1024,
    "start_time": "2025-02-10T19:21:57.295Z"
   },
   {
    "duration": 10,
    "start_time": "2025-02-10T19:22:11.580Z"
   },
   {
    "duration": 9,
    "start_time": "2025-02-10T19:23:09.610Z"
   },
   {
    "duration": 417,
    "start_time": "2025-02-10T19:52:18.066Z"
   },
   {
    "duration": 107,
    "start_time": "2025-02-10T19:52:18.485Z"
   },
   {
    "duration": 15,
    "start_time": "2025-02-10T19:52:18.593Z"
   },
   {
    "duration": 19,
    "start_time": "2025-02-10T19:52:18.609Z"
   },
   {
    "duration": 23,
    "start_time": "2025-02-10T19:52:18.630Z"
   },
   {
    "duration": 3,
    "start_time": "2025-02-10T19:52:18.655Z"
   },
   {
    "duration": 4,
    "start_time": "2025-02-10T19:52:18.659Z"
   },
   {
    "duration": 5,
    "start_time": "2025-02-10T19:52:18.664Z"
   },
   {
    "duration": 21,
    "start_time": "2025-02-10T19:52:18.670Z"
   },
   {
    "duration": 8,
    "start_time": "2025-02-10T19:52:18.692Z"
   },
   {
    "duration": 26,
    "start_time": "2025-02-10T19:52:18.701Z"
   },
   {
    "duration": 24,
    "start_time": "2025-02-10T19:52:18.729Z"
   },
   {
    "duration": 10,
    "start_time": "2025-02-10T19:52:18.755Z"
   },
   {
    "duration": 6,
    "start_time": "2025-02-10T19:52:18.767Z"
   },
   {
    "duration": 16,
    "start_time": "2025-02-10T19:52:18.775Z"
   },
   {
    "duration": 6,
    "start_time": "2025-02-10T19:52:18.793Z"
   },
   {
    "duration": 8,
    "start_time": "2025-02-10T19:52:18.800Z"
   },
   {
    "duration": 19,
    "start_time": "2025-02-10T19:52:18.810Z"
   },
   {
    "duration": 21,
    "start_time": "2025-02-10T19:52:18.830Z"
   },
   {
    "duration": 17,
    "start_time": "2025-02-10T19:52:18.853Z"
   },
   {
    "duration": 202,
    "start_time": "2025-02-10T19:52:18.872Z"
   },
   {
    "duration": 168,
    "start_time": "2025-02-10T19:52:19.076Z"
   },
   {
    "duration": 9,
    "start_time": "2025-02-10T19:52:19.245Z"
   },
   {
    "duration": 9,
    "start_time": "2025-02-10T19:52:19.256Z"
   },
   {
    "duration": 5,
    "start_time": "2025-02-10T19:52:19.267Z"
   },
   {
    "duration": 9,
    "start_time": "2025-02-10T19:52:19.274Z"
   },
   {
    "duration": 12,
    "start_time": "2025-02-10T19:52:19.285Z"
   },
   {
    "duration": 5,
    "start_time": "2025-02-10T19:52:19.299Z"
   },
   {
    "duration": 48,
    "start_time": "2025-02-10T19:52:19.306Z"
   },
   {
    "duration": 6,
    "start_time": "2025-02-10T19:52:19.356Z"
   },
   {
    "duration": 7,
    "start_time": "2025-02-10T19:52:19.364Z"
   },
   {
    "duration": 6,
    "start_time": "2025-02-10T19:52:19.372Z"
   },
   {
    "duration": 10,
    "start_time": "2025-02-10T19:52:19.380Z"
   },
   {
    "duration": 8,
    "start_time": "2025-02-10T19:52:19.391Z"
   },
   {
    "duration": 61,
    "start_time": "2025-02-10T19:52:19.401Z"
   },
   {
    "duration": 133,
    "start_time": "2025-02-10T19:52:19.464Z"
   },
   {
    "duration": 35,
    "start_time": "2025-02-10T19:52:19.598Z"
   },
   {
    "duration": 20,
    "start_time": "2025-02-10T19:52:19.635Z"
   },
   {
    "duration": 3,
    "start_time": "2025-02-10T19:52:19.656Z"
   },
   {
    "duration": 20,
    "start_time": "2025-02-10T19:52:19.661Z"
   },
   {
    "duration": 8,
    "start_time": "2025-02-10T19:52:19.685Z"
   },
   {
    "duration": 7,
    "start_time": "2025-02-10T19:52:19.694Z"
   },
   {
    "duration": 20,
    "start_time": "2025-02-10T19:52:19.703Z"
   },
   {
    "duration": 30,
    "start_time": "2025-02-10T19:52:19.725Z"
   },
   {
    "duration": 11,
    "start_time": "2025-02-10T19:52:19.757Z"
   },
   {
    "duration": 13,
    "start_time": "2025-02-10T19:52:19.769Z"
   },
   {
    "duration": 12,
    "start_time": "2025-02-10T19:52:19.784Z"
   },
   {
    "duration": 17,
    "start_time": "2025-02-10T19:52:19.797Z"
   },
   {
    "duration": 21,
    "start_time": "2025-02-10T19:52:19.815Z"
   },
   {
    "duration": 17,
    "start_time": "2025-02-10T19:52:19.837Z"
   },
   {
    "duration": 18,
    "start_time": "2025-02-10T19:52:19.855Z"
   },
   {
    "duration": 67,
    "start_time": "2025-02-10T20:06:06.183Z"
   },
   {
    "duration": 11,
    "start_time": "2025-02-10T20:06:19.693Z"
   },
   {
    "duration": 10,
    "start_time": "2025-02-10T20:06:28.680Z"
   },
   {
    "duration": 11,
    "start_time": "2025-02-10T20:06:45.477Z"
   },
   {
    "duration": 8,
    "start_time": "2025-02-10T20:07:58.608Z"
   },
   {
    "duration": 7,
    "start_time": "2025-02-10T20:08:10.934Z"
   },
   {
    "duration": 7,
    "start_time": "2025-02-10T20:08:38.335Z"
   },
   {
    "duration": 8,
    "start_time": "2025-02-10T20:08:47.956Z"
   },
   {
    "duration": 10,
    "start_time": "2025-02-10T20:08:54.858Z"
   },
   {
    "duration": 10,
    "start_time": "2025-02-10T20:09:11.550Z"
   },
   {
    "duration": 9,
    "start_time": "2025-02-10T20:09:49.069Z"
   },
   {
    "duration": 70,
    "start_time": "2025-02-11T04:51:25.209Z"
   },
   {
    "duration": 6,
    "start_time": "2025-02-11T04:51:48.835Z"
   },
   {
    "duration": 13,
    "start_time": "2025-02-11T04:51:57.951Z"
   },
   {
    "duration": 6,
    "start_time": "2025-02-11T04:53:00.176Z"
   },
   {
    "duration": 444,
    "start_time": "2025-02-11T04:53:09.333Z"
   },
   {
    "duration": 159,
    "start_time": "2025-02-11T04:53:09.779Z"
   },
   {
    "duration": 17,
    "start_time": "2025-02-11T04:53:09.939Z"
   },
   {
    "duration": 24,
    "start_time": "2025-02-11T04:53:09.958Z"
   },
   {
    "duration": 23,
    "start_time": "2025-02-11T04:53:09.983Z"
   },
   {
    "duration": 4,
    "start_time": "2025-02-11T04:53:10.007Z"
   },
   {
    "duration": 7,
    "start_time": "2025-02-11T04:53:10.013Z"
   },
   {
    "duration": 14,
    "start_time": "2025-02-11T04:53:10.021Z"
   },
   {
    "duration": 33,
    "start_time": "2025-02-11T04:53:10.037Z"
   },
   {
    "duration": 8,
    "start_time": "2025-02-11T04:53:10.074Z"
   },
   {
    "duration": 7,
    "start_time": "2025-02-11T04:53:10.084Z"
   },
   {
    "duration": 9,
    "start_time": "2025-02-11T04:53:10.093Z"
   },
   {
    "duration": 10,
    "start_time": "2025-02-11T04:53:10.103Z"
   },
   {
    "duration": 5,
    "start_time": "2025-02-11T04:53:10.114Z"
   },
   {
    "duration": 49,
    "start_time": "2025-02-11T04:53:10.121Z"
   },
   {
    "duration": 5,
    "start_time": "2025-02-11T04:53:10.172Z"
   },
   {
    "duration": 7,
    "start_time": "2025-02-11T04:53:10.178Z"
   },
   {
    "duration": 6,
    "start_time": "2025-02-11T04:53:10.187Z"
   },
   {
    "duration": 8,
    "start_time": "2025-02-11T04:53:10.194Z"
   },
   {
    "duration": 4,
    "start_time": "2025-02-11T04:53:10.203Z"
   },
   {
    "duration": 199,
    "start_time": "2025-02-11T04:53:10.209Z"
   },
   {
    "duration": 173,
    "start_time": "2025-02-11T04:53:10.410Z"
   },
   {
    "duration": 7,
    "start_time": "2025-02-11T04:53:10.585Z"
   },
   {
    "duration": 9,
    "start_time": "2025-02-11T04:53:10.594Z"
   },
   {
    "duration": 5,
    "start_time": "2025-02-11T04:53:10.604Z"
   },
   {
    "duration": 8,
    "start_time": "2025-02-11T04:53:10.610Z"
   },
   {
    "duration": 10,
    "start_time": "2025-02-11T04:53:10.619Z"
   },
   {
    "duration": 9,
    "start_time": "2025-02-11T04:53:10.665Z"
   },
   {
    "duration": 10,
    "start_time": "2025-02-11T04:53:10.675Z"
   },
   {
    "duration": 6,
    "start_time": "2025-02-11T04:53:10.686Z"
   },
   {
    "duration": 5,
    "start_time": "2025-02-11T04:53:10.693Z"
   },
   {
    "duration": 7,
    "start_time": "2025-02-11T04:53:10.699Z"
   },
   {
    "duration": 9,
    "start_time": "2025-02-11T04:53:10.707Z"
   },
   {
    "duration": 7,
    "start_time": "2025-02-11T04:53:10.717Z"
   },
   {
    "duration": 50,
    "start_time": "2025-02-11T04:53:10.725Z"
   },
   {
    "duration": 32,
    "start_time": "2025-02-11T04:53:10.776Z"
   },
   {
    "duration": 57,
    "start_time": "2025-02-11T04:53:10.810Z"
   },
   {
    "duration": 19,
    "start_time": "2025-02-11T04:53:10.869Z"
   },
   {
    "duration": 2,
    "start_time": "2025-02-11T04:53:10.889Z"
   },
   {
    "duration": 4,
    "start_time": "2025-02-11T04:53:10.893Z"
   },
   {
    "duration": 5,
    "start_time": "2025-02-11T04:53:10.898Z"
   },
   {
    "duration": 8,
    "start_time": "2025-02-11T04:53:10.905Z"
   },
   {
    "duration": 18,
    "start_time": "2025-02-11T04:53:10.914Z"
   },
   {
    "duration": 47,
    "start_time": "2025-02-11T04:53:10.933Z"
   },
   {
    "duration": 8,
    "start_time": "2025-02-11T04:53:10.982Z"
   },
   {
    "duration": 15,
    "start_time": "2025-02-11T04:53:10.991Z"
   },
   {
    "duration": 8,
    "start_time": "2025-02-11T04:53:11.007Z"
   },
   {
    "duration": 23,
    "start_time": "2025-02-11T04:53:11.016Z"
   },
   {
    "duration": 32,
    "start_time": "2025-02-11T04:53:11.041Z"
   },
   {
    "duration": 9,
    "start_time": "2025-02-11T04:53:11.075Z"
   },
   {
    "duration": 10,
    "start_time": "2025-02-11T04:53:11.086Z"
   },
   {
    "duration": 11,
    "start_time": "2025-02-11T04:54:37.620Z"
   },
   {
    "duration": 374,
    "start_time": "2025-02-11T05:01:06.100Z"
   },
   {
    "duration": 109,
    "start_time": "2025-02-11T05:01:06.476Z"
   },
   {
    "duration": 16,
    "start_time": "2025-02-11T05:01:06.587Z"
   },
   {
    "duration": 34,
    "start_time": "2025-02-11T05:01:06.605Z"
   },
   {
    "duration": 45,
    "start_time": "2025-02-11T05:01:06.640Z"
   },
   {
    "duration": 3,
    "start_time": "2025-02-11T05:01:06.687Z"
   },
   {
    "duration": 28,
    "start_time": "2025-02-11T05:01:06.692Z"
   },
   {
    "duration": 21,
    "start_time": "2025-02-11T05:01:06.722Z"
   },
   {
    "duration": 33,
    "start_time": "2025-02-11T05:01:06.744Z"
   },
   {
    "duration": 29,
    "start_time": "2025-02-11T05:01:06.782Z"
   },
   {
    "duration": 43,
    "start_time": "2025-02-11T05:01:06.813Z"
   },
   {
    "duration": 34,
    "start_time": "2025-02-11T05:01:06.858Z"
   },
   {
    "duration": 19,
    "start_time": "2025-02-11T05:01:06.894Z"
   },
   {
    "duration": 17,
    "start_time": "2025-02-11T05:01:06.915Z"
   },
   {
    "duration": 16,
    "start_time": "2025-02-11T05:01:06.934Z"
   },
   {
    "duration": 56,
    "start_time": "2025-02-11T05:01:06.952Z"
   },
   {
    "duration": 11,
    "start_time": "2025-02-11T05:01:07.010Z"
   },
   {
    "duration": 8,
    "start_time": "2025-02-11T05:01:07.023Z"
   },
   {
    "duration": 20,
    "start_time": "2025-02-11T05:01:07.033Z"
   },
   {
    "duration": 8,
    "start_time": "2025-02-11T05:01:07.054Z"
   },
   {
    "duration": 180,
    "start_time": "2025-02-11T05:01:07.063Z"
   },
   {
    "duration": 173,
    "start_time": "2025-02-11T05:01:07.245Z"
   },
   {
    "duration": 8,
    "start_time": "2025-02-11T05:01:07.419Z"
   },
   {
    "duration": 18,
    "start_time": "2025-02-11T05:01:07.428Z"
   },
   {
    "duration": 25,
    "start_time": "2025-02-11T05:01:07.448Z"
   },
   {
    "duration": 15,
    "start_time": "2025-02-11T05:01:07.475Z"
   },
   {
    "duration": 7,
    "start_time": "2025-02-11T05:01:07.492Z"
   },
   {
    "duration": 10,
    "start_time": "2025-02-11T05:01:07.502Z"
   },
   {
    "duration": 27,
    "start_time": "2025-02-11T05:01:07.513Z"
   },
   {
    "duration": 8,
    "start_time": "2025-02-11T05:01:07.541Z"
   },
   {
    "duration": 28,
    "start_time": "2025-02-11T05:01:07.550Z"
   },
   {
    "duration": 12,
    "start_time": "2025-02-11T05:01:07.579Z"
   },
   {
    "duration": 10,
    "start_time": "2025-02-11T05:01:07.593Z"
   },
   {
    "duration": 14,
    "start_time": "2025-02-11T05:01:07.604Z"
   },
   {
    "duration": 16,
    "start_time": "2025-02-11T05:01:07.620Z"
   },
   {
    "duration": 33,
    "start_time": "2025-02-11T05:01:07.638Z"
   },
   {
    "duration": 36,
    "start_time": "2025-02-11T05:01:07.673Z"
   },
   {
    "duration": 18,
    "start_time": "2025-02-11T05:01:07.711Z"
   },
   {
    "duration": 2,
    "start_time": "2025-02-11T05:01:07.731Z"
   },
   {
    "duration": 5,
    "start_time": "2025-02-11T05:01:07.758Z"
   },
   {
    "duration": 6,
    "start_time": "2025-02-11T05:01:07.765Z"
   },
   {
    "duration": 8,
    "start_time": "2025-02-11T05:01:07.773Z"
   },
   {
    "duration": 16,
    "start_time": "2025-02-11T05:01:07.783Z"
   },
   {
    "duration": 15,
    "start_time": "2025-02-11T05:01:07.801Z"
   },
   {
    "duration": 45,
    "start_time": "2025-02-11T05:01:07.817Z"
   },
   {
    "duration": 15,
    "start_time": "2025-02-11T05:01:07.863Z"
   },
   {
    "duration": 9,
    "start_time": "2025-02-11T05:01:07.880Z"
   },
   {
    "duration": 26,
    "start_time": "2025-02-11T05:01:07.891Z"
   },
   {
    "duration": 19,
    "start_time": "2025-02-11T05:01:07.919Z"
   },
   {
    "duration": 19,
    "start_time": "2025-02-11T05:01:07.940Z"
   },
   {
    "duration": 10,
    "start_time": "2025-02-11T05:01:07.960Z"
   },
   {
    "duration": 445,
    "start_time": "2025-02-11T11:55:44.195Z"
   },
   {
    "duration": 107,
    "start_time": "2025-02-11T11:55:44.642Z"
   },
   {
    "duration": 18,
    "start_time": "2025-02-11T11:55:44.750Z"
   },
   {
    "duration": 19,
    "start_time": "2025-02-11T11:55:44.770Z"
   },
   {
    "duration": 38,
    "start_time": "2025-02-11T11:55:44.791Z"
   },
   {
    "duration": 4,
    "start_time": "2025-02-11T11:55:44.831Z"
   },
   {
    "duration": 10,
    "start_time": "2025-02-11T11:55:44.836Z"
   },
   {
    "duration": 6,
    "start_time": "2025-02-11T11:55:44.848Z"
   },
   {
    "duration": 14,
    "start_time": "2025-02-11T11:55:44.856Z"
   },
   {
    "duration": 35,
    "start_time": "2025-02-11T11:55:44.874Z"
   },
   {
    "duration": 12,
    "start_time": "2025-02-11T11:55:44.911Z"
   },
   {
    "duration": 13,
    "start_time": "2025-02-11T11:55:44.925Z"
   },
   {
    "duration": 16,
    "start_time": "2025-02-11T11:55:44.941Z"
   },
   {
    "duration": 7,
    "start_time": "2025-02-11T11:55:44.959Z"
   },
   {
    "duration": 25,
    "start_time": "2025-02-11T11:55:44.968Z"
   },
   {
    "duration": 6,
    "start_time": "2025-02-11T11:55:45.010Z"
   },
   {
    "duration": 70,
    "start_time": "2025-02-11T11:55:45.017Z"
   },
   {
    "duration": 58,
    "start_time": "2025-02-11T11:55:45.089Z"
   },
   {
    "duration": 39,
    "start_time": "2025-02-11T11:55:45.149Z"
   },
   {
    "duration": 16,
    "start_time": "2025-02-11T11:55:45.189Z"
   },
   {
    "duration": 200,
    "start_time": "2025-02-11T11:55:45.207Z"
   },
   {
    "duration": 193,
    "start_time": "2025-02-11T11:55:45.409Z"
   },
   {
    "duration": 11,
    "start_time": "2025-02-11T11:55:45.604Z"
   },
   {
    "duration": 15,
    "start_time": "2025-02-11T11:55:45.617Z"
   },
   {
    "duration": 88,
    "start_time": "2025-02-11T11:55:45.634Z"
   },
   {
    "duration": 12,
    "start_time": "2025-02-11T11:55:45.724Z"
   },
   {
    "duration": 11,
    "start_time": "2025-02-11T11:55:45.737Z"
   },
   {
    "duration": 5,
    "start_time": "2025-02-11T11:55:45.752Z"
   },
   {
    "duration": 18,
    "start_time": "2025-02-11T11:55:45.759Z"
   },
   {
    "duration": 6,
    "start_time": "2025-02-11T11:55:45.778Z"
   },
   {
    "duration": 6,
    "start_time": "2025-02-11T11:55:45.785Z"
   },
   {
    "duration": 18,
    "start_time": "2025-02-11T11:55:45.792Z"
   },
   {
    "duration": 11,
    "start_time": "2025-02-11T11:55:45.812Z"
   },
   {
    "duration": 10,
    "start_time": "2025-02-11T11:55:45.824Z"
   },
   {
    "duration": 76,
    "start_time": "2025-02-11T11:55:45.836Z"
   },
   {
    "duration": 33,
    "start_time": "2025-02-11T11:55:45.915Z"
   },
   {
    "duration": 35,
    "start_time": "2025-02-11T11:55:45.950Z"
   },
   {
    "duration": 34,
    "start_time": "2025-02-11T11:55:45.986Z"
   },
   {
    "duration": 3,
    "start_time": "2025-02-11T11:55:46.022Z"
   },
   {
    "duration": 5,
    "start_time": "2025-02-11T11:55:46.027Z"
   },
   {
    "duration": 6,
    "start_time": "2025-02-11T11:55:46.034Z"
   },
   {
    "duration": 5,
    "start_time": "2025-02-11T11:55:46.041Z"
   },
   {
    "duration": 19,
    "start_time": "2025-02-11T11:55:46.048Z"
   },
   {
    "duration": 47,
    "start_time": "2025-02-11T11:55:46.069Z"
   },
   {
    "duration": 8,
    "start_time": "2025-02-11T11:55:46.117Z"
   },
   {
    "duration": 18,
    "start_time": "2025-02-11T11:55:46.127Z"
   },
   {
    "duration": 8,
    "start_time": "2025-02-11T11:55:46.146Z"
   },
   {
    "duration": 18,
    "start_time": "2025-02-11T11:55:46.155Z"
   },
   {
    "duration": 40,
    "start_time": "2025-02-11T11:55:46.175Z"
   },
   {
    "duration": 64,
    "start_time": "2025-02-11T11:55:46.217Z"
   },
   {
    "duration": 13,
    "start_time": "2025-02-11T11:55:46.283Z"
   },
   {
    "duration": 6,
    "start_time": "2025-02-11T12:23:24.198Z"
   },
   {
    "duration": 328,
    "start_time": "2025-02-11T12:26:02.836Z"
   },
   {
    "duration": 414,
    "start_time": "2025-02-11T12:26:12.250Z"
   },
   {
    "duration": 490,
    "start_time": "2025-02-11T12:26:12.666Z"
   },
   {
    "duration": 19,
    "start_time": "2025-02-11T12:26:13.158Z"
   },
   {
    "duration": 27,
    "start_time": "2025-02-11T12:26:13.178Z"
   },
   {
    "duration": 24,
    "start_time": "2025-02-11T12:26:13.208Z"
   },
   {
    "duration": 4,
    "start_time": "2025-02-11T12:26:13.234Z"
   },
   {
    "duration": 3,
    "start_time": "2025-02-11T12:26:13.240Z"
   },
   {
    "duration": 8,
    "start_time": "2025-02-11T12:26:13.244Z"
   },
   {
    "duration": 10,
    "start_time": "2025-02-11T12:26:13.254Z"
   },
   {
    "duration": 19,
    "start_time": "2025-02-11T12:26:13.265Z"
   },
   {
    "duration": 33,
    "start_time": "2025-02-11T12:26:13.285Z"
   },
   {
    "duration": 12,
    "start_time": "2025-02-11T12:26:13.320Z"
   },
   {
    "duration": 15,
    "start_time": "2025-02-11T12:26:13.334Z"
   },
   {
    "duration": 17,
    "start_time": "2025-02-11T12:26:13.353Z"
   },
   {
    "duration": 346,
    "start_time": "2025-02-11T12:26:13.372Z"
   },
   {
    "duration": 6,
    "start_time": "2025-02-11T12:26:13.720Z"
   },
   {
    "duration": 9,
    "start_time": "2025-02-11T12:26:13.728Z"
   },
   {
    "duration": 43,
    "start_time": "2025-02-11T12:26:13.739Z"
   },
   {
    "duration": 28,
    "start_time": "2025-02-11T12:26:13.784Z"
   },
   {
    "duration": 17,
    "start_time": "2025-02-11T12:26:13.814Z"
   },
   {
    "duration": 20,
    "start_time": "2025-02-11T12:26:13.833Z"
   },
   {
    "duration": 5,
    "start_time": "2025-02-11T12:26:13.855Z"
   },
   {
    "duration": 176,
    "start_time": "2025-02-11T12:26:13.862Z"
   },
   {
    "duration": 179,
    "start_time": "2025-02-11T12:26:14.040Z"
   },
   {
    "duration": 10,
    "start_time": "2025-02-11T12:26:14.221Z"
   },
   {
    "duration": 11,
    "start_time": "2025-02-11T12:26:14.233Z"
   },
   {
    "duration": 7,
    "start_time": "2025-02-11T12:26:14.246Z"
   },
   {
    "duration": 13,
    "start_time": "2025-02-11T12:26:14.257Z"
   },
   {
    "duration": 10,
    "start_time": "2025-02-11T12:26:14.271Z"
   },
   {
    "duration": 33,
    "start_time": "2025-02-11T12:26:14.282Z"
   },
   {
    "duration": 12,
    "start_time": "2025-02-11T12:26:14.317Z"
   },
   {
    "duration": 6,
    "start_time": "2025-02-11T12:26:14.331Z"
   },
   {
    "duration": 13,
    "start_time": "2025-02-11T12:26:14.339Z"
   },
   {
    "duration": 14,
    "start_time": "2025-02-11T12:26:14.354Z"
   },
   {
    "duration": 39,
    "start_time": "2025-02-11T12:26:14.370Z"
   },
   {
    "duration": 7,
    "start_time": "2025-02-11T12:26:14.412Z"
   },
   {
    "duration": 21,
    "start_time": "2025-02-11T12:26:14.421Z"
   },
   {
    "duration": 35,
    "start_time": "2025-02-11T12:26:14.444Z"
   },
   {
    "duration": 65,
    "start_time": "2025-02-11T12:26:14.481Z"
   },
   {
    "duration": 21,
    "start_time": "2025-02-11T12:26:14.548Z"
   },
   {
    "duration": 3,
    "start_time": "2025-02-11T12:26:14.574Z"
   },
   {
    "duration": 33,
    "start_time": "2025-02-11T12:26:14.578Z"
   },
   {
    "duration": 4,
    "start_time": "2025-02-11T12:26:14.612Z"
   },
   {
    "duration": 8,
    "start_time": "2025-02-11T12:26:14.617Z"
   },
   {
    "duration": 18,
    "start_time": "2025-02-11T12:26:14.627Z"
   },
   {
    "duration": 17,
    "start_time": "2025-02-11T12:26:14.646Z"
   },
   {
    "duration": 47,
    "start_time": "2025-02-11T12:26:14.664Z"
   },
   {
    "duration": 16,
    "start_time": "2025-02-11T12:26:14.713Z"
   },
   {
    "duration": 10,
    "start_time": "2025-02-11T12:26:14.731Z"
   },
   {
    "duration": 20,
    "start_time": "2025-02-11T12:26:14.743Z"
   },
   {
    "duration": 9,
    "start_time": "2025-02-11T12:26:14.765Z"
   },
   {
    "duration": 37,
    "start_time": "2025-02-11T12:26:14.776Z"
   },
   {
    "duration": 10,
    "start_time": "2025-02-11T12:26:14.815Z"
   },
   {
    "duration": 4,
    "start_time": "2025-02-11T13:22:47.961Z"
   },
   {
    "duration": 7,
    "start_time": "2025-02-11T13:25:05.192Z"
   },
   {
    "duration": 19,
    "start_time": "2025-02-11T13:34:05.985Z"
   },
   {
    "duration": 53,
    "start_time": "2025-02-11T14:12:24.829Z"
   },
   {
    "duration": 486,
    "start_time": "2025-02-11T14:12:40.171Z"
   },
   {
    "duration": 118,
    "start_time": "2025-02-11T14:12:40.659Z"
   },
   {
    "duration": 18,
    "start_time": "2025-02-11T14:12:40.779Z"
   },
   {
    "duration": 22,
    "start_time": "2025-02-11T14:12:40.800Z"
   },
   {
    "duration": 25,
    "start_time": "2025-02-11T14:12:40.824Z"
   },
   {
    "duration": 4,
    "start_time": "2025-02-11T14:12:40.850Z"
   },
   {
    "duration": 12,
    "start_time": "2025-02-11T14:12:40.856Z"
   },
   {
    "duration": 5,
    "start_time": "2025-02-11T14:12:40.870Z"
   },
   {
    "duration": 25,
    "start_time": "2025-02-11T14:12:40.877Z"
   },
   {
    "duration": 9,
    "start_time": "2025-02-11T14:12:40.906Z"
   },
   {
    "duration": 16,
    "start_time": "2025-02-11T14:12:40.917Z"
   },
   {
    "duration": 17,
    "start_time": "2025-02-11T14:12:40.935Z"
   },
   {
    "duration": 12,
    "start_time": "2025-02-11T14:12:40.954Z"
   },
   {
    "duration": 33,
    "start_time": "2025-02-11T14:12:40.967Z"
   },
   {
    "duration": 515,
    "start_time": "2025-02-11T14:12:41.002Z"
   },
   {
    "duration": 8,
    "start_time": "2025-02-11T14:12:41.519Z"
   },
   {
    "duration": 20,
    "start_time": "2025-02-11T14:12:41.528Z"
   },
   {
    "duration": 31,
    "start_time": "2025-02-11T14:12:41.550Z"
   },
   {
    "duration": 11,
    "start_time": "2025-02-11T14:12:41.583Z"
   },
   {
    "duration": 14,
    "start_time": "2025-02-11T14:12:41.596Z"
   },
   {
    "duration": 11,
    "start_time": "2025-02-11T14:12:41.612Z"
   },
   {
    "duration": 5,
    "start_time": "2025-02-11T14:12:41.625Z"
   },
   {
    "duration": 222,
    "start_time": "2025-02-11T14:12:41.631Z"
   },
   {
    "duration": 203,
    "start_time": "2025-02-11T14:12:41.855Z"
   },
   {
    "duration": 9,
    "start_time": "2025-02-11T14:12:42.060Z"
   },
   {
    "duration": 45,
    "start_time": "2025-02-11T14:12:42.070Z"
   },
   {
    "duration": 6,
    "start_time": "2025-02-11T14:12:42.117Z"
   },
   {
    "duration": 15,
    "start_time": "2025-02-11T14:12:42.127Z"
   },
   {
    "duration": 7,
    "start_time": "2025-02-11T14:12:42.143Z"
   },
   {
    "duration": 25,
    "start_time": "2025-02-11T14:12:42.152Z"
   },
   {
    "duration": 21,
    "start_time": "2025-02-11T14:12:42.179Z"
   },
   {
    "duration": 14,
    "start_time": "2025-02-11T14:12:42.202Z"
   },
   {
    "duration": 23,
    "start_time": "2025-02-11T14:12:42.218Z"
   },
   {
    "duration": 19,
    "start_time": "2025-02-11T14:12:42.244Z"
   },
   {
    "duration": 21,
    "start_time": "2025-02-11T14:12:42.265Z"
   },
   {
    "duration": 35,
    "start_time": "2025-02-11T14:12:42.288Z"
   },
   {
    "duration": 44,
    "start_time": "2025-02-11T14:12:42.325Z"
   },
   {
    "duration": 36,
    "start_time": "2025-02-11T14:12:42.370Z"
   },
   {
    "duration": 40,
    "start_time": "2025-02-11T14:12:42.408Z"
   },
   {
    "duration": 21,
    "start_time": "2025-02-11T14:12:42.450Z"
   },
   {
    "duration": 3,
    "start_time": "2025-02-11T14:12:42.472Z"
   },
   {
    "duration": 26,
    "start_time": "2025-02-11T14:12:42.476Z"
   },
   {
    "duration": 12,
    "start_time": "2025-02-11T14:12:42.504Z"
   },
   {
    "duration": 38,
    "start_time": "2025-02-11T14:12:42.517Z"
   },
   {
    "duration": 29,
    "start_time": "2025-02-11T14:12:42.556Z"
   },
   {
    "duration": 25,
    "start_time": "2025-02-11T14:12:42.587Z"
   },
   {
    "duration": 22,
    "start_time": "2025-02-11T14:12:42.614Z"
   },
   {
    "duration": 7,
    "start_time": "2025-02-11T14:12:42.638Z"
   },
   {
    "duration": 15,
    "start_time": "2025-02-11T14:12:42.647Z"
   },
   {
    "duration": 40,
    "start_time": "2025-02-11T14:12:42.664Z"
   },
   {
    "duration": 22,
    "start_time": "2025-02-11T14:12:42.706Z"
   },
   {
    "duration": 23,
    "start_time": "2025-02-11T14:12:42.730Z"
   },
   {
    "duration": 16,
    "start_time": "2025-02-11T14:12:42.755Z"
   },
   {
    "duration": 33,
    "start_time": "2025-02-11T14:12:42.773Z"
   },
   {
    "duration": 22,
    "start_time": "2025-02-11T14:12:42.808Z"
   },
   {
    "duration": 11,
    "start_time": "2025-02-11T14:12:42.832Z"
   },
   {
    "duration": 5,
    "start_time": "2025-02-11T14:18:39.599Z"
   },
   {
    "duration": 81,
    "start_time": "2025-02-11T14:19:08.423Z"
   },
   {
    "duration": 8,
    "start_time": "2025-02-11T14:19:18.117Z"
   },
   {
    "duration": 464,
    "start_time": "2025-02-11T14:20:03.393Z"
   },
   {
    "duration": 147,
    "start_time": "2025-02-11T14:20:03.859Z"
   },
   {
    "duration": 21,
    "start_time": "2025-02-11T14:20:04.008Z"
   },
   {
    "duration": 44,
    "start_time": "2025-02-11T14:20:04.032Z"
   },
   {
    "duration": 31,
    "start_time": "2025-02-11T14:20:04.078Z"
   },
   {
    "duration": 4,
    "start_time": "2025-02-11T14:20:04.111Z"
   },
   {
    "duration": 19,
    "start_time": "2025-02-11T14:20:04.117Z"
   },
   {
    "duration": 23,
    "start_time": "2025-02-11T14:20:04.138Z"
   },
   {
    "duration": 11,
    "start_time": "2025-02-11T14:20:04.163Z"
   },
   {
    "duration": 93,
    "start_time": "2025-02-11T14:20:04.178Z"
   },
   {
    "duration": 0,
    "start_time": "2025-02-11T14:20:04.273Z"
   },
   {
    "duration": 0,
    "start_time": "2025-02-11T14:20:04.275Z"
   },
   {
    "duration": 0,
    "start_time": "2025-02-11T14:20:04.276Z"
   },
   {
    "duration": 0,
    "start_time": "2025-02-11T14:20:04.277Z"
   },
   {
    "duration": 0,
    "start_time": "2025-02-11T14:20:04.279Z"
   },
   {
    "duration": 0,
    "start_time": "2025-02-11T14:20:04.280Z"
   },
   {
    "duration": 0,
    "start_time": "2025-02-11T14:20:04.281Z"
   },
   {
    "duration": 0,
    "start_time": "2025-02-11T14:20:04.282Z"
   },
   {
    "duration": 0,
    "start_time": "2025-02-11T14:20:04.283Z"
   },
   {
    "duration": 0,
    "start_time": "2025-02-11T14:20:04.284Z"
   },
   {
    "duration": 0,
    "start_time": "2025-02-11T14:20:04.285Z"
   },
   {
    "duration": 0,
    "start_time": "2025-02-11T14:20:04.286Z"
   },
   {
    "duration": 0,
    "start_time": "2025-02-11T14:20:04.300Z"
   },
   {
    "duration": 0,
    "start_time": "2025-02-11T14:20:04.301Z"
   },
   {
    "duration": 0,
    "start_time": "2025-02-11T14:20:04.302Z"
   },
   {
    "duration": 0,
    "start_time": "2025-02-11T14:20:04.304Z"
   },
   {
    "duration": 0,
    "start_time": "2025-02-11T14:20:04.305Z"
   },
   {
    "duration": 0,
    "start_time": "2025-02-11T14:20:04.306Z"
   },
   {
    "duration": 0,
    "start_time": "2025-02-11T14:20:04.307Z"
   },
   {
    "duration": 0,
    "start_time": "2025-02-11T14:20:04.309Z"
   },
   {
    "duration": 0,
    "start_time": "2025-02-11T14:20:04.310Z"
   },
   {
    "duration": 0,
    "start_time": "2025-02-11T14:20:04.311Z"
   },
   {
    "duration": 0,
    "start_time": "2025-02-11T14:20:04.312Z"
   },
   {
    "duration": 0,
    "start_time": "2025-02-11T14:20:04.313Z"
   },
   {
    "duration": 0,
    "start_time": "2025-02-11T14:20:04.314Z"
   },
   {
    "duration": 0,
    "start_time": "2025-02-11T14:20:04.315Z"
   },
   {
    "duration": 0,
    "start_time": "2025-02-11T14:20:04.316Z"
   },
   {
    "duration": 0,
    "start_time": "2025-02-11T14:20:04.318Z"
   },
   {
    "duration": 0,
    "start_time": "2025-02-11T14:20:04.319Z"
   },
   {
    "duration": 0,
    "start_time": "2025-02-11T14:20:04.320Z"
   },
   {
    "duration": 0,
    "start_time": "2025-02-11T14:20:04.321Z"
   },
   {
    "duration": 0,
    "start_time": "2025-02-11T14:20:04.322Z"
   },
   {
    "duration": 0,
    "start_time": "2025-02-11T14:20:04.323Z"
   },
   {
    "duration": 0,
    "start_time": "2025-02-11T14:20:04.325Z"
   },
   {
    "duration": 0,
    "start_time": "2025-02-11T14:20:04.326Z"
   },
   {
    "duration": 0,
    "start_time": "2025-02-11T14:20:04.327Z"
   },
   {
    "duration": 0,
    "start_time": "2025-02-11T14:20:04.328Z"
   },
   {
    "duration": 0,
    "start_time": "2025-02-11T14:20:04.329Z"
   },
   {
    "duration": 0,
    "start_time": "2025-02-11T14:20:04.330Z"
   },
   {
    "duration": 0,
    "start_time": "2025-02-11T14:20:04.331Z"
   },
   {
    "duration": 0,
    "start_time": "2025-02-11T14:20:04.332Z"
   },
   {
    "duration": 0,
    "start_time": "2025-02-11T14:20:04.333Z"
   },
   {
    "duration": 0,
    "start_time": "2025-02-11T14:20:04.334Z"
   },
   {
    "duration": 0,
    "start_time": "2025-02-11T14:20:04.335Z"
   },
   {
    "duration": 0,
    "start_time": "2025-02-11T14:20:04.337Z"
   },
   {
    "duration": 0,
    "start_time": "2025-02-11T14:20:04.337Z"
   },
   {
    "duration": 0,
    "start_time": "2025-02-11T14:20:04.400Z"
   },
   {
    "duration": 5,
    "start_time": "2025-02-11T14:20:41.398Z"
   },
   {
    "duration": 6,
    "start_time": "2025-02-11T15:17:49.598Z"
   },
   {
    "duration": 5,
    "start_time": "2025-02-11T15:26:32.855Z"
   },
   {
    "duration": 8,
    "start_time": "2025-02-11T15:29:55.387Z"
   },
   {
    "duration": 10,
    "start_time": "2025-02-11T15:29:57.609Z"
   },
   {
    "duration": 12,
    "start_time": "2025-02-11T15:30:01.114Z"
   },
   {
    "duration": 13,
    "start_time": "2025-02-11T15:30:02.340Z"
   },
   {
    "duration": 348,
    "start_time": "2025-02-11T15:30:04.424Z"
   },
   {
    "duration": 6,
    "start_time": "2025-02-11T15:33:09.041Z"
   },
   {
    "duration": 9,
    "start_time": "2025-02-11T15:33:10.015Z"
   },
   {
    "duration": 6,
    "start_time": "2025-02-11T15:33:11.684Z"
   },
   {
    "duration": 8,
    "start_time": "2025-02-11T15:33:20.503Z"
   },
   {
    "duration": 6,
    "start_time": "2025-02-11T15:38:38.841Z"
   },
   {
    "duration": 8,
    "start_time": "2025-02-11T15:39:42.373Z"
   },
   {
    "duration": 5,
    "start_time": "2025-02-11T15:40:22.358Z"
   },
   {
    "duration": 5,
    "start_time": "2025-02-11T15:40:44.347Z"
   },
   {
    "duration": 6,
    "start_time": "2025-02-11T15:40:58.252Z"
   },
   {
    "duration": 9,
    "start_time": "2025-02-11T15:40:59.293Z"
   },
   {
    "duration": 4,
    "start_time": "2025-02-11T15:41:02.298Z"
   },
   {
    "duration": 5,
    "start_time": "2025-02-11T15:44:26.448Z"
   },
   {
    "duration": 5,
    "start_time": "2025-02-11T15:49:15.610Z"
   },
   {
    "duration": 4,
    "start_time": "2025-02-11T15:51:10.080Z"
   },
   {
    "duration": 5,
    "start_time": "2025-02-11T15:51:17.632Z"
   },
   {
    "duration": 5,
    "start_time": "2025-02-11T15:54:55.468Z"
   },
   {
    "duration": 459,
    "start_time": "2025-02-11T17:59:59.076Z"
   },
   {
    "duration": 115,
    "start_time": "2025-02-11T17:59:59.537Z"
   },
   {
    "duration": 20,
    "start_time": "2025-02-11T17:59:59.654Z"
   },
   {
    "duration": 24,
    "start_time": "2025-02-11T17:59:59.677Z"
   },
   {
    "duration": 25,
    "start_time": "2025-02-11T17:59:59.703Z"
   },
   {
    "duration": 5,
    "start_time": "2025-02-11T17:59:59.731Z"
   },
   {
    "duration": 22,
    "start_time": "2025-02-11T17:59:59.738Z"
   },
   {
    "duration": 5,
    "start_time": "2025-02-11T17:59:59.762Z"
   },
   {
    "duration": 9,
    "start_time": "2025-02-11T17:59:59.769Z"
   },
   {
    "duration": 6,
    "start_time": "2025-02-11T17:59:59.799Z"
   },
   {
    "duration": 11,
    "start_time": "2025-02-11T17:59:59.807Z"
   },
   {
    "duration": 17,
    "start_time": "2025-02-11T17:59:59.819Z"
   },
   {
    "duration": 28,
    "start_time": "2025-02-11T17:59:59.838Z"
   },
   {
    "duration": 7,
    "start_time": "2025-02-11T17:59:59.868Z"
   },
   {
    "duration": 9,
    "start_time": "2025-02-11T17:59:59.876Z"
   },
   {
    "duration": 14,
    "start_time": "2025-02-11T17:59:59.887Z"
   },
   {
    "duration": 30,
    "start_time": "2025-02-11T17:59:59.903Z"
   },
   {
    "duration": 548,
    "start_time": "2025-02-11T17:59:59.935Z"
   },
   {
    "duration": 17,
    "start_time": "2025-02-11T18:00:00.485Z"
   },
   {
    "duration": 140,
    "start_time": "2025-02-11T18:00:00.504Z"
   },
   {
    "duration": 52,
    "start_time": "2025-02-11T18:00:00.646Z"
   },
   {
    "duration": 43,
    "start_time": "2025-02-11T18:00:00.700Z"
   },
   {
    "duration": 95,
    "start_time": "2025-02-11T18:00:00.745Z"
   },
   {
    "duration": 28,
    "start_time": "2025-02-11T18:00:00.842Z"
   },
   {
    "duration": 12,
    "start_time": "2025-02-11T18:00:00.872Z"
   },
   {
    "duration": 11,
    "start_time": "2025-02-11T18:00:00.885Z"
   },
   {
    "duration": 7,
    "start_time": "2025-02-11T18:00:00.898Z"
   },
   {
    "duration": 25,
    "start_time": "2025-02-11T18:00:00.909Z"
   },
   {
    "duration": 226,
    "start_time": "2025-02-11T18:00:00.935Z"
   },
   {
    "duration": 198,
    "start_time": "2025-02-11T18:00:01.164Z"
   },
   {
    "duration": 11,
    "start_time": "2025-02-11T18:00:01.364Z"
   },
   {
    "duration": 30,
    "start_time": "2025-02-11T18:00:01.378Z"
   },
   {
    "duration": 10,
    "start_time": "2025-02-11T18:00:01.410Z"
   },
   {
    "duration": 10,
    "start_time": "2025-02-11T18:00:01.422Z"
   },
   {
    "duration": 22,
    "start_time": "2025-02-11T18:00:01.434Z"
   },
   {
    "duration": 17,
    "start_time": "2025-02-11T18:00:01.458Z"
   },
   {
    "duration": 27,
    "start_time": "2025-02-11T18:00:01.476Z"
   },
   {
    "duration": 14,
    "start_time": "2025-02-11T18:00:01.505Z"
   },
   {
    "duration": 23,
    "start_time": "2025-02-11T18:00:01.520Z"
   },
   {
    "duration": 28,
    "start_time": "2025-02-11T18:00:01.545Z"
   },
   {
    "duration": 13,
    "start_time": "2025-02-11T18:00:01.575Z"
   },
   {
    "duration": 72,
    "start_time": "2025-02-11T18:00:01.590Z"
   },
   {
    "duration": 42,
    "start_time": "2025-02-11T18:00:01.664Z"
   },
   {
    "duration": 49,
    "start_time": "2025-02-11T18:00:01.707Z"
   },
   {
    "duration": 41,
    "start_time": "2025-02-11T18:00:01.758Z"
   },
   {
    "duration": 47,
    "start_time": "2025-02-11T18:00:01.801Z"
   },
   {
    "duration": 32,
    "start_time": "2025-02-11T18:00:01.850Z"
   },
   {
    "duration": 38,
    "start_time": "2025-02-11T18:00:01.884Z"
   },
   {
    "duration": 49,
    "start_time": "2025-02-11T18:00:01.924Z"
   },
   {
    "duration": 35,
    "start_time": "2025-02-11T18:00:01.975Z"
   },
   {
    "duration": 82,
    "start_time": "2025-02-11T18:00:02.012Z"
   },
   {
    "duration": 76,
    "start_time": "2025-02-11T18:00:02.096Z"
   },
   {
    "duration": 25,
    "start_time": "2025-02-11T18:00:02.173Z"
   },
   {
    "duration": 19,
    "start_time": "2025-02-11T18:00:02.200Z"
   },
   {
    "duration": 18,
    "start_time": "2025-02-11T18:00:02.221Z"
   },
   {
    "duration": 92,
    "start_time": "2025-02-11T18:00:02.241Z"
   },
   {
    "duration": 61,
    "start_time": "2025-02-11T18:00:02.335Z"
   },
   {
    "duration": 48,
    "start_time": "2025-02-11T18:00:02.398Z"
   },
   {
    "duration": 193,
    "start_time": "2025-02-11T18:00:02.448Z"
   },
   {
    "duration": 33,
    "start_time": "2025-02-11T18:00:02.643Z"
   },
   {
    "duration": 65,
    "start_time": "2025-02-11T18:00:02.678Z"
   },
   {
    "duration": 126,
    "start_time": "2025-02-11T18:00:02.744Z"
   },
   {
    "duration": 78,
    "start_time": "2025-02-11T18:02:59.459Z"
   },
   {
    "duration": 16,
    "start_time": "2025-02-11T18:03:04.888Z"
   },
   {
    "duration": 9,
    "start_time": "2025-02-11T18:11:57.276Z"
   },
   {
    "duration": 3,
    "start_time": "2025-02-11T18:12:23.776Z"
   },
   {
    "duration": 429,
    "start_time": "2025-02-11T18:30:49.916Z"
   },
   {
    "duration": 113,
    "start_time": "2025-02-11T18:30:50.347Z"
   },
   {
    "duration": 3,
    "start_time": "2025-02-11T18:30:50.463Z"
   },
   {
    "duration": 26,
    "start_time": "2025-02-11T18:30:50.469Z"
   },
   {
    "duration": 22,
    "start_time": "2025-02-11T18:30:50.498Z"
   },
   {
    "duration": 38,
    "start_time": "2025-02-11T18:30:50.522Z"
   },
   {
    "duration": 48,
    "start_time": "2025-02-11T18:30:50.562Z"
   },
   {
    "duration": 6,
    "start_time": "2025-02-11T18:30:50.612Z"
   },
   {
    "duration": 9,
    "start_time": "2025-02-11T18:30:50.620Z"
   },
   {
    "duration": 7,
    "start_time": "2025-02-11T18:30:50.631Z"
   },
   {
    "duration": 6,
    "start_time": "2025-02-11T18:30:50.640Z"
   },
   {
    "duration": 10,
    "start_time": "2025-02-11T18:30:50.647Z"
   },
   {
    "duration": 81,
    "start_time": "2025-02-11T18:30:50.658Z"
   },
   {
    "duration": 23,
    "start_time": "2025-02-11T18:30:50.742Z"
   },
   {
    "duration": 7,
    "start_time": "2025-02-11T18:30:50.767Z"
   },
   {
    "duration": 17,
    "start_time": "2025-02-11T18:30:50.775Z"
   },
   {
    "duration": 23,
    "start_time": "2025-02-11T18:30:50.794Z"
   },
   {
    "duration": 10,
    "start_time": "2025-02-11T18:30:50.819Z"
   },
   {
    "duration": 24,
    "start_time": "2025-02-11T18:30:50.830Z"
   },
   {
    "duration": 322,
    "start_time": "2025-02-11T18:30:50.855Z"
   },
   {
    "duration": 6,
    "start_time": "2025-02-11T18:30:51.179Z"
   },
   {
    "duration": 9,
    "start_time": "2025-02-11T18:30:51.199Z"
   },
   {
    "duration": 13,
    "start_time": "2025-02-11T18:30:51.209Z"
   },
   {
    "duration": 13,
    "start_time": "2025-02-11T18:30:51.224Z"
   },
   {
    "duration": 12,
    "start_time": "2025-02-11T18:30:51.239Z"
   },
   {
    "duration": 20,
    "start_time": "2025-02-11T18:30:51.252Z"
   },
   {
    "duration": 209,
    "start_time": "2025-02-11T18:30:51.273Z"
   },
   {
    "duration": 180,
    "start_time": "2025-02-11T18:30:51.484Z"
   },
   {
    "duration": 8,
    "start_time": "2025-02-11T18:30:51.666Z"
   },
   {
    "duration": 104,
    "start_time": "2025-02-11T18:30:51.675Z"
   },
   {
    "duration": 0,
    "start_time": "2025-02-11T18:30:51.781Z"
   },
   {
    "duration": 0,
    "start_time": "2025-02-11T18:30:51.782Z"
   },
   {
    "duration": 0,
    "start_time": "2025-02-11T18:30:51.783Z"
   },
   {
    "duration": 0,
    "start_time": "2025-02-11T18:30:51.785Z"
   },
   {
    "duration": 0,
    "start_time": "2025-02-11T18:30:51.786Z"
   },
   {
    "duration": 0,
    "start_time": "2025-02-11T18:30:51.787Z"
   },
   {
    "duration": 0,
    "start_time": "2025-02-11T18:30:51.788Z"
   },
   {
    "duration": 0,
    "start_time": "2025-02-11T18:30:51.788Z"
   },
   {
    "duration": 0,
    "start_time": "2025-02-11T18:30:51.789Z"
   },
   {
    "duration": 0,
    "start_time": "2025-02-11T18:30:51.789Z"
   },
   {
    "duration": 0,
    "start_time": "2025-02-11T18:30:51.790Z"
   },
   {
    "duration": 0,
    "start_time": "2025-02-11T18:30:51.799Z"
   },
   {
    "duration": 0,
    "start_time": "2025-02-11T18:30:51.800Z"
   },
   {
    "duration": 0,
    "start_time": "2025-02-11T18:30:51.802Z"
   },
   {
    "duration": 0,
    "start_time": "2025-02-11T18:30:51.803Z"
   },
   {
    "duration": 0,
    "start_time": "2025-02-11T18:30:51.804Z"
   },
   {
    "duration": 0,
    "start_time": "2025-02-11T18:30:51.805Z"
   },
   {
    "duration": 0,
    "start_time": "2025-02-11T18:30:51.806Z"
   },
   {
    "duration": 0,
    "start_time": "2025-02-11T18:30:51.807Z"
   },
   {
    "duration": 0,
    "start_time": "2025-02-11T18:30:51.808Z"
   },
   {
    "duration": 0,
    "start_time": "2025-02-11T18:30:51.810Z"
   },
   {
    "duration": 0,
    "start_time": "2025-02-11T18:30:51.811Z"
   },
   {
    "duration": 0,
    "start_time": "2025-02-11T18:30:51.812Z"
   },
   {
    "duration": 0,
    "start_time": "2025-02-11T18:30:51.813Z"
   },
   {
    "duration": 0,
    "start_time": "2025-02-11T18:30:51.814Z"
   },
   {
    "duration": 0,
    "start_time": "2025-02-11T18:30:51.815Z"
   },
   {
    "duration": 0,
    "start_time": "2025-02-11T18:30:51.816Z"
   },
   {
    "duration": 0,
    "start_time": "2025-02-11T18:30:51.818Z"
   },
   {
    "duration": 0,
    "start_time": "2025-02-11T18:30:51.819Z"
   },
   {
    "duration": 0,
    "start_time": "2025-02-11T18:30:51.820Z"
   },
   {
    "duration": 0,
    "start_time": "2025-02-11T18:30:51.821Z"
   },
   {
    "duration": 0,
    "start_time": "2025-02-11T18:30:51.822Z"
   },
   {
    "duration": 0,
    "start_time": "2025-02-11T18:30:51.823Z"
   },
   {
    "duration": 7,
    "start_time": "2025-02-11T18:31:57.204Z"
   },
   {
    "duration": 8,
    "start_time": "2025-02-11T18:34:32.649Z"
   },
   {
    "duration": 5,
    "start_time": "2025-02-11T18:34:52.072Z"
   },
   {
    "duration": 8,
    "start_time": "2025-02-11T18:34:58.799Z"
   },
   {
    "duration": 10,
    "start_time": "2025-02-11T18:35:06.975Z"
   },
   {
    "duration": 5,
    "start_time": "2025-02-11T18:36:25.720Z"
   },
   {
    "duration": 485,
    "start_time": "2025-02-11T18:41:22.796Z"
   },
   {
    "duration": 103,
    "start_time": "2025-02-11T18:41:23.284Z"
   },
   {
    "duration": 3,
    "start_time": "2025-02-11T18:41:23.389Z"
   },
   {
    "duration": 27,
    "start_time": "2025-02-11T18:41:23.394Z"
   },
   {
    "duration": 25,
    "start_time": "2025-02-11T18:41:23.423Z"
   },
   {
    "duration": 27,
    "start_time": "2025-02-11T18:41:23.449Z"
   },
   {
    "duration": 4,
    "start_time": "2025-02-11T18:41:23.478Z"
   },
   {
    "duration": 4,
    "start_time": "2025-02-11T18:41:23.500Z"
   },
   {
    "duration": 10,
    "start_time": "2025-02-11T18:41:23.505Z"
   },
   {
    "duration": 8,
    "start_time": "2025-02-11T18:41:23.519Z"
   },
   {
    "duration": 8,
    "start_time": "2025-02-11T18:41:23.529Z"
   },
   {
    "duration": 9,
    "start_time": "2025-02-11T18:41:23.539Z"
   },
   {
    "duration": 95,
    "start_time": "2025-02-11T18:41:23.550Z"
   },
   {
    "duration": 9,
    "start_time": "2025-02-11T18:41:23.647Z"
   },
   {
    "duration": 6,
    "start_time": "2025-02-11T18:41:23.658Z"
   },
   {
    "duration": 9,
    "start_time": "2025-02-11T18:41:23.666Z"
   },
   {
    "duration": 16,
    "start_time": "2025-02-11T18:41:23.677Z"
   },
   {
    "duration": 11,
    "start_time": "2025-02-11T18:41:23.695Z"
   },
   {
    "duration": 13,
    "start_time": "2025-02-11T18:41:23.708Z"
   },
   {
    "duration": 369,
    "start_time": "2025-02-11T18:41:23.723Z"
   },
   {
    "duration": 8,
    "start_time": "2025-02-11T18:41:24.098Z"
   },
   {
    "duration": 13,
    "start_time": "2025-02-11T18:41:24.108Z"
   },
   {
    "duration": 5,
    "start_time": "2025-02-11T18:41:24.123Z"
   },
   {
    "duration": 9,
    "start_time": "2025-02-11T18:41:24.130Z"
   },
   {
    "duration": 7,
    "start_time": "2025-02-11T18:41:24.141Z"
   },
   {
    "duration": 20,
    "start_time": "2025-02-11T18:41:24.149Z"
   },
   {
    "duration": 206,
    "start_time": "2025-02-11T18:41:24.171Z"
   },
   {
    "duration": 186,
    "start_time": "2025-02-11T18:41:24.381Z"
   },
   {
    "duration": 6,
    "start_time": "2025-02-11T18:41:24.569Z"
   },
   {
    "duration": 50,
    "start_time": "2025-02-11T18:41:24.577Z"
   },
   {
    "duration": 22,
    "start_time": "2025-02-11T18:41:24.629Z"
   },
   {
    "duration": 7,
    "start_time": "2025-02-11T18:41:24.653Z"
   },
   {
    "duration": 13,
    "start_time": "2025-02-11T18:41:24.662Z"
   },
   {
    "duration": 17,
    "start_time": "2025-02-11T18:41:24.678Z"
   },
   {
    "duration": 70,
    "start_time": "2025-02-11T18:41:24.697Z"
   },
   {
    "duration": 57,
    "start_time": "2025-02-11T18:41:24.769Z"
   },
   {
    "duration": 14,
    "start_time": "2025-02-11T18:41:24.828Z"
   },
   {
    "duration": 10,
    "start_time": "2025-02-11T18:41:24.844Z"
   },
   {
    "duration": 15,
    "start_time": "2025-02-11T18:41:24.856Z"
   },
   {
    "duration": 11,
    "start_time": "2025-02-11T18:41:24.873Z"
   },
   {
    "duration": 16,
    "start_time": "2025-02-11T18:41:24.886Z"
   },
   {
    "duration": 10,
    "start_time": "2025-02-11T18:41:24.904Z"
   },
   {
    "duration": 88,
    "start_time": "2025-02-11T18:41:24.917Z"
   },
   {
    "duration": 10,
    "start_time": "2025-02-11T18:41:25.007Z"
   },
   {
    "duration": 17,
    "start_time": "2025-02-11T18:41:25.020Z"
   },
   {
    "duration": 36,
    "start_time": "2025-02-11T18:41:25.039Z"
   },
   {
    "duration": 59,
    "start_time": "2025-02-11T18:41:25.076Z"
   },
   {
    "duration": 21,
    "start_time": "2025-02-11T18:41:25.136Z"
   },
   {
    "duration": 2,
    "start_time": "2025-02-11T18:41:25.159Z"
   },
   {
    "duration": 6,
    "start_time": "2025-02-11T18:41:25.163Z"
   },
   {
    "duration": 4,
    "start_time": "2025-02-11T18:41:25.200Z"
   },
   {
    "duration": 5,
    "start_time": "2025-02-11T18:41:25.206Z"
   },
   {
    "duration": 23,
    "start_time": "2025-02-11T18:41:25.212Z"
   },
   {
    "duration": 21,
    "start_time": "2025-02-11T18:41:25.236Z"
   },
   {
    "duration": 47,
    "start_time": "2025-02-11T18:41:25.259Z"
   },
   {
    "duration": 6,
    "start_time": "2025-02-11T18:41:25.307Z"
   },
   {
    "duration": 11,
    "start_time": "2025-02-11T18:41:25.314Z"
   },
   {
    "duration": 27,
    "start_time": "2025-02-11T18:41:25.328Z"
   },
   {
    "duration": 14,
    "start_time": "2025-02-11T18:41:25.357Z"
   },
   {
    "duration": 39,
    "start_time": "2025-02-11T18:41:25.373Z"
   },
   {
    "duration": 16,
    "start_time": "2025-02-11T18:41:25.414Z"
   },
   {
    "duration": 32,
    "start_time": "2025-02-11T18:41:25.432Z"
   },
   {
    "duration": 11,
    "start_time": "2025-02-11T18:41:25.467Z"
   },
   {
    "duration": 20,
    "start_time": "2025-02-11T18:41:25.480Z"
   },
   {
    "duration": 465,
    "start_time": "2025-02-11T19:15:20.796Z"
   },
   {
    "duration": 232,
    "start_time": "2025-02-11T19:15:21.263Z"
   },
   {
    "duration": 3,
    "start_time": "2025-02-11T19:15:21.496Z"
   },
   {
    "duration": 29,
    "start_time": "2025-02-11T19:15:21.501Z"
   },
   {
    "duration": 23,
    "start_time": "2025-02-11T19:15:21.533Z"
   },
   {
    "duration": 34,
    "start_time": "2025-02-11T19:15:21.558Z"
   },
   {
    "duration": 5,
    "start_time": "2025-02-11T19:15:21.598Z"
   },
   {
    "duration": 19,
    "start_time": "2025-02-11T19:15:21.604Z"
   },
   {
    "duration": 15,
    "start_time": "2025-02-11T19:15:21.625Z"
   },
   {
    "duration": 14,
    "start_time": "2025-02-11T19:15:21.642Z"
   },
   {
    "duration": 8,
    "start_time": "2025-02-11T19:15:21.657Z"
   },
   {
    "duration": 15,
    "start_time": "2025-02-11T19:15:21.667Z"
   },
   {
    "duration": 10,
    "start_time": "2025-02-11T19:15:21.684Z"
   },
   {
    "duration": 80,
    "start_time": "2025-02-11T19:15:21.701Z"
   },
   {
    "duration": 14,
    "start_time": "2025-02-11T19:15:21.783Z"
   },
   {
    "duration": 42,
    "start_time": "2025-02-11T19:15:21.799Z"
   },
   {
    "duration": 59,
    "start_time": "2025-02-11T19:15:21.843Z"
   },
   {
    "duration": 30,
    "start_time": "2025-02-11T19:15:21.903Z"
   },
   {
    "duration": 12,
    "start_time": "2025-02-11T19:15:21.935Z"
   },
   {
    "duration": 339,
    "start_time": "2025-02-11T19:15:21.949Z"
   },
   {
    "duration": 12,
    "start_time": "2025-02-11T19:15:22.289Z"
   },
   {
    "duration": 17,
    "start_time": "2025-02-11T19:15:22.302Z"
   },
   {
    "duration": 12,
    "start_time": "2025-02-11T19:15:22.321Z"
   },
   {
    "duration": 19,
    "start_time": "2025-02-11T19:15:22.335Z"
   },
   {
    "duration": 13,
    "start_time": "2025-02-11T19:15:22.356Z"
   },
   {
    "duration": 14,
    "start_time": "2025-02-11T19:15:22.371Z"
   },
   {
    "duration": 200,
    "start_time": "2025-02-11T19:15:22.387Z"
   },
   {
    "duration": 192,
    "start_time": "2025-02-11T19:15:22.588Z"
   },
   {
    "duration": 20,
    "start_time": "2025-02-11T19:15:22.782Z"
   },
   {
    "duration": 6,
    "start_time": "2025-02-11T19:15:22.804Z"
   },
   {
    "duration": 15,
    "start_time": "2025-02-11T19:15:22.812Z"
   },
   {
    "duration": 9,
    "start_time": "2025-02-11T19:15:22.829Z"
   },
   {
    "duration": 24,
    "start_time": "2025-02-11T19:15:22.839Z"
   },
   {
    "duration": 82,
    "start_time": "2025-02-11T19:15:22.864Z"
   },
   {
    "duration": 6,
    "start_time": "2025-02-11T19:15:22.948Z"
   },
   {
    "duration": 15,
    "start_time": "2025-02-11T19:15:22.955Z"
   },
   {
    "duration": 13,
    "start_time": "2025-02-11T19:15:22.972Z"
   },
   {
    "duration": 8,
    "start_time": "2025-02-11T19:15:22.987Z"
   },
   {
    "duration": 20,
    "start_time": "2025-02-11T19:15:22.996Z"
   },
   {
    "duration": 26,
    "start_time": "2025-02-11T19:15:23.018Z"
   },
   {
    "duration": 50,
    "start_time": "2025-02-11T19:15:23.048Z"
   },
   {
    "duration": 37,
    "start_time": "2025-02-11T19:15:23.101Z"
   },
   {
    "duration": 15,
    "start_time": "2025-02-11T19:15:23.140Z"
   },
   {
    "duration": 31,
    "start_time": "2025-02-11T19:15:23.157Z"
   },
   {
    "duration": 18,
    "start_time": "2025-02-11T19:15:23.190Z"
   },
   {
    "duration": 35,
    "start_time": "2025-02-11T19:15:23.210Z"
   },
   {
    "duration": 53,
    "start_time": "2025-02-11T19:15:23.247Z"
   },
   {
    "duration": 20,
    "start_time": "2025-02-11T19:15:23.302Z"
   },
   {
    "duration": 4,
    "start_time": "2025-02-11T19:15:23.324Z"
   },
   {
    "duration": 24,
    "start_time": "2025-02-11T19:15:23.330Z"
   },
   {
    "duration": 9,
    "start_time": "2025-02-11T19:15:23.356Z"
   },
   {
    "duration": 11,
    "start_time": "2025-02-11T19:15:23.366Z"
   },
   {
    "duration": 18,
    "start_time": "2025-02-11T19:15:23.379Z"
   },
   {
    "duration": 32,
    "start_time": "2025-02-11T19:15:23.398Z"
   },
   {
    "duration": 16,
    "start_time": "2025-02-11T19:15:23.432Z"
   },
   {
    "duration": 6,
    "start_time": "2025-02-11T19:15:23.450Z"
   },
   {
    "duration": 13,
    "start_time": "2025-02-11T19:15:23.458Z"
   },
   {
    "duration": 37,
    "start_time": "2025-02-11T19:15:23.474Z"
   },
   {
    "duration": 24,
    "start_time": "2025-02-11T19:15:23.513Z"
   },
   {
    "duration": 27,
    "start_time": "2025-02-11T19:15:23.540Z"
   },
   {
    "duration": 32,
    "start_time": "2025-02-11T19:15:23.569Z"
   },
   {
    "duration": 17,
    "start_time": "2025-02-11T19:15:23.603Z"
   },
   {
    "duration": 10,
    "start_time": "2025-02-11T19:15:23.622Z"
   },
   {
    "duration": 11,
    "start_time": "2025-02-11T19:15:23.633Z"
   },
   {
    "duration": 419,
    "start_time": "2025-02-11T19:49:34.770Z"
   },
   {
    "duration": 122,
    "start_time": "2025-02-11T19:49:35.191Z"
   },
   {
    "duration": 3,
    "start_time": "2025-02-11T19:49:35.315Z"
   },
   {
    "duration": 51,
    "start_time": "2025-02-11T19:49:35.319Z"
   },
   {
    "duration": 22,
    "start_time": "2025-02-11T19:49:35.372Z"
   },
   {
    "duration": 37,
    "start_time": "2025-02-11T19:49:35.396Z"
   },
   {
    "duration": 4,
    "start_time": "2025-02-11T19:49:35.434Z"
   },
   {
    "duration": 15,
    "start_time": "2025-02-11T19:49:35.440Z"
   },
   {
    "duration": 35,
    "start_time": "2025-02-11T19:49:35.457Z"
   },
   {
    "duration": 16,
    "start_time": "2025-02-11T19:49:35.493Z"
   },
   {
    "duration": 32,
    "start_time": "2025-02-11T19:49:35.511Z"
   },
   {
    "duration": 13,
    "start_time": "2025-02-11T19:49:35.544Z"
   },
   {
    "duration": 49,
    "start_time": "2025-02-11T19:49:35.559Z"
   },
   {
    "duration": 47,
    "start_time": "2025-02-11T19:49:35.613Z"
   },
   {
    "duration": 76,
    "start_time": "2025-02-11T19:49:35.662Z"
   },
   {
    "duration": 34,
    "start_time": "2025-02-11T19:49:35.740Z"
   },
   {
    "duration": 37,
    "start_time": "2025-02-11T19:49:35.775Z"
   },
   {
    "duration": 30,
    "start_time": "2025-02-11T19:49:35.814Z"
   },
   {
    "duration": 28,
    "start_time": "2025-02-11T19:49:35.846Z"
   },
   {
    "duration": 340,
    "start_time": "2025-02-11T19:49:35.876Z"
   },
   {
    "duration": 6,
    "start_time": "2025-02-11T19:49:36.218Z"
   },
   {
    "duration": 72,
    "start_time": "2025-02-11T19:49:36.226Z"
   },
   {
    "duration": 30,
    "start_time": "2025-02-11T19:49:36.299Z"
   },
   {
    "duration": 18,
    "start_time": "2025-02-11T19:49:36.331Z"
   },
   {
    "duration": 20,
    "start_time": "2025-02-11T19:49:36.350Z"
   },
   {
    "duration": 51,
    "start_time": "2025-02-11T19:49:36.372Z"
   },
   {
    "duration": 195,
    "start_time": "2025-02-11T19:49:36.425Z"
   },
   {
    "duration": 183,
    "start_time": "2025-02-11T19:49:36.622Z"
   },
   {
    "duration": 6,
    "start_time": "2025-02-11T19:49:36.806Z"
   },
   {
    "duration": 25,
    "start_time": "2025-02-11T19:49:36.814Z"
   },
   {
    "duration": 6,
    "start_time": "2025-02-11T19:49:36.840Z"
   },
   {
    "duration": 38,
    "start_time": "2025-02-11T19:49:36.848Z"
   },
   {
    "duration": 52,
    "start_time": "2025-02-11T19:49:36.887Z"
   },
   {
    "duration": 10,
    "start_time": "2025-02-11T19:49:36.941Z"
   },
   {
    "duration": 65,
    "start_time": "2025-02-11T19:49:36.952Z"
   },
   {
    "duration": 30,
    "start_time": "2025-02-11T19:49:37.019Z"
   },
   {
    "duration": 46,
    "start_time": "2025-02-11T19:49:37.051Z"
   },
   {
    "duration": 28,
    "start_time": "2025-02-11T19:49:37.099Z"
   },
   {
    "duration": 11,
    "start_time": "2025-02-11T19:49:37.129Z"
   },
   {
    "duration": 45,
    "start_time": "2025-02-11T19:49:37.141Z"
   },
   {
    "duration": 15,
    "start_time": "2025-02-11T19:49:37.191Z"
   },
   {
    "duration": 17,
    "start_time": "2025-02-11T19:49:37.208Z"
   },
   {
    "duration": 19,
    "start_time": "2025-02-11T19:49:37.227Z"
   },
   {
    "duration": 44,
    "start_time": "2025-02-11T19:49:37.248Z"
   },
   {
    "duration": 39,
    "start_time": "2025-02-11T19:49:37.293Z"
   },
   {
    "duration": 42,
    "start_time": "2025-02-11T19:49:37.334Z"
   },
   {
    "duration": 38,
    "start_time": "2025-02-11T19:49:37.378Z"
   },
   {
    "duration": 18,
    "start_time": "2025-02-11T19:49:37.418Z"
   },
   {
    "duration": 2,
    "start_time": "2025-02-11T19:49:37.438Z"
   },
   {
    "duration": 24,
    "start_time": "2025-02-11T19:49:37.454Z"
   },
   {
    "duration": 32,
    "start_time": "2025-02-11T19:49:37.481Z"
   },
   {
    "duration": 13,
    "start_time": "2025-02-11T19:49:37.515Z"
   },
   {
    "duration": 18,
    "start_time": "2025-02-11T19:49:37.530Z"
   },
   {
    "duration": 30,
    "start_time": "2025-02-11T19:49:37.550Z"
   },
   {
    "duration": 104,
    "start_time": "2025-02-11T19:49:37.581Z"
   },
   {
    "duration": 29,
    "start_time": "2025-02-11T19:49:37.687Z"
   },
   {
    "duration": 14,
    "start_time": "2025-02-11T19:49:37.718Z"
   },
   {
    "duration": 45,
    "start_time": "2025-02-11T19:49:37.733Z"
   },
   {
    "duration": 64,
    "start_time": "2025-02-11T19:49:37.780Z"
   },
   {
    "duration": 22,
    "start_time": "2025-02-11T19:49:37.846Z"
   },
   {
    "duration": 75,
    "start_time": "2025-02-11T19:49:37.870Z"
   },
   {
    "duration": 26,
    "start_time": "2025-02-11T19:49:37.946Z"
   },
   {
    "duration": 20,
    "start_time": "2025-02-11T19:49:37.973Z"
   },
   {
    "duration": 32,
    "start_time": "2025-02-11T19:49:37.995Z"
   },
   {
    "duration": 48,
    "start_time": "2025-02-22T17:51:32.870Z"
   }
  ],
  "colab": {
   "provenance": []
  },
  "kernelspec": {
   "display_name": "Python 3 (ipykernel)",
   "language": "python",
   "name": "python3"
  },
  "language_info": {
   "codemirror_mode": {
    "name": "ipython",
    "version": 3
   },
   "file_extension": ".py",
   "mimetype": "text/x-python",
   "name": "python",
   "nbconvert_exporter": "python",
   "pygments_lexer": "ipython3",
   "version": "3.12.7"
  },
  "toc": {
   "base_numbering": 1,
   "nav_menu": {},
   "number_sections": true,
   "sideBar": true,
   "skip_h1_title": true,
   "title_cell": "Table of Contents",
   "title_sidebar": "Contents",
   "toc_cell": false,
   "toc_position": {
    "height": "calc(100% - 180px)",
    "left": "10px",
    "top": "150px",
    "width": "165px"
   },
   "toc_section_display": true,
   "toc_window_display": true
  }
 },
 "nbformat": 4,
 "nbformat_minor": 5
}
