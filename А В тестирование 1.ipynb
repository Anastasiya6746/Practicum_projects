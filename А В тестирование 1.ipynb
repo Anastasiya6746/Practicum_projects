{
 "cells": [
  {
   "cell_type": "markdown",
   "metadata": {
    "id": "u98L9TgH0eMk"
   },
   "source": [
    "# Разработка A/B-тестирования и анализ результатов\n",
    "\n",
    "Вы работаете продуктовым аналитиком в компании, которая разрабатывает развлекательное приложение с функцией «бесконечной» ленты, как, например, в приложениях с короткими видео. В вашем приложении существует две модели монетизации: первая — ежемесячная платная подписка, которая позволяет пользователям смотреть ленту без рекламы, вторая — демонстрация рекламы для пользователей, которые ещё не оформили подписку.\n",
    "\n",
    "Команда разработчиков рекомендательных систем создала новый алгоритм рекомендаций, который, по их мнению, будет показывать более интересный контент для каждого пользователя. Вас, как аналитика, просят помочь рассчитать параметры A/B-теста, который позволит проверить эту гипотезу, и проанализировать его результаты."
   ]
  },
  {
   "cell_type": "markdown",
   "metadata": {
    "id": "LJBRALHs0eMf"
   },
   "source": [
    "## Описание данных\n",
    "\n",
    "Вы будете работать с тремя таблицами:\n",
    "\n",
    "- `sessions_project_history.csv` — таблица с историческими данными по сессиям пользователей на период с 2025-08-15 по 2025-09-23. Путь к файлу: `/datasets/sessions_project_history.csv`.\n",
    "\n",
    "- `sessions_project_test_part.csv` — таблица с данными за первый день проведения A/B-теста, то есть за 2025-10-14. Путь к файлу: `/datasets/sessions_project_test_part.csv`.\n",
    "\n",
    "- `sessions_project_test.csv` — таблица с данными за весь период проведения A/B-теста, то есть с 2025-10-14 по 2025-11-02. Путь к файлу: `/datasets/sessions_project_test.csv`.\n",
    "\n",
    "У этих таблиц почти совпадает структура и содержание колонок, различаются лишь периоды наблюдения.\n",
    "\n",
    "Поля таблиц `sessions_project_history.csv`, `sessions_project_test.csv`, `sessions_project_test_part.csv`:\n",
    "\n",
    "- `user_id` — идентификатор пользователя;\n",
    "\n",
    "- `session_id` — идентификатор сессии в приложении;\n",
    "\n",
    "- `session_date` — дата сессии;\n",
    "\n",
    "- `session_start_ts` — дата и время начала сессии;\n",
    "\n",
    "- `install_date` — дата установки приложения;\n",
    "\n",
    "- `session_number` — порядковый номер сессии для конкретного пользователя;\n",
    "\n",
    "- `registration_flag` — является ли пользователь зарегистрированным;\n",
    "\n",
    "- `page_counter` — количество просмотренных страниц во время сессии;\n",
    "\n",
    "- `region` — регион пользователя;\n",
    "\n",
    "- `device` — тип устройства пользователя;\n",
    "\n",
    "- `test_group` — тестовая группа (в таблице с историческими данными этого столбца нет).\n",
    "\n",
    "\n",
    "## Что нужно сделать\n",
    "Ваши задачи: рассчитать параметры теста, оценить корректность его проведения и проанализировать результаты эксперимента."
   ]
  },
  {
   "cell_type": "markdown",
   "metadata": {
    "id": "UpOucjID0eMl"
   },
   "source": [
    "### 1. Работа с историческими данными (EDA)"
   ]
  },
  {
   "cell_type": "markdown",
   "metadata": {
    "id": "8iJMtL-30eMl"
   },
   "source": [
    "#### 1.1. Загрузка исторических данных\n",
    "На первом этапе поработайте с историческими данными приложения:\n",
    "\n",
    "- Импортируйте библиотеку pandas.\n",
    "\n",
    "- Считайте и сохраните в датафрейм `sessions_history` CSV-файл с историческими данными о сессиях пользователей `sessions_project_history.csv`.\n",
    "\n",
    "Выведите на экран первые пять строк полученного датафрейма."
   ]
  },
  {
   "cell_type": "code",
   "execution_count": 1,
   "metadata": {
    "id": "6TPR2-1RPboT"
   },
   "outputs": [],
   "source": [
    "# Импортируем библиотеки\n",
    "import pandas as pd\n",
    "\n",
    "# Загружаем библиотеки для визуализации данных\n",
    "import matplotlib.pyplot as plt\n",
    "import seaborn as sns\n",
    "from scipy.stats import ttest_ind\n",
    "from statsmodels.stats.proportion import proportions_ztest"
   ]
  },
  {
   "cell_type": "code",
   "execution_count": 2,
   "metadata": {},
   "outputs": [],
   "source": [
    "sessions_history=pd.read_csv('https://code.s3.yandex.net/datasets/sessions_project_history.csv') "
   ]
  },
  {
   "cell_type": "code",
   "execution_count": 3,
   "metadata": {},
   "outputs": [
    {
     "data": {
      "text/html": [
       "<div>\n",
       "<style scoped>\n",
       "    .dataframe tbody tr th:only-of-type {\n",
       "        vertical-align: middle;\n",
       "    }\n",
       "\n",
       "    .dataframe tbody tr th {\n",
       "        vertical-align: top;\n",
       "    }\n",
       "\n",
       "    .dataframe thead th {\n",
       "        text-align: right;\n",
       "    }\n",
       "</style>\n",
       "<table border=\"1\" class=\"dataframe\">\n",
       "  <thead>\n",
       "    <tr style=\"text-align: right;\">\n",
       "      <th></th>\n",
       "      <th>user_id</th>\n",
       "      <th>session_id</th>\n",
       "      <th>session_date</th>\n",
       "      <th>session_start_ts</th>\n",
       "      <th>install_date</th>\n",
       "      <th>session_number</th>\n",
       "      <th>registration_flag</th>\n",
       "      <th>page_counter</th>\n",
       "      <th>region</th>\n",
       "      <th>device</th>\n",
       "    </tr>\n",
       "  </thead>\n",
       "  <tbody>\n",
       "    <tr>\n",
       "      <th>0</th>\n",
       "      <td>E302123B7000BFE4</td>\n",
       "      <td>F9AF61A0C2023832</td>\n",
       "      <td>2025-08-15</td>\n",
       "      <td>2025-08-15 17:47:35</td>\n",
       "      <td>2025-08-15</td>\n",
       "      <td>1</td>\n",
       "      <td>0</td>\n",
       "      <td>3</td>\n",
       "      <td>CIS</td>\n",
       "      <td>iPhone</td>\n",
       "    </tr>\n",
       "    <tr>\n",
       "      <th>1</th>\n",
       "      <td>2530F72E221829FB</td>\n",
       "      <td>85003A206CBDAC6F</td>\n",
       "      <td>2025-08-15</td>\n",
       "      <td>2025-08-15 16:42:14</td>\n",
       "      <td>2025-08-15</td>\n",
       "      <td>1</td>\n",
       "      <td>0</td>\n",
       "      <td>4</td>\n",
       "      <td>MENA</td>\n",
       "      <td>Android</td>\n",
       "    </tr>\n",
       "    <tr>\n",
       "      <th>2</th>\n",
       "      <td>876E020A4FC512F5</td>\n",
       "      <td>3677423E49D72DEE</td>\n",
       "      <td>2025-08-15</td>\n",
       "      <td>2025-08-15 12:30:00</td>\n",
       "      <td>2025-08-15</td>\n",
       "      <td>1</td>\n",
       "      <td>0</td>\n",
       "      <td>4</td>\n",
       "      <td>EU</td>\n",
       "      <td>PC</td>\n",
       "    </tr>\n",
       "    <tr>\n",
       "      <th>3</th>\n",
       "      <td>2640B349E1D81584</td>\n",
       "      <td>956B45F5915CA225</td>\n",
       "      <td>2025-08-15</td>\n",
       "      <td>2025-08-15 15:31:31</td>\n",
       "      <td>2025-08-15</td>\n",
       "      <td>1</td>\n",
       "      <td>0</td>\n",
       "      <td>4</td>\n",
       "      <td>CIS</td>\n",
       "      <td>Android</td>\n",
       "    </tr>\n",
       "    <tr>\n",
       "      <th>4</th>\n",
       "      <td>94E1CBFAEF1F5EE9</td>\n",
       "      <td>83BF0DA35F9F1F40</td>\n",
       "      <td>2025-08-15</td>\n",
       "      <td>2025-08-15 21:33:53</td>\n",
       "      <td>2025-08-15</td>\n",
       "      <td>1</td>\n",
       "      <td>0</td>\n",
       "      <td>3</td>\n",
       "      <td>CIS</td>\n",
       "      <td>Android</td>\n",
       "    </tr>\n",
       "  </tbody>\n",
       "</table>\n",
       "</div>"
      ],
      "text/plain": [
       "            user_id        session_id session_date     session_start_ts  \\\n",
       "0  E302123B7000BFE4  F9AF61A0C2023832   2025-08-15  2025-08-15 17:47:35   \n",
       "1  2530F72E221829FB  85003A206CBDAC6F   2025-08-15  2025-08-15 16:42:14   \n",
       "2  876E020A4FC512F5  3677423E49D72DEE   2025-08-15  2025-08-15 12:30:00   \n",
       "3  2640B349E1D81584  956B45F5915CA225   2025-08-15  2025-08-15 15:31:31   \n",
       "4  94E1CBFAEF1F5EE9  83BF0DA35F9F1F40   2025-08-15  2025-08-15 21:33:53   \n",
       "\n",
       "  install_date  session_number  registration_flag  page_counter region  \\\n",
       "0   2025-08-15               1                  0             3    CIS   \n",
       "1   2025-08-15               1                  0             4   MENA   \n",
       "2   2025-08-15               1                  0             4     EU   \n",
       "3   2025-08-15               1                  0             4    CIS   \n",
       "4   2025-08-15               1                  0             3    CIS   \n",
       "\n",
       "    device  \n",
       "0   iPhone  \n",
       "1  Android  \n",
       "2       PC  \n",
       "3  Android  \n",
       "4  Android  "
      ]
     },
     "execution_count": 3,
     "metadata": {},
     "output_type": "execute_result"
    }
   ],
   "source": [
    "sessions_history.head(5)"
   ]
  },
  {
   "cell_type": "markdown",
   "metadata": {
    "id": "qTDoiODz0eMo"
   },
   "source": [
    "#### 1.2. Знакомство с данными\n",
    "- Для каждого уникального пользователя `user_id` рассчитайте количество уникальных сессий `session_id`.\n",
    "\n",
    "- Выведите на экран все данные из таблицы `sessions_history` для одного пользователя с наибольшим количеством сессий. Если таких пользователей несколько, выберите любого из них.\n",
    "\n",
    "- Изучите таблицу для одного пользователя, чтобы лучше понять логику формирования каждого столбца данных.\n",
    "\n"
   ]
  },
  {
   "cell_type": "code",
   "execution_count": 4,
   "metadata": {
    "id": "PWZO9vTIPbPN"
   },
   "outputs": [
    {
     "data": {
      "text/plain": [
       "user_id\n",
       "00005FB6A13A6FBE    2\n",
       "0000B15A18D77ED9    3\n",
       "0000C4E3A4A571A9    2\n",
       "000293FAF9E67A81    4\n",
       "00029C5AE889A6C3    2\n",
       "                   ..\n",
       "FFFCDE7746148710    4\n",
       "FFFDD413285E753F    3\n",
       "FFFECBA0F2578AB0    2\n",
       "FFFEDB68228B5F21    5\n",
       "FFFF4228DF580C3B    3\n",
       "Name: session_id, Length: 134039, dtype: int64"
      ]
     },
     "execution_count": 4,
     "metadata": {},
     "output_type": "execute_result"
    }
   ],
   "source": [
    "unique_sessions_per_user = sessions_history.groupby('user_id')['session_id'].nunique()\n",
    "unique_sessions_per_user "
   ]
  },
  {
   "cell_type": "code",
   "execution_count": 5,
   "metadata": {},
   "outputs": [],
   "source": [
    "user_id_with_most_sessions = unique_sessions_per_user.idxmax()"
   ]
  },
  {
   "cell_type": "code",
   "execution_count": 6,
   "metadata": {},
   "outputs": [
    {
     "data": {
      "text/html": [
       "<div>\n",
       "<style scoped>\n",
       "    .dataframe tbody tr th:only-of-type {\n",
       "        vertical-align: middle;\n",
       "    }\n",
       "\n",
       "    .dataframe tbody tr th {\n",
       "        vertical-align: top;\n",
       "    }\n",
       "\n",
       "    .dataframe thead th {\n",
       "        text-align: right;\n",
       "    }\n",
       "</style>\n",
       "<table border=\"1\" class=\"dataframe\">\n",
       "  <thead>\n",
       "    <tr style=\"text-align: right;\">\n",
       "      <th></th>\n",
       "      <th>user_id</th>\n",
       "      <th>session_id</th>\n",
       "      <th>session_date</th>\n",
       "      <th>session_start_ts</th>\n",
       "      <th>install_date</th>\n",
       "      <th>session_number</th>\n",
       "      <th>registration_flag</th>\n",
       "      <th>page_counter</th>\n",
       "      <th>region</th>\n",
       "      <th>device</th>\n",
       "    </tr>\n",
       "  </thead>\n",
       "  <tbody>\n",
       "    <tr>\n",
       "      <th>115558</th>\n",
       "      <td>10E0DEFC1ABDBBE0</td>\n",
       "      <td>B8F0423BBFFCF5DC</td>\n",
       "      <td>2025-08-14</td>\n",
       "      <td>2025-08-14 13:57:39</td>\n",
       "      <td>2025-08-14</td>\n",
       "      <td>1</td>\n",
       "      <td>0</td>\n",
       "      <td>4</td>\n",
       "      <td>CIS</td>\n",
       "      <td>Android</td>\n",
       "    </tr>\n",
       "    <tr>\n",
       "      <th>191751</th>\n",
       "      <td>10E0DEFC1ABDBBE0</td>\n",
       "      <td>87CA2FA549473837</td>\n",
       "      <td>2025-08-15</td>\n",
       "      <td>2025-08-15 16:42:10</td>\n",
       "      <td>2025-08-14</td>\n",
       "      <td>2</td>\n",
       "      <td>0</td>\n",
       "      <td>3</td>\n",
       "      <td>CIS</td>\n",
       "      <td>Android</td>\n",
       "    </tr>\n",
       "    <tr>\n",
       "      <th>239370</th>\n",
       "      <td>10E0DEFC1ABDBBE0</td>\n",
       "      <td>4ADD8011DCDCE318</td>\n",
       "      <td>2025-08-16</td>\n",
       "      <td>2025-08-16 19:53:21</td>\n",
       "      <td>2025-08-14</td>\n",
       "      <td>3</td>\n",
       "      <td>0</td>\n",
       "      <td>3</td>\n",
       "      <td>CIS</td>\n",
       "      <td>Android</td>\n",
       "    </tr>\n",
       "    <tr>\n",
       "      <th>274629</th>\n",
       "      <td>10E0DEFC1ABDBBE0</td>\n",
       "      <td>DF0FD0E09BF1F3D7</td>\n",
       "      <td>2025-08-17</td>\n",
       "      <td>2025-08-17 15:03:43</td>\n",
       "      <td>2025-08-14</td>\n",
       "      <td>4</td>\n",
       "      <td>0</td>\n",
       "      <td>1</td>\n",
       "      <td>CIS</td>\n",
       "      <td>Android</td>\n",
       "    </tr>\n",
       "    <tr>\n",
       "      <th>302501</th>\n",
       "      <td>10E0DEFC1ABDBBE0</td>\n",
       "      <td>3C221774B4DE6885</td>\n",
       "      <td>2025-08-18</td>\n",
       "      <td>2025-08-18 17:29:14</td>\n",
       "      <td>2025-08-14</td>\n",
       "      <td>5</td>\n",
       "      <td>0</td>\n",
       "      <td>4</td>\n",
       "      <td>CIS</td>\n",
       "      <td>Android</td>\n",
       "    </tr>\n",
       "    <tr>\n",
       "      <th>325557</th>\n",
       "      <td>10E0DEFC1ABDBBE0</td>\n",
       "      <td>031BD7A67048105B</td>\n",
       "      <td>2025-08-19</td>\n",
       "      <td>2025-08-19 13:23:55</td>\n",
       "      <td>2025-08-14</td>\n",
       "      <td>6</td>\n",
       "      <td>0</td>\n",
       "      <td>2</td>\n",
       "      <td>CIS</td>\n",
       "      <td>Android</td>\n",
       "    </tr>\n",
       "    <tr>\n",
       "      <th>345336</th>\n",
       "      <td>10E0DEFC1ABDBBE0</td>\n",
       "      <td>FF4315CF4AD4B100</td>\n",
       "      <td>2025-08-20</td>\n",
       "      <td>2025-08-20 19:31:54</td>\n",
       "      <td>2025-08-14</td>\n",
       "      <td>7</td>\n",
       "      <td>0</td>\n",
       "      <td>2</td>\n",
       "      <td>CIS</td>\n",
       "      <td>Android</td>\n",
       "    </tr>\n",
       "    <tr>\n",
       "      <th>377532</th>\n",
       "      <td>10E0DEFC1ABDBBE0</td>\n",
       "      <td>4045FEA0747203B4</td>\n",
       "      <td>2025-08-22</td>\n",
       "      <td>2025-08-22 17:54:13</td>\n",
       "      <td>2025-08-14</td>\n",
       "      <td>8</td>\n",
       "      <td>0</td>\n",
       "      <td>2</td>\n",
       "      <td>CIS</td>\n",
       "      <td>Android</td>\n",
       "    </tr>\n",
       "    <tr>\n",
       "      <th>403538</th>\n",
       "      <td>10E0DEFC1ABDBBE0</td>\n",
       "      <td>344B086C421C7F37</td>\n",
       "      <td>2025-08-24</td>\n",
       "      <td>2025-08-24 14:46:13</td>\n",
       "      <td>2025-08-14</td>\n",
       "      <td>9</td>\n",
       "      <td>0</td>\n",
       "      <td>2</td>\n",
       "      <td>CIS</td>\n",
       "      <td>Android</td>\n",
       "    </tr>\n",
       "    <tr>\n",
       "      <th>414743</th>\n",
       "      <td>10E0DEFC1ABDBBE0</td>\n",
       "      <td>054F20BA371E4C9D</td>\n",
       "      <td>2025-08-25</td>\n",
       "      <td>2025-08-25 18:36:41</td>\n",
       "      <td>2025-08-14</td>\n",
       "      <td>10</td>\n",
       "      <td>0</td>\n",
       "      <td>3</td>\n",
       "      <td>CIS</td>\n",
       "      <td>Android</td>\n",
       "    </tr>\n",
       "  </tbody>\n",
       "</table>\n",
       "</div>"
      ],
      "text/plain": [
       "                 user_id        session_id session_date     session_start_ts  \\\n",
       "115558  10E0DEFC1ABDBBE0  B8F0423BBFFCF5DC   2025-08-14  2025-08-14 13:57:39   \n",
       "191751  10E0DEFC1ABDBBE0  87CA2FA549473837   2025-08-15  2025-08-15 16:42:10   \n",
       "239370  10E0DEFC1ABDBBE0  4ADD8011DCDCE318   2025-08-16  2025-08-16 19:53:21   \n",
       "274629  10E0DEFC1ABDBBE0  DF0FD0E09BF1F3D7   2025-08-17  2025-08-17 15:03:43   \n",
       "302501  10E0DEFC1ABDBBE0  3C221774B4DE6885   2025-08-18  2025-08-18 17:29:14   \n",
       "325557  10E0DEFC1ABDBBE0  031BD7A67048105B   2025-08-19  2025-08-19 13:23:55   \n",
       "345336  10E0DEFC1ABDBBE0  FF4315CF4AD4B100   2025-08-20  2025-08-20 19:31:54   \n",
       "377532  10E0DEFC1ABDBBE0  4045FEA0747203B4   2025-08-22  2025-08-22 17:54:13   \n",
       "403538  10E0DEFC1ABDBBE0  344B086C421C7F37   2025-08-24  2025-08-24 14:46:13   \n",
       "414743  10E0DEFC1ABDBBE0  054F20BA371E4C9D   2025-08-25  2025-08-25 18:36:41   \n",
       "\n",
       "       install_date  session_number  registration_flag  page_counter region  \\\n",
       "115558   2025-08-14               1                  0             4    CIS   \n",
       "191751   2025-08-14               2                  0             3    CIS   \n",
       "239370   2025-08-14               3                  0             3    CIS   \n",
       "274629   2025-08-14               4                  0             1    CIS   \n",
       "302501   2025-08-14               5                  0             4    CIS   \n",
       "325557   2025-08-14               6                  0             2    CIS   \n",
       "345336   2025-08-14               7                  0             2    CIS   \n",
       "377532   2025-08-14               8                  0             2    CIS   \n",
       "403538   2025-08-14               9                  0             2    CIS   \n",
       "414743   2025-08-14              10                  0             3    CIS   \n",
       "\n",
       "         device  \n",
       "115558  Android  \n",
       "191751  Android  \n",
       "239370  Android  \n",
       "274629  Android  \n",
       "302501  Android  \n",
       "325557  Android  \n",
       "345336  Android  \n",
       "377532  Android  \n",
       "403538  Android  \n",
       "414743  Android  "
      ]
     },
     "execution_count": 6,
     "metadata": {},
     "output_type": "execute_result"
    }
   ],
   "source": [
    "user_data = sessions_history[sessions_history['user_id'] == user_id_with_most_sessions]\n",
    "user_data"
   ]
  },
  {
   "cell_type": "markdown",
   "metadata": {},
   "source": [
    "Сформировали таблицу по пользователю у которого наибольшее колличество сессий. В солбцах предствалена информация по каждому дню. У каждой сессии свой  идентификационный номер. У данного пользователя было 10 сессий, в толбце `session_number` указан порядковый номер. Так же по таблице можно посмотреть регион пользователя и с какого устройства он заходил в приложение.\t"
   ]
  },
  {
   "cell_type": "markdown",
   "metadata": {
    "id": "CmcGpJTP0eMq"
   },
   "source": [
    "#### 1.3. Анализ числа регистраций\n",
    "Одна из важнейших метрик продукта — число зарегистрированных пользователей. Используя исторические данные, визуализируйте, как менялось число регистраций в приложении за время его существования.\n",
    "\n",
    "- Агрегируйте исторические данные и рассчитайте число уникальных пользователей и число зарегистрированных пользователей для каждого дня наблюдения. Для простоты считайте, что у пользователя в течение дня бывает одна сессия максимум и статус регистрации в течение одного дня не может измениться.\n",
    "\n",
    "- Постройте линейные графики общего числа пользователей и общего числа зарегистрированных пользователей по дням. Отобразите их на одном графике.\n",
    "\n",
    "- Постройте отдельный линейный график доли зарегистрированных пользователей от всех пользователей по дням.\n",
    "\n",
    "- На обоих графиках должны быть заголовок, подписанные оси X и Y, сетка и легенда."
   ]
  },
  {
   "cell_type": "code",
   "execution_count": 7,
   "metadata": {
    "id": "tN_6Ml3EPatS"
   },
   "outputs": [],
   "source": [
    "# Рассчитаем число уникальных пользователей по дня\n",
    "unic_users=sessions_history.groupby('session_date')['user_id'].nunique() "
   ]
  },
  {
   "cell_type": "code",
   "execution_count": 8,
   "metadata": {},
   "outputs": [],
   "source": [
    "# Отфильтруем зарегистрированных пользователей\n",
    "registered_users = sessions_history[sessions_history['registration_flag'] == 1]"
   ]
  },
  {
   "cell_type": "code",
   "execution_count": 9,
   "metadata": {},
   "outputs": [],
   "source": [
    "#  Рассчитаем число зарегистрированных пользователей по дням\n",
    "unic_users_regist = registered_users.groupby('session_date')['user_id'].nunique()"
   ]
  },
  {
   "cell_type": "markdown",
   "metadata": {},
   "source": [
    "Для построения графика обьединим 2 таблицы с общим колличеством пользователей и колличеством зарегистрированных пользователей по столбцу `session_date`. Также для удобства переименуем столбцы с количеством пользователей, для всех пользователей добавим суффикс `_total`, для зарегистрированных - `_regist`"
   ]
  },
  {
   "cell_type": "code",
   "execution_count": 10,
   "metadata": {},
   "outputs": [],
   "source": [
    "user_data = pd.merge(unic_users, unic_users_regist, on='session_date', how='left',suffixes=('_total','_regist'))"
   ]
  },
  {
   "cell_type": "code",
   "execution_count": 11,
   "metadata": {},
   "outputs": [
    {
     "data": {
      "image/png": "[encoded data removed]",
      "text/plain": [
       "<Figure size 720x432 with 1 Axes>"
      ]
     },
     "metadata": {
      "needs_background": "light"
     },
     "output_type": "display_data"
    }
   ],
   "source": [
    "# Строим линейный график\n",
    "user_data.plot.line(rot=45, figsize=(10, 6))\n",
    "\n",
    "# Настраиваем оси\n",
    "plt.title('График общего числа пользователей и общего числа зарегистрированных пользователей по дням')\n",
    "plt.xlabel('Наблюдаемая дата')\n",
    "plt.ylabel('Количество пользователей')\n",
    "plt.legend(loc='upper right')\n",
    "plt.grid(True) \n",
    "plt.show()"
   ]
  },
  {
   "cell_type": "markdown",
   "metadata": {},
   "source": [
    "Рассмотрим более подробно распределение количества пользователей по дням. Построим с помощью subplots 2 графика, где каждый столбец датафрейма визуализируется на отдельном графике."
   ]
  },
  {
   "cell_type": "code",
   "execution_count": 12,
   "metadata": {},
   "outputs": [
    {
     "data": {
      "image/png": "[encoded data removed]",
      "text/plain": [
       "<Figure size 432x288 with 2 Axes>"
      ]
     },
     "metadata": {
      "needs_background": "light"
     },
     "output_type": "display_data"
    }
   ],
   "source": [
    "# Строим линейный график\n",
    "user_data.plot(kind='line',rot=45,\n",
    "            subplots=True,\n",
    "            sharex=True,\n",
    "            sharey=False,\n",
    "            legend=False,\n",
    "            title=['Общее число пользователей', 'Число зарегистрированных пользователей'])\n",
    "\n",
    "# Подписываем оси\n",
    "plt.xlabel('Дата')\n",
    "plt.show()"
   ]
  },
  {
   "cell_type": "markdown",
   "metadata": {},
   "source": [
    "На основании 2 графиков видим, что общее количество пользователей больше,чем колличество зарегистрированных. По дням они распределены примерно одинаково."
   ]
  },
  {
   "cell_type": "markdown",
   "metadata": {},
   "source": [
    "Построим отдельный линейный график доли зарегистрированных пользователей от всех пользователей по дням."
   ]
  },
  {
   "cell_type": "code",
   "execution_count": 13,
   "metadata": {},
   "outputs": [],
   "source": [
    "# рассчитаем долю зарегистрированных пользователей\n",
    "registered_ratio = unic_users_regist/unic_users"
   ]
  },
  {
   "cell_type": "code",
   "execution_count": 14,
   "metadata": {},
   "outputs": [
    {
     "data": {
      "image/png": "[encoded data removed]",
      "text/plain": [
       "<Figure size 432x288 with 1 Axes>"
      ]
     },
     "metadata": {
      "needs_background": "light"
     },
     "output_type": "display_data"
    }
   ],
   "source": [
    "registered_ratio.plot(\n",
    "    kind='line',\n",
    "    x='session_date',\n",
    "     title='Доля зарегистрированных пользователей от всех пользователей по дням'\n",
    ")\n",
    "\n",
    "# Настраиваем оси\n",
    "plt.title(' Доля зарегистрированных пользователей от всех пользователей по дням')\n",
    "plt.xlabel('Наблюдаемая дата')\n",
    "plt.ylabel('Доля пользователей')\n",
    "plt.legend(loc='upper right')\n",
    "plt.grid(True) \n",
    "plt.show()"
   ]
  },
  {
   "cell_type": "markdown",
   "metadata": {},
   "source": [
    "По графику видно,что доля зарегистрированных имеет положительную динамику и увеличивается с каждым днем в наблюдаемом периоде."
   ]
  },
  {
   "cell_type": "markdown",
   "metadata": {
    "id": "UR7D7RhF0eMr"
   },
   "source": [
    "#### 1.4. Анализ числа просмотренных страниц\n",
    "Другая важная метрика продукта — число просмотренных страниц в приложении. Чем больше страниц просмотрено, тем сильнее пользователь увлечён контентом, а значит, выше шансы на то, что он зарегистрируется и оплатит подписку.\n",
    "\n",
    "- Найдите количество сессий для каждого значения количества просмотренных страниц. Например: одну страницу просмотрели в 29160 сессиях, две страницы в 105536 сессиях и так далее.\n",
    "\n",
    "- Постройте столбчатую диаграмму, где по оси X будет число просмотренных страниц, по оси Y — количество сессий.\n",
    "\n",
    "- На диаграмме должны быть заголовок, подписанные оси X и Y."
   ]
  },
  {
   "cell_type": "code",
   "execution_count": 15,
   "metadata": {},
   "outputs": [
    {
     "data": {
      "text/html": [
       "<div>\n",
       "<style scoped>\n",
       "    .dataframe tbody tr th:only-of-type {\n",
       "        vertical-align: middle;\n",
       "    }\n",
       "\n",
       "    .dataframe tbody tr th {\n",
       "        vertical-align: top;\n",
       "    }\n",
       "\n",
       "    .dataframe thead th {\n",
       "        text-align: right;\n",
       "    }\n",
       "</style>\n",
       "<table border=\"1\" class=\"dataframe\">\n",
       "  <thead>\n",
       "    <tr style=\"text-align: right;\">\n",
       "      <th></th>\n",
       "      <th>session_id</th>\n",
       "    </tr>\n",
       "    <tr>\n",
       "      <th>page_counter</th>\n",
       "      <th></th>\n",
       "    </tr>\n",
       "  </thead>\n",
       "  <tbody>\n",
       "    <tr>\n",
       "      <th>1</th>\n",
       "      <td>29160</td>\n",
       "    </tr>\n",
       "    <tr>\n",
       "      <th>2</th>\n",
       "      <td>105536</td>\n",
       "    </tr>\n",
       "    <tr>\n",
       "      <th>3</th>\n",
       "      <td>166690</td>\n",
       "    </tr>\n",
       "    <tr>\n",
       "      <th>4</th>\n",
       "      <td>105569</td>\n",
       "    </tr>\n",
       "    <tr>\n",
       "      <th>5</th>\n",
       "      <td>26288</td>\n",
       "    </tr>\n",
       "    <tr>\n",
       "      <th>6</th>\n",
       "      <td>2589</td>\n",
       "    </tr>\n",
       "    <tr>\n",
       "      <th>7</th>\n",
       "      <td>92</td>\n",
       "    </tr>\n",
       "  </tbody>\n",
       "</table>\n",
       "</div>"
      ],
      "text/plain": [
       "              session_id\n",
       "page_counter            \n",
       "1                  29160\n",
       "2                 105536\n",
       "3                 166690\n",
       "4                 105569\n",
       "5                  26288\n",
       "6                   2589\n",
       "7                     92"
      ]
     },
     "execution_count": 15,
     "metadata": {},
     "output_type": "execute_result"
    }
   ],
   "source": [
    "# количество сессий для каждого значения количества просмотренных страниц\n",
    "number_of_pages = sessions_history.groupby('page_counter').agg({'session_id' : 'count'})\n",
    "number_of_pages"
   ]
  },
  {
   "cell_type": "code",
   "execution_count": 16,
   "metadata": {
    "id": "cb6hPlVzPaSf"
   },
   "outputs": [
    {
     "data": {
      "image/png": "[encoded data removed]",
      "text/plain": [
       "<Figure size 432x288 with 1 Axes>"
      ]
     },
     "metadata": {
      "needs_background": "light"
     },
     "output_type": "display_data"
    }
   ],
   "source": [
    "number_of_pages.plot(\n",
    "               kind='bar', # Тип графика - столбчатая диаграмма\n",
    "               rot=0,\n",
    "               legend=False, # Выключаем легенду\n",
    "               title=f'Количество сессий для каждого значения количества просмотренных страниц'\n",
    ")\n",
    "\n",
    "# Настраиваем оформление графика\n",
    "plt.xlabel('Число просмотренных страниц')\n",
    "plt.ylabel('Колличество сессий')\n",
    "# Добавляем сетку графика\n",
    "plt.grid()\n",
    "\n",
    "# Выводим график\n",
    "plt.show()"
   ]
  },
  {
   "cell_type": "markdown",
   "metadata": {},
   "source": [
    "**Вывод:** Из графика видно, что в среднем большинство пользователей просматривает от 2 (105536 сесий) до 4 страниц (105569сессий). Больше всего - 3 страницы - 166690 сессий."
   ]
  },
  {
   "cell_type": "markdown",
   "metadata": {
    "id": "xDltSpVP0eMr"
   },
   "source": [
    "#### 1.5. Доля пользователей, просмотревших более четырёх страниц\n",
    "Продуктовая команда продукта считает, что сессии, в рамках которых пользователь просмотрел 4 и более страниц, говорят об удовлетворённости контентом и алгоритмами рекомендаций. Этот показатель является важной прокси-метрикой для продукта.\n",
    "\n",
    "- В датафрейме `sessions_history` создайте дополнительный столбец `good_session`. В него войдёт значение `1`, если за одну сессию было просмотрено 4 и более страниц, и значение `0`, если было просмотрено меньше.\n",
    "\n",
    "- Постройте график со средним значением доли успешных сессий ко всем сессиям по дням за весь период наблюдения."
   ]
  },
  {
   "cell_type": "markdown",
   "metadata": {},
   "source": [
    "Создадим дополнительный столбец `good_session`. В него войдёт значение 1, если за одну сессию было просмотрено 4 и более страниц, и значение 0, если было просмотрено меньше."
   ]
  },
  {
   "cell_type": "code",
   "execution_count": 17,
   "metadata": {
    "id": "iygaPfixPYMW"
   },
   "outputs": [],
   "source": [
    "def sessions (session):\n",
    "    if session['page_counter']>= 4:\n",
    "        return 1\n",
    "    else:\n",
    "        return 0\n",
    "\n",
    "sessions_history['good_session'] = sessions_history.apply(sessions, axis=1)"
   ]
  },
  {
   "cell_type": "markdown",
   "metadata": {},
   "source": [
    "Проверим результат добавления столбца `good_session`"
   ]
  },
  {
   "cell_type": "code",
   "execution_count": 18,
   "metadata": {},
   "outputs": [
    {
     "data": {
      "text/html": [
       "<div>\n",
       "<style scoped>\n",
       "    .dataframe tbody tr th:only-of-type {\n",
       "        vertical-align: middle;\n",
       "    }\n",
       "\n",
       "    .dataframe tbody tr th {\n",
       "        vertical-align: top;\n",
       "    }\n",
       "\n",
       "    .dataframe thead th {\n",
       "        text-align: right;\n",
       "    }\n",
       "</style>\n",
       "<table border=\"1\" class=\"dataframe\">\n",
       "  <thead>\n",
       "    <tr style=\"text-align: right;\">\n",
       "      <th></th>\n",
       "      <th>user_id</th>\n",
       "      <th>session_id</th>\n",
       "      <th>session_date</th>\n",
       "      <th>session_start_ts</th>\n",
       "      <th>install_date</th>\n",
       "      <th>session_number</th>\n",
       "      <th>registration_flag</th>\n",
       "      <th>page_counter</th>\n",
       "      <th>region</th>\n",
       "      <th>device</th>\n",
       "      <th>good_session</th>\n",
       "    </tr>\n",
       "  </thead>\n",
       "  <tbody>\n",
       "    <tr>\n",
       "      <th>0</th>\n",
       "      <td>E302123B7000BFE4</td>\n",
       "      <td>F9AF61A0C2023832</td>\n",
       "      <td>2025-08-15</td>\n",
       "      <td>2025-08-15 17:47:35</td>\n",
       "      <td>2025-08-15</td>\n",
       "      <td>1</td>\n",
       "      <td>0</td>\n",
       "      <td>3</td>\n",
       "      <td>CIS</td>\n",
       "      <td>iPhone</td>\n",
       "      <td>0</td>\n",
       "    </tr>\n",
       "    <tr>\n",
       "      <th>1</th>\n",
       "      <td>2530F72E221829FB</td>\n",
       "      <td>85003A206CBDAC6F</td>\n",
       "      <td>2025-08-15</td>\n",
       "      <td>2025-08-15 16:42:14</td>\n",
       "      <td>2025-08-15</td>\n",
       "      <td>1</td>\n",
       "      <td>0</td>\n",
       "      <td>4</td>\n",
       "      <td>MENA</td>\n",
       "      <td>Android</td>\n",
       "      <td>1</td>\n",
       "    </tr>\n",
       "    <tr>\n",
       "      <th>2</th>\n",
       "      <td>876E020A4FC512F5</td>\n",
       "      <td>3677423E49D72DEE</td>\n",
       "      <td>2025-08-15</td>\n",
       "      <td>2025-08-15 12:30:00</td>\n",
       "      <td>2025-08-15</td>\n",
       "      <td>1</td>\n",
       "      <td>0</td>\n",
       "      <td>4</td>\n",
       "      <td>EU</td>\n",
       "      <td>PC</td>\n",
       "      <td>1</td>\n",
       "    </tr>\n",
       "    <tr>\n",
       "      <th>3</th>\n",
       "      <td>2640B349E1D81584</td>\n",
       "      <td>956B45F5915CA225</td>\n",
       "      <td>2025-08-15</td>\n",
       "      <td>2025-08-15 15:31:31</td>\n",
       "      <td>2025-08-15</td>\n",
       "      <td>1</td>\n",
       "      <td>0</td>\n",
       "      <td>4</td>\n",
       "      <td>CIS</td>\n",
       "      <td>Android</td>\n",
       "      <td>1</td>\n",
       "    </tr>\n",
       "    <tr>\n",
       "      <th>4</th>\n",
       "      <td>94E1CBFAEF1F5EE9</td>\n",
       "      <td>83BF0DA35F9F1F40</td>\n",
       "      <td>2025-08-15</td>\n",
       "      <td>2025-08-15 21:33:53</td>\n",
       "      <td>2025-08-15</td>\n",
       "      <td>1</td>\n",
       "      <td>0</td>\n",
       "      <td>3</td>\n",
       "      <td>CIS</td>\n",
       "      <td>Android</td>\n",
       "      <td>0</td>\n",
       "    </tr>\n",
       "  </tbody>\n",
       "</table>\n",
       "</div>"
      ],
      "text/plain": [
       "            user_id        session_id session_date     session_start_ts  \\\n",
       "0  E302123B7000BFE4  F9AF61A0C2023832   2025-08-15  2025-08-15 17:47:35   \n",
       "1  2530F72E221829FB  85003A206CBDAC6F   2025-08-15  2025-08-15 16:42:14   \n",
       "2  876E020A4FC512F5  3677423E49D72DEE   2025-08-15  2025-08-15 12:30:00   \n",
       "3  2640B349E1D81584  956B45F5915CA225   2025-08-15  2025-08-15 15:31:31   \n",
       "4  94E1CBFAEF1F5EE9  83BF0DA35F9F1F40   2025-08-15  2025-08-15 21:33:53   \n",
       "\n",
       "  install_date  session_number  registration_flag  page_counter region  \\\n",
       "0   2025-08-15               1                  0             3    CIS   \n",
       "1   2025-08-15               1                  0             4   MENA   \n",
       "2   2025-08-15               1                  0             4     EU   \n",
       "3   2025-08-15               1                  0             4    CIS   \n",
       "4   2025-08-15               1                  0             3    CIS   \n",
       "\n",
       "    device  good_session  \n",
       "0   iPhone             0  \n",
       "1  Android             1  \n",
       "2       PC             1  \n",
       "3  Android             1  \n",
       "4  Android             0  "
      ]
     },
     "execution_count": 18,
     "metadata": {},
     "output_type": "execute_result"
    }
   ],
   "source": [
    "#Выведем первые строки\n",
    "sessions_history.head(5)"
   ]
  },
  {
   "cell_type": "markdown",
   "metadata": {},
   "source": [
    "Отфильтруем данные по столбцу `good_session=1`,т.е если за одну сессию было просмотрено 4 и более страниц."
   ]
  },
  {
   "cell_type": "code",
   "execution_count": 19,
   "metadata": {},
   "outputs": [],
   "source": [
    "good_session = sessions_history.loc[(sessions_history['good_session']== 1)]"
   ]
  },
  {
   "cell_type": "markdown",
   "metadata": {},
   "source": [
    "Посчитаем количество успешных сессий для каждого дня"
   ]
  },
  {
   "cell_type": "code",
   "execution_count": 20,
   "metadata": {},
   "outputs": [],
   "source": [
    "good_session_group=good_session.groupby('session_date')['session_id'].count()"
   ]
  },
  {
   "cell_type": "markdown",
   "metadata": {},
   "source": [
    "Посчитаем общее колличество сессий для каждого дня"
   ]
  },
  {
   "cell_type": "code",
   "execution_count": 21,
   "metadata": {},
   "outputs": [],
   "source": [
    "total_session=sessions_history.groupby('session_date')['session_id'].count()"
   ]
  },
  {
   "cell_type": "markdown",
   "metadata": {},
   "source": [
    "Посчитаем доли успешных сессий ко всем сессиям по дням за весь период наблюдения и построим график со средним значением доли успешных сессий ко всем сессиям"
   ]
  },
  {
   "cell_type": "code",
   "execution_count": 22,
   "metadata": {},
   "outputs": [
    {
     "data": {
      "text/plain": [
       "session_date\n",
       "2025-09-17    0.320251\n",
       "2025-09-19    0.318054\n",
       "2025-08-17    0.317589\n",
       "2025-08-14    0.316055\n",
       "2025-09-04    0.315501\n",
       "2025-09-02    0.315499\n",
       "2025-08-30    0.313814\n",
       "2025-08-22    0.313158\n",
       "2025-08-29    0.313104\n",
       "2025-08-19    0.312840\n",
       "2025-08-11    0.312835\n",
       "2025-09-01    0.312495\n",
       "2025-09-07    0.312121\n",
       "2025-09-16    0.312005\n",
       "2025-08-27    0.311120\n",
       "2025-08-26    0.310934\n",
       "2025-08-28    0.310567\n",
       "2025-08-18    0.310545\n",
       "2025-08-24    0.309800\n",
       "2025-09-22    0.309524\n",
       "2025-09-08    0.308811\n",
       "2025-09-14    0.307745\n",
       "2025-08-20    0.306941\n",
       "2025-08-13    0.306750\n",
       "2025-08-16    0.306186\n",
       "2025-09-15    0.305841\n",
       "2025-09-09    0.305518\n",
       "2025-08-25    0.305464\n",
       "2025-09-10    0.305125\n",
       "2025-08-15    0.304941\n",
       "2025-09-11    0.304650\n",
       "2025-09-06    0.304557\n",
       "2025-09-03    0.304140\n",
       "2025-09-05    0.303837\n",
       "2025-08-21    0.303169\n",
       "2025-08-31    0.302503\n",
       "2025-08-23    0.302077\n",
       "2025-08-12    0.302015\n",
       "2025-09-20    0.301818\n",
       "2025-09-12    0.301585\n",
       "2025-09-13    0.299055\n",
       "2025-09-18    0.292520\n",
       "2025-09-23    0.290221\n",
       "2025-09-21    0.288660\n",
       "Name: session_id, dtype: float64"
      ]
     },
     "execution_count": 22,
     "metadata": {},
     "output_type": "execute_result"
    }
   ],
   "source": [
    "percentage_of_sessions=good_session_group/total_session\n",
    "percentage_of_sessions.sort_values(ascending=False)"
   ]
  },
  {
   "cell_type": "code",
   "execution_count": 23,
   "metadata": {},
   "outputs": [
    {
     "data": {
      "image/png": "[encoded data removed]",
      "text/plain": [
       "<Figure size 432x288 with 1 Axes>"
      ]
     },
     "metadata": {
      "needs_background": "light"
     },
     "output_type": "display_data"
    }
   ],
   "source": [
    "percentage_of_sessions.plot(\n",
    "    kind='line',\n",
    "    x='session_date',\n",
    "     title='Доля зарегистрированных пользователей от всех пользователей по дням'\n",
    ")\n",
    "\n",
    "# Настраиваем оси\n",
    "plt.title(' Доля успешных сессий ко всем сессиям по дням')\n",
    "plt.xlabel('Наблюдаемая дата')\n",
    "plt.ylabel('Доля сессий')\n",
    "plt.legend(loc='upper right')\n",
    "plt.grid(True) \n",
    "plt.show()"
   ]
  },
  {
   "cell_type": "markdown",
   "metadata": {},
   "source": [
    "**Вывод:** Самая большая доля зарегистрированных пользователей была 2025-09-17, самая маленькая доля была 2025-09-21. Ближе к концу сентября доля зарегистрированных пользоватей сильно колеблется, по сравнению с августом и началом сентября."
   ]
  },
  {
   "cell_type": "markdown",
   "metadata": {
    "id": "21JcG77Y0eMt"
   },
   "source": [
    "### 2. Подготовка к тесту\n",
    "При планировании теста необходимо проделать несколько важных шагов:\n",
    "\n",
    "- Определиться с целевой метрикой.\n",
    "\n",
    "- Рассчитать необходимый размер выборки.\n",
    "\n",
    "- Исходя из текущих значений трафика, рассчитать необходимую длительность проведения теста."
   ]
  },
  {
   "cell_type": "markdown",
   "metadata": {
    "id": "uzaeln270eMt"
   },
   "source": [
    "#### 2.1. Расчёт размера выборки\n",
    "В рамках курса вам уже приходилось рассчитывать размеры выборки, используя онлайн-калькуляторы. В этом задании предлагаем воспользоваться готовым кодом и рассчитать необходимое для вашего дизайна эксперимента количество пользователей.\n",
    "\n",
    "Для этого установите в коде ниже следующие параметры:\n",
    "\n",
    "- Уровень значимости — 0.05.\n",
    "\n",
    "- Вероятность ошибки второго рода — 0.2.\n",
    "\n",
    "- Мощность теста.\n",
    "\n",
    "- Минимальный детектируемый эффект, или MDE, — 3%. Обратите внимание, что здесь нужно указать десятичную дробь, а не процент.\n",
    "\n",
    "При расчёте размера выборки мы будем использовать метод `solve_power()` из класса `power.NormalIndPower` модуля `statsmodels.stats`.\n",
    "\n",
    "Запустите ячейку и изучите полученное значение."
   ]
  },
  {
   "cell_type": "code",
   "execution_count": 24,
   "metadata": {
    "id": "zSxJyPGPNdaI"
   },
   "outputs": [
    {
     "name": "stdout",
     "output_type": "stream",
     "text": [
      "Необходимый размер выборки для каждой группы: 17441\n"
     ]
    }
   ],
   "source": [
    "from statsmodels.stats.power import NormalIndPower\n",
    "\n",
    "# Задаём параметры\n",
    "alpha = 0.05  # Уровень значимости\n",
    "beta = 0.2  # Ошибка второго рода, часто 1 - мощность\n",
    "power = 0.8  # Мощность теста\n",
    "mde = 0.03  # Минимальный детектируемый эффект\n",
    "\n",
    "# Инициализируем класс NormalIndPower\n",
    "power_analysis = NormalIndPower()\n",
    "\n",
    "# Рассчитываем размер выборки\n",
    "sample_size = power_analysis.solve_power(\n",
    "    effect_size = mde,\n",
    "    power = power,\n",
    "    alpha = alpha,\n",
    "    ratio = 1 # Равномерное распределение выборок\n",
    ")\n",
    "\n",
    "print(f\"Необходимый размер выборки для каждой группы: {int(sample_size)}\")"
   ]
  },
  {
   "cell_type": "markdown",
   "metadata": {
    "id": "qLEv4RoV0eMu"
   },
   "source": [
    "#### 2.1. Расчёт длительности A/B-теста\n",
    "\n",
    "Используйте данные о количестве пользователей в каждой выборке и среднем количестве пользователей приложения. Рассчитайте длительность теста, разделив одно на другое.\n",
    "\n",
    "- Рассчитайте среднее количество уникальных пользователей приложения в день.\n",
    "\n",
    "- Определите длительность теста, исходя из рассчитанного значения размера выборок и среднего дневного трафика приложения. Количество дней округлите в большую сторону."
   ]
  },
  {
   "cell_type": "code",
   "execution_count": 25,
   "metadata": {
    "id": "KZDRbryDOGHa"
   },
   "outputs": [
    {
     "name": "stdout",
     "output_type": "stream",
     "text": [
      "Рассчитанная длительность A/B-теста при текущем уровене трафика в 9907.363636363636 пользователей в день составит 4 дней\n"
     ]
    }
   ],
   "source": [
    "from math import ceil\n",
    "# Среднее количество пользователей приложения в день по историческим данным\n",
    "avg_daily_users =(sessions_history.groupby('session_date')['user_id'].nunique()).mean()\n",
    "\n",
    "# Рассчитываем длительность теста в днях как отношение размера выборки к среднему числу пользователей\n",
    "test_duration = ceil((17441 * 2) / avg_daily_users)\n",
    "\n",
    "print(f\"Рассчитанная длительность A/B-теста при текущем уровене трафика в {avg_daily_users} пользователей в день составит {test_duration} дней\")"
   ]
  },
  {
   "cell_type": "markdown",
   "metadata": {
    "id": "ZuvtAdha0eMv"
   },
   "source": [
    "### 3. Мониторинг А/В-теста"
   ]
  },
  {
   "cell_type": "markdown",
   "metadata": {
    "id": "jq5sE3Ya0eMv"
   },
   "source": [
    "#### 3.1. Проверка распределения пользователей\n",
    "\n",
    "A/B-тест успешно запущен, и уже доступны данные за первые три дня. На этом этапе нужно убедиться, что всё идёт хорошо: пользователи разделены правильным образом, а интересующие вас метрики корректно считаются.\n",
    "\n",
    "- Считайте и сохраните в датафрейм `sessions_test_part` CSV-файл с историческими данными о сессиях пользователей `sessions_project_test_part.csv`.\n",
    "\n",
    "- Рассчитайте количество уникальных пользователей в каждой из экспериментальных групп для одного дня наблюдения.\n",
    "\n",
    "- Рассчитайте и выведите на экран процентную разницу в количестве пользователей в группах A и B. Постройте любую удобную визуализацию, на которой можно было бы увидеть возможное различие двух групп.\n",
    "\n",
    "Для расчёта процентной разницы воспользуйтесь формулой:\n",
    "$$P = 100 \\cdot  \\frac{|A − B|}{A}$$"
   ]
  },
  {
   "cell_type": "code",
   "execution_count": 26,
   "metadata": {
    "id": "G1bqIzDJOUiz"
   },
   "outputs": [],
   "source": [
    "sessions_test_part=pd.read_csv('https://code.s3.yandex.net/datasets/sessions_project_test_part.csv') "
   ]
  },
  {
   "cell_type": "code",
   "execution_count": 27,
   "metadata": {},
   "outputs": [
    {
     "data": {
      "text/html": [
       "<div>\n",
       "<style scoped>\n",
       "    .dataframe tbody tr th:only-of-type {\n",
       "        vertical-align: middle;\n",
       "    }\n",
       "\n",
       "    .dataframe tbody tr th {\n",
       "        vertical-align: top;\n",
       "    }\n",
       "\n",
       "    .dataframe thead th {\n",
       "        text-align: right;\n",
       "    }\n",
       "</style>\n",
       "<table border=\"1\" class=\"dataframe\">\n",
       "  <thead>\n",
       "    <tr style=\"text-align: right;\">\n",
       "      <th></th>\n",
       "      <th>user_id</th>\n",
       "      <th>session_id</th>\n",
       "      <th>session_date</th>\n",
       "      <th>session_start_ts</th>\n",
       "      <th>install_date</th>\n",
       "      <th>session_number</th>\n",
       "      <th>registration_flag</th>\n",
       "      <th>page_counter</th>\n",
       "      <th>region</th>\n",
       "      <th>device</th>\n",
       "      <th>test_group</th>\n",
       "    </tr>\n",
       "  </thead>\n",
       "  <tbody>\n",
       "    <tr>\n",
       "      <th>0</th>\n",
       "      <td>3404844B53442747</td>\n",
       "      <td>B4901323BD537E45</td>\n",
       "      <td>2025-10-14</td>\n",
       "      <td>2025-10-14 19:28:49</td>\n",
       "      <td>2025-10-14</td>\n",
       "      <td>1</td>\n",
       "      <td>0</td>\n",
       "      <td>3</td>\n",
       "      <td>CIS</td>\n",
       "      <td>Android</td>\n",
       "      <td>B</td>\n",
       "    </tr>\n",
       "    <tr>\n",
       "      <th>1</th>\n",
       "      <td>3A2BF4D364E62D89</td>\n",
       "      <td>216FC619308F8788</td>\n",
       "      <td>2025-10-14</td>\n",
       "      <td>2025-10-14 21:11:04</td>\n",
       "      <td>2025-10-14</td>\n",
       "      <td>1</td>\n",
       "      <td>0</td>\n",
       "      <td>3</td>\n",
       "      <td>MENA</td>\n",
       "      <td>iPhone</td>\n",
       "      <td>A</td>\n",
       "    </tr>\n",
       "    <tr>\n",
       "      <th>2</th>\n",
       "      <td>79CDAE11E32B1597</td>\n",
       "      <td>EDFCE4AC1A504074</td>\n",
       "      <td>2025-10-14</td>\n",
       "      <td>2025-10-14 21:44:03</td>\n",
       "      <td>2025-10-14</td>\n",
       "      <td>1</td>\n",
       "      <td>0</td>\n",
       "      <td>3</td>\n",
       "      <td>CIS</td>\n",
       "      <td>iPhone</td>\n",
       "      <td>A</td>\n",
       "    </tr>\n",
       "    <tr>\n",
       "      <th>3</th>\n",
       "      <td>D6AF8D78297A931F</td>\n",
       "      <td>CF0AC0EEDE92C690</td>\n",
       "      <td>2025-10-14</td>\n",
       "      <td>2025-10-14 19:07:55</td>\n",
       "      <td>2025-10-14</td>\n",
       "      <td>1</td>\n",
       "      <td>0</td>\n",
       "      <td>4</td>\n",
       "      <td>CIS</td>\n",
       "      <td>PC</td>\n",
       "      <td>A</td>\n",
       "    </tr>\n",
       "    <tr>\n",
       "      <th>4</th>\n",
       "      <td>37E0CE723AE568E0</td>\n",
       "      <td>2E6ED45E8C86C4E9</td>\n",
       "      <td>2025-10-14</td>\n",
       "      <td>2025-10-14 15:39:44</td>\n",
       "      <td>2025-10-14</td>\n",
       "      <td>1</td>\n",
       "      <td>0</td>\n",
       "      <td>3</td>\n",
       "      <td>CIS</td>\n",
       "      <td>Mac</td>\n",
       "      <td>B</td>\n",
       "    </tr>\n",
       "  </tbody>\n",
       "</table>\n",
       "</div>"
      ],
      "text/plain": [
       "            user_id        session_id session_date     session_start_ts  \\\n",
       "0  3404844B53442747  B4901323BD537E45   2025-10-14  2025-10-14 19:28:49   \n",
       "1  3A2BF4D364E62D89  216FC619308F8788   2025-10-14  2025-10-14 21:11:04   \n",
       "2  79CDAE11E32B1597  EDFCE4AC1A504074   2025-10-14  2025-10-14 21:44:03   \n",
       "3  D6AF8D78297A931F  CF0AC0EEDE92C690   2025-10-14  2025-10-14 19:07:55   \n",
       "4  37E0CE723AE568E0  2E6ED45E8C86C4E9   2025-10-14  2025-10-14 15:39:44   \n",
       "\n",
       "  install_date  session_number  registration_flag  page_counter region  \\\n",
       "0   2025-10-14               1                  0             3    CIS   \n",
       "1   2025-10-14               1                  0             3   MENA   \n",
       "2   2025-10-14               1                  0             3    CIS   \n",
       "3   2025-10-14               1                  0             4    CIS   \n",
       "4   2025-10-14               1                  0             3    CIS   \n",
       "\n",
       "    device test_group  \n",
       "0  Android          B  \n",
       "1   iPhone          A  \n",
       "2   iPhone          A  \n",
       "3       PC          A  \n",
       "4      Mac          B  "
      ]
     },
     "execution_count": 27,
     "metadata": {},
     "output_type": "execute_result"
    }
   ],
   "source": [
    "#выведем первые строки\n",
    "sessions_test_part.head(5)"
   ]
  },
  {
   "cell_type": "markdown",
   "metadata": {},
   "source": [
    "Посчитаем количество уникальные пользователей в группе А"
   ]
  },
  {
   "cell_type": "code",
   "execution_count": 28,
   "metadata": {},
   "outputs": [
    {
     "data": {
      "text/plain": [
       "1477"
      ]
     },
     "execution_count": 28,
     "metadata": {},
     "output_type": "execute_result"
    }
   ],
   "source": [
    "sessions_test_part[sessions_test_part['test_group'] == 'A']['user_id'].unique().shape[0]"
   ]
  },
  {
   "cell_type": "markdown",
   "metadata": {},
   "source": [
    "Посчитаем количество уникальные пользователей в группе В"
   ]
  },
  {
   "cell_type": "code",
   "execution_count": 29,
   "metadata": {},
   "outputs": [
    {
     "data": {
      "text/plain": [
       "1466"
      ]
     },
     "execution_count": 29,
     "metadata": {},
     "output_type": "execute_result"
    }
   ],
   "source": [
    "sessions_test_part[sessions_test_part['test_group'] == 'B']['user_id'].unique().shape[0]"
   ]
  },
  {
   "cell_type": "raw",
   "metadata": {},
   "source": [
    "Между группами небольшая разница. Посмотрим, в каком процентном соотношении они находятся:"
   ]
  },
  {
   "cell_type": "code",
   "execution_count": 30,
   "metadata": {},
   "outputs": [
    {
     "data": {
      "text/plain": [
       "50.18688413183826"
      ]
     },
     "execution_count": 30,
     "metadata": {},
     "output_type": "execute_result"
    }
   ],
   "source": [
    "p_a=100 * sessions_test_part[sessions_test_part['test_group'] == 'A']['user_id'].nunique() / sessions_test_part['user_id'].nunique()\n",
    "p_a"
   ]
  },
  {
   "cell_type": "code",
   "execution_count": 31,
   "metadata": {},
   "outputs": [
    {
     "data": {
      "text/plain": [
       "49.81311586816174"
      ]
     },
     "execution_count": 31,
     "metadata": {},
     "output_type": "execute_result"
    }
   ],
   "source": [
    "p_b=100 * sessions_test_part[sessions_test_part['test_group'] == 'B']['user_id'].nunique() / sessions_test_part['user_id'].nunique()\n",
    "p_b"
   ]
  },
  {
   "cell_type": "code",
   "execution_count": 32,
   "metadata": {},
   "outputs": [
    {
     "data": {
      "text/plain": [
       "<Figure size 504x216 with 0 Axes>"
      ]
     },
     "metadata": {},
     "output_type": "display_data"
    },
    {
     "data": {
      "image/png": "[encoded data removed]",
      "text/plain": [
       "<Figure size 432x288 with 1 Axes>"
      ]
     },
     "metadata": {
      "needs_background": "light"
     },
     "output_type": "display_data"
    }
   ],
   "source": [
    "data = {'test_group': ['A', 'B'],\n",
    "        'user': [p_a, p_b]} \n",
    "df = pd.DataFrame(data,index=['A', 'B'])\n",
    "\n",
    "# Создаём контейнер графика matplotlib и задаём его размер\n",
    "plt.figure(figsize=(7, 3))\n",
    "\n",
    "# Строим столбчатую диаграмму с помощью pandas через plot(kind='bar')\n",
    "df.plot(\n",
    "               kind='bar', # Тип графика - столбчатая диаграмма\n",
    "               rot=0, # Градус вращения подписи по оси Х\n",
    "               legend=False, # Выключаем легенду\n",
    "               title=f'Доля пользователей в группах'\n",
    ")\n",
    "\n",
    "# Настраиваем оформление графика\n",
    "plt.xlabel('Группа')\n",
    "plt.ylabel('Доля пользователей')\n",
    "# Добавляем сетку графика\n",
    "plt.grid()\n",
    "\n",
    "# Выводим график\n",
    "plt.show()"
   ]
  },
  {
   "cell_type": "markdown",
   "metadata": {},
   "source": [
    "Расхождение стало более наглядным — оно небольшое, и им можно пренебречь."
   ]
  },
  {
   "cell_type": "markdown",
   "metadata": {
    "id": "sgpNY5bv0eM0"
   },
   "source": [
    "#### 3.2. Проверка пересечений пользователей\n",
    "Помимо проверки равенства количества пользователей в группах полезно убедиться в том, что группы независимы. Для этого нужно убедиться, что никто из пользователей случайно не попал в обе группы одновременно.\n",
    "\n",
    "- Рассчитайте количество пользователей, которые встречаются одновременно в группах A и B, или убедитесь, что таких нет."
   ]
  },
  {
   "cell_type": "code",
   "execution_count": 33,
   "metadata": {
    "id": "E72ozN9FOX1u"
   },
   "outputs": [
    {
     "name": "stdout",
     "output_type": "stream",
     "text": [
      "[]\n"
     ]
    }
   ],
   "source": [
    "group_a= sessions_test_part[sessions_test_part['test_group'] == 'A']['user_id']\n",
    "group_b= sessions_test_part[sessions_test_part['test_group'] == 'B']['user_id']\n",
    "\n",
    "intersection = list(set(group_a) & set(group_b))\n",
    "print(intersection) "
   ]
  },
  {
   "cell_type": "markdown",
   "metadata": {},
   "source": [
    "В группах нет пользователей, которые встречаються одновременно в группе А и группе В"
   ]
  },
  {
   "cell_type": "markdown",
   "metadata": {
    "id": "6RvkNLrg0eM1"
   },
   "source": [
    "#### 3.3. Равномерность разделения пользователей по устройствам\n",
    "Полезно также убедиться в том, что пользователи равномерно распределены по всем доступным категориальным переменным — типам устройства и регионам.\n",
    "\n",
    "Постройте две диаграммы:\n",
    "\n",
    "- доля каждого типа устройства для пользователей из группы A,\n",
    "\n",
    "- доля каждого типа устройства для пользователей из группы B.\n",
    "\n",
    "Постарайтесь добавить на диаграммы все необходимые подписи, пояснения и заголовки, которые позволят сделать вывод о том, совпадает ли распределение устройств в группах A и B.\n"
   ]
  },
  {
   "cell_type": "code",
   "execution_count": 34,
   "metadata": {
    "id": "x_IP6PUNPWHC"
   },
   "outputs": [],
   "source": [
    "# Oтфильтруем таблицу по группе А\n",
    "filtr_group_a= sessions_test_part.loc[(sessions_test_part['test_group'] == 'A')]"
   ]
  },
  {
   "cell_type": "code",
   "execution_count": 35,
   "metadata": {},
   "outputs": [],
   "source": [
    "# Уберем дубликаты по столбцу user_id\n",
    "non_duplic_user_a = filtr_group_a[~filtr_group_a['user_id'].duplicated(keep=False)]"
   ]
  },
  {
   "cell_type": "code",
   "execution_count": 36,
   "metadata": {},
   "outputs": [
    {
     "data": {
      "text/plain": [
       "Android    0.446259\n",
       "PC         0.248980\n",
       "iPhone     0.199320\n",
       "Mac        0.105442\n",
       "Name: device, dtype: float64"
      ]
     },
     "execution_count": 36,
     "metadata": {},
     "output_type": "execute_result"
    }
   ],
   "source": [
    "# Рассчитаем долю каждого типа устройства\n",
    "non_duplic_user_a['device'].value_counts(normalize=True)"
   ]
  },
  {
   "cell_type": "markdown",
   "metadata": {},
   "source": [
    "Для визуального анализа такого распределения можно использовать столбчатые диаграммы. Визуализируем распределение в столбце `device` для группы А:"
   ]
  },
  {
   "cell_type": "code",
   "execution_count": 37,
   "metadata": {},
   "outputs": [
    {
     "data": {
      "image/png": "[encoded data removed]",
      "text/plain": [
       "<Figure size 504x216 with 1 Axes>"
      ]
     },
     "metadata": {
      "needs_background": "light"
     },
     "output_type": "display_data"
    }
   ],
   "source": [
    "# Создаём контейнер графика matplotlib и задаём его размер\n",
    "plt.figure(figsize=(7, 3))\n",
    "\n",
    "# Строим столбчатую диаграмму с помощью pandas через plot(kind='bar')\n",
    "non_duplic_user_a['device'].value_counts(normalize=True).plot(\n",
    "               kind='bar', # Тип графика - столбчатая диаграмма\n",
    "               rot=0, # Градус вращения подписи по оси Х\n",
    "               legend=False, # Выключаем легенду\n",
    "               title=f'Распределение типа устройства в группе А'\n",
    ")\n",
    "\n",
    "# Настраиваем оформление графика\n",
    "plt.xlabel('Тип устройства')\n",
    "plt.ylabel('Доля типа устройства')\n",
    "# Добавляем сетку графика\n",
    "plt.grid()\n",
    "\n",
    "# Выводим график\n",
    "plt.show()"
   ]
  },
  {
   "cell_type": "code",
   "execution_count": 38,
   "metadata": {},
   "outputs": [],
   "source": [
    "# Oтфильтруем таблицу по группе В\n",
    "filtr_group_b= sessions_test_part.loc[(sessions_test_part['test_group'] == 'B')]"
   ]
  },
  {
   "cell_type": "code",
   "execution_count": 39,
   "metadata": {},
   "outputs": [],
   "source": [
    "# Уберем дубликаты по столбцу user_id\n",
    "non_duplic_user_b = filtr_group_b[~filtr_group_b['user_id'].duplicated(keep=False)]"
   ]
  },
  {
   "cell_type": "code",
   "execution_count": 40,
   "metadata": {},
   "outputs": [
    {
     "data": {
      "text/plain": [
       "Android    0.459097\n",
       "PC         0.264457\n",
       "iPhone     0.181946\n",
       "Mac        0.094499\n",
       "Name: device, dtype: float64"
      ]
     },
     "execution_count": 40,
     "metadata": {},
     "output_type": "execute_result"
    }
   ],
   "source": [
    "# Рассчитаем долю каждого типа устройства\n",
    "non_duplic_user_b['device'].value_counts(normalize=True)"
   ]
  },
  {
   "cell_type": "markdown",
   "metadata": {},
   "source": [
    "Визуализируем распределение в столбце `device` для группы B:"
   ]
  },
  {
   "cell_type": "code",
   "execution_count": 41,
   "metadata": {},
   "outputs": [
    {
     "data": {
      "image/png": "[encoded data removed]",
      "text/plain": [
       "<Figure size 504x216 with 1 Axes>"
      ]
     },
     "metadata": {
      "needs_background": "light"
     },
     "output_type": "display_data"
    }
   ],
   "source": [
    "# Создаём контейнер графика matplotlib и задаём его размер\n",
    "plt.figure(figsize=(7, 3))\n",
    "\n",
    "# Строим столбчатую диаграмму с помощью pandas через plot(kind='bar')\n",
    "non_duplic_user_b['device'].value_counts(normalize=True).plot(\n",
    "               kind='bar', # Тип графика - столбчатая диаграмма\n",
    "               rot=0, # Градус вращения подписи по оси Х\n",
    "               legend=False, # Выключаем легенду\n",
    "               title=f'Распределение типа устройства в группе В'\n",
    ")\n",
    "\n",
    "# Настраиваем оформление графика\n",
    "plt.xlabel('Тип устройства')\n",
    "plt.ylabel('Доля типа устройства')\n",
    "# Добавляем сетку графика\n",
    "plt.grid()\n",
    "\n",
    "# Выводим график\n",
    "plt.show()"
   ]
  },
  {
   "cell_type": "markdown",
   "metadata": {},
   "source": [
    "**Вывод:** В обоих группах распределение по типу устройства совпадает. Большинство пользователей используют Android (в группе А - 0.446259, в группе В - 0.459097), далее по популярности PC (в группе А -  0.248980, в группе В-0.264457), iPhone (в группе А-0.105442,в группе В - 0.204394) и Mac (в группе А - 0.121007, группе В - 0.094499)."
   ]
  },
  {
   "cell_type": "markdown",
   "metadata": {
    "id": "gAgmP6vo0eM1"
   },
   "source": [
    "#### 3.4. Равномерность распределения пользователей по регионам\n",
    "Теперь убедитесь, что пользователи равномерно распределены по регионам.\n",
    "\n",
    "Постройте две диаграммы:\n",
    "\n",
    "- доля каждого региона для пользователей из группы A,\n",
    "\n",
    "- доля каждого региона для пользователей из группы B.\n",
    "\n",
    "Постарайтесь добавить на диаграммы все необходимые подписи, пояснения и заголовки, которые позволят сделать вывод о том, совпадает ли распределение регионов в группах A и B. Постарайтесь использовать другой тип диаграммы, не тот, что в прошлом задании.\n"
   ]
  },
  {
   "cell_type": "code",
   "execution_count": 42,
   "metadata": {
    "id": "3hAq-FG4OdYM"
   },
   "outputs": [
    {
     "data": {
      "text/plain": [
       "CIS     0.436054\n",
       "MENA    0.412925\n",
       "EU      0.151020\n",
       "Name: region, dtype: float64"
      ]
     },
     "execution_count": 42,
     "metadata": {},
     "output_type": "execute_result"
    }
   ],
   "source": [
    "# Рассчитаем долю для каждого региона в группе А\n",
    "non_duplic_user_a['region'].value_counts(normalize=True)"
   ]
  },
  {
   "cell_type": "markdown",
   "metadata": {},
   "source": [
    "Визуализируем распределение в столбце `region` для группы А:"
   ]
  },
  {
   "cell_type": "code",
   "execution_count": 43,
   "metadata": {},
   "outputs": [
    {
     "data": {
      "image/png": "[encoded data removed]",
      "text/plain": [
       "<Figure size 504x216 with 1 Axes>"
      ]
     },
     "metadata": {
      "needs_background": "light"
     },
     "output_type": "display_data"
    }
   ],
   "source": [
    "# Создаём контейнер графика matplotlib и задаём его размер\n",
    "plt.figure(figsize=(7, 3))\n",
    "\n",
    "# Строим столбчатую диаграмму с помощью pandas через plot(kind='bar')\n",
    "non_duplic_user_a['region'].value_counts(normalize=True).plot(\n",
    "               kind='bar', # Тип графика - столбчатая диаграмма\n",
    "               rot=0, # Градус вращения подписи по оси Х\n",
    "               legend=False, # Выключаем легенду\n",
    "               title=f'Распределение регионов в группе А'\n",
    ")\n",
    "\n",
    "# Настраиваем оформление графика\n",
    "plt.xlabel('Регион')\n",
    "plt.ylabel('Доля региона в группе')\n",
    "# Добавляем сетку графика\n",
    "plt.grid()\n",
    "\n",
    "# Выводим график\n",
    "plt.show()"
   ]
  },
  {
   "cell_type": "code",
   "execution_count": 44,
   "metadata": {},
   "outputs": [
    {
     "data": {
      "text/plain": [
       "CIS     0.454866\n",
       "MENA    0.392807\n",
       "EU      0.152327\n",
       "Name: region, dtype: float64"
      ]
     },
     "execution_count": 44,
     "metadata": {},
     "output_type": "execute_result"
    }
   ],
   "source": [
    "# Рассчитаем долю для каждого региона в группе В\n",
    "non_duplic_user_b['region'].value_counts(normalize=True)"
   ]
  },
  {
   "cell_type": "markdown",
   "metadata": {},
   "source": [
    "Визуализируем распределение в столбце `region` для группы А:"
   ]
  },
  {
   "cell_type": "code",
   "execution_count": 45,
   "metadata": {},
   "outputs": [
    {
     "data": {
      "image/png": "[encoded data removed]",
      "text/plain": [
       "<Figure size 504x216 with 1 Axes>"
      ]
     },
     "metadata": {
      "needs_background": "light"
     },
     "output_type": "display_data"
    }
   ],
   "source": [
    "# Создаём контейнер графика matplotlib и задаём его размер\n",
    "plt.figure(figsize=(7, 3))\n",
    "\n",
    "# Строим столбчатую диаграмму с помощью pandas через plot(kind='bar')\n",
    "non_duplic_user_b['region'].value_counts(normalize=True).plot(\n",
    "               kind='bar', # Тип графика - столбчатая диаграмма\n",
    "               rot=0, # Градус вращения подписи по оси Х\n",
    "               legend=False, # Выключаем легенду\n",
    "               title=f'Распределение регионов в группе B'\n",
    ")\n",
    "\n",
    "# Настраиваем оформление графика\n",
    "plt.xlabel('Регион')\n",
    "plt.ylabel('Доля региона в группе')\n",
    "# Добавляем сетку графика\n",
    "plt.grid()\n",
    "\n",
    "# Выводим график\n",
    "plt.show()"
   ]
  },
  {
   "cell_type": "markdown",
   "metadata": {},
   "source": [
    "**Вывод:** Распределение в группах совпадает. В группе А больше всего пользователей в регионе CIS - 0.4360541, далее в регионе MENA- 0.412925 и в регионе EU - 0.151020, и в группе B в регионе CIS - 0.454866, MENA-0.39280,EU - 0.152327. "
   ]
  },
  {
   "cell_type": "markdown",
   "metadata": {
    "id": "X2WSZ-sDrSUi"
   },
   "source": [
    "#### 3.5. Вывод после проверки A/B-теста\n",
    "\n",
    "На основе проведённого анализа A/B-теста сформулируйте и запишите свои выводы. В выводе обязательно укажите:\n",
    "\n",
    "- Были ли обнаружено различие в количестве пользователей в двух группах.\n",
    "\n",
    "- Являются ли выборки независимыми. Было ли обнаружено пересечение пользователей из тестовой и контрольной групп.\n",
    "\n",
    "- Сохраняется ли равномерное распределение пользователей тестовой и контрольной групп по категориальным переменным: устройствам и регионам.\n",
    "\n",
    "Сделайте заключение о том, корректно ли проходит A/B-тест или наблюдаются какие-либо нарушения."
   ]
  },
  {
   "cell_type": "markdown",
   "metadata": {
    "id": "dDELHlAcOi8d"
   },
   "source": [
    "1. Различие в количестве пользователей в группах:\n",
    "\n",
    "Наблюдается незначительное расхождение в количестве пользователей между группами A и B. Данное расхождение невелико и, вероятно, им можно пренебречь, не оказывая существенного влияния на результаты A/B-теста. Отношении долей к общему количетву пользователей: В группе А - 50,19, в группе В - 49,81.\n",
    "\n",
    "2. Независимость выборок и пересечение пользователей:\n",
    "\n",
    "Выборки являются независимыми. Не было обнаружено пользователей, одновременно участвующих в группе A и группе B. Это подтверждает корректность формирования тестовой и контрольной групп. Число таких пересечений равно 0.\n",
    "\n",
    "3. Равномерное распределение по категориальным переменным:\n",
    "\n",
    "Устройства:\n",
    "В обоих группах распределение по типу устройства совпадает. Большинство пользователей используют Android (в группе А - 0.446259, в группе В - 0.459097), далее по популярности PC (в группе А - 0.248980, в группе В-0.264457), iPhone (в группе А-0.105442,в группе В - 0.204394) и Mac (в группе А - 0.121007, группе В - 0.094499).\n",
    "\n",
    "Регионы:\n",
    "Распределение в группах совпадает. В группе А больше всего пользователей в регионе CIS - 0.4360541, далее в регионе MENA- 0.412925 и в регионе EU - 0.151020, и в группе B в регионе CIS - 0.454866, MENA-0.39280, EU - 0.152327. \n",
    "\n",
    "4. Заключение о корректности A/B-теста:\n",
    "\n",
    "A/B-тест проходит корректно. Соблюдены основные требования к проведению A/B-тестов: \n",
    "\n",
    " - Размер выборки достаточен (необходимый размер выборки составлял 17441 пользователей для каждой группы, а фактический размер выборки ему соответствовал). \n",
    "- Длительность теста определена на основе трафика приложения (4 дня при среднем трафике 9907 пользователей в день). \n",
    "- Группы сформированы независимо и не содержат пересекающихся пользователей. \n",
    "- Равномерность распределения пользователей по основным категориальным переменным (устройства и регионы) соблюдена. Несмотря на небольшие расхождения в количестве пользователей и распределении по регионам, они не являются критичными и не должны существенно повлиять на результаты теста. \n",
    "\n",
    "На основании имеющихся данных, можно сделать вывод о том, что A/B-тест проводится в соответствии с необходимыми требованиями и результаты можно считать валидными."
   ]
  },
  {
   "cell_type": "markdown",
   "metadata": {
    "id": "nudRr_BQ0eM2"
   },
   "source": [
    "### 4. Проверка результатов A/B-теста\n",
    "\n",
    "A/B-тест завершён, и у вас есть результаты за все дни проведения эксперимента. Необходимо убедиться в корректности теста и верно интерпретировать результаты."
   ]
  },
  {
   "cell_type": "markdown",
   "metadata": {
    "id": "JVve-YBB0eM2"
   },
   "source": [
    "#### 4.1. Получение результатов теста и подсчёт основной метрики\n",
    "\n",
    "- Считайте и сохраните в датафрейм `sessions_test` CSV-файл с историческими данными о сессиях пользователей `sessions_project_test.csv`.\n",
    "\n",
    "- В датафрейме `sessions_test` создайте дополнительный столбец `good_session`. В него войдёт значение `1`, если за одну сессию было просмотрено 4 и более страниц, и значение `0`, если просмотрено меньше."
   ]
  },
  {
   "cell_type": "code",
   "execution_count": 46,
   "metadata": {
    "id": "EqRlwMtKPTir"
   },
   "outputs": [],
   "source": [
    "sessions_test=pd.read_csv('https://code.s3.yandex.net/datasets/sessions_project_test.csv') "
   ]
  },
  {
   "cell_type": "markdown",
   "metadata": {},
   "source": [
    "В датафрейме `sessions_test` создадим дополнительный столбец `good_session`. В него войдёт значение 1, если за одну сессию было просмотрено 4 и более страниц, и значение 0, если просмотрено меньше."
   ]
  },
  {
   "cell_type": "code",
   "execution_count": 47,
   "metadata": {},
   "outputs": [],
   "source": [
    "def sessions_good (session):\n",
    "    if session['page_counter']>= 4:\n",
    "        return 1\n",
    "    else:\n",
    "        return 0\n",
    "\n",
    "sessions_test['good_session'] = sessions_test.apply(sessions_good, axis=1)"
   ]
  },
  {
   "cell_type": "markdown",
   "metadata": {},
   "source": [
    "Проверим добавление столбца `good_session` в датафрейм:"
   ]
  },
  {
   "cell_type": "code",
   "execution_count": 48,
   "metadata": {},
   "outputs": [
    {
     "data": {
      "text/html": [
       "<div>\n",
       "<style scoped>\n",
       "    .dataframe tbody tr th:only-of-type {\n",
       "        vertical-align: middle;\n",
       "    }\n",
       "\n",
       "    .dataframe tbody tr th {\n",
       "        vertical-align: top;\n",
       "    }\n",
       "\n",
       "    .dataframe thead th {\n",
       "        text-align: right;\n",
       "    }\n",
       "</style>\n",
       "<table border=\"1\" class=\"dataframe\">\n",
       "  <thead>\n",
       "    <tr style=\"text-align: right;\">\n",
       "      <th></th>\n",
       "      <th>user_id</th>\n",
       "      <th>session_id</th>\n",
       "      <th>session_date</th>\n",
       "      <th>session_start_ts</th>\n",
       "      <th>install_date</th>\n",
       "      <th>session_number</th>\n",
       "      <th>registration_flag</th>\n",
       "      <th>page_counter</th>\n",
       "      <th>region</th>\n",
       "      <th>device</th>\n",
       "      <th>test_group</th>\n",
       "      <th>good_session</th>\n",
       "    </tr>\n",
       "  </thead>\n",
       "  <tbody>\n",
       "    <tr>\n",
       "      <th>0</th>\n",
       "      <td>6DAE3B3654DA738E</td>\n",
       "      <td>C69249E26E58F6E2</td>\n",
       "      <td>2025-10-26</td>\n",
       "      <td>2025-10-26 18:15:05</td>\n",
       "      <td>2025-10-16</td>\n",
       "      <td>3</td>\n",
       "      <td>0</td>\n",
       "      <td>3</td>\n",
       "      <td>MENA</td>\n",
       "      <td>Android</td>\n",
       "      <td>A</td>\n",
       "      <td>0</td>\n",
       "    </tr>\n",
       "    <tr>\n",
       "      <th>1</th>\n",
       "      <td>0A3FE5D1DD59110A</td>\n",
       "      <td>66D66D7C9F5181B7</td>\n",
       "      <td>2025-10-21</td>\n",
       "      <td>2025-10-21 17:04:53</td>\n",
       "      <td>2025-10-15</td>\n",
       "      <td>2</td>\n",
       "      <td>1</td>\n",
       "      <td>2</td>\n",
       "      <td>CIS</td>\n",
       "      <td>Android</td>\n",
       "      <td>B</td>\n",
       "      <td>0</td>\n",
       "    </tr>\n",
       "    <tr>\n",
       "      <th>2</th>\n",
       "      <td>2041F1D7AA740B88</td>\n",
       "      <td>50DE51D42215E74C</td>\n",
       "      <td>2025-10-23</td>\n",
       "      <td>2025-10-23 17:39:29</td>\n",
       "      <td>2025-10-19</td>\n",
       "      <td>3</td>\n",
       "      <td>0</td>\n",
       "      <td>2</td>\n",
       "      <td>MENA</td>\n",
       "      <td>Android</td>\n",
       "      <td>A</td>\n",
       "      <td>0</td>\n",
       "    </tr>\n",
       "    <tr>\n",
       "      <th>3</th>\n",
       "      <td>43D7585009168086</td>\n",
       "      <td>5763C0C353C22263</td>\n",
       "      <td>2025-10-24</td>\n",
       "      <td>2025-10-24 15:01:57</td>\n",
       "      <td>2025-10-18</td>\n",
       "      <td>4</td>\n",
       "      <td>0</td>\n",
       "      <td>1</td>\n",
       "      <td>CIS</td>\n",
       "      <td>iPhone</td>\n",
       "      <td>B</td>\n",
       "      <td>0</td>\n",
       "    </tr>\n",
       "    <tr>\n",
       "      <th>4</th>\n",
       "      <td>15AD68B14D62D88C</td>\n",
       "      <td>B1AD09F93C1053BC</td>\n",
       "      <td>2025-10-17</td>\n",
       "      <td>2025-10-17 17:34:39</td>\n",
       "      <td>2025-10-17</td>\n",
       "      <td>1</td>\n",
       "      <td>0</td>\n",
       "      <td>2</td>\n",
       "      <td>MENA</td>\n",
       "      <td>Android</td>\n",
       "      <td>B</td>\n",
       "      <td>0</td>\n",
       "    </tr>\n",
       "  </tbody>\n",
       "</table>\n",
       "</div>"
      ],
      "text/plain": [
       "            user_id        session_id session_date     session_start_ts  \\\n",
       "0  6DAE3B3654DA738E  C69249E26E58F6E2   2025-10-26  2025-10-26 18:15:05   \n",
       "1  0A3FE5D1DD59110A  66D66D7C9F5181B7   2025-10-21  2025-10-21 17:04:53   \n",
       "2  2041F1D7AA740B88  50DE51D42215E74C   2025-10-23  2025-10-23 17:39:29   \n",
       "3  43D7585009168086  5763C0C353C22263   2025-10-24  2025-10-24 15:01:57   \n",
       "4  15AD68B14D62D88C  B1AD09F93C1053BC   2025-10-17  2025-10-17 17:34:39   \n",
       "\n",
       "  install_date  session_number  registration_flag  page_counter region  \\\n",
       "0   2025-10-16               3                  0             3   MENA   \n",
       "1   2025-10-15               2                  1             2    CIS   \n",
       "2   2025-10-19               3                  0             2   MENA   \n",
       "3   2025-10-18               4                  0             1    CIS   \n",
       "4   2025-10-17               1                  0             2   MENA   \n",
       "\n",
       "    device test_group  good_session  \n",
       "0  Android          A             0  \n",
       "1  Android          B             0  \n",
       "2  Android          A             0  \n",
       "3   iPhone          B             0  \n",
       "4  Android          B             0  "
      ]
     },
     "execution_count": 48,
     "metadata": {},
     "output_type": "execute_result"
    }
   ],
   "source": [
    "# Выведем первые 5 строк датафрейма\n",
    "sessions_test.head(5)"
   ]
  },
  {
   "cell_type": "markdown",
   "metadata": {
    "id": "aeYhrMYy0eM2"
   },
   "source": [
    "#### 4.2. Проверка корректности результатов теста\n",
    "\n",
    "Прежде чем приступать к анализу ключевых продуктовых метрик, необходимо убедиться, что тест проведён корректно и вы будете сравнивать две сопоставимые группы.\n",
    "\n",
    "- Рассчитайте количество уникальных сессий для каждого дня и обеих тестовых групп, используя группировку.\n",
    "\n",
    "- Проверьте, что количество уникальных дневных сессий в двух выборках не различается или различия не статистически значимы. Используйте статистический тест, который позволит сделать вывод о равенстве средних двух выборок.\n",
    "\n",
    "- В качестве ответа выведите на экран полученное значение p-value и интерпретируйте его."
   ]
  },
  {
   "cell_type": "markdown",
   "metadata": {
    "id": "5NUlcltkTTSU"
   },
   "source": [
    "Рассчитайте количество уникальных сессий для каждого дня и обеих тестовых групп, используя группировку."
   ]
  },
  {
   "cell_type": "code",
   "execution_count": 49,
   "metadata": {},
   "outputs": [],
   "source": [
    "# Отфильтруем данные по группе A\n",
    "unic_session_a=sessions_test[sessions_test['test_group'] == 'A']"
   ]
  },
  {
   "cell_type": "code",
   "execution_count": 50,
   "metadata": {},
   "outputs": [
    {
     "data": {
      "text/plain": [
       "session_date\n",
       "2025-10-14    1502\n",
       "2025-10-15    2235\n",
       "2025-10-16    3280\n",
       "2025-10-17    4089\n",
       "2025-10-18    5013\n",
       "2025-10-19    6535\n",
       "2025-10-20    5837\n",
       "2025-10-21    3927\n",
       "2025-10-22    3083\n",
       "2025-10-23    2470\n",
       "2025-10-24    2090\n",
       "2025-10-25    1897\n",
       "2025-10-26    1669\n",
       "2025-10-27    1454\n",
       "2025-10-28    1279\n",
       "2025-10-29    1068\n",
       "2025-10-30     887\n",
       "2025-10-31     644\n",
       "2025-11-01     434\n",
       "2025-11-02     158\n",
       "Name: session_id, dtype: int64"
      ]
     },
     "execution_count": 50,
     "metadata": {},
     "output_type": "execute_result"
    }
   ],
   "source": [
    "# Рассчитаем колличество уникальных сессий в группе А по дням\n",
    "unic_session_group_a=unic_session_a.groupby('session_date')['session_id'].count()\n",
    "unic_session_group_a"
   ]
  },
  {
   "cell_type": "code",
   "execution_count": 51,
   "metadata": {},
   "outputs": [],
   "source": [
    "# Отфильтруем данные по группе B\n",
    "unic_session_b=sessions_test[sessions_test['test_group'] == 'B']"
   ]
  },
  {
   "cell_type": "code",
   "execution_count": 52,
   "metadata": {},
   "outputs": [
    {
     "data": {
      "text/plain": [
       "session_date\n",
       "2025-10-14    1628\n",
       "2025-10-15    2283\n",
       "2025-10-16    3241\n",
       "2025-10-17    4054\n",
       "2025-10-18    5059\n",
       "2025-10-19    6779\n",
       "2025-10-20    6089\n",
       "2025-10-21    3981\n",
       "2025-10-22    3111\n",
       "2025-10-23    2548\n",
       "2025-10-24    2068\n",
       "2025-10-25    1814\n",
       "2025-10-26    1692\n",
       "2025-10-27    1517\n",
       "2025-10-28    1289\n",
       "2025-10-29    1131\n",
       "2025-10-30     876\n",
       "2025-10-31     669\n",
       "2025-11-01     465\n",
       "2025-11-02     160\n",
       "Name: session_id, dtype: int64"
      ]
     },
     "execution_count": 52,
     "metadata": {},
     "output_type": "execute_result"
    }
   ],
   "source": [
    "# Рассчитаем колличество уникальных сессий в группе B по дням\n",
    "unic_session_group_b=unic_session_b.groupby('session_date')['session_id'].count()\n",
    "unic_session_group_b"
   ]
  },
  {
   "cell_type": "code",
   "execution_count": 53,
   "metadata": {},
   "outputs": [
    {
     "name": "stdout",
     "output_type": "stream",
     "text": [
      "p-value теста Стьюдента =0.94\n",
      "Нулевая гипотеза находит подтверждение. Выборочные средние в группах A и B равны\n"
     ]
    }
   ],
   "source": [
    "metric_a=unic_session_a.groupby('session_date')['session_id'].count()\n",
    "metric_b=unic_session_b.groupby('session_date')['session_id'].count()\n",
    "alpha = 0.05 ## на каком уровне значимости проверяем гипотезу о равенстве выборочных средних\n",
    "stat_ttest, p_value_ttest = ttest_ind(\n",
    "    metric_a, \n",
    "    metric_b, \n",
    "    alternative='two-sided')\n",
    "\n",
    "if p_value_ttest>alpha:\n",
    "    print(f'p-value теста Стьюдента ={round(p_value_ttest, 2)}')\n",
    "    print('Нулевая гипотеза находит подтверждение. Выборочные средние в группах A и B равны')\n",
    "else:\n",
    "    print(f'p-value теста Стьюдента ={round(p_value_ttest, 2)}')\n",
    "    print('Нулевая гипотеза не находит подтверждения. Выборочные средние в группах A и B не равны')\n",
    "    "
   ]
  },
  {
   "cell_type": "markdown",
   "metadata": {},
   "source": [
    "**Вывод:** Полученное значение p-value, равное 0.94, значительно превышает общепринятый уровень значимости (alpha 0.05). Это означает, что у нас нет достаточных оснований отвергнуть нулевую гипотезу.\n",
    "\n",
    "Мы не обнаружили статистически значимых различий между выборочными средними в группах A и B. Вероятность получить наблюдаемые (или более экстремальные) различия между средними, если на самом деле между ними нет никакой разницы (то есть нулевая гипотеза верна), составляет 94%.\n",
    "\n",
    "Поэтому мы принимаем нулевую гипотезу: нет достаточных оснований полагать, что средние значения в группах A и B различны."
   ]
  },
  {
   "cell_type": "markdown",
   "metadata": {
    "id": "7kwRxzg70eM3"
   },
   "source": [
    "#### 4.3. Сравнение доли успешных сессий\n",
    "\n",
    "Когда вы убедились, что количество сессий в обеих выборках не различалось, можно переходить к анализу ключевой метрики — доли успешных сессий.\n",
    "\n",
    "Используйте созданный на первом шаге задания столбец `good_session` и рассчитайте долю успешных сессий для выборок A и B, а также разницу в этом показателе. Полученный вывод отобразите на экране."
   ]
  },
  {
   "cell_type": "code",
   "execution_count": 54,
   "metadata": {},
   "outputs": [
    {
     "name": "stdout",
     "output_type": "stream",
     "text": [
      "Общее количество сессий в группе A: 49551\n",
      "Общее количество сессий в группе В: 50454\n"
     ]
    }
   ],
   "source": [
    "# Рассчитываем общее количество сессий для каждой группы\n",
    "total_sessions_a = len(sessions_test[sessions_test['test_group'] == 'A'])\n",
    "total_sessions_b = len(sessions_test[sessions_test['test_group'] == 'B'])\n",
    "print(f\"Общее количество сессий в группе A: {total_sessions_a}\")\n",
    "print(f\"Общее количество сессий в группе В: {total_sessions_b}\")"
   ]
  },
  {
   "cell_type": "code",
   "execution_count": 55,
   "metadata": {},
   "outputs": [
    {
     "name": "stdout",
     "output_type": "stream",
     "text": [
      "Общее количество успешных сессий в группе A: 15248\n",
      "Общее количество успешных сессий в группе В: 16059\n"
     ]
    }
   ],
   "source": [
    "# Рассчитываем количество успешных сессий для каждой группы\n",
    "good_sessions_a = sessions_test[sessions_test['test_group'] == 'A']['good_session'].sum()\n",
    "good_sessions_b = sessions_test[sessions_test['test_group'] == 'B']['good_session'].sum()\n",
    "print(f\"Общее количество успешных сессий в группе A: {good_sessions_a}\")\n",
    "print(f\"Общее количество успешных сессий в группе В: {good_sessions_b}\")"
   ]
  },
  {
   "cell_type": "code",
   "execution_count": 56,
   "metadata": {},
   "outputs": [
    {
     "name": "stdout",
     "output_type": "stream",
     "text": [
      "Доля успешных сессий в группе A: 0.3077233557344958\n",
      "Доля успешных сессий в группе В: 0.31828992745867524\n"
     ]
    }
   ],
   "source": [
    "# Рассчитываем долю успешных сессий для каждой группы\n",
    "good_session_rate_a = good_sessions_a / total_sessions_a\n",
    "good_session_rate_b = good_sessions_b / total_sessions_b\n",
    "print(f\"Доля успешных сессий в группе A: {good_session_rate_a}\")\n",
    "print(f\"Доля успешных сессий в группе В: {good_session_rate_b}\")"
   ]
  },
  {
   "cell_type": "code",
   "execution_count": 57,
   "metadata": {},
   "outputs": [
    {
     "name": "stdout",
     "output_type": "stream",
     "text": [
      "Разница в долях (В-A): 0.010566571724179463\n"
     ]
    }
   ],
   "source": [
    "# Рассчитываем разницу в долях\n",
    "rate_difference = good_session_rate_b - good_session_rate_a\n",
    "print(f\"Разница в долях (В-A): {rate_difference}\")"
   ]
  },
  {
   "cell_type": "markdown",
   "metadata": {},
   "source": [
    "**Вывод:** количество успешных сессий в тестовой выборке примерно на 1.1% выше, чем в контрольной."
   ]
  },
  {
   "cell_type": "markdown",
   "metadata": {
    "id": "9fMFuja10eM4"
   },
   "source": [
    "#### 4.4. Насколько статистически значимо изменение ключевой метрики\n",
    "\n",
    "На предыдущем шаге вы убедились, что количество успешных сессий в тестовой выборке примерно на 1.1% выше, чем в контрольной, но делать выводы только на основе этого значения будет некорректно. Для принятия решения всегда необходимо отвечать на вопрос: является ли это изменение статистически значимым.\n",
    "\n",
    "- Используя статистический тест, рассчитайте, является ли изменение в метрике доли успешных сессий статистически значимым.\n",
    "\n",
    "- Выведите на экран полученное значение p-value и свои выводы о статистической значимости. Напомним, что уровень значимости в эксперименте был выбран на уровне 0.05."
   ]
  },
  {
   "cell_type": "markdown",
   "metadata": {},
   "source": [
    "Применим Z-тест пропорций:"
   ]
  },
  {
   "cell_type": "code",
   "execution_count": 58,
   "metadata": {
    "id": "gFvhRGwlPLS0"
   },
   "outputs": [
    {
     "name": "stdout",
     "output_type": "stream",
     "text": [
      "Предпосылка о достаточном количестве данных выполняется!\n",
      "pvalue=0.0001574739988036123\n",
      "Нулевая гипотеза не находит подтверждения\n"
     ]
    }
   ],
   "source": [
    "if (good_session_rate_a*total_sessions_a > 10)and((1-good_session_rate_a)*total_sessions_a > 10) and (good_session_rate_b*total_sessions_b > 10)and((1-good_session_rate_b)*total_sessions_b > 10):\n",
    "    print('Предпосылка о достаточном количестве данных выполняется!')\n",
    "else:\n",
    "    print('Предпосылка о достаточном количестве данных НЕ выполняется!')\n",
    "\n",
    "alpha = 0.05 ## на каком уровне значимости проверяем гипотезу о равенстве вероятностей\n",
    "\n",
    "stat_ztest, p_value_ztest = proportions_ztest(\n",
    "    [good_sessions_a, good_sessions_b],\n",
    "    [total_sessions_a, total_sessions_b],\n",
    "    alternative='smaller' \n",
    ")\n",
    "\n",
    "print(f'pvalue={p_value_ztest}') # выведите полученное p-value \n",
    "\n",
    "if p_value_ztest > alpha:\n",
    "    print('Нулевая гипотеза находит подтверждение')\n",
    "else:\n",
    "    print('Нулевая гипотеза не находит подтверждения')\n",
    "\n",
    "text_interpretation = 'не изменилось' # напишите одно из выражений (\"сократилось\", \"не изменилось\", \"увеличилось\")"
   ]
  },
  {
   "cell_type": "markdown",
   "metadata": {},
   "source": [
    "**Вывод:** Полученное значение p-value, равное 0.00016 (округлённо), чрезвычайно мало и значительно меньше общепринятого уровня значимости (alpha), например, 0.05. Это означает, что у нас есть убедительные основания отвергнуть нулевую гипотезу.\n",
    "\n",
    "В контексте A/B-теста, это говорит о том, что мы обнаружили статистически значимое различие между метриками (например, долей успешных сессий) в группах A и B. Вероятность получить наблюдаемые (или более экстремальные) различия, если на самом деле между группами нет никакой разницы, крайне мала (около 0.016%).\n",
    "\n",
    "Мы отвергаем нулевую гипотезу. Существуют статистически значимые доказательства того, что между метриками в группах A и B есть разница. Необходимо определить, какая группа показала лучшие результаты, чтобы принять решение о внедрении изменений."
   ]
  },
  {
   "cell_type": "markdown",
   "metadata": {
    "id": "GnJrkY9Q63zS"
   },
   "source": [
    "#### 4.5. Вывод по результатам A/B-эксперимента\n",
    "\n",
    "На основе проведённого анализа результатов теста сформулируйте и запишите свои выводы для команды разработки приложения. В выводе обязательно укажите:\n",
    "\n",
    "- Характеристики проведённого эксперимента, количество задействованных пользователей и длительность эксперимента.\n",
    "\n",
    "- Повлияло ли внедрение нового алгоритма рекомендаций на рост ключевой метрики и как.\n",
    "\n",
    "- Каким получилось значение p-value для оценки статистической значимости выявленного эффекта.\n",
    "\n",
    "- Стоит ли внедрять новоовведение в приложение."
   ]
  },
  {
   "cell_type": "markdown",
   "metadata": {},
   "source": [
    "1. Характеристики эксперимента:\n",
    "\n",
    "Тип эксперимента: A/B-тестирование нового алгоритма рекомендаций.\n",
    "Ключевая метрика: Доля успешных сессий (good_session).\n",
    "Размер выборок: 17441 пользователей для каждой группы\n",
    "Длительность эксперимента: 4 дня\n",
    "\n",
    "2. Влияние нового алгоритма рекомендаций на ключевую метрику:\n",
    "\n",
    "В ходе эксперимента было обнаружено статистически значимое влияние нового алгоритма рекомендаций на долю успешных сессий пользователей. Наблюдается увеличение доли успешных сессий в группе В. Дальнейший анализ необходим для оценки величины эффекта и возможных побочных эффектов.\n",
    "\n",
    "3. Значение p-value:\n",
    "\n",
    "P-value для оценки статистической значимости разницы в долях успешных сессий между группами составило 0.00016. Данное значение значительно меньше установленного уровня значимости (alpha = 0.05), что свидетельствует о высокой статистической значимости полученного результата.\n",
    "\n",
    "4. Рекомендации по внедрению нововведения:\n",
    "\n",
    "Требуется дальнейший анализ, прежде чем принимать решение о внедрении нового алгоритма рекомендаций.\n",
    "Рекомендуется проверить отсутствие негативных изменений в других важных метриках. При положительном результате анализа - рекомендуется внедрение нового алгоритма."
   ]
  }
 ],
 "metadata": {
  "ExecuteTimeLog": [
   {
    "duration": 447,
    "start_time": "2025-04-23T08:23:48.916Z"
   },
   {
    "duration": 265,
    "start_time": "2025-04-23T08:26:28.056Z"
   },
   {
    "duration": 390,
    "start_time": "2025-04-23T08:31:42.279Z"
   },
   {
    "duration": 96,
    "start_time": "2025-04-23T08:31:42.671Z"
   },
   {
    "duration": 0,
    "start_time": "2025-04-23T08:31:42.769Z"
   },
   {
    "duration": 0,
    "start_time": "2025-04-23T08:31:42.770Z"
   },
   {
    "duration": 1962,
    "start_time": "2025-04-23T08:32:42.495Z"
   },
   {
    "duration": 20,
    "start_time": "2025-04-23T08:33:06.415Z"
   },
   {
    "duration": 585,
    "start_time": "2025-04-23T08:34:47.535Z"
   },
   {
    "duration": 604,
    "start_time": "2025-04-23T08:34:55.638Z"
   },
   {
    "duration": 656,
    "start_time": "2025-04-23T09:15:23.776Z"
   },
   {
    "duration": 3,
    "start_time": "2025-04-23T09:16:49.045Z"
   },
   {
    "duration": 5,
    "start_time": "2025-04-23T09:16:58.752Z"
   },
   {
    "duration": 29,
    "start_time": "2025-04-23T09:17:44.916Z"
   },
   {
    "duration": 40,
    "start_time": "2025-04-23T09:18:02.460Z"
   },
   {
    "duration": 11,
    "start_time": "2025-04-23T10:59:22.845Z"
   },
   {
    "duration": 423,
    "start_time": "2025-04-23T10:59:29.448Z"
   },
   {
    "duration": 1915,
    "start_time": "2025-04-23T10:59:29.873Z"
   },
   {
    "duration": 18,
    "start_time": "2025-04-23T10:59:31.789Z"
   },
   {
    "duration": 657,
    "start_time": "2025-04-23T10:59:31.809Z"
   },
   {
    "duration": 3,
    "start_time": "2025-04-23T10:59:32.467Z"
   },
   {
    "duration": 55,
    "start_time": "2025-04-23T10:59:32.472Z"
   },
   {
    "duration": 75,
    "start_time": "2025-04-23T10:59:32.529Z"
   },
   {
    "duration": 0,
    "start_time": "2025-04-23T10:59:32.605Z"
   },
   {
    "duration": 0,
    "start_time": "2025-04-23T10:59:32.607Z"
   },
   {
    "duration": 186,
    "start_time": "2025-04-23T10:59:48.165Z"
   },
   {
    "duration": 17,
    "start_time": "2025-04-23T11:02:08.641Z"
   },
   {
    "duration": 21,
    "start_time": "2025-04-23T11:04:04.202Z"
   },
   {
    "duration": 29,
    "start_time": "2025-04-23T12:09:03.393Z"
   },
   {
    "duration": 85,
    "start_time": "2025-04-23T12:31:51.187Z"
   },
   {
    "duration": 75,
    "start_time": "2025-04-23T12:32:38.306Z"
   },
   {
    "duration": 187,
    "start_time": "2025-04-23T12:33:46.160Z"
   },
   {
    "duration": 19,
    "start_time": "2025-04-23T12:34:34.369Z"
   },
   {
    "duration": 4,
    "start_time": "2025-04-23T12:41:19.823Z"
   },
   {
    "duration": 7,
    "start_time": "2025-04-23T12:41:26.646Z"
   },
   {
    "duration": 625,
    "start_time": "2025-04-23T12:43:56.579Z"
   },
   {
    "duration": 1249,
    "start_time": "2025-04-23T12:44:50.045Z"
   },
   {
    "duration": 2068,
    "start_time": "2025-04-23T12:44:51.296Z"
   },
   {
    "duration": 16,
    "start_time": "2025-04-23T12:44:53.366Z"
   },
   {
    "duration": 669,
    "start_time": "2025-04-23T12:44:53.383Z"
   },
   {
    "duration": 4,
    "start_time": "2025-04-23T12:44:54.054Z"
   },
   {
    "duration": 96,
    "start_time": "2025-04-23T12:44:54.059Z"
   },
   {
    "duration": 214,
    "start_time": "2025-04-23T12:44:54.158Z"
   },
   {
    "duration": 18,
    "start_time": "2025-04-23T12:44:54.374Z"
   },
   {
    "duration": 44,
    "start_time": "2025-04-23T12:44:54.394Z"
   },
   {
    "duration": 3,
    "start_time": "2025-04-23T12:44:54.440Z"
   },
   {
    "duration": 173,
    "start_time": "2025-04-23T12:44:54.445Z"
   },
   {
    "duration": 154,
    "start_time": "2025-04-23T12:44:54.620Z"
   },
   {
    "duration": 1,
    "start_time": "2025-04-23T12:44:54.775Z"
   },
   {
    "duration": 7,
    "start_time": "2025-04-23T12:46:09.488Z"
   },
   {
    "duration": 144,
    "start_time": "2025-04-23T12:46:34.753Z"
   },
   {
    "duration": 76,
    "start_time": "2025-04-23T12:49:06.188Z"
   },
   {
    "duration": 146,
    "start_time": "2025-04-23T12:49:46.317Z"
   },
   {
    "duration": 149,
    "start_time": "2025-04-23T12:49:53.658Z"
   },
   {
    "duration": 4,
    "start_time": "2025-04-23T12:50:10.980Z"
   },
   {
    "duration": 12,
    "start_time": "2025-04-23T12:57:54.526Z"
   },
   {
    "duration": 15,
    "start_time": "2025-04-23T12:59:01.702Z"
   },
   {
    "duration": 154,
    "start_time": "2025-04-23T12:59:49.438Z"
   },
   {
    "duration": 152,
    "start_time": "2025-04-23T13:00:05.315Z"
   },
   {
    "duration": 8,
    "start_time": "2025-04-23T13:02:07.998Z"
   },
   {
    "duration": 171,
    "start_time": "2025-04-23T13:02:32.009Z"
   },
   {
    "duration": 183,
    "start_time": "2025-04-23T13:08:24.061Z"
   },
   {
    "duration": 262,
    "start_time": "2025-04-23T13:08:51.789Z"
   },
   {
    "duration": 7,
    "start_time": "2025-04-23T13:22:36.826Z"
   },
   {
    "duration": 181,
    "start_time": "2025-04-23T13:22:37.866Z"
   },
   {
    "duration": 181,
    "start_time": "2025-04-23T13:22:55.179Z"
   },
   {
    "duration": 6,
    "start_time": "2025-04-23T13:23:21.771Z"
   },
   {
    "duration": 5,
    "start_time": "2025-04-23T13:24:09.505Z"
   },
   {
    "duration": 18,
    "start_time": "2025-04-23T13:24:13.060Z"
   },
   {
    "duration": 7,
    "start_time": "2025-04-23T13:24:29.611Z"
   },
   {
    "duration": 91,
    "start_time": "2025-04-23T13:25:10.041Z"
   },
   {
    "duration": 4,
    "start_time": "2025-04-23T13:26:10.001Z"
   },
   {
    "duration": 174,
    "start_time": "2025-04-23T13:26:12.383Z"
   },
   {
    "duration": 160,
    "start_time": "2025-04-23T13:27:18.047Z"
   },
   {
    "duration": 36,
    "start_time": "2025-04-23T13:34:57.878Z"
   },
   {
    "duration": 6,
    "start_time": "2025-04-23T13:35:05.204Z"
   },
   {
    "duration": 164,
    "start_time": "2025-04-23T13:36:27.665Z"
   },
   {
    "duration": 169,
    "start_time": "2025-04-23T13:36:34.474Z"
   },
   {
    "duration": 169,
    "start_time": "2025-04-23T13:37:36.191Z"
   },
   {
    "duration": 1503,
    "start_time": "2025-04-23T13:51:12.119Z"
   },
   {
    "duration": 18,
    "start_time": "2025-04-23T13:51:24.309Z"
   },
   {
    "duration": 5,
    "start_time": "2025-04-23T13:54:42.521Z"
   },
   {
    "duration": 11,
    "start_time": "2025-04-23T13:55:12.040Z"
   },
   {
    "duration": 45,
    "start_time": "2025-04-23T13:55:40.655Z"
   },
   {
    "duration": 32,
    "start_time": "2025-04-23T13:56:25.182Z"
   },
   {
    "duration": 13,
    "start_time": "2025-04-23T13:57:31.647Z"
   },
   {
    "duration": 17,
    "start_time": "2025-04-23T13:58:45.436Z"
   },
   {
    "duration": 8,
    "start_time": "2025-04-23T13:58:52.230Z"
   },
   {
    "duration": 144,
    "start_time": "2025-04-23T13:59:38.861Z"
   },
   {
    "duration": 1424,
    "start_time": "2025-04-23T13:59:47.878Z"
   },
   {
    "duration": 12,
    "start_time": "2025-04-23T13:59:50.676Z"
   },
   {
    "duration": 40,
    "start_time": "2025-04-23T13:59:52.173Z"
   },
   {
    "duration": 17,
    "start_time": "2025-04-23T13:59:53.782Z"
   },
   {
    "duration": 50,
    "start_time": "2025-04-23T14:01:03.986Z"
   },
   {
    "duration": 51,
    "start_time": "2025-04-23T14:01:11.397Z"
   },
   {
    "duration": 48,
    "start_time": "2025-04-23T14:01:42.603Z"
   },
   {
    "duration": 49,
    "start_time": "2025-04-23T14:01:49.243Z"
   },
   {
    "duration": 1247,
    "start_time": "2025-04-23T14:02:12.422Z"
   },
   {
    "duration": 2204,
    "start_time": "2025-04-23T14:02:13.672Z"
   },
   {
    "duration": 15,
    "start_time": "2025-04-23T14:02:15.878Z"
   },
   {
    "duration": 655,
    "start_time": "2025-04-23T14:02:15.895Z"
   },
   {
    "duration": 3,
    "start_time": "2025-04-23T14:02:16.552Z"
   },
   {
    "duration": 42,
    "start_time": "2025-04-23T14:02:16.557Z"
   },
   {
    "duration": 195,
    "start_time": "2025-04-23T14:02:16.601Z"
   },
   {
    "duration": 18,
    "start_time": "2025-04-23T14:02:16.798Z"
   },
   {
    "duration": 34,
    "start_time": "2025-04-23T14:02:16.817Z"
   },
   {
    "duration": 9,
    "start_time": "2025-04-23T14:02:16.854Z"
   },
   {
    "duration": 202,
    "start_time": "2025-04-23T14:02:16.865Z"
   },
   {
    "duration": 3,
    "start_time": "2025-04-23T14:02:17.069Z"
   },
   {
    "duration": 202,
    "start_time": "2025-04-23T14:02:17.073Z"
   },
   {
    "duration": 36,
    "start_time": "2025-04-23T14:02:17.277Z"
   },
   {
    "duration": 180,
    "start_time": "2025-04-23T14:02:17.315Z"
   },
   {
    "duration": 1461,
    "start_time": "2025-04-23T14:02:17.496Z"
   },
   {
    "duration": 11,
    "start_time": "2025-04-23T14:02:18.959Z"
   },
   {
    "duration": 84,
    "start_time": "2025-04-23T14:02:18.972Z"
   },
   {
    "duration": 17,
    "start_time": "2025-04-23T14:02:19.058Z"
   },
   {
    "duration": 88,
    "start_time": "2025-04-23T14:02:19.077Z"
   },
   {
    "duration": 50,
    "start_time": "2025-04-23T14:02:19.167Z"
   },
   {
    "duration": 156,
    "start_time": "2025-04-23T14:02:19.218Z"
   },
   {
    "duration": 0,
    "start_time": "2025-04-23T14:02:19.376Z"
   },
   {
    "duration": 48,
    "start_time": "2025-04-23T14:02:53.179Z"
   },
   {
    "duration": 4,
    "start_time": "2025-04-23T14:03:30.146Z"
   },
   {
    "duration": 4,
    "start_time": "2025-04-23T14:03:39.920Z"
   },
   {
    "duration": 6,
    "start_time": "2025-04-23T14:03:45.971Z"
   },
   {
    "duration": 10,
    "start_time": "2025-04-23T14:04:07.043Z"
   },
   {
    "duration": 50,
    "start_time": "2025-04-23T14:10:28.521Z"
   },
   {
    "duration": 160,
    "start_time": "2025-04-23T14:22:11.339Z"
   },
   {
    "duration": 147,
    "start_time": "2025-04-23T14:22:29.630Z"
   },
   {
    "duration": 145,
    "start_time": "2025-04-23T14:23:03.682Z"
   },
   {
    "duration": 2679,
    "start_time": "2025-04-23T14:23:07.736Z"
   },
   {
    "duration": 12,
    "start_time": "2025-04-23T14:23:12.940Z"
   },
   {
    "duration": 29,
    "start_time": "2025-04-23T14:23:13.971Z"
   },
   {
    "duration": 28,
    "start_time": "2025-04-23T14:23:17.460Z"
   },
   {
    "duration": 53,
    "start_time": "2025-04-23T14:23:36.836Z"
   },
   {
    "duration": 42,
    "start_time": "2025-04-23T14:23:39.931Z"
   },
   {
    "duration": 47,
    "start_time": "2025-04-23T18:06:59.507Z"
   },
   {
    "duration": 1263,
    "start_time": "2025-04-23T18:07:05.001Z"
   },
   {
    "duration": 1905,
    "start_time": "2025-04-23T18:07:06.266Z"
   },
   {
    "duration": 14,
    "start_time": "2025-04-23T18:07:08.173Z"
   },
   {
    "duration": 544,
    "start_time": "2025-04-23T18:07:08.188Z"
   },
   {
    "duration": 5,
    "start_time": "2025-04-23T18:07:08.734Z"
   },
   {
    "duration": 50,
    "start_time": "2025-04-23T18:07:08.740Z"
   },
   {
    "duration": 150,
    "start_time": "2025-04-23T18:07:08.792Z"
   },
   {
    "duration": 15,
    "start_time": "2025-04-23T18:07:08.943Z"
   },
   {
    "duration": 16,
    "start_time": "2025-04-23T18:07:08.959Z"
   },
   {
    "duration": 7,
    "start_time": "2025-04-23T18:07:08.977Z"
   },
   {
    "duration": 192,
    "start_time": "2025-04-23T18:07:08.985Z"
   },
   {
    "duration": 3,
    "start_time": "2025-04-23T18:07:09.178Z"
   },
   {
    "duration": 165,
    "start_time": "2025-04-23T18:07:09.182Z"
   },
   {
    "duration": 32,
    "start_time": "2025-04-23T18:07:09.348Z"
   },
   {
    "duration": 169,
    "start_time": "2025-04-23T18:07:09.381Z"
   },
   {
    "duration": 2591,
    "start_time": "2025-04-23T18:07:09.551Z"
   },
   {
    "duration": 13,
    "start_time": "2025-04-23T18:07:12.144Z"
   },
   {
    "duration": 42,
    "start_time": "2025-04-23T18:07:12.159Z"
   },
   {
    "duration": 41,
    "start_time": "2025-04-23T18:07:12.203Z"
   },
   {
    "duration": 60,
    "start_time": "2025-04-23T18:07:12.245Z"
   },
   {
    "duration": 65,
    "start_time": "2025-04-23T18:07:12.307Z"
   },
   {
    "duration": 120,
    "start_time": "2025-04-23T18:07:12.373Z"
   },
   {
    "duration": 0,
    "start_time": "2025-04-23T18:07:12.495Z"
   },
   {
    "duration": 22,
    "start_time": "2025-04-23T18:09:37.152Z"
   },
   {
    "duration": 43,
    "start_time": "2025-04-23T18:10:10.918Z"
   },
   {
    "duration": 58,
    "start_time": "2025-04-23T18:12:02.768Z"
   },
   {
    "duration": 3,
    "start_time": "2025-04-23T18:14:26.900Z"
   },
   {
    "duration": 6,
    "start_time": "2025-04-23T18:14:35.636Z"
   },
   {
    "duration": 6,
    "start_time": "2025-04-23T18:14:57.942Z"
   },
   {
    "duration": 3,
    "start_time": "2025-04-23T18:15:09.182Z"
   },
   {
    "duration": 140,
    "start_time": "2025-04-23T18:16:52.820Z"
   },
   {
    "duration": 15,
    "start_time": "2025-04-23T18:22:01.086Z"
   },
   {
    "duration": 172,
    "start_time": "2025-04-23T18:27:41.940Z"
   },
   {
    "duration": 159,
    "start_time": "2025-04-23T18:29:02.489Z"
   },
   {
    "duration": 5,
    "start_time": "2025-04-23T18:30:28.278Z"
   },
   {
    "duration": 169,
    "start_time": "2025-04-23T18:31:03.757Z"
   },
   {
    "duration": 21,
    "start_time": "2025-04-23T18:31:03.927Z"
   },
   {
    "duration": 155,
    "start_time": "2025-04-23T18:31:21.783Z"
   },
   {
    "duration": 14,
    "start_time": "2025-04-23T18:31:21.940Z"
   },
   {
    "duration": 52,
    "start_time": "2025-04-23T18:32:42.135Z"
   },
   {
    "duration": 12,
    "start_time": "2025-04-23T18:33:40.608Z"
   },
   {
    "duration": 15,
    "start_time": "2025-04-23T18:33:54.003Z"
   },
   {
    "duration": 4,
    "start_time": "2025-04-23T18:39:53.880Z"
   },
   {
    "duration": 6,
    "start_time": "2025-04-23T18:42:00.546Z"
   },
   {
    "duration": 6,
    "start_time": "2025-04-23T18:42:33.597Z"
   },
   {
    "duration": 9,
    "start_time": "2025-04-23T18:45:34.174Z"
   },
   {
    "duration": 6,
    "start_time": "2025-04-23T18:46:25.132Z"
   },
   {
    "duration": 7,
    "start_time": "2025-04-23T18:46:49.164Z"
   },
   {
    "duration": 8,
    "start_time": "2025-04-23T18:46:59.941Z"
   },
   {
    "duration": 21,
    "start_time": "2025-04-23T18:49:20.915Z"
   },
   {
    "duration": 15,
    "start_time": "2025-04-23T18:49:34.115Z"
   },
   {
    "duration": 118,
    "start_time": "2025-04-23T18:51:21.048Z"
   },
   {
    "duration": 133,
    "start_time": "2025-04-23T18:51:27.000Z"
   },
   {
    "duration": 6,
    "start_time": "2025-04-23T18:56:47.774Z"
   },
   {
    "duration": 6,
    "start_time": "2025-04-23T18:56:59.691Z"
   },
   {
    "duration": 7,
    "start_time": "2025-04-23T18:58:57.824Z"
   },
   {
    "duration": 7,
    "start_time": "2025-04-23T18:59:00.999Z"
   },
   {
    "duration": 4,
    "start_time": "2025-04-23T18:59:32.191Z"
   },
   {
    "duration": 4,
    "start_time": "2025-04-23T19:00:08.999Z"
   },
   {
    "duration": 6,
    "start_time": "2025-04-23T19:00:17.297Z"
   },
   {
    "duration": 8,
    "start_time": "2025-04-23T19:00:37.176Z"
   },
   {
    "duration": 8,
    "start_time": "2025-04-23T19:00:46.986Z"
   },
   {
    "duration": 184,
    "start_time": "2025-04-23T19:01:57.916Z"
   },
   {
    "duration": 114,
    "start_time": "2025-04-23T19:02:45.616Z"
   },
   {
    "duration": 107,
    "start_time": "2025-04-23T19:02:57.905Z"
   },
   {
    "duration": 7,
    "start_time": "2025-04-23T19:03:12.087Z"
   },
   {
    "duration": 115,
    "start_time": "2025-04-23T19:04:02.865Z"
   },
   {
    "duration": 8,
    "start_time": "2025-04-23T19:04:37.512Z"
   },
   {
    "duration": 7,
    "start_time": "2025-04-23T19:04:47.991Z"
   },
   {
    "duration": 121,
    "start_time": "2025-04-23T19:05:05.640Z"
   },
   {
    "duration": 7,
    "start_time": "2025-04-23T19:08:04.250Z"
   },
   {
    "duration": 9,
    "start_time": "2025-04-23T19:10:46.710Z"
   },
   {
    "duration": 5,
    "start_time": "2025-04-23T19:11:33.509Z"
   },
   {
    "duration": 9,
    "start_time": "2025-04-23T19:11:47.774Z"
   },
   {
    "duration": 13,
    "start_time": "2025-04-23T19:12:03.037Z"
   },
   {
    "duration": 15,
    "start_time": "2025-04-23T19:12:28.777Z"
   },
   {
    "duration": 8,
    "start_time": "2025-04-23T19:15:51.017Z"
   },
   {
    "duration": 6,
    "start_time": "2025-04-23T19:20:01.570Z"
   },
   {
    "duration": 4,
    "start_time": "2025-04-23T19:21:15.360Z"
   },
   {
    "duration": 5,
    "start_time": "2025-04-23T19:21:32.903Z"
   },
   {
    "duration": 8,
    "start_time": "2025-04-23T19:23:34.419Z"
   },
   {
    "duration": 8,
    "start_time": "2025-04-23T19:24:46.315Z"
   },
   {
    "duration": 122,
    "start_time": "2025-04-23T19:26:28.809Z"
   },
   {
    "duration": 137,
    "start_time": "2025-04-23T19:26:35.436Z"
   },
   {
    "duration": 127,
    "start_time": "2025-04-23T19:27:29.121Z"
   },
   {
    "duration": 5,
    "start_time": "2025-04-23T19:27:57.942Z"
   },
   {
    "duration": 17,
    "start_time": "2025-04-23T19:28:16.635Z"
   },
   {
    "duration": 5,
    "start_time": "2025-04-23T19:28:22.258Z"
   },
   {
    "duration": 10,
    "start_time": "2025-04-23T19:28:22.938Z"
   },
   {
    "duration": 126,
    "start_time": "2025-04-23T19:29:03.851Z"
   },
   {
    "duration": 122,
    "start_time": "2025-04-23T19:33:55.144Z"
   },
   {
    "duration": 1447,
    "start_time": "2025-04-24T06:16:56.676Z"
   },
   {
    "duration": 2152,
    "start_time": "2025-04-24T06:16:58.125Z"
   },
   {
    "duration": 16,
    "start_time": "2025-04-24T06:17:00.279Z"
   },
   {
    "duration": 676,
    "start_time": "2025-04-24T06:17:00.297Z"
   },
   {
    "duration": 3,
    "start_time": "2025-04-24T06:17:00.975Z"
   },
   {
    "duration": 44,
    "start_time": "2025-04-24T06:17:00.980Z"
   },
   {
    "duration": 236,
    "start_time": "2025-04-24T06:17:01.025Z"
   },
   {
    "duration": 18,
    "start_time": "2025-04-24T06:17:01.262Z"
   },
   {
    "duration": 40,
    "start_time": "2025-04-24T06:17:01.282Z"
   },
   {
    "duration": 7,
    "start_time": "2025-04-24T06:17:01.325Z"
   },
   {
    "duration": 249,
    "start_time": "2025-04-24T06:17:01.334Z"
   },
   {
    "duration": 4,
    "start_time": "2025-04-24T06:17:01.584Z"
   },
   {
    "duration": 226,
    "start_time": "2025-04-24T06:17:01.589Z"
   },
   {
    "duration": 45,
    "start_time": "2025-04-24T06:17:01.817Z"
   },
   {
    "duration": 181,
    "start_time": "2025-04-24T06:17:01.864Z"
   },
   {
    "duration": 2832,
    "start_time": "2025-04-24T06:17:02.046Z"
   },
   {
    "duration": 12,
    "start_time": "2025-04-24T06:17:04.880Z"
   },
   {
    "duration": 92,
    "start_time": "2025-04-24T06:17:04.894Z"
   },
   {
    "duration": 24,
    "start_time": "2025-04-24T06:17:04.988Z"
   },
   {
    "duration": 83,
    "start_time": "2025-04-24T06:17:05.014Z"
   },
   {
    "duration": 21,
    "start_time": "2025-04-24T06:17:05.099Z"
   },
   {
    "duration": 176,
    "start_time": "2025-04-24T06:17:05.121Z"
   },
   {
    "duration": 21,
    "start_time": "2025-04-24T06:17:05.298Z"
   },
   {
    "duration": 299,
    "start_time": "2025-04-24T06:17:05.322Z"
   },
   {
    "duration": 88,
    "start_time": "2025-04-24T06:17:05.623Z"
   },
   {
    "duration": 73,
    "start_time": "2025-04-24T06:17:05.712Z"
   },
   {
    "duration": 25,
    "start_time": "2025-04-24T06:17:05.787Z"
   },
   {
    "duration": 43,
    "start_time": "2025-04-24T06:17:05.815Z"
   },
   {
    "duration": 45,
    "start_time": "2025-04-24T06:17:05.860Z"
   },
   {
    "duration": 137,
    "start_time": "2025-04-24T06:17:05.907Z"
   },
   {
    "duration": 185,
    "start_time": "2025-04-24T06:17:06.045Z"
   },
   {
    "duration": 8,
    "start_time": "2025-04-24T06:17:06.232Z"
   },
   {
    "duration": 146,
    "start_time": "2025-04-24T06:17:06.242Z"
   },
   {
    "duration": 81,
    "start_time": "2025-04-24T06:17:06.389Z"
   },
   {
    "duration": 488,
    "start_time": "2025-04-24T06:17:06.472Z"
   },
   {
    "duration": 56,
    "start_time": "2025-04-24T06:17:06.962Z"
   },
   {
    "duration": 40,
    "start_time": "2025-04-24T06:17:07.020Z"
   },
   {
    "duration": 176,
    "start_time": "2025-04-24T06:17:07.062Z"
   },
   {
    "duration": 7,
    "start_time": "2025-04-24T06:18:30.188Z"
   },
   {
    "duration": 118,
    "start_time": "2025-04-24T06:20:38.833Z"
   },
   {
    "duration": 7,
    "start_time": "2025-04-24T06:21:05.431Z"
   },
   {
    "duration": 213,
    "start_time": "2025-04-24T06:21:53.080Z"
   },
   {
    "duration": 209,
    "start_time": "2025-04-24T06:58:39.052Z"
   },
   {
    "duration": 187,
    "start_time": "2025-04-24T06:59:50.920Z"
   },
   {
    "duration": 208,
    "start_time": "2025-04-24T07:00:15.644Z"
   },
   {
    "duration": 203,
    "start_time": "2025-04-24T07:01:38.675Z"
   },
   {
    "duration": 209,
    "start_time": "2025-04-24T07:01:54.635Z"
   },
   {
    "duration": 3,
    "start_time": "2025-04-24T07:07:04.669Z"
   },
   {
    "duration": 28,
    "start_time": "2025-04-24T07:13:11.497Z"
   },
   {
    "duration": 6,
    "start_time": "2025-04-24T07:16:19.112Z"
   },
   {
    "duration": 7,
    "start_time": "2025-04-24T07:20:30.650Z"
   },
   {
    "duration": 527,
    "start_time": "2025-04-24T08:31:32.830Z"
   },
   {
    "duration": 686,
    "start_time": "2025-04-24T08:34:23.167Z"
   },
   {
    "duration": 12,
    "start_time": "2025-04-24T08:35:38.639Z"
   },
   {
    "duration": 24,
    "start_time": "2025-04-24T08:36:48.401Z"
   },
   {
    "duration": 719,
    "start_time": "2025-04-24T08:39:29.780Z"
   },
   {
    "duration": 623,
    "start_time": "2025-04-24T08:39:31.708Z"
   },
   {
    "duration": 12,
    "start_time": "2025-04-24T08:39:40.121Z"
   },
   {
    "duration": 26,
    "start_time": "2025-04-24T08:39:56.165Z"
   },
   {
    "duration": 24,
    "start_time": "2025-04-24T08:40:39.214Z"
   },
   {
    "duration": 105,
    "start_time": "2025-04-24T09:59:43.321Z"
   },
   {
    "duration": 27,
    "start_time": "2025-04-24T10:00:51.696Z"
   },
   {
    "duration": 26,
    "start_time": "2025-04-24T10:00:58.104Z"
   },
   {
    "duration": 54,
    "start_time": "2025-04-24T10:00:59.801Z"
   },
   {
    "duration": 265,
    "start_time": "2025-04-24T10:01:23.177Z"
   },
   {
    "duration": 3,
    "start_time": "2025-04-24T10:03:40.646Z"
   },
   {
    "duration": 259,
    "start_time": "2025-04-24T10:03:55.232Z"
   },
   {
    "duration": 30,
    "start_time": "2025-04-24T10:16:58.854Z"
   },
   {
    "duration": 30,
    "start_time": "2025-04-24T10:16:59.892Z"
   },
   {
    "duration": 26,
    "start_time": "2025-04-24T10:18:29.908Z"
   },
   {
    "duration": 9,
    "start_time": "2025-04-24T10:18:54.915Z"
   },
   {
    "duration": 28,
    "start_time": "2025-04-24T10:19:12.683Z"
   },
   {
    "duration": 10,
    "start_time": "2025-04-24T10:19:14.137Z"
   },
   {
    "duration": 1252,
    "start_time": "2025-04-24T10:19:22.868Z"
   },
   {
    "duration": 1960,
    "start_time": "2025-04-24T10:19:24.122Z"
   },
   {
    "duration": 17,
    "start_time": "2025-04-24T10:19:26.084Z"
   },
   {
    "duration": 680,
    "start_time": "2025-04-24T10:19:26.103Z"
   },
   {
    "duration": 3,
    "start_time": "2025-04-24T10:19:26.785Z"
   },
   {
    "duration": 47,
    "start_time": "2025-04-24T10:19:26.790Z"
   },
   {
    "duration": 206,
    "start_time": "2025-04-24T10:19:26.839Z"
   },
   {
    "duration": 23,
    "start_time": "2025-04-24T10:19:27.047Z"
   },
   {
    "duration": 23,
    "start_time": "2025-04-24T10:19:27.072Z"
   },
   {
    "duration": 9,
    "start_time": "2025-04-24T10:19:27.099Z"
   },
   {
    "duration": 228,
    "start_time": "2025-04-24T10:19:27.110Z"
   },
   {
    "duration": 237,
    "start_time": "2025-04-24T10:19:27.340Z"
   },
   {
    "duration": 3,
    "start_time": "2025-04-24T10:19:27.579Z"
   },
   {
    "duration": 195,
    "start_time": "2025-04-24T10:19:27.584Z"
   },
   {
    "duration": 37,
    "start_time": "2025-04-24T10:19:27.781Z"
   },
   {
    "duration": 191,
    "start_time": "2025-04-24T10:19:27.820Z"
   },
   {
    "duration": 2868,
    "start_time": "2025-04-24T10:19:28.013Z"
   },
   {
    "duration": 12,
    "start_time": "2025-04-24T10:19:30.884Z"
   },
   {
    "duration": 172,
    "start_time": "2025-04-24T10:19:30.897Z"
   },
   {
    "duration": 27,
    "start_time": "2025-04-24T10:19:31.071Z"
   },
   {
    "duration": 74,
    "start_time": "2025-04-24T10:19:31.100Z"
   },
   {
    "duration": 40,
    "start_time": "2025-04-24T10:19:31.176Z"
   },
   {
    "duration": 203,
    "start_time": "2025-04-24T10:19:31.217Z"
   },
   {
    "duration": 19,
    "start_time": "2025-04-24T10:19:31.422Z"
   },
   {
    "duration": 213,
    "start_time": "2025-04-24T10:19:31.443Z"
   },
   {
    "duration": 43,
    "start_time": "2025-04-24T10:19:31.660Z"
   },
   {
    "duration": 15,
    "start_time": "2025-04-24T10:19:31.705Z"
   },
   {
    "duration": 44,
    "start_time": "2025-04-24T10:19:31.724Z"
   },
   {
    "duration": 22,
    "start_time": "2025-04-24T10:19:31.770Z"
   },
   {
    "duration": 18,
    "start_time": "2025-04-24T10:19:31.793Z"
   },
   {
    "duration": 136,
    "start_time": "2025-04-24T10:19:31.813Z"
   },
   {
    "duration": 160,
    "start_time": "2025-04-24T10:19:31.951Z"
   },
   {
    "duration": 8,
    "start_time": "2025-04-24T10:19:32.114Z"
   },
   {
    "duration": 102,
    "start_time": "2025-04-24T10:19:32.124Z"
   },
   {
    "duration": 148,
    "start_time": "2025-04-24T10:19:32.228Z"
   },
   {
    "duration": 238,
    "start_time": "2025-04-24T10:19:32.378Z"
   },
   {
    "duration": 4,
    "start_time": "2025-04-24T10:19:32.618Z"
   },
   {
    "duration": 87,
    "start_time": "2025-04-24T10:19:32.624Z"
   },
   {
    "duration": 176,
    "start_time": "2025-04-24T10:19:32.713Z"
   },
   {
    "duration": 150,
    "start_time": "2025-04-24T10:19:32.891Z"
   },
   {
    "duration": 219,
    "start_time": "2025-04-24T10:19:33.043Z"
   },
   {
    "duration": 6,
    "start_time": "2025-04-24T10:19:33.264Z"
   },
   {
    "duration": 145,
    "start_time": "2025-04-24T10:19:33.273Z"
   },
   {
    "duration": 1123,
    "start_time": "2025-04-24T10:19:33.420Z"
   },
   {
    "duration": 691,
    "start_time": "2025-04-24T10:19:34.545Z"
   },
   {
    "duration": 12,
    "start_time": "2025-04-24T10:19:35.238Z"
   },
   {
    "duration": 47,
    "start_time": "2025-04-24T10:19:35.252Z"
   },
   {
    "duration": 109,
    "start_time": "2025-04-24T10:19:35.301Z"
   },
   {
    "duration": 0,
    "start_time": "2025-04-24T10:19:35.411Z"
   },
   {
    "duration": 0,
    "start_time": "2025-04-24T10:19:35.413Z"
   },
   {
    "duration": 30,
    "start_time": "2025-04-24T10:19:48.462Z"
   },
   {
    "duration": 11,
    "start_time": "2025-04-24T10:19:49.301Z"
   },
   {
    "duration": 28,
    "start_time": "2025-04-24T10:20:33.303Z"
   },
   {
    "duration": 18,
    "start_time": "2025-04-24T10:20:54.741Z"
   },
   {
    "duration": 23,
    "start_time": "2025-04-24T10:21:01.875Z"
   },
   {
    "duration": 30,
    "start_time": "2025-04-24T10:21:13.469Z"
   },
   {
    "duration": 16,
    "start_time": "2025-04-24T10:21:45.604Z"
   },
   {
    "duration": 11,
    "start_time": "2025-04-24T10:21:50.436Z"
   },
   {
    "duration": 13,
    "start_time": "2025-04-24T10:21:58.660Z"
   },
   {
    "duration": 15,
    "start_time": "2025-04-24T10:23:49.892Z"
   },
   {
    "duration": 17,
    "start_time": "2025-04-24T10:24:06.166Z"
   },
   {
    "duration": 28,
    "start_time": "2025-04-24T10:24:11.947Z"
   },
   {
    "duration": 12,
    "start_time": "2025-04-24T10:24:12.812Z"
   },
   {
    "duration": 14,
    "start_time": "2025-04-24T10:24:25.283Z"
   },
   {
    "duration": 114,
    "start_time": "2025-04-24T10:25:57.888Z"
   },
   {
    "duration": 13,
    "start_time": "2025-04-24T10:28:13.514Z"
   },
   {
    "duration": 2545,
    "start_time": "2025-04-24T10:28:24.672Z"
   },
   {
    "duration": 2752,
    "start_time": "2025-04-24T10:37:56.228Z"
   },
   {
    "duration": 30,
    "start_time": "2025-04-24T10:39:01.439Z"
   },
   {
    "duration": 20,
    "start_time": "2025-04-24T10:41:38.694Z"
   },
   {
    "duration": 70,
    "start_time": "2025-04-24T10:43:53.307Z"
   },
   {
    "duration": 1076,
    "start_time": "2025-04-24T10:49:40.029Z"
   },
   {
    "duration": 62,
    "start_time": "2025-04-24T10:50:44.766Z"
   },
   {
    "duration": 32,
    "start_time": "2025-04-24T10:50:58.502Z"
   },
   {
    "duration": 36,
    "start_time": "2025-04-24T10:50:59.006Z"
   },
   {
    "duration": 35,
    "start_time": "2025-04-24T10:52:05.140Z"
   },
   {
    "duration": 45,
    "start_time": "2025-04-24T10:52:25.254Z"
   },
   {
    "duration": 42,
    "start_time": "2025-04-24T10:53:09.573Z"
   },
   {
    "duration": 4,
    "start_time": "2025-04-24T10:58:02.738Z"
   },
   {
    "duration": 2,
    "start_time": "2025-04-24T10:59:12.592Z"
   },
   {
    "duration": 4,
    "start_time": "2025-04-24T11:01:20.591Z"
   },
   {
    "duration": 3,
    "start_time": "2025-04-24T11:01:32.343Z"
   },
   {
    "duration": 4,
    "start_time": "2025-04-24T11:01:44.164Z"
   },
   {
    "duration": 4,
    "start_time": "2025-04-24T11:02:03.844Z"
   },
   {
    "duration": 94,
    "start_time": "2025-04-24T11:13:42.780Z"
   },
   {
    "duration": 95,
    "start_time": "2025-04-24T11:14:01.069Z"
   },
   {
    "duration": 1275,
    "start_time": "2025-04-24T11:14:19.651Z"
   },
   {
    "duration": 2156,
    "start_time": "2025-04-24T11:14:20.929Z"
   },
   {
    "duration": 16,
    "start_time": "2025-04-24T11:14:23.088Z"
   },
   {
    "duration": 720,
    "start_time": "2025-04-24T11:14:23.106Z"
   },
   {
    "duration": 2,
    "start_time": "2025-04-24T11:14:23.828Z"
   },
   {
    "duration": 78,
    "start_time": "2025-04-24T11:14:23.832Z"
   },
   {
    "duration": 198,
    "start_time": "2025-04-24T11:14:23.912Z"
   },
   {
    "duration": 16,
    "start_time": "2025-04-24T11:14:24.112Z"
   },
   {
    "duration": 33,
    "start_time": "2025-04-24T11:14:24.130Z"
   },
   {
    "duration": 7,
    "start_time": "2025-04-24T11:14:24.166Z"
   },
   {
    "duration": 217,
    "start_time": "2025-04-24T11:14:24.175Z"
   },
   {
    "duration": 207,
    "start_time": "2025-04-24T11:14:24.394Z"
   },
   {
    "duration": 4,
    "start_time": "2025-04-24T11:14:24.603Z"
   },
   {
    "duration": 291,
    "start_time": "2025-04-24T11:14:24.608Z"
   },
   {
    "duration": 38,
    "start_time": "2025-04-24T11:14:24.901Z"
   },
   {
    "duration": 193,
    "start_time": "2025-04-24T11:14:24.941Z"
   },
   {
    "duration": 2857,
    "start_time": "2025-04-24T11:14:25.136Z"
   },
   {
    "duration": 12,
    "start_time": "2025-04-24T11:14:27.995Z"
   },
   {
    "duration": 106,
    "start_time": "2025-04-24T11:14:28.008Z"
   },
   {
    "duration": 28,
    "start_time": "2025-04-24T11:14:28.117Z"
   },
   {
    "duration": 61,
    "start_time": "2025-04-24T11:14:28.147Z"
   },
   {
    "duration": 82,
    "start_time": "2025-04-24T11:14:28.210Z"
   },
   {
    "duration": 196,
    "start_time": "2025-04-24T11:14:28.293Z"
   },
   {
    "duration": 16,
    "start_time": "2025-04-24T11:14:28.491Z"
   },
   {
    "duration": 250,
    "start_time": "2025-04-24T11:14:28.509Z"
   },
   {
    "duration": 87,
    "start_time": "2025-04-24T11:14:28.761Z"
   },
   {
    "duration": 100,
    "start_time": "2025-04-24T11:14:28.850Z"
   },
   {
    "duration": 6,
    "start_time": "2025-04-24T11:14:28.955Z"
   },
   {
    "duration": 5,
    "start_time": "2025-04-24T11:14:28.963Z"
   },
   {
    "duration": 13,
    "start_time": "2025-04-24T11:14:28.970Z"
   },
   {
    "duration": 10,
    "start_time": "2025-04-24T11:14:28.985Z"
   },
   {
    "duration": 142,
    "start_time": "2025-04-24T11:14:28.997Z"
   },
   {
    "duration": 21,
    "start_time": "2025-04-24T11:14:29.141Z"
   },
   {
    "duration": 5,
    "start_time": "2025-04-24T11:14:29.164Z"
   },
   {
    "duration": 8,
    "start_time": "2025-04-24T11:14:29.171Z"
   },
   {
    "duration": 158,
    "start_time": "2025-04-24T11:14:29.181Z"
   },
   {
    "duration": 16,
    "start_time": "2025-04-24T11:14:29.341Z"
   },
   {
    "duration": 34,
    "start_time": "2025-04-24T11:14:29.359Z"
   },
   {
    "duration": 132,
    "start_time": "2025-04-24T11:14:29.395Z"
   },
   {
    "duration": 7,
    "start_time": "2025-04-24T11:14:29.528Z"
   },
   {
    "duration": 239,
    "start_time": "2025-04-24T11:14:29.537Z"
   },
   {
    "duration": 7,
    "start_time": "2025-04-24T11:14:29.777Z"
   },
   {
    "duration": 144,
    "start_time": "2025-04-24T11:14:29.785Z"
   },
   {
    "duration": 539,
    "start_time": "2025-04-24T11:14:29.931Z"
   },
   {
    "duration": 624,
    "start_time": "2025-04-24T11:14:30.472Z"
   },
   {
    "duration": 11,
    "start_time": "2025-04-24T11:14:31.098Z"
   },
   {
    "duration": 66,
    "start_time": "2025-04-24T11:14:31.111Z"
   },
   {
    "duration": 41,
    "start_time": "2025-04-24T11:14:31.179Z"
   },
   {
    "duration": 15,
    "start_time": "2025-04-24T11:14:31.222Z"
   },
   {
    "duration": 112,
    "start_time": "2025-04-24T11:14:31.239Z"
   },
   {
    "duration": 35,
    "start_time": "2025-04-24T11:14:31.353Z"
   },
   {
    "duration": 35,
    "start_time": "2025-04-24T11:14:31.390Z"
   },
   {
    "duration": 40,
    "start_time": "2025-04-24T11:14:31.426Z"
   },
   {
    "duration": 4,
    "start_time": "2025-04-24T11:14:31.468Z"
   },
   {
    "duration": 5,
    "start_time": "2025-04-24T11:14:31.473Z"
   },
   {
    "duration": 80,
    "start_time": "2025-04-24T11:14:31.480Z"
   },
   {
    "duration": 105,
    "start_time": "2025-04-24T11:14:40.303Z"
   },
   {
    "duration": 104,
    "start_time": "2025-04-24T11:15:17.726Z"
   },
   {
    "duration": 6,
    "start_time": "2025-04-24T11:15:29.876Z"
   },
   {
    "duration": 6,
    "start_time": "2025-04-24T11:15:40.645Z"
   },
   {
    "duration": 6,
    "start_time": "2025-04-24T11:15:48.906Z"
   },
   {
    "duration": 36,
    "start_time": "2025-04-24T11:37:11.621Z"
   },
   {
    "duration": 1308,
    "start_time": "2025-04-24T12:53:36.428Z"
   },
   {
    "duration": 2030,
    "start_time": "2025-04-24T12:53:37.739Z"
   },
   {
    "duration": 16,
    "start_time": "2025-04-24T12:53:39.771Z"
   },
   {
    "duration": 641,
    "start_time": "2025-04-24T12:53:39.790Z"
   },
   {
    "duration": 3,
    "start_time": "2025-04-24T12:53:40.433Z"
   },
   {
    "duration": 115,
    "start_time": "2025-04-24T12:53:40.438Z"
   },
   {
    "duration": 188,
    "start_time": "2025-04-24T12:53:40.554Z"
   },
   {
    "duration": 19,
    "start_time": "2025-04-24T12:53:40.744Z"
   },
   {
    "duration": 19,
    "start_time": "2025-04-24T12:53:40.765Z"
   },
   {
    "duration": 7,
    "start_time": "2025-04-24T12:53:40.787Z"
   },
   {
    "duration": 220,
    "start_time": "2025-04-24T12:53:40.796Z"
   },
   {
    "duration": 210,
    "start_time": "2025-04-24T12:53:41.018Z"
   },
   {
    "duration": 4,
    "start_time": "2025-04-24T12:53:41.230Z"
   },
   {
    "duration": 191,
    "start_time": "2025-04-24T12:53:41.235Z"
   },
   {
    "duration": 47,
    "start_time": "2025-04-24T12:53:41.428Z"
   },
   {
    "duration": 183,
    "start_time": "2025-04-24T12:53:41.477Z"
   },
   {
    "duration": 2846,
    "start_time": "2025-04-24T12:53:41.662Z"
   },
   {
    "duration": 12,
    "start_time": "2025-04-24T12:53:44.510Z"
   },
   {
    "duration": 51,
    "start_time": "2025-04-24T12:53:44.524Z"
   },
   {
    "duration": 24,
    "start_time": "2025-04-24T12:53:44.576Z"
   },
   {
    "duration": 75,
    "start_time": "2025-04-24T12:53:44.602Z"
   },
   {
    "duration": 6,
    "start_time": "2025-04-24T12:53:44.679Z"
   },
   {
    "duration": 169,
    "start_time": "2025-04-24T12:53:44.687Z"
   },
   {
    "duration": 18,
    "start_time": "2025-04-24T12:53:44.859Z"
   },
   {
    "duration": 252,
    "start_time": "2025-04-24T12:53:44.879Z"
   },
   {
    "duration": 80,
    "start_time": "2025-04-24T12:53:45.133Z"
   },
   {
    "duration": 13,
    "start_time": "2025-04-24T12:53:45.214Z"
   },
   {
    "duration": 24,
    "start_time": "2025-04-24T12:53:45.231Z"
   },
   {
    "duration": 21,
    "start_time": "2025-04-24T12:53:45.257Z"
   },
   {
    "duration": 9,
    "start_time": "2025-04-24T12:53:45.279Z"
   },
   {
    "duration": 111,
    "start_time": "2025-04-24T12:53:45.290Z"
   },
   {
    "duration": 142,
    "start_time": "2025-04-24T12:53:45.403Z"
   },
   {
    "duration": 16,
    "start_time": "2025-04-24T12:53:45.547Z"
   },
   {
    "duration": 5,
    "start_time": "2025-04-24T12:53:45.565Z"
   },
   {
    "duration": 7,
    "start_time": "2025-04-24T12:53:45.572Z"
   },
   {
    "duration": 170,
    "start_time": "2025-04-24T12:53:45.581Z"
   },
   {
    "duration": 11,
    "start_time": "2025-04-24T12:53:45.754Z"
   },
   {
    "duration": 12,
    "start_time": "2025-04-24T12:53:45.768Z"
   },
   {
    "duration": 161,
    "start_time": "2025-04-24T12:53:45.784Z"
   },
   {
    "duration": 6,
    "start_time": "2025-04-24T12:53:45.946Z"
   },
   {
    "duration": 218,
    "start_time": "2025-04-24T12:53:45.961Z"
   },
   {
    "duration": 7,
    "start_time": "2025-04-24T12:53:46.181Z"
   },
   {
    "duration": 136,
    "start_time": "2025-04-24T12:53:46.190Z"
   },
   {
    "duration": 486,
    "start_time": "2025-04-24T12:53:46.328Z"
   },
   {
    "duration": 639,
    "start_time": "2025-04-24T12:53:46.816Z"
   },
   {
    "duration": 14,
    "start_time": "2025-04-24T12:53:47.456Z"
   },
   {
    "duration": 18,
    "start_time": "2025-04-24T12:53:47.471Z"
   },
   {
    "duration": 13,
    "start_time": "2025-04-24T12:53:47.491Z"
   },
   {
    "duration": 16,
    "start_time": "2025-04-24T12:53:47.505Z"
   },
   {
    "duration": 45,
    "start_time": "2025-04-24T12:53:47.523Z"
   },
   {
    "duration": 19,
    "start_time": "2025-04-24T12:53:47.570Z"
   },
   {
    "duration": 32,
    "start_time": "2025-04-24T12:53:47.591Z"
   },
   {
    "duration": 60,
    "start_time": "2025-04-24T12:53:47.625Z"
   },
   {
    "duration": 4,
    "start_time": "2025-04-24T12:53:47.687Z"
   },
   {
    "duration": 5,
    "start_time": "2025-04-24T12:53:47.692Z"
   },
   {
    "duration": 9,
    "start_time": "2025-04-24T12:53:47.699Z"
   },
   {
    "duration": 67,
    "start_time": "2025-04-24T12:57:05.694Z"
   },
   {
    "duration": 17,
    "start_time": "2025-04-24T12:59:50.377Z"
   },
   {
    "duration": 8,
    "start_time": "2025-04-24T13:03:04.767Z"
   },
   {
    "duration": 6,
    "start_time": "2025-04-24T13:05:35.110Z"
   },
   {
    "duration": 6,
    "start_time": "2025-04-24T13:05:37.405Z"
   },
   {
    "duration": 836,
    "start_time": "2025-04-24T14:07:50.780Z"
   },
   {
    "duration": 1390,
    "start_time": "2025-04-24T14:08:03.192Z"
   },
   {
    "duration": 1843,
    "start_time": "2025-04-24T14:08:04.584Z"
   },
   {
    "duration": 19,
    "start_time": "2025-04-24T14:08:06.429Z"
   },
   {
    "duration": 568,
    "start_time": "2025-04-24T14:08:06.450Z"
   },
   {
    "duration": 3,
    "start_time": "2025-04-24T14:08:07.020Z"
   },
   {
    "duration": 49,
    "start_time": "2025-04-24T14:08:07.024Z"
   },
   {
    "duration": 168,
    "start_time": "2025-04-24T14:08:07.074Z"
   },
   {
    "duration": 15,
    "start_time": "2025-04-24T14:08:07.245Z"
   },
   {
    "duration": 18,
    "start_time": "2025-04-24T14:08:07.261Z"
   },
   {
    "duration": 6,
    "start_time": "2025-04-24T14:08:07.282Z"
   },
   {
    "duration": 204,
    "start_time": "2025-04-24T14:08:07.290Z"
   },
   {
    "duration": 218,
    "start_time": "2025-04-24T14:08:07.495Z"
   },
   {
    "duration": 3,
    "start_time": "2025-04-24T14:08:07.716Z"
   },
   {
    "duration": 173,
    "start_time": "2025-04-24T14:08:07.721Z"
   },
   {
    "duration": 45,
    "start_time": "2025-04-24T14:08:07.895Z"
   },
   {
    "duration": 150,
    "start_time": "2025-04-24T14:08:07.942Z"
   },
   {
    "duration": 2517,
    "start_time": "2025-04-24T14:08:08.094Z"
   },
   {
    "duration": 11,
    "start_time": "2025-04-24T14:08:10.613Z"
   },
   {
    "duration": 41,
    "start_time": "2025-04-24T14:08:10.625Z"
   },
   {
    "duration": 23,
    "start_time": "2025-04-24T14:08:10.668Z"
   },
   {
    "duration": 73,
    "start_time": "2025-04-24T14:08:10.693Z"
   },
   {
    "duration": 6,
    "start_time": "2025-04-24T14:08:10.767Z"
   },
   {
    "duration": 154,
    "start_time": "2025-04-24T14:08:10.775Z"
   },
   {
    "duration": 23,
    "start_time": "2025-04-24T14:08:10.930Z"
   },
   {
    "duration": 172,
    "start_time": "2025-04-24T14:08:10.955Z"
   },
   {
    "duration": 39,
    "start_time": "2025-04-24T14:08:11.129Z"
   },
   {
    "duration": 11,
    "start_time": "2025-04-24T14:08:11.169Z"
   },
   {
    "duration": 10,
    "start_time": "2025-04-24T14:08:11.184Z"
   },
   {
    "duration": 8,
    "start_time": "2025-04-24T14:08:11.195Z"
   },
   {
    "duration": 7,
    "start_time": "2025-04-24T14:08:11.205Z"
   },
   {
    "duration": 18,
    "start_time": "2025-04-24T14:08:11.213Z"
   },
   {
    "duration": 115,
    "start_time": "2025-04-24T14:08:11.232Z"
   },
   {
    "duration": 7,
    "start_time": "2025-04-24T14:08:11.348Z"
   },
   {
    "duration": 11,
    "start_time": "2025-04-24T14:08:11.356Z"
   },
   {
    "duration": 15,
    "start_time": "2025-04-24T14:08:11.368Z"
   },
   {
    "duration": 136,
    "start_time": "2025-04-24T14:08:11.385Z"
   },
   {
    "duration": 5,
    "start_time": "2025-04-24T14:08:11.522Z"
   },
   {
    "duration": 10,
    "start_time": "2025-04-24T14:08:11.538Z"
   },
   {
    "duration": 123,
    "start_time": "2025-04-24T14:08:11.549Z"
   },
   {
    "duration": 6,
    "start_time": "2025-04-24T14:08:11.674Z"
   },
   {
    "duration": 190,
    "start_time": "2025-04-24T14:08:11.681Z"
   },
   {
    "duration": 6,
    "start_time": "2025-04-24T14:08:11.872Z"
   },
   {
    "duration": 118,
    "start_time": "2025-04-24T14:08:11.880Z"
   },
   {
    "duration": 440,
    "start_time": "2025-04-24T14:08:11.999Z"
   },
   {
    "duration": 589,
    "start_time": "2025-04-24T14:08:12.441Z"
   },
   {
    "duration": 11,
    "start_time": "2025-04-24T14:08:13.031Z"
   },
   {
    "duration": 16,
    "start_time": "2025-04-24T14:08:13.044Z"
   },
   {
    "duration": 11,
    "start_time": "2025-04-24T14:08:13.062Z"
   },
   {
    "duration": 15,
    "start_time": "2025-04-24T14:08:13.075Z"
   },
   {
    "duration": 17,
    "start_time": "2025-04-24T14:08:13.092Z"
   },
   {
    "duration": 45,
    "start_time": "2025-04-24T14:08:13.111Z"
   },
   {
    "duration": 41,
    "start_time": "2025-04-24T14:08:13.158Z"
   },
   {
    "duration": 41,
    "start_time": "2025-04-24T14:08:13.201Z"
   },
   {
    "duration": 4,
    "start_time": "2025-04-24T14:08:13.244Z"
   },
   {
    "duration": 5,
    "start_time": "2025-04-24T14:08:13.250Z"
   },
   {
    "duration": 13,
    "start_time": "2025-04-24T14:08:13.256Z"
   },
   {
    "duration": 157,
    "start_time": "2025-04-24T14:08:38.632Z"
   },
   {
    "duration": 6,
    "start_time": "2025-04-24T14:13:01.022Z"
   },
   {
    "duration": 1512,
    "start_time": "2025-04-24T18:15:38.096Z"
   },
   {
    "duration": 2139,
    "start_time": "2025-04-24T18:15:39.611Z"
   },
   {
    "duration": 21,
    "start_time": "2025-04-24T18:15:41.752Z"
   },
   {
    "duration": 694,
    "start_time": "2025-04-24T18:15:41.775Z"
   },
   {
    "duration": 3,
    "start_time": "2025-04-24T18:15:42.471Z"
   },
   {
    "duration": 68,
    "start_time": "2025-04-24T18:15:42.476Z"
   },
   {
    "duration": 201,
    "start_time": "2025-04-24T18:15:42.546Z"
   },
   {
    "duration": 24,
    "start_time": "2025-04-24T18:15:42.749Z"
   },
   {
    "duration": 23,
    "start_time": "2025-04-24T18:15:42.775Z"
   },
   {
    "duration": 8,
    "start_time": "2025-04-24T18:15:42.801Z"
   },
   {
    "duration": 234,
    "start_time": "2025-04-24T18:15:42.810Z"
   },
   {
    "duration": 217,
    "start_time": "2025-04-24T18:15:43.046Z"
   },
   {
    "duration": 3,
    "start_time": "2025-04-24T18:15:43.265Z"
   },
   {
    "duration": 193,
    "start_time": "2025-04-24T18:15:43.270Z"
   },
   {
    "duration": 42,
    "start_time": "2025-04-24T18:15:43.464Z"
   },
   {
    "duration": 194,
    "start_time": "2025-04-24T18:15:43.507Z"
   },
   {
    "duration": 2881,
    "start_time": "2025-04-24T18:15:43.702Z"
   },
   {
    "duration": 12,
    "start_time": "2025-04-24T18:15:46.585Z"
   },
   {
    "duration": 40,
    "start_time": "2025-04-24T18:15:46.599Z"
   },
   {
    "duration": 46,
    "start_time": "2025-04-24T18:15:46.641Z"
   },
   {
    "duration": 77,
    "start_time": "2025-04-24T18:15:46.689Z"
   },
   {
    "duration": 7,
    "start_time": "2025-04-24T18:15:46.769Z"
   },
   {
    "duration": 178,
    "start_time": "2025-04-24T18:15:46.778Z"
   },
   {
    "duration": 18,
    "start_time": "2025-04-24T18:15:46.959Z"
   },
   {
    "duration": 199,
    "start_time": "2025-04-24T18:15:46.978Z"
   },
   {
    "duration": 38,
    "start_time": "2025-04-24T18:15:47.179Z"
   },
   {
    "duration": 24,
    "start_time": "2025-04-24T18:15:47.219Z"
   },
   {
    "duration": 6,
    "start_time": "2025-04-24T18:15:47.247Z"
   },
   {
    "duration": 6,
    "start_time": "2025-04-24T18:15:47.255Z"
   },
   {
    "duration": 12,
    "start_time": "2025-04-24T18:15:47.263Z"
   },
   {
    "duration": 10,
    "start_time": "2025-04-24T18:15:47.277Z"
   },
   {
    "duration": 148,
    "start_time": "2025-04-24T18:15:47.289Z"
   },
   {
    "duration": 7,
    "start_time": "2025-04-24T18:15:47.439Z"
   },
   {
    "duration": 24,
    "start_time": "2025-04-24T18:15:47.448Z"
   },
   {
    "duration": 8,
    "start_time": "2025-04-24T18:15:47.473Z"
   },
   {
    "duration": 142,
    "start_time": "2025-04-24T18:15:47.483Z"
   },
   {
    "duration": 5,
    "start_time": "2025-04-24T18:15:47.626Z"
   },
   {
    "duration": 6,
    "start_time": "2025-04-24T18:15:47.633Z"
   },
   {
    "duration": 150,
    "start_time": "2025-04-24T18:15:47.641Z"
   },
   {
    "duration": 7,
    "start_time": "2025-04-24T18:15:47.793Z"
   },
   {
    "duration": 235,
    "start_time": "2025-04-24T18:15:47.802Z"
   },
   {
    "duration": 6,
    "start_time": "2025-04-24T18:15:48.039Z"
   },
   {
    "duration": 134,
    "start_time": "2025-04-24T18:15:48.047Z"
   },
   {
    "duration": 521,
    "start_time": "2025-04-24T18:15:48.182Z"
   },
   {
    "duration": 684,
    "start_time": "2025-04-24T18:15:48.705Z"
   },
   {
    "duration": 12,
    "start_time": "2025-04-24T18:15:49.391Z"
   },
   {
    "duration": 64,
    "start_time": "2025-04-24T18:15:49.405Z"
   },
   {
    "duration": 13,
    "start_time": "2025-04-24T18:15:49.471Z"
   },
   {
    "duration": 16,
    "start_time": "2025-04-24T18:15:49.486Z"
   },
   {
    "duration": 13,
    "start_time": "2025-04-24T18:15:49.504Z"
   },
   {
    "duration": 50,
    "start_time": "2025-04-24T18:15:49.518Z"
   },
   {
    "duration": 34,
    "start_time": "2025-04-24T18:15:49.570Z"
   },
   {
    "duration": 36,
    "start_time": "2025-04-24T18:15:49.605Z"
   },
   {
    "duration": 3,
    "start_time": "2025-04-24T18:15:49.661Z"
   },
   {
    "duration": 11,
    "start_time": "2025-04-24T18:15:49.666Z"
   },
   {
    "duration": 9,
    "start_time": "2025-04-24T18:15:49.679Z"
   },
   {
    "duration": 8,
    "start_time": "2025-04-24T18:21:08.899Z"
   },
   {
    "duration": 200,
    "start_time": "2025-04-24T19:21:54.004Z"
   },
   {
    "duration": 211,
    "start_time": "2025-04-24T19:22:02.378Z"
   },
   {
    "duration": 97,
    "start_time": "2025-04-24T19:23:05.721Z"
   },
   {
    "duration": 213,
    "start_time": "2025-04-24T19:24:16.172Z"
   },
   {
    "duration": 5,
    "start_time": "2025-04-24T19:32:57.411Z"
   },
   {
    "duration": 21,
    "start_time": "2025-04-24T19:33:05.130Z"
   },
   {
    "duration": 21,
    "start_time": "2025-04-24T19:33:18.473Z"
   },
   {
    "duration": 6,
    "start_time": "2025-04-24T19:33:41.985Z"
   },
   {
    "duration": 5,
    "start_time": "2025-04-24T19:34:17.752Z"
   },
   {
    "duration": 7,
    "start_time": "2025-04-24T19:34:47.306Z"
   },
   {
    "duration": 4,
    "start_time": "2025-04-24T19:36:58.468Z"
   },
   {
    "duration": 5,
    "start_time": "2025-04-24T19:37:19.500Z"
   },
   {
    "duration": 5,
    "start_time": "2025-04-24T19:37:42.587Z"
   },
   {
    "duration": 12,
    "start_time": "2025-04-24T19:38:05.193Z"
   },
   {
    "duration": 13,
    "start_time": "2025-04-24T19:38:23.145Z"
   },
   {
    "duration": 162,
    "start_time": "2025-04-24T19:43:28.633Z"
   },
   {
    "duration": 5,
    "start_time": "2025-04-24T19:44:01.586Z"
   },
   {
    "duration": 7,
    "start_time": "2025-04-24T19:44:04.104Z"
   },
   {
    "duration": 139,
    "start_time": "2025-04-24T19:44:21.905Z"
   },
   {
    "duration": 8,
    "start_time": "2025-04-24T19:45:03.065Z"
   },
   {
    "duration": 137,
    "start_time": "2025-04-24T19:45:09.414Z"
   },
   {
    "duration": 7,
    "start_time": "2025-04-24T19:45:31.913Z"
   },
   {
    "duration": 1394,
    "start_time": "2025-04-25T05:11:27.285Z"
   },
   {
    "duration": 2010,
    "start_time": "2025-04-25T05:11:28.681Z"
   },
   {
    "duration": 16,
    "start_time": "2025-04-25T05:11:30.693Z"
   },
   {
    "duration": 660,
    "start_time": "2025-04-25T05:11:30.711Z"
   },
   {
    "duration": 3,
    "start_time": "2025-04-25T05:11:31.374Z"
   },
   {
    "duration": 82,
    "start_time": "2025-04-25T05:11:31.380Z"
   },
   {
    "duration": 183,
    "start_time": "2025-04-25T05:11:31.464Z"
   },
   {
    "duration": 17,
    "start_time": "2025-04-25T05:11:31.649Z"
   },
   {
    "duration": 30,
    "start_time": "2025-04-25T05:11:31.668Z"
   },
   {
    "duration": 7,
    "start_time": "2025-04-25T05:11:31.699Z"
   },
   {
    "duration": 213,
    "start_time": "2025-04-25T05:11:31.707Z"
   },
   {
    "duration": 189,
    "start_time": "2025-04-25T05:11:31.922Z"
   },
   {
    "duration": 3,
    "start_time": "2025-04-25T05:11:32.112Z"
   },
   {
    "duration": 189,
    "start_time": "2025-04-25T05:11:32.119Z"
   },
   {
    "duration": 48,
    "start_time": "2025-04-25T05:11:32.310Z"
   },
   {
    "duration": 162,
    "start_time": "2025-04-25T05:11:32.360Z"
   },
   {
    "duration": 2576,
    "start_time": "2025-04-25T05:11:32.523Z"
   },
   {
    "duration": 12,
    "start_time": "2025-04-25T05:11:35.101Z"
   },
   {
    "duration": 56,
    "start_time": "2025-04-25T05:11:35.114Z"
   },
   {
    "duration": 27,
    "start_time": "2025-04-25T05:11:35.172Z"
   },
   {
    "duration": 70,
    "start_time": "2025-04-25T05:11:35.201Z"
   },
   {
    "duration": 7,
    "start_time": "2025-04-25T05:11:35.272Z"
   },
   {
    "duration": 159,
    "start_time": "2025-04-25T05:11:35.280Z"
   },
   {
    "duration": 16,
    "start_time": "2025-04-25T05:11:35.440Z"
   },
   {
    "duration": 197,
    "start_time": "2025-04-25T05:11:35.458Z"
   },
   {
    "duration": 66,
    "start_time": "2025-04-25T05:11:35.656Z"
   },
   {
    "duration": 12,
    "start_time": "2025-04-25T05:11:35.724Z"
   },
   {
    "duration": 50,
    "start_time": "2025-04-25T05:11:35.737Z"
   },
   {
    "duration": 55,
    "start_time": "2025-04-25T05:11:35.789Z"
   },
   {
    "duration": 20,
    "start_time": "2025-04-25T05:11:35.846Z"
   },
   {
    "duration": 23,
    "start_time": "2025-04-25T05:11:35.867Z"
   },
   {
    "duration": 153,
    "start_time": "2025-04-25T05:11:35.892Z"
   },
   {
    "duration": 7,
    "start_time": "2025-04-25T05:11:36.047Z"
   },
   {
    "duration": 14,
    "start_time": "2025-04-25T05:11:36.055Z"
   },
   {
    "duration": 26,
    "start_time": "2025-04-25T05:11:36.071Z"
   },
   {
    "duration": 37,
    "start_time": "2025-04-25T05:11:36.099Z"
   },
   {
    "duration": 129,
    "start_time": "2025-04-25T05:11:36.138Z"
   },
   {
    "duration": 4,
    "start_time": "2025-04-25T05:11:36.269Z"
   },
   {
    "duration": 18,
    "start_time": "2025-04-25T05:11:36.275Z"
   },
   {
    "duration": 34,
    "start_time": "2025-04-25T05:11:36.295Z"
   },
   {
    "duration": 142,
    "start_time": "2025-04-25T05:11:36.333Z"
   },
   {
    "duration": 6,
    "start_time": "2025-04-25T05:11:36.476Z"
   },
   {
    "duration": 215,
    "start_time": "2025-04-25T05:11:36.484Z"
   },
   {
    "duration": 6,
    "start_time": "2025-04-25T05:11:36.701Z"
   },
   {
    "duration": 128,
    "start_time": "2025-04-25T05:11:36.708Z"
   },
   {
    "duration": 452,
    "start_time": "2025-04-25T05:11:36.839Z"
   },
   {
    "duration": 618,
    "start_time": "2025-04-25T05:11:37.293Z"
   },
   {
    "duration": 11,
    "start_time": "2025-04-25T05:11:37.913Z"
   },
   {
    "duration": 24,
    "start_time": "2025-04-25T05:11:37.926Z"
   },
   {
    "duration": 12,
    "start_time": "2025-04-25T05:11:37.951Z"
   },
   {
    "duration": 14,
    "start_time": "2025-04-25T05:11:37.965Z"
   },
   {
    "duration": 11,
    "start_time": "2025-04-25T05:11:37.980Z"
   },
   {
    "duration": 46,
    "start_time": "2025-04-25T05:11:37.993Z"
   },
   {
    "duration": 31,
    "start_time": "2025-04-25T05:11:38.041Z"
   },
   {
    "duration": 33,
    "start_time": "2025-04-25T05:11:38.073Z"
   },
   {
    "duration": 3,
    "start_time": "2025-04-25T05:11:38.108Z"
   },
   {
    "duration": 31,
    "start_time": "2025-04-25T05:11:38.112Z"
   },
   {
    "duration": 7,
    "start_time": "2025-04-25T05:11:38.145Z"
   },
   {
    "duration": 120,
    "start_time": "2025-04-25T05:12:02.924Z"
   },
   {
    "duration": 7,
    "start_time": "2025-04-25T05:12:19.072Z"
   },
   {
    "duration": 117,
    "start_time": "2025-04-25T05:12:34.027Z"
   },
   {
    "duration": 117,
    "start_time": "2025-04-25T05:14:39.824Z"
   },
   {
    "duration": 109,
    "start_time": "2025-04-25T05:14:54.396Z"
   },
   {
    "duration": 1251,
    "start_time": "2025-04-25T05:46:44.822Z"
   },
   {
    "duration": 1792,
    "start_time": "2025-04-25T05:46:46.075Z"
   },
   {
    "duration": 14,
    "start_time": "2025-04-25T05:46:47.868Z"
   },
   {
    "duration": 611,
    "start_time": "2025-04-25T05:46:47.883Z"
   },
   {
    "duration": 3,
    "start_time": "2025-04-25T05:46:48.496Z"
   },
   {
    "duration": 66,
    "start_time": "2025-04-25T05:46:48.500Z"
   },
   {
    "duration": 195,
    "start_time": "2025-04-25T05:46:48.567Z"
   },
   {
    "duration": 17,
    "start_time": "2025-04-25T05:46:48.764Z"
   },
   {
    "duration": 48,
    "start_time": "2025-04-25T05:46:48.783Z"
   },
   {
    "duration": 20,
    "start_time": "2025-04-25T05:46:48.833Z"
   },
   {
    "duration": 234,
    "start_time": "2025-04-25T05:46:48.855Z"
   },
   {
    "duration": 180,
    "start_time": "2025-04-25T05:46:49.091Z"
   },
   {
    "duration": 4,
    "start_time": "2025-04-25T05:46:49.273Z"
   },
   {
    "duration": 173,
    "start_time": "2025-04-25T05:46:49.280Z"
   },
   {
    "duration": 39,
    "start_time": "2025-04-25T05:46:49.455Z"
   },
   {
    "duration": 181,
    "start_time": "2025-04-25T05:46:49.496Z"
   },
   {
    "duration": 2609,
    "start_time": "2025-04-25T05:46:49.679Z"
   },
   {
    "duration": 10,
    "start_time": "2025-04-25T05:46:52.289Z"
   },
   {
    "duration": 50,
    "start_time": "2025-04-25T05:46:52.301Z"
   },
   {
    "duration": 24,
    "start_time": "2025-04-25T05:46:52.353Z"
   },
   {
    "duration": 69,
    "start_time": "2025-04-25T05:46:52.378Z"
   },
   {
    "duration": 6,
    "start_time": "2025-04-25T05:46:52.449Z"
   },
   {
    "duration": 160,
    "start_time": "2025-04-25T05:46:52.457Z"
   },
   {
    "duration": 27,
    "start_time": "2025-04-25T05:46:52.619Z"
   },
   {
    "duration": 170,
    "start_time": "2025-04-25T05:46:52.648Z"
   },
   {
    "duration": 35,
    "start_time": "2025-04-25T05:46:52.819Z"
   },
   {
    "duration": 19,
    "start_time": "2025-04-25T05:46:52.855Z"
   },
   {
    "duration": 32,
    "start_time": "2025-04-25T05:46:52.876Z"
   },
   {
    "duration": 5,
    "start_time": "2025-04-25T05:46:52.910Z"
   },
   {
    "duration": 6,
    "start_time": "2025-04-25T05:46:52.917Z"
   },
   {
    "duration": 6,
    "start_time": "2025-04-25T05:46:52.925Z"
   },
   {
    "duration": 127,
    "start_time": "2025-04-25T05:46:52.933Z"
   },
   {
    "duration": 7,
    "start_time": "2025-04-25T05:46:53.061Z"
   },
   {
    "duration": 4,
    "start_time": "2025-04-25T05:46:53.069Z"
   },
   {
    "duration": 4,
    "start_time": "2025-04-25T05:46:53.074Z"
   },
   {
    "duration": 7,
    "start_time": "2025-04-25T05:46:53.080Z"
   },
   {
    "duration": 153,
    "start_time": "2025-04-25T05:46:53.088Z"
   },
   {
    "duration": 5,
    "start_time": "2025-04-25T05:46:53.243Z"
   },
   {
    "duration": 15,
    "start_time": "2025-04-25T05:46:53.250Z"
   },
   {
    "duration": 8,
    "start_time": "2025-04-25T05:46:53.267Z"
   },
   {
    "duration": 129,
    "start_time": "2025-04-25T05:46:53.278Z"
   },
   {
    "duration": 6,
    "start_time": "2025-04-25T05:46:53.409Z"
   },
   {
    "duration": 198,
    "start_time": "2025-04-25T05:46:53.417Z"
   },
   {
    "duration": 8,
    "start_time": "2025-04-25T05:46:53.617Z"
   },
   {
    "duration": 114,
    "start_time": "2025-04-25T05:46:53.638Z"
   },
   {
    "duration": 538,
    "start_time": "2025-04-25T05:46:53.753Z"
   },
   {
    "duration": 590,
    "start_time": "2025-04-25T05:46:54.292Z"
   },
   {
    "duration": 11,
    "start_time": "2025-04-25T05:46:54.884Z"
   },
   {
    "duration": 18,
    "start_time": "2025-04-25T05:46:54.897Z"
   },
   {
    "duration": 29,
    "start_time": "2025-04-25T05:46:54.916Z"
   },
   {
    "duration": 14,
    "start_time": "2025-04-25T05:46:54.946Z"
   },
   {
    "duration": 14,
    "start_time": "2025-04-25T05:46:54.962Z"
   },
   {
    "duration": 20,
    "start_time": "2025-04-25T05:46:54.978Z"
   },
   {
    "duration": 52,
    "start_time": "2025-04-25T05:46:54.999Z"
   },
   {
    "duration": 33,
    "start_time": "2025-04-25T05:46:55.053Z"
   },
   {
    "duration": 29,
    "start_time": "2025-04-25T05:46:55.087Z"
   },
   {
    "duration": 20,
    "start_time": "2025-04-25T05:46:55.118Z"
   },
   {
    "duration": 9,
    "start_time": "2025-04-25T05:46:55.140Z"
   },
   {
    "duration": 1440,
    "start_time": "2025-04-25T07:31:59.550Z"
   },
   {
    "duration": 2126,
    "start_time": "2025-04-25T07:32:00.993Z"
   },
   {
    "duration": 15,
    "start_time": "2025-04-25T07:32:03.121Z"
   },
   {
    "duration": 660,
    "start_time": "2025-04-25T07:32:03.137Z"
   },
   {
    "duration": 8,
    "start_time": "2025-04-25T07:32:03.799Z"
   },
   {
    "duration": 120,
    "start_time": "2025-04-25T07:32:03.808Z"
   },
   {
    "duration": 178,
    "start_time": "2025-04-25T07:32:03.930Z"
   },
   {
    "duration": 15,
    "start_time": "2025-04-25T07:32:04.110Z"
   },
   {
    "duration": 34,
    "start_time": "2025-04-25T07:32:04.126Z"
   },
   {
    "duration": 7,
    "start_time": "2025-04-25T07:32:04.162Z"
   },
   {
    "duration": 233,
    "start_time": "2025-04-25T07:32:04.171Z"
   },
   {
    "duration": 209,
    "start_time": "2025-04-25T07:32:04.406Z"
   },
   {
    "duration": 3,
    "start_time": "2025-04-25T07:32:04.618Z"
   },
   {
    "duration": 183,
    "start_time": "2025-04-25T07:32:04.624Z"
   },
   {
    "duration": 38,
    "start_time": "2025-04-25T07:32:04.809Z"
   },
   {
    "duration": 211,
    "start_time": "2025-04-25T07:32:04.849Z"
   },
   {
    "duration": 2892,
    "start_time": "2025-04-25T07:32:05.061Z"
   },
   {
    "duration": 11,
    "start_time": "2025-04-25T07:32:07.955Z"
   },
   {
    "duration": 73,
    "start_time": "2025-04-25T07:32:07.968Z"
   },
   {
    "duration": 23,
    "start_time": "2025-04-25T07:32:08.043Z"
   },
   {
    "duration": 71,
    "start_time": "2025-04-25T07:32:08.068Z"
   },
   {
    "duration": 6,
    "start_time": "2025-04-25T07:32:08.141Z"
   },
   {
    "duration": 168,
    "start_time": "2025-04-25T07:32:08.149Z"
   },
   {
    "duration": 16,
    "start_time": "2025-04-25T07:32:08.319Z"
   },
   {
    "duration": 206,
    "start_time": "2025-04-25T07:32:08.336Z"
   },
   {
    "duration": 97,
    "start_time": "2025-04-25T07:32:08.544Z"
   },
   {
    "duration": 12,
    "start_time": "2025-04-25T07:32:08.643Z"
   },
   {
    "duration": 69,
    "start_time": "2025-04-25T07:32:08.657Z"
   },
   {
    "duration": 25,
    "start_time": "2025-04-25T07:32:08.728Z"
   },
   {
    "duration": 16,
    "start_time": "2025-04-25T07:32:08.755Z"
   },
   {
    "duration": 10,
    "start_time": "2025-04-25T07:32:08.772Z"
   },
   {
    "duration": 152,
    "start_time": "2025-04-25T07:32:08.783Z"
   },
   {
    "duration": 8,
    "start_time": "2025-04-25T07:32:08.937Z"
   },
   {
    "duration": 27,
    "start_time": "2025-04-25T07:32:08.946Z"
   },
   {
    "duration": 5,
    "start_time": "2025-04-25T07:32:08.975Z"
   },
   {
    "duration": 25,
    "start_time": "2025-04-25T07:32:08.982Z"
   },
   {
    "duration": 146,
    "start_time": "2025-04-25T07:32:09.008Z"
   },
   {
    "duration": 4,
    "start_time": "2025-04-25T07:32:09.156Z"
   },
   {
    "duration": 108,
    "start_time": "2025-04-25T07:32:09.162Z"
   },
   {
    "duration": 22,
    "start_time": "2025-04-25T07:32:09.272Z"
   },
   {
    "duration": 142,
    "start_time": "2025-04-25T07:32:09.299Z"
   },
   {
    "duration": 7,
    "start_time": "2025-04-25T07:32:09.443Z"
   },
   {
    "duration": 218,
    "start_time": "2025-04-25T07:32:09.452Z"
   },
   {
    "duration": 7,
    "start_time": "2025-04-25T07:32:09.672Z"
   },
   {
    "duration": 132,
    "start_time": "2025-04-25T07:32:09.680Z"
   },
   {
    "duration": 608,
    "start_time": "2025-04-25T07:32:09.814Z"
   },
   {
    "duration": 660,
    "start_time": "2025-04-25T07:32:10.424Z"
   },
   {
    "duration": 19,
    "start_time": "2025-04-25T07:32:11.086Z"
   },
   {
    "duration": 178,
    "start_time": "2025-04-25T07:32:11.107Z"
   },
   {
    "duration": 12,
    "start_time": "2025-04-25T07:32:11.287Z"
   },
   {
    "duration": 25,
    "start_time": "2025-04-25T07:32:11.301Z"
   },
   {
    "duration": 12,
    "start_time": "2025-04-25T07:32:11.328Z"
   },
   {
    "duration": 19,
    "start_time": "2025-04-25T07:32:11.342Z"
   },
   {
    "duration": 45,
    "start_time": "2025-04-25T07:32:11.363Z"
   },
   {
    "duration": 34,
    "start_time": "2025-04-25T07:32:11.409Z"
   },
   {
    "duration": 4,
    "start_time": "2025-04-25T07:32:11.445Z"
   },
   {
    "duration": 4,
    "start_time": "2025-04-25T07:32:11.451Z"
   },
   {
    "duration": 8,
    "start_time": "2025-04-25T07:32:11.457Z"
   }
  ],
  "colab": {
   "provenance": []
  },
  "kernelspec": {
   "display_name": "Python 3 (ipykernel)",
   "language": "python",
   "name": "python3"
  },
  "language_info": {
   "codemirror_mode": {
    "name": "ipython",
    "version": 3
   },
   "file_extension": ".py",
   "mimetype": "text/x-python",
   "name": "python",
   "nbconvert_exporter": "python",
   "pygments_lexer": "ipython3",
   "version": "3.12.7"
  },
  "toc": {
   "base_numbering": 1,
   "nav_menu": {},
   "number_sections": true,
   "sideBar": true,
   "skip_h1_title": true,
   "title_cell": "Table of Contents",
   "title_sidebar": "Contents",
   "toc_cell": false,
   "toc_position": {},
   "toc_section_display": true,
   "toc_window_display": false
  }
 },
 "nbformat": 4,
 "nbformat_minor": 4
}
