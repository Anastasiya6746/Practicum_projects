{
 "cells": [
  {
   "cell_type": "markdown",
   "id": "_E41Wr5fqnFT",
   "metadata": {
    "id": "_E41Wr5fqnFT"
   },
   "source": [
    "# Часть 1. Проверка гипотезы в Python и составление аналитической записки"
   ]
  },
  {
   "cell_type": "markdown",
   "id": "Z5_6nf-FrY7o",
   "metadata": {
    "id": "Z5_6nf-FrY7o"
   },
   "source": [
    "Вы предобработали данные в SQL, и теперь они готовы для проверки гипотезы в Python. Загрузите данные пользователей из Москвы и Санкт-Петербурга c суммой часов их активности из файла yandex_knigi_data.csv. Если работаете локально, скачать файл можно по ссылке.\n",
    "\n",
    "Проверьте наличие дубликатов в идентификаторах пользователей. Сравните размеры групп, их статистики и распределение.\n",
    "\n",
    "Напомним, как выглядит гипотеза: пользователи из Москвы проводят в среднем больше времени за чтением и прослушиванием книг в приложении, чем пользователи из Москвы. Попробуйте статистически это доказать, используя одностороннюю проверку гипотезы с двумя выборками:\n",
    "\n",
    "Нулевая гипотеза $H_0: \\mu_{\\text{СПб}} \\leq \\mu_{\\text{Москва}}$ <br> Среднее время активности пользователей в Санкт-Петербурге не больше, чем в Москве.\n",
    "\n",
    "Альтернативная гипотеза $H_1: \\mu_{\\text{СПб}} > \\mu_{\\text{Москва}}$ <br> Среднее время активности пользователей в Санкт-Петербурге больше, и это различие статистически значимо.\n",
    "\n",
    "По результатам анализа данных подготовьте аналитическую записку, в которой опишите:\n",
    "\n",
    "Выбранный тип t-теста и уровень статистической значимости.\n",
    "\n",
    "Результат теста, или p-value.\n",
    "\n",
    "Вывод на основе полученного p-value, то есть интерпретацию результатов.\n",
    "\n",
    "Одну или две возможные причины, объясняющие полученные результаты."
   ]
  },
  {
   "cell_type": "markdown",
   "id": "e06910dd",
   "metadata": {
    "id": "e06910dd"
   },
   "source": [
    "## Проверка гипотезы в Python и составление аналитической записки\n",
    "\n",
    "- Автор: Макарова Анастасия\n",
    "- Дата:07.05.2025"
   ]
  },
  {
   "cell_type": "markdown",
   "id": "4149134c",
   "metadata": {
    "id": "4149134c"
   },
   "source": [
    "## Цели и задачи проекта"
   ]
  },
  {
   "cell_type": "markdown",
   "id": "5e23ca60",
   "metadata": {},
   "source": [
    "**Цель:** \n",
    "\n",
    "Проверить гипотезу о различии в средней продолжительности активности пользователей сервиса Яндекс Книги в Москве и Санкт-Петербурге.\n",
    "\n",
    "\n",
    "**Задачи:**\n",
    "- Загрузить и предобработать данные из yandex_knigi_data.csv.\n",
    "- Проверить данные на наличие дубликатов и выбросов.\n",
    "- Сравнить статистики и распределения данных для Москвы и Санкт-Петербурга.\n",
    "- Выбрать и применить подходящий t-тест для проверки гипотезы.\n",
    "- Интерпретировать результаты t-теста и сделать выводы.\n",
    "- Подготовить аналитическую записку с описанием результатов."
   ]
  },
  {
   "cell_type": "markdown",
   "id": "728986ea",
   "metadata": {
    "id": "728986ea"
   },
   "source": [
    "## Описание данных"
   ]
  },
  {
   "cell_type": "markdown",
   "id": "878e3dca",
   "metadata": {},
   "source": [
    "Таблица `/datasets/yandex_knigi_data.csv` содержитследующи данные из Москвы и Санкт-Петербурга c суммой часов их активности, включает следующие поля:\n",
    "\n",
    "- `city` - город географического положения\n",
    "- `puid` — идентификатор пользователя\n",
    "- `hours` - длительность чтения или прослушивания в часах."
   ]
  },
  {
   "cell_type": "markdown",
   "id": "4fecaf95",
   "metadata": {
    "id": "4fecaf95"
   },
   "source": [
    "## Содержимое проекта"
   ]
  },
  {
   "cell_type": "markdown",
   "id": "0d2a0e77",
   "metadata": {},
   "source": [
    "Часть 1. Проверка гипотезы в Python и составление аналитической записки\n",
    "\n",
    "- Цели и задачи проекта\n",
    "- Описание данных\n",
    "- Загрузка данных и знакомство с ними\n",
    "- Проверка гипотезы в Python\n",
    "- Аналитическая записка\n",
    "\n",
    "Часть 2. Анализ результатов A/B-тестирования\n",
    "\n",
    "- Цели исследования\n",
    "- Загрузка данных и оценка их целостности\n",
    "- Оценка корректности проведения A/B-теста\n",
    "- Оценка результатов A/B-тестирования"
   ]
  },
  {
   "cell_type": "markdown",
   "id": "6f7d21d6",
   "metadata": {
    "id": "6f7d21d6"
   },
   "source": [
    "## 1. Загрузка данных и знакомство с ними\n",
    "\n",
    "Загрузите данные пользователей из Москвы и Санкт-Петербурга c их активностью (суммой часов чтения и прослушивания) из файла `/datasets/yandex_knigi_data.csv`."
   ]
  },
  {
   "cell_type": "code",
   "execution_count": 1,
   "id": "55a9e7fd",
   "metadata": {},
   "outputs": [],
   "source": [
    "# Импортируем библиотеки\n",
    "import pandas as pd\n",
    "\n",
    "# Загружаем библиотеки для визуализации данных\n",
    "import matplotlib.pyplot as plt\n",
    "import seaborn as sns\n",
    "from scipy.stats import ttest_ind\n",
    "from statsmodels.stats.proportion import proportions_ztest\n",
    "import scipy.stats as st"
   ]
  },
  {
   "cell_type": "code",
   "execution_count": 2,
   "id": "4c9ad1f5",
   "metadata": {},
   "outputs": [],
   "source": [
    "yandex_knigi=pd.read_csv('https://code.s3.yandex.net/datasets/yandex_knigi_data.csv') "
   ]
  },
  {
   "cell_type": "code",
   "execution_count": 3,
   "id": "50b1c707",
   "metadata": {},
   "outputs": [
    {
     "data": {
      "text/html": [
       "<div>\n",
       "<style scoped>\n",
       "    .dataframe tbody tr th:only-of-type {\n",
       "        vertical-align: middle;\n",
       "    }\n",
       "\n",
       "    .dataframe tbody tr th {\n",
       "        vertical-align: top;\n",
       "    }\n",
       "\n",
       "    .dataframe thead th {\n",
       "        text-align: right;\n",
       "    }\n",
       "</style>\n",
       "<table border=\"1\" class=\"dataframe\">\n",
       "  <thead>\n",
       "    <tr style=\"text-align: right;\">\n",
       "      <th></th>\n",
       "      <th>Unnamed: 0</th>\n",
       "      <th>city</th>\n",
       "      <th>puid</th>\n",
       "      <th>hours</th>\n",
       "    </tr>\n",
       "  </thead>\n",
       "  <tbody>\n",
       "    <tr>\n",
       "      <th>0</th>\n",
       "      <td>0</td>\n",
       "      <td>Москва</td>\n",
       "      <td>9668</td>\n",
       "      <td>26.167776</td>\n",
       "    </tr>\n",
       "    <tr>\n",
       "      <th>1</th>\n",
       "      <td>1</td>\n",
       "      <td>Москва</td>\n",
       "      <td>16598</td>\n",
       "      <td>82.111217</td>\n",
       "    </tr>\n",
       "    <tr>\n",
       "      <th>2</th>\n",
       "      <td>2</td>\n",
       "      <td>Москва</td>\n",
       "      <td>80401</td>\n",
       "      <td>4.656906</td>\n",
       "    </tr>\n",
       "    <tr>\n",
       "      <th>3</th>\n",
       "      <td>3</td>\n",
       "      <td>Москва</td>\n",
       "      <td>140205</td>\n",
       "      <td>1.840556</td>\n",
       "    </tr>\n",
       "    <tr>\n",
       "      <th>4</th>\n",
       "      <td>4</td>\n",
       "      <td>Москва</td>\n",
       "      <td>248755</td>\n",
       "      <td>151.326434</td>\n",
       "    </tr>\n",
       "  </tbody>\n",
       "</table>\n",
       "</div>"
      ],
      "text/plain": [
       "   Unnamed: 0    city    puid       hours\n",
       "0           0  Москва    9668   26.167776\n",
       "1           1  Москва   16598   82.111217\n",
       "2           2  Москва   80401    4.656906\n",
       "3           3  Москва  140205    1.840556\n",
       "4           4  Москва  248755  151.326434"
      ]
     },
     "execution_count": 3,
     "metadata": {},
     "output_type": "execute_result"
    }
   ],
   "source": [
    "yandex_knigi.head(5)"
   ]
  },
  {
   "cell_type": "code",
   "execution_count": 4,
   "id": "f5af55bf",
   "metadata": {},
   "outputs": [
    {
     "name": "stdout",
     "output_type": "stream",
     "text": [
      "<class 'pandas.core.frame.DataFrame'>\n",
      "RangeIndex: 8784 entries, 0 to 8783\n",
      "Data columns (total 4 columns):\n",
      " #   Column      Non-Null Count  Dtype  \n",
      "---  ------      --------------  -----  \n",
      " 0   Unnamed: 0  8784 non-null   int64  \n",
      " 1   city        8784 non-null   object \n",
      " 2   puid        8784 non-null   int64  \n",
      " 3   hours       8784 non-null   float64\n",
      "dtypes: float64(1), int64(2), object(1)\n",
      "memory usage: 274.6+ KB\n"
     ]
    }
   ],
   "source": [
    "yandex_knigi.info()"
   ]
  },
  {
   "cell_type": "markdown",
   "id": "67dbfa8f",
   "metadata": {},
   "source": [
    "В датафрейме пользователей yandex_knigi определим количество пропусков и дубликатов. Это необходимо для понимания полноты и уникальности данных пользователей."
   ]
  },
  {
   "cell_type": "code",
   "execution_count": 5,
   "id": "502997ae",
   "metadata": {},
   "outputs": [
    {
     "name": "stdout",
     "output_type": "stream",
     "text": [
      "0 244\n"
     ]
    }
   ],
   "source": [
    "missing_values_count=yandex_knigi.isna().sum().sum()\n",
    "duplicate_count = yandex_knigi['puid'].duplicated().sum()\n",
    "print(f\"{missing_values_count} {duplicate_count}\")"
   ]
  },
  {
   "cell_type": "markdown",
   "id": "33e45644",
   "metadata": {},
   "source": [
    "Пропусков в таблице нет. Есть 244 дубликата по столбцу 'puid'. удалим найденные дубликаты"
   ]
  },
  {
   "cell_type": "code",
   "execution_count": 6,
   "id": "e228aaf0",
   "metadata": {},
   "outputs": [],
   "source": [
    "# удалим дубликаты на остнове столбца 'puid', оставляя первое вхождение\n",
    "yandex_knigi.drop_duplicates(subset=['puid'], keep='first', inplace=True)"
   ]
  },
  {
   "cell_type": "code",
   "execution_count": 7,
   "id": "9cb88b24",
   "metadata": {},
   "outputs": [
    {
     "data": {
      "text/plain": [
       "0"
      ]
     },
     "execution_count": 7,
     "metadata": {},
     "output_type": "execute_result"
    }
   ],
   "source": [
    "# проверим удаление дубликатов\n",
    "duplicates_count = yandex_knigi['puid'].duplicated().sum()\n",
    "duplicates_count "
   ]
  },
  {
   "cell_type": "code",
   "execution_count": 8,
   "id": "ce87c1db",
   "metadata": {
    "id": "ce87c1db"
   },
   "outputs": [
    {
     "name": "stdout",
     "output_type": "stream",
     "text": [
      "Размер группы Москва: 6234\n",
      "Размер группы Санкт-Петербург: 2306\n",
      "\n",
      "Статистики для Москвы:\n",
      "count    6234.000000\n",
      "mean       10.881092\n",
      "std        36.851683\n",
      "min         0.000018\n",
      "25%         0.059903\n",
      "50%         0.924498\n",
      "75%         5.939972\n",
      "max       857.209373\n",
      "Name: hours, dtype: float64\n",
      "\n",
      "Статистики для Санкт-Петербурга:\n",
      "count    2306.000000\n",
      "mean       11.264433\n",
      "std        39.831755\n",
      "min         0.000025\n",
      "25%         0.060173\n",
      "50%         0.875355\n",
      "75%         6.138424\n",
      "max       978.764775\n",
      "Name: hours, dtype: float64\n"
     ]
    }
   ],
   "source": [
    "# Фильтрация данных по городам\n",
    "moscow_data = yandex_knigi[yandex_knigi['city'] == 'Москва']['hours'].dropna()\n",
    "spb_data = yandex_knigi[yandex_knigi['city'] == 'Санкт-Петербург']['hours'].dropna()\n",
    "\n",
    "# Вывод размеров групп\n",
    "print(f\"Размер группы Москва: {len(moscow_data)}\")\n",
    "print(f\"Размер группы Санкт-Петербург: {len(spb_data)}\")\n",
    "\n",
    "# Вывод описательных статистик\n",
    "print(\"\\nСтатистики для Москвы:\")\n",
    "print(moscow_data.describe())\n",
    "\n",
    "print(\"\\nСтатистики для Санкт-Петербурга:\")\n",
    "print(spb_data.describe())"
   ]
  },
  {
   "cell_type": "markdown",
   "id": "d78f957c",
   "metadata": {
    "id": "f68a7419"
   },
   "source": [
    "- Размер групп:\n",
    "Группа пользователей из Москвы значительно больше группы из Санкт-Петербурга (6234 против 2306). Это следует учитывать при интерпретации результатов статистических тестов. Большая выборка обычно обеспечивает большую статистическую мощность.\n",
    "- Среднее значение (Mean):\n",
    "Среднее время активности пользователей в Санкт-Петербурге немного выше, чем в Москве (11.26 против 10.88 часов). Разница составляет примерно 0.38 часа. Однако, прежде чем делать какие-либо выводы, необходимо учитывать стандартное отклонение и провести статистический тест, чтобы определить, является ли это различие статистически значимым.\n",
    "- Стандартное отклонение (Std):\n",
    "Стандартное отклонение в обеих группах довольно велико (Москва: 36.85, Санкт-Петербург: 39.83). Это указывает на значительную вариативность в данных, то есть время активности пользователей сильно различается. Большое стандартное отклонение может затруднить обнаружение статистически значимых различий между группами, особенно при относительно небольших размерах выборок. Это может быть связано с наличием выбросов.\n",
    "- Минимальное и максимальное значения (Min, Max):\n",
    "Минимальные значения близки к нулю в обеих группах, что логично (кто-то мог зайти в приложение на очень короткое время).\n",
    "Максимальные значения очень высокие (Москва: 857.21, Санкт-Петербург: 978.76). Это говорит о наличии выбросов, то есть пользователей, которые проводят аномально много времени в приложении. Эти выбросы могут сильно влиять на среднее значение и стандартное отклонение.\n",
    "- Квартили (25%, 50%, 75%):\n",
    "Медиана (50%) в обеих группах довольно низкая (Москва: 0.92, Санкт-Петербург: 0.88). Это означает, что половина пользователей проводит в приложении менее часа. Разница между средним и медианой указывает на скошенность распределения вправо (из-за выбросов).\n",
    "75-й процентиль также относительно невысок (Москва: 5.94, Санкт-Петербург: 6.14). Это означает, что 75% пользователей проводят в приложении менее 6 часов.\n",
    "\n",
    "**Вывод:**\n",
    "\n",
    "Хотя среднее время активности в Санкт-Петербурге немного выше, чем в Москве, большое стандартное отклонение и наличие выбросов делают этот вывод предварительным. Необходимо провести статистический тест (t-тест), чтобы определить, является ли разница между средними значениями статистически значимой. Также, можно использовать непараметрический тест (например, тест Манна-Уитни), который менее чувствителен к выбросам."
   ]
  },
  {
   "cell_type": "markdown",
   "id": "7fcdfbdd",
   "metadata": {},
   "source": [
    "Также построим гистаграмму расброса:"
   ]
  },
  {
   "cell_type": "code",
   "execution_count": 9,
   "id": "66d4e879",
   "metadata": {},
   "outputs": [
    {
     "data": {
      "image/png": "[encoded data removed]",
      "text/plain": [
       "<Figure size 864x432 with 1 Axes>"
      ]
     },
     "metadata": {},
     "output_type": "display_data"
    }
   ],
   "source": [
    "# Настройка стиля (один раз)\n",
    "sns.set(style='whitegrid')\n",
    "\n",
    "# Создаем figure и axes (более гибкий подход)\n",
    "fig, ax = plt.subplots(figsize=(12, 6))  # Создаем figure и axes\n",
    "\n",
    "# Гистограммы для каждой группы\n",
    "sns.histplot(data=yandex_knigi[yandex_knigi['city'] == 'Москва'], x='hours',\n",
    "             color='skyblue', label='Москва', bins=30, kde=True, ax=ax) # Указываем, на каких axes рисовать\n",
    "sns.histplot(data=yandex_knigi[yandex_knigi['city'] == 'Санкт-Петербург'], x='hours',\n",
    "             color='lightgreen', label='Санкт-Петербург', bins=30, kde=True, ax=ax) # Разные цвета для наглядности\n",
    "\n",
    "# Подписываем и отображаем график\n",
    "plt.title('Распределение активности по городам')\n",
    "plt.ylabel('Количество пользователей')\n",
    "plt.xlabel('Время активности, часы') # Исправлено: 'хlabel' на 'xlabel'\n",
    "plt.legend()  # Добавляем легенду, чтобы отображались лейблы (labels)\n",
    "plt.show()"
   ]
  },
  {
   "cell_type": "markdown",
   "id": "261f777c",
   "metadata": {},
   "source": [
    "**Вывод:**\n",
    "\n",
    "Распределение пользователей между группами (Москва: 6234, Санкт-Петербург: 2306) может повлиять на наше исследование. Несмотря на то, что распределение часов активности выглядит одинаковым, значительно больший размер группы из Москвы обеспечивает большую статистическую мощность. Это означает, что мы с большей вероятностью обнаружим статистически значимые различия, даже если эффект невелик, в московской группе. Для группы из Санкт-Петербурга статистическая мощность ниже, что повышает риск пропустить реально существующий эффект (ошибка второго рода). Поэтому, при проведении статистических тестов и интерпретации результатов, необходимо учитывать разницу в размерах групп"
   ]
  },
  {
   "cell_type": "markdown",
   "id": "956e82e2",
   "metadata": {
    "id": "956e82e2"
   },
   "source": [
    "## 2. Проверка гипотезы в Python\n",
    "\n",
    "Гипотеза звучит так: пользователи из Санкт-Петербурга проводят в среднем больше времени за чтением и прослушиванием книг в приложении, чем пользователи из Москвы. Попробуйте статистически это доказать, используя одностороннюю проверку гипотезы с двумя выборками:\n",
    "\n",
    "- Нулевая гипотеза H₀: Средняя активность пользователей в часах в двух группах (Москва и Санкт-Петербург) не различается.\n",
    "\n",
    "- Альтернативная гипотеза H₁: Средняя активность пользователей в Санкт-Петербурге больше, и это различие статистически значимо."
   ]
  },
  {
   "cell_type": "markdown",
   "id": "4db63485",
   "metadata": {
    "id": "67956690"
   },
   "source": [
    "Напишем вспомогательную функцию print_stattest_results(p_value, alpha), которая будет интерпретировать результаты статистического теста на основе p-value и заданного уровня значимости (α-уровня). Функция будет решать, следует ли принять альтернативную гипотезу или сохранить нулевую гипотезу.\n",
    "\n",
    "У функции два параметра:\n",
    "\n",
    "p_value (тип float) — значение p-value, полученное в результате выполнения статистического теста.\n",
    "alpha (тип float, необязательный, по умолчанию alpha = 0.05) — уровень значимости статистического теста, который используется как порог для принятия решения об отклонении нулевой гипотезы.\n",
    "Если мы принимаем альтернативную гипотезу, выводится сообщение: 'Полученное значение p_value=<Введённое значение p_value> меньше критического уровня alpha=0.05. Принимаем альтернативную гипотезу.'\n",
    "\n",
    "Если мы не можем опровергнуть нулевую гипотезу, нужно вывести сообщение: 'Полученное значение p_value=<Введённое значение p_value> больше критического уровня alpha=0.05. Опровергнуть нулевую гипотезу нельзя.'\n",
    "\n"
   ]
  },
  {
   "cell_type": "code",
   "execution_count": 10,
   "id": "098ff583",
   "metadata": {},
   "outputs": [],
   "source": [
    "def print_stattest_results(p_value:float, alpha:float = 0.05):\n",
    "    # Напишите код для функции здесь\n",
    "    if p_value < alpha:\n",
    "        print(f'Полученное значение p_value={p_value} меньше критического уровня alpha={alpha}. Принимаем альтернативную гипотезу.')\n",
    "    else:\n",
    "        print(f'Полученное значение p_value={p_value} больше критического уровня alpha={alpha}. Опровергнуть нулевую гипотезу нельзя.')\n"
   ]
  },
  {
   "cell_type": "code",
   "execution_count": 11,
   "id": "6f811b63",
   "metadata": {},
   "outputs": [
    {
     "name": "stdout",
     "output_type": "stream",
     "text": [
      "Полученное значение p_value=0.3435708118766314 больше критического уровня alpha=0.05. Опровергнуть нулевую гипотезу нельзя.\n"
     ]
    }
   ],
   "source": [
    "knigi_moscow =yandex_knigi[yandex_knigi['city'] == 'Москва']['hours']\n",
    "knigi_Petersburg =yandex_knigi[yandex_knigi['city'] == 'Санкт-Петербург']['hours']\n",
    "\n",
    "results = st.ttest_ind( knigi_Petersburg,knigi_moscow,equal_var=False, alternative= 'greater')\n",
    "p_value =results.pvalue\n",
    "\n",
    "print_stattest_results(p_value)\n"
   ]
  },
  {
   "cell_type": "markdown",
   "id": "6953e84c",
   "metadata": {
    "id": "6953e84c"
   },
   "source": [
    "## 3. Аналитическая записка\n",
    "По результатам анализа данных подготовьте аналитическую записку, в которой опишете:\n",
    "\n",
    "- Выбранный тип t-теста и уровень статистической значимости.\n",
    "\n",
    "- Результат теста, или p-value.\n",
    "\n",
    "- Вывод на основе полученного p-value, то есть интерпретацию результатов.\n",
    "\n",
    "- Одну или две возможные причины, объясняющие полученные результаты.\n",
    "\n"
   ]
  },
  {
   "cell_type": "markdown",
   "id": "afdd2bd0",
   "metadata": {},
   "source": [
    "- **Введение:**\n",
    "Настоящая аналитическая записка представляет результаты статистического анализа, проведенного для проверки гипотезы о различиях в среднем времени активности пользователей сервиса Яндекс Книги в Москве и Санкт-Петербурге. Целью исследования было определить, проводят ли пользователи из Санкт-Петербурга в среднем больше времени за чтением и прослушиванием книг, чем пользователи из Москвы.\n",
    "\n",
    "- **Методология:**\n",
    "Выборка: Для анализа были использованы данные о пользователях из Москвы и Санкт-Петербурга, полученные из файла /datasets/yandex_knigi_data.csv.\n",
    "Переменная: Основной переменной для анализа являлась продолжительность активности пользователей (в часах), обозначенная в данных как ‘hours’.\n",
    "Статистический тест: Для проверки гипотезы был использован односторонний t-тест для независимых выборок (тест Уэлча), так как дисперсии выборок, вероятно, не равны.\n",
    "Нулевая гипотеза (H0): Средняя активность пользователей в часах в двух группах (Москва и Санкт-Петербург) не различается.\n",
    "Альтернативная гипотеза (H1): Средняя активность пользователей в Санкт-Петербурге больше, и это различие статистически значимо.\n",
    "Уровень статистической значимости (alpha): 0.05\n",
    "\n",
    "- **Результаты:**\n",
    "p-value: 0.3435708118766314\n",
    "Вывод: Полученное значение p-value (0.338) больше установленного уровня значимости alpha (0.05).\n",
    "\n",
    "- **Интерпретация результатов:**\n",
    "Поскольку p-value больше уровня значимости, мы не можем отвергнуть нулевую гипотезу. Это означает, что на основании имеющихся данных нет статистически значимых доказательств того, что пользователи из Санкт-Петербурга проводят в среднем больше времени за чтением и прослушиванием книг, чем пользователи из Москвы. Разница в средних значениях, обнаруженная в выборке, может быть объяснена случайными колебаниями.\n",
    "\n",
    "- **Возможные причины полученных результатов:**\n",
    "Отсутствие реальных различий: Возможно, на самом деле нет существенной разницы в среднем времени активности пользователей между Москвой и Санкт-Петербургом. Разница в статистиках, полученных в предыдущих шагах (например, в средних значениях), была незначительной.\n",
    "Недостаточная статистическая мощность: Возможно, выборка была недостаточно большой, чтобы обнаружить статистически значимые различия, если они существуют. Большая вариативность данных (большое стандартное отклонение), также могла снизить статистическую мощность. Увеличение размера выборки может повысить вероятность обнаружения реальных различий.\n",
    "Влияние других факторов: На активность пользователей могут влиять различные факторы, не учтенные в данном анализе, такие как:\n",
    "Различия в интересах пользователей (например, предпочтение разных жанров книг).\n",
    "Различия в маркетинговых активностях и продвижении сервиса в разных регионах.\n",
    "Различия в доступности контента (например, эксклюзивные книги).\n",
    "\n",
    "- **Заключение:**\n",
    "Проведенный анализ не выявил статистически значимых различий в среднем времени активности пользователей Яндекс Книги в Москве и Санкт-Петербурге. Для более точного определения причин, влияющих на активность пользователей, рекомендуется провести дальнейший анализ с учетом дополнительных факторов, которые могут влиять на поведение пользователей. Также можно рассмотреть возможность увеличения объема выборки."
   ]
  },
  {
   "cell_type": "markdown",
   "id": "NqOUIYhbrIfC",
   "metadata": {
    "id": "NqOUIYhbrIfC"
   },
   "source": [
    "# Часть 2. Анализ результатов A/B-тестирования"
   ]
  },
  {
   "cell_type": "markdown",
   "id": "tDwMKFNGsClr",
   "metadata": {
    "id": "tDwMKFNGsClr"
   },
   "source": [
    "Теперь вам нужно проанализировать другие данные. Представьте, что к вам обратились представители интернет-магазина BitMotion Kit, в котором продаются геймифицированные товары для тех, кто ведёт здоровый образ жизни. У него есть своя целевая аудитория, даже появились хиты продаж: эспандер со счётчиком и напоминанием, так и подстольный велотренажёр с Bluetooth.\n",
    "\n",
    "В будущем компания хочет расширить ассортимент товаров. Но перед этим нужно решить одну проблему. Интерфейс онлайн-магазина слишком сложен для пользователей — об этом говорят отзывы.\n",
    "\n",
    "Чтобы привлечь новых клиентов и увеличить число продаж, владельцы магазина разработали новую версию сайта и протестировали его на части пользователей. По задумке, это решение доказуемо повысит количество пользователей, которые совершат покупку.\n",
    "\n",
    "Ваша задача — провести оценку результатов A/B-теста. В вашем распоряжении:\n",
    "\n",
    "* данные о действиях пользователей и распределении их на группы,\n",
    "\n",
    "* техническое задание.\n",
    "\n",
    "Оцените корректность проведения теста и проанализируйте его результаты."
   ]
  },
  {
   "cell_type": "markdown",
   "id": "UNXAAyF5r9Rk",
   "metadata": {
    "id": "UNXAAyF5r9Rk"
   },
   "source": [
    "## 1. Опишите цели исследования.\n",
    "\n"
   ]
  },
  {
   "cell_type": "markdown",
   "id": "kHx-51yES8bd",
   "metadata": {
    "id": "kHx-51yES8bd"
   },
   "source": [
    "**Цель:** Оценить результаты A/B-тестирования новой версии сайта интернет-магазина BitMotion Kit с целью определения, приводит ли новая версия к статистически значимому увеличению количества пользователей, совершающих покупку.\n",
    "\n",
    "Гипотеза заключается в следующем: упрощение интерфейса приведёт к тому, что в течение семи дней после регистрации в системе конверсия зарегистрированных пользователей в покупателей увеличится как минимум на три процентных пункта.\n",
    "Параметры теста:\n",
    "название теста: `interface_eu_test`;\n",
    "группы: А (контрольная), B (новый интерфейс).\n",
    "\n",
    "**Необходимо:**\n",
    "загрузить данные теста;\n",
    "проверить корректность его проведения;\n",
    "проанализировать полученные результаты."
   ]
  },
  {
   "cell_type": "markdown",
   "id": "_CZryx2OsH-s",
   "metadata": {
    "id": "_CZryx2OsH-s"
   },
   "source": [
    "## 2. Загрузите данные, оцените их целостность.\n"
   ]
  },
  {
   "cell_type": "markdown",
   "id": "88713458",
   "metadata": {},
   "source": [
    "Описание данных:\n",
    "\n",
    "`https://code.s3.yandex.net/datasets/ab_test_participants.csv` — таблица участников тестов.\n",
    "- `user_id`— идентификатор пользователя;\n",
    "- `group` — группа пользователя;\n",
    "- `ab_test` — название теста;\n",
    "- `device` — устройство, с которого происходила регистрация.\n",
    "\n",
    "`https://code.s3.yandex.net/datasets/ab_test_events.zip` — архив с одним csv-файлом, в котором собраны события 2020 года;\n",
    "- `user_id` — идентификатор пользователя;\n",
    "- `event_dt` — дата и время события;\n",
    "- `event_name` — тип события;\n",
    "- `details` — дополнительные данные о событии."
   ]
  },
  {
   "cell_type": "code",
   "execution_count": 12,
   "id": "DjFcJbeGsTIg",
   "metadata": {
    "id": "DjFcJbeGsTIg"
   },
   "outputs": [],
   "source": [
    "participants = pd.read_csv('https://code.s3.yandex.net/datasets/ab_test_participants.csv')\n",
    "events = pd.read_csv('https://code.s3.yandex.net/datasets/ab_test_events.zip',\n",
    "                     parse_dates=['event_dt'], low_memory=False)"
   ]
  },
  {
   "cell_type": "code",
   "execution_count": 13,
   "id": "86babce9",
   "metadata": {},
   "outputs": [
    {
     "data": {
      "text/html": [
       "<div>\n",
       "<style scoped>\n",
       "    .dataframe tbody tr th:only-of-type {\n",
       "        vertical-align: middle;\n",
       "    }\n",
       "\n",
       "    .dataframe tbody tr th {\n",
       "        vertical-align: top;\n",
       "    }\n",
       "\n",
       "    .dataframe thead th {\n",
       "        text-align: right;\n",
       "    }\n",
       "</style>\n",
       "<table border=\"1\" class=\"dataframe\">\n",
       "  <thead>\n",
       "    <tr style=\"text-align: right;\">\n",
       "      <th></th>\n",
       "      <th>user_id</th>\n",
       "      <th>group</th>\n",
       "      <th>ab_test</th>\n",
       "      <th>device</th>\n",
       "    </tr>\n",
       "  </thead>\n",
       "  <tbody>\n",
       "    <tr>\n",
       "      <th>0</th>\n",
       "      <td>0002CE61FF2C4011</td>\n",
       "      <td>B</td>\n",
       "      <td>interface_eu_test</td>\n",
       "      <td>Mac</td>\n",
       "    </tr>\n",
       "    <tr>\n",
       "      <th>1</th>\n",
       "      <td>001064FEAAB631A1</td>\n",
       "      <td>B</td>\n",
       "      <td>recommender_system_test</td>\n",
       "      <td>Android</td>\n",
       "    </tr>\n",
       "    <tr>\n",
       "      <th>2</th>\n",
       "      <td>001064FEAAB631A1</td>\n",
       "      <td>A</td>\n",
       "      <td>interface_eu_test</td>\n",
       "      <td>Android</td>\n",
       "    </tr>\n",
       "    <tr>\n",
       "      <th>3</th>\n",
       "      <td>0010A1C096941592</td>\n",
       "      <td>A</td>\n",
       "      <td>recommender_system_test</td>\n",
       "      <td>Android</td>\n",
       "    </tr>\n",
       "    <tr>\n",
       "      <th>4</th>\n",
       "      <td>001E72F50D1C48FA</td>\n",
       "      <td>A</td>\n",
       "      <td>interface_eu_test</td>\n",
       "      <td>Mac</td>\n",
       "    </tr>\n",
       "  </tbody>\n",
       "</table>\n",
       "</div>"
      ],
      "text/plain": [
       "            user_id group                  ab_test   device\n",
       "0  0002CE61FF2C4011     B        interface_eu_test      Mac\n",
       "1  001064FEAAB631A1     B  recommender_system_test  Android\n",
       "2  001064FEAAB631A1     A        interface_eu_test  Android\n",
       "3  0010A1C096941592     A  recommender_system_test  Android\n",
       "4  001E72F50D1C48FA     A        interface_eu_test      Mac"
      ]
     },
     "execution_count": 13,
     "metadata": {},
     "output_type": "execute_result"
    }
   ],
   "source": [
    "# выведем первые строки таблицы `participants`\n",
    "participants.head(5)"
   ]
  },
  {
   "cell_type": "code",
   "execution_count": 14,
   "id": "ca3a8d83",
   "metadata": {},
   "outputs": [
    {
     "name": "stdout",
     "output_type": "stream",
     "text": [
      "<class 'pandas.core.frame.DataFrame'>\n",
      "RangeIndex: 14525 entries, 0 to 14524\n",
      "Data columns (total 4 columns):\n",
      " #   Column   Non-Null Count  Dtype \n",
      "---  ------   --------------  ----- \n",
      " 0   user_id  14525 non-null  object\n",
      " 1   group    14525 non-null  object\n",
      " 2   ab_test  14525 non-null  object\n",
      " 3   device   14525 non-null  object\n",
      "dtypes: object(4)\n",
      "memory usage: 454.0+ KB\n"
     ]
    }
   ],
   "source": [
    "# выведем информацию по таблице `participants`\n",
    "participants.info()"
   ]
  },
  {
   "cell_type": "code",
   "execution_count": 15,
   "id": "79642914",
   "metadata": {},
   "outputs": [
    {
     "data": {
      "text/html": [
       "<div>\n",
       "<style scoped>\n",
       "    .dataframe tbody tr th:only-of-type {\n",
       "        vertical-align: middle;\n",
       "    }\n",
       "\n",
       "    .dataframe tbody tr th {\n",
       "        vertical-align: top;\n",
       "    }\n",
       "\n",
       "    .dataframe thead th {\n",
       "        text-align: right;\n",
       "    }\n",
       "</style>\n",
       "<table border=\"1\" class=\"dataframe\">\n",
       "  <thead>\n",
       "    <tr style=\"text-align: right;\">\n",
       "      <th></th>\n",
       "      <th>user_id</th>\n",
       "      <th>event_dt</th>\n",
       "      <th>event_name</th>\n",
       "      <th>details</th>\n",
       "    </tr>\n",
       "  </thead>\n",
       "  <tbody>\n",
       "    <tr>\n",
       "      <th>0</th>\n",
       "      <td>GLOBAL</td>\n",
       "      <td>2020-12-01 00:00:00</td>\n",
       "      <td>End of Black Friday Ads Campaign</td>\n",
       "      <td>ZONE_CODE15</td>\n",
       "    </tr>\n",
       "    <tr>\n",
       "      <th>1</th>\n",
       "      <td>CCBE9E7E99F94A08</td>\n",
       "      <td>2020-12-01 00:00:11</td>\n",
       "      <td>registration</td>\n",
       "      <td>0.0</td>\n",
       "    </tr>\n",
       "    <tr>\n",
       "      <th>2</th>\n",
       "      <td>GLOBAL</td>\n",
       "      <td>2020-12-01 00:00:25</td>\n",
       "      <td>product_page</td>\n",
       "      <td>NaN</td>\n",
       "    </tr>\n",
       "    <tr>\n",
       "      <th>3</th>\n",
       "      <td>CCBE9E7E99F94A08</td>\n",
       "      <td>2020-12-01 00:00:33</td>\n",
       "      <td>login</td>\n",
       "      <td>NaN</td>\n",
       "    </tr>\n",
       "    <tr>\n",
       "      <th>4</th>\n",
       "      <td>CCBE9E7E99F94A08</td>\n",
       "      <td>2020-12-01 00:00:52</td>\n",
       "      <td>product_page</td>\n",
       "      <td>NaN</td>\n",
       "    </tr>\n",
       "  </tbody>\n",
       "</table>\n",
       "</div>"
      ],
      "text/plain": [
       "            user_id            event_dt                        event_name  \\\n",
       "0            GLOBAL 2020-12-01 00:00:00  End of Black Friday Ads Campaign   \n",
       "1  CCBE9E7E99F94A08 2020-12-01 00:00:11                      registration   \n",
       "2            GLOBAL 2020-12-01 00:00:25                      product_page   \n",
       "3  CCBE9E7E99F94A08 2020-12-01 00:00:33                             login   \n",
       "4  CCBE9E7E99F94A08 2020-12-01 00:00:52                      product_page   \n",
       "\n",
       "       details  \n",
       "0  ZONE_CODE15  \n",
       "1          0.0  \n",
       "2          NaN  \n",
       "3          NaN  \n",
       "4          NaN  "
      ]
     },
     "execution_count": 15,
     "metadata": {},
     "output_type": "execute_result"
    }
   ],
   "source": [
    "# выведем первые строки таблицы `events`\n",
    "events.head(5)"
   ]
  },
  {
   "cell_type": "code",
   "execution_count": 16,
   "id": "cb940f40",
   "metadata": {},
   "outputs": [
    {
     "name": "stdout",
     "output_type": "stream",
     "text": [
      "<class 'pandas.core.frame.DataFrame'>\n",
      "RangeIndex: 787286 entries, 0 to 787285\n",
      "Data columns (total 4 columns):\n",
      " #   Column      Non-Null Count   Dtype         \n",
      "---  ------      --------------   -----         \n",
      " 0   user_id     787286 non-null  object        \n",
      " 1   event_dt    787286 non-null  datetime64[ns]\n",
      " 2   event_name  787286 non-null  object        \n",
      " 3   details     249022 non-null  object        \n",
      "dtypes: datetime64[ns](1), object(3)\n",
      "memory usage: 24.0+ MB\n"
     ]
    }
   ],
   "source": [
    "# выведем информацию по таблице `events`\n",
    "events.info()"
   ]
  },
  {
   "cell_type": "markdown",
   "id": "2a63f64d",
   "metadata": {},
   "source": [
    "Проверим таблицу `participants` на дубликаты по столбцу `user_id'`"
   ]
  },
  {
   "cell_type": "code",
   "execution_count": 17,
   "id": "a47d0a63",
   "metadata": {},
   "outputs": [
    {
     "data": {
      "text/plain": [
       "887"
      ]
     },
     "execution_count": 17,
     "metadata": {},
     "output_type": "execute_result"
    }
   ],
   "source": [
    "duplicate_participants = participants['user_id'].duplicated().sum()\n",
    "duplicate_participants"
   ]
  },
  {
   "cell_type": "markdown",
   "id": "1619e681",
   "metadata": {},
   "source": [
    "Найдено 887 дубликатов. Их мы удалим,что бы не исказить результаты исследования."
   ]
  },
  {
   "cell_type": "code",
   "execution_count": 18,
   "id": "2134bc9e",
   "metadata": {},
   "outputs": [],
   "source": [
    "# удалим дубликаты на остнове столбца 'user_id'\n",
    "participants_final = participants.drop_duplicates(subset=['user_id'], keep='first').copy()\n"
   ]
  },
  {
   "cell_type": "code",
   "execution_count": 19,
   "id": "3e650126",
   "metadata": {},
   "outputs": [
    {
     "data": {
      "text/plain": [
       "0"
      ]
     },
     "execution_count": 19,
     "metadata": {},
     "output_type": "execute_result"
    }
   ],
   "source": [
    "# проверим результат удаления\n",
    "participants_final['user_id'].duplicated().sum()"
   ]
  },
  {
   "cell_type": "code",
   "execution_count": 20,
   "id": "b4e53025",
   "metadata": {},
   "outputs": [
    {
     "name": "stdout",
     "output_type": "stream",
     "text": [
      "Количества строк первоначально: 14525\n",
      "Количества строк после удаления дубликатов: 13638\n",
      "Процент потерь: 6.11\n"
     ]
    }
   ],
   "source": [
    "print(f\"Количества строк первоначально: {len(participants)}\")\n",
    "print(f\"Количества строк после удаления дубликатов: {len(participants_final)}\")\n",
    "print(f\"Процент потерь: {round(100-(len(participants_final)/len(participants)*100),2)}\")"
   ]
  },
  {
   "cell_type": "markdown",
   "id": "2995798f",
   "metadata": {},
   "source": [
    "Проверим таблицу `events` на явные дубликаты "
   ]
  },
  {
   "cell_type": "code",
   "execution_count": 21,
   "id": "3b3675dd",
   "metadata": {},
   "outputs": [
    {
     "data": {
      "text/plain": [
       "36318"
      ]
     },
     "execution_count": 21,
     "metadata": {},
     "output_type": "execute_result"
    }
   ],
   "source": [
    "duplicated_events = events.duplicated().sum()\n",
    "duplicated_events"
   ]
  },
  {
   "cell_type": "markdown",
   "id": "03ddc052",
   "metadata": {},
   "source": [
    "Найдено 36318 дубликатов. Их удалим"
   ]
  },
  {
   "cell_type": "code",
   "execution_count": 22,
   "id": "138e54b9",
   "metadata": {},
   "outputs": [],
   "source": [
    "events_final=events.drop_duplicates(subset=None, keep='first', inplace=False) "
   ]
  },
  {
   "cell_type": "code",
   "execution_count": 23,
   "id": "859b2955",
   "metadata": {},
   "outputs": [
    {
     "data": {
      "text/plain": [
       "0"
      ]
     },
     "execution_count": 23,
     "metadata": {},
     "output_type": "execute_result"
    }
   ],
   "source": [
    "events_final.duplicated().sum()"
   ]
  },
  {
   "cell_type": "code",
   "execution_count": 24,
   "id": "94410bcf",
   "metadata": {},
   "outputs": [
    {
     "name": "stdout",
     "output_type": "stream",
     "text": [
      "Количества строк первоначально: 787286\n",
      "Количества строк после удаления дубликатов: 750968\n",
      "Процент потерь: 4.61\n"
     ]
    }
   ],
   "source": [
    "print(f\"Количества строк первоначально: {len(events)}\")\n",
    "print(f\"Количества строк после удаления дубликатов: {len(events_final)}\")\n",
    "print(f\"Процент потерь: {round(100-(len(events_final)/len(events)*100),2)}\")"
   ]
  },
  {
   "cell_type": "markdown",
   "id": "2158e2d2",
   "metadata": {},
   "source": [
    "**Вывод:** Таблица `participants` содержит 14525 строк,4 столбца, нет пропусков. Названия столбцов соответвуют его содержанию.\n",
    "Таблица `events`содержит 787286 строк, 4 столбца, пропуски есть в столбце `details`. Названия столбцов соответвуют его содержанию. При проверке на дубликаты таблицы `participants` ,было удалено 887 дубликатов по столбцу `user_id` (6,11% потерь). При проверке таблицы `events` было удалено 36318 явных дубликатов (4,61% потерь). Количества строк после удаления дубликатов в таблице `vents_final` - 750968, в таблице `participants_final` - 13638."
   ]
  },
  {
   "cell_type": "markdown",
   "id": "CnzA-efasUrk",
   "metadata": {
    "id": "CnzA-efasUrk"
   },
   "source": [
    "## 3. По таблице `ab_test_participants` оцените корректность проведения теста:\n",
    "\n",
    "   3\\.1 Выделите пользователей, участвующих в тесте, и проверьте:\n",
    "\n",
    "   - соответствие требованиям технического задания,\n",
    "\n",
    "   - равномерность распределения пользователей по группам теста,\n",
    "\n",
    "   - отсутствие пересечений с конкурирующим тестом (нет пользователей, участвующих одновременно в двух тестовых группах)."
   ]
  },
  {
   "cell_type": "code",
   "execution_count": 25,
   "id": "aNa3zHrKslEN",
   "metadata": {
    "id": "aNa3zHrKslEN"
   },
   "outputs": [
    {
     "data": {
      "text/plain": [
       "5174"
      ]
     },
     "execution_count": 25,
     "metadata": {},
     "output_type": "execute_result"
    }
   ],
   "source": [
    "# Oтфильтруем таблицу по группе А и по названию теста interface_eu_test\n",
    "filtr_group_a= participants_final.loc[(participants_final['group'] == 'A') & (participants_final['ab_test']=='interface_eu_test')]['user_id'].unique().shape[0]\n",
    "filtr_group_a"
   ]
  },
  {
   "cell_type": "code",
   "execution_count": 26,
   "id": "9f6347ff",
   "metadata": {},
   "outputs": [
    {
     "data": {
      "text/plain": [
       "5229"
      ]
     },
     "execution_count": 26,
     "metadata": {},
     "output_type": "execute_result"
    }
   ],
   "source": [
    "# Oтфильтруем таблицу по группе В и по названию теста interface_eu_test\n",
    "filtr_group_b= participants_final.loc[(participants_final['group'] == 'B') & (participants_final['ab_test']=='interface_eu_test')]['user_id'].unique().shape[0]\n",
    "filtr_group_b"
   ]
  },
  {
   "cell_type": "markdown",
   "id": "461558fc",
   "metadata": {},
   "source": [
    "Между группами небольшая разница. Построим визуализацию."
   ]
  },
  {
   "cell_type": "code",
   "execution_count": 27,
   "id": "a6045e08",
   "metadata": {},
   "outputs": [
    {
     "data": {
      "text/plain": [
       "<Figure size 504x216 with 0 Axes>"
      ]
     },
     "metadata": {},
     "output_type": "display_data"
    },
    {
     "data": {
      "image/png": "[encoded data removed]",
      "text/plain": [
       "<Figure size 432x288 with 1 Axes>"
      ]
     },
     "metadata": {},
     "output_type": "display_data"
    }
   ],
   "source": [
    "data = {'test_group': ['A', 'B'],\n",
    "        'user': [filtr_group_a, filtr_group_b]} \n",
    "df = pd.DataFrame(data,index=['A', 'B'])\n",
    "\n",
    "# Создаём контейнер графика matplotlib и задаём его размер\n",
    "plt.figure(figsize=(7, 3))\n",
    "\n",
    "# Строим столбчатую диаграмму с помощью pandas через plot(kind='bar')\n",
    "df.plot(\n",
    "               kind='bar', # Тип графика - столбчатая диаграмма\n",
    "               rot=0, # Градус вращения подписи по оси Х\n",
    "               legend=False, # Выключаем легенду\n",
    "               title=f'Количество пользователей в группах'\n",
    ")\n",
    "\n",
    "# Настраиваем оформление графика\n",
    "plt.xlabel('Группа')\n",
    "plt.ylabel('Колличество пользователей')\n",
    "# Добавляем сетку графика\n",
    "plt.grid()\n",
    "\n",
    "# Выводим график\n",
    "plt.show()"
   ]
  },
  {
   "cell_type": "markdown",
   "id": "cf387032",
   "metadata": {},
   "source": [
    "**Вывод:** Расхождение стало более наглядным — оно небольшое, и им можно пренебречь."
   ]
  },
  {
   "cell_type": "code",
   "execution_count": 28,
   "id": "d0204f40",
   "metadata": {},
   "outputs": [
    {
     "data": {
      "text/plain": [
       "array(['interface_eu_test', 'recommender_system_test'], dtype=object)"
      ]
     },
     "execution_count": 28,
     "metadata": {},
     "output_type": "execute_result"
    }
   ],
   "source": [
    "# выведем тесты, которые проходят в данный момент\n",
    "unique_values = participants_final['ab_test'].unique()\n",
    "unique_values"
   ]
  },
  {
   "cell_type": "code",
   "execution_count": 29,
   "id": "230e317f",
   "metadata": {},
   "outputs": [
    {
     "name": "stdout",
     "output_type": "stream",
     "text": [
      "Количество пересекающихся user_id: 0\n"
     ]
    }
   ],
   "source": [
    "# Фильтруем данные для каждой группы тестов\n",
    "group_a= participants_final[participants_final['ab_test'] == 'interface_eu_test']['user_id']\n",
    "group_b= participants_final[participants_final['ab_test'] == 'recommender_system_test']['user_id']\n",
    "\n",
    "intersection = list(set(group_a) & set(group_b))\n",
    "\n",
    "# Выводим количество user_id в пересечении\n",
    "print(f\"Количество пересекающихся user_id: {len(intersection)}\")"
   ]
  },
  {
   "cell_type": "markdown",
   "id": "e91f514c",
   "metadata": {},
   "source": [
    "Пересекающихся пользователей не обнаружено."
   ]
  },
  {
   "cell_type": "code",
   "execution_count": 30,
   "id": "e69d34e7",
   "metadata": {},
   "outputs": [],
   "source": [
    "# отфильтруем данные по тесту interface_eu_test\n",
    "participants_filtered=participants_final.loc[(participants_final['ab_test']=='interface_eu_test')]"
   ]
  },
  {
   "cell_type": "markdown",
   "id": "8fbfa067",
   "metadata": {},
   "source": [
    "**Вывод:**\n",
    "\n",
    "Группы распределены практически равномерно: группа А - 5174 пользователя, группа B - 5229 пользователей. Небольшая разница в размерах групп позволяет продолжить анализ с минимальным риском смещения результатов, связанного с дисбалансом групп. Также проверили пользователей на пересечение с другими тестами - пересекающихся пользователей не выявили"
   ]
  },
  {
   "cell_type": "markdown",
   "id": "GjulgSrlsqUU",
   "metadata": {
    "id": "GjulgSrlsqUU"
   },
   "source": [
    "3\\.2 Проанализируйте данные о пользовательской активности по таблице `ab_test_events`:\n",
    "\n",
    "- оставьте только события, связанные с участвующими в изучаемом тесте пользователями;"
   ]
  },
  {
   "cell_type": "code",
   "execution_count": 31,
   "id": "QMt0Ybo_swDK",
   "metadata": {
    "id": "QMt0Ybo_swDK"
   },
   "outputs": [
    {
     "name": "stdout",
     "output_type": "stream",
     "text": [
      "Размер DataFrame events до фильтрации: 750968\n",
      "Размер DataFrame events после фильтрации: 70730\n"
     ]
    }
   ],
   "source": [
    "participants_users=participants_filtered['user_id'].unique()\n",
    "\n",
    "# Фильтруем DataFrame events, оставляя только строки, где user_id есть в participants_filtered\n",
    "events_filtr = events_final[events_final['user_id'].isin(participants_users)]\n",
    "\n",
    "# Выводим размеры DataFrame до и после фильтрации\n",
    "print(f\"Размер DataFrame events до фильтрации: {len(events_final)}\")\n",
    "print(f\"Размер DataFrame events после фильтрации: {len(events_filtr)}\")"
   ]
  },
  {
   "cell_type": "markdown",
   "id": "fBZ4DC2xswZJ",
   "metadata": {
    "id": "fBZ4DC2xswZJ"
   },
   "source": [
    "- определите горизонт анализа: рассчитайте время (лайфтайм) совершения события пользователем после регистрации и оставьте только те события, которые были выполнены в течение первых семи дней с момента регистрации;"
   ]
  },
  {
   "cell_type": "code",
   "execution_count": 32,
   "id": "sES4-dKts0Yb",
   "metadata": {
    "id": "sES4-dKts0Yb"
   },
   "outputs": [
    {
     "name": "stdout",
     "output_type": "stream",
     "text": [
      "Размер DataFrame до фильтрации: 70730\n",
      "Размер DataFrame после фильтрации: 60980\n"
     ]
    },
    {
     "name": "stderr",
     "output_type": "stream",
     "text": [
      "/tmp/ipykernel_123/2385127036.py:2: SettingWithCopyWarning: \n",
      "A value is trying to be set on a copy of a slice from a DataFrame.\n",
      "Try using .loc[row_indexer,col_indexer] = value instead\n",
      "\n",
      "See the caveats in the documentation: https://pandas.pydata.org/pandas-docs/stable/user_guide/indexing.html#returning-a-view-versus-a-copy\n",
      "  events_filtr['event_dt'] = pd.to_datetime(events_final['event_dt'])\n"
     ]
    }
   ],
   "source": [
    "# Преобразуем столбец event_dt в datetime объекты\n",
    "events_filtr['event_dt'] = pd.to_datetime(events_final['event_dt'])\n",
    "\n",
    "# Определяем дату регистрации для каждого пользователя (самое раннее событие)\n",
    "registrations= events_filtr.groupby('user_id')['event_dt'].min().reset_index()\n",
    "registrations.rename(columns={'event_dt': 'registration_dt'}, inplace=True)\n",
    "\n",
    "# Объединяем events и registrations по user_id\n",
    "merged_data = pd.merge(events_filtr, registrations, on='user_id', how='inner')\n",
    "\n",
    "# Рассчитываем лайфтайм (разницу между датой события и датой регистрации) в днях\n",
    "merged_data['lifetime'] = (merged_data['event_dt'] - merged_data['registration_dt']).dt.days\n",
    "\n",
    "# Фильтруем события, произошедшие в течение первых 7 дней\n",
    "analysis_horizon = 7\n",
    "filtered_data = merged_data[merged_data['lifetime'] < analysis_horizon]\n",
    "\n",
    "# Выводим размеры DataFrame до и после фильтрации\n",
    "print(f\"Размер DataFrame до фильтрации: {len(merged_data)}\")\n",
    "print(f\"Размер DataFrame после фильтрации: {len(filtered_data)}\")"
   ]
  },
  {
   "cell_type": "markdown",
   "id": "7cf1df48",
   "metadata": {},
   "source": [
    "Оцените достаточность выборки для получения статистически значимых результатов A/B-теста. Заданные параметры:\n",
    "\n",
    "- базовый показатель конверсии — 30%,\n",
    "\n",
    "- мощность теста — 80%,\n",
    "\n",
    "- достоверность теста — 95%."
   ]
  },
  {
   "cell_type": "markdown",
   "id": "6551f71d",
   "metadata": {},
   "source": [
    "Воспользуемся калькулятор Эвана Миллера, предназначенный для расчёта размера выборки А/B-теста строго с долевой метрикой.\n",
    "Baseline conversion rate ( базовый уровень конверсии):30% \n",
    "Minimum Detectable Effect (минимальный детектируемый эффект, в относительном выражении Relative):3% (из условия задачи, увеличится как минимум на три процентных пункта)\n",
    "\n",
    "Введя все параметры получаем 40800, т.е чтобы добиться установленного MDE, необходимо, чтобы в эксперименте участвовало 81600 человек, то есть в контрольной и экспериментальной группах должно быть по 40800 пользователя.\n",
    "\n",
    "**Вывод:** Так как мы получили уникальных пользователей в группе А - 5174 пользователя, группа B - 5229 пользователя, а по расчету калькулятора достаточный размер выборки получился 81600, считаем, что данных не достаточно. "
   ]
  },
  {
   "cell_type": "markdown",
   "id": "SadyUDgZs0t3",
   "metadata": {
    "id": "SadyUDgZs0t3"
   },
   "source": [
    "- рассчитайте для каждой группы количество посетителей, сделавших покупку, и общее количество посетителей."
   ]
  },
  {
   "cell_type": "markdown",
   "id": "01e885da",
   "metadata": {},
   "source": [
    "Числовые значения:\n",
    "- `registration` (регистрация) — стоимость привлечения клиента;\n",
    "- `purchase` (покупка) — стоимость покупки."
   ]
  },
  {
   "cell_type": "markdown",
   "id": "7a591af3",
   "metadata": {},
   "source": [
    "Объединим 2 таблицы `filtered_data` (отфильтрованы события,которые выполнены пользователями в течение первых семи дней с момента регистраци) и таблицу `participants_filtered` (отфильтрованы пользователи, учавствующие в тесте `interface_eu_test`). "
   ]
  },
  {
   "cell_type": "code",
   "execution_count": 33,
   "id": "b74ce0bc",
   "metadata": {},
   "outputs": [
    {
     "data": {
      "text/html": [
       "<div>\n",
       "<style scoped>\n",
       "    .dataframe tbody tr th:only-of-type {\n",
       "        vertical-align: middle;\n",
       "    }\n",
       "\n",
       "    .dataframe tbody tr th {\n",
       "        vertical-align: top;\n",
       "    }\n",
       "\n",
       "    .dataframe thead th {\n",
       "        text-align: right;\n",
       "    }\n",
       "</style>\n",
       "<table border=\"1\" class=\"dataframe\">\n",
       "  <thead>\n",
       "    <tr style=\"text-align: right;\">\n",
       "      <th></th>\n",
       "      <th>user_id</th>\n",
       "      <th>event_dt</th>\n",
       "      <th>event_name</th>\n",
       "      <th>details</th>\n",
       "      <th>registration_dt</th>\n",
       "      <th>lifetime</th>\n",
       "      <th>group</th>\n",
       "      <th>ab_test</th>\n",
       "      <th>device</th>\n",
       "    </tr>\n",
       "  </thead>\n",
       "  <tbody>\n",
       "    <tr>\n",
       "      <th>0</th>\n",
       "      <td>5F506CEBEDC05D30</td>\n",
       "      <td>2020-12-06 14:10:01</td>\n",
       "      <td>registration</td>\n",
       "      <td>0.0</td>\n",
       "      <td>2020-12-06 14:10:01</td>\n",
       "      <td>0</td>\n",
       "      <td>A</td>\n",
       "      <td>interface_eu_test</td>\n",
       "      <td>iPhone</td>\n",
       "    </tr>\n",
       "    <tr>\n",
       "      <th>1</th>\n",
       "      <td>5F506CEBEDC05D30</td>\n",
       "      <td>2020-12-07 01:25:14</td>\n",
       "      <td>login</td>\n",
       "      <td>NaN</td>\n",
       "      <td>2020-12-06 14:10:01</td>\n",
       "      <td>0</td>\n",
       "      <td>A</td>\n",
       "      <td>interface_eu_test</td>\n",
       "      <td>iPhone</td>\n",
       "    </tr>\n",
       "    <tr>\n",
       "      <th>2</th>\n",
       "      <td>5F506CEBEDC05D30</td>\n",
       "      <td>2020-12-07 01:25:47</td>\n",
       "      <td>login</td>\n",
       "      <td>NaN</td>\n",
       "      <td>2020-12-06 14:10:01</td>\n",
       "      <td>0</td>\n",
       "      <td>A</td>\n",
       "      <td>interface_eu_test</td>\n",
       "      <td>iPhone</td>\n",
       "    </tr>\n",
       "    <tr>\n",
       "      <th>3</th>\n",
       "      <td>5F506CEBEDC05D30</td>\n",
       "      <td>2020-12-09 12:40:49</td>\n",
       "      <td>login</td>\n",
       "      <td>NaN</td>\n",
       "      <td>2020-12-06 14:10:01</td>\n",
       "      <td>2</td>\n",
       "      <td>A</td>\n",
       "      <td>interface_eu_test</td>\n",
       "      <td>iPhone</td>\n",
       "    </tr>\n",
       "    <tr>\n",
       "      <th>4</th>\n",
       "      <td>5F506CEBEDC05D30</td>\n",
       "      <td>2020-12-09 12:40:49</td>\n",
       "      <td>product_page</td>\n",
       "      <td>NaN</td>\n",
       "      <td>2020-12-06 14:10:01</td>\n",
       "      <td>2</td>\n",
       "      <td>A</td>\n",
       "      <td>interface_eu_test</td>\n",
       "      <td>iPhone</td>\n",
       "    </tr>\n",
       "  </tbody>\n",
       "</table>\n",
       "</div>"
      ],
      "text/plain": [
       "            user_id            event_dt    event_name details  \\\n",
       "0  5F506CEBEDC05D30 2020-12-06 14:10:01  registration     0.0   \n",
       "1  5F506CEBEDC05D30 2020-12-07 01:25:14         login     NaN   \n",
       "2  5F506CEBEDC05D30 2020-12-07 01:25:47         login     NaN   \n",
       "3  5F506CEBEDC05D30 2020-12-09 12:40:49         login     NaN   \n",
       "4  5F506CEBEDC05D30 2020-12-09 12:40:49  product_page     NaN   \n",
       "\n",
       "      registration_dt  lifetime group            ab_test  device  \n",
       "0 2020-12-06 14:10:01         0     A  interface_eu_test  iPhone  \n",
       "1 2020-12-06 14:10:01         0     A  interface_eu_test  iPhone  \n",
       "2 2020-12-06 14:10:01         0     A  interface_eu_test  iPhone  \n",
       "3 2020-12-06 14:10:01         2     A  interface_eu_test  iPhone  \n",
       "4 2020-12-06 14:10:01         2     A  interface_eu_test  iPhone  "
      ]
     },
     "execution_count": 33,
     "metadata": {},
     "output_type": "execute_result"
    }
   ],
   "source": [
    "df_test=pd.merge(filtered_data,participants_filtered,on='user_id', how='left')\n",
    "# выведем полученную таблицу\n",
    "df_test.head(5)"
   ]
  },
  {
   "cell_type": "code",
   "execution_count": 34,
   "id": "acec0d3a",
   "metadata": {},
   "outputs": [
    {
     "name": "stdout",
     "output_type": "stream",
     "text": [
      "Количества пользователей в группе А: 5174\n",
      "Количества пользователей  в группе В: 5229\n",
      "Совершили покупку в группе А: 1427\n",
      "Совершили покупку в группе В: 1532\n",
      "Доля совершивших покупку в группе А: 0.28\n",
      "Доля совершивших покупку в группе В: 0.29\n"
     ]
    }
   ],
   "source": [
    "purchase_a= df_test.loc[(df_test['event_name'] == 'purchase') & (df_test['group']=='A')]['user_id'].unique().shape[0]\n",
    "purchase_b=df_test.loc[(df_test['event_name'] == 'purchase') & (df_test['group']=='B')]['user_id'].unique().shape[0]\n",
    "print(f\"Количества пользователей в группе А: {filtr_group_a}\")\n",
    "print(f\"Количества пользователей  в группе В: {filtr_group_b}\")\n",
    "print(f\"Совершили покупку в группе А: {purchase_a}\")\n",
    "print(f\"Совершили покупку в группе В: {purchase_b}\")\n",
    "print(f\"Доля совершивших покупку в группе А: {round((purchase_a/filtr_group_a),2)}\")\n",
    "print(f\"Доля совершивших покупку в группе В: {round((purchase_b/filtr_group_b),2)}\")"
   ]
  },
  {
   "cell_type": "markdown",
   "id": "sh1JpGvAs5E3",
   "metadata": {
    "id": "sh1JpGvAs5E3"
   },
   "source": [
    "- сделайте предварительный общий вывод об изменении пользовательской активности в тестовой группе по сравнению с контрольной."
   ]
  },
  {
   "cell_type": "markdown",
   "id": "a2fa48b4",
   "metadata": {
    "id": "hHTHPkJYs8mE"
   },
   "source": [
    "**Вывод:** На основании предоставленных данных, можно сделать следующий предварительный вывод:\n",
    "\n",
    "В тестовой группе (B) наблюдается небольшое увеличение пользовательской активности, выраженное в увеличении доли пользователей, совершивших покупку, по сравнению с контрольной группой (A). Увеличение количества покупателей: В группе B совершили покупку 1532 пользователя, тогда как в группе A - 1427.Увеличение доли покупателей: Доля совершивших покупку в группе B составляет 29%, что на 1 процентный пункта выше, чем в группе A (28%).\n",
    "\n",
    "Предварительное заключение:\n",
    "\n",
    "Изменение в тестовой группе (B), вероятно, оказало положительное влияние на совершение покупок. Увеличение доли покупателей на 1% может указывать на то, что нововведение в тестовой группе способствует увеличению конверсии в покупку.\n",
    "\n",
    "Важно отметить:\n",
    "\n",
    "Этот вывод является предварительным и требует статистической проверки. Необходимо провести статистический анализ (например, Z-тест для пропорций), чтобы определить, является ли это различие статистически значимым, или оно могло возникнуть случайно."
   ]
  },
  {
   "cell_type": "markdown",
   "id": "IKZ1Oo3Ws919",
   "metadata": {
    "id": "IKZ1Oo3Ws919"
   },
   "source": [
    "## 4. Проведите оценку результатов A/B-тестирования:"
   ]
  },
  {
   "cell_type": "markdown",
   "id": "dcUdBSmvtC-E",
   "metadata": {
    "id": "dcUdBSmvtC-E"
   },
   "source": [
    "- Проверьте изменение конверсии подходящим статистическим тестом, учитывая все этапы проверки гипотез."
   ]
  },
  {
   "cell_type": "markdown",
   "id": "7a426542",
   "metadata": {},
   "source": [
    "Применим Z-тест пропорций:"
   ]
  },
  {
   "cell_type": "code",
   "execution_count": 35,
   "id": "l_KOziBQtL3t",
   "metadata": {
    "id": "l_KOziBQtL3t"
   },
   "outputs": [
    {
     "name": "stdout",
     "output_type": "stream",
     "text": [
      "Предпосылка о достаточном количестве данных НЕ выполняется!\n",
      "pvalue=0.026072886604683897\n",
      "Нулевая гипотеза не находит подтверждения\n"
     ]
    }
   ],
   "source": [
    "if (purchase_a*filtr_group_a > 10)and((1-purchase_a)*filtr_group_a > 10) and (purchase_b*filtr_group_b > 10)and((1-purchase_b)*filtr_group_b > 10):\n",
    "    print('Предпосылка о достаточном количестве данных выполняется!')\n",
    "else:\n",
    "    print('Предпосылка о достаточном количестве данных НЕ выполняется!')\n",
    "\n",
    "alpha = 0.05 ## на каком уровне значимости проверяем гипотезу о равенстве вероятностей\n",
    "\n",
    "stat_ztest, p_value_ztest = proportions_ztest(\n",
    "    [purchase_a, purchase_b],\n",
    "    [filtr_group_a, filtr_group_b],\n",
    "    alternative='smaller' \n",
    ")\n",
    "\n",
    "print(f'pvalue={p_value_ztest}') # выведите полученное p-value \n",
    "\n",
    "if p_value_ztest > alpha:\n",
    "    print('Нулевая гипотеза находит подтверждение')\n",
    "else:\n",
    "    print('Нулевая гипотеза не находит подтверждения')\n",
    "\n",
    "text_interpretation = 'не изменилось' "
   ]
  },
  {
   "cell_type": "markdown",
   "id": "9jkyKOjgtGoc",
   "metadata": {
    "id": "9jkyKOjgtGoc"
   },
   "source": [
    "- Опишите выводы по проведённой оценке результатов A/B-тестирования. Что можно сказать про результаты A/B-тестирования? Был ли достигнут ожидаемый эффект в изменении конверсии?"
   ]
  },
  {
   "cell_type": "markdown",
   "id": "npoPPSKytKvR",
   "metadata": {
    "id": "npoPPSKytKvR"
   },
   "source": [
    "**Вывод:**\n",
    "\n",
    "На основе предоставленных результатов A/B-тестирования, можно сделать следующие выводы:\n",
    "\n",
    "- Недостаточно данных: Первым делом, программа сообщает, что предпосылка о достаточном количестве данных НЕ выполняется. Это серьёзное ограничение. Z-тест (как и многие другие статистические тесты) опирается на предположение о достаточно большом размере выборки, чтобы обеспечить достоверность результатов. Если это условие не выполнено, то p-value и сделанные на его основе выводы могут быть ненадежными.\n",
    "\n",
    "- Нулевая гипотеза не находит подтверждения: Несмотря на проблему с предпосылкой о данных, можно рассмотреть результаты теста:\n",
    "pvalue=0.026072886604683897: Полученное p-value меньше выбранного уровня значимости alpha (0.05). Нулевая гипотеза не находит подтверждения: Это означает, что мы отвергаем нулевую гипотезу. В контексте alternative='smaller', нулевая гипотеза заключается в том, что конверсия в группе B меньше или равна конверсии в группе A. Отвергая эту гипотезу, мы делаем вывод, что конверсия в группе B, вероятно, больше чем в группе A. Пользовательская активность увеличилась: На основе отвержения нулевой гипотезы и при условии, что разница в конверсии положительна (группа B имеет более высокую конверсию, чем группа A, что мы видели в предыдущем расчете доли совершивших покупку), можно заключить, что пользовательская активность (конверсия) увеличилась.\n",
    "Ожидаемый эффект, вероятно, был достигнут: Если ожидаемый эффект заключался в увеличении конверсии, то результаты A/B-тестирования, предварительно, указывают на то, что этот эффект был достигнут.\n",
    "\n",
    "- Из-за того, что не выполнилась предпосылка о достаточном количестве данных, нельзя с уверенностью утверждать, что полученные результаты достоверны. Прежде чем принимать какие-либо решения на основе этих результатов, необходимо:\n",
    "\n",
    "1. Собрать больше данных: Увеличить продолжительность A/B-тестирования или увеличить количество пользователей, участвующих в тесте, чтобы обеспечить выполнение предпосылки о достаточном количестве данных.\n",
    "2. Оценить влияние на бизнес-метрики: Даже если результаты статистически значимы, важно оценить, какое влияние это изменение оказывает на другие ключевые бизнес-метрики.\n",
    "\n",
    "В заключение:\n",
    "\n",
    "Хотя результаты теста указывают на увеличение конверсии в тестовой группе, низкое количество данных ставит под сомнение надёжность этих результатов. Необходимо собрать больше данных и повторно провести анализ, прежде чем делать окончательные выводы и принимать решения."
   ]
  },
  {
   "cell_type": "code",
   "execution_count": null,
   "id": "2f9fd181",
   "metadata": {},
   "outputs": [],
   "source": []
  }
 ],
 "metadata": {
  "ExecuteTimeLog": [
   {
    "duration": 1374,
    "start_time": "2025-05-07T08:13:12.132Z"
   },
   {
    "duration": 162,
    "start_time": "2025-05-07T08:13:44.945Z"
   },
   {
    "duration": 61,
    "start_time": "2025-05-07T08:13:54.180Z"
   },
   {
    "duration": 66,
    "start_time": "2025-05-07T08:14:11.006Z"
   },
   {
    "duration": 12,
    "start_time": "2025-05-07T08:14:29.886Z"
   },
   {
    "duration": 9,
    "start_time": "2025-05-07T08:51:52.941Z"
   },
   {
    "duration": 4,
    "start_time": "2025-05-07T08:54:26.536Z"
   },
   {
    "duration": 5,
    "start_time": "2025-05-07T08:54:34.480Z"
   },
   {
    "duration": 7,
    "start_time": "2025-05-07T08:55:01.756Z"
   },
   {
    "duration": 91,
    "start_time": "2025-05-07T08:55:36.352Z"
   },
   {
    "duration": 10,
    "start_time": "2025-05-07T08:56:01.023Z"
   },
   {
    "duration": 12,
    "start_time": "2025-05-07T08:56:07.391Z"
   },
   {
    "duration": 5,
    "start_time": "2025-05-07T08:57:55.001Z"
   },
   {
    "duration": 12,
    "start_time": "2025-05-07T08:58:14.359Z"
   },
   {
    "duration": 20,
    "start_time": "2025-05-07T08:58:27.281Z"
   },
   {
    "duration": 6,
    "start_time": "2025-05-07T09:00:02.236Z"
   },
   {
    "duration": 4,
    "start_time": "2025-05-07T09:00:25.743Z"
   },
   {
    "duration": 4,
    "start_time": "2025-05-07T09:00:33.847Z"
   },
   {
    "duration": 10,
    "start_time": "2025-05-07T09:00:35.820Z"
   },
   {
    "duration": 5,
    "start_time": "2025-05-07T09:01:34.503Z"
   },
   {
    "duration": 5,
    "start_time": "2025-05-07T09:01:35.251Z"
   },
   {
    "duration": 9,
    "start_time": "2025-05-07T09:05:17.987Z"
   },
   {
    "duration": 13,
    "start_time": "2025-05-07T09:05:30.474Z"
   },
   {
    "duration": 8,
    "start_time": "2025-05-07T09:05:43.643Z"
   },
   {
    "duration": 10,
    "start_time": "2025-05-07T09:07:13.600Z"
   },
   {
    "duration": 15,
    "start_time": "2025-05-07T09:07:40.874Z"
   },
   {
    "duration": 15,
    "start_time": "2025-05-07T09:12:07.476Z"
   },
   {
    "duration": 15,
    "start_time": "2025-05-07T09:12:27.003Z"
   },
   {
    "duration": 11,
    "start_time": "2025-05-07T19:06:20.275Z"
   },
   {
    "duration": 47,
    "start_time": "2025-05-07T19:11:37.150Z"
   },
   {
    "duration": 1578,
    "start_time": "2025-05-07T19:11:47.364Z"
   },
   {
    "duration": 59,
    "start_time": "2025-05-07T19:11:48.945Z"
   },
   {
    "duration": 18,
    "start_time": "2025-05-07T19:11:49.006Z"
   },
   {
    "duration": 14,
    "start_time": "2025-05-07T19:11:49.026Z"
   },
   {
    "duration": 8,
    "start_time": "2025-05-07T19:11:49.043Z"
   },
   {
    "duration": 9,
    "start_time": "2025-05-07T19:11:49.063Z"
   },
   {
    "duration": 8,
    "start_time": "2025-05-07T19:11:49.075Z"
   },
   {
    "duration": 18,
    "start_time": "2025-05-07T19:11:49.086Z"
   },
   {
    "duration": 5,
    "start_time": "2025-05-07T19:11:49.106Z"
   },
   {
    "duration": 46,
    "start_time": "2025-05-07T19:11:49.113Z"
   },
   {
    "duration": 124,
    "start_time": "2025-05-07T19:11:49.161Z"
   },
   {
    "duration": 0,
    "start_time": "2025-05-07T19:11:49.287Z"
   },
   {
    "duration": 15,
    "start_time": "2025-05-07T19:12:03.620Z"
   },
   {
    "duration": 15,
    "start_time": "2025-05-07T19:17:01.942Z"
   },
   {
    "duration": 3,
    "start_time": "2025-05-07T19:17:27.922Z"
   },
   {
    "duration": 5,
    "start_time": "2025-05-07T19:17:29.193Z"
   },
   {
    "duration": 26,
    "start_time": "2025-05-07T19:17:31.025Z"
   },
   {
    "duration": 3,
    "start_time": "2025-05-07T19:23:33.926Z"
   },
   {
    "duration": 22,
    "start_time": "2025-05-07T19:23:36.271Z"
   },
   {
    "duration": 12,
    "start_time": "2025-05-07T19:24:30.197Z"
   },
   {
    "duration": 5,
    "start_time": "2025-05-07T19:25:23.302Z"
   },
   {
    "duration": 12,
    "start_time": "2025-05-07T19:25:31.671Z"
   },
   {
    "duration": 9,
    "start_time": "2025-05-07T19:25:43.403Z"
   },
   {
    "duration": 12,
    "start_time": "2025-05-07T19:42:50.577Z"
   },
   {
    "duration": 48,
    "start_time": "2025-05-08T14:54:57.786Z"
   },
   {
    "duration": 1473,
    "start_time": "2025-05-08T14:55:16.123Z"
   },
   {
    "duration": 1183,
    "start_time": "2025-05-08T14:55:27.101Z"
   },
   {
    "duration": 100,
    "start_time": "2025-05-08T14:55:28.286Z"
   },
   {
    "duration": 11,
    "start_time": "2025-05-08T14:55:28.388Z"
   },
   {
    "duration": 12,
    "start_time": "2025-05-08T14:55:28.401Z"
   },
   {
    "duration": 6,
    "start_time": "2025-05-08T14:55:28.415Z"
   },
   {
    "duration": 5,
    "start_time": "2025-05-08T14:55:28.423Z"
   },
   {
    "duration": 6,
    "start_time": "2025-05-08T14:55:28.429Z"
   },
   {
    "duration": 22,
    "start_time": "2025-05-08T14:55:28.437Z"
   },
   {
    "duration": 3,
    "start_time": "2025-05-08T14:55:28.461Z"
   },
   {
    "duration": 9,
    "start_time": "2025-05-08T14:55:28.466Z"
   },
   {
    "duration": 1582,
    "start_time": "2025-05-08T14:55:28.476Z"
   },
   {
    "duration": 12,
    "start_time": "2025-05-08T14:55:55.622Z"
   },
   {
    "duration": 13,
    "start_time": "2025-05-08T14:56:45.858Z"
   },
   {
    "duration": 9,
    "start_time": "2025-05-08T15:08:04.277Z"
   },
   {
    "duration": 11,
    "start_time": "2025-05-08T15:08:11.454Z"
   },
   {
    "duration": 10,
    "start_time": "2025-05-08T15:13:24.304Z"
   },
   {
    "duration": 7,
    "start_time": "2025-05-08T15:13:42.288Z"
   },
   {
    "duration": 23,
    "start_time": "2025-05-08T15:13:46.832Z"
   },
   {
    "duration": 139,
    "start_time": "2025-05-08T15:14:56.564Z"
   },
   {
    "duration": 109,
    "start_time": "2025-05-08T15:22:59.234Z"
   },
   {
    "duration": 16,
    "start_time": "2025-05-08T15:23:37.674Z"
   },
   {
    "duration": 17,
    "start_time": "2025-05-08T15:23:56.255Z"
   },
   {
    "duration": 9,
    "start_time": "2025-05-08T15:24:52.750Z"
   },
   {
    "duration": 8,
    "start_time": "2025-05-08T15:25:25.454Z"
   },
   {
    "duration": 7,
    "start_time": "2025-05-08T15:26:00.284Z"
   },
   {
    "duration": 8,
    "start_time": "2025-05-08T15:26:21.595Z"
   },
   {
    "duration": 10,
    "start_time": "2025-05-08T15:32:15.807Z"
   },
   {
    "duration": 12,
    "start_time": "2025-05-08T15:32:24.159Z"
   },
   {
    "duration": 22,
    "start_time": "2025-05-08T15:32:50.528Z"
   },
   {
    "duration": 9,
    "start_time": "2025-05-08T15:33:04.049Z"
   },
   {
    "duration": 152,
    "start_time": "2025-05-08T15:34:00.735Z"
   },
   {
    "duration": 136,
    "start_time": "2025-05-08T15:34:33.127Z"
   },
   {
    "duration": 5,
    "start_time": "2025-05-08T15:37:34.869Z"
   },
   {
    "duration": 6,
    "start_time": "2025-05-08T15:37:42.172Z"
   },
   {
    "duration": 10,
    "start_time": "2025-05-08T15:39:51.344Z"
   },
   {
    "duration": 28,
    "start_time": "2025-05-08T15:41:10.825Z"
   },
   {
    "duration": 10,
    "start_time": "2025-05-08T15:41:41.135Z"
   },
   {
    "duration": 15,
    "start_time": "2025-05-08T15:42:57.241Z"
   },
   {
    "duration": 15,
    "start_time": "2025-05-08T15:47:33.636Z"
   },
   {
    "duration": 10,
    "start_time": "2025-05-08T15:48:31.197Z"
   },
   {
    "duration": 15,
    "start_time": "2025-05-08T15:50:33.365Z"
   },
   {
    "duration": 9,
    "start_time": "2025-05-08T16:32:48.995Z"
   },
   {
    "duration": 17,
    "start_time": "2025-05-08T16:35:03.488Z"
   },
   {
    "duration": 41,
    "start_time": "2025-05-08T16:36:33.272Z"
   },
   {
    "duration": 13,
    "start_time": "2025-05-08T16:36:52.344Z"
   },
   {
    "duration": 56,
    "start_time": "2025-05-08T16:38:32.051Z"
   },
   {
    "duration": 828,
    "start_time": "2025-05-08T16:43:15.594Z"
   },
   {
    "duration": 242,
    "start_time": "2025-05-08T16:44:01.320Z"
   },
   {
    "duration": 84,
    "start_time": "2025-05-08T16:44:22.752Z"
   },
   {
    "duration": 14,
    "start_time": "2025-05-08T19:15:46.909Z"
   },
   {
    "duration": 24,
    "start_time": "2025-05-08T19:16:47.460Z"
   },
   {
    "duration": 15,
    "start_time": "2025-05-08T19:16:56.899Z"
   },
   {
    "duration": 29,
    "start_time": "2025-05-08T19:28:45.603Z"
   },
   {
    "duration": 52,
    "start_time": "2025-05-08T19:28:55.695Z"
   },
   {
    "duration": 66,
    "start_time": "2025-05-08T19:29:21.034Z"
   },
   {
    "duration": 1510,
    "start_time": "2025-05-10T18:42:22.858Z"
   },
   {
    "duration": 107,
    "start_time": "2025-05-10T18:42:24.370Z"
   },
   {
    "duration": 12,
    "start_time": "2025-05-10T18:42:24.478Z"
   },
   {
    "duration": 20,
    "start_time": "2025-05-10T18:42:24.492Z"
   },
   {
    "duration": 7,
    "start_time": "2025-05-10T18:42:24.514Z"
   },
   {
    "duration": 5,
    "start_time": "2025-05-10T18:42:24.523Z"
   },
   {
    "duration": 5,
    "start_time": "2025-05-10T18:42:24.529Z"
   },
   {
    "duration": 26,
    "start_time": "2025-05-10T18:42:24.540Z"
   },
   {
    "duration": 5,
    "start_time": "2025-05-10T18:42:24.569Z"
   },
   {
    "duration": 9,
    "start_time": "2025-05-10T18:42:24.576Z"
   },
   {
    "duration": 1667,
    "start_time": "2025-05-10T18:42:24.587Z"
   },
   {
    "duration": 9,
    "start_time": "2025-05-10T18:42:26.264Z"
   },
   {
    "duration": 13,
    "start_time": "2025-05-10T18:42:26.275Z"
   },
   {
    "duration": 8,
    "start_time": "2025-05-10T18:42:26.291Z"
   },
   {
    "duration": 126,
    "start_time": "2025-05-10T18:42:26.300Z"
   },
   {
    "duration": 13,
    "start_time": "2025-05-10T18:42:26.436Z"
   },
   {
    "duration": 19,
    "start_time": "2025-05-10T18:42:26.450Z"
   },
   {
    "duration": 197,
    "start_time": "2025-05-10T18:42:26.471Z"
   },
   {
    "duration": 5,
    "start_time": "2025-05-10T18:42:26.670Z"
   },
   {
    "duration": 11,
    "start_time": "2025-05-10T18:42:26.676Z"
   },
   {
    "duration": 12,
    "start_time": "2025-05-10T18:42:26.688Z"
   },
   {
    "duration": 94,
    "start_time": "2025-05-10T18:42:26.702Z"
   },
   {
    "duration": 118,
    "start_time": "2025-05-10T18:42:26.798Z"
   },
   {
    "duration": 53,
    "start_time": "2025-05-10T18:42:26.918Z"
   },
   {
    "duration": 43,
    "start_time": "2025-05-10T18:44:55.567Z"
   },
   {
    "duration": 48,
    "start_time": "2025-05-10T18:46:21.219Z"
   },
   {
    "duration": 56,
    "start_time": "2025-05-10T18:46:37.218Z"
   },
   {
    "duration": 42,
    "start_time": "2025-05-10T18:46:44.514Z"
   },
   {
    "duration": 35,
    "start_time": "2025-05-10T18:53:30.751Z"
   },
   {
    "duration": 322,
    "start_time": "2025-05-10T18:55:22.388Z"
   },
   {
    "duration": 7,
    "start_time": "2025-05-10T18:55:28.778Z"
   },
   {
    "duration": 115,
    "start_time": "2025-05-10T18:57:22.722Z"
   },
   {
    "duration": 10,
    "start_time": "2025-05-10T18:57:30.959Z"
   },
   {
    "duration": 12,
    "start_time": "2025-05-10T18:57:50.399Z"
   },
   {
    "duration": 17,
    "start_time": "2025-05-10T18:57:59.833Z"
   },
   {
    "duration": 9,
    "start_time": "2025-05-10T18:58:08.600Z"
   },
   {
    "duration": 10,
    "start_time": "2025-05-10T18:59:06.616Z"
   },
   {
    "duration": 9,
    "start_time": "2025-05-10T19:00:42.092Z"
   },
   {
    "duration": 13,
    "start_time": "2025-05-10T19:01:19.158Z"
   },
   {
    "duration": 10,
    "start_time": "2025-05-10T19:01:27.458Z"
   },
   {
    "duration": 10,
    "start_time": "2025-05-10T19:02:52.183Z"
   },
   {
    "duration": 6,
    "start_time": "2025-05-10T19:03:14.008Z"
   },
   {
    "duration": 1237,
    "start_time": "2025-05-10T19:03:42.718Z"
   },
   {
    "duration": 64,
    "start_time": "2025-05-10T19:03:43.956Z"
   },
   {
    "duration": 13,
    "start_time": "2025-05-10T19:03:44.022Z"
   },
   {
    "duration": 11,
    "start_time": "2025-05-10T19:03:44.044Z"
   },
   {
    "duration": 17,
    "start_time": "2025-05-10T19:03:44.057Z"
   },
   {
    "duration": 10,
    "start_time": "2025-05-10T19:03:44.076Z"
   },
   {
    "duration": 5,
    "start_time": "2025-05-10T19:03:44.088Z"
   },
   {
    "duration": 65,
    "start_time": "2025-05-10T19:03:44.094Z"
   },
   {
    "duration": 63,
    "start_time": "2025-05-10T19:03:44.161Z"
   },
   {
    "duration": 29,
    "start_time": "2025-05-10T19:03:44.227Z"
   },
   {
    "duration": 1574,
    "start_time": "2025-05-10T19:03:44.258Z"
   },
   {
    "duration": 10,
    "start_time": "2025-05-10T19:03:45.836Z"
   },
   {
    "duration": 18,
    "start_time": "2025-05-10T19:03:45.848Z"
   },
   {
    "duration": 11,
    "start_time": "2025-05-10T19:03:45.868Z"
   },
   {
    "duration": 136,
    "start_time": "2025-05-10T19:03:45.880Z"
   },
   {
    "duration": 8,
    "start_time": "2025-05-10T19:03:46.017Z"
   },
   {
    "duration": 17,
    "start_time": "2025-05-10T19:03:46.035Z"
   },
   {
    "duration": 151,
    "start_time": "2025-05-10T19:03:46.054Z"
   },
   {
    "duration": 5,
    "start_time": "2025-05-10T19:03:46.207Z"
   },
   {
    "duration": 37,
    "start_time": "2025-05-10T19:03:46.213Z"
   },
   {
    "duration": 12,
    "start_time": "2025-05-10T19:03:46.252Z"
   },
   {
    "duration": 56,
    "start_time": "2025-05-10T19:03:46.265Z"
   },
   {
    "duration": 101,
    "start_time": "2025-05-10T19:03:46.323Z"
   },
   {
    "duration": 54,
    "start_time": "2025-05-10T19:03:46.426Z"
   },
   {
    "duration": 23,
    "start_time": "2025-05-10T19:03:46.482Z"
   },
   {
    "duration": 67,
    "start_time": "2025-05-10T19:03:46.510Z"
   },
   {
    "duration": 16,
    "start_time": "2025-05-10T19:08:20.867Z"
   },
   {
    "duration": 17,
    "start_time": "2025-05-10T19:08:23.795Z"
   },
   {
    "duration": 36,
    "start_time": "2025-05-10T19:08:51.873Z"
   },
   {
    "duration": 34,
    "start_time": "2025-05-10T19:08:53.873Z"
   },
   {
    "duration": 21,
    "start_time": "2025-05-10T19:08:54.948Z"
   },
   {
    "duration": 52,
    "start_time": "2025-05-10T19:09:07.463Z"
   },
   {
    "duration": 13,
    "start_time": "2025-05-10T19:09:50.690Z"
   },
   {
    "duration": 10,
    "start_time": "2025-05-10T19:10:54.809Z"
   },
   {
    "duration": 20,
    "start_time": "2025-05-10T19:11:19.129Z"
   },
   {
    "duration": 1235,
    "start_time": "2025-05-10T19:11:28.032Z"
   },
   {
    "duration": 48,
    "start_time": "2025-05-10T19:11:29.269Z"
   },
   {
    "duration": 12,
    "start_time": "2025-05-10T19:11:29.319Z"
   },
   {
    "duration": 19,
    "start_time": "2025-05-10T19:11:29.332Z"
   },
   {
    "duration": 23,
    "start_time": "2025-05-10T19:11:29.353Z"
   },
   {
    "duration": 8,
    "start_time": "2025-05-10T19:11:29.378Z"
   },
   {
    "duration": 4,
    "start_time": "2025-05-10T19:11:29.388Z"
   },
   {
    "duration": 26,
    "start_time": "2025-05-10T19:11:29.394Z"
   },
   {
    "duration": 28,
    "start_time": "2025-05-10T19:11:29.421Z"
   },
   {
    "duration": 11,
    "start_time": "2025-05-10T19:11:29.451Z"
   },
   {
    "duration": 1574,
    "start_time": "2025-05-10T19:11:29.464Z"
   },
   {
    "duration": 9,
    "start_time": "2025-05-10T19:11:31.046Z"
   },
   {
    "duration": 49,
    "start_time": "2025-05-10T19:11:31.056Z"
   },
   {
    "duration": 12,
    "start_time": "2025-05-10T19:11:31.107Z"
   },
   {
    "duration": 141,
    "start_time": "2025-05-10T19:11:31.120Z"
   },
   {
    "duration": 8,
    "start_time": "2025-05-10T19:11:31.263Z"
   },
   {
    "duration": 31,
    "start_time": "2025-05-10T19:11:31.273Z"
   },
   {
    "duration": 162,
    "start_time": "2025-05-10T19:11:31.306Z"
   },
   {
    "duration": 5,
    "start_time": "2025-05-10T19:11:31.470Z"
   },
   {
    "duration": 27,
    "start_time": "2025-05-10T19:11:31.476Z"
   },
   {
    "duration": 39,
    "start_time": "2025-05-10T19:11:31.505Z"
   },
   {
    "duration": 10,
    "start_time": "2025-05-10T19:11:31.546Z"
   },
   {
    "duration": 8,
    "start_time": "2025-05-10T19:11:31.557Z"
   },
   {
    "duration": 82,
    "start_time": "2025-05-10T19:11:31.567Z"
   },
   {
    "duration": 101,
    "start_time": "2025-05-10T19:11:31.651Z"
   },
   {
    "duration": 37,
    "start_time": "2025-05-10T19:11:31.754Z"
   },
   {
    "duration": 54,
    "start_time": "2025-05-10T19:11:31.793Z"
   },
   {
    "duration": 17,
    "start_time": "2025-05-10T19:11:31.849Z"
   },
   {
    "duration": 19,
    "start_time": "2025-05-10T19:12:46.637Z"
   },
   {
    "duration": 9,
    "start_time": "2025-05-10T19:12:54.208Z"
   },
   {
    "duration": 119,
    "start_time": "2025-05-10T19:14:31.765Z"
   },
   {
    "duration": 10,
    "start_time": "2025-05-10T19:14:40.322Z"
   },
   {
    "duration": 8,
    "start_time": "2025-05-10T19:14:42.694Z"
   },
   {
    "duration": 30,
    "start_time": "2025-05-10T19:18:59.361Z"
   },
   {
    "duration": 12,
    "start_time": "2025-05-10T19:19:25.455Z"
   },
   {
    "duration": 1225,
    "start_time": "2025-05-10T19:19:55.667Z"
   },
   {
    "duration": 57,
    "start_time": "2025-05-10T19:19:56.894Z"
   },
   {
    "duration": 14,
    "start_time": "2025-05-10T19:19:56.953Z"
   },
   {
    "duration": 30,
    "start_time": "2025-05-10T19:19:56.973Z"
   },
   {
    "duration": 29,
    "start_time": "2025-05-10T19:19:57.005Z"
   },
   {
    "duration": 7,
    "start_time": "2025-05-10T19:19:57.047Z"
   },
   {
    "duration": 7,
    "start_time": "2025-05-10T19:19:57.057Z"
   },
   {
    "duration": 21,
    "start_time": "2025-05-10T19:19:57.066Z"
   },
   {
    "duration": 4,
    "start_time": "2025-05-10T19:19:57.089Z"
   },
   {
    "duration": 22,
    "start_time": "2025-05-10T19:19:57.095Z"
   },
   {
    "duration": 1591,
    "start_time": "2025-05-10T19:19:57.119Z"
   },
   {
    "duration": 8,
    "start_time": "2025-05-10T19:19:58.712Z"
   },
   {
    "duration": 25,
    "start_time": "2025-05-10T19:19:58.722Z"
   },
   {
    "duration": 13,
    "start_time": "2025-05-10T19:19:58.758Z"
   },
   {
    "duration": 130,
    "start_time": "2025-05-10T19:19:58.773Z"
   },
   {
    "duration": 8,
    "start_time": "2025-05-10T19:19:58.905Z"
   },
   {
    "duration": 15,
    "start_time": "2025-05-10T19:19:58.914Z"
   },
   {
    "duration": 172,
    "start_time": "2025-05-10T19:19:58.931Z"
   },
   {
    "duration": 5,
    "start_time": "2025-05-10T19:19:59.104Z"
   },
   {
    "duration": 46,
    "start_time": "2025-05-10T19:19:59.111Z"
   },
   {
    "duration": 16,
    "start_time": "2025-05-10T19:19:59.159Z"
   },
   {
    "duration": 9,
    "start_time": "2025-05-10T19:19:59.177Z"
   },
   {
    "duration": 8,
    "start_time": "2025-05-10T19:19:59.188Z"
   },
   {
    "duration": 50,
    "start_time": "2025-05-10T19:19:59.197Z"
   },
   {
    "duration": 30,
    "start_time": "2025-05-10T19:19:59.249Z"
   },
   {
    "duration": 314,
    "start_time": "2025-05-10T19:19:59.281Z"
   },
   {
    "duration": 13,
    "start_time": "2025-05-10T19:19:59.597Z"
   },
   {
    "duration": 7,
    "start_time": "2025-05-10T19:19:59.612Z"
   },
   {
    "duration": 20,
    "start_time": "2025-05-10T19:19:59.639Z"
   },
   {
    "duration": 6,
    "start_time": "2025-05-10T19:22:22.610Z"
   },
   {
    "duration": 7,
    "start_time": "2025-05-10T19:22:51.107Z"
   },
   {
    "duration": 11,
    "start_time": "2025-05-10T19:23:01.544Z"
   },
   {
    "duration": 79,
    "start_time": "2025-05-10T19:23:49.750Z"
   },
   {
    "duration": 7,
    "start_time": "2025-05-10T19:23:56.848Z"
   },
   {
    "duration": 118,
    "start_time": "2025-05-10T19:24:12.070Z"
   },
   {
    "duration": 15,
    "start_time": "2025-05-10T19:26:08.308Z"
   },
   {
    "duration": 103,
    "start_time": "2025-05-10T19:26:52.659Z"
   },
   {
    "duration": 8,
    "start_time": "2025-05-10T19:26:58.451Z"
   },
   {
    "duration": 38,
    "start_time": "2025-05-10T19:27:23.229Z"
   },
   {
    "duration": 69,
    "start_time": "2025-05-10T19:27:42.437Z"
   },
   {
    "duration": 46,
    "start_time": "2025-05-10T19:27:55.907Z"
   },
   {
    "duration": 35,
    "start_time": "2025-05-10T19:27:56.875Z"
   },
   {
    "duration": 17,
    "start_time": "2025-05-10T19:27:58.082Z"
   },
   {
    "duration": 18,
    "start_time": "2025-05-10T19:31:17.694Z"
   },
   {
    "duration": 1210,
    "start_time": "2025-05-10T19:31:32.004Z"
   },
   {
    "duration": 58,
    "start_time": "2025-05-10T19:31:33.216Z"
   },
   {
    "duration": 17,
    "start_time": "2025-05-10T19:31:33.276Z"
   },
   {
    "duration": 16,
    "start_time": "2025-05-10T19:31:33.295Z"
   },
   {
    "duration": 6,
    "start_time": "2025-05-10T19:31:33.313Z"
   },
   {
    "duration": 37,
    "start_time": "2025-05-10T19:31:33.321Z"
   },
   {
    "duration": 8,
    "start_time": "2025-05-10T19:31:33.367Z"
   },
   {
    "duration": 29,
    "start_time": "2025-05-10T19:31:33.377Z"
   },
   {
    "duration": 11,
    "start_time": "2025-05-10T19:31:33.408Z"
   },
   {
    "duration": 25,
    "start_time": "2025-05-10T19:31:33.421Z"
   },
   {
    "duration": 1728,
    "start_time": "2025-05-10T19:31:33.448Z"
   },
   {
    "duration": 9,
    "start_time": "2025-05-10T19:31:35.178Z"
   },
   {
    "duration": 13,
    "start_time": "2025-05-10T19:31:35.189Z"
   },
   {
    "duration": 23,
    "start_time": "2025-05-10T19:31:35.205Z"
   },
   {
    "duration": 143,
    "start_time": "2025-05-10T19:31:35.230Z"
   },
   {
    "duration": 13,
    "start_time": "2025-05-10T19:31:35.375Z"
   },
   {
    "duration": 39,
    "start_time": "2025-05-10T19:31:35.390Z"
   },
   {
    "duration": 168,
    "start_time": "2025-05-10T19:31:35.431Z"
   },
   {
    "duration": 5,
    "start_time": "2025-05-10T19:31:35.600Z"
   },
   {
    "duration": 21,
    "start_time": "2025-05-10T19:31:35.607Z"
   },
   {
    "duration": 28,
    "start_time": "2025-05-10T19:31:35.629Z"
   },
   {
    "duration": 9,
    "start_time": "2025-05-10T19:31:35.659Z"
   },
   {
    "duration": 12,
    "start_time": "2025-05-10T19:31:35.670Z"
   },
   {
    "duration": 15,
    "start_time": "2025-05-10T19:31:35.684Z"
   },
   {
    "duration": 99,
    "start_time": "2025-05-10T19:31:35.701Z"
   },
   {
    "duration": 91,
    "start_time": "2025-05-10T19:31:35.801Z"
   },
   {
    "duration": 63,
    "start_time": "2025-05-10T19:31:35.893Z"
   },
   {
    "duration": 115,
    "start_time": "2025-05-10T19:31:35.961Z"
   },
   {
    "duration": 0,
    "start_time": "2025-05-10T19:31:36.078Z"
   },
   {
    "duration": 9,
    "start_time": "2025-05-10T19:31:42.777Z"
   },
   {
    "duration": 9,
    "start_time": "2025-05-10T19:31:52.391Z"
   },
   {
    "duration": 29,
    "start_time": "2025-05-10T19:33:10.575Z"
   },
   {
    "duration": 21,
    "start_time": "2025-05-10T19:33:29.371Z"
   },
   {
    "duration": 46,
    "start_time": "2025-05-10T19:36:28.824Z"
   },
   {
    "duration": 26,
    "start_time": "2025-05-10T19:37:38.847Z"
   },
   {
    "duration": 34,
    "start_time": "2025-05-10T19:38:21.130Z"
   },
   {
    "duration": 42,
    "start_time": "2025-05-10T19:38:39.939Z"
   },
   {
    "duration": 37,
    "start_time": "2025-05-10T19:38:57.145Z"
   },
   {
    "duration": 1455,
    "start_time": "2025-05-11T18:42:11.237Z"
   },
   {
    "duration": 105,
    "start_time": "2025-05-11T18:42:12.695Z"
   },
   {
    "duration": 12,
    "start_time": "2025-05-11T18:42:12.804Z"
   },
   {
    "duration": 11,
    "start_time": "2025-05-11T18:42:12.819Z"
   },
   {
    "duration": 10,
    "start_time": "2025-05-11T18:42:12.832Z"
   },
   {
    "duration": 53,
    "start_time": "2025-05-11T18:42:12.843Z"
   },
   {
    "duration": 26,
    "start_time": "2025-05-11T18:42:12.899Z"
   },
   {
    "duration": 29,
    "start_time": "2025-05-11T18:42:12.926Z"
   },
   {
    "duration": 11,
    "start_time": "2025-05-11T18:42:12.958Z"
   },
   {
    "duration": 42,
    "start_time": "2025-05-11T18:42:12.970Z"
   },
   {
    "duration": 1762,
    "start_time": "2025-05-11T18:42:13.014Z"
   },
   {
    "duration": 15,
    "start_time": "2025-05-11T18:42:14.779Z"
   },
   {
    "duration": 15,
    "start_time": "2025-05-11T18:42:14.796Z"
   },
   {
    "duration": 24,
    "start_time": "2025-05-11T18:42:14.813Z"
   },
   {
    "duration": 148,
    "start_time": "2025-05-11T18:42:14.839Z"
   },
   {
    "duration": 12,
    "start_time": "2025-05-11T18:42:14.989Z"
   },
   {
    "duration": 33,
    "start_time": "2025-05-11T18:42:15.004Z"
   },
   {
    "duration": 257,
    "start_time": "2025-05-11T18:42:15.039Z"
   },
   {
    "duration": 6,
    "start_time": "2025-05-11T18:42:15.298Z"
   },
   {
    "duration": 55,
    "start_time": "2025-05-11T18:42:15.305Z"
   },
   {
    "duration": 67,
    "start_time": "2025-05-11T18:42:15.362Z"
   },
   {
    "duration": 105,
    "start_time": "2025-05-11T18:42:15.430Z"
   },
   {
    "duration": 234,
    "start_time": "2025-05-11T18:42:15.536Z"
   },
   {
    "duration": 58,
    "start_time": "2025-05-11T18:42:15.771Z"
   },
   {
    "duration": 107,
    "start_time": "2025-05-11T18:42:15.831Z"
   },
   {
    "duration": 82,
    "start_time": "2025-05-11T18:42:15.940Z"
   },
   {
    "duration": 81,
    "start_time": "2025-05-11T18:42:16.025Z"
   },
   {
    "duration": 108,
    "start_time": "2025-05-11T18:42:16.108Z"
   },
   {
    "duration": 10,
    "start_time": "2025-05-11T18:51:11.092Z"
   },
   {
    "duration": 1237,
    "start_time": "2025-05-11T19:04:04.997Z"
   },
   {
    "duration": 70,
    "start_time": "2025-05-11T19:04:06.236Z"
   },
   {
    "duration": 11,
    "start_time": "2025-05-11T19:04:06.308Z"
   },
   {
    "duration": 98,
    "start_time": "2025-05-11T19:04:06.321Z"
   },
   {
    "duration": 80,
    "start_time": "2025-05-11T19:04:06.420Z"
   },
   {
    "duration": 102,
    "start_time": "2025-05-11T19:04:06.503Z"
   },
   {
    "duration": 92,
    "start_time": "2025-05-11T19:04:06.606Z"
   },
   {
    "duration": 34,
    "start_time": "2025-05-11T19:04:06.700Z"
   },
   {
    "duration": 22,
    "start_time": "2025-05-11T19:04:06.736Z"
   },
   {
    "duration": 156,
    "start_time": "2025-05-11T19:04:06.760Z"
   },
   {
    "duration": 1679,
    "start_time": "2025-05-11T19:04:06.918Z"
   },
   {
    "duration": 9,
    "start_time": "2025-05-11T19:04:08.600Z"
   },
   {
    "duration": 117,
    "start_time": "2025-05-11T19:04:08.611Z"
   },
   {
    "duration": 27,
    "start_time": "2025-05-11T19:04:08.730Z"
   },
   {
    "duration": 137,
    "start_time": "2025-05-11T19:04:08.758Z"
   },
   {
    "duration": 12,
    "start_time": "2025-05-11T19:04:08.898Z"
   },
   {
    "duration": 9,
    "start_time": "2025-05-11T19:04:08.912Z"
   },
   {
    "duration": 187,
    "start_time": "2025-05-11T19:04:08.923Z"
   },
   {
    "duration": 4,
    "start_time": "2025-05-11T19:04:09.112Z"
   },
   {
    "duration": 106,
    "start_time": "2025-05-11T19:04:09.118Z"
   },
   {
    "duration": 11,
    "start_time": "2025-05-11T19:04:09.225Z"
   },
   {
    "duration": 7,
    "start_time": "2025-05-11T19:04:09.238Z"
   },
   {
    "duration": 9,
    "start_time": "2025-05-11T19:04:09.246Z"
   },
   {
    "duration": 12,
    "start_time": "2025-05-11T19:04:09.256Z"
   },
   {
    "duration": 92,
    "start_time": "2025-05-11T19:04:09.269Z"
   },
   {
    "duration": 92,
    "start_time": "2025-05-11T19:04:09.363Z"
   },
   {
    "duration": 59,
    "start_time": "2025-05-11T19:04:09.456Z"
   },
   {
    "duration": 36,
    "start_time": "2025-05-11T19:04:09.519Z"
   },
   {
    "duration": 10,
    "start_time": "2025-05-11T19:04:09.576Z"
   },
   {
    "duration": 1253,
    "start_time": "2025-05-11T19:09:16.687Z"
   },
   {
    "duration": 56,
    "start_time": "2025-05-11T19:09:17.941Z"
   },
   {
    "duration": 14,
    "start_time": "2025-05-11T19:09:18.000Z"
   },
   {
    "duration": 41,
    "start_time": "2025-05-11T19:09:18.015Z"
   },
   {
    "duration": 40,
    "start_time": "2025-05-11T19:09:18.059Z"
   },
   {
    "duration": 7,
    "start_time": "2025-05-11T19:09:18.101Z"
   },
   {
    "duration": 9,
    "start_time": "2025-05-11T19:09:18.110Z"
   },
   {
    "duration": 23,
    "start_time": "2025-05-11T19:09:18.120Z"
   },
   {
    "duration": 45,
    "start_time": "2025-05-11T19:09:18.145Z"
   },
   {
    "duration": 48,
    "start_time": "2025-05-11T19:09:18.193Z"
   },
   {
    "duration": 1727,
    "start_time": "2025-05-11T19:09:18.244Z"
   },
   {
    "duration": 26,
    "start_time": "2025-05-11T19:09:19.973Z"
   },
   {
    "duration": 57,
    "start_time": "2025-05-11T19:09:20.001Z"
   },
   {
    "duration": 50,
    "start_time": "2025-05-11T19:09:20.061Z"
   },
   {
    "duration": 207,
    "start_time": "2025-05-11T19:09:20.113Z"
   },
   {
    "duration": 10,
    "start_time": "2025-05-11T19:09:20.321Z"
   },
   {
    "duration": 60,
    "start_time": "2025-05-11T19:09:20.334Z"
   },
   {
    "duration": 251,
    "start_time": "2025-05-11T19:09:20.397Z"
   },
   {
    "duration": 6,
    "start_time": "2025-05-11T19:09:20.650Z"
   },
   {
    "duration": 117,
    "start_time": "2025-05-11T19:09:20.657Z"
   },
   {
    "duration": 20,
    "start_time": "2025-05-11T19:09:20.776Z"
   },
   {
    "duration": 7,
    "start_time": "2025-05-11T19:09:20.798Z"
   },
   {
    "duration": 133,
    "start_time": "2025-05-11T19:09:20.806Z"
   },
   {
    "duration": 25,
    "start_time": "2025-05-11T19:09:20.941Z"
   },
   {
    "duration": 159,
    "start_time": "2025-05-11T19:09:20.968Z"
   },
   {
    "duration": 121,
    "start_time": "2025-05-11T19:09:21.129Z"
   },
   {
    "duration": 56,
    "start_time": "2025-05-11T19:09:21.253Z"
   },
   {
    "duration": 50,
    "start_time": "2025-05-11T19:09:21.311Z"
   },
   {
    "duration": 26,
    "start_time": "2025-05-11T19:09:21.363Z"
   },
   {
    "duration": 1364,
    "start_time": "2025-05-11T19:09:29.069Z"
   },
   {
    "duration": 53,
    "start_time": "2025-05-11T19:09:30.435Z"
   },
   {
    "duration": 34,
    "start_time": "2025-05-11T19:09:30.493Z"
   },
   {
    "duration": 54,
    "start_time": "2025-05-11T19:09:30.530Z"
   },
   {
    "duration": 102,
    "start_time": "2025-05-11T19:09:30.591Z"
   },
   {
    "duration": 60,
    "start_time": "2025-05-11T19:09:30.696Z"
   },
   {
    "duration": 33,
    "start_time": "2025-05-11T19:09:30.757Z"
   },
   {
    "duration": 122,
    "start_time": "2025-05-11T19:09:30.792Z"
   },
   {
    "duration": 29,
    "start_time": "2025-05-11T19:09:30.917Z"
   },
   {
    "duration": 21,
    "start_time": "2025-05-11T19:09:30.950Z"
   },
   {
    "duration": 1775,
    "start_time": "2025-05-11T19:09:30.972Z"
   },
   {
    "duration": 9,
    "start_time": "2025-05-11T19:09:32.749Z"
   },
   {
    "duration": 35,
    "start_time": "2025-05-11T19:09:32.760Z"
   },
   {
    "duration": 123,
    "start_time": "2025-05-11T19:09:32.798Z"
   },
   {
    "duration": 198,
    "start_time": "2025-05-11T19:09:32.923Z"
   },
   {
    "duration": 10,
    "start_time": "2025-05-11T19:09:33.123Z"
   },
   {
    "duration": 28,
    "start_time": "2025-05-11T19:09:33.135Z"
   },
   {
    "duration": 255,
    "start_time": "2025-05-11T19:09:33.164Z"
   },
   {
    "duration": 6,
    "start_time": "2025-05-11T19:09:33.421Z"
   },
   {
    "duration": 31,
    "start_time": "2025-05-11T19:09:33.429Z"
   },
   {
    "duration": 29,
    "start_time": "2025-05-11T19:09:33.462Z"
   },
   {
    "duration": 9,
    "start_time": "2025-05-11T19:09:33.493Z"
   },
   {
    "duration": 20,
    "start_time": "2025-05-11T19:09:33.504Z"
   },
   {
    "duration": 15,
    "start_time": "2025-05-11T19:09:33.526Z"
   },
   {
    "duration": 137,
    "start_time": "2025-05-11T19:09:33.543Z"
   },
   {
    "duration": 97,
    "start_time": "2025-05-11T19:09:33.682Z"
   },
   {
    "duration": 62,
    "start_time": "2025-05-11T19:09:33.781Z"
   },
   {
    "duration": 68,
    "start_time": "2025-05-11T19:09:33.846Z"
   },
   {
    "duration": 8,
    "start_time": "2025-05-11T19:09:33.916Z"
   },
   {
    "duration": 45,
    "start_time": "2025-05-12T10:25:43.173Z"
   },
   {
    "duration": 1242,
    "start_time": "2025-05-12T10:25:51.466Z"
   },
   {
    "duration": 123,
    "start_time": "2025-05-12T10:25:52.710Z"
   },
   {
    "duration": 12,
    "start_time": "2025-05-12T10:25:52.834Z"
   },
   {
    "duration": 10,
    "start_time": "2025-05-12T10:25:52.849Z"
   },
   {
    "duration": 6,
    "start_time": "2025-05-12T10:25:52.861Z"
   },
   {
    "duration": 10,
    "start_time": "2025-05-12T10:25:52.868Z"
   },
   {
    "duration": 4,
    "start_time": "2025-05-12T10:25:52.880Z"
   },
   {
    "duration": 18,
    "start_time": "2025-05-12T10:25:52.886Z"
   },
   {
    "duration": 4,
    "start_time": "2025-05-12T10:25:52.905Z"
   },
   {
    "duration": 26,
    "start_time": "2025-05-12T10:25:52.912Z"
   },
   {
    "duration": 2935,
    "start_time": "2025-05-12T10:25:52.940Z"
   },
   {
    "duration": 7,
    "start_time": "2025-05-12T10:25:55.877Z"
   },
   {
    "duration": 26,
    "start_time": "2025-05-12T10:25:55.885Z"
   },
   {
    "duration": 68,
    "start_time": "2025-05-12T10:25:55.912Z"
   },
   {
    "duration": 125,
    "start_time": "2025-05-12T10:25:55.981Z"
   },
   {
    "duration": 6,
    "start_time": "2025-05-12T10:25:56.108Z"
   },
   {
    "duration": 50,
    "start_time": "2025-05-12T10:25:56.115Z"
   },
   {
    "duration": 14,
    "start_time": "2025-05-12T10:25:56.166Z"
   },
   {
    "duration": 144,
    "start_time": "2025-05-12T10:25:56.181Z"
   },
   {
    "duration": 4,
    "start_time": "2025-05-12T10:25:56.327Z"
   },
   {
    "duration": 65,
    "start_time": "2025-05-12T10:25:56.332Z"
   },
   {
    "duration": 76,
    "start_time": "2025-05-12T10:25:56.399Z"
   },
   {
    "duration": 9,
    "start_time": "2025-05-12T10:25:56.476Z"
   },
   {
    "duration": 10,
    "start_time": "2025-05-12T10:25:56.486Z"
   },
   {
    "duration": 12,
    "start_time": "2025-05-12T10:25:56.498Z"
   },
   {
    "duration": 79,
    "start_time": "2025-05-12T10:25:56.511Z"
   },
   {
    "duration": 61,
    "start_time": "2025-05-12T10:25:56.592Z"
   },
   {
    "duration": 40,
    "start_time": "2025-05-12T10:25:56.656Z"
   },
   {
    "duration": 34,
    "start_time": "2025-05-12T10:25:56.697Z"
   },
   {
    "duration": 15,
    "start_time": "2025-05-12T10:25:56.733Z"
   },
   {
    "duration": 61,
    "start_time": "2025-05-12T10:26:33.486Z"
   },
   {
    "duration": 7,
    "start_time": "2025-05-12T10:30:16.718Z"
   },
   {
    "duration": 6,
    "start_time": "2025-05-12T10:30:30.539Z"
   },
   {
    "duration": 1228,
    "start_time": "2025-05-12T10:30:50.674Z"
   },
   {
    "duration": 47,
    "start_time": "2025-05-12T10:30:51.904Z"
   },
   {
    "duration": 14,
    "start_time": "2025-05-12T10:30:51.953Z"
   },
   {
    "duration": 24,
    "start_time": "2025-05-12T10:30:51.969Z"
   },
   {
    "duration": 8,
    "start_time": "2025-05-12T10:30:51.996Z"
   },
   {
    "duration": 29,
    "start_time": "2025-05-12T10:30:52.005Z"
   },
   {
    "duration": 11,
    "start_time": "2025-05-12T10:30:52.036Z"
   },
   {
    "duration": 14,
    "start_time": "2025-05-12T10:30:52.049Z"
   },
   {
    "duration": 3,
    "start_time": "2025-05-12T10:30:52.064Z"
   },
   {
    "duration": 20,
    "start_time": "2025-05-12T10:30:52.069Z"
   },
   {
    "duration": 1510,
    "start_time": "2025-05-12T10:30:52.091Z"
   },
   {
    "duration": 8,
    "start_time": "2025-05-12T10:30:53.603Z"
   },
   {
    "duration": 15,
    "start_time": "2025-05-12T10:30:53.613Z"
   },
   {
    "duration": 8,
    "start_time": "2025-05-12T10:30:53.629Z"
   },
   {
    "duration": 143,
    "start_time": "2025-05-12T10:30:53.639Z"
   },
   {
    "duration": 6,
    "start_time": "2025-05-12T10:30:53.787Z"
   },
   {
    "duration": 7,
    "start_time": "2025-05-12T10:30:53.794Z"
   },
   {
    "duration": 5,
    "start_time": "2025-05-12T10:30:53.803Z"
   },
   {
    "duration": 8,
    "start_time": "2025-05-12T10:30:53.810Z"
   },
   {
    "duration": 11,
    "start_time": "2025-05-12T10:30:53.819Z"
   },
   {
    "duration": 174,
    "start_time": "2025-05-12T10:30:53.832Z"
   },
   {
    "duration": 4,
    "start_time": "2025-05-12T10:30:54.008Z"
   },
   {
    "duration": 30,
    "start_time": "2025-05-12T10:30:54.014Z"
   },
   {
    "duration": 13,
    "start_time": "2025-05-12T10:30:54.045Z"
   },
   {
    "duration": 4,
    "start_time": "2025-05-12T10:30:54.059Z"
   },
   {
    "duration": 15,
    "start_time": "2025-05-12T10:30:54.065Z"
   },
   {
    "duration": 11,
    "start_time": "2025-05-12T10:30:54.085Z"
   },
   {
    "duration": 86,
    "start_time": "2025-05-12T10:30:54.099Z"
   },
   {
    "duration": 70,
    "start_time": "2025-05-12T10:30:54.188Z"
   },
   {
    "duration": 50,
    "start_time": "2025-05-12T10:30:54.260Z"
   },
   {
    "duration": 33,
    "start_time": "2025-05-12T10:30:54.312Z"
   },
   {
    "duration": 32,
    "start_time": "2025-05-12T10:30:54.347Z"
   },
   {
    "duration": 304,
    "start_time": "2025-05-12T10:37:54.661Z"
   },
   {
    "duration": 288,
    "start_time": "2025-05-12T10:38:00.482Z"
   },
   {
    "duration": 285,
    "start_time": "2025-05-12T10:38:24.149Z"
   },
   {
    "duration": 290,
    "start_time": "2025-05-12T10:39:06.625Z"
   },
   {
    "duration": 81,
    "start_time": "2025-05-12T10:40:28.341Z"
   },
   {
    "duration": 57,
    "start_time": "2025-05-12T10:40:37.727Z"
   },
   {
    "duration": 313,
    "start_time": "2025-05-12T10:43:27.299Z"
   },
   {
    "duration": 306,
    "start_time": "2025-05-12T10:43:34.834Z"
   },
   {
    "duration": 308,
    "start_time": "2025-05-12T10:43:45.586Z"
   },
   {
    "duration": 5,
    "start_time": "2025-05-12T10:44:19.484Z"
   },
   {
    "duration": 362,
    "start_time": "2025-05-12T10:46:04.830Z"
   },
   {
    "duration": 1136,
    "start_time": "2025-05-12T10:47:17.139Z"
   },
   {
    "duration": 65,
    "start_time": "2025-05-12T10:47:18.277Z"
   },
   {
    "duration": 11,
    "start_time": "2025-05-12T10:47:18.344Z"
   },
   {
    "duration": 10,
    "start_time": "2025-05-12T10:47:18.357Z"
   },
   {
    "duration": 11,
    "start_time": "2025-05-12T10:47:18.369Z"
   },
   {
    "duration": 8,
    "start_time": "2025-05-12T10:47:18.383Z"
   },
   {
    "duration": 5,
    "start_time": "2025-05-12T10:47:18.392Z"
   },
   {
    "duration": 14,
    "start_time": "2025-05-12T10:47:18.398Z"
   },
   {
    "duration": 3,
    "start_time": "2025-05-12T10:47:18.413Z"
   },
   {
    "duration": 6,
    "start_time": "2025-05-12T10:47:18.419Z"
   },
   {
    "duration": 1376,
    "start_time": "2025-05-12T10:47:18.427Z"
   },
   {
    "duration": 8,
    "start_time": "2025-05-12T10:47:19.804Z"
   },
   {
    "duration": 12,
    "start_time": "2025-05-12T10:47:19.813Z"
   },
   {
    "duration": 10,
    "start_time": "2025-05-12T10:47:19.826Z"
   },
   {
    "duration": 128,
    "start_time": "2025-05-12T10:47:19.837Z"
   },
   {
    "duration": 14,
    "start_time": "2025-05-12T10:47:19.971Z"
   },
   {
    "duration": 9,
    "start_time": "2025-05-12T10:47:19.987Z"
   },
   {
    "duration": 5,
    "start_time": "2025-05-12T10:47:19.997Z"
   },
   {
    "duration": 334,
    "start_time": "2025-05-12T10:47:20.003Z"
   },
   {
    "duration": 351,
    "start_time": "2025-05-12T10:47:20.338Z"
   },
   {
    "duration": 8,
    "start_time": "2025-05-12T10:47:20.690Z"
   },
   {
    "duration": 8,
    "start_time": "2025-05-12T10:47:20.699Z"
   },
   {
    "duration": 149,
    "start_time": "2025-05-12T10:47:20.708Z"
   },
   {
    "duration": 13,
    "start_time": "2025-05-12T10:47:20.858Z"
   },
   {
    "duration": 15,
    "start_time": "2025-05-12T10:47:20.876Z"
   },
   {
    "duration": 10,
    "start_time": "2025-05-12T10:47:20.893Z"
   },
   {
    "duration": 8,
    "start_time": "2025-05-12T10:47:20.905Z"
   },
   {
    "duration": 8,
    "start_time": "2025-05-12T10:47:20.916Z"
   },
   {
    "duration": 7,
    "start_time": "2025-05-12T10:47:20.926Z"
   },
   {
    "duration": 96,
    "start_time": "2025-05-12T10:47:20.935Z"
   },
   {
    "duration": 78,
    "start_time": "2025-05-12T10:47:21.032Z"
   },
   {
    "duration": 31,
    "start_time": "2025-05-12T10:47:21.111Z"
   },
   {
    "duration": 58,
    "start_time": "2025-05-12T10:47:21.143Z"
   },
   {
    "duration": 83,
    "start_time": "2025-05-12T10:47:21.203Z"
   },
   {
    "duration": 6,
    "start_time": "2025-05-12T10:49:16.493Z"
   },
   {
    "duration": 109,
    "start_time": "2025-05-12T10:49:25.655Z"
   },
   {
    "duration": 3,
    "start_time": "2025-05-12T10:49:37.894Z"
   },
   {
    "duration": 7,
    "start_time": "2025-05-12T10:53:53.996Z"
   },
   {
    "duration": 8,
    "start_time": "2025-05-12T10:53:57.960Z"
   },
   {
    "duration": 8,
    "start_time": "2025-05-12T10:54:25.952Z"
   },
   {
    "duration": 4,
    "start_time": "2025-05-12T10:54:35.546Z"
   },
   {
    "duration": 3,
    "start_time": "2025-05-12T10:54:46.375Z"
   },
   {
    "duration": 7,
    "start_time": "2025-05-12T10:55:01.558Z"
   },
   {
    "duration": 8,
    "start_time": "2025-05-12T10:55:10.961Z"
   },
   {
    "duration": 8,
    "start_time": "2025-05-12T10:55:23.257Z"
   },
   {
    "duration": 1157,
    "start_time": "2025-05-12T10:55:30.433Z"
   },
   {
    "duration": 122,
    "start_time": "2025-05-12T10:55:31.592Z"
   },
   {
    "duration": 11,
    "start_time": "2025-05-12T10:55:31.715Z"
   },
   {
    "duration": 14,
    "start_time": "2025-05-12T10:55:31.728Z"
   },
   {
    "duration": 23,
    "start_time": "2025-05-12T10:55:31.744Z"
   },
   {
    "duration": 16,
    "start_time": "2025-05-12T10:55:31.768Z"
   },
   {
    "duration": 10,
    "start_time": "2025-05-12T10:55:31.786Z"
   },
   {
    "duration": 28,
    "start_time": "2025-05-12T10:55:31.798Z"
   },
   {
    "duration": 33,
    "start_time": "2025-05-12T10:55:31.827Z"
   },
   {
    "duration": 19,
    "start_time": "2025-05-12T10:55:31.863Z"
   },
   {
    "duration": 1373,
    "start_time": "2025-05-12T10:55:31.884Z"
   },
   {
    "duration": 19,
    "start_time": "2025-05-12T10:55:33.259Z"
   },
   {
    "duration": 12,
    "start_time": "2025-05-12T10:55:33.283Z"
   },
   {
    "duration": 9,
    "start_time": "2025-05-12T10:55:33.297Z"
   },
   {
    "duration": 130,
    "start_time": "2025-05-12T10:55:33.307Z"
   },
   {
    "duration": 5,
    "start_time": "2025-05-12T10:55:33.438Z"
   },
   {
    "duration": 71,
    "start_time": "2025-05-12T10:55:33.445Z"
   },
   {
    "duration": 107,
    "start_time": "2025-05-12T10:55:33.518Z"
   },
   {
    "duration": 0,
    "start_time": "2025-05-12T10:55:33.628Z"
   },
   {
    "duration": 0,
    "start_time": "2025-05-12T10:55:33.629Z"
   },
   {
    "duration": 0,
    "start_time": "2025-05-12T10:55:33.631Z"
   },
   {
    "duration": 0,
    "start_time": "2025-05-12T10:55:33.632Z"
   },
   {
    "duration": 0,
    "start_time": "2025-05-12T10:55:33.634Z"
   },
   {
    "duration": 0,
    "start_time": "2025-05-12T10:55:33.635Z"
   },
   {
    "duration": 0,
    "start_time": "2025-05-12T10:55:33.637Z"
   },
   {
    "duration": 0,
    "start_time": "2025-05-12T10:55:33.638Z"
   },
   {
    "duration": 0,
    "start_time": "2025-05-12T10:55:33.639Z"
   },
   {
    "duration": 0,
    "start_time": "2025-05-12T10:55:33.640Z"
   },
   {
    "duration": 0,
    "start_time": "2025-05-12T10:55:33.642Z"
   },
   {
    "duration": 0,
    "start_time": "2025-05-12T10:55:33.643Z"
   },
   {
    "duration": 0,
    "start_time": "2025-05-12T10:55:33.677Z"
   },
   {
    "duration": 0,
    "start_time": "2025-05-12T10:55:33.679Z"
   },
   {
    "duration": 1,
    "start_time": "2025-05-12T10:55:33.680Z"
   },
   {
    "duration": 0,
    "start_time": "2025-05-12T10:55:33.682Z"
   },
   {
    "duration": 0,
    "start_time": "2025-05-12T10:55:33.684Z"
   },
   {
    "duration": 0,
    "start_time": "2025-05-12T10:55:33.685Z"
   },
   {
    "duration": 3,
    "start_time": "2025-05-12T10:58:00.553Z"
   },
   {
    "duration": 6,
    "start_time": "2025-05-12T10:58:24.519Z"
   },
   {
    "duration": 8,
    "start_time": "2025-05-12T10:59:18.183Z"
   },
   {
    "duration": 18,
    "start_time": "2025-05-12T10:59:52.254Z"
   },
   {
    "duration": 7,
    "start_time": "2025-05-12T11:00:09.853Z"
   },
   {
    "duration": 405,
    "start_time": "2025-05-12T11:01:05.976Z"
   },
   {
    "duration": 305,
    "start_time": "2025-05-12T11:01:24.789Z"
   },
   {
    "duration": 12,
    "start_time": "2025-05-12T11:01:37.556Z"
   },
   {
    "duration": 11,
    "start_time": "2025-05-12T11:03:03.977Z"
   },
   {
    "duration": 9,
    "start_time": "2025-05-12T11:03:10.793Z"
   },
   {
    "duration": 12,
    "start_time": "2025-05-12T11:03:15.793Z"
   },
   {
    "duration": 8,
    "start_time": "2025-05-12T11:03:27.499Z"
   },
   {
    "duration": 6,
    "start_time": "2025-05-12T11:03:43.295Z"
   },
   {
    "duration": 7,
    "start_time": "2025-05-12T11:12:26.459Z"
   },
   {
    "duration": 4,
    "start_time": "2025-05-12T11:14:29.914Z"
   },
   {
    "duration": 1183,
    "start_time": "2025-05-12T11:14:41.426Z"
   },
   {
    "duration": 45,
    "start_time": "2025-05-12T11:14:42.610Z"
   },
   {
    "duration": 11,
    "start_time": "2025-05-12T11:14:42.656Z"
   },
   {
    "duration": 23,
    "start_time": "2025-05-12T11:14:42.668Z"
   },
   {
    "duration": 6,
    "start_time": "2025-05-12T11:14:42.692Z"
   },
   {
    "duration": 6,
    "start_time": "2025-05-12T11:14:42.699Z"
   },
   {
    "duration": 4,
    "start_time": "2025-05-12T11:14:42.706Z"
   },
   {
    "duration": 14,
    "start_time": "2025-05-12T11:14:42.712Z"
   },
   {
    "duration": 4,
    "start_time": "2025-05-12T11:14:42.728Z"
   },
   {
    "duration": 7,
    "start_time": "2025-05-12T11:14:42.734Z"
   },
   {
    "duration": 1441,
    "start_time": "2025-05-12T11:14:42.773Z"
   },
   {
    "duration": 7,
    "start_time": "2025-05-12T11:14:44.216Z"
   },
   {
    "duration": 13,
    "start_time": "2025-05-12T11:14:44.225Z"
   },
   {
    "duration": 7,
    "start_time": "2025-05-12T11:14:44.240Z"
   },
   {
    "duration": 144,
    "start_time": "2025-05-12T11:14:44.248Z"
   },
   {
    "duration": 6,
    "start_time": "2025-05-12T11:14:44.397Z"
   },
   {
    "duration": 7,
    "start_time": "2025-05-12T11:14:44.405Z"
   },
   {
    "duration": 7,
    "start_time": "2025-05-12T11:14:44.414Z"
   },
   {
    "duration": 65,
    "start_time": "2025-05-12T11:14:44.423Z"
   },
   {
    "duration": 25,
    "start_time": "2025-05-12T11:14:44.493Z"
   },
   {
    "duration": 412,
    "start_time": "2025-05-12T11:14:44.519Z"
   },
   {
    "duration": 381,
    "start_time": "2025-05-12T11:14:44.932Z"
   },
   {
    "duration": 318,
    "start_time": "2025-05-12T11:14:45.315Z"
   },
   {
    "duration": 8,
    "start_time": "2025-05-12T11:14:45.634Z"
   },
   {
    "duration": 41,
    "start_time": "2025-05-12T11:14:45.644Z"
   },
   {
    "duration": 139,
    "start_time": "2025-05-12T11:14:45.686Z"
   },
   {
    "duration": 4,
    "start_time": "2025-05-12T11:14:45.827Z"
   },
   {
    "duration": 12,
    "start_time": "2025-05-12T11:14:45.834Z"
   },
   {
    "duration": 16,
    "start_time": "2025-05-12T11:14:45.847Z"
   },
   {
    "duration": 11,
    "start_time": "2025-05-12T11:14:45.871Z"
   },
   {
    "duration": 11,
    "start_time": "2025-05-12T11:14:45.889Z"
   },
   {
    "duration": 8,
    "start_time": "2025-05-12T11:14:45.902Z"
   },
   {
    "duration": 89,
    "start_time": "2025-05-12T11:14:45.911Z"
   },
   {
    "duration": 71,
    "start_time": "2025-05-12T11:14:46.002Z"
   },
   {
    "duration": 39,
    "start_time": "2025-05-12T11:14:46.077Z"
   },
   {
    "duration": 34,
    "start_time": "2025-05-12T11:14:46.118Z"
   },
   {
    "duration": 14,
    "start_time": "2025-05-12T11:14:46.170Z"
   },
   {
    "duration": 8,
    "start_time": "2025-05-12T11:15:29.760Z"
   },
   {
    "duration": 95,
    "start_time": "2025-05-12T11:15:30.885Z"
   },
   {
    "duration": 9,
    "start_time": "2025-05-12T11:15:44.025Z"
   },
   {
    "duration": 8,
    "start_time": "2025-05-12T11:16:05.248Z"
   },
   {
    "duration": 6,
    "start_time": "2025-05-12T11:16:05.830Z"
   },
   {
    "duration": 3,
    "start_time": "2025-05-12T11:16:06.592Z"
   },
   {
    "duration": 6,
    "start_time": "2025-05-12T11:16:54.981Z"
   },
   {
    "duration": 1166,
    "start_time": "2025-05-12T11:17:36.626Z"
   },
   {
    "duration": 52,
    "start_time": "2025-05-12T11:17:37.794Z"
   },
   {
    "duration": 11,
    "start_time": "2025-05-12T11:17:37.848Z"
   },
   {
    "duration": 14,
    "start_time": "2025-05-12T11:17:37.860Z"
   },
   {
    "duration": 10,
    "start_time": "2025-05-12T11:17:37.877Z"
   },
   {
    "duration": 5,
    "start_time": "2025-05-12T11:17:37.889Z"
   },
   {
    "duration": 8,
    "start_time": "2025-05-12T11:17:37.895Z"
   },
   {
    "duration": 13,
    "start_time": "2025-05-12T11:17:37.904Z"
   },
   {
    "duration": 10,
    "start_time": "2025-05-12T11:17:37.918Z"
   },
   {
    "duration": 7,
    "start_time": "2025-05-12T11:17:37.930Z"
   },
   {
    "duration": 1447,
    "start_time": "2025-05-12T11:17:37.938Z"
   },
   {
    "duration": 8,
    "start_time": "2025-05-12T11:17:39.387Z"
   },
   {
    "duration": 11,
    "start_time": "2025-05-12T11:17:39.396Z"
   },
   {
    "duration": 8,
    "start_time": "2025-05-12T11:17:39.408Z"
   },
   {
    "duration": 134,
    "start_time": "2025-05-12T11:17:39.418Z"
   },
   {
    "duration": 5,
    "start_time": "2025-05-12T11:17:39.554Z"
   },
   {
    "duration": 19,
    "start_time": "2025-05-12T11:17:39.560Z"
   },
   {
    "duration": 8,
    "start_time": "2025-05-12T11:17:39.581Z"
   },
   {
    "duration": 3,
    "start_time": "2025-05-12T11:17:39.591Z"
   },
   {
    "duration": 348,
    "start_time": "2025-05-12T11:17:39.596Z"
   },
   {
    "duration": 347,
    "start_time": "2025-05-12T11:17:39.945Z"
   },
   {
    "duration": 324,
    "start_time": "2025-05-12T11:17:40.294Z"
   },
   {
    "duration": 3,
    "start_time": "2025-05-12T11:17:40.619Z"
   },
   {
    "duration": 8,
    "start_time": "2025-05-12T11:17:40.624Z"
   },
   {
    "duration": 7,
    "start_time": "2025-05-12T11:17:40.634Z"
   },
   {
    "duration": 153,
    "start_time": "2025-05-12T11:17:40.643Z"
   },
   {
    "duration": 5,
    "start_time": "2025-05-12T11:17:40.798Z"
   },
   {
    "duration": 8,
    "start_time": "2025-05-12T11:17:40.805Z"
   },
   {
    "duration": 10,
    "start_time": "2025-05-12T11:17:40.815Z"
   },
   {
    "duration": 14,
    "start_time": "2025-05-12T11:17:40.826Z"
   },
   {
    "duration": 7,
    "start_time": "2025-05-12T11:17:40.842Z"
   },
   {
    "duration": 12,
    "start_time": "2025-05-12T11:17:40.871Z"
   },
   {
    "duration": 66,
    "start_time": "2025-05-12T11:17:40.885Z"
   },
   {
    "duration": 85,
    "start_time": "2025-05-12T11:17:40.953Z"
   },
   {
    "duration": 50,
    "start_time": "2025-05-12T11:17:41.039Z"
   },
   {
    "duration": 30,
    "start_time": "2025-05-12T11:17:41.091Z"
   },
   {
    "duration": 45,
    "start_time": "2025-05-12T11:17:41.122Z"
   },
   {
    "duration": 110,
    "start_time": "2025-05-12T11:22:02.388Z"
   },
   {
    "duration": 3,
    "start_time": "2025-05-12T11:22:18.442Z"
   },
   {
    "duration": 92,
    "start_time": "2025-05-12T11:23:00.415Z"
   },
   {
    "duration": 104,
    "start_time": "2025-05-12T11:24:03.833Z"
   },
   {
    "duration": 88,
    "start_time": "2025-05-12T11:24:10.217Z"
   },
   {
    "duration": 3,
    "start_time": "2025-05-12T11:24:15.257Z"
   },
   {
    "duration": 3,
    "start_time": "2025-05-12T11:25:01.353Z"
   },
   {
    "duration": 8,
    "start_time": "2025-05-12T11:27:30.238Z"
   },
   {
    "duration": 9,
    "start_time": "2025-05-12T11:27:46.998Z"
   },
   {
    "duration": 118,
    "start_time": "2025-05-12T11:27:57.430Z"
   },
   {
    "duration": 5,
    "start_time": "2025-05-12T11:28:12.359Z"
   },
   {
    "duration": 11,
    "start_time": "2025-05-12T11:40:10.038Z"
   },
   {
    "duration": 5,
    "start_time": "2025-05-12T11:40:16.876Z"
   },
   {
    "duration": 14,
    "start_time": "2025-05-12T11:40:17.473Z"
   },
   {
    "duration": 11,
    "start_time": "2025-05-12T11:40:33.995Z"
   },
   {
    "duration": 7,
    "start_time": "2025-05-12T11:41:03.381Z"
   },
   {
    "duration": 7,
    "start_time": "2025-05-12T11:41:04.652Z"
   },
   {
    "duration": 20,
    "start_time": "2025-05-12T11:41:09.380Z"
   },
   {
    "duration": 65,
    "start_time": "2025-05-12T11:42:12.598Z"
   },
   {
    "duration": 111,
    "start_time": "2025-05-12T11:42:41.345Z"
   },
   {
    "duration": 1206,
    "start_time": "2025-05-12T11:44:22.136Z"
   },
   {
    "duration": 48,
    "start_time": "2025-05-12T11:44:23.344Z"
   },
   {
    "duration": 14,
    "start_time": "2025-05-12T11:44:23.394Z"
   },
   {
    "duration": 21,
    "start_time": "2025-05-12T11:44:23.410Z"
   },
   {
    "duration": 5,
    "start_time": "2025-05-12T11:44:23.433Z"
   },
   {
    "duration": 5,
    "start_time": "2025-05-12T11:44:23.440Z"
   },
   {
    "duration": 39,
    "start_time": "2025-05-12T11:44:23.446Z"
   },
   {
    "duration": 22,
    "start_time": "2025-05-12T11:44:23.487Z"
   },
   {
    "duration": 3,
    "start_time": "2025-05-12T11:44:23.510Z"
   },
   {
    "duration": 9,
    "start_time": "2025-05-12T11:44:23.515Z"
   },
   {
    "duration": 1475,
    "start_time": "2025-05-12T11:44:23.526Z"
   },
   {
    "duration": 8,
    "start_time": "2025-05-12T11:44:25.003Z"
   },
   {
    "duration": 15,
    "start_time": "2025-05-12T11:44:25.012Z"
   },
   {
    "duration": 16,
    "start_time": "2025-05-12T11:44:25.030Z"
   },
   {
    "duration": 149,
    "start_time": "2025-05-12T11:44:25.047Z"
   },
   {
    "duration": 10,
    "start_time": "2025-05-12T11:44:25.197Z"
   },
   {
    "duration": 44,
    "start_time": "2025-05-12T11:44:25.211Z"
   },
   {
    "duration": 8,
    "start_time": "2025-05-12T11:44:25.257Z"
   },
   {
    "duration": 13,
    "start_time": "2025-05-12T11:44:25.267Z"
   },
   {
    "duration": 364,
    "start_time": "2025-05-12T11:44:25.287Z"
   },
   {
    "duration": 407,
    "start_time": "2025-05-12T11:44:25.652Z"
   },
   {
    "duration": 390,
    "start_time": "2025-05-12T11:44:26.061Z"
   },
   {
    "duration": 4,
    "start_time": "2025-05-12T11:44:26.453Z"
   },
   {
    "duration": 25,
    "start_time": "2025-05-12T11:44:26.470Z"
   },
   {
    "duration": 14,
    "start_time": "2025-05-12T11:44:26.497Z"
   },
   {
    "duration": 142,
    "start_time": "2025-05-12T11:44:26.514Z"
   },
   {
    "duration": 23,
    "start_time": "2025-05-12T11:44:26.658Z"
   },
   {
    "duration": 12,
    "start_time": "2025-05-12T11:44:26.688Z"
   },
   {
    "duration": 10,
    "start_time": "2025-05-12T11:44:26.702Z"
   },
   {
    "duration": 4,
    "start_time": "2025-05-12T11:44:26.714Z"
   },
   {
    "duration": 8,
    "start_time": "2025-05-12T11:44:26.719Z"
   },
   {
    "duration": 8,
    "start_time": "2025-05-12T11:44:26.728Z"
   },
   {
    "duration": 103,
    "start_time": "2025-05-12T11:44:26.737Z"
   },
   {
    "duration": 103,
    "start_time": "2025-05-12T11:44:26.842Z"
   },
   {
    "duration": 45,
    "start_time": "2025-05-12T11:44:26.947Z"
   },
   {
    "duration": 40,
    "start_time": "2025-05-12T11:44:26.994Z"
   },
   {
    "duration": 5,
    "start_time": "2025-05-12T11:44:27.036Z"
   },
   {
    "duration": 1500,
    "start_time": "2025-05-12T19:08:10.222Z"
   },
   {
    "duration": 54,
    "start_time": "2025-05-12T19:08:11.724Z"
   },
   {
    "duration": 16,
    "start_time": "2025-05-12T19:08:11.780Z"
   },
   {
    "duration": 57,
    "start_time": "2025-05-12T19:08:11.798Z"
   },
   {
    "duration": 7,
    "start_time": "2025-05-12T19:08:11.856Z"
   },
   {
    "duration": 21,
    "start_time": "2025-05-12T19:08:11.865Z"
   },
   {
    "duration": 13,
    "start_time": "2025-05-12T19:08:11.888Z"
   },
   {
    "duration": 36,
    "start_time": "2025-05-12T19:08:11.903Z"
   },
   {
    "duration": 7,
    "start_time": "2025-05-12T19:08:11.941Z"
   },
   {
    "duration": 17,
    "start_time": "2025-05-12T19:08:11.950Z"
   },
   {
    "duration": 1606,
    "start_time": "2025-05-12T19:08:11.969Z"
   },
   {
    "duration": 8,
    "start_time": "2025-05-12T19:08:13.577Z"
   },
   {
    "duration": 34,
    "start_time": "2025-05-12T19:08:13.586Z"
   },
   {
    "duration": 22,
    "start_time": "2025-05-12T19:08:13.622Z"
   },
   {
    "duration": 151,
    "start_time": "2025-05-12T19:08:13.645Z"
   },
   {
    "duration": 21,
    "start_time": "2025-05-12T19:08:13.798Z"
   },
   {
    "duration": 13,
    "start_time": "2025-05-12T19:08:13.821Z"
   },
   {
    "duration": 12,
    "start_time": "2025-05-12T19:08:13.835Z"
   },
   {
    "duration": 9,
    "start_time": "2025-05-12T19:08:13.850Z"
   },
   {
    "duration": 410,
    "start_time": "2025-05-12T19:08:13.861Z"
   },
   {
    "duration": 423,
    "start_time": "2025-05-12T19:08:14.273Z"
   },
   {
    "duration": 391,
    "start_time": "2025-05-12T19:08:14.697Z"
   },
   {
    "duration": 22,
    "start_time": "2025-05-12T19:08:15.090Z"
   },
   {
    "duration": 33,
    "start_time": "2025-05-12T19:08:15.114Z"
   },
   {
    "duration": 124,
    "start_time": "2025-05-12T19:08:15.149Z"
   },
   {
    "duration": 188,
    "start_time": "2025-05-12T19:08:15.275Z"
   },
   {
    "duration": 6,
    "start_time": "2025-05-12T19:08:15.465Z"
   },
   {
    "duration": 32,
    "start_time": "2025-05-12T19:08:15.480Z"
   },
   {
    "duration": 20,
    "start_time": "2025-05-12T19:08:15.521Z"
   },
   {
    "duration": 110,
    "start_time": "2025-05-12T19:08:15.543Z"
   },
   {
    "duration": 13,
    "start_time": "2025-05-12T19:08:15.655Z"
   },
   {
    "duration": 14,
    "start_time": "2025-05-12T19:08:15.670Z"
   },
   {
    "duration": 93,
    "start_time": "2025-05-12T19:08:15.686Z"
   },
   {
    "duration": 129,
    "start_time": "2025-05-12T19:08:15.782Z"
   },
   {
    "duration": 39,
    "start_time": "2025-05-12T19:08:15.924Z"
   },
   {
    "duration": 56,
    "start_time": "2025-05-12T19:08:15.965Z"
   },
   {
    "duration": 6,
    "start_time": "2025-05-12T19:08:16.023Z"
   },
   {
    "duration": 6,
    "start_time": "2025-05-12T19:15:00.858Z"
   },
   {
    "duration": 6,
    "start_time": "2025-05-12T19:15:42.648Z"
   },
   {
    "duration": 12,
    "start_time": "2025-05-12T19:15:48.633Z"
   },
   {
    "duration": 8,
    "start_time": "2025-05-12T19:16:03.172Z"
   },
   {
    "duration": 22,
    "start_time": "2025-05-12T19:16:08.249Z"
   },
   {
    "duration": 1290,
    "start_time": "2025-05-12T19:16:55.436Z"
   },
   {
    "duration": 53,
    "start_time": "2025-05-12T19:16:56.728Z"
   },
   {
    "duration": 17,
    "start_time": "2025-05-12T19:16:56.783Z"
   },
   {
    "duration": 21,
    "start_time": "2025-05-12T19:16:56.802Z"
   },
   {
    "duration": 9,
    "start_time": "2025-05-12T19:16:56.825Z"
   },
   {
    "duration": 12,
    "start_time": "2025-05-12T19:16:56.836Z"
   },
   {
    "duration": 34,
    "start_time": "2025-05-12T19:16:56.850Z"
   },
   {
    "duration": 36,
    "start_time": "2025-05-12T19:16:56.886Z"
   },
   {
    "duration": 8,
    "start_time": "2025-05-12T19:16:56.924Z"
   },
   {
    "duration": 28,
    "start_time": "2025-05-12T19:16:56.935Z"
   },
   {
    "duration": 2067,
    "start_time": "2025-05-12T19:16:56.965Z"
   },
   {
    "duration": 10,
    "start_time": "2025-05-12T19:16:59.034Z"
   },
   {
    "duration": 53,
    "start_time": "2025-05-12T19:16:59.045Z"
   },
   {
    "duration": 84,
    "start_time": "2025-05-12T19:16:59.100Z"
   },
   {
    "duration": 264,
    "start_time": "2025-05-12T19:16:59.185Z"
   },
   {
    "duration": 8,
    "start_time": "2025-05-12T19:16:59.451Z"
   },
   {
    "duration": 24,
    "start_time": "2025-05-12T19:16:59.460Z"
   },
   {
    "duration": 34,
    "start_time": "2025-05-12T19:16:59.486Z"
   },
   {
    "duration": 11,
    "start_time": "2025-05-12T19:16:59.522Z"
   },
   {
    "duration": 493,
    "start_time": "2025-05-12T19:16:59.535Z"
   },
   {
    "duration": 433,
    "start_time": "2025-05-12T19:17:00.030Z"
   },
   {
    "duration": 415,
    "start_time": "2025-05-12T19:17:00.465Z"
   },
   {
    "duration": 5,
    "start_time": "2025-05-12T19:17:00.881Z"
   },
   {
    "duration": 31,
    "start_time": "2025-05-12T19:17:00.908Z"
   },
   {
    "duration": 48,
    "start_time": "2025-05-12T19:17:00.941Z"
   },
   {
    "duration": 178,
    "start_time": "2025-05-12T19:17:00.991Z"
   },
   {
    "duration": 6,
    "start_time": "2025-05-12T19:17:01.170Z"
   },
   {
    "duration": 11,
    "start_time": "2025-05-12T19:17:01.179Z"
   },
   {
    "duration": 147,
    "start_time": "2025-05-12T19:17:01.192Z"
   },
   {
    "duration": 1319,
    "start_time": "2025-05-12T19:17:01.341Z"
   },
   {
    "duration": 0,
    "start_time": "2025-05-12T19:17:02.662Z"
   },
   {
    "duration": 0,
    "start_time": "2025-05-12T19:17:02.663Z"
   },
   {
    "duration": 0,
    "start_time": "2025-05-12T19:17:02.664Z"
   },
   {
    "duration": 0,
    "start_time": "2025-05-12T19:17:02.666Z"
   },
   {
    "duration": 84,
    "start_time": "2025-05-12T19:17:40.552Z"
   },
   {
    "duration": 110,
    "start_time": "2025-05-12T19:20:11.320Z"
   },
   {
    "duration": 82,
    "start_time": "2025-05-12T19:20:56.296Z"
   },
   {
    "duration": 50,
    "start_time": "2025-05-12T19:26:07.137Z"
   },
   {
    "duration": 47,
    "start_time": "2025-05-12T19:26:08.543Z"
   },
   {
    "duration": 42,
    "start_time": "2025-05-12T19:27:46.005Z"
   },
   {
    "duration": 1375,
    "start_time": "2025-05-12T19:28:02.742Z"
   },
   {
    "duration": 221,
    "start_time": "2025-05-12T19:28:04.123Z"
   },
   {
    "duration": 15,
    "start_time": "2025-05-12T19:28:04.346Z"
   },
   {
    "duration": 26,
    "start_time": "2025-05-12T19:28:04.363Z"
   },
   {
    "duration": 27,
    "start_time": "2025-05-12T19:28:04.393Z"
   },
   {
    "duration": 33,
    "start_time": "2025-05-12T19:28:04.422Z"
   },
   {
    "duration": 8,
    "start_time": "2025-05-12T19:28:04.457Z"
   },
   {
    "duration": 24,
    "start_time": "2025-05-12T19:28:04.467Z"
   },
   {
    "duration": 7,
    "start_time": "2025-05-12T19:28:04.493Z"
   },
   {
    "duration": 33,
    "start_time": "2025-05-12T19:28:04.502Z"
   },
   {
    "duration": 2031,
    "start_time": "2025-05-12T19:28:04.537Z"
   },
   {
    "duration": 10,
    "start_time": "2025-05-12T19:28:06.570Z"
   },
   {
    "duration": 78,
    "start_time": "2025-05-12T19:28:06.583Z"
   },
   {
    "duration": 22,
    "start_time": "2025-05-12T19:28:06.666Z"
   },
   {
    "duration": 233,
    "start_time": "2025-05-12T19:28:06.690Z"
   },
   {
    "duration": 11,
    "start_time": "2025-05-12T19:28:06.927Z"
   },
   {
    "duration": 55,
    "start_time": "2025-05-12T19:28:06.940Z"
   },
   {
    "duration": 33,
    "start_time": "2025-05-12T19:28:06.998Z"
   },
   {
    "duration": 42,
    "start_time": "2025-05-12T19:28:07.037Z"
   },
   {
    "duration": 434,
    "start_time": "2025-05-12T19:28:07.081Z"
   },
   {
    "duration": 477,
    "start_time": "2025-05-12T19:28:07.516Z"
   },
   {
    "duration": 441,
    "start_time": "2025-05-12T19:28:07.995Z"
   },
   {
    "duration": 5,
    "start_time": "2025-05-12T19:28:08.438Z"
   },
   {
    "duration": 33,
    "start_time": "2025-05-12T19:28:08.445Z"
   },
   {
    "duration": 13,
    "start_time": "2025-05-12T19:28:08.480Z"
   },
   {
    "duration": 179,
    "start_time": "2025-05-12T19:28:08.495Z"
   },
   {
    "duration": 6,
    "start_time": "2025-05-12T19:28:08.676Z"
   },
   {
    "duration": 39,
    "start_time": "2025-05-12T19:28:08.684Z"
   },
   {
    "duration": 11,
    "start_time": "2025-05-12T19:28:08.725Z"
   },
   {
    "duration": 111,
    "start_time": "2025-05-12T19:28:08.737Z"
   },
   {
    "duration": 129,
    "start_time": "2025-05-12T19:28:08.850Z"
   },
   {
    "duration": 54,
    "start_time": "2025-05-12T19:28:08.981Z"
   },
   {
    "duration": 189,
    "start_time": "2025-05-12T19:28:09.038Z"
   },
   {
    "duration": 0,
    "start_time": "2025-05-12T19:28:09.230Z"
   },
   {
    "duration": 43,
    "start_time": "2025-05-12T19:29:02.597Z"
   },
   {
    "duration": 32,
    "start_time": "2025-05-12T19:29:09.442Z"
   },
   {
    "duration": 31,
    "start_time": "2025-05-12T19:30:05.817Z"
   },
   {
    "duration": 7,
    "start_time": "2025-05-12T19:31:58.935Z"
   },
   {
    "duration": 55,
    "start_time": "2025-05-13T12:09:04.697Z"
   },
   {
    "duration": 1370,
    "start_time": "2025-05-13T12:09:28.546Z"
   },
   {
    "duration": 72,
    "start_time": "2025-05-13T12:09:29.919Z"
   },
   {
    "duration": 14,
    "start_time": "2025-05-13T12:09:29.993Z"
   },
   {
    "duration": 75,
    "start_time": "2025-05-13T12:09:30.009Z"
   },
   {
    "duration": 69,
    "start_time": "2025-05-13T12:09:30.086Z"
   },
   {
    "duration": 46,
    "start_time": "2025-05-13T12:09:30.156Z"
   },
   {
    "duration": 58,
    "start_time": "2025-05-13T12:09:30.203Z"
   },
   {
    "duration": 44,
    "start_time": "2025-05-13T12:09:30.262Z"
   },
   {
    "duration": 214,
    "start_time": "2025-05-13T12:09:30.308Z"
   },
   {
    "duration": 0,
    "start_time": "2025-05-13T12:09:30.525Z"
   },
   {
    "duration": 0,
    "start_time": "2025-05-13T12:09:30.526Z"
   },
   {
    "duration": 0,
    "start_time": "2025-05-13T12:09:30.527Z"
   },
   {
    "duration": 0,
    "start_time": "2025-05-13T12:09:30.528Z"
   },
   {
    "duration": 0,
    "start_time": "2025-05-13T12:09:30.530Z"
   },
   {
    "duration": 0,
    "start_time": "2025-05-13T12:09:30.531Z"
   },
   {
    "duration": 0,
    "start_time": "2025-05-13T12:09:30.532Z"
   },
   {
    "duration": 0,
    "start_time": "2025-05-13T12:09:30.533Z"
   },
   {
    "duration": 0,
    "start_time": "2025-05-13T12:09:30.534Z"
   },
   {
    "duration": 0,
    "start_time": "2025-05-13T12:09:30.535Z"
   },
   {
    "duration": 0,
    "start_time": "2025-05-13T12:09:30.536Z"
   },
   {
    "duration": 0,
    "start_time": "2025-05-13T12:09:30.537Z"
   },
   {
    "duration": 0,
    "start_time": "2025-05-13T12:09:30.538Z"
   },
   {
    "duration": 0,
    "start_time": "2025-05-13T12:09:30.562Z"
   },
   {
    "duration": 0,
    "start_time": "2025-05-13T12:09:30.564Z"
   },
   {
    "duration": 0,
    "start_time": "2025-05-13T12:09:30.565Z"
   },
   {
    "duration": 0,
    "start_time": "2025-05-13T12:09:30.566Z"
   },
   {
    "duration": 0,
    "start_time": "2025-05-13T12:09:30.567Z"
   },
   {
    "duration": 0,
    "start_time": "2025-05-13T12:09:30.568Z"
   },
   {
    "duration": 0,
    "start_time": "2025-05-13T12:09:30.569Z"
   },
   {
    "duration": 0,
    "start_time": "2025-05-13T12:09:30.570Z"
   },
   {
    "duration": 0,
    "start_time": "2025-05-13T12:09:30.571Z"
   },
   {
    "duration": 0,
    "start_time": "2025-05-13T12:09:30.572Z"
   },
   {
    "duration": 0,
    "start_time": "2025-05-13T12:09:30.573Z"
   },
   {
    "duration": 0,
    "start_time": "2025-05-13T12:09:30.574Z"
   },
   {
    "duration": 0,
    "start_time": "2025-05-13T12:09:30.575Z"
   },
   {
    "duration": 354,
    "start_time": "2025-05-13T12:11:10.415Z"
   },
   {
    "duration": 3,
    "start_time": "2025-05-13T12:14:59.593Z"
   },
   {
    "duration": 8,
    "start_time": "2025-05-13T12:15:00.372Z"
   },
   {
    "duration": 1099,
    "start_time": "2025-05-13T12:15:40.317Z"
   },
   {
    "duration": 68,
    "start_time": "2025-05-13T12:15:41.417Z"
   },
   {
    "duration": 11,
    "start_time": "2025-05-13T12:15:41.487Z"
   },
   {
    "duration": 11,
    "start_time": "2025-05-13T12:15:41.500Z"
   },
   {
    "duration": 7,
    "start_time": "2025-05-13T12:15:41.512Z"
   },
   {
    "duration": 4,
    "start_time": "2025-05-13T12:15:41.521Z"
   },
   {
    "duration": 5,
    "start_time": "2025-05-13T12:15:41.526Z"
   },
   {
    "duration": 34,
    "start_time": "2025-05-13T12:15:41.532Z"
   },
   {
    "duration": 360,
    "start_time": "2025-05-13T12:15:41.567Z"
   },
   {
    "duration": 3,
    "start_time": "2025-05-13T12:15:41.930Z"
   },
   {
    "duration": 17,
    "start_time": "2025-05-13T12:15:41.934Z"
   },
   {
    "duration": 1364,
    "start_time": "2025-05-13T12:15:41.952Z"
   },
   {
    "duration": 8,
    "start_time": "2025-05-13T12:15:43.317Z"
   },
   {
    "duration": 12,
    "start_time": "2025-05-13T12:15:43.326Z"
   },
   {
    "duration": 24,
    "start_time": "2025-05-13T12:15:43.340Z"
   },
   {
    "duration": 110,
    "start_time": "2025-05-13T12:15:43.365Z"
   },
   {
    "duration": 6,
    "start_time": "2025-05-13T12:15:43.477Z"
   },
   {
    "duration": 21,
    "start_time": "2025-05-13T12:15:43.485Z"
   },
   {
    "duration": 5,
    "start_time": "2025-05-13T12:15:43.508Z"
   },
   {
    "duration": 16,
    "start_time": "2025-05-13T12:15:43.515Z"
   },
   {
    "duration": 297,
    "start_time": "2025-05-13T12:15:43.533Z"
   },
   {
    "duration": 334,
    "start_time": "2025-05-13T12:15:43.832Z"
   },
   {
    "duration": 319,
    "start_time": "2025-05-13T12:15:44.167Z"
   },
   {
    "duration": 4,
    "start_time": "2025-05-13T12:15:44.487Z"
   },
   {
    "duration": 11,
    "start_time": "2025-05-13T12:15:44.492Z"
   },
   {
    "duration": 9,
    "start_time": "2025-05-13T12:15:44.504Z"
   },
   {
    "duration": 142,
    "start_time": "2025-05-13T12:15:44.514Z"
   },
   {
    "duration": 4,
    "start_time": "2025-05-13T12:15:44.663Z"
   },
   {
    "duration": 79,
    "start_time": "2025-05-13T12:15:44.669Z"
   },
   {
    "duration": 60,
    "start_time": "2025-05-13T12:15:44.749Z"
   },
   {
    "duration": 69,
    "start_time": "2025-05-13T12:15:44.810Z"
   },
   {
    "duration": 89,
    "start_time": "2025-05-13T12:15:44.880Z"
   },
   {
    "duration": 32,
    "start_time": "2025-05-13T12:15:44.971Z"
   },
   {
    "duration": 36,
    "start_time": "2025-05-13T12:15:45.004Z"
   },
   {
    "duration": 15,
    "start_time": "2025-05-13T12:15:45.062Z"
   },
   {
    "duration": 63,
    "start_time": "2025-05-13T12:25:52.311Z"
   },
   {
    "duration": 1130,
    "start_time": "2025-05-13T12:28:21.842Z"
   },
   {
    "duration": 144,
    "start_time": "2025-05-13T12:28:22.973Z"
   },
   {
    "duration": 11,
    "start_time": "2025-05-13T12:28:23.119Z"
   },
   {
    "duration": 14,
    "start_time": "2025-05-13T12:28:23.132Z"
   },
   {
    "duration": 5,
    "start_time": "2025-05-13T12:28:23.148Z"
   },
   {
    "duration": 10,
    "start_time": "2025-05-13T12:28:23.155Z"
   },
   {
    "duration": 19,
    "start_time": "2025-05-13T12:28:23.167Z"
   },
   {
    "duration": 17,
    "start_time": "2025-05-13T12:28:23.188Z"
   },
   {
    "duration": 361,
    "start_time": "2025-05-13T12:28:23.206Z"
   },
   {
    "duration": 3,
    "start_time": "2025-05-13T12:28:23.569Z"
   },
   {
    "duration": 9,
    "start_time": "2025-05-13T12:28:23.574Z"
   },
   {
    "duration": 1463,
    "start_time": "2025-05-13T12:28:23.585Z"
   },
   {
    "duration": 13,
    "start_time": "2025-05-13T12:28:25.050Z"
   },
   {
    "duration": 14,
    "start_time": "2025-05-13T12:28:25.066Z"
   },
   {
    "duration": 18,
    "start_time": "2025-05-13T12:28:25.082Z"
   },
   {
    "duration": 117,
    "start_time": "2025-05-13T12:28:25.102Z"
   },
   {
    "duration": 6,
    "start_time": "2025-05-13T12:28:25.221Z"
   },
   {
    "duration": 15,
    "start_time": "2025-05-13T12:28:25.228Z"
   },
   {
    "duration": 5,
    "start_time": "2025-05-13T12:28:25.244Z"
   },
   {
    "duration": 3,
    "start_time": "2025-05-13T12:28:25.262Z"
   },
   {
    "duration": 309,
    "start_time": "2025-05-13T12:28:25.267Z"
   },
   {
    "duration": 334,
    "start_time": "2025-05-13T12:28:25.577Z"
   },
   {
    "duration": 304,
    "start_time": "2025-05-13T12:28:25.913Z"
   },
   {
    "duration": 4,
    "start_time": "2025-05-13T12:28:26.219Z"
   },
   {
    "duration": 21,
    "start_time": "2025-05-13T12:28:26.225Z"
   },
   {
    "duration": 16,
    "start_time": "2025-05-13T12:28:26.247Z"
   },
   {
    "duration": 123,
    "start_time": "2025-05-13T12:28:26.264Z"
   },
   {
    "duration": 5,
    "start_time": "2025-05-13T12:28:26.388Z"
   },
   {
    "duration": 41,
    "start_time": "2025-05-13T12:28:26.395Z"
   },
   {
    "duration": 36,
    "start_time": "2025-05-13T12:28:26.437Z"
   },
   {
    "duration": 73,
    "start_time": "2025-05-13T12:28:26.475Z"
   },
   {
    "duration": 95,
    "start_time": "2025-05-13T12:28:26.549Z"
   },
   {
    "duration": 45,
    "start_time": "2025-05-13T12:28:26.646Z"
   },
   {
    "duration": 34,
    "start_time": "2025-05-13T12:28:26.693Z"
   },
   {
    "duration": 66,
    "start_time": "2025-05-13T12:28:26.728Z"
   }
  ],
  "colab": {
   "provenance": [],
   "toc_visible": true
  },
  "kernelspec": {
   "display_name": "Python 3 (ipykernel)",
   "language": "python",
   "name": "python3"
  },
  "language_info": {
   "codemirror_mode": {
    "name": "ipython",
    "version": 3
   },
   "file_extension": ".py",
   "mimetype": "text/x-python",
   "name": "python",
   "nbconvert_exporter": "python",
   "pygments_lexer": "ipython3",
   "version": "3.12.7"
  },
  "toc": {
   "base_numbering": 1,
   "nav_menu": {},
   "number_sections": true,
   "sideBar": true,
   "skip_h1_title": true,
   "title_cell": "Table of Contents",
   "title_sidebar": "Contents",
   "toc_cell": false,
   "toc_position": {
    "height": "calc(100% - 180px)",
    "left": "10px",
    "top": "150px",
    "width": "167px"
   },
   "toc_section_display": true,
   "toc_window_display": true
  }
 },
 "nbformat": 4,
 "nbformat_minor": 5
}
