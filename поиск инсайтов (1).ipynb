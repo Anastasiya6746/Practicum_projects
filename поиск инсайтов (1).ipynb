{
 "cells": [
  {
   "cell_type": "markdown",
   "id": "179b9789",
   "metadata": {},
   "source": [
    "<div style=\"background:#e5e5e5; color:#000; padding:10px\">\n",
    "\n",
    "Привет еще раз!\\\n",
    "Все замечания устранены, проект принят!\n",
    "    \n",
    "Рекомендую почитать статью по выбору метода сегментации,  даже по нашим данным можно попробовать разные методы: https://vaael.ru/ru/article/view?id=1596\n",
    "\n",
    "\n",
    "</div>"
   ]
  },
  {
   "cell_type": "markdown",
   "id": "46371d03",
   "metadata": {},
   "source": [
    "<div style=\"border:solid black 2px; padding: 20px\">\n",
    "Анастасия, привет!\n",
    "\n",
    "Меня зовут Сергей, и я буду делать ревью твоего проекта. Давай будем общаться на «ты». Но если тебе комфортнее на «вы», обязательно сообщи мне об этом. Моя основная цель - не указать тебе на совершенные тобой ошибки, а поделиться своим опытом и помочь тебе стать аналитиком данных.\n",
    "    \n",
    "    \n",
    "Свои комментарии я буду выделять следующим образом:\n",
    "<div class=\"alert alert-danger\">\n",
    "    \n",
    "  <b>Комментарий ревьюера</b>\n",
    "    \n",
    "  ❌ Так выделено то, что необходимо исправить, прежде чем я смогу принять твой проект.\n",
    "</div>\n",
    "    \n",
    "    \n",
    "<div class=\"alert alert-warning\">\n",
    "    \n",
    "  <b>Комментарий ревьюера</b>\n",
    "    \n",
    "  ⚠️ Так отмечены не обязательные к доработке моменты. Mожешь учесть их при редактировании проекта. На твое усмотрение.\n",
    "</div>\n",
    "    \n",
    "    \n",
    "<div class=\"alert alert-success\">\n",
    "  \n",
    "  <b>Комментарий ревьюера</b>\n",
    "    \n",
    "  ✔️ А так удачные решения и подходы, на которые стоит опираться в будущих проектах.\n",
    "</div>\n",
    "    \n",
    "    \n",
    "<div style=\"border:solid black 2px; padding: 20px\">\n",
    "  \n",
    "    \n",
    "  <b>Чек-лист доработок</b>\n",
    "    \n",
    "  📃 Такой комментарий будет в конце тетрадки. В нем будут еще раз указаны нюансы, требующие обязательного исправления.\n",
    "</div>\n",
    "\n",
    "Предлагаю работать над проектом в форме диалога: если ты <b>что-то меняешь</b> в работе по моим рекомендациям — <b>напиши об этом</b> в ячейке `Markdown` и помечай комментарий каким-то заметным цветом, например так:\n",
    "    \n",
    "    \n",
    "```\n",
    "<div class=\"alert alert-block alert-info\">\n",
    "  \n",
    "  <b>Комментарий cтудента</b>\n",
    "    \n",
    "  Текст комментария.\n",
    "</div>\n",
    "```\n",
    "    \n",
    "<div class=\"alert alert-block alert-info\">\n",
    "  \n",
    "  <b>Комментарий cтудента</b>\n",
    "    \n",
    "  Текст комментария.\n",
    "</div>\n",
    "    \n",
    "Пожалуйста, <b>не перемещай, не изменяй и не удаляй мои комментарии</b>. Такой формат работы поможет выполнить повторную проверку твоего проекта оперативнее.\n",
    "\n",
    "\n",
    "</div>"
   ]
  },
  {
   "cell_type": "markdown",
   "id": "a3d64dac",
   "metadata": {
    "id": "a3d64dac"
   },
   "source": [
    "# Поиска инсайтов и точек роста\n",
    "\n",
    "С данными сервиса доставки еды «Всё.из.кафе» вы уже работали в одном из проектов базового курса. Тогда вы описывали ключевые метрики продукта — количество пользователей, заказов и выручку.\n",
    "\n",
    "Однако конкуренты сервиса не дремлют, и руководство ждёт от продукта роста. Найти инсайты, которые позволят сервису повысить показатель удержания пользователей и улучшить взаимодействие с партнёрами, поручено продуктовому аналитику, то есть вам.\n",
    "\n",
    "Вам необходимо помочь бизнесу ответить на следующие вопросы:\n",
    "- Как ведут себя пользователи? Как наиболее эффективно выстроить работу с ними, чтобы они продолжали пользоваться продуктом?\n",
    "- Какой путь проходят пользователи в сервисе? Где «проваливаются»?\n",
    "- Как улучшить взаимодействие с партнёрами-ресторанами?\n",
    "\n",
    "### Задачи \n",
    "\n",
    "В рамках данного проекта вы проведёте комплексный анализ данных:\n",
    "- изучите пользовательский путь и проанализируете конверсии через воронки;\n",
    "- сегментируете пользователей с помощью RFM-модели для оценки лояльности и поведения клиентов;\n",
    "- кластеризуете рестораны методом K-Means, чтобы выделить группы с разными моделями работы и разработать персонализированные маркетинговые стратегии.\n",
    "\n",
    "Такой подход позволит ближе познакомиться с работой сервиса, выявить узкие места и предложить решения для удержания пользователей и повышения эффективности сотрудничества с ресторанами.\n",
    "\n",
    "\n",
    "### Данные\n",
    "\n",
    "Данные включают следующие сведения:\n",
    "      \n",
    "- `visitor_uuid` — идентификатор посетителя. Это идентификатор, который присваивается системой любому новому пользователю вне зависимости от того, зарегистрировался он в продукте или нет.\n",
    "- `user_id` — идентификатор зарегистрированного пользователя. Присваивается посетителю после создания учётной записи: ввода логина, пароля, адреса доставки и контактных данных.\n",
    "- `device_type` — тип платформы, с которой посетитель зашёл в продукт.\n",
    "- `city_id` — город, из которого посетитель зашёл в сервис.\n",
    "- `source` — рекламный источник привлечения посетителя.\n",
    "- `first_date` — дата первого посещения продукта.\n",
    "- `visit_id` — уникальный идентификатор сессии.\n",
    "- `event` — название аналитического события.\n",
    "- `datetime` — дата и время события.\n",
    "- `rest_id` — уникальный идентификатор ресторана (заполняется для заказов, карточек ресторанов и блюд).\n",
    "- `object_id` — уникальный идентификатор блюда (заполняется для заказов и карточек блюд).\n",
    "- `order_id` — уникальный идентификатор заказа.\n",
    "- `revenue` — выручка от заказа (в рублях). Это та сумма, которую пользователь видит при оплате.\n",
    "- `delivery` — стоимость доставки (в рублях).\n",
    "- `commission` — комиссия, которую «Всё.из.кафе» берёт с выручки ресторана, в процентах.\n",
    "\n",
    "    \n",
    "### План проекта\n",
    "- Загрузка данных и их предобработка.\n",
    "- Анализ пользовательского пути новых пользователей.\n",
    "- RFM сегментация.\n",
    "- K-Means кластеризация.\n",
    "- Итоговый вывод и рекомендации."
   ]
  },
  {
   "cell_type": "markdown",
   "id": "d19ffe87",
   "metadata": {},
   "source": [
    "<div class=\"alert alert-success\">\n",
    "  \n",
    "  <b>Комментарий ревьюера</b>\n",
    "    \n",
    "  ✔️ Хорошо, что есть описание и цели проекта.\n",
    "</div>"
   ]
  },
  {
   "cell_type": "markdown",
   "id": "cd31b396",
   "metadata": {
    "id": "cd31b396"
   },
   "source": [
    "## 1. Загрузка данных и их предобработка\n",
    "\n",
    "Загрузите данные и получите первую информацию о них. Проведите необходимую предобработку. Основную информацию о данных и этапы предобработки зафиксируйте в кратком промежуточном выводе."
   ]
  },
  {
   "cell_type": "code",
   "execution_count": 1,
   "id": "95c67de5",
   "metadata": {},
   "outputs": [],
   "source": [
    "import pandas as pd\n",
    "import numpy as np\n",
    "import matplotlib.pyplot as plt\n",
    "import seaborn as sns\n",
    "import numpy as np\n",
    "import matplotlib.colors as mcolors\n",
    "from sklearn.preprocessing import StandardScaler\n",
    "from sklearn.cluster import KMeans"
   ]
  },
  {
   "cell_type": "code",
   "execution_count": 2,
   "id": "c18f9a14",
   "metadata": {},
   "outputs": [],
   "source": [
    "df_insides = pd.read_csv('https://code.s3.yandex.net/datasets/insides_data.csv')"
   ]
  },
  {
   "cell_type": "code",
   "execution_count": 3,
   "id": "35897ad7",
   "metadata": {},
   "outputs": [
    {
     "data": {
      "text/html": [
       "<div>\n",
       "<style scoped>\n",
       "    .dataframe tbody tr th:only-of-type {\n",
       "        vertical-align: middle;\n",
       "    }\n",
       "\n",
       "    .dataframe tbody tr th {\n",
       "        vertical-align: top;\n",
       "    }\n",
       "\n",
       "    .dataframe thead th {\n",
       "        text-align: right;\n",
       "    }\n",
       "</style>\n",
       "<table border=\"1\" class=\"dataframe\">\n",
       "  <thead>\n",
       "    <tr style=\"text-align: right;\">\n",
       "      <th></th>\n",
       "      <th>visitor_uuid</th>\n",
       "      <th>user_id</th>\n",
       "      <th>device_type</th>\n",
       "      <th>city_id</th>\n",
       "      <th>source</th>\n",
       "      <th>first_date</th>\n",
       "      <th>visit_id</th>\n",
       "      <th>event</th>\n",
       "      <th>datetime</th>\n",
       "      <th>rest_id</th>\n",
       "      <th>object_id</th>\n",
       "      <th>order_id</th>\n",
       "      <th>revenue</th>\n",
       "      <th>delivery</th>\n",
       "      <th>commission</th>\n",
       "    </tr>\n",
       "  </thead>\n",
       "  <tbody>\n",
       "    <tr>\n",
       "      <th>0</th>\n",
       "      <td>01b5da38-3022-48ff-87c0-5519247fef1b</td>\n",
       "      <td>567317.0</td>\n",
       "      <td>Desktop</td>\n",
       "      <td>6</td>\n",
       "      <td>Source_B</td>\n",
       "      <td>2021-05-01</td>\n",
       "      <td>171481813</td>\n",
       "      <td>authorization</td>\n",
       "      <td>2021-05-01 16:07:53</td>\n",
       "      <td>NaN</td>\n",
       "      <td>NaN</td>\n",
       "      <td>NaN</td>\n",
       "      <td>NaN</td>\n",
       "      <td>NaN</td>\n",
       "      <td>NaN</td>\n",
       "    </tr>\n",
       "    <tr>\n",
       "      <th>1</th>\n",
       "      <td>01b5da38-3022-48ff-87c0-5519247fef1b</td>\n",
       "      <td>567317.0</td>\n",
       "      <td>Desktop</td>\n",
       "      <td>6</td>\n",
       "      <td>Source_B</td>\n",
       "      <td>2021-05-01</td>\n",
       "      <td>171481813</td>\n",
       "      <td>reg_page</td>\n",
       "      <td>2021-05-01 16:09:16</td>\n",
       "      <td>NaN</td>\n",
       "      <td>NaN</td>\n",
       "      <td>NaN</td>\n",
       "      <td>NaN</td>\n",
       "      <td>NaN</td>\n",
       "      <td>NaN</td>\n",
       "    </tr>\n",
       "    <tr>\n",
       "      <th>2</th>\n",
       "      <td>01b5da38-3022-48ff-87c0-5519247fef1b</td>\n",
       "      <td>567317.0</td>\n",
       "      <td>Desktop</td>\n",
       "      <td>6</td>\n",
       "      <td>Source_B</td>\n",
       "      <td>2021-05-01</td>\n",
       "      <td>171481813</td>\n",
       "      <td>confirm_phone</td>\n",
       "      <td>2021-05-01 16:09:19</td>\n",
       "      <td>NaN</td>\n",
       "      <td>NaN</td>\n",
       "      <td>NaN</td>\n",
       "      <td>NaN</td>\n",
       "      <td>NaN</td>\n",
       "      <td>NaN</td>\n",
       "    </tr>\n",
       "    <tr>\n",
       "      <th>3</th>\n",
       "      <td>01b5da38-3022-48ff-87c0-5519247fef1b</td>\n",
       "      <td>567317.0</td>\n",
       "      <td>Desktop</td>\n",
       "      <td>6</td>\n",
       "      <td>Source_B</td>\n",
       "      <td>2021-05-01</td>\n",
       "      <td>171481813</td>\n",
       "      <td>login</td>\n",
       "      <td>2021-05-01 16:09:23</td>\n",
       "      <td>NaN</td>\n",
       "      <td>NaN</td>\n",
       "      <td>NaN</td>\n",
       "      <td>NaN</td>\n",
       "      <td>NaN</td>\n",
       "      <td>NaN</td>\n",
       "    </tr>\n",
       "    <tr>\n",
       "      <th>4</th>\n",
       "      <td>01b5da38-3022-48ff-87c0-5519247fef1b</td>\n",
       "      <td>567317.0</td>\n",
       "      <td>Desktop</td>\n",
       "      <td>6</td>\n",
       "      <td>Source_B</td>\n",
       "      <td>2021-05-01</td>\n",
       "      <td>171481813</td>\n",
       "      <td>main_page</td>\n",
       "      <td>2021-05-01 16:09:34</td>\n",
       "      <td>2c6095730b514c189ee41c65f03febc3</td>\n",
       "      <td>NaN</td>\n",
       "      <td>NaN</td>\n",
       "      <td>NaN</td>\n",
       "      <td>NaN</td>\n",
       "      <td>NaN</td>\n",
       "    </tr>\n",
       "  </tbody>\n",
       "</table>\n",
       "</div>"
      ],
      "text/plain": [
       "                           visitor_uuid   user_id device_type  city_id  \\\n",
       "0  01b5da38-3022-48ff-87c0-5519247fef1b  567317.0     Desktop        6   \n",
       "1  01b5da38-3022-48ff-87c0-5519247fef1b  567317.0     Desktop        6   \n",
       "2  01b5da38-3022-48ff-87c0-5519247fef1b  567317.0     Desktop        6   \n",
       "3  01b5da38-3022-48ff-87c0-5519247fef1b  567317.0     Desktop        6   \n",
       "4  01b5da38-3022-48ff-87c0-5519247fef1b  567317.0     Desktop        6   \n",
       "\n",
       "     source  first_date   visit_id          event             datetime  \\\n",
       "0  Source_B  2021-05-01  171481813  authorization  2021-05-01 16:07:53   \n",
       "1  Source_B  2021-05-01  171481813       reg_page  2021-05-01 16:09:16   \n",
       "2  Source_B  2021-05-01  171481813  confirm_phone  2021-05-01 16:09:19   \n",
       "3  Source_B  2021-05-01  171481813          login  2021-05-01 16:09:23   \n",
       "4  Source_B  2021-05-01  171481813      main_page  2021-05-01 16:09:34   \n",
       "\n",
       "                            rest_id  object_id  order_id  revenue  delivery  \\\n",
       "0                               NaN        NaN       NaN      NaN       NaN   \n",
       "1                               NaN        NaN       NaN      NaN       NaN   \n",
       "2                               NaN        NaN       NaN      NaN       NaN   \n",
       "3                               NaN        NaN       NaN      NaN       NaN   \n",
       "4  2c6095730b514c189ee41c65f03febc3        NaN       NaN      NaN       NaN   \n",
       "\n",
       "   commission  \n",
       "0         NaN  \n",
       "1         NaN  \n",
       "2         NaN  \n",
       "3         NaN  \n",
       "4         NaN  "
      ]
     },
     "execution_count": 3,
     "metadata": {},
     "output_type": "execute_result"
    }
   ],
   "source": [
    "df_insides.head(5)"
   ]
  },
  {
   "cell_type": "code",
   "execution_count": 4,
   "id": "6a60636f",
   "metadata": {},
   "outputs": [
    {
     "name": "stdout",
     "output_type": "stream",
     "text": [
      "<class 'pandas.core.frame.DataFrame'>\n",
      "RangeIndex: 205510 entries, 0 to 205509\n",
      "Data columns (total 15 columns):\n",
      " #   Column        Non-Null Count   Dtype  \n",
      "---  ------        --------------   -----  \n",
      " 0   visitor_uuid  205510 non-null  object \n",
      " 1   user_id       205510 non-null  float64\n",
      " 2   device_type   205510 non-null  object \n",
      " 3   city_id       205510 non-null  int64  \n",
      " 4   source        205510 non-null  object \n",
      " 5   first_date    205510 non-null  object \n",
      " 6   visit_id      205510 non-null  int64  \n",
      " 7   event         205510 non-null  object \n",
      " 8   datetime      205510 non-null  object \n",
      " 9   rest_id       166915 non-null  object \n",
      " 10  object_id     21308 non-null   float64\n",
      " 11  order_id      7008 non-null    float64\n",
      " 12  revenue       7008 non-null    float64\n",
      " 13  delivery      7008 non-null    float64\n",
      " 14  commission    21308 non-null   float64\n",
      "dtypes: float64(6), int64(2), object(7)\n",
      "memory usage: 23.5+ MB\n"
     ]
    }
   ],
   "source": [
    "df_insides.info()"
   ]
  },
  {
   "cell_type": "code",
   "execution_count": 5,
   "id": "738c2493",
   "metadata": {},
   "outputs": [
    {
     "data": {
      "text/plain": [
       "0"
      ]
     },
     "execution_count": 5,
     "metadata": {},
     "output_type": "execute_result"
    }
   ],
   "source": [
    "# проверим на дубликаты\n",
    "df_insides.duplicated().sum()"
   ]
  },
  {
   "cell_type": "code",
   "execution_count": 6,
   "id": "f5f6d85b",
   "metadata": {},
   "outputs": [],
   "source": [
    "# преобразуем данные о времени\n",
    "df_insides['datetime'] = pd.to_datetime(df_insides['datetime'])\n",
    "df_insides['first_date'] = pd.to_datetime(df_insides['first_date'])"
   ]
  },
  {
   "cell_type": "code",
   "execution_count": 7,
   "id": "4f93bf54",
   "metadata": {},
   "outputs": [],
   "source": [
    "# преобразуем столбец user_id\n",
    "df_insides['user_id'] = df_insides['user_id'].astype(str).str.replace(r'\\.0', '', regex=True).astype(int)"
   ]
  },
  {
   "cell_type": "code",
   "execution_count": 8,
   "id": "7d6f617e",
   "metadata": {},
   "outputs": [
    {
     "name": "stdout",
     "output_type": "stream",
     "text": [
      "<class 'pandas.core.frame.DataFrame'>\n",
      "RangeIndex: 205510 entries, 0 to 205509\n",
      "Data columns (total 15 columns):\n",
      " #   Column        Non-Null Count   Dtype         \n",
      "---  ------        --------------   -----         \n",
      " 0   visitor_uuid  205510 non-null  object        \n",
      " 1   user_id       205510 non-null  int64         \n",
      " 2   device_type   205510 non-null  object        \n",
      " 3   city_id       205510 non-null  int64         \n",
      " 4   source        205510 non-null  object        \n",
      " 5   first_date    205510 non-null  datetime64[ns]\n",
      " 6   visit_id      205510 non-null  int64         \n",
      " 7   event         205510 non-null  object        \n",
      " 8   datetime      205510 non-null  datetime64[ns]\n",
      " 9   rest_id       166915 non-null  object        \n",
      " 10  object_id     21308 non-null   float64       \n",
      " 11  order_id      7008 non-null    float64       \n",
      " 12  revenue       7008 non-null    float64       \n",
      " 13  delivery      7008 non-null    float64       \n",
      " 14  commission    21308 non-null   float64       \n",
      "dtypes: datetime64[ns](2), float64(5), int64(3), object(5)\n",
      "memory usage: 23.5+ MB\n"
     ]
    }
   ],
   "source": [
    "# проверим результат преобразования\n",
    "df_insides.info()"
   ]
  },
  {
   "cell_type": "markdown",
   "id": "65633bc2",
   "metadata": {},
   "source": [
    "**Вывод:**\n",
    "\n",
    "Датафрейм `df_insides` успешно загружен и подготовлен для дальнейшего анализа. Выполнена проверка наименований столбцов: установлено соответствие snake_case нотации и содержанию информации. Проведена коррекция типов данных, включая приведение `user_id` к типу int64, а столбцов `first_date` и `datetime` к формату datetime. Дубликаты в данных не обнаружены, что гарантирует чистоту и достоверность основы для последующих аналитических процедур. Подготовленный датафрейм полностью готов к реализации поставленных задач.\n"
   ]
  },
  {
   "cell_type": "markdown",
   "id": "45f2d78a",
   "metadata": {},
   "source": [
    "<div class=\"alert alert-warning\">\n",
    "    \n",
    "  <b>Комментарий тимлида</b>\n",
    "    \n",
    "  ⚠️ Данные загружены и проверены на основные ошибки.\n",
    "\n",
    "Можно еще проверить данные на неявные дубликаты (например, по полям `'user_id','datetime','event'`).\n",
    "\n",
    "Поскольку мы будем считать воронку по уникальным пользователям, а также сегментировать пользователей и рестораны, то дополнительно стоит оценить объемы данных (количество уникальных пользователей, количество ресторанов и тп.) Конечно так или иначе эти данные мы увидем уже при их непосредственном анализе, но проверить их можно перед основным анализом. \n",
    "    \n",
    "Также можно проверить период, за которой у нас представлены данные.\n",
    "    \n",
    "</div>"
   ]
  },
  {
   "cell_type": "markdown",
   "id": "e7c9d578",
   "metadata": {
    "id": "e7c9d578"
   },
   "source": [
    "---\n",
    "\n",
    "## 2. Анализ пользовательского пути\n",
    "\n",
    "Маркетологи стали замечать следующее: деньги на рекламу по-прежнему тратятся, а заказов стало меньше. И это несмотря на то, что приложение скачивается и устанавливается так же активно, как раньше. Складывается ощущение, что пользователи где-то теряются. При этом доля заказов с десктопной версии приложения увеличилась по сравнению с мобильной.\n",
    "\n",
    "Разработчики говорят, что последние обновления мобильной версии приложения не должны были повлиять на каталог блюд или его выбор для заказа и последующей оплаты доставки, так как изменения касались нового алгоритма подтверждения мобильного телефона и адреса доставки.\n",
    "\n",
    "С помощью воронок изучите общий пользовательский путь новых пользователей, затем сравните поведение пользователей мобильной и десктопной версий приложения. "
   ]
  },
  {
   "cell_type": "markdown",
   "id": "35acd0f6",
   "metadata": {},
   "source": [
    "**Задача 2.1.** Постройте и визуализируйте общую воронку (по всем данным), затем опишите пользовательский путь: какие этапы представлены, какова их последовательность, на каком (или на каких) этапах теряется большая часть новых пользователей.\n",
    "    \n",
    "При решении постройте две воронки: \n",
    "- **классическую воронку** — доля от первого шага в процентах\n",
    "- **step-by-step** — с конверсией от предыдущего этапа.\n",
    "\n",
    "Предполагается, что пользователь проходит такой путь к оформлению доставки блюда из ресторанов:\n",
    "1. `authorization` — авторизация пользователя — запуск приложения.\n",
    "2. `main_page` — загрузка основной страницы приложения.\n",
    "2. `reg_page` — переход на страницу регистрации.\n",
    "2. `confirm_phone` — подтверждение телефона (окончание процесса регистрации).\n",
    "2. `object_page` — страница блюда.\n",
    "2. `add_to_cart` — переход в корзину.\n",
    "2. `order` — оформление заказа.    "
   ]
  },
  {
   "cell_type": "code",
   "execution_count": 9,
   "id": "f3d8bcd0",
   "metadata": {},
   "outputs": [
    {
     "name": "stdout",
     "output_type": "stream",
     "text": [
      "            step  users  conversion_from_first_%  conversion_from_previous_%\n",
      "0  authorization   7410                    100.0                         NaN\n",
      "1      main_page   6537                     88.2                        88.2\n",
      "2       reg_page   5417                     73.1                        82.9\n",
      "3  confirm_phone   4190                     56.5                        77.3\n",
      "4    object_page   3453                     46.6                        82.4\n",
      "5    add_to_cart   2899                     39.1                        84.0\n",
      "6          order   2416                     32.6                        83.3\n"
     ]
    }
   ],
   "source": [
    "# Задаем порядок шагов в воронке\n",
    "funnel_steps = ['authorization','main_page','reg_page','confirm_phone','object_page','add_to_cart','order']\n",
    "\n",
    "# Фильтруем датасет оставляя только нужные шаги воронки\n",
    "funnel_df_steps = df_insides[df_insides['event'].isin(funnel_steps)]\n",
    "# Считаем число уникальных пользователей на каждом шаге\n",
    "funnel_counts = funnel_df_steps.groupby('event')['user_id'].nunique().reindex(funnel_steps)\n",
    "\n",
    "# Собираем таблицу воронки\n",
    "funnel_df = pd.DataFrame({\n",
    "   'step':funnel_counts.index,\n",
    "   'users':funnel_counts.values\n",
    "})\n",
    "\n",
    "# Добавляем конверсии и округляем до 1 знака после запятой\n",
    "funnel_df['conversion_from_first_%'] = round((funnel_df['users'] / funnel_df['users'].iloc[0]) * 100, 1)\n",
    "funnel_df['conversion_from_previous_%'] =  round((funnel_df['users'] / funnel_df['users'].shift(1)) * 100, 1)\n",
    "\n",
    "print(funnel_df.head(7))"
   ]
  },
  {
   "cell_type": "code",
   "execution_count": 10,
   "id": "59d27703",
   "metadata": {},
   "outputs": [
    {
     "data": {
      "image/png": "[encoded data removed]",
      "text/plain": [
       "<Figure size 720x432 with 1 Axes>"
      ]
     },
     "metadata": {
      "needs_background": "light"
     },
     "output_type": "display_data"
    }
   ],
   "source": [
    "# Визуализируем данные, кроме первого шага, чтобы не выводить NaN\n",
    "plt.figure(figsize=(10, 6))\n",
    "\n",
    "# Получаем значения конверсии от предыдущего шага, начиная со второго этапа\n",
    "conversion_values = funnel_df['conversion_from_first_%'][1:]\n",
    "\n",
    "# Получаем названия этапов воронки, начиная со второго\n",
    "step_labels = funnel_df['step'][1:]\n",
    "\n",
    "# Строим barplot\n",
    "plt.bar(step_labels, conversion_values)\n",
    "plt.title('Step-by-step воронка: конверсия от первого шага')\n",
    "plt.ylabel('Конверсия от предыдущего шага (%)')\n",
    "plt.xlabel('Этапы воронки')\n",
    "plt.show()"
   ]
  },
  {
   "cell_type": "markdown",
   "id": "1b62d588",
   "metadata": {},
   "source": [
    "<div class=\"alert alert-warning\">\n",
    "    \n",
    "  <b>Комментарий ревьюера</b>\n",
    "    \n",
    "  ⚠️ На графиках стоит подписать столбцы числовыми значениями в %\n",
    "</div>"
   ]
  },
  {
   "cell_type": "code",
   "execution_count": 11,
   "id": "03b92fce",
   "metadata": {},
   "outputs": [
    {
     "data": {
      "image/png": "[encoded data removed]",
      "text/plain": [
       "<Figure size 720x432 with 1 Axes>"
      ]
     },
     "metadata": {
      "needs_background": "light"
     },
     "output_type": "display_data"
    }
   ],
   "source": [
    "# Визуализируем данные, кроме первого шага, чтобы не выводить NaN\n",
    "plt.figure(figsize=(10, 6))\n",
    "\n",
    "# Получаем значения конверсии от предыдущего шага, начиная со второго этапа\n",
    "conversion_values = funnel_df['conversion_from_previous_%'][1:]\n",
    "\n",
    "# Получаем названия этапов воронки, начиная со второго\n",
    "step_labels = funnel_df['step'][1:]\n",
    "\n",
    "# Строим barplot\n",
    "plt.bar(step_labels, conversion_values)\n",
    "plt.title('Step-by-step воронка: конверсия от предыдущего шага')\n",
    "plt.ylabel('Конверсия от предыдущего шага (%)')\n",
    "plt.xlabel('Этапы воронки')\n",
    "plt.show()"
   ]
  },
  {
   "cell_type": "markdown",
   "id": "ca50e863",
   "metadata": {},
   "source": [
    "**Вывод:**\n",
    "    \n",
    "- Вывод по классической воронке (Conversion from First):\n",
    "\n",
    "Наблюдается закономерное снижение количества пользователей по мере продвижения по этапам воронки, что является типичным для процесса конверсии.\n",
    "Значительная часть пользователей “теряется” в начале пути: от авторизации до главной страницы доходит 88.2% пользователей, а до страницы регистрации - 73.1%.\n",
    "До этапа подтверждения телефона доходит чуть больше половины (56.5%) от начального количества пользователей. Это может указывать на проблему с юзабилити или необходимостью подтверждения.\n",
    "До завершения заказа доходят только 32.6% пользователей от первоначального количества. Это говорит о том, что необходимо оптимизировать воронку на каждом этапе для повышения общей конверсии.\n",
    "\n",
    "- Вывод по step-by-step воронке (Conversion from Previous):\n",
    "\n",
    "Конверсия между последовательными этапами в целом довольно высокая (выше 77%). Это говорит о том, что пользователи, которые доходят до определенного этапа, с большой вероятностью перейдут на следующий.\n",
    "Самый большой отток пользователей происходит на этапе перехода от главной страницы к странице регистрации (82.9%) и от страницы регистрации к подтверждению телефона (77.3%).\n",
    "Остальные этапы показывают более стабильную конверсию: от страницы объекта к добавлению в корзину (84.0%) и от добавления в корзину к оформлению заказа (83.3%).\n",
    "\n",
    "- Общие рекомендации:\n",
    "\n",
    "Этап подтверждения телефона: Требует особого внимания. Низкая конверсия с предыдущего шага (77.3%) указывает на наличие проблем, которые необходимо выявить и устранить.\n",
    "Этап регистрации: Также требует оптимизации. Конверсия 82.9% с главной страницы может быть улучшена, если сделать процесс регистрации более простым и понятным."
   ]
  },
  {
   "cell_type": "markdown",
   "id": "aa65f6e1",
   "metadata": {},
   "source": [
    "<div class=\"alert alert-success\">\n",
    "  \n",
    "  <b>Комментарий ревьюера</b>\n",
    "    \n",
    "  ✔️ Воронки построили, стоит отметить, что конверсия в целевое действие у нас всего около 30% . \n",
    "    \n",
    "Также верно найден основной этап, на котором идет просадка пользователей.\n",
    "\n",
    "</div>  "
   ]
  },
  {
   "cell_type": "markdown",
   "id": "2544fa1b",
   "metadata": {
    "id": "2544fa1b"
   },
   "source": [
    "**Задача 2.2.** Сравните пользовательский путь в двух приложениях: в мобильной версии и десктопной. Для этого постройте и визуализируйте **две воронки step-by-step**: для новых пользователей **мобильной** и **десктопной** версий приложения.\n",
    "    \n",
    "Сравните результаты между собой и проанализируйте, есть ли различия в пользовательском пути для различных приложений. Результаты сравнения опишите в небольшом **промежуточном выводе**."
   ]
  },
  {
   "cell_type": "code",
   "execution_count": 12,
   "id": "fdd93c9b",
   "metadata": {},
   "outputs": [
    {
     "name": "stdout",
     "output_type": "stream",
     "text": [
      "            step  mobile  desktop\n",
      "0      main_page    83.3     91.1\n",
      "1       reg_page    88.4     79.4\n",
      "2  confirm_phone    55.1     90.2\n",
      "3    object_page    72.5     85.8\n",
      "4    add_to_cart    86.7     82.9\n",
      "5          order    85.8     82.3\n"
     ]
    }
   ],
   "source": [
    "funnel_steps = ['authorization','main_page','reg_page','confirm_phone','object_page','add_to_cart','order']\n",
    "# Разделим данные по платформам\n",
    "mobile_df = df_insides[df_insides['device_type'] == 'Mobile']\n",
    "desktop_df = df_insides[df_insides['device_type'] == 'Desktop']\n",
    "\n",
    "# Фильтруем датасет, оставляя только нужные шаги воронки для desktop\n",
    "counts_desktop = desktop_df[desktop_df['event'].isin(funnel_steps)]\n",
    "# Считаем количество клиентов на каждом шаге\n",
    "counts_desktop_agg = counts_desktop.groupby('event')['user_id'].nunique().reindex(funnel_steps)\n",
    "# Считаем конверсию для desktop и округляем значение до 1 знака после запятой\n",
    "desktop_funnel =(counts_desktop_agg / counts_desktop_agg.shift(1) * 100).round(1) \n",
    "\n",
    "# Повторяем шаги для mobile\n",
    "counts_mobile = mobile_df[mobile_df['event'].isin(funnel_steps)]\n",
    "counts_mobile_agg =counts_mobile.groupby('event')['user_id'].nunique().reindex(funnel_steps) \n",
    "mobile_funnel = (counts_mobile_agg / counts_mobile_agg.shift(1) * 100).round(1)\n",
    "\n",
    "# Соберём через словарь данные в датафрейм и исключим первый шаг для каждого элемента\n",
    "funnel_compare = pd.DataFrame({\n",
    "   'step':funnel_steps[1:], \n",
    "   'mobile':mobile_funnel[1:].values,\n",
    "   'desktop':desktop_funnel[1:].values \n",
    "})\n",
    "\n",
    "print(funnel_compare.head(7))"
   ]
  },
  {
   "cell_type": "code",
   "execution_count": 13,
   "id": "a9b4ad9f",
   "metadata": {},
   "outputs": [
    {
     "data": {
      "image/png": "[encoded data removed]",
      "text/plain": [
       "<Figure size 1152x432 with 2 Axes>"
      ]
     },
     "metadata": {
      "needs_background": "light"
     },
     "output_type": "display_data"
    }
   ],
   "source": [
    "# Визуализация\n",
    "\n",
    "fig, axes = plt.subplots(1, 2, figsize=(16, 6), sharey=True)\n",
    "\n",
    "# Мобильная версия\n",
    "axes[0].bar(funnel_compare['step'], funnel_compare['mobile'])\n",
    "axes[0].set_title('Mobile Conversion Funnel')\n",
    "axes[0].set_xlabel('Step')\n",
    "axes[0].set_ylabel('Conversion (%)')\n",
    "axes[0].tick_params(axis='x', rotation=45)\n",
    "\n",
    "# Десктопная версия\n",
    "axes[1].bar(funnel_compare['step'], funnel_compare['desktop'])\n",
    "axes[1].set_title('Desktop Conversion Funnel')\n",
    "axes[1].set_xlabel('Step')\n",
    "axes[1].tick_params(axis='x', rotation=45)\n",
    "\n",
    "\n",
    "plt.tight_layout() \n",
    "plt.show()"
   ]
  },
  {
   "cell_type": "markdown",
   "id": "0269cf15",
   "metadata": {},
   "source": [
    "**Вывод:** \n",
    "\n",
    "- Главная страница: Десктопная версия имеет более высокий процент перехода на главную страницу (91.1%) по сравнению с мобильной (83.3%). Это может свидетельствовать о более эффективном привлечении пользователей на десктопную версию, либо о лучшей узнаваемости бренда на десктопе.\n",
    "- Регистрация: Мобильная версия показывает более высокую конверсию на этапе регистрации (88.4%) по сравнению с десктопной (79.4%). Возможно, процесс регистрации в мобильном приложении более удобен или лучше оптимизирован.\n",
    "- Подтверждение телефона: Наблюдается существенное различие. В десктопной версии процент подтверждения телефона значительно выше (90.2%) по сравнению с мобильной (55.1%). Это явное “узкое место” в мобильной воронке.\n",
    "- Страница объекта: Десктопная версия показывает более высокую конверсию при переходе на страницу объекта (85.8%) по сравнению с мобильной (72.5%).\n",
    "- Добавление в корзину и оформление заказа: Конверсия на этапах добавления в корзину и оформления заказа примерно одинакова для обеих платформ.\n",
    "\n",
    "\n",
    "Пользовательский путь в десктопной версии приложения, в целом, выглядит более эффективным, особенно на этапах попадания на главную страницу, подтверждения телефона и перехода на страницу объекта. Мобильная версия демонстрирует преимущество только на этапе регистрации. Ключевая проблема мобильной версии - низкая конверсия на этапе подтверждения телефона, которая значительно снижает общую эффективность воронки. Необходимо проанализировать причины этого и принять меры по оптимизации процесса подтверждения телефона в мобильном приложении. Улучшение этого этапа значительно повысит конверсию в мобильной версии. Стоит также обратить внимание на конверсию на страницу объекта в мобильной версии, так как она тоже значительно ниже десктопной."
   ]
  },
  {
   "cell_type": "markdown",
   "id": "ef205203",
   "metadata": {},
   "source": [
    "<div class=\"alert alert-success\">\n",
    "  \n",
    "  <b>Комментарий ревьюера</b>\n",
    "    \n",
    "  ✔️ Верно, для мобильной версии есть снижение на шаге подтверждения телефона и возможные технические проблемы с этим. Но вот дальше, особенно на стадии оформления заказа, значения лучше. Т.е. есть зона роста для десктопной версии приложения.\n",
    "\n",
    "</div> "
   ]
  },
  {
   "cell_type": "markdown",
   "id": "688346cf",
   "metadata": {
    "id": "688346cf"
   },
   "source": [
    "---\n",
    "\n",
    "## 3. RFM сегментация\n",
    "\n",
    "У сервиса доставки еды не такое высокое удержание пользователей: в первый день возвращается около 14% посетителей, а на седьмой день и того меньше — около 4–5%. Маркетологи хотят запустить несколько рекламных кампаний, направленных на удержание платящих пользователей и их возврат в сервис, если они давно не совершали заказы.\n",
    "\n",
    "Для этого необходимо сегментировать пользователей на различные поведенческие сегменты с помощью RFM-сегментации по трём показателям: \n",
    "- **давность** (Recency), \n",
    "- **частота покупок** (Frequency), \n",
    "- **сумма трат** (Monetary).\n",
    "\n",
    "В качестве даты анализа установите **03 июля 2021 года**."
   ]
  },
  {
   "cell_type": "markdown",
   "id": "5f4a65c2",
   "metadata": {},
   "source": [
    "**Задача 3.1.** Для каждого покупателя посчитайте:\n",
    "- количество дней с последней покупки — давность (R);\n",
    "- частоту покупок (F);\n",
    "- стоимость всех покупок — сумму трат (M).\n",
    "    \n",
    "В качестве даты анализа установите **03 июля 2021 года**. После этого постройте три гистограммы и проанализируйте их."
   ]
  },
  {
   "cell_type": "code",
   "execution_count": 14,
   "id": "f3604a9f",
   "metadata": {},
   "outputs": [
    {
     "data": {
      "text/html": [
       "<div>\n",
       "<style scoped>\n",
       "    .dataframe tbody tr th:only-of-type {\n",
       "        vertical-align: middle;\n",
       "    }\n",
       "\n",
       "    .dataframe tbody tr th {\n",
       "        vertical-align: top;\n",
       "    }\n",
       "\n",
       "    .dataframe thead th {\n",
       "        text-align: right;\n",
       "    }\n",
       "</style>\n",
       "<table border=\"1\" class=\"dataframe\">\n",
       "  <thead>\n",
       "    <tr style=\"text-align: right;\">\n",
       "      <th></th>\n",
       "      <th>user_id</th>\n",
       "      <th>recency</th>\n",
       "      <th>frequency</th>\n",
       "      <th>monetary_value</th>\n",
       "    </tr>\n",
       "  </thead>\n",
       "  <tbody>\n",
       "    <tr>\n",
       "      <th>0</th>\n",
       "      <td>5506</td>\n",
       "      <td>32</td>\n",
       "      <td>2</td>\n",
       "      <td>3752.00</td>\n",
       "    </tr>\n",
       "    <tr>\n",
       "      <th>1</th>\n",
       "      <td>6291</td>\n",
       "      <td>57</td>\n",
       "      <td>1</td>\n",
       "      <td>1750.00</td>\n",
       "    </tr>\n",
       "    <tr>\n",
       "      <th>2</th>\n",
       "      <td>6820</td>\n",
       "      <td>41</td>\n",
       "      <td>1</td>\n",
       "      <td>1260.14</td>\n",
       "    </tr>\n",
       "    <tr>\n",
       "      <th>3</th>\n",
       "      <td>11062</td>\n",
       "      <td>57</td>\n",
       "      <td>1</td>\n",
       "      <td>3785.60</td>\n",
       "    </tr>\n",
       "    <tr>\n",
       "      <th>4</th>\n",
       "      <td>13254</td>\n",
       "      <td>54</td>\n",
       "      <td>1</td>\n",
       "      <td>553.00</td>\n",
       "    </tr>\n",
       "  </tbody>\n",
       "</table>\n",
       "</div>"
      ],
      "text/plain": [
       "   user_id  recency  frequency  monetary_value\n",
       "0     5506       32          2         3752.00\n",
       "1     6291       57          1         1750.00\n",
       "2     6820       41          1         1260.14\n",
       "3    11062       57          1         3785.60\n",
       "4    13254       54          1          553.00"
      ]
     },
     "execution_count": 14,
     "metadata": {},
     "output_type": "execute_result"
    }
   ],
   "source": [
    "# отфильтруем по событию order\n",
    "df_order = df_insides[df_insides['event'] == 'order'].copy()\n",
    "# Рассчитываем количество дней с покупки до анализа:\n",
    "df_order['order_recency'] = pd.to_datetime('2021-07-03') - df_order['datetime']\n",
    "\n",
    "# Группируем данные для каждого пользователя и рассчитываем данные для RFM-анализа:\n",
    "df_rfm = df_order.groupby('user_id').agg(\n",
    "    # Количество дней с последнего заказа:    \n",
    "    recency = ('order_recency', lambda x: x.min().days),\n",
    "    # Количество заказов за период времени: \n",
    "    frequency = ('order_id', 'count'),\n",
    "    # Сумма стоимости всех заказов: \n",
    "    monetary_value = ('revenue', 'sum')\n",
    ").reset_index()\n",
    "\n",
    "# Проверяем результаты:\n",
    "df_rfm.head(5)"
   ]
  },
  {
   "cell_type": "markdown",
   "id": "2a60a2df",
   "metadata": {},
   "source": [
    "<div class=\"alert alert-success\">\n",
    "  \n",
    "  <b>Комментарий ревьюера</b>\n",
    "    \n",
    "  ✔️ Верно, для анализа нужны только покупки. Это позволит избежать дублирования данных.\n",
    "    \n",
    "</div>\n",
    "<div class=\"alert alert-warning\">\n",
    "    \n",
    "  <b>Комментарий ревьюера</b>\n",
    "    \n",
    "  ⚠️ Стоит еще проверить и отфильтровать возможные ошибки в данных по выручке: выручка с отрицательным значением или пустые значения.\n",
    "</div>"
   ]
  },
  {
   "cell_type": "markdown",
   "id": "d847ed90",
   "metadata": {},
   "source": [
    "Проведём небольшой исследовательский анализ и построим гистограммы значений столбцов recency, frequency, monetary_value. Это поможет определить, какие подходы применить для сегментации.  "
   ]
  },
  {
   "cell_type": "code",
   "execution_count": 15,
   "id": "afffc702",
   "metadata": {},
   "outputs": [
    {
     "data": {
      "image/png": "[encoded data removed]",
      "text/plain": [
       "<Figure size 1080x1080 with 3 Axes>"
      ]
     },
     "metadata": {
      "needs_background": "light"
     },
     "output_type": "display_data"
    }
   ],
   "source": [
    "# Строим три гистограммы\n",
    "fig, axes = plt.subplots(3, 1, figsize=(15, 15))\n",
    "\n",
    "# Давность\n",
    "axes[0].hist(df_rfm['recency'], bins=75)\n",
    "axes[0].set_title('Recency (дни с последней покупки)')\n",
    "axes[0].set_xlabel('Дни')\n",
    "axes[0].set_ylabel('Количество пользователей')\n",
    "\n",
    "# Частота\n",
    "axes[1].hist(df_rfm['frequency'], bins=75)\n",
    "axes[1].set_title('Frequency (число заказов)')\n",
    "axes[1].set_xlabel('Количество заказов')\n",
    "axes[1].set_ylabel('Количество пользователей')\n",
    "\n",
    "# Сумма всех заказов\n",
    "axes[2].hist(df_rfm['monetary_value'], bins=75)\n",
    "axes[2].set_title('Monetary (стоимость заказов)')\n",
    "axes[2].set_xlabel('Стоимость заказов')\n",
    "axes[2].set_ylabel('Количество пользователей')\n",
    "\n",
    "plt.show()\n"
   ]
  },
  {
   "cell_type": "markdown",
   "id": "248f4140",
   "metadata": {},
   "source": [
    "Проанализируем получившиеся графики.\n",
    "\n",
    "- У метрики Recency широкий диапазон значений, распределены почти равномерно. Разделим их на равные интервалы. \n",
    "- График метрики Frequency показывает, что число заказов варьируется в меньшем диапазоне, от 1 до 5, но преобладают пользователи с 1 покупкой. Для сегментации можно применить разбиение на равные интервалы, чтобы получить простой и понятный результат: пользователи с 1 заказом (F-сегмент с небольшим количеством заказов),пользователи с 2 заказами (F-сегмент со средним количеством заказов),пользователи с 3 и более заказами (F-сегмент с большим количеством заказов). \n",
    "- Распределение метрики Monetary также смещено в левую сторону — резко преобладают пользователи с недорогими заказами. На основе анализа гистограммы распределения разделим сегменты по 33 и 66% перцентилям распределения. Это позволит учесть вариативность значений и разделить пользователей на три примерно равных сегмента."
   ]
  },
  {
   "cell_type": "markdown",
   "id": "7e79afa8",
   "metadata": {},
   "source": [
    "<div class=\"alert alert-success\">\n",
    "  \n",
    "  <b>Комментарий ревьюера</b>\n",
    "    \n",
    "  ✔️ Отличное решение подобрать размер корзин, исходя из данных! За этим лучше следить, особенно при работе с дискретными данными.\n",
    "    \n",
    "Кстати, еще можно использовать функцию `np.arange()` из библиотеки numpy - она позволяет делать интервалы с нецелыми значениями, например, интервал для долей - `np.arange(0, 1, 0.1)`\n",
    "   \n",
    "</div>\n",
    "<div class=\"alert alert-warning\">\n",
    "    \n",
    "  <b>Комментарий ревьюера</b>\n",
    "    \n",
    "  ⚠️ При визуцализации можно еще отфильтровать выбросы - длинный хвост по выручке.\n",
    "</div>"
   ]
  },
  {
   "cell_type": "markdown",
   "id": "dad0c7d9",
   "metadata": {
    "id": "dad0c7d9"
   },
   "source": [
    "**Задача 3.2.** Выделите **RFM-сегменты** и изучите распределение пользователей по ним.\n",
    "    \n",
    "Примените следующие подходы к выделению RFM сегментов:\n",
    "- **Recency** — разделите на три равные группы.\n",
    "- **Frequency** —  разделите на три группы: \n",
    "    - пользователи с 1 заказом (F-сегмент с небольшим количеством заказов);\n",
    "    - пользователи с 2 заказами (F-сегмент со средним количеством заказов);\n",
    "    - пользователи с 3 и более заказами (F-сегмент с большим количеством заказов).\n",
    "- **Monetary** — разделите на три группы по 33-му и 66-му перцентилям.\n",
    "    \n",
    "После этого посчитайте количество покупателей в каждом сегменте, сделайте промежуточные выводы и напишите рекомендации."
   ]
  },
  {
   "cell_type": "code",
   "execution_count": 16,
   "id": "5d65e66c",
   "metadata": {},
   "outputs": [
    {
     "data": {
      "text/html": [
       "<div>\n",
       "<style scoped>\n",
       "    .dataframe tbody tr th:only-of-type {\n",
       "        vertical-align: middle;\n",
       "    }\n",
       "\n",
       "    .dataframe tbody tr th {\n",
       "        vertical-align: top;\n",
       "    }\n",
       "\n",
       "    .dataframe thead th {\n",
       "        text-align: right;\n",
       "    }\n",
       "</style>\n",
       "<table border=\"1\" class=\"dataframe\">\n",
       "  <thead>\n",
       "    <tr style=\"text-align: right;\">\n",
       "      <th></th>\n",
       "      <th>user_id</th>\n",
       "      <th>recency</th>\n",
       "      <th>frequency</th>\n",
       "      <th>monetary_value</th>\n",
       "      <th>r</th>\n",
       "      <th>f</th>\n",
       "      <th>m</th>\n",
       "      <th>rfm_group</th>\n",
       "    </tr>\n",
       "  </thead>\n",
       "  <tbody>\n",
       "    <tr>\n",
       "      <th>0</th>\n",
       "      <td>5506</td>\n",
       "      <td>32</td>\n",
       "      <td>2</td>\n",
       "      <td>3752.00</td>\n",
       "      <td>2</td>\n",
       "      <td>2</td>\n",
       "      <td>3</td>\n",
       "      <td>223</td>\n",
       "    </tr>\n",
       "    <tr>\n",
       "      <th>1</th>\n",
       "      <td>6291</td>\n",
       "      <td>57</td>\n",
       "      <td>1</td>\n",
       "      <td>1750.00</td>\n",
       "      <td>1</td>\n",
       "      <td>1</td>\n",
       "      <td>1</td>\n",
       "      <td>111</td>\n",
       "    </tr>\n",
       "    <tr>\n",
       "      <th>2</th>\n",
       "      <td>6820</td>\n",
       "      <td>41</td>\n",
       "      <td>1</td>\n",
       "      <td>1260.14</td>\n",
       "      <td>2</td>\n",
       "      <td>1</td>\n",
       "      <td>1</td>\n",
       "      <td>211</td>\n",
       "    </tr>\n",
       "  </tbody>\n",
       "</table>\n",
       "</div>"
      ],
      "text/plain": [
       "   user_id  recency  frequency  monetary_value  r  f  m rfm_group\n",
       "0     5506       32          2         3752.00  2  2  3       223\n",
       "1     6291       57          1         1750.00  1  1  1       111\n",
       "2     6820       41          1         1260.14  2  1  1       211"
      ]
     },
     "execution_count": 16,
     "metadata": {},
     "output_type": "execute_result"
    }
   ],
   "source": [
    "# Определяем группу пользователя по количеству дней с момента последнего заказа: \n",
    "df_rfm['r'] = pd.cut(df_rfm['recency'], bins=3, labels=[3,2,1])\n",
    "\n",
    "# Определяем группу пользователя по количеству заказов: \n",
    "df_rfm['f'] = pd.cut(df_rfm['frequency'], [0, 1, 2, float('inf')], labels=[1,2,3], include_lowest=True)\n",
    "\n",
    "# Определяем группу пользователя по сумме стоимости заказов: \n",
    "df_rfm['m'] = pd.qcut(df_rfm['monetary_value'], q=3, labels=[1,2,3])\n",
    "\n",
    "# Находим групповой RFM-индекс:\n",
    "df_rfm[['r','f','m']] = df_rfm[['r','f','m']].astype('str')\n",
    "df_rfm['rfm_group'] = df_rfm['r'] + df_rfm['f'] + df_rfm['m']\n",
    "\n",
    "# Выводим первые строки таблицы:\n",
    "df_rfm.head(3)"
   ]
  },
  {
   "cell_type": "code",
   "execution_count": 17,
   "id": "6928923b",
   "metadata": {},
   "outputs": [
    {
     "name": "stdout",
     "output_type": "stream",
     "text": [
      "   rfm_group  user_id  user_share\n",
      "8        211      281    0.116308\n",
      "0        111      247    0.102235\n",
      "17       311      246    0.101821\n",
      "9        212      237    0.098096\n",
      "1        112      216    0.089404\n",
      "18       312      186    0.076987\n",
      "10       213      122    0.050497\n",
      "13       223      115    0.047599\n",
      "16       233      102    0.042219\n",
      "19       313       99    0.040977\n",
      "22       323       88    0.036424\n",
      "5        123       85    0.035182\n",
      "2        113       75    0.031043\n",
      "24       333       68    0.028146\n",
      "12       222       59    0.024421\n",
      "21       322       48    0.019868\n",
      "4        122       45    0.018626\n",
      "7        133       41    0.016970\n",
      "3        121       16    0.006623\n",
      "15       232        9    0.003725\n",
      "20       321        9    0.003725\n",
      "11       221        8    0.003311\n",
      "6        132        8    0.003311\n",
      "23       332        5    0.002070\n",
      "14       231        1    0.000414\n"
     ]
    }
   ],
   "source": [
    "# Сгруппируем данные по сегментам и посчитайте их размер:\n",
    "rfm_group = df_rfm.groupby('rfm_group').agg({'user_id':'nunique'}).reset_index()\n",
    "\n",
    "# Посчитаем долю пользователей в каждом сегменте:\n",
    "rfm_group['user_share'] = rfm_group['user_id'] / rfm_group['user_id'].sum()\n",
    "\n",
    "# Выведем результат:\n",
    "print(rfm_group.sort_values(by='user_id', ascending=False))"
   ]
  },
  {
   "cell_type": "markdown",
   "id": "ded9dd0a",
   "metadata": {},
   "source": [
    "**Вывод:**\n",
    "\n",
    "Самые большие сегменты по числу пользователей:\n",
    "\n",
    "- Группа 211 (не часто совершаю заказы, низкая активность, низкие траты): 281 пользователей (11.63% от общей базы). Это значительная часть аудитории.\n",
    "Описание: Клиенты, которые давно не делали заказы, заказывают редко и тратят мало. Это клиенты, которых нужно “вернуть”.\n",
    "Персонализированные предложения: Отправьте этим пользователям специальные предложения, скидки, промокоды или бесплатную доставку, чтобы стимулировать их сделать заказ. Предложение должно быть достаточно привлекательным, чтобы заинтересовать их вернуться.\n",
    "- Группа 111 (редко совершают заказы, низкая активность, низкие траты): 247 пользователей (10.22% от общей базы). Скорее всего это новые или нечастые клиенты.\n",
    "Клиенты, которые недавно зарегистрировались или сделали только один заказ, заказывают редко и тратят мало. Важно превратить их в постоянных клиентов.\n",
    "Рекомендации:\n",
    "Приветственная серия писем/сообщений: Отправьте серию писем или сообщений, знакомящих их с вашим рестораном, его особенностями, популярными блюдами, акциями.\n",
    "Скидка на второй заказ: Предложите скидку на их следующий заказ, чтобы стимулировать повторную покупку.\n",
    "- Группа 311 (часто совершают заказы, высокая активность, низкие траты): 246 пользователей (10.18% от общей базы). Это клиенты, часто заказывают, но тратят мало.\n",
    "Цель: Увеличить средний чек.\n",
    "Рекомендации:\n",
    "Предложения на основе их предыдущих заказов: Предложите им блюда, которые они заказывали раньше, или похожие блюда.\n",
    "Апсейл и кросс-сейл: Предложите им добавить к заказу напитки, десерты, соусы или другие дополнительные продукты.\n"
   ]
  },
  {
   "cell_type": "markdown",
   "id": "73d26759",
   "metadata": {},
   "source": [
    "<div class=\"alert alert-success\">\n",
    "  \n",
    "  <b>Комментарий ревьюера</b>\n",
    "    \n",
    "  ✔️ Получили сегмменты покупателей. Отличное использование методов `qcut` и `cut` для сегментации!\n",
    "\n",
    "    \n",
    "  \n",
    "</div>\n",
    "<div class=\"alert alert-warning\">\n",
    "    \n",
    "  <b>Комментарий ревьюера</b>\n",
    "    \n",
    "  ⚠️ Стоит дать описание и рекомендации по всем сегментам (можно похожие сегменты описать сгруппировав). \n",
    "</div>"
   ]
  },
  {
   "cell_type": "markdown",
   "id": "50194012",
   "metadata": {
    "id": "50194012"
   },
   "source": [
    "---\n",
    "\n",
    "## 4. K-Means кластеризация\n",
    "\n",
    "Чтобы лучше понимать поведение ресторанов и предлагать им персонализированные условия сотрудничества, а также создавать персонализированные предложения для пользователей, маркетологи запросили кластеризацию ресторанов по следующим параметрам:\n",
    "- общее количество заказов;\n",
    "- средняя стоимость заказа;\n",
    "- общее число заказанных уникальных блюд (ассортимент ресторана).\n",
    "\n",
    "С помощью метода K-Means разделите рестораны на кластеры, отражающие различные модели работы и целевые сегменты. Это позволяет выделить группы ресторанов с похожими характеристиками и разрабатывать для них эффективные маркетинговые стратегии."
   ]
  },
  {
   "cell_type": "markdown",
   "id": "3227a337",
   "metadata": {
    "id": "3227a337"
   },
   "source": [
    "**Задача 4.1.** Подготовьте данные для кластеризации и для каждого ресторана подсчитайте:\n",
    "- общее количество заказов;\n",
    "- средняя стоимость заказа;\n",
    "- общее число заказанных уникальных блюд (ассортимент ресторана)."
   ]
  },
  {
   "cell_type": "code",
   "execution_count": 18,
   "id": "09b6887f",
   "metadata": {},
   "outputs": [
    {
     "name": "stdout",
     "output_type": "stream",
     "text": [
      "   total_orders  average_order_value  unique_dishes\n",
      "0           144          2260.180222             28\n",
      "1           108          2959.256481             19\n",
      "2             8          1673.000000              4\n",
      "3            33          2777.209697              4\n",
      "4            33          2011.269697              5\n"
     ]
    }
   ],
   "source": [
    "# 1. Общее количество заказов для каждого ресторана\n",
    "total_orders = df_order.groupby('rest_id')['order_id'].count().reset_index()\n",
    "total_orders.rename(columns={'order_id': 'total_orders'}, inplace=True)\n",
    "\n",
    "# 2. Средняя стоимость заказа для каждого ресторана\n",
    "average_order_value =df_order.groupby('rest_id')['revenue'].mean().reset_index()\n",
    "average_order_value.rename(columns={'revenue': 'average_order_value'}, inplace=True)\n",
    "\n",
    "# 3. Общее число заказанных уникальных блюд для каждого ресторана\n",
    "unique_dishes = df_order.groupby('rest_id')['object_id'].nunique().reset_index()\n",
    "unique_dishes.rename(columns={'object_id': 'unique_dishes'}, inplace=True)\n",
    "\n",
    "# Объединяем все результаты в один DataFrame\n",
    "restaurant_features = pd.merge(total_orders, average_order_value, on='rest_id')\n",
    "restaurant_features = pd.merge(restaurant_features, unique_dishes, on='rest_id')\n",
    "\n",
    "# Вывод результата\n",
    "restaurant_features.head(5)\n",
    "\n",
    "# Создание нового DataFrame \n",
    "restaurant_features_no_id = restaurant_features[['total_orders', 'average_order_value', 'unique_dishes']].copy()\n",
    "\n",
    "# Вывод результата\n",
    "print(restaurant_features_no_id.head(5))"
   ]
  },
  {
   "cell_type": "markdown",
   "id": "b6566156",
   "metadata": {},
   "source": [
    "<div class=\"alert alert-success\">\n",
    "  \n",
    "  <b>Комментарий ревьюера</b>\n",
    "    \n",
    "  ✔️ Параметры для кластеризации выбрали верно.\n",
    " \n",
    "</div>"
   ]
  },
  {
   "cell_type": "markdown",
   "id": "0b271d55",
   "metadata": {
    "id": "662740fb",
    "outputId": "811c9e15-7a09-4da3-d2ef-acf26fc62d13"
   },
   "source": [
    "**Задача 4.2.** Нормализуйте данные и найдите оптимальное количество кластеров, использовав метод `.inertia_`. Постройте график зависимости инерции от числа кластеров (метод «локтя») и предположите оптимальное количество кластеров."
   ]
  },
  {
   "cell_type": "code",
   "execution_count": 19,
   "id": "220a4106",
   "metadata": {},
   "outputs": [],
   "source": [
    "# нормализуем данные\n",
    "from sklearn.preprocessing import StandardScaler\n",
    "restaurant_scaled = StandardScaler().fit_transform(restaurant_features_no_id)"
   ]
  },
  {
   "cell_type": "code",
   "execution_count": 20,
   "id": "9405b65f",
   "metadata": {},
   "outputs": [
    {
     "data": {
      "image/png": "[encoded data removed]",
      "text/plain": [
       "<Figure size 864x576 with 1 Axes>"
      ]
     },
     "metadata": {
      "needs_background": "light"
     },
     "output_type": "display_data"
    }
   ],
   "source": [
    "# Создаём массив, в котором будем хранить значения inertia для разбиения с разным числом кластеров\n",
    "i = []\n",
    "\n",
    "# Задаём диапазон количества кластеров\n",
    "min_k = 1\n",
    "max_k = 5\n",
    "\n",
    "plt.figure(figsize=(12, 8))\n",
    "\n",
    "# Перебираем разное количество кластеров\n",
    "for k in range(min_k, max_k + 1):\n",
    "   km = KMeans(n_clusters=k)  # Создаём модель KMeans для текущего значения k\n",
    "   km.fit_transform(restaurant_scaled)  # Обучаем модель и получаем координаты точек в пространстве кластеров\n",
    "   i.append(km.inertia_)  # Сохраняем значение инерции для текущего k\n",
    "\n",
    "# Строим график зависимости инерции от количества кластеров\n",
    "plt.plot(range(min_k, max_k + 1), i, marker='o')\n",
    "plt.xlabel('Число кластеров K')  # Подпись оси X\n",
    "plt.ylabel('Суммарное внутрикластерное расстояние (Inertia)')  # Подпись оси Y\n",
    "plt.title('График зависимости инерции от числа кластеров (метод локтя)')  # Заголовок\n",
    "plt.show()"
   ]
  },
  {
   "cell_type": "markdown",
   "id": "f64f422b",
   "metadata": {},
   "source": [
    "\n",
    "<div class=\"alert alert-danger\">\n",
    "    \n",
    "  <b>Комментарий ревьюера</b>\n",
    "\n",
    "  ❌ Перед применением K-Means лучше нормализовать данные, чтобы признаки с разными масштабами имели одинаковый вес при расчете расстояний.\n",
    "</div>\n",
    "<div class=\"alert alert-success\">\n",
    "  \n",
    "  <b>Комментарий ревьюера v.2</b>\n",
    "    \n",
    "  ✔️ Нормализовали данные.\n",
    "</div>"
   ]
  },
  {
   "cell_type": "markdown",
   "id": "d08a70cb",
   "metadata": {},
   "source": [
    "Перегиб на графике наблюдается на 4 кластерах."
   ]
  },
  {
   "cell_type": "markdown",
   "id": "5db44932",
   "metadata": {},
   "source": [
    "<div class=\"alert alert-success\">\n",
    "  \n",
    "  <b>Комментарий ревьюера</b>\n",
    "    \n",
    "  ✔️ Можем выделить 2-4 кластера.\n",
    "\n",
    "Пока опыта мало, лучше определять количество кластеров построив дендограмму, ориентироваться по цвету легче (код ниже). \n",
    "    \n",
    "Если у нас цвет одиного кластера получается слишком большим (зеленый),  можно провести линию по шкалам и посчитать сколько пересечений: у нас тут будет не 2, как по цвету (оранжевый и зеленый), а 4 - зеленый разбиваем на 3. \n",
    "</div>"
   ]
  },
  {
   "cell_type": "code",
   "execution_count": 24,
   "id": "01466210",
   "metadata": {},
   "outputs": [
    {
     "data": {
      "image/png": "[encoded data removed]",
      "text/plain": [
       "<Figure size 504x288 with 1 Axes>"
      ]
     },
     "metadata": {
      "needs_background": "light"
     },
     "output_type": "display_data"
    }
   ],
   "source": [
    "# Код ревьюера:\n",
    "# Создадим таблицу связей:\n",
    "from scipy.cluster.hierarchy import dendrogram, linkage\n",
    "\n",
    "linked = linkage(restaurant_scaled, method = 'ward')\n",
    "\n",
    "# Визуализируем таблицу связей:\n",
    "plt.figure(figsize=(7, 4))  \n",
    "dendrogram(linked, orientation='top')\n",
    "\n",
    "plt.axhline(y=2.5, color='r', linestyle='--')  \n",
    "plt.title(\"Иерархическая кластеризация (дендрограмма)\")\n",
    "plt.xlabel(\"Объекты\")\n",
    "plt.ylabel(\"Расстояние\")\n",
    "\n",
    "plt.show()"
   ]
  },
  {
   "cell_type": "markdown",
   "id": "74002482",
   "metadata": {
    "id": "74002482"
   },
   "source": [
    "**Задача 4.3.** Проведите кластеризацию, проанализируйте полученные результаты и рассчитайте средние значения по каждому кластеру.\n",
    "    \n",
    "После этого визуализируйте результаты, чтобы проследить зависимость признаков друг от друга. Постройте две визуализации, на которые нанесите все кластеры:\n",
    "- средний чек в зависимости от количества заказов;\n",
    "- количество блюд в зависимости от количества заказов.\n",
    "\n",
    "После этого опишите каждый кластер в промежуточном выводе. "
   ]
  },
  {
   "cell_type": "code",
   "execution_count": 22,
   "id": "bbeeebb4",
   "metadata": {},
   "outputs": [
    {
     "data": {
      "image/png": "[encoded data removed]",
      "text/plain": [
       "<Figure size 1440x432 with 2 Axes>"
      ]
     },
     "metadata": {
      "needs_background": "light"
     },
     "output_type": "display_data"
    }
   ],
   "source": [
    "# Определяем количество кластеров \n",
    "kmeans = KMeans(n_clusters= 4,random_state=1)\n",
    "labels = kmeans.fit_predict(restaurant_scaled)\n",
    "\n",
    "# Получаем координаты центров (центроидов) кластеров\n",
    "centroids = kmeans.cluster_centers_\n",
    "\n",
    "# Создаём 2 графика (1 строка × 2 столбца) для отображения попарных комбинаций признаков\n",
    "fig, axes = plt.subplots(1, 2, figsize=(20, 6))\n",
    "\n",
    "# Список названий признаков, которые будут использоваться на графиках\n",
    "axs = [\"average_order_value\", \"unique_dishes\", \"total_orders\"]\n",
    "\n",
    "# Перебираем пары признаков: (Speed vs Duration), (Speed vs Volume), (Duration vs Volume)\n",
    "for i, (x_idx, y_idx) in enumerate([[2, 0], [2, 1]]):\n",
    "   x_label, y_label = axs[x_idx], axs[y_idx]  # Названия признаков для осей\n",
    "\n",
    "   # Строим точки — объекты из датафрейма, раскрашенные по меткам кластера\n",
    "   axes[i].scatter(\n",
    "       restaurant_features[x_label],  # Значения по оси X\n",
    "       restaurant_features[y_label],  # Значения по оси Y\n",
    "       c=labels,  # Цвет зависит от номера кластера\n",
    "       cmap='viridis',  # Цветовая карта\n",
    "       s=50  # Размер точек\n",
    "   )\n",
    "\n",
    "   # Строим центроиды кластеров красными крестами\n",
    "   axes[i].scatter(\n",
    "       centroids[:, x_idx],  # X-координаты центров\n",
    "       centroids[:, y_idx],  # Y-координаты центров\n",
    "       s=200,  # Размер крестов\n",
    "       c='red',  # Цвет — красный\n",
    "       edgecolors='black',  # Обводка — чёрная\n",
    "       linewidths=2,  # Толщина обводки\n",
    "       marker='X'  # Форма маркера — крест\n",
    "   )\n",
    "\n",
    "   # Подписи осей и заголовок графика\n",
    "   axes[i].set_xlabel(x_label)\n",
    "   axes[i].set_ylabel(y_label)\n",
    "   axes[i].set_title(f'{x_label} vs {y_label}')\n",
    "\n",
    "# Подгоняем макет, оставляя место снизу для подписи с инерцией\n",
    "plt.tight_layout(rect=[0, 0.05, 1, 1])\n",
    "\n",
    "# Добавляем текст с СВР внизу графика (по центру)\n",
    "fig.text(0.5, 0.01, f'Inertia: {kmeans.inertia_:.2f}', ha='center', fontsize=12)\n",
    "\n",
    "# Показываем итоговый набор визуализаций\n",
    "plt.show()"
   ]
  },
  {
   "cell_type": "markdown",
   "id": "6ce09d22",
   "metadata": {},
   "source": [
    "<div class=\"alert alert-warning\">\n",
    "    \n",
    "  <b>Комментарий ревьюера</b>\n",
    "    \n",
    "  ⚠️ При кластеризации стоит еще указать параметр random_state: `kmeans = KMeans(n_clusters=4, random_state=1)`. Когда мы задаем параметр random_state отличным от None - то генерируемые псевдослучайные величины будут иметь одни и те же значения при каждом вызове, т.е. при каждом запуске проекта мы будем получать одни и те-же кластеры.\n",
    "\n",
    "\n",
    "</div>\n",
    "<div class=\"alert alert-success\">\n",
    "  \n",
    "  <b>Комментарий ревьюера v.2</b>\n",
    "    \n",
    "  ✔️  👌\n",
    "</div>\n",
    "    "
   ]
  },
  {
   "cell_type": "code",
   "execution_count": 23,
   "id": "5899358b",
   "metadata": {},
   "outputs": [
    {
     "name": "stdout",
     "output_type": "stream",
     "text": [
      "           average_order_value  unique_dishes  total_orders\n",
      "Кластер 1               -0.316         -0.712        -0.288\n",
      "Кластер 2                3.020         -0.067         2.928\n",
      "Кластер 3               -0.336          0.532        -0.265\n",
      "Кластер 4               -0.276          2.390        -0.553\n"
     ]
    }
   ],
   "source": [
    "kmeans = KMeans(n_clusters=4)\n",
    "labels = kmeans.fit_predict(restaurant_scaled)\n",
    "\n",
    "# Сортируем кластеры по возрастанию «Продолжительности» (второй столбец, индекс 1)\n",
    "sorted_indices = np.argsort(kmeans.cluster_centers_[:, 1])\n",
    "sorted_centroids = kmeans.cluster_centers_[sorted_indices]\n",
    "\n",
    "# Создаём DataFrame из центроидов\n",
    "centroids_df = pd.DataFrame(\n",
    "   sorted_centroids,\n",
    "   columns=[\"average_order_value\", \"unique_dishes\", \"total_orders\"],\n",
    "   index=[f'Кластер {i + 1}' for i in range(kmeans.n_clusters)]\n",
    ")\n",
    "\n",
    "# Форматируем числа для вывода (2 знака после точки)\n",
    "pd.options.display.float_format = '{:.3f}'.format\n",
    "\n",
    "# Выводим таблицу\n",
    "print(centroids_df.head(6))"
   ]
  },
  {
   "cell_type": "markdown",
   "id": "ef49d7fb",
   "metadata": {},
   "source": [
    "**Вывод:**\n",
    "\n",
    "Проведенный анализ данных выявил четыре кластера ресторанов, каждый из которых обладает уникальными характеристиками по среднему чеку `average_order_value`, разнообразию блюд `unique_dishes` и общему количеству заказов `total_orders`:\n",
    "- Кластер 1 - Низкий чек, ограниченный ассортимент, низкий оборот;\n",
    "- Кластер 2 - Высокий чек, умеренный ассортимент, высокий оборот;\n",
    "- Кластер 3 - Низкий чек, умеренный ассортимент, низкий оборот;\n",
    "- Кластер 4 - Средний чек, очень широкий ассортимент, низкий оборот."
   ]
  },
  {
   "cell_type": "markdown",
   "id": "4400a76d",
   "metadata": {},
   "source": [
    "- Кластер 1 (“Низкий чек, ограниченный ассортимент, низкий оборот”): Рестораны этого кластера характеризуются значениями ниже среднего по всем трем показателям: низкий средний чек (-0.316), относительно ограниченный ассортимент (-0.712) и низкое количество заказов (-0.288). Это, скорее всего, небольшие заведения с доступными ценами и ограниченным меню, нацеленные на локальный спрос.\n",
    "\n",
    "- Кластер 2 (“Высокий чек, умеренный ассортимент, высокий оборот”): Этот кластер выделяется самыми высокими значениями среднего чека (3.020) и общего количества заказов (2.928), указывая на рестораны премиум-класса или с высоким средним чеком и значительным потоком клиентов. Разнообразие блюд находится около среднего значения (-0.067), что говорит о хорошо продуманном и возможно, специализированном меню. Эти рестораны, вероятно, успешно привлекают клиентов и генерируют высокий доход.\n",
    "\n",
    "- Кластер 3 (“Низкий чек, умеренный ассортимент, низкий оборот”): Рестораны этого кластера имеют показатели, близкие к кластеру 1. Однако, немного лучше ассортимент (0.532 против -0.712), но так же низкий чек(-0.336) и низкое количество заказов (-0.265). Это, возможно, заведения, пытающиеся предложить более широкий выбор блюд, но пока не достигшие успеха в привлечении клиентов.\n",
    "\n",
    "- Кластер 4 (“Средний чек, очень широкий ассортимент, низкий оборот”): Данный кластер имеет средний средний чек (-0.276), но очень высокое значение по разнообразию блюд (2.390). Общее количество заказов самое низкое (-0.553), что указывает на проблемы с привлечением клиентов, несмотря на широкий ассортимент. Эти рестораны могут испытывать сложности с эффективным маркетингом или управлением огромным меню, что приводит к низкой посещаемости.\n",
    "\n",
    "\n",
    "Нормализованные данные подчеркивают относительные различия между кластерами. Кластер 2 выделяется своей эффективностью и прибыльностью. Кластеры 1 и 3, вероятно, нуждаются в улучшении привлечения клиентов. Кластер 4 требует пересмотра маркетинговых стратегий и/или оптимизации меню, чтобы эффективно монетизировать широкий ассортимент. Анализ позволяет выделить ключевые факторы успеха и проблемные зоны для каждого типа ресторана."
   ]
  },
  {
   "cell_type": "markdown",
   "id": "e9f76cf4",
   "metadata": {},
   "source": [
    "<div class=\"alert alert-warning\">\n",
    "    \n",
    "  <b>Комментарий ревьюера</b>\n",
    "    \n",
    "  ⚠️ После нормализации данных выводы не забыть проверить.\n",
    "</div>"
   ]
  },
  {
   "cell_type": "markdown",
   "id": "268ed4c1",
   "metadata": {
    "id": "50194012"
   },
   "source": [
    "---\n",
    "\n",
    "## 5. Итоговый вывод и рекомендации\n",
    "\n",
    "Сформулируйте общий вывод. Зафиксируйте основные результаты и инсайты, которые, на ваш взгляд, помогут бизнесу улучшить продукт.\n",
    "\n",
    "Выводы должны быть краткими и ёмкими, ведь их будут читать ваш заказчик, продуктовый менеджер и продуктовая команда."
   ]
  },
  {
   "cell_type": "markdown",
   "id": "8a50f881",
   "metadata": {},
   "source": [
    "***1. Этап подтверждения телефона и регистрации.***\n",
    "\n",
    "Конверсия на этапе подтверждения телефона в мобильной версии низкая, что снижает общую эффективность воронки. Нужно проанализировать причины и оптимизировать процесс.\n",
    "\n",
    "Процесс регистрации можно сделать более простым и понятным, чтобы повысить конверсию.\n",
    "\n",
    "***2. Анализ пользовательского пути.***\n",
    "\n",
    "В целом, путь пользователя в десктопной версии приложения выглядит более эффективным, особенно на этапах попадания на главную страницу, подтверждения телефона и перехода на страницу объекта.\n",
    "\n",
    "Мобильная версия демонстрирует преимущество только на этапе регистрации.\n",
    "\n",
    "***3. Персонализированные предложения для неактивных клиентов.***\n",
    "\n",
    "Группа 211 (не часто совершают заказы, низкая активность, низкие траты): 281 пользователь (11,63% от общей базы).\n",
    "\n",
    "Эти клиенты давно не делали заказы, заказывают редко и тратят мало. Им нужно предложить специальные предложения, скидки, промокоды или бесплатную доставку, чтобы стимулировать их сделать заказ.\n",
    "\n",
    "Группа 111 (редко совершают заказы, низкая активность, низкие траты): 247 пользователей (10,22% от общей базы). Скорее всего, это новые или нечастые клиенты. Им можно отправить серию писем или сообщений, знакомящих их с рестораном, его особенностями, популярными блюдами, акциями. Также можно предложить скидку на второй заказ.\n",
    "\n",
    "***4. Увеличение среднего чека для активных клиентов.***\n",
    "\n",
    "Группа 311 (часто совершают заказы, высокая активность, низкие траты): 246 пользователей (10,18% от общей базы). Это клиенты, которые часто заказывают, но тратят мало.\n",
    "\n",
    "Цель — увеличить средний чек. Можно предложить им блюда, которые они заказывали раньше, или похожие блюда. Также можно предложить добавить к заказу напитки, десерты, соусы или другие дополнительные продукты.\n",
    "\n",
    "***5. Кластеризация клиентов.***\n",
    "\n",
    "Выделены четыре кластера клиентов: Низкий чек, ограниченный ассортимент, низкий оборот;\n",
    "Высокий чек, умеренный ассортимент, высокий оборот;Низкий чек, умеренный ассортимент, низкий оборот;\n",
    "Средний чек, очень широкий ассортимент, низкий оборот.\n",
    "\n",
    "Это позволяет более точно сегментировать аудиторию и разрабатывать персонализированные предложения.\n",
    "\n",
    "Нормализованные данные подчеркивают относительные различия между кластерами. Кластер 2 выделяется своей эффективностью и прибыльностью. Кластеры 1 и 3, вероятно, нуждаются в улучшении привлечения клиентов. Кластер 4 требует пересмотра маркетинговых стратегий и/или оптимизации меню, чтобы эффективно монетизировать широкий ассортимент. Анализ позволяет выделить ключевые факторы успеха и проблемные зоны для каждого типа ресторана."
   ]
  },
  {
   "cell_type": "markdown",
   "id": "6f7bb5c6",
   "metadata": {},
   "source": [
    "<div class=\"alert alert-warning\">\n",
    "    \n",
    "  <b>Комментарий ревьюера</b>\n",
    "    \n",
    "  ⚠️ Хороший итоговый вывод! Но и его не забыть проверить.\n",
    "</div>"
   ]
  },
  {
   "cell_type": "markdown",
   "id": "dafe5dcc",
   "metadata": {},
   "source": [
    "<div style=\"border:solid black 2px; padding: 20px\">\n",
    "     \n",
    "  <b>Чек-лист доработок</b>\n",
    "    \n",
    "  📃 Проверить K-Means кластеризацию.\n",
    "    \n",
    "  \n",
    "Жду твой проект на повторное ревью. Не стесняйся оставлять комментарии и задавать вопросы. Удачи! Все получится.\n",
    "</div>"
   ]
  }
 ],
 "metadata": {
  "ExecuteTimeLog": [
   {
    "duration": 1490,
    "start_time": "2025-07-22T19:33:39.317Z"
   },
   {
    "duration": 3218,
    "start_time": "2025-07-22T19:35:04.896Z"
   },
   {
    "duration": 44,
    "start_time": "2025-07-22T19:35:22.526Z"
   },
   {
    "duration": 27,
    "start_time": "2025-07-22T19:35:36.240Z"
   },
   {
    "duration": 105,
    "start_time": "2025-07-22T19:35:57.518Z"
   },
   {
    "duration": 267,
    "start_time": "2025-07-22T19:37:08.391Z"
   },
   {
    "duration": 72,
    "start_time": "2025-07-22T19:38:25.938Z"
   },
   {
    "duration": 80,
    "start_time": "2025-07-22T19:39:01.689Z"
   },
   {
    "duration": 62,
    "start_time": "2025-07-22T19:39:20.263Z"
   },
   {
    "duration": 1373,
    "start_time": "2025-07-23T04:18:51.993Z"
   },
   {
    "duration": 1201,
    "start_time": "2025-07-23T04:18:53.368Z"
   },
   {
    "duration": 27,
    "start_time": "2025-07-23T04:18:54.572Z"
   },
   {
    "duration": 90,
    "start_time": "2025-07-23T04:18:54.601Z"
   },
   {
    "duration": 235,
    "start_time": "2025-07-23T04:18:54.694Z"
   },
   {
    "duration": 80,
    "start_time": "2025-07-23T04:18:54.931Z"
   },
   {
    "duration": 62,
    "start_time": "2025-07-23T04:18:55.013Z"
   },
   {
    "duration": 86,
    "start_time": "2025-07-23T04:18:55.078Z"
   },
   {
    "duration": 155,
    "start_time": "2025-07-23T04:20:47.322Z"
   },
   {
    "duration": 145,
    "start_time": "2025-07-23T04:23:07.574Z"
   },
   {
    "duration": 1871,
    "start_time": "2025-07-23T04:26:53.893Z"
   },
   {
    "duration": 41,
    "start_time": "2025-07-23T04:27:04.115Z"
   },
   {
    "duration": 88,
    "start_time": "2025-07-23T04:27:40.946Z"
   },
   {
    "duration": 103,
    "start_time": "2025-07-23T04:27:46.515Z"
   },
   {
    "duration": 1208,
    "start_time": "2025-07-23T04:37:36.050Z"
   },
   {
    "duration": 1209,
    "start_time": "2025-07-23T04:37:37.260Z"
   },
   {
    "duration": 38,
    "start_time": "2025-07-23T04:37:38.470Z"
   },
   {
    "duration": 88,
    "start_time": "2025-07-23T04:37:38.510Z"
   },
   {
    "duration": 243,
    "start_time": "2025-07-23T04:37:38.606Z"
   },
   {
    "duration": 88,
    "start_time": "2025-07-23T04:37:38.851Z"
   },
   {
    "duration": 76,
    "start_time": "2025-07-23T04:37:38.940Z"
   },
   {
    "duration": 56,
    "start_time": "2025-07-23T04:37:39.017Z"
   },
   {
    "duration": 180,
    "start_time": "2025-07-23T04:37:39.074Z"
   },
   {
    "duration": 176,
    "start_time": "2025-07-23T04:37:39.255Z"
   },
   {
    "duration": 125,
    "start_time": "2025-07-23T04:37:39.433Z"
   },
   {
    "duration": 3,
    "start_time": "2025-07-23T04:38:26.115Z"
   },
   {
    "duration": 4,
    "start_time": "2025-07-23T04:38:33.625Z"
   },
   {
    "duration": 131,
    "start_time": "2025-07-23T04:38:52.579Z"
   },
   {
    "duration": 105,
    "start_time": "2025-07-23T04:40:03.843Z"
   },
   {
    "duration": 96,
    "start_time": "2025-07-23T04:41:26.366Z"
   },
   {
    "duration": 108,
    "start_time": "2025-07-23T04:43:10.409Z"
   },
   {
    "duration": 1213,
    "start_time": "2025-07-23T04:43:42.322Z"
   },
   {
    "duration": 1230,
    "start_time": "2025-07-23T04:43:43.536Z"
   },
   {
    "duration": 35,
    "start_time": "2025-07-23T04:43:44.768Z"
   },
   {
    "duration": 112,
    "start_time": "2025-07-23T04:43:44.805Z"
   },
   {
    "duration": 241,
    "start_time": "2025-07-23T04:43:44.920Z"
   },
   {
    "duration": 91,
    "start_time": "2025-07-23T04:43:45.163Z"
   },
   {
    "duration": 145,
    "start_time": "2025-07-23T04:43:45.256Z"
   },
   {
    "duration": 56,
    "start_time": "2025-07-23T04:43:45.403Z"
   },
   {
    "duration": 161,
    "start_time": "2025-07-23T04:43:45.460Z"
   },
   {
    "duration": 154,
    "start_time": "2025-07-23T04:43:45.623Z"
   },
   {
    "duration": 126,
    "start_time": "2025-07-23T04:43:45.779Z"
   },
   {
    "duration": 112,
    "start_time": "2025-07-23T04:44:35.919Z"
   },
   {
    "duration": 343,
    "start_time": "2025-07-23T05:41:45.887Z"
   },
   {
    "duration": 1571,
    "start_time": "2025-07-23T05:50:16.154Z"
   },
   {
    "duration": 637,
    "start_time": "2025-07-23T05:51:22.618Z"
   },
   {
    "duration": 620,
    "start_time": "2025-07-23T05:51:56.394Z"
   },
   {
    "duration": 697,
    "start_time": "2025-07-23T05:52:35.524Z"
   },
   {
    "duration": 283,
    "start_time": "2025-07-23T05:54:14.454Z"
   },
   {
    "duration": 657,
    "start_time": "2025-07-23T05:54:15.951Z"
   },
   {
    "duration": 1268,
    "start_time": "2025-07-23T05:55:31.657Z"
   },
   {
    "duration": 1199,
    "start_time": "2025-07-23T05:55:32.927Z"
   },
   {
    "duration": 21,
    "start_time": "2025-07-23T05:55:34.127Z"
   },
   {
    "duration": 122,
    "start_time": "2025-07-23T05:55:34.149Z"
   },
   {
    "duration": 211,
    "start_time": "2025-07-23T05:55:34.273Z"
   },
   {
    "duration": 72,
    "start_time": "2025-07-23T05:55:34.489Z"
   },
   {
    "duration": 304,
    "start_time": "2025-07-23T05:55:34.563Z"
   },
   {
    "duration": 68,
    "start_time": "2025-07-23T05:55:34.869Z"
   },
   {
    "duration": 278,
    "start_time": "2025-07-23T05:55:34.939Z"
   },
   {
    "duration": 77,
    "start_time": "2025-07-23T05:55:35.218Z"
   },
   {
    "duration": 160,
    "start_time": "2025-07-23T05:55:35.297Z"
   },
   {
    "duration": 152,
    "start_time": "2025-07-23T05:55:35.459Z"
   },
   {
    "duration": 117,
    "start_time": "2025-07-23T05:55:35.613Z"
   },
   {
    "duration": 409,
    "start_time": "2025-07-23T05:55:35.732Z"
   },
   {
    "duration": 673,
    "start_time": "2025-07-23T05:55:36.143Z"
   },
   {
    "duration": 652,
    "start_time": "2025-07-23T05:57:43.603Z"
   },
   {
    "duration": 114,
    "start_time": "2025-07-23T06:13:22.199Z"
   },
   {
    "duration": 19,
    "start_time": "2025-07-23T06:14:14.831Z"
   },
   {
    "duration": 19,
    "start_time": "2025-07-23T06:15:07.232Z"
   },
   {
    "duration": 20,
    "start_time": "2025-07-23T06:44:34.617Z"
   },
   {
    "duration": 19,
    "start_time": "2025-07-23T06:45:20.608Z"
   },
   {
    "duration": 27,
    "start_time": "2025-07-23T07:22:46.483Z"
   },
   {
    "duration": 66,
    "start_time": "2025-07-23T11:11:14.018Z"
   },
   {
    "duration": 83,
    "start_time": "2025-07-23T11:11:24.699Z"
   },
   {
    "duration": 57,
    "start_time": "2025-07-23T11:11:31.587Z"
   },
   {
    "duration": 1468,
    "start_time": "2025-07-23T19:07:05.719Z"
   },
   {
    "duration": 1123,
    "start_time": "2025-07-23T19:07:07.189Z"
   },
   {
    "duration": 19,
    "start_time": "2025-07-23T19:07:08.313Z"
   },
   {
    "duration": 85,
    "start_time": "2025-07-23T19:07:08.334Z"
   },
   {
    "duration": 219,
    "start_time": "2025-07-23T19:07:08.421Z"
   },
   {
    "duration": 77,
    "start_time": "2025-07-23T19:07:08.642Z"
   },
   {
    "duration": 257,
    "start_time": "2025-07-23T19:07:08.720Z"
   },
   {
    "duration": 59,
    "start_time": "2025-07-23T19:07:08.979Z"
   },
   {
    "duration": 269,
    "start_time": "2025-07-23T19:07:09.040Z"
   },
   {
    "duration": 64,
    "start_time": "2025-07-23T19:07:09.311Z"
   },
   {
    "duration": 158,
    "start_time": "2025-07-23T19:07:09.377Z"
   },
   {
    "duration": 147,
    "start_time": "2025-07-23T19:07:09.537Z"
   },
   {
    "duration": 124,
    "start_time": "2025-07-23T19:07:09.686Z"
   },
   {
    "duration": 409,
    "start_time": "2025-07-23T19:07:09.811Z"
   },
   {
    "duration": 642,
    "start_time": "2025-07-23T19:07:10.221Z"
   },
   {
    "duration": 652,
    "start_time": "2025-07-23T19:07:10.865Z"
   },
   {
    "duration": 115,
    "start_time": "2025-07-23T19:07:11.519Z"
   },
   {
    "duration": 203,
    "start_time": "2025-07-23T19:12:52.890Z"
   },
   {
    "duration": 28,
    "start_time": "2025-07-23T19:14:14.248Z"
   },
   {
    "duration": 758,
    "start_time": "2025-07-23T19:14:54.345Z"
   },
   {
    "duration": 24,
    "start_time": "2025-07-23T19:16:49.298Z"
   },
   {
    "duration": 11,
    "start_time": "2025-07-23T19:22:19.911Z"
   },
   {
    "duration": 10,
    "start_time": "2025-07-23T19:35:29.986Z"
   },
   {
    "duration": 23,
    "start_time": "2025-07-23T19:39:19.007Z"
   },
   {
    "duration": 46,
    "start_time": "2025-07-23T19:39:32.771Z"
   },
   {
    "duration": 47,
    "start_time": "2025-07-23T19:40:01.263Z"
   },
   {
    "duration": 13,
    "start_time": "2025-07-23T19:41:06.137Z"
   },
   {
    "duration": 331,
    "start_time": "2025-07-23T19:41:29.074Z"
   },
   {
    "duration": 25,
    "start_time": "2025-07-23T19:41:46.714Z"
   },
   {
    "duration": 14,
    "start_time": "2025-07-23T19:42:06.318Z"
   },
   {
    "duration": 12,
    "start_time": "2025-07-23T19:42:25.810Z"
   },
   {
    "duration": 23,
    "start_time": "2025-07-23T19:43:39.516Z"
   },
   {
    "duration": 10,
    "start_time": "2025-07-23T19:46:53.233Z"
   },
   {
    "duration": 18,
    "start_time": "2025-07-23T19:47:18.727Z"
   },
   {
    "duration": 22,
    "start_time": "2025-07-23T19:49:25.827Z"
   },
   {
    "duration": 93,
    "start_time": "2025-07-24T06:54:37.362Z"
   },
   {
    "duration": 1811,
    "start_time": "2025-07-24T06:54:43.707Z"
   },
   {
    "duration": 1280,
    "start_time": "2025-07-24T06:54:45.520Z"
   },
   {
    "duration": 22,
    "start_time": "2025-07-24T06:54:46.802Z"
   },
   {
    "duration": 102,
    "start_time": "2025-07-24T06:54:46.825Z"
   },
   {
    "duration": 255,
    "start_time": "2025-07-24T06:54:46.930Z"
   },
   {
    "duration": 90,
    "start_time": "2025-07-24T06:54:47.186Z"
   },
   {
    "duration": 294,
    "start_time": "2025-07-24T06:54:47.277Z"
   },
   {
    "duration": 61,
    "start_time": "2025-07-24T06:54:47.572Z"
   },
   {
    "duration": 79,
    "start_time": "2025-07-24T06:54:47.635Z"
   },
   {
    "duration": 181,
    "start_time": "2025-07-24T06:54:47.716Z"
   },
   {
    "duration": 190,
    "start_time": "2025-07-24T06:54:47.899Z"
   },
   {
    "duration": 138,
    "start_time": "2025-07-24T06:54:48.091Z"
   },
   {
    "duration": 503,
    "start_time": "2025-07-24T06:54:48.231Z"
   },
   {
    "duration": 280,
    "start_time": "2025-07-24T06:54:48.739Z"
   },
   {
    "duration": 878,
    "start_time": "2025-07-24T06:54:49.022Z"
   },
   {
    "duration": 25,
    "start_time": "2025-07-24T06:54:49.902Z"
   },
   {
    "duration": 85,
    "start_time": "2025-07-24T06:54:49.929Z"
   },
   {
    "duration": 78,
    "start_time": "2025-07-24T06:54:50.016Z"
   },
   {
    "duration": 143,
    "start_time": "2025-07-24T06:54:50.096Z"
   },
   {
    "duration": 0,
    "start_time": "2025-07-24T06:54:50.241Z"
   },
   {
    "duration": 0,
    "start_time": "2025-07-24T06:54:50.242Z"
   },
   {
    "duration": 32,
    "start_time": "2025-07-24T07:20:50.861Z"
   },
   {
    "duration": 7867,
    "start_time": "2025-07-24T07:20:53.677Z"
   },
   {
    "duration": 28,
    "start_time": "2025-07-24T07:22:29.997Z"
   },
   {
    "duration": 7276,
    "start_time": "2025-07-24T07:22:46.886Z"
   },
   {
    "duration": 227,
    "start_time": "2025-07-24T09:52:28.392Z"
   },
   {
    "duration": 1615,
    "start_time": "2025-07-24T09:53:13.831Z"
   },
   {
    "duration": 1292,
    "start_time": "2025-07-24T09:53:15.449Z"
   },
   {
    "duration": 32,
    "start_time": "2025-07-24T09:53:16.743Z"
   },
   {
    "duration": 96,
    "start_time": "2025-07-24T09:53:16.777Z"
   },
   {
    "duration": 253,
    "start_time": "2025-07-24T09:53:16.875Z"
   },
   {
    "duration": 83,
    "start_time": "2025-07-24T09:53:17.130Z"
   },
   {
    "duration": 287,
    "start_time": "2025-07-24T09:53:17.215Z"
   },
   {
    "duration": 70,
    "start_time": "2025-07-24T09:53:17.504Z"
   },
   {
    "duration": 68,
    "start_time": "2025-07-24T09:53:17.575Z"
   },
   {
    "duration": 202,
    "start_time": "2025-07-24T09:53:17.645Z"
   },
   {
    "duration": 164,
    "start_time": "2025-07-24T09:53:17.849Z"
   },
   {
    "duration": 136,
    "start_time": "2025-07-24T09:53:18.016Z"
   },
   {
    "duration": 398,
    "start_time": "2025-07-24T09:53:18.159Z"
   },
   {
    "duration": 244,
    "start_time": "2025-07-24T09:53:18.559Z"
   },
   {
    "duration": 906,
    "start_time": "2025-07-24T09:53:18.805Z"
   },
   {
    "duration": 26,
    "start_time": "2025-07-24T09:53:19.713Z"
   },
   {
    "duration": 30,
    "start_time": "2025-07-24T09:53:19.741Z"
   },
   {
    "duration": 33,
    "start_time": "2025-07-24T09:53:19.772Z"
   },
   {
    "duration": 6317,
    "start_time": "2025-07-24T09:53:19.807Z"
   },
   {
    "duration": 149,
    "start_time": "2025-07-24T09:53:26.127Z"
   },
   {
    "duration": 7856,
    "start_time": "2025-07-24T10:00:07.376Z"
   },
   {
    "duration": 843,
    "start_time": "2025-07-24T10:06:18.434Z"
   },
   {
    "duration": 2519,
    "start_time": "2025-07-24T10:06:50.562Z"
   },
   {
    "duration": 22,
    "start_time": "2025-07-24T10:08:20.125Z"
   },
   {
    "duration": 22,
    "start_time": "2025-07-24T10:08:38.932Z"
   },
   {
    "duration": 20,
    "start_time": "2025-07-24T10:08:49.452Z"
   },
   {
    "duration": 23,
    "start_time": "2025-07-24T10:09:22.925Z"
   },
   {
    "duration": 29,
    "start_time": "2025-07-24T10:09:52.335Z"
   },
   {
    "duration": 2154,
    "start_time": "2025-07-24T10:15:35.007Z"
   },
   {
    "duration": 2248,
    "start_time": "2025-07-24T10:16:25.086Z"
   },
   {
    "duration": 2334,
    "start_time": "2025-07-24T12:21:41.710Z"
   },
   {
    "duration": 2313,
    "start_time": "2025-07-24T12:21:51.903Z"
   },
   {
    "duration": 22,
    "start_time": "2025-07-24T12:22:33.647Z"
   },
   {
    "duration": 2181,
    "start_time": "2025-07-24T12:23:12.936Z"
   },
   {
    "duration": 1131,
    "start_time": "2025-07-24T12:23:47.088Z"
   },
   {
    "duration": 1742,
    "start_time": "2025-07-24T12:24:58.571Z"
   },
   {
    "duration": 1365,
    "start_time": "2025-07-24T12:25:00.315Z"
   },
   {
    "duration": 29,
    "start_time": "2025-07-24T12:25:01.686Z"
   },
   {
    "duration": 132,
    "start_time": "2025-07-24T12:25:01.717Z"
   },
   {
    "duration": 270,
    "start_time": "2025-07-24T12:25:01.853Z"
   },
   {
    "duration": 101,
    "start_time": "2025-07-24T12:25:02.125Z"
   },
   {
    "duration": 390,
    "start_time": "2025-07-24T12:25:02.228Z"
   },
   {
    "duration": 83,
    "start_time": "2025-07-24T12:25:02.619Z"
   },
   {
    "duration": 87,
    "start_time": "2025-07-24T12:25:02.704Z"
   },
   {
    "duration": 201,
    "start_time": "2025-07-24T12:25:02.793Z"
   },
   {
    "duration": 188,
    "start_time": "2025-07-24T12:25:02.996Z"
   },
   {
    "duration": 136,
    "start_time": "2025-07-24T12:25:03.189Z"
   },
   {
    "duration": 415,
    "start_time": "2025-07-24T12:25:03.327Z"
   },
   {
    "duration": 278,
    "start_time": "2025-07-24T12:25:03.745Z"
   },
   {
    "duration": 971,
    "start_time": "2025-07-24T12:25:04.025Z"
   },
   {
    "duration": 26,
    "start_time": "2025-07-24T12:25:04.998Z"
   },
   {
    "duration": 66,
    "start_time": "2025-07-24T12:25:05.026Z"
   },
   {
    "duration": 28,
    "start_time": "2025-07-24T12:25:05.094Z"
   },
   {
    "duration": 6809,
    "start_time": "2025-07-24T12:25:05.124Z"
   },
   {
    "duration": 2224,
    "start_time": "2025-07-24T12:25:11.935Z"
   },
   {
    "duration": 0,
    "start_time": "2025-07-24T12:25:14.169Z"
   },
   {
    "duration": 15,
    "start_time": "2025-07-24T12:26:51.319Z"
   },
   {
    "duration": 1319,
    "start_time": "2025-07-24T12:27:31.386Z"
   },
   {
    "duration": 31,
    "start_time": "2025-07-24T12:30:43.183Z"
   },
   {
    "duration": 1785,
    "start_time": "2025-07-24T18:08:42.939Z"
   },
   {
    "duration": 1373,
    "start_time": "2025-07-24T18:08:44.727Z"
   },
   {
    "duration": 21,
    "start_time": "2025-07-24T18:08:46.102Z"
   },
   {
    "duration": 140,
    "start_time": "2025-07-24T18:08:46.125Z"
   },
   {
    "duration": 219,
    "start_time": "2025-07-24T18:08:46.267Z"
   },
   {
    "duration": 74,
    "start_time": "2025-07-24T18:08:46.488Z"
   },
   {
    "duration": 289,
    "start_time": "2025-07-24T18:08:46.564Z"
   },
   {
    "duration": 63,
    "start_time": "2025-07-24T18:08:46.854Z"
   },
   {
    "duration": 74,
    "start_time": "2025-07-24T18:08:46.918Z"
   },
   {
    "duration": 149,
    "start_time": "2025-07-24T18:08:46.995Z"
   },
   {
    "duration": 148,
    "start_time": "2025-07-24T18:08:47.146Z"
   },
   {
    "duration": 158,
    "start_time": "2025-07-24T18:08:47.296Z"
   },
   {
    "duration": 434,
    "start_time": "2025-07-24T18:08:47.456Z"
   },
   {
    "duration": 223,
    "start_time": "2025-07-24T18:08:47.891Z"
   },
   {
    "duration": 829,
    "start_time": "2025-07-24T18:08:48.116Z"
   },
   {
    "duration": 43,
    "start_time": "2025-07-24T18:08:48.947Z"
   },
   {
    "duration": 11,
    "start_time": "2025-07-24T18:08:48.992Z"
   },
   {
    "duration": 24,
    "start_time": "2025-07-24T18:08:49.004Z"
   },
   {
    "duration": 7213,
    "start_time": "2025-07-24T18:08:49.030Z"
   },
   {
    "duration": 1126,
    "start_time": "2025-07-24T18:08:56.246Z"
   },
   {
    "duration": 16,
    "start_time": "2025-07-24T18:08:57.376Z"
   },
   {
    "duration": 150,
    "start_time": "2025-07-24T18:08:57.395Z"
   },
   {
    "duration": 1026,
    "start_time": "2025-07-24T18:11:54.608Z"
   },
   {
    "duration": 1022,
    "start_time": "2025-07-24T18:12:53.757Z"
   },
   {
    "duration": 1174,
    "start_time": "2025-07-24T18:13:26.998Z"
   },
   {
    "duration": 13,
    "start_time": "2025-07-24T18:17:57.627Z"
   },
   {
    "duration": 11,
    "start_time": "2025-07-24T18:18:45.752Z"
   },
   {
    "duration": 528,
    "start_time": "2025-07-24T18:20:23.757Z"
   },
   {
    "duration": 552,
    "start_time": "2025-07-24T18:21:19.331Z"
   },
   {
    "duration": 17,
    "start_time": "2025-07-24T18:22:27.447Z"
   },
   {
    "duration": 15,
    "start_time": "2025-07-24T18:23:03.386Z"
   },
   {
    "duration": 444,
    "start_time": "2025-07-24T18:24:37.643Z"
   },
   {
    "duration": 1051,
    "start_time": "2025-07-24T18:25:04.925Z"
   },
   {
    "duration": 518,
    "start_time": "2025-07-24T18:25:07.969Z"
   },
   {
    "duration": 15,
    "start_time": "2025-07-24T18:25:09.552Z"
   },
   {
    "duration": 954,
    "start_time": "2025-07-24T19:13:58.303Z"
   },
   {
    "duration": 150,
    "start_time": "2025-07-24T19:15:09.831Z"
   },
   {
    "duration": 25,
    "start_time": "2025-07-24T19:16:03.389Z"
   },
   {
    "duration": 21,
    "start_time": "2025-07-24T19:17:17.083Z"
   },
   {
    "duration": 7538,
    "start_time": "2025-07-24T19:17:26.378Z"
   },
   {
    "duration": 1069,
    "start_time": "2025-07-24T19:17:39.467Z"
   },
   {
    "duration": 23,
    "start_time": "2025-07-24T19:19:48.509Z"
   },
   {
    "duration": 22,
    "start_time": "2025-07-24T19:21:25.736Z"
   },
   {
    "duration": 21,
    "start_time": "2025-07-24T19:21:31.809Z"
   },
   {
    "duration": 22,
    "start_time": "2025-07-24T19:21:35.215Z"
   },
   {
    "duration": 21,
    "start_time": "2025-07-24T19:21:44.792Z"
   },
   {
    "duration": 18,
    "start_time": "2025-07-24T19:23:23.398Z"
   },
   {
    "duration": 10,
    "start_time": "2025-07-24T19:25:58.461Z"
   },
   {
    "duration": 36,
    "start_time": "2025-07-24T19:27:18.985Z"
   },
   {
    "duration": 31,
    "start_time": "2025-07-24T19:27:51.169Z"
   },
   {
    "duration": 32,
    "start_time": "2025-07-24T19:28:25.609Z"
   },
   {
    "duration": 1598,
    "start_time": "2025-07-25T05:53:12.479Z"
   },
   {
    "duration": 1101,
    "start_time": "2025-07-25T05:53:14.079Z"
   },
   {
    "duration": 18,
    "start_time": "2025-07-25T05:53:15.182Z"
   },
   {
    "duration": 81,
    "start_time": "2025-07-25T05:53:15.202Z"
   },
   {
    "duration": 207,
    "start_time": "2025-07-25T05:53:15.284Z"
   },
   {
    "duration": 75,
    "start_time": "2025-07-25T05:53:15.493Z"
   },
   {
    "duration": 249,
    "start_time": "2025-07-25T05:53:15.570Z"
   },
   {
    "duration": 65,
    "start_time": "2025-07-25T05:53:15.821Z"
   },
   {
    "duration": 59,
    "start_time": "2025-07-25T05:53:15.888Z"
   },
   {
    "duration": 150,
    "start_time": "2025-07-25T05:53:15.949Z"
   },
   {
    "duration": 136,
    "start_time": "2025-07-25T05:53:16.101Z"
   },
   {
    "duration": 123,
    "start_time": "2025-07-25T05:53:16.239Z"
   },
   {
    "duration": 363,
    "start_time": "2025-07-25T05:53:16.364Z"
   },
   {
    "duration": 281,
    "start_time": "2025-07-25T05:53:16.728Z"
   },
   {
    "duration": 640,
    "start_time": "2025-07-25T05:53:17.011Z"
   },
   {
    "duration": 27,
    "start_time": "2025-07-25T05:53:17.653Z"
   },
   {
    "duration": 72,
    "start_time": "2025-07-25T05:53:17.681Z"
   },
   {
    "duration": 30,
    "start_time": "2025-07-25T05:53:17.755Z"
   },
   {
    "duration": 118,
    "start_time": "2025-07-25T05:53:17.787Z"
   },
   {
    "duration": 0,
    "start_time": "2025-07-25T05:53:17.907Z"
   },
   {
    "duration": 0,
    "start_time": "2025-07-25T05:53:17.908Z"
   },
   {
    "duration": 0,
    "start_time": "2025-07-25T05:53:17.909Z"
   },
   {
    "duration": 18,
    "start_time": "2025-07-25T05:58:12.323Z"
   },
   {
    "duration": 581,
    "start_time": "2025-07-25T05:58:30.631Z"
   },
   {
    "duration": 40,
    "start_time": "2025-07-25T05:58:42.997Z"
   },
   {
    "duration": 19,
    "start_time": "2025-07-25T05:59:15.371Z"
   },
   {
    "duration": 431,
    "start_time": "2025-07-25T05:59:36.904Z"
   },
   {
    "duration": 19,
    "start_time": "2025-07-25T05:59:45.576Z"
   },
   {
    "duration": 21,
    "start_time": "2025-07-25T06:00:06.647Z"
   },
   {
    "duration": 394,
    "start_time": "2025-07-25T06:00:34.876Z"
   },
   {
    "duration": 21,
    "start_time": "2025-07-25T06:00:41.852Z"
   },
   {
    "duration": 21,
    "start_time": "2025-07-25T06:00:56.447Z"
   },
   {
    "duration": 21,
    "start_time": "2025-07-25T06:01:00.169Z"
   },
   {
    "duration": 25,
    "start_time": "2025-07-25T06:01:04.949Z"
   },
   {
    "duration": 429,
    "start_time": "2025-07-25T06:03:45.974Z"
   },
   {
    "duration": 18,
    "start_time": "2025-07-25T06:05:36.695Z"
   },
   {
    "duration": 271,
    "start_time": "2025-07-25T06:05:39.664Z"
   },
   {
    "duration": 571,
    "start_time": "2025-07-25T06:05:44.038Z"
   },
   {
    "duration": 27,
    "start_time": "2025-07-25T06:05:50.029Z"
   },
   {
    "duration": 17,
    "start_time": "2025-07-25T06:49:31.961Z"
   },
   {
    "duration": 25,
    "start_time": "2025-07-25T06:49:39.048Z"
   },
   {
    "duration": 1723,
    "start_time": "2025-07-25T10:10:17.389Z"
   },
   {
    "duration": 1195,
    "start_time": "2025-07-25T10:10:19.115Z"
   },
   {
    "duration": 21,
    "start_time": "2025-07-25T10:10:20.311Z"
   },
   {
    "duration": 93,
    "start_time": "2025-07-25T10:10:20.334Z"
   },
   {
    "duration": 214,
    "start_time": "2025-07-25T10:10:20.429Z"
   },
   {
    "duration": 75,
    "start_time": "2025-07-25T10:10:20.645Z"
   },
   {
    "duration": 270,
    "start_time": "2025-07-25T10:10:20.721Z"
   },
   {
    "duration": 58,
    "start_time": "2025-07-25T10:10:20.992Z"
   },
   {
    "duration": 81,
    "start_time": "2025-07-25T10:10:21.052Z"
   },
   {
    "duration": 167,
    "start_time": "2025-07-25T10:10:21.135Z"
   },
   {
    "duration": 157,
    "start_time": "2025-07-25T10:10:21.304Z"
   },
   {
    "duration": 122,
    "start_time": "2025-07-25T10:10:21.462Z"
   },
   {
    "duration": 426,
    "start_time": "2025-07-25T10:10:21.589Z"
   },
   {
    "duration": 231,
    "start_time": "2025-07-25T10:10:22.016Z"
   },
   {
    "duration": 824,
    "start_time": "2025-07-25T10:10:22.249Z"
   },
   {
    "duration": 36,
    "start_time": "2025-07-25T10:10:23.075Z"
   },
   {
    "duration": 10,
    "start_time": "2025-07-25T10:10:23.113Z"
   },
   {
    "duration": 19,
    "start_time": "2025-07-25T10:10:23.124Z"
   },
   {
    "duration": 597,
    "start_time": "2025-07-25T10:10:23.145Z"
   },
   {
    "duration": 465,
    "start_time": "2025-07-25T10:10:23.744Z"
   },
   {
    "duration": 27,
    "start_time": "2025-07-25T10:10:24.210Z"
   },
   {
    "duration": 1469,
    "start_time": "2025-07-25T10:24:07.342Z"
   },
   {
    "duration": 1130,
    "start_time": "2025-07-25T10:24:08.814Z"
   },
   {
    "duration": 23,
    "start_time": "2025-07-25T10:24:09.946Z"
   },
   {
    "duration": 95,
    "start_time": "2025-07-25T10:24:09.972Z"
   },
   {
    "duration": 230,
    "start_time": "2025-07-25T10:24:10.069Z"
   },
   {
    "duration": 76,
    "start_time": "2025-07-25T10:24:10.301Z"
   },
   {
    "duration": 287,
    "start_time": "2025-07-25T10:24:10.391Z"
   },
   {
    "duration": 67,
    "start_time": "2025-07-25T10:24:10.679Z"
   },
   {
    "duration": 81,
    "start_time": "2025-07-25T10:24:10.747Z"
   },
   {
    "duration": 162,
    "start_time": "2025-07-25T10:24:10.831Z"
   },
   {
    "duration": 160,
    "start_time": "2025-07-25T10:24:10.996Z"
   },
   {
    "duration": 133,
    "start_time": "2025-07-25T10:24:11.158Z"
   },
   {
    "duration": 368,
    "start_time": "2025-07-25T10:24:11.292Z"
   },
   {
    "duration": 230,
    "start_time": "2025-07-25T10:24:11.662Z"
   },
   {
    "duration": 825,
    "start_time": "2025-07-25T10:24:11.894Z"
   },
   {
    "duration": 25,
    "start_time": "2025-07-25T10:24:12.721Z"
   },
   {
    "duration": 11,
    "start_time": "2025-07-25T10:24:12.748Z"
   },
   {
    "duration": 46,
    "start_time": "2025-07-25T10:24:12.761Z"
   },
   {
    "duration": 552,
    "start_time": "2025-07-25T10:24:12.809Z"
   },
   {
    "duration": 521,
    "start_time": "2025-07-25T10:24:13.364Z"
   },
   {
    "duration": 27,
    "start_time": "2025-07-25T10:24:13.886Z"
   },
   {
    "duration": 3377,
    "start_time": "2025-07-25T10:27:39.748Z"
   },
   {
    "duration": 1122,
    "start_time": "2025-07-25T10:27:43.127Z"
   },
   {
    "duration": 21,
    "start_time": "2025-07-25T10:27:44.251Z"
   },
   {
    "duration": 120,
    "start_time": "2025-07-25T10:27:44.273Z"
   },
   {
    "duration": 215,
    "start_time": "2025-07-25T10:27:44.396Z"
   },
   {
    "duration": 82,
    "start_time": "2025-07-25T10:27:44.612Z"
   },
   {
    "duration": 261,
    "start_time": "2025-07-25T10:27:44.696Z"
   },
   {
    "duration": 56,
    "start_time": "2025-07-25T10:27:44.959Z"
   },
   {
    "duration": 79,
    "start_time": "2025-07-25T10:27:45.017Z"
   },
   {
    "duration": 191,
    "start_time": "2025-07-25T10:27:45.098Z"
   },
   {
    "duration": 152,
    "start_time": "2025-07-25T10:27:45.290Z"
   },
   {
    "duration": 126,
    "start_time": "2025-07-25T10:27:45.443Z"
   },
   {
    "duration": 443,
    "start_time": "2025-07-25T10:27:45.571Z"
   },
   {
    "duration": 233,
    "start_time": "2025-07-25T10:27:46.016Z"
   },
   {
    "duration": 817,
    "start_time": "2025-07-25T10:27:46.250Z"
   },
   {
    "duration": 25,
    "start_time": "2025-07-25T10:27:47.068Z"
   },
   {
    "duration": 43,
    "start_time": "2025-07-25T10:27:47.095Z"
   },
   {
    "duration": 22,
    "start_time": "2025-07-25T10:27:47.140Z"
   },
   {
    "duration": 909,
    "start_time": "2025-07-25T10:27:47.164Z"
   },
   {
    "duration": 821,
    "start_time": "2025-07-25T10:27:48.075Z"
   },
   {
    "duration": 29,
    "start_time": "2025-07-25T10:27:48.950Z"
   },
   {
    "duration": 21,
    "start_time": "2025-07-25T10:33:10.238Z"
   },
   {
    "duration": 21,
    "start_time": "2025-07-25T10:33:15.024Z"
   },
   {
    "duration": 357,
    "start_time": "2025-07-25T10:33:56.507Z"
   },
   {
    "duration": 304,
    "start_time": "2025-07-25T10:34:02.777Z"
   },
   {
    "duration": 1754,
    "start_time": "2025-07-28T14:09:53.397Z"
   },
   {
    "duration": 1494,
    "start_time": "2025-07-28T14:09:59.207Z"
   },
   {
    "duration": 1259,
    "start_time": "2025-07-28T14:10:00.703Z"
   },
   {
    "duration": 19,
    "start_time": "2025-07-28T14:10:01.963Z"
   },
   {
    "duration": 199,
    "start_time": "2025-07-28T14:10:01.983Z"
   },
   {
    "duration": 392,
    "start_time": "2025-07-28T14:10:02.184Z"
   },
   {
    "duration": 70,
    "start_time": "2025-07-28T14:10:02.578Z"
   },
   {
    "duration": 307,
    "start_time": "2025-07-28T14:10:02.650Z"
   },
   {
    "duration": 57,
    "start_time": "2025-07-28T14:10:02.959Z"
   },
   {
    "duration": 92,
    "start_time": "2025-07-28T14:10:03.017Z"
   },
   {
    "duration": 380,
    "start_time": "2025-07-28T14:10:03.110Z"
   },
   {
    "duration": 165,
    "start_time": "2025-07-28T14:10:03.492Z"
   },
   {
    "duration": 118,
    "start_time": "2025-07-28T14:10:03.659Z"
   },
   {
    "duration": 335,
    "start_time": "2025-07-28T14:10:03.779Z"
   },
   {
    "duration": 205,
    "start_time": "2025-07-28T14:10:04.117Z"
   },
   {
    "duration": 831,
    "start_time": "2025-07-28T14:10:04.323Z"
   },
   {
    "duration": 22,
    "start_time": "2025-07-28T14:10:05.156Z"
   },
   {
    "duration": 123,
    "start_time": "2025-07-28T14:10:05.179Z"
   },
   {
    "duration": 225,
    "start_time": "2025-07-28T14:10:05.303Z"
   },
   {
    "duration": 605,
    "start_time": "2025-07-28T14:10:05.530Z"
   },
   {
    "duration": 308,
    "start_time": "2025-07-28T14:10:06.137Z"
   },
   {
    "duration": 442,
    "start_time": "2025-07-28T14:10:06.447Z"
   },
   {
    "duration": 29,
    "start_time": "2025-07-28T14:10:06.891Z"
   },
   {
    "duration": 120,
    "start_time": "2025-07-28T14:11:23.445Z"
   },
   {
    "duration": 10,
    "start_time": "2025-07-28T14:12:00.110Z"
   },
   {
    "duration": 1540,
    "start_time": "2025-07-28T14:12:11.397Z"
   },
   {
    "duration": 1128,
    "start_time": "2025-07-28T14:12:12.939Z"
   },
   {
    "duration": 19,
    "start_time": "2025-07-28T14:12:14.069Z"
   },
   {
    "duration": 161,
    "start_time": "2025-07-28T14:12:14.098Z"
   },
   {
    "duration": 208,
    "start_time": "2025-07-28T14:12:14.261Z"
   },
   {
    "duration": 71,
    "start_time": "2025-07-28T14:12:14.471Z"
   },
   {
    "duration": 295,
    "start_time": "2025-07-28T14:12:14.544Z"
   },
   {
    "duration": 58,
    "start_time": "2025-07-28T14:12:14.841Z"
   },
   {
    "duration": 130,
    "start_time": "2025-07-28T14:12:14.901Z"
   },
   {
    "duration": 149,
    "start_time": "2025-07-28T14:12:15.033Z"
   },
   {
    "duration": 147,
    "start_time": "2025-07-28T14:12:15.183Z"
   },
   {
    "duration": 158,
    "start_time": "2025-07-28T14:12:15.332Z"
   },
   {
    "duration": 335,
    "start_time": "2025-07-28T14:12:15.492Z"
   },
   {
    "duration": 240,
    "start_time": "2025-07-28T14:12:15.831Z"
   },
   {
    "duration": 791,
    "start_time": "2025-07-28T14:12:16.073Z"
   },
   {
    "duration": 39,
    "start_time": "2025-07-28T14:12:16.866Z"
   },
   {
    "duration": 41,
    "start_time": "2025-07-28T14:12:16.907Z"
   },
   {
    "duration": 22,
    "start_time": "2025-07-28T14:12:16.950Z"
   },
   {
    "duration": 115,
    "start_time": "2025-07-28T14:12:16.974Z"
   },
   {
    "duration": 0,
    "start_time": "2025-07-28T14:12:17.092Z"
   },
   {
    "duration": 0,
    "start_time": "2025-07-28T14:12:17.093Z"
   },
   {
    "duration": 0,
    "start_time": "2025-07-28T14:12:17.098Z"
   },
   {
    "duration": 0,
    "start_time": "2025-07-28T14:12:17.100Z"
   },
   {
    "duration": 9,
    "start_time": "2025-07-28T14:19:32.347Z"
   },
   {
    "duration": 6,
    "start_time": "2025-07-28T14:19:40.888Z"
   },
   {
    "duration": 568,
    "start_time": "2025-07-28T14:19:54.305Z"
   },
   {
    "duration": 326,
    "start_time": "2025-07-28T14:20:05.393Z"
   },
   {
    "duration": 438,
    "start_time": "2025-07-28T14:20:17.042Z"
   },
   {
    "duration": 23,
    "start_time": "2025-07-28T14:20:24.985Z"
   },
   {
    "duration": 469,
    "start_time": "2025-07-28T14:45:52.546Z"
   },
   {
    "duration": 1135,
    "start_time": "2025-07-28T16:17:18.668Z"
   },
   {
    "duration": 1234,
    "start_time": "2025-07-28T16:17:19.805Z"
   },
   {
    "duration": 18,
    "start_time": "2025-07-28T16:17:21.040Z"
   },
   {
    "duration": 84,
    "start_time": "2025-07-28T16:17:21.060Z"
   },
   {
    "duration": 209,
    "start_time": "2025-07-28T16:17:21.146Z"
   },
   {
    "duration": 71,
    "start_time": "2025-07-28T16:17:21.357Z"
   },
   {
    "duration": 245,
    "start_time": "2025-07-28T16:17:21.430Z"
   },
   {
    "duration": 57,
    "start_time": "2025-07-28T16:17:21.677Z"
   },
   {
    "duration": 67,
    "start_time": "2025-07-28T16:17:21.736Z"
   },
   {
    "duration": 186,
    "start_time": "2025-07-28T16:17:21.805Z"
   },
   {
    "duration": 146,
    "start_time": "2025-07-28T16:17:21.993Z"
   },
   {
    "duration": 122,
    "start_time": "2025-07-28T16:17:22.140Z"
   },
   {
    "duration": 344,
    "start_time": "2025-07-28T16:17:22.263Z"
   },
   {
    "duration": 199,
    "start_time": "2025-07-28T16:17:22.609Z"
   },
   {
    "duration": 710,
    "start_time": "2025-07-28T16:17:22.809Z"
   },
   {
    "duration": 23,
    "start_time": "2025-07-28T16:17:23.520Z"
   },
   {
    "duration": 19,
    "start_time": "2025-07-28T16:17:23.545Z"
   },
   {
    "duration": 35,
    "start_time": "2025-07-28T16:17:23.565Z"
   },
   {
    "duration": 295,
    "start_time": "2025-07-28T16:17:23.601Z"
   },
   {
    "duration": 103,
    "start_time": "2025-07-28T16:17:23.898Z"
   },
   {
    "duration": 1,
    "start_time": "2025-07-28T16:17:24.002Z"
   },
   {
    "duration": 0,
    "start_time": "2025-07-28T16:17:24.004Z"
   },
   {
    "duration": 0,
    "start_time": "2025-07-28T16:17:24.005Z"
   },
   {
    "duration": 1337,
    "start_time": "2025-07-28T16:18:37.969Z"
   },
   {
    "duration": 1036,
    "start_time": "2025-07-28T16:18:39.308Z"
   },
   {
    "duration": 16,
    "start_time": "2025-07-28T16:18:40.346Z"
   },
   {
    "duration": 84,
    "start_time": "2025-07-28T16:18:40.364Z"
   },
   {
    "duration": 197,
    "start_time": "2025-07-28T16:18:40.450Z"
   },
   {
    "duration": 77,
    "start_time": "2025-07-28T16:18:40.649Z"
   },
   {
    "duration": 259,
    "start_time": "2025-07-28T16:18:40.728Z"
   },
   {
    "duration": 57,
    "start_time": "2025-07-28T16:18:40.988Z"
   },
   {
    "duration": 64,
    "start_time": "2025-07-28T16:18:41.047Z"
   },
   {
    "duration": 155,
    "start_time": "2025-07-28T16:18:41.113Z"
   },
   {
    "duration": 140,
    "start_time": "2025-07-28T16:18:41.269Z"
   },
   {
    "duration": 117,
    "start_time": "2025-07-28T16:18:41.410Z"
   },
   {
    "duration": 369,
    "start_time": "2025-07-28T16:18:41.529Z"
   },
   {
    "duration": 198,
    "start_time": "2025-07-28T16:18:41.901Z"
   },
   {
    "duration": 731,
    "start_time": "2025-07-28T16:18:42.101Z"
   },
   {
    "duration": 22,
    "start_time": "2025-07-28T16:18:42.834Z"
   },
   {
    "duration": 60,
    "start_time": "2025-07-28T16:18:42.858Z"
   },
   {
    "duration": 49,
    "start_time": "2025-07-28T16:18:42.919Z"
   },
   {
    "duration": 6,
    "start_time": "2025-07-28T16:18:42.969Z"
   },
   {
    "duration": 105,
    "start_time": "2025-07-28T16:18:42.976Z"
   },
   {
    "duration": 0,
    "start_time": "2025-07-28T16:18:43.082Z"
   },
   {
    "duration": 0,
    "start_time": "2025-07-28T16:18:43.084Z"
   },
   {
    "duration": 0,
    "start_time": "2025-07-28T16:18:43.085Z"
   },
   {
    "duration": 1437,
    "start_time": "2025-07-28T16:20:07.370Z"
   },
   {
    "duration": 789,
    "start_time": "2025-07-28T16:20:08.809Z"
   },
   {
    "duration": 18,
    "start_time": "2025-07-28T16:20:09.600Z"
   },
   {
    "duration": 83,
    "start_time": "2025-07-28T16:20:09.619Z"
   },
   {
    "duration": 196,
    "start_time": "2025-07-28T16:20:09.704Z"
   },
   {
    "duration": 69,
    "start_time": "2025-07-28T16:20:09.901Z"
   },
   {
    "duration": 266,
    "start_time": "2025-07-28T16:20:09.972Z"
   },
   {
    "duration": 60,
    "start_time": "2025-07-28T16:20:10.240Z"
   },
   {
    "duration": 58,
    "start_time": "2025-07-28T16:20:10.301Z"
   },
   {
    "duration": 157,
    "start_time": "2025-07-28T16:20:10.361Z"
   },
   {
    "duration": 138,
    "start_time": "2025-07-28T16:20:10.519Z"
   },
   {
    "duration": 118,
    "start_time": "2025-07-28T16:20:10.658Z"
   },
   {
    "duration": 364,
    "start_time": "2025-07-28T16:20:10.778Z"
   },
   {
    "duration": 223,
    "start_time": "2025-07-28T16:20:11.145Z"
   },
   {
    "duration": 738,
    "start_time": "2025-07-28T16:20:11.370Z"
   },
   {
    "duration": 22,
    "start_time": "2025-07-28T16:20:12.110Z"
   },
   {
    "duration": 8,
    "start_time": "2025-07-28T16:20:12.134Z"
   },
   {
    "duration": 19,
    "start_time": "2025-07-28T16:20:12.144Z"
   },
   {
    "duration": 40,
    "start_time": "2025-07-28T16:20:12.164Z"
   },
   {
    "duration": 523,
    "start_time": "2025-07-28T16:20:12.205Z"
   },
   {
    "duration": 312,
    "start_time": "2025-07-28T16:20:12.730Z"
   },
   {
    "duration": 455,
    "start_time": "2025-07-28T16:20:13.044Z"
   },
   {
    "duration": 24,
    "start_time": "2025-07-28T16:20:13.500Z"
   },
   {
    "duration": 3275,
    "start_time": "2025-07-29T05:56:41.132Z"
   },
   {
    "duration": 2334,
    "start_time": "2025-07-29T05:56:44.410Z"
   },
   {
    "duration": 20,
    "start_time": "2025-07-29T05:56:46.748Z"
   },
   {
    "duration": 94,
    "start_time": "2025-07-29T05:56:46.770Z"
   },
   {
    "duration": 204,
    "start_time": "2025-07-29T05:56:46.866Z"
   },
   {
    "duration": 82,
    "start_time": "2025-07-29T05:56:47.071Z"
   },
   {
    "duration": 251,
    "start_time": "2025-07-29T05:56:47.154Z"
   },
   {
    "duration": 63,
    "start_time": "2025-07-29T05:56:47.406Z"
   },
   {
    "duration": 69,
    "start_time": "2025-07-29T05:56:47.471Z"
   },
   {
    "duration": 168,
    "start_time": "2025-07-29T05:56:47.542Z"
   },
   {
    "duration": 143,
    "start_time": "2025-07-29T05:56:47.712Z"
   },
   {
    "duration": 127,
    "start_time": "2025-07-29T05:56:47.857Z"
   },
   {
    "duration": 400,
    "start_time": "2025-07-29T05:56:47.987Z"
   },
   {
    "duration": 211,
    "start_time": "2025-07-29T05:56:48.388Z"
   },
   {
    "duration": 766,
    "start_time": "2025-07-29T05:56:48.600Z"
   },
   {
    "duration": 24,
    "start_time": "2025-07-29T05:56:49.367Z"
   },
   {
    "duration": 11,
    "start_time": "2025-07-29T05:56:49.393Z"
   },
   {
    "duration": 63,
    "start_time": "2025-07-29T05:56:49.406Z"
   },
   {
    "duration": 7,
    "start_time": "2025-07-29T05:56:49.470Z"
   },
   {
    "duration": 638,
    "start_time": "2025-07-29T05:56:49.479Z"
   },
   {
    "duration": 329,
    "start_time": "2025-07-29T05:56:50.119Z"
   },
   {
    "duration": 463,
    "start_time": "2025-07-29T05:56:50.450Z"
   },
   {
    "duration": 30,
    "start_time": "2025-07-29T05:56:50.915Z"
   },
   {
    "duration": 2997,
    "start_time": "2025-07-29T05:58:06.054Z"
   },
   {
    "duration": 2472,
    "start_time": "2025-07-29T05:58:09.052Z"
   },
   {
    "duration": 24,
    "start_time": "2025-07-29T05:58:11.526Z"
   },
   {
    "duration": 85,
    "start_time": "2025-07-29T05:58:11.551Z"
   },
   {
    "duration": 198,
    "start_time": "2025-07-29T05:58:11.639Z"
   },
   {
    "duration": 66,
    "start_time": "2025-07-29T05:58:11.838Z"
   },
   {
    "duration": 295,
    "start_time": "2025-07-29T05:58:11.906Z"
   },
   {
    "duration": 63,
    "start_time": "2025-07-29T05:58:12.203Z"
   },
   {
    "duration": 67,
    "start_time": "2025-07-29T05:58:12.267Z"
   },
   {
    "duration": 146,
    "start_time": "2025-07-29T05:58:12.336Z"
   },
   {
    "duration": 161,
    "start_time": "2025-07-29T05:58:12.484Z"
   },
   {
    "duration": 114,
    "start_time": "2025-07-29T05:58:12.647Z"
   },
   {
    "duration": 380,
    "start_time": "2025-07-29T05:58:12.763Z"
   },
   {
    "duration": 205,
    "start_time": "2025-07-29T05:58:13.145Z"
   },
   {
    "duration": 738,
    "start_time": "2025-07-29T05:58:13.352Z"
   },
   {
    "duration": 21,
    "start_time": "2025-07-29T05:58:14.092Z"
   },
   {
    "duration": 41,
    "start_time": "2025-07-29T05:58:14.115Z"
   },
   {
    "duration": 73,
    "start_time": "2025-07-29T05:58:14.158Z"
   },
   {
    "duration": 6,
    "start_time": "2025-07-29T05:58:14.233Z"
   },
   {
    "duration": 521,
    "start_time": "2025-07-29T05:58:14.241Z"
   },
   {
    "duration": 300,
    "start_time": "2025-07-29T05:58:14.764Z"
   },
   {
    "duration": 464,
    "start_time": "2025-07-29T05:58:15.066Z"
   },
   {
    "duration": 34,
    "start_time": "2025-07-29T05:58:15.535Z"
   },
   {
    "duration": 302,
    "start_time": "2025-07-29T05:58:58.550Z"
   }
  ],
  "colab": {
   "provenance": []
  },
  "kernelspec": {
   "display_name": "Python 3 (ipykernel)",
   "language": "python",
   "name": "python3"
  },
  "language_info": {
   "codemirror_mode": {
    "name": "ipython",
    "version": 3
   },
   "file_extension": ".py",
   "mimetype": "text/x-python",
   "name": "python",
   "nbconvert_exporter": "python",
   "pygments_lexer": "ipython3",
   "version": "3.9.5"
  },
  "toc": {
   "base_numbering": 1,
   "nav_menu": {},
   "number_sections": true,
   "sideBar": true,
   "skip_h1_title": true,
   "title_cell": "Table of Contents",
   "title_sidebar": "Contents",
   "toc_cell": false,
   "toc_position": {},
   "toc_section_display": true,
   "toc_window_display": true
  }
 },
 "nbformat": 4,
 "nbformat_minor": 5
}
